{
  "nbformat": 4,
  "nbformat_minor": 0,
  "metadata": {
    "colab": {
      "name": "TransformRec_e-commerce.ipynb",
      "provenance": [],
      "collapsed_sections": [],
      "authorship_tag": "ABX9TyPakYkpjqijqYCn4h3QNK0I",
      "include_colab_link": true
    },
    "kernelspec": {
      "name": "python3",
      "display_name": "Python 3"
    },
    "accelerator": "GPU",
    "widgets": {
      "application/vnd.jupyter.widget-state+json": {
        "cf20f24c35934ff19a62691cff508449": {
          "model_module": "@jupyter-widgets/controls",
          "model_name": "HBoxModel",
          "model_module_version": "1.5.0",
          "state": {
            "_view_name": "HBoxView",
            "_dom_classes": [],
            "_model_name": "HBoxModel",
            "_view_module": "@jupyter-widgets/controls",
            "_model_module_version": "1.5.0",
            "_view_count": null,
            "_view_module_version": "1.5.0",
            "box_style": "",
            "layout": "IPY_MODEL_df065f1ea09145dea1cb04df65ccf6f6",
            "_model_module": "@jupyter-widgets/controls",
            "children": [
              "IPY_MODEL_6dc892b650df4fdab81b65c9dae8717f",
              "IPY_MODEL_22d92be51ea544e2b171a30d3a4adc4a",
              "IPY_MODEL_75002c6ca9bb4c978bade48478f48668"
            ]
          }
        },
        "df065f1ea09145dea1cb04df65ccf6f6": {
          "model_module": "@jupyter-widgets/base",
          "model_name": "LayoutModel",
          "model_module_version": "1.2.0",
          "state": {
            "_view_name": "LayoutView",
            "grid_template_rows": null,
            "right": null,
            "justify_content": null,
            "_view_module": "@jupyter-widgets/base",
            "overflow": null,
            "_model_module_version": "1.2.0",
            "_view_count": null,
            "flex_flow": null,
            "width": null,
            "min_width": null,
            "border": null,
            "align_items": null,
            "bottom": null,
            "_model_module": "@jupyter-widgets/base",
            "top": null,
            "grid_column": null,
            "overflow_y": null,
            "overflow_x": null,
            "grid_auto_flow": null,
            "grid_area": null,
            "grid_template_columns": null,
            "flex": null,
            "_model_name": "LayoutModel",
            "justify_items": null,
            "grid_row": null,
            "max_height": null,
            "align_content": null,
            "visibility": null,
            "align_self": null,
            "height": null,
            "min_height": null,
            "padding": null,
            "grid_auto_rows": null,
            "grid_gap": null,
            "max_width": null,
            "order": null,
            "_view_module_version": "1.2.0",
            "grid_template_areas": null,
            "object_position": null,
            "object_fit": null,
            "grid_auto_columns": null,
            "margin": null,
            "display": null,
            "left": null
          }
        },
        "6dc892b650df4fdab81b65c9dae8717f": {
          "model_module": "@jupyter-widgets/controls",
          "model_name": "HTMLModel",
          "model_module_version": "1.5.0",
          "state": {
            "_view_name": "HTMLView",
            "style": "IPY_MODEL_395a7cbce93b4d00aebb3874f352d091",
            "_dom_classes": [],
            "description": "",
            "_model_name": "HTMLModel",
            "placeholder": "​",
            "_view_module": "@jupyter-widgets/controls",
            "_model_module_version": "1.5.0",
            "value": "100%",
            "_view_count": null,
            "_view_module_version": "1.5.0",
            "description_tooltip": null,
            "_model_module": "@jupyter-widgets/controls",
            "layout": "IPY_MODEL_f7a9bccac7804d7c86176ea9d3819a6c"
          }
        },
        "22d92be51ea544e2b171a30d3a4adc4a": {
          "model_module": "@jupyter-widgets/controls",
          "model_name": "FloatProgressModel",
          "model_module_version": "1.5.0",
          "state": {
            "_view_name": "ProgressView",
            "style": "IPY_MODEL_5b73df6428ae4bce94389be200fb0e99",
            "_dom_classes": [],
            "description": "",
            "_model_name": "FloatProgressModel",
            "bar_style": "success",
            "max": 14241,
            "_view_module": "@jupyter-widgets/controls",
            "_model_module_version": "1.5.0",
            "value": 14241,
            "_view_count": null,
            "_view_module_version": "1.5.0",
            "orientation": "horizontal",
            "min": 0,
            "description_tooltip": null,
            "_model_module": "@jupyter-widgets/controls",
            "layout": "IPY_MODEL_2bb22f3aad4546c5a136a1d5c1ac5300"
          }
        },
        "75002c6ca9bb4c978bade48478f48668": {
          "model_module": "@jupyter-widgets/controls",
          "model_name": "HTMLModel",
          "model_module_version": "1.5.0",
          "state": {
            "_view_name": "HTMLView",
            "style": "IPY_MODEL_2cb0bf43055e46fc8d09eda006f4623b",
            "_dom_classes": [],
            "description": "",
            "_model_name": "HTMLModel",
            "placeholder": "​",
            "_view_module": "@jupyter-widgets/controls",
            "_model_module_version": "1.5.0",
            "value": " 14241/14241 [00:04&lt;00:00, 2882.44it/s]",
            "_view_count": null,
            "_view_module_version": "1.5.0",
            "description_tooltip": null,
            "_model_module": "@jupyter-widgets/controls",
            "layout": "IPY_MODEL_a2d5014b039046edac6252747a947489"
          }
        },
        "395a7cbce93b4d00aebb3874f352d091": {
          "model_module": "@jupyter-widgets/controls",
          "model_name": "DescriptionStyleModel",
          "model_module_version": "1.5.0",
          "state": {
            "_view_name": "StyleView",
            "_model_name": "DescriptionStyleModel",
            "description_width": "",
            "_view_module": "@jupyter-widgets/base",
            "_model_module_version": "1.5.0",
            "_view_count": null,
            "_view_module_version": "1.2.0",
            "_model_module": "@jupyter-widgets/controls"
          }
        },
        "f7a9bccac7804d7c86176ea9d3819a6c": {
          "model_module": "@jupyter-widgets/base",
          "model_name": "LayoutModel",
          "model_module_version": "1.2.0",
          "state": {
            "_view_name": "LayoutView",
            "grid_template_rows": null,
            "right": null,
            "justify_content": null,
            "_view_module": "@jupyter-widgets/base",
            "overflow": null,
            "_model_module_version": "1.2.0",
            "_view_count": null,
            "flex_flow": null,
            "width": null,
            "min_width": null,
            "border": null,
            "align_items": null,
            "bottom": null,
            "_model_module": "@jupyter-widgets/base",
            "top": null,
            "grid_column": null,
            "overflow_y": null,
            "overflow_x": null,
            "grid_auto_flow": null,
            "grid_area": null,
            "grid_template_columns": null,
            "flex": null,
            "_model_name": "LayoutModel",
            "justify_items": null,
            "grid_row": null,
            "max_height": null,
            "align_content": null,
            "visibility": null,
            "align_self": null,
            "height": null,
            "min_height": null,
            "padding": null,
            "grid_auto_rows": null,
            "grid_gap": null,
            "max_width": null,
            "order": null,
            "_view_module_version": "1.2.0",
            "grid_template_areas": null,
            "object_position": null,
            "object_fit": null,
            "grid_auto_columns": null,
            "margin": null,
            "display": null,
            "left": null
          }
        },
        "5b73df6428ae4bce94389be200fb0e99": {
          "model_module": "@jupyter-widgets/controls",
          "model_name": "ProgressStyleModel",
          "model_module_version": "1.5.0",
          "state": {
            "_view_name": "StyleView",
            "_model_name": "ProgressStyleModel",
            "description_width": "",
            "_view_module": "@jupyter-widgets/base",
            "_model_module_version": "1.5.0",
            "_view_count": null,
            "_view_module_version": "1.2.0",
            "bar_color": null,
            "_model_module": "@jupyter-widgets/controls"
          }
        },
        "2bb22f3aad4546c5a136a1d5c1ac5300": {
          "model_module": "@jupyter-widgets/base",
          "model_name": "LayoutModel",
          "model_module_version": "1.2.0",
          "state": {
            "_view_name": "LayoutView",
            "grid_template_rows": null,
            "right": null,
            "justify_content": null,
            "_view_module": "@jupyter-widgets/base",
            "overflow": null,
            "_model_module_version": "1.2.0",
            "_view_count": null,
            "flex_flow": null,
            "width": null,
            "min_width": null,
            "border": null,
            "align_items": null,
            "bottom": null,
            "_model_module": "@jupyter-widgets/base",
            "top": null,
            "grid_column": null,
            "overflow_y": null,
            "overflow_x": null,
            "grid_auto_flow": null,
            "grid_area": null,
            "grid_template_columns": null,
            "flex": null,
            "_model_name": "LayoutModel",
            "justify_items": null,
            "grid_row": null,
            "max_height": null,
            "align_content": null,
            "visibility": null,
            "align_self": null,
            "height": null,
            "min_height": null,
            "padding": null,
            "grid_auto_rows": null,
            "grid_gap": null,
            "max_width": null,
            "order": null,
            "_view_module_version": "1.2.0",
            "grid_template_areas": null,
            "object_position": null,
            "object_fit": null,
            "grid_auto_columns": null,
            "margin": null,
            "display": null,
            "left": null
          }
        },
        "2cb0bf43055e46fc8d09eda006f4623b": {
          "model_module": "@jupyter-widgets/controls",
          "model_name": "DescriptionStyleModel",
          "model_module_version": "1.5.0",
          "state": {
            "_view_name": "StyleView",
            "_model_name": "DescriptionStyleModel",
            "description_width": "",
            "_view_module": "@jupyter-widgets/base",
            "_model_module_version": "1.5.0",
            "_view_count": null,
            "_view_module_version": "1.2.0",
            "_model_module": "@jupyter-widgets/controls"
          }
        },
        "a2d5014b039046edac6252747a947489": {
          "model_module": "@jupyter-widgets/base",
          "model_name": "LayoutModel",
          "model_module_version": "1.2.0",
          "state": {
            "_view_name": "LayoutView",
            "grid_template_rows": null,
            "right": null,
            "justify_content": null,
            "_view_module": "@jupyter-widgets/base",
            "overflow": null,
            "_model_module_version": "1.2.0",
            "_view_count": null,
            "flex_flow": null,
            "width": null,
            "min_width": null,
            "border": null,
            "align_items": null,
            "bottom": null,
            "_model_module": "@jupyter-widgets/base",
            "top": null,
            "grid_column": null,
            "overflow_y": null,
            "overflow_x": null,
            "grid_auto_flow": null,
            "grid_area": null,
            "grid_template_columns": null,
            "flex": null,
            "_model_name": "LayoutModel",
            "justify_items": null,
            "grid_row": null,
            "max_height": null,
            "align_content": null,
            "visibility": null,
            "align_self": null,
            "height": null,
            "min_height": null,
            "padding": null,
            "grid_auto_rows": null,
            "grid_gap": null,
            "max_width": null,
            "order": null,
            "_view_module_version": "1.2.0",
            "grid_template_areas": null,
            "object_position": null,
            "object_fit": null,
            "grid_auto_columns": null,
            "margin": null,
            "display": null,
            "left": null
          }
        },
        "88857c89a016416299599b886d50a347": {
          "model_module": "@jupyter-widgets/controls",
          "model_name": "HBoxModel",
          "model_module_version": "1.5.0",
          "state": {
            "_view_name": "HBoxView",
            "_dom_classes": [],
            "_model_name": "HBoxModel",
            "_view_module": "@jupyter-widgets/controls",
            "_model_module_version": "1.5.0",
            "_view_count": null,
            "_view_module_version": "1.5.0",
            "box_style": "",
            "layout": "IPY_MODEL_1b25010fae78441cbe1d7c2b366a3bef",
            "_model_module": "@jupyter-widgets/controls",
            "children": [
              "IPY_MODEL_bdda681ba5264410ab6c4baf33ccea34",
              "IPY_MODEL_50e792d18bb940bb8447013206721459",
              "IPY_MODEL_e5fbd9598aca42879b029a3c02b27a65"
            ]
          }
        },
        "1b25010fae78441cbe1d7c2b366a3bef": {
          "model_module": "@jupyter-widgets/base",
          "model_name": "LayoutModel",
          "model_module_version": "1.2.0",
          "state": {
            "_view_name": "LayoutView",
            "grid_template_rows": null,
            "right": null,
            "justify_content": null,
            "_view_module": "@jupyter-widgets/base",
            "overflow": null,
            "_model_module_version": "1.2.0",
            "_view_count": null,
            "flex_flow": null,
            "width": null,
            "min_width": null,
            "border": null,
            "align_items": null,
            "bottom": null,
            "_model_module": "@jupyter-widgets/base",
            "top": null,
            "grid_column": null,
            "overflow_y": null,
            "overflow_x": null,
            "grid_auto_flow": null,
            "grid_area": null,
            "grid_template_columns": null,
            "flex": null,
            "_model_name": "LayoutModel",
            "justify_items": null,
            "grid_row": null,
            "max_height": null,
            "align_content": null,
            "visibility": null,
            "align_self": null,
            "height": null,
            "min_height": null,
            "padding": null,
            "grid_auto_rows": null,
            "grid_gap": null,
            "max_width": null,
            "order": null,
            "_view_module_version": "1.2.0",
            "grid_template_areas": null,
            "object_position": null,
            "object_fit": null,
            "grid_auto_columns": null,
            "margin": null,
            "display": null,
            "left": null
          }
        },
        "bdda681ba5264410ab6c4baf33ccea34": {
          "model_module": "@jupyter-widgets/controls",
          "model_name": "HTMLModel",
          "model_module_version": "1.5.0",
          "state": {
            "_view_name": "HTMLView",
            "style": "IPY_MODEL_ea6e1865f7e84022b2afbbce4846e108",
            "_dom_classes": [],
            "description": "",
            "_model_name": "HTMLModel",
            "placeholder": "​",
            "_view_module": "@jupyter-widgets/controls",
            "_model_module_version": "1.5.0",
            "value": "100%",
            "_view_count": null,
            "_view_module_version": "1.5.0",
            "description_tooltip": null,
            "_model_module": "@jupyter-widgets/controls",
            "layout": "IPY_MODEL_0ca1b898908f46138bf119737f38b644"
          }
        },
        "50e792d18bb940bb8447013206721459": {
          "model_module": "@jupyter-widgets/controls",
          "model_name": "FloatProgressModel",
          "model_module_version": "1.5.0",
          "state": {
            "_view_name": "ProgressView",
            "style": "IPY_MODEL_9aab20a7a5c34648ad7b8c23d6f0942d",
            "_dom_classes": [],
            "description": "",
            "_model_name": "FloatProgressModel",
            "bar_style": "success",
            "max": 14241,
            "_view_module": "@jupyter-widgets/controls",
            "_model_module_version": "1.5.0",
            "value": 14241,
            "_view_count": null,
            "_view_module_version": "1.5.0",
            "orientation": "horizontal",
            "min": 0,
            "description_tooltip": null,
            "_model_module": "@jupyter-widgets/controls",
            "layout": "IPY_MODEL_40dbbf53fdcb4862b0babda26b4302e0"
          }
        },
        "e5fbd9598aca42879b029a3c02b27a65": {
          "model_module": "@jupyter-widgets/controls",
          "model_name": "HTMLModel",
          "model_module_version": "1.5.0",
          "state": {
            "_view_name": "HTMLView",
            "style": "IPY_MODEL_90c294056f404376b976805da05e1fdc",
            "_dom_classes": [],
            "description": "",
            "_model_name": "HTMLModel",
            "placeholder": "​",
            "_view_module": "@jupyter-widgets/controls",
            "_model_module_version": "1.5.0",
            "value": " 14241/14241 [00:00&lt;00:00, 149745.87it/s]",
            "_view_count": null,
            "_view_module_version": "1.5.0",
            "description_tooltip": null,
            "_model_module": "@jupyter-widgets/controls",
            "layout": "IPY_MODEL_4c72172b9c8c4641ad81f12eea21213b"
          }
        },
        "ea6e1865f7e84022b2afbbce4846e108": {
          "model_module": "@jupyter-widgets/controls",
          "model_name": "DescriptionStyleModel",
          "model_module_version": "1.5.0",
          "state": {
            "_view_name": "StyleView",
            "_model_name": "DescriptionStyleModel",
            "description_width": "",
            "_view_module": "@jupyter-widgets/base",
            "_model_module_version": "1.5.0",
            "_view_count": null,
            "_view_module_version": "1.2.0",
            "_model_module": "@jupyter-widgets/controls"
          }
        },
        "0ca1b898908f46138bf119737f38b644": {
          "model_module": "@jupyter-widgets/base",
          "model_name": "LayoutModel",
          "model_module_version": "1.2.0",
          "state": {
            "_view_name": "LayoutView",
            "grid_template_rows": null,
            "right": null,
            "justify_content": null,
            "_view_module": "@jupyter-widgets/base",
            "overflow": null,
            "_model_module_version": "1.2.0",
            "_view_count": null,
            "flex_flow": null,
            "width": null,
            "min_width": null,
            "border": null,
            "align_items": null,
            "bottom": null,
            "_model_module": "@jupyter-widgets/base",
            "top": null,
            "grid_column": null,
            "overflow_y": null,
            "overflow_x": null,
            "grid_auto_flow": null,
            "grid_area": null,
            "grid_template_columns": null,
            "flex": null,
            "_model_name": "LayoutModel",
            "justify_items": null,
            "grid_row": null,
            "max_height": null,
            "align_content": null,
            "visibility": null,
            "align_self": null,
            "height": null,
            "min_height": null,
            "padding": null,
            "grid_auto_rows": null,
            "grid_gap": null,
            "max_width": null,
            "order": null,
            "_view_module_version": "1.2.0",
            "grid_template_areas": null,
            "object_position": null,
            "object_fit": null,
            "grid_auto_columns": null,
            "margin": null,
            "display": null,
            "left": null
          }
        },
        "9aab20a7a5c34648ad7b8c23d6f0942d": {
          "model_module": "@jupyter-widgets/controls",
          "model_name": "ProgressStyleModel",
          "model_module_version": "1.5.0",
          "state": {
            "_view_name": "StyleView",
            "_model_name": "ProgressStyleModel",
            "description_width": "",
            "_view_module": "@jupyter-widgets/base",
            "_model_module_version": "1.5.0",
            "_view_count": null,
            "_view_module_version": "1.2.0",
            "bar_color": null,
            "_model_module": "@jupyter-widgets/controls"
          }
        },
        "40dbbf53fdcb4862b0babda26b4302e0": {
          "model_module": "@jupyter-widgets/base",
          "model_name": "LayoutModel",
          "model_module_version": "1.2.0",
          "state": {
            "_view_name": "LayoutView",
            "grid_template_rows": null,
            "right": null,
            "justify_content": null,
            "_view_module": "@jupyter-widgets/base",
            "overflow": null,
            "_model_module_version": "1.2.0",
            "_view_count": null,
            "flex_flow": null,
            "width": null,
            "min_width": null,
            "border": null,
            "align_items": null,
            "bottom": null,
            "_model_module": "@jupyter-widgets/base",
            "top": null,
            "grid_column": null,
            "overflow_y": null,
            "overflow_x": null,
            "grid_auto_flow": null,
            "grid_area": null,
            "grid_template_columns": null,
            "flex": null,
            "_model_name": "LayoutModel",
            "justify_items": null,
            "grid_row": null,
            "max_height": null,
            "align_content": null,
            "visibility": null,
            "align_self": null,
            "height": null,
            "min_height": null,
            "padding": null,
            "grid_auto_rows": null,
            "grid_gap": null,
            "max_width": null,
            "order": null,
            "_view_module_version": "1.2.0",
            "grid_template_areas": null,
            "object_position": null,
            "object_fit": null,
            "grid_auto_columns": null,
            "margin": null,
            "display": null,
            "left": null
          }
        },
        "90c294056f404376b976805da05e1fdc": {
          "model_module": "@jupyter-widgets/controls",
          "model_name": "DescriptionStyleModel",
          "model_module_version": "1.5.0",
          "state": {
            "_view_name": "StyleView",
            "_model_name": "DescriptionStyleModel",
            "description_width": "",
            "_view_module": "@jupyter-widgets/base",
            "_model_module_version": "1.5.0",
            "_view_count": null,
            "_view_module_version": "1.2.0",
            "_model_module": "@jupyter-widgets/controls"
          }
        },
        "4c72172b9c8c4641ad81f12eea21213b": {
          "model_module": "@jupyter-widgets/base",
          "model_name": "LayoutModel",
          "model_module_version": "1.2.0",
          "state": {
            "_view_name": "LayoutView",
            "grid_template_rows": null,
            "right": null,
            "justify_content": null,
            "_view_module": "@jupyter-widgets/base",
            "overflow": null,
            "_model_module_version": "1.2.0",
            "_view_count": null,
            "flex_flow": null,
            "width": null,
            "min_width": null,
            "border": null,
            "align_items": null,
            "bottom": null,
            "_model_module": "@jupyter-widgets/base",
            "top": null,
            "grid_column": null,
            "overflow_y": null,
            "overflow_x": null,
            "grid_auto_flow": null,
            "grid_area": null,
            "grid_template_columns": null,
            "flex": null,
            "_model_name": "LayoutModel",
            "justify_items": null,
            "grid_row": null,
            "max_height": null,
            "align_content": null,
            "visibility": null,
            "align_self": null,
            "height": null,
            "min_height": null,
            "padding": null,
            "grid_auto_rows": null,
            "grid_gap": null,
            "max_width": null,
            "order": null,
            "_view_module_version": "1.2.0",
            "grid_template_areas": null,
            "object_position": null,
            "object_fit": null,
            "grid_auto_columns": null,
            "margin": null,
            "display": null,
            "left": null
          }
        },
        "72cfd769ab1e4547a351ea8e74a9d3e6": {
          "model_module": "@jupyter-widgets/controls",
          "model_name": "HBoxModel",
          "model_module_version": "1.5.0",
          "state": {
            "_view_name": "HBoxView",
            "_dom_classes": [],
            "_model_name": "HBoxModel",
            "_view_module": "@jupyter-widgets/controls",
            "_model_module_version": "1.5.0",
            "_view_count": null,
            "_view_module_version": "1.5.0",
            "box_style": "",
            "layout": "IPY_MODEL_87d62c239e974e739f7ffd852006259a",
            "_model_module": "@jupyter-widgets/controls",
            "children": [
              "IPY_MODEL_e6b4bdb2a2944e58910ae2887c5bde3e",
              "IPY_MODEL_3e55da4322fb4a91bdb8b08ba907ce9e",
              "IPY_MODEL_fc3651f265cd4c8b9f082b916fd51d06"
            ]
          }
        },
        "87d62c239e974e739f7ffd852006259a": {
          "model_module": "@jupyter-widgets/base",
          "model_name": "LayoutModel",
          "model_module_version": "1.2.0",
          "state": {
            "_view_name": "LayoutView",
            "grid_template_rows": null,
            "right": null,
            "justify_content": null,
            "_view_module": "@jupyter-widgets/base",
            "overflow": null,
            "_model_module_version": "1.2.0",
            "_view_count": null,
            "flex_flow": null,
            "width": null,
            "min_width": null,
            "border": null,
            "align_items": null,
            "bottom": null,
            "_model_module": "@jupyter-widgets/base",
            "top": null,
            "grid_column": null,
            "overflow_y": null,
            "overflow_x": null,
            "grid_auto_flow": null,
            "grid_area": null,
            "grid_template_columns": null,
            "flex": null,
            "_model_name": "LayoutModel",
            "justify_items": null,
            "grid_row": null,
            "max_height": null,
            "align_content": null,
            "visibility": null,
            "align_self": null,
            "height": null,
            "min_height": null,
            "padding": null,
            "grid_auto_rows": null,
            "grid_gap": null,
            "max_width": null,
            "order": null,
            "_view_module_version": "1.2.0",
            "grid_template_areas": null,
            "object_position": null,
            "object_fit": null,
            "grid_auto_columns": null,
            "margin": null,
            "display": null,
            "left": null
          }
        },
        "e6b4bdb2a2944e58910ae2887c5bde3e": {
          "model_module": "@jupyter-widgets/controls",
          "model_name": "HTMLModel",
          "model_module_version": "1.5.0",
          "state": {
            "_view_name": "HTMLView",
            "style": "IPY_MODEL_4a948d0ac84d4d1da19daca3694f2ef7",
            "_dom_classes": [],
            "description": "",
            "_model_name": "HTMLModel",
            "placeholder": "​",
            "_view_module": "@jupyter-widgets/controls",
            "_model_module_version": "1.5.0",
            "value": "100%",
            "_view_count": null,
            "_view_module_version": "1.5.0",
            "description_tooltip": null,
            "_model_module": "@jupyter-widgets/controls",
            "layout": "IPY_MODEL_30fe1e33ffc04405a565d77e0e30a273"
          }
        },
        "3e55da4322fb4a91bdb8b08ba907ce9e": {
          "model_module": "@jupyter-widgets/controls",
          "model_name": "FloatProgressModel",
          "model_module_version": "1.5.0",
          "state": {
            "_view_name": "ProgressView",
            "style": "IPY_MODEL_762db36eb4894269ae1f7641c813a546",
            "_dom_classes": [],
            "description": "",
            "_model_name": "FloatProgressModel",
            "bar_style": "success",
            "max": 14241,
            "_view_module": "@jupyter-widgets/controls",
            "_model_module_version": "1.5.0",
            "value": 14241,
            "_view_count": null,
            "_view_module_version": "1.5.0",
            "orientation": "horizontal",
            "min": 0,
            "description_tooltip": null,
            "_model_module": "@jupyter-widgets/controls",
            "layout": "IPY_MODEL_1b286b2ecbff43af898a2e3b721c2c69"
          }
        },
        "fc3651f265cd4c8b9f082b916fd51d06": {
          "model_module": "@jupyter-widgets/controls",
          "model_name": "HTMLModel",
          "model_module_version": "1.5.0",
          "state": {
            "_view_name": "HTMLView",
            "style": "IPY_MODEL_1c65abe5097e4cada1e87a57bb1597a5",
            "_dom_classes": [],
            "description": "",
            "_model_name": "HTMLModel",
            "placeholder": "​",
            "_view_module": "@jupyter-widgets/controls",
            "_model_module_version": "1.5.0",
            "value": " 14241/14241 [00:04&lt;00:00, 3039.69it/s]",
            "_view_count": null,
            "_view_module_version": "1.5.0",
            "description_tooltip": null,
            "_model_module": "@jupyter-widgets/controls",
            "layout": "IPY_MODEL_1f6507692aeb410ab10cc0a7fb813793"
          }
        },
        "4a948d0ac84d4d1da19daca3694f2ef7": {
          "model_module": "@jupyter-widgets/controls",
          "model_name": "DescriptionStyleModel",
          "model_module_version": "1.5.0",
          "state": {
            "_view_name": "StyleView",
            "_model_name": "DescriptionStyleModel",
            "description_width": "",
            "_view_module": "@jupyter-widgets/base",
            "_model_module_version": "1.5.0",
            "_view_count": null,
            "_view_module_version": "1.2.0",
            "_model_module": "@jupyter-widgets/controls"
          }
        },
        "30fe1e33ffc04405a565d77e0e30a273": {
          "model_module": "@jupyter-widgets/base",
          "model_name": "LayoutModel",
          "model_module_version": "1.2.0",
          "state": {
            "_view_name": "LayoutView",
            "grid_template_rows": null,
            "right": null,
            "justify_content": null,
            "_view_module": "@jupyter-widgets/base",
            "overflow": null,
            "_model_module_version": "1.2.0",
            "_view_count": null,
            "flex_flow": null,
            "width": null,
            "min_width": null,
            "border": null,
            "align_items": null,
            "bottom": null,
            "_model_module": "@jupyter-widgets/base",
            "top": null,
            "grid_column": null,
            "overflow_y": null,
            "overflow_x": null,
            "grid_auto_flow": null,
            "grid_area": null,
            "grid_template_columns": null,
            "flex": null,
            "_model_name": "LayoutModel",
            "justify_items": null,
            "grid_row": null,
            "max_height": null,
            "align_content": null,
            "visibility": null,
            "align_self": null,
            "height": null,
            "min_height": null,
            "padding": null,
            "grid_auto_rows": null,
            "grid_gap": null,
            "max_width": null,
            "order": null,
            "_view_module_version": "1.2.0",
            "grid_template_areas": null,
            "object_position": null,
            "object_fit": null,
            "grid_auto_columns": null,
            "margin": null,
            "display": null,
            "left": null
          }
        },
        "762db36eb4894269ae1f7641c813a546": {
          "model_module": "@jupyter-widgets/controls",
          "model_name": "ProgressStyleModel",
          "model_module_version": "1.5.0",
          "state": {
            "_view_name": "StyleView",
            "_model_name": "ProgressStyleModel",
            "description_width": "",
            "_view_module": "@jupyter-widgets/base",
            "_model_module_version": "1.5.0",
            "_view_count": null,
            "_view_module_version": "1.2.0",
            "bar_color": null,
            "_model_module": "@jupyter-widgets/controls"
          }
        },
        "1b286b2ecbff43af898a2e3b721c2c69": {
          "model_module": "@jupyter-widgets/base",
          "model_name": "LayoutModel",
          "model_module_version": "1.2.0",
          "state": {
            "_view_name": "LayoutView",
            "grid_template_rows": null,
            "right": null,
            "justify_content": null,
            "_view_module": "@jupyter-widgets/base",
            "overflow": null,
            "_model_module_version": "1.2.0",
            "_view_count": null,
            "flex_flow": null,
            "width": null,
            "min_width": null,
            "border": null,
            "align_items": null,
            "bottom": null,
            "_model_module": "@jupyter-widgets/base",
            "top": null,
            "grid_column": null,
            "overflow_y": null,
            "overflow_x": null,
            "grid_auto_flow": null,
            "grid_area": null,
            "grid_template_columns": null,
            "flex": null,
            "_model_name": "LayoutModel",
            "justify_items": null,
            "grid_row": null,
            "max_height": null,
            "align_content": null,
            "visibility": null,
            "align_self": null,
            "height": null,
            "min_height": null,
            "padding": null,
            "grid_auto_rows": null,
            "grid_gap": null,
            "max_width": null,
            "order": null,
            "_view_module_version": "1.2.0",
            "grid_template_areas": null,
            "object_position": null,
            "object_fit": null,
            "grid_auto_columns": null,
            "margin": null,
            "display": null,
            "left": null
          }
        },
        "1c65abe5097e4cada1e87a57bb1597a5": {
          "model_module": "@jupyter-widgets/controls",
          "model_name": "DescriptionStyleModel",
          "model_module_version": "1.5.0",
          "state": {
            "_view_name": "StyleView",
            "_model_name": "DescriptionStyleModel",
            "description_width": "",
            "_view_module": "@jupyter-widgets/base",
            "_model_module_version": "1.5.0",
            "_view_count": null,
            "_view_module_version": "1.2.0",
            "_model_module": "@jupyter-widgets/controls"
          }
        },
        "1f6507692aeb410ab10cc0a7fb813793": {
          "model_module": "@jupyter-widgets/base",
          "model_name": "LayoutModel",
          "model_module_version": "1.2.0",
          "state": {
            "_view_name": "LayoutView",
            "grid_template_rows": null,
            "right": null,
            "justify_content": null,
            "_view_module": "@jupyter-widgets/base",
            "overflow": null,
            "_model_module_version": "1.2.0",
            "_view_count": null,
            "flex_flow": null,
            "width": null,
            "min_width": null,
            "border": null,
            "align_items": null,
            "bottom": null,
            "_model_module": "@jupyter-widgets/base",
            "top": null,
            "grid_column": null,
            "overflow_y": null,
            "overflow_x": null,
            "grid_auto_flow": null,
            "grid_area": null,
            "grid_template_columns": null,
            "flex": null,
            "_model_name": "LayoutModel",
            "justify_items": null,
            "grid_row": null,
            "max_height": null,
            "align_content": null,
            "visibility": null,
            "align_self": null,
            "height": null,
            "min_height": null,
            "padding": null,
            "grid_auto_rows": null,
            "grid_gap": null,
            "max_width": null,
            "order": null,
            "_view_module_version": "1.2.0",
            "grid_template_areas": null,
            "object_position": null,
            "object_fit": null,
            "grid_auto_columns": null,
            "margin": null,
            "display": null,
            "left": null
          }
        },
        "1ed80140f63d45e6a9622ed4b9db74ef": {
          "model_module": "@jupyter-widgets/controls",
          "model_name": "HBoxModel",
          "model_module_version": "1.5.0",
          "state": {
            "_view_name": "HBoxView",
            "_dom_classes": [],
            "_model_name": "HBoxModel",
            "_view_module": "@jupyter-widgets/controls",
            "_model_module_version": "1.5.0",
            "_view_count": null,
            "_view_module_version": "1.5.0",
            "box_style": "",
            "layout": "IPY_MODEL_d3b000c30dab476ca76ce295765452cd",
            "_model_module": "@jupyter-widgets/controls",
            "children": [
              "IPY_MODEL_e165e4465e8542ecb3485eec8113cba8",
              "IPY_MODEL_984f2422dab54483bd79a89902e3bb97",
              "IPY_MODEL_a6f2c6a356494fe7a96f28ee9bbb51d1"
            ]
          }
        },
        "d3b000c30dab476ca76ce295765452cd": {
          "model_module": "@jupyter-widgets/base",
          "model_name": "LayoutModel",
          "model_module_version": "1.2.0",
          "state": {
            "_view_name": "LayoutView",
            "grid_template_rows": null,
            "right": null,
            "justify_content": null,
            "_view_module": "@jupyter-widgets/base",
            "overflow": null,
            "_model_module_version": "1.2.0",
            "_view_count": null,
            "flex_flow": null,
            "width": null,
            "min_width": null,
            "border": null,
            "align_items": null,
            "bottom": null,
            "_model_module": "@jupyter-widgets/base",
            "top": null,
            "grid_column": null,
            "overflow_y": null,
            "overflow_x": null,
            "grid_auto_flow": null,
            "grid_area": null,
            "grid_template_columns": null,
            "flex": null,
            "_model_name": "LayoutModel",
            "justify_items": null,
            "grid_row": null,
            "max_height": null,
            "align_content": null,
            "visibility": null,
            "align_self": null,
            "height": null,
            "min_height": null,
            "padding": null,
            "grid_auto_rows": null,
            "grid_gap": null,
            "max_width": null,
            "order": null,
            "_view_module_version": "1.2.0",
            "grid_template_areas": null,
            "object_position": null,
            "object_fit": null,
            "grid_auto_columns": null,
            "margin": null,
            "display": null,
            "left": null
          }
        },
        "e165e4465e8542ecb3485eec8113cba8": {
          "model_module": "@jupyter-widgets/controls",
          "model_name": "HTMLModel",
          "model_module_version": "1.5.0",
          "state": {
            "_view_name": "HTMLView",
            "style": "IPY_MODEL_8f1fa53d04c240a18d992dfa4decd7fd",
            "_dom_classes": [],
            "description": "",
            "_model_name": "HTMLModel",
            "placeholder": "​",
            "_view_module": "@jupyter-widgets/controls",
            "_model_module_version": "1.5.0",
            "value": "100%",
            "_view_count": null,
            "_view_module_version": "1.5.0",
            "description_tooltip": null,
            "_model_module": "@jupyter-widgets/controls",
            "layout": "IPY_MODEL_c3548d5af73b4025b905f0ecc5622431"
          }
        },
        "984f2422dab54483bd79a89902e3bb97": {
          "model_module": "@jupyter-widgets/controls",
          "model_name": "FloatProgressModel",
          "model_module_version": "1.5.0",
          "state": {
            "_view_name": "ProgressView",
            "style": "IPY_MODEL_9391008efd474ddfb82fd51c4ab9ed21",
            "_dom_classes": [],
            "description": "",
            "_model_name": "FloatProgressModel",
            "bar_style": "success",
            "max": 14241,
            "_view_module": "@jupyter-widgets/controls",
            "_model_module_version": "1.5.0",
            "value": 14241,
            "_view_count": null,
            "_view_module_version": "1.5.0",
            "orientation": "horizontal",
            "min": 0,
            "description_tooltip": null,
            "_model_module": "@jupyter-widgets/controls",
            "layout": "IPY_MODEL_da5fd345c54a469fa266136cde537fba"
          }
        },
        "a6f2c6a356494fe7a96f28ee9bbb51d1": {
          "model_module": "@jupyter-widgets/controls",
          "model_name": "HTMLModel",
          "model_module_version": "1.5.0",
          "state": {
            "_view_name": "HTMLView",
            "style": "IPY_MODEL_9d0a3dafc8ca43c7a715d8d9b620af9a",
            "_dom_classes": [],
            "description": "",
            "_model_name": "HTMLModel",
            "placeholder": "​",
            "_view_module": "@jupyter-widgets/controls",
            "_model_module_version": "1.5.0",
            "value": " 14241/14241 [00:00&lt;00:00, 99681.30it/s]",
            "_view_count": null,
            "_view_module_version": "1.5.0",
            "description_tooltip": null,
            "_model_module": "@jupyter-widgets/controls",
            "layout": "IPY_MODEL_7fa50dd1baa046269abc0a10642de5aa"
          }
        },
        "8f1fa53d04c240a18d992dfa4decd7fd": {
          "model_module": "@jupyter-widgets/controls",
          "model_name": "DescriptionStyleModel",
          "model_module_version": "1.5.0",
          "state": {
            "_view_name": "StyleView",
            "_model_name": "DescriptionStyleModel",
            "description_width": "",
            "_view_module": "@jupyter-widgets/base",
            "_model_module_version": "1.5.0",
            "_view_count": null,
            "_view_module_version": "1.2.0",
            "_model_module": "@jupyter-widgets/controls"
          }
        },
        "c3548d5af73b4025b905f0ecc5622431": {
          "model_module": "@jupyter-widgets/base",
          "model_name": "LayoutModel",
          "model_module_version": "1.2.0",
          "state": {
            "_view_name": "LayoutView",
            "grid_template_rows": null,
            "right": null,
            "justify_content": null,
            "_view_module": "@jupyter-widgets/base",
            "overflow": null,
            "_model_module_version": "1.2.0",
            "_view_count": null,
            "flex_flow": null,
            "width": null,
            "min_width": null,
            "border": null,
            "align_items": null,
            "bottom": null,
            "_model_module": "@jupyter-widgets/base",
            "top": null,
            "grid_column": null,
            "overflow_y": null,
            "overflow_x": null,
            "grid_auto_flow": null,
            "grid_area": null,
            "grid_template_columns": null,
            "flex": null,
            "_model_name": "LayoutModel",
            "justify_items": null,
            "grid_row": null,
            "max_height": null,
            "align_content": null,
            "visibility": null,
            "align_self": null,
            "height": null,
            "min_height": null,
            "padding": null,
            "grid_auto_rows": null,
            "grid_gap": null,
            "max_width": null,
            "order": null,
            "_view_module_version": "1.2.0",
            "grid_template_areas": null,
            "object_position": null,
            "object_fit": null,
            "grid_auto_columns": null,
            "margin": null,
            "display": null,
            "left": null
          }
        },
        "9391008efd474ddfb82fd51c4ab9ed21": {
          "model_module": "@jupyter-widgets/controls",
          "model_name": "ProgressStyleModel",
          "model_module_version": "1.5.0",
          "state": {
            "_view_name": "StyleView",
            "_model_name": "ProgressStyleModel",
            "description_width": "",
            "_view_module": "@jupyter-widgets/base",
            "_model_module_version": "1.5.0",
            "_view_count": null,
            "_view_module_version": "1.2.0",
            "bar_color": null,
            "_model_module": "@jupyter-widgets/controls"
          }
        },
        "da5fd345c54a469fa266136cde537fba": {
          "model_module": "@jupyter-widgets/base",
          "model_name": "LayoutModel",
          "model_module_version": "1.2.0",
          "state": {
            "_view_name": "LayoutView",
            "grid_template_rows": null,
            "right": null,
            "justify_content": null,
            "_view_module": "@jupyter-widgets/base",
            "overflow": null,
            "_model_module_version": "1.2.0",
            "_view_count": null,
            "flex_flow": null,
            "width": null,
            "min_width": null,
            "border": null,
            "align_items": null,
            "bottom": null,
            "_model_module": "@jupyter-widgets/base",
            "top": null,
            "grid_column": null,
            "overflow_y": null,
            "overflow_x": null,
            "grid_auto_flow": null,
            "grid_area": null,
            "grid_template_columns": null,
            "flex": null,
            "_model_name": "LayoutModel",
            "justify_items": null,
            "grid_row": null,
            "max_height": null,
            "align_content": null,
            "visibility": null,
            "align_self": null,
            "height": null,
            "min_height": null,
            "padding": null,
            "grid_auto_rows": null,
            "grid_gap": null,
            "max_width": null,
            "order": null,
            "_view_module_version": "1.2.0",
            "grid_template_areas": null,
            "object_position": null,
            "object_fit": null,
            "grid_auto_columns": null,
            "margin": null,
            "display": null,
            "left": null
          }
        },
        "9d0a3dafc8ca43c7a715d8d9b620af9a": {
          "model_module": "@jupyter-widgets/controls",
          "model_name": "DescriptionStyleModel",
          "model_module_version": "1.5.0",
          "state": {
            "_view_name": "StyleView",
            "_model_name": "DescriptionStyleModel",
            "description_width": "",
            "_view_module": "@jupyter-widgets/base",
            "_model_module_version": "1.5.0",
            "_view_count": null,
            "_view_module_version": "1.2.0",
            "_model_module": "@jupyter-widgets/controls"
          }
        },
        "7fa50dd1baa046269abc0a10642de5aa": {
          "model_module": "@jupyter-widgets/base",
          "model_name": "LayoutModel",
          "model_module_version": "1.2.0",
          "state": {
            "_view_name": "LayoutView",
            "grid_template_rows": null,
            "right": null,
            "justify_content": null,
            "_view_module": "@jupyter-widgets/base",
            "overflow": null,
            "_model_module_version": "1.2.0",
            "_view_count": null,
            "flex_flow": null,
            "width": null,
            "min_width": null,
            "border": null,
            "align_items": null,
            "bottom": null,
            "_model_module": "@jupyter-widgets/base",
            "top": null,
            "grid_column": null,
            "overflow_y": null,
            "overflow_x": null,
            "grid_auto_flow": null,
            "grid_area": null,
            "grid_template_columns": null,
            "flex": null,
            "_model_name": "LayoutModel",
            "justify_items": null,
            "grid_row": null,
            "max_height": null,
            "align_content": null,
            "visibility": null,
            "align_self": null,
            "height": null,
            "min_height": null,
            "padding": null,
            "grid_auto_rows": null,
            "grid_gap": null,
            "max_width": null,
            "order": null,
            "_view_module_version": "1.2.0",
            "grid_template_areas": null,
            "object_position": null,
            "object_fit": null,
            "grid_auto_columns": null,
            "margin": null,
            "display": null,
            "left": null
          }
        },
        "a5157fec1e2c4aed8d82bf4de642f12d": {
          "model_module": "@jupyter-widgets/controls",
          "model_name": "HBoxModel",
          "model_module_version": "1.5.0",
          "state": {
            "_view_name": "HBoxView",
            "_dom_classes": [],
            "_model_name": "HBoxModel",
            "_view_module": "@jupyter-widgets/controls",
            "_model_module_version": "1.5.0",
            "_view_count": null,
            "_view_module_version": "1.5.0",
            "box_style": "",
            "layout": "IPY_MODEL_26259b5bfc2d45e297e1647140111bc0",
            "_model_module": "@jupyter-widgets/controls",
            "children": [
              "IPY_MODEL_af1082173dce43e1af4e38a8ec572183",
              "IPY_MODEL_2506fa42f1ec4213acc62ac1750f73cb",
              "IPY_MODEL_bba77126bf4f42ec849a31eee2dbf0fb"
            ]
          }
        },
        "26259b5bfc2d45e297e1647140111bc0": {
          "model_module": "@jupyter-widgets/base",
          "model_name": "LayoutModel",
          "model_module_version": "1.2.0",
          "state": {
            "_view_name": "LayoutView",
            "grid_template_rows": null,
            "right": null,
            "justify_content": null,
            "_view_module": "@jupyter-widgets/base",
            "overflow": null,
            "_model_module_version": "1.2.0",
            "_view_count": null,
            "flex_flow": null,
            "width": null,
            "min_width": null,
            "border": null,
            "align_items": null,
            "bottom": null,
            "_model_module": "@jupyter-widgets/base",
            "top": null,
            "grid_column": null,
            "overflow_y": null,
            "overflow_x": null,
            "grid_auto_flow": null,
            "grid_area": null,
            "grid_template_columns": null,
            "flex": null,
            "_model_name": "LayoutModel",
            "justify_items": null,
            "grid_row": null,
            "max_height": null,
            "align_content": null,
            "visibility": null,
            "align_self": null,
            "height": null,
            "min_height": null,
            "padding": null,
            "grid_auto_rows": null,
            "grid_gap": null,
            "max_width": null,
            "order": null,
            "_view_module_version": "1.2.0",
            "grid_template_areas": null,
            "object_position": null,
            "object_fit": null,
            "grid_auto_columns": null,
            "margin": null,
            "display": null,
            "left": null
          }
        },
        "af1082173dce43e1af4e38a8ec572183": {
          "model_module": "@jupyter-widgets/controls",
          "model_name": "HTMLModel",
          "model_module_version": "1.5.0",
          "state": {
            "_view_name": "HTMLView",
            "style": "IPY_MODEL_c20a77a2986047789c8ca5d60b02e301",
            "_dom_classes": [],
            "description": "",
            "_model_name": "HTMLModel",
            "placeholder": "​",
            "_view_module": "@jupyter-widgets/controls",
            "_model_module_version": "1.5.0",
            "value": "100%",
            "_view_count": null,
            "_view_module_version": "1.5.0",
            "description_tooltip": null,
            "_model_module": "@jupyter-widgets/controls",
            "layout": "IPY_MODEL_5432883bca094b1ba61f6b1abf391e53"
          }
        },
        "2506fa42f1ec4213acc62ac1750f73cb": {
          "model_module": "@jupyter-widgets/controls",
          "model_name": "FloatProgressModel",
          "model_module_version": "1.5.0",
          "state": {
            "_view_name": "ProgressView",
            "style": "IPY_MODEL_68b4ea8916864c5a9414170df352926d",
            "_dom_classes": [],
            "description": "",
            "_model_name": "FloatProgressModel",
            "bar_style": "success",
            "max": 14241,
            "_view_module": "@jupyter-widgets/controls",
            "_model_module_version": "1.5.0",
            "value": 14241,
            "_view_count": null,
            "_view_module_version": "1.5.0",
            "orientation": "horizontal",
            "min": 0,
            "description_tooltip": null,
            "_model_module": "@jupyter-widgets/controls",
            "layout": "IPY_MODEL_0f51fb2f2d274a67a862a370150bd5d4"
          }
        },
        "bba77126bf4f42ec849a31eee2dbf0fb": {
          "model_module": "@jupyter-widgets/controls",
          "model_name": "HTMLModel",
          "model_module_version": "1.5.0",
          "state": {
            "_view_name": "HTMLView",
            "style": "IPY_MODEL_2e21c76a049544878c6483e26e20dbc4",
            "_dom_classes": [],
            "description": "",
            "_model_name": "HTMLModel",
            "placeholder": "​",
            "_view_module": "@jupyter-widgets/controls",
            "_model_module_version": "1.5.0",
            "value": " 14241/14241 [00:05&lt;00:00, 2740.66it/s]",
            "_view_count": null,
            "_view_module_version": "1.5.0",
            "description_tooltip": null,
            "_model_module": "@jupyter-widgets/controls",
            "layout": "IPY_MODEL_099dc2c272244e7c8ad036e37cd38411"
          }
        },
        "c20a77a2986047789c8ca5d60b02e301": {
          "model_module": "@jupyter-widgets/controls",
          "model_name": "DescriptionStyleModel",
          "model_module_version": "1.5.0",
          "state": {
            "_view_name": "StyleView",
            "_model_name": "DescriptionStyleModel",
            "description_width": "",
            "_view_module": "@jupyter-widgets/base",
            "_model_module_version": "1.5.0",
            "_view_count": null,
            "_view_module_version": "1.2.0",
            "_model_module": "@jupyter-widgets/controls"
          }
        },
        "5432883bca094b1ba61f6b1abf391e53": {
          "model_module": "@jupyter-widgets/base",
          "model_name": "LayoutModel",
          "model_module_version": "1.2.0",
          "state": {
            "_view_name": "LayoutView",
            "grid_template_rows": null,
            "right": null,
            "justify_content": null,
            "_view_module": "@jupyter-widgets/base",
            "overflow": null,
            "_model_module_version": "1.2.0",
            "_view_count": null,
            "flex_flow": null,
            "width": null,
            "min_width": null,
            "border": null,
            "align_items": null,
            "bottom": null,
            "_model_module": "@jupyter-widgets/base",
            "top": null,
            "grid_column": null,
            "overflow_y": null,
            "overflow_x": null,
            "grid_auto_flow": null,
            "grid_area": null,
            "grid_template_columns": null,
            "flex": null,
            "_model_name": "LayoutModel",
            "justify_items": null,
            "grid_row": null,
            "max_height": null,
            "align_content": null,
            "visibility": null,
            "align_self": null,
            "height": null,
            "min_height": null,
            "padding": null,
            "grid_auto_rows": null,
            "grid_gap": null,
            "max_width": null,
            "order": null,
            "_view_module_version": "1.2.0",
            "grid_template_areas": null,
            "object_position": null,
            "object_fit": null,
            "grid_auto_columns": null,
            "margin": null,
            "display": null,
            "left": null
          }
        },
        "68b4ea8916864c5a9414170df352926d": {
          "model_module": "@jupyter-widgets/controls",
          "model_name": "ProgressStyleModel",
          "model_module_version": "1.5.0",
          "state": {
            "_view_name": "StyleView",
            "_model_name": "ProgressStyleModel",
            "description_width": "",
            "_view_module": "@jupyter-widgets/base",
            "_model_module_version": "1.5.0",
            "_view_count": null,
            "_view_module_version": "1.2.0",
            "bar_color": null,
            "_model_module": "@jupyter-widgets/controls"
          }
        },
        "0f51fb2f2d274a67a862a370150bd5d4": {
          "model_module": "@jupyter-widgets/base",
          "model_name": "LayoutModel",
          "model_module_version": "1.2.0",
          "state": {
            "_view_name": "LayoutView",
            "grid_template_rows": null,
            "right": null,
            "justify_content": null,
            "_view_module": "@jupyter-widgets/base",
            "overflow": null,
            "_model_module_version": "1.2.0",
            "_view_count": null,
            "flex_flow": null,
            "width": null,
            "min_width": null,
            "border": null,
            "align_items": null,
            "bottom": null,
            "_model_module": "@jupyter-widgets/base",
            "top": null,
            "grid_column": null,
            "overflow_y": null,
            "overflow_x": null,
            "grid_auto_flow": null,
            "grid_area": null,
            "grid_template_columns": null,
            "flex": null,
            "_model_name": "LayoutModel",
            "justify_items": null,
            "grid_row": null,
            "max_height": null,
            "align_content": null,
            "visibility": null,
            "align_self": null,
            "height": null,
            "min_height": null,
            "padding": null,
            "grid_auto_rows": null,
            "grid_gap": null,
            "max_width": null,
            "order": null,
            "_view_module_version": "1.2.0",
            "grid_template_areas": null,
            "object_position": null,
            "object_fit": null,
            "grid_auto_columns": null,
            "margin": null,
            "display": null,
            "left": null
          }
        },
        "2e21c76a049544878c6483e26e20dbc4": {
          "model_module": "@jupyter-widgets/controls",
          "model_name": "DescriptionStyleModel",
          "model_module_version": "1.5.0",
          "state": {
            "_view_name": "StyleView",
            "_model_name": "DescriptionStyleModel",
            "description_width": "",
            "_view_module": "@jupyter-widgets/base",
            "_model_module_version": "1.5.0",
            "_view_count": null,
            "_view_module_version": "1.2.0",
            "_model_module": "@jupyter-widgets/controls"
          }
        },
        "099dc2c272244e7c8ad036e37cd38411": {
          "model_module": "@jupyter-widgets/base",
          "model_name": "LayoutModel",
          "model_module_version": "1.2.0",
          "state": {
            "_view_name": "LayoutView",
            "grid_template_rows": null,
            "right": null,
            "justify_content": null,
            "_view_module": "@jupyter-widgets/base",
            "overflow": null,
            "_model_module_version": "1.2.0",
            "_view_count": null,
            "flex_flow": null,
            "width": null,
            "min_width": null,
            "border": null,
            "align_items": null,
            "bottom": null,
            "_model_module": "@jupyter-widgets/base",
            "top": null,
            "grid_column": null,
            "overflow_y": null,
            "overflow_x": null,
            "grid_auto_flow": null,
            "grid_area": null,
            "grid_template_columns": null,
            "flex": null,
            "_model_name": "LayoutModel",
            "justify_items": null,
            "grid_row": null,
            "max_height": null,
            "align_content": null,
            "visibility": null,
            "align_self": null,
            "height": null,
            "min_height": null,
            "padding": null,
            "grid_auto_rows": null,
            "grid_gap": null,
            "max_width": null,
            "order": null,
            "_view_module_version": "1.2.0",
            "grid_template_areas": null,
            "object_position": null,
            "object_fit": null,
            "grid_auto_columns": null,
            "margin": null,
            "display": null,
            "left": null
          }
        },
        "2518b4d1d35b4ad999486c77d03fb615": {
          "model_module": "@jupyter-widgets/controls",
          "model_name": "HBoxModel",
          "model_module_version": "1.5.0",
          "state": {
            "_view_name": "HBoxView",
            "_dom_classes": [],
            "_model_name": "HBoxModel",
            "_view_module": "@jupyter-widgets/controls",
            "_model_module_version": "1.5.0",
            "_view_count": null,
            "_view_module_version": "1.5.0",
            "box_style": "",
            "layout": "IPY_MODEL_db59d04ba6be488b847a5e2d1716e723",
            "_model_module": "@jupyter-widgets/controls",
            "children": [
              "IPY_MODEL_fa8fb1681737459297089ab5b6257dbf",
              "IPY_MODEL_733a96387bb54cdeb8bdc0a2ca89139e",
              "IPY_MODEL_659858b5eb66469e9903877b8f37b1e1"
            ]
          }
        },
        "db59d04ba6be488b847a5e2d1716e723": {
          "model_module": "@jupyter-widgets/base",
          "model_name": "LayoutModel",
          "model_module_version": "1.2.0",
          "state": {
            "_view_name": "LayoutView",
            "grid_template_rows": null,
            "right": null,
            "justify_content": null,
            "_view_module": "@jupyter-widgets/base",
            "overflow": null,
            "_model_module_version": "1.2.0",
            "_view_count": null,
            "flex_flow": null,
            "width": null,
            "min_width": null,
            "border": null,
            "align_items": null,
            "bottom": null,
            "_model_module": "@jupyter-widgets/base",
            "top": null,
            "grid_column": null,
            "overflow_y": null,
            "overflow_x": null,
            "grid_auto_flow": null,
            "grid_area": null,
            "grid_template_columns": null,
            "flex": null,
            "_model_name": "LayoutModel",
            "justify_items": null,
            "grid_row": null,
            "max_height": null,
            "align_content": null,
            "visibility": null,
            "align_self": null,
            "height": null,
            "min_height": null,
            "padding": null,
            "grid_auto_rows": null,
            "grid_gap": null,
            "max_width": null,
            "order": null,
            "_view_module_version": "1.2.0",
            "grid_template_areas": null,
            "object_position": null,
            "object_fit": null,
            "grid_auto_columns": null,
            "margin": null,
            "display": null,
            "left": null
          }
        },
        "fa8fb1681737459297089ab5b6257dbf": {
          "model_module": "@jupyter-widgets/controls",
          "model_name": "HTMLModel",
          "model_module_version": "1.5.0",
          "state": {
            "_view_name": "HTMLView",
            "style": "IPY_MODEL_09f600e62be441e0becec10a46a5e148",
            "_dom_classes": [],
            "description": "",
            "_model_name": "HTMLModel",
            "placeholder": "​",
            "_view_module": "@jupyter-widgets/controls",
            "_model_module_version": "1.5.0",
            "value": "100%",
            "_view_count": null,
            "_view_module_version": "1.5.0",
            "description_tooltip": null,
            "_model_module": "@jupyter-widgets/controls",
            "layout": "IPY_MODEL_dafbbb7efe2f4cf3ab6e7ebc81ab0690"
          }
        },
        "733a96387bb54cdeb8bdc0a2ca89139e": {
          "model_module": "@jupyter-widgets/controls",
          "model_name": "FloatProgressModel",
          "model_module_version": "1.5.0",
          "state": {
            "_view_name": "ProgressView",
            "style": "IPY_MODEL_202bd89f5ae748e88f1a4d5c630c1dbe",
            "_dom_classes": [],
            "description": "",
            "_model_name": "FloatProgressModel",
            "bar_style": "success",
            "max": 14241,
            "_view_module": "@jupyter-widgets/controls",
            "_model_module_version": "1.5.0",
            "value": 14241,
            "_view_count": null,
            "_view_module_version": "1.5.0",
            "orientation": "horizontal",
            "min": 0,
            "description_tooltip": null,
            "_model_module": "@jupyter-widgets/controls",
            "layout": "IPY_MODEL_7fadaefa6d744d188b84e50c514e2df5"
          }
        },
        "659858b5eb66469e9903877b8f37b1e1": {
          "model_module": "@jupyter-widgets/controls",
          "model_name": "HTMLModel",
          "model_module_version": "1.5.0",
          "state": {
            "_view_name": "HTMLView",
            "style": "IPY_MODEL_0c9da27616744ae1b809650bdc110b73",
            "_dom_classes": [],
            "description": "",
            "_model_name": "HTMLModel",
            "placeholder": "​",
            "_view_module": "@jupyter-widgets/controls",
            "_model_module_version": "1.5.0",
            "value": " 14241/14241 [00:00&lt;00:00, 135823.29it/s]",
            "_view_count": null,
            "_view_module_version": "1.5.0",
            "description_tooltip": null,
            "_model_module": "@jupyter-widgets/controls",
            "layout": "IPY_MODEL_e930d6c55ec844b1b7953fb081cfd4bb"
          }
        },
        "09f600e62be441e0becec10a46a5e148": {
          "model_module": "@jupyter-widgets/controls",
          "model_name": "DescriptionStyleModel",
          "model_module_version": "1.5.0",
          "state": {
            "_view_name": "StyleView",
            "_model_name": "DescriptionStyleModel",
            "description_width": "",
            "_view_module": "@jupyter-widgets/base",
            "_model_module_version": "1.5.0",
            "_view_count": null,
            "_view_module_version": "1.2.0",
            "_model_module": "@jupyter-widgets/controls"
          }
        },
        "dafbbb7efe2f4cf3ab6e7ebc81ab0690": {
          "model_module": "@jupyter-widgets/base",
          "model_name": "LayoutModel",
          "model_module_version": "1.2.0",
          "state": {
            "_view_name": "LayoutView",
            "grid_template_rows": null,
            "right": null,
            "justify_content": null,
            "_view_module": "@jupyter-widgets/base",
            "overflow": null,
            "_model_module_version": "1.2.0",
            "_view_count": null,
            "flex_flow": null,
            "width": null,
            "min_width": null,
            "border": null,
            "align_items": null,
            "bottom": null,
            "_model_module": "@jupyter-widgets/base",
            "top": null,
            "grid_column": null,
            "overflow_y": null,
            "overflow_x": null,
            "grid_auto_flow": null,
            "grid_area": null,
            "grid_template_columns": null,
            "flex": null,
            "_model_name": "LayoutModel",
            "justify_items": null,
            "grid_row": null,
            "max_height": null,
            "align_content": null,
            "visibility": null,
            "align_self": null,
            "height": null,
            "min_height": null,
            "padding": null,
            "grid_auto_rows": null,
            "grid_gap": null,
            "max_width": null,
            "order": null,
            "_view_module_version": "1.2.0",
            "grid_template_areas": null,
            "object_position": null,
            "object_fit": null,
            "grid_auto_columns": null,
            "margin": null,
            "display": null,
            "left": null
          }
        },
        "202bd89f5ae748e88f1a4d5c630c1dbe": {
          "model_module": "@jupyter-widgets/controls",
          "model_name": "ProgressStyleModel",
          "model_module_version": "1.5.0",
          "state": {
            "_view_name": "StyleView",
            "_model_name": "ProgressStyleModel",
            "description_width": "",
            "_view_module": "@jupyter-widgets/base",
            "_model_module_version": "1.5.0",
            "_view_count": null,
            "_view_module_version": "1.2.0",
            "bar_color": null,
            "_model_module": "@jupyter-widgets/controls"
          }
        },
        "7fadaefa6d744d188b84e50c514e2df5": {
          "model_module": "@jupyter-widgets/base",
          "model_name": "LayoutModel",
          "model_module_version": "1.2.0",
          "state": {
            "_view_name": "LayoutView",
            "grid_template_rows": null,
            "right": null,
            "justify_content": null,
            "_view_module": "@jupyter-widgets/base",
            "overflow": null,
            "_model_module_version": "1.2.0",
            "_view_count": null,
            "flex_flow": null,
            "width": null,
            "min_width": null,
            "border": null,
            "align_items": null,
            "bottom": null,
            "_model_module": "@jupyter-widgets/base",
            "top": null,
            "grid_column": null,
            "overflow_y": null,
            "overflow_x": null,
            "grid_auto_flow": null,
            "grid_area": null,
            "grid_template_columns": null,
            "flex": null,
            "_model_name": "LayoutModel",
            "justify_items": null,
            "grid_row": null,
            "max_height": null,
            "align_content": null,
            "visibility": null,
            "align_self": null,
            "height": null,
            "min_height": null,
            "padding": null,
            "grid_auto_rows": null,
            "grid_gap": null,
            "max_width": null,
            "order": null,
            "_view_module_version": "1.2.0",
            "grid_template_areas": null,
            "object_position": null,
            "object_fit": null,
            "grid_auto_columns": null,
            "margin": null,
            "display": null,
            "left": null
          }
        },
        "0c9da27616744ae1b809650bdc110b73": {
          "model_module": "@jupyter-widgets/controls",
          "model_name": "DescriptionStyleModel",
          "model_module_version": "1.5.0",
          "state": {
            "_view_name": "StyleView",
            "_model_name": "DescriptionStyleModel",
            "description_width": "",
            "_view_module": "@jupyter-widgets/base",
            "_model_module_version": "1.5.0",
            "_view_count": null,
            "_view_module_version": "1.2.0",
            "_model_module": "@jupyter-widgets/controls"
          }
        },
        "e930d6c55ec844b1b7953fb081cfd4bb": {
          "model_module": "@jupyter-widgets/base",
          "model_name": "LayoutModel",
          "model_module_version": "1.2.0",
          "state": {
            "_view_name": "LayoutView",
            "grid_template_rows": null,
            "right": null,
            "justify_content": null,
            "_view_module": "@jupyter-widgets/base",
            "overflow": null,
            "_model_module_version": "1.2.0",
            "_view_count": null,
            "flex_flow": null,
            "width": null,
            "min_width": null,
            "border": null,
            "align_items": null,
            "bottom": null,
            "_model_module": "@jupyter-widgets/base",
            "top": null,
            "grid_column": null,
            "overflow_y": null,
            "overflow_x": null,
            "grid_auto_flow": null,
            "grid_area": null,
            "grid_template_columns": null,
            "flex": null,
            "_model_name": "LayoutModel",
            "justify_items": null,
            "grid_row": null,
            "max_height": null,
            "align_content": null,
            "visibility": null,
            "align_self": null,
            "height": null,
            "min_height": null,
            "padding": null,
            "grid_auto_rows": null,
            "grid_gap": null,
            "max_width": null,
            "order": null,
            "_view_module_version": "1.2.0",
            "grid_template_areas": null,
            "object_position": null,
            "object_fit": null,
            "grid_auto_columns": null,
            "margin": null,
            "display": null,
            "left": null
          }
        },
        "97e4ecc70e344780ba9d953f7f7573b0": {
          "model_module": "@jupyter-widgets/controls",
          "model_name": "HBoxModel",
          "model_module_version": "1.5.0",
          "state": {
            "_view_name": "HBoxView",
            "_dom_classes": [],
            "_model_name": "HBoxModel",
            "_view_module": "@jupyter-widgets/controls",
            "_model_module_version": "1.5.0",
            "_view_count": null,
            "_view_module_version": "1.5.0",
            "box_style": "",
            "layout": "IPY_MODEL_c4ff87700094494bb385e1cf7a9a1e9a",
            "_model_module": "@jupyter-widgets/controls",
            "children": [
              "IPY_MODEL_30249fb46a204854ac245a83c635e785",
              "IPY_MODEL_0ebb29f370c44f7fa640d534237b54af",
              "IPY_MODEL_3437770336b3482091600d03db965f80"
            ]
          }
        },
        "c4ff87700094494bb385e1cf7a9a1e9a": {
          "model_module": "@jupyter-widgets/base",
          "model_name": "LayoutModel",
          "model_module_version": "1.2.0",
          "state": {
            "_view_name": "LayoutView",
            "grid_template_rows": null,
            "right": null,
            "justify_content": null,
            "_view_module": "@jupyter-widgets/base",
            "overflow": null,
            "_model_module_version": "1.2.0",
            "_view_count": null,
            "flex_flow": null,
            "width": null,
            "min_width": null,
            "border": null,
            "align_items": null,
            "bottom": null,
            "_model_module": "@jupyter-widgets/base",
            "top": null,
            "grid_column": null,
            "overflow_y": null,
            "overflow_x": null,
            "grid_auto_flow": null,
            "grid_area": null,
            "grid_template_columns": null,
            "flex": null,
            "_model_name": "LayoutModel",
            "justify_items": null,
            "grid_row": null,
            "max_height": null,
            "align_content": null,
            "visibility": null,
            "align_self": null,
            "height": null,
            "min_height": null,
            "padding": null,
            "grid_auto_rows": null,
            "grid_gap": null,
            "max_width": null,
            "order": null,
            "_view_module_version": "1.2.0",
            "grid_template_areas": null,
            "object_position": null,
            "object_fit": null,
            "grid_auto_columns": null,
            "margin": null,
            "display": null,
            "left": null
          }
        },
        "30249fb46a204854ac245a83c635e785": {
          "model_module": "@jupyter-widgets/controls",
          "model_name": "HTMLModel",
          "model_module_version": "1.5.0",
          "state": {
            "_view_name": "HTMLView",
            "style": "IPY_MODEL_66ff6984b428485183dd8a2a204be72e",
            "_dom_classes": [],
            "description": "",
            "_model_name": "HTMLModel",
            "placeholder": "​",
            "_view_module": "@jupyter-widgets/controls",
            "_model_module_version": "1.5.0",
            "value": "100%",
            "_view_count": null,
            "_view_module_version": "1.5.0",
            "description_tooltip": null,
            "_model_module": "@jupyter-widgets/controls",
            "layout": "IPY_MODEL_9cadf93b90d6455e93817c69dc1934eb"
          }
        },
        "0ebb29f370c44f7fa640d534237b54af": {
          "model_module": "@jupyter-widgets/controls",
          "model_name": "FloatProgressModel",
          "model_module_version": "1.5.0",
          "state": {
            "_view_name": "ProgressView",
            "style": "IPY_MODEL_90ac63e14cad4acbbf476f4ff03f32a3",
            "_dom_classes": [],
            "description": "",
            "_model_name": "FloatProgressModel",
            "bar_style": "success",
            "max": 14241,
            "_view_module": "@jupyter-widgets/controls",
            "_model_module_version": "1.5.0",
            "value": 14241,
            "_view_count": null,
            "_view_module_version": "1.5.0",
            "orientation": "horizontal",
            "min": 0,
            "description_tooltip": null,
            "_model_module": "@jupyter-widgets/controls",
            "layout": "IPY_MODEL_d5f0d2d00e9f44358d36ce247d4f73a3"
          }
        },
        "3437770336b3482091600d03db965f80": {
          "model_module": "@jupyter-widgets/controls",
          "model_name": "HTMLModel",
          "model_module_version": "1.5.0",
          "state": {
            "_view_name": "HTMLView",
            "style": "IPY_MODEL_03a0839d97f348329840a276455b65e6",
            "_dom_classes": [],
            "description": "",
            "_model_name": "HTMLModel",
            "placeholder": "​",
            "_view_module": "@jupyter-widgets/controls",
            "_model_module_version": "1.5.0",
            "value": " 14241/14241 [00:05&lt;00:00, 2834.72it/s]",
            "_view_count": null,
            "_view_module_version": "1.5.0",
            "description_tooltip": null,
            "_model_module": "@jupyter-widgets/controls",
            "layout": "IPY_MODEL_6af7b5f2ee6c4c0fb79aff1d883f5788"
          }
        },
        "66ff6984b428485183dd8a2a204be72e": {
          "model_module": "@jupyter-widgets/controls",
          "model_name": "DescriptionStyleModel",
          "model_module_version": "1.5.0",
          "state": {
            "_view_name": "StyleView",
            "_model_name": "DescriptionStyleModel",
            "description_width": "",
            "_view_module": "@jupyter-widgets/base",
            "_model_module_version": "1.5.0",
            "_view_count": null,
            "_view_module_version": "1.2.0",
            "_model_module": "@jupyter-widgets/controls"
          }
        },
        "9cadf93b90d6455e93817c69dc1934eb": {
          "model_module": "@jupyter-widgets/base",
          "model_name": "LayoutModel",
          "model_module_version": "1.2.0",
          "state": {
            "_view_name": "LayoutView",
            "grid_template_rows": null,
            "right": null,
            "justify_content": null,
            "_view_module": "@jupyter-widgets/base",
            "overflow": null,
            "_model_module_version": "1.2.0",
            "_view_count": null,
            "flex_flow": null,
            "width": null,
            "min_width": null,
            "border": null,
            "align_items": null,
            "bottom": null,
            "_model_module": "@jupyter-widgets/base",
            "top": null,
            "grid_column": null,
            "overflow_y": null,
            "overflow_x": null,
            "grid_auto_flow": null,
            "grid_area": null,
            "grid_template_columns": null,
            "flex": null,
            "_model_name": "LayoutModel",
            "justify_items": null,
            "grid_row": null,
            "max_height": null,
            "align_content": null,
            "visibility": null,
            "align_self": null,
            "height": null,
            "min_height": null,
            "padding": null,
            "grid_auto_rows": null,
            "grid_gap": null,
            "max_width": null,
            "order": null,
            "_view_module_version": "1.2.0",
            "grid_template_areas": null,
            "object_position": null,
            "object_fit": null,
            "grid_auto_columns": null,
            "margin": null,
            "display": null,
            "left": null
          }
        },
        "90ac63e14cad4acbbf476f4ff03f32a3": {
          "model_module": "@jupyter-widgets/controls",
          "model_name": "ProgressStyleModel",
          "model_module_version": "1.5.0",
          "state": {
            "_view_name": "StyleView",
            "_model_name": "ProgressStyleModel",
            "description_width": "",
            "_view_module": "@jupyter-widgets/base",
            "_model_module_version": "1.5.0",
            "_view_count": null,
            "_view_module_version": "1.2.0",
            "bar_color": null,
            "_model_module": "@jupyter-widgets/controls"
          }
        },
        "d5f0d2d00e9f44358d36ce247d4f73a3": {
          "model_module": "@jupyter-widgets/base",
          "model_name": "LayoutModel",
          "model_module_version": "1.2.0",
          "state": {
            "_view_name": "LayoutView",
            "grid_template_rows": null,
            "right": null,
            "justify_content": null,
            "_view_module": "@jupyter-widgets/base",
            "overflow": null,
            "_model_module_version": "1.2.0",
            "_view_count": null,
            "flex_flow": null,
            "width": null,
            "min_width": null,
            "border": null,
            "align_items": null,
            "bottom": null,
            "_model_module": "@jupyter-widgets/base",
            "top": null,
            "grid_column": null,
            "overflow_y": null,
            "overflow_x": null,
            "grid_auto_flow": null,
            "grid_area": null,
            "grid_template_columns": null,
            "flex": null,
            "_model_name": "LayoutModel",
            "justify_items": null,
            "grid_row": null,
            "max_height": null,
            "align_content": null,
            "visibility": null,
            "align_self": null,
            "height": null,
            "min_height": null,
            "padding": null,
            "grid_auto_rows": null,
            "grid_gap": null,
            "max_width": null,
            "order": null,
            "_view_module_version": "1.2.0",
            "grid_template_areas": null,
            "object_position": null,
            "object_fit": null,
            "grid_auto_columns": null,
            "margin": null,
            "display": null,
            "left": null
          }
        },
        "03a0839d97f348329840a276455b65e6": {
          "model_module": "@jupyter-widgets/controls",
          "model_name": "DescriptionStyleModel",
          "model_module_version": "1.5.0",
          "state": {
            "_view_name": "StyleView",
            "_model_name": "DescriptionStyleModel",
            "description_width": "",
            "_view_module": "@jupyter-widgets/base",
            "_model_module_version": "1.5.0",
            "_view_count": null,
            "_view_module_version": "1.2.0",
            "_model_module": "@jupyter-widgets/controls"
          }
        },
        "6af7b5f2ee6c4c0fb79aff1d883f5788": {
          "model_module": "@jupyter-widgets/base",
          "model_name": "LayoutModel",
          "model_module_version": "1.2.0",
          "state": {
            "_view_name": "LayoutView",
            "grid_template_rows": null,
            "right": null,
            "justify_content": null,
            "_view_module": "@jupyter-widgets/base",
            "overflow": null,
            "_model_module_version": "1.2.0",
            "_view_count": null,
            "flex_flow": null,
            "width": null,
            "min_width": null,
            "border": null,
            "align_items": null,
            "bottom": null,
            "_model_module": "@jupyter-widgets/base",
            "top": null,
            "grid_column": null,
            "overflow_y": null,
            "overflow_x": null,
            "grid_auto_flow": null,
            "grid_area": null,
            "grid_template_columns": null,
            "flex": null,
            "_model_name": "LayoutModel",
            "justify_items": null,
            "grid_row": null,
            "max_height": null,
            "align_content": null,
            "visibility": null,
            "align_self": null,
            "height": null,
            "min_height": null,
            "padding": null,
            "grid_auto_rows": null,
            "grid_gap": null,
            "max_width": null,
            "order": null,
            "_view_module_version": "1.2.0",
            "grid_template_areas": null,
            "object_position": null,
            "object_fit": null,
            "grid_auto_columns": null,
            "margin": null,
            "display": null,
            "left": null
          }
        },
        "6c14d0b2408f4b8599edd2d0f1de1936": {
          "model_module": "@jupyter-widgets/controls",
          "model_name": "HBoxModel",
          "model_module_version": "1.5.0",
          "state": {
            "_view_name": "HBoxView",
            "_dom_classes": [],
            "_model_name": "HBoxModel",
            "_view_module": "@jupyter-widgets/controls",
            "_model_module_version": "1.5.0",
            "_view_count": null,
            "_view_module_version": "1.5.0",
            "box_style": "",
            "layout": "IPY_MODEL_fd7139ac1f8b4c2897adb092f99a70b2",
            "_model_module": "@jupyter-widgets/controls",
            "children": [
              "IPY_MODEL_f259ba68d77e44f1a36a349fd2981828",
              "IPY_MODEL_177a1d0b5a36440c92bf5a46994f31f0",
              "IPY_MODEL_24485bbec43040088af174f4e5e660c6"
            ]
          }
        },
        "fd7139ac1f8b4c2897adb092f99a70b2": {
          "model_module": "@jupyter-widgets/base",
          "model_name": "LayoutModel",
          "model_module_version": "1.2.0",
          "state": {
            "_view_name": "LayoutView",
            "grid_template_rows": null,
            "right": null,
            "justify_content": null,
            "_view_module": "@jupyter-widgets/base",
            "overflow": null,
            "_model_module_version": "1.2.0",
            "_view_count": null,
            "flex_flow": null,
            "width": null,
            "min_width": null,
            "border": null,
            "align_items": null,
            "bottom": null,
            "_model_module": "@jupyter-widgets/base",
            "top": null,
            "grid_column": null,
            "overflow_y": null,
            "overflow_x": null,
            "grid_auto_flow": null,
            "grid_area": null,
            "grid_template_columns": null,
            "flex": null,
            "_model_name": "LayoutModel",
            "justify_items": null,
            "grid_row": null,
            "max_height": null,
            "align_content": null,
            "visibility": null,
            "align_self": null,
            "height": null,
            "min_height": null,
            "padding": null,
            "grid_auto_rows": null,
            "grid_gap": null,
            "max_width": null,
            "order": null,
            "_view_module_version": "1.2.0",
            "grid_template_areas": null,
            "object_position": null,
            "object_fit": null,
            "grid_auto_columns": null,
            "margin": null,
            "display": null,
            "left": null
          }
        },
        "f259ba68d77e44f1a36a349fd2981828": {
          "model_module": "@jupyter-widgets/controls",
          "model_name": "HTMLModel",
          "model_module_version": "1.5.0",
          "state": {
            "_view_name": "HTMLView",
            "style": "IPY_MODEL_b3a50a82771446648c2e8cf5d47723d9",
            "_dom_classes": [],
            "description": "",
            "_model_name": "HTMLModel",
            "placeholder": "​",
            "_view_module": "@jupyter-widgets/controls",
            "_model_module_version": "1.5.0",
            "value": "100%",
            "_view_count": null,
            "_view_module_version": "1.5.0",
            "description_tooltip": null,
            "_model_module": "@jupyter-widgets/controls",
            "layout": "IPY_MODEL_4cc55454580d48cea7da9cd7dd106cc8"
          }
        },
        "177a1d0b5a36440c92bf5a46994f31f0": {
          "model_module": "@jupyter-widgets/controls",
          "model_name": "FloatProgressModel",
          "model_module_version": "1.5.0",
          "state": {
            "_view_name": "ProgressView",
            "style": "IPY_MODEL_dee26eaf635c47df9cb18af47ebb5b91",
            "_dom_classes": [],
            "description": "",
            "_model_name": "FloatProgressModel",
            "bar_style": "success",
            "max": 14241,
            "_view_module": "@jupyter-widgets/controls",
            "_model_module_version": "1.5.0",
            "value": 14241,
            "_view_count": null,
            "_view_module_version": "1.5.0",
            "orientation": "horizontal",
            "min": 0,
            "description_tooltip": null,
            "_model_module": "@jupyter-widgets/controls",
            "layout": "IPY_MODEL_3c8038fcb6124ad1aa840de272f022fa"
          }
        },
        "24485bbec43040088af174f4e5e660c6": {
          "model_module": "@jupyter-widgets/controls",
          "model_name": "HTMLModel",
          "model_module_version": "1.5.0",
          "state": {
            "_view_name": "HTMLView",
            "style": "IPY_MODEL_7efd70ebd00549ee943a192601f2e4e9",
            "_dom_classes": [],
            "description": "",
            "_model_name": "HTMLModel",
            "placeholder": "​",
            "_view_module": "@jupyter-widgets/controls",
            "_model_module_version": "1.5.0",
            "value": " 14241/14241 [00:00&lt;00:00, 121137.70it/s]",
            "_view_count": null,
            "_view_module_version": "1.5.0",
            "description_tooltip": null,
            "_model_module": "@jupyter-widgets/controls",
            "layout": "IPY_MODEL_650fe86313134177b4bb344a7131faf5"
          }
        },
        "b3a50a82771446648c2e8cf5d47723d9": {
          "model_module": "@jupyter-widgets/controls",
          "model_name": "DescriptionStyleModel",
          "model_module_version": "1.5.0",
          "state": {
            "_view_name": "StyleView",
            "_model_name": "DescriptionStyleModel",
            "description_width": "",
            "_view_module": "@jupyter-widgets/base",
            "_model_module_version": "1.5.0",
            "_view_count": null,
            "_view_module_version": "1.2.0",
            "_model_module": "@jupyter-widgets/controls"
          }
        },
        "4cc55454580d48cea7da9cd7dd106cc8": {
          "model_module": "@jupyter-widgets/base",
          "model_name": "LayoutModel",
          "model_module_version": "1.2.0",
          "state": {
            "_view_name": "LayoutView",
            "grid_template_rows": null,
            "right": null,
            "justify_content": null,
            "_view_module": "@jupyter-widgets/base",
            "overflow": null,
            "_model_module_version": "1.2.0",
            "_view_count": null,
            "flex_flow": null,
            "width": null,
            "min_width": null,
            "border": null,
            "align_items": null,
            "bottom": null,
            "_model_module": "@jupyter-widgets/base",
            "top": null,
            "grid_column": null,
            "overflow_y": null,
            "overflow_x": null,
            "grid_auto_flow": null,
            "grid_area": null,
            "grid_template_columns": null,
            "flex": null,
            "_model_name": "LayoutModel",
            "justify_items": null,
            "grid_row": null,
            "max_height": null,
            "align_content": null,
            "visibility": null,
            "align_self": null,
            "height": null,
            "min_height": null,
            "padding": null,
            "grid_auto_rows": null,
            "grid_gap": null,
            "max_width": null,
            "order": null,
            "_view_module_version": "1.2.0",
            "grid_template_areas": null,
            "object_position": null,
            "object_fit": null,
            "grid_auto_columns": null,
            "margin": null,
            "display": null,
            "left": null
          }
        },
        "dee26eaf635c47df9cb18af47ebb5b91": {
          "model_module": "@jupyter-widgets/controls",
          "model_name": "ProgressStyleModel",
          "model_module_version": "1.5.0",
          "state": {
            "_view_name": "StyleView",
            "_model_name": "ProgressStyleModel",
            "description_width": "",
            "_view_module": "@jupyter-widgets/base",
            "_model_module_version": "1.5.0",
            "_view_count": null,
            "_view_module_version": "1.2.0",
            "bar_color": null,
            "_model_module": "@jupyter-widgets/controls"
          }
        },
        "3c8038fcb6124ad1aa840de272f022fa": {
          "model_module": "@jupyter-widgets/base",
          "model_name": "LayoutModel",
          "model_module_version": "1.2.0",
          "state": {
            "_view_name": "LayoutView",
            "grid_template_rows": null,
            "right": null,
            "justify_content": null,
            "_view_module": "@jupyter-widgets/base",
            "overflow": null,
            "_model_module_version": "1.2.0",
            "_view_count": null,
            "flex_flow": null,
            "width": null,
            "min_width": null,
            "border": null,
            "align_items": null,
            "bottom": null,
            "_model_module": "@jupyter-widgets/base",
            "top": null,
            "grid_column": null,
            "overflow_y": null,
            "overflow_x": null,
            "grid_auto_flow": null,
            "grid_area": null,
            "grid_template_columns": null,
            "flex": null,
            "_model_name": "LayoutModel",
            "justify_items": null,
            "grid_row": null,
            "max_height": null,
            "align_content": null,
            "visibility": null,
            "align_self": null,
            "height": null,
            "min_height": null,
            "padding": null,
            "grid_auto_rows": null,
            "grid_gap": null,
            "max_width": null,
            "order": null,
            "_view_module_version": "1.2.0",
            "grid_template_areas": null,
            "object_position": null,
            "object_fit": null,
            "grid_auto_columns": null,
            "margin": null,
            "display": null,
            "left": null
          }
        },
        "7efd70ebd00549ee943a192601f2e4e9": {
          "model_module": "@jupyter-widgets/controls",
          "model_name": "DescriptionStyleModel",
          "model_module_version": "1.5.0",
          "state": {
            "_view_name": "StyleView",
            "_model_name": "DescriptionStyleModel",
            "description_width": "",
            "_view_module": "@jupyter-widgets/base",
            "_model_module_version": "1.5.0",
            "_view_count": null,
            "_view_module_version": "1.2.0",
            "_model_module": "@jupyter-widgets/controls"
          }
        },
        "650fe86313134177b4bb344a7131faf5": {
          "model_module": "@jupyter-widgets/base",
          "model_name": "LayoutModel",
          "model_module_version": "1.2.0",
          "state": {
            "_view_name": "LayoutView",
            "grid_template_rows": null,
            "right": null,
            "justify_content": null,
            "_view_module": "@jupyter-widgets/base",
            "overflow": null,
            "_model_module_version": "1.2.0",
            "_view_count": null,
            "flex_flow": null,
            "width": null,
            "min_width": null,
            "border": null,
            "align_items": null,
            "bottom": null,
            "_model_module": "@jupyter-widgets/base",
            "top": null,
            "grid_column": null,
            "overflow_y": null,
            "overflow_x": null,
            "grid_auto_flow": null,
            "grid_area": null,
            "grid_template_columns": null,
            "flex": null,
            "_model_name": "LayoutModel",
            "justify_items": null,
            "grid_row": null,
            "max_height": null,
            "align_content": null,
            "visibility": null,
            "align_self": null,
            "height": null,
            "min_height": null,
            "padding": null,
            "grid_auto_rows": null,
            "grid_gap": null,
            "max_width": null,
            "order": null,
            "_view_module_version": "1.2.0",
            "grid_template_areas": null,
            "object_position": null,
            "object_fit": null,
            "grid_auto_columns": null,
            "margin": null,
            "display": null,
            "left": null
          }
        }
      }
    }
  },
  "cells": [
    {
      "cell_type": "markdown",
      "metadata": {
        "id": "view-in-github",
        "colab_type": "text"
      },
      "source": [
        "<a href=\"https://colab.research.google.com/github/hoky1227/Transformer_based-recommendation/blob/main/TransformRec_e_commerce.ipynb\" target=\"_parent\"><img src=\"https://colab.research.google.com/assets/colab-badge.svg\" alt=\"Open In Colab\"/></a>"
      ]
    },
    {
      "cell_type": "markdown",
      "metadata": {
        "id": "68LOVQEXs56Q"
      },
      "source": [
        "This is TransformRec sample code using e-commerce dataset. 9/10/2021."
      ]
    },
    {
      "cell_type": "markdown",
      "metadata": {
        "id": "_iEpn_8l-427"
      },
      "source": [
        "# Gdrive"
      ]
    },
    {
      "cell_type": "code",
      "metadata": {
        "id": "w-P0qGLuIUYS",
        "colab": {
          "base_uri": "https://localhost:8080/"
        },
        "outputId": "37fa7387-20c1-46fc-bad0-638aae2ba96a"
      },
      "source": [
        "from google.colab import drive\n",
        "\n",
        "drive.mount('/content/drive')\n",
        "\n",
        "path = '/content/drive/MyDrive/'"
      ],
      "execution_count": 1,
      "outputs": [
        {
          "output_type": "stream",
          "name": "stdout",
          "text": [
            "Mounted at /content/drive\n"
          ]
        }
      ]
    },
    {
      "cell_type": "markdown",
      "metadata": {
        "id": "vC8JTGR2_B6J"
      },
      "source": [
        "# Import Modules"
      ]
    },
    {
      "cell_type": "code",
      "metadata": {
        "id": "ROZHfsn0KSle"
      },
      "source": [
        "import numpy as np\n",
        "import pandas as pd\n",
        "\n",
        "from dateutil.parser import parse\n",
        "from tqdm import tqdm_notebook\n",
        "import tqdm\n",
        "\n",
        "import tensorflow_datasets as tfds\n",
        "import tensorflow as tf\n",
        "import re\n",
        "\n",
        "from gensim.models import Word2Vec\n",
        "import math\n",
        "\n",
        "import warnings \n",
        "\n",
        "warnings.filterwarnings('ignore')\n",
        "\n",
        "\n",
        "np.random.seed(2021)\n",
        "tf.random.set_seed(2021)"
      ],
      "execution_count": 2,
      "outputs": []
    },
    {
      "cell_type": "code",
      "metadata": {
        "colab": {
          "base_uri": "https://localhost:8080/"
        },
        "id": "7VWsBJdhPV1v",
        "outputId": "ec3a1182-c8b5-487e-d823-52e639e3d766"
      },
      "source": [
        "import dateutil\n",
        "import gensim\n",
        "\n",
        "print(np.__version__)\n",
        "print(pd.__version__)\n",
        "print(dateutil.__version__)\n",
        "print(tfds.__version__)\n",
        "print(tf.__version__)\n",
        "print(gensim.__version__)"
      ],
      "execution_count": 3,
      "outputs": [
        {
          "output_type": "stream",
          "name": "stdout",
          "text": [
            "1.19.5\n",
            "1.1.5\n",
            "2.8.2\n",
            "4.0.1\n",
            "2.6.0\n",
            "3.6.0\n"
          ]
        }
      ]
    },
    {
      "cell_type": "markdown",
      "metadata": {
        "id": "A8nWdUml_KqT"
      },
      "source": [
        "# Data Preprocessing"
      ]
    },
    {
      "cell_type": "code",
      "metadata": {
        "colab": {
          "base_uri": "https://localhost:8080/",
          "height": 688
        },
        "id": "78WkSgbT6wuo",
        "outputId": "579d2f24-e662-4970-811c-a22402efcd72"
      },
      "source": [
        "df = pd.read_csv(\"/content/drive/MyDrive/2017online retail.csv\")\n",
        "print(len(df))\n",
        "display(df.describe())\n",
        "print(df.isnull().sum())\n",
        "df.dropna(inplace=True)\n",
        "print(df.duplicated().sum())\n",
        "df.drop_duplicates(inplace=True)\n",
        "print(len(df))\n",
        "df.head()"
      ],
      "execution_count": 4,
      "outputs": [
        {
          "output_type": "stream",
          "name": "stdout",
          "text": [
            "210367\n"
          ]
        },
        {
          "output_type": "display_data",
          "data": {
            "text/html": [
              "<div>\n",
              "<style scoped>\n",
              "    .dataframe tbody tr th:only-of-type {\n",
              "        vertical-align: middle;\n",
              "    }\n",
              "\n",
              "    .dataframe tbody tr th {\n",
              "        vertical-align: top;\n",
              "    }\n",
              "\n",
              "    .dataframe thead th {\n",
              "        text-align: right;\n",
              "    }\n",
              "</style>\n",
              "<table border=\"1\" class=\"dataframe\">\n",
              "  <thead>\n",
              "    <tr style=\"text-align: right;\">\n",
              "      <th></th>\n",
              "      <th>Customer</th>\n",
              "      <th>Amount</th>\n",
              "      <th>Price</th>\n",
              "    </tr>\n",
              "  </thead>\n",
              "  <tbody>\n",
              "    <tr>\n",
              "      <th>count</th>\n",
              "      <td>167397.000000</td>\n",
              "      <td>210367.000000</td>\n",
              "      <td>210367.000000</td>\n",
              "    </tr>\n",
              "    <tr>\n",
              "      <th>mean</th>\n",
              "      <td>35318.776119</td>\n",
              "      <td>10.650625</td>\n",
              "      <td>6.981082</td>\n",
              "    </tr>\n",
              "    <tr>\n",
              "      <th>std</th>\n",
              "      <td>1717.755324</td>\n",
              "      <td>121.362892</td>\n",
              "      <td>123.976776</td>\n",
              "    </tr>\n",
              "    <tr>\n",
              "      <th>min</th>\n",
              "      <td>15261.000000</td>\n",
              "      <td>-9200.000000</td>\n",
              "      <td>-3594.360000</td>\n",
              "    </tr>\n",
              "    <tr>\n",
              "      <th>25%</th>\n",
              "      <td>33971.000000</td>\n",
              "      <td>1.000000</td>\n",
              "      <td>1.250000</td>\n",
              "    </tr>\n",
              "    <tr>\n",
              "      <th>50%</th>\n",
              "      <td>35227.000000</td>\n",
              "      <td>3.000000</td>\n",
              "      <td>2.100000</td>\n",
              "    </tr>\n",
              "    <tr>\n",
              "      <th>75%</th>\n",
              "      <td>36798.000000</td>\n",
              "      <td>10.000000</td>\n",
              "      <td>4.250000</td>\n",
              "    </tr>\n",
              "    <tr>\n",
              "      <th>max</th>\n",
              "      <td>49001.000000</td>\n",
              "      <td>19152.000000</td>\n",
              "      <td>10953.500000</td>\n",
              "    </tr>\n",
              "  </tbody>\n",
              "</table>\n",
              "</div>"
            ],
            "text/plain": [
              "            Customer         Amount          Price\n",
              "count  167397.000000  210367.000000  210367.000000\n",
              "mean    35318.776119      10.650625       6.981082\n",
              "std      1717.755324     121.362892     123.976776\n",
              "min     15261.000000   -9200.000000   -3594.360000\n",
              "25%     33971.000000       1.000000       1.250000\n",
              "50%     35227.000000       3.000000       2.100000\n",
              "75%     36798.000000      10.000000       4.250000\n",
              "max     49001.000000   19152.000000   10953.500000"
            ]
          },
          "metadata": {}
        },
        {
          "output_type": "stream",
          "name": "stdout",
          "text": [
            "Customer       42970\n",
            "Payment Way        0\n",
            "Invoice            0\n",
            "ItemCode           0\n",
            "Detail          1745\n",
            "Date               0\n",
            "Amount             0\n",
            "Price              0\n",
            "dtype: int64\n",
            "1458\n",
            "165939\n"
          ]
        },
        {
          "output_type": "execute_result",
          "data": {
            "text/html": [
              "<div>\n",
              "<style scoped>\n",
              "    .dataframe tbody tr th:only-of-type {\n",
              "        vertical-align: middle;\n",
              "    }\n",
              "\n",
              "    .dataframe tbody tr th {\n",
              "        vertical-align: top;\n",
              "    }\n",
              "\n",
              "    .dataframe thead th {\n",
              "        text-align: right;\n",
              "    }\n",
              "</style>\n",
              "<table border=\"1\" class=\"dataframe\">\n",
              "  <thead>\n",
              "    <tr style=\"text-align: right;\">\n",
              "      <th></th>\n",
              "      <th>Customer</th>\n",
              "      <th>Payment Way</th>\n",
              "      <th>Invoice</th>\n",
              "      <th>ItemCode</th>\n",
              "      <th>Detail</th>\n",
              "      <th>Date</th>\n",
              "      <th>Amount</th>\n",
              "      <th>Price</th>\n",
              "    </tr>\n",
              "  </thead>\n",
              "  <tbody>\n",
              "    <tr>\n",
              "      <th>0</th>\n",
              "      <td>37593.0</td>\n",
              "      <td>Skrill</td>\n",
              "      <td>C514216</td>\n",
              "      <td>22406</td>\n",
              "      <td>MONEY BOX KINGS CHOICE DESIGN</td>\n",
              "      <td>2017/6/30 17:38</td>\n",
              "      <td>-1</td>\n",
              "      <td>1.25</td>\n",
              "    </tr>\n",
              "    <tr>\n",
              "      <th>1</th>\n",
              "      <td>37593.0</td>\n",
              "      <td>Skrill</td>\n",
              "      <td>C514216</td>\n",
              "      <td>22056</td>\n",
              "      <td>CERAMIC PLATE LOVE HEART DESIGN</td>\n",
              "      <td>2017/6/30 17:38</td>\n",
              "      <td>-1</td>\n",
              "      <td>1.49</td>\n",
              "    </tr>\n",
              "    <tr>\n",
              "      <th>2</th>\n",
              "      <td>37593.0</td>\n",
              "      <td>Skrill</td>\n",
              "      <td>C514216</td>\n",
              "      <td>21844</td>\n",
              "      <td>RED RETROSPOT MUG</td>\n",
              "      <td>2017/6/30 17:38</td>\n",
              "      <td>-1</td>\n",
              "      <td>2.95</td>\n",
              "    </tr>\n",
              "    <tr>\n",
              "      <th>3</th>\n",
              "      <td>37593.0</td>\n",
              "      <td>Skrill</td>\n",
              "      <td>C514216</td>\n",
              "      <td>22073</td>\n",
              "      <td>RED RETROSPOT STORAGE JAR</td>\n",
              "      <td>2017/6/30 17:38</td>\n",
              "      <td>-1</td>\n",
              "      <td>3.75</td>\n",
              "    </tr>\n",
              "    <tr>\n",
              "      <th>4</th>\n",
              "      <td>37593.0</td>\n",
              "      <td>Credit</td>\n",
              "      <td>C514216</td>\n",
              "      <td>22059</td>\n",
              "      <td>CERAMIC STRWBERRY DESIGN MUG</td>\n",
              "      <td>2017/6/30 17:38</td>\n",
              "      <td>-2</td>\n",
              "      <td>1.49</td>\n",
              "    </tr>\n",
              "  </tbody>\n",
              "</table>\n",
              "</div>"
            ],
            "text/plain": [
              "   Customer Payment Way  Invoice  ...             Date Amount Price\n",
              "0   37593.0      Skrill  C514216  ...  2017/6/30 17:38     -1  1.25\n",
              "1   37593.0      Skrill  C514216  ...  2017/6/30 17:38     -1  1.49\n",
              "2   37593.0      Skrill  C514216  ...  2017/6/30 17:38     -1  2.95\n",
              "3   37593.0      Skrill  C514216  ...  2017/6/30 17:38     -1  3.75\n",
              "4   37593.0      Credit  C514216  ...  2017/6/30 17:38     -2  1.49\n",
              "\n",
              "[5 rows x 8 columns]"
            ]
          },
          "metadata": {},
          "execution_count": 4
        }
      ]
    },
    {
      "cell_type": "code",
      "metadata": {
        "colab": {
          "base_uri": "https://localhost:8080/"
        },
        "id": "bCh09Vaq9Z8m",
        "outputId": "500dfbcf-baa1-4f41-d013-f27de65b6082"
      },
      "source": [
        "print(len(df['Customer'].unique()))\n",
        "print(len(df['Invoice'].unique()))\n",
        "print(len(df['Detail'].unique()))"
      ],
      "execution_count": 5,
      "outputs": [
        {
          "output_type": "stream",
          "name": "stdout",
          "text": [
            "2919\n",
            "9656\n",
            "3549\n"
          ]
        }
      ]
    },
    {
      "cell_type": "code",
      "metadata": {
        "colab": {
          "base_uri": "https://localhost:8080/",
          "height": 204
        },
        "id": "q4_5za65MV4s",
        "outputId": "c9d61ecb-e0bb-41aa-ed89-a04de7cd4942"
      },
      "source": [
        "df.drop(['Payment Way', 'Date'],axis=1, inplace=True)\n",
        "df.head()"
      ],
      "execution_count": 6,
      "outputs": [
        {
          "output_type": "execute_result",
          "data": {
            "text/html": [
              "<div>\n",
              "<style scoped>\n",
              "    .dataframe tbody tr th:only-of-type {\n",
              "        vertical-align: middle;\n",
              "    }\n",
              "\n",
              "    .dataframe tbody tr th {\n",
              "        vertical-align: top;\n",
              "    }\n",
              "\n",
              "    .dataframe thead th {\n",
              "        text-align: right;\n",
              "    }\n",
              "</style>\n",
              "<table border=\"1\" class=\"dataframe\">\n",
              "  <thead>\n",
              "    <tr style=\"text-align: right;\">\n",
              "      <th></th>\n",
              "      <th>Customer</th>\n",
              "      <th>Invoice</th>\n",
              "      <th>ItemCode</th>\n",
              "      <th>Detail</th>\n",
              "      <th>Amount</th>\n",
              "      <th>Price</th>\n",
              "    </tr>\n",
              "  </thead>\n",
              "  <tbody>\n",
              "    <tr>\n",
              "      <th>0</th>\n",
              "      <td>37593.0</td>\n",
              "      <td>C514216</td>\n",
              "      <td>22406</td>\n",
              "      <td>MONEY BOX KINGS CHOICE DESIGN</td>\n",
              "      <td>-1</td>\n",
              "      <td>1.25</td>\n",
              "    </tr>\n",
              "    <tr>\n",
              "      <th>1</th>\n",
              "      <td>37593.0</td>\n",
              "      <td>C514216</td>\n",
              "      <td>22056</td>\n",
              "      <td>CERAMIC PLATE LOVE HEART DESIGN</td>\n",
              "      <td>-1</td>\n",
              "      <td>1.49</td>\n",
              "    </tr>\n",
              "    <tr>\n",
              "      <th>2</th>\n",
              "      <td>37593.0</td>\n",
              "      <td>C514216</td>\n",
              "      <td>21844</td>\n",
              "      <td>RED RETROSPOT MUG</td>\n",
              "      <td>-1</td>\n",
              "      <td>2.95</td>\n",
              "    </tr>\n",
              "    <tr>\n",
              "      <th>3</th>\n",
              "      <td>37593.0</td>\n",
              "      <td>C514216</td>\n",
              "      <td>22073</td>\n",
              "      <td>RED RETROSPOT STORAGE JAR</td>\n",
              "      <td>-1</td>\n",
              "      <td>3.75</td>\n",
              "    </tr>\n",
              "    <tr>\n",
              "      <th>4</th>\n",
              "      <td>37593.0</td>\n",
              "      <td>C514216</td>\n",
              "      <td>22059</td>\n",
              "      <td>CERAMIC STRWBERRY DESIGN MUG</td>\n",
              "      <td>-2</td>\n",
              "      <td>1.49</td>\n",
              "    </tr>\n",
              "  </tbody>\n",
              "</table>\n",
              "</div>"
            ],
            "text/plain": [
              "   Customer  Invoice ItemCode                           Detail  Amount  Price\n",
              "0   37593.0  C514216    22406    MONEY BOX KINGS CHOICE DESIGN      -1   1.25\n",
              "1   37593.0  C514216    22056  CERAMIC PLATE LOVE HEART DESIGN      -1   1.49\n",
              "2   37593.0  C514216    21844                RED RETROSPOT MUG      -1   2.95\n",
              "3   37593.0  C514216    22073        RED RETROSPOT STORAGE JAR      -1   3.75\n",
              "4   37593.0  C514216    22059     CERAMIC STRWBERRY DESIGN MUG      -2   1.49"
            ]
          },
          "metadata": {},
          "execution_count": 6
        }
      ]
    },
    {
      "cell_type": "code",
      "metadata": {
        "colab": {
          "base_uri": "https://localhost:8080/"
        },
        "id": "kFxAY-vQOsOW",
        "outputId": "3f482782-f8dd-4dcd-df7c-2a05fc333ef0"
      },
      "source": [
        "def check():\n",
        "    df['Detail'] = df['Detail'].str.strip()\n",
        "    Detail = df['Detail'].unique()\n",
        "    for i in Detail:\n",
        "        if i.isupper() == False:\n",
        "            print(i)\n",
        "\n",
        "check()"
      ],
      "execution_count": 7,
      "outputs": [
        {
          "output_type": "stream",
          "name": "stdout",
          "text": [
            "Manual\n",
            "BAG 250g SWIRLY MARBLES\n",
            "Discount\n",
            "Adjustment by Peter on 24/05/2010 1\n",
            "BAG 125g SWIRLY MARBLES\n",
            "POLYESTER FILLER PAD 65CMx65CM\n",
            "Bank Charges\n",
            "POLYESTER FILLER PAD 40x40cm\n",
            "Adjustment by john on 26/01/2010 17\n",
            "Adjustment by john on 26/01/2010 16\n",
            "Adjust bad debt\n",
            "FOLK ART GREETING CARD,pack/12\n",
            "POLYESTER FILLER PAD 45x45cm\n",
            "Adjustment by Peter on Jun 25 2010\n",
            "ESSENTIAL BALM 3.5g TIN IN ENVELOPE\n",
            "SET Of 6 SOLDIER SKITTLES\n",
            "POLYESTER FILLER PAD 30CMx30CM\n",
            "THE KING GIFT BAG 25x24x12cm\n",
            "POLYESTER FILLER PAD 45x30cm\n",
            "This is a test product.\n",
            "POLYESTER FILLER PAD 60x40cm\n"
          ]
        }
      ]
    },
    {
      "cell_type": "code",
      "metadata": {
        "colab": {
          "base_uri": "https://localhost:8080/"
        },
        "id": "EDPSqZq18bAB",
        "outputId": "ba5345b5-41b5-48ba-ef66-4dac492147ac"
      },
      "source": [
        "def check10():\n",
        "    Detail = df['Detail'].unique()\n",
        "    for i in Detail:\n",
        "        if len(i) <= 10:\n",
        "            print(i)\n",
        "\n",
        "check10()"
      ],
      "execution_count": 8,
      "outputs": [
        {
          "output_type": "stream",
          "name": "stdout",
          "text": [
            "Manual\n",
            "POSTAGE\n",
            "Discount\n",
            "CARRIAGE\n",
            "SPOTS MUG\n",
            "PHOTO CUBE\n",
            "SOMBRERO\n",
            "BINGO SET\n",
            "SPACE OWL\n",
            "CAT BOWL\n",
            "SPACE FROG\n",
            "DAISY RING\n"
          ]
        }
      ]
    },
    {
      "cell_type": "code",
      "metadata": {
        "id": "IBoaGNXNR_28",
        "colab": {
          "base_uri": "https://localhost:8080/",
          "height": 297
        },
        "outputId": "37296a51-eb3a-45f2-b164-4d2b2716b479"
      },
      "source": [
        "idx = df[df['Amount'] <= 0.].index\n",
        "df.drop(idx, inplace=True)\n",
        "l = ['Manual', 'This is a test product.', 'Discount', 'Adjustment by Peter on 24/05/2010 1',\\\n",
        "     'Bank Charges', 'Adjustment by john on 26/01/2010 17',  'Adjustment by john on 26/01/2010 16', 'Adjust bad debt', 'Adjustment by Peter on Jun 25 2010', 'POSTAGE', 'CARRIAGE']\n",
        "for v in l:\n",
        "    idx2 = df[df['Detail'] == v].index\n",
        "    df.drop(idx2, inplace=True)\n",
        "idx3 = df[df['Price'] <= 0.].index\n",
        "df.drop(idx3, inplace=True)\n",
        "\n",
        "df.describe()"
      ],
      "execution_count": 9,
      "outputs": [
        {
          "output_type": "execute_result",
          "data": {
            "text/html": [
              "<div>\n",
              "<style scoped>\n",
              "    .dataframe tbody tr th:only-of-type {\n",
              "        vertical-align: middle;\n",
              "    }\n",
              "\n",
              "    .dataframe tbody tr th {\n",
              "        vertical-align: top;\n",
              "    }\n",
              "\n",
              "    .dataframe thead th {\n",
              "        text-align: right;\n",
              "    }\n",
              "</style>\n",
              "<table border=\"1\" class=\"dataframe\">\n",
              "  <thead>\n",
              "    <tr style=\"text-align: right;\">\n",
              "      <th></th>\n",
              "      <th>Customer</th>\n",
              "      <th>Amount</th>\n",
              "      <th>Price</th>\n",
              "    </tr>\n",
              "  </thead>\n",
              "  <tbody>\n",
              "    <tr>\n",
              "      <th>count</th>\n",
              "      <td>161040.000000</td>\n",
              "      <td>161040.000000</td>\n",
              "      <td>161040.000000</td>\n",
              "    </tr>\n",
              "    <tr>\n",
              "      <th>mean</th>\n",
              "      <td>35334.207570</td>\n",
              "      <td>14.045293</td>\n",
              "      <td>3.051039</td>\n",
              "    </tr>\n",
              "    <tr>\n",
              "      <th>std</th>\n",
              "      <td>1673.922109</td>\n",
              "      <td>123.241911</td>\n",
              "      <td>3.435328</td>\n",
              "    </tr>\n",
              "    <tr>\n",
              "      <th>min</th>\n",
              "      <td>32346.000000</td>\n",
              "      <td>1.000000</td>\n",
              "      <td>0.001000</td>\n",
              "    </tr>\n",
              "    <tr>\n",
              "      <th>25%</th>\n",
              "      <td>33976.000000</td>\n",
              "      <td>2.000000</td>\n",
              "      <td>1.250000</td>\n",
              "    </tr>\n",
              "    <tr>\n",
              "      <th>50%</th>\n",
              "      <td>35248.000000</td>\n",
              "      <td>5.000000</td>\n",
              "      <td>1.950000</td>\n",
              "    </tr>\n",
              "    <tr>\n",
              "      <th>75%</th>\n",
              "      <td>36805.000000</td>\n",
              "      <td>12.000000</td>\n",
              "      <td>3.750000</td>\n",
              "    </tr>\n",
              "    <tr>\n",
              "      <th>max</th>\n",
              "      <td>38287.000000</td>\n",
              "      <td>19152.000000</td>\n",
              "      <td>125.000000</td>\n",
              "    </tr>\n",
              "  </tbody>\n",
              "</table>\n",
              "</div>"
            ],
            "text/plain": [
              "            Customer         Amount          Price\n",
              "count  161040.000000  161040.000000  161040.000000\n",
              "mean    35334.207570      14.045293       3.051039\n",
              "std      1673.922109     123.241911       3.435328\n",
              "min     32346.000000       1.000000       0.001000\n",
              "25%     33976.000000       2.000000       1.250000\n",
              "50%     35248.000000       5.000000       1.950000\n",
              "75%     36805.000000      12.000000       3.750000\n",
              "max     38287.000000   19152.000000     125.000000"
            ]
          },
          "metadata": {},
          "execution_count": 9
        }
      ]
    },
    {
      "cell_type": "code",
      "metadata": {
        "colab": {
          "base_uri": "https://localhost:8080/"
        },
        "id": "3xpKsdVO8Y0_",
        "outputId": "a05aa20a-8146-4304-cd08-05651574cd91"
      },
      "source": [
        "check()"
      ],
      "execution_count": 10,
      "outputs": [
        {
          "output_type": "stream",
          "name": "stdout",
          "text": [
            "BAG 250g SWIRLY MARBLES\n",
            "FOLK ART GREETING CARD,pack/12\n",
            "POLYESTER FILLER PAD 45x45cm\n",
            "POLYESTER FILLER PAD 40x40cm\n",
            "BAG 125g SWIRLY MARBLES\n",
            "POLYESTER FILLER PAD 65CMx65CM\n",
            "ESSENTIAL BALM 3.5g TIN IN ENVELOPE\n",
            "SET Of 6 SOLDIER SKITTLES\n",
            "POLYESTER FILLER PAD 30CMx30CM\n",
            "THE KING GIFT BAG 25x24x12cm\n",
            "POLYESTER FILLER PAD 45x30cm\n",
            "POLYESTER FILLER PAD 60x40cm\n"
          ]
        }
      ]
    },
    {
      "cell_type": "code",
      "metadata": {
        "colab": {
          "base_uri": "https://localhost:8080/"
        },
        "id": "-fM5iRu-TU8X",
        "outputId": "76470798-a587-40cf-93c7-01903b332ead"
      },
      "source": [
        "check10()"
      ],
      "execution_count": 11,
      "outputs": [
        {
          "output_type": "stream",
          "name": "stdout",
          "text": [
            "PHOTO CUBE\n",
            "SOMBRERO\n",
            "BINGO SET\n",
            "SPACE OWL\n",
            "CAT BOWL\n",
            "SPOTS MUG\n",
            "SPACE FROG\n",
            "DAISY RING\n"
          ]
        }
      ]
    },
    {
      "cell_type": "code",
      "metadata": {
        "colab": {
          "base_uri": "https://localhost:8080/",
          "height": 204
        },
        "id": "jvh9tcK2U6s6",
        "outputId": "4afa9a7d-b4aa-46d0-93e4-b7513571db57"
      },
      "source": [
        "df.drop(['Amount', 'Price', 'ItemCode'],axis=1, inplace=True)\n",
        "df.head()"
      ],
      "execution_count": 12,
      "outputs": [
        {
          "output_type": "execute_result",
          "data": {
            "text/html": [
              "<div>\n",
              "<style scoped>\n",
              "    .dataframe tbody tr th:only-of-type {\n",
              "        vertical-align: middle;\n",
              "    }\n",
              "\n",
              "    .dataframe tbody tr th {\n",
              "        vertical-align: top;\n",
              "    }\n",
              "\n",
              "    .dataframe thead th {\n",
              "        text-align: right;\n",
              "    }\n",
              "</style>\n",
              "<table border=\"1\" class=\"dataframe\">\n",
              "  <thead>\n",
              "    <tr style=\"text-align: right;\">\n",
              "      <th></th>\n",
              "      <th>Customer</th>\n",
              "      <th>Invoice</th>\n",
              "      <th>Detail</th>\n",
              "    </tr>\n",
              "  </thead>\n",
              "  <tbody>\n",
              "    <tr>\n",
              "      <th>4492</th>\n",
              "      <td>34882.0</td>\n",
              "      <td>264212</td>\n",
              "      <td>COLOUR GLASS T-LIGHT HOLDER HANGING</td>\n",
              "    </tr>\n",
              "    <tr>\n",
              "      <th>4493</th>\n",
              "      <td>34882.0</td>\n",
              "      <td>264212</td>\n",
              "      <td>PORCELAIN HANGING BELL SMALL</td>\n",
              "    </tr>\n",
              "    <tr>\n",
              "      <th>4494</th>\n",
              "      <td>34882.0</td>\n",
              "      <td>264212</td>\n",
              "      <td>NATURAL SLATE HEART CHALKBOARD</td>\n",
              "    </tr>\n",
              "    <tr>\n",
              "      <th>4496</th>\n",
              "      <td>34882.0</td>\n",
              "      <td>264212</td>\n",
              "      <td>PORCELAIN HANGING BELL LARGE</td>\n",
              "    </tr>\n",
              "    <tr>\n",
              "      <th>4497</th>\n",
              "      <td>34882.0</td>\n",
              "      <td>264212</td>\n",
              "      <td>ENAMEL WATERING CAN CREAM</td>\n",
              "    </tr>\n",
              "  </tbody>\n",
              "</table>\n",
              "</div>"
            ],
            "text/plain": [
              "      Customer Invoice                               Detail\n",
              "4492   34882.0  264212  COLOUR GLASS T-LIGHT HOLDER HANGING\n",
              "4493   34882.0  264212         PORCELAIN HANGING BELL SMALL\n",
              "4494   34882.0  264212       NATURAL SLATE HEART CHALKBOARD\n",
              "4496   34882.0  264212         PORCELAIN HANGING BELL LARGE\n",
              "4497   34882.0  264212            ENAMEL WATERING CAN CREAM"
            ]
          },
          "metadata": {},
          "execution_count": 12
        }
      ]
    },
    {
      "cell_type": "code",
      "metadata": {
        "id": "lvwA7pNiNVfI"
      },
      "source": [
        "detail = df['Detail'].unique()"
      ],
      "execution_count": 13,
      "outputs": []
    },
    {
      "cell_type": "code",
      "metadata": {
        "id": "key1uIRL8lWm"
      },
      "source": [
        "def sortdf(data, column):\n",
        "    data.sort_values(column, inplace=True)\n",
        "    data.reset_index(inplace=True)\n",
        "    data.pop('index')\n",
        "    return data"
      ],
      "execution_count": 14,
      "outputs": []
    },
    {
      "cell_type": "code",
      "metadata": {
        "colab": {
          "base_uri": "https://localhost:8080/"
        },
        "id": "1SicHe2qDpdN",
        "outputId": "781fe29b-93f2-4c98-fb1b-a1270e52325a"
      },
      "source": [
        "df['Detail'].value_counts()"
      ],
      "execution_count": 15,
      "outputs": [
        {
          "output_type": "execute_result",
          "data": {
            "text/plain": [
              "WHITE HANGING HEART T-LIGHT HOLDER    1385\n",
              "PACK OF 72 RETRO SPOT CAKE CASES       693\n",
              "DOOR MAT UNION FLAG                    632\n",
              "LUNCH BAG RED SPOTTY                   602\n",
              "REGENCY CAKESTAND 3 TIER               594\n",
              "                                      ... \n",
              "RED   ACRYLIC FACETED BANGLE             1\n",
              "ASSORTED TUTTI FRUTTI KEYRING            1\n",
              "RED STONE/CRYSTAL EARRINGS               1\n",
              "BAROQUE BUTTERFLY EARRINGS CRYSTAL       1\n",
              "AMBER BERTIE MOBILE PHONE CHARM          1\n",
              "Name: Detail, Length: 3485, dtype: int64"
            ]
          },
          "metadata": {},
          "execution_count": 15
        }
      ]
    },
    {
      "cell_type": "code",
      "metadata": {
        "id": "TpuvSA2YAyuz",
        "colab": {
          "base_uri": "https://localhost:8080/"
        },
        "outputId": "6b09aca4-2965-43b6-c15a-852ed2219a9b"
      },
      "source": [
        "len(df)"
      ],
      "execution_count": 16,
      "outputs": [
        {
          "output_type": "execute_result",
          "data": {
            "text/plain": [
              "161040"
            ]
          },
          "metadata": {},
          "execution_count": 16
        }
      ]
    },
    {
      "cell_type": "code",
      "metadata": {
        "colab": {
          "base_uri": "https://localhost:8080/"
        },
        "id": "Gq58cXalAV7m",
        "outputId": "50143a53-cbba-4199-be9a-a7740a6feb73"
      },
      "source": [
        "df['Detail'].value_counts().describe()"
      ],
      "execution_count": 17,
      "outputs": [
        {
          "output_type": "execute_result",
          "data": {
            "text/plain": [
              "count    3485.000000\n",
              "mean       46.209469\n",
              "std        74.823246\n",
              "min         1.000000\n",
              "25%         5.000000\n",
              "50%        17.000000\n",
              "75%        56.000000\n",
              "max      1385.000000\n",
              "Name: Detail, dtype: float64"
            ]
          },
          "metadata": {},
          "execution_count": 17
        }
      ]
    },
    {
      "cell_type": "code",
      "metadata": {
        "colab": {
          "base_uri": "https://localhost:8080/"
        },
        "id": "mwrev3Y-CbjG",
        "outputId": "816c754d-ef37-4c36-a689-6d0e841bd718"
      },
      "source": [
        "df['Detail'].value_counts()[:10].index.to_list()"
      ],
      "execution_count": 18,
      "outputs": [
        {
          "output_type": "execute_result",
          "data": {
            "text/plain": [
              "['WHITE HANGING HEART T-LIGHT HOLDER',\n",
              " 'PACK OF 72 RETRO SPOT CAKE CASES',\n",
              " 'DOOR MAT UNION FLAG',\n",
              " 'LUNCH BAG RED SPOTTY',\n",
              " 'REGENCY CAKESTAND 3 TIER',\n",
              " 'STRAWBERRY CERAMIC TRINKET BOX',\n",
              " 'HOME BUILDING BLOCK WORD',\n",
              " '60 TEATIME FAIRY CAKE CASES',\n",
              " 'ASSORTED COLOUR BIRD ORNAMENT',\n",
              " 'SET/20 RED SPOTTY PAPER NAPKINS']"
            ]
          },
          "metadata": {},
          "execution_count": 18
        }
      ]
    },
    {
      "cell_type": "markdown",
      "metadata": {
        "id": "GAllqZizDFWQ"
      },
      "source": [
        "## Invoice based history"
      ]
    },
    {
      "cell_type": "code",
      "metadata": {
        "colab": {
          "base_uri": "https://localhost:8080/",
          "height": 204
        },
        "id": "pb6EdT8KXad-",
        "outputId": "625b2765-c41e-4817-fece-41a9d9e1d88c"
      },
      "source": [
        "df_invoice = df.copy()\n",
        "df_invoice['Invoice'] = df_invoice['Invoice'].apply(lambda x: str(x))\n",
        "sortdf(df_invoice, ['Invoice'])\n",
        "df_invoice.head()"
      ],
      "execution_count": 19,
      "outputs": [
        {
          "output_type": "execute_result",
          "data": {
            "text/html": [
              "<div>\n",
              "<style scoped>\n",
              "    .dataframe tbody tr th:only-of-type {\n",
              "        vertical-align: middle;\n",
              "    }\n",
              "\n",
              "    .dataframe tbody tr th {\n",
              "        vertical-align: top;\n",
              "    }\n",
              "\n",
              "    .dataframe thead th {\n",
              "        text-align: right;\n",
              "    }\n",
              "</style>\n",
              "<table border=\"1\" class=\"dataframe\">\n",
              "  <thead>\n",
              "    <tr style=\"text-align: right;\">\n",
              "      <th></th>\n",
              "      <th>Customer</th>\n",
              "      <th>Invoice</th>\n",
              "      <th>Detail</th>\n",
              "    </tr>\n",
              "  </thead>\n",
              "  <tbody>\n",
              "    <tr>\n",
              "      <th>0</th>\n",
              "      <td>34590.0</td>\n",
              "      <td>243414</td>\n",
              "      <td>HAND OPEN SHAPE GOLD</td>\n",
              "    </tr>\n",
              "    <tr>\n",
              "      <th>1</th>\n",
              "      <td>34590.0</td>\n",
              "      <td>243414</td>\n",
              "      <td>RETRO SPOT MUG</td>\n",
              "    </tr>\n",
              "    <tr>\n",
              "      <th>2</th>\n",
              "      <td>34590.0</td>\n",
              "      <td>243414</td>\n",
              "      <td>RETRO SPOT SUGAR JAM BOWL</td>\n",
              "    </tr>\n",
              "    <tr>\n",
              "      <th>3</th>\n",
              "      <td>34590.0</td>\n",
              "      <td>243414</td>\n",
              "      <td>NEW ENGLAND CERAMIC CAKE SERVER</td>\n",
              "    </tr>\n",
              "    <tr>\n",
              "      <th>4</th>\n",
              "      <td>34590.0</td>\n",
              "      <td>243414</td>\n",
              "      <td>RETRO SPOT TRADITIONAL TEAPOT</td>\n",
              "    </tr>\n",
              "  </tbody>\n",
              "</table>\n",
              "</div>"
            ],
            "text/plain": [
              "   Customer Invoice                           Detail\n",
              "0   34590.0  243414             HAND OPEN SHAPE GOLD\n",
              "1   34590.0  243414                   RETRO SPOT MUG\n",
              "2   34590.0  243414        RETRO SPOT SUGAR JAM BOWL\n",
              "3   34590.0  243414  NEW ENGLAND CERAMIC CAKE SERVER\n",
              "4   34590.0  243414    RETRO SPOT TRADITIONAL TEAPOT"
            ]
          },
          "metadata": {},
          "execution_count": 19
        }
      ]
    },
    {
      "cell_type": "code",
      "metadata": {
        "colab": {
          "base_uri": "https://localhost:8080/"
        },
        "id": "e-9gEKBx8uHK",
        "outputId": "59b3bde5-2db8-4a9c-99c1-283c5b4857a8"
      },
      "source": [
        "Invoice = df_invoice['Invoice'].unique()\n",
        "Invoice = sorted(Invoice)\n",
        "len(Invoice)"
      ],
      "execution_count": 20,
      "outputs": [
        {
          "output_type": "execute_result",
          "data": {
            "text/plain": [
              "7557"
            ]
          },
          "metadata": {},
          "execution_count": 20
        }
      ]
    },
    {
      "cell_type": "code",
      "metadata": {
        "colab": {
          "base_uri": "https://localhost:8080/",
          "height": 436
        },
        "id": "8BO1CJZ--bEN",
        "outputId": "1476c9f6-a0dd-45bd-b4db-8e69f7f6e91f"
      },
      "source": [
        "df3 = pd.DataFrame(columns=['Invoice', 'Detail'])\n",
        "values = df_invoice['Invoice'].value_counts().index.sort_values()\n",
        "\n",
        "for i, v in enumerate(tqdm.tqdm(values)):\n",
        "    df3.loc[i] = (v, '&&'.join(df_invoice[df_invoice['Invoice'] == v]['Detail']))\n",
        "df3"
      ],
      "execution_count": 21,
      "outputs": [
        {
          "output_type": "stream",
          "name": "stderr",
          "text": [
            "100%|██████████| 7557/7557 [01:29<00:00, 84.03it/s]\n"
          ]
        },
        {
          "output_type": "execute_result",
          "data": {
            "text/html": [
              "<div>\n",
              "<style scoped>\n",
              "    .dataframe tbody tr th:only-of-type {\n",
              "        vertical-align: middle;\n",
              "    }\n",
              "\n",
              "    .dataframe tbody tr th {\n",
              "        vertical-align: top;\n",
              "    }\n",
              "\n",
              "    .dataframe thead th {\n",
              "        text-align: right;\n",
              "    }\n",
              "</style>\n",
              "<table border=\"1\" class=\"dataframe\">\n",
              "  <thead>\n",
              "    <tr style=\"text-align: right;\">\n",
              "      <th></th>\n",
              "      <th>Invoice</th>\n",
              "      <th>Detail</th>\n",
              "    </tr>\n",
              "  </thead>\n",
              "  <tbody>\n",
              "    <tr>\n",
              "      <th>0</th>\n",
              "      <td>243414</td>\n",
              "      <td>HAND OPEN SHAPE GOLD&amp;&amp;RETRO SPOT MUG&amp;&amp;RETRO SP...</td>\n",
              "    </tr>\n",
              "    <tr>\n",
              "      <th>1</th>\n",
              "      <td>243427</td>\n",
              "      <td>MOROCCAN TEA GLASS&amp;&amp;BLACK FLOWER CANDLE PLATE&amp;...</td>\n",
              "    </tr>\n",
              "    <tr>\n",
              "      <th>2</th>\n",
              "      <td>243428</td>\n",
              "      <td>LUNCHBOX WITH CUTLERY FAIRY CAKES&amp;&amp;STRAWBERRY ...</td>\n",
              "    </tr>\n",
              "    <tr>\n",
              "      <th>3</th>\n",
              "      <td>243432</td>\n",
              "      <td>RED WOOLLY HOTTIE WHITE HEART.&amp;&amp;CERAMIC CAKE D...</td>\n",
              "    </tr>\n",
              "    <tr>\n",
              "      <th>4</th>\n",
              "      <td>243433</td>\n",
              "      <td>STRAWBERRY CERAMIC TRINKET BOX&amp;&amp;JUMBO  BAG BAR...</td>\n",
              "    </tr>\n",
              "    <tr>\n",
              "      <th>...</th>\n",
              "      <td>...</td>\n",
              "      <td>...</td>\n",
              "    </tr>\n",
              "    <tr>\n",
              "      <th>7552</th>\n",
              "      <td>264208</td>\n",
              "      <td>ASSORTED COLOUR BIRD ORNAMENT&amp;&amp;VICTORIAN GLASS...</td>\n",
              "    </tr>\n",
              "    <tr>\n",
              "      <th>7553</th>\n",
              "      <td>264209</td>\n",
              "      <td>PACK OF 60 PINK PAISLEY CAKE CASES&amp;&amp;WASHROOM M...</td>\n",
              "    </tr>\n",
              "    <tr>\n",
              "      <th>7554</th>\n",
              "      <td>264210</td>\n",
              "      <td>GLASS JAR DIGESTIVE BISCUITS&amp;&amp;BLUE STRIPE CERA...</td>\n",
              "    </tr>\n",
              "    <tr>\n",
              "      <th>7555</th>\n",
              "      <td>264211</td>\n",
              "      <td>PICNIC BASKET WICKER SMALL&amp;&amp;NATURAL SLATE HEAR...</td>\n",
              "    </tr>\n",
              "    <tr>\n",
              "      <th>7556</th>\n",
              "      <td>264212</td>\n",
              "      <td>UNION STRIPE WITH FRINGE  HAMMOCK&amp;&amp;RED/CREAM S...</td>\n",
              "    </tr>\n",
              "  </tbody>\n",
              "</table>\n",
              "<p>7557 rows × 2 columns</p>\n",
              "</div>"
            ],
            "text/plain": [
              "     Invoice                                             Detail\n",
              "0     243414  HAND OPEN SHAPE GOLD&&RETRO SPOT MUG&&RETRO SP...\n",
              "1     243427  MOROCCAN TEA GLASS&&BLACK FLOWER CANDLE PLATE&...\n",
              "2     243428  LUNCHBOX WITH CUTLERY FAIRY CAKES&&STRAWBERRY ...\n",
              "3     243432  RED WOOLLY HOTTIE WHITE HEART.&&CERAMIC CAKE D...\n",
              "4     243433  STRAWBERRY CERAMIC TRINKET BOX&&JUMBO  BAG BAR...\n",
              "...      ...                                                ...\n",
              "7552  264208  ASSORTED COLOUR BIRD ORNAMENT&&VICTORIAN GLASS...\n",
              "7553  264209  PACK OF 60 PINK PAISLEY CAKE CASES&&WASHROOM M...\n",
              "7554  264210  GLASS JAR DIGESTIVE BISCUITS&&BLUE STRIPE CERA...\n",
              "7555  264211  PICNIC BASKET WICKER SMALL&&NATURAL SLATE HEAR...\n",
              "7556  264212  UNION STRIPE WITH FRINGE  HAMMOCK&&RED/CREAM S...\n",
              "\n",
              "[7557 rows x 2 columns]"
            ]
          },
          "metadata": {},
          "execution_count": 21
        }
      ]
    },
    {
      "cell_type": "code",
      "metadata": {
        "colab": {
          "base_uri": "https://localhost:8080/",
          "height": 419
        },
        "id": "8yNXh2DBHsLE",
        "outputId": "7fc0e0b1-803f-4ef7-9b97-cfd1e9257e4f"
      },
      "source": [
        "df3.pop('Invoice')\n",
        "df3"
      ],
      "execution_count": 22,
      "outputs": [
        {
          "output_type": "execute_result",
          "data": {
            "text/html": [
              "<div>\n",
              "<style scoped>\n",
              "    .dataframe tbody tr th:only-of-type {\n",
              "        vertical-align: middle;\n",
              "    }\n",
              "\n",
              "    .dataframe tbody tr th {\n",
              "        vertical-align: top;\n",
              "    }\n",
              "\n",
              "    .dataframe thead th {\n",
              "        text-align: right;\n",
              "    }\n",
              "</style>\n",
              "<table border=\"1\" class=\"dataframe\">\n",
              "  <thead>\n",
              "    <tr style=\"text-align: right;\">\n",
              "      <th></th>\n",
              "      <th>Detail</th>\n",
              "    </tr>\n",
              "  </thead>\n",
              "  <tbody>\n",
              "    <tr>\n",
              "      <th>0</th>\n",
              "      <td>HAND OPEN SHAPE GOLD&amp;&amp;RETRO SPOT MUG&amp;&amp;RETRO SP...</td>\n",
              "    </tr>\n",
              "    <tr>\n",
              "      <th>1</th>\n",
              "      <td>MOROCCAN TEA GLASS&amp;&amp;BLACK FLOWER CANDLE PLATE&amp;...</td>\n",
              "    </tr>\n",
              "    <tr>\n",
              "      <th>2</th>\n",
              "      <td>LUNCHBOX WITH CUTLERY FAIRY CAKES&amp;&amp;STRAWBERRY ...</td>\n",
              "    </tr>\n",
              "    <tr>\n",
              "      <th>3</th>\n",
              "      <td>RED WOOLLY HOTTIE WHITE HEART.&amp;&amp;CERAMIC CAKE D...</td>\n",
              "    </tr>\n",
              "    <tr>\n",
              "      <th>4</th>\n",
              "      <td>STRAWBERRY CERAMIC TRINKET BOX&amp;&amp;JUMBO  BAG BAR...</td>\n",
              "    </tr>\n",
              "    <tr>\n",
              "      <th>...</th>\n",
              "      <td>...</td>\n",
              "    </tr>\n",
              "    <tr>\n",
              "      <th>7552</th>\n",
              "      <td>ASSORTED COLOUR BIRD ORNAMENT&amp;&amp;VICTORIAN GLASS...</td>\n",
              "    </tr>\n",
              "    <tr>\n",
              "      <th>7553</th>\n",
              "      <td>PACK OF 60 PINK PAISLEY CAKE CASES&amp;&amp;WASHROOM M...</td>\n",
              "    </tr>\n",
              "    <tr>\n",
              "      <th>7554</th>\n",
              "      <td>GLASS JAR DIGESTIVE BISCUITS&amp;&amp;BLUE STRIPE CERA...</td>\n",
              "    </tr>\n",
              "    <tr>\n",
              "      <th>7555</th>\n",
              "      <td>PICNIC BASKET WICKER SMALL&amp;&amp;NATURAL SLATE HEAR...</td>\n",
              "    </tr>\n",
              "    <tr>\n",
              "      <th>7556</th>\n",
              "      <td>UNION STRIPE WITH FRINGE  HAMMOCK&amp;&amp;RED/CREAM S...</td>\n",
              "    </tr>\n",
              "  </tbody>\n",
              "</table>\n",
              "<p>7557 rows × 1 columns</p>\n",
              "</div>"
            ],
            "text/plain": [
              "                                                 Detail\n",
              "0     HAND OPEN SHAPE GOLD&&RETRO SPOT MUG&&RETRO SP...\n",
              "1     MOROCCAN TEA GLASS&&BLACK FLOWER CANDLE PLATE&...\n",
              "2     LUNCHBOX WITH CUTLERY FAIRY CAKES&&STRAWBERRY ...\n",
              "3     RED WOOLLY HOTTIE WHITE HEART.&&CERAMIC CAKE D...\n",
              "4     STRAWBERRY CERAMIC TRINKET BOX&&JUMBO  BAG BAR...\n",
              "...                                                 ...\n",
              "7552  ASSORTED COLOUR BIRD ORNAMENT&&VICTORIAN GLASS...\n",
              "7553  PACK OF 60 PINK PAISLEY CAKE CASES&&WASHROOM M...\n",
              "7554  GLASS JAR DIGESTIVE BISCUITS&&BLUE STRIPE CERA...\n",
              "7555  PICNIC BASKET WICKER SMALL&&NATURAL SLATE HEAR...\n",
              "7556  UNION STRIPE WITH FRINGE  HAMMOCK&&RED/CREAM S...\n",
              "\n",
              "[7557 rows x 1 columns]"
            ]
          },
          "metadata": {},
          "execution_count": 22
        }
      ]
    },
    {
      "cell_type": "code",
      "metadata": {
        "id": "zVuQylRuupaR",
        "colab": {
          "base_uri": "https://localhost:8080/"
        },
        "outputId": "02dec2ff-8cfc-4c95-d7ef-f761787ec0ac"
      },
      "source": [
        "df_series = df3['Detail'].str.split('&&')\n",
        "df_series[0]"
      ],
      "execution_count": 23,
      "outputs": [
        {
          "output_type": "execute_result",
          "data": {
            "text/plain": [
              "['HAND OPEN SHAPE GOLD',\n",
              " 'RETRO SPOT MUG',\n",
              " 'RETRO SPOT SUGAR JAM BOWL',\n",
              " 'NEW ENGLAND CERAMIC CAKE SERVER',\n",
              " 'RETRO SPOT TRADITIONAL TEAPOT',\n",
              " 'RETRO SPOT LARGE MILK JUG']"
            ]
          },
          "metadata": {},
          "execution_count": 23
        }
      ]
    },
    {
      "cell_type": "code",
      "metadata": {
        "id": "GVCj9IZbHeZP"
      },
      "source": [
        "sequence_length = 5\n",
        "step_size = 2\n",
        "\n",
        "def create_sequences(values, window_size, step_size):\n",
        "    sequences = []\n",
        "    start_index = 0\n",
        "    while True:\n",
        "        end_index = start_index + window_size\n",
        "        seq = values[start_index:end_index]\n",
        "\n",
        "        if len(seq) < window_size:\n",
        "            seq = values[-window_size:]\n",
        "\n",
        "            if len(seq) == window_size:\n",
        "                sequences.append(seq)\n",
        "            break\n",
        "        sequences.append(seq)\n",
        "        start_index += step_size\n",
        "    return sequences"
      ],
      "execution_count": 24,
      "outputs": []
    },
    {
      "cell_type": "code",
      "metadata": {
        "colab": {
          "base_uri": "https://localhost:8080/"
        },
        "id": "uFwYfCTzHkwB",
        "outputId": "a5b6a6a1-b667-4a2a-e5fa-c291e7153cfb"
      },
      "source": [
        "for i, v in enumerate(df_series):\n",
        "    df_series[i] = create_sequences(v, sequence_length, step_size)\n",
        "df_series[0]"
      ],
      "execution_count": 25,
      "outputs": [
        {
          "output_type": "execute_result",
          "data": {
            "text/plain": [
              "[['HAND OPEN SHAPE GOLD',\n",
              "  'RETRO SPOT MUG',\n",
              "  'RETRO SPOT SUGAR JAM BOWL',\n",
              "  'NEW ENGLAND CERAMIC CAKE SERVER',\n",
              "  'RETRO SPOT TRADITIONAL TEAPOT'],\n",
              " ['RETRO SPOT MUG',\n",
              "  'RETRO SPOT SUGAR JAM BOWL',\n",
              "  'NEW ENGLAND CERAMIC CAKE SERVER',\n",
              "  'RETRO SPOT TRADITIONAL TEAPOT',\n",
              "  'RETRO SPOT LARGE MILK JUG']]"
            ]
          },
          "metadata": {},
          "execution_count": 25
        }
      ]
    },
    {
      "cell_type": "code",
      "metadata": {
        "colab": {
          "base_uri": "https://localhost:8080/"
        },
        "id": "qkiKgawkHmaN",
        "outputId": "017d0fb3-7e3e-4afa-f421-7d7fb7fd7ed8"
      },
      "source": [
        "df_list = []\n",
        "for v in df_series:\n",
        "    for value in v:\n",
        "        df_list.append(value)\n",
        "df_list[:2]"
      ],
      "execution_count": 26,
      "outputs": [
        {
          "output_type": "execute_result",
          "data": {
            "text/plain": [
              "[['HAND OPEN SHAPE GOLD',\n",
              "  'RETRO SPOT MUG',\n",
              "  'RETRO SPOT SUGAR JAM BOWL',\n",
              "  'NEW ENGLAND CERAMIC CAKE SERVER',\n",
              "  'RETRO SPOT TRADITIONAL TEAPOT'],\n",
              " ['RETRO SPOT MUG',\n",
              "  'RETRO SPOT SUGAR JAM BOWL',\n",
              "  'NEW ENGLAND CERAMIC CAKE SERVER',\n",
              "  'RETRO SPOT TRADITIONAL TEAPOT',\n",
              "  'RETRO SPOT LARGE MILK JUG']]"
            ]
          },
          "metadata": {},
          "execution_count": 26
        }
      ]
    },
    {
      "cell_type": "code",
      "metadata": {
        "colab": {
          "base_uri": "https://localhost:8080/"
        },
        "id": "oQHDMO92HzlT",
        "outputId": "e9a80d9a-d170-4c57-f323-1f66f3f93429"
      },
      "source": [
        "label_list = []\n",
        "\n",
        "for i in range(len(df_list)):\n",
        "    l = df_list[i][-1]\n",
        "    df_list[i].pop()\n",
        "    label_list.append(l)\n",
        "label_list[:2]"
      ],
      "execution_count": 27,
      "outputs": [
        {
          "output_type": "execute_result",
          "data": {
            "text/plain": [
              "['RETRO SPOT TRADITIONAL TEAPOT', 'RETRO SPOT LARGE MILK JUG']"
            ]
          },
          "metadata": {},
          "execution_count": 27
        }
      ]
    },
    {
      "cell_type": "code",
      "metadata": {
        "colab": {
          "base_uri": "https://localhost:8080/",
          "height": 419
        },
        "id": "vLJP8niaH1BR",
        "outputId": "3d1cf633-3c7a-4290-e579-226fd937ba9d"
      },
      "source": [
        "df_new = pd.DataFrame(columns=['Detail', 'label'])\n",
        "df_new['Detail'] = df_list\n",
        "df_new['label'] = label_list\n",
        "df_new"
      ],
      "execution_count": 28,
      "outputs": [
        {
          "output_type": "execute_result",
          "data": {
            "text/html": [
              "<div>\n",
              "<style scoped>\n",
              "    .dataframe tbody tr th:only-of-type {\n",
              "        vertical-align: middle;\n",
              "    }\n",
              "\n",
              "    .dataframe tbody tr th {\n",
              "        vertical-align: top;\n",
              "    }\n",
              "\n",
              "    .dataframe thead th {\n",
              "        text-align: right;\n",
              "    }\n",
              "</style>\n",
              "<table border=\"1\" class=\"dataframe\">\n",
              "  <thead>\n",
              "    <tr style=\"text-align: right;\">\n",
              "      <th></th>\n",
              "      <th>Detail</th>\n",
              "      <th>label</th>\n",
              "    </tr>\n",
              "  </thead>\n",
              "  <tbody>\n",
              "    <tr>\n",
              "      <th>0</th>\n",
              "      <td>[HAND OPEN SHAPE GOLD, RETRO SPOT MUG, RETRO S...</td>\n",
              "      <td>RETRO SPOT TRADITIONAL TEAPOT</td>\n",
              "    </tr>\n",
              "    <tr>\n",
              "      <th>1</th>\n",
              "      <td>[RETRO SPOT MUG, RETRO SPOT SUGAR JAM BOWL, NE...</td>\n",
              "      <td>RETRO SPOT LARGE MILK JUG</td>\n",
              "    </tr>\n",
              "    <tr>\n",
              "      <th>2</th>\n",
              "      <td>[MOROCCAN TEA GLASS, BLACK FLOWER CANDLE PLATE...</td>\n",
              "      <td>CERAMIC CAKE DESIGN SPOTTED PLATE</td>\n",
              "    </tr>\n",
              "    <tr>\n",
              "      <th>3</th>\n",
              "      <td>[BLACK SILOUETTE CANDLE PLATE, VICTORIAN GLASS...</td>\n",
              "      <td>SAVE THE PLANET COTTON TOTE BAG</td>\n",
              "    </tr>\n",
              "    <tr>\n",
              "      <th>4</th>\n",
              "      <td>[CERAMIC CAKE DESIGN SPOTTED PLATE, PINK CLEAR...</td>\n",
              "      <td>STRAWBERRY CERAMIC TRINKET BOX</td>\n",
              "    </tr>\n",
              "    <tr>\n",
              "      <th>...</th>\n",
              "      <td>...</td>\n",
              "      <td>...</td>\n",
              "    </tr>\n",
              "    <tr>\n",
              "      <th>74502</th>\n",
              "      <td>[UNION STRIPE WITH FRINGE  HAMMOCK, RED/CREAM ...</td>\n",
              "      <td>WHITE HANGING HEART T-LIGHT HOLDER</td>\n",
              "    </tr>\n",
              "    <tr>\n",
              "      <th>74503</th>\n",
              "      <td>[OCEAN STRIPE HAMMOCK, BLUE/CREAM STRIPE FRING...</td>\n",
              "      <td>ENAMEL WATERING CAN CREAM</td>\n",
              "    </tr>\n",
              "    <tr>\n",
              "      <th>74504</th>\n",
              "      <td>[WHITE HANGING HEART T-LIGHT HOLDER, BAG 250g ...</td>\n",
              "      <td>NATURAL SLATE HEART CHALKBOARD</td>\n",
              "    </tr>\n",
              "    <tr>\n",
              "      <th>74505</th>\n",
              "      <td>[ENAMEL WATERING CAN CREAM, PORCELAIN HANGING ...</td>\n",
              "      <td>COLOUR GLASS T-LIGHT HOLDER HANGING</td>\n",
              "    </tr>\n",
              "    <tr>\n",
              "      <th>74506</th>\n",
              "      <td>[ENAMEL WATERING CAN CREAM, PORCELAIN HANGING ...</td>\n",
              "      <td>COLOUR GLASS T-LIGHT HOLDER HANGING</td>\n",
              "    </tr>\n",
              "  </tbody>\n",
              "</table>\n",
              "<p>74507 rows × 2 columns</p>\n",
              "</div>"
            ],
            "text/plain": [
              "                                                  Detail                                label\n",
              "0      [HAND OPEN SHAPE GOLD, RETRO SPOT MUG, RETRO S...        RETRO SPOT TRADITIONAL TEAPOT\n",
              "1      [RETRO SPOT MUG, RETRO SPOT SUGAR JAM BOWL, NE...            RETRO SPOT LARGE MILK JUG\n",
              "2      [MOROCCAN TEA GLASS, BLACK FLOWER CANDLE PLATE...    CERAMIC CAKE DESIGN SPOTTED PLATE\n",
              "3      [BLACK SILOUETTE CANDLE PLATE, VICTORIAN GLASS...      SAVE THE PLANET COTTON TOTE BAG\n",
              "4      [CERAMIC CAKE DESIGN SPOTTED PLATE, PINK CLEAR...       STRAWBERRY CERAMIC TRINKET BOX\n",
              "...                                                  ...                                  ...\n",
              "74502  [UNION STRIPE WITH FRINGE  HAMMOCK, RED/CREAM ...   WHITE HANGING HEART T-LIGHT HOLDER\n",
              "74503  [OCEAN STRIPE HAMMOCK, BLUE/CREAM STRIPE FRING...            ENAMEL WATERING CAN CREAM\n",
              "74504  [WHITE HANGING HEART T-LIGHT HOLDER, BAG 250g ...       NATURAL SLATE HEART CHALKBOARD\n",
              "74505  [ENAMEL WATERING CAN CREAM, PORCELAIN HANGING ...  COLOUR GLASS T-LIGHT HOLDER HANGING\n",
              "74506  [ENAMEL WATERING CAN CREAM, PORCELAIN HANGING ...  COLOUR GLASS T-LIGHT HOLDER HANGING\n",
              "\n",
              "[74507 rows x 2 columns]"
            ]
          },
          "metadata": {},
          "execution_count": 28
        }
      ]
    },
    {
      "cell_type": "code",
      "metadata": {
        "colab": {
          "base_uri": "https://localhost:8080/",
          "height": 419
        },
        "id": "tKmSosAXH-EW",
        "outputId": "6359a82b-ed3f-4e97-b989-00c7daffe893"
      },
      "source": [
        "df_new['Detail'] = df_new['Detail'].apply(lambda x: '&&'.join(map(str, x)))\n",
        "df_new"
      ],
      "execution_count": 29,
      "outputs": [
        {
          "output_type": "execute_result",
          "data": {
            "text/html": [
              "<div>\n",
              "<style scoped>\n",
              "    .dataframe tbody tr th:only-of-type {\n",
              "        vertical-align: middle;\n",
              "    }\n",
              "\n",
              "    .dataframe tbody tr th {\n",
              "        vertical-align: top;\n",
              "    }\n",
              "\n",
              "    .dataframe thead th {\n",
              "        text-align: right;\n",
              "    }\n",
              "</style>\n",
              "<table border=\"1\" class=\"dataframe\">\n",
              "  <thead>\n",
              "    <tr style=\"text-align: right;\">\n",
              "      <th></th>\n",
              "      <th>Detail</th>\n",
              "      <th>label</th>\n",
              "    </tr>\n",
              "  </thead>\n",
              "  <tbody>\n",
              "    <tr>\n",
              "      <th>0</th>\n",
              "      <td>HAND OPEN SHAPE GOLD&amp;&amp;RETRO SPOT MUG&amp;&amp;RETRO SP...</td>\n",
              "      <td>RETRO SPOT TRADITIONAL TEAPOT</td>\n",
              "    </tr>\n",
              "    <tr>\n",
              "      <th>1</th>\n",
              "      <td>RETRO SPOT MUG&amp;&amp;RETRO SPOT SUGAR JAM BOWL&amp;&amp;NEW...</td>\n",
              "      <td>RETRO SPOT LARGE MILK JUG</td>\n",
              "    </tr>\n",
              "    <tr>\n",
              "      <th>2</th>\n",
              "      <td>MOROCCAN TEA GLASS&amp;&amp;BLACK FLOWER CANDLE PLATE&amp;...</td>\n",
              "      <td>CERAMIC CAKE DESIGN SPOTTED PLATE</td>\n",
              "    </tr>\n",
              "    <tr>\n",
              "      <th>3</th>\n",
              "      <td>BLACK SILOUETTE CANDLE PLATE&amp;&amp;VICTORIAN GLASS ...</td>\n",
              "      <td>SAVE THE PLANET COTTON TOTE BAG</td>\n",
              "    </tr>\n",
              "    <tr>\n",
              "      <th>4</th>\n",
              "      <td>CERAMIC CAKE DESIGN SPOTTED PLATE&amp;&amp;PINK CLEAR ...</td>\n",
              "      <td>STRAWBERRY CERAMIC TRINKET BOX</td>\n",
              "    </tr>\n",
              "    <tr>\n",
              "      <th>...</th>\n",
              "      <td>...</td>\n",
              "      <td>...</td>\n",
              "    </tr>\n",
              "    <tr>\n",
              "      <th>74502</th>\n",
              "      <td>UNION STRIPE WITH FRINGE  HAMMOCK&amp;&amp;RED/CREAM S...</td>\n",
              "      <td>WHITE HANGING HEART T-LIGHT HOLDER</td>\n",
              "    </tr>\n",
              "    <tr>\n",
              "      <th>74503</th>\n",
              "      <td>OCEAN STRIPE HAMMOCK&amp;&amp;BLUE/CREAM STRIPE FRINGE...</td>\n",
              "      <td>ENAMEL WATERING CAN CREAM</td>\n",
              "    </tr>\n",
              "    <tr>\n",
              "      <th>74504</th>\n",
              "      <td>WHITE HANGING HEART T-LIGHT HOLDER&amp;&amp;BAG 250g S...</td>\n",
              "      <td>NATURAL SLATE HEART CHALKBOARD</td>\n",
              "    </tr>\n",
              "    <tr>\n",
              "      <th>74505</th>\n",
              "      <td>ENAMEL WATERING CAN CREAM&amp;&amp;PORCELAIN HANGING B...</td>\n",
              "      <td>COLOUR GLASS T-LIGHT HOLDER HANGING</td>\n",
              "    </tr>\n",
              "    <tr>\n",
              "      <th>74506</th>\n",
              "      <td>ENAMEL WATERING CAN CREAM&amp;&amp;PORCELAIN HANGING B...</td>\n",
              "      <td>COLOUR GLASS T-LIGHT HOLDER HANGING</td>\n",
              "    </tr>\n",
              "  </tbody>\n",
              "</table>\n",
              "<p>74507 rows × 2 columns</p>\n",
              "</div>"
            ],
            "text/plain": [
              "                                                  Detail                                label\n",
              "0      HAND OPEN SHAPE GOLD&&RETRO SPOT MUG&&RETRO SP...        RETRO SPOT TRADITIONAL TEAPOT\n",
              "1      RETRO SPOT MUG&&RETRO SPOT SUGAR JAM BOWL&&NEW...            RETRO SPOT LARGE MILK JUG\n",
              "2      MOROCCAN TEA GLASS&&BLACK FLOWER CANDLE PLATE&...    CERAMIC CAKE DESIGN SPOTTED PLATE\n",
              "3      BLACK SILOUETTE CANDLE PLATE&&VICTORIAN GLASS ...      SAVE THE PLANET COTTON TOTE BAG\n",
              "4      CERAMIC CAKE DESIGN SPOTTED PLATE&&PINK CLEAR ...       STRAWBERRY CERAMIC TRINKET BOX\n",
              "...                                                  ...                                  ...\n",
              "74502  UNION STRIPE WITH FRINGE  HAMMOCK&&RED/CREAM S...   WHITE HANGING HEART T-LIGHT HOLDER\n",
              "74503  OCEAN STRIPE HAMMOCK&&BLUE/CREAM STRIPE FRINGE...            ENAMEL WATERING CAN CREAM\n",
              "74504  WHITE HANGING HEART T-LIGHT HOLDER&&BAG 250g S...       NATURAL SLATE HEART CHALKBOARD\n",
              "74505  ENAMEL WATERING CAN CREAM&&PORCELAIN HANGING B...  COLOUR GLASS T-LIGHT HOLDER HANGING\n",
              "74506  ENAMEL WATERING CAN CREAM&&PORCELAIN HANGING B...  COLOUR GLASS T-LIGHT HOLDER HANGING\n",
              "\n",
              "[74507 rows x 2 columns]"
            ]
          },
          "metadata": {},
          "execution_count": 29
        }
      ]
    },
    {
      "cell_type": "code",
      "metadata": {
        "colab": {
          "base_uri": "https://localhost:8080/"
        },
        "id": "W0mR1XZNIA3v",
        "outputId": "6f914228-587f-4f9f-9823-3fb6e97d31bb"
      },
      "source": [
        "print(df_new.isnull().sum())\n",
        "df_new.dropna(inplace=True)"
      ],
      "execution_count": 30,
      "outputs": [
        {
          "output_type": "stream",
          "name": "stdout",
          "text": [
            "Detail    0\n",
            "label     0\n",
            "dtype: int64\n"
          ]
        }
      ]
    },
    {
      "cell_type": "code",
      "metadata": {
        "colab": {
          "base_uri": "https://localhost:8080/",
          "height": 436
        },
        "id": "LKdNaxy5IBww",
        "outputId": "e6f0368a-0733-4ad8-fb4a-2a11bf12ab57"
      },
      "source": [
        "print(df_new.duplicated().sum())\n",
        "df_new.drop_duplicates(inplace=True)\n",
        "df_new.reset_index(inplace=True)\n",
        "df_new.pop('index')\n",
        "df_new"
      ],
      "execution_count": 31,
      "outputs": [
        {
          "output_type": "stream",
          "name": "stdout",
          "text": [
            "3302\n"
          ]
        },
        {
          "output_type": "execute_result",
          "data": {
            "text/html": [
              "<div>\n",
              "<style scoped>\n",
              "    .dataframe tbody tr th:only-of-type {\n",
              "        vertical-align: middle;\n",
              "    }\n",
              "\n",
              "    .dataframe tbody tr th {\n",
              "        vertical-align: top;\n",
              "    }\n",
              "\n",
              "    .dataframe thead th {\n",
              "        text-align: right;\n",
              "    }\n",
              "</style>\n",
              "<table border=\"1\" class=\"dataframe\">\n",
              "  <thead>\n",
              "    <tr style=\"text-align: right;\">\n",
              "      <th></th>\n",
              "      <th>Detail</th>\n",
              "      <th>label</th>\n",
              "    </tr>\n",
              "  </thead>\n",
              "  <tbody>\n",
              "    <tr>\n",
              "      <th>0</th>\n",
              "      <td>HAND OPEN SHAPE GOLD&amp;&amp;RETRO SPOT MUG&amp;&amp;RETRO SP...</td>\n",
              "      <td>RETRO SPOT TRADITIONAL TEAPOT</td>\n",
              "    </tr>\n",
              "    <tr>\n",
              "      <th>1</th>\n",
              "      <td>RETRO SPOT MUG&amp;&amp;RETRO SPOT SUGAR JAM BOWL&amp;&amp;NEW...</td>\n",
              "      <td>RETRO SPOT LARGE MILK JUG</td>\n",
              "    </tr>\n",
              "    <tr>\n",
              "      <th>2</th>\n",
              "      <td>MOROCCAN TEA GLASS&amp;&amp;BLACK FLOWER CANDLE PLATE&amp;...</td>\n",
              "      <td>CERAMIC CAKE DESIGN SPOTTED PLATE</td>\n",
              "    </tr>\n",
              "    <tr>\n",
              "      <th>3</th>\n",
              "      <td>BLACK SILOUETTE CANDLE PLATE&amp;&amp;VICTORIAN GLASS ...</td>\n",
              "      <td>SAVE THE PLANET COTTON TOTE BAG</td>\n",
              "    </tr>\n",
              "    <tr>\n",
              "      <th>4</th>\n",
              "      <td>CERAMIC CAKE DESIGN SPOTTED PLATE&amp;&amp;PINK CLEAR ...</td>\n",
              "      <td>STRAWBERRY CERAMIC TRINKET BOX</td>\n",
              "    </tr>\n",
              "    <tr>\n",
              "      <th>...</th>\n",
              "      <td>...</td>\n",
              "      <td>...</td>\n",
              "    </tr>\n",
              "    <tr>\n",
              "      <th>71200</th>\n",
              "      <td>WOODEN SKITTLES GARDEN SET&amp;&amp;DOORMAT UNION FLAG...</td>\n",
              "      <td>WOODEN CROQUET GARDEN SET</td>\n",
              "    </tr>\n",
              "    <tr>\n",
              "      <th>71201</th>\n",
              "      <td>UNION STRIPE WITH FRINGE  HAMMOCK&amp;&amp;RED/CREAM S...</td>\n",
              "      <td>WHITE HANGING HEART T-LIGHT HOLDER</td>\n",
              "    </tr>\n",
              "    <tr>\n",
              "      <th>71202</th>\n",
              "      <td>OCEAN STRIPE HAMMOCK&amp;&amp;BLUE/CREAM STRIPE FRINGE...</td>\n",
              "      <td>ENAMEL WATERING CAN CREAM</td>\n",
              "    </tr>\n",
              "    <tr>\n",
              "      <th>71203</th>\n",
              "      <td>WHITE HANGING HEART T-LIGHT HOLDER&amp;&amp;BAG 250g S...</td>\n",
              "      <td>NATURAL SLATE HEART CHALKBOARD</td>\n",
              "    </tr>\n",
              "    <tr>\n",
              "      <th>71204</th>\n",
              "      <td>ENAMEL WATERING CAN CREAM&amp;&amp;PORCELAIN HANGING B...</td>\n",
              "      <td>COLOUR GLASS T-LIGHT HOLDER HANGING</td>\n",
              "    </tr>\n",
              "  </tbody>\n",
              "</table>\n",
              "<p>71205 rows × 2 columns</p>\n",
              "</div>"
            ],
            "text/plain": [
              "                                                  Detail                                label\n",
              "0      HAND OPEN SHAPE GOLD&&RETRO SPOT MUG&&RETRO SP...        RETRO SPOT TRADITIONAL TEAPOT\n",
              "1      RETRO SPOT MUG&&RETRO SPOT SUGAR JAM BOWL&&NEW...            RETRO SPOT LARGE MILK JUG\n",
              "2      MOROCCAN TEA GLASS&&BLACK FLOWER CANDLE PLATE&...    CERAMIC CAKE DESIGN SPOTTED PLATE\n",
              "3      BLACK SILOUETTE CANDLE PLATE&&VICTORIAN GLASS ...      SAVE THE PLANET COTTON TOTE BAG\n",
              "4      CERAMIC CAKE DESIGN SPOTTED PLATE&&PINK CLEAR ...       STRAWBERRY CERAMIC TRINKET BOX\n",
              "...                                                  ...                                  ...\n",
              "71200  WOODEN SKITTLES GARDEN SET&&DOORMAT UNION FLAG...            WOODEN CROQUET GARDEN SET\n",
              "71201  UNION STRIPE WITH FRINGE  HAMMOCK&&RED/CREAM S...   WHITE HANGING HEART T-LIGHT HOLDER\n",
              "71202  OCEAN STRIPE HAMMOCK&&BLUE/CREAM STRIPE FRINGE...            ENAMEL WATERING CAN CREAM\n",
              "71203  WHITE HANGING HEART T-LIGHT HOLDER&&BAG 250g S...       NATURAL SLATE HEART CHALKBOARD\n",
              "71204  ENAMEL WATERING CAN CREAM&&PORCELAIN HANGING B...  COLOUR GLASS T-LIGHT HOLDER HANGING\n",
              "\n",
              "[71205 rows x 2 columns]"
            ]
          },
          "metadata": {},
          "execution_count": 31
        }
      ]
    },
    {
      "cell_type": "code",
      "metadata": {
        "id": "mZqA3Oy_IDhY"
      },
      "source": [
        "ds_invoice = df_new"
      ],
      "execution_count": 32,
      "outputs": []
    },
    {
      "cell_type": "markdown",
      "metadata": {
        "id": "SU_H2idIIL_k"
      },
      "source": [
        "# Transformer"
      ]
    },
    {
      "cell_type": "code",
      "metadata": {
        "colab": {
          "base_uri": "https://localhost:8080/",
          "height": 204
        },
        "id": "vbe7bjwlILt1",
        "outputId": "30cdb623-8221-4c25-c0ae-ff2ce0687fe2"
      },
      "source": [
        "data = ds_invoice\n",
        "\n",
        "data = data.sample(frac=1).reset_index(drop=True)\n",
        "data.head()"
      ],
      "execution_count": 33,
      "outputs": [
        {
          "output_type": "execute_result",
          "data": {
            "text/html": [
              "<div>\n",
              "<style scoped>\n",
              "    .dataframe tbody tr th:only-of-type {\n",
              "        vertical-align: middle;\n",
              "    }\n",
              "\n",
              "    .dataframe tbody tr th {\n",
              "        vertical-align: top;\n",
              "    }\n",
              "\n",
              "    .dataframe thead th {\n",
              "        text-align: right;\n",
              "    }\n",
              "</style>\n",
              "<table border=\"1\" class=\"dataframe\">\n",
              "  <thead>\n",
              "    <tr style=\"text-align: right;\">\n",
              "      <th></th>\n",
              "      <th>Detail</th>\n",
              "      <th>label</th>\n",
              "    </tr>\n",
              "  </thead>\n",
              "  <tbody>\n",
              "    <tr>\n",
              "      <th>0</th>\n",
              "      <td>JUMBO BAG RED WHITE SPOTTY&amp;&amp;JUMBO BAG PINK WIT...</td>\n",
              "      <td>LUNCH BAG PINK RETROSPOT</td>\n",
              "    </tr>\n",
              "    <tr>\n",
              "      <th>1</th>\n",
              "      <td>PLEASE ONE PERSON METAL SIGN&amp;&amp;NATURAL SLATE HE...</td>\n",
              "      <td>NATURAL SLATE CHALKBOARD LARGE</td>\n",
              "    </tr>\n",
              "    <tr>\n",
              "      <th>2</th>\n",
              "      <td>JUMBO BAG WOODLAND ANIMALS&amp;&amp;STRAWBERRY CANDY B...</td>\n",
              "      <td>WOODLAND CHARLOTTE BAG</td>\n",
              "    </tr>\n",
              "    <tr>\n",
              "      <th>3</th>\n",
              "      <td>PINK DOUGHNUT TRINKET POT&amp;&amp;VINTAGE HEADS AND T...</td>\n",
              "      <td>COFFEE MUG BLUE PAISLEY DESIGN</td>\n",
              "    </tr>\n",
              "    <tr>\n",
              "      <th>4</th>\n",
              "      <td>3D HEARTS  HONEYCOMB PAPER GARLAND&amp;&amp;SPOTTY  HO...</td>\n",
              "      <td>ORIENTAL BLUE C/COVER</td>\n",
              "    </tr>\n",
              "  </tbody>\n",
              "</table>\n",
              "</div>"
            ],
            "text/plain": [
              "                                              Detail                           label\n",
              "0  JUMBO BAG RED WHITE SPOTTY&&JUMBO BAG PINK WIT...        LUNCH BAG PINK RETROSPOT\n",
              "1  PLEASE ONE PERSON METAL SIGN&&NATURAL SLATE HE...  NATURAL SLATE CHALKBOARD LARGE\n",
              "2  JUMBO BAG WOODLAND ANIMALS&&STRAWBERRY CANDY B...          WOODLAND CHARLOTTE BAG\n",
              "3  PINK DOUGHNUT TRINKET POT&&VINTAGE HEADS AND T...  COFFEE MUG BLUE PAISLEY DESIGN\n",
              "4  3D HEARTS  HONEYCOMB PAPER GARLAND&&SPOTTY  HO...           ORIENTAL BLUE C/COVER"
            ]
          },
          "metadata": {},
          "execution_count": 33
        }
      ]
    },
    {
      "cell_type": "code",
      "metadata": {
        "colab": {
          "base_uri": "https://localhost:8080/",
          "height": 204
        },
        "id": "jM96iDqfIuA8",
        "outputId": "ae7ac654-d8dc-4681-ee77-360d82e26586"
      },
      "source": [
        "train_df = data.copy()\n",
        "train_df.rename(columns = {'Detail':'train'}, inplace=True)\n",
        "train_df.head()"
      ],
      "execution_count": 34,
      "outputs": [
        {
          "output_type": "execute_result",
          "data": {
            "text/html": [
              "<div>\n",
              "<style scoped>\n",
              "    .dataframe tbody tr th:only-of-type {\n",
              "        vertical-align: middle;\n",
              "    }\n",
              "\n",
              "    .dataframe tbody tr th {\n",
              "        vertical-align: top;\n",
              "    }\n",
              "\n",
              "    .dataframe thead th {\n",
              "        text-align: right;\n",
              "    }\n",
              "</style>\n",
              "<table border=\"1\" class=\"dataframe\">\n",
              "  <thead>\n",
              "    <tr style=\"text-align: right;\">\n",
              "      <th></th>\n",
              "      <th>train</th>\n",
              "      <th>label</th>\n",
              "    </tr>\n",
              "  </thead>\n",
              "  <tbody>\n",
              "    <tr>\n",
              "      <th>0</th>\n",
              "      <td>JUMBO BAG RED WHITE SPOTTY&amp;&amp;JUMBO BAG PINK WIT...</td>\n",
              "      <td>LUNCH BAG PINK RETROSPOT</td>\n",
              "    </tr>\n",
              "    <tr>\n",
              "      <th>1</th>\n",
              "      <td>PLEASE ONE PERSON METAL SIGN&amp;&amp;NATURAL SLATE HE...</td>\n",
              "      <td>NATURAL SLATE CHALKBOARD LARGE</td>\n",
              "    </tr>\n",
              "    <tr>\n",
              "      <th>2</th>\n",
              "      <td>JUMBO BAG WOODLAND ANIMALS&amp;&amp;STRAWBERRY CANDY B...</td>\n",
              "      <td>WOODLAND CHARLOTTE BAG</td>\n",
              "    </tr>\n",
              "    <tr>\n",
              "      <th>3</th>\n",
              "      <td>PINK DOUGHNUT TRINKET POT&amp;&amp;VINTAGE HEADS AND T...</td>\n",
              "      <td>COFFEE MUG BLUE PAISLEY DESIGN</td>\n",
              "    </tr>\n",
              "    <tr>\n",
              "      <th>4</th>\n",
              "      <td>3D HEARTS  HONEYCOMB PAPER GARLAND&amp;&amp;SPOTTY  HO...</td>\n",
              "      <td>ORIENTAL BLUE C/COVER</td>\n",
              "    </tr>\n",
              "  </tbody>\n",
              "</table>\n",
              "</div>"
            ],
            "text/plain": [
              "                                               train                           label\n",
              "0  JUMBO BAG RED WHITE SPOTTY&&JUMBO BAG PINK WIT...        LUNCH BAG PINK RETROSPOT\n",
              "1  PLEASE ONE PERSON METAL SIGN&&NATURAL SLATE HE...  NATURAL SLATE CHALKBOARD LARGE\n",
              "2  JUMBO BAG WOODLAND ANIMALS&&STRAWBERRY CANDY B...          WOODLAND CHARLOTTE BAG\n",
              "3  PINK DOUGHNUT TRINKET POT&&VINTAGE HEADS AND T...  COFFEE MUG BLUE PAISLEY DESIGN\n",
              "4  3D HEARTS  HONEYCOMB PAPER GARLAND&&SPOTTY  HO...           ORIENTAL BLUE C/COVER"
            ]
          },
          "metadata": {},
          "execution_count": 34
        }
      ]
    },
    {
      "cell_type": "code",
      "metadata": {
        "id": "ClCqbjQdGd0J"
      },
      "source": [
        "filtering_train_df = train_df.copy()"
      ],
      "execution_count": 35,
      "outputs": []
    },
    {
      "cell_type": "code",
      "metadata": {
        "id": "jfhU7g2IDC3J"
      },
      "source": [
        "# train : test = 8 : 2\n",
        "cut = round(len(filtering_train_df) * 0.8)\n",
        "filtering_train_df, filtering_test_df = filtering_train_df[:cut], filtering_train_df[cut:]"
      ],
      "execution_count": 36,
      "outputs": []
    },
    {
      "cell_type": "code",
      "metadata": {
        "id": "kWjyzSEXMqXV"
      },
      "source": [
        "filtering_test_df = filtering_test_df.reset_index(drop=True)"
      ],
      "execution_count": 37,
      "outputs": []
    },
    {
      "cell_type": "code",
      "metadata": {
        "colab": {
          "base_uri": "https://localhost:8080/"
        },
        "id": "YUsG2iJd8nKn",
        "outputId": "79e0c91f-8d1e-4bd0-f6d7-12b50ba4508b"
      },
      "source": [
        "print(len(filtering_train_df))\n",
        "len(filtering_test_df)"
      ],
      "execution_count": 38,
      "outputs": [
        {
          "output_type": "stream",
          "name": "stdout",
          "text": [
            "56964\n"
          ]
        },
        {
          "output_type": "execute_result",
          "data": {
            "text/plain": [
              "14241"
            ]
          },
          "metadata": {},
          "execution_count": 38
        }
      ]
    },
    {
      "cell_type": "code",
      "metadata": {
        "id": "bQLV6a304oIa"
      },
      "source": [
        "filtering_train_df.to_csv(path + 'e-commerce_train.csv')\n",
        "filtering_test_df.to_csv(path + 'e-commerce_test.csv')"
      ],
      "execution_count": 39,
      "outputs": []
    },
    {
      "cell_type": "code",
      "metadata": {
        "id": "TIAMM6IYekZ2"
      },
      "source": [
        "filtering_train_df['split_train_token'] = ['<esp> ' + i.strip().replace('&&', ' <esp> ') + ' <esp>' for i in filtering_train_df['train']]\n",
        "filtering_train_df['split_label_token'] = ['<esp> ' + i.strip() + ' <esp>' for i in filtering_train_df['label']]"
      ],
      "execution_count": 40,
      "outputs": []
    },
    {
      "cell_type": "code",
      "metadata": {
        "colab": {
          "base_uri": "https://localhost:8080/",
          "height": 289
        },
        "id": "grUN5n41gX2W",
        "outputId": "c17f0e9b-ba4e-4f6b-acd0-d9557e5fa4f2"
      },
      "source": [
        "filtering_train_df.head()"
      ],
      "execution_count": 41,
      "outputs": [
        {
          "output_type": "execute_result",
          "data": {
            "text/html": [
              "<div>\n",
              "<style scoped>\n",
              "    .dataframe tbody tr th:only-of-type {\n",
              "        vertical-align: middle;\n",
              "    }\n",
              "\n",
              "    .dataframe tbody tr th {\n",
              "        vertical-align: top;\n",
              "    }\n",
              "\n",
              "    .dataframe thead th {\n",
              "        text-align: right;\n",
              "    }\n",
              "</style>\n",
              "<table border=\"1\" class=\"dataframe\">\n",
              "  <thead>\n",
              "    <tr style=\"text-align: right;\">\n",
              "      <th></th>\n",
              "      <th>train</th>\n",
              "      <th>label</th>\n",
              "      <th>split_train_token</th>\n",
              "      <th>split_label_token</th>\n",
              "    </tr>\n",
              "  </thead>\n",
              "  <tbody>\n",
              "    <tr>\n",
              "      <th>0</th>\n",
              "      <td>JUMBO BAG RED WHITE SPOTTY&amp;&amp;JUMBO BAG PINK WIT...</td>\n",
              "      <td>LUNCH BAG PINK RETROSPOT</td>\n",
              "      <td>&lt;esp&gt; JUMBO BAG RED WHITE SPOTTY &lt;esp&gt; JUMBO B...</td>\n",
              "      <td>&lt;esp&gt; LUNCH BAG PINK RETROSPOT &lt;esp&gt;</td>\n",
              "    </tr>\n",
              "    <tr>\n",
              "      <th>1</th>\n",
              "      <td>PLEASE ONE PERSON METAL SIGN&amp;&amp;NATURAL SLATE HE...</td>\n",
              "      <td>NATURAL SLATE CHALKBOARD LARGE</td>\n",
              "      <td>&lt;esp&gt; PLEASE ONE PERSON METAL SIGN &lt;esp&gt; NATUR...</td>\n",
              "      <td>&lt;esp&gt; NATURAL SLATE CHALKBOARD LARGE &lt;esp&gt;</td>\n",
              "    </tr>\n",
              "    <tr>\n",
              "      <th>2</th>\n",
              "      <td>JUMBO BAG WOODLAND ANIMALS&amp;&amp;STRAWBERRY CANDY B...</td>\n",
              "      <td>WOODLAND CHARLOTTE BAG</td>\n",
              "      <td>&lt;esp&gt; JUMBO BAG WOODLAND ANIMALS &lt;esp&gt; STRAWBE...</td>\n",
              "      <td>&lt;esp&gt; WOODLAND CHARLOTTE BAG &lt;esp&gt;</td>\n",
              "    </tr>\n",
              "    <tr>\n",
              "      <th>3</th>\n",
              "      <td>PINK DOUGHNUT TRINKET POT&amp;&amp;VINTAGE HEADS AND T...</td>\n",
              "      <td>COFFEE MUG BLUE PAISLEY DESIGN</td>\n",
              "      <td>&lt;esp&gt; PINK DOUGHNUT TRINKET POT &lt;esp&gt; VINTAGE ...</td>\n",
              "      <td>&lt;esp&gt; COFFEE MUG BLUE PAISLEY DESIGN &lt;esp&gt;</td>\n",
              "    </tr>\n",
              "    <tr>\n",
              "      <th>4</th>\n",
              "      <td>3D HEARTS  HONEYCOMB PAPER GARLAND&amp;&amp;SPOTTY  HO...</td>\n",
              "      <td>ORIENTAL BLUE C/COVER</td>\n",
              "      <td>&lt;esp&gt; 3D HEARTS  HONEYCOMB PAPER GARLAND &lt;esp&gt;...</td>\n",
              "      <td>&lt;esp&gt; ORIENTAL BLUE C/COVER &lt;esp&gt;</td>\n",
              "    </tr>\n",
              "  </tbody>\n",
              "</table>\n",
              "</div>"
            ],
            "text/plain": [
              "                                               train  ...                           split_label_token\n",
              "0  JUMBO BAG RED WHITE SPOTTY&&JUMBO BAG PINK WIT...  ...        <esp> LUNCH BAG PINK RETROSPOT <esp>\n",
              "1  PLEASE ONE PERSON METAL SIGN&&NATURAL SLATE HE...  ...  <esp> NATURAL SLATE CHALKBOARD LARGE <esp>\n",
              "2  JUMBO BAG WOODLAND ANIMALS&&STRAWBERRY CANDY B...  ...          <esp> WOODLAND CHARLOTTE BAG <esp>\n",
              "3  PINK DOUGHNUT TRINKET POT&&VINTAGE HEADS AND T...  ...  <esp> COFFEE MUG BLUE PAISLEY DESIGN <esp>\n",
              "4  3D HEARTS  HONEYCOMB PAPER GARLAND&&SPOTTY  HO...  ...           <esp> ORIENTAL BLUE C/COVER <esp>\n",
              "\n",
              "[5 rows x 4 columns]"
            ]
          },
          "metadata": {},
          "execution_count": 41
        }
      ]
    },
    {
      "cell_type": "code",
      "metadata": {
        "id": "7y5o1x06Y3Qh"
      },
      "source": [
        "MAX_LENGTH = 128"
      ],
      "execution_count": 42,
      "outputs": []
    },
    {
      "cell_type": "code",
      "metadata": {
        "id": "9HrRaQMinZ0H"
      },
      "source": [
        "tokenizer = tfds.deprecated.text.SubwordTextEncoder.build_from_corpus(filtering_train_df['split_train_token'] + filtering_train_df['split_label_token'], target_vocab_size=2**13)"
      ],
      "execution_count": 43,
      "outputs": []
    },
    {
      "cell_type": "code",
      "metadata": {
        "id": "yNc2-ElvnZ7l"
      },
      "source": [
        "START_TOKEN, END_TOKEN = [tokenizer.vocab_size], [tokenizer.vocab_size + 1]\n",
        "VOCAB_SIZE = tokenizer.vocab_size + 2"
      ],
      "execution_count": 44,
      "outputs": []
    },
    {
      "cell_type": "code",
      "metadata": {
        "colab": {
          "base_uri": "https://localhost:8080/"
        },
        "id": "4XNjMLlYnZ9h",
        "outputId": "eb4632a2-0089-4a69-9907-b07904916313"
      },
      "source": [
        "print(START_TOKEN)\n",
        "print(END_TOKEN)\n",
        "print(VOCAB_SIZE)"
      ],
      "execution_count": 45,
      "outputs": [
        {
          "output_type": "stream",
          "name": "stdout",
          "text": [
            "[2717]\n",
            "[2718]\n",
            "2719\n"
          ]
        }
      ]
    },
    {
      "cell_type": "code",
      "metadata": {
        "id": "FyU2LyVcnZ_u"
      },
      "source": [
        "def tokenize_and_filter(inputs, outputs):\n",
        "  tokenized_inputs, tokenized_outputs = [], []\n",
        "\n",
        "  for (sentence1, sentence2) in zip(inputs, outputs):\n",
        "    sentence1 = START_TOKEN + tokenizer.encode(sentence1) + END_TOKEN\n",
        "    sentence2 = START_TOKEN + tokenizer.encode(sentence2) + END_TOKEN\n",
        "\n",
        "    tokenized_inputs.append(sentence1)\n",
        "    tokenized_outputs.append(sentence2)\n",
        "\n",
        "  tokenized_inputs = tf.keras.preprocessing.sequence.pad_sequences(\n",
        "      tokenized_inputs, maxlen=MAX_LENGTH, padding='post')\n",
        "  tokenized_outputs = tf.keras.preprocessing.sequence.pad_sequences(\n",
        "      tokenized_outputs, maxlen=MAX_LENGTH, padding='post')\n",
        "\n",
        "  return tokenized_inputs, tokenized_outputs"
      ],
      "execution_count": 46,
      "outputs": []
    },
    {
      "cell_type": "code",
      "metadata": {
        "id": "vGD78-kOL_wk"
      },
      "source": [
        "train_token, label_token = tokenize_and_filter(filtering_train_df['split_train_token'], filtering_train_df['split_label_token'])"
      ],
      "execution_count": 47,
      "outputs": []
    },
    {
      "cell_type": "code",
      "metadata": {
        "colab": {
          "base_uri": "https://localhost:8080/"
        },
        "id": "MNW0IgXRMYfD",
        "outputId": "50d1790d-ff5e-4af0-a96c-423668fef2ff"
      },
      "source": [
        "print(train_token.shape)\n",
        "print(label_token.shape)"
      ],
      "execution_count": 48,
      "outputs": [
        {
          "output_type": "stream",
          "name": "stdout",
          "text": [
            "(56964, 128)\n",
            "(56964, 128)\n"
          ]
        }
      ]
    },
    {
      "cell_type": "code",
      "metadata": {
        "colab": {
          "base_uri": "https://localhost:8080/"
        },
        "id": "bMTEg_x0F5wr",
        "outputId": "eade3bc2-5477-44e7-8e14-7cf50ef5f844"
      },
      "source": [
        "tf.test.is_gpu_available()"
      ],
      "execution_count": 49,
      "outputs": [
        {
          "output_type": "stream",
          "name": "stdout",
          "text": [
            "WARNING:tensorflow:From <ipython-input-49-17bb7203622b>:1: is_gpu_available (from tensorflow.python.framework.test_util) is deprecated and will be removed in a future version.\n",
            "Instructions for updating:\n",
            "Use `tf.config.list_physical_devices('GPU')` instead.\n"
          ]
        },
        {
          "output_type": "stream",
          "name": "stderr",
          "text": [
            "WARNING:tensorflow:From <ipython-input-49-17bb7203622b>:1: is_gpu_available (from tensorflow.python.framework.test_util) is deprecated and will be removed in a future version.\n",
            "Instructions for updating:\n",
            "Use `tf.config.list_physical_devices('GPU')` instead.\n"
          ]
        },
        {
          "output_type": "execute_result",
          "data": {
            "text/plain": [
              "True"
            ]
          },
          "metadata": {},
          "execution_count": 49
        }
      ]
    },
    {
      "cell_type": "code",
      "metadata": {
        "colab": {
          "base_uri": "https://localhost:8080/",
          "height": 35
        },
        "id": "4T3tWOLGGDgI",
        "outputId": "73deb56a-a5a0-42ff-acb7-ed99191a5a76"
      },
      "source": [
        "tf.test.gpu_device_name()"
      ],
      "execution_count": 50,
      "outputs": [
        {
          "output_type": "execute_result",
          "data": {
            "application/vnd.google.colaboratory.intrinsic+json": {
              "type": "string"
            },
            "text/plain": [
              "'/device:GPU:0'"
            ]
          },
          "metadata": {},
          "execution_count": 50
        }
      ]
    },
    {
      "cell_type": "code",
      "metadata": {
        "colab": {
          "base_uri": "https://localhost:8080/"
        },
        "id": "cb_xqSUBw5TI",
        "outputId": "4ff08cff-a085-4cde-f1d2-ab1ce10c8d55"
      },
      "source": [
        "!nvidia-smi # Using K80 (Colab) in this example."
      ],
      "execution_count": 51,
      "outputs": [
        {
          "output_type": "stream",
          "name": "stdout",
          "text": [
            "Fri Sep 10 10:48:01 2021       \n",
            "+-----------------------------------------------------------------------------+\n",
            "| NVIDIA-SMI 470.63.01    Driver Version: 460.32.03    CUDA Version: 11.2     |\n",
            "|-------------------------------+----------------------+----------------------+\n",
            "| GPU  Name        Persistence-M| Bus-Id        Disp.A | Volatile Uncorr. ECC |\n",
            "| Fan  Temp  Perf  Pwr:Usage/Cap|         Memory-Usage | GPU-Util  Compute M. |\n",
            "|                               |                      |               MIG M. |\n",
            "|===============================+======================+======================|\n",
            "|   0  Tesla K80           Off  | 00000000:00:04.0 Off |                    0 |\n",
            "| N/A   36C    P0    58W / 149W |    121MiB / 11441MiB |      0%      Default |\n",
            "|                               |                      |                  N/A |\n",
            "+-------------------------------+----------------------+----------------------+\n",
            "                                                                               \n",
            "+-----------------------------------------------------------------------------+\n",
            "| Processes:                                                                  |\n",
            "|  GPU   GI   CI        PID   Type   Process name                  GPU Memory |\n",
            "|        ID   ID                                                   Usage      |\n",
            "|=============================================================================|\n",
            "|  No running processes found                                                 |\n",
            "+-----------------------------------------------------------------------------+\n"
          ]
        }
      ]
    },
    {
      "cell_type": "code",
      "metadata": {
        "id": "NmbnOw_YTj04"
      },
      "source": [
        "BATCH_SIZE = 256\n",
        "BUFFER_SIZE = 20000\n",
        "\n",
        "dataset = tf.data.Dataset.from_tensor_slices((\n",
        "    {\n",
        "        'inputs': train_token,\n",
        "        'dec_inputs': label_token[:, :-1]\n",
        "    },\n",
        "    {\n",
        "        'outputs': label_token[:, 1:]\n",
        "    },\n",
        "))\n",
        "\n",
        "dataset = dataset.cache()\n",
        "dataset = dataset.shuffle(BUFFER_SIZE)\n",
        "dataset = dataset.batch(BATCH_SIZE)\n",
        "dataset = dataset.prefetch(tf.data.experimental.AUTOTUNE)"
      ],
      "execution_count": 52,
      "outputs": []
    },
    {
      "cell_type": "code",
      "metadata": {
        "id": "U2MT1lyXKzzg"
      },
      "source": [
        "def scaled_dot_product_attention(query, key, value, mask):\n",
        "  \"\"\"Calculate the attention weights. \"\"\"\n",
        "  matmul_qk = tf.matmul(query, key, transpose_b=True)\n",
        "\n",
        "  depth = tf.cast(tf.shape(key)[-1], tf.float32)\n",
        "  logits = matmul_qk / tf.math.sqrt(depth)\n",
        "\n",
        "  if mask is not None:\n",
        "    logits += (mask * -1e9)\n",
        "\n",
        "  attention_weights = tf.nn.softmax(logits, axis=-1)\n",
        "\n",
        "  output = tf.matmul(attention_weights, value)\n",
        "\n",
        "  return output\n",
        "\n",
        "\n",
        "class MultiHeadAttention(tf.keras.layers.Layer):\n",
        "\n",
        "  def __init__(self, d_model, num_heads, name=\"multi_head_attention\"):\n",
        "    super(MultiHeadAttention, self).__init__(name=name)\n",
        "    self.num_heads = num_heads\n",
        "    self.d_model = d_model\n",
        "\n",
        "    assert d_model % self.num_heads == 0\n",
        "\n",
        "    self.depth = d_model // self.num_heads\n",
        "\n",
        "    self.query_dense = tf.keras.layers.Dense(units=d_model)\n",
        "    self.key_dense = tf.keras.layers.Dense(units=d_model)\n",
        "    self.value_dense = tf.keras.layers.Dense(units=d_model)\n",
        "\n",
        "    self.dense = tf.keras.layers.Dense(units=d_model)\n",
        "\n",
        "  def split_heads(self, inputs, batch_size):\n",
        "    inputs = tf.reshape(\n",
        "        inputs, shape=(batch_size, -1, self.num_heads, self.depth))\n",
        "    return tf.transpose(inputs, perm=[0, 2, 1, 3])\n",
        "\n",
        "  def call(self, inputs):\n",
        "    query, key, value, mask = inputs['query'], inputs['key'], inputs[\n",
        "        'value'], inputs['mask']\n",
        "    batch_size = tf.shape(query)[0]\n",
        "\n",
        "    query = self.query_dense(query)\n",
        "    key = self.key_dense(key)\n",
        "    value = self.value_dense(value)\n",
        "\n",
        "    query = self.split_heads(query, batch_size)\n",
        "    key = self.split_heads(key, batch_size)\n",
        "    value = self.split_heads(value, batch_size)\n",
        "\n",
        "    scaled_attention = scaled_dot_product_attention(query, key, value, mask)\n",
        "\n",
        "    scaled_attention = tf.transpose(scaled_attention, perm=[0, 2, 1, 3])\n",
        "\n",
        "    concat_attention = tf.reshape(scaled_attention,\n",
        "                                  (batch_size, -1, self.d_model))\n",
        "\n",
        "    outputs = self.dense(concat_attention)\n",
        "\n",
        "    return outputs\n",
        "\n",
        "\n",
        "def create_padding_mask(x):\n",
        "  mask = tf.cast(tf.math.equal(x, 0), tf.float32)\n",
        "  # (batch_size, 1, 1, sequence length)\n",
        "  return mask[:, tf.newaxis, tf.newaxis, :]\n",
        "\n",
        "def create_look_ahead_mask(x):\n",
        "  seq_len = tf.shape(x)[1]\n",
        "  look_ahead_mask = 1 - tf.linalg.band_part(tf.ones((seq_len, seq_len)), -1, 0)\n",
        "  padding_mask = create_padding_mask(x)\n",
        "  return tf.maximum(look_ahead_mask, padding_mask)\n",
        "\n",
        "\n",
        "class PositionalEncoding(tf.keras.layers.Layer):\n",
        "\n",
        "  def __init__(self, position, d_model):\n",
        "    super(PositionalEncoding, self).__init__()\n",
        "    self.pos_encoding = self.positional_encoding(position, d_model)\n",
        "\n",
        "  def get_angles(self, position, i, d_model):\n",
        "    angles = 1 / tf.pow(10000, (2 * (i // 2)) / tf.cast(d_model, tf.float32))\n",
        "    return position * angles\n",
        "\n",
        "  def positional_encoding(self, position, d_model):\n",
        "    angle_rads = self.get_angles(\n",
        "        position=tf.range(position, dtype=tf.float32)[:, tf.newaxis],\n",
        "        i=tf.range(d_model, dtype=tf.float32)[tf.newaxis, :],\n",
        "        d_model=d_model)\n",
        "\n",
        "    sines = tf.math.sin(angle_rads[:, 0::2])\n",
        "\n",
        "    cosines = tf.math.cos(angle_rads[:, 1::2])\n",
        "\n",
        "    pos_encoding = tf.concat([sines, cosines], axis=-1)\n",
        "    pos_encoding = pos_encoding[tf.newaxis, ...]\n",
        "    return tf.cast(pos_encoding, tf.float32)\n",
        "\n",
        "  def call(self, inputs):\n",
        "    return inputs + self.pos_encoding[:, :tf.shape(inputs)[1], :]\n",
        "\n",
        "def encoder_layer(units, d_model, num_heads, dropout, name=\"encoder_layer\"):\n",
        "  inputs = tf.keras.Input(shape=(None, d_model), name=\"inputs\")\n",
        "  padding_mask = tf.keras.Input(shape=(1, 1, None), name=\"padding_mask\")\n",
        "\n",
        "  attention = MultiHeadAttention(\n",
        "      d_model, num_heads, name=\"attention\")({\n",
        "          'query': inputs,\n",
        "          'key': inputs,\n",
        "          'value': inputs,\n",
        "          'mask': padding_mask\n",
        "      })\n",
        "  attention = tf.keras.layers.Dropout(rate=dropout)(attention)\n",
        "  attention = tf.keras.layers.LayerNormalization(\n",
        "      epsilon=1e-6)(inputs + attention)\n",
        "\n",
        "  outputs = tf.keras.layers.Dense(units=units, activation='relu')(attention)\n",
        "  outputs = tf.keras.layers.Dense(units=d_model)(outputs)\n",
        "  outputs = tf.keras.layers.Dropout(rate=dropout)(outputs)\n",
        "  outputs = tf.keras.layers.LayerNormalization(\n",
        "      epsilon=1e-6)(attention + outputs)\n",
        "\n",
        "  return tf.keras.Model(\n",
        "      inputs=[inputs, padding_mask], outputs=outputs, name=name)\n",
        "  \n",
        "def encoder(vocab_size,\n",
        "            num_layers,\n",
        "            units,\n",
        "            d_model,\n",
        "            num_heads,\n",
        "            dropout,\n",
        "            name=\"encoder\"):\n",
        "  inputs = tf.keras.Input(shape=(None,), name=\"inputs\")\n",
        "  padding_mask = tf.keras.Input(shape=(1, 1, None), name=\"padding_mask\")\n",
        "\n",
        "  embeddings = tf.keras.layers.Embedding(vocab_size, d_model)(inputs)\n",
        "  embeddings *= tf.math.sqrt(tf.cast(d_model, tf.float32))\n",
        "  embeddings = PositionalEncoding(vocab_size, d_model)(embeddings)\n",
        "\n",
        "  outputs = tf.keras.layers.Dropout(rate=dropout)(embeddings)\n",
        "\n",
        "  for i in range(num_layers):\n",
        "    outputs = encoder_layer(\n",
        "        units=units,\n",
        "        d_model=d_model,\n",
        "        num_heads=num_heads,\n",
        "        dropout=dropout,\n",
        "        name=\"encoder_layer_{}\".format(i),\n",
        "    )([outputs, padding_mask])\n",
        "\n",
        "  return tf.keras.Model(\n",
        "      inputs=[inputs, padding_mask], outputs=outputs, name=name)\n",
        "  \n",
        "def decoder_layer(units, d_model, num_heads, dropout, name=\"decoder_layer\"):\n",
        "  inputs = tf.keras.Input(shape=(None, d_model), name=\"inputs\")\n",
        "  enc_outputs = tf.keras.Input(shape=(None, d_model), name=\"encoder_outputs\")\n",
        "  look_ahead_mask = tf.keras.Input(\n",
        "      shape=(1, None, None), name=\"look_ahead_mask\")\n",
        "  padding_mask = tf.keras.Input(shape=(1, 1, None), name='padding_mask')\n",
        "\n",
        "  attention1 = MultiHeadAttention(\n",
        "      d_model, num_heads, name=\"attention_1\")(inputs={\n",
        "          'query': inputs,\n",
        "          'key': inputs,\n",
        "          'value': inputs,\n",
        "          'mask': look_ahead_mask\n",
        "      })\n",
        "  attention1 = tf.keras.layers.LayerNormalization(\n",
        "      epsilon=1e-6)(attention1 + inputs)\n",
        "\n",
        "  attention2 = MultiHeadAttention(\n",
        "      d_model, num_heads, name=\"attention_2\")(inputs={\n",
        "          'query': attention1,\n",
        "          'key': enc_outputs,\n",
        "          'value': enc_outputs,\n",
        "          'mask': padding_mask\n",
        "      })\n",
        "  attention2 = tf.keras.layers.Dropout(rate=dropout)(attention2)\n",
        "  attention2 = tf.keras.layers.LayerNormalization(\n",
        "      epsilon=1e-6)(attention2 + attention1)\n",
        "\n",
        "  outputs = tf.keras.layers.Dense(units=units, activation='relu')(attention2)\n",
        "  outputs = tf.keras.layers.Dense(units=d_model)(outputs)\n",
        "  outputs = tf.keras.layers.Dropout(rate=dropout)(outputs)\n",
        "  outputs = tf.keras.layers.LayerNormalization(\n",
        "      epsilon=1e-6)(outputs + attention2)\n",
        "\n",
        "  return tf.keras.Model(\n",
        "      inputs=[inputs, enc_outputs, look_ahead_mask, padding_mask],\n",
        "      outputs=outputs,\n",
        "      name=name)\n",
        "  \n",
        "def decoder(vocab_size,\n",
        "            num_layers,\n",
        "            units,\n",
        "            d_model,\n",
        "            num_heads,\n",
        "            dropout,\n",
        "            name='decoder'):\n",
        "  inputs = tf.keras.Input(shape=(None,), name='inputs')\n",
        "  enc_outputs = tf.keras.Input(shape=(None, d_model), name='encoder_outputs')\n",
        "  look_ahead_mask = tf.keras.Input(\n",
        "      shape=(1, None, None), name='look_ahead_mask')\n",
        "  padding_mask = tf.keras.Input(shape=(1, 1, None), name='padding_mask')\n",
        "  \n",
        "  embeddings = tf.keras.layers.Embedding(vocab_size, d_model)(inputs)\n",
        "  embeddings *= tf.math.sqrt(tf.cast(d_model, tf.float32))\n",
        "  embeddings = PositionalEncoding(vocab_size, d_model)(embeddings)\n",
        "\n",
        "  outputs = tf.keras.layers.Dropout(rate=dropout)(embeddings)\n",
        "\n",
        "  for i in range(num_layers):\n",
        "    outputs = decoder_layer(\n",
        "        units=units,\n",
        "        d_model=d_model,\n",
        "        num_heads=num_heads,\n",
        "        dropout=dropout,\n",
        "        name='decoder_layer_{}'.format(i),\n",
        "    )(inputs=[outputs, enc_outputs, look_ahead_mask, padding_mask])\n",
        "\n",
        "  return tf.keras.Model(\n",
        "      inputs=[inputs, enc_outputs, look_ahead_mask, padding_mask],\n",
        "      outputs=outputs,\n",
        "      name=name)\n",
        "\n",
        "def transformer(vocab_size,\n",
        "                num_layers,\n",
        "                units,\n",
        "                d_model,\n",
        "                num_heads,\n",
        "                dropout,\n",
        "                name=\"transformer\"):\n",
        "  inputs = tf.keras.Input(shape=(None,), name=\"inputs\")\n",
        "  dec_inputs = tf.keras.Input(shape=(None,), name=\"dec_inputs\")\n",
        "\n",
        "  enc_padding_mask = tf.keras.layers.Lambda(\n",
        "      create_padding_mask, output_shape=(1, 1, None),\n",
        "      name='enc_padding_mask')(inputs)\n",
        "  look_ahead_mask = tf.keras.layers.Lambda(\n",
        "      create_look_ahead_mask,\n",
        "      output_shape=(1, None, None),\n",
        "      name='look_ahead_mask')(dec_inputs)\n",
        "  dec_padding_mask = tf.keras.layers.Lambda(\n",
        "      create_padding_mask, output_shape=(1, 1, None),\n",
        "      name='dec_padding_mask')(inputs)\n",
        "\n",
        "  enc_outputs = encoder(\n",
        "      vocab_size=vocab_size,\n",
        "      num_layers=num_layers,\n",
        "      units=units,\n",
        "      d_model=d_model,\n",
        "      num_heads=num_heads,\n",
        "      dropout=dropout,\n",
        "  )(inputs=[inputs, enc_padding_mask])\n",
        "\n",
        "  dec_outputs = decoder(\n",
        "      vocab_size=vocab_size,\n",
        "      num_layers=num_layers,\n",
        "      units=units,\n",
        "      d_model=d_model,\n",
        "      num_heads=num_heads,\n",
        "      dropout=dropout,\n",
        "  )(inputs=[dec_inputs, enc_outputs, look_ahead_mask, dec_padding_mask])\n",
        "\n",
        "  outputs = tf.keras.layers.Dense(units=vocab_size, name=\"outputs\")(dec_outputs)\n",
        "\n",
        "  return tf.keras.Model(inputs=[inputs, dec_inputs], outputs=outputs, name=name)"
      ],
      "execution_count": 53,
      "outputs": []
    },
    {
      "cell_type": "code",
      "metadata": {
        "id": "WaxW16nJLK9E"
      },
      "source": [
        "def loss_function(y_true, y_pred):\n",
        "  y_true = tf.reshape(y_true, shape=(-1, MAX_LENGTH - 1))\n",
        "  \n",
        "  loss = tf.keras.losses.SparseCategoricalCrossentropy(\n",
        "      from_logits=True, reduction='none')(y_true, y_pred)\n",
        "\n",
        "  mask = tf.cast(tf.not_equal(y_true, 0), tf.float32)\n",
        "  loss = tf.multiply(loss, mask)\n",
        "\n",
        "  return tf.reduce_mean(loss)"
      ],
      "execution_count": 54,
      "outputs": []
    },
    {
      "cell_type": "code",
      "metadata": {
        "id": "5rMmAF6jLONf"
      },
      "source": [
        "class CustomSchedule(tf.keras.optimizers.schedules.LearningRateSchedule):\n",
        "\n",
        "  def __init__(self, d_model, warmup_steps=4000):\n",
        "    super(CustomSchedule, self).__init__()\n",
        "\n",
        "    self.d_model = d_model\n",
        "    self.d_model = tf.cast(self.d_model, tf.float32)\n",
        "\n",
        "    self.warmup_steps = warmup_steps\n",
        "\n",
        "  def __call__(self, step):\n",
        "    arg1 = tf.math.rsqrt(step)\n",
        "    arg2 = step * (self.warmup_steps**-1.5)\n",
        "\n",
        "    return tf.math.rsqrt(self.d_model) * tf.math.minimum(arg1, arg2)"
      ],
      "execution_count": 55,
      "outputs": []
    },
    {
      "cell_type": "code",
      "metadata": {
        "id": "d4kPBiQkLF8B"
      },
      "source": [
        "tf.keras.backend.clear_session()\n",
        "\n",
        "# Hyperparameters\n",
        "\n",
        "# NUM_LAYERS = 2\n",
        "NUM_LAYERS = 1\n",
        "\n",
        "D_MODEL = 128\n",
        "NUM_HEADS = 4\n",
        "UNITS = 256\n",
        "DROPOUT = 0.2\n",
        "\n",
        "\n",
        "model = transformer(\n",
        "    vocab_size=VOCAB_SIZE,\n",
        "    num_layers=NUM_LAYERS,\n",
        "    units=UNITS,\n",
        "    d_model=D_MODEL,\n",
        "    num_heads=NUM_HEADS,\n",
        "    dropout=DROPOUT)"
      ],
      "execution_count": 56,
      "outputs": []
    },
    {
      "cell_type": "code",
      "metadata": {
        "id": "9XDXvuc8Tj6J"
      },
      "source": [
        "# Learning rate\n",
        "learning_rate = CustomSchedule(D_MODEL)\n",
        "\n",
        "# Optimizer = Adam\n",
        "optimizer = tf.keras.optimizers.Adam(\n",
        "    learning_rate, beta_1=0.9, beta_2=0.98, epsilon=1e-9)\n",
        "\n",
        "def accuracy(y_true, y_pred):\n",
        "  # ensure labels have shape (batch_size, MAX_LENGTH - 1)\n",
        "  y_true = tf.reshape(y_true, shape=(-1, MAX_LENGTH - 1))\n",
        "  return tf.keras.metrics.sparse_categorical_accuracy(y_true, y_pred)\n",
        "\n",
        "model.compile(optimizer=optimizer, loss=loss_function, metrics=[accuracy])"
      ],
      "execution_count": 57,
      "outputs": []
    },
    {
      "cell_type": "code",
      "metadata": {
        "id": "Udey1pWqABXR"
      },
      "source": [
        "EPOCHS = 10"
      ],
      "execution_count": 58,
      "outputs": []
    },
    {
      "cell_type": "code",
      "metadata": {
        "colab": {
          "base_uri": "https://localhost:8080/"
        },
        "id": "AVHbISTxTj8d",
        "outputId": "fd9e1364-eb08-49c6-fec5-684695b54f17"
      },
      "source": [
        "model.fit(dataset, epochs=EPOCHS)"
      ],
      "execution_count": 59,
      "outputs": [
        {
          "output_type": "stream",
          "name": "stdout",
          "text": [
            "Epoch 1/10\n",
            "223/223 [==============================] - 71s 290ms/step - loss: 0.6404 - accuracy: 0.0121\n",
            "Epoch 2/10\n",
            "223/223 [==============================] - 65s 290ms/step - loss: 0.3795 - accuracy: 0.0509\n",
            "Epoch 3/10\n",
            "223/223 [==============================] - 65s 290ms/step - loss: 0.2151 - accuracy: 0.0598\n",
            "Epoch 4/10\n",
            "223/223 [==============================] - 65s 289ms/step - loss: 0.1515 - accuracy: 0.0673\n",
            "Epoch 5/10\n",
            "223/223 [==============================] - 64s 289ms/step - loss: 0.1136 - accuracy: 0.0715\n",
            "Epoch 6/10\n",
            "223/223 [==============================] - 65s 289ms/step - loss: 0.0898 - accuracy: 0.0749\n",
            "Epoch 7/10\n",
            "223/223 [==============================] - 65s 290ms/step - loss: 0.0759 - accuracy: 0.0768\n",
            "Epoch 8/10\n",
            "223/223 [==============================] - 65s 290ms/step - loss: 0.0679 - accuracy: 0.0778\n",
            "Epoch 9/10\n",
            "223/223 [==============================] - 65s 290ms/step - loss: 0.0632 - accuracy: 0.0784\n",
            "Epoch 10/10\n",
            "223/223 [==============================] - 64s 289ms/step - loss: 0.0603 - accuracy: 0.0788\n"
          ]
        },
        {
          "output_type": "execute_result",
          "data": {
            "text/plain": [
              "<keras.callbacks.History at 0x7f88f54e6710>"
            ]
          },
          "metadata": {},
          "execution_count": 59
        }
      ]
    },
    {
      "cell_type": "code",
      "metadata": {
        "id": "Qvgs4Pf4TkEC"
      },
      "source": [
        "def evaluate(sentence):\n",
        "  sentence = preprocess_sentence(sentence)\n",
        "\n",
        "  sentence = tf.expand_dims(\n",
        "      START_TOKEN + tokenizer.encode(sentence) + END_TOKEN, axis=0)\n",
        "\n",
        "  output = tf.expand_dims(START_TOKEN, 0)\n",
        "\n",
        "  for i in range(MAX_LENGTH):\n",
        "    predictions = model(inputs=[sentence, output], training=False)\n",
        "\n",
        "    predictions = predictions[:, -1:, :]\n",
        "    predicted_id = tf.cast(tf.argmax(predictions, axis=-1), tf.int32)\n",
        "\n",
        "    if tf.equal(predicted_id, END_TOKEN[0]):\n",
        "      break\n",
        "\n",
        "    output = tf.concat([output, predicted_id], axis=-1)\n",
        "\n",
        "  return tf.squeeze(output, axis=0)\n",
        "\n",
        "\n",
        "def predict(sentence):\n",
        "  prediction = evaluate(sentence)\n",
        "\n",
        "  predicted_sentence = tokenizer.decode(\n",
        "      [i for i in prediction if i < tokenizer.vocab_size])\n",
        "\n",
        "  return predicted_sentence\n",
        "\n",
        "\n",
        "def preprocess_sentence(sentence):\n",
        "  sentence = re.sub(r\"([?.!,])\", r\" \\1 \", sentence)\n",
        "  sentence = sentence.strip()\n",
        "  return sentence"
      ],
      "execution_count": 60,
      "outputs": []
    },
    {
      "cell_type": "code",
      "metadata": {
        "id": "k592OU1EY7xc",
        "colab": {
          "base_uri": "https://localhost:8080/",
          "height": 35
        },
        "outputId": "c4778b9f-d523-4ee8-d887-cb741c544233"
      },
      "source": [
        "predict(filtering_train_df['split_label_token'][2])"
      ],
      "execution_count": 61,
      "outputs": [
        {
          "output_type": "execute_result",
          "data": {
            "application/vnd.google.colaboratory.intrinsic+json": {
              "type": "string"
            },
            "text/plain": [
              "'<esp> RED SPOTTY CHARLOTTE BAG <esp>'"
            ]
          },
          "metadata": {},
          "execution_count": 61
        }
      ]
    },
    {
      "cell_type": "code",
      "metadata": {
        "id": "Ammn_7esech4"
      },
      "source": [
        "filtering_test_df['split_train_token'] = ['<esp> ' + i.strip().replace('&&', ' <esp> ') + ' <esp>' for i in filtering_test_df['train']]\n",
        "filtering_test_df['split_label_token'] = ['<esp> ' + i.strip() + ' <esp>' for i in filtering_test_df['label']]"
      ],
      "execution_count": 62,
      "outputs": []
    },
    {
      "cell_type": "code",
      "metadata": {
        "id": "3wGK8SfJfCLv",
        "colab": {
          "base_uri": "https://localhost:8080/",
          "height": 289
        },
        "outputId": "eb6011d0-3229-48f1-c3eb-ee1d7d1e0f07"
      },
      "source": [
        "filtering_test_df.head()"
      ],
      "execution_count": 64,
      "outputs": [
        {
          "output_type": "execute_result",
          "data": {
            "text/html": [
              "<div>\n",
              "<style scoped>\n",
              "    .dataframe tbody tr th:only-of-type {\n",
              "        vertical-align: middle;\n",
              "    }\n",
              "\n",
              "    .dataframe tbody tr th {\n",
              "        vertical-align: top;\n",
              "    }\n",
              "\n",
              "    .dataframe thead th {\n",
              "        text-align: right;\n",
              "    }\n",
              "</style>\n",
              "<table border=\"1\" class=\"dataframe\">\n",
              "  <thead>\n",
              "    <tr style=\"text-align: right;\">\n",
              "      <th></th>\n",
              "      <th>train</th>\n",
              "      <th>label</th>\n",
              "      <th>split_train_token</th>\n",
              "      <th>split_label_token</th>\n",
              "    </tr>\n",
              "  </thead>\n",
              "  <tbody>\n",
              "    <tr>\n",
              "      <th>0</th>\n",
              "      <td>DANISH ROSE PHOTO FRAME&amp;&amp;RETRO BLUE SPOTTY WAS...</td>\n",
              "      <td>WOODEN UNION JACK BUNTING</td>\n",
              "      <td>&lt;esp&gt; DANISH ROSE PHOTO FRAME &lt;esp&gt; RETRO BLUE...</td>\n",
              "      <td>&lt;esp&gt; WOODEN UNION JACK BUNTING &lt;esp&gt;</td>\n",
              "    </tr>\n",
              "    <tr>\n",
              "      <th>1</th>\n",
              "      <td>SET OF 2 ROUND TINS DUTCH CHEESE&amp;&amp;LARGE MEDINA...</td>\n",
              "      <td>LOVE BUILDING BLOCK WORD</td>\n",
              "      <td>&lt;esp&gt; SET OF 2 ROUND TINS DUTCH CHEESE &lt;esp&gt; L...</td>\n",
              "      <td>&lt;esp&gt; LOVE BUILDING BLOCK WORD &lt;esp&gt;</td>\n",
              "    </tr>\n",
              "    <tr>\n",
              "      <th>2</th>\n",
              "      <td>PINK 3 PIECE MINI DOTS CUTLERY SET&amp;&amp;CHILDS APR...</td>\n",
              "      <td>MINI JIGSAW SPACEBOY</td>\n",
              "      <td>&lt;esp&gt; PINK 3 PIECE MINI DOTS CUTLERY SET &lt;esp&gt;...</td>\n",
              "      <td>&lt;esp&gt; MINI JIGSAW SPACEBOY &lt;esp&gt;</td>\n",
              "    </tr>\n",
              "    <tr>\n",
              "      <th>3</th>\n",
              "      <td>WOODEN BOX OF DOMINOES&amp;&amp;TEA TIME DES TEA COSY&amp;...</td>\n",
              "      <td>GREEN GINGHAM FLOWER JEWELLERY BOX</td>\n",
              "      <td>&lt;esp&gt; WOODEN BOX OF DOMINOES &lt;esp&gt; TEA TIME DE...</td>\n",
              "      <td>&lt;esp&gt; GREEN GINGHAM FLOWER JEWELLERY BOX &lt;esp&gt;</td>\n",
              "    </tr>\n",
              "    <tr>\n",
              "      <th>4</th>\n",
              "      <td>ASSORTED COLOURS SILK FAN&amp;&amp;PACK OF 72 SKULL CA...</td>\n",
              "      <td>WORLD WAR 2 GLIDERS ASSTD DESIGNS</td>\n",
              "      <td>&lt;esp&gt; ASSORTED COLOURS SILK FAN &lt;esp&gt; PACK OF ...</td>\n",
              "      <td>&lt;esp&gt; WORLD WAR 2 GLIDERS ASSTD DESIGNS &lt;esp&gt;</td>\n",
              "    </tr>\n",
              "  </tbody>\n",
              "</table>\n",
              "</div>"
            ],
            "text/plain": [
              "                                               train  ...                               split_label_token\n",
              "0  DANISH ROSE PHOTO FRAME&&RETRO BLUE SPOTTY WAS...  ...           <esp> WOODEN UNION JACK BUNTING <esp>\n",
              "1  SET OF 2 ROUND TINS DUTCH CHEESE&&LARGE MEDINA...  ...            <esp> LOVE BUILDING BLOCK WORD <esp>\n",
              "2  PINK 3 PIECE MINI DOTS CUTLERY SET&&CHILDS APR...  ...                <esp> MINI JIGSAW SPACEBOY <esp>\n",
              "3  WOODEN BOX OF DOMINOES&&TEA TIME DES TEA COSY&...  ...  <esp> GREEN GINGHAM FLOWER JEWELLERY BOX <esp>\n",
              "4  ASSORTED COLOURS SILK FAN&&PACK OF 72 SKULL CA...  ...   <esp> WORLD WAR 2 GLIDERS ASSTD DESIGNS <esp>\n",
              "\n",
              "[5 rows x 4 columns]"
            ]
          },
          "metadata": {},
          "execution_count": 64
        }
      ]
    },
    {
      "cell_type": "code",
      "metadata": {
        "id": "3kA-UfGzeHIY",
        "colab": {
          "base_uri": "https://localhost:8080/"
        },
        "outputId": "eb5138af-cdd4-4e1b-ff1b-7940707d0345"
      },
      "source": [
        "tqdm.tqdm.pandas()\n",
        "predict_item_test = filtering_test_df['split_train_token'].progress_apply(predict)"
      ],
      "execution_count": 65,
      "outputs": [
        {
          "output_type": "stream",
          "name": "stderr",
          "text": [
            "100%|██████████| 14241/14241 [2:20:01<00:00,  1.70it/s]\n"
          ]
        }
      ]
    },
    {
      "cell_type": "code",
      "metadata": {
        "id": "R1bg7taWe3Vl"
      },
      "source": [
        "filtering_test_df['predict_item'] = predict_item_test"
      ],
      "execution_count": 66,
      "outputs": []
    },
    {
      "cell_type": "code",
      "metadata": {
        "id": "sRmBz3pWM_DP",
        "colab": {
          "base_uri": "https://localhost:8080/",
          "height": 589
        },
        "outputId": "5182af90-4912-4621-bf31-9955fd30e0ac"
      },
      "source": [
        "filtering_test_df"
      ],
      "execution_count": 67,
      "outputs": [
        {
          "output_type": "execute_result",
          "data": {
            "text/html": [
              "<div>\n",
              "<style scoped>\n",
              "    .dataframe tbody tr th:only-of-type {\n",
              "        vertical-align: middle;\n",
              "    }\n",
              "\n",
              "    .dataframe tbody tr th {\n",
              "        vertical-align: top;\n",
              "    }\n",
              "\n",
              "    .dataframe thead th {\n",
              "        text-align: right;\n",
              "    }\n",
              "</style>\n",
              "<table border=\"1\" class=\"dataframe\">\n",
              "  <thead>\n",
              "    <tr style=\"text-align: right;\">\n",
              "      <th></th>\n",
              "      <th>train</th>\n",
              "      <th>label</th>\n",
              "      <th>split_train_token</th>\n",
              "      <th>split_label_token</th>\n",
              "      <th>predict_item</th>\n",
              "    </tr>\n",
              "  </thead>\n",
              "  <tbody>\n",
              "    <tr>\n",
              "      <th>0</th>\n",
              "      <td>DANISH ROSE PHOTO FRAME&amp;&amp;RETRO BLUE SPOTTY WAS...</td>\n",
              "      <td>WOODEN UNION JACK BUNTING</td>\n",
              "      <td>&lt;esp&gt; DANISH ROSE PHOTO FRAME &lt;esp&gt; RETRO BLUE...</td>\n",
              "      <td>&lt;esp&gt; WOODEN UNION JACK BUNTING &lt;esp&gt;</td>\n",
              "      <td>&lt;esp&gt; HOT BATHS METAL SIGN &lt;esp&gt;</td>\n",
              "    </tr>\n",
              "    <tr>\n",
              "      <th>1</th>\n",
              "      <td>SET OF 2 ROUND TINS DUTCH CHEESE&amp;&amp;LARGE MEDINA...</td>\n",
              "      <td>LOVE BUILDING BLOCK WORD</td>\n",
              "      <td>&lt;esp&gt; SET OF 2 ROUND TINS DUTCH CHEESE &lt;esp&gt; L...</td>\n",
              "      <td>&lt;esp&gt; LOVE BUILDING BLOCK WORD &lt;esp&gt;</td>\n",
              "      <td>&lt;esp&gt; RED SPOTTY APRON &lt;esp&gt;</td>\n",
              "    </tr>\n",
              "    <tr>\n",
              "      <th>2</th>\n",
              "      <td>PINK 3 PIECE MINI DOTS CUTLERY SET&amp;&amp;CHILDS APR...</td>\n",
              "      <td>MINI JIGSAW SPACEBOY</td>\n",
              "      <td>&lt;esp&gt; PINK 3 PIECE MINI DOTS CUTLERY SET &lt;esp&gt;...</td>\n",
              "      <td>&lt;esp&gt; MINI JIGSAW SPACEBOY &lt;esp&gt;</td>\n",
              "      <td>&lt;esp&gt; RED 3 PIECE MINI DOTS CUTLERY SET &lt;esp&gt;</td>\n",
              "    </tr>\n",
              "    <tr>\n",
              "      <th>3</th>\n",
              "      <td>WOODEN BOX OF DOMINOES&amp;&amp;TEA TIME DES TEA COSY&amp;...</td>\n",
              "      <td>GREEN GINGHAM FLOWER JEWELLERY BOX</td>\n",
              "      <td>&lt;esp&gt; WOODEN BOX OF DOMINOES &lt;esp&gt; TEA TIME DE...</td>\n",
              "      <td>&lt;esp&gt; GREEN GINGHAM FLOWER JEWELLERY BOX &lt;esp&gt;</td>\n",
              "      <td>&lt;esp&gt; RED SPOTTY BISCUIT TIN &lt;esp&gt;</td>\n",
              "    </tr>\n",
              "    <tr>\n",
              "      <th>4</th>\n",
              "      <td>ASSORTED COLOURS SILK FAN&amp;&amp;PACK OF 72 SKULL CA...</td>\n",
              "      <td>WORLD WAR 2 GLIDERS ASSTD DESIGNS</td>\n",
              "      <td>&lt;esp&gt; ASSORTED COLOURS SILK FAN &lt;esp&gt; PACK OF ...</td>\n",
              "      <td>&lt;esp&gt; WORLD WAR 2 GLIDERS ASSTD DESIGNS &lt;esp&gt;</td>\n",
              "      <td>&lt;esp&gt; SET OF 72 RETRO SPOT PAPER  DOILIES &lt;esp&gt;</td>\n",
              "    </tr>\n",
              "    <tr>\n",
              "      <th>...</th>\n",
              "      <td>...</td>\n",
              "      <td>...</td>\n",
              "      <td>...</td>\n",
              "      <td>...</td>\n",
              "      <td>...</td>\n",
              "    </tr>\n",
              "    <tr>\n",
              "      <th>14236</th>\n",
              "      <td>ASSORTED COLOUR BIRD ORNAMENT&amp;&amp;FILIGRIS HEART ...</td>\n",
              "      <td>HANGING WOOD AND FELT HEART</td>\n",
              "      <td>&lt;esp&gt; ASSORTED COLOUR BIRD ORNAMENT &lt;esp&gt; FILI...</td>\n",
              "      <td>&lt;esp&gt; HANGING WOOD AND FELT HEART &lt;esp&gt;</td>\n",
              "      <td>&lt;esp&gt; HANGING HEART ZINC T-LIGHT HOLDER &lt;esp&gt;</td>\n",
              "    </tr>\n",
              "    <tr>\n",
              "      <th>14237</th>\n",
              "      <td>LADLE LOVE HEART RED&amp;&amp;FAWN AND MUSHROOM GREETI...</td>\n",
              "      <td>SET/6 RED SPOTTY PAPER PLATES</td>\n",
              "      <td>&lt;esp&gt; LADLE LOVE HEART RED &lt;esp&gt; FAWN AND MUSH...</td>\n",
              "      <td>&lt;esp&gt; SET/6 RED SPOTTY PAPER PLATES &lt;esp&gt;</td>\n",
              "      <td>&lt;esp&gt; PACK OF 72 RETRO SPOT CAKE CASES &lt;esp&gt;</td>\n",
              "    </tr>\n",
              "    <tr>\n",
              "      <th>14238</th>\n",
              "      <td>GOLD  CHERRY LIGHTS&amp;&amp;URBAN CHIC CHOPSTICKS SET...</td>\n",
              "      <td>WOBBLING METAL CHICKEN EASTER</td>\n",
              "      <td>&lt;esp&gt; GOLD  CHERRY LIGHTS &lt;esp&gt; URBAN CHIC CHO...</td>\n",
              "      <td>&lt;esp&gt; WOBBLING METAL CHICKEN EASTER &lt;esp&gt;</td>\n",
              "      <td>&lt;esp&gt; PINK FAIRY CAKE CHILD'S APRON &lt;esp&gt;</td>\n",
              "    </tr>\n",
              "    <tr>\n",
              "      <th>14239</th>\n",
              "      <td>SET/2 RED SPOTTY TEA TOWELS&amp;&amp;ABSTRACT CIRCLES ...</td>\n",
              "      <td>HOME SWEET HOME  BLACKBOARD</td>\n",
              "      <td>&lt;esp&gt; SET/2 RED SPOTTY TEA TOWELS &lt;esp&gt; ABSTRA...</td>\n",
              "      <td>&lt;esp&gt; HOME SWEET HOME  BLACKBOARD &lt;esp&gt;</td>\n",
              "      <td>&lt;esp&gt; DOOR MAT UNION FLAG &lt;esp&gt;</td>\n",
              "    </tr>\n",
              "    <tr>\n",
              "      <th>14240</th>\n",
              "      <td>ASSORTED COLOUR SILK COIN PURSE&amp;&amp;BEACH HUT MIR...</td>\n",
              "      <td>DOORMAT UNION JACK GUNS AND ROSES</td>\n",
              "      <td>&lt;esp&gt; ASSORTED COLOUR SILK COIN PURSE &lt;esp&gt; BE...</td>\n",
              "      <td>&lt;esp&gt; DOORMAT UNION JACK GUNS AND ROSES &lt;esp&gt;</td>\n",
              "      <td>&lt;esp&gt; RED SPOTTY BISCUIT TIN &lt;esp&gt;</td>\n",
              "    </tr>\n",
              "  </tbody>\n",
              "</table>\n",
              "<p>14241 rows × 5 columns</p>\n",
              "</div>"
            ],
            "text/plain": [
              "                                                   train  ...                                     predict_item\n",
              "0      DANISH ROSE PHOTO FRAME&&RETRO BLUE SPOTTY WAS...  ...                 <esp> HOT BATHS METAL SIGN <esp>\n",
              "1      SET OF 2 ROUND TINS DUTCH CHEESE&&LARGE MEDINA...  ...                     <esp> RED SPOTTY APRON <esp>\n",
              "2      PINK 3 PIECE MINI DOTS CUTLERY SET&&CHILDS APR...  ...    <esp> RED 3 PIECE MINI DOTS CUTLERY SET <esp>\n",
              "3      WOODEN BOX OF DOMINOES&&TEA TIME DES TEA COSY&...  ...               <esp> RED SPOTTY BISCUIT TIN <esp>\n",
              "4      ASSORTED COLOURS SILK FAN&&PACK OF 72 SKULL CA...  ...  <esp> SET OF 72 RETRO SPOT PAPER  DOILIES <esp>\n",
              "...                                                  ...  ...                                              ...\n",
              "14236  ASSORTED COLOUR BIRD ORNAMENT&&FILIGRIS HEART ...  ...    <esp> HANGING HEART ZINC T-LIGHT HOLDER <esp>\n",
              "14237  LADLE LOVE HEART RED&&FAWN AND MUSHROOM GREETI...  ...     <esp> PACK OF 72 RETRO SPOT CAKE CASES <esp>\n",
              "14238  GOLD  CHERRY LIGHTS&&URBAN CHIC CHOPSTICKS SET...  ...        <esp> PINK FAIRY CAKE CHILD'S APRON <esp>\n",
              "14239  SET/2 RED SPOTTY TEA TOWELS&&ABSTRACT CIRCLES ...  ...                  <esp> DOOR MAT UNION FLAG <esp>\n",
              "14240  ASSORTED COLOUR SILK COIN PURSE&&BEACH HUT MIR...  ...               <esp> RED SPOTTY BISCUIT TIN <esp>\n",
              "\n",
              "[14241 rows x 5 columns]"
            ]
          },
          "metadata": {},
          "execution_count": 67
        }
      ]
    },
    {
      "cell_type": "markdown",
      "metadata": {
        "id": "Qe4JPXDuMhzv"
      },
      "source": [
        "# Product2Vec"
      ]
    },
    {
      "cell_type": "code",
      "metadata": {
        "id": "nwMSPAmDLizi"
      },
      "source": [
        "TFoutputs = filtering_test_df"
      ],
      "execution_count": 68,
      "outputs": []
    },
    {
      "cell_type": "code",
      "metadata": {
        "id": "Xhf_KP7ANU4c",
        "colab": {
          "base_uri": "https://localhost:8080/"
        },
        "outputId": "0b70d5ef-5ad4-44fc-a3ae-57bf43bd6230"
      },
      "source": [
        "checker = pd.Series([i in detail for i in TFoutputs['predict_item']])\n",
        "print(checker.value_counts())\n",
        "filter = checker[checker == False].index\n",
        "len(filter)"
      ],
      "execution_count": 69,
      "outputs": [
        {
          "output_type": "stream",
          "name": "stdout",
          "text": [
            "False    14241\n",
            "dtype: int64\n"
          ]
        },
        {
          "output_type": "execute_result",
          "data": {
            "text/plain": [
              "14241"
            ]
          },
          "metadata": {},
          "execution_count": 69
        }
      ]
    },
    {
      "cell_type": "code",
      "metadata": {
        "id": "Uh-NlYnHNf5n",
        "colab": {
          "base_uri": "https://localhost:8080/",
          "height": 640
        },
        "outputId": "80bb90b3-bd79-43df-818f-ab7c045793b0"
      },
      "source": [
        "TFoutputs['filter'] = checker\n",
        "TFoutputs"
      ],
      "execution_count": 70,
      "outputs": [
        {
          "output_type": "execute_result",
          "data": {
            "text/html": [
              "<div>\n",
              "<style scoped>\n",
              "    .dataframe tbody tr th:only-of-type {\n",
              "        vertical-align: middle;\n",
              "    }\n",
              "\n",
              "    .dataframe tbody tr th {\n",
              "        vertical-align: top;\n",
              "    }\n",
              "\n",
              "    .dataframe thead th {\n",
              "        text-align: right;\n",
              "    }\n",
              "</style>\n",
              "<table border=\"1\" class=\"dataframe\">\n",
              "  <thead>\n",
              "    <tr style=\"text-align: right;\">\n",
              "      <th></th>\n",
              "      <th>train</th>\n",
              "      <th>label</th>\n",
              "      <th>split_train_token</th>\n",
              "      <th>split_label_token</th>\n",
              "      <th>predict_item</th>\n",
              "      <th>filter</th>\n",
              "    </tr>\n",
              "  </thead>\n",
              "  <tbody>\n",
              "    <tr>\n",
              "      <th>0</th>\n",
              "      <td>DANISH ROSE PHOTO FRAME&amp;&amp;RETRO BLUE SPOTTY WAS...</td>\n",
              "      <td>WOODEN UNION JACK BUNTING</td>\n",
              "      <td>&lt;esp&gt; DANISH ROSE PHOTO FRAME &lt;esp&gt; RETRO BLUE...</td>\n",
              "      <td>&lt;esp&gt; WOODEN UNION JACK BUNTING &lt;esp&gt;</td>\n",
              "      <td>&lt;esp&gt; HOT BATHS METAL SIGN &lt;esp&gt;</td>\n",
              "      <td>False</td>\n",
              "    </tr>\n",
              "    <tr>\n",
              "      <th>1</th>\n",
              "      <td>SET OF 2 ROUND TINS DUTCH CHEESE&amp;&amp;LARGE MEDINA...</td>\n",
              "      <td>LOVE BUILDING BLOCK WORD</td>\n",
              "      <td>&lt;esp&gt; SET OF 2 ROUND TINS DUTCH CHEESE &lt;esp&gt; L...</td>\n",
              "      <td>&lt;esp&gt; LOVE BUILDING BLOCK WORD &lt;esp&gt;</td>\n",
              "      <td>&lt;esp&gt; RED SPOTTY APRON &lt;esp&gt;</td>\n",
              "      <td>False</td>\n",
              "    </tr>\n",
              "    <tr>\n",
              "      <th>2</th>\n",
              "      <td>PINK 3 PIECE MINI DOTS CUTLERY SET&amp;&amp;CHILDS APR...</td>\n",
              "      <td>MINI JIGSAW SPACEBOY</td>\n",
              "      <td>&lt;esp&gt; PINK 3 PIECE MINI DOTS CUTLERY SET &lt;esp&gt;...</td>\n",
              "      <td>&lt;esp&gt; MINI JIGSAW SPACEBOY &lt;esp&gt;</td>\n",
              "      <td>&lt;esp&gt; RED 3 PIECE MINI DOTS CUTLERY SET &lt;esp&gt;</td>\n",
              "      <td>False</td>\n",
              "    </tr>\n",
              "    <tr>\n",
              "      <th>3</th>\n",
              "      <td>WOODEN BOX OF DOMINOES&amp;&amp;TEA TIME DES TEA COSY&amp;...</td>\n",
              "      <td>GREEN GINGHAM FLOWER JEWELLERY BOX</td>\n",
              "      <td>&lt;esp&gt; WOODEN BOX OF DOMINOES &lt;esp&gt; TEA TIME DE...</td>\n",
              "      <td>&lt;esp&gt; GREEN GINGHAM FLOWER JEWELLERY BOX &lt;esp&gt;</td>\n",
              "      <td>&lt;esp&gt; RED SPOTTY BISCUIT TIN &lt;esp&gt;</td>\n",
              "      <td>False</td>\n",
              "    </tr>\n",
              "    <tr>\n",
              "      <th>4</th>\n",
              "      <td>ASSORTED COLOURS SILK FAN&amp;&amp;PACK OF 72 SKULL CA...</td>\n",
              "      <td>WORLD WAR 2 GLIDERS ASSTD DESIGNS</td>\n",
              "      <td>&lt;esp&gt; ASSORTED COLOURS SILK FAN &lt;esp&gt; PACK OF ...</td>\n",
              "      <td>&lt;esp&gt; WORLD WAR 2 GLIDERS ASSTD DESIGNS &lt;esp&gt;</td>\n",
              "      <td>&lt;esp&gt; SET OF 72 RETRO SPOT PAPER  DOILIES &lt;esp&gt;</td>\n",
              "      <td>False</td>\n",
              "    </tr>\n",
              "    <tr>\n",
              "      <th>...</th>\n",
              "      <td>...</td>\n",
              "      <td>...</td>\n",
              "      <td>...</td>\n",
              "      <td>...</td>\n",
              "      <td>...</td>\n",
              "      <td>...</td>\n",
              "    </tr>\n",
              "    <tr>\n",
              "      <th>14236</th>\n",
              "      <td>ASSORTED COLOUR BIRD ORNAMENT&amp;&amp;FILIGRIS HEART ...</td>\n",
              "      <td>HANGING WOOD AND FELT HEART</td>\n",
              "      <td>&lt;esp&gt; ASSORTED COLOUR BIRD ORNAMENT &lt;esp&gt; FILI...</td>\n",
              "      <td>&lt;esp&gt; HANGING WOOD AND FELT HEART &lt;esp&gt;</td>\n",
              "      <td>&lt;esp&gt; HANGING HEART ZINC T-LIGHT HOLDER &lt;esp&gt;</td>\n",
              "      <td>False</td>\n",
              "    </tr>\n",
              "    <tr>\n",
              "      <th>14237</th>\n",
              "      <td>LADLE LOVE HEART RED&amp;&amp;FAWN AND MUSHROOM GREETI...</td>\n",
              "      <td>SET/6 RED SPOTTY PAPER PLATES</td>\n",
              "      <td>&lt;esp&gt; LADLE LOVE HEART RED &lt;esp&gt; FAWN AND MUSH...</td>\n",
              "      <td>&lt;esp&gt; SET/6 RED SPOTTY PAPER PLATES &lt;esp&gt;</td>\n",
              "      <td>&lt;esp&gt; PACK OF 72 RETRO SPOT CAKE CASES &lt;esp&gt;</td>\n",
              "      <td>False</td>\n",
              "    </tr>\n",
              "    <tr>\n",
              "      <th>14238</th>\n",
              "      <td>GOLD  CHERRY LIGHTS&amp;&amp;URBAN CHIC CHOPSTICKS SET...</td>\n",
              "      <td>WOBBLING METAL CHICKEN EASTER</td>\n",
              "      <td>&lt;esp&gt; GOLD  CHERRY LIGHTS &lt;esp&gt; URBAN CHIC CHO...</td>\n",
              "      <td>&lt;esp&gt; WOBBLING METAL CHICKEN EASTER &lt;esp&gt;</td>\n",
              "      <td>&lt;esp&gt; PINK FAIRY CAKE CHILD'S APRON &lt;esp&gt;</td>\n",
              "      <td>False</td>\n",
              "    </tr>\n",
              "    <tr>\n",
              "      <th>14239</th>\n",
              "      <td>SET/2 RED SPOTTY TEA TOWELS&amp;&amp;ABSTRACT CIRCLES ...</td>\n",
              "      <td>HOME SWEET HOME  BLACKBOARD</td>\n",
              "      <td>&lt;esp&gt; SET/2 RED SPOTTY TEA TOWELS &lt;esp&gt; ABSTRA...</td>\n",
              "      <td>&lt;esp&gt; HOME SWEET HOME  BLACKBOARD &lt;esp&gt;</td>\n",
              "      <td>&lt;esp&gt; DOOR MAT UNION FLAG &lt;esp&gt;</td>\n",
              "      <td>False</td>\n",
              "    </tr>\n",
              "    <tr>\n",
              "      <th>14240</th>\n",
              "      <td>ASSORTED COLOUR SILK COIN PURSE&amp;&amp;BEACH HUT MIR...</td>\n",
              "      <td>DOORMAT UNION JACK GUNS AND ROSES</td>\n",
              "      <td>&lt;esp&gt; ASSORTED COLOUR SILK COIN PURSE &lt;esp&gt; BE...</td>\n",
              "      <td>&lt;esp&gt; DOORMAT UNION JACK GUNS AND ROSES &lt;esp&gt;</td>\n",
              "      <td>&lt;esp&gt; RED SPOTTY BISCUIT TIN &lt;esp&gt;</td>\n",
              "      <td>False</td>\n",
              "    </tr>\n",
              "  </tbody>\n",
              "</table>\n",
              "<p>14241 rows × 6 columns</p>\n",
              "</div>"
            ],
            "text/plain": [
              "                                                   train  ... filter\n",
              "0      DANISH ROSE PHOTO FRAME&&RETRO BLUE SPOTTY WAS...  ...  False\n",
              "1      SET OF 2 ROUND TINS DUTCH CHEESE&&LARGE MEDINA...  ...  False\n",
              "2      PINK 3 PIECE MINI DOTS CUTLERY SET&&CHILDS APR...  ...  False\n",
              "3      WOODEN BOX OF DOMINOES&&TEA TIME DES TEA COSY&...  ...  False\n",
              "4      ASSORTED COLOURS SILK FAN&&PACK OF 72 SKULL CA...  ...  False\n",
              "...                                                  ...  ...    ...\n",
              "14236  ASSORTED COLOUR BIRD ORNAMENT&&FILIGRIS HEART ...  ...  False\n",
              "14237  LADLE LOVE HEART RED&&FAWN AND MUSHROOM GREETI...  ...  False\n",
              "14238  GOLD  CHERRY LIGHTS&&URBAN CHIC CHOPSTICKS SET...  ...  False\n",
              "14239  SET/2 RED SPOTTY TEA TOWELS&&ABSTRACT CIRCLES ...  ...  False\n",
              "14240  ASSORTED COLOUR SILK COIN PURSE&&BEACH HUT MIR...  ...  False\n",
              "\n",
              "[14241 rows x 6 columns]"
            ]
          },
          "metadata": {},
          "execution_count": 70
        }
      ]
    },
    {
      "cell_type": "code",
      "metadata": {
        "id": "8NNnTiziKXBu",
        "colab": {
          "base_uri": "https://localhost:8080/"
        },
        "outputId": "c87cb0d4-b188-40a1-ee31-08a5d4b0c58b"
      },
      "source": [
        "pred = TFoutputs['predict_item']\n",
        "pred = pred.str.replace('<esp>', '')\n",
        "pred = pred.str.strip()\n",
        "pred.head()"
      ],
      "execution_count": 71,
      "outputs": [
        {
          "output_type": "execute_result",
          "data": {
            "text/plain": [
              "0                   HOT BATHS METAL SIGN\n",
              "1                       RED SPOTTY APRON\n",
              "2      RED 3 PIECE MINI DOTS CUTLERY SET\n",
              "3                 RED SPOTTY BISCUIT TIN\n",
              "4    SET OF 72 RETRO SPOT PAPER  DOILIES\n",
              "Name: predict_item, dtype: object"
            ]
          },
          "metadata": {},
          "execution_count": 71
        }
      ]
    },
    {
      "cell_type": "code",
      "metadata": {
        "id": "99bDozohPb0F",
        "colab": {
          "base_uri": "https://localhost:8080/"
        },
        "outputId": "cf0017d7-c70a-473a-824d-5297623f04ac"
      },
      "source": [
        "falses = pd.Series([TFoutputs['predict_item'][i] for i in filter])\n",
        "falses = falses.str.replace('<esp>', '')\n",
        "falses = falses.str.strip()\n",
        "print(len(falses))\n",
        "falses.head()"
      ],
      "execution_count": 72,
      "outputs": [
        {
          "output_type": "stream",
          "name": "stdout",
          "text": [
            "14241\n"
          ]
        },
        {
          "output_type": "execute_result",
          "data": {
            "text/plain": [
              "0                   HOT BATHS METAL SIGN\n",
              "1                       RED SPOTTY APRON\n",
              "2      RED 3 PIECE MINI DOTS CUTLERY SET\n",
              "3                 RED SPOTTY BISCUIT TIN\n",
              "4    SET OF 72 RETRO SPOT PAPER  DOILIES\n",
              "dtype: object"
            ]
          },
          "metadata": {},
          "execution_count": 72
        }
      ]
    },
    {
      "cell_type": "code",
      "metadata": {
        "id": "8u5Kpf0fyHmd",
        "colab": {
          "base_uri": "https://localhost:8080/"
        },
        "outputId": "fc98b493-11f1-4736-f26f-82ba3e310a8a"
      },
      "source": [
        "filter[:5]"
      ],
      "execution_count": 73,
      "outputs": [
        {
          "output_type": "execute_result",
          "data": {
            "text/plain": [
              "Int64Index([0, 1, 2, 3, 4], dtype='int64')"
            ]
          },
          "metadata": {},
          "execution_count": 73
        }
      ]
    },
    {
      "cell_type": "code",
      "metadata": {
        "id": "IgcTovcIZrBO",
        "colab": {
          "base_uri": "https://localhost:8080/",
          "height": 419
        },
        "outputId": "f3fc9e05-0e82-4349-ef42-8f2a33af2d2d"
      },
      "source": [
        "df = df_new.copy()\n",
        "df"
      ],
      "execution_count": 74,
      "outputs": [
        {
          "output_type": "execute_result",
          "data": {
            "text/html": [
              "<div>\n",
              "<style scoped>\n",
              "    .dataframe tbody tr th:only-of-type {\n",
              "        vertical-align: middle;\n",
              "    }\n",
              "\n",
              "    .dataframe tbody tr th {\n",
              "        vertical-align: top;\n",
              "    }\n",
              "\n",
              "    .dataframe thead th {\n",
              "        text-align: right;\n",
              "    }\n",
              "</style>\n",
              "<table border=\"1\" class=\"dataframe\">\n",
              "  <thead>\n",
              "    <tr style=\"text-align: right;\">\n",
              "      <th></th>\n",
              "      <th>Detail</th>\n",
              "      <th>label</th>\n",
              "    </tr>\n",
              "  </thead>\n",
              "  <tbody>\n",
              "    <tr>\n",
              "      <th>0</th>\n",
              "      <td>HAND OPEN SHAPE GOLD&amp;&amp;RETRO SPOT MUG&amp;&amp;RETRO SP...</td>\n",
              "      <td>RETRO SPOT TRADITIONAL TEAPOT</td>\n",
              "    </tr>\n",
              "    <tr>\n",
              "      <th>1</th>\n",
              "      <td>RETRO SPOT MUG&amp;&amp;RETRO SPOT SUGAR JAM BOWL&amp;&amp;NEW...</td>\n",
              "      <td>RETRO SPOT LARGE MILK JUG</td>\n",
              "    </tr>\n",
              "    <tr>\n",
              "      <th>2</th>\n",
              "      <td>MOROCCAN TEA GLASS&amp;&amp;BLACK FLOWER CANDLE PLATE&amp;...</td>\n",
              "      <td>CERAMIC CAKE DESIGN SPOTTED PLATE</td>\n",
              "    </tr>\n",
              "    <tr>\n",
              "      <th>3</th>\n",
              "      <td>BLACK SILOUETTE CANDLE PLATE&amp;&amp;VICTORIAN GLASS ...</td>\n",
              "      <td>SAVE THE PLANET COTTON TOTE BAG</td>\n",
              "    </tr>\n",
              "    <tr>\n",
              "      <th>4</th>\n",
              "      <td>CERAMIC CAKE DESIGN SPOTTED PLATE&amp;&amp;PINK CLEAR ...</td>\n",
              "      <td>STRAWBERRY CERAMIC TRINKET BOX</td>\n",
              "    </tr>\n",
              "    <tr>\n",
              "      <th>...</th>\n",
              "      <td>...</td>\n",
              "      <td>...</td>\n",
              "    </tr>\n",
              "    <tr>\n",
              "      <th>71200</th>\n",
              "      <td>WOODEN SKITTLES GARDEN SET&amp;&amp;DOORMAT UNION FLAG...</td>\n",
              "      <td>WOODEN CROQUET GARDEN SET</td>\n",
              "    </tr>\n",
              "    <tr>\n",
              "      <th>71201</th>\n",
              "      <td>UNION STRIPE WITH FRINGE  HAMMOCK&amp;&amp;RED/CREAM S...</td>\n",
              "      <td>WHITE HANGING HEART T-LIGHT HOLDER</td>\n",
              "    </tr>\n",
              "    <tr>\n",
              "      <th>71202</th>\n",
              "      <td>OCEAN STRIPE HAMMOCK&amp;&amp;BLUE/CREAM STRIPE FRINGE...</td>\n",
              "      <td>ENAMEL WATERING CAN CREAM</td>\n",
              "    </tr>\n",
              "    <tr>\n",
              "      <th>71203</th>\n",
              "      <td>WHITE HANGING HEART T-LIGHT HOLDER&amp;&amp;BAG 250g S...</td>\n",
              "      <td>NATURAL SLATE HEART CHALKBOARD</td>\n",
              "    </tr>\n",
              "    <tr>\n",
              "      <th>71204</th>\n",
              "      <td>ENAMEL WATERING CAN CREAM&amp;&amp;PORCELAIN HANGING B...</td>\n",
              "      <td>COLOUR GLASS T-LIGHT HOLDER HANGING</td>\n",
              "    </tr>\n",
              "  </tbody>\n",
              "</table>\n",
              "<p>71205 rows × 2 columns</p>\n",
              "</div>"
            ],
            "text/plain": [
              "                                                  Detail                                label\n",
              "0      HAND OPEN SHAPE GOLD&&RETRO SPOT MUG&&RETRO SP...        RETRO SPOT TRADITIONAL TEAPOT\n",
              "1      RETRO SPOT MUG&&RETRO SPOT SUGAR JAM BOWL&&NEW...            RETRO SPOT LARGE MILK JUG\n",
              "2      MOROCCAN TEA GLASS&&BLACK FLOWER CANDLE PLATE&...    CERAMIC CAKE DESIGN SPOTTED PLATE\n",
              "3      BLACK SILOUETTE CANDLE PLATE&&VICTORIAN GLASS ...      SAVE THE PLANET COTTON TOTE BAG\n",
              "4      CERAMIC CAKE DESIGN SPOTTED PLATE&&PINK CLEAR ...       STRAWBERRY CERAMIC TRINKET BOX\n",
              "...                                                  ...                                  ...\n",
              "71200  WOODEN SKITTLES GARDEN SET&&DOORMAT UNION FLAG...            WOODEN CROQUET GARDEN SET\n",
              "71201  UNION STRIPE WITH FRINGE  HAMMOCK&&RED/CREAM S...   WHITE HANGING HEART T-LIGHT HOLDER\n",
              "71202  OCEAN STRIPE HAMMOCK&&BLUE/CREAM STRIPE FRINGE...            ENAMEL WATERING CAN CREAM\n",
              "71203  WHITE HANGING HEART T-LIGHT HOLDER&&BAG 250g S...       NATURAL SLATE HEART CHALKBOARD\n",
              "71204  ENAMEL WATERING CAN CREAM&&PORCELAIN HANGING B...  COLOUR GLASS T-LIGHT HOLDER HANGING\n",
              "\n",
              "[71205 rows x 2 columns]"
            ]
          },
          "metadata": {},
          "execution_count": 74
        }
      ]
    },
    {
      "cell_type": "code",
      "metadata": {
        "id": "tnGznGc7tyiq",
        "colab": {
          "base_uri": "https://localhost:8080/"
        },
        "outputId": "2e1be5df-8560-4403-caa8-616a72e5d870"
      },
      "source": [
        "detail = detail.tolist()\n",
        "len(detail)"
      ],
      "execution_count": 75,
      "outputs": [
        {
          "output_type": "execute_result",
          "data": {
            "text/plain": [
              "3485"
            ]
          },
          "metadata": {},
          "execution_count": 75
        }
      ]
    },
    {
      "cell_type": "code",
      "metadata": {
        "id": "-6NCE8Xsn_gE"
      },
      "source": [
        "def JaccardSimilarity(inp1, inp2):\n",
        "    list_inp1 = inp1.split()\n",
        "    list_inp2 = inp2.split()\n",
        "    mom = set(list_inp1).union(set(list_inp2))\n",
        "    son = set(list_inp1).intersection(set(list_inp2))\n",
        "    # print(mom)\n",
        "    # print(son)\n",
        "    return len(son)/len(mom)"
      ],
      "execution_count": 76,
      "outputs": []
    },
    {
      "cell_type": "code",
      "metadata": {
        "id": "UN3GqMyz6iBW",
        "colab": {
          "base_uri": "https://localhost:8080/"
        },
        "outputId": "e89ec066-ef72-4b28-8f21-8a51297b5475"
      },
      "source": [
        "pd.Series([i in detail for i in pred]).value_counts()"
      ],
      "execution_count": 77,
      "outputs": [
        {
          "output_type": "execute_result",
          "data": {
            "text/plain": [
              "True     14222\n",
              "False       19\n",
              "dtype: int64"
            ]
          },
          "metadata": {},
          "execution_count": 77
        }
      ]
    },
    {
      "cell_type": "code",
      "metadata": {
        "id": "WEsJSuI5ruEV",
        "colab": {
          "base_uri": "https://localhost:8080/"
        },
        "outputId": "f8128b94-3e7a-4ad2-b394-50c0ffb7a34a"
      },
      "source": [
        "asdf = []\n",
        "\n",
        "for v in falses:\n",
        "    m = 0\n",
        "    for d in detail:\n",
        "        score = JaccardSimilarity(v, d)\n",
        "        if m < score:\n",
        "            m = score\n",
        "            temp = d\n",
        "    if m == 0: asdf.append(v)\n",
        "    id = pred[pred == v].index\n",
        "    for i in id:\n",
        "        pred[i] = temp\n",
        "\n",
        "len(asdf)"
      ],
      "execution_count": 78,
      "outputs": [
        {
          "output_type": "execute_result",
          "data": {
            "text/plain": [
              "0"
            ]
          },
          "metadata": {},
          "execution_count": 78
        }
      ]
    },
    {
      "cell_type": "code",
      "metadata": {
        "id": "tDALBoafz4DZ",
        "colab": {
          "base_uri": "https://localhost:8080/"
        },
        "outputId": "316f8e0b-b875-4fb5-c355-774d4ce60652"
      },
      "source": [
        "pd.Series([i in detail for i in pred]).value_counts()"
      ],
      "execution_count": 79,
      "outputs": [
        {
          "output_type": "execute_result",
          "data": {
            "text/plain": [
              "True    14241\n",
              "dtype: int64"
            ]
          },
          "metadata": {},
          "execution_count": 79
        }
      ]
    },
    {
      "cell_type": "code",
      "metadata": {
        "id": "xV3a9xIwcCSi"
      },
      "source": [
        "# Word2Vec Model\n",
        "model = Word2Vec([item_list.split('&&') for item_list in df['Detail']], size=100, window=5, min_count=1, negative=15, iter=20, sample=0.00001, sg=1)"
      ],
      "execution_count": 80,
      "outputs": []
    },
    {
      "cell_type": "code",
      "metadata": {
        "id": "2vmgzv19cJIS"
      },
      "source": [
        "def find_item(item, n=10):\n",
        "    return list(dict(model.wv.most_similar(item, topn=n)))"
      ],
      "execution_count": 81,
      "outputs": []
    },
    {
      "cell_type": "code",
      "metadata": {
        "id": "hicq1rkn7Tpe",
        "colab": {
          "base_uri": "https://localhost:8080/"
        },
        "outputId": "d4a18280-693c-4dce-97f4-9c2ba5bc834d"
      },
      "source": [
        "find_item(pred[0])"
      ],
      "execution_count": 82,
      "outputs": [
        {
          "output_type": "execute_result",
          "data": {
            "text/plain": [
              "['PINK MILKSHAKE GLASS',\n",
              " 'BEACH HUT MIRROR',\n",
              " 'SILVER/BLACK ORBIT NECKLACE',\n",
              " 'CHERRY BLOSSOM PASSPORT COVER',\n",
              " 'SILVER/M.O.P PENDANT ORBIT NECKLACE',\n",
              " 'GREEN DROP EARRINGS W BEAD CLUSTER',\n",
              " 'BAROQUE BUTTERFLY EARRINGS MONTANA',\n",
              " 'DOORMAT SPOTTY HOME SWEET HOME',\n",
              " '5 STRAND GLASS NECKLACE AMBER',\n",
              " 'METALIC LEAVES BAG CHARMS']"
            ]
          },
          "metadata": {},
          "execution_count": 82
        }
      ]
    },
    {
      "cell_type": "code",
      "metadata": {
        "id": "qnTLapiUS5Wq"
      },
      "source": [
        "def recommend(n=10, acc=False, pred=pred, TFoutputs=TFoutputs):\n",
        "    item_list = []\n",
        "    for v in tqdm_notebook(pred.to_list()):\n",
        "        if n > 1:\n",
        "            pp = find_item(v, n-1)\n",
        "            pp.insert(0, v)\n",
        "            item_list.append(pp)\n",
        "        else: item_list.append(v)\n",
        "    TFoutputs['rec_list'] = item_list\n",
        "    TFoutputs['is_in'] = [True if label in item else False for label, item in tqdm_notebook(zip(TFoutputs['label'], TFoutputs['rec_list']), total=(len(TFoutputs)))]\n",
        "\n",
        "    if acc:\n",
        "        return TFoutputs[TFoutputs['is_in']==True].shape[0]/(TFoutputs.shape[0])\n",
        "\n",
        "    return TFoutputs"
      ],
      "execution_count": 83,
      "outputs": []
    },
    {
      "cell_type": "code",
      "metadata": {
        "id": "jyZiDRH6TvFu",
        "colab": {
          "base_uri": "https://localhost:8080/",
          "height": 98,
          "referenced_widgets": [
            "cf20f24c35934ff19a62691cff508449",
            "df065f1ea09145dea1cb04df65ccf6f6",
            "6dc892b650df4fdab81b65c9dae8717f",
            "22d92be51ea544e2b171a30d3a4adc4a",
            "75002c6ca9bb4c978bade48478f48668",
            "395a7cbce93b4d00aebb3874f352d091",
            "f7a9bccac7804d7c86176ea9d3819a6c",
            "5b73df6428ae4bce94389be200fb0e99",
            "2bb22f3aad4546c5a136a1d5c1ac5300",
            "2cb0bf43055e46fc8d09eda006f4623b",
            "a2d5014b039046edac6252747a947489",
            "88857c89a016416299599b886d50a347",
            "1b25010fae78441cbe1d7c2b366a3bef",
            "bdda681ba5264410ab6c4baf33ccea34",
            "50e792d18bb940bb8447013206721459",
            "e5fbd9598aca42879b029a3c02b27a65",
            "ea6e1865f7e84022b2afbbce4846e108",
            "0ca1b898908f46138bf119737f38b644",
            "9aab20a7a5c34648ad7b8c23d6f0942d",
            "40dbbf53fdcb4862b0babda26b4302e0",
            "90c294056f404376b976805da05e1fdc",
            "4c72172b9c8c4641ad81f12eea21213b"
          ]
        },
        "outputId": "0cf75dc7-56bc-4470-89a2-eb994b4fe08b"
      },
      "source": [
        "recommend(n=5, acc=True)"
      ],
      "execution_count": 84,
      "outputs": [
        {
          "output_type": "display_data",
          "data": {
            "application/vnd.jupyter.widget-view+json": {
              "model_id": "cf20f24c35934ff19a62691cff508449",
              "version_minor": 0,
              "version_major": 2
            },
            "text/plain": [
              "  0%|          | 0/14241 [00:00<?, ?it/s]"
            ]
          },
          "metadata": {}
        },
        {
          "output_type": "display_data",
          "data": {
            "application/vnd.jupyter.widget-view+json": {
              "model_id": "88857c89a016416299599b886d50a347",
              "version_minor": 0,
              "version_major": 2
            },
            "text/plain": [
              "  0%|          | 0/14241 [00:00<?, ?it/s]"
            ]
          },
          "metadata": {}
        },
        {
          "output_type": "execute_result",
          "data": {
            "text/plain": [
              "0.01734428762025139"
            ]
          },
          "metadata": {},
          "execution_count": 84
        }
      ]
    },
    {
      "cell_type": "code",
      "metadata": {
        "id": "8w2fjzSUp5nH",
        "colab": {
          "base_uri": "https://localhost:8080/",
          "height": 98,
          "referenced_widgets": [
            "72cfd769ab1e4547a351ea8e74a9d3e6",
            "87d62c239e974e739f7ffd852006259a",
            "e6b4bdb2a2944e58910ae2887c5bde3e",
            "3e55da4322fb4a91bdb8b08ba907ce9e",
            "fc3651f265cd4c8b9f082b916fd51d06",
            "4a948d0ac84d4d1da19daca3694f2ef7",
            "30fe1e33ffc04405a565d77e0e30a273",
            "762db36eb4894269ae1f7641c813a546",
            "1b286b2ecbff43af898a2e3b721c2c69",
            "1c65abe5097e4cada1e87a57bb1597a5",
            "1f6507692aeb410ab10cc0a7fb813793",
            "1ed80140f63d45e6a9622ed4b9db74ef",
            "d3b000c30dab476ca76ce295765452cd",
            "e165e4465e8542ecb3485eec8113cba8",
            "984f2422dab54483bd79a89902e3bb97",
            "a6f2c6a356494fe7a96f28ee9bbb51d1",
            "8f1fa53d04c240a18d992dfa4decd7fd",
            "c3548d5af73b4025b905f0ecc5622431",
            "9391008efd474ddfb82fd51c4ab9ed21",
            "da5fd345c54a469fa266136cde537fba",
            "9d0a3dafc8ca43c7a715d8d9b620af9a",
            "7fa50dd1baa046269abc0a10642de5aa"
          ]
        },
        "outputId": "26e99b0a-9f66-4c5e-a430-afeae9a962b9"
      },
      "source": [
        "recommend(n=10, acc=True)"
      ],
      "execution_count": 85,
      "outputs": [
        {
          "output_type": "display_data",
          "data": {
            "application/vnd.jupyter.widget-view+json": {
              "model_id": "72cfd769ab1e4547a351ea8e74a9d3e6",
              "version_minor": 0,
              "version_major": 2
            },
            "text/plain": [
              "  0%|          | 0/14241 [00:00<?, ?it/s]"
            ]
          },
          "metadata": {}
        },
        {
          "output_type": "display_data",
          "data": {
            "application/vnd.jupyter.widget-view+json": {
              "model_id": "1ed80140f63d45e6a9622ed4b9db74ef",
              "version_minor": 0,
              "version_major": 2
            },
            "text/plain": [
              "  0%|          | 0/14241 [00:00<?, ?it/s]"
            ]
          },
          "metadata": {}
        },
        {
          "output_type": "execute_result",
          "data": {
            "text/plain": [
              "0.01769538655993259"
            ]
          },
          "metadata": {},
          "execution_count": 85
        }
      ]
    },
    {
      "cell_type": "code",
      "metadata": {
        "id": "e-iKPO41T57o",
        "colab": {
          "base_uri": "https://localhost:8080/",
          "height": 98,
          "referenced_widgets": [
            "a5157fec1e2c4aed8d82bf4de642f12d",
            "26259b5bfc2d45e297e1647140111bc0",
            "af1082173dce43e1af4e38a8ec572183",
            "2506fa42f1ec4213acc62ac1750f73cb",
            "bba77126bf4f42ec849a31eee2dbf0fb",
            "c20a77a2986047789c8ca5d60b02e301",
            "5432883bca094b1ba61f6b1abf391e53",
            "68b4ea8916864c5a9414170df352926d",
            "0f51fb2f2d274a67a862a370150bd5d4",
            "2e21c76a049544878c6483e26e20dbc4",
            "099dc2c272244e7c8ad036e37cd38411",
            "2518b4d1d35b4ad999486c77d03fb615",
            "db59d04ba6be488b847a5e2d1716e723",
            "fa8fb1681737459297089ab5b6257dbf",
            "733a96387bb54cdeb8bdc0a2ca89139e",
            "659858b5eb66469e9903877b8f37b1e1",
            "09f600e62be441e0becec10a46a5e148",
            "dafbbb7efe2f4cf3ab6e7ebc81ab0690",
            "202bd89f5ae748e88f1a4d5c630c1dbe",
            "7fadaefa6d744d188b84e50c514e2df5",
            "0c9da27616744ae1b809650bdc110b73",
            "e930d6c55ec844b1b7953fb081cfd4bb"
          ]
        },
        "outputId": "1b347903-c6e2-42e6-b384-7a44365fcd6f"
      },
      "source": [
        "recommend(n=20, acc=True)"
      ],
      "execution_count": 86,
      "outputs": [
        {
          "output_type": "display_data",
          "data": {
            "application/vnd.jupyter.widget-view+json": {
              "model_id": "a5157fec1e2c4aed8d82bf4de642f12d",
              "version_minor": 0,
              "version_major": 2
            },
            "text/plain": [
              "  0%|          | 0/14241 [00:00<?, ?it/s]"
            ]
          },
          "metadata": {}
        },
        {
          "output_type": "display_data",
          "data": {
            "application/vnd.jupyter.widget-view+json": {
              "model_id": "2518b4d1d35b4ad999486c77d03fb615",
              "version_minor": 0,
              "version_major": 2
            },
            "text/plain": [
              "  0%|          | 0/14241 [00:00<?, ?it/s]"
            ]
          },
          "metadata": {}
        },
        {
          "output_type": "execute_result",
          "data": {
            "text/plain": [
              "0.019099782318657398"
            ]
          },
          "metadata": {},
          "execution_count": 86
        }
      ]
    },
    {
      "cell_type": "code",
      "metadata": {
        "id": "MoKad0ot4BfT",
        "colab": {
          "base_uri": "https://localhost:8080/",
          "height": 823,
          "referenced_widgets": [
            "97e4ecc70e344780ba9d953f7f7573b0",
            "c4ff87700094494bb385e1cf7a9a1e9a",
            "30249fb46a204854ac245a83c635e785",
            "0ebb29f370c44f7fa640d534237b54af",
            "3437770336b3482091600d03db965f80",
            "66ff6984b428485183dd8a2a204be72e",
            "9cadf93b90d6455e93817c69dc1934eb",
            "90ac63e14cad4acbbf476f4ff03f32a3",
            "d5f0d2d00e9f44358d36ce247d4f73a3",
            "03a0839d97f348329840a276455b65e6",
            "6af7b5f2ee6c4c0fb79aff1d883f5788",
            "6c14d0b2408f4b8599edd2d0f1de1936",
            "fd7139ac1f8b4c2897adb092f99a70b2",
            "f259ba68d77e44f1a36a349fd2981828",
            "177a1d0b5a36440c92bf5a46994f31f0",
            "24485bbec43040088af174f4e5e660c6",
            "b3a50a82771446648c2e8cf5d47723d9",
            "4cc55454580d48cea7da9cd7dd106cc8",
            "dee26eaf635c47df9cb18af47ebb5b91",
            "3c8038fcb6124ad1aa840de272f022fa",
            "7efd70ebd00549ee943a192601f2e4e9",
            "650fe86313134177b4bb344a7131faf5"
          ]
        },
        "outputId": "4597058c-3358-4a1a-db22-00450a119964"
      },
      "source": [
        "recommend()"
      ],
      "execution_count": 87,
      "outputs": [
        {
          "output_type": "display_data",
          "data": {
            "application/vnd.jupyter.widget-view+json": {
              "model_id": "97e4ecc70e344780ba9d953f7f7573b0",
              "version_minor": 0,
              "version_major": 2
            },
            "text/plain": [
              "  0%|          | 0/14241 [00:00<?, ?it/s]"
            ]
          },
          "metadata": {}
        },
        {
          "output_type": "display_data",
          "data": {
            "application/vnd.jupyter.widget-view+json": {
              "model_id": "6c14d0b2408f4b8599edd2d0f1de1936",
              "version_minor": 0,
              "version_major": 2
            },
            "text/plain": [
              "  0%|          | 0/14241 [00:00<?, ?it/s]"
            ]
          },
          "metadata": {}
        },
        {
          "output_type": "execute_result",
          "data": {
            "text/html": [
              "<div>\n",
              "<style scoped>\n",
              "    .dataframe tbody tr th:only-of-type {\n",
              "        vertical-align: middle;\n",
              "    }\n",
              "\n",
              "    .dataframe tbody tr th {\n",
              "        vertical-align: top;\n",
              "    }\n",
              "\n",
              "    .dataframe thead th {\n",
              "        text-align: right;\n",
              "    }\n",
              "</style>\n",
              "<table border=\"1\" class=\"dataframe\">\n",
              "  <thead>\n",
              "    <tr style=\"text-align: right;\">\n",
              "      <th></th>\n",
              "      <th>train</th>\n",
              "      <th>label</th>\n",
              "      <th>split_train_token</th>\n",
              "      <th>split_label_token</th>\n",
              "      <th>predict_item</th>\n",
              "      <th>filter</th>\n",
              "      <th>rec_list</th>\n",
              "      <th>is_in</th>\n",
              "    </tr>\n",
              "  </thead>\n",
              "  <tbody>\n",
              "    <tr>\n",
              "      <th>0</th>\n",
              "      <td>DANISH ROSE PHOTO FRAME&amp;&amp;RETRO BLUE SPOTTY WAS...</td>\n",
              "      <td>WOODEN UNION JACK BUNTING</td>\n",
              "      <td>&lt;esp&gt; DANISH ROSE PHOTO FRAME &lt;esp&gt; RETRO BLUE...</td>\n",
              "      <td>&lt;esp&gt; WOODEN UNION JACK BUNTING &lt;esp&gt;</td>\n",
              "      <td>&lt;esp&gt; HOT BATHS METAL SIGN &lt;esp&gt;</td>\n",
              "      <td>False</td>\n",
              "      <td>[HOT BATHS METAL SIGN, PINK MILKSHAKE GLASS, B...</td>\n",
              "      <td>False</td>\n",
              "    </tr>\n",
              "    <tr>\n",
              "      <th>1</th>\n",
              "      <td>SET OF 2 ROUND TINS DUTCH CHEESE&amp;&amp;LARGE MEDINA...</td>\n",
              "      <td>LOVE BUILDING BLOCK WORD</td>\n",
              "      <td>&lt;esp&gt; SET OF 2 ROUND TINS DUTCH CHEESE &lt;esp&gt; L...</td>\n",
              "      <td>&lt;esp&gt; LOVE BUILDING BLOCK WORD &lt;esp&gt;</td>\n",
              "      <td>&lt;esp&gt; RED SPOTTY APRON &lt;esp&gt;</td>\n",
              "      <td>False</td>\n",
              "      <td>[RED SPOTTY APRON, GREEN DROP EARRINGS W BEAD ...</td>\n",
              "      <td>False</td>\n",
              "    </tr>\n",
              "    <tr>\n",
              "      <th>2</th>\n",
              "      <td>PINK 3 PIECE MINI DOTS CUTLERY SET&amp;&amp;CHILDS APR...</td>\n",
              "      <td>MINI JIGSAW SPACEBOY</td>\n",
              "      <td>&lt;esp&gt; PINK 3 PIECE MINI DOTS CUTLERY SET &lt;esp&gt;...</td>\n",
              "      <td>&lt;esp&gt; MINI JIGSAW SPACEBOY &lt;esp&gt;</td>\n",
              "      <td>&lt;esp&gt; RED 3 PIECE MINI DOTS CUTLERY SET &lt;esp&gt;</td>\n",
              "      <td>False</td>\n",
              "      <td>[RED 3 PIECE MINI DOTS CUTLERY SET, PINK STITC...</td>\n",
              "      <td>False</td>\n",
              "    </tr>\n",
              "    <tr>\n",
              "      <th>3</th>\n",
              "      <td>WOODEN BOX OF DOMINOES&amp;&amp;TEA TIME DES TEA COSY&amp;...</td>\n",
              "      <td>GREEN GINGHAM FLOWER JEWELLERY BOX</td>\n",
              "      <td>&lt;esp&gt; WOODEN BOX OF DOMINOES &lt;esp&gt; TEA TIME DE...</td>\n",
              "      <td>&lt;esp&gt; GREEN GINGHAM FLOWER JEWELLERY BOX &lt;esp&gt;</td>\n",
              "      <td>&lt;esp&gt; RED SPOTTY BISCUIT TIN &lt;esp&gt;</td>\n",
              "      <td>False</td>\n",
              "      <td>[RED SPOTTY BISCUIT TIN, COPPER/OLIVE GREEN FL...</td>\n",
              "      <td>False</td>\n",
              "    </tr>\n",
              "    <tr>\n",
              "      <th>4</th>\n",
              "      <td>ASSORTED COLOURS SILK FAN&amp;&amp;PACK OF 72 SKULL CA...</td>\n",
              "      <td>WORLD WAR 2 GLIDERS ASSTD DESIGNS</td>\n",
              "      <td>&lt;esp&gt; ASSORTED COLOURS SILK FAN &lt;esp&gt; PACK OF ...</td>\n",
              "      <td>&lt;esp&gt; WORLD WAR 2 GLIDERS ASSTD DESIGNS &lt;esp&gt;</td>\n",
              "      <td>&lt;esp&gt; SET OF 72 RETRO SPOT PAPER  DOILIES &lt;esp&gt;</td>\n",
              "      <td>False</td>\n",
              "      <td>[SET OF 72 RETRO SPOT PAPER  DOILIES, SMALL CH...</td>\n",
              "      <td>False</td>\n",
              "    </tr>\n",
              "    <tr>\n",
              "      <th>...</th>\n",
              "      <td>...</td>\n",
              "      <td>...</td>\n",
              "      <td>...</td>\n",
              "      <td>...</td>\n",
              "      <td>...</td>\n",
              "      <td>...</td>\n",
              "      <td>...</td>\n",
              "      <td>...</td>\n",
              "    </tr>\n",
              "    <tr>\n",
              "      <th>14236</th>\n",
              "      <td>ASSORTED COLOUR BIRD ORNAMENT&amp;&amp;FILIGRIS HEART ...</td>\n",
              "      <td>HANGING WOOD AND FELT HEART</td>\n",
              "      <td>&lt;esp&gt; ASSORTED COLOUR BIRD ORNAMENT &lt;esp&gt; FILI...</td>\n",
              "      <td>&lt;esp&gt; HANGING WOOD AND FELT HEART &lt;esp&gt;</td>\n",
              "      <td>&lt;esp&gt; HANGING HEART ZINC T-LIGHT HOLDER &lt;esp&gt;</td>\n",
              "      <td>False</td>\n",
              "      <td>[HANGING HEART ZINC T-LIGHT HOLDER, DIAMANTE B...</td>\n",
              "      <td>False</td>\n",
              "    </tr>\n",
              "    <tr>\n",
              "      <th>14237</th>\n",
              "      <td>LADLE LOVE HEART RED&amp;&amp;FAWN AND MUSHROOM GREETI...</td>\n",
              "      <td>SET/6 RED SPOTTY PAPER PLATES</td>\n",
              "      <td>&lt;esp&gt; LADLE LOVE HEART RED &lt;esp&gt; FAWN AND MUSH...</td>\n",
              "      <td>&lt;esp&gt; SET/6 RED SPOTTY PAPER PLATES &lt;esp&gt;</td>\n",
              "      <td>&lt;esp&gt; PACK OF 72 RETRO SPOT CAKE CASES &lt;esp&gt;</td>\n",
              "      <td>False</td>\n",
              "      <td>[PACK OF 72 RETRO SPOT CAKE CASES, FRESHWATER ...</td>\n",
              "      <td>False</td>\n",
              "    </tr>\n",
              "    <tr>\n",
              "      <th>14238</th>\n",
              "      <td>GOLD  CHERRY LIGHTS&amp;&amp;URBAN CHIC CHOPSTICKS SET...</td>\n",
              "      <td>WOBBLING METAL CHICKEN EASTER</td>\n",
              "      <td>&lt;esp&gt; GOLD  CHERRY LIGHTS &lt;esp&gt; URBAN CHIC CHO...</td>\n",
              "      <td>&lt;esp&gt; WOBBLING METAL CHICKEN EASTER &lt;esp&gt;</td>\n",
              "      <td>&lt;esp&gt; PINK FAIRY CAKE CHILD'S APRON &lt;esp&gt;</td>\n",
              "      <td>False</td>\n",
              "      <td>[PINK FAIRY CAKE CHILD'S APRON, FIRE POLISHED ...</td>\n",
              "      <td>False</td>\n",
              "    </tr>\n",
              "    <tr>\n",
              "      <th>14239</th>\n",
              "      <td>SET/2 RED SPOTTY TEA TOWELS&amp;&amp;ABSTRACT CIRCLES ...</td>\n",
              "      <td>HOME SWEET HOME  BLACKBOARD</td>\n",
              "      <td>&lt;esp&gt; SET/2 RED SPOTTY TEA TOWELS &lt;esp&gt; ABSTRA...</td>\n",
              "      <td>&lt;esp&gt; HOME SWEET HOME  BLACKBOARD &lt;esp&gt;</td>\n",
              "      <td>&lt;esp&gt; DOOR MAT UNION FLAG &lt;esp&gt;</td>\n",
              "      <td>False</td>\n",
              "      <td>[DOOR MAT UNION FLAG, PEARL &amp; SHELL 42\"NECKL. ...</td>\n",
              "      <td>False</td>\n",
              "    </tr>\n",
              "    <tr>\n",
              "      <th>14240</th>\n",
              "      <td>ASSORTED COLOUR SILK COIN PURSE&amp;&amp;BEACH HUT MIR...</td>\n",
              "      <td>DOORMAT UNION JACK GUNS AND ROSES</td>\n",
              "      <td>&lt;esp&gt; ASSORTED COLOUR SILK COIN PURSE &lt;esp&gt; BE...</td>\n",
              "      <td>&lt;esp&gt; DOORMAT UNION JACK GUNS AND ROSES &lt;esp&gt;</td>\n",
              "      <td>&lt;esp&gt; RED SPOTTY BISCUIT TIN &lt;esp&gt;</td>\n",
              "      <td>False</td>\n",
              "      <td>[RED SPOTTY BISCUIT TIN, COPPER/OLIVE GREEN FL...</td>\n",
              "      <td>False</td>\n",
              "    </tr>\n",
              "  </tbody>\n",
              "</table>\n",
              "<p>14241 rows × 8 columns</p>\n",
              "</div>"
            ],
            "text/plain": [
              "                                                   train  ...  is_in\n",
              "0      DANISH ROSE PHOTO FRAME&&RETRO BLUE SPOTTY WAS...  ...  False\n",
              "1      SET OF 2 ROUND TINS DUTCH CHEESE&&LARGE MEDINA...  ...  False\n",
              "2      PINK 3 PIECE MINI DOTS CUTLERY SET&&CHILDS APR...  ...  False\n",
              "3      WOODEN BOX OF DOMINOES&&TEA TIME DES TEA COSY&...  ...  False\n",
              "4      ASSORTED COLOURS SILK FAN&&PACK OF 72 SKULL CA...  ...  False\n",
              "...                                                  ...  ...    ...\n",
              "14236  ASSORTED COLOUR BIRD ORNAMENT&&FILIGRIS HEART ...  ...  False\n",
              "14237  LADLE LOVE HEART RED&&FAWN AND MUSHROOM GREETI...  ...  False\n",
              "14238  GOLD  CHERRY LIGHTS&&URBAN CHIC CHOPSTICKS SET...  ...  False\n",
              "14239  SET/2 RED SPOTTY TEA TOWELS&&ABSTRACT CIRCLES ...  ...  False\n",
              "14240  ASSORTED COLOUR SILK COIN PURSE&&BEACH HUT MIR...  ...  False\n",
              "\n",
              "[14241 rows x 8 columns]"
            ]
          },
          "metadata": {},
          "execution_count": 87
        }
      ]
    }
  ]
}