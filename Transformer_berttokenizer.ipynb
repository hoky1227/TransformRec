{
  "nbformat": 4,
  "nbformat_minor": 0,
  "metadata": {
    "accelerator": "GPU",
    "colab": {
      "name": "Transformer_berttokenizer.ipynb",
      "provenance": [],
      "collapsed_sections": [],
      "mount_file_id": "1um9DudzORj0fCHBL_nLFIClSurr3rwvV",
      "authorship_tag": "ABX9TyMTedoAHOhliahRDcHBZHIY",
      "include_colab_link": true
    },
    "kernelspec": {
      "display_name": "Python 3",
      "name": "python3"
    }
  },
  "cells": [
    {
      "cell_type": "markdown",
      "metadata": {
        "id": "view-in-github",
        "colab_type": "text"
      },
      "source": [
        "<a href=\"https://colab.research.google.com/github/hoky1227/bert_based-recommendation/blob/main/Transformer_berttokenizer.ipynb\" target=\"_parent\"><img src=\"https://colab.research.google.com/assets/colab-badge.svg\" alt=\"Open In Colab\"/></a>"
      ]
    },
    {
      "cell_type": "code",
      "metadata": {
        "colab": {
          "base_uri": "https://localhost:8080/"
        },
        "id": "ZPLO_iJO4Nc6",
        "outputId": "01cd0efc-a9ee-43ab-9728-d59533759482"
      },
      "source": [
        "from google.colab import drive\n",
        "drive.mount('/content/drive')"
      ],
      "execution_count": null,
      "outputs": [
        {
          "output_type": "stream",
          "text": [
            "Drive already mounted at /content/drive; to attempt to forcibly remount, call drive.mount(\"/content/drive\", force_remount=True).\n"
          ],
          "name": "stdout"
        }
      ]
    },
    {
      "cell_type": "code",
      "metadata": {
        "colab": {
          "base_uri": "https://localhost:8080/"
        },
        "id": "UCxrXDm4r8Vl",
        "outputId": "24ed551c-563c-4341-c28d-8d3335e15d24"
      },
      "source": [
        "!pip install transformers\n",
        "!pip install pytorch-transformers"
      ],
      "execution_count": null,
      "outputs": [
        {
          "output_type": "stream",
          "text": [
            "Collecting transformers\n",
            "\u001b[?25l  Downloading https://files.pythonhosted.org/packages/ed/d5/f4157a376b8a79489a76ce6cfe147f4f3be1e029b7144fa7b8432e8acb26/transformers-4.4.2-py3-none-any.whl (2.0MB)\n",
            "\u001b[K     |████████████████████████████████| 2.0MB 18.2MB/s \n",
            "\u001b[?25hRequirement already satisfied: regex!=2019.12.17 in /usr/local/lib/python3.7/dist-packages (from transformers) (2019.12.20)\n",
            "Requirement already satisfied: packaging in /usr/local/lib/python3.7/dist-packages (from transformers) (20.9)\n",
            "Requirement already satisfied: requests in /usr/local/lib/python3.7/dist-packages (from transformers) (2.23.0)\n",
            "Requirement already satisfied: filelock in /usr/local/lib/python3.7/dist-packages (from transformers) (3.0.12)\n",
            "Requirement already satisfied: numpy>=1.17 in /usr/local/lib/python3.7/dist-packages (from transformers) (1.19.5)\n",
            "Collecting sacremoses\n",
            "\u001b[?25l  Downloading https://files.pythonhosted.org/packages/7d/34/09d19aff26edcc8eb2a01bed8e98f13a1537005d31e95233fd48216eed10/sacremoses-0.0.43.tar.gz (883kB)\n",
            "\u001b[K     |████████████████████████████████| 890kB 47.5MB/s \n",
            "\u001b[?25hRequirement already satisfied: tqdm>=4.27 in /usr/local/lib/python3.7/dist-packages (from transformers) (4.41.1)\n",
            "Requirement already satisfied: importlib-metadata; python_version < \"3.8\" in /usr/local/lib/python3.7/dist-packages (from transformers) (3.7.2)\n",
            "Collecting tokenizers<0.11,>=0.10.1\n",
            "\u001b[?25l  Downloading https://files.pythonhosted.org/packages/71/23/2ddc317b2121117bf34dd00f5b0de194158f2a44ee2bf5e47c7166878a97/tokenizers-0.10.1-cp37-cp37m-manylinux2010_x86_64.whl (3.2MB)\n",
            "\u001b[K     |████████████████████████████████| 3.2MB 48.5MB/s \n",
            "\u001b[?25hRequirement already satisfied: pyparsing>=2.0.2 in /usr/local/lib/python3.7/dist-packages (from packaging->transformers) (2.4.7)\n",
            "Requirement already satisfied: certifi>=2017.4.17 in /usr/local/lib/python3.7/dist-packages (from requests->transformers) (2020.12.5)\n",
            "Requirement already satisfied: urllib3!=1.25.0,!=1.25.1,<1.26,>=1.21.1 in /usr/local/lib/python3.7/dist-packages (from requests->transformers) (1.24.3)\n",
            "Requirement already satisfied: chardet<4,>=3.0.2 in /usr/local/lib/python3.7/dist-packages (from requests->transformers) (3.0.4)\n",
            "Requirement already satisfied: idna<3,>=2.5 in /usr/local/lib/python3.7/dist-packages (from requests->transformers) (2.10)\n",
            "Requirement already satisfied: six in /usr/local/lib/python3.7/dist-packages (from sacremoses->transformers) (1.15.0)\n",
            "Requirement already satisfied: click in /usr/local/lib/python3.7/dist-packages (from sacremoses->transformers) (7.1.2)\n",
            "Requirement already satisfied: joblib in /usr/local/lib/python3.7/dist-packages (from sacremoses->transformers) (1.0.1)\n",
            "Requirement already satisfied: zipp>=0.5 in /usr/local/lib/python3.7/dist-packages (from importlib-metadata; python_version < \"3.8\"->transformers) (3.4.1)\n",
            "Requirement already satisfied: typing-extensions>=3.6.4; python_version < \"3.8\" in /usr/local/lib/python3.7/dist-packages (from importlib-metadata; python_version < \"3.8\"->transformers) (3.7.4.3)\n",
            "Building wheels for collected packages: sacremoses\n",
            "  Building wheel for sacremoses (setup.py) ... \u001b[?25l\u001b[?25hdone\n",
            "  Created wheel for sacremoses: filename=sacremoses-0.0.43-cp37-none-any.whl size=893262 sha256=4939c8e329788e230e295c079a592f64e510fb256ba1a603c0893641b5ee52d4\n",
            "  Stored in directory: /root/.cache/pip/wheels/29/3c/fd/7ce5c3f0666dab31a50123635e6fb5e19ceb42ce38d4e58f45\n",
            "Successfully built sacremoses\n",
            "Installing collected packages: sacremoses, tokenizers, transformers\n",
            "Successfully installed sacremoses-0.0.43 tokenizers-0.10.1 transformers-4.4.2\n",
            "Collecting pytorch-transformers\n",
            "\u001b[?25l  Downloading https://files.pythonhosted.org/packages/a3/b7/d3d18008a67e0b968d1ab93ad444fc05699403fa662f634b2f2c318a508b/pytorch_transformers-1.2.0-py3-none-any.whl (176kB)\n",
            "\u001b[K     |████████████████████████████████| 184kB 18.2MB/s \n",
            "\u001b[?25hCollecting sentencepiece\n",
            "\u001b[?25l  Downloading https://files.pythonhosted.org/packages/f5/99/e0808cb947ba10f575839c43e8fafc9cc44e4a7a2c8f79c60db48220a577/sentencepiece-0.1.95-cp37-cp37m-manylinux2014_x86_64.whl (1.2MB)\n",
            "\u001b[K     |████████████████████████████████| 1.2MB 45.9MB/s \n",
            "\u001b[?25hRequirement already satisfied: torch>=1.0.0 in /usr/local/lib/python3.7/dist-packages (from pytorch-transformers) (1.8.0+cu101)\n",
            "Requirement already satisfied: regex in /usr/local/lib/python3.7/dist-packages (from pytorch-transformers) (2019.12.20)\n",
            "Requirement already satisfied: requests in /usr/local/lib/python3.7/dist-packages (from pytorch-transformers) (2.23.0)\n",
            "Requirement already satisfied: tqdm in /usr/local/lib/python3.7/dist-packages (from pytorch-transformers) (4.41.1)\n",
            "Requirement already satisfied: numpy in /usr/local/lib/python3.7/dist-packages (from pytorch-transformers) (1.19.5)\n",
            "Collecting boto3\n",
            "\u001b[?25l  Downloading https://files.pythonhosted.org/packages/30/6d/1c43d87bfff9e7afb5130629dfb7d57617245eeb4a474bf77f45d637c3a6/boto3-1.17.33-py2.py3-none-any.whl (131kB)\n",
            "\u001b[K     |████████████████████████████████| 133kB 53.6MB/s \n",
            "\u001b[?25hRequirement already satisfied: sacremoses in /usr/local/lib/python3.7/dist-packages (from pytorch-transformers) (0.0.43)\n",
            "Requirement already satisfied: typing-extensions in /usr/local/lib/python3.7/dist-packages (from torch>=1.0.0->pytorch-transformers) (3.7.4.3)\n",
            "Requirement already satisfied: chardet<4,>=3.0.2 in /usr/local/lib/python3.7/dist-packages (from requests->pytorch-transformers) (3.0.4)\n",
            "Requirement already satisfied: certifi>=2017.4.17 in /usr/local/lib/python3.7/dist-packages (from requests->pytorch-transformers) (2020.12.5)\n",
            "Requirement already satisfied: idna<3,>=2.5 in /usr/local/lib/python3.7/dist-packages (from requests->pytorch-transformers) (2.10)\n",
            "Requirement already satisfied: urllib3!=1.25.0,!=1.25.1,<1.26,>=1.21.1 in /usr/local/lib/python3.7/dist-packages (from requests->pytorch-transformers) (1.24.3)\n",
            "Collecting botocore<1.21.0,>=1.20.33\n",
            "\u001b[?25l  Downloading https://files.pythonhosted.org/packages/dd/1c/f922d7fa47cdd6a18c7470252e86f7c4d24e85cb3cdff09486675df3769c/botocore-1.20.33-py2.py3-none-any.whl (7.3MB)\n",
            "\u001b[K     |████████████████████████████████| 7.3MB 53.0MB/s \n",
            "\u001b[?25hCollecting s3transfer<0.4.0,>=0.3.0\n",
            "\u001b[?25l  Downloading https://files.pythonhosted.org/packages/98/14/0b4be62b65c52d6d1c442f24e02d2a9889a73d3c352002e14c70f84a679f/s3transfer-0.3.6-py2.py3-none-any.whl (73kB)\n",
            "\u001b[K     |████████████████████████████████| 81kB 10.4MB/s \n",
            "\u001b[?25hCollecting jmespath<1.0.0,>=0.7.1\n",
            "  Downloading https://files.pythonhosted.org/packages/07/cb/5f001272b6faeb23c1c9e0acc04d48eaaf5c862c17709d20e3469c6e0139/jmespath-0.10.0-py2.py3-none-any.whl\n",
            "Requirement already satisfied: six in /usr/local/lib/python3.7/dist-packages (from sacremoses->pytorch-transformers) (1.15.0)\n",
            "Requirement already satisfied: joblib in /usr/local/lib/python3.7/dist-packages (from sacremoses->pytorch-transformers) (1.0.1)\n",
            "Requirement already satisfied: click in /usr/local/lib/python3.7/dist-packages (from sacremoses->pytorch-transformers) (7.1.2)\n",
            "Requirement already satisfied: python-dateutil<3.0.0,>=2.1 in /usr/local/lib/python3.7/dist-packages (from botocore<1.21.0,>=1.20.33->boto3->pytorch-transformers) (2.8.1)\n",
            "\u001b[31mERROR: botocore 1.20.33 has requirement urllib3<1.27,>=1.25.4, but you'll have urllib3 1.24.3 which is incompatible.\u001b[0m\n",
            "Installing collected packages: sentencepiece, jmespath, botocore, s3transfer, boto3, pytorch-transformers\n",
            "Successfully installed boto3-1.17.33 botocore-1.20.33 jmespath-0.10.0 pytorch-transformers-1.2.0 s3transfer-0.3.6 sentencepiece-0.1.95\n"
          ],
          "name": "stdout"
        }
      ]
    },
    {
      "cell_type": "code",
      "metadata": {
        "id": "jfRAoKR5s31c"
      },
      "source": [
        "# % pip install sentencepiece\n",
        "# !pip install tokenizers"
      ],
      "execution_count": null,
      "outputs": []
    },
    {
      "cell_type": "code",
      "metadata": {
        "id": "lvoNXPUWlWYa"
      },
      "source": [
        "# import os\n",
        "# os.environ['CUDA_LAUNCH_BLOCKING'] = \"1\""
      ],
      "execution_count": null,
      "outputs": []
    },
    {
      "cell_type": "code",
      "metadata": {
        "id": "uSPrB5vgVF7w"
      },
      "source": [
        "import tensorflow as tf\n",
        "import torch\n",
        "import tensorflow_datasets as tfds\n",
        "\n",
        "from transformers import BertTokenizer\n",
        "from transformers import BertForNextSentencePrediction, AdamW, BertConfig\n",
        "from transformers import get_linear_schedule_with_warmup\n",
        "from torch.utils.data import TensorDataset, DataLoader, RandomSampler, SequentialSampler\n",
        "from keras.preprocessing.sequence import pad_sequences\n",
        "from sklearn.model_selection import train_test_split\n",
        "# import numpy as np\n",
        "# import pandas as pd\n",
        "# import torch\n",
        "from torch.utils.data import Dataset\n",
        "from pytorch_transformers import BertTokenizer, BertForSequenceClassification, BertConfig\n",
        "from torch.optim import Adam\n",
        "import torch.nn.functional as F\n",
        "\n",
        "import pandas as pd\n",
        "import numpy as np\n",
        "import random\n",
        "import time\n",
        "import datetime\n",
        "import csv"
      ],
      "execution_count": null,
      "outputs": []
    },
    {
      "cell_type": "code",
      "metadata": {
        "colab": {
          "base_uri": "https://localhost:8080/",
          "height": 202
        },
        "id": "QwynQI4h4Vbr",
        "outputId": "45512206-c9be-46b8-8a19-15641d4f8ed9"
      },
      "source": [
        "data_bert = pd.read_csv('/content/drive/MyDrive/train_bert.csv')\n",
        "# data_space = pd.read_csv('/content/drive/MyDrive/train_space.csv')\n",
        "Detail = pd.read_csv('/content/drive/MyDrive/Detail.csv')\n",
        "data_bert.pop('Unnamed: 0')\n",
        "# data_space.pop('Unnamed: 0')\n",
        "Detail.pop('Unnamed: 0')\n",
        "data_bert = data_bert.sample(frac=1).reset_index(drop=True)\n",
        "data_bert.head()"
      ],
      "execution_count": null,
      "outputs": [
        {
          "output_type": "execute_result",
          "data": {
            "text/html": [
              "<div>\n",
              "<style scoped>\n",
              "    .dataframe tbody tr th:only-of-type {\n",
              "        vertical-align: middle;\n",
              "    }\n",
              "\n",
              "    .dataframe tbody tr th {\n",
              "        vertical-align: top;\n",
              "    }\n",
              "\n",
              "    .dataframe thead th {\n",
              "        text-align: right;\n",
              "    }\n",
              "</style>\n",
              "<table border=\"1\" class=\"dataframe\">\n",
              "  <thead>\n",
              "    <tr style=\"text-align: right;\">\n",
              "      <th></th>\n",
              "      <th>Customer</th>\n",
              "      <th>Detail</th>\n",
              "      <th>label</th>\n",
              "    </tr>\n",
              "  </thead>\n",
              "  <tbody>\n",
              "    <tr>\n",
              "      <th>0</th>\n",
              "      <td>35061.0</td>\n",
              "      <td>REGENCY CAKESTAND 3 TIER</td>\n",
              "      <td>RED SPOTS  WRAPREGENCY CAKESTAND 3 TIER</td>\n",
              "    </tr>\n",
              "    <tr>\n",
              "      <th>1</th>\n",
              "      <td>33983.0</td>\n",
              "      <td>HANGING JAM JAR T-LIGHT HOLDER&amp;&amp;MAGIC DRAWING ...</td>\n",
              "      <td>BALLOON PUMP WITH 10 BALLOONS</td>\n",
              "    </tr>\n",
              "    <tr>\n",
              "      <th>2</th>\n",
              "      <td>33050.0</td>\n",
              "      <td>PEARL CRYSTAL PUMPKIN T-LIGHT HLDR&amp;&amp;HANGING SP...</td>\n",
              "      <td>TOY TIDY PINK RETROSPOT</td>\n",
              "    </tr>\n",
              "    <tr>\n",
              "      <th>3</th>\n",
              "      <td>36918.0</td>\n",
              "      <td>PLASTERS IN TIN SKULLS&amp;&amp;WHITE HANGING HEART T-...</td>\n",
              "      <td>PLASMATRONIC LAMP</td>\n",
              "    </tr>\n",
              "    <tr>\n",
              "      <th>4</th>\n",
              "      <td>33223.0</td>\n",
              "      <td>CAMOFLAGE DESIGN TEDDY</td>\n",
              "      <td>KINGS CHOICE MUG</td>\n",
              "    </tr>\n",
              "  </tbody>\n",
              "</table>\n",
              "</div>"
            ],
            "text/plain": [
              "   Customer  ...                                    label\n",
              "0   35061.0  ...  RED SPOTS  WRAPREGENCY CAKESTAND 3 TIER\n",
              "1   33983.0  ...            BALLOON PUMP WITH 10 BALLOONS\n",
              "2   33050.0  ...                  TOY TIDY PINK RETROSPOT\n",
              "3   36918.0  ...                        PLASMATRONIC LAMP\n",
              "4   33223.0  ...                         KINGS CHOICE MUG\n",
              "\n",
              "[5 rows x 3 columns]"
            ]
          },
          "metadata": {
            "tags": []
          },
          "execution_count": 6
        }
      ]
    },
    {
      "cell_type": "code",
      "metadata": {
        "colab": {
          "base_uri": "https://localhost:8080/"
        },
        "id": "qgINBUuxys-H",
        "outputId": "41028325-882c-4eff-e3a6-a0921b248e50"
      },
      "source": [
        "print(len(data_bert))\n",
        "# print(len(data_space))"
      ],
      "execution_count": null,
      "outputs": [
        {
          "output_type": "stream",
          "text": [
            "11575\n"
          ],
          "name": "stdout"
        }
      ]
    },
    {
      "cell_type": "code",
      "metadata": {
        "colab": {
          "base_uri": "https://localhost:8080/"
        },
        "id": "HI-4IVcprfN3",
        "outputId": "ba5b4e62-8227-4ddd-d444-8964de2eb631"
      },
      "source": [
        "label_bert = data_bert['label'].values.tolist()\n",
        "# label_space = data_space['label'].values.tolist()\n",
        "print(len(label_bert))\n",
        "# print(len(label_space))"
      ],
      "execution_count": null,
      "outputs": [
        {
          "output_type": "stream",
          "text": [
            "11575\n"
          ],
          "name": "stdout"
        }
      ]
    },
    {
      "cell_type": "code",
      "metadata": {
        "colab": {
          "base_uri": "https://localhost:8080/"
        },
        "id": "eiJLUIJXjSKF",
        "outputId": "63d24600-1c9d-406f-9079-1c9f2508e132"
      },
      "source": [
        "detail = Detail['0'].unique()\n",
        "detail = detail.tolist()\n",
        "len(detail)"
      ],
      "execution_count": null,
      "outputs": [
        {
          "output_type": "execute_result",
          "data": {
            "text/plain": [
              "3487"
            ]
          },
          "metadata": {
            "tags": []
          },
          "execution_count": 9
        }
      ]
    },
    {
      "cell_type": "code",
      "metadata": {
        "colab": {
          "base_uri": "https://localhost:8080/"
        },
        "id": "wfDWE9z85od3",
        "outputId": "e3f22eb6-a033-47d0-852f-9584b4abe81e"
      },
      "source": [
        "dic = {string : i for i,string in enumerate(detail)}\n",
        "print(dic)\n",
        "len(dic)"
      ],
      "execution_count": null,
      "outputs": [
        {
          "output_type": "stream",
          "text": [
            "{'RED SPOTTY CHILDS UMBRELLA': 0, 'EDWARDIAN PARASOL RED': 1, 'EDWARDIAN PARASOL NATURAL': 2, 'EDWARDIAN PARASOL BLACK': 3, 'EDWARDIAN PARASOL PINK': 4, 'DOORMAT SPOTTY HOME SWEET HOME': 5, 'DOORMAT WELCOME TO OUR HOME': 6, 'DOORMAT I LOVE LONDON': 7, 'DOORMAT CHRISTMAS VILLAGE': 8, 'DOORMAT BLACK FLOCK': 9, 'DOORMAT WELCOME SUNRISE': 10, 'DOORMAT 3 SMILEY CATS': 11, 'DOORMAT HOME SWEET HOME BLUE': 12, 'DOORMAT FANCY FONT HOME SWEET HOME': 13, 'DOORMAT UNION FLAG': 14, 'DOORMAT MERRY CHRISTMAS RED': 15, 'DOORMAT RESPECTABLE HOUSE': 16, 'DOORMAT FAIRY CAKE': 17, 'DOORMAT PEACE ON EARTH BLUE': 18, 'DOORMAT WELCOME PUPPIES': 19, 'DOORMAT NEW ENGLAND': 20, 'DOORMAT AIRMAIL': 21, 'DOORMAT RED SPOT': 22, 'DOORMAT UNION JACK GUNS AND ROSES': 23, 'WRAP PINK FAIRY CAKES': 24, 'VINTAGE CARAVAN GIFT WRAP': 25, 'BIRTHDAY BANQUET GIFT WRAP': 26, 'RED SPOTS  WRAP': 27, 'RAIN PONCHO WITH RED SPOTS': 28, 'STRAWBERRY CERAMIC TRINKET BOX': 29, 'SWEETHEART CERAMIC TRINKET BOX': 30, 'LOVE HEART SOCK HANGER': 31, 'SET/6 RED SPOTTY PAPER CUPS': 32, 'BIG DOUGHNUT FRIDGE MAGNETS': 33, 'CLOTHES PEGS RETROSPOT PACK 24': 34, 'SET OF 6 HEART CHOPSTICKS': 35, 'GIN AND TONIC MUG': 36, 'CERAMIC STRWBERRY DESIGN MUG': 37, 'PLASTERS IN TIN WOODLAND ANIMALS': 38, 'PLASTERS IN TIN STRONGMAN': 39, 'PLASTERS IN TIN SKULLS': 40, 'PLASTERS IN TIN VINTAGE PAISLEY': 41, 'PINK DOUGHNUT TRINKET POT': 42, 'SPOTS MUG': 43, 'RETRO SPOT GIANT  TUBE MATCHES': 44, 'RIBBON REEL SPOTS DESIGN': 45, 'DOOR MAT ENGLISH ROSE': 46, 'GROW YOUR OWN BASIL IN ENAMEL MUG': 47, 'PINK HEART SHAPE EGG FRYING PAN': 48, 'FOOD CONTAINER SET 3 LOVE HEART': 49, 'RED RETROSPOT SMALL MILK JUG': 50, 'RED RETROSPOT SUGAR JAM BOWL': 51, 'CAT BOWL': 52, 'LUNCH BOX WITH CUTLERY FAIRY CAKES': 53, 'RED SPOTTY BISCUIT TIN': 54, 'RECYCLING BAG RETROSPOT': 55, 'RED RETROSPOT TEA CUP AND SAUCER': 56, 'RED RETROSPOT PUDDING BOWL': 57, 'DOOR MAT TOPIARY': 58, 'DOOR MAT SPOTTY HOME SWEET HOME': 59, 'DOOR MAT NEIGHBOURHOOD WITCH': 60, 'DOOR MAT FRIENDSHIP': 61, 'POLKADOT CUTLERY 24 PCS IN TRAY': 62, 'SET/4 WHITE RETRO STORAGE CUBES': 63, 'RETRO SPOT LARGE MILK JUG': 64, 'WOOD BLACK BOARD ANT WHITE FINISH': 65, 'GROW YOUR OWN FLOWERS SET OF 3': 66, 'WHITE WOOD GARDEN PLANT LADDER': 67, 'RED RETROSPOT CAKE STAND': 68, 'LOVE LARGE WOOD LETTERS': 69, 'POSTAGE': 70, 'TOOTHPASTE TUBE PEN': 71, 'KIDS RAIN MAC BLUE': 72, 'KIDS RAIN MAC PINK': 73, 'GOLD TEDDY BEAR': 74, 'SILVER TEDDY BEAR': 75, 'OPULENT VELVET SET/3 CANDLES': 76, 'LIPSTICK PEN FUSCHIA': 77, 'LIPSTICK PEN RED': 78, 'CERAMIC CAKE DESIGN SPOTTED MUG': 79, 'PINK HAWAIIAN PICNIC HAMPER FOR 4': 80, 'BLUE SAVANNAH PICNIC HAMPER FOR 4': 81, 'SMALL LICORICE DES PINK BOWL': 82, 'SMALL MARSHMALLOWS PINK BOWL': 83, 'MIXED NUTS LIGHT GREEN BOWL': 84, 'BISCUITS SMALL BOWL LIGHT BLUE': 85, 'DOORSTOP FOOTBALL DESIGN': 86, 'WASH BAG VINTAGE ROSE PAISLEY': 87, 'OVERNIGHT BAG VINTAGE ROSE PAISLEY': 88, 'SKULL DESIGN TV DINNER TRAY': 89, 'CERAMIC CAKE STAND + HANGING CAKES': 90, 'ASSORTED CHEESE FRIDGE MAGNETS': 91, 'ASSORTED ICE CREAM FRIDGE MAGNETS': 92, 'ASSORTED SANSKRIT MINI NOTEBOOK': 93, 'ASSORTED CAKES FRIDGE MAGNETS': 94, 'BLUE ROSE PATCH PURSE PINK BUTTERFL': 95, 'DENIM PATCH PURSE PINK BUTTERFLY': 96, 'ECONOMY LUGGAGE TAG': 97, 'TROPICAL LUGGAGE TAG': 98, 'FIRST CLASS LUGGAGE TAG': 99, 'PINK PATCH PURSE BLUE HEART': 100, 'CHRYSANTHEMUM NOTEBOOK': 101, 'ABSTRACT CIRCLES NOTEBOOK': 102, 'GARDEN PATH NOTEBOOK': 103, 'QUEEN OF SKIES LUGGAGE TAG': 104, 'BLUE PATCH PENCIL CASE PINK HEART': 105, 'JUMBO SHOPPER VINTAGE RED PAISLEY': 106, 'TEA BAG PLATE RED SPOTTY': 107, 'FAIRY SOAP SOAP HOLDER': 108, 'JUMBO BAG RED WHITE SPOTTY': 109, 'TEA CUP AND SAUCER RETRO SPOT': 110, 'FOUR HOOK  WHITE LOVEBIRDS': 111, 'RETRO SPOT SMALL MILK JUG': 112, 'KINGS CHOICE TEA CADDY': 113, 'METAL SIGN TAKE IT OR LEAVE IT': 114, 'SET OF 2 ROUND TINS CAMEMBERT': 115, 'RETRO SPOT STORAGE JAR': 116, 'KINGS CHOICE BISCUIT TIN': 117, 'SET OF 2 TINS VINTAGE BATHROOM': 118, 'SET OF 2 TINS JARDIN DE PROVENCE': 119, 'DOOR MAT RESPECTABLE HOUSE': 120, 'HOME BUILDING BLOCK WORD': 121, 'OPEN CLOSED METAL SIGN': 122, 'FANCY FONT HOME SWEET HOME DOORMAT': 123, 'RETRO SPOT CAKE STAND': 124, 'RED GINGHAM TEDDY BEAR': 125, 'GLASS JAR KINGS CHOICE': 126, 'MEASURING TAPE RUSSIAN DOLL BLUE': 127, 'SILK PURSE RUSSIAN DOLL BLUE': 128, 'PIN CUSHION RUSSIAN DOLL BLUE': 129, 'REGENCY CAKESTAND 3 TIER': 130, 'SET OF 2 WOODEN MARKET CRATES': 131, 'FELTCRAFT CUSHION OWL': 132, 'DOORSTOP RETROSPOT HEART': 133, 'MEMO BOARD RETROSPOT  DESIGN': 134, 'MEMO BOARD COTTAGE DESIGN': 135, 'EMPIRE UNION JACK TV DINNER TRAY': 136, 'TV DINNER TRAY AIR HOSTESS': 137, 'LAUNDRY 15C METAL SIGN': 138, 'JUMBO STORAGE BAG SUKI': 139, 'UNION JACK FLAG PASSPORT COVER': 140, 'OLD DOC RUSSEL METAL SIGN': 141, 'SILK PURSE RUSSIAN DOLL RED': 142, 'HAND OPEN SHAPE GOLD': 143, 'ENAMEL FLOWER JUG CREAM': 144, 'ENAMEL FIRE BUCKET CREAM': 145, 'ENAMEL WASH BOWL CREAM': 146, 'ENAMEL MEASURING JUG CREAM': 147, 'ENAMEL WATERING CAN CREAM': 148, 'ENAMEL BREAD BIN CREAM': 149, 'ENAMEL COLANDER CREAM': 150, 'SET OF 3 COLOURED  FLYING DUCKS': 151, 'RED RETROSPOT TRADITIONAL TEAPOT': 152, 'IVORY KITCHEN SCALES': 153, 'BLACK KITCHEN SCALES': 154, 'RED KITCHEN SCALES': 155, 'BUNNY DECORATION MAGIC GARDEN': 156, 'SET OF 3 RABBIT CARROTS EASTER': 157, 'PINK PARTY BAGS': 158, 'BLUE PARTY BAGS': 159, 'FELTCRAFT DOLL MARIA': 160, 'FELTCRAFT DOLL EMILY': 161, 'MINI HIGHLIGHTER PENS': 162, 'PACK OF 12 SPACEBOY TISSUES': 163, 'MAGIC DRAWING SLATE SPACEBOY': 164, 'MAGIC DRAWING SLATE DOLLY GIRL': 165, 'MINI PAINT SET VINTAGE': 166, '10 COLOUR SPACEBOY PEN': 167, 'GROW YOUR OWN PLANT IN A CAN': 168, '36 PENCILS TUBE RED SPOTTY': 169, 'TEA PARTY BIRTHDAY CARD': 170, 'SPACEBOY BIRTHDAY CARD': 171, 'DECOUPAGE,GREETING CARD,': 172, 'GIN & TONIC DIET GREETING CARD': 173, 'FAWN AND MUSHROOM GREETING CARD': 174, 'PARTY INVITES WOODLAND': 175, 'PARTY INVITES BALLOON GIRL': 176, 'SET/6 RED SPOTTY PAPER PLATES': 177, 'PACK OF 20 SPACEBOY NAPKINS': 178, 'PACK OF 20 SKULL PAPER NAPKINS': 179, 'SET/20 RED SPOTTY PAPER NAPKINS': 180, 'ALPHABET STENCIL CRAFT': 181, 'MONSTERS STENCIL CRAFT': 182, 'PLASTERS IN TIN SPACEBOY': 183, 'PLASTERS IN TIN CIRCUS PARADE': 184, 'WOODLAND PARTY BAG + STICKER SET': 185, 'SKULLS PARTY BAG + STICKER SET': 186, 'BALLOON PUMP WITH 10 BALLOONS': 187, \"FLOWER FAIRY,5 SUMMER B'DRAW LINERS\": 188, 'LUNCH BAG RED SPOTTY': 189, 'LUNCH BAG CARS BLUE': 190, 'STRAWBERRY LUNCHBOX WITH CUTLERY': 191, 'LUNCHBOX WITH CUTLERY FAIRY CAKES': 192, 'DINOSAUR LUNCHBOX WITH CUTLERY': 193, 'LUNCHBOX WITH CUTLERY RETROSPOT': 194, 'LUNCH BAG SUKI  DESIGN': 195, 'ROUND SNACK BOXES SET OF4 WOODLAND': 196, 'ROUND SNACK BOXES SET OF 4 FRUITS': 197, 'RED RETROSPOT PICNIC BAG': 198, 'ASSORTED COLOUR BIRD ORNAMENT': 199, 'VICTORIAN  METAL POSTCARD SPRING': 200, 'PAINTED METAL PEARS ASSORTED': 201, 'POPCORN HOLDER , LARGE': 202, 'MINI CAKE STAND WITH HANGING CAKES': 203, 'MINI CAKE STAND  HANGING STRAWBERY': 204, 'FEATHER PEN,COAL BLACK': 205, 'PIG KEYRING WITH LIGHT & SOUND': 206, 'TEA TIME TEA TOWELS': 207, 'CERAMIC CAKE BOWL + HANGING CAKES': 208, 'RED POLKA DOT TISSUE BOX': 209, 'SKULLS SQUARE TISSUE BOX': 210, 'TEA TIME CAKE STAND IN GIFT BOX': 211, 'DOOR MAT NEW ENGLAND': 212, 'DOOR MAT WELCOME PUPPIES': 213, 'LARGE CAKE STAND  HANGING STRAWBERY': 214, 'SET/5 RED SPOTTY LID GLASS BOWLS': 215, 'RED SPOTTY BIG BOWL': 216, 'GLASS CAKE COVER AND PLATE': 217, 'FELT TOADSTOOL  SMALL': 218, 'FELT FARM ANIMAL WHITE BUNNY': 219, 'FELT TOADSTOOL LARGE': 220, 'EASTER TIN BUCKET': 221, '6 CROCHET STRAWBERRIES': 222, 'HOOK, 5 HANGER ,MAGIC TOADSTOOL RED': 223, 'JIGSAW TOADSTOOLS 3 PIECE': 224, 'SMALL SPOTTY CHOCOLATE GIFT BAG': 225, 'SMALL STRIPES CHOCOLATE GIFT BAG': 226, 'WATERMELON BATH SPONGE': 227, 'STRAWBERRY BATH SPONGE': 228, 'MINI CAKE STAND HANGING HEARTS': 229, 'RETRO SPOT SUGAR JAM BOWL': 230, 'STRIPEY CHOCOLATE NESTING BOXES': 231, 'BATHROOM SET LOVE HEART DESIGN': 232, 'CREAM SLICE FLANNEL PINK SPOT': 233, 'SMALL RETRO SPOT MUG IN BOX  WHITE': 234, 'SMALL RETRO SPOT MUG IN BOX  RED': 235, 'SET 3 RED SPOT TIN TEA,COFFEE,SUGAR': 236, 'SCOTTIE DOG HOT WATER BOTTLE': 237, 'RED SPOT HEART HOT WATER BOTTLE': 238, 'LARGE CAKE TOWEL PINK SPOTS': 239, 'LARGE CAKE STAND HANGING HEARTS': 240, 'LOVE HEART TRINKET POT': 241, 'CERAMIC PLATE LOVE HEART DESIGN': 242, 'CERAMIC CAKE DESIGN SPOTTED PLATE': 243, 'TEA TIME OVEN GLOVE': 244, 'CERAMIC BOWL WITH LOVE HEART DESIGN': 245, 'PINK SPOTS CHOCOLATE NESTING BOXES': 246, 'PINK FAIRY CAKE CUSHION COVER': 247, 'PINK ROUND BUTTERFLY MIRROR': 248, 'ASSORTED COLOUR LIZARD SUCTION HOOK': 249, '50CM METAL STRING WITH  7 CLIPS': 250, 'RETRO BROWN BALL ASHTRAY': 251, 'RETRO PINK BALL ASHTRAY': 252, 'BOTTLE BAG RETROSPOT': 253, 'SET OF 12 MINI BUNNIES IN A BUCKET': 254, 'FAWN BLUE HOT WATER BOTTLE': 255, 'TOY TIDY PINK RETROSPOT': 256, 'BIRD HOUSE HOT WATER BOTTLE': 257, 'HOT WATER BOTTLE TEA AND SYMPATHY': 258, 'CHOCOLATE HOT WATER BOTTLE': 259, 'SANDWICH BATH SPONGE': 260, 'APPLE BATH SPONGE': 261, 'CHICK GREY HOT WATER BOTTLE': 262, 'CHERRY BLOSSOM  DECORATIVE FLASK': 263, 'CHERRY BLOSSOM DECORATIVE FLASK': 264, 'BLACK EAR MUFF HEADPHONES': 265, 'PINK/BROWN DOTS RUFFLED UMBRELLA': 266, 'RED/WHITE DOTS RUFFLED UMBRELLA': 267, 'BLACK/BLUE DOTS RUFFLED UMBRELLA': 268, 'HEART EAR MUFF HEADPHONES': 269, 'GOLD EAR MUFF HEADPHONES': 270, 'CAMOUFLAGE EAR MUFF HEADPHONES': 271, 'WOODLAND CHARLOTTE BAG': 272, 'RED SPOTTY CHARLOTTE BAG': 273, 'JUMBO BAG WOODLAND ANIMALS': 274, 'SET/20 WOODLAND PAPER NAPKINS': 275, 'RED SPOTTY SHOPPER BAG': 276, 'LUNCH BAG WOODLAND': 277, 'RED SPOTTY CUP': 278, 'GREEN SPOTTY CUP': 279, 'WOODLAND DESIGN  COTTON TOTE BAG': 280, 'MUSHROOM BLUE HOT WATER BOTTLE': 281, 'RED SPOTTY PURSE': 282, 'RED/WHITE SPOT PICNIC BAG': 283, 'RETRO SPOT TRADITIONAL TEAPOT': 284, 'RED SPOTTY TABLECLOTH': 285, 'CHARLOTTE BAG , SUKI DESIGN': 286, 'SUKI  SHOULDER BAG': 287, 'RED SPOTTY CHILDS APRON': 288, 'RED SPOTTY BEAKER': 289, 'RED SPOTTY PUDDING BOWL': 290, 'RED  SPOTTY COFFEE  MUG': 291, 'RETRO SPOT MUG': 292, 'ROUND SNACK BOXES SET OF 4 SKULLS': 293, 'JUMBO BAG PINK WITH WHITE SPOTS': 294, 'RED RETROSPOT JUMBO BAG': 295, 'BLUE  SPOTTY CUP': 296, 'PINK  SPOTTY CUP': 297, 'BLUE SPOTTY BOWL': 298, 'PINK SPOTTY BOWL': 299, 'RED SPOTTY BOWL': 300, 'BLUE  SPOTTY PLATE': 301, 'PINK  SPOTTY PLATE': 302, 'RED SPOTTY PLATE': 303, 'SEASIDE FLYING DISC': 304, 'JUNGLE POPSICLES ICE LOLLY HOLDERS': 305, 'LUNCH BAG PINK RETROSPOT': 306, 'JUMBO BAG SPACEBOY DESIGN': 307, 'ROUND CONTAINER SET OF 5 RETROSPOT': 308, 'STRAWBERRY LUNCH BOX WITH CUTLERY': 309, 'PINK 3 PIECE MINI DOTS CUTLERY SET': 310, 'BLUE 3 PIECE MINI DOTS CUTLERY SET': 311, 'RED 3 PIECE MINI DOTS CUTLERY SET': 312, 'CHILDS GARDEN TROWEL PINK': 313, 'CHILDS GARDEN TROWEL BLUE': 314, 'CHILDRENS GARDEN GLOVES PINK': 315, 'CHILDRENS GARDEN GLOVES BLUE': 316, 'RED  HARMONICA IN BOX': 317, 'BLUE HARMONICA IN BOX': 318, 'WATERING CAN PINK BUNNY': 319, 'WATERING CAN BLUE ELEPHANT': 320, 'CHILDS GARDEN BRUSH PINK': 321, 'CHILDS GARDEN BRUSH BLUE': 322, 'DINOSAUR LUNCH BOX WITH CUTLERY': 323, 'SNOWSTORM PHOTO FRAME FRIDGE MAGNET': 324, 'PACK OF 12 SKULL TISSUES': 325, 'PHOTO CUBE': 326, 'BOX OF 24 COCKTAIL PARASOLS': 327, 'SET 12 KIDS  WHITE CHALK STICKS': 328, 'COWBOYS AND INDIANS BIRTHDAY CARD': 329, 'ELEPHANT, BIRTHDAY CARD,': 330, 'PACK OF 72 RETRO SPOT CAKE CASES': 331, 'PACK OF 60 MUSHROOM CAKE CASES': 332, 'RED LOVE HEART SHAPE CUP': 333, 'SAVE THE PLANET MUG': 334, 'LARGE HEART MEASURING SPOONS': 335, 'SMALL CHOCOLATES PINK BOWL': 336, 'LADLE LOVE HEART RED': 337, 'PINK LOVE HEART SHAPE CUP': 338, 'PIZZA SLICE DISH': 339, 'HOME SWEET HOME MUG': 340, 'RED TOADSTOOL LED NIGHT LIGHT': 341, 'NO SINGING METAL SIGN': 342, 'COFFEE MUG PEARS  DESIGN': 343, 'COFFEE MUG APPLES DESIGN': 344, 'PURPLE PAPER PARASOL': 345, 'PINK PAPER PARASOL': 346, 'BLUE PAPER PARASOL': 347, 'BOYS VINTAGE TIN SEASIDE BUCKET': 348, 'GIRLS VINTAGE TIN SEASIDE BUCKET': 349, 'PIZZA PLATE IN BOX': 350, 'VINTAGE SEASIDE JIGSAW PUZZLES': 351, 'VINTAGE SNAKES & LADDERS': 352, 'OFFICE MUG WARMER CHOC+BLUE': 353, 'OFFICE MUG WARMER POLKADOT': 354, 'HOME SWEET HOME METAL SIGN': 355, 'ECONOMY HOLIDAY PURSE': 356, 'BLACK RECORD COVER FRAME': 357, 'BINGO SET': 358, 'PACK OF 12 LONDON TISSUES': 359, 'MINI JIGSAW SPACEBOY': 360, 'PACK OF 12 TRADITIONAL CRAYONS': 361, 'PACK OF 60 SPACEBOY CAKE CASES': 362, 'RETRO SPOT  CIGAR BOX MATCHES': 363, 'SET OF 9 BLACK SKULL BALLOONS': 364, 'HAIRCLIPS FORTIES FABRIC ASSORTED': 365, 'PACK OF 6 SKULL PAPER CUPS': 366, 'SKULLS  WATER TRANSFER TATTOOS': 367, 'WOODLAND  STICKERS': 368, 'HOOK, 1 HANGER ,MAGIC GARDEN': 369, 'SET/20 STRAWBERRY PAPER NAPKINS': 370, 'HEART CALCULATOR': 371, 'CERAMIC CHERRY CAKE MONEY BANK': 372, 'CERAMIC STRAWBERRY CAKE MONEY BANK': 373, 'SKULL AND CROSSBONES  GARLAND': 374, 'HOOK, 5 HANGER , MAGIC TOADSTOOL': 375, 'WOODEN SCHOOL COLOURING SET': 376, 'HOOK, 3 HANGER ,MAGIC GARDEN': 377, 'RED SPOTTY OVEN GLOVE': 378, 'CHARLIE AND LOLA CHARLOTTE BAG': 379, 'LUNCH BAG SPACEBOY DESIGN': 380, 'CHERRY DESIGN PAPERLANTERNS': 381, 'METAL SIGN CUPCAKE SINGLE HOOK': 382, 'METAL SIGN,CUPCAKE SINGLE HOOK': 383, 'GREEN  SPOTTY PLATE': 384, 'CHILDS APRON SPACEBOY DESIGN': 385, \"PINK FAIRY CAKE CHILD'S APRON\": 386, 'FOLDING UMBRELLA , BLACK/BLUE  SPOT': 387, 'FOLDING UMBRELLA  CHOC/WHITE  SPOT': 388, 'PAPERWEIGHT CHILDHOOD MEMORIES': 389, 'SKULL LUNCH BOX WITH CUTLERY': 390, 'COFFEE MUG CAT + BIRD DESIGN': 391, 'S/4 VALENTINE DECOUPAGE HEART BOX': 392, 'ASSORTED COLOUR SET 6 TEASPOONS': 393, 'BOX OF VINTAGE JIGSAW BLOCKS': 394, 'RED FLORAL FELTCRAFT SHOULDER BAG': 395, 'PINK FLORAL FELTCRAFT SHOULDER BAG': 396, 'FOLDING UMBRELLA  WHITE/RED  SPOT': 397, 'FOLDING UMBRELLA  PINK/WHITE  SPOT': 398, 'BAKING SET SPACEBOY DESIGN': 399, 'DOOR MAT UNION FLAG': 400, 'DOOR MAT UNION JACK GUNS AND ROSES': 401, 'DOOR MAT HEARTS': 402, 'DOOR MAT RED SPOT': 403, 'CREAM SWEETHEART SHELF + HOOKS': 404, 'RED/WHITE DOT MINI CASES': 405, 'ANTIQUE CREAM CUTLERY SHELF': 406, 'CHILDS BREAKFAST SET CIRCUS PARADE': 407, 'CHILDS BREAKFAST SET SPACEBOY': 408, 'COOKING SET RETROSPOT': 409, 'TEA TIME TABLE CLOTH': 410, 'RETRO SPOT LAMP': 411, 'RED SPOTTY ROUND CAKE TINS': 412, 'VINTAGE WOODEN BAR STOOL': 413, 'FUSCHIA RETRO BAR STOOL': 414, '12 PENCILS TALL TUBE RED SPOTTY': 415, 'SMALL RED RETROSPOT WINDMILL': 416, 'RETRO SPOT CANDLE  SMALL': 417, 'RETROSPOT PADDED SEAT CUSHION': 418, 'GREEN SPOTTY BOWL': 419, 'LUNCH BOX WITH CUTLERY RETROSPOT': 420, 'PACK OF 12 RED SPOTTY TISSUES': 421, 'SMALL RED SPOT  WINDMILL': 422, 'LARGE RED SPOT WINDMILL': 423, 'BAKING SET 9 PIECE RETROSPOT': 424, 'SET/3 RUSSIAN DOLL STACKING TINS': 425, '36 PENCILS TUBE WOODLAND': 426, 'RETRO SPOT CANDLE  MEDIUM': 427, 'RED SPOTTY SHOPPING BAG': 428, 'RETRO SPOT CANDLE  LARGE': 429, 'PAPER BUNTING COLOURED LACE': 430, 'FIVE HEART HANGING DECORATION': 431, 'PAPER BUNTING RETRO SPOTS': 432, 'SET OF 3 CASES WOODLAND DESIGN': 433, 'STRAWBERRY CHARLOTTE BAG': 434, 'CHARLOTTE BAG , PINK/WHITE SPOTS': 435, 'LUNCHBAG SUKI  DESIGN': 436, 'LUNCHBAG SPACEBOY DESIGN': 437, 'JUMBO BAG STRAWBERRY': 438, 'RED SPOTTY COIR DOORMAT': 439, 'PINK SPOTTY CHILDS UMBRELLA': 440, 'MOBILE VINTAGE HEARTS': 441, 'BIRDS MOBILE VINTAGE DESIGN': 442, 'WALL TIDY RETROSPOT': 443, 'TOY TIDY SPACEBOY': 444, 'ENGLISH ROSE PLACEMATS': 445, 'RED DINER WALL CLOCK': 446, 'WEEKEND BAG VINTAGE ROSE PAISLEY': 447, 'CHARLOTTE BAG SUKI DESIGN': 448, 'CHARLOTTE BAG PINK WITH WHITE SPOTS': 449, '12 PENCILS SMALL TUBE RED SPOTTY': 450, 'JUMBO BAG RED RETROSPOT': 451, 'JUMBO BAG OWLS': 452, 'SET OF 72 RETRO SPOT PAPER  DOILIES': 453, 'LOLITA  DESIGN  COTTON TOTE BAG': 454, 'WOODLAND STORAGE BOX LARGE': 455, 'RED GINGHAM ROSE JEWELLERY BOX': 456, 'SAVE THE PLANET COTTON TOTE BAG': 457, 'GREEN 3 PIECE MINI DOTS CUTLERY SET': 458, 'STRAWBERRY   PICNIC BAG': 459, 'PINK PADDED MOBILE': 460, 'BLUE PADDED SOFT MOBILE': 461, 'TIN CAN POCKET MONEY DESIGN': 462, 'TIN CAN BISCUITS DESIGN': 463, 'MAGNETS PACK OF 4 SWALLOWS': 464, 'MAGNETS PACK OF 4 CHILDHOOD MEMORY': 465, 'MAGNETS PACK OF 4 VINTAGE LABELS': 466, 'PLASTERS IN TIN MR STRONG': 467, 'MEASURING TAPE RUSSIAN DOLL RED': 468, 'CABIN BAG VINTAGE PAISLEY': 469, 'CABIN BAG VINTAGE RETROSPOT': 470, 'GLASS JAR MARMALADE': 471, 'GLASS JAR ENGLISH CONFECTIONERY': 472, 'GLASS JAR DAISY FRESH COTTON WOOL': 473, 'GLASS JAR, KINGS CHOICE SOAP': 474, 'GLASS JAR DIGESTIVE BISCUITS': 475, 'GLASS JAR PEACOCK BATH SALTS': 476, 'TV DINNER TRAY DOLLY GIRL': 477, 'PACK OF 72 SKULL CAKE CASES': 478, 'SET/10 RED SPOTTY PARTY CANDLES': 479, 'SET/10 PINK SPOTTY PARTY CANDLES': 480, 'SET/10 IVORY SPOTTY PARTY CANDLES': 481, 'SET/10 BLUE SPOTTY PARTY CANDLES': 482, 'HANGING JAM JAR T-LIGHT HOLDER': 483, 'HANGING HEART JAR T-LIGHT HOLDER': 484, 'NOEL GARLAND PAINTED ZINC': 485, 'GLASS ETCHED T-LIGHT HOLDER MEDIUM': 486, 'VINTAGE BLUE TINSEL REEL': 487, 'CHRISTMAS CRAFT HEART STOCKING': 488, 'TEA COSY BLUE STRIPE': 489, 'TEA COSY RED  STRIPE': 490, 'GUMBALL COAT RACK': 491, 'PAPER BUNTING VINTAGE PAISLEY': 492, \"PAPER CHAIN KIT 50'S CHRISTMAS\": 493, 'MILK PAN BLUE RETROSPOT': 494, 'MILK PAN RED RETROSPOT': 495, 'TEA COSY VINTAGE UNION JACK': 496, 'FRYING PAN BLUE POLKADOT': 497, 'FRYING PAN RED POLKADOT': 498, 'PINK HAPPY BIRTHDAY BUNTING': 499, 'BLUE HAPPY BIRTHDAY BUNTING': 500, 'WOOLLY HAT SOCK GLOVE ADVENT STRING': 501, 'VINTAGE UNION JACK APRON': 502, 'VINTAGE HEADS AND TAILS CARD GAME': 503, 'WATERING CAN GREEN DINOSAUR': 504, 'S/6 WOODEN SKITTLES IN COTTON BAG': 505, 'WRAP FOLK ART': 506, 'JIGSAW TREE WITH BIRDHOUSE': 507, 'JIGSAW RABBIT AND BIRDHOUSE': 508, 'FLYING PIG WATERING CAN': 509, 'AIRLINE BAG VINTAGE JET SET RED': 510, 'AIRLINE BAG VINTAGE JET SET WHITE': 511, 'AIRLINE BAG VINTAGE JET SET BROWN': 512, 'BOX OF VINTAGE ALPHABET BLOCKS': 513, 'PINK SMALL GLASS CAKE STAND': 514, 'FELT EGG COSY CHICKEN': 515, 'FELT EGG COSY WHITE RABBIT': 516, 'VINTAGE SNAP CARDS': 517, 'PINK MILKSHAKE GLASS': 518, 'COLOURING PENCILS BROWN TUBE': 519, 'SMALL PINK GLASS SUNDAE DISH': 520, 'SET OF 2 ROUND TINS DUTCH CHEESE': 521, 'CHERRY CROCHET FOOD COVER': 522, 'CORONA MEXICAN TRAY': 523, 'MILK PAN PINK RETROSPOT': 524, 'GLASS  BEURRE DISH': 525, 'FRYING PAN PINK POLKADOT': 526, 'CAKE STAND LACE WHITE': 527, 'ANT WHITE IRON BASKET': 528, 'POLYESTER FILLER PAD 30CMx30CM': 529, 'POLYESTER FILLER PAD 45x30cm': 530, 'POLYESTER FILLER PAD 40x40cm': 531, 'POLYESTER FILLER PAD 45x45cm': 532, 'PINK/WHITE RIBBED MELAMINE JUG': 533, 'CAKE STAND WHITE TWO TIER LACE': 534, 'VINTAGE CREAM 3 BASKET CAKE STAND': 535, 'WHITE TISSUE REAM': 536, 'VINTAGE POST OFFICE CABINET': 537, 'AIRLINE BAG VINTAGE WORLD CHAMPION': 538, 'AIRLINE BAG VINTAGE TOKYO 78': 539, 'PARTY PIZZA DISH RED WHITE SPOT': 540, 'PARTY PIZZA DISH PINK WHITE SPOT': 541, 'PARTY PIZZA DISH GREEN WHITE SPOT': 542, 'PARTY PIZZA DISH BLUE WHITE SPOT': 543, 'CHILDS GARDEN FORK BLUE': 544, 'CHILDS GARDEN FORK PINK': 545, 'LUSH GREENS RIBBONS': 546, 'BRIGHT BLUES RIBBONS': 547, 'BABY BOOM RIBBONS': 548, 'URBAN BLACK RIBBONS': 549, 'ROMANTIC PINKS RIBBONS': 550, 'PICTURE DOMINOES': 551, 'HEART FILIGREE DOVE LARGE': 552, 'HEART IVORY TRELLIS LARGE': 553, 'RETRO SPOT PADDED SEAT CUSHION': 554, 'ROSE SCENT CANDLES IN GLASS': 555, 'RETRO SPORT PARTY BAG + STICKER SET': 556, 'SILK PURSE RUSSIAN DOLL PINK': 557, 'ENCHANTED BIRD COATHANGER 5 HOOK': 558, 'PICTURE FRAME WOOD TRIPLE PORTRAIT': 559, 'SEWING BOX RETROSPOT DESIGN': 560, 'FAMILY ALBUM WHITE PICTURE FRAME': 561, 'WOODEN PICTURE FRAME WHITE FINISH': 562, 'PINK OWL SOFT TOY': 563, 'BLUE OWL SOFT TOY': 564, 'CRAZY DAISY HEART DECORATION': 565, 'FLORAL ELEPHANT SOFT TOY': 566, 'DECORATIVE NET CANOPY CREAM': 567, '72 SWEETHEART FAIRY CAKE CASES': 568, 'PACK OF 60 DINOSAUR CAKE CASES': 569, 'PACK OF 60 PINK PAISLEY CAKE CASES': 570, 'FELTCRAFT HAIRBAND PINK AND BLUE': 571, 'FELTCRAFT HAIRBAND RED AND BLUE': 572, 'FELTCRAFT HAIRBANDS PINK AND WHITE': 573, 'FELTCRAFT HAIRBAND PINK AND PURPLE': 574, 'PINK CREAM FELT CRAFT TRINKET BOX': 575, 'PINK BLUE FELT CRAFT TRINKET BOX': 576, 'FELTCRAFT 6 FLOWER FRIENDS': 577, 'HAPPY ANNIVERSARY CANDLE LETTERS': 578, '12 PENCILS TALL TUBE WOODLAND': 579, '12 PENCILS TALL TUBE SKULLS': 580, 'ASSORTED TUTTI FRUTTI HEART BOX': 581, 'SET 6 FOOTBALL CELEBRATION CANDLES': 582, 'ASSORTED TUTTI FRUTTI ROUND BOX': 583, 'ASSORTED TUTTI FRUTTI NOTEBOOK': 584, 'TOADSTOOL MONEY BOX': 585, 'FELTCRAFT CUSHION RABBIT': 586, 'RED HEART SHAPE LOVE BUCKET': 587, 'PINK  HEART SHAPE LOVE BUCKET': 588, 'SET/3 POLKA DOT STACKING TINS': 589, 'RETRO SPOT TEA SET CERAMIC 11 PC': 590, 'BABUSHKA LIGHTS STRING OF 10': 591, '12 PENCILS SMALL TUBE SKULL': 592, 'SET/6 WOODLAND PAPER CUPS': 593, 'SET/6 WOODLAND PAPER PLATES': 594, 'SKULLS  STICKERS': 595, 'PACK OF 6 SKULL PAPER PLATES': 596, 'SET OF 6 GIRLS CELEBRATION CANDLES': 597, 'TRADITIONAL CHRISTMAS RIBBONS': 598, 'SCANDINAVIAN REDS RIBBONS': 599, 'SMALL SKULL WINDMILL': 600, 'WOODEN BOX OF DOMINOES': 601, 'PARTY CONES CARNIVAL ASSORTED': 602, 'PARTY CONES CANDY ASSORTED': 603, 'FELTCRAFT BUTTERFLY HEARTS': 604, '6 RIBBONS SHIMMERING PINKS': 605, '6 RIBBONS ELEGANT CHRISTMAS': 606, '6 RIBBONS EMPIRE': 607, 'SET/4 BADGES WOODLAND ANIMAL': 608, 'SET/4 SKULL BADGES': 609, 'PAPER CHAIN KIT RETRO SPOT': 610, 'SET OF SKULL WALL STICKERS': 611, 'PAPER CHAIN KIT SKULLS': 612, 'WOODEN HAPPY BIRTHDAY GARLAND': 613, 'PAPER BUNTING WHITE LACE': 614, 'LOVE BUILDING BLOCK WORD': 615, 'NURSERY A,B,C PAINTED LETTERS': 616, 'VINTAGE UNION JACK BUNTING': 617, 'BLUE FLYING SINGING CANARY': 618, 'JUMBO BAG SCANDINAVIAN PAISLEY': 619, 'JUMBO BAG PINK VINTAGE PAISLEY': 620, 'WOODLAND WATER TRANSFER TATTOOS': 621, 'DINOSAURS WATER TRANSFER TATTOOS': 622, 'ASSORTED TUTTI FRUTTI LARGE PURSE': 623, 'INFLATABLE POLITICAL GLOBE': 624, 'NATURAL BARK CANDLE SMALL': 625, 'NATURAL BARK CANDLE LARGE': 626, 'LOVE HEART POCKET WARMER': 627, 'CAMOUFLAGE LED TORCH': 628, 'SET OF 20 KIDS COOKIE CUTTERS': 629, '6 CHOCOLATE LOVE HEART T-LIGHTS': 630, 'PINK HEART CANDY BUTTON CALCULATOR': 631, '3D DOG PICTURE PLAYING CARDS': 632, 'DOG BOWL , CHASING BALL DESIGN': 633, 'GREEN MINI TAPE MEASURE': 634, 'SILVER MINI TAPE MEASURE': 635, 'LUNCH BAG  BLACK SKULL.': 636, 'TEATIME CAKE TIN WITH HANDLE': 637, 'SET OF 9 HEART SHAPED BALLOONS': 638, 'BALLOON WATER BOMB PACK OF 35': 639, 'CHINESE DRAGON PAPER LANTERNS': 640, 'PACK OF 12 WOODLAND TISSUES': 641, 'TOILET METAL SIGN': 642, 'PACK 20 ENGLISH ROSE PAPER NAPKINS': 643, 'WHITE SPOT BLUE CERAMIC DRAWER KNOB': 644, 'SET OF 36 MUSHROOM PAPER DOILIES': 645, 'HEARTS  STICKERS': 646, 'SET OF 72 PINK HEART PAPER DOILIES': 647, 'BOTANICAL LILY GIFT WRAP': 648, 'PARTY BUNTING': 649, 'WOODLAND STORAGE BOX SMALL': 650, 'PIGGY BANK RETROSPOT': 651, 'SWALLOW GIANT TUBE MATCHES': 652, 'SET OF 12 ROSE BOTANICAL T-LIGHTS': 653, 'SET OF 4 ENGLISH ROSE COASTERS': 654, 'SET OF 3 BUTTERFLY COOKIE CUTTERS': 655, 'WHITE DOVE HONEYCOMB PAPER GARLAND': 656, 'HANGING RIDGE GLASS T-LIGHT HOLDER': 657, 'FOLDING UMBRELLA , RED/WHITE SPOT': 658, 'FOLDING UMBRELLA  CREAM/MULTI  SPOT': 659, 'CANDLE PLATE LACE WHITE': 660, 'WHITE HANGING HEART T-LIGHT HOLDER': 661, 'COLOURFUL FISHING GNOME': 662, 'MINT KITCHEN SCALES': 663, 'S/16 VINTAGE BLACK CUTLERY': 664, 'STRAWBERRY SHOPPER BAG': 665, 'BATHROOM SCALES RUBBER DUCKS': 666, 'BLUE WHITE SPOTS GARDEN PARASOL': 667, 'PINK WHITE SPOTS GARDEN PARASOL': 668, '4 VANILLA BOTANICAL CANDLES': 669, 'STEEL SWEETHEART ROUND TABLE CREAM': 670, 'CREAM SWEETHEART WALL CABINET': 671, 'SWEETHEART CREAM STEEL FOLDIN BENCH': 672, 'SWEETHEART CREAM STEEL TABLE RECT': 673, 'SET 12 KIDS COLOUR  CHALK STICKS': 674, 'MAGIC SLATE DOLLY GIRL': 675, 'MAGIC SLATE SPACEBOY': 676, 'MAGIC SLATE DINOSAUR': 677, 'SPACE BOY BIRTHDAY CARD': 678, 'RAIN PONCHO': 679, 'BAG 125g SWIRLY MARBLES': 680, 'VINTAGE KID DOLLY CARD': 681, 'RED WOOLLY HOTTIE WHITE HEART.': 682, 'CHARLIE LOLA BLUE HOT WATER BOTTLE': 683, 'WOODEN ROUNDERS GARDEN SET': 684, 'WRAP BLUE RUSSIAN FOLKART': 685, 'TEA PARTY  WRAPPING PAPER': 686, 'WRAP DOLLY GIRL': 687, 'PACK OF 12 CIRCUS PARADE TISSUES': 688, 'MINI JIGSAW DOLLY GIRL': 689, 'MINI JIGSAW BAKE A CAKE': 690, 'MINI JIGSAW CIRCUS PARADE': 691, 'WRAP I LOVE LONDON': 692, 'WRAP CIRCUS PARADE': 693, 'SPACEBOY GIFT WRAP': 694, 'POTTING SHED SEED ENVELOPES': 695, 'POTTING SHED TEA MUG': 696, '6 RIBBONS RUSTIC CHARM': 697, 'VINTAGE CARAVAN GREETING CARD': 698, 'RAINY LADIES BIRTHDAY CARD': 699, 'RING OF ROSES BIRTHDAY CARD': 700, 'PENNY FARTHING BIRTHDAY CARD': 701, 'CARD DOLLY GIRL': 702, 'CARD CIRCUS PARADE': 703, 'CARAVAN SQUARE TISSUE BOX': 704, '4 TRADITIONAL SPINNING TOPS': 705, 'PAINT YOUR OWN CANVAS SET': 706, 'SET OF 6 VINTAGE NOTELETS KIT': 707, 'CERAMIC STRAWBERRY MONEY BOX': 708, 'POTTING SHED ROSE CANDLE': 709, 'HOLIDAY FUN LUDO': 710, 'RIBBON REEL STRIPES DESIGN': 711, 'CHILDS BREAKFAST SET DOLLY GIRL': 712, 'SET OF 12  VINTAGE POSTCARD SET': 713, 'METAL SIGN EMPIRE TEA': 714, 'POTTING SHED CANDLE CITRONELLA': 715, 'FELTCRAFT DOLL MOLLY': 716, 'FELTCRAFT DOLL ROSIE': 717, 'BLUE TV TRAY TABLE': 718, 'PINK TV TRAY TABLE': 719, 'VINTAGE GLASS TEA CADDY': 720, 'ROSE CARAVAN DOORSTOP': 721, 'KITCHEN METAL SIGN': 722, 'BATHROOM METAL SIGN': 723, 'EMERGENCY FIRST AID TIN': 724, 'LOO ROLL  METAL SIGN': 725, 'HOT BATHS SOAP HOLDER': 726, 'BEWARE OF THE CAT METAL SIGN': 727, 'POTTERING IN THE SHED METAL SIGN': 728, 'HAND OVER THE CHOCOLATE   SIGN': 729, 'MAN FLU METAL SIGN': 730, 'CHOCOLATE THIS WAY METAL SIGN': 731, 'SET/6 COLLAGE PAPER CUPS': 732, 'FELT EGG COSY BLUE RABBIT': 733, 'FELT EGG COSY LADYBIRD': 734, 'SET/6 COLLAGE PAPER PLATES': 735, 'SET/20 COLLAGE PAPER NAPKIN': 736, 'CANDY SPOT EGG WARMER HARE': 737, 'PINK FAIRY CAKE COASTER': 738, 'NIGHTINGALE COATHOOK WHITE': 739, 'TUMBLER, NEW ENGLAND': 740, 'DIAMANTE HAIR GRIP PACK/2 MONTANA': 741, 'COFFEE MUG BLUE PAISLEY DESIGN': 742, 'SET3 BOOK BOX GREEN GINGHAM FLOWER': 743, 'FAIRY CAKES ROUND NESTING BOXES': 744, 'SET OF 3 CONEY ISLAND OVAL BOXES': 745, '12 EGG HOUSE PAINTED WOOD': 746, 'SET/4 2 TONE EGG SHAPE MIXING BOWLS': 747, 'WHITE PICNIC BARBECUE BUCKET': 748, 'CAKE STAND 3 TIER MAGIC GARDEN': 749, 'BOTANICAL ROSE GIFT WRAP': 750, 'PINK PAISLEY ROSE GIFT WRAP': 751, 'BOTANICAL LAVENDER GIFT WRAP': 752, 'WRAP ENGLISH ROSE': 753, 'SEWING SUSAN 21 NEEDLE SET': 754, 'MOROCCAN TEA GLASS': 755, 'WHITE SPOT RED CERAMIC DRAWER KNOB': 756, 'CAKE PLATE LOVEBIRD PINK': 757, 'LARGE TAHITI BEACH BAG': 758, 'PHARMACIE FIRST AID TIN': 759, 'WHITE BAROQUE WALL CLOCK': 760, 'VICTORIAN SEWING BOX LARGE': 761, 'S/16 VINTAGE SKY BLUE CUTLERY': 762, 'SEASIDE FRISBEE': 763, 'KASHMIR FOLKART TUMBLERS': 764, 'WOODLAND  HEIGHT CHART STICKERS': 765, 'COLOURFUL STANDING GNOME': 766, 'LIGHT BIRD HOUSE TREE DECORATION': 767, 'CERAMIC BOWL WITH STRAWBERRY DESIGN': 768, 'EMPIRE GIFT WRAP': 769, \"RETRO PLASTIC 70'S TRAY\": 770, 'BANQUET BIRTHDAY  CARD': 771, 'SWALLOWS GREETING CARD': 772, 'EMPIRE BIRTHDAY CARD': 773, 'FANCY FONT BIRTHDAY CARD,': 774, 'BOTANICAL ROSE GREETING CARD': 775, 'EMPIRE TISSUE BOX': 776, 'KINGS CHOICE MUG': 777, 'VINTAGE RED TEATIME MUG': 778, 'MODERN VINTAGE COTTON SHOPPING BAG': 779, 'RETRO MOD TRAY': 780, 'VINTAGE UNION JACK CUSHION COVER': 781, 'NATURAL SLATE CHALKBOARD LARGE': 782, 'DOOR MAT FANCY FONT HOME SWEET HOME': 783, 'COLOUR GLASS T-LIGHT HOLDER HANGING': 784, 'FLAG OF ST GEORGE CAR FLAG': 785, 'FLAG OF ST GEORGE': 786, 'DOOR MAT MULTICOLOUR STRIPE': 787, 'WHITE LOVEBIRD LANTERN': 788, 'HANGING METAL BIRD BATH': 789, 'CAKE STAND LOVEBIRD 2 TIER WHITE': 790, 'RED SPOTTY CANDY BAG': 791, 'JUMBO  BAG BAROQUE BLACK WHITE': 792, 'SET OF 6 3D KIT CARDS FOR KIDS': 793, 'POSY CANDY BAG': 794, 'STRAWBERRIES  DESIGN FLANNEL': 795, 'SKULLS DESIGN FLANNEL': 796, 'HANGING HEART ZINC T-LIGHT HOLDER': 797, 'WOODLAND ANIMAL  WRITING SET': 798, 'MINI WOODEN HAPPY BIRTHDAY GARLAND': 799, 'JUMBO BAG TOYS': 800, 'SET OF 6 FUNKY BEAKERS': 801, 'IVORY PAPER CUP CAKE CASES': 802, 'FOLKART CROWN TABLE DECORATIONS': 803, 'PARTY CONES CANDY TREE DECORATION': 804, 'SET OF 72 GREEN PAPER DOILIES': 805, 'SET OF 72 IVORY PAPER DOILIES': 806, 'SET OF 36 SILVER PAPER DOILIES': 807, 'SET OF 36 PAISLEY FLOWER DOILIES': 808, 'JAPANESE CROCHETED ANIMAL': 809, 'BIRD DECORATION GREEN  SPOT': 810, 'BIRD DECORATION RED SPOT': 811, 'BLUE  SPOTTY EGG CUP': 812, 'RED SPOTTY EGG CUP': 813, 'FELT FARM ANIMAL CHICKEN': 814, 'MAGIC SHEEP WOOL GROWING FROM PAPER': 815, 'BLUE  SPOTTY PUDDING BOWL': 816, 'BLUE  SPOTTY  COFFEE MUG': 817, 'RABBIT  DESIGN  COTTON TOTE BAG': 818, 'COFFEE MUG DOG + BALL DESIGN': 819, 'PINK/WHITE \"KEEP CLEAN\" BULLET BIN': 820, 'GIRLY PINK TOOL SET': 821, 'BOOM BOX SPEAKER BOYS': 822, 'DAIRY MAID LARGE MILK JUG': 823, 'BROWN DOG CANNISTER W BONE': 824, 'DAIRY MAID TRADITIONAL TEAPOT': 825, '6 SEGMENT COLOURED SNACK BOWL': 826, 'GIN + TONIC DIET METAL SIGN': 827, 'LADIES & GENTLEMEN METAL SIGN': 828, 'AREA PATROLLED METAL SIGN': 829, 'WOOD STAMP SET FLOWERS': 830, 'WOODEN SKITTLES GARDEN SET': 831, 'FAIRY CAKE BIRTHDAY CANDLE SET': 832, 'ENAMEL PINK TEA CONTAINER': 833, 'STRAWBERRY FAIRY CAKE TEAPOT': 834, 'SET OF 6 SOLDIER SKITTLES': 835, 'FLOWER FAIRY SUMMER BOUQUET SACHET': 836, 'CANDY SPOT HEART DECORATION': 837, 'RETRO PLASTIC ELEPHANT TRAY': 838, 'FOLKART ZINC HEART CHRISTMAS DEC': 839, 'SINGLE HEART ZINC T-LIGHT HOLDER': 840, 'BOUDOIR SQUARE TISSUE BOX': 841, 'CHOCOLATE CALCULATOR': 842, 'RED SPOTTY WASHBAG': 843, 'ENAMEL BLUE RIM COFFEE CONTAINER': 844, 'ENAMEL BLUE RIM TEA CONTAINER': 845, 'S/4 BLUE ROUND DECOUPAGE BOXES': 846, 'BLUE SPOTTY PURSE': 847, 'HAND OPEN SHAPE DECO.WHITE': 848, 'BLUE CHALET BIRDFEEDER': 849, 'SET OF 3 DANISH ROSE PLANTERS': 850, 'ENAMEL BLUE RIM BISCUIT BIN': 851, 'WHITE SOAP RACK WITH 2 BOTTLES': 852, 'SPOTTY  HOME SWEET HOME DOORMAT': 853, 'CHARLIE + LOLA RED HOT WATER BOTTLE': 854, 'BLACK BAROQUE CUCKOO CLOCK': 855, 'WRAP,SUKI AND FRIENDS': 856, 'FLAMINGO LIGHTS': 857, 'SET 10 LIGHTS NIGHT OWL': 858, 'BLUE DINER WALL CLOCK': 859, 'SLEEPING CAT ERASERS': 860, '12 PENCILS SMALL TUBE POSY': 861, 'ASSORTED TUTTI FRUTTI SMALL PURSE': 862, 'HOUSE SHAPE PENCIL SHARPENER': 863, 'SET/6 3D KIT CARDS FOR KIDS': 864, 'SCOTTIES DESIGN BABY BIB': 865, 'ZINC METAL HEART DECORATION': 866, 'SMALL ORIENTAL RED FOLDING STOOL': 867, 'PATCHWORK PENCIL CASE BUTTERFLY': 868, 'CLASSIC WHITE FRAME': 869, 'ASSORTED COLOUR MINI CASES': 870, 'MINATURE COLOURED GARDENING SET': 871, 'PINK BABY GIRLS PHOTO ALBUM': 872, 'WORLD WAR 2 GLIDERS ASSTD DESIGNS': 873, 'FOOD/DRINK SPUNGE STICKERS': 874, 'SET/6 FRUIT SALAD PAPER CUPS': 875, 'SET/6 STRAWBERRY PAPER CUPS': 876, 'SET/6 STRAWBERRY PAPER PLATES': 877, 'SET/6 FRUIT SALAD  PAPER PLATES': 878, '12 PENCILS TALL TUBE POSY': 879, 'SET/20 FRUIT SALAD PAPER NAPKINS': 880, 'SET OF 3 HEART COOKIE CUTTERS': 881, 'BLUE FELT EASTER EGG BASKET': 882, 'PINK FELT EASTER EGG BASKET': 883, 'WHITE/BLUE PULL BACK RACING CAR': 884, 'PARTY INVITES DINOSAURS': 885, 'PARTY INVITES SPACEMAN': 886, 'PARTY INVITES FOOTBALL': 887, 'EIGHT PIECE DINOSAUR SET': 888, 'SET OF 36 DINOSAUR PAPER DOILIES': 889, 'SET OF 72 SKULL PAPER  DOILIES': 890, 'EASTER CRAFT 4 CHICKS': 891, 'SET/4 BADGES BALLOON GIRL': 892, 'SET/4 BADGES CUTE CREATURES': 893, 'SET/4 BADGES BEETLES': 894, 'TEA TIME PAPER LANTERNS': 895, 'SMALL GREEN PEONY FOLDING STOOL': 896, 'SMALL PINK PEONY FOLDING STOOL': 897, 'SMALL ORIENTAL BLUE FOLDING STOOL': 898, 'BLUE ROCKING SINGING CANARY': 899, 'DOGGY RUBBER': 900, 'JIGSAW TREE WITH WATERING CAN': 901, 'TRADITIONAL WOODEN CATCH CUP GAME': 902, 'SET/6 POSIES PAPER CUPS': 903, 'SET/6 POSIES PAPER PLATES': 904, 'BUTTERFLIES  HONEYCOMB GARLAND': 905, 'DINOSAUR PARTY BAG + STICKER SET': 906, 'STRAWBERRY HONEYCOMB  GARLAND': 907, '12 PENCIL SMALL TUBE WOODLAND': 908, 'FAIRY CAKES NOTEBOOK A7 SIZE': 909, 'RED METAL BEACH SPADE': 910, 'GREEN GINGHAM FLOWER JEWELLERY BOX': 911, 'MINI JIGSAW DINOSAUR': 912, '6 ROCKET BALLOONS': 913, 'RED HANGING HEART T-LIGHT HOLDER': 914, 'JACOBS LADDER SMALL': 915, 'RED AND WHITE SPOT TAPE': 916, 'KITTY PENCIL ERASERS': 917, 'SKULLS AND CROSSBONES WRAP': 918, 'BLUE SPOTS  WRAP': 919, 'TOYBOX  WRAP': 920, 'CUTE CATS TAPE': 921, 'SKULLS TAPE': 922, 'ASSORTED FLOWER COLOUR \"LEIS\"': 923, 'BASKET OF FLOWERS SEWING KIT': 924, 'VICTORIAN SEWING KIT': 925, 'ASSTD DESIGN RACING CAR PEN': 926, 'ROBOT BIRTHDAY CARD': 927, 'HEADS AND TAILS SPORTING FUN': 928, 'ENGLISH ROSE SPIRIT LEVEL': 929, 'ENGLISH ROSE GARDEN SECATEURS': 930, 'CAROUSEL DESIGN WASHBAG': 931, 'RETRO RED SPOTTY WASHING UP GLOVES': 932, 'MULTICOLOUR 3D BALLS GARLAND': 933, 'PACK OF 6 SWEETIE GIFT BOXES': 934, 'HAWAIIAN GRASS SKIRT': 935, 'RED SPOTTY PEG BAG': 936, 'BATH DUCK WATERING CAN': 937, 'POMPOM CURTAIN': 938, 'AGED GLASS SILVER T-LIGHT HOLDER': 939, 'ANTIQUE SILVER TEA GLASS ETCHED': 940, 'ANT WHITE WIRE HEART SPIRAL': 941, 'CLASSIC METAL BIRDCAGE PLANT HOLDER': 942, 'PACK 20 DOLLY PEGS': 943, 'PINK HEARTS PAPER GARLAND': 944, '3D HEARTS  HONEYCOMB PAPER GARLAND': 945, 'ENGLISH ROSE DESIGN PEG BAG': 946, 'WOODEN FRAME ANTIQUE WHITE': 947, 'TEA TIME PARTY BUNTING': 948, 'BLACK HEART CARD HOLDER': 949, 'CREAM HEART CARD HOLDER': 950, 'PLACE SETTING WHITE HEART': 951, '12 MINI TOADSTOOL PEGS': 952, '36 DOILIES SPACEBOY DESIGN': 953, 'SET OF 36 TEATIME PAPER DOILIES': 954, 'SMALL GLASS HEART TRINKET POT': 955, 'PACK OF 6 PANNETONE GIFT BOXES': 956, 'PACK OF 6 HANDBAG GIFT BOXES': 957, 'FLOWER VINE RAFFIA FOOD COVER': 958, 'VICTORIAN SEWING BOX SMALL': 959, 'MA CAMPAGNE CUTLERY BOX': 960, 'RAINBOW PEGS PHOTO CLIP STRING': 961, 'ASSORTED COLOUR SILK COIN PURSE': 962, 'BASKET OF TOADSTOOLS': 963, 'BLUE SPOTTY BEAKER': 964, 'MAGIC DRAWING SLATE PURDEY': 965, 'TRADITIONAL MODELLING CLAY': 966, 'MINI FUNKY DESIGN TAPES': 967, 'BUTTERFLIES STICKERS': 968, '200 RED + WHITE BENDY STRAWS': 969, 'HAPPY STENCIL CRAFT': 970, '20 DOLLY PEGS RETROSPOT': 971, 'MONEY BOX POCKET MONEY DESIGN': 972, 'DOLLY HONEYCOMB GARLAND': 973, 'DAISIES  HONEYCOMB GARLAND': 974, 'MAGAZINE RACK GEBRA ASSORTED': 975, 'PACK/12 BLUE FOLKART CARDS': 976, 'ENVELOPE 50 CURIOUS IMAGES': 977, 'ENVELOPE 50 ROMANTIC IMAGES': 978, 'ENVELOPE 50 BLOSSOM IMAGES': 979, 'PACK 4 FLOWER/BUTTERFLY PATCHES': 980, 'PACK 3 IRON ON DOG PATCHES': 981, 'PACK 3 FIRE ENGINE/CAR PATCHES': 982, 'ZINC WILLIE WINKIE  CANDLE STICK': 983, 'ZINC FINISH 15CM PLANTER POTS': 984, 'BOX OF 9 PEBBLE CANDLES': 985, '36 PENCILS TUBE POSY': 986, 'ANTIQUE LILY FAIRY LIGHTS': 987, 'SWEETHEART KEY CABINET': 988, 'REX CASH+CARRY JUMBO SHOPPER': 989, 'FAIRY CAKE WICKER PICNIC BASKET': 990, 'DANISH ROSE UMBRELLA STAND': 991, 'LADLE LOVE HEART PINK': 992, 'NINJA RABBIT PINK': 993, 'BIRDCAGE DECORATION TEALIGHT HOLDER': 994, 'S/60 PINK FLUFFY CHICKS IN BOX': 995, 'EASTER BUNNY WREATH': 996, 'LETS GO SHOPPING COTTON TOTE BAG': 997, 'KITTENS DESIGN FLANNEL': 998, '3 STRIPEY MICE FELTCRAFT': 999, 'BIRDHOUSE GARDEN MARKER': 1000, 'WATERING CAN GARDEN MARKER': 1001, 'NATURAL SLATE HEART CHALKBOARD': 1002, 'LARGE POPCORN HOLDER': 1003, 'PACK OF 6 BIRDY GIFT TAGS': 1004, 'FAIRY TALE COTTAGE NIGHTLIGHT': 1005, 'RIBBON REEL HEARTS DESIGN': 1006, 'PENCIL CASE LIFE IS BEAUTIFUL': 1007, 'GROW YOUR OWN HERBS SET OF 3': 1008, 'WHEELBARROW FOR CHILDREN': 1009, 'PACK OF 12 COLOURED PENCILS': 1010, 'TRADITIONAL KNITTING NANCY': 1011, 'CINAMMON SET OF 9 T-LIGHTS': 1012, 'STRAWBERRY SCENTED SET/9 T-LIGHTS': 1013, 'LAVENDER SCENTED SET/9 T-LIGHTS': 1014, 'TRADITIONAL WOODEN SKIPPING ROPE': 1015, 'BLUE SPOT CERAMIC DRAWER KNOB': 1016, 'RED SPOT CERAMIC DRAWER KNOB': 1017, 'RED STRIPE CERAMIC DRAWER KNOB': 1018, 'BLUE STRIPE CERAMIC DRAWER KNOB': 1019, 'RETRO SPOTS BUTTER DISH': 1020, 'YELLOW SHARK HELICOPTER': 1021, 'PENS ASSORTED SPACEBALL': 1022, 'RIBBON REEL LACE DESIGN': 1023, 'MAGIC DRAWING SLATE CIRCUS PARADE': 1024, 'CHOCOLATE BOX RIBBONS': 1025, 'CHILDS GARDEN SPADE PINK': 1026, 'CHILDS GARDEN RAKE BLUE': 1027, 'CHILDS GARDEN RAKE PINK': 1028, '12 COLOURED PARTY BALLOONS': 1029, 'WRAP RED APPLES': 1030, 'WRAP GREEN PEARS': 1031, \"CAROUSEL DES CHILD'S APRON\": 1032, 'BAG 250g SWIRLY MARBLES': 1033, 'BALLOONS  WRITING SET': 1034, \"SCOTTIES DES CHILD'S APRON\": 1035, 'CERAMIC STRAWBERRY TRINKET TRAY': 1036, 'PIN CUSHION RUSSIAN DOLL RED': 1037, '200 BENDY SKULL STRAWS': 1038, 'SET OF 6 ICE CREAM SKITTLES': 1039, 'PICNIC BASKET WICKER SMALL': 1040, 'PICNIC BASKET WICKER LARGE': 1041, 'ENGLISH ROSE NOTEBOOK A7 SIZE': 1042, 'CANDY SHOP  STICKER SHEET': 1043, 'BLUE ROSE FABRIC MIRROR': 1044, 'RED SPOTTY LUGGAGE TAG': 1045, 'WHITE PEARL BEADED HEART, SMALL': 1046, 'SALLE DE BAIN HOOK': 1047, 'BLUE PAISLEY JOURNAL': 1048, 'SET/2 RED SPOTTY TEA TOWELS': 1049, 'BLUE  TILE HOOK': 1050, 'BLUE EASTER EGG HUNT START POST': 1051, 'POCKET BAG BLUE PAISLEY RED SPOT': 1052, 'COSMETIC BAG VINTAGE ROSE PAISLEY': 1053, 'VINTAGE KITCHEN PRINT SEAFOOD': 1054, 'GARDEN PATH JOURNAL': 1055, 'CHRYSANTHEMUM  JOURNAL': 1056, 'FIVE CATS HANGING DECORATION': 1057, 'PIN CUSHION RUSSIAN DOLL PINK': 1058, 'STRAWBERRY RAFFIA FOOD COVER': 1059, 'PAIR PADDED HANGERS PINK CHECK': 1060, 'DOORSTOP RUSSIAN DOLL RETROSPOT': 1061, 'DOOR MAT FAIRY CAKE': 1062, 'S/16 VINTAGE ROSE CUTLERY': 1063, 'DOOR MAT GREEN PAISLEY': 1064, 'DOOR MAT BLACK FLOCK': 1065, 'WOOD S/3 CABINET ANT WHITE FINISH': 1066, 'SMALL HANGING IVORY/RED WOOD BIRD': 1067, 'SCANDINAVIAN PAISLEY PICNIC BAG': 1068, 'PACK OF 12 BLUE PAISLEY TISSUES': 1069, 'PACK OF 12 PINK PAISLEY TISSUES': 1070, 'RAIN HAT WITH RED SPOTS': 1071, 'ASSORTED COLOURS SILK FAN': 1072, 'DOVE DECORATION PAINTED ZINC': 1073, 'MODERN FLORAL STATIONERY SET': 1074, 'FLORAL FOLK STATIONERY SET': 1075, 'VINTAGE PAISLEY STATIONERY SET': 1076, 'LAVENDER SCENTED FABRIC HEART': 1077, 'WRAP GREEN RUSSIAN FOLKART': 1078, 'WRAP DAISY CARPET': 1079, 'PENCIL CASE GINGHAM FOREST': 1080, '60 TEATIME FAIRY CAKE CASES': 1081, 'EASTER CRAFT IVY WREATH WITH CHICK': 1082, 'MAGNETS PACK OF 4 VINTAGE COLLAGE': 1083, 'MAGIC DRAWING SLATE DINOSAUR': 1084, 'PINK VINTAGE PAISLEY PICNIC BAG': 1085, 'TROPICAL  HONEYCOMB PAPER GARLAND': 1086, 'JUMBO STORAGE BAG SKULLS': 1087, 'SET OF 12 LILY BOTANICAL T-LIGHTS': 1088, 'SET 12 LAVENDER  BOTANICAL T-LIGHTS': 1089, 'COFFEE MUG PINK PAISLEY DESIGN': 1090, 'CAKE SHOP  STICKER SHEET': 1091, 'POLKA DOT PISTACHIO PAIL': 1092, 'BLUE GEISHA GIRL': 1093, 'GREEN GEISHA GIRL': 1094, 'EASTER BUNNIES ON A STICK': 1095, 'BUNNY EGG GARLAND': 1096, 'EASTER BUNNY GARLAND OF FLOWERS': 1097, 'YELLOW RABBIT SAT EASTER': 1098, 'DINOSAUR BIRTHDAY CARD': 1099, 'BEADED LOVE HEART JEWELLERY SET': 1100, '6 RABBIT CHAIN EASTER': 1101, 'CUBIC MUG PINK POLKA DOT': 1102, 'PINK FELT EASTER RABBIT GARLAND': 1103, 'EASTER BUNNY HANGING GARLAND': 1104, 'GRAND CHOCOLATECANDLE': 1105, 'PARTY INVITES JAZZ HEARTS': 1106, 'POPCORN HOLDER , SMALL': 1107, 'FELT FARM ANIMAL RABBIT': 1108, 'ROSES IN WHITE HEART CANDLE': 1109, 'FELT FARM ANIMAL HEN': 1110, 'FOUR RABBIT EASTER DECORATIONS': 1111, 'CREAM FELT EASTER EGG BASKET': 1112, 'PINK/FLOWER RABBIT EGG WARMER': 1113, 'TEA TIME MUG IN GIFT BOX': 1114, 'GARLAND, MAGIC GARDEN 1.8M': 1115, 'ROBOT MUG IN DISPLAY BOX': 1116, 'BLUE KNITTED HEN': 1117, 'BALLERINA HEART DECORATION.': 1118, 'TUB 24 HANGING EASTER EGGS SPOTTY': 1119, 'PINK HEART DOTS HOT WATER BOTTLE': 1120, 'HAPPY EASTER HANGING DECORATION': 1121, 'STRING OF 8 BUTTERFLIES,PINK': 1122, 'GLITTER BUTTERFLY CLIPS': 1123, 'UNION FLAG WINDSOCK': 1124, 'QUEEN OF THE SKIES PASSPORT COVER': 1125, 'FAIRY CAKES RECTANGLUAR BOXES': 1126, 'SWALLOW SQUARE TISSUE BOX': 1127, 'TEA TIME TEAPOT IN GIFT BOX': 1128, 'ASSTD DESIGN BUBBLE GUM RING': 1129, 'BLACK PIRATE TREASURE CHEST': 1130, 'SPACE OWL': 1131, 'CANDY SPOT BUNNY': 1132, 'TOOL BOX SOFT TOY': 1133, 'MRS ROBOT SOFT TOY': 1134, 'MR ROBOT SOFT TOY': 1135, \"NURSE'S BAG SOFT TOY\": 1136, 'PACK OF 12 HEARTS DESIGN TISSUES': 1137, 'STARS GIFT TAPE': 1138, 'PARTY TIME DESIGN FLANNEL': 1139, 'CAKES AND RABBITS DESIGN FLANNEL': 1140, 'PACK OF 12 SUKI TISSUES': 1141, 'PARTY PIZZA DISH BLUE RETROSPOT': 1142, 'FIRST AID TIN': 1143, 'WOODEN REGATTA BUNTING': 1144, 'PINK & WHITE BREAKFAST TRAY': 1145, 'BLUE & WHITE BREAKFAST TRAY': 1146, 'RETRO LAUNDRY TUB PINK': 1147, 'RETRO LAUNDRY TUB PISTACHIO': 1148, 'PORCELAIN CHERUB BELL SMALL': 1149, 'PORCELAIN CHERUB BELL LARGE': 1150, 'ROTATING SILVER ANGELS T-LIGHT HLDR': 1151, 'SET 12 PEAR BOTANICAL T-LIGHTS': 1152, 'RETRO COFFEE MUGS ASSORTED': 1153, 'FAIRY DESIGN MUGS': 1154, 'FLOWER FAIRY MUG+COASTER,LAVENDER': 1155, 'ASSTD DESIGN POP ART SLIM PEN': 1156, '36 PENCILS TUBE SKULLS': 1157, 'ABSTRACT CIRCLES POCKET BOOK': 1158, 'BLUE PAISLEY POCKET BOOK': 1159, 'CHRYSANTHEMUM POCKET BOOK': 1160, 'GREEN FERN JOURNAL': 1161, 'DAISY JOURNAL': 1162, 'ABSTRACT CIRCLE JOURNAL': 1163, 'CACTI T-LIGHT CANDLES': 1164, 'BOTANICAL LAVENDER BIRTHDAY CARD': 1165, 'CROSS STITCH ALPHABET CUSHION COVER': 1166, 'SET 12 WILDFLOWER BOTANICAL T-LIGHT': 1167, '12 PINK ROSE PEG PLACE SETTINGS': 1168, '12 RED ROSE PEG PLACE SETTINGS': 1169, '12 IVORY ROSE PEG PLACE SETTINGS': 1170, 'WAKE UP COCKEREL TILE HOOK': 1171, 'SCALLOP SHELL SOAP DISH': 1172, 'CLAM SHELL SMALL': 1173, 'RETRO SPOT CERAMIC TOASTRACK': 1174, 'CLAM SHELL LARGE': 1175, 'RETRO SPOTS PUDDING BOWL': 1176, 'SET OF 3 VINTAGE TEA TIME BOXES': 1177, 'DOOR MAT AIRMAIL': 1178, 'DAISY GARDEN MARKER': 1179, 'ROSE DU SUD DRAWSTRING BAG': 1180, 'MEASURING TAPE RUSSIAN DOLL PINK': 1181, 'LARGE HANGING GLASS+ZINC LANTERN': 1182, 'TOAST ITS - BEST MUM': 1183, 'PACK OF 12 STICKY BUNNIES': 1184, 'TOAST ITS - FAIRY FLOWER': 1185, 'CAKE PLATE LOVEBIRD WHITE': 1186, 'PINK CHERRY LIGHTS': 1187, 'WHITE CHERRY LIGHTS': 1188, 'GREY FLORAL FELTCRAFT SHOULDER BAG': 1189, 'ABSTRACT CIRCLES SKETCHBOOK': 1190, 'BLACK DINER WALL CLOCK': 1191, 'ESSENTIAL BALM 3.5g TIN IN ENVELOPE': 1192, 'SMALL FOLDING SCISSOR(POINTED EDGE)': 1193, 'DECORATIVE FLORE BATHROOM BOTTLE': 1194, 'GLASS HONEYPOT WASP CATCHER': 1195, 'FROG KING WATERING CAN': 1196, 'FAIRY CAKES NOTEBOOK A6 SIZE': 1197, 'FLOWERS  STICKERS': 1198, 'PAISLEY PATTERN  STICKERS': 1199, 'SWEETIES  STICKERS': 1200, 'MULTI HEARTS  STICKERS': 1201, 'LOVELY BONBON STICKER SHEET': 1202, 'ASSORTED FARMYARD ANIMALS IN BUCKET': 1203, 'FAIRY CAKE NOTEBOOK A5 SIZE': 1204, 'PACK 6 HEART/ICE-CREAM PATCHES': 1205, 'SANDALWOOD FAN': 1206, 'SMALL PINK MAGIC CHRISTMAS TREE': 1207, 'PINK/WHITE CHRISTMAS TREE 60CM': 1208, 'PINK AND WHITE CHRISTMAS TREE 180CM': 1209, 'DECORATION WHITE CHICK MAGIC GARDEN': 1210, 'EASTER DECORATION NATURAL CHICK': 1211, 'LOVEBIRD HANGING DECORATION WHITE': 1212, 'IVORY HANGING DECORATION  HEART': 1213, 'SPRING DEC , HANGING CHICK  GREEN': 1214, 'SPRING DEC , HANGING CHICK  YELLOW': 1215, 'DECORATION HEN ON NEST, HANGING': 1216, 'EGG CUP NATURAL CHICKEN': 1217, 'FRENCH BOTTLE , LAVENDER': 1218, 'DAIRY MAID STRIPE MUG': 1219, 'ORGANISER WOOD ANTIQUE WHITE': 1220, 'ROSE DU SUD CUSHION COVER': 1221, 'SPRING DEC , HANGING CHICK CREAM': 1222, 'GINGHAM HEART DECORATION': 1223, 'RED TEA TOWEL CLASSIC DESIGN': 1224, 'MOTORING TISSUE BOX': 1225, 'HANGING METAL HEART LANTERN': 1226, 'NATURAL SLATE RECTANGLE CHALKBOARD': 1227, 'HEN HOUSE DECORATION': 1228, 'CAST IRON HOOK GARDEN TROWEL': 1229, 'CAST IRON HOOK GARDEN FORK': 1230, 'HEART OF WICKER LARGE': 1231, 'RED RETROSPOT MUG': 1232, 'WOODEN CROQUET GARDEN SET': 1233, 'SMALL HEART FLOWERS HOOK': 1234, 'LARGE HANGING IVORY & RED WOOD BIRD': 1235, 'KASBAH LANTERN WITH GLASS': 1236, 'FUNKY MONKEY GIFT BAG MEDIUM': 1237, 'MULTICOLOUR CRUSOE CHECK LAMPSHADE': 1238, 'PINK GOOSE FEATHER TREE 60CM': 1239, '75 GREEN FAIRY CAKE CASES': 1240, 'SET/6 TURQUOISE BUTTERFLY T-LIGHTS': 1241, 'SET/6 PINK  BUTTERFLY T-LIGHTS': 1242, 'RED RETROSPOT TOASTRACK': 1243, 'DINOSAUR KEYRINGS ASSORTED': 1244, 'DINOSAURS  WRITING SET': 1245, 'POTTING SHED TWINE': 1246, 'ROMANTIC IMAGES GIFT WRAP SET': 1247, 'BLOSSOM IMAGES GIFT WRAP SET': 1248, 'RED SPOTTY OVEN GLOVE DOUBLE': 1249, 'FRENCH ENAMEL UTENSIL HOLDER': 1250, 'FRENCH ENAMEL WATER BASIN': 1251, 'WALL MOUNTED VINTAGE ORGANISER': 1252, 'EAU DE NIL LOVE BIRD CANDLE': 1253, 'PINK LOVE BIRD CANDLE': 1254, 'FUNKY WASHING UP GLOVES ASSORTED': 1255, 'GLASS CHALICE GREEN  SMALL': 1256, 'GLASS CHALICE GREEN  LARGE': 1257, 'VINTAGE GLASS COFFEE CADDY': 1258, 'SPACE BOY GIFT WRAP': 1259, 'OWL DOORSTOP': 1260, 'S/4 CACTI CANDLES': 1261, 'SET/3 FLORAL GARDEN TOOLS IN BAG': 1262, 'HEART IVORY TRELLIS SMALL': 1263, 'SLATE TILE NATURAL HANGING': 1264, 'CERAMIC BIRDHOUSE RED ROOF SMALL': 1265, 'CERAMIC BIRDHOUSE FINCH BLUE ROOF': 1266, 'VINTAGE BILLBOARD DRINK ME MUG': 1267, 'RED RETROSPOT STORAGE JAR': 1268, 'RED PAPER PARASOL': 1269, 'BLOSSOM  IMAGES NOTEBOOK SET': 1270, 'CURIOUS  IMAGES NOTEBOOK SET': 1271, 'WRAP, CAROUSEL': 1272, 'PARTY METAL SIGN': 1273, 'WAY OUT METAL SIGN': 1274, 'PLACE SETTING WHITE STAR': 1275, '75 GREEN PETIT FOUR CASES': 1276, '75 BLACK PETIT FOUR CASES': 1277, '75 BLACK FAIRY CAKE CASES': 1278, 'CANDY SPOT TEA COSY': 1279, 'FRENCH CHATEAU SMALL FRUITBOWL': 1280, 'FRENCH CHATEAU OVAL PLATTER': 1281, 'FRENCH CHATEAU LARGE PLATTER': 1282, 'JARDIN ETCHED GLASS GINGER JAR': 1283, 'JARDIN ETCHED GLASS FRUITBOWL': 1284, 'VINTAGE GOLD TINSEL REEL': 1285, 'PAPER CHAIN KIT EMPIRE': 1286, 'TOAST ITS - I LOVE YOU': 1287, 'SET OF 72 BLACK PAPER DOILIES': 1288, 'MAGIC DRAWING SLATE BAKE A CAKE': 1289, 'BLUE SPOTTY LUGGAGE TAG': 1290, 'RED HEART LUGGAGE TAG': 1291, 'SET OF 2 FANCY FONT TEA TOWELS': 1292, 'VIPPASSPORT COVER': 1293, 'BLUE SPOTTY PASSPORT COVER': 1294, 'ENGLISH ROSE TABLE CLOTH': 1295, 'SKULLS WRITING SET': 1296, 'KEY FOB , FRONT  DOOR': 1297, 'KEY FOB , GARAGE DESIGN': 1298, 'GARDENERS KNEELING PAD': 1299, 'GARDEN METAL SIGN': 1300, 'SEASIDE STRIPE HAMMOCK': 1301, 'BLUE/CREAM STRIPE FRINGE HAMMOCK': 1302, 'RED/CREAM STRIPE FRINGE HAMMOCK': 1303, 'UNION STRIPE WITH FRINGE  HAMMOCK': 1304, 'EAU DE NIL DINER WALL CLOCK': 1305, 'RED SPOTTY APRON': 1306, \"CAROUSEL DES CHILD'S OVERALL\": 1307, 'CAROUSEL DESIGN BABY BIB': 1308, 'SMALL HEART MEASURING SPOONS': 1309, 'ASS FLORAL PRINT SCISSORS': 1310, 'PARTY FOOD SHOPPER BAG': 1311, 'SKULL SHOULDER BAG': 1312, 'PINK HEART RED HANDBAG': 1313, \"DOLLY MIXTURE CHILDREN'S UMBRELLA\": 1314, 'VINTAGE BEAD PINK JEWEL BOX': 1315, 'SCOTTIES DESIGN WASHBAG': 1316, 'POCKET MIRROR WOODLAND': 1317, 'TWO EMBOSSED HEART MINI DRAWERS': 1318, 'ZINC TOP  2 DOOR WOODEN SHELF': 1319, 'BOTANICAL LILY GREETING CARD': 1320, 'CONGRATULATIONS BUNTING': 1321, 'GIRLS ALPHABET IRON ON PATCHES': 1322, 'JUMBO BAG CHARLIE AND LOLA TOYS': 1323, 'CHARLIE AND LOLA FIGURES TINS': 1324, 'CLASSICAL ROSE CANDLESTAND': 1325, 'RIDGED GLASS POSY VASE': 1326, 'HEN HOUSE W CHICK STANDING': 1327, 'BOX/12 CHICK & EGG IN BASKET': 1328, '12 PINK HEN+CHICKS IN BASKET': 1329, 'PARTY TIME PENCIL ERASERS': 1330, 'PANDA AND BUNNIES STICKER SHEET': 1331, 'FELTCRAFT CUSHION BUTTERFLY': 1332, 'YELLOW BROWN BEAR FELT PURSE KIT': 1333, 'CHILLI LIGHTS': 1334, 'PINK/PURPLE RETRO RADIO': 1335, 'CROCHET ROSE PURSE WITH SUEDE BACK': 1336, 'STRAWBERRY DREAM CHILDS UMBRELLA': 1337, 'PINK BUTTERFLY CUSHION COVER': 1338, 'RED DAISY PAPER LAMPSHADE': 1339, 'BLUE POLKADOT KIDS BAG': 1340, 'MULTICOLOUR  CONFETTI IN TUBE': 1341, 'RIBBON REEL FLORA + FAUNA': 1342, 'WELCOME  WOODEN BLOCK LETTERS': 1343, 'METAL SIGN HER DINNER IS SERVED': 1344, 'GUMBALL MONOCHROME COAT RACK': 1345, 'POPART WOODEN PENCILS ASST': 1346, 'CERAMIC PIRATE CHEST MONEY BANK': 1347, 'SMALL POPCORN HOLDER': 1348, 'ENGLISH ROSE DESIGN QUILTED THROW': 1349, 'GREEN BIRDHOUSE DECORATION': 1350, 'MINI  ZINC GARDEN DECORATIONS': 1351, 'MINI PAINTED GARDEN DECORATION': 1352, 'CHERRY BLOSSOM LUGGAGE TAG': 1353, 'BIRDHOUSE DECORATION MAGIC GARDEN': 1354, 'BLUE KNITTED EGG COSY': 1355, 'GLASS CAKE STAND MIRRORED BASE': 1356, 'MOUSE TOY WITH PINK T-SHIRT': 1357, 'FLORAL SOFT CAR TOY': 1358, 'BUNNY EGG BOX': 1359, 'MULTICOLOUR EASTER RABBIT': 1360, 'BOX/12 MOTHER & CHICK IN BASKET/BOW': 1361, 'WHITE RETRODISC LAMPSHADE': 1362, 'BLACK RETRODISC LAMPSHADE': 1363, 'ROUND PURPLE CLOCK W/SUCKER': 1364, 'FLOWER BLUE CLOCK W/SUCKER': 1365, 'ROUND BLUE CLOCK W/SUCKER': 1366, 'ENAMEL PINK SUGAR CONTAINER': 1367, 'S/16 VINTAGE IVORY CUTLERY': 1368, 'SET OF 6 STRAWBERRY CHOPSTICKS': 1369, 'SPRING FLOWER CHOPSTICKS SET/5': 1370, 'DOORMAT HEARTS': 1371, 'ENAMEL PINK COFFEE CONTAINER': 1372, 'ROSE DES PADDED FLOOR CUSHION': 1373, 'GREEN ROSE CUSHION COVER': 1374, 'PINK PAISLEY QUILT': 1375, 'BUNNY WOODEN PAINTED WITH BIRD': 1376, 'BUNNY WOODEN PAINTED WITH FLOWER': 1377, 'TROPICAL PASSPORT COVER': 1378, 'ROSE DU SUD OVEN GLOVE': 1379, 'TV DINNER TRAY VINTAGE PAISLEY': 1380, 'SILVER RETRODISC LAMPSHADE': 1381, 'S/16 VINTAGE PISTACHIO CUTLERY': 1382, 'FUNKY MONKEY CUSHION COVER': 1383, 'BLOND DOLL DOORSTOP': 1384, 'WATERING CAN SINGLE HOOK PISTACHIO': 1385, 'ENAMEL COLLANDER CREAM': 1386, 'ALPHABET HEARTS STICKER SHEET': 1387, 'ROUND SNACK BOXES ,SET4, WOODLAND': 1388, 'ROUND SNACK BOXES ,SET 4, FRUITS': 1389, 'S/6 PINK EASTER DECS IN BOX': 1390, 'ROUND FOOD CONTAINER S/5 RETROSPOT': 1391, 'BROWN  PIRATE TREASURE CHEST': 1392, 'RED RETROSPOT BUTTER DISH': 1393, 'GREEN CAT FLORAL CUSHION COVER': 1394, 'SPOTTY PINK DUCK DOORSTOP': 1395, 'COUNTRY COTTAGE  DOORSTOP GREEN': 1396, 'CROCHET POODLE KEYRING': 1397, 'BLUE NEW BAROQUE CANDLESTICK CANDLE': 1398, 'FAIRY CAKE DESIGN UMBRELLA': 1399, 'PINK TEATIME PRINT BOWL': 1400, 'PINK POODLE HANGING DECORATION': 1401, 'CAKES AND BOWS GIFT  TAPE': 1402, 'CERAMIC LOVE HEARTS DESIGN MUG': 1403, 'ELVIS WALLHANGING / CURTAIN': 1404, 'SET OF 4 FAIRY CAKES COASTERS': 1405, 'STRAWBERRY CANDY BAG': 1406, 'WRAP BAD HAIR DAY': 1407, 'SKULLS WRAP': 1408, 'PINK SPOTS  WRAP': 1409, 'RETRO SISTERS EXPRESSO CUPS': 1410, 'SWEET PUDDING STICKER SHEET': 1411, \"IF YOU CAN'T STAND THE HEAT MUG\": 1412, 'GLAMOROUS  MUG': 1413, 'CHOC TRUFFLE GOLD TRINKET POT': 1414, 'PINK PARTY SUNGLASSES': 1415, 'CLEAR MILKSHAKE GLASS': 1416, 'TEA TIME BREAKFAST BASKET': 1417, 'VINTAGE KITCHEN PRINT PUDDINGS': 1418, 'TEA TIME TEA SET IN GIFT BOX': 1419, 'SET OF 4 FAIRY CAKE PLACEMATS': 1420, 'MIRRORED WALL ART SKULLS': 1421, 'RETRO \"TEA FOR ONE\"': 1422, 'PINK OVAL JEWELLED MIRROR': 1423, 'TEA TIME KITCHEN APRON': 1424, 'CANDY SPOT APRON': 1425, 'PACK OF 6 SANDCASTLE FLAGS ASSORTED': 1426, 'KINGS CHOICE CIGAR BOX MATCHES': 1427, 'MONEY BOX KINGS CHOICE DESIGN': 1428, 'MONEY BOX BISCUITS DESIGN': 1429, 'KINGS CHOICE GIANT TUBE MATCHES': 1430, 'VINTAGE BILLBOARD TEA MUG': 1431, 'S/4 ROSE    BOTANICAL  CANDLE': 1432, '4 LAVENDER BOTANICAL DINNER CANDLES': 1433, 'UNION STRIPE CUSHION COVER': 1434, 'WOODEN UNION JACK BUNTING': 1435, 'VINTAGE UNION JACK SHOPPING BAG': 1436, 'VINTAGE UNION JACK MEMOBOARD': 1437, 'PADS TO MATCH ALL CUSHIONS': 1438, 'ASSTD FRUIT+FLOWERS FRIDGE MAGNETS': 1439, 'CREAM CUPID HEARTS COAT HANGER': 1440, 'BLUE BIRDHOUSE DECORATION': 1441, \"I'M ON HOLIDAY METAL SIGN\": 1442, 'GERANIUM SQUARE HANDY TIN': 1443, 'FILIGRIS HEART WITH BUTTERFLY': 1444, 'DOOR HANGER  MUM + DADS ROOM': 1445, 'KEEP OUT BOYS DOOR HANGER': 1446, 'TOXIC AREA  DOOR HANGER': 1447, 'SMALL TAHITI BEACH BAG': 1448, 'METAL SHELF WITH RAIL': 1449, 'MONEY BOX HOUSEKEEPING DESIGN': 1450, 'TEA TIME DES TEA COSY': 1451, 'BASKET/8 SCENTED LOVE TOKEN CANDLES': 1452, 'MIRROR MOSAIC HURRICANE LAMP': 1453, 'RETRO BLUE SPOTTY WASHING UP GLOVES': 1454, 'CERAMIC BIRDHOUSE BUTTERFLY SMALL': 1455, 'LARGE CAKE TOWEL, CHOCOLATE SPOTS': 1456, 'RECIPE BOX WITH METAL HEART': 1457, 'BLACK BAROQUE WALL CLOCK': 1458, 'PACK OF 12 PINK SPOT TISSUES': 1459, 'SET 5 MINI DOUGHNUT FRIDGE MAGNET': 1460, 'TOAST ITS - HAPPY BIRTHDAY': 1461, '72 ROUND PINK DOILIES': 1462, 'MINI JIGSAW PURDEY': 1463, 'OFFICE MUG WARMER PINK': 1464, 'RECORD FRAME 7\" SINGLE SIZE': 1465, 'HEARTS GIFT TAPE': 1466, 'FROG CANDLE': 1467, 'COSY SLIPPER SHOES LARGE GREEN': 1468, 'DECORATION , WOBBLY CHICKEN, METAL': 1469, 'WHITE BIRD GARDEN DESIGN MUG': 1470, 'S/3 PINK COL METAL BASKET W HANDLE': 1471, 'PINK ROSE FABRIC MIRROR': 1472, 'CARD DOG AND BALL': 1473, 'RETRO PLASTIC POLKA TRAY': 1474, 'MAGNETS PACK OF 4 RETRO PHOTO': 1475, 'TUMBLER, ENGLISH ROSE': 1476, 'SET OF 2 TEA TOWELS PING MICROWAVE': 1477, 'BLUE VICTORIAN FABRIC OVAL BOX': 1478, 'RED VICTORIAN FABRIC OVAL BOX': 1479, 'LUNCHBAG PINK RETROSPOT': 1480, \"DOCTOR'S BAG SOFT TOY\": 1481, 'PAPERWEIGHT SAVE THE PLANET': 1482, 'TURQOISE ICE CREAM SUNHAT': 1483, 'WHITE BEADED GARLAND STRING 20LIGHT': 1484, 'ENGLISH ROSE TAPE MEASURE': 1485, 'FULL ENGLISH BREAKFAST PLATE': 1486, \"FANNY'S REST STOPMETAL SIGN\": 1487, 'BLUE GINGHAM ROSE QUILT': 1488, 'TWO DOOR CURIO CABINET': 1489, 'FLOWER PENCIL/RUBBER+5 MINI PENCILS': 1490, 'ASSORTED CREEPY CRAWLIES': 1491, 'ASSORTED TUTTI FRUTTI  FOB NOTEBOOK': 1492, 'YELLOW KNITTED KIDS RUCKSACK': 1493, 'DENIM PATCH PENCIL CASE BUTTERFLY': 1494, 'GLASS ETCHED T-LIGHT HOLDER LARGE': 1495, 'LIPSTICK PEN BABY PINK': 1496, 'S/16 VINTAGE RED CUTLERY': 1497, 'SET/4 BUTTERFLY MIRROR MAGNETS': 1498, 'GINGHAM HEART  DOORSTOP RED': 1499, 'SMALL SILVER TRELLIS CANDLEPOT': 1500, 'SILVER  CANDLEPOT JARDIN': 1501, 'BLUE TEA TOWEL CLASSIC DESIGN': 1502, 'LAVENDER INCENSE IN TIN': 1503, 'SET/4 BLUE FLOWER CANDLES IN BOWL': 1504, 'MAGIC DRAWING SLATE LEAP FROG': 1505, 'SET/4 BADGES DOGS': 1506, 'PACK/12 BLUE REINDEER CARD': 1507, 'RED WHITE SCARF  HOT WATER BOTTLE': 1508, 'ROSE DU SUD WASHBAG': 1509, 'UNION JACK FLAG LUGGAGE TAG': 1510, 'PARTY PIZZA DISH RED RETROSPOT': 1511, 'PARTY PIZZA DISH PINK RETROSPOT': 1512, 'MAGNETS PACK OF 4 HOME SWEET HOME': 1513, 'TEATIME PUSH DOWN RUBBER': 1514, 'DINOSAUR HEIGHT CHART STICKER SET': 1515, 'SET/3 DECOUPAGE STACKING TINS': 1516, 'GLOW IN DARK DOLPHINS': 1517, 'BLUE PUDDING SPOON': 1518, 'VICTORIAN GLASS HANGING T-LIGHT': 1519, 'SILVER HANGING T-LIGHT HOLDER DOME': 1520, 'POLYESTER FILLER PAD 60x40cm': 1521, 'EMBOSSED GLASS TEALIGHT HOLDER': 1522, 'DOG TOY WITH PINK CROCHET SKIRT': 1523, 'CITRONELLA CANDLE GARDEN POT': 1524, 'PEARL CRYSTAL PUMPKIN T-LIGHT HLDR': 1525, 'SILVER HANGING T-LIGHT HOLDER': 1526, 'FLOWER FAIRY INCENSE BOUQUET': 1527, 'CHILDS GARDEN SPADE BLUE': 1528, 'FLOWER FAIRY SET 3 CANDLES LAVENDER': 1529, 'TEATIME ROUND PENCIL SHARPENER': 1530, 'GREETING CARD, BLACKPOOL ROCK': 1531, 'SET OF RED SALAD SERVERS': 1532, 'ASSORTED COLOUR SILK COSMETIC PURSE': 1533, 'SET/6 FROG PRINCE T-LIGHT CANDLES': 1534, 'LARGE SKULL WINDMILL': 1535, 'GREEN PEONY DES C/COVER': 1536, 'RED PEONY DES C/COVER': 1537, 'ORIENTAL BLUE C/COVER': 1538, 'ORIENTAL RED C/COVER': 1539, 'EASTER TREE YELLOW BIRDS': 1540, 'SET/6 GREEN SPRING PAPER CUPS': 1541, 'FOLKART BAUBLE CHRISTMAS DECORATION': 1542, 'SKULLS GREETING CARD': 1543, 'PAPERWEIGHT VINTAGE COLLAGE': 1544, 'PAPERWEIGHT VINTAGE PAISLEY': 1545, 'SET OF 4 NEW ENGLAND PLACEMATS': 1546, 'FOLK ART GREETING CARD,pack/12': 1547, 'PACK/12 XMAS FUN CARD': 1548, 'SET OF 6 KASHMIR FOLKART BAUBLES': 1549, 'CHRISTMAS CARD SINGING ANGEL': 1550, 'CARD BIRTHDAY COWBOY': 1551, 'SET/6 GINGERBREAD STAR T-LIGHTS': 1552, 'RIBBONS PURSE': 1553, 'FRENCH EMROIDR LAVENDER SCENT HEART': 1554, 'VINTAGE BEAD NOTEBOOK': 1555, 'BABY MOUSE RED GINGHAM DRESS': 1556, 'FROSTED BOX 9 WHITE T-LIGHT CANDLES': 1557, 'SMALL RED RETROSPOT MUG IN BOX': 1558, 'CHERRY BLOSSOM TABLE CLOCK': 1559, '4 IVORY DINNER CANDLES SILVER FLOCK': 1560, '4 IVORY DINNER CANDLES GOLD FLOCK': 1561, 'WHITE NEWBAROQUE CANDLESTICK CANDLE': 1562, 'IVORY PILLAR CANDLE GOLD FLOCK': 1563, 'IVORY PILLAR CANDLE SILVER FLOCK': 1564, 'S/4 BLACK DINNER CANDLE SILVER FLOC': 1565, 'BLCK NEW BAROQUE CANDLESTICK CANDLE': 1566, 'PINK NEW BAROQUE FLOCK CANDLESTICK': 1567, 'S/4 PINK DINNER CANDLE SILVER FLOCK': 1568, 'S/4 BLUE DINNER CANDLE SILVER FLOCK': 1569, 'SET/6 EAU DE NIL BIRD T-LIGHTS': 1570, 'DOOR MAT BIRD ON THE WIRE': 1571, 'TRIANGULAR POUFFE VINTAGE': 1572, 'ELEPHANT CARNIVAL POUFFE': 1573, 'SET 5 MINI GATEAUX  FRIDGE MAGNETS': 1574, 'UNION JACK HOT WATER BOTTLE': 1575, 'PACK OF 20 FAIRY CAKE PAPER NAPKINS': 1576, 'POCKET BAG PINK PAISELY BROWN SPOT': 1577, 'ROSE DU SUD COSMETICS BAG': 1578, 'ROSE DU SUD CHILDS APRON': 1579, 'ENGLISH ROSE TEA SET IN GIFT BOX': 1580, 'ENGLISH ROSE TABLE CLOCK': 1581, 'FAIRY CAKES TABLE CLOCK': 1582, 'WOOD STAMP SET BEST WISHES': 1583, 'CAKE STAND LOVEBIRD 2 TIER PINK': 1584, 'RED PUDDING SPOON': 1585, 'RED  EGG  SPOON': 1586, 'BLUE EGG  SPOON': 1587, 'ENGLISH ROSE SCISSORS': 1588, 'BOYS ALPHABET IRON ON PATCHES': 1589, 'BLUE CALCULATOR RULER': 1590, 'SILVER SKULL HOT WATER BOTTLE': 1591, \"BLUE FAIRY CAKE CHILD'S APRON\": 1592, 'PINK KNITTED EGG COSY': 1593, 'CHARLIE+LOLA PINK HOT WATER BOTTLE': 1594, 'CHARLIE+LOLA RED HOT WATER BOTTLE': 1595, 'KNITTED UNION FLAG HOT WATER BOTTLE': 1596, 'PINK PICNIC BARBECUE BUCKET': 1597, 'COOK WITH WINE METAL SIGN': 1598, 'PLEASE ONE PERSON METAL SIGN': 1599, 'NOEL WOODEN BLOCK LETTERS': 1600, 'BATH BUILDING BLOCK WORD': 1601, 'PEACE WOODEN BLOCK LETTERS': 1602, 'DAIRY MAID SUGAR JAM BOWL': 1603, 'HANGING FAIRY CAKE DECORATION': 1604, 'DAIRY MAID TOASTRACK': 1605, 'DAIRY MAID  PUDDING BOWL': 1606, 'DAIRY MAID BUTTER DISH': 1607, 'SET OF 3 BLACK FLYING DUCKS': 1608, 'EMBOSSED HEART 3 DRAWER SHELF': 1609, 'PINK JUICY FRUIT PHOTO FRAME': 1610, 'GREEN JUICY FRUIT PHOTO FRAME': 1611, 'COLOUR GLASS. STAR T-LIGHT HOLDER': 1612, 'CERAMIC BIRDHOUSE CRESTED TIT SMALL': 1613, 'HOT BATHS METAL SIGN': 1614, 'JOY WOODEN BLOCK LETTERS': 1615, 'CREAM SWEETHEART LETTER RACK': 1616, 'BLUE JUICY FRUIT PHOTO FRAME': 1617, 'VINTAGE UNION JACK DOORSTOP': 1618, 'SET 3 WICKER LOG BASKETS': 1619, 'BLACK AND WHITE PAISLEY FLOWER MUG': 1620, 'FANCY FONTS BIRTHDAY WRAP': 1621, 'ASSORTED TUTTI FRUTTI MIRROR': 1622, 'PINK UNION JACK  PASSPORT COVER': 1623, 'PINK JEWELLED PHOTO FRAME': 1624, 'GREEN CHERRY LIGHTS': 1625, 'SMALL MEDINA STAMPED METAL BOWL': 1626, 'TOP SECRET PEN SET': 1627, 'LETTER SHAPE PENCIL SHARPENER': 1628, 'CRYSTAL KEY+LOCK PHONE CHARM': 1629, 'CRYSTAL SEA HORSE PHONE CHARM': 1630, 'CRYSTAL STILETTO PHONE CHARM': 1631, 'JAZZ HEARTS PURSE NOTEBOOK': 1632, 'JAZZ HEARTS MEMO PAD': 1633, 'GLASS WINE GLASS DECORATIONS': 1634, '24 HANGING EASTER EGGS FLORAL TUB': 1635, 'GREEN METAL SWINGING BUNNY': 1636, 'HANGING BUTTERFLY  EGG': 1637, 'BLUE LEAVES AND BEADS PHONE CHARM': 1638, 'EMPIRE DESIGN ROSETTE': 1639, 'CHOCOLATE 3 WICK MORRIS BOX CANDLE': 1640, 'BLUE PATCH PURSE PINK HEART': 1641, 'LITTLE PINK MONSTER SOFT TOY': 1642, 'FAIRY CAKE PLACEMATS': 1643, 'CHARLIE & LOLA WASTEPAPER BIN BLUE': 1644, 'CHARLIE & LOLA WASTEPAPER BIN FLORA': 1645, 'BLACK GLASS TV DOUBLE P/FRAME 15X10': 1646, 'WHITE SWEETHEARTS CABINET 4 DRAWERS': 1647, 'TOMATO CHARLIE+LOLA COASTER SET': 1648, 'WHITE CERAMIC PARTY SET (5PCS)': 1649, 'CHARLIE + LOLA BISCUITS TINS': 1650, 'SOMBRERO': 1651, 'POP-ART FLUORESCENT PENS': 1652, 'WRAP, FRIENDSHIP ON GREEN': 1653, 'PINK OVAL SHAPE TRINKET BOX': 1654, 'ASSORTED TUTTI FRUTTI KEYRING BALL': 1655, 'ASSTD COL BUTTERFLY/CRYSTAL W/CHIME': 1656, 'ACRYLIC JEWEL ANGEL,BLUE': 1657, 'ACRYLIC JEWEL ANGEL,PINK': 1658, 'BLUE SCOTTIE DOG W FLOWER PATTERN': 1659, 'BLUE CIRCLES DESIGN MONKEY DOLL': 1660, 'NECKLACE+BRACELET PINK BUTTERFLY': 1661, 'STRIPES DESIGN TEDDY': 1662, 'CAMOFLAGE DESIGN TEDDY': 1663, 'FLOWER BURST SILVER RING OPAL': 1664, 'BLACK DIAMANTE EXPANDABLE RING': 1665, 'PINK & WHITE ROSEBUD RING': 1666, 'LIBRARY LAMP': 1667, \"ASS COL LARGE SAND GECKO P'WEIGHT\": 1668, 'POTTING SHED COFFEE MUG': 1669, 'WRAP BOUDOIR': 1670, 'CREAM DELPHINIUM ARTIFICIAL FLOWER': 1671, 'WHITE ANEMONE ARTIFICIAL FLOWER': 1672, 'BUDDHA INCENSE HOLDER ASSORTED': 1673, 'HEN HOUSE W CHICK IN NEST': 1674, 'ORANGE SCENTED SET/9 T-LIGHTS': 1675, 'WHITE AND BLUE CERAMIC OIL BURNER': 1676, 'DECORATION , WOBBLY RABBIT , METAL': 1677, 'STANDING METAL RABBIT WITH EGG': 1678, 'PORCELAIN BUTTERFLY OIL BURNER': 1679, 'WOOD FAN WITH FLOWER DESIGN': 1680, 'FEATHER DUSTER, COAL BLACK': 1681, 'VINTAGE UNION JACK PENNANT': 1682, 'LOCAL CAFE MUG': 1683, 'PET MUG, GOLDFISH': 1684, 'BLUE  DIAMANTE PEN IN GIFT BOX': 1685, 'GARLAND WOODEN HAPPY EASTER': 1686, '60 GOLD AND SILVER FAIRY CAKE CASES': 1687, 'PINK  HONEYCOMB PAPER FAN': 1688, 'CUBIC MUG BLUE POLKA DOT': 1689, 'ENGLISH ROSE METAL WASTE BIN': 1690, 'ROUND WHITE CONFETTI IN TUBE': 1691, 'NEW ENGLAND CERAMIC CAKE SERVER': 1692, 'POLKA DOT RAFFIA FOOD COVER': 1693, 'SET 12 RETRO WHITE CHALK STICKS': 1694, 'KEY FOB , BACK DOOR': 1695, 'KEY FOB , SHED': 1696, 'SET/4 MODERN VINTAGE COTTON NAPKINS': 1697, '2 PICTURE BOOK EGGS EASTER BUNNY': 1698, 'HANGING METAL STAR LANTERN': 1699, 'BEST DAD CANDLE LETTERS': 1700, 'BROCADE PURSE,SMALL ARCH BUTTON': 1701, 'SET OF 3 RABBIT EGG EASTER': 1702, 'DECORATION , HANGING METAL CHICKEN': 1703, 'WHITE HONEYCOMB PAPER FAN': 1704, 'DECORATION , HANGING METAL RABBIT': 1705, 'HANGING MEDINA LANTERN LARGE': 1706, 'VICTORIAN SEWING BOX MEDIUM': 1707, 'RELAX LARGE WOOD LETTERS': 1708, 'POLYESTER FILLER PAD 65CMx65CM': 1709, 'BLUE GINGHAM ROSE CUSHION COVER': 1710, 'PINK AND LILAC QUILTED THROW': 1711, 'LARGE TORTILLA DESIGN RED BOWL': 1712, 'GAOLERS KEYS DECORATIVE GARDEN': 1713, 'ASSORTED TUTTI FRUTTI BRACELET': 1714, 'ASSORTED TUTTI FRUTTI PEN': 1715, 'SWALLOW CIGAR BOX MATCHES': 1716, 'LETTER \"R\" BLING KEY RING': 1717, 'PEACE SMALL WOOD LETTERS': 1718, 'WALL MIRROR , DIAMANTE OVAL SHAPE': 1719, 'ACRYLIC GEOMETRIC LAMP': 1720, 'MIRROR MOSAIC T-LIGHT HOLDER': 1721, 'BLACK TEA TOWEL CLASSIC DESIGN': 1722, 'FRYING PAN UNION FLAG': 1723, 'I CAN ONLY PLEASE ONE PERSON MUG': 1724, 'LARGE RED RETROSPOT WINDMILL': 1725, 'HEART DECORATION PAINTED ZINC': 1726, 'HEART DECORATION WITH PEARLS': 1727, 'HEART GARLAND RUSTIC PADDED': 1728, 'DIAMANTE RING ASSORTED IN BOX.': 1729, 'PINK HEART SHAPE PHOTO FRAME': 1730, 'CERAMIC HEART FAIRY CAKE MONEY BANK': 1731, 'CERAMIC LOVE HEART MONEY BANK': 1732, 'ROSE PINK METAL FOLDING CHAIR': 1733, 'S/3 PINK SQUARE PLANTERS ROSES': 1734, 'HEART OF WICKER SMALL': 1735, 'SHOE SHINE BOX': 1736, 'CIRCLE OF FRIENDS CANDLE HOLDER': 1737, 'FRENCH PAISLEY CUSHION COVER': 1738, 'PAINTED BIRD ASSORTED CHRISTMAS': 1739, 'CITRONELLA CANDLE FLOWERPOT': 1740, 'VINTAGE KITCHEN PRINT FRUITS': 1741, 'BLUE CRYSTAL BOOT PHONE CHARM': 1742, 'PINK CRYSTAL HEART PHONE CHARM': 1743, 'CRYSTAL FROG PHONE CHARM': 1744, 'WASHROOM METAL SIGN': 1745, 'SET OF 4 ENGLISH ROSE PLACEMATS': 1746, 'PINK PATCH PENCIL CASE BLUE HEART': 1747, 'BLUE SCANDINAVIAN PAISLEY WRAP': 1748, 'DANISH ROSE PHOTO FRAME': 1749, 'SET 4 NURSERY DES ROUND BOXES': 1750, 'SPACEBOY TV DINNER TRAY': 1751, 'PENS ASSORTED FUNNY FACE': 1752, 'HANGING WOOD AND FELT HEART': 1753, 'HEART DECORATION RUSTIC HANGING': 1754, 'HEARTS WRAPPING TAPE': 1755, 'FEATHER PEN,LIGHT PINK': 1756, 'BEADED PEARL HEART WHITE ON STICK': 1757, 'HEART SHAPE WIRELESS DOORBELL': 1758, 'VINTAGE KEEPSAKE BOX PINK FLOWER': 1759, 'HEART BUTTONS JEWELLERY BOX': 1760, \"ASS COL SMALL SAND GECKO P'WEIGHT\": 1761, 'FUNKY GIRLZ ASST MAGNETIC MEMO PAD': 1762, 'BLUE CAT BISCUIT BARREL PINK HEART': 1763, 'CERAMIC PLATE STRAWBERRY DESIGN': 1764, 'SOFT PINK ROSE TOWEL': 1765, 'MINT GREEN ROSE TOWEL': 1766, '3 HOOK PHOTO SHELF ANTIQUE WHITE': 1767, 'CREAM SLICE FLANNEL CHOCOLATE SPOT': 1768, 'HANGING PHOTO CLIP ROPE LADDER': 1769, 'LARGE STRIPES CHOCOLATE GIFT BAG': 1770, 'IVORY HANGING BIRD PLANTER': 1771, 'CURIOUS IMAGES GIFT WRAP SET': 1772, 'TOAST ITS - DINOSAUR': 1773, 'FIRST CLASS PASSPORT COVER': 1774, 'ROMANTIC IMAGES SCRAP BOOK SET': 1775, 'GREEN PEONY CUSHION COVER': 1776, 'DECORATION  PINK CHICK MAGIC GARDEN': 1777, 'SET OF 4 PISTACHIO LOVEBIRD COASTER': 1778, 'SET OF 4 BLACK LOVEBIRD COASTERS': 1779, 'PINK POLKADOT KIDS BAG': 1780, 'ASSTD RASTA KEY-CHAINS': 1781, 'CLEAR CRYSTAL STAR PHONE CHARM': 1782, 'PINK LEAVES AND BEADS PHONE CHARM': 1783, 'GREEN LEAVES AND BEADS PHONE CHARM': 1784, 'PINK BERTIE MOBILE PHONE CHARM': 1785, 'AMBER BERTIE MOBILE PHONE CHARM': 1786, 'FRUIT SALAD BAG CHARM': 1787, 'SPACE CADET RED': 1788, 'SPACE CADET WHITE': 1789, 'SUMMER DAISIES BAG CHARM': 1790, 'SUMMER BUTTERFLIES BAG CHARM': 1791, 'METALIC LEAVES BAG CHARMS': 1792, 'PINK GLASS TASSLE BAG CHARM': 1793, 'RED GLASS TASSLE BAG CHARM': 1794, 'BEADED PEARL HEART WHITE LARGE': 1795, 'HEART FILIGREE DOVE  SMALL': 1796, 'CANDY HEART HANGING DECORATION': 1797, 'CREAM SWEETHEART TRAYS': 1798, 'RECYCLED PENCIL WITH RABBIT ERASER': 1799, '2 PICTURE BOOK EGGS EASTER CHICKS': 1800, '2 PICTURE BOOK EGGS EASTER DUCKS': 1801, 'PINK METAL CHICKEN HEART': 1802, 'YELLOW METAL CHICKEN HEART': 1803, 'MULTICOLOUR HONEYCOMB FAN': 1804, 'BLACK WINE GLASS': 1805, 'RABBIT EASTER DECORATION': 1806, 'POTTERING MUG': 1807, 'WHITE JEWELLED HEART DECORATION': 1808, 'CREAM SWEETHEART MAGAZINE RACK': 1809, 'SMALLFOLKART BAUBLE CHRISTMAS DEC': 1810, 'FOLK ART METAL STAR T-LIGHT HOLDER': 1811, 'FOLK ART METAL HEART T-LIGHT HOLDER': 1812, 'METAL 4 HOOK HANGER FRENCH CHATEAU': 1813, 'CREAM SWEETHEART MINI CHEST': 1814, 'WHITE METAL LANTERN': 1815, 'PINK JUMPER LARRY THE LAMB': 1816, 'CREAM AND PINK FLOWERS PONY': 1817, 'ELEPHANT TOY WITH BLUE T-SHIRT': 1818, 'MUMMY MOUSE RED GINGHAM RIBBON': 1819, 'PINK SCOTTIE DOG W FLOWER PATTERN': 1820, 'PINK FLOWER FABRIC PONY': 1821, '5 HOOK BLACKBOARD ORGANISER': 1822, 'CANDLE RING W/CLEAR BEADS': 1823, 'HEART SHAPED MIRROR': 1824, 'LOVE GARLAND PAINTED ZINC': 1825, '3 HEARTS HANGING DECORATION RUSTIC': 1826, 'GIANT PINK HEART MEMO HOLDER': 1827, 'IVORY HANGING DECORATION  BUTTERFLY': 1828, 'BEADED CRYSTAL HEART PINK\\\\ON STICK': 1829, 'BEADED CRYSTAL HEART BLUE ON STICK': 1830, 'BEADED CRYSTAL HEART GREEN ON STICK': 1831, 'LARGE CAMPHOR WOOD FIELD MUSHROOM': 1832, 'LARGE  TALL CAMPHOR WOOD TOADSTOOL': 1833, 'ENCHANTED GARDEN WROUGHT IRON TABLE': 1834, 'WOOD STAMP SET HAPPY BIRTHDAY': 1835, 'WOOD STAMP SET THANK YOU': 1836, 'GREEN SWEETHEART BRACELET': 1837, 'PURPLE SWEETHEART BRACELET': 1838, 'BLUE SWEETHEART BRACELET': 1839, 'TURQUOISE CRYSTAL+GLASS BRACELET': 1840, 'JADE CRYSTAL+GLASS BRACELET': 1841, 'PINK CRYSTAL+GLASS BRACELET': 1842, 'BLACK/WHITE GLASS/SILVER BRACELET': 1843, 'BLUE GLASS CHUNKY CHARM BRACELET': 1844, 'WHITE GLASS CHUNKY CHARM BRACELET': 1845, 'ICE CREAM DESIGN GARDEN PARASOL': 1846, 'ANIMAL STICKERS': 1847, 'MAGIC TREE -PAPER FLOWERS': 1848, 'WOOD 2 DRAWER CABINET WHITE FINISH': 1849, 'GARLAND , WOODEN  \" HAPPY EASTER\"': 1850, 'GREEN EASTER EGG HUNT START POST': 1851, 'YELLOW EASTER EGG HUNT START POST': 1852, 'SKULL LUNCHBOX WITH CUTLERY': 1853, 'LARGE TRIFLE DESIGN L BLUE BOWL': 1854, 'ASSORTED WHITE EMBOSSED CHINA MUGS': 1855, 'FAIRY CAKES TILE COASTER': 1856, 'RED ORGANIC CANDLE IN GLASS': 1857, 'MURANO STYLE GLASS BRACELET BLACK': 1858, 'PINK MURANO TWIST BRACELET': 1859, 'WHITE MURANO TWIST BRACELET': 1860, 'AMBER GLASS BRACELET HEART CHARMS': 1861, \"COTE D'AZURE NECKLACE\": 1862, 'COFFEE SCENT PILLAR CANDLE': 1863, 'MIDNIGHT BLUE GLASS/SILVER BRACELET': 1864, 'AMBER GLASS/SILVER BRACELET': 1865, 'PINK UNION JACK  LUGGAGE TAG': 1866, 'LARGE ROUND WICKER PLATTER': 1867, 'ASSORTED COLOUR T-LIGHT HOLDER': 1868, 'SET/12 FUNKY FELT FLOWER PEG IN BAG': 1869, 'EASTER DECORATION HANGING BUNNY': 1870, 'DECORATION  BUTTERFLY  MAGIC GARDEN': 1871, 'ANTIQUE SILVER TEA GLASS ENGRAVED': 1872, 'SET/6 BEAD COASTERS GAUZE BAG GOLD': 1873, 'LARGE HEART FLOWERS HOOK': 1874, \"YOU'RE CONFUSING ME METAL SIGN\": 1875, 'DAIRY MAID  SMALL  MILK JUG': 1876, 'METAL SIGN NEIGHBOURHOOD WITCH': 1877, 'HOUSE WRECKING METAL SIGN': 1878, 'EASTER DECORATION SITTING BUNNY': 1879, 'MULTI COLOUR SILVER T-LIGHT HOLDER': 1880, 'SAVOY ART DECO CLOCK': 1881, 'SMALL HAMMERED SILVER CANDLEPOT': 1882, 'SILVER VANILLA FLOWER CANDLE POT': 1883, 'SILVER PLATE CANDLE BOWL LARGE': 1884, 'HOME SMALL WOOD LETTERS': 1885, 'ASSORTED MINI MADRAS NOTEBOOK': 1886, 'ASS FLORAL PRINT TAPE MEASURE': 1887, 'WIRE FLOWER T-LIGHT HOLDER': 1888, 'S/4 PINK FLOWER CANDLES IN BOWL': 1889, 'MA CAMPAGNE MINI WOODEN CHEST': 1890, 'ANTIQUE CREAM CUTLERY CUPBOARD': 1891, '6 EGG HOUSE PAINTED WOOD': 1892, 'T-LIGHT HOLDER HANGING LACE': 1893, 'RETRO PLASTIC DAISY TRAY': 1894, 'ORIGAMI ROSE INCENSE IN TUBE': 1895, 'S/12 MINI RABBIT EASTER': 1896, 'NAMASTE SWAGAT INCENSE': 1897, 'BALLOON ART MAKE YOUR OWN FLOWERS': 1898, 'MINI JIGSAW BUNNIES': 1899, 'MINI JIGSAW GO TO THE FAIR': 1900, 'MAGIC DRAWING SLATE GO TO THE FAIR': 1901, 'MAGIC DRAWING SLATE BUNNIES': 1902, 'BLUE PAISLEY NOTEBOOK': 1903, 'GREEN FERN NOTEBOOK': 1904, 'LARGE PINK GLASS SUNDAE DISH': 1905, 'GARLAND WITH HEARTS AND BELLS': 1906, 'STAR DECORATION RUSTIC': 1907, 'PORCELAIN ROSE SMALL': 1908, 'SET/4 BIRD MIRROR MAGNETS': 1909, 'PORCELAIN ROSE LARGE': 1910, 'WAKE UP COCKEREL WALL THERMOMETER': 1911, 'SILVER FISHING GNOME': 1912, 'LETTER \"A\" BLING KEY RING': 1913, 'IVORY HANGING DECORATION  BIRD': 1914, 'VINTAGE RED MUG': 1915, 'WHITE TALL PORCELAIN T-LIGHT HOLDER': 1916, 'SILVER HOOP EARRINGS WITH FLOWER': 1917, 'SILVER DROP EARRINGS WITH FLOWER': 1918, 'FINE SILVER NECKLACE W PASTEL FLOWE': 1919, \"NEW BAROQUE B'FLY NECKLACE PINK\": 1920, \"NEW BAROQUE B'FLY NECKLACE GREEN\": 1921, 'MIRRORED DOVE WALL DECORATION': 1922, 'CANDLE IN JAR COLLAGE , VANILLA': 1923, 'PINK NEW BAROQUECANDLESTICK CANDLE': 1924, 'HEAVENS SCENT FRAGRANCE OILS ASSTD': 1925, 'ASSORTED COLOUR SILK GLASSES CASE': 1926, 'SILVER PHOTO FRAME': 1927, 'SET OF 3 PINK FLYING DUCKS': 1928, 'IVORY HANGING DECORATION  EGG': 1929, 'ASSORTED LAQUERED INCENSE HOLDERS': 1930, 'PAPER POCKET TRAVELING FAN': 1931, 'CLASSIC FRENCH STYLE BASKET BROWN': 1932, 'GOLD WINE GOBLET': 1933, 'MIRROR MOSAIC VOTIVE HOLDER': 1934, 'PINK GINGHAM CAT WITH SCARF': 1935, 'BUTTONS AND STRIPES NOTEBOOK': 1936, 'PINK STITCHED WALL CLOCK': 1937, 'CHERRY BLOSSOM CANVAS ART PICTURE': 1938, 'BLACK 3 TIER GLASS PLATE STAND': 1939, 'METAL MEDINA LANTERN': 1940, 'OCEAN STRIPE HAMMOCK': 1941, 'PASTEL STRIPE HAMMOCK': 1942, 'NEW ENGLAND EGG WARMER': 1943, 'IVORY FELT EASTER RABBIT GARLAND': 1944, 'GARDENIA 1 WICK MORRIS BOXED CANDLE': 1945, 'GINGHAM OVEN GLOVE RED HEART': 1946, 'SCENTED CANDLE IN DIGITALIS TIN': 1947, 'VINTAGE BILLBOARD MUG': 1948, 'RED DAISY POCKET BOOK': 1949, 'SMALL DOLLY MIX DESIGN ORANGE BOWL': 1950, 'NEW ENGLAND TEATOWELS': 1951, 'DAISY SKETCHBOOK': 1952, \"POTTING SHED SOW 'N' GROW SET\": 1953, 'NO JUNK MAIL METAL SIGN': 1954, 'JELLY BABIES YELLOW SMALL BOWL': 1955, 'YULETIDE IMAGES S/6 PAPER BOXES': 1956, '4 WILDFLOWER BOTANICAL CANDLES': 1957, '4 PEAR BOTANICAL DINNER CANDLES': 1958, 'BUTTONS DESIGN JEWELLERY BOX': 1959, 'S/6 PAPER BOXES BLOSSOM IMAGES': 1960, 'ROMANTIC IMAGES NOTEBOOK SET': 1961, 'S/6 PAPER BOXES ROMANTIC IMAGES': 1962, 'BLOSSOM IMAGES SCRAP BOOK SET': 1963, 'CURIOUS IMAGES SCRAP BOOK SET': 1964, 'MILK BOTTLE WITH GLASS STOPPER': 1965, 'KENSINGTON COFFEE SET': 1966, 'BLACK RETRO BAR STOOL': 1967, 'ROSES ON BLUE TEACUP CANDLE': 1968, 'GLITTER HANGING BUTTERFLY STRING': 1969, 'WHITE WIRE EGG HOLDER': 1970, 'FILIGREE WALL MIRROR  ANTIQUE WHITE': 1971, 'WHITE HANGING BEADS CANDLE HOLDER': 1972, 'TROPICAL HOLIDAY PURSE': 1973, 'PINK GREEN EMBROIDERY COSMETIC BAG': 1974, 'BLUE GREEN EMBROIDERY COSMETIC BAG': 1975, 'FIRST CLASS HOLIDAY PURSE': 1976, 'CHERRY BLOSSOM PURSE': 1977, 'ICON ALARM CLOCK,FUSCHIA  PIN UP': 1978, 'GREEN FERN SKETCHBOOK': 1979, 'CHRYSANTHEMUM SKETCHBOOK': 1980, 'LIGHT PINK CHERRY LIGHTS': 1981, 'CLASSIC FRENCH STYLE BASKET NATURAL': 1982, 'CLASSIC FRENCH STYLE BASKET GREEN': 1983, 'GLASS HEART T-LIGHT HOLDER': 1984, 'BLUE TEATIME PRINT BOWL': 1985, 'WHITE TRAVEL ALARM CLOCK': 1986, 'SET OF 3 BLUE STRIPE BASKET': 1987, 'S/4 ROSE PINK DINNER CANDLES': 1988, 'S/4 SKY BLUE DINNER CANDLES': 1989, 'TRIANGULAR RIDGED GLASS POSY HOLDER': 1990, 'CUT GLASS T-LIGHT HOLDER OCTAGON': 1991, 'GOLD SCROLL GLASS T-LIGHT HOLDER': 1992, 'SMALL REGAL  SILVER CANDLEPOT': 1993, 'BEACH HUT KEY CABINET': 1994, 'DISCO BALL ROTATOR BATTERY OPERATED': 1995, 'BEACH HUT MIRROR': 1996, 'MIRRORED DISCO BALL': 1997, 'SET OF 6 CAKE CHOPSTICKS': 1998, 'PINK ROSE WASHBAG': 1999, 'VINTAGE BEAD PINK PURSE': 2000, 'RED ENAMEL FLOWER RING': 2001, 'GREEN ENAMEL FLOWER RING': 2002, 'BLACK ENAMEL FLOWER RING': 2003, 'PURPLE ENAMEL FLOWER RING': 2004, 'WRAP  PINK FLOCK': 2005, 'HANGING GLASS ETCHED TEALIGHT': 2006, 'LADYBIRD + BEE RAFFIA FOOD COVER': 2007, 'BROWN CHECK CAT DOORSTOP': 2008, 'SET/4 PINK ORCHID CANDLES IN BOWL': 2009, 'HYACINTH BULB T-LIGHT CANDLES': 2010, 'FAIRY CAKE GREETINGS CARD': 2011, 'SQUARE FLOOR CUSHION VINTAGE RED': 2012, 'FLOOR CUSHION ELEPHANT CARNIVAL': 2013, 'BLUE/CREAM STRIPE CUSHION COVER': 2014, 'RED/CREAM STRIPE CUSHION COVER': 2015, 'SKULLS STORAGE BOX LARGE': 2016, 'FAIRY CAKE FLANNEL ASSORTED COLOUR': 2017, 'SET/5 BLUE SPOTTY LID GLASS BOWLS': 2018, 'PINK  HEART CONFETTI IN TUBE': 2019, 'KNITTED MUG COSY IVORY COLOUR': 2020, 'DANISH ROSE DELUXE COASTER': 2021, 'FLOWER WINDMILL': 2022, 'MIRROR MOSAIC CANDLE PLATE': 2023, 'BEADED CRYSTAL HEART PINK LARGE': 2024, 'ASSORTED FLORAL SECATEURS': 2025, 'LARGE CHINESE STYLE SCISSOR': 2026, 'RIDGED GLASS STORAGE JAR CREAM LID': 2027, 'SMALL GLASS SUNDAE DISH CLEAR': 2028, 'RECTANGULAR SHAPED MIRROR': 2029, 'DANISH ROSE DECORATIVE PLATE': 2030, 'ROUND PINK HEART MIRROR': 2031, 'EAU DE NILE JEWELLED PHOTOFRAME': 2032, 'CLASSICAL ROSE DISH': 2033, 'ZINC HEART LATTICE PLANTER BOWL': 2034, 'RED FLOWER CROCHET FOOD COVER': 2035, 'SPOTTY COFFEE CUP & SAUCER': 2036, 'DANISH ROSE ROUND SEWING BOX': 2037, 'KITCHEN FLOWER POTS WALL PLAQUE': 2038, 'GRASS HOPPER WOODEN WALL CLOCK': 2039, 'FRUIT TREE AND BIRDS WALL PLAQUE': 2040, 'SILVER JEWELLED MIRROR TRINKET TRAY': 2041, 'DIAMANTE HEART SHAPED WALL MIRROR,': 2042, 'GREEN 3 TIER GLASS PLATE STAND': 2043, 'SPOTS DESIGN MUG W PINK INSIDE': 2044, 'DAIRY MAID CERAMIC TOASTRACK': 2045, 'DAIRY MAID CERAMIC BUTTER DISH': 2046, 'MULTICOLOUR SPRING FLOWER MUG': 2047, 'PINK/YELLOW FLOWERS HANDBAG': 2048, 'METAL TUBE CHIME ON BAMBOO': 2049, 'BLUE YELLOW FLOWER PIGGY BANK': 2050, 'PINK RIVIERA HANDBAG': 2051, 'PINK MONTE CARLO HANDBAG': 2052, 'PLASMATRONIC LAMP': 2053, 'GOLD MINI TAPE MEASURE': 2054, 'FRENCH ENAMEL POT W LID': 2055, 'GLASS CAKE STAND': 2056, 'BANK ACCOUNT  GREETING  CARD': 2057, 'PENS ASSORTED FUNKY JEWELED': 2058, 'PAINTED LIGHTBULB RAINBOW DESIGN': 2059, 'MADRAS NOTEBOOK MEDIUM': 2060, 'SMALL CHINESE STYLE SCISSOR': 2061, 'MEDIUM CHINESE STYLE SCISSOR': 2062, 'SILVER CHERRY LIGHTS': 2063, 'WHITE SAGE INCENSE': 2064, 'SET/6 PURPLE BUTTERFLY T-LIGHTS': 2065, 'LARGE MEDINA STAMPED METAL BOWL': 2066, 'FAIRY DREAMS INCENSE': 2067, 'STANDING FAIRY POLE SUPPORT': 2068, 'PSYCHEDELIC WALL THERMOMETER': 2069, 'S/6 HALLOWEEN GHOST T LIGHTS, 5CM H': 2070, 'GLASS BONBON JAR PARFUME AUX FLEURE': 2071, 'PURPLE/TURQ FLOWERS HANDBAG': 2072, 'JAZZ HEARTS ADDRESS BOOK': 2073, 'LADS ONLY TISSUE BOX': 2074, 'BOMBS AWAY METAL SIGN': 2075, 'ROTATING LEAVES T-LIGHT HOLDER': 2076, 'DECORATION, HANGING HEART+MIRROR': 2077, 'RED HEARTS LIGHT CHAIN': 2078, 'CLEAR COLOUR GLASS GEMS IN BAG': 2079, 'PAINTED YELLOW WOODEN DAISY': 2080, 'BLUE STONES ON WIRE FOR CANDLE': 2081, 'GREEN PICNIC BARBECUE BUCKET': 2082, 'GREETING CARD, OVERCROWDED POOL.': 2083, 'PINK KNITTED KIDS RUCKSACK': 2084, 'IVORY HANGING DECORATION  CHICKEN': 2085, 'BEADED CRYSTAL HEART BLUE SMALL': 2086, 'ENGLISH ROSE IRONING BOARD COVER': 2087, 'LETTER \"E\" BLING KEY RING': 2088, 'YELLOW VW BEETLE CERAMIC MONEY BOX': 2089, 'BEADED CRYSTAL HEART BLUE  LARGE': 2090, 'ENGLISH ROSE MUG IN GIFT BOX': 2091, 'CROCHET BEAR WITH BLUE STRIPES': 2092, 'PINK RABBIT SITTING EASTER': 2093, 'S/3 RABBIT FLOWER/EGG/CARROT ROPE': 2094, 'GREETING CARD, RITA': 2095, 'MONEY BOX CONFECTIONERY DESIGN': 2096, 'MAGIC DRAWING SLATE FIDO': 2097, 'ANTIQUE GLASS PLACE SETTING': 2098, 'ZINC HEART LATTICE T-LIGHT HOLDER': 2099, 'FRENCH STYLE WALL DRESSER': 2100, 'CHRISTMAS TREE DECORATION WITH BELL': 2101, 'TIN CAN KINGS CHOICE DESIGN': 2102, 'FROG SOCK PUPPET': 2103, 'PINK HORSE SOCK PUPPET': 2104, 'OFFICE MUG WARMER BLACK+SILVER': 2105, 'GLASS CHALICE BLUE SMALL': 2106, 'SCANDINAVIAN 3 HEARTS NAPKIN RING': 2107, 'SUNSET COLOUR CHUNKY KNITTED THROW': 2108, 'BROCADE RING PURSE': 2109, 'OPIUM SCENTED VOTIVE CANDLE': 2110, 'JASMINE VOTIVE CANDLE': 2111, 'VANILLA INCENSE 40 CONES IN TIN': 2112, 'WINE BOTTLE DRESSING DARK BLUE': 2113, 'WINE BOTTLE DRESSING LT.BLUE': 2114, 'CARD WEDDING DAY': 2115, 'CARD I LOVE LONDON': 2116, 'BLUE PULL BACK RACING CAR': 2117, 'PAPERWEIGHT KINGS CHOICE': 2118, 'PAPERWEIGHT HOME SWEET HOME': 2119, 'DECORATIVE ROSE BATHROOM BOTTLE': 2120, 'DECORATIVE CATS BATHROOM BOTTLE': 2121, 'S/2 BEACH HUT STOOLS': 2122, 'PINK 3 TIER GLASS PLATE STAND': 2123, 'FRENCH BOTTLE, BRASSERIE DES ARTIST': 2124, 'PLEASE ONE PERSON  METAL SIGN': 2125, 'MOODY BOY  DOOR HANGER': 2126, 'MOODY GIRL DOOR HANGER': 2127, 'BLACK FACE LAMB WITH PANTS': 2128, 'PINK CROCHET CAT WITH SCARF': 2129, 'S/4 GROOVY CAT MAGNETS': 2130, 'BLUE/BROWN DOTS RUFFLED UMBRELLA': 2131, 'SET OF 3 RED STRIPE BASKETS': 2132, 'METAL RABBIT LADDER EASTER': 2133, 'WHITE WITH BLACK CATS PLATE': 2134, 'WHITE WITH BLACK CATS MUG': 2135, 'WHITE WITH BLACK CATS BOWL': 2136, 'EASTER DECORATION EGG BUNNY': 2137, 'NEW ENGLAND MILK JUG W GIFT BOX': 2138, 'DOOR MAT 3 SMILEY CATS': 2139, 'PINK GINGHAM ROSE FLOOR CUSHION': 2140, 'ARCHED GREY MIRROR': 2141, 'EDWARDIAN TOILET ROLL UNIT': 2142, 'ANTIQUE EDWARDIAN DRESSER': 2143, 'EDWARDIAN 2 DRAWER WALL CABINET': 2144, 'WHITE BAROQUE CARRIAGE CLOCK': 2145, 'BLUE CHARLIE+LOLA PERSONAL DOORSIGN': 2146, 'RED CHARLIE+LOLA PERSONAL DOORSIGN': 2147, 'CHARLIE+LOLA\"EXTREMELY BUSY\" SIGN': 2148, 'CHARLIE+LOLA MY ROOM DOOR SIGN': 2149, 'RETRO SPOT SMALL TUBE MATCHES': 2150, 'SET OF 4 NEW ENGLAND COASTERS': 2151, 'FLAG OF ST GEORGE CHAIR': 2152, 'BLUE GINGHAM ROSE FLOOR CUSHION': 2153, 'PURPLE FOXGLOVE ARTIIFCIAL FLOWER': 2154, 'BLUE DELPHINIUM ARTIFICIAL FLOWER': 2155, 'HANGING SPRING FLOWER EGG LARGE': 2156, 'TUB 24 PINK FLOWER PEGS': 2157, 'DAISY NOTEBOOK': 2158, 'PICCADILLY TEA SET': 2159, 'GREEN ROSE WASHBAG': 2160, 'CAKE STAND VICTORIAN FILIGREE SMALL': 2161, 'CAKE STAND VICTORIAN FILIGREE MED': 2162, 'CAKE STAND VICTORIAN FILIGREE LARGE': 2163, '12 DAISY PEGS IN WOOD BOX': 2164, 'PINK FLOWER CROCHET FOOD COVER': 2165, 'S/2 ZINC HEART DESIGN PLANTERS': 2166, 'DO NOT TOUCH MY STUFF DOOR HANGER': 2167, '5 STRAND GLASS NECKLACE CRYSTAL': 2168, 'SILVER CHARM NECKLACE 70CM': 2169, 'ENGLISH ROSE SCENTED HANGING HEART': 2170, \"ASS COL SMALL SAND FROG P'WEIGHT\": 2171, 'LIGHT DECORATION BATTERY OPERATED': 2172, 'SPACE CADET BLACK': 2173, 'LARGE CIRCULAR MIRROR MOBILE': 2174, 'SET OF 3 BIRD LIGHT PINK FEATHER': 2175, \"ASS COL LARGE SAND FROG P'WEIGHT\": 2176, 'BEADED CRYSTAL HEART PINK SMALL': 2177, 'MOSAIC GLASS BALL CANDLEHOLDER': 2178, 'RED FLOCK LOVE HEART PHOTO FRAME': 2179, 'STARFISH SOAP DISH': 2180, 'MEDIUM MEDINA STAMPED METAL BOWL': 2181, 'CONCH SHELL': 2182, 'ORIENTAL RED CUSHION COVER': 2183, 'ORIENTAL BLUE CUSHION COVER': 2184, 'GIANT MEDINA STAMPED METAL BOWL': 2185, 'WHITE GRAND BAROQUE PHOTO FRAME': 2186, 'PSYCHEDELIC TILE COASTER': 2187, 'SET/2 BLUE  NOODLE BASKETS': 2188, 'PURPLE GREEN FLOWER PIGGY BANK': 2189, 'RED PEONY PHOTO FRAME': 2190, 'CHERRY BLOSSOM PHOTO FRAME': 2191, 'ROSE SCENT CANDLE IN JEWELLED BOX': 2192, 'SET/3 ROSE CANDLE IN JEWELLED BOX': 2193, 'NATURAL RIVIERA HANDBAG': 2194, 'WRAP MONSTER FUN': 2195, 'SET OF 4 POLKADOTS COASTERS': 2196, 'SET OF 4 DOTTY PLACEMATS': 2197, 'BEACH HUT DESIGN BLACKBOARD': 2198, 'IVORY ENCHANTED FOREST PLACEMAT': 2199, \"PRICE'S CANDLE PEACH\": 2200, 'WRAP CHRISTMAS DECOUPAGE': 2201, 'LILAC VOTIVE CANDLE': 2202, 'SPHERICAL IVORY CANDLE': 2203, 'METAL BASE FOR CANDLES': 2204, 'COLUMBIAN  CUBE CANDLE': 2205, 'IVORY SCULPTED RND CANDLE': 2206, 'ROSE FLOWER CANDLE+INCENSE 16X16CM': 2207, 'HEART T-LIGHT HOLDER': 2208, 'PINK FLY SWAT': 2209, 'BLUE FLY SWAT': 2210, 'MIRRORED WALL ART PHOTO FRAMES': 2211, 'VINYL RECORD FRAME SILVER': 2212, 'SET OF 3 GOLD FLYING DUCKS': 2213, 'VINTAGE SHELLS PRINT': 2214, 'PET MUG, BUDGIE': 2215, 'RED POPPY ARTIFICIAL FLOWER': 2216, 'S/4 PURPLE DINNER CANDLE BLK FLOCK': 2217, 'GARDEN PATH POCKET BOOK': 2218, 'EIGHT PIECE CREEPY CRAWLIE SET': 2219, 'EIGHT PIECE SNAKE  SET': 2220, 'STRIPY DESIGN SHOWER CAP': 2221, 'SUMMER FUN DESIGN SHOWER CAP': 2222, 'GREEN BLUE FLOWER PIGGY BANK': 2223, 'PINK ALLIUM  ARTIFICIAL FLOWER': 2224, 'PINK GLASS CANDLEHOLDER': 2225, 'HILDA CANDY SPOT RABBIT': 2226, 'URBAN CHIC CHOPSTICKS SET/5': 2227, 'SKULLS STORAGE BOX SMALL': 2228, 'MORE BUTTER METAL SIGN': 2229, 'SWISS ROLL TOWEL, CHOCOLATE  SPOTS': 2230, 'S/4 BURGUNDY WINE DINNER CANDLES': 2231, 'VINTAGE KITCHEN PRINT VEGETABLES': 2232, 'VINTAGE BILLBOARD LOVE/HATE MUG': 2233, 'DOORMAT NEIGHBOURHOOD WITCH': 2234, 'WHITE HEART CONFETTI IN TUBE': 2235, 'BLACK SMALL GLASS CAKE STAND': 2236, 'GLASS BONBON JAR. SUPERFINES': 2237, 'ANGEL DECORATION STARS ON DRESS': 2238, 'ANGEL DECORATION WITH LACE PADDED': 2239, 'CHRISTMAS TREE PAINTED ZINC': 2240, 'STAR DECORATION PAINTED ZINC': 2241, 'STRIPES DESIGN MONKEY DOLL': 2242, 'HELLO SAILOR BLUE SOAP HOLDER': 2243, 'MADRAS NOTEBOOK LARGE': 2244, 'VINTAGE COLLAGE  GREETING  CARD': 2245, 'PINK PAISLEY CUSHION COVER': 2246, 'MINI PAINT SET VINTAGE  BOY+ GIRL': 2247, 'HANGING MEDINA LANTERN SMALL': 2248, 'HOME GARLAND PAINTED ZINC': 2249, 'FLORAL DINOSAUR GREEN': 2250, 'GLASS CHICKEN BUTTER DISH': 2251, 'COSY SLIPPER SHOES LARGE RED': 2252, 'AIRLINE LOUNGE,METAL SIGN': 2253, 'FLOWER FAIRY INCENSE LAVENDER': 2254, 'BLUE POT PLANT CANDLE': 2255, 'PINK POT PLANT CANDLE': 2256, 'SET/3 POT PLANT CANDLES': 2257, 'CERAMIC BIRDHOUSE CRESTED TIT LARGE': 2258, 'PING MICROWAVE APRON': 2259, 'F.FAIRY S/3 CANDLE/GLASS': 2260, 'PSYCHEDELIC METAL SIGN CALENDAR': 2261, 'HIPPY CHIC DECORATIVE PARASOL': 2262, 'DOT MATRIX CANVAS ART PICTURE': 2263, 'MULTICOLOUR HONEYCOMB PAPER GARLAND': 2264, 'WHITE HONEYCOMB PAPER GARLAND': 2265, 'LARGE WHITE HONEYCOMB PAPER BELL': 2266, 'WHITE BELL HONEYCOMB PAPER GARLAND': 2267, 'SET/4 GARDEN ROSE DINNER CANDLE': 2268, 'SET/6 PINK BIRD T-LIGHT CANDLES': 2269, 'SQUARE CHERRY BLOSSOM CABINET': 2270, 'ORANGE TV TRAY TABLE': 2271, 'PARTY PIZZA DISH GREEN RETROSPOT': 2272, 'PASTA ENAMEL/BRASS CONTAINER': 2273, 'MONEY BOX FIRST ADE DESIGN': 2274, 'ENAMEL BLUE RIM OVAL TRAY SET/2': 2275, 'BLACK AND WHITE CAT BOWL': 2276, 'BLACK CHAMPAGNE GLASS': 2277, 'BLACK SILVER FLOWER T-LIGHT HOLDER': 2278, 'BLUE FLOCK GLASS CANDLEHOLDER': 2279, 'LIGHT PINK FLOCK GLASS CANDLEHOLDER': 2280, 'FOLK FELT HANGING MULTICOL GARLAND': 2281, 'SUNFLOWER DECORATIVE PARASOL': 2282, 'SMALL HANGING GLASS+ZINC LANTERN': 2283, 'MINI JIGSAW BUNNIES AT HOME': 2284, 'MAGIC SLATE FIDO': 2285, 'RED STAR CARD HOLDER': 2286, 'BOOM BOX SPEAKER GIRLS': 2287, 'DOORSTOP RUSSIAN DOLL GINGHAM': 2288, 'PORCELAIN HANGING BELL SMALL': 2289, 'SWEETHEART CARRY-ALL BASKET': 2290, 'PORCELAIN HANGING BELL LARGE': 2291, '3D SHEET OF CAT STICKERS': 2292, '3D SHEET OF DOG STICKERS': 2293, 'FLOWER FAIRY OIL BURNER SET ROSE': 2294, 'FLOWER FAIRY OIL BURNER SET SUMMER': 2295, 'F.FAIRY S/3 CANDLE/GLASS, ROSE': 2296, 'BROWN ANTIQUE CUBE CANDLE': 2297, 'BEIGE PHOTO ALBUM': 2298, 'FLOWER FAIRY SET OF 3 LILY CANDLES': 2299, 'S/3 FLWR FAIRY LAVENDER CANDLES': 2300, 'ROUND GEORGIAN SILVER MIRROR': 2301, 'CLASSICAL ROSE TABLE LAMP': 2302, 'TEATIME GEL PENS ASST': 2303, 'FEATHER PEN,HOT PINK': 2304, 'OCEAN SCENT CANDLE IN JEWELLED BOX': 2305, \"GLASS BONBON JAR. D'AMANDES\": 2306, 'FELTCRAFT HAIRBAND, S/2, RED/BLUE': 2307, 'FELTCRAFT HAIRBAND S/2, PINK/PURPLE': 2308, 'TEXRIO TOMATOES CANDLE+CUP': 2309, 'BLUE VICTORIAN FABRIC HEART BOX': 2310, 'ROSE FOLKART HEART DECORATIONS': 2311, 'SMALL GLASS ROSE SCENTED CANDLE': 2312, 'GREEN HEART COMPACT MIRROR': 2313, 'ORANGE FLOWER MUG': 2314, 'PINK SWEETHEART BRACELET': 2315, 'SET/6 BLACK ROSE T-LIGHT CANDLES': 2316, 'ZINC HEART LATTICE TRAY OVAL': 2317, 'ZINC HEART LATTICE 2 WALL PLANTER': 2318, 'LARGE GLASS ROSE SCENTED CANDLE': 2319, 'PINK HEARTS PHOTO ALBUM': 2320, 'RED ENCHANTED FOREST PLACEMAT': 2321, 'CERAMIC BIRDHOUSE RED ROOF LARGE': 2322, 'WILLOW BRANCH LIGHTS.': 2323, 'YELLOW POT PLANT CANDLE': 2324, 'BLACK GRAND BAROQUE PHOTO FRAME': 2325, 'BLACK BAROQUE CARRIAGE CLOCK': 2326, 'MOROCCAN BEATEN METAL MIRROR': 2327, 'FLORAL BATHROOM SET': 2328, 'RIVIERA NECKLACE': 2329, '5 STRAND GLASS NECKLACE AMBER': 2330, 'JOY LARGE WOOD LETTERS': 2331, 'HELLO SAILOR BATHROOM SET': 2332, 'SKULLS  DESIGN  COTTON TOTE BAG': 2333, 'BLUE PAISLEY TISSUE BOX': 2334, 'SPRIG LAVENDER ARTIFICIAL FLOWER': 2335, 'MEDIUM WHITE/PINK ROSE ART FLOWER': 2336, 'ROUND CACTUS CANDLE': 2337, 'GLASS SPHERE CANDLE STAND MEDIUM': 2338, 'WOVEN BUBBLE GUM CUSHION COVER': 2339, 'WOVEN BERRIES CUSHION COVER': 2340, 'SMALL POP BOX,FUNKY MONKEY': 2341, 'GLASS STAR FROSTED T-LIGHT HOLDER': 2342, 'VINTAGE BEAD PINK SHADE': 2343, 'MOROCCAN BEATEN METAL DISH': 2344, 'CAMPHOR WOOD PORTOBELLO MUSHROOM': 2345, 'SMALL TALL CAMPHOR WOOD TOADSTOOL': 2346, 'SMALL CAMPHOR WOOD FIELD  MUSHROOM': 2347, 'BLUE RIVIERA HANDBAG': 2348, 'BEACH HUT SHELF W 3 DRAWERS': 2349, 'S/2 BEACH HUT TREASURE CHESTS': 2350, 'BEACH HUT PHOTO FRAME': 2351, 'VANILLA INCENSE IN TIN': 2352, 'SET/3 OCEAN SCENT CANDLE JEWEL BOX': 2353, 'OCEAN SCENT CANDLE JEWELLED DRAWER': 2354, 'ROSE SCENT CANDLE JEWELLED DRAWER': 2355, 'CERAMIC BIRDHOUSE BLACK ROSE  LARGE': 2356, 'CERAMIC BIRDHOUSE FINCH BLUE  LARGE': 2357, 'ENGLISH ROSE NOTEBOOK A6 SIZE': 2358, 'ETCHED GLASS COASTER': 2359, 'RED PEONY TABLE CLOCK': 2360, 'FORKED CACTUS CANDLE': 2361, 'BLUE COL METAL FOLDING CHAIR': 2362, 'ENCHANTED BIRD PLANT CAGE': 2363, 'ASS FLORAL PRINT MULTI SCREWDRIVER': 2364, 'METAL WALL SHELF UNIT WITH HOOKS': 2365, 'SILVER PLATE CANDLE BOWL SMALL': 2366, 'BLUE WIRE SPIRAL CANDLE HOLDER': 2367, 'GLITTER CHRISTMAS HEART': 2368, 'PORCELAIN T-LIGHT HOLDERS ASSORTED': 2369, 'LARGE WHITE/PINK ROSE ART FLOWER': 2370, 'SMALL SILVER FLOWER CANDLE POT': 2371, 'GLITTER HEART GARLAND WITH BELLS': 2372, 'SILVER LATTICE VANILLA CANDLE POT': 2373, 'VANILLA CANDLE IN EMBOSSED ZINC POT': 2374, 'EMBOSSED FLOWER TRELLIS PHOTO FRAME': 2375, 'PURPLE ENAMEL+GLASS HAIR COMB': 2376, 'PINK ENAMEL+GLASS HAIR COMB': 2377, 'GREEN ENAMEL+GLASS HAIR COMB': 2378, 'PAIR OF ENAMEL FLOWER CLUSTER SLIDE': 2379, 'BLACK SWEETHEART BRACELET': 2380, 'JARDIN DE FEMME SCENTED CANDLE': 2381, 'CUPID DESIGN SCENTED CANDLES': 2382, 'CANDY STRIPE ROSE C/COVER': 2383, 'SWISS ROLL TOWEL, PINK  SPOTS': 2384, 'BLUE PAISLEY SKETCHBOOK': 2385, 'VINTAGE GLASS SUGAR CADDY': 2386, 'NEW BAROQUE JEWELLERY BOX': 2387, 'PINK ENAMEL FLOWER HAIR TIE': 2388, 'DAISY HAIR COMB': 2389, 'MIDNIGHT BLUE PAIR HEART HAIR SLIDE': 2390, 'ROSE COLOUR PAIR HEART HAIR SLIDES': 2391, 'CLASSICAL ROSE SMALL VASE': 2392, 'DOORSTOP RACING CAR DESIGN': 2393, 'BIRD IN TREE MUG': 2394, 'CARNATION SQUARE HANDY TIN': 2395, 'BLACK METAL BAROQUE PHOTO FRAME': 2396, '3 GARDENIA MORRIS BOXED CANDLES': 2397, 'SET/3 VANILLA SCENTED CANDLE IN BOX': 2398, 'WHITE TEA,COFFEE,SUGAR JARS': 2399, 'EAU DE NILE HEART SHAPE PHOTO FRAME': 2400, 'DRAGONS BLOOD INCENSE': 2401, 'SET/12 TAPER CANDLES': 2402, 'INLAID WOOD INCENSE HOLDER': 2403, 'STRING CRYSTALS NATURAL': 2404, 'PINK FLOCK GLASS CANDLEHOLDER': 2405, 'HANGING HEART BASKET': 2406, 'FROSTED WHITE BASE': 2407, 'PINK HANGING GINGHAM EASTER HEN': 2408, 'BLUE HANGING GINGHAM EASTER HEN': 2409, 'MULTICOLOUR GLASS PLATE': 2410, 'PAINTED PINK RABBIT': 2411, 'RASTA IN BATH W SPLIFF ASHTRAY': 2412, 'WHITE/PINK CHICK EASTER DECORATION': 2413, 'PINK FLOWERS RABBIT EASTER': 2414, '3 PINK HEN+CHICKS IN BASKET': 2415, 'S/12 VANILLA  BOTANICAL T-LIGHTS': 2416, 'SET 4 EASTER DECOUPAGE OVAL BOXES': 2417, 'OLIVE CHALET BIRDFEEDER': 2418, 'BOHEMIAN COLLAGE STATIONERY SET': 2419, 'COLUMBIAN CANDLE ROUND': 2420, 'IVORY STRING CURTAIN WITH POLE': 2421, 'FRENCH FLORAL CUSHION COVER': 2422, 'LAVENDER SCENT CAKE CANDLE': 2423, 'VANILLA SCENT CAKE CANDLE': 2424, 'FENG SHUI PILLAR CANDLE': 2425, 'AFGHAN SLIPPER SOCK PAIR': 2426, 'MAGIC GARDEN MOUNT FUJI': 2427, 'PINK STRAWBERRY HANDBAG': 2428, 'YELLOW BIRDS FELT DES FOODCOVER': 2429, 'WHITE CHOCOLATE SCENT CANDLE': 2430, 'DARK CHOCOLATE SCENTCANDLE': 2431, '3 BLACK CATS W HEARTS BLANK CARD': 2432, 'BIG PINK POODLE': 2433, '3D SHEET OF SEA WORLD STICKERS': 2434, 'HEN & 2 CHICKS IN BASKET': 2435, 'SET OF 6 DOTS CHOPSTICKS': 2436, 'BLUE CRUSOE CHECK LAMPSHADE': 2437, 'PINK BOUDOIR T-LIGHT HOLDER': 2438, 'FIRE POLISHED GLASS NECKL GREEN': 2439, 'FIRE POLISHED GLASS NECKL GOLD': 2440, 'FIRE POLISHED GLASS NECKL BRONZE': 2441, '5 STRAND GLASS NECKLACE AMETHYST': 2442, '5 STRAND GLASS NECKLACE BLACK': 2443, 'GOLD/M.O.P PENDANT ORBIT NECKLACE': 2444, 'SILVER/M.O.P PENDANT ORBIT NECKLACE': 2445, 'SILVER/BLACK PENDANT ORBIT NECKLACE': 2446, 'GOLD M PEARL  ORBIT NECKLACE': 2447, 'SILVER/BLACK ORBIT NECKLACE': 2448, 'SILVER/MOP ORBIT NECKLACE': 2449, 'PEARL & SHELL 42\"NECKL. IVORY': 2450, 'PEARL & SHELL 42\"NECKL. PINK': 2451, 'PEARL & SHELL 42\"NECKL. GREEN': 2452, 'CANDY BUTTON PHOTO ALBUM': 2453, 'MINI JIGSAW LEAP FROG': 2454, 'MINI JIGSAW FIDO': 2455, 'CITRUS GARLAND FELT FLOWERS': 2456, 'CARROT CHARLIE+LOLA COASTER SET': 2457, 'POPART COL BALLPOINT PEN ASST': 2458, 'BOOZE & WOMEN GREETING CARD': 2459, 'THE KING GIFT BAG': 2460, 'CROCHET WHITE RABBIT KEYRING': 2461, 'GARDENIA 3 WICK MORRIS BOXED CANDLE': 2462, 'LILLIES CANVAS PICTURE': 2463, '12 ASS ZINC CHRISTMAS DECORATIONS': 2464, 'CHRISTMAS CRAFT HEART DECORATIONS': 2465, 'RED REINDEER STRING OF 20 LIGHTS': 2466, 'TEATIME PEN CASE & PENS': 2467, 'CLASSICAL ROSE URN': 2468, 'GREETING CARD, TWO SISTERS.': 2469, 'SILVER DIAMANTE PEN IN GIFT BOX': 2470, 'GUMBALL COATHOOK., BLACK & WHITE': 2471, 'BLUE CHECK BAG W HANDLE 34X20CM': 2472, 'FLOWER DES BLUE HANDBAG/ORANG HANDL': 2473, 'STRING OF STARS CARD HOLDER': 2474, 'HEART STRING MEMO HOLDER HANGING': 2475, 'CARTOON  PENCIL SHARPENERS': 2476, 'SET 3 JARDIN DE FEMME SCENT CANDLES': 2477, 'F.FAIRY S/3 CANDLE/GLASS,LILY/VALLY': 2478, 'SILVER ROCOCO CANDLE STICK': 2479, 'COSY SLIPPER SHOES SMALL GREEN': 2480, 'COSY SLIPPER SHOES SMALL  RED': 2481, '4 LILY  BOTANICAL DINNER CANDLES': 2482, 'SET/4 SCENTED CANDLES IN RAMEKINS': 2483, 'APRON MODERN VINTAGE COTTON': 2484, 'FRAPPUCINO SCARF KNITTING KIT': 2485, 'BEAUTY SPEED EXPRESSO CUPS': 2486, 'MA CAMPAGNE 4 DRAWER WALL SHELF': 2487, 'LARGE STRAWBERRY CHOCOLATE CANDLE': 2488, 'ROSE 3 WICK MORRIS BOX CANDLE': 2489, 'SET/20 POSIES PAPER NAPKINS': 2490, 'ROSE 1 WICK MORRIS BOXED CANDLE': 2491, 'WRAP SWEETS LIGHT PINK SMALL BOWL': 2492, 'BUTTERFLY CROCHET FOOD COVER': 2493, 'BLUE BUTTERFLY ON SPRING': 2494, 'HANGING SPRING FLOWER EGG SMALL': 2495, 'TURQ ICE CREAM BUM BAG': 2496, 'DARK PINK FLOCK GLASS CANDLEHOLDER': 2497, 'MAGIC SLATE CIRCUS PARADE': 2498, 'MAGIC SLATE BAKE A CAKE': 2499, 'COSY HOUR CIGAR BOX MATCHES': 2500, 'BLACK FLOWER CANDLE PLATE': 2501, 'YELLOW DRAGONFLY HELICOPTER': 2502, 'BLACK SILOUETTE CANDLE PLATE': 2503, 'PINK CLEAR GLASS CANDLE PLATE': 2504, 'WHITE ROUND PORCELAIN TLIGHT HOLDER': 2505, 'SWEET VALENCIA CANDLE+CUP': 2506, 'EAU DE NILE JEWELLED T-LIGHT HOLDER': 2507, 'HANGING WOOD AND FELT BUTTERFLY': 2508, 'HANGING WOOD AND FELT FLOWER': 2509, 'ART LIGHTS,FUNK MONKEY': 2510, 'SUNSET CHECK HAMMOCK': 2511, 'BUBBLE GUM SCARF KNITTING KIT': 2512, 'DANISH ROSE TRINKET TRAYS': 2513, 'SET OF 3 WICKER BASKET ROSE': 2514, 'FAN BLACK FRAME': 2515, 'ST GEORGE SET OF 10 PARTY LIGHTS': 2516, 'PINK FEATHERS CURTAIN': 2517, 'PINK LARGE JEWELED PHOTOFRAME': 2518, 'BLUE/YELLOW CERAMIC CANDLE HOLDER': 2519, 'GREEN/BLUE CERAMIC CANDLE HOLDER': 2520, 'YELLOW/PINK CERAMIC CANDLE HOLDER': 2521, 'PURPLE/BLUE CERAMIC CANDLE HOLDER': 2522, 'WALL MIRROR , RECT DIAMANTE, PINK/': 2523, 'ETCHED GLASS DROPLET DECORATION': 2524, 'ANTIQUE ALL GLASS CANDLESTICK': 2525, 'CHOCOLATE 1 WICK MORRIS BOX CANDLE': 2526, 'SET/4 SPRING FLOWER DECORATION': 2527, 'STRAWBERRY CAKE TEAPOT': 2528, 'SET/4 RED MINI ROSE CANDLE IN BOWL': 2529, 'ANTIQUE GLASS HEART DECORATION': 2530, 'SET/4 COLOURFUL MIXING BOWLS': 2531, 'BLUE SAVANNAH PICNIC HAMPER FOR 2': 2532, 'WOBBLING METAL CHICKEN EASTER': 2533, 'YELLOW FLOWERS FELT HANDBAG KIT': 2534, 'ASSORTED SHAPES PHOTO CLIP SILVER': 2535, 'ILLUSTRATED CAT BOWL': 2536, 'COW  SOCK PUPPET': 2537, 'PINK PAISLEY SQUARE TISSUE BOX': 2538, 'VINTAGE NOTEBOOK PARIS DAYS': 2539, 'SILVER ROCCOCO CHANDELIER': 2540, 'JARDIN ETCHED GLASS BUTTER DISH': 2541, 'CARRIAGE': 2542, 'BLUE PAINTED KASHMIRI TABLE': 2543, 'BLUE KASHMIRI COFFEE TABLE': 2544, 'PINK KASHMIRI COFFEE TABLE': 2545, 'PINK PAINTED KASHMIRI TABLE': 2546, 'ZINC FOLKART SLEIGH BELLS': 2547, 'NECKLACE+BRACELET SET PINK DAISY': 2548, 'NEW ENGLAND MUG W GIFT BOX': 2549, 'GARDEN PATH SKETCHBOOK': 2550, 'PINK MARSHMALLOW SCARF KNITTING KIT': 2551, 'WAKE UP COCKEREL CALENDAR SIGN': 2552, 'CHERRY BLOSSOM PASSPORT COVER': 2553, 'BLUE CIRCLES DESIGN TEDDY': 2554, 'CHERRY BLOSSOM BATHROOM CABINET': 2555, 'FUSCHIA/GREEN STRIPE WOOLLY BLANKET': 2556, 'RIDGED GLASS T-LIGHT HOLDER': 2557, 'ORANGE VOTIVE CANDLE': 2558, 'STRAWBRY SCENTED VOTIVE CANDLE': 2559, 'JASMINE TEA INCENSE IN TIN': 2560, 'FLOWER FAIRY INCENSE LILY': 2561, 'BLACK NEW BAROQUE FLOCK BOX': 2562, 'ASS FLORAL PRINT SPIRIT LEVEL': 2563, 'SET/3 TALL GLASS CANDLE HOLDER PINK': 2564, 'FUNKY MONKEY MUG': 2565, 'PINK FLUFFY CHRISTMAS DECORATION': 2566, 'PASTEL PINK PHOTO ALBUM': 2567, 'PASTEL BLUE PHOTO ALBUM': 2568, 'ASSTD MULTICOLOUR CIRCLES MUG': 2569, 'COSY HOUR GIANT TUBE MATCHES': 2570, 'VANILLA SCENT CANDLE JEWELLED BOX': 2571, 'POP ART PEN CASE & PENS': 2572, 'PINK MINI STATIONERY SET W CASE': 2573, 'S/4 BLACK MINI ROSE CANDLE IN BOWL': 2574, 'LILY BROOCH AMETHYST COLOUR': 2575, 'GOLD DIAMANTE STAR BROOCH': 2576, 'CRYSTAL DIAMANTE STAR BROOCH': 2577, 'FLOWER BROOCH 4 ASSORTED COLOURS': 2578, 'DIAMANTE BOW BROOCH GREEN COLOUR': 2579, 'PING! MICROWAVE PLATE': 2580, 'HI TEC ALPINE HAND WARMER': 2581, 'FAIRY CAKES GIFT BAG': 2582, 'WHITE VINTAGE CRYSTAL BRACELET': 2583, 'TURQ+RED BOUDICCA LARGE BRACELET': 2584, 'RED BOUDICCA LARGE BRACELET': 2585, 'PINK BOUDICCA LARGE BRACELET': 2586, 'BLUE METAL WALL SHELF': 2587, 'MOCK LOBSTER FRIDGE MAGNET': 2588, 'T-LIGHT HOLDER WHITE LACE': 2589, 'DAISY FOLKART HEART DECORATION': 2590, 'PEACH KNITTED HEN': 2591, 'LA PALMIERA WALL THERMOMETER': 2592, 'WHITE STITCHED CUSHION COVER': 2593, 'BEADED CRYSTAL HEART GREEN SMALL': 2594, 'BLUE RETRO BAR STOOL': 2595, 'SPOTS ON RED BOOKCOVER TAPE': 2596, 'PARTY CONE CHRISTMAS DECORATION': 2597, 'LILAC FLOWER BLOCK TABLE LAMP': 2598, 'WAVELINE SURF IRONING BOARD COVER': 2599, 'FRENCH LATTICE CUSHION COVER': 2600, 'WHITE CHRYSANTHEMUMS ART FLOWER': 2601, 'METAL SIGN HIS DINNER IS SERVED': 2602, 'FELT FARM ANIMAL SHEEP': 2603, 'ASSORTED COLOUR SUCTION CUP HOOK': 2604, 'PINK/YELLOW RABBIT SAT EASTER': 2605, 'GERANIUM FOLKART HEART DECORATION': 2606, 'IVORY LOVE BIRD CANDLE': 2607, 'RED TOP SCANDINAVIAN HEART': 2608, 'MOUSEY LONG LEGS SOFT TOY': 2609, 'MIRRORED WALL ART LADIES': 2610, 'YELLOW/BLUE RETRO RADIO': 2611, 'PINK RETRO BIG FLOWER BAG': 2612, 'GREEN POP ART MAO CUSHION COVER': 2613, 'PINK METAL SWINGING BUNNY': 2614, 'FAIRY CAKE CERAMIC BUTTER DISH': 2615, 'WOVEN CANDY CUSHION COVER': 2616, 'WOVEN ROSE GARDEN CUSHION COVER': 2617, 'CANDY PINK FRENCH BOUDOIR CLOCK': 2618, 'RED ROSE AND LACE C/COVER': 2619, 'SET/6 IVORY BIRD T-LIGHT CANDLES': 2620, 'SET/6 BLACK BIRD T-LIGHT CANDLES': 2621, 'MIRROR MOSAIC T-LIGHT HOLDER ROUND': 2622, 'PINK DIAMANTE PEN IN GIFT BOX': 2623, 'ASS DES PHONE SPONGE CRAFT STICKER': 2624, 'ASSTD DESIGN 3D PAPER STICKERS': 2625, 'SET OF THREE VINTAGE GIFT WRAPS': 2626, 'VIP HOLIDAY PURSE': 2627, 'GOLD  CHERRY LIGHTS': 2628, 'BLACK CHERRY LIGHTS': 2629, 'SMALL WHITE RETROSPOT MUG IN BOX': 2630, 'FLORAL PINK MONSTER': 2631, 'MARAKESH LANTERN SMALL': 2632, 'MURANO STYLE GLASS BRACELET PINK': 2633, 'FELTCRAFT HAIRBANDS PINK + WHITE': 2634, 'MAGIC SLATE BUNNIES AT HOME': 2635, 'CRYSTAL HOOP EARRING FLORAL LEAF': 2636, 'CRYSTAL PAIR HEART HAIR SLIDES': 2637, 'DAISY RING': 2638, 'AMETHYST HOOP EARRING FLORAL LEAF': 2639, 'SILVER/CRYSTAL DROP EARRINGS W LEAF': 2640, 'FLOWER BURST SILVER RING ROSE': 2641, 'FLOWER BURST SILVER RING CRYSTAL': 2642, 'PINK EAU DE COLOGNE BOTTLE': 2643, 'GOLD/AMBER DROP EARRINGS W LEAF': 2644, 'GREEN PAIR HEART HAIR SLIDES': 2645, 'PINK COMBO MINI CRYSTALS NECKLACE': 2646, 'GOLD 2 STRAND NECKLACE-LEAF CHARMS': 2647, 'SILVER FLOWR PINK SHELL NECKLACE': 2648, 'BLUE SHELL+SILVER NECKLACE': 2649, 'PINK/WHITE GLASS DEMI CHOKER': 2650, 'PINK SWEETIE NECKLACE': 2651, 'SILVER 2 STRAND NECKLACE-LEAF CHARM': 2652, 'FLOWER GLASS GARLAND NECKL.36\"BLUE': 2653, 'LONG SILVER NECKLACE PASTEL FLOWER': 2654, 'BAROQUE BUTTERFLY EARRINGS PINK': 2655, 'ASS FLORAL PRINT TORCH': 2656, 'BLUE DRAGONFLY HELICOPTER': 2657, 'GINGHAM HEART WREATH': 2658, 'PINK GINGHAM ROSE CUSHION COVER': 2659, 'ENGLISH ROSE SMALL SCENTED FLOWER': 2660, 'PINK ROSES/GINGHAM PATCH RABBIT 8\"': 2661, 'EASTER BUNNY WITH BASKET ON BACK': 2662, 'YELLOW FELT HANGING HEART W FLOWER': 2663, 'LARGE CHUNKY GLASS ROMAN BOWL': 2664, 'LETTER \"O\" BLING KEY RING': 2665, 'LETTER \"K\" BLING KEY RING': 2666, 'FAIRY CAKE CANDLES': 2667, '3 ROSE MORRIS BOXED CANDLES': 2668, 'VIP LUGGAGE TAG': 2669, 'GOLD FABRIC MIRROR': 2670, 'KEEP OUT GIRLS DOOR HANGER': 2671, 'MULTICOLOUR RABBIT EGG WARMER': 2672, 'MIRRORED WALL ART FOXY': 2673, 'ASSORTED COLOUR METAL CAT': 2674, 'PHOTO CLIP LINE': 2675, 'CHRISTMAS HANGING HEART WITH BELL': 2676, 'ORIGAMI OPIUM INCENSE CONES': 2677, 'ORIGAMI ROSE INCENSE CONES': 2678, 'FLOWER BURST SILVER RING GREEN': 2679, 'ECONOMY PASSPORT COVER': 2680, 'WHITE GLASS TV TRIPLE FRAME': 2681, \"POP'S GREASY SPOON METAL SIGN\": 2682, 'SET OF 4 PASTEL STACKING MUGS': 2683, 'HOME SWEET HOME  BLACKBOARD': 2684, 'SILVER MONTE CARLO HANDBAG': 2685, 'SET/3 RABBITS FLOWER SKIPPPING ROPE': 2686, 'HEARTS PENCIL/RUBBER+5 MINI PENCILS': 2687, 'BROWN FLOWER LIGHTS': 2688, 'FOLKART HEART NAPKIN RINGS': 2689, 'SET OF 36 DOILIES SPACEBOY DESIGN': 2690, 'ASSORTED COLOUR JUMBO PEN': 2691, 'WHITE CANDYSTUFT ARTIFICIAL FLOWER': 2692, 'PURPLE ANEMONE ARTIFICIAL FLOWER': 2693, 'PINK HAWAIIAN PICNIC HAMPER FOR 2': 2694, 'FLYING SAUCER TABLE LIGHT IN WHITE': 2695, 'PACK/12 DECOUPAGE CARD': 2696, 'VINTAGE ROSE BEAD BRACELET BLUE': 2697, 'SMALL ROUND CUT GLASS CANDLESTICK': 2698, 'GLASS CHALICE BLUE  LARGE': 2699, 'KNITTED POM POM HOT WATER BOTTLE': 2700, 'ENGLISH ROSE PHOTO FRAME': 2701, 'FAIRY CAKES  WALL THERMOMETER': 2702, 'VINTAGE PINK DECORATIVE PARASOL': 2703, 'CUT GLASS HEXAGON T-LIGHT HOLDER': 2704, 'SMALL MARAKESH LANTERN ON STICK': 2705, 'CANDY SPOT EGG WARMER RABBIT': 2706, 'FOLKART HEART CHRISTMAS DECORATIONS': 2707, 'VICTORIAN METAL POSTCARD CHRISTMAS': 2708, 'SILVER VANILLA  FLOWER CANDLE POT': 2709, 'DIAMANTE BOW BROOCH BLACK COLOUR': 2710, 'MAGIC SLATE LEAP FROG': 2711, 'WHITE BAMBOO RIBS LAMPSHADE': 2712, 'TRANQUILITY MASALA INCENSE': 2713, 'LOVE POTION MASALA INCENSE': 2714, 'IVORY ROSE LAMPSHADE': 2715, 'CUBIC MUG FLOCK PINK ON BROWN': 2716, 'CUBIC MUG FLOCK BLUE ON BROWN': 2717, 'PINK FLOWER HANGING HEART': 2718, 'PINK FOXGLOVE ARTIIFCIAL FLOWER': 2719, 'WHITE FOXGLOVE ARTIIFCIAL FLOWER': 2720, 'PINK HYDRANGEA ART FLOWER': 2721, 'WHITE HYDRANGEA ART FLOWER': 2722, 'FRENCH ENAMEL CANDLEHOLDER': 2723, 'BLUE TRAVEL FIRST AID KIT': 2724, 'SILVER LARIAT BLACK STONE EARRINGS': 2725, 'IVORY SHELL HEART NECKLACE': 2726, 'ANT SILVER LIME GREEN BOUDICCA RING': 2727, 'DAISY HAIR BAND': 2728, 'ANT SILVER FUSCHIA BOUDICCA RING': 2729, 'ANT SILVER PURPLE BOUDICCA RING': 2730, \"FLOWER BURST SILVER RING MIDN'T BLU\": 2731, 'VINTAGE ROSE BEAD BRACELET RASPBERR': 2732, 'VINTAGE ROSE BEAD BRACELET BLACK': 2733, 'BLUE CUSHION COVER WITH FLOWER': 2734, 'FRENCH CHATEAU LARGE FRUIT BOWL': 2735, 'BLACK CANDELABRA T-LIGHT HOLDER': 2736, 'WRAP WEDDING DAY': 2737, 'VINTAGE BEAD COSMETIC BAG': 2738, 'BLUE TILED TRAY': 2739, 'CANDY SPOT BREAD BASKETS': 2740, 'SMALL CHUNKY GLASS ROMAN  BOWL': 2741, 'ZINC HEART LATTICE DOUBLE PLANTER': 2742, 'JARDIN ETCHED GLASS SMALL BELL JAR': 2743, 'JARDIN ETCHED GLASS LARGE BELL JAR': 2744, 'WHITE WITH METAL BAG CHARM': 2745, 'GREY ACRYLIC FACETED BANGLE': 2746, 'AMETHYST DIAMANTE EXPANDABLE RING': 2747, 'CRYSTAL LARGE JEWELLED PHOTO FRAME': 2748, 'SMALL MARAKESH METAL  LANTERN': 2749, 'GOLD WINE GLASS': 2750, 'SET OF 3 BIRD L.BLUE FEATHER': 2751, 'SQUARE MIRROR CURTAIN': 2752, 'ASSORTED CIRCULAR MOBILE': 2753, 'PINK/YELLOW PATCH CUSHION COVER': 2754, 'FLORAL BLUE MONSTER': 2755, 'PIECE OF CAMO STATIONERY SET': 2756, 'FLAT PALM T-LIGHT HOLDER': 2757, 'BEECH WOOD P/FRAME': 2758, 'PINK PILLAR CANDLE SILVER FLOCK': 2759, 'CANDY SPOT HAND BAG': 2760, 'ASS WINDPROOF MARIJUANA LIGHTERS': 2761, 'COCKLE SHELL DISH': 2762, 'HANGING BAUBLE T-LIGHT HOLDER LARGE': 2763, 'CREAM C/COVER W YELLOW/GREEN FLOWER': 2764, 'GREEN ROSE QUILT': 2765, 'TINY CRYSTAL BRACELET RED': 2766, 'BLUE MURANO TWIST BRACELET': 2767, 'PURPLE GEMSTONE BRACELET': 2768, 'ANT SILVER TURQUOISE BOUDICCA RING': 2769, 'AMBER CHUNKY BEAD BRACELET W STRAP': 2770, 'CROCHET ROSE DES CLOTHES HANGER': 2771, 'WHITE ROSE C/COVER': 2772, 'GOLD FLOWER CUSHION COVER': 2773, 'PSYCHEDELIC TILE HOOK': 2774, 'PINK/BLUE STRING CURTAIN': 2775, 'CANDY POP CHUNKY KNITTED THROW': 2776, 'ORIGAMI SANDLEWOOD INCENSE CONES': 2777, 'IVORY HANGING DECORATION  RABBIT': 2778, 'COGNAC AUX OEUFS METAL 1 HOOK': 2779, 'QUEEN OF THE SKIES HOLIDAY PURSE': 2780, 'COLOURFUL FLOWER FRUIT BOWL': 2781, 'BLACK STITCHED WALL CLOCK': 2782, 'RED VICTORIAN FABRIC HEART BOX': 2783, 'CHRISTMAS PUDDING TRINKET POT': 2784, 'GREEN BITTY LIGHT CHAIN': 2785, 'PINK/PURPLE CIRCLE CURTAIN': 2786, 'LION SOCK PUPPET': 2787, 'ASSORTED INCENSE PACK': 2788, 'PINK  HONEYCOMB PAPER BALL': 2789, 'DOLPHIN WINDMILL': 2790, 'BLUE FLORIBUNDA EGG WARMER': 2791, 'BLING KEY RING STAND': 2792, 'BLACK MEDIUM GLASS CAKE STAND': 2793, 'ENGLISH ROSE HOT WATER BOTTLE': 2794, 'BLUE PILLAR CANDLE SILVER FLOCK': 2795, 'BLACK PILLAR CANDLE SILVER FLOCK': 2796, 'BLUE SHARK HELICOPTER': 2797, 'REDWHITE STRIPE SCANDINAVIAN HEART': 2798, 'INCENSE BAZAAR CANNABIS': 2799, 'TEATIME PENCIL WITH RUBBER': 2800, 'PINK DRESS JEWELLERY STAND': 2801, 'OYSTER TRINKET BOX': 2802, 'BLUE FLOWER T-LIGHT HOLDER': 2803, 'F.FAIRY S/3 CANDLE/GLASS,LAVENDER': 2804, 'VINTAGE WOODEN PLATE RACK': 2805, 'WOOD AND GLASS MEDICINE CABINET': 2806, 'PINK BREAKFAST CUP AND SAUCER': 2807, 'S/3 ROSE GARDEN SCENT SQU CANDLE': 2808, 'S/3 FRENCH VANILLA SQU CANDLE': 2809, 'S/3 ENGLISH LAVENDER SQU CANDLE': 2810, 'NINJA RABBIT BLACK': 2811, \"BLUE BABY BOY'S MEMORY BOX\": 2812, 'SET/3 RED GINGHAM ROSE STORAGE BOX': 2813, 'BLUE TALL PORCELAIN T-LIGHT HOLDER': 2814, 'SILVER GLASS T-LIGHT SET': 2815, 'BUBBLE GUM CHUNKY KNITTED THROW': 2816, 'BATHROOM SCALES FOOTPRINTS IN SAND': 2817, 'S/6 PAPER BOXES CURIOUS IMAGES': 2818, 'PINK BUTTERFLY WASHBAG': 2819, 'SCENTED VELVET LOUNGE CANDLE': 2820, 'SILVER GLITTER FLOWER VOTIVE HOLDER': 2821, 'SMALL ZINC/GLASS CANDLEHOLDER': 2822, 'F FAIRY POTPOURRI CUSHIONS LAVENDER': 2823, 'PINK FEATHER CHRISTMAS DECORATION': 2824, 'S/3 FLWR FAIRY SUMMER CANDLES': 2825, 'BROWN FURRY HOT WATER BOTTLE': 2826, 'MIRRORED WALL ART POPPIES': 2827, 'MIRRORED WALL ART SPLODGES': 2828, 'JAZZ HEARTS MAGNETIC MEMO PAD': 2829, 'GREEN FERN POCKET BOOK': 2830, 'FLOWER FAIRY INCENSE ROSE': 2831, 'TEATIME PENCIL W STAMP ASST': 2832, 'TRANSPARENT ACRYLIC TAPE DISPENSER': 2833, 'SMALL FAIRY CAKE FRIDGE MAGNETS': 2834, 'S/5 MINI ICE CREAM FRIDGE MAGNETS': 2835, 'ENGLISH ROSE TORCH': 2836, 'SET 5 MINI CHOCOLATE FRIDGE MAGNETS': 2837, 'BLUE CHERRY BLOSSOM CUP & SAUCER': 2838, 'LARGE GLASS SUNDAE DISH CLEAR': 2839, 'BLACK BIRD GARDEN DESIGN MUG': 2840, 'ORIGAMI VANILLA INCENSE+FLOWER': 2841, 'BLACK LOVE BIRD CANDLE': 2842, 'BLACK ORANGE SQUEEZER': 2843, 'WHITE BITTY LIGHT CHAIN': 2844, 'ORANGE COCKTAIL GLASS LAMP': 2845, '3 WHITE CHOC MORRIS BOXED CANDLES': 2846, 'STAR PORTABLE TABLE LIGHT': 2847, 'SEAGRASS S/2 CORNER LAUNDRY': 2848, 'S/4 IVORY MINI ROSE CANDLE IN BOWL': 2849, 'CERAMIC HEART CAKE MONEY BANK': 2850, 'ORANGE FELT VASE + FLOWERS': 2851, '15 PINK FLUFFY CHICKS IN BOX': 2852, 'PURPLE ACRYLIC FACETED BANGLE': 2853, 'RED   ACRYLIC FACETED BANGLE': 2854, 'SILVER BRACELET W PASTEL FLOWER': 2855, 'ROUND ARTICULATED PINK CLOCK W/SUCK': 2856, 'FLOWER PURPLE CLOCK W/SUCKER': 2857, 'ROUND ARTICULATED BLUE CLOCK W/SUCK': 2858, 'CLEAR STATIONERY BOX SET': 2859, 'MIRRORED WALL ART TABLE LAMP': 2860, 'VINTAGE NOTEBOOK BEAUTY GIRL': 2861, 'AMETHYST CHUNKY BEAD BRACELET W STR': 2862, 'GREEN WITH METAL BAG CHARM': 2863, 'IVORY GOLD METAL BAG CHARM': 2864, 'ZINC POLICE BOX LANTERN': 2865, 'PIG MUG IN TWO COLOUR DESIGNS': 2866, 'NEW BAROQUE IVORY CUSHION COVER': 2867, 'MIRRORED WALL ART GENTS': 2868, 'GOLD STANDING GNOME': 2869, 'SILVER STANDING GNOME': 2870, 'GOLD FISHING GNOME': 2871, 'GIANT BLACK SUNGLASSES': 2872, 'VINTAGE NOTEBOOK RED ROSE': 2873, 'PINK CANDYSTUFT ARTIFICIAL FLOWER': 2874, 'GOLD PHOTO FRAME': 2875, 'PASTEL COLOUR HONEYCOMB FAN': 2876, 'CRYSTAL STUD EARRINGS ASSORTED COL': 2877, 'DIAMANTE BOW BROOCH RED COLOUR': 2878, 'GREEN/BLUE FLOWER DESIGN BIG MUG': 2879, 'LITTLE GREEN MONSTER SOFT TOY': 2880, 'SIX STRING SCANDINAVIAN HEART DECS': 2881, 'PINK KNITTED COW STUFFED TOY': 2882, 'PINK DOLLY HAIR CLIPS': 2883, 'BLUE HIBISCUS  HAIR CLIP': 2884, 'WHITE/PINK CHICK DECORATION': 2885, 'PINK ROSE PICNIC RUG': 2886, 'ENGLISH ROSE SCENTED HANGING FLOWER': 2887, 'FRENCH STYLE EMBOSSED HEART CABINET': 2888, 'ASSORTED TUTTI FRUTTI PHOTO FRAME': 2889, 'HEART SHAPE BUTTON FRAME': 2890, 'LETTER \"M\" BLING KEY RING': 2891, 'GREEN WIRE STANDING CANDLE HOLDER': 2892, 'COLUMBIAN CANDLE RECTANGLE': 2893, 'POCKET MIRROR \"GLAMOROUS\"': 2894, 'BATHROOM SCALES, TROPICAL BEACH': 2895, 'RED RETRO BAR STOOL': 2896, 'GREETING CARD, THE BLACK CAT': 2897, 'CHUNKY SILVER NECKLACE PASTEL FLOWE': 2898, 'FUNKY MONKEY GIFT BAG SMALL': 2899, 'MEDIUM PINK BUDDHA HEAD': 2900, 'SMOKEY GREY COLOUR D.O.F. GLASS': 2901, 'LARGE ROUND CUTGLASS CANDLESTICK': 2902, 'NEW BAROQUE BLACK PHOTO ALBUM': 2903, 'CHRISTMAS TREE STAR DECORATION': 2904, 'WHITE CHRISTMAS TREE DECORATION': 2905, 'WHITE CHRISTMAS STAR DECORATION': 2906, 'WHITE ADVENT CANDLE': 2907, 'GREEN ROUND COMPACT MIRROR': 2908, 'SET OF 4 DIAMOND NAPKIN RINGS': 2909, 'LITTLE FLOWER SHOPPER BAG': 2910, 'ASSTD HEARTS DESIGN MUGS': 2911, 'PINK OWL DECORATION': 2912, 'BLUE OWL DECORATION': 2913, 'BLUE CLIMBING HYDRANGA ART FLOWER': 2914, 'BAG FOR CHILDREN VINTAGE PINK': 2915, 'BAG FOR CHILDREN VINTAGE BLUE': 2916, 'RED WALL CLOCK': 2917, 'IVORY WALL CLOCK': 2918, 'STRING OF 20 ROSE LIGHTS': 2919, '6 HOOK JEWELLERY STAND BLACK DRESS': 2920, 'LARGE PINK PEONY FOLDING STOOL': 2921, 'MULTICOLOUR DOTS PLATE': 2922, 'DOTS IRONING BOARD COVER': 2923, 'CHARLIE AND LOLA TABLE TINS': 2924, 'BLACK CHRISTMAS TREE 60CM': 2925, 'CONDIMENT TRAY 4 BOWLS AND 4 SPOONS': 2926, 'SILVER OVAL SHAPE TRINKET BOX': 2927, 'PINK JEWELLED MIRROR TRINKET TRAY': 2928, \"PINK B'FLY C/COVER W BOBBLES\": 2929, 'SILVER T-LIGHT SETTING': 2930, 'PINK BAROQUE FLOCK CANDLE HOLDER': 2931, 'PINK SMALL JEWELLED PHOTOFRAME': 2932, 'VINTAGE KEEPSAKE BOX TRAVELOGUE': 2933, 'LARGE ZINC/GLASS CANDLEHOLDER': 2934, 'PURPLE LEAVES AND BEADS PHONE CHAR': 2935, 'GREEN MURANO TWIST BRACELET': 2936, 'TEAL/FUSCHIA COL BEAD NECKLACE': 2937, 'SHOPPING BAG DOORSTOP': 2938, 'DOTTY PLACEMATS': 2939, 'CROCHET BEAR RED/BLUE  KEYRING': 2940, 'DOOR MAT KISS MY.......': 2941, 'RED HANGING METAL STAR TLIGHT HLDR': 2942, 'SET OF MEADOW  FLOWER STICKERS': 2943, 'MIRRORED WALL ART STARS': 2944, 'LETTER \"P\" BLING KEY RING': 2945, 'LETTER \"S\" BLING KEY RING': 2946, 'LETTER \"T\" BLING KEY RING': 2947, 'LETTER \"C\" BLING KEY RING': 2948, 'LETTER \"B\" BLING KEY RING': 2949, 'LETTER \"G\" BLING KEY RING': 2950, 'LETTER \"J\" BLING KEY RING': 2951, 'LETTER \"L\" BLING KEY RING': 2952, 'VINTAGE PHOTO ALBUM PARIS DAYS': 2953, 'BLUE SQUARE COMPACT MIRROR': 2954, 'ORIGAMI LAVENDER INCENSE IN TUBE': 2955, 'ORIGAMI SANDLEWOOD INCENSE/CAND SET': 2956, 'ORIGAMI JASMINE INCENSE/CANDLE SET': 2957, 'ORIGAMI VANILLA INCENSE/CANDLE SET': 2958, 'FREESTYLE CANVAS ART PICTURE': 2959, 'LA STREGA CANVAS PICTURE': 2960, 'PINK STRING CURTAIN WITH POLE': 2961, 'SMALL KITCHEN FLOWER POTS PLAQUE': 2962, 'BLACK PHOTO ALBUM': 2963, 'CINNAMON SCENTED VOTIVE CANDLE': 2964, 'ASSORTED MONKEY SUCTION CUP HOOK': 2965, 'BAG OF SILVER STONES': 2966, 'DEEP BLUE GLASS GEMS IN BAG': 2967, 'MIRROR LOVE BIRD T-LIGHT HOLDER': 2968, 'BLACK LOVE BIRD T-LIGHT HOLDER': 2969, 'CLEAR LOVE BIRD T-LIGHT HOLDER': 2970, 'LAVENDER INCENSE 40 CONES IN TIN': 2971, 'PERIWINKLE T-LIGHT HOLDER': 2972, 'CREAM CLIMBING HYDRANGA ART FLOWER': 2973, 'PORCELAIN BUDAH INCENSE HOLDER': 2974, 'BLACK SQUARE TABLE CLOCK': 2975, 'FLOWER GLASS GARLD NECKL36\"AMETHYST': 2976, 'FLOWER GLASS GARLAND NECKL.36\"GREEN': 2977, 'FLOWER GARLAND NECKLACE RED': 2978, 'ORIGAMI SANDLEWOOD INCENSE IN TUBE': 2979, 'PINK FELT HANGING HEART W FLOWER': 2980, 'PAIR PINK/BLACK COATHANGERS': 2981, 'SCOTTS ROSES TILE COASTER': 2982, 'GREETING CARD,SQUARE, DOUGHNUTS': 2983, 'PREMIUM CHURCH CANDLE': 2984, 'SMALL SQUARE CUT GLASS CANDLESTICK': 2985, 'AMBER GLASS TASSLE BAG CHARM': 2986, 'TURQUOISE GLASS TASSLE BAG CHARM': 2987, 'PURPLE GLASS TASSLE BAG CHARM': 2988, 'GOLD JEWELERY BOX': 2989, 'GLITTER SNOW PEAR TREE DECORATION': 2990, 'SET OF 3 WICKER BASKET TEA AND CAKE': 2991, 'DECORATIVE HANGING SHELVING UNIT': 2992, 'S/3 FLWR FAIRY LILLY CANDLES': 2993, 'MARAKESH LANTERN LARGE': 2994, 'FRESHWATER PEARL BRACELET PINK': 2995, 'FRESHWATER PEARL BRACELET IVORY': 2996, 'GLASS AND PAINTED BEADS BRACELET TO': 2997, 'GLASS AND BEADS BRACELET IVORY': 2998, 'PINK EASTER HENS+FLOWER': 2999, 'HAND TOWEL PALE BLUE W FLOWERS': 3000, 'HAND TOWEL PINK FLOWER AND DAISY': 3001, 'PAINTED METAL HEART WITH HOLLY BELL': 3002, \"PINK BABY GIRL'S MEMORY BOX\": 3003, 'FUSCHIA FLOWER PURSE WITH BEADS': 3004, 'VINTAGE NOTEBOOK PINK FLOWER': 3005, 'VINTAGE NOTEBOOK TRAVELOGUE': 3006, '15CM CHRISTMAS GLASS BALL 20 LIGHTS': 3007, 'TUMBLER, BAROQUE': 3008, 'BLUE NEW BAROQUE FLOCK CANDLESTICK': 3009, 'BLUE KASHMIRI BOXED MIRROR': 3010, 'PINK KASHMIRI BOXED MIRROR': 3011, 'ST TROPEZ NECKLACE': 3012, 'GREEN HEART OF GLASS BRACELET': 3013, 'TURQUOISE HEART OF GLASS BRACELET': 3014, 'PINK HEART OF GLASS BRACELET': 3015, 'FLOWER GLASS GARLD NECKL36\"TURQUOIS': 3016, 'GREEN MURANO TWIST NECKLACE': 3017, 'BLUE MURANO TWIST NECKLACE': 3018, 'PINK MURANO TWIST NECKLACE': 3019, 'ROSES BLUE BASE CUSHION COVER': 3020, 'HEN HOUSE W FAMILY IN BARN & NEST': 3021, 'NEW ENGLAND PLACEMATS': 3022, 'LIGHTHOUSE PRINTED METAL SIGN': 3023, 'LEOPARD PRINT HOT WATER BOTTLE': 3024, 'RED SHARK HELICOPTER': 3025, 'PINK SQUARE TABLE CLOCK': 3026, 'WHITE SQUARE TABLE CLOCK': 3027, 'WHITE STITCHED WALL CLOCK': 3028, 'RED DRAGONFLY HELICOPTER': 3029, 'SET OF 4 NAPKIN CHARMS 3 KEYS': 3030, 'FLOWERS AND BIRDS WALL PLAQUE': 3031, 'WAKE UP COCKEREL TILE COASTER': 3032, 'FLOWERS TILE HOOK': 3033, 'PINK DOG CANNISTER': 3034, 'KNITTED RABBIT DOLL': 3035, 'SET OF PICTURE FRAME  STICKERS': 3036, 'JARDIN ETCHED GLASS CANDLEHLDR LONG': 3037, 'GREEN CHRISTMAS TREE CARD HOLDER': 3038, 'CAPIZ CHANDELIER': 3039, 'BLACK+WHITE NECKLACE W TASSEL': 3040, 'PINK VINTAGE VICTORIAN EARRINGS': 3041, 'SILVER BOOK MARK WITH BEADS': 3042, 'VINTAGE BEAD FILLED PINK CUSHION': 3043, 'S/6 SEW ON CROCHET FLOWERS': 3044, 'TIGRIS EYE CHUNKY CHARM BRACELET': 3045, 'PINK CRYSTAL GUITAR PHONE CHARM': 3046, 'RUBY GLASS CLUSTER BRACELET': 3047, 'GLASS BEAD HOOP EARRINGS GREEN': 3048, 'GLASS BEAD HOOP EARRINGS MONTANA': 3049, 'HAPPY BIRTHDAY GINGER CAT CARD': 3050, 'PINK CRYSTAL SKULL PHONE CHARM': 3051, 'CRYSTAL CZECH CROSS PHONE CHARM': 3052, 'GREEN GLASS TASSLE BAG CHARM': 3053, 'PURPLE TINT ACRYLIC FLOWER VASE': 3054, 'SILVER CHRISTMAS TREE BAUBLE STAND': 3055, 'LETTER \"D\" BLING KEY RING': 3056, 'DISCO BALL CHRISTMAS DECORATION': 3057, 'BEADED CRYSTAL HEART GREEN LARGE': 3058, 'SILVER HEART COMPACT MIRROR': 3059, 'LARGE GREEN PEONY FOLDING STOOL': 3060, 'WHITE SKULL HOT WATER BOTTLE': 3061, 'SET/4 DAISY MIRROR MAGNETS': 3062, 'GREEN  DIAMANTE PEN IN GIFT BOX': 3063, 'SILVER FABRIC MIRROR': 3064, 'LILAC DIAMANTE PEN IN GIFT BOX': 3065, 'BLACK MINI TAPE MEASURE': 3066, 'MEDINA STAMPED METAL STOOL': 3067, 'LETTER \"Z\" BLING KEY RING': 3068, 'RIDGED GLASS FINGER BOWL': 3069, 'LETTER \"H\" BLING KEY RING': 3070, 'LETTER \"N\" BLING KEY RING': 3071, 'TIN CAN HOUSEKEEPING DESIGN': 3072, 'PINK HEARTS LIGHT CHAIN': 3073, \"SCOTTIES DESIGN CHILD'S OVERALL\": 3074, 'WOODEN BOX ADVENT CALENDAR': 3075, 'PINK CHERRY BLOSSOM CUP & SAUCER': 3076, 'DANISH ROSE BEDSIDE CABINET': 3077, 'MOROCCAN BEATEN METAL DISH LARGE': 3078, 'FOLKART ZINC CLIP ON ANGEL WINGS': 3079, 'A4 WALL TIDY RED FLOWERS': 3080, 'SWIRLY CIRCULAR RUBBERS IN BAG': 3081, 'ELEPHANT CLIP W SUCTION CUP': 3082, 'PINK FLOWERS CHILDS UMBRELLA': 3083, 'WHITE SATIN DRESS JEWEL STAND': 3084, 'ANT COPPER PINK BOUDICCA BRACELET': 3085, 'PINK TALL PORCELAIN T-LIGHT HOLDER': 3086, 'FLOWERS TILE COASTER': 3087, 'ANT WHITE SWEETHEART TABLE W 3 DRAW': 3088, 'HANGING BAUBLE T-LIGHT HOLDER SMALL': 3089, 'FLOWER GLASS GARLAND NECKL.36\"BLACK': 3090, 'ORANGE/FUSCHIA STONES NECKLACE': 3091, 'AMBER CHUNKY GLASS+BEAD NECKLACE': 3092, 'PURPLE CHUNKY GLASS+BEAD NECKLACE': 3093, 'SET OF 4 GREEN CAROUSEL COASTERS': 3094, 'CAROUSEL PLACEMATS': 3095, 'MURANO STYLE GLASS BRACELET GOLD': 3096, 'FIRE POLISHED GLASS BRACELET MONTAN': 3097, 'FIRE POLISHED GLASS BRACELET RED': 3098, 'FIRE POLISHED GLASS BRACELET GREEN': 3099, 'WHITE/PINK MINI CRYSTALS NECKLACE': 3100, 'CLEAR ACRYLIC FACETED BANGLE': 3101, 'ZINC HEART LATTICE CHARGER SMALL': 3102, 'RIDGED GLASS PENDANT LAMPSHADE': 3103, 'POP ART PUSH DOWN RUBBER': 3104, 'HAPPY BIRTHDAY CARD STRIPEY TEDDY': 3105, 'STRAWBERY SWIRL FLARE CANDLE': 3106, \"BLACK SIL'T SQU CANDLE PLATE\": 3107, 'GOLD COSMETICS BAG WITH BUTTERFLY': 3108, 'GOLD COSMETIC BAG PINK STAR': 3109, 'PINK CAT BOWL': 3110, 'PINK DOG BOWL': 3111, 'JAZZ HEARTS SPIRAL NOTEPAD': 3112, 'JADE GREEN ENAMEL HAIR COMB': 3113, 'BLUE CHENILLE SHAGGY CUSHION COVER': 3114, 'DECORATIVE NET CANOPY LEOPARD': 3115, 'GREEN CHENILLE SHAGGY RUG': 3116, 'CREAM CUSHION COVER WITH FLOWERS': 3117, 'PINK/BLUE DISC/MIRROR STRING': 3118, 'HAND OPEN SHAPE BLACK': 3119, 'CUBIC MUG TEATIME CAKES': 3120, 'GLASS SPHERE CANDLE STAND LARGE': 3121, 'POTTING SHED SEED TIN': 3122, 'WHITE HAND TOWEL WITH BUTTERFLY': 3123, 'MIRROR MOSAIC GOBLET CANDLE HOLDER': 3124, 'MIDNIGHT BLUE VINTAGE EARRINGS': 3125, 'GREEN VINTAGE EARRINGS': 3126, 'PURPLE VINTAGE EARRINGS': 3127, 'JADE DROP EARRINGS W FILIGREE': 3128, 'ANTIQUE OLIVE GREEN FLOWER EARRINGS': 3129, 'ANTIQUE MID BLUE FLOWER EARRINGS': 3130, 'FILIGREE DIAMANTE EARRINGS': 3131, 'FILIGREE DIAMANTE CHAIN': 3132, 'MAGIC SLATE GO TO THE FAIR': 3133, 'CD WALL TIDY RED FLOWERS': 3134, 'BLUE DAISY MOBILE': 3135, 'CARD CAT AND TREE': 3136, 'TINY CRYSTAL BRACELET GREEN': 3137, 'TINY CRYSTAL BRACELET BLUE': 3138, 'MURANO STYLE GLASS BRACELET RED': 3139, 'GLASS BEAD HOOP NECKLACE BLACK': 3140, 'WHITE VINT ART DECO CRYSTAL NECKLAC': 3141, 'MONTANA DIAMOND CLUSTER NECKLACE': 3142, 'AMBER GLASS/SHELL/PEARL NECKLACE': 3143, 'DANISH ROSE FOLDING CHAIR': 3144, 'WHITE BELL HONEYCOMB PAPER': 3145, 'BLACK GEMSTONE BRACELET': 3146, 'BLUE BLOSSOM HAIR CLIP': 3147, 'NECKLACE+BRACELET SET PINK BLOSSOM': 3148, 'NECKLACE+BRACELET SET BLUE BLOSSOM': 3149, 'RATTLE SNAKE EGGS': 3150, 'PAINTED LIGHTBULB STAR+ MOON': 3151, 'BLUE FELT HANGING HEART W FLOWER': 3152, 'LETTER \"V\" BLING KEY RING': 3153, 'PINK CHICK EGG WARMER + EGG CUP': 3154, 'TRELLIS FLOWER CHOPSTICKS SET/5': 3155, 'MAXWELL 2 TONE PINK 60 PAGE PHOTO A': 3156, 'CRYSTAL STUD EARRINGS CLEAR DISPLAY': 3157, 'S/4 ICON COASTER,ELVIS LIVES': 3158, 'BLUE STAR BLOCK TABLE LAMP': 3159, 'RED PURSE WITH PINK HEART': 3160, 'ORIGAMI OPIUM INCENSE/CANDLE SET': 3161, 'VINTAGE BEAD PINK EVENING BAG': 3162, 'BLOKEY SILVER TOOL SET': 3163, 'ANT COPPER LIME BOUDICCA BRACELET': 3164, 'SILVER FINCH DECORATION': 3165, 'SKY BLUE COLOUR GLASS GEMS IN BAG': 3166, 'SET Of 6 SOLDIER SKITTLES': 3167, 'SPOTTY COCKEREL DOORSTOP': 3168, 'ASS COLOUR GLOWING TIARAS': 3169, 'LARGE ENGLISH ARBORETUM': 3170, 'S/3 FLWR FAIRY ROSE CANDLES': 3171, 'PINK YELLOW PATCH CUSHION COVER': 3172, 'TINY CRYSTALS BRACELET BLACK': 3173, 'PAINTED SEA SHELL METAL WINDCHIME': 3174, 'CARNIVAL BRACELET': 3175, 'BLUE BREAKFAST CUP AND SAUCER': 3176, 'RETRO LONGBOARD IRONING BOARD COVER': 3177, 'CUTE BIRD CEATURE SCREEN': 3178, 'S/3 TEAR DROP CUT GLASS DECORATION': 3179, 'CANDY SPOT CUSHION COVER': 3180, 'GOLD WASHBAG': 3181, 'SET/4 BLACK  BAROQUE FLOCK COASTER': 3182, 'VINTAGE NOTEBOOK FRENCH LETTER': 3183, 'YELLOW BREAKFAST CUP AND SAUCER': 3184, 'SILVER WASHBAG': 3185, 'CUPID SCENTED CANDLE IN GLASS': 3186, 'SQUARE METAL CANDLEHOLDER BASE': 3187, 'NEW BAROQUE BLACK BOXES': 3188, 'FOUR PICTURE WHITE GLASS FRAME': 3189, 'BEECH WOOD PHOTO FRAME': 3190, 'CHRISTMAS TREE T-LIGHT HOLDER': 3191, 'GREEN WIRE GOBLET CANDLEHOLDER': 3192, 'SCULPTED ROUND IVORY CANDLE': 3193, 'S/4 FESTIVE GREEN DINNER CANDLES': 3194, 'SMALL WHITE/PINK ROSE ART FLOWER': 3195, 'SILVER DISCO HANDBAG': 3196, 'SMALL FOLKART CHRISTMAS TREE DEC': 3197, 'ASS COL CIRCLE MOBILE': 3198, 'YELLOW PINK FLOWER DESIGN BIG BOWL': 3199, 'SILVER LOOKING MIRROR': 3200, 'YELLOW/PINK FLOWER DESIGN BIG MUG': 3201, 'BLUE/YELLOW FLOWER DESIGN BIG MUG': 3202, 'WRAP COWBOYS': 3203, 'SANDALWOOD INCENSE IN TIN': 3204, 'BLUE HEART COMPACT MIRROR': 3205, 'PINK SQUARE COMPACT MIRROR': 3206, 'S/3 POT POURI CUSHIONS BLUE COLOURS': 3207, 'PINK GLASS COCKTAIL LAMP': 3208, 'FEATHER HEART LIGHTS': 3209, 'GREEN CHENILLE SHAGGY C/COVER': 3210, 'LA PALMIERA METAL SIGN CALENDAR': 3211, 'MIRRORED WALL ART SNOWFLAKES': 3212, 'YELLOW + BROWN BEAR FELT PURSE KIT': 3213, 'YELLOW PURPLE DAISY FELT PURSE KIT': 3214, 'HEXAGONAL CRYSTAL PERFUME BOTTLE': 3215, 'ORIGAMI JASMINE INCENSE+FLOWER': 3216, 'ORIGAMI SANDLEWOOD INCENSE+FLOWER': 3217, 'ORIGAMI LAVENDER INCENSE/CANDL SET': 3218, 'GREETING CARD, STICKY GORDON': 3219, 'S/4 FESTIVE RED DINNER CANDLES': 3220, 'STAR  T-LIGHT HOLDER': 3221, 'S/4 BLACK DISCO PARTITION PANEL': 3222, 'CERAMIC BIRDHOUSE BUTTERFLY LARGE': 3223, 'CERAMIC CAKE TEAPOT WITH CHERRY': 3224, 'F.FAIRY S/3 SML CANDLE, ROSE': 3225, 'ORNATE EDWARDIAN CANDLE HOLDER': 3226, 'S/4 BLACK LOVEBIRD COASTERS': 3227, 'WOODEN CHRISTMAS TREE 3 HANGING': 3228, 'UNION JACK GUNS & ROSES  DOORMAT': 3229, 'PINK MINI TAPE MEASURE': 3230, 'TIN CAN CONFECTIONERY DESIGN': 3231, 'FLAMES SUNGLASSES PINK LENSES': 3232, 'SILVER M.O.P ORBIT DROP EARRINGS': 3233, 'FRESHWATER PEARL BRACELET GOLD': 3234, 'BROWN KUKUI COCONUT SEED NECKLACE': 3235, 'RED KUKUI COCONUT SEED NECKLACE': 3236, 'WHITE ROSEBUD  PEARL EARRINGS': 3237, 'PINK ROSEBUD PEARL EARRINGS': 3238, 'GREEN CRYSTAL DROP EARRINGS': 3239, 'WHITE  ROSEBUD PEARL BRACELET': 3240, 'LARGE BLUE PROVENCAL CERAMIC BALL': 3241, 'PINK ROSEBUD PEARL BRACELET': 3242, 'DIAMANTE HAIR GRIP PACK/2 PERIDOT': 3243, 'DIAMANTE HAIR GRIP PACK/2 LT ROSE': 3244, 'LETTER \"I\" BLING KEY RING': 3245, 'GOTHIC CARRIAGE LANTERN': 3246, 'SNOWFLAKE PORTABLE TABLE LIGHT': 3247, 'GREEN STONE/CRYSTAL EARRINGS': 3248, 'WHITE STONE/CRYSTAL EARRINGS': 3249, 'BLUE BAROQUE FLOCK CANDLE HOLDER': 3250, 'BLUE/WHITE RIBBED MELAMINE JUG': 3251, 'VINTAGE METAL CAKE STAND CREAM': 3252, 'COPPER AND BRASS BAG CHARM': 3253, 'SET/6 GREEN SPRING  PAPER PLATE': 3254, 'BLUE NETTING STORAGE HANGER': 3255, 'BIRDCAGE DECORATION MAGIC GARDEN': 3256, 'SET/3 COLOUR PAINTED KASHMIRI STOOL': 3257, 'DROP DIAMANTE EARRINGS CRYSTAL': 3258, 'BLACK VINTAGE  CRYSTAL EARRINGS': 3259, 'BLUE  VOILE LAMPSHADE': 3260, 'ASSORTED DESIGN FLOWER MUGS': 3261, 'PINK/GREEN FLOWER DESIGN BIG MUG': 3262, 'PINK GLASS CHUNKY CHARM BRACELET': 3263, \"BLUE PORCELAIN B'FLY OIL BURNER\": 3264, 'M/COLOUR POM-POM CURTAIN': 3265, 'THE KING GIFT BAG 25x24x12cm': 3266, 'FROSTED GLASS WITH SILVER SURROUND': 3267, 'TABLE LAMP WHITE SHADE WOOD BASE': 3268, 'VINTAGE BEAD PINK JEWEL STAND': 3269, 'PINK ROUND COMPACT MIRROR': 3270, 'BLUE ROUND COMPACT MIRROR': 3271, 'DOOR MAT BLUE FLOCK': 3272, \"BLUE KNITTED KID'S RUCKSACK\": 3273, 'FRENCH ENAMEL SOAP DISH WITH LID': 3274, 'MIDNIGHT GLAMOUR SCARF KNITTING KIT': 3275, 'PINK PAISLEY PHOTO ALBUM': 3276, 'BLACK CHUNKY BEAD BRACELET W STRAP': 3277, 'FLOWER FAIRY POTPOURRI CUSHION LILY': 3278, 'WHITE WOOD SINGLE P/FRAME': 3279, 'LILAC FEATHERS CURTAIN': 3280, 'GREEN GOOSE FEATHER CHRISTMAS TREE': 3281, 'BLACK TEA,COFFEE,SUGAR JARS': 3282, 'WOVEN FROST CUSHION COVER': 3283, 'TALL ROCOCO CANDLE HOLDER': 3284, 'SHAKER THROW  QUILTED': 3285, 'CHRISTMAS CARD SCREEN PRINT': 3286, 'CHRISTMAS CARD STACK OF PRESENTS': 3287, 'PURPLE FINE BEAD NECKLACE W TASSEL': 3288, 'PURPLE AMETHYST NECKLACE W TASSEL': 3289, 'BLACK GEMSTONE NECKLACE 45CM': 3290, 'PINK ROSEBUD & PEARL NECKLACE': 3291, 'VENDETTA CANVAS PICTURE': 3292, 'ASSORTED FRAGRANCE BATH CONFETTI': 3293, \"NEW BAROQUE B'FLY NECKLACE BLACK\": 3294, \"NEW BAROQUE B'FLY NECKLACE MONTANA\": 3295, 'WHITE SILVER NECKLACE SHELL GLASS': 3296, 'MIDNIGHT BLUE COPPER FLOWER NECKLAC': 3297, 'ANT COPPER TURQ BOUDICCA BRACELET': 3298, 'PURPLE FRANGIPANI HAIRCLIP': 3299, 'LETTER \"F\" BLING KEY RING': 3300, 'BLUE BEADS+HAND PHONE CHARM': 3301, 'ASSORTED TUTTI FRUTTI KEYRING': 3302, 'PURPLE FRANGIPANI NECKLACE': 3303, 'CROCHET LILAC/RED BEAR KEYRING': 3304, 'ZINC HEART LATTICE CHARGER LARGE': 3305, 'MAXWELL 2 TONE BLUE 60 PAGE PHOTO A': 3306, 'VINTAGE BEAD CHAISE LONG JEWEL BOX': 3307, 'MULTICOLOUR FEATHERS CURTAIN': 3308, 'HANGING FLOWERS+MIRROR,CLEAR': 3309, 'WHITE 3 FRAME BIRDS AND TREE': 3310, 'PINK FLOCK PHOTO FRAME': 3311, 'PINK FLOCK TABLE CLOCK': 3312, 'FOLDING CAMPING SCISSOR W/KNIF & S': 3313, 'ORANGE PENDANT TRIPLE SHELL NECKLAC': 3314, 'CANDY STRIPE ROSE FLOOR CUSHION': 3315, 'CHUNKY CRACKED GLAZE NECKLACE IVORY': 3316, 'SILVER BLACK ORBIT DROP EARRINGS': 3317, 'NEW BAROQUE LARGE NECKLACE BLK/WHIT': 3318, 'PURPLE GEMSTONE NECKLACE 45CM': 3319, 'KINGS CHOICE SMALL TUBE MATCHES': 3320, 'ACRYLIC BEAD GARLAND,PINK': 3321, 'FLOOR LAMP SHADE WOOD BASE': 3322, 'WHITE/BLUE RECT CERAMIC OIL BURNER': 3323, 'WHITE ROHMBIC BLOCK TABLE LAMP': 3324, 'WISE MAN STAR SHAPE EGG PAN': 3325, 'PINK GAUZE BUTTERFLY LAMPSHADE': 3326, 'LILAC GAUZE BUTTERFLY LAMPSHADE': 3327, 'PURPLE PILLAR CANDLE BLACK FLOCK': 3328, 'SPOTTED WHITE NATURAL SEED NECKLACE': 3329, 'COLUMBIAN CUBE CANDLE': 3330, 'BLUE ORGANDY ROUND LAMPSHADE W BEA': 3331, 'BLACK CRYSTAL DROP EARRINGS': 3332, 'PAIR BUTTERFLY HAIR CLIPS': 3333, 'ANTIQUE RASPBERRY FLOWER EARRINGS': 3334, 'LILY BROOCH OLIVE COLOUR': 3335, 'HEART MEASURING SPOONS SMALL': 3336, 'HEART MEASURING SPOONS LARGE': 3337, 'SILVER OVAL JEWELLED MIRROR': 3338, 'BLUE 5 PATCH FLOWER CUSHION COVER': 3339, 'PINK 5 PATCH FLOWER CUSHION COVER': 3340, 'BLACK BOX MIRROR LANTERN': 3341, 'ACRYLIC HANGING JEWEL,BLUE': 3342, 'LUNCHBOX I LOVE LONDON': 3343, 'CIRCUS PARADE LUNCHBOX': 3344, 'PINK PAINTED KASHMIRI CHAIR': 3345, 'BLUE PAINTED KASHMIRI CHAIR': 3346, 'BLUE KASHMIRI OCCASIONAL TABLE': 3347, 'GREEN KASHMIRI OCCASIONAL TABLE': 3348, 'CHAMPAGNE TRAY BLANK CARD': 3349, 'CRYSTAL DIAMANTE EXPANDABLE RING': 3350, 'PINK CHRYSANTHEMUMS ART FLOWER': 3351, 'VINTAGE KEEPSAKE BOX PARIS DAYS': 3352, 'SMALL BLUE PROVENCAL CERAMIC BALL': 3353, 'BLACK DIAMOND CLUSTER EARRINGS': 3354, 'DROP DIAMANTE EARRINGS BLACK DIAMON': 3355, 'BLACK DROP EARRINGS W LONG BEADS': 3356, 'DROP DIAMANTE EARRINGS GREEN': 3357, 'BAROQUE BUTTERFLY EARRINGS CRYSTAL': 3358, 'BAROQUE BUTTERFLY EARRINGS MONTANA': 3359, 'BAROQUE BUTTERFLY EARRINGS RED': 3360, 'ANTIQUE OPAL WHITE FLOWER EARRINGS': 3361, 'VINTAGE ENAMEL & CRYSTAL EARRINGS': 3362, 'VINTAGE ENAMEL & CRYSTAL NECKLACE': 3363, 'BLACK VINT ART DEC CRYSTAL BRACELET': 3364, 'CLASSIC DIAMANTE NECKLACE JET': 3365, 'DIAMANTE NECKLACE': 3366, 'NEW BAROQUE SMALL NECKLACE BLACK': 3367, 'BLACK DIAMOND CLUSTER NECKLACE': 3368, 'LA PALMIERA TILE COASTER': 3369, 'RED PEONY CUSHION COVER': 3370, 'WHITE HEART OF GLASS BRACELET': 3371, 'PINK/AMETHYST/GOLD NECKLACE': 3372, 'GLASS BEAD HOOP NECKLACE MONTANA': 3373, \"NEW BAROQUE B'FLY NECKLACE CRYSTAL\": 3374, 'GLASS BEAD HOOP NECKLACE AMETHYST': 3375, 'LAZER CUT NECKLACE W PASTEL BEADS': 3376, 'WOVEN SUNSET CUSHION COVER': 3377, 'BLUE TILED SET OF 3 DRAWERS': 3378, 'BUNNY BUNCH OF FLOWERS': 3379, 'BATHROOM SCALES, FAG BREAK': 3380, 'PINK BUTTERFLY C/COVER': 3381, 'PINK BUTTERFLY HANDBAG W BOBBLES': 3382, 'HANGING FLOWERS+MIRROR,PINK': 3383, 'DIAMOND LAS VEGAS NECKLACE 45CM': 3384, 'LA PALMIERA TILE HOOK': 3385, 'SILVER ROCOCO CANDELABRA': 3386, 'CHOCOLATE ICE CREAM CANDLE': 3387, 'WHITE FRANGIPANI HAIR CLIP': 3388, 'GLASS BEAD HOOP EARRINGS BLACK': 3389, 'WHITE METAL BAROQUE PHOTO FRAME': 3390, 'FIRE POLISHED GLASS NECKL SILVER': 3391, 'DOORMAT ENGLISH ROSE': 3392, 'RED STONE/CRYSTAL EARRINGS': 3393, 'BLACK VINTAGE EARRINGS': 3394, 'WHITE ROSEBUD & PEARL NECKLACE': 3395, 'PEN, 10 COLOURS - SPACEBOY': 3396, 'TRAY FOR TV DINNER ,SPACEBOY': 3397, 'TRAY FOR TV DINNER , DOLLY GIRL': 3398, 'FUSCHIA VOILE POINTY SHOE DEC': 3399, 'BLACK RND BULLET\"KEEP CLEAN\" BIN': 3400, 'AMBER DIAMANTE EXPANDABLE RING': 3401, 'S/4 PISTACHIO LOVEBIRD COASTERS': 3402, 'RUSSIAN FOLKART STACKING TINS': 3403, 'NECKLACE+BRACELET SET FRUIT SALAD': 3404, 'S/4 CONTEMPORY PINK ROSEBUD CANDLES': 3405, 'SILVER/NAT SHELL NECKLACE W PENDANT': 3406, 'BLUE/GREEN SHELL NECKLACE W PENDANT': 3407, 'LARGE ZINC GLASS CANDLEHOLDER': 3408, 'HANGING FLOWERS+MIRROR,BLUE': 3409, 'FOLDING SHOE TIDY': 3410, 'SET/6 GOLD REINDEER T-LIGHT CANDLES': 3411, 'DOORMAT TOPIARY': 3412, 'DOORMAT FRIENDSHIP': 3413, 'SILICON STAR BULB  BLUE': 3414, 'HANGING SPRING FLOWER HEART SMALL': 3415, 'UBO-LIGHT TRIOBASE BLUE': 3416, 'CRYSTAL DRAGONFLY PHONE CHARM': 3417, 'LOUVRE CHALKBOARD': 3418, 'DIAMANTE HAIR GRIP PACK/2 RUBY': 3419, 'GREEN ENAMEL FLOWER HAIR TIE': 3420, 'DOG BOWL CHASING BALL DESIGN': 3421, 'S/4 CONTEMPORY RED ROSEBUD CANDLES': 3422, 'KASHMIR FOLKART HEART DISHES': 3423, 'GLASS BEAD HOOP EARRINGS AMETHYST': 3424, 'BLUE DROP EARRINGS W BEAD CLUSTER': 3425, 'GREEN DROP EARRINGS W BEAD CLUSTER': 3426, 'RUBY GLASS CLUSTER EARRINGS': 3427, 'AMBER CRYSTAL DROP EARRINGS': 3428, 'ANT COPPER RED BOUDICCA BRACELET': 3429, \"NEW BAROQUE B'FLY NECKLACE RED\": 3430, 'WHITE CHRISTMAS HEART DECORATION': 3431, 'PADDED RED HEART DECORATION': 3432, 'PURPLE ENAMEL FLOWER HAIR TIE': 3433, 'DIAMANTE BOW BROOCH WHITE COLOUR': 3434, 'SILVER/AMETHYST DROP EARRINGS LEAF': 3435, 'SMALL SINGLE FLAME CANDLE HOLDER': 3436, 'SILVER M.O.P ORBIT BRACELET': 3437, 'IVY HEART WREATH': 3438, 'SILVER BLACK ORBIT BRACELET': 3439, 'GOLD M.O.P ORBIT DROP EARRINGS': 3440, 'GOLD M.O.P ORBIT BRACELET': 3441, 'ANGEL DECORATION PAINTED ZINC': 3442, 'SWISS CHALET TREE DECORATION': 3443, 'RETRO PINK SPOT WASHING UP GLOVES': 3444, 'RED HEART CANDY POP LIGHTS': 3445, 'PINK AND BLACK STRING CURTAIN': 3446, 'CAMOFLAGE CUSHION COVER': 3447, 'CD WALL TIDY BLUE OFFICE': 3448, 'KNITTED RAINBOW HOT WATER BOTTLE': 3449, 'GREEN CHRISTMAS TREE STRING 20LIGHT': 3450, 'BLACK FEATHER CHRISTMAS DECORATION': 3451, 'ARMY CAMO BOOKCOVER TAPE': 3452, 'BLUE/PINK NEST STRIPE BOX': 3453, 'BLUE STRIPES SHOULDER BAG': 3454, 'BLACK ENCHANTED FOREST PLACEMAT': 3455, 'GREEN SQUARE COMPACT MIRROR': 3456, 'SILVER WINE GOBLET': 3457, 'SILVER APERITIF GLASS': 3458, 'GOLD APERITIF GLASS': 3459, 'LARGE BLUE ORIENTAL FOLDING STOOL': 3460, 'OLD DOC.RUSSEL METAL SIGN': 3461, 'WHITE ALLIUM  ARTIFICIAL FLOWER': 3462, 'GOLDIE LOOKING MIRROR': 3463, 'RIO PINK STRIPE HAMMOCK': 3464, 'LETTER \"W\" BLING KEY RING': 3465, '3 BIRDS CANVAS SCREEN': 3466, 'TEATIME FUNKY FLOWER BACKPACK FOR 2': 3467, 'FUNKY FLOWER PICNIC BAG FOR 4': 3468, 'SILVER LARIAT 40CM': 3469, 'BLUE/NAT SHELL NECKLACE W PENDANT': 3470, 'SILVER/NATURAL SHELL NECKLACE': 3471, 'PURPLE BOUDICCA LARGE BRACELET': 3472, 'BAROQUE BUTTERFLY EARRINGS GREEN': 3473, 'COPPER/OLIVE GREEN FLOWER NECKLACE': 3474, 'RASPBERRY ANT COPPER FLOWER NECKLAC': 3475, 'PINK CANVAS DES CUSHION COVER': 3476, 'SPACE FROG': 3477, 'SET/3 CHRISTMAS BRIAR CANDLES': 3478, 'BLUE DISCO HANDBAG': 3479, 'PLANTPOT SINGLE HOOK PISTACHIO': 3480, 'LOUVRE VANITY MIRROR': 3481, 'FLOWERS WALL THERMOMETER': 3482, 'ANT WHITE HIGH RISE BIRD BOX': 3483, 'POSY SHOPPER BAG': 3484, 'BROWN COZY SQUARE PHOTO ALBUM': 3485, 'POPART RECT PENCIL SHARPENER ASST': 3486}\n"
          ],
          "name": "stdout"
        },
        {
          "output_type": "execute_result",
          "data": {
            "text/plain": [
              "3487"
            ]
          },
          "metadata": {
            "tags": []
          },
          "execution_count": 10
        }
      ]
    },
    {
      "cell_type": "code",
      "metadata": {
        "colab": {
          "base_uri": "https://localhost:8080/"
        },
        "id": "hbNQ5oDm8VAC",
        "outputId": "99145612-0ead-4f8c-bc55-edccc5dd3ffb"
      },
      "source": [
        "labels = []\n",
        "for v in (label_bert):\n",
        "    labels.append(dic.get(v))\n",
        "print(labels)\n",
        "print(len(labels))"
      ],
      "execution_count": null,
      "outputs": [
        {
          "output_type": "stream",
          "text": [
            "[None, 187, 256, 2053, 777, 587, None, 297, None, 38, 551, 649, 504, 208, 180, 1195, 1617, 682, 310, 661, 484, 3285, 2553, 1592, 2078, 296, 570, 392, None, 139, None, 1195, 1201, 214, 629, 1546, 2373, 610, 247, 2505, 115, 49, 946, 1431, 308, 1751, 300, 764, 1623, 2305, 657, 1321, 439, 1376, 1062, 374, 132, 749, 23, 475, 649, 1273, 559, 267, 177, 424, 79, 2142, 1869, 1687, 1991, 46, 419, 2096, 2103, 1066, 2740, 1516, 644, 313, 1260, 139, 418, 177, 643, 360, 1528, 64, 2219, 867, 1519, None, 949, 332, 178, 1066, 64, 2684, 971, 1049, 946, 1526, 486, 1242, 483, 2628, 937, 590, 617, 400, 1612, 988, 1020, 679, 299, 1419, 661, None, 1937, 988, 290, 1878, 1295, 667, 258, 241, 195, 278, 372, 50, 619, 684, 781, None, 950, 190, 411, 684, 130, 2258, 3151, 1814, 139, 170, 300, 1941, 2096, 357, 196, 649, 823, 989, 377, 136, 190, 453, 286, 1301, 1487, 1765, 1442, 1269, 808, 941, 1105, None, 265, 452, 37, 539, 649, 941, 124, 3277, 2404, 1047, 562, 459, 1560, 1981, 502, 1723, 1434, 0, 2147, 590, 215, 661, 194, None, 376, 800, 789, 381, 649, 376, None, 311, 352, 150, 1025, 2365, 936, 274, 1912, 1614, 653, 997, 213, 653, 58, 310, 317, 569, 729, 552, 781, 1661, None, 484, 1066, 31, 1199, 1033, 494, 710, 130, 491, 432, 831, 3006, None, 989, 1687, 1105, 1741, 415, 322, 130, 1596, 322, 1534, 424, 1829, 601, 256, 522, 2020, 391, 1103, 748, 2015, 1885, 492, 1229, 452, 954, 683, 989, 443, 65, 404, 148, 90, 840, 1455, 450, 459, 1393, 527, 829, 2119, 33, 1440, 571, 432, 682, 1258, 2817, 866, 196, None, 2416, 1733, 274, 948, 401, 2270, 513, 346, 974, 1233, 342, 569, 1017, 453, 642, 394, 398, 1184, 128, 1767, 1516, 1306, 878, 499, 281, 273, 359, 984, 1263, 207, None, 253, 400, 452, 207, 1017, 431, 755, 605, 3069, 162, 197, 207, 1773, 319, 2444, 792, 189, 619, 1420, 1599, 797, 274, 2151, 211, 39, 244, 1034, 425, 190, 1257, 1434, 781, 882, 3298, 170, 577, 1114, 649, 826, 384, 3020, 1062, 400, 729, 661, 883, 263, 241, 1141, 2404, 151, 349, 969, 1994, 215, 443, 1188, 180, 1457, 277, 600, 590, 248, 1495, 1694, 430, 706, 133, 764, 417, 682, 1269, 891, 121, 1728, 198, 136, 53, 1015, 320, 443, None, 527, 1406, 108, 195, 121, 823, 58, 1592, 121, 797, 882, 570, 827, 300, 58, 391, 309, 29, 1144, 635, 1011, 274, 491, 184, 1740, 386, 1034, None, 1696, 619, 112, 1233, 133, 840, 215, 334, 376, 295, 2143, 334, 1040, 199, 1224, 438, None, None, 267, 438, 1673, 949, 2129, 438, 1188, 682, 955, 661, 962, 705, 706, 521, 212, 523, 2900, 194, 106, 130, 941, 1747, 4, 385, 789, 1019, 1109, 1508, 61, 609, 227, 3227, 988, 199, 199, None, 1299, 761, 29, 2177, 46, 853, 781, 152, 590, 2017, 1535, 1404, 941, 761, 2628, 969, 56, 1000, 193, 173, 482, 844, 993, 3268, 296, 296, 1247, 2887, 1707, 484, 1440, 1408, 3343, 1249, 277, 194, 534, 1011, 1986, 3, 1066, 191, 1877, 617, 1499, 635, 655, 34, 950, 948, None, 914, 1216, 1476, 1183, 307, 205, 617, 438, 512, 171, 534, 1195, 1088, 144, 586, 617, 432, 1186, 340, 517, 1332, 456, 503, 294, 755, 2355, 1745, 562, 400, 420, 1673, 570, 1499, 309, 1229, 135, 1610, 58, 866, 352, 1451, 1409, 370, 787, 382, 432, 2574, 944, 716, 420, 310, 1519, 296, 1286, 2290, 403, 1867, 1523, 399, 1396, 1437, 443, 329, 827, 1981, 117, 988, 590, 661, 308, 672, None, 910, 729, 452, 2903, 41, 258, 911, 1290, 499, 88, 871, 486, 1809, 1002, 120, 1255, 255, 848, 2629, 1912, 624, 2835, 728, 1599, 906, 1769, 180, 1072, 1743, 112, 1981, 221, 400, 610, 1191, 1467, 1815, 1294, 1820, 614, 238, 2166, 1503, 3020, 1508, 1457, 302, 402, 1557, 248, 968, 2174, 684, 896, 1085, 195, 2211, 1206, 1872, 1808, 400, 424, 136, 156, 1195, 1166, 970, 661, 385, 1940, 432, 696, 128, 1614, 882, 196, 1815, 56, 402, 556, 636, None, 1885, 405, 1337, 133, 402, 1043, 2073, 50, 187, 264, 1705, 156, 2325, 275, 1081, 201, 2386, 947, 306, 196, 684, None, 1528, 2462, 1337, 1311, 2844, 518, 303, 2212, 197, 1047, 649, 1436, 590, 386, 200, 393, 65, 1040, 1599, 355, 1179, 320, 3394, 217, 932, 1161, 619, 392, 823, 563, 819, 1554, 777, 295, 1981, 110, 1255, 661, 515, None, 391, 310, 3187, 273, 513, 1435, 800, 914, 589, 2234, 918, 285, 1090, 3089, 1106, 577, 936, 882, 471, 1571, 396, 480, 435, 317, 649, 1942, 932, 312, 590, 1609, 294, 512, 724, 499, 661, 153, 144, None, 3213, 539, 502, 1680, 1904, 313, 609, 65, 1872, 298, 187, 1371, 2934, 952, 665, 121, 531, 649, 400, 214, 511, 614, 797, 195, 1708, None, 1062, 2075, 1178, 1009, 882, None, 1224, 1299, 48, 204, 636, 987, None, 539, 2015, 2893, 311, 1344, 2477, 610, 1903, 342, 400, 989, 307, 372, 332, 1006, 1029, 896, 320, 1011, 376, 2229, 293, 440, 261, 782, 34, 123, 805, 988, 352, 661, 189, 2416, 823, 457, 419, 792, 296, 955, 215, 295, 215, 1695, 2680, 706, 1412, 66, 1495, 483, 452, 947, 190, 1625, 649, 2628, 786, 114, 256, 1516, 1068, 1428, 729, 2, 3016, 590, 50, 132, 214, 1016, 154, 840, 400, 317, 1663, 499, 615, 147, 65, 277, 180, 782, 522, 304, 1229, 215, 1000, 1588, 1215, 1815, 144, 2065, 132, 649, 1707, 939, 418, 782, 825, 207, 513, None, 716, 1816, 1072, 1735, 661, 211, 1890, 649, 1602, 108, 1323, 684, 1242, 632, 2257, 457, 451, 1292, 494, 2859, 2709, 943, 783, 630, 1223, 292, 180, 391, 1002, 137, 155, 1814, 306, 459, 2162, 382, 511, 999, 307, 1614, 1287, 955, 276, 684, 1612, 1062, None, 948, 1087, 1814, 894, 2470, 1305, 1471, 949, 343, 1966, 428, 1814, 748, 135, 946, 902, 1836, 52, 451, 465, 554, 1866, 190, 2001, 451, 1164, 114, 709, 1735, 586, 402, 829, 683, 1026, 56, 473, 1178, 1186, None, 67, 199, 482, 513, 1105, 212, 2055, 2156, 2407, 319, 756, 308, 2008, 840, 505, 1728, 310, 1062, 748, 400, 1877, 310, 134, None, 896, 1612, 1299, 782, 1106, 115, 84, 268, 577, 2619, None, 177, 48, 1949, 380, 1677, 966, 735, 130, 29, None, 425, 1663, 3, 130, 221, 111, 661, 617, 2181, 1488, 2561, 882, 871, 211, 2840, 134, 1526, 2538, 1357, 306, 1598, None, 495, 434, 628, 1065, 729, 1665, 2174, 213, 55, 2465, 724, 213, 495, 673, 199, 500, 610, 617, 1286, 1006, 1066, 531, 923, 566, None, 1290, 1758, 988, 1815, 1393, 985, 661, 360, 4, 190, 3, 399, 449, 119, 624, 1217, 615, 2942, 1062, 239, 567, 2482, 114, 958, 588, 444, 121, 532, 1057, 273, 48, 1233, 2219, 185, 649, None, None, 563, 534, 1889, 64, 513, 2050, 1255, 1877, 1066, 786, 306, 189, 619, 69, 1739, 2783, 552, 30, 263, 1508, 661, 582, 395, 229, 1824, 728, 380, 729, 649, 1735, 478, 207, 731, 577, None, 111, 64, 617, 160, 936, None, 1016, 2174, 149, 276, 238, 754, 1028, 728, 1437, 1190, 473, 64, 2023, 1256, 1491, 947, 1087, 158, 1626, 1598, 190, 2022, 866, 3133, 344, 121, 1706, 1970, 1418, 562, 2502, 121, 272, 68, 1188, 1075, 38, 348, 171, 320, 399, 956, 577, 400, 400, 1348, 638, 396, 2551, 914, 2371, 698, 2363, 30, 1965, 729, 394, 117, 140, 453, 1728, 1066, 617, 1771, 615, 1260, 545, 321, 451, 400, 989, 706, 171, 562, 333, 1088, 1429, 457, 298, 205, 554, 114, 134, 431, 1304, 67, 2132, 1532, 2118, 1386, 468, 340, 362, 684, 361, 2671, 987, 244, 1767, 792, 827, 2007, 636, 1724, 193, 40, 293, 1508, 418, 1068, 306, 400, 722, None, 604, 1143, 258, 989, 320, 149, 192, 1620, 273, 310, 612, 2648, 355, 194, 376, 1660, 614, 395, 109, 1070, 2127, 932, 1039, 881, 394, 40, 130, 1040, 133, 1000, 1623, 121, 55, 216, 189, 641, 722, 343, 17, 656, 2551, 1814, 1349, 947, 1059, 2627, 947, 34, 1074, 709, 479, 468, None, 136, 743, 953, 372, 638, 117, 310, None, 311, 1065, 514, 181, 259, 311, 134, 958, 112, 162, 500, 388, 128, 2361, 1941, 236, 197, 709, 787, 2007, 1188, 1214, 381, 1612, 319, 355, 534, 135, 2195, 3308, 84, 299, 1987, 531, 405, 1303, 2463, 65, 1440, 661, None, 761, 322, 139, 303, 321, 1306, 1164, 1461, 1442, None, 523, 121, 32, 698, 65, 59, 914, 746, 490, 479, 1526, 1286, 261, 391, 1002, 195, 661, 1085, 519, 2622, 782, 1499, 187, 1008, 1699, 53, 1440, 1667, 2118, 484, 2575, 438, 1519, 69, 2089, 443, 636, 781, 869, 772, None, 1815, 272, 142, 800, 954, 947, 435, 1299, 1002, 749, 1269, 203, 911, 29, 1004, 1970, 114, 83, 828, 3070, 2, 378, 106, 1682, 2601, 1800, 3350, 1873, 331, 55, None, 827, 2242, 2321, 2267, 1206, 848, 400, 1745, 751, 1878, 1599, 42, 334, 1519, 185, 1601, 724, 277, 906, 954, 29, 706, 310, 106, 3288, 620, 343, 195, 295, 245, 1041, 1985, 31, 1002, 933, 682, 772, 825, 480, 236, 391, 244, 196, 322, 640, 902, 1997, 193, 2582, 190, 346, 792, 800, 459, 661, 460, 180, 135, 1699, 106, 400, 180, 114, None, 293, 141, 1375, 736, 1969, 168, 183, 728, 1009, 2353, 294, 349, 407, 2077, 447, 532, 1081, 443, 885, 1687, 147, 2049, 2909, 310, 340, 914, 1612, 352, 113, 1735, 310, 1000, 346, 1002, 1867, 480, 144, 358, 914, None, 936, 783, 399, 2121, 154, 928, 400, 2366, 212, 988, 613, 1491, 1498, 623, 300, 3022, 1164, 1814, 412, 492, 357, 561, 1114, 1141, 1088, 50, 1195, 942, 173, 1020, 1195, 59, None, 630, 451, 2619, 117, 296, 357, 1179, 949, 238, 720, 1989, 780, 746, 1233, 1546, 793, 956, 135, None, 317, 759, 948, 1640, 352, 1261, 831, 489, 3410, 1849, 267, 294, None, 1598, 432, 661, 234, 797, 227, 617, 3285, 244, 189, 1090, 926, 456, 1519, 945, 1393, 941, 2353, 377, 1004, 857, 792, 1412, 1201, 156, 797, 622, 1999, 792, 643, 831, 614, 1803, 199, 828, 1686, 827, 829, 2, None, 559, 1249, 568, 1229, 254, 472, 1678, 256, 1640, 2174, 1451, 331, 632, 277, 950, 908, 2255, 1885, 619, 866, 2174, 1076, 1181, 959, 517, 379, 203, 447, 2151, 629, 1495, 2008, 222, 989, 267, 1516, 438, 1885, 195, 697, 1851, 945, 1003, 729, 288, 665, 203, 525, 1371, 1062, 1449, 582, 1950, 50, 947, 352, 1003, 645, 1058, 947, 2257, 649, 562, 419, 135, 1377, 50, 491, 936, 332, 553, 352, 130, 256, 1489, 1185, 797, 1396, 2840, 197, 209, 532, 1449, 1571, 272, 1457, 1088, 1601, 46, 649, 2007, 1106, 575, 198, 832, 551, 642, 1981, 989, 121, 1682, 1232, 114, 0, 374, 502, 309, 313, 1023, 892, 649, 319, 144, 1195, 390, 322, 661, 1103, 787, 1053, 1004, 914, 1526, 1393, 546, 321, 1623, 614, 989, 651, 400, 605, 1635, 41, 355, 1519, 832, 1367, 806, 278, 1540, 2628, 1458, 483, 511, 840, 1299, 937, 314, 453, 55, 121, 1599, 1348, 38, 461, 1, 819, 717, 393, 67, 230, 342, 589, 1767, 1017, 1260, 432, 1255, 1699, 130, 125, 1188, 36, None, 653, 430, 1323, 189, 281, 2, 797, 262, 592, 320, 557, 661, 1592, 1981, 1228, 1189, 2016, 870, 438, 2324, 2314, 1835, 2061, 109, 682, 345, 190, 89, 1049, 1027, 950, 306, 881, 306, 125, 759, 1837, 316, 428, 1616, 850, 2212, 2035, 1266, 400, 2900, 509, 255, 1041, 424, 29, None, 482, 407, 1479, 748, 619, 347, 1112, 123, 415, 1822, 114, 857, 198, 2349, 424, 1606, 130, 2028, 590, 283, 1105, 1668, 515, 643, 576, 1188, 110, 1526, 657, 2221, 180, 1905, 300, 343, 649, 2318, 647, 2525, 221, 1309, 2225, 1020, 570, 29, 1215, 1081, 930, 608, 1019, 1484, 443, 630, 1735, None, 370, 306, 1114, None, 828, 1114, 728, 1999, 1611, 379, 1062, 717, None, 617, 1348, 1222, 185, 2357, 531, 1594, 940, 312, 465, 212, 392, 1745, 278, 472, 949, 32, 456, 939, 190, 333, 1396, 697, 77, 1510, 2219, 187, 451, 149, 312, 1527, 866, 1038, 2109, 1922, 539, 1803, 130, 954, 3029, 709, 121, 64, 954, 1601, 661, 1066, 2008, 1461, 781, 910, 1533, 662, 1152, 997, 966, 1141, 1161, 965, 2593, 456, 116, None, 727, 352, 183, 819, 1085, 1337, 643, 48, 1579, 215, 575, 195, 302, 1508, 1808, 562, 311, None, 1583, 189, 432, 1227, 2371, None, 655, 332, 1735, 400, 959, 1169, 1183, 351, 728, 601, 782, 479, 681, 781, 1946, 45, 665, 399, 34, 1519, 2671, 2109, 570, 386, 151, 600, 152, 1299, 234, 513, 275, 1735, 3316, 389, 1174, 48, None, 1065, 619, 101, 113, 431, 319, 1153, 499, 53, 941, None, 400, 729, 308, 47, 1816, 2144, 207, 657, 1018, 709, 1686, None, 1063, 212, 1299, 197, 221, 800, 484, 1618, 199, 588, 556, 684, 653, 243, 1885, 32, 1815, 2698, 451, 348, 385, 1876, 1929, 2150, 2337, 958, None, 54, 647, 2822, 776, 207, 138, 1035, 106, 239, 1877, 1815, 1227, 914, 280, 1981, 477, 434, 109, 181, 318, 139, 2600, 997, 1041, 432, 180, 112, 2574, 552, 614, 357, 121, 2151, 335, 1195, 199, 1300, 190, 274, 667, 954, 722, 399, 415, 730, 224, 208, 31, 883, 1696, 643, 307, 147, 432, 2507, 484, 310, 1009, 510, 73, 184, 87, None, 857, None, 759, 1853, 30, 50, 1735, 234, 170, 403, 781, 1449, 1228, 334, 712, 724, 2105, 389, 1241, 1495, None, 962, 1332, 1681, 385, 277, 828, 40, 134, 1508, 1087, 610, 555, 672, 1243, 717, 1916, 503, 323, 2459, 724, 654, 955, 2528, 1740, 1970, 1090, 691, 152, 649, 1814, 906, 776, 203, 720, 2353, 1233, 1606, 1418, 497, 4, 604, 519, 948, 614, 761, 905, 373, 958, 3022, 513, 940, 796, 477, 1344, 1286, 956, 2403, 2325, 1735, 1772, 1116, 299, 195, 178, None, 867, 1610, 288, 192, 800, 1594, None, 400, 615, 949, 457, 495, 1978, 706, 433, 134, 891, 576, 215, 956, 1725, 958, 236, 1435, 378, 2237, 831, 1558, 782, 2503, 521, 385, 711, 1006, 256, 109, 649, 343, 446, 756, 742, 1767, 710, 661, 263, 1435, 1509, 731, 96, 207, 130, 539, 293, 239, 351, 499, 1224, 332, 352, 112, 2502, 420, 1038, 468, 364, 459, 731, 355, 199, 1231, 727, 871, 2220, 312, 809, 133, 610, 505, 352, 353, None, 1059, 1262, 53, 1041, 1195, 194, 881, 514, 1619, 243, 1002, 1097, 461, 1731, 2235, 376, 840, 2344, 1179, 2525, 617, 545, 1825, 577, 781, 1814, 726, 63, 558, 851, 1314, 312, 106, 79, 2243, 1598, 130, 150, 2008, 432, 1143, 1487, 800, 848, 955, 411, 87, 45, 29, 1090, 1519, 1990, 111, 1442, 34, 783, 1706, 2002, 616, None, 2125, 1286, 2165, 139, 3022, 1123, 810, 1145, 2684, 335, 1148, 2167, 661, 110, 1253, 1598, 1500, 349, 1141, 77, 263, 1767, 494, 947, 135, 151, 661, 1231, 2035, 743, 1300, 81, 791, 385, 936, 2668, 1860, 186, 2168, 1061, 90, 1026, 1892, 649, 1740, 3194, 183, 490, 431, 357, 590, 196, 213, 195, 642, 37, 2267, 663, 1452, 279, 144, 1063, 2214, None, 1004, 716, 947, 946, 247, None, 1849, 491, 1566, None, 294, 55, 1, 190, 1292, 231, 1413, 554, 114, 199, 67, 948, 435, 808, 208, 2349, 1465, 642, 286, 590, 649, 932, 684, 1557, 306, 524, 661, 46, 121, 1399, 1526, 1152, 554, 947, 124, 1815, 780, 1286, 1663, 729, 1264, 409, 2616, 697, 0, 1300, None, 1981, 369, 1186, 378, 1170, 615, 42, 792, 195, 797, 1321, 1035, 1745, 800, 136, 300, 451, 402, 2139, 215, 1280, 781, 2184, 1614, 1395, 54, 1319, 989, 438, 106, 263, 434, 956, 342, 300, 2616, 1609, 148, 380, 59, 1027, 636, 764, 213, 937, 2525, 331, 491, 846, 905, 2100, 1085, 654, 277, 1299, 1241, 1892, 264, 1368, 499, 153, 189, 1347, None, 940, 562, None, 854, 661, 483, 2686, 257, 1435, 425, 46, 320, 306, 570, 556, 782, 84, 306, 46, 1399, 1243, 483, 248, 1457, 441, 661, 764, 1038, 309, 2139, 727, 1612, 2664, None, 42, 539, 1065, 2293, 115, 1429, 319, 471, 62, 1305, 738, 196, 777, 2848, 558, 376, 1899, 950, 437, 615, 1088, 1735, 207, 75, 1019, None, 294, 615, 391, 613, 649, 211, 1877, 2167, 1598, 184, 213, 117, 947, 960, 215, 831, 521, 1424, 171, None, 649, 615, 834, 954, 1849, 86, 1614, 1074, 1610, 77, 259, 1587, 1814, None, 109, 29, 1735, 250, 1264, 121, 1118, 411, 308, 113, 500, 644, 34, 731, 256, 214, 537, 403, 124, 821, 192, 592, 272, 212, 808, 1435, 1006, 914, 30, 2164, 1196, 1428, 1809, 293, 999, 1693, 633, 947, 1446, 417, 2321, 638, 499, 617, 888, 989, 307, 126, 1120, 617, None, 321, 430, 2075, 798, 2127, 148, 189, 1114, 1454, 124, 661, 1144, 1269, 1222, 30, 215, 121, 792, 1773, 989, 1132, None, 628, 295, 1406, 1716, 1081, None, 592, 1557, 386, 197, 340, 1002, 1301, 303, 1414, 496, 408, 41, 354, 1085, 34, 661, 1115, 449, 409, 2278, 2704, 1056, 1153, 34, 614, 37, 1167, 158, 711, 343, 2073, 999, 1699, 93, 958, 2462, 881, 1087, 577, 321, 1221, 512, 1065, 1816, 189, 33, 52, 278, 109, 278, 1214, 448, 301, 277, 806, 298, 486, 988, 1431, 1745, 306, 1688, 661, 1942, 370, 1833, 1625, 1243, 407, 949, 2602, 1560, 67, 778, None, None, 1049, 730, 412, 189, 800, 1509, 1121, 794, 2344, 3234, 776, 610, 2351, 467, 108, 259, 256, 612, 1066, 577, 491, 171, 661, 1735, 311, 2007, 1220, 253, 1212, 428, 376, 37, 843, 58, 548, 1087, 2699, 61, 2, 1062, 221, 2740, 106, 576, 2353, 373, 1072, 1941, 2151, 1519, 1065, 1087, 110, 1240, None, 857, 117, 614, 519, 1495, 440, 2165, 1562, 575, 508, 1693, 1354, 117, 1004, 653, 301, 1026, 1805, 295, None, 119, 97, 905, 59, 523, 1006, 590, 1895, 245, 989, None, 711, 950, 1562, 640, 1777, 2121, 1311, 215, 278, 64, 256, 1137, 2233, 987, 1771, 1616, 1188, 950, 1557, 1494, 195, 108, 1837, 1434, 314, 199, 729, 859, 3268, 684, 215, 1066, 871, 632, 781, 348, 784, 1764, 92, 630, 1540, 2077, 287, 349, 997, 532, None, 368, 189, 183, 651, 784, 2248, 728, 67, 319, 2072, 792, 231, 3006, 1616, 778, 1899, 1751, 615, 340, 1344, 1686, 1693, 538, 1033, 661, 402, 400, 1869, 832, 180, 1068, 399, 914, 1713, 310, 711, 2671, None, 1679, 651, 755, 1877, 517, 649, 1849, 1889, 2253, 661, 2863, 0, 317, 312, 55, 2017, 761, 438, 3150, 67, 302, 109, 2167, 230, 56, 457, 1612, 806, 207, 950, 661, 656, 139, 1673, 799, 243, None, 1971, 3187, None, 1413, 550, 765, 955, 247, 892, 267, 2929, 457, 192, 1306, 1435, 297, 306, 1311, 391, 832, 1735, 1361, 956, 1332, 1562, 50, 130, 424, 757, 211, 1620, 1977, 349, 1303, 451, 502, 507, 151, 207, 914, 756, 438, 400, 300, 553, 619, 883, 447, 1816, 361, 1264, 1987, None, 2815, 1059, 259, 109, 65, 1241, 450, 125, 480, 138, 857, 774, 1, 255, 438, 386, 434, 1751, 451, 484, 310, 1343, 456, 199, 190, 259, 405, 681, 715, 653, 201, 914, 343, 1695, 665, 831, 308, 667, 410, 153, 566, 661, 3073, 326, 1240, 4, 931, 198, 1888, 1818, 456, 1449, 547, 357, 31, 553, 914, 151, 307, 288, 808, 400, 867, 333, 513, 2066, 682, 1892, 432, 610, 299, 1773, 966, 643, 1437, 582, 240, 589, 1226, 1220, 777, 566, 534, 503, 277, 1849, 989, 661, 342, 506, 862, 1066, 312, 1852, 286, 947, 914, 124, 2613, 212, 914, 651, 341, 1318, 683, 590, 61, 1599, 180, 2311, 1004, 959, 1625, 717, 610, 1604, 2937, 989, 1268, 319, 130, 597, 610, 456, 1942, 1232, 1017, 1714, 1885, 3034, 46, 653, 1011, 177, 36, 1066, 792, 1773, 1357, 2891, 1818, 153, 55, 2872, 1693, 372, 631, 1699, 729, 450, 432, 562, 41, 1480, 1229, 327, 1361, 295, 294, 825, 661, 3, 1129, 496, 765, 1187, 1467, 3201, 1046, 948, 109, 577, 147, 955, 2179, 159, 311, 310, 2756, 617, 1240, 177, 130, 2902, 966, 264, 125, 828, 149, 457, 1231, 948, 321, 869, 407, 3037, 797, 187, 267, 1764, 1872, 286, 196, 64, 914, 1009, 729, 905, 377, 570, 331, 792, 1880, 1002, None, 1885, None, 383, 570, 1332, 1610, 2308, 914, 1304, 1241, 272, 236, 636, 268, 144, 399, 202, 327, 619, 2164, 347, 1916, 1435, 911, 83, 1304, 211, 946, 1311, 1750, 923, 319, 731, 1854, 343, 47, 113, 615, 158, 344, 1557, 67, 1735, 1119, 1219, 482, 135, 1710, 661, 840, 1582, 853, 866, 55, 300, 29, 424, 940, 255, 458, 456, 1928, 396, 590, 122, 391, None, 682, 253, 307, 1286, 2109, 135, 2044, 267, 828, 942, 1062, 1029, None, 149, 644, 1768, 153, 800, 1560, 557, 604, 298, 300, 159, 1010, 668, 721, 1525, 1828, 1971, 258, 999, 46, 3029, 1112, 590, 63, 784, 2121, 1284, 46, 1348, 491, 2709, 3006, 76, 56, 1417, 1737, 1166, 2, 273, 310, 90, 610, 661, 731, 186, 828, 615, 1264, 1005, None, 688, 827, 1062, 243, 283, 2482, 454, 661, 403, 2240, 507, 994, 2179, 306, 177, 1435, 1596, 236, 596, 2243, 1598, 1195, 1618, 482, 300, 1909, None, 2157, 116, 1835, 1611, 130, 506, 781, 782, 68, 828, 49, 298, 661, 911, 2144, 1164, 782, 1901, 628, 1599, 615, 1494, 180, 906, 1796, 2512, 195, 517, 2258, 317, 109, 1085, 636, 784, 405, 263, 424, 1004, 59, 1304, 323, 371, 1064, 711, 562, 432, 259, 483, 1227, 273, 111, 793, 499, 168, 144, 491, 331, 800, 999, 504, 1, 23, 1590, 643, 3353, 782, 238, 535, 907, 1568, 2352, 827, 1803, 79, 211, 2427, 3122, 59, 617, 59, 62, 661, 1163, 258, 1599, 215, 2718, 109, 523, 2560, 831, 1332, 661, 1035, 132, 296, 3033, 1020, 130, 715, 683, 189, 275, 1318, 628, 1473, 705, 47, 319, 1971, 1105, 612, 1966, 180, 829, 1187, 1952, 1809, 180, 1557, 384, 130, 392, 204, 433, None, 619, 1592, 1612, 988, 1879, 2151, 727, 562, 499, 2196, 1981, 665, 954, 2883, 562, 355, 309, 999, 928, 117, 342, 276, 134, 311, 549, 1123, 1233, 408, 440, 2256, 1041, 1568, 619, 1734, 303, 306, 287, 870, 1131, 139, 911, 106, 383, 714, 564, 489, 941, 357, 256, 2218, None, 873, 306, 40, 117, 597, 608, 46, 133, 1822, 1473, 988, 709, 370, 215, 2066, 1026, 2392, 610, None, 962, 1133, 1295, 729, 1553, 2353, 825, 23, 576, 891, 729, 452, 1675, 947, 1997, 514, 615, 1166, 680, 531, 1226, 1112, 1745, 373, 303, 376, 307, 716, 106, 515, 647, 297, 1885, 346, 355, 142, 1187, 2280, 989, 857, 409, 661, 2065, 54, 808, 561, 400, 2, 317, None, 1504, 142, 661, 1815, 48, 3075, 552, 777, 661, 1997, 651, 857, 123, 344, 317, 133, 1017, 1304, 2014, 306, 2053, 827, 882, 768, 399, 535, 1515, 711, 1114, 1725, None, 404, 1219, 121, 626, 1815, 309, 400, 439, 1409, 298, 1601, 362, 256, 570, 2503, 1918, 131, 1187, 1416, 1687, 147, 459, 477, 1049, 947, 2398, 1803, 444, 413, 381, 932, 1002, 1877, 2139, 183, 317, None, 60, 1820, 619, 1614, 797, None, 486, 480, 797, 469, 306, 130, 1231, 628, 479, 764, 198, 1519, 253, 1296, 644, 465, 582, 403, 430, 1822, 661, 255, 151, 376, 367, None, 29, 590, 189, 968, 298, 526, 1149, 1362, 425, 222, None, 1287, 109, 827, 312, 711, 650, 1224, 1718, 424, 749, 259, 887, 128, 1524, 575, 286, 118, 866, 1444, 1332, 439, 847, 114, 1112, 1735, 118, None, 376, 306, None, 1299, 814, 214, 399, 38, 2496, 989, 400, 1735, 171, 496, 2218, 1406, 1455, 2219, 1256, 661, 911, 204, 109, 569, 133, 2392, 664, 1328, 195, 947, 1072, 728, 1814, 622, 393, 326, 1875, 524, 1977, 1640, 914, 34, 2686, 588, 471, 1029, 1983, 1820, 2724, 1269, 612, 2072, 661, 226, 1450, 511, 430, 439, 29, 513, 866, 1849, 610, 590, 620, 829, 349, 882, 2455, 888, 1301, 669, 114, 1716, 3433, 92, 615, 1686, 204, 97, 1115, 2602, 1002, 1941, 117, 1169, 711, 2427, 2046, 619, 1648, 342, 1614, 1579, 2159, 208, 273, 1201, 989, 300, 248, 783, 1623, 2099, None, 403, 1909, 121, 1809, 221, 756, 1671, 258, 424, 53, 1735, 380, 55, 663, 869, 1002, 2351, 2185, 508, 1393, None, 2271, 586, 2016, 717, 234, 706, 1424, 761, 1266, 949, 1668, 258, 1457, 190, 27, 539, 1713, 1178, 370, 53, 523, 827, 1128, 1006, 502, 661, 190, None, 1979, 1576, 2290, 450, 2105, 149, 49, 267, 827, 130, 134, 985, 1969, 407, 665, 1710, 361, 336, 295, 1105, 869, 263, 247, 1929, 275, 914, 194, 1229, 318, 610, 1006, 3164, 114, 1723, 3278, 282, 855, 914, 878, 1221, 2165, 478, 1825, 131, 882, 256, 477, 207, 131, 2290, 670, 347, 1434, None, 1984, 1616, 1731, 1118, 2141, 195, 1524, 144, 212, 435, 117, 33, 403, 90, 151, 797, 1731, 1035, None, 121, 1113, 2464, 234, 1745, 1614, 1723, 198, 575, 1072, 1435, 183, 81, 1724, 1816, 792, 148, 2867, 1761, 2035, 1513, 1623, 491, 134, 1686, 1228, 1663, 2234, 1780, 199, 451, 50, 1677, 784, 549, 987, 1213, 935, 275, 186, 932, 1059, 68, 211, 619, 1019, 2416, 409, 1526, 204, None, 866, 190, 1526, 403, 1106, 1268, 950, 1112, 386, 355, None, 860, 1814, 122, 2733, 319, 1952, 65, 894, 352, 263, 1555, 438, 829, 272, 1909, 395, 53, 955, 1892, 370, None, 1564, 590, 1598, 946, 391, 197, 387, 577, 894, 185, 1571, 121, 1227, 403, 135, 282, 1648, 420, 731, 1230, 1601, 32, 183, None, None, 380, 1885, 846, 132, 2249, 955, 199, 1814, 113, 321, 1004, 1640, 238, 513, 827, 840, 456, 729, 2497, 2255, 1695, 1237, None, 1640, 1942, 483, 189, 1187, 296, 706, 559, 404, 1583, 930, None, 400, 1995, 29, 2689, 187, 782, 111, 1268, 2733, 684, 130, 376, 1525, 109, 711, 2, 121, 68, 657, 236, 64, 457, 305, 183, 402, 963, 139, 447, 569, 433, None, 1000, 1710, 2085, 2230, 125, 937, 1017, None, 1442, 2165, 1143, 435, 3165, 1027, 557, 504, 2305, 402, 1269, 1905, 1119, 259, 130, 1724, 1072, 399, 281, 499, 1560, 396, 827, 1017, 661, 1216, 390, 999, 162, 1188, 1375, 130, 790, 617, 1429, 1618, 1090, 2229, 649, 661, 425, 672, 2510, 453, 168, 2393, 999, 759, 244, 745, 792, 511, 2349, 2208, 576, 307, 268, 2055, 109, 2321, 556, 332, 1596, 459, 1195, 492, 857, 425, 1429, 3311, 559, 940, 697, 575, 840, 2694, 498, 1429, 415, 1780, 213, 764, 376, 534, 661, 331, 106, 28, 112, 590, 311, 2009, 1954, 1957, 41, 2027, 272, None, None, 949, 307, 1132, 1292, 834, 146, 790, 1686, 180, 288, 1025, None, 2669, 139, 993, 50, 482, 1997, 1885, 2041, 2821, None, 823, 2053, 1348, 495, 2240, 792, 178, 121, 1368, 1731, 375, 201, 705, 401, None, 400, 575, 3164, 1444, 288, 2689, 2253, 220, 79, 500, 1143, 2103, 2949, 27, None, 255, 623, None, 288, 2015, 317, 444, 612, 720, 832, 988, 314, 285, 30, 1105, 507, 361, 597, 1179, 64, 2553, 50, 311, 636, 969, 293, 768, 1049, 277, 2014, 1195, 439, 1880, None, 539, 386, 882, 499, 947, 273, 177, 472, 1751, 294, 1, 2280, 950, 1609, 661, 344, 800, 171, 156, 290, 459, 647, 402, 586, 1601, 576, 947, 215, 674, 267, 792, 199, 504, None, 456, 69, 1294, 1872, 1291, 1745, 114, 3394, None, 1018, 525, 950, 1498, 130, 2384, 590, 1072, 649, 432, 378, 2465, 1215, 1029, 495, 1228, 1612, 2035, 1178, 590, 322, 196, 298, 533, 1767, 1440, 496, 204, 2599, 48, 1020, 185, 963, 488, 144, 2345, 1816, 1086, 829, 3033, 2482, 1312, 2008, 1011, 636, 1292, 1043, 1087, 212, 230, 644, 3070, 438, 3, 199, 1228, 394, 190, 236, 1268, 532, 728, 111, 1087, 697, 881, 1735, 2014, 866, 620, 399, 129, 121, None, 649, 1819, None, 107, 483, 190, 749, 67, 942, 2366, 139, 1709, 756, 1242, 829, 255, 1950, 190, 866, 373, 682, 106, 59, 786, 2242, 871, 1231, 793, 139, 385, 403, 224, 239, 788, 2185, 2050, 947, None, 1957, 130, 2493, 452, 130, 617, 320, 258, None, 111, 1442, 48, 161, 991, 55, 139, 2065, 294, 891, 180, 210, 570, 474, 950, 36, 2804, 1667, 212, 168, 1610, 52, 586, 1003, 1619, 829, None, 1123, 1526, 41, 1764, 1694, 1883, 109, 1442, 2109, 1994, 661, 936, 207, 1377, 212, 538, 935, 146, 1695, 1040, 537, 66, 55, 312, 121, 2300, 211, 1972, 407, 16, 1735, 56, 688, 816, 320, 911, 2174, 649, 534, None, 1082, 661, 600, 1596, 258, 788, 443, 1376, 711, 806, 2575, 484, 787, 117, 2069, 768, 211, 950, 180, 618, 215, 112, 684, 432, 2325, 2014, 586, 152, 3297, 1612, 562, 83, 1144, 914, 1643, 312, 256, 502, 1046, 884, 989, 125, 1255, 343, 590, 405, 1965, 2952, 745, 789, 1369, 400, 619, 149, 302, 517, 2308, 1039, 1907, 705, 316, 2402, 1442, 452, 997, 147, 432, 955, 727, 1803, 673, 428, 956, 438, 1242, 1018, 949, 1035, 1287, 55, 617, 620, 773, 256, 748, 306, 253, 1761, 311, 684, 1246, 319, 399, 711, 2008, 385, 113, 937, 1451, 749, 425, 2267, None, 1878, 403, 1678, 424, 453, 491, 430, 331, 840, 1099, 1085, 496, 617, 2242, 1523, 106, 729, 958, 1869, None, 1835, 295, 551, 202, 4, 784, 1442, 146, 2255, 2392, 221, 612, 1100, 545, 855, 236, 152, 939, 438, 331, 1087, 1166, 965, 99, 491, 274, 661, 793, 146, None, 1243, 33, 48, 649, 394, 273, 348, 1502, 2400, 2691, 661, 647, 2772, 527, 149, 577, 1970, 2373, 41, 1309, 1004, 293, 2759, 1229, 950, 1603, 2811, 306, 215, 1187, 1195, 2, 399, 2768, 1943, 491, 936, 947, 946, 2347, 858, 133, 118, 955, 33, 1226, 53, None, 614, None, 661, 1557, 37, 604, 1385, 782, 464, 672, 211, 3002, 1693, 372, 636, 615, 2602, 478, 253, 706, 1382, 1424, 47, 113, 431, 765, 1041, 435, 343, 2506, 3033, 842, 158, 294, None, 1404, 840, 858, 438, 1222, 192, 45, 424, 1987, 2756, 1002, 213, 399, 1852, 500, 1195, 1264, 1188, 2192, 55, 403, 92, 1306, 1396, 502, None, 2987, 1584, 950, 376, 882, 449, 144, 117, 159, 113, 411, 147, 65, 1106, 309, 604, 468, 106, 286, 2571, 619, 303, 2032, 590, 2674, 303, 106, 1049, 1348, 946, 346, 798, 1299, 144, 215, 902, 661, 192, None, 1268, 761, 243, 947, 617, 661, 586, 729, 665, 1286, 549, 349, 1174, 179, 828, 731, 642, 843, None, 792, 295, None, 947, 321, 792, 2150, 447, 1592, 1451, 283, 659, 652, 403, 517, 403, 807, 722, 2044, 199, 55, 62, 214, 1885, 645, 727, 187, 391, 1186, 294, 958, 2934, 1212, 531, 300, 882, 1877, 1427, 385, 949, 456, 136, 1226, 256, 1112, 219, 142, 1112, 590, 394, 149, 499, 792, 811, 932, 2168, 491, 947, 950, 352, 2075, 1065, None, 1598, 55, 1695, 111, 970, 840, 274, 781, 866, 464, 192, 1062, 358, 2678, 2835, 727, 522, 216, 256, 905, 401, 274, 476, 1827, 135, 93, 366, 1011, 2022, 970, 946, 294, 274, 181, 2042, 2422, None, 560, 1482, 481, 319, 161, 536, 183, 42, 1918, 706, 228, 848, 1815, 792, 199, 1169, 306, 2162, 23, 1241, 1229, 473, 215, 243, 361, 1186, 505, 144, 425, 1002, 717, 576, 32, 781, 759, 2704, 202, 1070, 1076, 106, 1401, 522, 1063, 313, 1869, 668, 1231, 162, 2380, 230, 38, 423, 267, None, 289, 1941, 133, 187, 443, 1362, 1248, 435, 1609, 303, 791, 310, 40, 288, 885, 936, 2163, 55, 1249, 300, 825, 296, 781, 237, 1064, 196, 294, 2443, 320, 1801, 1818, 911, 144, 1435, 29, 759, 871, 196, 1526, 402, 649, 158, 1446, 823, 258, 1798, 435, 223, 1357, 1025, 168, 722, 2482, 195, 1251, 244, 2065, 1002, 385, 953, 567, 2845, 124, 784, 907, 482, 1990, 696, 1767, None, 649, 1515, 306, 2221, 613, 1867, 988, 32, 179, 541, 1889, 47, 1090, 1435, 1077, 563, 272, 80, 1457, 192, 661, 1484, 112, 2227, 31, 1680, 2130, 1543, 788, 114, 207, 781, 117, 111, 158, 477, 1280, 1604, 334, 575, 452, 1802, 1233, 148, 144, 1613, 956, 1616, 521, 649, 424, 81, 1007, 661, 193, 1376, 1526, 684, 2477, 64, 1604, 1741, 240, 2139, 2848, 661, 1769, 1981, 121, 643, 50, 373, 614, 587, 558, 1599, 68, 613, 268, 263, 23, 910, 782, 1941, 1048, 661, 461, 1623, 58, 749, 1508, 579, 383, None, 706, 835, 213, 3306, 957, 1854, 1519, 1035, 1002, 185, 130, 120, 384, 1186, 3016, 212, 436, 2248, 215, 360, 673, 1066, 311, 1189, 1286, 1495, 726, None, 138, 1062, 2131, 2291, 263, 729, 457, 525, 1039, 1601, 653, 199, 133, 438, 200, 2139, 2040, 402, 2470, 1062, 1701, 472, 443, 1724, 65, 431, 308, 2056, 60, 1314, 428, 914, 447, 1635, 1004, 1533, 131, 2482, 717, 320, 625, 472, 1137, 661, 55, 1130, 50, 1143, 121, 2151, 890, 610, 3271, 2311, 222, 2962, 2774, 973, 914, 1123, 2174, 1880, 238, 190, 209, 2306, 2718, 334, 663, 69, 99, 1269, 1961, 65, 1299, 2193, 2949, 1822, 447, 1430, 276, 443, 636, 110, 256, 452, 1348, 431, 768, 2985, 37, 391, None, 215, 2754, 1033, 400, 661, 130, 139, 729, 106, 259, 780, 503, 177, 958, 2571, 2223, 195, 870, 1437, 207, 2174, 561, 1035, 633, 1009, 784, 47, 2787, 53, 1, 751, 620, 966, 146, 189, 2371, 400, 728, 947, 2507, 107, 1273, 786, 1076, 633, 989, 1449, 911, None, 624, 2629, 316, 294, 148, 647, 706, 183, 2242, 194, 1716, 706, None, 214, 303, 723, 298, 1515, 1380, 1249, 322, 790, 643, 1144, 267, 1693, 933, 1688, 1061, 819, 531, 1885, 1143, 375, 2323, 1584, 400, 179, 789, 197, 1309, 300, 1620, 307, 245, 777, 3, 2023, 55, 362, 1617, 568, 614, 434, 1041, 1981, 341, 189, 357, 1214, 1309, 684, 946, 212, 111, 869, 1008, 444, 2593, 617, 2962, 798, 1526, 412, 969, 256, 2570, 448, 1489, 723, 1034, 797, 2161, 49, 29, 1086, 1435, 106, 781, 1849, 1255, 617, 792, 1819, None, 443, 661, 1420, 792, 154, 90, 357, 536, 999, 381, 195, 478, 79, 197, 1807, 876, 277, 144, 783, 503, 305, None, 1342, 749, 46, 1019, 1485, 941, None, 949, 389, 720, 791, 207, 258, 400, 402, 334, 832, 61, 1526, 465, 556, 109, 2669, 586, 2006, None, 503, 215, 2844, 1880, 586, 716, 3074, 278, 629, 989, 378, 1704, 478, 30, 614, 192, 299, 29, 1686, 2426, 29, 3341, 955, 317, 213, 1195, 3227, 522, 1038, 194, 456, 385, 1086, 292, 827, 503, 768, None, 305, 1849, 1354, 711, None, 2455, None, 4, 942, 932, 2872, 370, 41, 859, 1592, 647, 388, 1300, 1640, 1484, 514, 672, 311, 2109, 411, 386, 790, 50, 710, 321, 185, 988, 950, 1298, 721, 2056, 582, 442, 47, 1143, 2139, 615, 236, 1419, 1084, 29, 83, 438, 446, 756, 2, 1454, 483, 946, 1526, 1318, 1, 1230, 306, 910, 312, 1187, 443, 661, 941, 1393, 636, 301, 117, 297, None, 1264, 1446, 200, 1220, 289, 1936, 2099, 499, 207, 207, 287, 1612, 130, 311, 729, 1062, 55, 185, 1183, 870, 411, 300, 946, 29, 133, 378, 3, 150, 415, 647, 1304, 947, 1880, 155, 997, 2305, 309, 373, 617, 645, 1419, 109, 783, 453, 277, 1396, 124, 1981, 617, 391, 927, 149, 607, 1699, 868, 1288, 34, 507, 561, 1599, 238, 331, 615, 1174, 189, 918, 220, 956, 1940, 1889, 696, 295, 453, 3113, 255, 989, 994, 1745, 274, 590, 121, 3, 332, 132, 736, 307, None, 1187, 661, 141, 2321, 1049, 673, 653, 888, 299, 456, 1626, 379, 442, None, 684, None, 544, 661, 162, 300, 198, 2072, 391, 49, 1008, 1091, 1771, 438, 2407, 1260, 31, 195, 3413, 1683, 190, 989, 1257, 1440, 1332, 557, None, 178, 590, 396, 1644, 155, 51, 297, 1485, 114, 1444, 2159, 298, 132, 54, 1287, 783, 587, 1798, 307, 189, 443, 1745, 255, 253, 1724, 258, 294, 1393, 1367, 152, 1216, 1240, 914, 647, 1647, 617, 334, 280, 777, 320, 258, 151, 788, 114, 212, 121, 276, 535, 61, 805, 1040, 828, 444, 1188, 355, 309, 214, None, 729, 997, 2619, 443, 2109, 29, 1957, 882, 1985, 617, 2265, 424, 1493, 1304, 1026, 742, 940, 196, 496, 125, None, 1350, 1437, 256, 1049, 2463, 464, 402, 106, 357, 684, 1306, 357, 3107, 267, 1144, 1066, 55, 129, 661, None, 561, 207, 103, 949, None, 999, 252, 840, 2403, 425, 559, 1286, 68, 256, 1645, 1465, 792, 53, 447, 866, 482, 1006, 789, 410, 343, 1274, 294, 114, 320, 661, 294, 612, 947, 842, 941, 468, 800, 1052, 196, 888, 1033, 1449, 332, 622, 59, 180, 441, 134, 162, None, 1735, 1188, 2225, 1188, 376, 273, 180, 384, 135, 283, 315, 1062, 1571, 1599, 404, 344, 400, 1456, 586, 504, 1385, 761, 1815, 800, 491, 29, 299, 259, 2082, None, None, 871, 211, 256, 1196, None, 769, 1257, 610, 351, 1805, 177, 311, 1577, 1332, 323, 1777, 667, 1040, 434, 155, 47, 1274, 1584, 199, 2128, 208, 2062, 833, 68, 729, 444, 88, 133, 709, 1059, 29, 2470, 420, 2420, 1323, 273, 772, 2227, 1482, 90, 1954, 797, 1849, 636, 473, 125, 349, 106, 665, 432, 29, None, 1228, 696, 342, 283, 1092, 792, 409, None, 109, 355, 1767, 1040, 292, 2686, 405, 312, 2007, 87, 906, 201, 400, 495, 1091, 1500, 2579, 2573, 1148, 2239, 288, 2477, 1598, 2383, 1286, 193, 461, 151, 425, 1435, 1648, 318, 2103, 636, 1062, 135, 2062, 558, 2056, 328, 2265, 1009, 1618, 224, 576, 525, 357, 432, 158, 312, 319, 212, 499, 2071, 855, 556, 829, 711, 377, 871, 2760, 570, 376, 2065, 1735, 468, 2056, 678, 360, 135, 1273, 987, 1979, 130, 1023, 1303, 2496, None, 435, 128, 1614, 29, 342, 377, 317, 1034, 561, 2140, 1302, 517, 792, 965, 697, 1599, 1611, 731, 59, 663, 661, 883, 243, 151, 2, 80, 724, 1501, 189, 495, 90, 1195, 357, 352, 1727, 2754, 272, None, 1667, 956, 1599, 697, 2373, 211, 558, 211, 37, 831, 797, None, 2400, 1041, 1614, 201, 399, 407, 988, 1725, 124, 432, 949, 923, None, 1334, 139, 947, 1305, 400, 1348, 2402, 140, 238, 1735, 237, 268, 974, 832, 1614, 1302, 2805, 1599, 148, 1062, 2012, 1609, 2573, 586, 28, 829, 721, 275, 198, 588, 215, 50, 859, None, 2617, 1195, 2038, 237, 1499, 989, 1326, 48, 2491, 443, 769, 471, 374, 233, 196, 2165, 47, 400, 139, 1386, 1418, 1435, 370, 134, 1437, 820, 49, None, 1877, 312, 968, 574, 1368, 706, 758, 1606, 535, 328, 2226, 189, 525, 2329, 988, 525, 769, 201, 1040, 2242, 1131, 361, 196, 884, 1623, 774, 208, 378, 957, 294, 1081, 590, 1334, 1003, 113, 357, 2942, 723, 402, 1068, 68, 340, 1603, 586, 385, 1311, 661, 615, 336, 827, 195, 34, 377, 153, 135, 783, 731, 2193, 1970, 590, 3118, 1440, 213, 2181, 649, 1374, 281, 294, 539, 792, 1352, 2007, 425, 840, 278, 180, 1268, 189, 1937, 604, 184, 563, 2174, 30, 1457, 1005, 306, 2, 296, 823, 1601, 59, 1952, 1299, 906, 319, 1409, 717, 610, 1435, 2151, 615, 570, 1348, 2987, 862, 576, 299, 1503, 1596, 947, 1617, 419, 1123, 132, 378, 2900, 970, 577, 130, 3190, 400, 286, 1875, 1074, 2159, 325, 1888, 1437, 1503, 1133, 124, 200, 641, 221, 564, 1872, 632, 214, 310, 638, 39, 325, 792, 569, 956, 38, 1458, 2759, 352, 84, 989, 1222, 65, None, 1302, 664, 241, 451, 1500, 293, 956, 630, 911, 937, 517, 1303, 407, 2514, 908, 1504, 212, 615, 1301, 2514, 1444, 29, 68, 1694, 1224, 300, 1519, 400, 784, 521, 1678, 2531, 661, 672, 158, 90, 1533, 158, 366, None, 130, 299, 419, 1942, 1114, 1072, 2811, 159, 1571, 1825, 1679, 109, 151, 473, 682, 128, 152, 562, 411, 87, 617, 684, 1004, 195, 128, 723, 1224, 135, 1584, 668, 432, 2531, 735, 661, 1815, 314, 936, 1264, 661, 500, 256, 1077, 869, 784, 1141, 1299, 211, 380, 710, 2131, 1066, 799, 380, 385, 1143, 1144, 327, 1326, 211, 3446, 3165, 527, 3133, 661, 515, 911, 277, 152, 195, 2244, 38, 189, 2059, 617, 777, 177, 215, 524, 42, 293, 173, 298, 1735, 2130, 1068, 1528, 399, 300, 628, 954, 29, 346, 800, 971, 52, 532, 1066, 334, 715, 186, 195, 341, 2038, 65, 2413, 403, 1018, 480, 500, 111, 199, 1028, 268, 309, 593, 186, 319, 1006, 2014, 649, 415, 2560, 2680, 3350, 1815, 244, 17, 244, 451, 806, 828, 846, 1740, 1767, 274, 1663, 825, 829, 613, 911, 61, 1332, 829, 1269, 1301, 390, 906, 1424, 244, 357, 310, 1, 177, 3230, 303, 1295, 2007, 1062, 1709, 113, 1723, 827, 368, 88, 717, 1612, 148, 1263, 1065, 177, 179, 349, 1222, 1487, 67, 1526, 468, 661, 792, 905, 560, 914, 39, 1526, 278, 1526, 134, 711, 192, 293, 661, 276, 57, 1604, 3413, 478, 1484, 729, 774, 1620, 298, 345, 570, 198, 653, 1651, 2942, 1469, 1062, 2744, 661, 335, 1274, 130, 207, 1905, 349, 323, 1002, 1241, 212, 189, 1737, 122, 955, 197, 1599, 259, 1640, 528, 87, 1849, 1221, None, 121, None, 964, 3022, 332, 819, 570, 1081, None, 866, 950, 418, 1047, 213, 1231, 1872, 370, 145, 1625, 734, 538, 950, 577, 696, 121, 1701, 720, 362, 1299, 1231, 1141, 1930, 153, 617, 180, 808, 1877, 908, 1120, 144, 211, 2035, 1689, 1510, 355, 312, 298, 373, 401, 765, 1437, 1188, 86, 723, 848, 2974, 1348, 697, 1814, 185, 1908, 2253, 598, 161, 2492, 196, 1435, 717, 1246, 401, 1957, 111, 135, 1967, 556, 1348, 1599, 355, 1616, 958, 1301, 256, 1044, None, 200, 1798, 2035, 273, 500, 657, 678, 827, 30, 1342, 3075, 550, 987, 1877, 47, 617, 482, 914, 379, 1253, 792, 1625, 247, 1459, 950, 1263, 1105, 947, 1485, 1305, 851, 277, 2267, 230, 1195, 755, 1625, 2416, 1707, 192, 1047, 2332, 624, 492, 1872, 112, 946, 160, 1123, 52, 586, 1348, 1682, 1465, 458, 522, 614, 1500, 746, 1532, 991, 1431, 1089, 2355, 1328, 208, 99, None, 1981, 1819, 30, 274, 490, 1640, 1598, 343, 951, None, 2066, 575, 1519, 764, 402, 950, 723, 2233, 492, 212, 2698, 189, 60, 729, 728, 797, 1437, 132, 899, 344, 1591, 3171, 728, 958, 1066, 1020, 383, 1085, 1003, 894, 549, 1067, 2132, 503, 2143, 727, 212, 1977, 1144, 503, 615, 1740, 516, 200, 777, 661, 2, 183, 1767, 1326, 661, 403, 386, 989, 1452, 194, 2491, 400, 668, 632, 29, 538, 399, None, 1328, 827, 86, 458, 1596, 199, 358, 661, 56, 1167, 1302, 1112, 577, 2065, 90, 661, 1596, 194, 835, 352, 950, 258, 424, 829, 577, 66, 1571, 153, 552, 1435, 452, 661, 947, 1716, None, 1918, 2015, 706, 311, 425, None, 238, 499, 550, 653, 1299, 1081, 275, 936, 480, 661, 595, 1072, None, 50, 2528, 90, 120, 299, 1584, 342, 1678, 481, 296, 2590, 954, 840, 458, 1085, 1644, 480, 66, 420, 953, 1437, 328, 1598, 48, 661, 972, 1037, 1532, 286, 661, 321, 492, 1599, 285, 661, 2891, 1023, 226, 49, 742, 195, 1486, 133, 679, 759, 3094, 519, 52, 1068, 640, 1618, 349, 380, 341, 109, 2127, 475, 32, 2403, 250, 3027, None, 1120, 391, 1437, 190, 1237, 684, 160, 556, None, 949, 69, 273, 286, 195, 402, 806, 121, 124, 87, 1241, 525, 211, 617, 697, 382, 391, 1015, 2046, 1957, 1695, 499, 630, 509, 192, 189, 1406, 148, 90, 615, 629, 783, 114, 1665, 32, 278, 2125, 248, 185, 1524, 198, 68, 153, 1302, 57, 1188, 1947, 954, 47, 320, 148, 1601, 267, 2099, 464, 2053, 355, 444, 135, 956, 196, 402, 51, 1262, 1324, 453, 303, 2193, 586, 310, 731, 1119, 320, 2306, 761, 52, 831, 385, 2329, 1885, 1230, 1427, 307, 263, 53, 312, 792, None, 215, 614, 617, 649, 1299, 523, 291, 667, 894, 1751, None, 936, 551, 1195, 158, 937, 88, 380, 288, 2324, 1250, 253, 67, 1183, 604, 531, 997, 90, 768, 1500, 577, 881, 1081, 1442, 1840, 3094, 370, 56, 954, 48, 1427, 457, 500, 1143, 1231, 1449, 258, 1344, 555, 53, 1992, 134, 321, 534, 134, 573, 207, 403, 207, 661, 1606, 1599, 881, 1684, 248, 714, 1526, 1747, 1362, 399, 288, 1922, 1195, None, 106, 499, 452, 272, 139, 660, 358, 323, 184, 3028, 31, 1234, 139, 287, 66, 461, 1758, 1892, 1966, 1877, None, 1231, 827, 1437, 3346, 1120, 2012, 55, 346, 661, 2163, 41, 1020, 448, 124, 293, 1026, 453, 665, 343, 535, 2841, 142, 883, 4, 122, 86, 278, 273, 796, 661, 777, 1267, 661, 1892, 768, 1457, 814, 1049, 783, 310, 138, 385, 381, 113, 405, 1571, 590, 111, 1767, 428, 1504, 2403, 545, 1206, 1722, 562, 523, 914, 311, 954, 68, 640, 729, 1648, 1261, 523, 2185, 208, 96, 932, 114, 1268, 854, 117, 139, 88, 753, 375, 2491, 372, 294, 867, 0, 613, 256, 2008, 1034, 1077, 1798, None, 1018, 116, 518, 1879, 407, 1189, 1947, 2035, 994, 1930, 590, 121, 1446, 905, 749, 729, 2007, 54, 808, 1970, 370, 2039, 2127, 1771, 1769, 663, 643, 1086, 2404, 615, 113, 30, None, 2926, 1249, 432, 166, 534, 1088, 792, 883, 134, 988, 827, 1123, 1623, 280, 486, 403, 1215, 1026, 166, 355, 231, None, 947, 403, 352, 2609, 619, 46, 399, 215, 956, 674, 2212, 255, None, 1451, 913, 590, 525, 1767, 121, 1188, 2157, 195, 949, 1849, 1409, 1985, 667, 1849, 500, 424, 523, 932, 1065, 41, 2820, 970, 1610, 914, 882, 461, 1699, 214, 45, 1292, 759, 949, 443, 1486, 828, None, 2648, 30, 1604, 1049, 655, 215, 1803, 212, 378, 30, 1123, 56, 1942, None, 784, 829, 2270, 617, 1231, 281, 61, 2082, 1767, 2121, 347, 2318, 59, 313, 1032, 294, 147, 1533, 2121, 727, 1040, 34, 491, 450, 1072, 1066, None, 2756, 1016, 296, 1065, 357, 332, 418, 363, 570, 256, 380, 300, 832, 881, 3, 27, 65, 409, 1735, 431, 451, 765, 749, 130, 189, 1243, 499, 400, 461, 65, 684, 619, 1767, 342, 180, 1916, 1434, 46, 568, 592, 370, 68, 627, 720, 1434, 1437, 2347, 2267, 138, 1416, 1435, 649, 1229, 234, 29, 2952, 1584, 273, 1, 1479, 402, 1892, 432, 352, 536, 576, 564, 661, 754, None, 1406, 138, 478, 259, 350, 1449, 636, 299, 642, 193, 788, 1068, 169, 199, 1314, 521, 133, 106, 1016, 663, 936, 1348, 39, 432, 781, 230, 195, 1435, 1216, 175, 1997, 2545, 1462, 278, 787, 118, 772, 661, 3234, 159, 1444, 2, 948, 352, 2214, 1786, 1513, 1003, 383, 2175, 499, 550, 1741, 3006, 496, 586, 1515, 256, 1072, 1244, 1872, 500, 146, 298, 1112, 460, 610, 783, 696, 1066, 480, 1599, 1161, 468, 1091, 566, 152, 399, 1070, 947, 1815, 1752, 207, 400, 552, 366, 814, 768, 1020, 706, 1525, 1354, 268, 984, 568, 906, 2128, 2418, 221, 430, 386, 1184, 1292, 55, 661, 954, 1535, 831, 2233, 259, 109, 317, 2373, 1486, 1018, 391, 1428, 1617, 1230, 1065, 359, 258, 1618, 349, 1003, 1519, 997, 449, 1086, 2162, 888, 1264, 1187, 725, 54, 724, 491, 701, 1695, 569, 185, 1954, 334, 262, 2054, None, 1043, 1449, 200, 684, 491, 1003, 394, 661, 464, 429, 305, 155, 142, 1066, 820, 468, 1233, None, 215, 708, 263, 1620, 149, 1326, 366, 655, 154, 971, 1263, 1688, 2055, 180, 314, 1771, 792, None, 776, 709, 585, 1590, 400, 1143, 881, 1456, 1223, 496, 2150, 438, 1982, 1167, 2181, 306, 207, 591, 383, 349, None, 197, 1273, 192, 2192, 941, 1072, 1242, 370, 609, 2, 2253, 438, 386, 308, None, 1063, 180, 151, 661, 697, 988, 201, 256, 781, 1457, 121, 932, 178, 792, 244, 728, 249, 782, 430, 1609, 263, 267, 2295, 2810, 483, 1451, 1640, 4, 349, 198, 400, 1076, 431, 1120, 1062, 1062, 945, 1987, 944, 932, 1679, 405, 1437, 800, 394, 1357, 586, 401, 1571, 1153, 1217, 696, 783, 207, 253, 638, 4, 3, 1519, 272, 930, 2196, 617, 966, 776, 1442, 1087, 322, 562, 661, 1457, 278, 2253, 55, 999, 36, 2193, 409, 153, 1908, 840, 2526, 141, None, 121, 1299, 667, 377, 2065, 1210, 2165, 999, 905, 1300, 379, 215, 637, 523, 1693, 301, 617, 38, 600, 276, 1940, 617, 1188, 1269, 272, 731, 653, 425, 1043, 1186, 1406, 1006, 46, 1228, 189, 302, 2012, 139, 1392, 331, None, 1377, 90, 2032, 315, 1798, 208, 546, 110, 432, 46, 2422, 385, 1273, 90, 661, 1848, 1174, 264, 1205, 932, 123, 1457, 1825, 395, 1246, 284, 3058, 138, 476, 403, None, 386, 2109, 643, 199, 192, 190, 190, 661, 1677, 279, 673, 54, 190, None, 2139, 308, 503, 777, 858, 947, 434, 321, None, 1264, 3014, 42, 783, 911, 1815, 1191, 1234, 949, 226, 1106, 29, 1019, 1226, 400, 1849, 965, None, 562, 348, 1554, 1043, 219, 59, 500, 385, 610, 117, 722, 139, 1195, 202, 64, 1651, 3145, 1848, 1700, 613, 286, 823, 510, 1007, 1467, 154, 1085, 184, 1849, 885, 1016, 105, 282, 2557, 2493, 1035, 808, 471, 118, 325, 931, 192, 841, 881, 106, 561, 420, 320, 1736, 1678, 1105, 1444, 1223, 195, 1066, 285, 227, 546, 1244, 1950, 489, 403, 197, 139, 401, 500, 713, 1849, 1991, 1013, 288, 947, 1249, 557, 114, 2136, 126, 90, 259, 340, 374, 1718, 2744, 68, 1435, 2323, 483, None, 215, 1435, 51, 386, 1019, 987, 2699, 336, 1612, 661, 749, 1807, 531, 661, 298, 711, 823, 604, 2007, 3117, 691, 140, 147, 380, 536, 1143, 3, 1724, 58, 1735, 212, 48, 1403, 287, 1736, 394, 881, 950, 1440, 2400, 1930, None, 1687, 2017, 384, 29, 273, 114, 227, 1997, 937, 481, 331, 1623, 2256, 1706, 580, 969, 1437, 199, 418, 1228, 433, 1299, 514, 1526, 277, 55, 29, 347, 711, 231, 1026, 50, 121, 343, 1064, 797, 759, 1062, 971, 36, 1178, 1880, 243, 2165, 1928, 124, 184, None, 323, 347, 130, 171, 1105, 207, 358, 432, 211, 888, 79, 138, 1081, 341, 1618, 2293, 1332, 453, None, 577, 144, 1735, 972, 390, 189, 144, 432, 792, 376, 1007, 800, 432, 716, 1809, 1334, 1751, 456, 1011, 214, 189, 1576, 1047, 697, 425, 523, 974, 1311, 869, 590, 322, 323, 827, 529, 1081, 731, 2659, 1067, 1143, 832, 653, 3, 955, 570, 2366, 496, 2002, 1311, 243, 614, 152, 189, 1036, 1062, 1434, 346, 283, 159, 370, 1089, 734, 224, 385, 432, 1465, None, 2015, 792, 300, 1714, 1442, 139, 577, 438, 1614, 928, 2019, 2825, 189, 1440, 357, 1412, 577, 1179, 642, 1495, 212, 2255, 277, 471, 1969, 561, 130, 355, 956, 0, 797, 432, 450, 851, 411, 396, 191, 989, 523, 729, 661, 2177, 2175, 343, 607, 374, 570, 355, 1286, 883, 499, 3201, 956, 313, 814, 636, 1229, 473, 436, 46, 1599, 403, 256, 55, 126, 400, 1767, 2353, 1295, 186, 507, 364, 1059, 1669, 180, 278, 955, 1026, 772, 90, 1885, 1011, 2350, 238, 2226, 258, 273, 562, 1442, 2131, 661, 306, 984, 882, 461, 1246, 592, 379, 300, 1671, 575, 614, 589, 2972, 439, 109, 955, 273, 1526, 59, 1442, 882, 2, 705, 2, 200, 656, 661, 1342, 1815, 370, 503, 79, 2942, 146, 2132, 458, 532, 1635, 2686, 278, 1442, 197, 661, 653, 293, 1312, 2171, 1088, 2582, 196, 1286, 710, 1985, 727, None, 126, 443, 435, 432, 29, 138, 926, 310, 400, 2195, 311, 310, 1833, 190, 516, 41, 534, 440, 313, 1332, 115, 120, 2416, 1026, 1910, 179, 24, 1322, 1840, 640, 109, 661, 402, 819, 1493, 1286, 400, 944, 483, 184, 969, 792, 2671, 1049, 154, 55, 631, 523, 457, 792, 536, 442, 204, 499, 435, 3433, 1745, 483, 1562, 831, 400, 63, 435, 794, 661, 1755, 1614, 435, 661, 930, 968, 357, 789, None, 244, 848, 480, 273, 1592, 48, 843, 1818, 775, 586, 781, 1227, 317, 298, 941, 471, 1143, 617, 559, 519, 1417, 2844, 306, None, 77, 531, 3079, 661, 943, 1087, 2817, None, 1088, 130, 495, 386, 54, 352, 862, 3089, 620, 782, 1598, 1479, 1735, 68, 314, 1143, 661, None, 236, 80, 946, 1809, 0, 2321, 139, 1442, 2213, 1220, 212, 950, 706, 3298, 483, 591, 125, 1740, 496, 499, 59, 3110, 2248, 144, 67, 471, 1195, 1144, 956, 199, 150, 2174, 866, 273, 128, 1699, 1573, 954, 244, 661, 1064, 829, 1090, 661, 958, 1195, None, 451, 244, 1805, 729, 480, None, 1257, 2844, 576, 2528, 349, 547, 343, 434, None, 224, 2338, 483, 135, 136, 248, 178, 1818, 950, 465, 577, 274, 968, 394, 590, 1017, None, 1004, 190, 307, 1187, 614, 613, 349, 198, 120, 471, 258, 527, 32, 357, 614, 1707, 268, 419, 236, 114, 439, 196, 577, 682, 1170, 661, 447, 848, 1970, 1269, 130, None, 2136, 1735, 403, 1509, 385, 1872, 55, 2249, 274, 1243, 614, 1696, 1815, 1233, 1152, 321, 534, 937, 1686, 294, 200, 2121, 278, 644, None, 34, 1878, 298, 1903, 453, 914, 64, 947, 0, 1002, 158, 277, 2177, 1004, 443, 316, 160, 2132, 503, 927, 288, 273, 63, 644, 3200, 111, 615, 610, 380, 3, 240, 1591, 2199, 275, 524, 521, 400, 58, 1163, 1716, 197, 273, 2022, 561, 311, 32, 661, 1395, 728, 1941, 974, 392, 2355, 349, 1609, 246, 866, 111, 866, 2420, 437, 1599, 663, 906, 723, 401, 859, 947, 1519, 729, 930, 170, 2044, 56, 641, 615, 710, 177, 1543, 386, 369, 3078, 1268, 681, 377, 729, 196, 962, 2181, 190, 1725, 657, 456, 586, 49, 2075, 2103, 706, 557, 806, 1008, 114, 432, 1825, 432, 178, 428, 1065, 1467, 649, 280, 1028, 1500, 132, 267, 681, 33, 106, 196, 1040, 2876, 124, 1459, 48, 136, 451, 1758, 882, 50, 428, 585, 68, 138, 755, 1049, 108, 1300, 2139, 604, 385, 2320, 212, 1091, 1119, 121, 1144, 924, 109, 155, 348, 797, 34, 407, 121, 723, 194, 210, 189, 326, None, 130, 130, 1273, 727, 30, 2008, 534, 1373, 727, 307, 1038, 151, None, 633, 581, 577, 2166, 380, 883, 50, 1409, 215, 1922, 521, 201, 2427, 279, 29, 233, 299, 268, 236, 553, 272, 643, 1849, 50, 1300, 458, 519, 117, 1943, 256, 615, 27, 438, 1467, 911, 1740, 1041, 749, 211, 1065, 1305, 1815, 1592, 649, None, 827, 54, 2139, 562, 2164, 259, 2104, 2306, None, 237, 41, 2903, 716, 582, 2139, 3069, 989, 792, 43, None, 418, 944, 532, 369, 125, 1049, 112, 1066, 400, 1526, 1201, 1686, 196, 2270, 1178, 1449, 130, 1485, 105, 3, 30, 1066, 1945, 569, 320, 194, 749, 1065, 263, 1981, 3, 1990, 1163, 1735, 866, 1112, 819, 115, 1244, 121, 832, 847, 701, 1908, 461, 134, 797, 1306, 403, 1523, 284, 2593, 2256, 797, 819, 1892, 1130, 1188, 1880, 1571, 238, 358, 931, 103, 1828, 273, 2139, 471, 1268, 844, 1442, 1215, 617, 263, 636, 1553, 3316, 1267, 125, 1034, 211, 1640, 79, 287, 936, 58, 158, 0, 133, 661, 989, 1494, 477, 194, 2400, 244, 59, 781, 403, 1395, 1112, 90, 159, 152, 969, 887, 357, None, 1733, 121, 173, 213, 307, 479, 615, 1299, 1088, None, 728, 2247, 684, 1599, 259, 1301, 1771, 781, None, 445, 262, 229, 192, 471, 1086, 1269, 935, 936, 1995, 1057, 2127, 2688, 636, 46, 389, 1923, 478, 896, 537, 1951, 58, 1229, 2044, 3, 600, 59, None, 728, 400, 1942, 620, 937, 2, 40, 946, 109, 380, 148, 184, 40, 2350, 312, 54, 47, 400, 1755, 525, 457, 2349, 1444, 1440, 274, 1451, None, 1263, 399, 587, 1849, 620, 195, 332, 255, 586, None, 2418, 661, 121, 335, 357, 1065, 632, 124, 328, 661, 1, 1437, 503, 29, 495, 950, 347, 1730, 230, 3, 417, 1774, 195, 696, 1066, 936, 827, 380, 1970, 453, 2253, 195, 665, 566, 2060, None, 278, 197, 453, 1598, 1226, 1950, 1174, 855, 614, 1932, 1625, 1195, 650, 1048, 433, 1186, 400, 2560, 869, 135, 645, 3298, 268, 1769, 928, 249, 114, 2165, 2281, 408, 829, 319, 881, None, 2044, 1040, 1942, 2151, 907, 320, 1614, 256, 189, 279, 857, 28, 1814, 327, 1635, 759, 199, 130, 1610, 729, 674, 1229, 910, 1004, 180, 949, 723, 189, 244, 1835, 352, 499, 3341, 1084, 158, 1465, 118, 2075, 1305, 405, 935, 579, 1105, 629, 46, 661, 170, 442, 649, 1614, None, 185, 211, 38, 1241, 45, 2363, 866, 2243, 196, 204, 106, 1406, 189, 832, 545, 1250, 79, 483, 549, 46, 649, 2262, 424, 2620, 3, 378, 275, 68, 985, 1591, 1897, 240, 832, 1592, 947, 402, 2551, 412, 1612, 204, 215, 1803, 590, 341, 203, 279, 452, 784, 307, 792, 661, 1931, 743, 1495, 41, 1074, 403, 241, 457, 478, 1065, 411, 943, 1309, 2042, 401, 285, 1089, 459, 936, 575, 1728, 357, 1123, 1594, 402, 1952, 59, None, 517, 331, 334, 2571, 2019, 2, 403, 2181, 424, 1489, 148, 276, 728, 1693, 1494, 53, 527, 432, 295, 628, 483, 214, 37, 202, 532, 241, 736, 1667, 274, 1561, 169, 63, 49, 1693, 2165, 663, 890, 547, 1010, 974, 792, 1304, 130, 913, 947, 2528, 1519, 2426, 1226, 386, 1751, 344, 2413, 256, 236, 562, 2290, 1532, 295, 293, 347, 2909, 349, 1949, 636, 1246, None, 3, 1112, 1113, 987, 186, 509, 1264, 169, 949, 661, 615, 135, 585, 651, 730, 1866, 130, 1273, 620, 215, 46, 1062, 185, 66, 438, 367, 1599, 128, 1093, 1952, 2, 198, 274, 1241, 453, 281, 391, 1915, 122, 709, 635, 306, 1222, 1178, 1815, 58, 134, 2308, 3071, 47, 597, 2148, 1609, 375, 410, 1, None, 682, None, 171, 575, 107, 540, 661, 1052, 559, None, 832, 55, 857, 882, 1558, 491, 950, 452, None, 2049, 81, 534, 712, 1446, 277, 1560, 3, 1249, 1361, 3113, 394, 1337, 1950, 432, 552, 521, 2952, 661, 1710, 264, 492, None, 159, None, 1301, 442, 1502, 59, 1941, 1087, 36, 653, 615, 56, 717, 259, 148, 797, 3190, 50, 2151, 224, 121, 728, 614, 132, 885, 882, 199, 419, 307, 2046, 303, 636, 2571, 1885, 1227, 1176, 539, 846, 936, None, 507, 2349, 821, 1003, 1195, 1802, 547, 352, 1442, 948, 469, 1606, 1713, 2883, 373, 1561, 1594, 1105, 310, 857, 970, 412, 255, 636, 2247, 1229, 939, 1437, 58, 729, 1316, 306, 617, 2484, 492, 1316, 773, 1596, 2349, 562, 500, 200, 1687, 619, 674, 215, 31, 107, 55, 2075, 1342, 2199, 207, 380, 42, 287, 1758, 1195, 41, 1249, 499, 2373, 717, 2164, 1789, 615, 1299, 984, 574, 2199, None, 2, 653, 2165, 661, 1877, 615, 2075, 236, 1040, 90, 800, 1048, 109, 649, 1435, 2007, 722, 620, 2792, 255, 1509, 194, 2590, 0, 1370, 2361, 940, 1745, 319, 661, 146, 3, 464, 138, 2244, 1241, 1028, 781, 478, 355, 195, 615, 273, 1086, 407, 960, 661, 500, 781, 467, 2404, 110, 1025, 367, 1730, 1221, 576, 541, 195, 2001, 2035, 745, 959, 2674, 347, 1437, 504, 277, 550, 2270, 502, None, 2174, 64, 1486, 1226, 950, 307, 1029, 649, 1853, 428, 950, 472, 195, 722, 83, 661, 2294, 1429, 727, 1695, 207, 2, 2492, 253, 229, 613, 234, 1063, 198, 1740, 1311, 1143, 1085, 1257, 1713, 988, 827, 471, 1217, 180, 128, 513, 108, 181, 1735, 1528, 2630, 531, 552, None, 2066, 386, 555, 1598, 55, 1117, 1431, 130, 636, 2062, 307, 989, 1043, 1286, 1992, 151, 1533, 682, 3343, 914, 48, 192, 936, 819, 1516, 354, 3236, 2078, 386, 585, 941, 1028, 129, 195, 755, 1735, None, 827, 114, 1706, 661, 997, 891, 559, 177, None, 243, 1885, 138, 1186, 45, 352, 1486, 1304, 196, 1174, 661, 300, 408, 2, 610, 888, 1958, 336, 1519, 655, 438, 661, 113, 405, 1745, 936, 405, 114, 421, 787, 405, 1370, 524, 259, None, 357, 67, 781, 1519, 294, 236, 1612, 319, 357, 843, 195, 746, 522, 59, 453, 1077, 276, 1246, 1465, 2740, 114, None, 400, 124, 1264, 197, 1121, 1408, 2768, 223, 334, 1026, 827, 109, 661, 122, 1626, 195, 280, 452, 2144, 1457, 2165, 896, 782, 1068, 306, 617, 2929, 180, 761, 1942, None, 195, 527, 564, 1188, 134, 682, 1677, 667, 321, 1693, 65, 568, 711, 562, 61, 64, 158, 1796, 649, None, 2698, None, 184, 552, 51, 479, 1987, 134, 2705, 138, 548, 1592, 1558, 806, 2017, 267, 384, 183, 420, 2462, 1713, 966, 661, 1598, 313, 193, 3, 434, 791, 1286, 2625, 1321, 1764, 600, 828, 624, 49, 50, 1747, 2321, 1255, 649, 605, 46, 949, 276, 372, 434, 362, 654, 362, 317, 684, 195, 823, 1299, 376, 278, 937, 27, None, 110, 64, 106, 331, 684, 1427, 1809, 2416, 558, 799, 794, 785, 418, 589, None, 989, 425, 204, 117, 1430, 936, 1857, 1249, 911, 776, 571, 1066, 401, 787, 130, 663, 184, 1752, 300, 612, 682, 180, 729, 1000, 1063, 1334, 2314, 1017, 375, 1231, 117, None, 1062, 457, 424, 910, 1026, 585, 411, None, 1029, 858, 615, 55, 576, 1087, 1555, 1435, 2166, 1200, 2033, 240, 1465, 1942, 158, 834, 108, 342, 827, 211, 673, 237, 1740, 2691, 1243, 613, 2760, 479, 189, 399, 2482, 2039, 1406, 47, 215, 1008, 2199, 1964, 2392, 781, 2248, 784, 1612, 827, 610, 641, 1434, 1970, 2974, 482, 519, 649, 144, 1312, 306, 2, 425, 302, 268, 1100, 478, 358, 288, 2863, 1268, 130, 151, 558, 2109, 989, 950, 1583, 14, 2069, 1041, 400, 334, 194, 2403, 1332, 655, 121, 785, 552, 840, 615, 204, 1373, 2229, None, 42, 1195, 1022, 139, 1274, 939, 661, 1268, 800, 386, 1560, 713, 642, 502, 141, 1981, 1869, 798, 1566, 436, 914, 1816, 1242, 491, 1713, 1404, 1314, 2402, 839, 386, 67, 1002, 699, 361, 200, 1495, 67, 728, 661, 34, 950, 3, 499, 369, 1087, 545, 936, 196, 2373, 1839, 569, 438, 373, 400, 1599, 308, 67, 860, 55, 112, 661, 451, 562, 211, 950, 113, 1950, 52, 620, 1434, 654, 2657, 456, 1771, 866, 295, 956, 3227, 881, 2630, 950, 882, 883, 384, 1686, 258, 523, 29, 399, 121, 1849, 999, None, 2199, 1240, 866, 310, 2230, 476, 2141, 954, 117, 400, 617, 617, 196, 661, 947, 190, 1025, 711, 398, 511, 1380, 109, 615, 317, 549, 139, 1221, 240, 902, 966, 274, 390, 503, 37, 1, 2159, 848, 400, 610, 431, 1265, 604, 3410, 452, 832, 759, 629, 2810, 2353, 936, 739, 2046, 106, 613, 1011, 202, 484, 166, 996, 717, 198, 1909, 1062, 1436, 348, 800, 1112, 183, 1128, 1745, 373, 947, 730, 1026, 1003, 1025, 27, 2129, 792, 3, 1200, 1178, 297, 1987, 697, 58, 1304, 90, 811, 642, 1057, 1892, 2, 114, 432, 273, None, 203, 59, 200, 342, 1910, 177, 1682, 1217, 307, 303, 1334, 2555, 522, 1635, 1299, 932, 1040, 238, 514, 380, None, 1057, 3122, 509, 212, 2380, 1062, 386, 3298, 420, 124, 1370, 1735, 2392, 1601, 2628, 1931, 1743, 870, 1735, 357, 120, 180, None, 495, 31, 1143, 385, 1163, 1523, 2698, 723, 312, 1424, 295, 1614, 989, 184, 213, 649, 1686, 452, 1461, 989, 236, 121, 1348, 1427, 2008, 1143, 213, 212, 342, 2491, 522, 256, 1903, 0, 1873, 710, 453, 357, 2236, 914, 701, 357, 1264, 1332, 955, 112, 2602, 325, 1195, 581, 60, 400, 1618, 888, 1377, 503, 710, 1610, 349, 2174, 34, 999, 1085, 194, 2609, 1428, 453, 843, 2329, 936, 947, 2063, 362, 64, 283, 309, 297, 950, 206, None, 402, 32, 1049, 55, 349, 2972, 1740, 2628, 109, 1881, 347, 141, 1667, 144, 1875, 320, 940, 151, 434, 412, 940, 113, 2264, 199, 224, 452, 244, 247, 183, 1062, 502, 159, 341, 2109, None, 1741, 2342, 1347, 452, 1689, 888, 268, 1034, 67, 711, 1599, 215, 620, 438, 192, 714, 1382, None, 261, 765, 684, 404, 1334, 59, 825, 553, 557, 1449, 2239, 1442, 1224, 144, 499, 721, 1186, 908, 306, 1242, 1724, 2363, 950, 306, 150, 930, 1041, 1457, 513, 244, 615, 1348, 386, 112, 199, 562, None, 46, 580, 2221, 661, 610, 2009, 940, 1029, 1300, 231, 276, 1326, 1434, 1016, 342, 262, 211, 800, 619, 601, 207, 1440, 140, 1876, 1409, 431, 789, 684, 208, 130, 870, 2329, 1375, 557, 1508, 213, None, 215, 2628, 88, 385, 64, 554, 412, 32, 51, 307, 1273, 199, 424, 79, 452, 1065, 764, 207, 2365, 910, 577, 614, 947, 2185, 579, None, 196, 16, 2159, 2619, 697, 999, 32, 1392, 1231, 317, 1484, 590, 1465, 2196, 1818, 1571, 1260, 882, 2229, 577, 196, 465, 1532, 869, 1981, 710, 709, 726, 1949, 168, 3200, 2357, 2, 1, 3453, 1081, 438, 350, 384, 548, 133, 318, 1926, 727, 398, 609, 1166, 51, 202, 1740, 322, 185, 385, 303, 1786, 502, 654, None, 130, 236, 959, 1188, 444, 894, 505, 1035, 948, 936, None, 402, 47, 491, 258, 943, 1396, 2882, 1401, 121, 1362, 199, 67, 453, 946, 636, 1026, 696, 477, 516, 1495, 405, 2271, 1348, 2491, 207, 112, 2697, 243, None, 491, 45, 951, 456, 2429, 2119, 1815, 312, 1066, 190, 914, 404, 196, 2427, 1412, 661, 319, 204, 2363, 588, 868, 959, 568, 258, 1765, 277, 984, 1003, 498, 40, 306, 1435, 405, 970, 809, 1393, 24, 955, 59, 1246, 2009, 348, 538, 866, 142, 806, 343, 1186, 124, 1835, 2230, 2668, 954, 135, 2179, 1293, 407, 636, 1619, 1033, 343, 932, 51, 1087, 321, 577, 192, 784, 361, 50, 375, 1618, 3446, 155, 649, 1758, 113, 2150, 1090, 571, 473, 1002, 180, 1047, 1400, 1436, 777, 1524, 1337, 577, 1062, 911, 1758, 1112, 177, 1789, 204, 1029, 438, 59, 385, 1233, 924, 317, 604, 195, 1374, 2267, 413, 788, 592, 223, 1519, 1605, 609, 697, 1020, 1176, 949, 2016, 2295, 2103, 189, 189, None, 358, 955, 1440, 1686, 1105, 661, 2196, 1004, 307, 65, 2774, 562, 1618, 1188, 27, 862, 406, 464, 402, 1015, 1057, 2077, 304, 2985, 185, 1376, 111, 939, 519, 1953, 458, 987, 2704, 293, 136, 1849, 161, 2, None, 1299, 491, 1152, 349, 1174, 1745, 472, 2008, 2801, 429, 220, 184, 1981, 190, 1231, 882, None, 256, 62, 306, 1469, 797, 1502, 783, 823, 409, 721, 1329, 106, 1588, 1286, 310, 112, 503, 1745, 478, 2491, 277, 497, 970, 1771, 1805, 75, 348, 768, 2353, 947, 295, 1057, 195, 999, 588, 1301, 1112, 1684, 663, 430, 636, 317, 1450, 1077, 1707, 481, 1032, 800, 48, 2242, 189, 1212, 294, 453, 1286, 1468, 504, 1003, 950, 1596, 2497, 183, 1195, 1724, 238, 651, 764, 1085, 264, 575, 1006, None, 1442, 2150, 733, 481, 590, 121, 153, 780, 213, 178, 1052, 956, 570, 871, 113, 601, 190, 1015, 1519, 195, 1571, 1215, 491, 320, 319, 1085, 370, 858, 257, 1404, 39, 32, 558, 278, 940, 1079, 312, 731, 386, 1028, 940, 220, 144, 306, 1575, 1822, 259, 323, 866, 238, 619, 2710, 344, 1370, None, 1188, 649, 1049, 949, 294, 412, 137, 696, 1647, 290, 2344, 41, 331, 535, 592, 957, 636, 996, 1085, 1561, 828, 140, 2467, 53, 139, 2109, 1814, 958, 615, 459, 513, 1875, 2100, 412, 459, 2089, 1081, 294, 146, 848, 2745, 1442, 1613, 280, 829, 140, 194, 570, 474, 424, 400, 293, 376, 670, 504, 67, 402, 1002, 46, 2745, 502, 424, 441, 883, 1734, 799, 151, 661, 1020, 2923, 619, 1174, 1625, 617, 1435, 577, 46, 263, 504, 1195, 352, 1983, 215, 346, 947, 1020, 287, 545, 293, 213, 2177, 936, 728, 2600, 1476, 195, 380, 1908, 1393, 759, 564, 362, 438, 1306, 644, 614, 296, 619, 661, 2165, 1153, 452, 2342, 1349, 267, 303, 510, 962, 714, 32, 524, 1587, 425, 911, 477, 519, 1314, 885, 588, 661, 14, 930, 212, 1693, 113, 395, 190, 728, 357, 684, 800, 1049, 1860, 1693, 67, 479, 1990, 620, 914, 157, 1824, 357, 207, 69, 777, 1002, 504, 1816, 1614, 460, 201, 144, 386, 68, 716, 134, 1232, 310, 629, 228, 348, 397, 110, 79, 1040, 1489, 1591, 64, 3285, 661, 1224, 211, 274, 194, 1086, 54, 208, 731, 1059, 1068, 1694, 199, 236, 1722, 955, 2174, 513, 111, 1981, 195, 311, 661, 798, 1625, 661, 947, 784, 240, 329, 199, 448, 661, 566, 1952, 124, 204, 1040, 557, 1152, 272, 151, None, 1004, 2248, 838, 1820, 1093, 130, 829, 211, 828, 1337, 614, 911, 1264, 256, 222, 195, 1986, 1827, 1456, 408, 189, 630, 1713, None, 320, 138, 579, 2208, 239, 896, 2174, 728, None, None, None, 212, 1598, 204, 473, 1299, 3, 2073, 2308, 622, 55, 512, 208, 783, 1849, 765, 636, 388, 278, 423, 447, 473, 612, 130, 2199, 1223, 2131, 312, 277, 121, 85, 300, 496, 1188, 3118, 1026, 464, 610, 649, 847, None, 55, 3194, 1695, 1205, 134, 1735, 2900, 310, 2233, 1442, 38, 604, 617, 117, 1007, 576, 1723, 1300, 375, 944, 1981, 1892, 1249, 138, 617, 211, 68, 404, 721, 42, 273, 208, 2161, 1043, 554, 723, 615, 370, 2027, 215, 444, 376, 306, 65, 2044, 786, 403, 186, 1713, 932, 1442, 211, 190, 318, 969, 787, 1187, 312, 1736, 1707, 1767, 197, 1614, 36, 1241, 1286, 1121, 450, None, 259, 1735, 121, 402, 306, 456, 1442, 673, 1558, 1070, 616, 1008, 3307, 117, 1435, 859, 532, None, 276, 827, 1818, 3285, 335, 246, 1880, 183, 790, 911, 661, 519, 293, 728, 537, 472, 1251, 1062, 1923, 393, 3033, 146, 141, 590, 614, 67, 33, 244, 880, 600, 1302, 881, 1435, 319, 1951, 1082, 853, 293, 906, None, 105, 355, 90, 2, 65, 651, 121, 253, 2482, 274, 344, 36, 2845, 38, 460, 1964, 827, 636, 1713, 348, None, None, 661, 190, 478, 2012, 937, 30, 514, 311, 194, None, 781, 739, 1818, 2242, 1994, 936, 1227, 401, 124, 2159, 211, None, 2248, 284, 376, 658, 1508, 2555, 58, 661, 29, 940, 942, 661, 1444, 29, 827, 274, 1260, 310, 614, 231, 829, 1519, 398, 1246, 185, None, 1018, 221, 393, 609, 331, 170, 299, 661, 452, 185, 36, 299, 166, 215, 1229, 393, 550, 590, 204, 106, 189, 215, 130, 914, 619, 1872, 1457, 134, 424, 657, 268, 190, 661, 2248, 383, 3110, 400, 159, 403, 988, 2035, 430, 2923, 1451, 121, 731, 1440, 552, 1293, 819, 1240, 1616, 614, 947, 310, 661, 272, 56, 696, 440, 1, 721, 2213, 1618, 2710, None, 2159, 321, 1221, None, 876, 1735, 190, 680, 1022, 974, 322, 456, 988, 1229, 1053, 905, None, 139, 1888, 1072, 936, 716, 942, 661, 148, 1286, 1610, 212, 342, 184, 263, 1231, 720, 612, 2403, 954, 1088, 806, 23, 1892, 296, 212, 1440, 1767, 1617]\n",
            "11575\n"
          ],
          "name": "stdout"
        }
      ]
    },
    {
      "cell_type": "code",
      "metadata": {
        "colab": {
          "base_uri": "https://localhost:8080/"
        },
        "id": "7ttxcCCpu-eQ",
        "outputId": "1a23f9be-fefc-4c94-8443-f5d378270902"
      },
      "source": [
        "labelsdf = pd.DataFrame(labels)\n",
        "data1 = pd.concat([data_bert, labelsdf], axis=1)\n",
        "data1.dropna(inplace=True)\n",
        "len(data1)"
      ],
      "execution_count": null,
      "outputs": [
        {
          "output_type": "execute_result",
          "data": {
            "text/plain": [
              "11259"
            ]
          },
          "metadata": {
            "tags": []
          },
          "execution_count": 12
        }
      ]
    },
    {
      "cell_type": "code",
      "metadata": {
        "colab": {
          "base_uri": "https://localhost:8080/",
          "height": 202
        },
        "id": "gvgJrpARwG_q",
        "outputId": "726d53d7-6281-4410-ac71-158905d1073b"
      },
      "source": [
        "data1.head()"
      ],
      "execution_count": null,
      "outputs": [
        {
          "output_type": "execute_result",
          "data": {
            "text/html": [
              "<div>\n",
              "<style scoped>\n",
              "    .dataframe tbody tr th:only-of-type {\n",
              "        vertical-align: middle;\n",
              "    }\n",
              "\n",
              "    .dataframe tbody tr th {\n",
              "        vertical-align: top;\n",
              "    }\n",
              "\n",
              "    .dataframe thead th {\n",
              "        text-align: right;\n",
              "    }\n",
              "</style>\n",
              "<table border=\"1\" class=\"dataframe\">\n",
              "  <thead>\n",
              "    <tr style=\"text-align: right;\">\n",
              "      <th></th>\n",
              "      <th>Customer</th>\n",
              "      <th>Detail</th>\n",
              "      <th>label</th>\n",
              "      <th>0</th>\n",
              "    </tr>\n",
              "  </thead>\n",
              "  <tbody>\n",
              "    <tr>\n",
              "      <th>1</th>\n",
              "      <td>33983.0</td>\n",
              "      <td>HANGING JAM JAR T-LIGHT HOLDER&amp;&amp;MAGIC DRAWING ...</td>\n",
              "      <td>BALLOON PUMP WITH 10 BALLOONS</td>\n",
              "      <td>187.0</td>\n",
              "    </tr>\n",
              "    <tr>\n",
              "      <th>2</th>\n",
              "      <td>33050.0</td>\n",
              "      <td>PEARL CRYSTAL PUMPKIN T-LIGHT HLDR&amp;&amp;HANGING SP...</td>\n",
              "      <td>TOY TIDY PINK RETROSPOT</td>\n",
              "      <td>256.0</td>\n",
              "    </tr>\n",
              "    <tr>\n",
              "      <th>3</th>\n",
              "      <td>36918.0</td>\n",
              "      <td>PLASTERS IN TIN SKULLS&amp;&amp;WHITE HANGING HEART T-...</td>\n",
              "      <td>PLASMATRONIC LAMP</td>\n",
              "      <td>2053.0</td>\n",
              "    </tr>\n",
              "    <tr>\n",
              "      <th>4</th>\n",
              "      <td>33223.0</td>\n",
              "      <td>CAMOFLAGE DESIGN TEDDY</td>\n",
              "      <td>KINGS CHOICE MUG</td>\n",
              "      <td>777.0</td>\n",
              "    </tr>\n",
              "    <tr>\n",
              "      <th>5</th>\n",
              "      <td>37092.0</td>\n",
              "      <td>PARTY METAL SIGN&amp;&amp;STRAWBERRY CERAMIC TRINKET B...</td>\n",
              "      <td>RED HEART SHAPE LOVE BUCKET</td>\n",
              "      <td>587.0</td>\n",
              "    </tr>\n",
              "  </tbody>\n",
              "</table>\n",
              "</div>"
            ],
            "text/plain": [
              "   Customer  ...       0\n",
              "1   33983.0  ...   187.0\n",
              "2   33050.0  ...   256.0\n",
              "3   36918.0  ...  2053.0\n",
              "4   33223.0  ...   777.0\n",
              "5   37092.0  ...   587.0\n",
              "\n",
              "[5 rows x 4 columns]"
            ]
          },
          "metadata": {
            "tags": []
          },
          "execution_count": 13
        }
      ]
    },
    {
      "cell_type": "code",
      "metadata": {
        "colab": {
          "base_uri": "https://localhost:8080/"
        },
        "id": "v88Ns520wDQm",
        "outputId": "f9524018-2396-4d24-b4f6-8b6f3f9a9721"
      },
      "source": [
        "labels = data1[0].values\n",
        "labels = labels.tolist()\n",
        "len(labels)"
      ],
      "execution_count": null,
      "outputs": [
        {
          "output_type": "execute_result",
          "data": {
            "text/plain": [
              "11259"
            ]
          },
          "metadata": {
            "tags": []
          },
          "execution_count": 14
        }
      ]
    },
    {
      "cell_type": "code",
      "metadata": {
        "colab": {
          "base_uri": "https://localhost:8080/"
        },
        "id": "BHoHtKlTz6hT",
        "outputId": "bb42d7bc-6344-4af8-d955-caa671b70cf4"
      },
      "source": [
        "print(labels[:5])"
      ],
      "execution_count": null,
      "outputs": [
        {
          "output_type": "stream",
          "text": [
            "[187.0, 256.0, 2053.0, 777.0, 587.0]\n"
          ],
          "name": "stdout"
        }
      ]
    },
    {
      "cell_type": "code",
      "metadata": {
        "id": "UMU3vEqUyFd5"
      },
      "source": [
        "cut = round(len(data1) * 0.7)\n",
        "train, test = data1[:cut], data1[cut:]\n",
        "train_label, test_label = data1[:cut][0], data1[cut:][0]\n",
        "train_label, test_label = train_label.to_list(), test_label.to_list()"
      ],
      "execution_count": null,
      "outputs": []
    },
    {
      "cell_type": "code",
      "metadata": {
        "colab": {
          "base_uri": "https://localhost:8080/"
        },
        "id": "bx_yHxhsnhZN",
        "outputId": "a889086e-ad6d-4c4b-9e63-b87db1ada234"
      },
      "source": [
        "print(train_label)"
      ],
      "execution_count": null,
      "outputs": [
        {
          "output_type": "stream",
          "text": [
            "[187.0, 256.0, 2053.0, 777.0, 587.0, 297.0, 38.0, 551.0, 649.0, 504.0, 208.0, 180.0, 1195.0, 1617.0, 682.0, 310.0, 661.0, 484.0, 3285.0, 2553.0, 1592.0, 2078.0, 296.0, 570.0, 392.0, 139.0, 1195.0, 1201.0, 214.0, 629.0, 1546.0, 2373.0, 610.0, 247.0, 2505.0, 115.0, 49.0, 946.0, 1431.0, 308.0, 1751.0, 300.0, 764.0, 1623.0, 2305.0, 657.0, 1321.0, 439.0, 1376.0, 1062.0, 374.0, 132.0, 749.0, 23.0, 475.0, 649.0, 1273.0, 559.0, 267.0, 177.0, 424.0, 79.0, 2142.0, 1869.0, 1687.0, 1991.0, 46.0, 419.0, 2096.0, 2103.0, 1066.0, 2740.0, 1516.0, 644.0, 313.0, 1260.0, 139.0, 418.0, 177.0, 643.0, 360.0, 1528.0, 64.0, 2219.0, 867.0, 1519.0, 949.0, 332.0, 178.0, 1066.0, 64.0, 2684.0, 971.0, 1049.0, 946.0, 1526.0, 486.0, 1242.0, 483.0, 2628.0, 937.0, 590.0, 617.0, 400.0, 1612.0, 988.0, 1020.0, 679.0, 299.0, 1419.0, 661.0, 1937.0, 988.0, 290.0, 1878.0, 1295.0, 667.0, 258.0, 241.0, 195.0, 278.0, 372.0, 50.0, 619.0, 684.0, 781.0, 950.0, 190.0, 411.0, 684.0, 130.0, 2258.0, 3151.0, 1814.0, 139.0, 170.0, 300.0, 1941.0, 2096.0, 357.0, 196.0, 649.0, 823.0, 989.0, 377.0, 136.0, 190.0, 453.0, 286.0, 1301.0, 1487.0, 1765.0, 1442.0, 1269.0, 808.0, 941.0, 1105.0, 265.0, 452.0, 37.0, 539.0, 649.0, 941.0, 124.0, 3277.0, 2404.0, 1047.0, 562.0, 459.0, 1560.0, 1981.0, 502.0, 1723.0, 1434.0, 0.0, 2147.0, 590.0, 215.0, 661.0, 194.0, 376.0, 800.0, 789.0, 381.0, 649.0, 376.0, 311.0, 352.0, 150.0, 1025.0, 2365.0, 936.0, 274.0, 1912.0, 1614.0, 653.0, 997.0, 213.0, 653.0, 58.0, 310.0, 317.0, 569.0, 729.0, 552.0, 781.0, 1661.0, 484.0, 1066.0, 31.0, 1199.0, 1033.0, 494.0, 710.0, 130.0, 491.0, 432.0, 831.0, 3006.0, 989.0, 1687.0, 1105.0, 1741.0, 415.0, 322.0, 130.0, 1596.0, 322.0, 1534.0, 424.0, 1829.0, 601.0, 256.0, 522.0, 2020.0, 391.0, 1103.0, 748.0, 2015.0, 1885.0, 492.0, 1229.0, 452.0, 954.0, 683.0, 989.0, 443.0, 65.0, 404.0, 148.0, 90.0, 840.0, 1455.0, 450.0, 459.0, 1393.0, 527.0, 829.0, 2119.0, 33.0, 1440.0, 571.0, 432.0, 682.0, 1258.0, 2817.0, 866.0, 196.0, 2416.0, 1733.0, 274.0, 948.0, 401.0, 2270.0, 513.0, 346.0, 974.0, 1233.0, 342.0, 569.0, 1017.0, 453.0, 642.0, 394.0, 398.0, 1184.0, 128.0, 1767.0, 1516.0, 1306.0, 878.0, 499.0, 281.0, 273.0, 359.0, 984.0, 1263.0, 207.0, 253.0, 400.0, 452.0, 207.0, 1017.0, 431.0, 755.0, 605.0, 3069.0, 162.0, 197.0, 207.0, 1773.0, 319.0, 2444.0, 792.0, 189.0, 619.0, 1420.0, 1599.0, 797.0, 274.0, 2151.0, 211.0, 39.0, 244.0, 1034.0, 425.0, 190.0, 1257.0, 1434.0, 781.0, 882.0, 3298.0, 170.0, 577.0, 1114.0, 649.0, 826.0, 384.0, 3020.0, 1062.0, 400.0, 729.0, 661.0, 883.0, 263.0, 241.0, 1141.0, 2404.0, 151.0, 349.0, 969.0, 1994.0, 215.0, 443.0, 1188.0, 180.0, 1457.0, 277.0, 600.0, 590.0, 248.0, 1495.0, 1694.0, 430.0, 706.0, 133.0, 764.0, 417.0, 682.0, 1269.0, 891.0, 121.0, 1728.0, 198.0, 136.0, 53.0, 1015.0, 320.0, 443.0, 527.0, 1406.0, 108.0, 195.0, 121.0, 823.0, 58.0, 1592.0, 121.0, 797.0, 882.0, 570.0, 827.0, 300.0, 58.0, 391.0, 309.0, 29.0, 1144.0, 635.0, 1011.0, 274.0, 491.0, 184.0, 1740.0, 386.0, 1034.0, 1696.0, 619.0, 112.0, 1233.0, 133.0, 840.0, 215.0, 334.0, 376.0, 295.0, 2143.0, 334.0, 1040.0, 199.0, 1224.0, 438.0, 267.0, 438.0, 1673.0, 949.0, 2129.0, 438.0, 1188.0, 682.0, 955.0, 661.0, 962.0, 705.0, 706.0, 521.0, 212.0, 523.0, 2900.0, 194.0, 106.0, 130.0, 941.0, 1747.0, 4.0, 385.0, 789.0, 1019.0, 1109.0, 1508.0, 61.0, 609.0, 227.0, 3227.0, 988.0, 199.0, 199.0, 1299.0, 761.0, 29.0, 2177.0, 46.0, 853.0, 781.0, 152.0, 590.0, 2017.0, 1535.0, 1404.0, 941.0, 761.0, 2628.0, 969.0, 56.0, 1000.0, 193.0, 173.0, 482.0, 844.0, 993.0, 3268.0, 296.0, 296.0, 1247.0, 2887.0, 1707.0, 484.0, 1440.0, 1408.0, 3343.0, 1249.0, 277.0, 194.0, 534.0, 1011.0, 1986.0, 3.0, 1066.0, 191.0, 1877.0, 617.0, 1499.0, 635.0, 655.0, 34.0, 950.0, 948.0, 914.0, 1216.0, 1476.0, 1183.0, 307.0, 205.0, 617.0, 438.0, 512.0, 171.0, 534.0, 1195.0, 1088.0, 144.0, 586.0, 617.0, 432.0, 1186.0, 340.0, 517.0, 1332.0, 456.0, 503.0, 294.0, 755.0, 2355.0, 1745.0, 562.0, 400.0, 420.0, 1673.0, 570.0, 1499.0, 309.0, 1229.0, 135.0, 1610.0, 58.0, 866.0, 352.0, 1451.0, 1409.0, 370.0, 787.0, 382.0, 432.0, 2574.0, 944.0, 716.0, 420.0, 310.0, 1519.0, 296.0, 1286.0, 2290.0, 403.0, 1867.0, 1523.0, 399.0, 1396.0, 1437.0, 443.0, 329.0, 827.0, 1981.0, 117.0, 988.0, 590.0, 661.0, 308.0, 672.0, 910.0, 729.0, 452.0, 2903.0, 41.0, 258.0, 911.0, 1290.0, 499.0, 88.0, 871.0, 486.0, 1809.0, 1002.0, 120.0, 1255.0, 255.0, 848.0, 2629.0, 1912.0, 624.0, 2835.0, 728.0, 1599.0, 906.0, 1769.0, 180.0, 1072.0, 1743.0, 112.0, 1981.0, 221.0, 400.0, 610.0, 1191.0, 1467.0, 1815.0, 1294.0, 1820.0, 614.0, 238.0, 2166.0, 1503.0, 3020.0, 1508.0, 1457.0, 302.0, 402.0, 1557.0, 248.0, 968.0, 2174.0, 684.0, 896.0, 1085.0, 195.0, 2211.0, 1206.0, 1872.0, 1808.0, 400.0, 424.0, 136.0, 156.0, 1195.0, 1166.0, 970.0, 661.0, 385.0, 1940.0, 432.0, 696.0, 128.0, 1614.0, 882.0, 196.0, 1815.0, 56.0, 402.0, 556.0, 636.0, 1885.0, 405.0, 1337.0, 133.0, 402.0, 1043.0, 2073.0, 50.0, 187.0, 264.0, 1705.0, 156.0, 2325.0, 275.0, 1081.0, 201.0, 2386.0, 947.0, 306.0, 196.0, 684.0, 1528.0, 2462.0, 1337.0, 1311.0, 2844.0, 518.0, 303.0, 2212.0, 197.0, 1047.0, 649.0, 1436.0, 590.0, 386.0, 200.0, 393.0, 65.0, 1040.0, 1599.0, 355.0, 1179.0, 320.0, 3394.0, 217.0, 932.0, 1161.0, 619.0, 392.0, 823.0, 563.0, 819.0, 1554.0, 777.0, 295.0, 1981.0, 110.0, 1255.0, 661.0, 515.0, 391.0, 310.0, 3187.0, 273.0, 513.0, 1435.0, 800.0, 914.0, 589.0, 2234.0, 918.0, 285.0, 1090.0, 3089.0, 1106.0, 577.0, 936.0, 882.0, 471.0, 1571.0, 396.0, 480.0, 435.0, 317.0, 649.0, 1942.0, 932.0, 312.0, 590.0, 1609.0, 294.0, 512.0, 724.0, 499.0, 661.0, 153.0, 144.0, 3213.0, 539.0, 502.0, 1680.0, 1904.0, 313.0, 609.0, 65.0, 1872.0, 298.0, 187.0, 1371.0, 2934.0, 952.0, 665.0, 121.0, 531.0, 649.0, 400.0, 214.0, 511.0, 614.0, 797.0, 195.0, 1708.0, 1062.0, 2075.0, 1178.0, 1009.0, 882.0, 1224.0, 1299.0, 48.0, 204.0, 636.0, 987.0, 539.0, 2015.0, 2893.0, 311.0, 1344.0, 2477.0, 610.0, 1903.0, 342.0, 400.0, 989.0, 307.0, 372.0, 332.0, 1006.0, 1029.0, 896.0, 320.0, 1011.0, 376.0, 2229.0, 293.0, 440.0, 261.0, 782.0, 34.0, 123.0, 805.0, 988.0, 352.0, 661.0, 189.0, 2416.0, 823.0, 457.0, 419.0, 792.0, 296.0, 955.0, 215.0, 295.0, 215.0, 1695.0, 2680.0, 706.0, 1412.0, 66.0, 1495.0, 483.0, 452.0, 947.0, 190.0, 1625.0, 649.0, 2628.0, 786.0, 114.0, 256.0, 1516.0, 1068.0, 1428.0, 729.0, 2.0, 3016.0, 590.0, 50.0, 132.0, 214.0, 1016.0, 154.0, 840.0, 400.0, 317.0, 1663.0, 499.0, 615.0, 147.0, 65.0, 277.0, 180.0, 782.0, 522.0, 304.0, 1229.0, 215.0, 1000.0, 1588.0, 1215.0, 1815.0, 144.0, 2065.0, 132.0, 649.0, 1707.0, 939.0, 418.0, 782.0, 825.0, 207.0, 513.0, 716.0, 1816.0, 1072.0, 1735.0, 661.0, 211.0, 1890.0, 649.0, 1602.0, 108.0, 1323.0, 684.0, 1242.0, 632.0, 2257.0, 457.0, 451.0, 1292.0, 494.0, 2859.0, 2709.0, 943.0, 783.0, 630.0, 1223.0, 292.0, 180.0, 391.0, 1002.0, 137.0, 155.0, 1814.0, 306.0, 459.0, 2162.0, 382.0, 511.0, 999.0, 307.0, 1614.0, 1287.0, 955.0, 276.0, 684.0, 1612.0, 1062.0, 948.0, 1087.0, 1814.0, 894.0, 2470.0, 1305.0, 1471.0, 949.0, 343.0, 1966.0, 428.0, 1814.0, 748.0, 135.0, 946.0, 902.0, 1836.0, 52.0, 451.0, 465.0, 554.0, 1866.0, 190.0, 2001.0, 451.0, 1164.0, 114.0, 709.0, 1735.0, 586.0, 402.0, 829.0, 683.0, 1026.0, 56.0, 473.0, 1178.0, 1186.0, 67.0, 199.0, 482.0, 513.0, 1105.0, 212.0, 2055.0, 2156.0, 2407.0, 319.0, 756.0, 308.0, 2008.0, 840.0, 505.0, 1728.0, 310.0, 1062.0, 748.0, 400.0, 1877.0, 310.0, 134.0, 896.0, 1612.0, 1299.0, 782.0, 1106.0, 115.0, 84.0, 268.0, 577.0, 2619.0, 177.0, 48.0, 1949.0, 380.0, 1677.0, 966.0, 735.0, 130.0, 29.0, 425.0, 1663.0, 3.0, 130.0, 221.0, 111.0, 661.0, 617.0, 2181.0, 1488.0, 2561.0, 882.0, 871.0, 211.0, 2840.0, 134.0, 1526.0, 2538.0, 1357.0, 306.0, 1598.0, 495.0, 434.0, 628.0, 1065.0, 729.0, 1665.0, 2174.0, 213.0, 55.0, 2465.0, 724.0, 213.0, 495.0, 673.0, 199.0, 500.0, 610.0, 617.0, 1286.0, 1006.0, 1066.0, 531.0, 923.0, 566.0, 1290.0, 1758.0, 988.0, 1815.0, 1393.0, 985.0, 661.0, 360.0, 4.0, 190.0, 3.0, 399.0, 449.0, 119.0, 624.0, 1217.0, 615.0, 2942.0, 1062.0, 239.0, 567.0, 2482.0, 114.0, 958.0, 588.0, 444.0, 121.0, 532.0, 1057.0, 273.0, 48.0, 1233.0, 2219.0, 185.0, 649.0, 563.0, 534.0, 1889.0, 64.0, 513.0, 2050.0, 1255.0, 1877.0, 1066.0, 786.0, 306.0, 189.0, 619.0, 69.0, 1739.0, 2783.0, 552.0, 30.0, 263.0, 1508.0, 661.0, 582.0, 395.0, 229.0, 1824.0, 728.0, 380.0, 729.0, 649.0, 1735.0, 478.0, 207.0, 731.0, 577.0, 111.0, 64.0, 617.0, 160.0, 936.0, 1016.0, 2174.0, 149.0, 276.0, 238.0, 754.0, 1028.0, 728.0, 1437.0, 1190.0, 473.0, 64.0, 2023.0, 1256.0, 1491.0, 947.0, 1087.0, 158.0, 1626.0, 1598.0, 190.0, 2022.0, 866.0, 3133.0, 344.0, 121.0, 1706.0, 1970.0, 1418.0, 562.0, 2502.0, 121.0, 272.0, 68.0, 1188.0, 1075.0, 38.0, 348.0, 171.0, 320.0, 399.0, 956.0, 577.0, 400.0, 400.0, 1348.0, 638.0, 396.0, 2551.0, 914.0, 2371.0, 698.0, 2363.0, 30.0, 1965.0, 729.0, 394.0, 117.0, 140.0, 453.0, 1728.0, 1066.0, 617.0, 1771.0, 615.0, 1260.0, 545.0, 321.0, 451.0, 400.0, 989.0, 706.0, 171.0, 562.0, 333.0, 1088.0, 1429.0, 457.0, 298.0, 205.0, 554.0, 114.0, 134.0, 431.0, 1304.0, 67.0, 2132.0, 1532.0, 2118.0, 1386.0, 468.0, 340.0, 362.0, 684.0, 361.0, 2671.0, 987.0, 244.0, 1767.0, 792.0, 827.0, 2007.0, 636.0, 1724.0, 193.0, 40.0, 293.0, 1508.0, 418.0, 1068.0, 306.0, 400.0, 722.0, 604.0, 1143.0, 258.0, 989.0, 320.0, 149.0, 192.0, 1620.0, 273.0, 310.0, 612.0, 2648.0, 355.0, 194.0, 376.0, 1660.0, 614.0, 395.0, 109.0, 1070.0, 2127.0, 932.0, 1039.0, 881.0, 394.0, 40.0, 130.0, 1040.0, 133.0, 1000.0, 1623.0, 121.0, 55.0, 216.0, 189.0, 641.0, 722.0, 343.0, 17.0, 656.0, 2551.0, 1814.0, 1349.0, 947.0, 1059.0, 2627.0, 947.0, 34.0, 1074.0, 709.0, 479.0, 468.0, 136.0, 743.0, 953.0, 372.0, 638.0, 117.0, 310.0, 311.0, 1065.0, 514.0, 181.0, 259.0, 311.0, 134.0, 958.0, 112.0, 162.0, 500.0, 388.0, 128.0, 2361.0, 1941.0, 236.0, 197.0, 709.0, 787.0, 2007.0, 1188.0, 1214.0, 381.0, 1612.0, 319.0, 355.0, 534.0, 135.0, 2195.0, 3308.0, 84.0, 299.0, 1987.0, 531.0, 405.0, 1303.0, 2463.0, 65.0, 1440.0, 661.0, 761.0, 322.0, 139.0, 303.0, 321.0, 1306.0, 1164.0, 1461.0, 1442.0, 523.0, 121.0, 32.0, 698.0, 65.0, 59.0, 914.0, 746.0, 490.0, 479.0, 1526.0, 1286.0, 261.0, 391.0, 1002.0, 195.0, 661.0, 1085.0, 519.0, 2622.0, 782.0, 1499.0, 187.0, 1008.0, 1699.0, 53.0, 1440.0, 1667.0, 2118.0, 484.0, 2575.0, 438.0, 1519.0, 69.0, 2089.0, 443.0, 636.0, 781.0, 869.0, 772.0, 1815.0, 272.0, 142.0, 800.0, 954.0, 947.0, 435.0, 1299.0, 1002.0, 749.0, 1269.0, 203.0, 911.0, 29.0, 1004.0, 1970.0, 114.0, 83.0, 828.0, 3070.0, 2.0, 378.0, 106.0, 1682.0, 2601.0, 1800.0, 3350.0, 1873.0, 331.0, 55.0, 827.0, 2242.0, 2321.0, 2267.0, 1206.0, 848.0, 400.0, 1745.0, 751.0, 1878.0, 1599.0, 42.0, 334.0, 1519.0, 185.0, 1601.0, 724.0, 277.0, 906.0, 954.0, 29.0, 706.0, 310.0, 106.0, 3288.0, 620.0, 343.0, 195.0, 295.0, 245.0, 1041.0, 1985.0, 31.0, 1002.0, 933.0, 682.0, 772.0, 825.0, 480.0, 236.0, 391.0, 244.0, 196.0, 322.0, 640.0, 902.0, 1997.0, 193.0, 2582.0, 190.0, 346.0, 792.0, 800.0, 459.0, 661.0, 460.0, 180.0, 135.0, 1699.0, 106.0, 400.0, 180.0, 114.0, 293.0, 141.0, 1375.0, 736.0, 1969.0, 168.0, 183.0, 728.0, 1009.0, 2353.0, 294.0, 349.0, 407.0, 2077.0, 447.0, 532.0, 1081.0, 443.0, 885.0, 1687.0, 147.0, 2049.0, 2909.0, 310.0, 340.0, 914.0, 1612.0, 352.0, 113.0, 1735.0, 310.0, 1000.0, 346.0, 1002.0, 1867.0, 480.0, 144.0, 358.0, 914.0, 936.0, 783.0, 399.0, 2121.0, 154.0, 928.0, 400.0, 2366.0, 212.0, 988.0, 613.0, 1491.0, 1498.0, 623.0, 300.0, 3022.0, 1164.0, 1814.0, 412.0, 492.0, 357.0, 561.0, 1114.0, 1141.0, 1088.0, 50.0, 1195.0, 942.0, 173.0, 1020.0, 1195.0, 59.0, 630.0, 451.0, 2619.0, 117.0, 296.0, 357.0, 1179.0, 949.0, 238.0, 720.0, 1989.0, 780.0, 746.0, 1233.0, 1546.0, 793.0, 956.0, 135.0, 317.0, 759.0, 948.0, 1640.0, 352.0, 1261.0, 831.0, 489.0, 3410.0, 1849.0, 267.0, 294.0, 1598.0, 432.0, 661.0, 234.0, 797.0, 227.0, 617.0, 3285.0, 244.0, 189.0, 1090.0, 926.0, 456.0, 1519.0, 945.0, 1393.0, 941.0, 2353.0, 377.0, 1004.0, 857.0, 792.0, 1412.0, 1201.0, 156.0, 797.0, 622.0, 1999.0, 792.0, 643.0, 831.0, 614.0, 1803.0, 199.0, 828.0, 1686.0, 827.0, 829.0, 2.0, 559.0, 1249.0, 568.0, 1229.0, 254.0, 472.0, 1678.0, 256.0, 1640.0, 2174.0, 1451.0, 331.0, 632.0, 277.0, 950.0, 908.0, 2255.0, 1885.0, 619.0, 866.0, 2174.0, 1076.0, 1181.0, 959.0, 517.0, 379.0, 203.0, 447.0, 2151.0, 629.0, 1495.0, 2008.0, 222.0, 989.0, 267.0, 1516.0, 438.0, 1885.0, 195.0, 697.0, 1851.0, 945.0, 1003.0, 729.0, 288.0, 665.0, 203.0, 525.0, 1371.0, 1062.0, 1449.0, 582.0, 1950.0, 50.0, 947.0, 352.0, 1003.0, 645.0, 1058.0, 947.0, 2257.0, 649.0, 562.0, 419.0, 135.0, 1377.0, 50.0, 491.0, 936.0, 332.0, 553.0, 352.0, 130.0, 256.0, 1489.0, 1185.0, 797.0, 1396.0, 2840.0, 197.0, 209.0, 532.0, 1449.0, 1571.0, 272.0, 1457.0, 1088.0, 1601.0, 46.0, 649.0, 2007.0, 1106.0, 575.0, 198.0, 832.0, 551.0, 642.0, 1981.0, 989.0, 121.0, 1682.0, 1232.0, 114.0, 0.0, 374.0, 502.0, 309.0, 313.0, 1023.0, 892.0, 649.0, 319.0, 144.0, 1195.0, 390.0, 322.0, 661.0, 1103.0, 787.0, 1053.0, 1004.0, 914.0, 1526.0, 1393.0, 546.0, 321.0, 1623.0, 614.0, 989.0, 651.0, 400.0, 605.0, 1635.0, 41.0, 355.0, 1519.0, 832.0, 1367.0, 806.0, 278.0, 1540.0, 2628.0, 1458.0, 483.0, 511.0, 840.0, 1299.0, 937.0, 314.0, 453.0, 55.0, 121.0, 1599.0, 1348.0, 38.0, 461.0, 1.0, 819.0, 717.0, 393.0, 67.0, 230.0, 342.0, 589.0, 1767.0, 1017.0, 1260.0, 432.0, 1255.0, 1699.0, 130.0, 125.0, 1188.0, 36.0, 653.0, 430.0, 1323.0, 189.0, 281.0, 2.0, 797.0, 262.0, 592.0, 320.0, 557.0, 661.0, 1592.0, 1981.0, 1228.0, 1189.0, 2016.0, 870.0, 438.0, 2324.0, 2314.0, 1835.0, 2061.0, 109.0, 682.0, 345.0, 190.0, 89.0, 1049.0, 1027.0, 950.0, 306.0, 881.0, 306.0, 125.0, 759.0, 1837.0, 316.0, 428.0, 1616.0, 850.0, 2212.0, 2035.0, 1266.0, 400.0, 2900.0, 509.0, 255.0, 1041.0, 424.0, 29.0, 482.0, 407.0, 1479.0, 748.0, 619.0, 347.0, 1112.0, 123.0, 415.0, 1822.0, 114.0, 857.0, 198.0, 2349.0, 424.0, 1606.0, 130.0, 2028.0, 590.0, 283.0, 1105.0, 1668.0, 515.0, 643.0, 576.0, 1188.0, 110.0, 1526.0, 657.0, 2221.0, 180.0, 1905.0, 300.0, 343.0, 649.0, 2318.0, 647.0, 2525.0, 221.0, 1309.0, 2225.0, 1020.0, 570.0, 29.0, 1215.0, 1081.0, 930.0, 608.0, 1019.0, 1484.0, 443.0, 630.0, 1735.0, 370.0, 306.0, 1114.0, 828.0, 1114.0, 728.0, 1999.0, 1611.0, 379.0, 1062.0, 717.0, 617.0, 1348.0, 1222.0, 185.0, 2357.0, 531.0, 1594.0, 940.0, 312.0, 465.0, 212.0, 392.0, 1745.0, 278.0, 472.0, 949.0, 32.0, 456.0, 939.0, 190.0, 333.0, 1396.0, 697.0, 77.0, 1510.0, 2219.0, 187.0, 451.0, 149.0, 312.0, 1527.0, 866.0, 1038.0, 2109.0, 1922.0, 539.0, 1803.0, 130.0, 954.0, 3029.0, 709.0, 121.0, 64.0, 954.0, 1601.0, 661.0, 1066.0, 2008.0, 1461.0, 781.0, 910.0, 1533.0, 662.0, 1152.0, 997.0, 966.0, 1141.0, 1161.0, 965.0, 2593.0, 456.0, 116.0, 727.0, 352.0, 183.0, 819.0, 1085.0, 1337.0, 643.0, 48.0, 1579.0, 215.0, 575.0, 195.0, 302.0, 1508.0, 1808.0, 562.0, 311.0, 1583.0, 189.0, 432.0, 1227.0, 2371.0, 655.0, 332.0, 1735.0, 400.0, 959.0, 1169.0, 1183.0, 351.0, 728.0, 601.0, 782.0, 479.0, 681.0, 781.0, 1946.0, 45.0, 665.0, 399.0, 34.0, 1519.0, 2671.0, 2109.0, 570.0, 386.0, 151.0, 600.0, 152.0, 1299.0, 234.0, 513.0, 275.0, 1735.0, 3316.0, 389.0, 1174.0, 48.0, 1065.0, 619.0, 101.0, 113.0, 431.0, 319.0, 1153.0, 499.0, 53.0, 941.0, 400.0, 729.0, 308.0, 47.0, 1816.0, 2144.0, 207.0, 657.0, 1018.0, 709.0, 1686.0, 1063.0, 212.0, 1299.0, 197.0, 221.0, 800.0, 484.0, 1618.0, 199.0, 588.0, 556.0, 684.0, 653.0, 243.0, 1885.0, 32.0, 1815.0, 2698.0, 451.0, 348.0, 385.0, 1876.0, 1929.0, 2150.0, 2337.0, 958.0, 54.0, 647.0, 2822.0, 776.0, 207.0, 138.0, 1035.0, 106.0, 239.0, 1877.0, 1815.0, 1227.0, 914.0, 280.0, 1981.0, 477.0, 434.0, 109.0, 181.0, 318.0, 139.0, 2600.0, 997.0, 1041.0, 432.0, 180.0, 112.0, 2574.0, 552.0, 614.0, 357.0, 121.0, 2151.0, 335.0, 1195.0, 199.0, 1300.0, 190.0, 274.0, 667.0, 954.0, 722.0, 399.0, 415.0, 730.0, 224.0, 208.0, 31.0, 883.0, 1696.0, 643.0, 307.0, 147.0, 432.0, 2507.0, 484.0, 310.0, 1009.0, 510.0, 73.0, 184.0, 87.0, 857.0, 759.0, 1853.0, 30.0, 50.0, 1735.0, 234.0, 170.0, 403.0, 781.0, 1449.0, 1228.0, 334.0, 712.0, 724.0, 2105.0, 389.0, 1241.0, 1495.0, 962.0, 1332.0, 1681.0, 385.0, 277.0, 828.0, 40.0, 134.0, 1508.0, 1087.0, 610.0, 555.0, 672.0, 1243.0, 717.0, 1916.0, 503.0, 323.0, 2459.0, 724.0, 654.0, 955.0, 2528.0, 1740.0, 1970.0, 1090.0, 691.0, 152.0, 649.0, 1814.0, 906.0, 776.0, 203.0, 720.0, 2353.0, 1233.0, 1606.0, 1418.0, 497.0, 4.0, 604.0, 519.0, 948.0, 614.0, 761.0, 905.0, 373.0, 958.0, 3022.0, 513.0, 940.0, 796.0, 477.0, 1344.0, 1286.0, 956.0, 2403.0, 2325.0, 1735.0, 1772.0, 1116.0, 299.0, 195.0, 178.0, 867.0, 1610.0, 288.0, 192.0, 800.0, 1594.0, 400.0, 615.0, 949.0, 457.0, 495.0, 1978.0, 706.0, 433.0, 134.0, 891.0, 576.0, 215.0, 956.0, 1725.0, 958.0, 236.0, 1435.0, 378.0, 2237.0, 831.0, 1558.0, 782.0, 2503.0, 521.0, 385.0, 711.0, 1006.0, 256.0, 109.0, 649.0, 343.0, 446.0, 756.0, 742.0, 1767.0, 710.0, 661.0, 263.0, 1435.0, 1509.0, 731.0, 96.0, 207.0, 130.0, 539.0, 293.0, 239.0, 351.0, 499.0, 1224.0, 332.0, 352.0, 112.0, 2502.0, 420.0, 1038.0, 468.0, 364.0, 459.0, 731.0, 355.0, 199.0, 1231.0, 727.0, 871.0, 2220.0, 312.0, 809.0, 133.0, 610.0, 505.0, 352.0, 353.0, 1059.0, 1262.0, 53.0, 1041.0, 1195.0, 194.0, 881.0, 514.0, 1619.0, 243.0, 1002.0, 1097.0, 461.0, 1731.0, 2235.0, 376.0, 840.0, 2344.0, 1179.0, 2525.0, 617.0, 545.0, 1825.0, 577.0, 781.0, 1814.0, 726.0, 63.0, 558.0, 851.0, 1314.0, 312.0, 106.0, 79.0, 2243.0, 1598.0, 130.0, 150.0, 2008.0, 432.0, 1143.0, 1487.0, 800.0, 848.0, 955.0, 411.0, 87.0, 45.0, 29.0, 1090.0, 1519.0, 1990.0, 111.0, 1442.0, 34.0, 783.0, 1706.0, 2002.0, 616.0, 2125.0, 1286.0, 2165.0, 139.0, 3022.0, 1123.0, 810.0, 1145.0, 2684.0, 335.0, 1148.0, 2167.0, 661.0, 110.0, 1253.0, 1598.0, 1500.0, 349.0, 1141.0, 77.0, 263.0, 1767.0, 494.0, 947.0, 135.0, 151.0, 661.0, 1231.0, 2035.0, 743.0, 1300.0, 81.0, 791.0, 385.0, 936.0, 2668.0, 1860.0, 186.0, 2168.0, 1061.0, 90.0, 1026.0, 1892.0, 649.0, 1740.0, 3194.0, 183.0, 490.0, 431.0, 357.0, 590.0, 196.0, 213.0, 195.0, 642.0, 37.0, 2267.0, 663.0, 1452.0, 279.0, 144.0, 1063.0, 2214.0, 1004.0, 716.0, 947.0, 946.0, 247.0, 1849.0, 491.0, 1566.0, 294.0, 55.0, 1.0, 190.0, 1292.0, 231.0, 1413.0, 554.0, 114.0, 199.0, 67.0, 948.0, 435.0, 808.0, 208.0, 2349.0, 1465.0, 642.0, 286.0, 590.0, 649.0, 932.0, 684.0, 1557.0, 306.0, 524.0, 661.0, 46.0, 121.0, 1399.0, 1526.0, 1152.0, 554.0, 947.0, 124.0, 1815.0, 780.0, 1286.0, 1663.0, 729.0, 1264.0, 409.0, 2616.0, 697.0, 0.0, 1300.0, 1981.0, 369.0, 1186.0, 378.0, 1170.0, 615.0, 42.0, 792.0, 195.0, 797.0, 1321.0, 1035.0, 1745.0, 800.0, 136.0, 300.0, 451.0, 402.0, 2139.0, 215.0, 1280.0, 781.0, 2184.0, 1614.0, 1395.0, 54.0, 1319.0, 989.0, 438.0, 106.0, 263.0, 434.0, 956.0, 342.0, 300.0, 2616.0, 1609.0, 148.0, 380.0, 59.0, 1027.0, 636.0, 764.0, 213.0, 937.0, 2525.0, 331.0, 491.0, 846.0, 905.0, 2100.0, 1085.0, 654.0, 277.0, 1299.0, 1241.0, 1892.0, 264.0, 1368.0, 499.0, 153.0, 189.0, 1347.0, 940.0, 562.0, 854.0, 661.0, 483.0, 2686.0, 257.0, 1435.0, 425.0, 46.0, 320.0, 306.0, 570.0, 556.0, 782.0, 84.0, 306.0, 46.0, 1399.0, 1243.0, 483.0, 248.0, 1457.0, 441.0, 661.0, 764.0, 1038.0, 309.0, 2139.0, 727.0, 1612.0, 2664.0, 42.0, 539.0, 1065.0, 2293.0, 115.0, 1429.0, 319.0, 471.0, 62.0, 1305.0, 738.0, 196.0, 777.0, 2848.0, 558.0, 376.0, 1899.0, 950.0, 437.0, 615.0, 1088.0, 1735.0, 207.0, 75.0, 1019.0, 294.0, 615.0, 391.0, 613.0, 649.0, 211.0, 1877.0, 2167.0, 1598.0, 184.0, 213.0, 117.0, 947.0, 960.0, 215.0, 831.0, 521.0, 1424.0, 171.0, 649.0, 615.0, 834.0, 954.0, 1849.0, 86.0, 1614.0, 1074.0, 1610.0, 77.0, 259.0, 1587.0, 1814.0, 109.0, 29.0, 1735.0, 250.0, 1264.0, 121.0, 1118.0, 411.0, 308.0, 113.0, 500.0, 644.0, 34.0, 731.0, 256.0, 214.0, 537.0, 403.0, 124.0, 821.0, 192.0, 592.0, 272.0, 212.0, 808.0, 1435.0, 1006.0, 914.0, 30.0, 2164.0, 1196.0, 1428.0, 1809.0, 293.0, 999.0, 1693.0, 633.0, 947.0, 1446.0, 417.0, 2321.0, 638.0, 499.0, 617.0, 888.0, 989.0, 307.0, 126.0, 1120.0, 617.0, 321.0, 430.0, 2075.0, 798.0, 2127.0, 148.0, 189.0, 1114.0, 1454.0, 124.0, 661.0, 1144.0, 1269.0, 1222.0, 30.0, 215.0, 121.0, 792.0, 1773.0, 989.0, 1132.0, 628.0, 295.0, 1406.0, 1716.0, 1081.0, 592.0, 1557.0, 386.0, 197.0, 340.0, 1002.0, 1301.0, 303.0, 1414.0, 496.0, 408.0, 41.0, 354.0, 1085.0, 34.0, 661.0, 1115.0, 449.0, 409.0, 2278.0, 2704.0, 1056.0, 1153.0, 34.0, 614.0, 37.0, 1167.0, 158.0, 711.0, 343.0, 2073.0, 999.0, 1699.0, 93.0, 958.0, 2462.0, 881.0, 1087.0, 577.0, 321.0, 1221.0, 512.0, 1065.0, 1816.0, 189.0, 33.0, 52.0, 278.0, 109.0, 278.0, 1214.0, 448.0, 301.0, 277.0, 806.0, 298.0, 486.0, 988.0, 1431.0, 1745.0, 306.0, 1688.0, 661.0, 1942.0, 370.0, 1833.0, 1625.0, 1243.0, 407.0, 949.0, 2602.0, 1560.0, 67.0, 778.0, 1049.0, 730.0, 412.0, 189.0, 800.0, 1509.0, 1121.0, 794.0, 2344.0, 3234.0, 776.0, 610.0, 2351.0, 467.0, 108.0, 259.0, 256.0, 612.0, 1066.0, 577.0, 491.0, 171.0, 661.0, 1735.0, 311.0, 2007.0, 1220.0, 253.0, 1212.0, 428.0, 376.0, 37.0, 843.0, 58.0, 548.0, 1087.0, 2699.0, 61.0, 2.0, 1062.0, 221.0, 2740.0, 106.0, 576.0, 2353.0, 373.0, 1072.0, 1941.0, 2151.0, 1519.0, 1065.0, 1087.0, 110.0, 1240.0, 857.0, 117.0, 614.0, 519.0, 1495.0, 440.0, 2165.0, 1562.0, 575.0, 508.0, 1693.0, 1354.0, 117.0, 1004.0, 653.0, 301.0, 1026.0, 1805.0, 295.0, 119.0, 97.0, 905.0, 59.0, 523.0, 1006.0, 590.0, 1895.0, 245.0, 989.0, 711.0, 950.0, 1562.0, 640.0, 1777.0, 2121.0, 1311.0, 215.0, 278.0, 64.0, 256.0, 1137.0, 2233.0, 987.0, 1771.0, 1616.0, 1188.0, 950.0, 1557.0, 1494.0, 195.0, 108.0, 1837.0, 1434.0, 314.0, 199.0, 729.0, 859.0, 3268.0, 684.0, 215.0, 1066.0, 871.0, 632.0, 781.0, 348.0, 784.0, 1764.0, 92.0, 630.0, 1540.0, 2077.0, 287.0, 349.0, 997.0, 532.0, 368.0, 189.0, 183.0, 651.0, 784.0, 2248.0, 728.0, 67.0, 319.0, 2072.0, 792.0, 231.0, 3006.0, 1616.0, 778.0, 1899.0, 1751.0, 615.0, 340.0, 1344.0, 1686.0, 1693.0, 538.0, 1033.0, 661.0, 402.0, 400.0, 1869.0, 832.0, 180.0, 1068.0, 399.0, 914.0, 1713.0, 310.0, 711.0, 2671.0, 1679.0, 651.0, 755.0, 1877.0, 517.0, 649.0, 1849.0, 1889.0, 2253.0, 661.0, 2863.0, 0.0, 317.0, 312.0, 55.0, 2017.0, 761.0, 438.0, 3150.0, 67.0, 302.0, 109.0, 2167.0, 230.0, 56.0, 457.0, 1612.0, 806.0, 207.0, 950.0, 661.0, 656.0, 139.0, 1673.0, 799.0, 243.0, 1971.0, 3187.0, 1413.0, 550.0, 765.0, 955.0, 247.0, 892.0, 267.0, 2929.0, 457.0, 192.0, 1306.0, 1435.0, 297.0, 306.0, 1311.0, 391.0, 832.0, 1735.0, 1361.0, 956.0, 1332.0, 1562.0, 50.0, 130.0, 424.0, 757.0, 211.0, 1620.0, 1977.0, 349.0, 1303.0, 451.0, 502.0, 507.0, 151.0, 207.0, 914.0, 756.0, 438.0, 400.0, 300.0, 553.0, 619.0, 883.0, 447.0, 1816.0, 361.0, 1264.0, 1987.0, 2815.0, 1059.0, 259.0, 109.0, 65.0, 1241.0, 450.0, 125.0, 480.0, 138.0, 857.0, 774.0, 1.0, 255.0, 438.0, 386.0, 434.0, 1751.0, 451.0, 484.0, 310.0, 1343.0, 456.0, 199.0, 190.0, 259.0, 405.0, 681.0, 715.0, 653.0, 201.0, 914.0, 343.0, 1695.0, 665.0, 831.0, 308.0, 667.0, 410.0, 153.0, 566.0, 661.0, 3073.0, 326.0, 1240.0, 4.0, 931.0, 198.0, 1888.0, 1818.0, 456.0, 1449.0, 547.0, 357.0, 31.0, 553.0, 914.0, 151.0, 307.0, 288.0, 808.0, 400.0, 867.0, 333.0, 513.0, 2066.0, 682.0, 1892.0, 432.0, 610.0, 299.0, 1773.0, 966.0, 643.0, 1437.0, 582.0, 240.0, 589.0, 1226.0, 1220.0, 777.0, 566.0, 534.0, 503.0, 277.0, 1849.0, 989.0, 661.0, 342.0, 506.0, 862.0, 1066.0, 312.0, 1852.0, 286.0, 947.0, 914.0, 124.0, 2613.0, 212.0, 914.0, 651.0, 341.0, 1318.0, 683.0, 590.0, 61.0, 1599.0, 180.0, 2311.0, 1004.0, 959.0, 1625.0, 717.0, 610.0, 1604.0, 2937.0, 989.0, 1268.0, 319.0, 130.0, 597.0, 610.0, 456.0, 1942.0, 1232.0, 1017.0, 1714.0, 1885.0, 3034.0, 46.0, 653.0, 1011.0, 177.0, 36.0, 1066.0, 792.0, 1773.0, 1357.0, 2891.0, 1818.0, 153.0, 55.0, 2872.0, 1693.0, 372.0, 631.0, 1699.0, 729.0, 450.0, 432.0, 562.0, 41.0, 1480.0, 1229.0, 327.0, 1361.0, 295.0, 294.0, 825.0, 661.0, 3.0, 1129.0, 496.0, 765.0, 1187.0, 1467.0, 3201.0, 1046.0, 948.0, 109.0, 577.0, 147.0, 955.0, 2179.0, 159.0, 311.0, 310.0, 2756.0, 617.0, 1240.0, 177.0, 130.0, 2902.0, 966.0, 264.0, 125.0, 828.0, 149.0, 457.0, 1231.0, 948.0, 321.0, 869.0, 407.0, 3037.0, 797.0, 187.0, 267.0, 1764.0, 1872.0, 286.0, 196.0, 64.0, 914.0, 1009.0, 729.0, 905.0, 377.0, 570.0, 331.0, 792.0, 1880.0, 1002.0, 1885.0, 383.0, 570.0, 1332.0, 1610.0, 2308.0, 914.0, 1304.0, 1241.0, 272.0, 236.0, 636.0, 268.0, 144.0, 399.0, 202.0, 327.0, 619.0, 2164.0, 347.0, 1916.0, 1435.0, 911.0, 83.0, 1304.0, 211.0, 946.0, 1311.0, 1750.0, 923.0, 319.0, 731.0, 1854.0, 343.0, 47.0, 113.0, 615.0, 158.0, 344.0, 1557.0, 67.0, 1735.0, 1119.0, 1219.0, 482.0, 135.0, 1710.0, 661.0, 840.0, 1582.0, 853.0, 866.0, 55.0, 300.0, 29.0, 424.0, 940.0, 255.0, 458.0, 456.0, 1928.0, 396.0, 590.0, 122.0, 391.0, 682.0, 253.0, 307.0, 1286.0, 2109.0, 135.0, 2044.0, 267.0, 828.0, 942.0, 1062.0, 1029.0, 149.0, 644.0, 1768.0, 153.0, 800.0, 1560.0, 557.0, 604.0, 298.0, 300.0, 159.0, 1010.0, 668.0, 721.0, 1525.0, 1828.0, 1971.0, 258.0, 999.0, 46.0, 3029.0, 1112.0, 590.0, 63.0, 784.0, 2121.0, 1284.0, 46.0, 1348.0, 491.0, 2709.0, 3006.0, 76.0, 56.0, 1417.0, 1737.0, 1166.0, 2.0, 273.0, 310.0, 90.0, 610.0, 661.0, 731.0, 186.0, 828.0, 615.0, 1264.0, 1005.0, 688.0, 827.0, 1062.0, 243.0, 283.0, 2482.0, 454.0, 661.0, 403.0, 2240.0, 507.0, 994.0, 2179.0, 306.0, 177.0, 1435.0, 1596.0, 236.0, 596.0, 2243.0, 1598.0, 1195.0, 1618.0, 482.0, 300.0, 1909.0, 2157.0, 116.0, 1835.0, 1611.0, 130.0, 506.0, 781.0, 782.0, 68.0, 828.0, 49.0, 298.0, 661.0, 911.0, 2144.0, 1164.0, 782.0, 1901.0, 628.0, 1599.0, 615.0, 1494.0, 180.0, 906.0, 1796.0, 2512.0, 195.0, 517.0, 2258.0, 317.0, 109.0, 1085.0, 636.0, 784.0, 405.0, 263.0, 424.0, 1004.0, 59.0, 1304.0, 323.0, 371.0, 1064.0, 711.0, 562.0, 432.0, 259.0, 483.0, 1227.0, 273.0, 111.0, 793.0, 499.0, 168.0, 144.0, 491.0, 331.0, 800.0, 999.0, 504.0, 1.0, 23.0, 1590.0, 643.0, 3353.0, 782.0, 238.0, 535.0, 907.0, 1568.0, 2352.0, 827.0, 1803.0, 79.0, 211.0, 2427.0, 3122.0, 59.0, 617.0, 59.0, 62.0, 661.0, 1163.0, 258.0, 1599.0, 215.0, 2718.0, 109.0, 523.0, 2560.0, 831.0, 1332.0, 661.0, 1035.0, 132.0, 296.0, 3033.0, 1020.0, 130.0, 715.0, 683.0, 189.0, 275.0, 1318.0, 628.0, 1473.0, 705.0, 47.0, 319.0, 1971.0, 1105.0, 612.0, 1966.0, 180.0, 829.0, 1187.0, 1952.0, 1809.0, 180.0, 1557.0, 384.0, 130.0, 392.0, 204.0, 433.0, 619.0, 1592.0, 1612.0, 988.0, 1879.0, 2151.0, 727.0, 562.0, 499.0, 2196.0, 1981.0, 665.0, 954.0, 2883.0, 562.0, 355.0, 309.0, 999.0, 928.0, 117.0, 342.0, 276.0, 134.0, 311.0, 549.0, 1123.0, 1233.0, 408.0, 440.0, 2256.0, 1041.0, 1568.0, 619.0, 1734.0, 303.0, 306.0, 287.0, 870.0, 1131.0, 139.0, 911.0, 106.0, 383.0, 714.0, 564.0, 489.0, 941.0, 357.0, 256.0, 2218.0, 873.0, 306.0, 40.0, 117.0, 597.0, 608.0, 46.0, 133.0, 1822.0, 1473.0, 988.0, 709.0, 370.0, 215.0, 2066.0, 1026.0, 2392.0, 610.0, 962.0, 1133.0, 1295.0, 729.0, 1553.0, 2353.0, 825.0, 23.0, 576.0, 891.0, 729.0, 452.0, 1675.0, 947.0, 1997.0, 514.0, 615.0, 1166.0, 680.0, 531.0, 1226.0, 1112.0, 1745.0, 373.0, 303.0, 376.0, 307.0, 716.0, 106.0, 515.0, 647.0, 297.0, 1885.0, 346.0, 355.0, 142.0, 1187.0, 2280.0, 989.0, 857.0, 409.0, 661.0, 2065.0, 54.0, 808.0, 561.0, 400.0, 2.0, 317.0, 1504.0, 142.0, 661.0, 1815.0, 48.0, 3075.0, 552.0, 777.0, 661.0, 1997.0, 651.0, 857.0, 123.0, 344.0, 317.0, 133.0, 1017.0, 1304.0, 2014.0, 306.0, 2053.0, 827.0, 882.0, 768.0, 399.0, 535.0, 1515.0, 711.0, 1114.0, 1725.0, 404.0, 1219.0, 121.0, 626.0, 1815.0, 309.0, 400.0, 439.0, 1409.0, 298.0, 1601.0, 362.0, 256.0, 570.0, 2503.0, 1918.0, 131.0, 1187.0, 1416.0, 1687.0, 147.0, 459.0, 477.0, 1049.0, 947.0, 2398.0, 1803.0, 444.0, 413.0, 381.0, 932.0, 1002.0, 1877.0, 2139.0, 183.0, 317.0, 60.0, 1820.0, 619.0, 1614.0, 797.0, 486.0, 480.0, 797.0, 469.0, 306.0, 130.0, 1231.0, 628.0, 479.0, 764.0, 198.0, 1519.0, 253.0, 1296.0, 644.0, 465.0, 582.0, 403.0, 430.0, 1822.0, 661.0, 255.0, 151.0, 376.0, 367.0, 29.0, 590.0, 189.0, 968.0, 298.0, 526.0, 1149.0, 1362.0, 425.0, 222.0, 1287.0, 109.0, 827.0, 312.0, 711.0, 650.0, 1224.0, 1718.0, 424.0, 749.0, 259.0, 887.0, 128.0, 1524.0, 575.0, 286.0, 118.0, 866.0, 1444.0, 1332.0, 439.0, 847.0, 114.0, 1112.0, 1735.0, 118.0, 376.0, 306.0, 1299.0, 814.0, 214.0, 399.0, 38.0, 2496.0, 989.0, 400.0, 1735.0, 171.0, 496.0, 2218.0, 1406.0, 1455.0, 2219.0, 1256.0, 661.0, 911.0, 204.0, 109.0, 569.0, 133.0, 2392.0, 664.0, 1328.0, 195.0, 947.0, 1072.0, 728.0, 1814.0, 622.0, 393.0, 326.0, 1875.0, 524.0, 1977.0, 1640.0, 914.0, 34.0, 2686.0, 588.0, 471.0, 1029.0, 1983.0, 1820.0, 2724.0, 1269.0, 612.0, 2072.0, 661.0, 226.0, 1450.0, 511.0, 430.0, 439.0, 29.0, 513.0, 866.0, 1849.0, 610.0, 590.0, 620.0, 829.0, 349.0, 882.0, 2455.0, 888.0, 1301.0, 669.0, 114.0, 1716.0, 3433.0, 92.0, 615.0, 1686.0, 204.0, 97.0, 1115.0, 2602.0, 1002.0, 1941.0, 117.0, 1169.0, 711.0, 2427.0, 2046.0, 619.0, 1648.0, 342.0, 1614.0, 1579.0, 2159.0, 208.0, 273.0, 1201.0, 989.0, 300.0, 248.0, 783.0, 1623.0, 2099.0, 403.0, 1909.0, 121.0, 1809.0, 221.0, 756.0, 1671.0, 258.0, 424.0, 53.0, 1735.0, 380.0, 55.0, 663.0, 869.0, 1002.0, 2351.0, 2185.0, 508.0, 1393.0, 2271.0, 586.0, 2016.0, 717.0, 234.0, 706.0, 1424.0, 761.0, 1266.0, 949.0, 1668.0, 258.0, 1457.0, 190.0, 27.0, 539.0, 1713.0, 1178.0, 370.0, 53.0, 523.0, 827.0, 1128.0, 1006.0, 502.0, 661.0, 190.0, 1979.0, 1576.0, 2290.0, 450.0, 2105.0, 149.0, 49.0, 267.0, 827.0, 130.0, 134.0, 985.0, 1969.0, 407.0, 665.0, 1710.0, 361.0, 336.0, 295.0, 1105.0, 869.0, 263.0, 247.0, 1929.0, 275.0, 914.0, 194.0, 1229.0, 318.0, 610.0, 1006.0, 3164.0, 114.0, 1723.0, 3278.0, 282.0, 855.0, 914.0, 878.0, 1221.0, 2165.0, 478.0, 1825.0, 131.0, 882.0, 256.0, 477.0, 207.0, 131.0, 2290.0, 670.0, 347.0, 1434.0, 1984.0, 1616.0, 1731.0, 1118.0, 2141.0, 195.0, 1524.0, 144.0, 212.0, 435.0, 117.0, 33.0, 403.0, 90.0, 151.0, 797.0, 1731.0, 1035.0, 121.0, 1113.0, 2464.0, 234.0, 1745.0, 1614.0, 1723.0, 198.0, 575.0, 1072.0, 1435.0, 183.0, 81.0, 1724.0, 1816.0, 792.0, 148.0, 2867.0, 1761.0, 2035.0, 1513.0, 1623.0, 491.0, 134.0, 1686.0, 1228.0, 1663.0, 2234.0, 1780.0, 199.0, 451.0, 50.0, 1677.0, 784.0, 549.0, 987.0, 1213.0, 935.0, 275.0, 186.0, 932.0, 1059.0, 68.0, 211.0, 619.0, 1019.0, 2416.0, 409.0, 1526.0, 204.0, 866.0, 190.0, 1526.0, 403.0, 1106.0, 1268.0, 950.0, 1112.0, 386.0, 355.0, 860.0, 1814.0, 122.0, 2733.0, 319.0, 1952.0, 65.0, 894.0, 352.0, 263.0, 1555.0, 438.0, 829.0, 272.0, 1909.0, 395.0, 53.0, 955.0, 1892.0, 370.0, 1564.0, 590.0, 1598.0, 946.0, 391.0, 197.0, 387.0, 577.0, 894.0, 185.0, 1571.0, 121.0, 1227.0, 403.0, 135.0, 282.0, 1648.0, 420.0, 731.0, 1230.0, 1601.0, 32.0, 183.0, 380.0, 1885.0, 846.0, 132.0, 2249.0, 955.0, 199.0, 1814.0, 113.0, 321.0, 1004.0, 1640.0, 238.0, 513.0, 827.0, 840.0, 456.0, 729.0, 2497.0, 2255.0, 1695.0, 1237.0, 1640.0, 1942.0, 483.0, 189.0, 1187.0, 296.0, 706.0, 559.0, 404.0, 1583.0, 930.0, 400.0, 1995.0, 29.0, 2689.0, 187.0, 782.0, 111.0, 1268.0, 2733.0, 684.0, 130.0, 376.0, 1525.0, 109.0, 711.0, 2.0, 121.0, 68.0, 657.0, 236.0, 64.0, 457.0, 305.0, 183.0, 402.0, 963.0, 139.0, 447.0, 569.0, 433.0, 1000.0, 1710.0, 2085.0, 2230.0, 125.0, 937.0, 1017.0, 1442.0, 2165.0, 1143.0, 435.0, 3165.0, 1027.0, 557.0, 504.0, 2305.0, 402.0, 1269.0, 1905.0, 1119.0, 259.0, 130.0, 1724.0, 1072.0, 399.0, 281.0, 499.0, 1560.0, 396.0, 827.0, 1017.0, 661.0, 1216.0, 390.0, 999.0, 162.0, 1188.0, 1375.0, 130.0, 790.0, 617.0, 1429.0, 1618.0, 1090.0, 2229.0, 649.0, 661.0, 425.0, 672.0, 2510.0, 453.0, 168.0, 2393.0, 999.0, 759.0, 244.0, 745.0, 792.0, 511.0, 2349.0, 2208.0, 576.0, 307.0, 268.0, 2055.0, 109.0, 2321.0, 556.0, 332.0, 1596.0, 459.0, 1195.0, 492.0, 857.0, 425.0, 1429.0, 3311.0, 559.0, 940.0, 697.0, 575.0, 840.0, 2694.0, 498.0, 1429.0, 415.0, 1780.0, 213.0, 764.0, 376.0, 534.0, 661.0, 331.0, 106.0, 28.0, 112.0, 590.0, 311.0, 2009.0, 1954.0, 1957.0, 41.0, 2027.0, 272.0, 949.0, 307.0, 1132.0, 1292.0, 834.0, 146.0, 790.0, 1686.0, 180.0, 288.0, 1025.0, 2669.0, 139.0, 993.0, 50.0, 482.0, 1997.0, 1885.0, 2041.0, 2821.0, 823.0, 2053.0, 1348.0, 495.0, 2240.0, 792.0, 178.0, 121.0, 1368.0, 1731.0, 375.0, 201.0, 705.0, 401.0, 400.0, 575.0, 3164.0, 1444.0, 288.0, 2689.0, 2253.0, 220.0, 79.0, 500.0, 1143.0, 2103.0, 2949.0, 27.0, 255.0, 623.0, 288.0, 2015.0, 317.0, 444.0, 612.0, 720.0, 832.0, 988.0, 314.0, 285.0, 30.0, 1105.0, 507.0, 361.0, 597.0, 1179.0, 64.0, 2553.0, 50.0, 311.0, 636.0, 969.0, 293.0, 768.0, 1049.0, 277.0, 2014.0, 1195.0, 439.0, 1880.0, 539.0, 386.0, 882.0, 499.0, 947.0, 273.0, 177.0, 472.0, 1751.0, 294.0, 1.0, 2280.0, 950.0, 1609.0, 661.0, 344.0, 800.0, 171.0, 156.0, 290.0, 459.0, 647.0, 402.0, 586.0, 1601.0, 576.0, 947.0, 215.0, 674.0, 267.0, 792.0, 199.0, 504.0, 456.0, 69.0, 1294.0, 1872.0, 1291.0, 1745.0, 114.0, 3394.0, 1018.0, 525.0, 950.0, 1498.0, 130.0, 2384.0, 590.0, 1072.0, 649.0, 432.0, 378.0, 2465.0, 1215.0, 1029.0, 495.0, 1228.0, 1612.0, 2035.0, 1178.0, 590.0, 322.0, 196.0, 298.0, 533.0, 1767.0, 1440.0, 496.0, 204.0, 2599.0, 48.0, 1020.0, 185.0, 963.0, 488.0, 144.0, 2345.0, 1816.0, 1086.0, 829.0, 3033.0, 2482.0, 1312.0, 2008.0, 1011.0, 636.0, 1292.0, 1043.0, 1087.0, 212.0, 230.0, 644.0, 3070.0, 438.0, 3.0, 199.0, 1228.0, 394.0, 190.0, 236.0, 1268.0, 532.0, 728.0, 111.0, 1087.0, 697.0, 881.0, 1735.0, 2014.0, 866.0, 620.0, 399.0, 129.0, 121.0, 649.0, 1819.0, 107.0, 483.0, 190.0, 749.0, 67.0, 942.0, 2366.0, 139.0, 1709.0, 756.0, 1242.0, 829.0, 255.0, 1950.0, 190.0, 866.0, 373.0, 682.0, 106.0, 59.0, 786.0, 2242.0, 871.0, 1231.0, 793.0, 139.0, 385.0, 403.0, 224.0, 239.0, 788.0, 2185.0, 2050.0, 947.0, 1957.0, 130.0, 2493.0, 452.0, 130.0, 617.0, 320.0, 258.0, 111.0, 1442.0, 48.0, 161.0, 991.0, 55.0, 139.0, 2065.0, 294.0, 891.0, 180.0, 210.0, 570.0, 474.0, 950.0, 36.0, 2804.0, 1667.0, 212.0, 168.0, 1610.0, 52.0, 586.0, 1003.0, 1619.0, 829.0, 1123.0, 1526.0, 41.0, 1764.0, 1694.0, 1883.0, 109.0, 1442.0, 2109.0, 1994.0, 661.0, 936.0, 207.0, 1377.0, 212.0, 538.0, 935.0, 146.0, 1695.0, 1040.0, 537.0, 66.0, 55.0, 312.0, 121.0, 2300.0, 211.0, 1972.0, 407.0, 16.0, 1735.0, 56.0, 688.0, 816.0, 320.0, 911.0, 2174.0, 649.0, 534.0, 1082.0, 661.0, 600.0, 1596.0, 258.0, 788.0, 443.0, 1376.0, 711.0, 806.0, 2575.0, 484.0, 787.0, 117.0, 2069.0, 768.0, 211.0, 950.0, 180.0, 618.0, 215.0, 112.0, 684.0, 432.0, 2325.0, 2014.0, 586.0, 152.0, 3297.0, 1612.0, 562.0, 83.0, 1144.0, 914.0, 1643.0, 312.0, 256.0, 502.0, 1046.0, 884.0, 989.0, 125.0, 1255.0, 343.0, 590.0, 405.0, 1965.0, 2952.0, 745.0, 789.0, 1369.0, 400.0, 619.0, 149.0, 302.0, 517.0, 2308.0, 1039.0, 1907.0, 705.0, 316.0, 2402.0, 1442.0, 452.0, 997.0, 147.0, 432.0, 955.0, 727.0, 1803.0, 673.0, 428.0, 956.0, 438.0, 1242.0, 1018.0, 949.0, 1035.0, 1287.0, 55.0, 617.0, 620.0, 773.0, 256.0, 748.0, 306.0, 253.0, 1761.0, 311.0, 684.0, 1246.0, 319.0, 399.0, 711.0, 2008.0, 385.0, 113.0, 937.0, 1451.0, 749.0, 425.0, 2267.0, 1878.0, 403.0, 1678.0, 424.0, 453.0, 491.0, 430.0, 331.0, 840.0, 1099.0, 1085.0, 496.0, 617.0, 2242.0, 1523.0, 106.0, 729.0, 958.0, 1869.0, 1835.0, 295.0, 551.0, 202.0, 4.0, 784.0, 1442.0, 146.0, 2255.0, 2392.0, 221.0, 612.0, 1100.0, 545.0, 855.0, 236.0, 152.0, 939.0, 438.0, 331.0, 1087.0, 1166.0, 965.0, 99.0, 491.0, 274.0, 661.0, 793.0, 146.0, 1243.0, 33.0, 48.0, 649.0, 394.0, 273.0, 348.0, 1502.0, 2400.0, 2691.0, 661.0, 647.0, 2772.0, 527.0, 149.0, 577.0, 1970.0, 2373.0, 41.0, 1309.0, 1004.0, 293.0, 2759.0, 1229.0, 950.0, 1603.0, 2811.0, 306.0, 215.0, 1187.0, 1195.0, 2.0, 399.0, 2768.0, 1943.0, 491.0, 936.0, 947.0, 946.0, 2347.0, 858.0, 133.0, 118.0, 955.0, 33.0, 1226.0, 53.0, 614.0, 661.0, 1557.0, 37.0, 604.0, 1385.0, 782.0, 464.0, 672.0, 211.0, 3002.0, 1693.0, 372.0, 636.0, 615.0, 2602.0, 478.0, 253.0, 706.0, 1382.0, 1424.0, 47.0, 113.0, 431.0, 765.0, 1041.0, 435.0, 343.0, 2506.0, 3033.0, 842.0, 158.0, 294.0, 1404.0, 840.0, 858.0, 438.0, 1222.0, 192.0, 45.0, 424.0, 1987.0, 2756.0, 1002.0, 213.0, 399.0, 1852.0, 500.0, 1195.0, 1264.0, 1188.0, 2192.0, 55.0, 403.0, 92.0, 1306.0, 1396.0, 502.0, 2987.0, 1584.0, 950.0, 376.0, 882.0, 449.0, 144.0, 117.0, 159.0, 113.0, 411.0, 147.0, 65.0, 1106.0, 309.0, 604.0, 468.0, 106.0, 286.0, 2571.0, 619.0, 303.0, 2032.0, 590.0, 2674.0, 303.0, 106.0, 1049.0, 1348.0, 946.0, 346.0, 798.0, 1299.0, 144.0, 215.0, 902.0, 661.0, 192.0, 1268.0, 761.0, 243.0, 947.0, 617.0, 661.0, 586.0, 729.0, 665.0, 1286.0, 549.0, 349.0, 1174.0, 179.0, 828.0, 731.0, 642.0, 843.0, 792.0, 295.0, 947.0, 321.0, 792.0, 2150.0, 447.0, 1592.0, 1451.0, 283.0, 659.0, 652.0, 403.0, 517.0, 403.0, 807.0, 722.0, 2044.0, 199.0, 55.0, 62.0, 214.0, 1885.0, 645.0, 727.0, 187.0, 391.0, 1186.0, 294.0, 958.0, 2934.0, 1212.0, 531.0, 300.0, 882.0, 1877.0, 1427.0, 385.0, 949.0, 456.0, 136.0, 1226.0, 256.0, 1112.0, 219.0, 142.0, 1112.0, 590.0, 394.0, 149.0, 499.0, 792.0, 811.0, 932.0, 2168.0, 491.0, 947.0, 950.0, 352.0, 2075.0, 1065.0, 1598.0, 55.0, 1695.0, 111.0, 970.0, 840.0, 274.0, 781.0, 866.0, 464.0, 192.0, 1062.0, 358.0, 2678.0, 2835.0, 727.0, 522.0, 216.0, 256.0, 905.0, 401.0, 274.0, 476.0, 1827.0, 135.0, 93.0, 366.0, 1011.0, 2022.0, 970.0, 946.0, 294.0, 274.0, 181.0, 2042.0, 2422.0, 560.0, 1482.0, 481.0, 319.0, 161.0, 536.0, 183.0, 42.0, 1918.0, 706.0, 228.0, 848.0, 1815.0, 792.0, 199.0, 1169.0, 306.0, 2162.0, 23.0, 1241.0, 1229.0, 473.0, 215.0, 243.0, 361.0, 1186.0, 505.0, 144.0, 425.0, 1002.0, 717.0, 576.0, 32.0, 781.0, 759.0, 2704.0, 202.0, 1070.0, 1076.0, 106.0, 1401.0, 522.0, 1063.0, 313.0, 1869.0, 668.0, 1231.0, 162.0, 2380.0, 230.0, 38.0, 423.0, 267.0, 289.0, 1941.0, 133.0, 187.0, 443.0, 1362.0, 1248.0, 435.0, 1609.0, 303.0, 791.0, 310.0, 40.0, 288.0, 885.0, 936.0, 2163.0, 55.0, 1249.0, 300.0, 825.0, 296.0, 781.0, 237.0, 1064.0, 196.0, 294.0, 2443.0, 320.0, 1801.0, 1818.0, 911.0, 144.0, 1435.0, 29.0, 759.0, 871.0, 196.0, 1526.0, 402.0, 649.0, 158.0, 1446.0, 823.0, 258.0, 1798.0, 435.0, 223.0, 1357.0, 1025.0, 168.0, 722.0, 2482.0, 195.0, 1251.0, 244.0, 2065.0, 1002.0, 385.0, 953.0, 567.0, 2845.0, 124.0, 784.0, 907.0, 482.0, 1990.0, 696.0, 1767.0, 649.0, 1515.0, 306.0, 2221.0, 613.0, 1867.0, 988.0, 32.0, 179.0, 541.0, 1889.0, 47.0, 1090.0, 1435.0, 1077.0, 563.0, 272.0, 80.0, 1457.0, 192.0, 661.0, 1484.0, 112.0, 2227.0, 31.0, 1680.0, 2130.0, 1543.0, 788.0, 114.0, 207.0, 781.0, 117.0, 111.0, 158.0, 477.0, 1280.0, 1604.0, 334.0, 575.0, 452.0, 1802.0, 1233.0, 148.0, 144.0, 1613.0, 956.0, 1616.0, 521.0, 649.0, 424.0, 81.0, 1007.0, 661.0, 193.0, 1376.0, 1526.0, 684.0, 2477.0, 64.0, 1604.0, 1741.0, 240.0, 2139.0, 2848.0, 661.0, 1769.0, 1981.0, 121.0, 643.0, 50.0, 373.0, 614.0, 587.0, 558.0, 1599.0, 68.0, 613.0, 268.0, 263.0, 23.0, 910.0, 782.0, 1941.0, 1048.0, 661.0, 461.0, 1623.0, 58.0, 749.0, 1508.0, 579.0, 383.0, 706.0, 835.0, 213.0, 3306.0, 957.0, 1854.0, 1519.0, 1035.0, 1002.0, 185.0, 130.0, 120.0, 384.0, 1186.0, 3016.0, 212.0, 436.0, 2248.0, 215.0, 360.0, 673.0, 1066.0, 311.0, 1189.0, 1286.0, 1495.0, 726.0, 138.0, 1062.0, 2131.0, 2291.0, 263.0, 729.0, 457.0, 525.0, 1039.0, 1601.0, 653.0, 199.0, 133.0, 438.0, 200.0, 2139.0, 2040.0, 402.0, 2470.0, 1062.0, 1701.0, 472.0, 443.0, 1724.0, 65.0, 431.0, 308.0, 2056.0, 60.0, 1314.0, 428.0, 914.0, 447.0, 1635.0, 1004.0, 1533.0, 131.0, 2482.0, 717.0, 320.0, 625.0, 472.0, 1137.0, 661.0, 55.0, 1130.0, 50.0, 1143.0, 121.0, 2151.0, 890.0, 610.0, 3271.0, 2311.0, 222.0, 2962.0, 2774.0, 973.0, 914.0, 1123.0, 2174.0, 1880.0, 238.0, 190.0, 209.0, 2306.0, 2718.0, 334.0, 663.0, 69.0, 99.0, 1269.0, 1961.0, 65.0, 1299.0, 2193.0, 2949.0, 1822.0, 447.0, 1430.0, 276.0, 443.0, 636.0, 110.0, 256.0, 452.0, 1348.0, 431.0, 768.0, 2985.0, 37.0, 391.0, 215.0, 2754.0, 1033.0, 400.0, 661.0, 130.0, 139.0, 729.0, 106.0, 259.0, 780.0, 503.0, 177.0, 958.0, 2571.0, 2223.0, 195.0, 870.0, 1437.0, 207.0, 2174.0, 561.0, 1035.0, 633.0, 1009.0, 784.0, 47.0, 2787.0, 53.0, 1.0, 751.0, 620.0, 966.0, 146.0, 189.0, 2371.0, 400.0, 728.0, 947.0, 2507.0, 107.0, 1273.0, 786.0, 1076.0, 633.0, 989.0, 1449.0, 911.0, 624.0, 2629.0, 316.0, 294.0, 148.0, 647.0, 706.0, 183.0, 2242.0, 194.0, 1716.0, 706.0, 214.0, 303.0, 723.0, 298.0, 1515.0, 1380.0, 1249.0, 322.0, 790.0, 643.0, 1144.0, 267.0, 1693.0, 933.0, 1688.0, 1061.0, 819.0, 531.0, 1885.0, 1143.0, 375.0, 2323.0, 1584.0, 400.0, 179.0, 789.0, 197.0, 1309.0, 300.0, 1620.0, 307.0, 245.0, 777.0, 3.0, 2023.0, 55.0, 362.0, 1617.0, 568.0, 614.0, 434.0, 1041.0, 1981.0, 341.0, 189.0, 357.0, 1214.0, 1309.0, 684.0, 946.0, 212.0, 111.0, 869.0, 1008.0, 444.0, 2593.0, 617.0, 2962.0, 798.0, 1526.0, 412.0, 969.0, 256.0, 2570.0, 448.0, 1489.0, 723.0, 1034.0, 797.0, 2161.0, 49.0, 29.0, 1086.0, 1435.0, 106.0, 781.0, 1849.0, 1255.0, 617.0, 792.0, 1819.0, 443.0, 661.0, 1420.0, 792.0, 154.0, 90.0, 357.0, 536.0, 999.0, 381.0, 195.0, 478.0, 79.0, 197.0, 1807.0, 876.0, 277.0, 144.0, 783.0, 503.0, 305.0, 1342.0, 749.0, 46.0, 1019.0, 1485.0, 941.0, 949.0, 389.0, 720.0, 791.0, 207.0, 258.0, 400.0, 402.0, 334.0, 832.0, 61.0, 1526.0, 465.0, 556.0, 109.0, 2669.0, 586.0, 2006.0, 503.0, 215.0, 2844.0, 1880.0, 586.0, 716.0, 3074.0, 278.0, 629.0, 989.0, 378.0, 1704.0, 478.0, 30.0, 614.0, 192.0, 299.0, 29.0, 1686.0, 2426.0, 29.0, 3341.0, 955.0, 317.0, 213.0, 1195.0, 3227.0, 522.0, 1038.0, 194.0, 456.0, 385.0, 1086.0, 292.0, 827.0, 503.0, 768.0, 305.0, 1849.0, 1354.0, 711.0, 2455.0, 4.0, 942.0, 932.0, 2872.0, 370.0, 41.0, 859.0, 1592.0, 647.0, 388.0, 1300.0, 1640.0, 1484.0, 514.0, 672.0, 311.0, 2109.0, 411.0, 386.0, 790.0, 50.0, 710.0, 321.0, 185.0, 988.0, 950.0, 1298.0, 721.0, 2056.0, 582.0, 442.0, 47.0, 1143.0, 2139.0, 615.0, 236.0, 1419.0, 1084.0, 29.0, 83.0, 438.0, 446.0, 756.0, 2.0, 1454.0, 483.0, 946.0, 1526.0, 1318.0, 1.0, 1230.0, 306.0, 910.0, 312.0, 1187.0, 443.0, 661.0, 941.0, 1393.0, 636.0, 301.0, 117.0, 297.0, 1264.0, 1446.0, 200.0, 1220.0, 289.0, 1936.0, 2099.0, 499.0, 207.0, 207.0, 287.0, 1612.0, 130.0, 311.0, 729.0, 1062.0, 55.0, 185.0, 1183.0, 870.0, 411.0, 300.0, 946.0, 29.0, 133.0, 378.0, 3.0, 150.0, 415.0, 647.0, 1304.0, 947.0, 1880.0, 155.0, 997.0, 2305.0, 309.0, 373.0, 617.0, 645.0, 1419.0, 109.0, 783.0, 453.0, 277.0, 1396.0, 124.0, 1981.0, 617.0, 391.0, 927.0, 149.0, 607.0, 1699.0, 868.0, 1288.0, 34.0, 507.0, 561.0, 1599.0, 238.0, 331.0, 615.0, 1174.0, 189.0, 918.0, 220.0, 956.0, 1940.0, 1889.0, 696.0, 295.0, 453.0, 3113.0, 255.0, 989.0, 994.0, 1745.0, 274.0, 590.0, 121.0, 3.0, 332.0, 132.0, 736.0, 307.0, 1187.0, 661.0, 141.0, 2321.0, 1049.0, 673.0, 653.0, 888.0, 299.0, 456.0, 1626.0, 379.0, 442.0, 684.0, 544.0, 661.0, 162.0, 300.0, 198.0, 2072.0, 391.0, 49.0, 1008.0, 1091.0, 1771.0, 438.0, 2407.0, 1260.0, 31.0, 195.0, 3413.0, 1683.0, 190.0, 989.0, 1257.0, 1440.0, 1332.0, 557.0, 178.0, 590.0, 396.0, 1644.0, 155.0, 51.0, 297.0, 1485.0, 114.0, 1444.0, 2159.0, 298.0, 132.0, 54.0, 1287.0, 783.0, 587.0, 1798.0, 307.0, 189.0, 443.0, 1745.0, 255.0, 253.0, 1724.0, 258.0, 294.0, 1393.0, 1367.0, 152.0, 1216.0, 1240.0, 914.0, 647.0, 1647.0, 617.0, 334.0, 280.0, 777.0, 320.0, 258.0, 151.0, 788.0, 114.0, 212.0, 121.0, 276.0, 535.0, 61.0, 805.0, 1040.0, 828.0, 444.0, 1188.0, 355.0, 309.0, 214.0, 729.0, 997.0, 2619.0, 443.0, 2109.0, 29.0, 1957.0, 882.0, 1985.0, 617.0, 2265.0, 424.0, 1493.0, 1304.0, 1026.0, 742.0, 940.0, 196.0, 496.0, 125.0, 1350.0, 1437.0, 256.0, 1049.0, 2463.0, 464.0, 402.0, 106.0, 357.0, 684.0, 1306.0, 357.0, 3107.0, 267.0, 1144.0, 1066.0, 55.0, 129.0, 661.0, 561.0, 207.0, 103.0, 949.0, 999.0, 252.0, 840.0, 2403.0, 425.0, 559.0, 1286.0, 68.0, 256.0, 1645.0, 1465.0, 792.0, 53.0, 447.0, 866.0, 482.0, 1006.0, 789.0, 410.0, 343.0, 1274.0, 294.0, 114.0, 320.0, 661.0, 294.0, 612.0, 947.0, 842.0, 941.0, 468.0, 800.0, 1052.0, 196.0, 888.0, 1033.0, 1449.0, 332.0, 622.0, 59.0, 180.0, 441.0, 134.0, 162.0, 1735.0, 1188.0, 2225.0, 1188.0, 376.0, 273.0, 180.0, 384.0, 135.0, 283.0, 315.0, 1062.0, 1571.0, 1599.0, 404.0, 344.0, 400.0, 1456.0, 586.0, 504.0, 1385.0, 761.0, 1815.0, 800.0, 491.0, 29.0, 299.0, 259.0, 2082.0, 871.0, 211.0, 256.0, 1196.0, 769.0, 1257.0, 610.0, 351.0, 1805.0, 177.0, 311.0, 1577.0, 1332.0, 323.0, 1777.0, 667.0, 1040.0, 434.0, 155.0, 47.0, 1274.0, 1584.0, 199.0, 2128.0, 208.0, 2062.0, 833.0, 68.0, 729.0, 444.0, 88.0, 133.0, 709.0, 1059.0, 29.0, 2470.0, 420.0, 2420.0, 1323.0, 273.0, 772.0, 2227.0, 1482.0, 90.0, 1954.0, 797.0, 1849.0, 636.0, 473.0, 125.0, 349.0, 106.0, 665.0, 432.0, 29.0, 1228.0, 696.0, 342.0, 283.0, 1092.0, 792.0, 409.0, 109.0, 355.0, 1767.0, 1040.0, 292.0, 2686.0, 405.0, 312.0, 2007.0, 87.0, 906.0, 201.0, 400.0, 495.0, 1091.0, 1500.0, 2579.0, 2573.0, 1148.0, 2239.0, 288.0, 2477.0, 1598.0, 2383.0, 1286.0, 193.0, 461.0, 151.0, 425.0, 1435.0, 1648.0, 318.0, 2103.0, 636.0, 1062.0, 135.0, 2062.0, 558.0, 2056.0, 328.0, 2265.0, 1009.0, 1618.0, 224.0, 576.0, 525.0, 357.0, 432.0, 158.0, 312.0, 319.0, 212.0, 499.0, 2071.0, 855.0, 556.0, 829.0, 711.0, 377.0, 871.0, 2760.0, 570.0, 376.0, 2065.0, 1735.0, 468.0, 2056.0, 678.0, 360.0, 135.0, 1273.0, 987.0, 1979.0, 130.0, 1023.0, 1303.0, 2496.0, 435.0, 128.0, 1614.0, 29.0, 342.0, 377.0, 317.0, 1034.0, 561.0, 2140.0, 1302.0, 517.0, 792.0, 965.0, 697.0, 1599.0, 1611.0, 731.0, 59.0, 663.0, 661.0, 883.0, 243.0, 151.0, 2.0, 80.0, 724.0, 1501.0, 189.0, 495.0, 90.0, 1195.0, 357.0, 352.0, 1727.0, 2754.0, 272.0, 1667.0, 956.0, 1599.0, 697.0, 2373.0, 211.0, 558.0, 211.0, 37.0, 831.0, 797.0, 2400.0, 1041.0, 1614.0, 201.0, 399.0, 407.0, 988.0, 1725.0, 124.0, 432.0, 949.0, 923.0, 1334.0, 139.0, 947.0, 1305.0, 400.0, 1348.0, 2402.0, 140.0, 238.0, 1735.0, 237.0, 268.0, 974.0, 832.0, 1614.0, 1302.0, 2805.0, 1599.0, 148.0, 1062.0, 2012.0, 1609.0, 2573.0, 586.0, 28.0, 829.0, 721.0, 275.0, 198.0, 588.0, 215.0, 50.0, 859.0, 2617.0, 1195.0, 2038.0, 237.0, 1499.0, 989.0, 1326.0, 48.0, 2491.0, 443.0, 769.0, 471.0, 374.0, 233.0, 196.0, 2165.0, 47.0, 400.0, 139.0, 1386.0, 1418.0, 1435.0, 370.0, 134.0, 1437.0, 820.0, 49.0, 1877.0, 312.0, 968.0, 574.0, 1368.0, 706.0, 758.0, 1606.0, 535.0, 328.0, 2226.0, 189.0, 525.0, 2329.0, 988.0, 525.0, 769.0, 201.0, 1040.0, 2242.0, 1131.0, 361.0, 196.0, 884.0, 1623.0, 774.0, 208.0, 378.0, 957.0, 294.0, 1081.0, 590.0, 1334.0, 1003.0, 113.0, 357.0, 2942.0, 723.0, 402.0, 1068.0, 68.0, 340.0, 1603.0, 586.0, 385.0, 1311.0, 661.0, 615.0, 336.0, 827.0, 195.0, 34.0, 377.0, 153.0, 135.0, 783.0, 731.0, 2193.0, 1970.0, 590.0, 3118.0, 1440.0, 213.0, 2181.0, 649.0, 1374.0, 281.0, 294.0, 539.0, 792.0, 1352.0, 2007.0, 425.0, 840.0, 278.0, 180.0, 1268.0, 189.0, 1937.0, 604.0, 184.0, 563.0, 2174.0, 30.0, 1457.0, 1005.0, 306.0, 2.0, 296.0, 823.0, 1601.0, 59.0, 1952.0, 1299.0, 906.0, 319.0, 1409.0, 717.0, 610.0, 1435.0, 2151.0, 615.0, 570.0, 1348.0, 2987.0, 862.0, 576.0, 299.0, 1503.0, 1596.0, 947.0, 1617.0, 419.0, 1123.0, 132.0, 378.0, 2900.0, 970.0, 577.0, 130.0, 3190.0, 400.0, 286.0, 1875.0, 1074.0, 2159.0, 325.0, 1888.0, 1437.0, 1503.0, 1133.0, 124.0, 200.0, 641.0, 221.0, 564.0, 1872.0, 632.0, 214.0, 310.0, 638.0, 39.0, 325.0, 792.0, 569.0, 956.0, 38.0, 1458.0, 2759.0, 352.0, 84.0, 989.0, 1222.0, 65.0, 1302.0, 664.0, 241.0, 451.0, 1500.0, 293.0, 956.0, 630.0, 911.0, 937.0, 517.0, 1303.0, 407.0, 2514.0, 908.0, 1504.0, 212.0, 615.0, 1301.0, 2514.0, 1444.0, 29.0, 68.0, 1694.0, 1224.0, 300.0, 1519.0, 400.0, 784.0, 521.0, 1678.0, 2531.0, 661.0, 672.0, 158.0, 90.0, 1533.0, 158.0, 366.0, 130.0, 299.0, 419.0, 1942.0, 1114.0, 1072.0, 2811.0, 159.0, 1571.0, 1825.0, 1679.0, 109.0, 151.0, 473.0, 682.0, 128.0, 152.0, 562.0, 411.0, 87.0, 617.0, 684.0, 1004.0, 195.0, 128.0, 723.0, 1224.0, 135.0, 1584.0, 668.0, 432.0, 2531.0, 735.0, 661.0, 1815.0, 314.0, 936.0, 1264.0, 661.0, 500.0, 256.0, 1077.0, 869.0, 784.0, 1141.0, 1299.0, 211.0, 380.0, 710.0, 2131.0, 1066.0, 799.0, 380.0, 385.0, 1143.0, 1144.0, 327.0, 1326.0, 211.0, 3446.0, 3165.0, 527.0, 3133.0, 661.0, 515.0, 911.0, 277.0, 152.0, 195.0, 2244.0, 38.0, 189.0, 2059.0, 617.0, 777.0, 177.0, 215.0, 524.0, 42.0, 293.0, 173.0, 298.0, 1735.0, 2130.0, 1068.0, 1528.0, 399.0, 300.0, 628.0, 954.0, 29.0, 346.0, 800.0, 971.0, 52.0, 532.0, 1066.0, 334.0, 715.0, 186.0, 195.0, 341.0, 2038.0, 65.0, 2413.0, 403.0, 1018.0, 480.0, 500.0, 111.0, 199.0, 1028.0, 268.0, 309.0, 593.0, 186.0, 319.0, 1006.0, 2014.0, 649.0, 415.0, 2560.0, 2680.0, 3350.0, 1815.0, 244.0, 17.0, 244.0, 451.0, 806.0, 828.0, 846.0, 1740.0, 1767.0, 274.0, 1663.0, 825.0, 829.0, 613.0, 911.0, 61.0, 1332.0, 829.0, 1269.0, 1301.0, 390.0, 906.0, 1424.0, 244.0, 357.0, 310.0, 1.0, 177.0, 3230.0, 303.0, 1295.0, 2007.0, 1062.0, 1709.0, 113.0, 1723.0, 827.0, 368.0, 88.0, 717.0, 1612.0, 148.0, 1263.0, 1065.0, 177.0, 179.0, 349.0, 1222.0, 1487.0, 67.0, 1526.0, 468.0, 661.0, 792.0, 905.0, 560.0, 914.0, 39.0, 1526.0, 278.0, 1526.0, 134.0, 711.0, 192.0, 293.0, 661.0, 276.0, 57.0, 1604.0, 3413.0, 478.0, 1484.0, 729.0, 774.0, 1620.0, 298.0, 345.0, 570.0, 198.0, 653.0, 1651.0, 2942.0, 1469.0, 1062.0, 2744.0, 661.0, 335.0, 1274.0, 130.0, 207.0, 1905.0, 349.0, 323.0, 1002.0, 1241.0, 212.0, 189.0, 1737.0, 122.0, 955.0, 197.0, 1599.0, 259.0, 1640.0, 528.0, 87.0, 1849.0, 1221.0, 121.0, 964.0, 3022.0, 332.0, 819.0, 570.0, 1081.0, 866.0, 950.0, 418.0, 1047.0, 213.0, 1231.0, 1872.0, 370.0, 145.0, 1625.0, 734.0, 538.0, 950.0, 577.0, 696.0, 121.0, 1701.0, 720.0, 362.0, 1299.0, 1231.0, 1141.0, 1930.0, 153.0, 617.0, 180.0, 808.0, 1877.0, 908.0, 1120.0, 144.0, 211.0, 2035.0, 1689.0, 1510.0, 355.0, 312.0, 298.0, 373.0, 401.0, 765.0, 1437.0, 1188.0, 86.0, 723.0, 848.0, 2974.0, 1348.0, 697.0, 1814.0, 185.0, 1908.0, 2253.0, 598.0, 161.0, 2492.0, 196.0, 1435.0, 717.0, 1246.0, 401.0, 1957.0, 111.0, 135.0, 1967.0, 556.0, 1348.0, 1599.0, 355.0, 1616.0, 958.0, 1301.0, 256.0, 1044.0, 200.0, 1798.0, 2035.0, 273.0, 500.0, 657.0, 678.0, 827.0, 30.0, 1342.0, 3075.0, 550.0, 987.0, 1877.0, 47.0, 617.0, 482.0, 914.0, 379.0, 1253.0, 792.0, 1625.0, 247.0, 1459.0, 950.0, 1263.0, 1105.0, 947.0, 1485.0, 1305.0, 851.0, 277.0, 2267.0, 230.0, 1195.0, 755.0, 1625.0, 2416.0, 1707.0, 192.0, 1047.0, 2332.0, 624.0, 492.0, 1872.0, 112.0, 946.0, 160.0, 1123.0, 52.0, 586.0, 1348.0, 1682.0, 1465.0, 458.0, 522.0, 614.0, 1500.0, 746.0, 1532.0, 991.0, 1431.0, 1089.0, 2355.0, 1328.0, 208.0, 99.0, 1981.0, 1819.0, 30.0, 274.0, 490.0, 1640.0, 1598.0, 343.0, 951.0, 2066.0, 575.0, 1519.0, 764.0, 402.0, 950.0, 723.0, 2233.0, 492.0, 212.0, 2698.0, 189.0, 60.0, 729.0, 728.0, 797.0, 1437.0, 132.0, 899.0, 344.0, 1591.0, 3171.0, 728.0, 958.0, 1066.0, 1020.0, 383.0, 1085.0, 1003.0, 894.0, 549.0, 1067.0, 2132.0, 503.0, 2143.0, 727.0, 212.0, 1977.0, 1144.0, 503.0, 615.0, 1740.0, 516.0, 200.0, 777.0, 661.0, 2.0, 183.0, 1767.0, 1326.0, 661.0, 403.0, 386.0, 989.0, 1452.0, 194.0, 2491.0, 400.0, 668.0, 632.0, 29.0, 538.0, 399.0, 1328.0, 827.0, 86.0, 458.0, 1596.0, 199.0, 358.0, 661.0, 56.0, 1167.0, 1302.0, 1112.0, 577.0, 2065.0, 90.0, 661.0, 1596.0, 194.0, 835.0, 352.0, 950.0, 258.0, 424.0, 829.0, 577.0, 66.0, 1571.0, 153.0, 552.0, 1435.0, 452.0, 661.0, 947.0, 1716.0, 1918.0, 2015.0, 706.0, 311.0, 425.0, 238.0, 499.0, 550.0, 653.0, 1299.0, 1081.0, 275.0, 936.0, 480.0, 661.0, 595.0, 1072.0, 50.0, 2528.0, 90.0, 120.0, 299.0, 1584.0, 342.0, 1678.0, 481.0, 296.0, 2590.0, 954.0, 840.0, 458.0, 1085.0, 1644.0, 480.0, 66.0, 420.0, 953.0, 1437.0, 328.0, 1598.0, 48.0, 661.0, 972.0, 1037.0, 1532.0, 286.0, 661.0, 321.0, 492.0, 1599.0, 285.0, 661.0, 2891.0, 1023.0, 226.0, 49.0, 742.0, 195.0, 1486.0, 133.0, 679.0, 759.0, 3094.0, 519.0, 52.0, 1068.0, 640.0, 1618.0, 349.0, 380.0, 341.0, 109.0, 2127.0, 475.0, 32.0, 2403.0, 250.0, 3027.0, 1120.0, 391.0, 1437.0, 190.0, 1237.0, 684.0, 160.0, 556.0, 949.0, 69.0, 273.0, 286.0, 195.0, 402.0, 806.0, 121.0, 124.0, 87.0, 1241.0, 525.0, 211.0, 617.0, 697.0, 382.0, 391.0, 1015.0, 2046.0, 1957.0, 1695.0, 499.0, 630.0, 509.0, 192.0, 189.0, 1406.0, 148.0, 90.0, 615.0, 629.0, 783.0, 114.0, 1665.0, 32.0, 278.0, 2125.0, 248.0, 185.0, 1524.0, 198.0, 68.0, 153.0, 1302.0, 57.0, 1188.0, 1947.0, 954.0, 47.0, 320.0, 148.0, 1601.0, 267.0, 2099.0, 464.0, 2053.0, 355.0, 444.0, 135.0, 956.0, 196.0, 402.0, 51.0, 1262.0, 1324.0, 453.0, 303.0, 2193.0, 586.0, 310.0, 731.0, 1119.0, 320.0, 2306.0, 761.0, 52.0, 831.0, 385.0, 2329.0, 1885.0, 1230.0, 1427.0, 307.0, 263.0, 53.0, 312.0, 792.0, 215.0, 614.0, 617.0, 649.0, 1299.0, 523.0, 291.0, 667.0, 894.0, 1751.0, 936.0, 551.0, 1195.0, 158.0, 937.0, 88.0, 380.0, 288.0, 2324.0, 1250.0, 253.0, 67.0, 1183.0, 604.0, 531.0, 997.0, 90.0, 768.0, 1500.0, 577.0, 881.0, 1081.0, 1442.0, 1840.0, 3094.0, 370.0, 56.0, 954.0, 48.0, 1427.0, 457.0, 500.0, 1143.0, 1231.0, 1449.0, 258.0, 1344.0, 555.0, 53.0, 1992.0, 134.0, 321.0, 534.0, 134.0, 573.0, 207.0, 403.0, 207.0, 661.0, 1606.0, 1599.0, 881.0, 1684.0, 248.0, 714.0, 1526.0, 1747.0, 1362.0, 399.0, 288.0, 1922.0, 1195.0, 106.0, 499.0, 452.0, 272.0, 139.0, 660.0, 358.0, 323.0, 184.0, 3028.0, 31.0, 1234.0, 139.0, 287.0, 66.0, 461.0, 1758.0, 1892.0, 1966.0, 1877.0, 1231.0, 827.0, 1437.0, 3346.0, 1120.0, 2012.0, 55.0, 346.0, 661.0, 2163.0, 41.0, 1020.0, 448.0, 124.0, 293.0, 1026.0, 453.0, 665.0, 343.0, 535.0, 2841.0, 142.0, 883.0, 4.0, 122.0, 86.0, 278.0, 273.0, 796.0, 661.0, 777.0, 1267.0, 661.0, 1892.0, 768.0, 1457.0, 814.0, 1049.0, 783.0, 310.0, 138.0, 385.0, 381.0, 113.0, 405.0, 1571.0, 590.0, 111.0, 1767.0, 428.0, 1504.0, 2403.0, 545.0, 1206.0, 1722.0, 562.0, 523.0, 914.0, 311.0, 954.0, 68.0, 640.0, 729.0, 1648.0, 1261.0, 523.0, 2185.0, 208.0, 96.0, 932.0, 114.0, 1268.0, 854.0, 117.0, 139.0, 88.0, 753.0, 375.0, 2491.0, 372.0, 294.0, 867.0, 0.0, 613.0, 256.0, 2008.0, 1034.0, 1077.0, 1798.0, 1018.0, 116.0, 518.0, 1879.0, 407.0, 1189.0, 1947.0, 2035.0, 994.0, 1930.0, 590.0, 121.0, 1446.0, 905.0, 749.0, 729.0, 2007.0, 54.0, 808.0, 1970.0, 370.0, 2039.0, 2127.0, 1771.0, 1769.0, 663.0, 643.0, 1086.0, 2404.0, 615.0, 113.0, 30.0, 2926.0, 1249.0, 432.0, 166.0, 534.0, 1088.0, 792.0, 883.0, 134.0, 988.0, 827.0, 1123.0, 1623.0, 280.0, 486.0, 403.0, 1215.0, 1026.0, 166.0, 355.0, 231.0, 947.0, 403.0, 352.0, 2609.0, 619.0, 46.0, 399.0, 215.0, 956.0, 674.0, 2212.0, 255.0, 1451.0, 913.0, 590.0, 525.0, 1767.0, 121.0, 1188.0, 2157.0, 195.0, 949.0, 1849.0, 1409.0, 1985.0, 667.0, 1849.0, 500.0, 424.0, 523.0, 932.0, 1065.0, 41.0, 2820.0, 970.0, 1610.0, 914.0, 882.0, 461.0, 1699.0, 214.0, 45.0, 1292.0, 759.0, 949.0, 443.0, 1486.0, 828.0, 2648.0, 30.0, 1604.0, 1049.0, 655.0, 215.0, 1803.0, 212.0, 378.0, 30.0, 1123.0, 56.0, 1942.0, 784.0, 829.0, 2270.0, 617.0, 1231.0, 281.0, 61.0, 2082.0, 1767.0, 2121.0, 347.0, 2318.0, 59.0, 313.0, 1032.0, 294.0, 147.0, 1533.0, 2121.0, 727.0, 1040.0, 34.0, 491.0, 450.0, 1072.0, 1066.0, 2756.0, 1016.0, 296.0, 1065.0, 357.0, 332.0, 418.0, 363.0, 570.0, 256.0, 380.0, 300.0, 832.0, 881.0, 3.0, 27.0, 65.0, 409.0, 1735.0, 431.0, 451.0, 765.0, 749.0, 130.0, 189.0, 1243.0, 499.0, 400.0, 461.0, 65.0, 684.0, 619.0, 1767.0, 342.0, 180.0, 1916.0, 1434.0, 46.0, 568.0, 592.0, 370.0, 68.0, 627.0, 720.0, 1434.0, 1437.0, 2347.0, 2267.0, 138.0, 1416.0, 1435.0, 649.0, 1229.0, 234.0, 29.0, 2952.0, 1584.0, 273.0, 1.0, 1479.0, 402.0, 1892.0, 432.0, 352.0, 536.0, 576.0, 564.0, 661.0, 754.0, 1406.0, 138.0, 478.0, 259.0, 350.0, 1449.0, 636.0, 299.0, 642.0, 193.0, 788.0, 1068.0, 169.0, 199.0, 1314.0, 521.0, 133.0, 106.0, 1016.0, 663.0, 936.0, 1348.0, 39.0, 432.0, 781.0, 230.0, 195.0, 1435.0, 1216.0, 175.0, 1997.0, 2545.0, 1462.0, 278.0, 787.0, 118.0, 772.0, 661.0, 3234.0, 159.0, 1444.0, 2.0, 948.0, 352.0, 2214.0, 1786.0, 1513.0, 1003.0, 383.0, 2175.0, 499.0, 550.0, 1741.0, 3006.0, 496.0, 586.0, 1515.0, 256.0, 1072.0, 1244.0, 1872.0, 500.0, 146.0, 298.0, 1112.0, 460.0, 610.0, 783.0, 696.0, 1066.0, 480.0, 1599.0, 1161.0, 468.0, 1091.0, 566.0, 152.0, 399.0, 1070.0, 947.0, 1815.0, 1752.0, 207.0, 400.0, 552.0, 366.0, 814.0, 768.0, 1020.0, 706.0, 1525.0, 1354.0, 268.0, 984.0, 568.0, 906.0, 2128.0, 2418.0, 221.0, 430.0, 386.0, 1184.0, 1292.0, 55.0, 661.0, 954.0, 1535.0, 831.0, 2233.0, 259.0, 109.0, 317.0, 2373.0, 1486.0, 1018.0, 391.0, 1428.0, 1617.0, 1230.0, 1065.0, 359.0, 258.0, 1618.0, 349.0, 1003.0, 1519.0, 997.0, 449.0, 1086.0, 2162.0, 888.0, 1264.0, 1187.0, 725.0, 54.0, 724.0, 491.0, 701.0, 1695.0, 569.0, 185.0, 1954.0, 334.0, 262.0, 2054.0, 1043.0, 1449.0, 200.0, 684.0, 491.0, 1003.0, 394.0, 661.0, 464.0, 429.0, 305.0, 155.0, 142.0, 1066.0, 820.0, 468.0, 1233.0, 215.0, 708.0, 263.0, 1620.0, 149.0, 1326.0, 366.0, 655.0, 154.0, 971.0, 1263.0, 1688.0, 2055.0, 180.0, 314.0, 1771.0, 792.0, 776.0, 709.0, 585.0, 1590.0, 400.0, 1143.0, 881.0, 1456.0, 1223.0, 496.0, 2150.0, 438.0, 1982.0, 1167.0, 2181.0, 306.0, 207.0, 591.0, 383.0, 349.0, 197.0, 1273.0, 192.0, 2192.0, 941.0, 1072.0, 1242.0, 370.0, 609.0, 2.0, 2253.0, 438.0, 386.0, 308.0, 1063.0, 180.0, 151.0, 661.0, 697.0, 988.0, 201.0, 256.0, 781.0, 1457.0, 121.0, 932.0, 178.0, 792.0, 244.0, 728.0, 249.0, 782.0, 430.0, 1609.0, 263.0, 267.0, 2295.0, 2810.0, 483.0, 1451.0, 1640.0, 4.0, 349.0, 198.0, 400.0, 1076.0, 431.0, 1120.0, 1062.0, 1062.0, 945.0, 1987.0, 944.0, 932.0, 1679.0, 405.0, 1437.0, 800.0, 394.0, 1357.0, 586.0, 401.0, 1571.0, 1153.0, 1217.0, 696.0, 783.0, 207.0, 253.0, 638.0, 4.0, 3.0, 1519.0, 272.0, 930.0, 2196.0, 617.0, 966.0, 776.0, 1442.0, 1087.0, 322.0, 562.0, 661.0, 1457.0, 278.0, 2253.0, 55.0, 999.0, 36.0, 2193.0, 409.0, 153.0, 1908.0, 840.0, 2526.0, 141.0, 121.0, 1299.0, 667.0, 377.0, 2065.0, 1210.0, 2165.0, 999.0, 905.0, 1300.0, 379.0, 215.0, 637.0, 523.0, 1693.0, 301.0, 617.0, 38.0, 600.0, 276.0, 1940.0, 617.0, 1188.0, 1269.0, 272.0, 731.0, 653.0, 425.0, 1043.0, 1186.0, 1406.0, 1006.0, 46.0, 1228.0, 189.0, 302.0, 2012.0, 139.0, 1392.0, 331.0, 1377.0, 90.0, 2032.0, 315.0, 1798.0, 208.0, 546.0, 110.0, 432.0, 46.0, 2422.0, 385.0, 1273.0, 90.0, 661.0, 1848.0, 1174.0, 264.0, 1205.0, 932.0, 123.0, 1457.0, 1825.0, 395.0, 1246.0, 284.0, 3058.0, 138.0, 476.0, 403.0, 386.0, 2109.0, 643.0, 199.0, 192.0, 190.0, 190.0, 661.0, 1677.0, 279.0, 673.0, 54.0, 190.0, 2139.0, 308.0, 503.0, 777.0, 858.0, 947.0, 434.0, 321.0, 1264.0, 3014.0, 42.0, 783.0, 911.0, 1815.0, 1191.0, 1234.0, 949.0, 226.0, 1106.0, 29.0, 1019.0, 1226.0, 400.0, 1849.0, 965.0, 562.0, 348.0, 1554.0, 1043.0, 219.0, 59.0, 500.0, 385.0, 610.0, 117.0, 722.0, 139.0, 1195.0, 202.0, 64.0, 1651.0, 3145.0, 1848.0, 1700.0, 613.0, 286.0, 823.0, 510.0, 1007.0, 1467.0, 154.0, 1085.0, 184.0, 1849.0, 885.0, 1016.0, 105.0, 282.0, 2557.0, 2493.0, 1035.0, 808.0, 471.0, 118.0, 325.0, 931.0, 192.0, 841.0, 881.0, 106.0, 561.0, 420.0, 320.0, 1736.0, 1678.0, 1105.0, 1444.0, 1223.0, 195.0, 1066.0, 285.0, 227.0, 546.0, 1244.0, 1950.0, 489.0, 403.0, 197.0, 139.0, 401.0, 500.0, 713.0, 1849.0, 1991.0]\n"
          ],
          "name": "stdout"
        }
      ]
    },
    {
      "cell_type": "code",
      "metadata": {
        "id": "jnucJpa24-7R"
      },
      "source": [
        "# import tensorflow_hub as hub\n",
        "# FullTokenizer = bert.bert_tokenization.FullTokenizer\n",
        "# bert_layer = hub.KerasLayer(\"https://tfhub.dev/tensorflow/bert_en_uncased_L-12_H-768_A-12/1\", trainable=False)"
      ],
      "execution_count": null,
      "outputs": []
    },
    {
      "cell_type": "code",
      "metadata": {
        "colab": {
          "base_uri": "https://localhost:8080/",
          "height": 173
        },
        "id": "vcUsgQOnD3za",
        "outputId": "5df127f8-bfb0-4286-eb05-8356b4655c4c"
      },
      "source": [
        "train['Detail'] = train['Detail'].str.replace('&&', ' [SEP] ')\n",
        "sentences = train['Detail']\n",
        "sentences = [\"[CLS] \" + str(sentence) + \" [SEP]\" for sentence in sentences]\n",
        "sentences[100]"
      ],
      "execution_count": null,
      "outputs": [
        {
          "output_type": "stream",
          "text": [
            "/usr/local/lib/python3.7/dist-packages/ipykernel_launcher.py:1: SettingWithCopyWarning: \n",
            "A value is trying to be set on a copy of a slice from a DataFrame.\n",
            "Try using .loc[row_indexer,col_indexer] = value instead\n",
            "\n",
            "See the caveats in the documentation: https://pandas.pydata.org/pandas-docs/stable/user_guide/indexing.html#returning-a-view-versus-a-copy\n",
            "  \"\"\"Entry point for launching an IPython kernel.\n"
          ],
          "name": "stderr"
        },
        {
          "output_type": "execute_result",
          "data": {
            "application/vnd.google.colaboratory.intrinsic+json": {
              "type": "string"
            },
            "text/plain": [
              "'[CLS] PACK OF 12 LONDON TISSUES [SEP] PACK OF 12 WOODLAND TISSUES [SEP] HANGING JAM JAR T-LIGHT HOLDER [SEP] PLASTERS IN TIN CIRCUS PARADE [SEP] GROW YOUR OWN PLANT IN A CAN [SEP] PLASTERS IN TIN SPACEBOY [SEP] BABUSHKA LIGHTS STRING OF 10 [SEP] SET/3 RUSSIAN DOLL STACKING TINS [SEP] SET 10 LIGHTS NIGHT OWL [SEP] ICE CREAM DESIGN GARDEN PARASOL [SEP] PINK PICNIC BARBECUE BUCKET [SEP]'"
            ]
          },
          "metadata": {
            "tags": []
          },
          "execution_count": 19
        }
      ]
    },
    {
      "cell_type": "code",
      "metadata": {
        "colab": {
          "base_uri": "https://localhost:8080/"
        },
        "id": "abSsPUxmrlKN",
        "outputId": "cf14de78-0d67-4851-ea4b-5da9c0f80fa7"
      },
      "source": [
        "# # BERT의 토크나이저로 문장을 토큰으로 분리\n",
        "tokenizer = BertTokenizer.from_pretrained('bert-base-uncased', do_lower_case=True)\n",
        "tokenized_texts = [tokenizer.tokenize(sent) for sent in sentences]\n",
        "# tokenized_texts_list = train['Detail'].to_list()\n",
        "# tokenized_texts = []\n",
        "# for v in tokenized_texts_list:\n",
        "    # tokenized_texts.append([v])\n",
        "print (sentences[0])\n",
        "print (tokenized_texts[0])\n",
        "len(tokenized_texts)"
      ],
      "execution_count": null,
      "outputs": [
        {
          "output_type": "stream",
          "text": [
            "100%|██████████| 231508/231508 [00:00<00:00, 19402448.36B/s]\n"
          ],
          "name": "stderr"
        },
        {
          "output_type": "stream",
          "text": [
            "[CLS] HANGING JAM JAR T-LIGHT HOLDER [SEP] MAGIC DRAWING SLATE SPACEBOY [SEP] PICTURE DOMINOES [SEP] BLACK RECORD COVER FRAME [SEP] MAGIC DRAWING SLATE CIRCUS PARADE [SEP] PLASTERS IN TIN STRONGMAN [SEP] PLASTERS IN TIN SPACEBOY [SEP] ROUND SNACK BOXES SET OF 4 FRUITS [SEP] DOOR MAT RED SPOT [SEP] CHILDS BREAKFAST SET CIRCUS PARADE [SEP] PLASTERS IN TIN CIRCUS PARADEPACK OF 12 TRADITIONAL CRAYONS [SEP] SET 12 RETRO WHITE CHALK STICKS [SEP] SET 12 KIDS COLOUR  CHALK STICKS [SEP] TRADITIONAL MODELLING CLAY [SEP] PACK OF 12 COLOURED PENCILS [SEP] SET OF 72 RETRO SPOT PAPER  DOILIES [SEP] SET OF 9 HEART SHAPED BALLOONS [SEP] PACK OF 6 HANDBAG GIFT BOXES [SEP] PACK OF 6 SWEETIE GIFT BOXES [SEP] SET/5 RED SPOTTY LID GLASS BOWLS [SEP] GLASS JAR PEACOCK BATH SALTS [SEP] GLASS JAR DAISY FRESH COTTON WOOL [SEP] BOX OF VINTAGE JIGSAW BLOCKS [SEP]\n",
            "['[CLS]', 'hanging', 'jam', 'jar', 't', '-', 'light', 'holder', '[SEP]', 'magic', 'drawing', 'slate', 'space', '##boy', '[SEP]', 'picture', 'domino', '##es', '[SEP]', 'black', 'record', 'cover', 'frame', '[SEP]', 'magic', 'drawing', 'slate', 'circus', 'parade', '[SEP]', 'plaster', '##s', 'in', 'tin', 'strong', '##man', '[SEP]', 'plaster', '##s', 'in', 'tin', 'space', '##boy', '[SEP]', 'round', 'snack', 'boxes', 'set', 'of', '4', 'fruits', '[SEP]', 'door', 'mat', 'red', 'spot', '[SEP]', 'child', '##s', 'breakfast', 'set', 'circus', 'parade', '[SEP]', 'plaster', '##s', 'in', 'tin', 'circus', 'parade', '##pack', 'of', '12', 'traditional', 'cr', '##ayo', '##ns', '[SEP]', 'set', '12', 'retro', 'white', 'chalk', 'sticks', '[SEP]', 'set', '12', 'kids', 'colour', 'chalk', 'sticks', '[SEP]', 'traditional', 'modelling', 'clay', '[SEP]', 'pack', 'of', '12', 'coloured', 'pencil', '##s', '[SEP]', 'set', 'of', '72', 'retro', 'spot', 'paper', 'doi', '##lies', '[SEP]', 'set', 'of', '9', 'heart', 'shaped', 'balloons', '[SEP]', 'pack', 'of', '6', 'hand', '##bag', 'gift', 'boxes', '[SEP]', 'pack', 'of', '6', 'sweetie', 'gift', 'boxes', '[SEP]', 'set', '/', '5', 'red', 'spot', '##ty', 'lid', 'glass', 'bowls', '[SEP]', 'glass', 'jar', 'peacock', 'bath', 'salts', '[SEP]', 'glass', 'jar', 'daisy', 'fresh', 'cotton', 'wool', '[SEP]', 'box', 'of', 'vintage', 'ji', '##gs', '##aw', 'blocks', '[SEP]']\n"
          ],
          "name": "stdout"
        },
        {
          "output_type": "execute_result",
          "data": {
            "text/plain": [
              "7881"
            ]
          },
          "metadata": {
            "tags": []
          },
          "execution_count": 20
        }
      ]
    },
    {
      "cell_type": "code",
      "metadata": {
        "id": "iPaQvnXpSrZ1"
      },
      "source": [
        "# 입력 토큰의 최대 시퀀스 길이\n",
        "MAX_LEN = 512"
      ],
      "execution_count": null,
      "outputs": []
    },
    {
      "cell_type": "code",
      "metadata": {
        "id": "0mx5Hk82HQcA"
      },
      "source": [
        "# tok = []\n",
        "# for i in range(len(tokenized_texts)):\n",
        "#     if len(tokenized_texts[i]) > 512:\n",
        "#         tok.append(len(tokenized_texts[i]))\n",
        "# print(max(tok))\n",
        "# print(len(tok))\n",
        "# print(len(tokenized_texts))"
      ],
      "execution_count": null,
      "outputs": []
    },
    {
      "cell_type": "code",
      "metadata": {
        "id": "LU1MQEOcH_79"
      },
      "source": [
        "# for i in range(len(tokenized_texts)):\n",
        "#     if len(tokenized_texts[i]) > 512:\n",
        "#         while 1:\n",
        "#             id = tokenized_texts[i].index('[SEP]')\n",
        "#             tokenized_texts[i] = tokenized_texts[i][id:]\n",
        "#             tokenized_texts[i][0] = '[CLS]'\n",
        "#             if len(tokenized_texts[i]) <= 512:\n",
        "#                 break\n",
        "# tok = []\n",
        "# for i in range(len(tokenized_texts)):\n",
        "#     if len(tokenized_texts[i]) > 512:\n",
        "#         tok.append(len(tokenized_texts[i]))\n",
        "# # print(max(tok))\n",
        "# print(len(tok))\n",
        "# print(len(tokenized_texts))"
      ],
      "execution_count": null,
      "outputs": []
    },
    {
      "cell_type": "code",
      "metadata": {
        "colab": {
          "base_uri": "https://localhost:8080/"
        },
        "id": "DBJ7259NPdJJ",
        "outputId": "c700d016-235f-4d2b-f042-8835d7fde4a5"
      },
      "source": [
        "for i in range(len(tokenized_texts)):\n",
        "    if len(tokenized_texts[i]) > MAX_LEN:\n",
        "        while 1:\n",
        "            id = tokenized_texts[i].index('[SEP]')\n",
        "            tokenized_texts[i] = tokenized_texts[i][id:]\n",
        "            tokenized_texts[i][0] = '[CLS]'\n",
        "            if len(tokenized_texts[i]) <= MAX_LEN:\n",
        "                break\n",
        "tok = []\n",
        "for i in range(len(tokenized_texts)):\n",
        "    if len(tokenized_texts[i]) > MAX_LEN:\n",
        "        tok.append(len(tokenized_texts[i]))\n",
        "# print(max(tok))\n",
        "print(len(tok))\n",
        "print(len(tokenized_texts))"
      ],
      "execution_count": null,
      "outputs": [
        {
          "output_type": "stream",
          "text": [
            "0\n",
            "7881\n"
          ],
          "name": "stdout"
        }
      ]
    },
    {
      "cell_type": "code",
      "metadata": {
        "colab": {
          "base_uri": "https://localhost:8080/"
        },
        "id": "pAZRvFtCOV_I",
        "outputId": "0a7e8c3e-aa98-4a1d-a9a9-d87274dd840d"
      },
      "source": [
        "# 입력 토큰의 최대 시퀀스 길이\n",
        "# MAX_LEN = 128\n",
        "\n",
        "# 토큰을 숫자 인덱스로 변환\n",
        "input_ids = [tokenizer.convert_tokens_to_ids(x) for x in tokenized_texts]\n",
        "\n",
        "# 문장을 MAX_LEN 길이에 맞게 자르고, 모자란 부분을 패딩 0으로 채움\n",
        "input_ids = pad_sequences(input_ids, maxlen=MAX_LEN, dtype=\"long\", truncating=\"post\", padding=\"post\")\n",
        "\n",
        "print(input_ids[0])\n",
        "len(input_ids)"
      ],
      "execution_count": null,
      "outputs": [
        {
          "output_type": "stream",
          "text": [
            "[  101  5689  9389 15723  1056  1011  2422  9111   102  3894  5059 12796\n",
            "  2686 11097   102  3861 23968  2229   102  2304  2501  3104  4853   102\n",
            "  3894  5059 12796  9661  7700   102 15673  2015  1999  9543  2844  2386\n",
            "   102 15673  2015  1999  9543  2686 11097   102  2461 19782  8378  2275\n",
            "  1997  1018 10962   102  2341 13523  2417  3962   102  2775  2015  6350\n",
            "  2275  9661  7700   102 15673  2015  1999  9543  9661  7700 23947  1997\n",
            "  2260  3151 13675 28852  3619   102  2275  2260 22307  2317 16833 12668\n",
            "   102  2275  2260  4268  6120 16833 12668   102  3151 19518  5726   102\n",
            "  5308  1997  2260 11401 14745  2015   102  2275  1997  5824 22307  3962\n",
            "  3259  9193 11983   102  2275  1997  1023  2540  5044 22163   102  5308\n",
            "  1997  1020  2192 16078  5592  8378   102  5308  1997  1020 22872  5592\n",
            "  8378   102  2275  1013  1019  2417  3962  3723 11876  3221 15220   102\n",
            "  3221 15723 18931  7198 23480   102  3221 15723 10409  4840  6557 12121\n",
            "   102  3482  1997 13528 10147  5620 10376  5991   102     0     0     0\n",
            "     0     0     0     0     0     0     0     0     0     0     0     0\n",
            "     0     0     0     0     0     0     0     0     0     0     0     0\n",
            "     0     0     0     0     0     0     0     0     0     0     0     0\n",
            "     0     0     0     0     0     0     0     0     0     0     0     0\n",
            "     0     0     0     0     0     0     0     0     0     0     0     0\n",
            "     0     0     0     0     0     0     0     0     0     0     0     0\n",
            "     0     0     0     0     0     0     0     0     0     0     0     0\n",
            "     0     0     0     0     0     0     0     0     0     0     0     0\n",
            "     0     0     0     0     0     0     0     0     0     0     0     0\n",
            "     0     0     0     0     0     0     0     0     0     0     0     0\n",
            "     0     0     0     0     0     0     0     0     0     0     0     0\n",
            "     0     0     0     0     0     0     0     0     0     0     0     0\n",
            "     0     0     0     0     0     0     0     0     0     0     0     0\n",
            "     0     0     0     0     0     0     0     0     0     0     0     0\n",
            "     0     0     0     0     0     0     0     0     0     0     0     0\n",
            "     0     0     0     0     0     0     0     0     0     0     0     0\n",
            "     0     0     0     0     0     0     0     0     0     0     0     0\n",
            "     0     0     0     0     0     0     0     0     0     0     0     0\n",
            "     0     0     0     0     0     0     0     0     0     0     0     0\n",
            "     0     0     0     0     0     0     0     0     0     0     0     0\n",
            "     0     0     0     0     0     0     0     0     0     0     0     0\n",
            "     0     0     0     0     0     0     0     0     0     0     0     0\n",
            "     0     0     0     0     0     0     0     0     0     0     0     0\n",
            "     0     0     0     0     0     0     0     0     0     0     0     0\n",
            "     0     0     0     0     0     0     0     0     0     0     0     0\n",
            "     0     0     0     0     0     0     0     0     0     0     0     0\n",
            "     0     0     0     0     0     0     0     0     0     0     0     0\n",
            "     0     0     0     0     0     0     0     0     0     0     0     0\n",
            "     0     0     0     0     0     0     0     0]\n"
          ],
          "name": "stdout"
        },
        {
          "output_type": "execute_result",
          "data": {
            "text/plain": [
              "7881"
            ]
          },
          "metadata": {
            "tags": []
          },
          "execution_count": 25
        }
      ]
    },
    {
      "cell_type": "code",
      "metadata": {
        "colab": {
          "base_uri": "https://localhost:8080/"
        },
        "id": "Nd7106EtTF1R",
        "outputId": "5c199783-82f0-4090-cf5a-7636bc481afe"
      },
      "source": [
        "# 어텐션 마스크 초기화\n",
        "attention_masks = []\n",
        "\n",
        "# 어텐션 마스크를 패딩이 아니면 1, 패딩이면 0으로 설정\n",
        "# 패딩 부분은 BERT 모델에서 어텐션을 수행하지 않아 속도 향상\n",
        "for seq in input_ids:\n",
        "    seq_mask = [float(i>0) for i in seq]\n",
        "    attention_masks.append(seq_mask)\n",
        "\n",
        "print(attention_masks[0])"
      ],
      "execution_count": null,
      "outputs": [
        {
          "output_type": "stream",
          "text": [
            "[1.0, 1.0, 1.0, 1.0, 1.0, 1.0, 1.0, 1.0, 1.0, 1.0, 1.0, 1.0, 1.0, 1.0, 1.0, 1.0, 1.0, 1.0, 1.0, 1.0, 1.0, 1.0, 1.0, 1.0, 1.0, 1.0, 1.0, 1.0, 1.0, 1.0, 1.0, 1.0, 1.0, 1.0, 1.0, 1.0, 1.0, 1.0, 1.0, 1.0, 1.0, 1.0, 1.0, 1.0, 1.0, 1.0, 1.0, 1.0, 1.0, 1.0, 1.0, 1.0, 1.0, 1.0, 1.0, 1.0, 1.0, 1.0, 1.0, 1.0, 1.0, 1.0, 1.0, 1.0, 1.0, 1.0, 1.0, 1.0, 1.0, 1.0, 1.0, 1.0, 1.0, 1.0, 1.0, 1.0, 1.0, 1.0, 1.0, 1.0, 1.0, 1.0, 1.0, 1.0, 1.0, 1.0, 1.0, 1.0, 1.0, 1.0, 1.0, 1.0, 1.0, 1.0, 1.0, 1.0, 1.0, 1.0, 1.0, 1.0, 1.0, 1.0, 1.0, 1.0, 1.0, 1.0, 1.0, 1.0, 1.0, 1.0, 1.0, 1.0, 1.0, 1.0, 1.0, 1.0, 1.0, 1.0, 1.0, 1.0, 1.0, 1.0, 1.0, 1.0, 1.0, 1.0, 1.0, 1.0, 1.0, 1.0, 1.0, 1.0, 1.0, 1.0, 1.0, 1.0, 1.0, 1.0, 1.0, 1.0, 1.0, 1.0, 1.0, 1.0, 1.0, 1.0, 1.0, 1.0, 1.0, 1.0, 1.0, 1.0, 1.0, 1.0, 1.0, 1.0, 1.0, 1.0, 1.0, 1.0, 1.0, 1.0, 1.0, 1.0, 1.0, 0.0, 0.0, 0.0, 0.0, 0.0, 0.0, 0.0, 0.0, 0.0, 0.0, 0.0, 0.0, 0.0, 0.0, 0.0, 0.0, 0.0, 0.0, 0.0, 0.0, 0.0, 0.0, 0.0, 0.0, 0.0, 0.0, 0.0, 0.0, 0.0, 0.0, 0.0, 0.0, 0.0, 0.0, 0.0, 0.0, 0.0, 0.0, 0.0, 0.0, 0.0, 0.0, 0.0, 0.0, 0.0, 0.0, 0.0, 0.0, 0.0, 0.0, 0.0, 0.0, 0.0, 0.0, 0.0, 0.0, 0.0, 0.0, 0.0, 0.0, 0.0, 0.0, 0.0, 0.0, 0.0, 0.0, 0.0, 0.0, 0.0, 0.0, 0.0, 0.0, 0.0, 0.0, 0.0, 0.0, 0.0, 0.0, 0.0, 0.0, 0.0, 0.0, 0.0, 0.0, 0.0, 0.0, 0.0, 0.0, 0.0, 0.0, 0.0, 0.0, 0.0, 0.0, 0.0, 0.0, 0.0, 0.0, 0.0, 0.0, 0.0, 0.0, 0.0, 0.0, 0.0, 0.0, 0.0, 0.0, 0.0, 0.0, 0.0, 0.0, 0.0, 0.0, 0.0, 0.0, 0.0, 0.0, 0.0, 0.0, 0.0, 0.0, 0.0, 0.0, 0.0, 0.0, 0.0, 0.0, 0.0, 0.0, 0.0, 0.0, 0.0, 0.0, 0.0, 0.0, 0.0, 0.0, 0.0, 0.0, 0.0, 0.0, 0.0, 0.0, 0.0, 0.0, 0.0, 0.0, 0.0, 0.0, 0.0, 0.0, 0.0, 0.0, 0.0, 0.0, 0.0, 0.0, 0.0, 0.0, 0.0, 0.0, 0.0, 0.0, 0.0, 0.0, 0.0, 0.0, 0.0, 0.0, 0.0, 0.0, 0.0, 0.0, 0.0, 0.0, 0.0, 0.0, 0.0, 0.0, 0.0, 0.0, 0.0, 0.0, 0.0, 0.0, 0.0, 0.0, 0.0, 0.0, 0.0, 0.0, 0.0, 0.0, 0.0, 0.0, 0.0, 0.0, 0.0, 0.0, 0.0, 0.0, 0.0, 0.0, 0.0, 0.0, 0.0, 0.0, 0.0, 0.0, 0.0, 0.0, 0.0, 0.0, 0.0, 0.0, 0.0, 0.0, 0.0, 0.0, 0.0, 0.0, 0.0, 0.0, 0.0, 0.0, 0.0, 0.0, 0.0, 0.0, 0.0, 0.0, 0.0, 0.0, 0.0, 0.0, 0.0, 0.0, 0.0, 0.0, 0.0, 0.0, 0.0, 0.0, 0.0, 0.0, 0.0, 0.0, 0.0, 0.0, 0.0, 0.0, 0.0, 0.0, 0.0, 0.0, 0.0, 0.0, 0.0, 0.0, 0.0, 0.0, 0.0, 0.0, 0.0, 0.0, 0.0, 0.0, 0.0, 0.0, 0.0, 0.0, 0.0, 0.0, 0.0, 0.0, 0.0, 0.0, 0.0, 0.0, 0.0, 0.0, 0.0, 0.0, 0.0, 0.0, 0.0, 0.0, 0.0, 0.0, 0.0, 0.0, 0.0, 0.0, 0.0, 0.0, 0.0, 0.0, 0.0, 0.0, 0.0, 0.0, 0.0, 0.0, 0.0, 0.0, 0.0, 0.0, 0.0, 0.0, 0.0, 0.0, 0.0, 0.0, 0.0, 0.0, 0.0, 0.0, 0.0, 0.0, 0.0, 0.0, 0.0, 0.0, 0.0, 0.0, 0.0, 0.0, 0.0, 0.0, 0.0, 0.0, 0.0, 0.0, 0.0, 0.0, 0.0, 0.0, 0.0, 0.0, 0.0, 0.0, 0.0, 0.0, 0.0, 0.0, 0.0]\n"
          ],
          "name": "stdout"
        }
      ]
    },
    {
      "cell_type": "code",
      "metadata": {
        "colab": {
          "base_uri": "https://localhost:8080/"
        },
        "id": "8qyN3lheTIOj",
        "outputId": "58560810-26dd-4f9e-8838-6b323969bab9"
      },
      "source": [
        "# 훈련셋과 검증셋으로 분리\n",
        "train_inputs, validation_inputs, train_labels, validation_labels = train_test_split(input_ids,\n",
        "                                                                                    train_label, \n",
        "                                                                                    # random_state=2018, \n",
        "                                                                                    test_size=0.1)\n",
        "\n",
        "# 어텐션 마스크를 훈련셋과 검증셋으로 분리\n",
        "train_masks, validation_masks, _, _ = train_test_split(attention_masks, \n",
        "                                                       input_ids,\n",
        "                                                    #    random_state=2018, \n",
        "                                                       test_size=0.1)\n",
        "\n",
        "# 데이터를 파이토치의 텐서로 변환\n",
        "train_inputs = torch.tensor(train_inputs)\n",
        "train_labels = torch.tensor(train_labels)\n",
        "train_masks = torch.tensor(train_masks)\n",
        "validation_inputs = torch.tensor(validation_inputs)\n",
        "validation_labels = torch.tensor(validation_labels)\n",
        "validation_masks = torch.tensor(validation_masks)\t\t\t\t\n",
        "\n",
        "print(train_inputs[0])\n",
        "print(train_labels[0])\n",
        "print(train_masks[0])\n",
        "print(validation_inputs[0])\n",
        "print(validation_labels[0])\n",
        "print(validation_masks[0])"
      ],
      "execution_count": null,
      "outputs": [
        {
          "output_type": "stream",
          "text": [
            "tensor([  101,  2540,  1997, 15536,  9102,  2312,   102,  2540,  1997, 15536,\n",
            "         9102,  2235,   102,  3500, 11703,  1010,  5689, 14556,  2665,   102,\n",
            "        11446,  1010,  5689,  2540,  1009,  5259,   102,  2540, 11554, 29461,\n",
            "        21711,  2235,   102, 10882,  3669, 16523,  2483,  2540,  2007,  9112,\n",
            "          102,  2540, 11554, 29461, 21711,  2312,   102,  2540, 10882,  3669,\n",
            "        28637, 10855,  2235,   102,  2540, 10882,  3669, 28637, 10855,  2312,\n",
            "          102, 10720,  2072,  4597,   102,  2176,  8103,  2317,  2293, 12887,\n",
            "          102,  2317,  5689,  2540,  1056,  1011,  2422,  9111,   102, 14405,\n",
            "         2317,  7318,  2540, 12313,   102,  2317, 12074,  2015,  5239,  1018,\n",
            "        22497,   102,  3019, 11286, 13541,  2235,   102,  3019, 11286, 13541,\n",
            "         2312,   102,  6949, 12074,  3661, 14513,   102, 12074,  3145,  5239,\n",
            "          102,  6949, 12074,  7163,  3108,   102,     0,     0,     0,     0,\n",
            "            0,     0,     0,     0,     0,     0,     0,     0,     0,     0,\n",
            "            0,     0,     0,     0,     0,     0,     0,     0,     0,     0,\n",
            "            0,     0,     0,     0,     0,     0,     0,     0,     0,     0,\n",
            "            0,     0,     0,     0,     0,     0,     0,     0,     0,     0,\n",
            "            0,     0,     0,     0,     0,     0,     0,     0,     0,     0,\n",
            "            0,     0,     0,     0,     0,     0,     0,     0,     0,     0,\n",
            "            0,     0,     0,     0,     0,     0,     0,     0,     0,     0,\n",
            "            0,     0,     0,     0,     0,     0,     0,     0,     0,     0,\n",
            "            0,     0,     0,     0,     0,     0,     0,     0,     0,     0,\n",
            "            0,     0,     0,     0,     0,     0,     0,     0,     0,     0,\n",
            "            0,     0,     0,     0,     0,     0,     0,     0,     0,     0,\n",
            "            0,     0,     0,     0,     0,     0,     0,     0,     0,     0,\n",
            "            0,     0,     0,     0,     0,     0,     0,     0,     0,     0,\n",
            "            0,     0,     0,     0,     0,     0,     0,     0,     0,     0,\n",
            "            0,     0,     0,     0,     0,     0,     0,     0,     0,     0,\n",
            "            0,     0,     0,     0,     0,     0,     0,     0,     0,     0,\n",
            "            0,     0,     0,     0,     0,     0,     0,     0,     0,     0,\n",
            "            0,     0,     0,     0,     0,     0,     0,     0,     0,     0,\n",
            "            0,     0,     0,     0,     0,     0,     0,     0,     0,     0,\n",
            "            0,     0,     0,     0,     0,     0,     0,     0,     0,     0,\n",
            "            0,     0,     0,     0,     0,     0,     0,     0,     0,     0,\n",
            "            0,     0,     0,     0,     0,     0,     0,     0,     0,     0,\n",
            "            0,     0,     0,     0,     0,     0,     0,     0,     0,     0,\n",
            "            0,     0,     0,     0,     0,     0,     0,     0,     0,     0,\n",
            "            0,     0,     0,     0,     0,     0,     0,     0,     0,     0,\n",
            "            0,     0,     0,     0,     0,     0,     0,     0,     0,     0,\n",
            "            0,     0,     0,     0,     0,     0,     0,     0,     0,     0,\n",
            "            0,     0,     0,     0,     0,     0,     0,     0,     0,     0,\n",
            "            0,     0,     0,     0,     0,     0,     0,     0,     0,     0,\n",
            "            0,     0,     0,     0,     0,     0,     0,     0,     0,     0,\n",
            "            0,     0,     0,     0,     0,     0,     0,     0,     0,     0,\n",
            "            0,     0,     0,     0,     0,     0,     0,     0,     0,     0,\n",
            "            0,     0,     0,     0,     0,     0,     0,     0,     0,     0,\n",
            "            0,     0,     0,     0,     0,     0,     0,     0,     0,     0,\n",
            "            0,     0,     0,     0,     0,     0,     0,     0,     0,     0,\n",
            "            0,     0,     0,     0,     0,     0,     0,     0,     0,     0,\n",
            "            0,     0,     0,     0,     0,     0,     0,     0,     0,     0,\n",
            "            0,     0,     0,     0,     0,     0,     0,     0,     0,     0,\n",
            "            0,     0,     0,     0,     0,     0,     0,     0,     0,     0,\n",
            "            0,     0])\n",
            "tensor(386.)\n",
            "tensor([1., 1., 1., 1., 1., 1., 1., 1., 1., 1., 1., 1., 1., 1., 1., 1., 1., 1.,\n",
            "        1., 1., 1., 1., 1., 1., 1., 1., 1., 1., 1., 1., 1., 1., 1., 1., 1., 1.,\n",
            "        1., 1., 1., 1., 1., 1., 1., 1., 1., 1., 1., 1., 1., 1., 1., 1., 1., 1.,\n",
            "        1., 1., 1., 1., 1., 1., 1., 0., 0., 0., 0., 0., 0., 0., 0., 0., 0., 0.,\n",
            "        0., 0., 0., 0., 0., 0., 0., 0., 0., 0., 0., 0., 0., 0., 0., 0., 0., 0.,\n",
            "        0., 0., 0., 0., 0., 0., 0., 0., 0., 0., 0., 0., 0., 0., 0., 0., 0., 0.,\n",
            "        0., 0., 0., 0., 0., 0., 0., 0., 0., 0., 0., 0., 0., 0., 0., 0., 0., 0.,\n",
            "        0., 0., 0., 0., 0., 0., 0., 0., 0., 0., 0., 0., 0., 0., 0., 0., 0., 0.,\n",
            "        0., 0., 0., 0., 0., 0., 0., 0., 0., 0., 0., 0., 0., 0., 0., 0., 0., 0.,\n",
            "        0., 0., 0., 0., 0., 0., 0., 0., 0., 0., 0., 0., 0., 0., 0., 0., 0., 0.,\n",
            "        0., 0., 0., 0., 0., 0., 0., 0., 0., 0., 0., 0., 0., 0., 0., 0., 0., 0.,\n",
            "        0., 0., 0., 0., 0., 0., 0., 0., 0., 0., 0., 0., 0., 0., 0., 0., 0., 0.,\n",
            "        0., 0., 0., 0., 0., 0., 0., 0., 0., 0., 0., 0., 0., 0., 0., 0., 0., 0.,\n",
            "        0., 0., 0., 0., 0., 0., 0., 0., 0., 0., 0., 0., 0., 0., 0., 0., 0., 0.,\n",
            "        0., 0., 0., 0., 0., 0., 0., 0., 0., 0., 0., 0., 0., 0., 0., 0., 0., 0.,\n",
            "        0., 0., 0., 0., 0., 0., 0., 0., 0., 0., 0., 0., 0., 0., 0., 0., 0., 0.,\n",
            "        0., 0., 0., 0., 0., 0., 0., 0., 0., 0., 0., 0., 0., 0., 0., 0., 0., 0.,\n",
            "        0., 0., 0., 0., 0., 0., 0., 0., 0., 0., 0., 0., 0., 0., 0., 0., 0., 0.,\n",
            "        0., 0., 0., 0., 0., 0., 0., 0., 0., 0., 0., 0., 0., 0., 0., 0., 0., 0.,\n",
            "        0., 0., 0., 0., 0., 0., 0., 0., 0., 0., 0., 0., 0., 0., 0., 0., 0., 0.,\n",
            "        0., 0., 0., 0., 0., 0., 0., 0., 0., 0., 0., 0., 0., 0., 0., 0., 0., 0.,\n",
            "        0., 0., 0., 0., 0., 0., 0., 0., 0., 0., 0., 0., 0., 0., 0., 0., 0., 0.,\n",
            "        0., 0., 0., 0., 0., 0., 0., 0., 0., 0., 0., 0., 0., 0., 0., 0., 0., 0.,\n",
            "        0., 0., 0., 0., 0., 0., 0., 0., 0., 0., 0., 0., 0., 0., 0., 0., 0., 0.,\n",
            "        0., 0., 0., 0., 0., 0., 0., 0., 0., 0., 0., 0., 0., 0., 0., 0., 0., 0.,\n",
            "        0., 0., 0., 0., 0., 0., 0., 0., 0., 0., 0., 0., 0., 0., 0., 0., 0., 0.,\n",
            "        0., 0., 0., 0., 0., 0., 0., 0., 0., 0., 0., 0., 0., 0., 0., 0., 0., 0.,\n",
            "        0., 0., 0., 0., 0., 0., 0., 0., 0., 0., 0., 0., 0., 0., 0., 0., 0., 0.,\n",
            "        0., 0., 0., 0., 0., 0., 0., 0.])\n",
            "tensor([  101,  5308,  1997,  3438,  5061, 23321,  9850,  3572,   102,  2630,\n",
            "         5572, 10257,  4438,  2640,   102,  5308,  1997,  5824, 22307,  3962,\n",
            "         9850,  3572,   102,  5308,  1997,  3438, 15799,  9850,  3572,   102,\n",
            "         3438,  5572,  7292,  8867,  9850,  3572,   102,  2317,  5689,  2540,\n",
            "         1056,  1011,  2422,  9111,   102,  2417,  3962,  3723, 17428, 15913,\n",
            "         3313,   102,  2630,  3962,  3723,  4605,   102,  2417,  5572, 10257,\n",
            "         4438,  2640,   102,  2394,  3123,  2640, 25039,  4524,   102,  5723,\n",
            "         3384,  3696,   102,  2417,  3962,  3723, 25039,  4524,   102,  3145,\n",
            "         1042, 16429,  1010,  2067,  2341,   102,  2275,  1013,  1016,  2417,\n",
            "         3962,  3723,  5572, 24213,   102,  2275,  1013,  1016,  2417,  3962,\n",
            "         3723,  5572, 24213,   102,  5572,  2051,  5572, 24213,   102,  2275,\n",
            "         1013,  2322,  2417,  3962,  3723,  3259, 20619,  2015,   102,  5465,\n",
            "         3601, 19135,  3482,  3503,   102,  3384,  3696,  2452, 17955,  2309,\n",
            "         8103,   102, 10577, 19135,  3482,  3503,   102,  3123,  4078, 20633,\n",
            "         2723, 22936,   102,  5723,  3384,  3696,   102,  5061,  9115,  4597,\n",
            "          102,  5061, 15544, 14356,  2050,  2192, 16078,   102,  2275,  1017,\n",
            "         2417,  3962,  9543,  5572,  1010,  4157,  1010,  5699,   102,  2417,\n",
            "         3962,  3723, 20377, 28168,  9543,   102, 10729,  2332, 25813,  2064,\n",
            "          102,  3909, 10369, 25813,  2064,   102,  5061,  2235,  3221,  9850,\n",
            "         3233,   102,  1045,  2064,  2069,  3531,  2028,  2711, 14757,   102,\n",
            "         2417,  3962,  3723,  4605,   102,  2235,  9409,  9067,  8261,  2015,\n",
            "         5061,  4605,   102,  3145,  1042, 16429,  1010,  2392,  2341,   102,\n",
            "         2317,  9115,  4597,   102,  2665,  9115,  4597,   102,  3521,  2235,\n",
            "         3536,  4144,   102,  2188,  2235,  3536,  4144,   102, 14405,  2317,\n",
            "         7318,  2540, 12313,   102,  8840,  2080,  4897,  3384,  3696,   102,\n",
            "         2283,  3384,  3696,   102,     0,     0,     0,     0,     0,     0,\n",
            "            0,     0,     0,     0,     0,     0,     0,     0,     0,     0,\n",
            "            0,     0,     0,     0,     0,     0,     0,     0,     0,     0,\n",
            "            0,     0,     0,     0,     0,     0,     0,     0,     0,     0,\n",
            "            0,     0,     0,     0,     0,     0,     0,     0,     0,     0,\n",
            "            0,     0,     0,     0,     0,     0,     0,     0,     0,     0,\n",
            "            0,     0,     0,     0,     0,     0,     0,     0,     0,     0,\n",
            "            0,     0,     0,     0,     0,     0,     0,     0,     0,     0,\n",
            "            0,     0,     0,     0,     0,     0,     0,     0,     0,     0,\n",
            "            0,     0,     0,     0,     0,     0,     0,     0,     0,     0,\n",
            "            0,     0,     0,     0,     0,     0,     0,     0,     0,     0,\n",
            "            0,     0,     0,     0,     0,     0,     0,     0,     0,     0,\n",
            "            0,     0,     0,     0,     0,     0,     0,     0,     0,     0,\n",
            "            0,     0,     0,     0,     0,     0,     0,     0,     0,     0,\n",
            "            0,     0,     0,     0,     0,     0,     0,     0,     0,     0,\n",
            "            0,     0,     0,     0,     0,     0,     0,     0,     0,     0,\n",
            "            0,     0,     0,     0,     0,     0,     0,     0,     0,     0,\n",
            "            0,     0,     0,     0,     0,     0,     0,     0,     0,     0,\n",
            "            0,     0,     0,     0,     0,     0,     0,     0,     0,     0,\n",
            "            0,     0,     0,     0,     0,     0,     0,     0,     0,     0,\n",
            "            0,     0,     0,     0,     0,     0,     0,     0,     0,     0,\n",
            "            0,     0,     0,     0,     0,     0,     0,     0,     0,     0,\n",
            "            0,     0,     0,     0,     0,     0,     0,     0,     0,     0,\n",
            "            0,     0,     0,     0,     0,     0,     0,     0,     0,     0,\n",
            "            0,     0,     0,     0,     0,     0,     0,     0,     0,     0,\n",
            "            0,     0,     0,     0,     0,     0,     0,     0,     0,     0,\n",
            "            0,     0])\n",
            "tensor(383.)\n",
            "tensor([1., 1., 1., 1., 1., 1., 1., 1., 1., 1., 1., 1., 0., 0., 0., 0., 0., 0.,\n",
            "        0., 0., 0., 0., 0., 0., 0., 0., 0., 0., 0., 0., 0., 0., 0., 0., 0., 0.,\n",
            "        0., 0., 0., 0., 0., 0., 0., 0., 0., 0., 0., 0., 0., 0., 0., 0., 0., 0.,\n",
            "        0., 0., 0., 0., 0., 0., 0., 0., 0., 0., 0., 0., 0., 0., 0., 0., 0., 0.,\n",
            "        0., 0., 0., 0., 0., 0., 0., 0., 0., 0., 0., 0., 0., 0., 0., 0., 0., 0.,\n",
            "        0., 0., 0., 0., 0., 0., 0., 0., 0., 0., 0., 0., 0., 0., 0., 0., 0., 0.,\n",
            "        0., 0., 0., 0., 0., 0., 0., 0., 0., 0., 0., 0., 0., 0., 0., 0., 0., 0.,\n",
            "        0., 0., 0., 0., 0., 0., 0., 0., 0., 0., 0., 0., 0., 0., 0., 0., 0., 0.,\n",
            "        0., 0., 0., 0., 0., 0., 0., 0., 0., 0., 0., 0., 0., 0., 0., 0., 0., 0.,\n",
            "        0., 0., 0., 0., 0., 0., 0., 0., 0., 0., 0., 0., 0., 0., 0., 0., 0., 0.,\n",
            "        0., 0., 0., 0., 0., 0., 0., 0., 0., 0., 0., 0., 0., 0., 0., 0., 0., 0.,\n",
            "        0., 0., 0., 0., 0., 0., 0., 0., 0., 0., 0., 0., 0., 0., 0., 0., 0., 0.,\n",
            "        0., 0., 0., 0., 0., 0., 0., 0., 0., 0., 0., 0., 0., 0., 0., 0., 0., 0.,\n",
            "        0., 0., 0., 0., 0., 0., 0., 0., 0., 0., 0., 0., 0., 0., 0., 0., 0., 0.,\n",
            "        0., 0., 0., 0., 0., 0., 0., 0., 0., 0., 0., 0., 0., 0., 0., 0., 0., 0.,\n",
            "        0., 0., 0., 0., 0., 0., 0., 0., 0., 0., 0., 0., 0., 0., 0., 0., 0., 0.,\n",
            "        0., 0., 0., 0., 0., 0., 0., 0., 0., 0., 0., 0., 0., 0., 0., 0., 0., 0.,\n",
            "        0., 0., 0., 0., 0., 0., 0., 0., 0., 0., 0., 0., 0., 0., 0., 0., 0., 0.,\n",
            "        0., 0., 0., 0., 0., 0., 0., 0., 0., 0., 0., 0., 0., 0., 0., 0., 0., 0.,\n",
            "        0., 0., 0., 0., 0., 0., 0., 0., 0., 0., 0., 0., 0., 0., 0., 0., 0., 0.,\n",
            "        0., 0., 0., 0., 0., 0., 0., 0., 0., 0., 0., 0., 0., 0., 0., 0., 0., 0.,\n",
            "        0., 0., 0., 0., 0., 0., 0., 0., 0., 0., 0., 0., 0., 0., 0., 0., 0., 0.,\n",
            "        0., 0., 0., 0., 0., 0., 0., 0., 0., 0., 0., 0., 0., 0., 0., 0., 0., 0.,\n",
            "        0., 0., 0., 0., 0., 0., 0., 0., 0., 0., 0., 0., 0., 0., 0., 0., 0., 0.,\n",
            "        0., 0., 0., 0., 0., 0., 0., 0., 0., 0., 0., 0., 0., 0., 0., 0., 0., 0.,\n",
            "        0., 0., 0., 0., 0., 0., 0., 0., 0., 0., 0., 0., 0., 0., 0., 0., 0., 0.,\n",
            "        0., 0., 0., 0., 0., 0., 0., 0., 0., 0., 0., 0., 0., 0., 0., 0., 0., 0.,\n",
            "        0., 0., 0., 0., 0., 0., 0., 0., 0., 0., 0., 0., 0., 0., 0., 0., 0., 0.,\n",
            "        0., 0., 0., 0., 0., 0., 0., 0.])\n"
          ],
          "name": "stdout"
        }
      ]
    },
    {
      "cell_type": "code",
      "metadata": {
        "id": "vwHiH9mqTf-q"
      },
      "source": [
        "# 배치 사이즈\n",
        "batch_size = 2\n",
        "\n",
        "# 파이토치의 DataLoader로 입력, 마스크, 라벨을 묶어 데이터 설정\n",
        "# 학습시 배치 사이즈 만큼 데이터를 가져옴\n",
        "train_data = TensorDataset(train_inputs, train_masks, train_labels)\n",
        "train_sampler = RandomSampler(train_data)\n",
        "train_dataloader = DataLoader(train_data, sampler=train_sampler, batch_size=batch_size)\n",
        "\n",
        "validation_data = TensorDataset(validation_inputs, validation_masks, validation_labels)\n",
        "validation_sampler = SequentialSampler(validation_data)\n",
        "validation_dataloader = DataLoader(validation_data, sampler=validation_sampler, batch_size=batch_size)"
      ],
      "execution_count": null,
      "outputs": []
    },
    {
      "cell_type": "code",
      "metadata": {
        "colab": {
          "base_uri": "https://localhost:8080/"
        },
        "id": "2OcCk7qVeppZ",
        "outputId": "8c533fde-8e2b-480f-e8fa-fbd5dc36ba97"
      },
      "source": [
        "test['Detail'] = test['Detail'].str.replace('&&', ' [SEP] ')\n",
        "sentences = test['Detail']\n",
        "sentences = [\"[CLS] \" + str(sentence) + \" [SEP]\" for sentence in sentences]\n",
        "sentences[:10]"
      ],
      "execution_count": null,
      "outputs": [
        {
          "output_type": "stream",
          "text": [
            "/usr/local/lib/python3.7/dist-packages/ipykernel_launcher.py:1: SettingWithCopyWarning: \n",
            "A value is trying to be set on a copy of a slice from a DataFrame.\n",
            "Try using .loc[row_indexer,col_indexer] = value instead\n",
            "\n",
            "See the caveats in the documentation: https://pandas.pydata.org/pandas-docs/stable/user_guide/indexing.html#returning-a-view-versus-a-copy\n",
            "  \"\"\"Entry point for launching an IPython kernel.\n"
          ],
          "name": "stderr"
        },
        {
          "output_type": "execute_result",
          "data": {
            "text/plain": [
              "['[CLS] DOOR MAT 3 SMILEY CATS [SEP] WHITE HANGING HEART T-LIGHT HOLDER [SEP]',\n",
              " '[CLS] SET OF 3 COLOURED  FLYING DUCKS [SEP] RECORD FRAME 7\" SINGLE SIZE [SEP] WHITE HANGING HEART T-LIGHT HOLDERWHITE HANGING HEART T-LIGHT HOLDER [SEP] RED WOOLLY HOTTIE WHITE HEART. [SEP] RECORD FRAME 7\" SINGLE SIZE [SEP] LUNCH BAG RED SPOTTY [SEP] STRAWBERRY CERAMIC TRINKET BOX [SEP] PINK MARSHMALLOW SCARF KNITTING KIT [SEP] VINTAGE UNION JACK PENNANT [SEP] METAL SIGN NEIGHBOURHOOD WITCH [SEP] VINTAGE UNION JACK CUSHION COVER [SEP] METAL SIGN EMPIRE TEA [SEP]',\n",
              " '[CLS] RED SPOTTY PEG BAG [SEP] LUNCH BAG  BLACK SKULL. [SEP] WASH BAG VINTAGE ROSE PAISLEY [SEP] BLUE SQUARE COMPACT MIRROR [SEP] CLOTHES PEGS RETROSPOT PACK 24 [SEP] BIRDHOUSE DECORATION MAGIC GARDEN [SEP] LUNCH BAG RED SPOTTY [SEP] GREEN SQUARE COMPACT MIRROR [SEP] WOODEN PICTURE FRAME WHITE FINISH [SEP] LUNCH BAG SPACEBOY DESIGN [SEP] CHERRY BLOSSOM BATHROOM CABINET [SEP] SCANDINAVIAN PAISLEY PICNIC BAG [SEP] PINK VINTAGE PAISLEY PICNIC BAG [SEP] CREAM CUPID HEARTS COAT HANGER [SEP] WHITE METAL LANTERN [SEP] WHITE RETRODISC LAMPSHADE [SEP] WOOD 2 DRAWER CABINET WHITE FINISH [SEP] WOOD S/3 CABINET ANT WHITE FINISH [SEP] SQUARE CHERRY BLOSSOM CABINET [SEP]',\n",
              " '[CLS] MINI WOODEN HAPPY BIRTHDAY GARLAND [SEP] PLACE SETTING WHITE HEART [SEP] PACK OF 72 RETRO SPOT CAKE CASES [SEP] HEART FILIGREE DOVE  SMALL [SEP] TEA BAG PLATE RED SPOTTY [SEP] RED HEART LUGGAGE TAG [SEP] STRAWBERRY CERAMIC TRINKET BOX [SEP] EAU DE NILE HEART SHAPE PHOTO FRAME [SEP] MINI CAKE STAND  HANGING STRAWBERY [SEP] OVERNIGHT BAG VINTAGE ROSE PAISLEY [SEP] SET/2 RED SPOTTY TEA TOWELS [SEP] BLACK RECORD COVER FRAME [SEP] RETRO SPOT STORAGE JAR [SEP] SET 3 RED SPOT TIN TEA,COFFEE,SUGAR [SEP] LARGE CAKE STAND  HANGING STRAWBERY [SEP] RETRO SPOT LARGE MILK JUG [SEP] 6 EGG HOUSE PAINTED WOOD [SEP] CAKE STAND WHITE TWO TIER LACE [SEP]',\n",
              " '[CLS] SET OF 6 VINTAGE NOTELETS KIT [SEP] SILK PURSE RUSSIAN DOLL BLUE [SEP] SET/3 RUSSIAN DOLL STACKING TINS [SEP] SILK PURSE RUSSIAN DOLL RED [SEP]',\n",
              " \"[CLS] SILVER HANGING T-LIGHT HOLDER [SEP] RED AND WHITE SPOT TAPE [SEP] STARS GIFT TAPE [SEP] RIBBON REEL HEARTS DESIGN [SEP] GIN + TONIC DIET METAL SIGN [SEP] BEWARE OF THE CAT METAL SIGN [SEP] YOU'RE CONFUSING ME METAL SIGN [SEP] SILVER HANGING T-LIGHT HOLDER [SEP] RIBBON REEL LACE DESIGN [SEP] RIBBON REEL STRIPES DESIGN [SEP] VICTORIAN GLASS HANGING T-LIGHT [SEP] FROSTED BOX 9 WHITE T-LIGHT CANDLES [SEP] ANTIQUE SILVER TEA GLASS ENGRAVED [SEP] AGED GLASS SILVER T-LIGHT HOLDER [SEP] COOK WITH WINE METAL SIGN [SEP] ANTIQUE SILVER TEA GLASS ETCHED [SEP] NO SINGING METAL SIGN [SEP] ENCHANTED BIRD COATHANGER 5 HOOK [SEP] LADIES & GENTLEMEN METAL SIGN [SEP] PLEASE ONE PERSON METAL SIGN [SEP] SILVER PLATE CANDLE BOWL LARGE [SEP] SILVER  CANDLEPOT JARDIN [SEP] PINK SPOTTY CHILDS UMBRELLA [SEP] REX CASH+CARRY JUMBO SHOPPER [SEP] BLUE BUTTERFLY ON SPRING [SEP] WOOD S/3 CABINET ANT WHITE FINISH [SEP] WOOD S/3 CABINET ANT WHITE FINISH [SEP] WOODLAND  HEIGHT CHART STICKERS [SEP] RIBBON REEL SPOTS DESIGN [SEP] WOOD 2 DRAWER CABINET WHITE FINISH [SEP] WOODEN FRAME ANTIQUE WHITE [SEP] PORCELAIN ROSE LARGE [SEP] BLACK HEART CARD HOLDER [SEP] PAPER BUNTING COLOURED LACE [SEP]\",\n",
              " '[CLS] CINAMMON SET OF 9 T-LIGHTS [SEP] LAVENDER SCENTED SET/9 T-LIGHTS [SEP] RED GLASS TASSLE BAG CHARM [SEP] AMBER GLASS TASSLE BAG CHARM [SEP] COLOUR GLASS T-LIGHT HOLDER HANGING [SEP] ANTIQUE ALL GLASS CANDLESTICK [SEP] SMALL SILVER TRELLIS CANDLEPOT [SEP] ASSORTED COLOUR BIRD ORNAMENT [SEP] ORANGE SCENTED SET/9 T-LIGHTS [SEP] SILVER LATTICE VANILLA CANDLE POT [SEP] JELLY BABIES YELLOW SMALL BOWL [SEP] SAVE THE PLANET MUG [SEP] SMALL LICORICE DES PINK BOWL [SEP] SMALL DOLLY MIX DESIGN ORANGE BOWL [SEP] GOLD  CHERRY LIGHTS [SEP] PINK CHERRY LIGHTS [SEP] BLACK CHERRY LIGHTS [SEP] WHITE METAL LANTERN [SEP] PARTY BUNTING [SEP] ENGLISH ROSE DESIGN PEG BAG [SEP] LIGHT PINK CHERRY LIGHTS [SEP] SILVER VANILLA FLOWER CANDLE POT [SEP] PURPLE GLASS TASSLE BAG CHARM [SEP] POTTING SHED CANDLE CITRONELLAYELLOW PURPLE DAISY FELT PURSE KIT [SEP] YELLOW + BROWN BEAR FELT PURSE KIT [SEP] SILVER MINI TAPE MEASURE [SEP] SET/4 BADGES BEETLES [SEP] LOVEBIRD HANGING DECORATION WHITE [SEP] PENNY FARTHING BIRTHDAY CARD [SEP] DINOSAURS WATER TRANSFER TATTOOS [SEP] FAWN AND MUSHROOM GREETING CARD [SEP] RING OF ROSES BIRTHDAY CARD [SEP] COFFEE MUG CAT + BIRD DESIGN [SEP] WOODLAND WATER TRANSFER TATTOOS [SEP] SET/4 COLOURFUL MIXING BOWLS [SEP] TROPICAL  HONEYCOMB PAPER GARLAND [SEP] EIGHT PIECE CREEPY CRAWLIE SET [SEP] SET/4 BADGES WOODLAND ANIMAL [SEP] EIGHT PIECE DINOSAUR SET [SEP] FELTCRAFT BUTTERFLY HEARTS [SEP] SET OF 36 DINOSAUR PAPER DOILIES [SEP] MULTICOLOUR HONEYCOMB PAPER GARLAND [SEP] JUMBO  BAG BAROQUE BLACK WHITE [SEP] FELTCRAFT 6 FLOWER FRIENDS [SEP] RED SHARK HELICOPTER [SEP] MULTICOLOUR 3D BALLS GARLAND [SEP] CAT BOWL [SEP]',\n",
              " \"[CLS] COOK WITH WINE METAL SIGN [SEP] PHOTO CUBE [SEP] HANGING HEART JAR T-LIGHT HOLDER [SEP] VICTORIAN GLASS HANGING T-LIGHT [SEP] PACK OF 72 RETRO SPOT CAKE CASES [SEP] ASSORTED COLOUR BIRD ORNAMENT [SEP] ZINC METAL HEART DECORATION [SEP] SMALL HEART MEASURING SPOONS [SEP] 60 TEATIME FAIRY CAKE CASES [SEP] FANNY'S REST STOPMETAL SIGN [SEP] GLITTER BUTTERFLY CLIPS [SEP] COFFEE MUG APPLES DESIGN [SEP] YOU'RE CONFUSING ME METAL SIGN [SEP] HOME SWEET HOME METAL SIGN [SEP] GLASS CAKE COVER AND PLATE [SEP] REGENCY CAKESTAND 3 TIER [SEP] EMBOSSED HEART 3 DRAWER SHELF [SEP] SWEETHEART CARRY-ALL BASKET [SEP] DOOR MAT RED SPOT [SEP] VICTORIAN SEWING BOX LARGE [SEP] DOOR MAT SPOTTY HOME SWEET HOME [SEP] MILK PAN RED RETROSPOT [SEP] CREAM SWEETHEART SHELF + HOOKS [SEP] LOVE BUILDING BLOCK WORD [SEP] WOOD BLACK BOARD ANT WHITE FINISH [SEP] CREAM SWEETHEART MINI CHEST [SEP] COFFEE MUG PEARS  DESIGNCREAM SWEETHEART SHELF + HOOKS [SEP] CLOTHES PEGS RETROSPOT PACK 24 [SEP] 20 DOLLY PEGS RETROSPOT [SEP] MONEY BOX CONFECTIONERY DESIGN [SEP] MONEY BOX HOUSEKEEPING DESIGN [SEP] MONEY BOX KINGS CHOICE DESIGN [SEP] PHOTO CUBE [SEP] GLASS JAR ENGLISH CONFECTIONERY [SEP] GLASS JAR DIGESTIVE BISCUITS [SEP] TEA COSY VINTAGE UNION JACK [SEP] MEMO BOARD RETROSPOT  DESIGN [SEP] VINTAGE UNION JACK MEMOBOARD [SEP] MINT KITCHEN SCALES [SEP] RED KITCHEN SCALES [SEP] SET OF 2 WOODEN MARKET CRATES [SEP]\",\n",
              " '[CLS] MOROCCAN TEA GLASS [SEP] FRENCH PAISLEY CUSHION COVER [SEP] GLASS HONEYPOT WASP CATCHER [SEP] SET OF 2 FANCY FONT TEA TOWELS [SEP] S/3 PINK COL METAL BASKET W HANDLE [SEP] STRAWBERRY FAIRY CAKE TEAPOT [SEP] COLOURFUL FLOWER FRUIT BOWL [SEP] FRENCH STYLE EMBOSSED HEART CABINET [SEP]',\n",
              " '[CLS] JUMBO BAG RED WHITE SPOTTY [SEP] HANGING BUTTERFLY  EGG [SEP] HANGING SPRING FLOWER EGG LARGE [SEP] 2 PICTURE BOOK EGGS EASTER BUNNY [SEP] 2 PICTURE BOOK EGGS EASTER DUCKS [SEP] JUMBO SHOPPER VINTAGE RED PAISLEY [SEP] JUMBO  BAG BAROQUE BLACK WHITE [SEP] LIGHT PINK CHERRY LIGHTS [SEP] JUMBO BAG TOYS [SEP] JUMBO BAG SCANDINAVIAN PAISLEY [SEP] JUMBO BAG PINK VINTAGE PAISLEY [SEP] JUMBO STORAGE BAG SUKI [SEP] JUMBO BAG PINK WITH WHITE SPOTS [SEP] BROWN FLOWER LIGHTS [SEP] JUMBO BAG STRAWBERRYVINTAGE UNION JACK BUNTING [SEP] UNION JACK HOT WATER BOTTLE [SEP] DOOR MAT UNION FLAG [SEP] SCOTTIE DOG HOT WATER BOTTLE [SEP]']"
            ]
          },
          "metadata": {
            "tags": []
          },
          "execution_count": 29
        }
      ]
    },
    {
      "cell_type": "code",
      "metadata": {
        "colab": {
          "base_uri": "https://localhost:8080/"
        },
        "id": "EBN3ht28XoNK",
        "outputId": "93c56cbc-b604-4138-c6f6-86073b927a41"
      },
      "source": [
        "# BERT의 토크나이저로 문장을 토큰으로 분리\n",
        "tokenizer = BertTokenizer.from_pretrained('bert-base-uncased', do_lower_case=True)\n",
        "tokenized_texts = [tokenizer.tokenize(sent) for sent in sentences]\n",
        "\n",
        "print (sentences[0])\n",
        "print (tokenized_texts[0])"
      ],
      "execution_count": null,
      "outputs": [
        {
          "output_type": "stream",
          "text": [
            "[CLS] DOOR MAT 3 SMILEY CATS [SEP] WHITE HANGING HEART T-LIGHT HOLDER [SEP]\n",
            "['[CLS]', 'door', 'mat', '3', 'smiley', 'cats', '[SEP]', 'white', 'hanging', 'heart', 't', '-', 'light', 'holder', '[SEP]']\n"
          ],
          "name": "stdout"
        }
      ]
    },
    {
      "cell_type": "code",
      "metadata": {
        "id": "IIrsNX6S0Vql"
      },
      "source": [
        "# 입력 토큰의 최대 시퀀스 길이\n",
        "# MAX_LEN = 128"
      ],
      "execution_count": null,
      "outputs": []
    },
    {
      "cell_type": "code",
      "metadata": {
        "colab": {
          "base_uri": "https://localhost:8080/"
        },
        "id": "u8js9Zgz0XH6",
        "outputId": "bfaae422-6e46-41b5-f78f-1b0a825a7ed3"
      },
      "source": [
        "for i in range(len(tokenized_texts)):\n",
        "    if len(tokenized_texts[i]) > MAX_LEN:\n",
        "        while 1:\n",
        "            id = tokenized_texts[i].index('[SEP]')\n",
        "            tokenized_texts[i] = tokenized_texts[i][id:]\n",
        "            tokenized_texts[i][0] = '[CLS]'\n",
        "            if len(tokenized_texts[i]) <= MAX_LEN:\n",
        "                break\n",
        "tok = []\n",
        "for i in range(len(tokenized_texts)):\n",
        "    if len(tokenized_texts[i]) > MAX_LEN:\n",
        "        tok.append(len(tokenized_texts[i]))\n",
        "# print(max(tok))\n",
        "print(len(tok))\n",
        "print(len(tokenized_texts))"
      ],
      "execution_count": null,
      "outputs": [
        {
          "output_type": "stream",
          "text": [
            "0\n",
            "3378\n"
          ],
          "name": "stdout"
        }
      ]
    },
    {
      "cell_type": "code",
      "metadata": {
        "colab": {
          "base_uri": "https://localhost:8080/"
        },
        "id": "ihP1hg9F0PI5",
        "outputId": "b9429531-6da3-43f6-8d95-a21d68574422"
      },
      "source": [
        "# 토큰을 숫자 인덱스로 변환\n",
        "input_ids = [tokenizer.convert_tokens_to_ids(x) for x in tokenized_texts]\n",
        "\n",
        "# 문장을 MAX_LEN 길이에 맞게 자르고, 모자란 부분을 패딩 0으로 채움\n",
        "input_ids = pad_sequences(input_ids, maxlen=MAX_LEN, dtype=\"long\", truncating=\"post\", padding=\"post\")\n",
        "\n",
        "input_ids[0]"
      ],
      "execution_count": null,
      "outputs": [
        {
          "output_type": "execute_result",
          "data": {
            "text/plain": [
              "array([  101,  2341, 13523,  1017, 27420,  8870,   102,  2317,  5689,\n",
              "        2540,  1056,  1011,  2422,  9111,   102,     0,     0,     0,\n",
              "           0,     0,     0,     0,     0,     0,     0,     0,     0,\n",
              "           0,     0,     0,     0,     0,     0,     0,     0,     0,\n",
              "           0,     0,     0,     0,     0,     0,     0,     0,     0,\n",
              "           0,     0,     0,     0,     0,     0,     0,     0,     0,\n",
              "           0,     0,     0,     0,     0,     0,     0,     0,     0,\n",
              "           0,     0,     0,     0,     0,     0,     0,     0,     0,\n",
              "           0,     0,     0,     0,     0,     0,     0,     0,     0,\n",
              "           0,     0,     0,     0,     0,     0,     0,     0,     0,\n",
              "           0,     0,     0,     0,     0,     0,     0,     0,     0,\n",
              "           0,     0,     0,     0,     0,     0,     0,     0,     0,\n",
              "           0,     0,     0,     0,     0,     0,     0,     0,     0,\n",
              "           0,     0,     0,     0,     0,     0,     0,     0,     0,\n",
              "           0,     0,     0,     0,     0,     0,     0,     0,     0,\n",
              "           0,     0,     0,     0,     0,     0,     0,     0,     0,\n",
              "           0,     0,     0,     0,     0,     0,     0,     0,     0,\n",
              "           0,     0,     0,     0,     0,     0,     0,     0,     0,\n",
              "           0,     0,     0,     0,     0,     0,     0,     0,     0,\n",
              "           0,     0,     0,     0,     0,     0,     0,     0,     0,\n",
              "           0,     0,     0,     0,     0,     0,     0,     0,     0,\n",
              "           0,     0,     0,     0,     0,     0,     0,     0,     0,\n",
              "           0,     0,     0,     0,     0,     0,     0,     0,     0,\n",
              "           0,     0,     0,     0,     0,     0,     0,     0,     0,\n",
              "           0,     0,     0,     0,     0,     0,     0,     0,     0,\n",
              "           0,     0,     0,     0,     0,     0,     0,     0,     0,\n",
              "           0,     0,     0,     0,     0,     0,     0,     0,     0,\n",
              "           0,     0,     0,     0,     0,     0,     0,     0,     0,\n",
              "           0,     0,     0,     0,     0,     0,     0,     0,     0,\n",
              "           0,     0,     0,     0,     0,     0,     0,     0,     0,\n",
              "           0,     0,     0,     0,     0,     0,     0,     0,     0,\n",
              "           0,     0,     0,     0,     0,     0,     0,     0,     0,\n",
              "           0,     0,     0,     0,     0,     0,     0,     0,     0,\n",
              "           0,     0,     0,     0,     0,     0,     0,     0,     0,\n",
              "           0,     0,     0,     0,     0,     0,     0,     0,     0,\n",
              "           0,     0,     0,     0,     0,     0,     0,     0,     0,\n",
              "           0,     0,     0,     0,     0,     0,     0,     0,     0,\n",
              "           0,     0,     0,     0,     0,     0,     0,     0,     0,\n",
              "           0,     0,     0,     0,     0,     0,     0,     0,     0,\n",
              "           0,     0,     0,     0,     0,     0,     0,     0,     0,\n",
              "           0,     0,     0,     0,     0,     0,     0,     0,     0,\n",
              "           0,     0,     0,     0,     0,     0,     0,     0,     0,\n",
              "           0,     0,     0,     0,     0,     0,     0,     0,     0,\n",
              "           0,     0,     0,     0,     0,     0,     0,     0,     0,\n",
              "           0,     0,     0,     0,     0,     0,     0,     0,     0,\n",
              "           0,     0,     0,     0,     0,     0,     0,     0,     0,\n",
              "           0,     0,     0,     0,     0,     0,     0,     0,     0,\n",
              "           0,     0,     0,     0,     0,     0,     0,     0,     0,\n",
              "           0,     0,     0,     0,     0,     0,     0,     0,     0,\n",
              "           0,     0,     0,     0,     0,     0,     0,     0,     0,\n",
              "           0,     0,     0,     0,     0,     0,     0,     0,     0,\n",
              "           0,     0,     0,     0,     0,     0,     0,     0,     0,\n",
              "           0,     0,     0,     0,     0,     0,     0,     0,     0,\n",
              "           0,     0,     0,     0,     0,     0,     0,     0,     0,\n",
              "           0,     0,     0,     0,     0,     0,     0,     0,     0,\n",
              "           0,     0,     0,     0,     0,     0,     0,     0,     0,\n",
              "           0,     0,     0,     0,     0,     0,     0,     0])"
            ]
          },
          "metadata": {
            "tags": []
          },
          "execution_count": 33
        }
      ]
    },
    {
      "cell_type": "code",
      "metadata": {
        "colab": {
          "base_uri": "https://localhost:8080/"
        },
        "id": "4c3hMlpr0SLZ",
        "outputId": "c9d7b69d-03a6-4722-c6bf-2813be1a9c6a"
      },
      "source": [
        "# 어텐션 마스크 초기화\n",
        "attention_masks = []\n",
        "\n",
        "# 어텐션 마스크를 패딩이 아니면 1, 패딩이면 0으로 설정\n",
        "# 패딩 부분은 BERT 모델에서 어텐션을 수행하지 않아 속도 향상\n",
        "for seq in input_ids:\n",
        "    seq_mask = [float(i>0) for i in seq]\n",
        "    attention_masks.append(seq_mask)\n",
        "\n",
        "print(attention_masks[0])"
      ],
      "execution_count": null,
      "outputs": [
        {
          "output_type": "stream",
          "text": [
            "[1.0, 1.0, 1.0, 1.0, 1.0, 1.0, 1.0, 1.0, 1.0, 1.0, 1.0, 1.0, 1.0, 1.0, 1.0, 0.0, 0.0, 0.0, 0.0, 0.0, 0.0, 0.0, 0.0, 0.0, 0.0, 0.0, 0.0, 0.0, 0.0, 0.0, 0.0, 0.0, 0.0, 0.0, 0.0, 0.0, 0.0, 0.0, 0.0, 0.0, 0.0, 0.0, 0.0, 0.0, 0.0, 0.0, 0.0, 0.0, 0.0, 0.0, 0.0, 0.0, 0.0, 0.0, 0.0, 0.0, 0.0, 0.0, 0.0, 0.0, 0.0, 0.0, 0.0, 0.0, 0.0, 0.0, 0.0, 0.0, 0.0, 0.0, 0.0, 0.0, 0.0, 0.0, 0.0, 0.0, 0.0, 0.0, 0.0, 0.0, 0.0, 0.0, 0.0, 0.0, 0.0, 0.0, 0.0, 0.0, 0.0, 0.0, 0.0, 0.0, 0.0, 0.0, 0.0, 0.0, 0.0, 0.0, 0.0, 0.0, 0.0, 0.0, 0.0, 0.0, 0.0, 0.0, 0.0, 0.0, 0.0, 0.0, 0.0, 0.0, 0.0, 0.0, 0.0, 0.0, 0.0, 0.0, 0.0, 0.0, 0.0, 0.0, 0.0, 0.0, 0.0, 0.0, 0.0, 0.0, 0.0, 0.0, 0.0, 0.0, 0.0, 0.0, 0.0, 0.0, 0.0, 0.0, 0.0, 0.0, 0.0, 0.0, 0.0, 0.0, 0.0, 0.0, 0.0, 0.0, 0.0, 0.0, 0.0, 0.0, 0.0, 0.0, 0.0, 0.0, 0.0, 0.0, 0.0, 0.0, 0.0, 0.0, 0.0, 0.0, 0.0, 0.0, 0.0, 0.0, 0.0, 0.0, 0.0, 0.0, 0.0, 0.0, 0.0, 0.0, 0.0, 0.0, 0.0, 0.0, 0.0, 0.0, 0.0, 0.0, 0.0, 0.0, 0.0, 0.0, 0.0, 0.0, 0.0, 0.0, 0.0, 0.0, 0.0, 0.0, 0.0, 0.0, 0.0, 0.0, 0.0, 0.0, 0.0, 0.0, 0.0, 0.0, 0.0, 0.0, 0.0, 0.0, 0.0, 0.0, 0.0, 0.0, 0.0, 0.0, 0.0, 0.0, 0.0, 0.0, 0.0, 0.0, 0.0, 0.0, 0.0, 0.0, 0.0, 0.0, 0.0, 0.0, 0.0, 0.0, 0.0, 0.0, 0.0, 0.0, 0.0, 0.0, 0.0, 0.0, 0.0, 0.0, 0.0, 0.0, 0.0, 0.0, 0.0, 0.0, 0.0, 0.0, 0.0, 0.0, 0.0, 0.0, 0.0, 0.0, 0.0, 0.0, 0.0, 0.0, 0.0, 0.0, 0.0, 0.0, 0.0, 0.0, 0.0, 0.0, 0.0, 0.0, 0.0, 0.0, 0.0, 0.0, 0.0, 0.0, 0.0, 0.0, 0.0, 0.0, 0.0, 0.0, 0.0, 0.0, 0.0, 0.0, 0.0, 0.0, 0.0, 0.0, 0.0, 0.0, 0.0, 0.0, 0.0, 0.0, 0.0, 0.0, 0.0, 0.0, 0.0, 0.0, 0.0, 0.0, 0.0, 0.0, 0.0, 0.0, 0.0, 0.0, 0.0, 0.0, 0.0, 0.0, 0.0, 0.0, 0.0, 0.0, 0.0, 0.0, 0.0, 0.0, 0.0, 0.0, 0.0, 0.0, 0.0, 0.0, 0.0, 0.0, 0.0, 0.0, 0.0, 0.0, 0.0, 0.0, 0.0, 0.0, 0.0, 0.0, 0.0, 0.0, 0.0, 0.0, 0.0, 0.0, 0.0, 0.0, 0.0, 0.0, 0.0, 0.0, 0.0, 0.0, 0.0, 0.0, 0.0, 0.0, 0.0, 0.0, 0.0, 0.0, 0.0, 0.0, 0.0, 0.0, 0.0, 0.0, 0.0, 0.0, 0.0, 0.0, 0.0, 0.0, 0.0, 0.0, 0.0, 0.0, 0.0, 0.0, 0.0, 0.0, 0.0, 0.0, 0.0, 0.0, 0.0, 0.0, 0.0, 0.0, 0.0, 0.0, 0.0, 0.0, 0.0, 0.0, 0.0, 0.0, 0.0, 0.0, 0.0, 0.0, 0.0, 0.0, 0.0, 0.0, 0.0, 0.0, 0.0, 0.0, 0.0, 0.0, 0.0, 0.0, 0.0, 0.0, 0.0, 0.0, 0.0, 0.0, 0.0, 0.0, 0.0, 0.0, 0.0, 0.0, 0.0, 0.0, 0.0, 0.0, 0.0, 0.0, 0.0, 0.0, 0.0, 0.0, 0.0, 0.0, 0.0, 0.0, 0.0, 0.0, 0.0, 0.0, 0.0, 0.0, 0.0, 0.0, 0.0, 0.0, 0.0, 0.0, 0.0, 0.0, 0.0, 0.0, 0.0, 0.0, 0.0, 0.0, 0.0, 0.0, 0.0, 0.0, 0.0, 0.0, 0.0, 0.0, 0.0, 0.0, 0.0, 0.0, 0.0, 0.0, 0.0, 0.0, 0.0, 0.0, 0.0, 0.0, 0.0, 0.0, 0.0, 0.0, 0.0, 0.0, 0.0, 0.0, 0.0, 0.0, 0.0, 0.0, 0.0, 0.0, 0.0, 0.0, 0.0, 0.0, 0.0, 0.0, 0.0, 0.0, 0.0, 0.0, 0.0, 0.0, 0.0, 0.0, 0.0, 0.0, 0.0, 0.0]\n"
          ],
          "name": "stdout"
        }
      ]
    },
    {
      "cell_type": "code",
      "metadata": {
        "colab": {
          "base_uri": "https://localhost:8080/"
        },
        "id": "b8ulFavqXnQP",
        "outputId": "881dc142-6cd0-48df-cecd-040da29f4ae1"
      },
      "source": [
        "# 데이터를 파이토치의 텐서로 변환\n",
        "test_inputs = torch.tensor(input_ids)\n",
        "test_labels = torch.tensor(test_label)\n",
        "test_masks = torch.tensor(attention_masks)\n",
        "\n",
        "print(test_inputs[0])\n",
        "print(test_labels[0])\n",
        "print(test_masks[0])"
      ],
      "execution_count": null,
      "outputs": [
        {
          "output_type": "stream",
          "text": [
            "tensor([  101,  2341, 13523,  1017, 27420,  8870,   102,  2317,  5689,  2540,\n",
            "         1056,  1011,  2422,  9111,   102,     0,     0,     0,     0,     0,\n",
            "            0,     0,     0,     0,     0,     0,     0,     0,     0,     0,\n",
            "            0,     0,     0,     0,     0,     0,     0,     0,     0,     0,\n",
            "            0,     0,     0,     0,     0,     0,     0,     0,     0,     0,\n",
            "            0,     0,     0,     0,     0,     0,     0,     0,     0,     0,\n",
            "            0,     0,     0,     0,     0,     0,     0,     0,     0,     0,\n",
            "            0,     0,     0,     0,     0,     0,     0,     0,     0,     0,\n",
            "            0,     0,     0,     0,     0,     0,     0,     0,     0,     0,\n",
            "            0,     0,     0,     0,     0,     0,     0,     0,     0,     0,\n",
            "            0,     0,     0,     0,     0,     0,     0,     0,     0,     0,\n",
            "            0,     0,     0,     0,     0,     0,     0,     0,     0,     0,\n",
            "            0,     0,     0,     0,     0,     0,     0,     0,     0,     0,\n",
            "            0,     0,     0,     0,     0,     0,     0,     0,     0,     0,\n",
            "            0,     0,     0,     0,     0,     0,     0,     0,     0,     0,\n",
            "            0,     0,     0,     0,     0,     0,     0,     0,     0,     0,\n",
            "            0,     0,     0,     0,     0,     0,     0,     0,     0,     0,\n",
            "            0,     0,     0,     0,     0,     0,     0,     0,     0,     0,\n",
            "            0,     0,     0,     0,     0,     0,     0,     0,     0,     0,\n",
            "            0,     0,     0,     0,     0,     0,     0,     0,     0,     0,\n",
            "            0,     0,     0,     0,     0,     0,     0,     0,     0,     0,\n",
            "            0,     0,     0,     0,     0,     0,     0,     0,     0,     0,\n",
            "            0,     0,     0,     0,     0,     0,     0,     0,     0,     0,\n",
            "            0,     0,     0,     0,     0,     0,     0,     0,     0,     0,\n",
            "            0,     0,     0,     0,     0,     0,     0,     0,     0,     0,\n",
            "            0,     0,     0,     0,     0,     0,     0,     0,     0,     0,\n",
            "            0,     0,     0,     0,     0,     0,     0,     0,     0,     0,\n",
            "            0,     0,     0,     0,     0,     0,     0,     0,     0,     0,\n",
            "            0,     0,     0,     0,     0,     0,     0,     0,     0,     0,\n",
            "            0,     0,     0,     0,     0,     0,     0,     0,     0,     0,\n",
            "            0,     0,     0,     0,     0,     0,     0,     0,     0,     0,\n",
            "            0,     0,     0,     0,     0,     0,     0,     0,     0,     0,\n",
            "            0,     0,     0,     0,     0,     0,     0,     0,     0,     0,\n",
            "            0,     0,     0,     0,     0,     0,     0,     0,     0,     0,\n",
            "            0,     0,     0,     0,     0,     0,     0,     0,     0,     0,\n",
            "            0,     0,     0,     0,     0,     0,     0,     0,     0,     0,\n",
            "            0,     0,     0,     0,     0,     0,     0,     0,     0,     0,\n",
            "            0,     0,     0,     0,     0,     0,     0,     0,     0,     0,\n",
            "            0,     0,     0,     0,     0,     0,     0,     0,     0,     0,\n",
            "            0,     0,     0,     0,     0,     0,     0,     0,     0,     0,\n",
            "            0,     0,     0,     0,     0,     0,     0,     0,     0,     0,\n",
            "            0,     0,     0,     0,     0,     0,     0,     0,     0,     0,\n",
            "            0,     0,     0,     0,     0,     0,     0,     0,     0,     0,\n",
            "            0,     0,     0,     0,     0,     0,     0,     0,     0,     0,\n",
            "            0,     0,     0,     0,     0,     0,     0,     0,     0,     0,\n",
            "            0,     0,     0,     0,     0,     0,     0,     0,     0,     0,\n",
            "            0,     0,     0,     0,     0,     0,     0,     0,     0,     0,\n",
            "            0,     0,     0,     0,     0,     0,     0,     0,     0,     0,\n",
            "            0,     0,     0,     0,     0,     0,     0,     0,     0,     0,\n",
            "            0,     0,     0,     0,     0,     0,     0,     0,     0,     0,\n",
            "            0,     0,     0,     0,     0,     0,     0,     0,     0,     0,\n",
            "            0,     0])\n",
            "tensor(1013.)\n",
            "tensor([1., 1., 1., 1., 1., 1., 1., 1., 1., 1., 1., 1., 1., 1., 1., 0., 0., 0.,\n",
            "        0., 0., 0., 0., 0., 0., 0., 0., 0., 0., 0., 0., 0., 0., 0., 0., 0., 0.,\n",
            "        0., 0., 0., 0., 0., 0., 0., 0., 0., 0., 0., 0., 0., 0., 0., 0., 0., 0.,\n",
            "        0., 0., 0., 0., 0., 0., 0., 0., 0., 0., 0., 0., 0., 0., 0., 0., 0., 0.,\n",
            "        0., 0., 0., 0., 0., 0., 0., 0., 0., 0., 0., 0., 0., 0., 0., 0., 0., 0.,\n",
            "        0., 0., 0., 0., 0., 0., 0., 0., 0., 0., 0., 0., 0., 0., 0., 0., 0., 0.,\n",
            "        0., 0., 0., 0., 0., 0., 0., 0., 0., 0., 0., 0., 0., 0., 0., 0., 0., 0.,\n",
            "        0., 0., 0., 0., 0., 0., 0., 0., 0., 0., 0., 0., 0., 0., 0., 0., 0., 0.,\n",
            "        0., 0., 0., 0., 0., 0., 0., 0., 0., 0., 0., 0., 0., 0., 0., 0., 0., 0.,\n",
            "        0., 0., 0., 0., 0., 0., 0., 0., 0., 0., 0., 0., 0., 0., 0., 0., 0., 0.,\n",
            "        0., 0., 0., 0., 0., 0., 0., 0., 0., 0., 0., 0., 0., 0., 0., 0., 0., 0.,\n",
            "        0., 0., 0., 0., 0., 0., 0., 0., 0., 0., 0., 0., 0., 0., 0., 0., 0., 0.,\n",
            "        0., 0., 0., 0., 0., 0., 0., 0., 0., 0., 0., 0., 0., 0., 0., 0., 0., 0.,\n",
            "        0., 0., 0., 0., 0., 0., 0., 0., 0., 0., 0., 0., 0., 0., 0., 0., 0., 0.,\n",
            "        0., 0., 0., 0., 0., 0., 0., 0., 0., 0., 0., 0., 0., 0., 0., 0., 0., 0.,\n",
            "        0., 0., 0., 0., 0., 0., 0., 0., 0., 0., 0., 0., 0., 0., 0., 0., 0., 0.,\n",
            "        0., 0., 0., 0., 0., 0., 0., 0., 0., 0., 0., 0., 0., 0., 0., 0., 0., 0.,\n",
            "        0., 0., 0., 0., 0., 0., 0., 0., 0., 0., 0., 0., 0., 0., 0., 0., 0., 0.,\n",
            "        0., 0., 0., 0., 0., 0., 0., 0., 0., 0., 0., 0., 0., 0., 0., 0., 0., 0.,\n",
            "        0., 0., 0., 0., 0., 0., 0., 0., 0., 0., 0., 0., 0., 0., 0., 0., 0., 0.,\n",
            "        0., 0., 0., 0., 0., 0., 0., 0., 0., 0., 0., 0., 0., 0., 0., 0., 0., 0.,\n",
            "        0., 0., 0., 0., 0., 0., 0., 0., 0., 0., 0., 0., 0., 0., 0., 0., 0., 0.,\n",
            "        0., 0., 0., 0., 0., 0., 0., 0., 0., 0., 0., 0., 0., 0., 0., 0., 0., 0.,\n",
            "        0., 0., 0., 0., 0., 0., 0., 0., 0., 0., 0., 0., 0., 0., 0., 0., 0., 0.,\n",
            "        0., 0., 0., 0., 0., 0., 0., 0., 0., 0., 0., 0., 0., 0., 0., 0., 0., 0.,\n",
            "        0., 0., 0., 0., 0., 0., 0., 0., 0., 0., 0., 0., 0., 0., 0., 0., 0., 0.,\n",
            "        0., 0., 0., 0., 0., 0., 0., 0., 0., 0., 0., 0., 0., 0., 0., 0., 0., 0.,\n",
            "        0., 0., 0., 0., 0., 0., 0., 0., 0., 0., 0., 0., 0., 0., 0., 0., 0., 0.,\n",
            "        0., 0., 0., 0., 0., 0., 0., 0.])\n"
          ],
          "name": "stdout"
        }
      ]
    },
    {
      "cell_type": "code",
      "metadata": {
        "id": "ElwAjTlAXhgI"
      },
      "source": [
        "# 배치 사이즈\n",
        "# batch_size = 32\n",
        "\n",
        "# 파이토치의 DataLoader로 입력, 마스크, 라벨을 묶어 데이터 설정\n",
        "# 학습시 배치 사이즈 만큼 데이터를 가져옴\n",
        "test_data = TensorDataset(test_inputs, test_masks, test_labels)\n",
        "test_sampler = RandomSampler(test_data)\n",
        "test_dataloader = DataLoader(test_data, sampler=test_sampler, batch_size=batch_size)"
      ],
      "execution_count": null,
      "outputs": []
    },
    {
      "cell_type": "code",
      "metadata": {
        "colab": {
          "base_uri": "https://localhost:8080/"
        },
        "id": "_Te48eRGTipU",
        "outputId": "a9a23f22-3df5-4115-fac5-039b696f2428"
      },
      "source": [
        "# GPU 디바이스 이름 구함\n",
        "device_name = tf.test.gpu_device_name()\n",
        "\n",
        "# GPU 디바이스 이름 검사\n",
        "if device_name == '/device:GPU:0':\n",
        "    print('Found GPU at: {}'.format(device_name))\n",
        "else:\n",
        "    raise SystemError('GPU device not found')"
      ],
      "execution_count": null,
      "outputs": [
        {
          "output_type": "stream",
          "text": [
            "Found GPU at: /device:GPU:0\n"
          ],
          "name": "stdout"
        }
      ]
    },
    {
      "cell_type": "code",
      "metadata": {
        "colab": {
          "base_uri": "https://localhost:8080/"
        },
        "id": "FGl9Ybi0Togd",
        "outputId": "400d21ff-ebfe-4e66-fdca-01fbe18ef555"
      },
      "source": [
        "# 디바이스 설정\n",
        "if torch.cuda.is_available():    \n",
        "    device = torch.device(\"cuda\")\n",
        "    print('There are %d GPU(s) available.' % torch.cuda.device_count())\n",
        "    print('We will use the GPU:', torch.cuda.get_device_name(0))\n",
        "else:\n",
        "    device = torch.device(\"cpu\")\n",
        "    print('No GPU available, using the CPU instead.')"
      ],
      "execution_count": null,
      "outputs": [
        {
          "output_type": "stream",
          "text": [
            "There are 1 GPU(s) available.\n",
            "We will use the GPU: Tesla T4\n"
          ],
          "name": "stdout"
        }
      ]
    },
    {
      "cell_type": "code",
      "metadata": {
        "id": "6HynI-WeVBO_"
      },
      "source": [
        "import gc\n",
        "gc.collect()\n",
        "torch.cuda.empty_cache()"
      ],
      "execution_count": null,
      "outputs": []
    },
    {
      "cell_type": "code",
      "metadata": {
        "colab": {
          "base_uri": "https://localhost:8080/"
        },
        "id": "BVWMRDfVTtGp",
        "outputId": "dd2c8599-a2aa-417d-ed9c-70b0914301cc"
      },
      "source": [
        "# 분류를 위한 BERT 모델 생성\n",
        "model = BertForSequenceClassification.from_pretrained(\"bert-base-uncased\", num_labels=len(detail))\n",
        "model.cuda()"
      ],
      "execution_count": null,
      "outputs": [
        {
          "output_type": "stream",
          "text": [
            "100%|██████████| 433/433 [00:00<00:00, 239437.53B/s]\n",
            "100%|██████████| 440473133/440473133 [00:07<00:00, 58981416.87B/s]\n"
          ],
          "name": "stderr"
        },
        {
          "output_type": "execute_result",
          "data": {
            "text/plain": [
              "BertForSequenceClassification(\n",
              "  (bert): BertModel(\n",
              "    (embeddings): BertEmbeddings(\n",
              "      (word_embeddings): Embedding(30522, 768, padding_idx=0)\n",
              "      (position_embeddings): Embedding(512, 768)\n",
              "      (token_type_embeddings): Embedding(2, 768)\n",
              "      (LayerNorm): LayerNorm((768,), eps=1e-12, elementwise_affine=True)\n",
              "      (dropout): Dropout(p=0.1, inplace=False)\n",
              "    )\n",
              "    (encoder): BertEncoder(\n",
              "      (layer): ModuleList(\n",
              "        (0): BertLayer(\n",
              "          (attention): BertAttention(\n",
              "            (self): BertSelfAttention(\n",
              "              (query): Linear(in_features=768, out_features=768, bias=True)\n",
              "              (key): Linear(in_features=768, out_features=768, bias=True)\n",
              "              (value): Linear(in_features=768, out_features=768, bias=True)\n",
              "              (dropout): Dropout(p=0.1, inplace=False)\n",
              "            )\n",
              "            (output): BertSelfOutput(\n",
              "              (dense): Linear(in_features=768, out_features=768, bias=True)\n",
              "              (LayerNorm): LayerNorm((768,), eps=1e-12, elementwise_affine=True)\n",
              "              (dropout): Dropout(p=0.1, inplace=False)\n",
              "            )\n",
              "          )\n",
              "          (intermediate): BertIntermediate(\n",
              "            (dense): Linear(in_features=768, out_features=3072, bias=True)\n",
              "          )\n",
              "          (output): BertOutput(\n",
              "            (dense): Linear(in_features=3072, out_features=768, bias=True)\n",
              "            (LayerNorm): LayerNorm((768,), eps=1e-12, elementwise_affine=True)\n",
              "            (dropout): Dropout(p=0.1, inplace=False)\n",
              "          )\n",
              "        )\n",
              "        (1): BertLayer(\n",
              "          (attention): BertAttention(\n",
              "            (self): BertSelfAttention(\n",
              "              (query): Linear(in_features=768, out_features=768, bias=True)\n",
              "              (key): Linear(in_features=768, out_features=768, bias=True)\n",
              "              (value): Linear(in_features=768, out_features=768, bias=True)\n",
              "              (dropout): Dropout(p=0.1, inplace=False)\n",
              "            )\n",
              "            (output): BertSelfOutput(\n",
              "              (dense): Linear(in_features=768, out_features=768, bias=True)\n",
              "              (LayerNorm): LayerNorm((768,), eps=1e-12, elementwise_affine=True)\n",
              "              (dropout): Dropout(p=0.1, inplace=False)\n",
              "            )\n",
              "          )\n",
              "          (intermediate): BertIntermediate(\n",
              "            (dense): Linear(in_features=768, out_features=3072, bias=True)\n",
              "          )\n",
              "          (output): BertOutput(\n",
              "            (dense): Linear(in_features=3072, out_features=768, bias=True)\n",
              "            (LayerNorm): LayerNorm((768,), eps=1e-12, elementwise_affine=True)\n",
              "            (dropout): Dropout(p=0.1, inplace=False)\n",
              "          )\n",
              "        )\n",
              "        (2): BertLayer(\n",
              "          (attention): BertAttention(\n",
              "            (self): BertSelfAttention(\n",
              "              (query): Linear(in_features=768, out_features=768, bias=True)\n",
              "              (key): Linear(in_features=768, out_features=768, bias=True)\n",
              "              (value): Linear(in_features=768, out_features=768, bias=True)\n",
              "              (dropout): Dropout(p=0.1, inplace=False)\n",
              "            )\n",
              "            (output): BertSelfOutput(\n",
              "              (dense): Linear(in_features=768, out_features=768, bias=True)\n",
              "              (LayerNorm): LayerNorm((768,), eps=1e-12, elementwise_affine=True)\n",
              "              (dropout): Dropout(p=0.1, inplace=False)\n",
              "            )\n",
              "          )\n",
              "          (intermediate): BertIntermediate(\n",
              "            (dense): Linear(in_features=768, out_features=3072, bias=True)\n",
              "          )\n",
              "          (output): BertOutput(\n",
              "            (dense): Linear(in_features=3072, out_features=768, bias=True)\n",
              "            (LayerNorm): LayerNorm((768,), eps=1e-12, elementwise_affine=True)\n",
              "            (dropout): Dropout(p=0.1, inplace=False)\n",
              "          )\n",
              "        )\n",
              "        (3): BertLayer(\n",
              "          (attention): BertAttention(\n",
              "            (self): BertSelfAttention(\n",
              "              (query): Linear(in_features=768, out_features=768, bias=True)\n",
              "              (key): Linear(in_features=768, out_features=768, bias=True)\n",
              "              (value): Linear(in_features=768, out_features=768, bias=True)\n",
              "              (dropout): Dropout(p=0.1, inplace=False)\n",
              "            )\n",
              "            (output): BertSelfOutput(\n",
              "              (dense): Linear(in_features=768, out_features=768, bias=True)\n",
              "              (LayerNorm): LayerNorm((768,), eps=1e-12, elementwise_affine=True)\n",
              "              (dropout): Dropout(p=0.1, inplace=False)\n",
              "            )\n",
              "          )\n",
              "          (intermediate): BertIntermediate(\n",
              "            (dense): Linear(in_features=768, out_features=3072, bias=True)\n",
              "          )\n",
              "          (output): BertOutput(\n",
              "            (dense): Linear(in_features=3072, out_features=768, bias=True)\n",
              "            (LayerNorm): LayerNorm((768,), eps=1e-12, elementwise_affine=True)\n",
              "            (dropout): Dropout(p=0.1, inplace=False)\n",
              "          )\n",
              "        )\n",
              "        (4): BertLayer(\n",
              "          (attention): BertAttention(\n",
              "            (self): BertSelfAttention(\n",
              "              (query): Linear(in_features=768, out_features=768, bias=True)\n",
              "              (key): Linear(in_features=768, out_features=768, bias=True)\n",
              "              (value): Linear(in_features=768, out_features=768, bias=True)\n",
              "              (dropout): Dropout(p=0.1, inplace=False)\n",
              "            )\n",
              "            (output): BertSelfOutput(\n",
              "              (dense): Linear(in_features=768, out_features=768, bias=True)\n",
              "              (LayerNorm): LayerNorm((768,), eps=1e-12, elementwise_affine=True)\n",
              "              (dropout): Dropout(p=0.1, inplace=False)\n",
              "            )\n",
              "          )\n",
              "          (intermediate): BertIntermediate(\n",
              "            (dense): Linear(in_features=768, out_features=3072, bias=True)\n",
              "          )\n",
              "          (output): BertOutput(\n",
              "            (dense): Linear(in_features=3072, out_features=768, bias=True)\n",
              "            (LayerNorm): LayerNorm((768,), eps=1e-12, elementwise_affine=True)\n",
              "            (dropout): Dropout(p=0.1, inplace=False)\n",
              "          )\n",
              "        )\n",
              "        (5): BertLayer(\n",
              "          (attention): BertAttention(\n",
              "            (self): BertSelfAttention(\n",
              "              (query): Linear(in_features=768, out_features=768, bias=True)\n",
              "              (key): Linear(in_features=768, out_features=768, bias=True)\n",
              "              (value): Linear(in_features=768, out_features=768, bias=True)\n",
              "              (dropout): Dropout(p=0.1, inplace=False)\n",
              "            )\n",
              "            (output): BertSelfOutput(\n",
              "              (dense): Linear(in_features=768, out_features=768, bias=True)\n",
              "              (LayerNorm): LayerNorm((768,), eps=1e-12, elementwise_affine=True)\n",
              "              (dropout): Dropout(p=0.1, inplace=False)\n",
              "            )\n",
              "          )\n",
              "          (intermediate): BertIntermediate(\n",
              "            (dense): Linear(in_features=768, out_features=3072, bias=True)\n",
              "          )\n",
              "          (output): BertOutput(\n",
              "            (dense): Linear(in_features=3072, out_features=768, bias=True)\n",
              "            (LayerNorm): LayerNorm((768,), eps=1e-12, elementwise_affine=True)\n",
              "            (dropout): Dropout(p=0.1, inplace=False)\n",
              "          )\n",
              "        )\n",
              "        (6): BertLayer(\n",
              "          (attention): BertAttention(\n",
              "            (self): BertSelfAttention(\n",
              "              (query): Linear(in_features=768, out_features=768, bias=True)\n",
              "              (key): Linear(in_features=768, out_features=768, bias=True)\n",
              "              (value): Linear(in_features=768, out_features=768, bias=True)\n",
              "              (dropout): Dropout(p=0.1, inplace=False)\n",
              "            )\n",
              "            (output): BertSelfOutput(\n",
              "              (dense): Linear(in_features=768, out_features=768, bias=True)\n",
              "              (LayerNorm): LayerNorm((768,), eps=1e-12, elementwise_affine=True)\n",
              "              (dropout): Dropout(p=0.1, inplace=False)\n",
              "            )\n",
              "          )\n",
              "          (intermediate): BertIntermediate(\n",
              "            (dense): Linear(in_features=768, out_features=3072, bias=True)\n",
              "          )\n",
              "          (output): BertOutput(\n",
              "            (dense): Linear(in_features=3072, out_features=768, bias=True)\n",
              "            (LayerNorm): LayerNorm((768,), eps=1e-12, elementwise_affine=True)\n",
              "            (dropout): Dropout(p=0.1, inplace=False)\n",
              "          )\n",
              "        )\n",
              "        (7): BertLayer(\n",
              "          (attention): BertAttention(\n",
              "            (self): BertSelfAttention(\n",
              "              (query): Linear(in_features=768, out_features=768, bias=True)\n",
              "              (key): Linear(in_features=768, out_features=768, bias=True)\n",
              "              (value): Linear(in_features=768, out_features=768, bias=True)\n",
              "              (dropout): Dropout(p=0.1, inplace=False)\n",
              "            )\n",
              "            (output): BertSelfOutput(\n",
              "              (dense): Linear(in_features=768, out_features=768, bias=True)\n",
              "              (LayerNorm): LayerNorm((768,), eps=1e-12, elementwise_affine=True)\n",
              "              (dropout): Dropout(p=0.1, inplace=False)\n",
              "            )\n",
              "          )\n",
              "          (intermediate): BertIntermediate(\n",
              "            (dense): Linear(in_features=768, out_features=3072, bias=True)\n",
              "          )\n",
              "          (output): BertOutput(\n",
              "            (dense): Linear(in_features=3072, out_features=768, bias=True)\n",
              "            (LayerNorm): LayerNorm((768,), eps=1e-12, elementwise_affine=True)\n",
              "            (dropout): Dropout(p=0.1, inplace=False)\n",
              "          )\n",
              "        )\n",
              "        (8): BertLayer(\n",
              "          (attention): BertAttention(\n",
              "            (self): BertSelfAttention(\n",
              "              (query): Linear(in_features=768, out_features=768, bias=True)\n",
              "              (key): Linear(in_features=768, out_features=768, bias=True)\n",
              "              (value): Linear(in_features=768, out_features=768, bias=True)\n",
              "              (dropout): Dropout(p=0.1, inplace=False)\n",
              "            )\n",
              "            (output): BertSelfOutput(\n",
              "              (dense): Linear(in_features=768, out_features=768, bias=True)\n",
              "              (LayerNorm): LayerNorm((768,), eps=1e-12, elementwise_affine=True)\n",
              "              (dropout): Dropout(p=0.1, inplace=False)\n",
              "            )\n",
              "          )\n",
              "          (intermediate): BertIntermediate(\n",
              "            (dense): Linear(in_features=768, out_features=3072, bias=True)\n",
              "          )\n",
              "          (output): BertOutput(\n",
              "            (dense): Linear(in_features=3072, out_features=768, bias=True)\n",
              "            (LayerNorm): LayerNorm((768,), eps=1e-12, elementwise_affine=True)\n",
              "            (dropout): Dropout(p=0.1, inplace=False)\n",
              "          )\n",
              "        )\n",
              "        (9): BertLayer(\n",
              "          (attention): BertAttention(\n",
              "            (self): BertSelfAttention(\n",
              "              (query): Linear(in_features=768, out_features=768, bias=True)\n",
              "              (key): Linear(in_features=768, out_features=768, bias=True)\n",
              "              (value): Linear(in_features=768, out_features=768, bias=True)\n",
              "              (dropout): Dropout(p=0.1, inplace=False)\n",
              "            )\n",
              "            (output): BertSelfOutput(\n",
              "              (dense): Linear(in_features=768, out_features=768, bias=True)\n",
              "              (LayerNorm): LayerNorm((768,), eps=1e-12, elementwise_affine=True)\n",
              "              (dropout): Dropout(p=0.1, inplace=False)\n",
              "            )\n",
              "          )\n",
              "          (intermediate): BertIntermediate(\n",
              "            (dense): Linear(in_features=768, out_features=3072, bias=True)\n",
              "          )\n",
              "          (output): BertOutput(\n",
              "            (dense): Linear(in_features=3072, out_features=768, bias=True)\n",
              "            (LayerNorm): LayerNorm((768,), eps=1e-12, elementwise_affine=True)\n",
              "            (dropout): Dropout(p=0.1, inplace=False)\n",
              "          )\n",
              "        )\n",
              "        (10): BertLayer(\n",
              "          (attention): BertAttention(\n",
              "            (self): BertSelfAttention(\n",
              "              (query): Linear(in_features=768, out_features=768, bias=True)\n",
              "              (key): Linear(in_features=768, out_features=768, bias=True)\n",
              "              (value): Linear(in_features=768, out_features=768, bias=True)\n",
              "              (dropout): Dropout(p=0.1, inplace=False)\n",
              "            )\n",
              "            (output): BertSelfOutput(\n",
              "              (dense): Linear(in_features=768, out_features=768, bias=True)\n",
              "              (LayerNorm): LayerNorm((768,), eps=1e-12, elementwise_affine=True)\n",
              "              (dropout): Dropout(p=0.1, inplace=False)\n",
              "            )\n",
              "          )\n",
              "          (intermediate): BertIntermediate(\n",
              "            (dense): Linear(in_features=768, out_features=3072, bias=True)\n",
              "          )\n",
              "          (output): BertOutput(\n",
              "            (dense): Linear(in_features=3072, out_features=768, bias=True)\n",
              "            (LayerNorm): LayerNorm((768,), eps=1e-12, elementwise_affine=True)\n",
              "            (dropout): Dropout(p=0.1, inplace=False)\n",
              "          )\n",
              "        )\n",
              "        (11): BertLayer(\n",
              "          (attention): BertAttention(\n",
              "            (self): BertSelfAttention(\n",
              "              (query): Linear(in_features=768, out_features=768, bias=True)\n",
              "              (key): Linear(in_features=768, out_features=768, bias=True)\n",
              "              (value): Linear(in_features=768, out_features=768, bias=True)\n",
              "              (dropout): Dropout(p=0.1, inplace=False)\n",
              "            )\n",
              "            (output): BertSelfOutput(\n",
              "              (dense): Linear(in_features=768, out_features=768, bias=True)\n",
              "              (LayerNorm): LayerNorm((768,), eps=1e-12, elementwise_affine=True)\n",
              "              (dropout): Dropout(p=0.1, inplace=False)\n",
              "            )\n",
              "          )\n",
              "          (intermediate): BertIntermediate(\n",
              "            (dense): Linear(in_features=768, out_features=3072, bias=True)\n",
              "          )\n",
              "          (output): BertOutput(\n",
              "            (dense): Linear(in_features=3072, out_features=768, bias=True)\n",
              "            (LayerNorm): LayerNorm((768,), eps=1e-12, elementwise_affine=True)\n",
              "            (dropout): Dropout(p=0.1, inplace=False)\n",
              "          )\n",
              "        )\n",
              "      )\n",
              "    )\n",
              "    (pooler): BertPooler(\n",
              "      (dense): Linear(in_features=768, out_features=768, bias=True)\n",
              "      (activation): Tanh()\n",
              "    )\n",
              "  )\n",
              "  (dropout): Dropout(p=0.1, inplace=False)\n",
              "  (classifier): Linear(in_features=768, out_features=3487, bias=True)\n",
              ")"
            ]
          },
          "metadata": {
            "tags": []
          },
          "execution_count": 40
        }
      ]
    },
    {
      "cell_type": "code",
      "metadata": {
        "id": "saCkXNoOTxYa"
      },
      "source": [
        "# 옵티마이저 설정\n",
        "optimizer = AdamW(model.parameters(),\n",
        "                  lr = 2e-5, # 학습률\n",
        "                  eps = 1e-8 # 0으로 나누는 것을 방지하기 위한 epsilon 값\n",
        "                )\n",
        "\n",
        "# 에폭수\n",
        "epochs = 4\n",
        "\n",
        "# 총 훈련 스텝 : 배치반복 횟수 * 에폭\n",
        "total_steps = len(train_dataloader) * epochs\n",
        "\n",
        "# 처음에 학습률을 조금씩 변화시키는 스케줄러 생성\n",
        "scheduler = get_linear_schedule_with_warmup(optimizer, \n",
        "                                            num_warmup_steps = 0,\n",
        "                                            num_training_steps = total_steps)"
      ],
      "execution_count": null,
      "outputs": []
    },
    {
      "cell_type": "code",
      "metadata": {
        "id": "kWyFFmI3T1Ih"
      },
      "source": [
        "# 정확도 계산 함수\n",
        "def flat_accuracy(preds, labels):\n",
        "    \n",
        "    pred_flat = np.argmax(preds, axis=1).flatten()\n",
        "\n",
        "    labels_flat = labels.flatten()\n",
        "\n",
        "    return np.sum(pred_flat == labels_flat) / len(labels_flat)"
      ],
      "execution_count": null,
      "outputs": []
    },
    {
      "cell_type": "code",
      "metadata": {
        "id": "8lVtNjJP7tia"
      },
      "source": [
        "def intop10(logit, label, mode=0, top=10):\n",
        "    '''mode = 0 (default) if you want to see boolean return'''\n",
        "    l = []\n",
        "    for _ in range(top):\n",
        "        pred = np.argmax(logit)\n",
        "        l.append(pred)\n",
        "        logit[0][pred] = np.min(logit)\n",
        "    if mode == 0:\n",
        "        print(l)\n",
        "        if label in l:\n",
        "            return True\n",
        "        else: return False\n",
        "    elif mode == 1:\n",
        "        if label in l:\n",
        "            return 1\n",
        "        else: return 0\n",
        "    elif mode == 2:\n",
        "        print(l)\n",
        "        return l"
      ],
      "execution_count": null,
      "outputs": []
    },
    {
      "cell_type": "code",
      "metadata": {
        "id": "3E9UwT3KEIQR"
      },
      "source": [
        "def cal_acc(preds, label):\n",
        "    acc = 0\n",
        "    for v in preds:\n",
        "        acc += intop10(v, label, mode=1)\n",
        "    return acc / len(preds)"
      ],
      "execution_count": null,
      "outputs": []
    },
    {
      "cell_type": "code",
      "metadata": {
        "id": "DlhjtXv1T7e2"
      },
      "source": [
        "# 시간 표시 함수\n",
        "def format_time(elapsed):\n",
        "\n",
        "    # 반올림\n",
        "    elapsed_rounded = int(round((elapsed)))\n",
        "    \n",
        "    # hh:mm:ss으로 형태 변경\n",
        "    return str(datetime.timedelta(seconds=elapsed_rounded))"
      ],
      "execution_count": null,
      "outputs": []
    },
    {
      "cell_type": "code",
      "metadata": {
        "colab": {
          "base_uri": "https://localhost:8080/",
          "height": 506
        },
        "id": "f34HfLIyT8wl",
        "outputId": "aa909f53-ec0e-41d3-b40e-97e5621634b3"
      },
      "source": [
        "# 재현을 위해 랜덤시드 고정\n",
        "# seed_val = 42\n",
        "# random.seed(seed_val)\n",
        "# np.random.seed(seed_val)\n",
        "# torch.manual_seed(seed_val)\n",
        "# torch.cuda.manual_seed_all(seed_val)\n",
        "\n",
        "\n",
        "\n",
        "# 그래디언트 초기화\n",
        "model.zero_grad()\n",
        "\n",
        "# 에폭만큼 반복\n",
        "for epoch_i in range(0, epochs):\n",
        "    \n",
        "    # ========================================\n",
        "    #               Training\n",
        "    # ========================================\n",
        "    \n",
        "    print(\"\")\n",
        "    print('======== Epoch {:} / {:} ========'.format(epoch_i + 1, epochs))\n",
        "    print('Training...')\n",
        "\n",
        "    # 시작 시간 설정\n",
        "    t0 = time.time()\n",
        "\n",
        "    # 로스 초기화\n",
        "    total_loss = 0\n",
        "\n",
        "    # 훈련모드로 변경\n",
        "    model.train()\n",
        "        \n",
        "    # 데이터로더에서 배치만큼 반복하여 가져옴\n",
        "    for step, batch in enumerate(train_dataloader):\n",
        "        # 경과 정보 표시\n",
        "        if step % 500 == 0 and not step == 0:\n",
        "            elapsed = format_time(time.time() - t0)\n",
        "            print('  Batch {:>5,}  of  {:>5,}.    Elapsed: {:}.'.format(step, len(train_dataloader), elapsed))\n",
        "\n",
        "        # 배치를 GPU에 넣음\n",
        "        batch = tuple(t.to(device) for t in batch)\n",
        "        \n",
        "        # 배치에서 데이터 추출\n",
        "        b_input_ids, b_input_mask, b_labels = batch\n",
        "        b_labels = b_labels.type(torch.LongTensor).to(device)\n",
        "        # print(b_labels.type())\n",
        "        # Forward 수행                \n",
        "        outputs = model(b_input_ids, \n",
        "                        token_type_ids=None, \n",
        "                        attention_mask=b_input_mask, \n",
        "                        labels=b_labels)\n",
        "        \n",
        "        # 로스 구함\n",
        "        loss = outputs[0]\n",
        "\n",
        "        # 총 로스 계산\n",
        "        total_loss += loss.item()\n",
        "\n",
        "        # Backward 수행으로 그래디언트 계산\n",
        "        loss.backward()\n",
        "\n",
        "        # 그래디언트 클리핑\n",
        "        torch.nn.utils.clip_grad_norm_(model.parameters(), 1.0)\n",
        "\n",
        "        # 그래디언트를 통해 가중치 파라미터 업데이트\n",
        "        optimizer.step()\n",
        "\n",
        "        # 스케줄러로 학습률 감소\n",
        "        scheduler.step()\n",
        "\n",
        "        # 그래디언트 초기화\n",
        "        model.zero_grad()\n",
        "\n",
        "    # 평균 로스 계산\n",
        "    avg_train_loss = total_loss / len(train_dataloader)            \n",
        "\n",
        "    print(\"\")\n",
        "    print(\"  Average training loss: {0:.2f}\".format(avg_train_loss))\n",
        "    print(\"  Training epcoh took: {:}\".format(format_time(time.time() - t0)))\n",
        "        \n",
        "    # ========================================\n",
        "    #               Validation\n",
        "    # ========================================\n",
        "\n",
        "    print(\"\")\n",
        "    print(\"Running Validation...\")\n",
        "\n",
        "    #시작 시간 설정\n",
        "    t0 = time.time()\n",
        "\n",
        "    # 평가모드로 변경\n",
        "    model.eval()\n",
        "\n",
        "    # 변수 초기화\n",
        "    eval_loss, eval_accuracy = 0, 0\n",
        "    nb_eval_steps, nb_eval_examples = 0, 0\n",
        "    acc = 0\n",
        "\n",
        "    # 데이터로더에서 배치만큼 반복하여 가져옴\n",
        "    for batch in validation_dataloader:\n",
        "        # 배치를 GPU에 넣음\n",
        "        batch = tuple(t.to(device) for t in batch)\n",
        "        \n",
        "        # 배치에서 데이터 추출\n",
        "        b_input_ids, b_input_mask, b_labels = batch\n",
        "        \n",
        "        # 그래디언트 계산 안함\n",
        "        with torch.no_grad():     \n",
        "            # Forward 수행\n",
        "            outputs = model(b_input_ids, \n",
        "                            token_type_ids=None, \n",
        "                            attention_mask=b_input_mask)\n",
        "        \n",
        "        # 로스 구함\n",
        "        logits = outputs[0]\n",
        "\n",
        "        # CPU로 데이터 이동\n",
        "        logits = logits.detach().cpu().numpy()\n",
        "        label_ids = b_labels.to('cpu').numpy()\n",
        "        \n",
        "        # 출력 로짓과 라벨을 비교하여 정확도 계산\n",
        "        tmp_eval_accuracy = flat_accuracy(logits, label_ids)\n",
        "        eval_accuracy += tmp_eval_accuracy\n",
        "        nb_eval_steps += 1\n",
        "        # acc = cal_acc(logits, label_ids)\n",
        "    print(\"Accuracy: {0:.3f}\".format(eval_accuracy/nb_eval_steps))\n",
        "    # print(\"  Accuracy: {0:.3f}\".format(acc))\n",
        "    print(\"  Validation took: {:}\".format(format_time(time.time() - t0)))\n",
        "\n",
        "print(\"\")\n",
        "print(\"Training complete!\")"
      ],
      "execution_count": null,
      "outputs": [
        {
          "output_type": "stream",
          "text": [
            "\n",
            "======== Epoch 1 / 4 ========\n",
            "Training...\n"
          ],
          "name": "stdout"
        },
        {
          "output_type": "error",
          "ename": "KeyboardInterrupt",
          "evalue": "ignored",
          "traceback": [
            "\u001b[0;31m---------------------------------------------------------------------------\u001b[0m",
            "\u001b[0;31mKeyboardInterrupt\u001b[0m                         Traceback (most recent call last)",
            "\u001b[0;32m<ipython-input-70-0aaa4a460d38>\u001b[0m in \u001b[0;36m<module>\u001b[0;34m()\u001b[0m\n\u001b[1;32m     58\u001b[0m \u001b[0;34m\u001b[0m\u001b[0m\n\u001b[1;32m     59\u001b[0m         \u001b[0;31m# Backward 수행으로 그래디언트 계산\u001b[0m\u001b[0;34m\u001b[0m\u001b[0;34m\u001b[0m\u001b[0;34m\u001b[0m\u001b[0m\n\u001b[0;32m---> 60\u001b[0;31m         \u001b[0mloss\u001b[0m\u001b[0;34m.\u001b[0m\u001b[0mbackward\u001b[0m\u001b[0;34m(\u001b[0m\u001b[0;34m)\u001b[0m\u001b[0;34m\u001b[0m\u001b[0;34m\u001b[0m\u001b[0m\n\u001b[0m\u001b[1;32m     61\u001b[0m \u001b[0;34m\u001b[0m\u001b[0m\n\u001b[1;32m     62\u001b[0m         \u001b[0;31m# 그래디언트 클리핑\u001b[0m\u001b[0;34m\u001b[0m\u001b[0;34m\u001b[0m\u001b[0;34m\u001b[0m\u001b[0m\n",
            "\u001b[0;32m/usr/local/lib/python3.7/dist-packages/torch/tensor.py\u001b[0m in \u001b[0;36mbackward\u001b[0;34m(self, gradient, retain_graph, create_graph, inputs)\u001b[0m\n\u001b[1;32m    243\u001b[0m                 \u001b[0mcreate_graph\u001b[0m\u001b[0;34m=\u001b[0m\u001b[0mcreate_graph\u001b[0m\u001b[0;34m,\u001b[0m\u001b[0;34m\u001b[0m\u001b[0;34m\u001b[0m\u001b[0m\n\u001b[1;32m    244\u001b[0m                 inputs=inputs)\n\u001b[0;32m--> 245\u001b[0;31m         \u001b[0mtorch\u001b[0m\u001b[0;34m.\u001b[0m\u001b[0mautograd\u001b[0m\u001b[0;34m.\u001b[0m\u001b[0mbackward\u001b[0m\u001b[0;34m(\u001b[0m\u001b[0mself\u001b[0m\u001b[0;34m,\u001b[0m \u001b[0mgradient\u001b[0m\u001b[0;34m,\u001b[0m \u001b[0mretain_graph\u001b[0m\u001b[0;34m,\u001b[0m \u001b[0mcreate_graph\u001b[0m\u001b[0;34m,\u001b[0m \u001b[0minputs\u001b[0m\u001b[0;34m=\u001b[0m\u001b[0minputs\u001b[0m\u001b[0;34m)\u001b[0m\u001b[0;34m\u001b[0m\u001b[0;34m\u001b[0m\u001b[0m\n\u001b[0m\u001b[1;32m    246\u001b[0m \u001b[0;34m\u001b[0m\u001b[0m\n\u001b[1;32m    247\u001b[0m     \u001b[0;32mdef\u001b[0m \u001b[0mregister_hook\u001b[0m\u001b[0;34m(\u001b[0m\u001b[0mself\u001b[0m\u001b[0;34m,\u001b[0m \u001b[0mhook\u001b[0m\u001b[0;34m)\u001b[0m\u001b[0;34m:\u001b[0m\u001b[0;34m\u001b[0m\u001b[0;34m\u001b[0m\u001b[0m\n",
            "\u001b[0;32m/usr/local/lib/python3.7/dist-packages/torch/autograd/__init__.py\u001b[0m in \u001b[0;36mbackward\u001b[0;34m(tensors, grad_tensors, retain_graph, create_graph, grad_variables, inputs)\u001b[0m\n\u001b[1;32m    145\u001b[0m     Variable._execution_engine.run_backward(\n\u001b[1;32m    146\u001b[0m         \u001b[0mtensors\u001b[0m\u001b[0;34m,\u001b[0m \u001b[0mgrad_tensors_\u001b[0m\u001b[0;34m,\u001b[0m \u001b[0mretain_graph\u001b[0m\u001b[0;34m,\u001b[0m \u001b[0mcreate_graph\u001b[0m\u001b[0;34m,\u001b[0m \u001b[0minputs\u001b[0m\u001b[0;34m,\u001b[0m\u001b[0;34m\u001b[0m\u001b[0;34m\u001b[0m\u001b[0m\n\u001b[0;32m--> 147\u001b[0;31m         allow_unreachable=True, accumulate_grad=True)  # allow_unreachable flag\n\u001b[0m\u001b[1;32m    148\u001b[0m \u001b[0;34m\u001b[0m\u001b[0m\n\u001b[1;32m    149\u001b[0m \u001b[0;34m\u001b[0m\u001b[0m\n",
            "\u001b[0;31mKeyboardInterrupt\u001b[0m: "
          ]
        }
      ]
    },
    {
      "cell_type": "code",
      "metadata": {
        "id": "tu47xdjbUG0v",
        "colab": {
          "base_uri": "https://localhost:8080/"
        },
        "outputId": "9149bd98-dbdd-4725-cfe6-2c4c8fecc2ef"
      },
      "source": [
        "#시작 시간 설정\n",
        "t0 = time.time()\n",
        "\n",
        "# 평가모드로 변경\n",
        "model.eval()\n",
        "\n",
        "# 변수 초기화\n",
        "eval_loss, eval_accuracy = 0, 0\n",
        "nb_eval_steps, nb_eval_examples = 0, 0\n",
        "acc = 0\n",
        "\n",
        "# 데이터로더에서 배치만큼 반복하여 가져옴\n",
        "for step, batch in enumerate(test_dataloader):\n",
        "    # 경과 정보 표시\n",
        "    if step % 100 == 0 and not step == 0:\n",
        "        elapsed = format_time(time.time() - t0)\n",
        "        print('  Batch {:>5,}  of  {:>5,}.    Elapsed: {:}.'.format(step, len(test_dataloader), elapsed))\n",
        "\n",
        "    # 배치를 GPU에 넣음\n",
        "    batch = tuple(t.to(device) for t in batch)\n",
        "    \n",
        "    # 배치에서 데이터 추출\n",
        "    b_input_ids, b_input_mask, b_labels = batch\n",
        "    \n",
        "    # 그래디언트 계산 안함\n",
        "    with torch.no_grad():     \n",
        "        # Forward 수행\n",
        "        outputs = model(b_input_ids, \n",
        "                        token_type_ids=None, \n",
        "                        attention_mask=b_input_mask)\n",
        "    \n",
        "    # 로스 구함\n",
        "    logits = outputs[0]\n",
        "\n",
        "    # CPU로 데이터 이동\n",
        "    logits = logits.detach().cpu().numpy()\n",
        "    label_ids = b_labels.to('cpu').numpy()\n",
        "    \n",
        "    # 출력 로짓과 라벨을 비교하여 정확도 계산\n",
        "    tmp_eval_accuracy = flat_accuracy(logits, label_ids)\n",
        "    eval_accuracy += tmp_eval_accuracy\n",
        "    nb_eval_steps += 1\n",
        "\n",
        "print(\"\")\n",
        "print(\"Accuracy: {0:.3f}\".format(eval_accuracy/nb_eval_steps))\n",
        "    # acc = cal_acc(logits, label_ids)\n",
        "# print(\"  Accuracy: {0:.3f}\".format(acc)) # eval_accuracy/nb_eval_steps))\n",
        "print(\"Test took: {:}\".format(format_time(time.time() - t0)))"
      ],
      "execution_count": null,
      "outputs": [
        {
          "output_type": "stream",
          "text": [
            "  Batch   100  of  1,689.    Elapsed: 0:00:07.\n",
            "  Batch   200  of  1,689.    Elapsed: 0:00:15.\n",
            "  Batch   300  of  1,689.    Elapsed: 0:00:22.\n",
            "  Batch   400  of  1,689.    Elapsed: 0:00:29.\n",
            "  Batch   500  of  1,689.    Elapsed: 0:00:37.\n",
            "  Batch   600  of  1,689.    Elapsed: 0:00:44.\n",
            "  Batch   700  of  1,689.    Elapsed: 0:00:52.\n",
            "  Batch   800  of  1,689.    Elapsed: 0:00:59.\n",
            "  Batch   900  of  1,689.    Elapsed: 0:01:07.\n",
            "  Batch 1,000  of  1,689.    Elapsed: 0:01:15.\n",
            "  Batch 1,100  of  1,689.    Elapsed: 0:01:22.\n",
            "  Batch 1,200  of  1,689.    Elapsed: 0:01:30.\n",
            "  Batch 1,300  of  1,689.    Elapsed: 0:01:38.\n",
            "  Batch 1,400  of  1,689.    Elapsed: 0:01:46.\n",
            "  Batch 1,500  of  1,689.    Elapsed: 0:01:54.\n",
            "  Batch 1,600  of  1,689.    Elapsed: 0:02:02.\n",
            "\n",
            "Accuracy: 0.016\n",
            "Test took: 0:02:09\n"
          ],
          "name": "stdout"
        }
      ]
    },
    {
      "cell_type": "code",
      "metadata": {
        "colab": {
          "background_save": true
        },
        "id": "Jb_3NCkWHfWU"
      },
      "source": [
        "torch.save(model, '/content/drive/MyDrive/BERTmodel_bert.pt')"
      ],
      "execution_count": null,
      "outputs": []
    },
    {
      "cell_type": "code",
      "metadata": {
        "id": "j8MCMVixN_N2"
      },
      "source": [
        "# torch.save(model.state_dict(), './BERTmodel_stat.pt')"
      ],
      "execution_count": null,
      "outputs": []
    },
    {
      "cell_type": "code",
      "metadata": {
        "id": "Blw4UIKBVsUt"
      },
      "source": [
        "# 입력 데이터 변환\n",
        "def convert_input_data(sentences):\n",
        "\n",
        "    # BERT의 토크나이저로 문장을 토큰으로 분리\n",
        "    tokenized_texts = [tokenizer.tokenize(sent) for sent in sentences]\n",
        "\n",
        "    # 입력 토큰의 최대 시퀀스 길이\n",
        "    MAX_LEN = 512\n",
        "    # if len(tokenized_texts) > MAX_LEN:\n",
        "    #     tokenized_texts = tokenized_texts[-Max_Len::]    \n",
        "    for i in range(len(tokenized_texts)):\n",
        "        if len(tokenized_texts[i]) > MAX_LEN:\n",
        "            while 1:\n",
        "                id = tokenized_texts[i].index('[SEP]')\n",
        "                tokenized_texts[i] = tokenized_texts[i][id:]\n",
        "                tokenized_texts[i][0] = '[CLS]'\n",
        "                if len(tokenized_texts[i]) <= MAX_LEN:\n",
        "                    break\n",
        "    # 토큰을 숫자 인덱스로 변환\n",
        "    input_ids = [tokenizer.convert_tokens_to_ids(x) for x in tokenized_texts]\n",
        "    \n",
        "    # 문장을 MAX_LEN 길이에 맞게 자르고, 모자란 부분을 패딩 0으로 채움\n",
        "    input_ids = pad_sequences(input_ids, maxlen=MAX_LEN, dtype=\"long\", truncating=\"post\", padding=\"post\")\n",
        "\n",
        "    # 어텐션 마스크 초기화\n",
        "    attention_masks = []\n",
        "\n",
        "    # 어텐션 마스크를 패딩이 아니면 1, 패딩이면 0으로 설정\n",
        "    # 패딩 부분은 BERT 모델에서 어텐션을 수행하지 않아 속도 향상\n",
        "    for seq in input_ids:\n",
        "        seq_mask = [float(i>0) for i in seq]\n",
        "        attention_masks.append(seq_mask)\n",
        "\n",
        "    # 데이터를 파이토치의 텐서로 변환\n",
        "    inputs = torch.tensor(input_ids)\n",
        "    masks = torch.tensor(attention_masks)\n",
        "\n",
        "    return inputs, masks"
      ],
      "execution_count": null,
      "outputs": []
    },
    {
      "cell_type": "code",
      "metadata": {
        "id": "s7wVX7eoVvdZ"
      },
      "source": [
        "# 문장 테스트\n",
        "def test_sentences(sentences):\n",
        "\n",
        "    # 평가모드로 변경\n",
        "    model.eval()\n",
        "\n",
        "    # 문장을 입력 데이터로 변환\n",
        "    inputs, masks = convert_input_data(sentences)\n",
        "\n",
        "    # 데이터를 GPU에 넣음\n",
        "    b_input_ids = inputs.to(device)\n",
        "    b_input_mask = masks.to(device)\n",
        "            \n",
        "    # 그래디언트 계산 안함\n",
        "    with torch.no_grad():     \n",
        "        # Forward 수행\n",
        "        outputs = model(b_input_ids, \n",
        "                        token_type_ids=None, \n",
        "                        attention_mask=b_input_mask)\n",
        "\n",
        "    # 로스 구함\n",
        "    logits = outputs[0]\n",
        "\n",
        "    # CPU로 데이터 이동\n",
        "    logits = logits.detach().cpu().numpy()\n",
        "\n",
        "    return logits"
      ],
      "execution_count": null,
      "outputs": []
    },
    {
      "cell_type": "code",
      "metadata": {
        "id": "zrMkEe-iStYx"
      },
      "source": [
        "# def kv(dic, val):\n",
        "#     return [k for k, v in dic.items() if v == val]\n",
        "\n",
        "prod_dic = {v:k for k,v in dic.items()}\n",
        "print(prod_dic)\n",
        "\n",
        "def findprod(v):\n",
        "    p = prod_dic.get(v)\n",
        "    return p"
      ],
      "execution_count": null,
      "outputs": []
    },
    {
      "cell_type": "code",
      "metadata": {
        "colab": {
          "base_uri": "https://localhost:8080/"
        },
        "id": "0chLGYbpuOJa",
        "outputId": "0a0ce5d8-6248-41df-f021-cad347717268"
      },
      "source": [
        "test.reset_index(inplace=True)\n",
        "test.pop('index')"
      ],
      "execution_count": null,
      "outputs": [
        {
          "output_type": "execute_result",
          "data": {
            "text/plain": [
              "0        8108\n",
              "1        8109\n",
              "2        8110\n",
              "3        8111\n",
              "4        8112\n",
              "        ...  \n",
              "3373    11570\n",
              "3374    11571\n",
              "3375    11572\n",
              "3376    11573\n",
              "3377    11574\n",
              "Name: index, Length: 3378, dtype: int64"
            ]
          },
          "metadata": {
            "tags": []
          },
          "execution_count": 66
        }
      ]
    },
    {
      "cell_type": "code",
      "metadata": {
        "colab": {
          "base_uri": "https://localhost:8080/",
          "height": 204
        },
        "id": "wcBYf1COsPbb",
        "outputId": "979fc738-6e37-4cc5-96eb-63b4055b8bdd"
      },
      "source": [
        "test.head()"
      ],
      "execution_count": null,
      "outputs": [
        {
          "output_type": "execute_result",
          "data": {
            "text/html": [
              "<div>\n",
              "<style scoped>\n",
              "    .dataframe tbody tr th:only-of-type {\n",
              "        vertical-align: middle;\n",
              "    }\n",
              "\n",
              "    .dataframe tbody tr th {\n",
              "        vertical-align: top;\n",
              "    }\n",
              "\n",
              "    .dataframe thead th {\n",
              "        text-align: right;\n",
              "    }\n",
              "</style>\n",
              "<table border=\"1\" class=\"dataframe\">\n",
              "  <thead>\n",
              "    <tr style=\"text-align: right;\">\n",
              "      <th></th>\n",
              "      <th>Customer</th>\n",
              "      <th>Detail</th>\n",
              "      <th>label</th>\n",
              "      <th>0</th>\n",
              "    </tr>\n",
              "  </thead>\n",
              "  <tbody>\n",
              "    <tr>\n",
              "      <th>0</th>\n",
              "      <td>37681.0</td>\n",
              "      <td>DOOR MAT 3 SMILEY CATS [SEP] WHITE HANGING HEA...</td>\n",
              "      <td>STRAWBERRY SCENTED SET/9 T-LIGHTS</td>\n",
              "      <td>1013.0</td>\n",
              "    </tr>\n",
              "    <tr>\n",
              "      <th>1</th>\n",
              "      <td>33777.0</td>\n",
              "      <td>SET OF 3 COLOURED  FLYING DUCKS [SEP] RECORD F...</td>\n",
              "      <td>RED SPOTTY CHILDS APRON</td>\n",
              "      <td>288.0</td>\n",
              "    </tr>\n",
              "    <tr>\n",
              "      <th>2</th>\n",
              "      <td>37850.0</td>\n",
              "      <td>RED SPOTTY PEG BAG [SEP] LUNCH BAG  BLACK SKUL...</td>\n",
              "      <td>WOODEN FRAME ANTIQUE WHITE</td>\n",
              "      <td>947.0</td>\n",
              "    </tr>\n",
              "    <tr>\n",
              "      <th>3</th>\n",
              "      <td>36296.0</td>\n",
              "      <td>MINI WOODEN HAPPY BIRTHDAY GARLAND [SEP] PLACE...</td>\n",
              "      <td>RED SPOTTY OVEN GLOVE DOUBLE</td>\n",
              "      <td>1249.0</td>\n",
              "    </tr>\n",
              "    <tr>\n",
              "      <th>4</th>\n",
              "      <td>33080.0</td>\n",
              "      <td>SET OF 6 VINTAGE NOTELETS KIT [SEP] SILK PURSE...</td>\n",
              "      <td>SILK PURSE RUSSIAN DOLL PINK</td>\n",
              "      <td>557.0</td>\n",
              "    </tr>\n",
              "  </tbody>\n",
              "</table>\n",
              "</div>"
            ],
            "text/plain": [
              "   Customer  ...       0\n",
              "0   37681.0  ...  1013.0\n",
              "1   33777.0  ...   288.0\n",
              "2   37850.0  ...   947.0\n",
              "3   36296.0  ...  1249.0\n",
              "4   33080.0  ...   557.0\n",
              "\n",
              "[5 rows x 4 columns]"
            ]
          },
          "metadata": {
            "tags": []
          },
          "execution_count": 90
        }
      ]
    },
    {
      "cell_type": "code",
      "metadata": {
        "id": "ef5h410LyavB"
      },
      "source": [
        "model = torch.load('/content/drive/MyDrive/BERTmodel_bert.pt')"
      ],
      "execution_count": null,
      "outputs": []
    },
    {
      "cell_type": "code",
      "metadata": {
        "colab": {
          "base_uri": "https://localhost:8080/"
        },
        "id": "WtGnrkpZ7u4R",
        "outputId": "3cfc8b67-e903-4c0a-cca5-3e265c1458a9"
      },
      "source": [
        "acc = 0\n",
        "for i in range(len(test)):\n",
        "    logits = test_sentences([test['Detail'][i]])\n",
        "    acc += intop10(logits, test[0][i], mode=1, top=5)\n",
        "print(\"Accuracy: {0:.3f}\".format(acc / len(test)))"
      ],
      "execution_count": null,
      "outputs": [
        {
          "output_type": "stream",
          "text": [
            "Accuracy: 0.031\n"
          ],
          "name": "stdout"
        }
      ]
    },
    {
      "cell_type": "code",
      "metadata": {
        "colab": {
          "base_uri": "https://localhost:8080/"
        },
        "id": "6uBAKy67r-28",
        "outputId": "8d77aedb-cfae-4bf0-c285-ac2a4f71f454"
      },
      "source": [
        "acc = 0\n",
        "for i in range(len(test)):\n",
        "    logits = test_sentences([test['Detail'][i]])\n",
        "    acc += intop10(logits, test[0][i], mode=1)\n",
        "print(\"Accuracy: {0:.3f}\".format(acc / len(test)))"
      ],
      "execution_count": null,
      "outputs": [
        {
          "output_type": "stream",
          "text": [
            "Accuracy: 0.054\n"
          ],
          "name": "stdout"
        }
      ]
    },
    {
      "cell_type": "code",
      "metadata": {
        "colab": {
          "base_uri": "https://localhost:8080/"
        },
        "id": "B8MiWl5477I4",
        "outputId": "2cb65c29-9a0d-4db9-8015-68581daf6733"
      },
      "source": [
        "acc = 0\n",
        "for i in range(len(test)):\n",
        "    logits = test_sentences([test['Detail'][i]])\n",
        "    acc += intop10(logits, test[0][i], mode=1, top=15)\n",
        "print(\"Accuracy: {0:.3f}\".format(acc / len(test)))"
      ],
      "execution_count": null,
      "outputs": [
        {
          "output_type": "stream",
          "text": [
            "Accuracy: 0.069\n"
          ],
          "name": "stdout"
        }
      ]
    },
    {
      "cell_type": "code",
      "metadata": {
        "colab": {
          "base_uri": "https://localhost:8080/"
        },
        "id": "9M8AdEKV7-Vu",
        "outputId": "7e697431-4c65-4f27-cf7c-5a940eb55eb4"
      },
      "source": [
        "acc = 0\n",
        "for i in range(len(test)):\n",
        "    logits = test_sentences([test['Detail'][i]])\n",
        "    acc += intop10(logits, test[0][i], mode=1, top=20)\n",
        "print(\"Accuracy: {0:.3f}\".format(acc / len(test)))"
      ],
      "execution_count": null,
      "outputs": [
        {
          "output_type": "stream",
          "text": [
            "Accuracy: 0.082\n"
          ],
          "name": "stdout"
        }
      ]
    },
    {
      "cell_type": "code",
      "metadata": {
        "colab": {
          "base_uri": "https://localhost:8080/"
        },
        "id": "qdM3CVrJ8BfD",
        "outputId": "71748dc1-7f49-4c3a-f930-5cbfdc0b684b"
      },
      "source": [
        "acc = 0\n",
        "for i in range(len(test)):\n",
        "    logits = test_sentences([test['Detail'][i]])\n",
        "    acc += intop10(logits, test[0][i], mode=1, top=25)\n",
        "print(\"Accuracy: {0:.3f}\".format(acc / len(test)))"
      ],
      "execution_count": null,
      "outputs": [
        {
          "output_type": "stream",
          "text": [
            "Accuracy: 0.094\n"
          ],
          "name": "stdout"
        }
      ]
    },
    {
      "cell_type": "code",
      "metadata": {
        "colab": {
          "base_uri": "https://localhost:8080/"
        },
        "id": "501SUPhD8Ee0",
        "outputId": "d0f9cc11-fcc2-4ab3-b087-646210c772d2"
      },
      "source": [
        "acc = 0\n",
        "for i in range(len(test)):\n",
        "    logits = test_sentences([test['Detail'][i]])\n",
        "    acc += intop10(logits, test[0][i], mode=1, top=30)\n",
        "print(\"Accuracy: {0:.3f}\".format(acc / len(test)))"
      ],
      "execution_count": null,
      "outputs": [
        {
          "output_type": "stream",
          "text": [
            "Accuracy: 0.109\n"
          ],
          "name": "stdout"
        }
      ]
    },
    {
      "cell_type": "code",
      "metadata": {
        "id": "nDIsjv6j8-xF"
      },
      "source": [
        "table = test.copy()\n",
        "for i in range(len(table)):\n",
        "    logits = test_sentences([tabe['Detail'][i]])\n",
        "    table['preds'][i] = intop10(logits, test[0][i], mode=2)\n",
        " "
      ],
      "execution_count": null,
      "outputs": []
    },
    {
      "cell_type": "code",
      "metadata": {
        "colab": {
          "base_uri": "https://localhost:8080/"
        },
        "id": "kkJ6Xx2pznAn",
        "outputId": "a8017d55-f14d-4491-9333-3a173785463e"
      },
      "source": [
        "print(\"Hits: {}\".format(acc))"
      ],
      "execution_count": null,
      "outputs": [
        {
          "output_type": "stream",
          "text": [
            "Hits: 183\n"
          ],
          "name": "stdout"
        }
      ]
    },
    {
      "cell_type": "code",
      "metadata": {
        "colab": {
          "base_uri": "https://localhost:8080/"
        },
        "id": "BhvGsmGSVvVL",
        "outputId": "87d7c12e-d436-4659-98a2-8b52c4e59c65"
      },
      "source": [
        "logits = test_sentences([data1['Detail'][6]])\n",
        "\n",
        "print(logits)\n",
        "print((np.argmax(logits)))\n",
        "print(len(logits[0]))\n",
        "print(data1[0][6])"
      ],
      "execution_count": null,
      "outputs": [
        {
          "output_type": "stream",
          "text": [
            "[[ -1.0715597  -0.5765179  -0.0243252 ... -10.531099  -10.016944\n",
            "  -10.483797 ]]\n",
            "661\n",
            "3487\n",
            "2429.0\n"
          ],
          "name": "stdout"
        }
      ]
    },
    {
      "cell_type": "code",
      "metadata": {
        "colab": {
          "base_uri": "https://localhost:8080/"
        },
        "id": "oJfPyY0Xz_qx",
        "outputId": "66669e23-4395-4aae-d14e-08323b989d6a"
      },
      "source": [
        "logits = test_sentences([test['Detail'][100]])\n",
        "\n",
        "print(logits)\n",
        "print(np.argmax(logits))\n",
        "# print(len(logits))\n",
        "print(test['label'][100])\n",
        "intop10(logits, test['label'][100], mode=1)"
      ],
      "execution_count": null,
      "outputs": [
        {
          "output_type": "stream",
          "text": [
            "[[-2.7736073  -1.2774974  -0.61112374 ... -8.012796   -8.468978\n",
            "  -8.195465  ]]\n",
            "661\n",
            "MULTI COLOUR SILVER T-LIGHT HOLDER\n"
          ],
          "name": "stdout"
        },
        {
          "output_type": "execute_result",
          "data": {
            "text/plain": [
              "0"
            ]
          },
          "metadata": {
            "tags": []
          },
          "execution_count": 81
        }
      ]
    },
    {
      "cell_type": "code",
      "metadata": {
        "colab": {
          "base_uri": "https://localhost:8080/"
        },
        "id": "-r3HLNF2VxKM",
        "outputId": "1e0abcc6-461a-41f6-c9c7-37c21d7a3d9f"
      },
      "source": [
        "logits = test_sentences([data1['Detail'][100]])\n",
        "\n",
        "# print(logits)\n",
        "print(np.argmax(logits))\n",
        "# print(len(logits))\n",
        "print(data1[0][100])"
      ],
      "execution_count": null,
      "outputs": [
        {
          "output_type": "stream",
          "text": [
            "661\n",
            "439.0\n"
          ],
          "name": "stdout"
        }
      ]
    },
    {
      "cell_type": "code",
      "metadata": {
        "colab": {
          "base_uri": "https://localhost:8080/"
        },
        "id": "pvg-MFD7CW_q",
        "outputId": "394a1160-328e-490a-cf4c-f009349204c1"
      },
      "source": [
        "for i in range(0, len(test), 500):\n",
        "    logits = test_sentences([test['Detail'][i]])\n",
        "    # print(np.argmax(logits))\n",
        "    print(intop10(logits, test[0][i], mode=0))"
      ],
      "execution_count": null,
      "outputs": [
        {
          "output_type": "stream",
          "text": [
            "[661, 400, 617, 914, 195, 215, 189, 121, 649, 190]\n",
            "False\n",
            "[661, 400, 792, 947, 649, 617, 130, 195, 256, 215]\n",
            "False\n",
            "[661, 400, 792, 617, 947, 215, 190, 256, 195, 914]\n",
            "False\n",
            "[661, 400, 947, 617, 590, 130, 792, 195, 306, 649]\n",
            "False\n",
            "[661, 400, 947, 617, 195, 792, 590, 121, 649, 306]\n",
            "False\n",
            "[661, 649, 400, 1435, 829, 782, 947, 29, 130, 989]\n",
            "False\n",
            "[661, 400, 617, 914, 215, 792, 947, 256, 190, 195]\n",
            "False\n"
          ],
          "name": "stdout"
        }
      ]
    },
    {
      "cell_type": "code",
      "metadata": {
        "colab": {
          "base_uri": "https://localhost:8080/"
        },
        "id": "2b3REdxw4A9T",
        "outputId": "78281d7b-d401-4251-e978-9ec14c1a98fd"
      },
      "source": [
        "print(findprod(661))\n",
        "print(findprod(400))"
      ],
      "execution_count": null,
      "outputs": [
        {
          "output_type": "stream",
          "text": [
            "WHITE HANGING HEART T-LIGHT HOLDER\n",
            "DOOR MAT UNION FLAG\n"
          ],
          "name": "stdout"
        }
      ]
    },
    {
      "cell_type": "code",
      "metadata": {
        "id": "E-M38gXvPGQJ",
        "colab": {
          "base_uri": "https://localhost:8080/"
        },
        "outputId": "da6f260b-7984-4db1-e034-c1ceedede8b1"
      },
      "source": [
        "a = test['Detail'][199]\n",
        "logits = test_sentences([a])\n",
        "print('sent:',a)\n",
        "b = intop10(logits, test[0][199], mode=2)\n",
        "print('label:', findprod(test[0][199]), test[0][199])\n",
        "p = []\n",
        "for v in b:\n",
        "    p.append(findprod(v))\n",
        "print(p)"
      ],
      "execution_count": null,
      "outputs": [
        {
          "output_type": "stream",
          "text": [
            "sent: GLASS JAR ENGLISH CONFECTIONERY [SEP] GLASS JAR DAISY FRESH COTTON WOOL [SEP] SLEEPING CAT ERASERS [SEP] DECORATION, HANGING HEART+MIRROR [SEP] SEWING SUSAN 21 NEEDLE SET [SEP] WOODLAND  STICKERS [SEP] 12 IVORY ROSE PEG PLACE SETTINGS [SEP] COLOURING PENCILS BROWN TUBE [SEP] GLASS JAR ENGLISH CONFECTIONERY [SEP] MOCK LOBSTER FRIDGE MAGNET [SEP] WHITE HANGING HEART T-LIGHT HOLDER [SEP] GARLAND WOODEN HAPPY EASTER [SEP] EASTER TIN BUCKET [SEP] SET OF 4 ENGLISH ROSE COASTERS [SEP] RED SPOTTY CUP [SEP] BLUE  SPOTTY CUP [SEP] SET 12 RETRO WHITE CHALK STICKS [SEP] GREEN  SPOTTY PLATE [SEP] ALPHABET HEARTS STICKER SHEET [SEP] BIRD DECORATION RED SPOT [SEP] BIRD DECORATION GREEN  SPOT [SEP] GREEN SPOTTY CUP [SEP] PACK 20 ENGLISH ROSE PAPER NAPKINS [SEP] PAPER BUNTING WHITE LACE [SEP] EMBOSSED GLASS TEALIGHT HOLDER [SEP] WOODLAND ANIMAL  WRITING SET [SEP] S/4 PINK FLOWER CANDLES IN BOWL [SEP] CERAMIC CAKE DESIGN SPOTTED PLATE [SEP] TEA TIME TABLE CLOTH [SEP] OCEAN STRIPE HAMMOCK [SEP] DOOR MAT MULTICOLOUR STRIPE [SEP] HOME BUILDING BLOCK WORD [SEP] BLACK HEART CARD HOLDER [SEP] HAPPY EASTER HANGING DECORATION [SEP] SET OF 4 FAIRY CAKE PLACEMATS [SEP] SILK PURSE RUSSIAN DOLL RED [SEP] GLASS JAR KINGS CHOICE [SEP] BATH DUCK WATERING CAN [SEP] PINK VINTAGE PAISLEY PICNIC BAG [SEP] HAPPY EASTER HANGING DECORATION [SEP] GLITTER BUTTERFLY CLIPS [SEP] SKULL SHOULDER BAG [SEP] PAPER BUNTING COLOURED LACE [SEP] HEART FILIGREE DOVE LARGE [SEP] WHITE HEART CONFETTI IN TUBE [SEP] NATURAL SLATE RECTANGLE CHALKBOARD [SEP] ASSORTED TUTTI FRUTTI ROUND BOX [SEP] MINI WOODEN HAPPY BIRTHDAY GARLAND [SEP] TOY TIDY PINK RETROSPOT [SEP] SET/4 BUTTERFLY MIRROR MAGNETS [SEP] WOODLAND DESIGN  COTTON TOTE BAG\n",
            "[661, 400, 947, 649, 306, 130, 590, 617, 792, 195]\n",
            "label: PINK  HEART CONFETTI IN TUBE 2019.0\n",
            "['WHITE HANGING HEART T-LIGHT HOLDER', 'DOOR MAT UNION FLAG', 'WOODEN FRAME ANTIQUE WHITE', 'PARTY BUNTING', 'LUNCH BAG PINK RETROSPOT', 'REGENCY CAKESTAND 3 TIER', 'RETRO SPOT TEA SET CERAMIC 11 PC', 'VINTAGE UNION JACK BUNTING', 'JUMBO  BAG BAROQUE BLACK WHITE', 'LUNCH BAG SUKI  DESIGN']\n"
          ],
          "name": "stdout"
        }
      ]
    },
    {
      "cell_type": "code",
      "metadata": {
        "colab": {
          "base_uri": "https://localhost:8080/"
        },
        "id": "_dNTsPyVFaDg",
        "outputId": "e2912782-f8ad-44fb-cc49-2f8655b00b38"
      },
      "source": [
        "data1['label'].value_counts()"
      ],
      "execution_count": null,
      "outputs": [
        {
          "output_type": "execute_result",
          "data": {
            "text/plain": [
              "WHITE HANGING HEART T-LIGHT HOLDER    157\n",
              "DOOR MAT UNION FLAG                    64\n",
              "REGENCY CAKESTAND 3 TIER               53\n",
              "HOME BUILDING BLOCK WORD               51\n",
              "PARTY BUNTING                          50\n",
              "                                     ... \n",
              "PINK HAWAIIAN PICNIC HAMPER FOR 2       1\n",
              "IVORY HANGING DECORATION  HEART         1\n",
              "VINTAGE ROSE BEAD BRACELET BLUE         1\n",
              "RETRO PINK BALL ASHTRAY                 1\n",
              "LETTER \"N\" BLING KEY RING               1\n",
              "Name: label, Length: 1818, dtype: int64"
            ]
          },
          "metadata": {
            "tags": []
          },
          "execution_count": 111
        }
      ]
    },
    {
      "cell_type": "code",
      "metadata": {
        "colab": {
          "base_uri": "https://localhost:8080/"
        },
        "id": "wmX2T669G3qq",
        "outputId": "2557b49f-bce8-4981-f615-c29e7b8c30b8"
      },
      "source": [
        "data1[0].value_counts()"
      ],
      "execution_count": null,
      "outputs": [
        {
          "output_type": "execute_result",
          "data": {
            "text/plain": [
              "661.0     157\n",
              "400.0      64\n",
              "130.0      53\n",
              "121.0      51\n",
              "649.0      50\n",
              "         ... \n",
              "2147.0      1\n",
              "3145.0      1\n",
              "3278.0      1\n",
              "1075.0      1\n",
              "659.0       1\n",
              "Name: 0, Length: 1818, dtype: int64"
            ]
          },
          "metadata": {
            "tags": []
          },
          "execution_count": 112
        }
      ]
    },
    {
      "cell_type": "markdown",
      "metadata": {
        "id": "CKg59rd0j51o"
      },
      "source": [
        "모델 참고 링크\n",
        "\n",
        "https://zzaebok.github.io/deep_learning/nlp/Bert-for-classification/\n",
        "\n",
        "https://huggingface.co/transformers/model_doc/bert.html\n",
        "\n",
        "https://colab.research.google.com/drive/1tIf0Ugdqg4qT7gcxia3tL7und64Rv1dP#scrollTo=VJ76KiP_dLn-&uniqifier=1"
      ]
    },
    {
      "cell_type": "code",
      "metadata": {
        "id": "dGlcT-8ggKtT"
      },
      "source": [
        ""
      ],
      "execution_count": null,
      "outputs": []
    },
    {
      "cell_type": "code",
      "metadata": {
        "id": "-CWfj4TkgKrd"
      },
      "source": [
        ""
      ],
      "execution_count": null,
      "outputs": []
    },
    {
      "cell_type": "code",
      "metadata": {
        "id": "oY1LA7PigKob"
      },
      "source": [
        ""
      ],
      "execution_count": null,
      "outputs": []
    },
    {
      "cell_type": "code",
      "metadata": {
        "id": "1uNR85sEgKl6"
      },
      "source": [
        ""
      ],
      "execution_count": null,
      "outputs": []
    },
    {
      "cell_type": "code",
      "metadata": {
        "colab": {
          "background_save": true
        },
        "id": "S0t6yfWG4nfE"
      },
      "source": [
        "# class NsmcDataset(Dataset):\n",
        "#     ''' Naver Sentiment Movie Corpus Dataset '''\n",
        "#     def __init__(self, df):\n",
        "#         self.df = df\n",
        "\n",
        "#     def __len__(self):\n",
        "#         return len(self.df)\n",
        "\n",
        "#     def __getitem__(self, idx):\n",
        "#         text = self.df.iloc[idx, 0]\n",
        "#         label = self.df.iloc[idx, 1]\n",
        "#         return text, label"
      ],
      "execution_count": null,
      "outputs": []
    },
    {
      "cell_type": "code",
      "metadata": {
        "id": "g_-qFShyCKZN"
      },
      "source": [
        "# la = pd.DataFrame(labels)\n",
        "# display(la.head())\n",
        "# train_data = pd.concat([train, la], axis=1)\n",
        "# train_data.head()"
      ],
      "execution_count": null,
      "outputs": []
    },
    {
      "cell_type": "code",
      "metadata": {
        "id": "WL1ZsJWqr3vu"
      },
      "source": [
        "# nsmc_train_dataset = NsmcDataset(train_data)\n",
        "# train_loader = DataLoader(nsmc_train_dataset, batch_size=2, shuffle=True, num_workers=2)"
      ],
      "execution_count": null,
      "outputs": []
    },
    {
      "cell_type": "code",
      "metadata": {
        "id": "6-sJra_w8A05"
      },
      "source": [
        "# device = torch.device(\"cuda\")\n",
        "# tokenizer = BertTokenizer.from_pretrained('bert-base-multilingual-cased')\n",
        "# model = BertForSequenceClassification.from_pretrained('bert-base-multilingual-cased', num_labels=len(detail))\n",
        "# model.to(device)"
      ],
      "execution_count": null,
      "outputs": []
    },
    {
      "cell_type": "markdown",
      "metadata": {
        "id": "juqzM7JA2qbK"
      },
      "source": [
        "BERT"
      ]
    },
    {
      "cell_type": "code",
      "metadata": {
        "id": "sud8GF652sG8"
      },
      "source": [
        "# !git clone https://github.com/google-research/bert.git"
      ],
      "execution_count": null,
      "outputs": []
    },
    {
      "cell_type": "code",
      "metadata": {
        "id": "_TXaeexZ2uxc"
      },
      "source": [
        "# !python /content/bert/create_pretraining_data.py \\\n",
        "#   --input_file=train \\\n",
        "#   --output_file=/tmp/tf_examples.tfrecord \\\n",
        "#   --vocab_file=$BERT_BASE_DIR/vocab.txt \\\n",
        "#   --do_lower_case=False \\\n",
        "#   --max_seq_length=128 \\\n",
        "#   --max_predictions_per_seq=20 \\\n",
        "#   --masked_lm_prob=0.15 \\\n",
        "#   --random_seed=12345 \\\n",
        "#   --dupe_factor=5"
      ],
      "execution_count": null,
      "outputs": []
    },
    {
      "cell_type": "code",
      "metadata": {
        "id": "Rp2vsWI72uho"
      },
      "source": [
        "import gc\n",
        "gc.collect()\n",
        "torch.cuda.empty_cache()"
      ],
      "execution_count": null,
      "outputs": []
    },
    {
      "cell_type": "code",
      "metadata": {
        "id": "_2XjCrPb8hJm"
      },
      "source": [
        "# optimizer = Adam(model.parameters(), lr=1e-6)\n",
        "\n",
        "# itr = 1\n",
        "# p_itr = 500\n",
        "# epochs = 1\n",
        "# total_loss = 0\n",
        "# total_len = 0\n",
        "# total_correct = 0\n",
        "\n",
        "\n",
        "# model.train()\n",
        "# for epoch in range(epochs):\n",
        "    \n",
        "#     for text, label in train_loader:\n",
        "#         optimizer.zero_grad()\n",
        "        \n",
        "#         # encoding and zero padding\n",
        "#         # encoded_list = [tokenizer.encode(t, add_special_tokens=True) for t in text]\n",
        "#         encoded_list = tokenized_texts\n",
        "#         # padded_list =  [e + [0] * (512-len(e)) for e in encoded_list]\n",
        "#         # 토큰을 숫자 인덱스로 변환\n",
        "#         input_ids = [tokenizer.convert_tokens_to_ids(x) for x in encoded_list]\n",
        "\n",
        "#         # 문장을 MAX_LEN 길이에 맞게 자르고, 모자란 부분을 패딩 0으로 채움\n",
        "#         padded_list = pad_sequences(input_ids, maxlen=256, dtype=\"long\", truncating=\"post\", padding=\"post\")\n",
        "#         # print(padded_list[0])\n",
        "#         # print(len(padded_list[0]))\n",
        "#         # print(len(padded_list))\n",
        "#         # print(type(padded_list))\n",
        "#         sample = torch.tensor(padded_list).to(torch.int32)\n",
        "#         sample, label = sample.to(device), label.to(device)\n",
        "#         labels = torch.tensor(label).to(torch.int32)\n",
        "#         outputs = model(sample, labels=labels)\n",
        "#         loss, logits = outputs\n",
        "\n",
        "#         pred = torch.argmax(F.softmax(logits), dim=1)\n",
        "#         correct = pred.eq(labels)\n",
        "#         total_correct += correct.sum().item()\n",
        "#         total_len += len(labels)\n",
        "#         total_loss += loss.item()\n",
        "#         loss.backward()\n",
        "#         optimizer.step()\n",
        "        \n",
        "#         if itr % p_itr == 0:\n",
        "#             print('[Epoch {}/{}] Iteration {} -> Train Loss: {:.4f}, Accuracy: {:.3f}'.format(epoch+1, epochs, itr, total_loss/p_itr, total_correct/total_len))\n",
        "#             total_loss = 0\n",
        "#             total_len = 0\n",
        "#             total_correct = 0\n",
        "\n",
        "#         itr+=1"
      ],
      "execution_count": null,
      "outputs": []
    },
    {
      "cell_type": "code",
      "metadata": {
        "id": "E6S4P88uH4D_"
      },
      "source": [
        "# prompt = \"In Italy, pizza served in formal settings, such as at a restaurant, is presented unsliced.\"\n",
        "# next_sentence = \"The sky is blue due to the shorter wavelength of blue light.\"\n",
        "# encoding = tokenizer(prompt, next_sentence, return_tensors='pt')\n",
        "\n",
        "# outputs = model(**encoding, labels=torch.LongTensor([1]))\n",
        "# logits = outputs.logits\n",
        "# assert logits[0, 0] < logits[0, 1] # next sentence was random"
      ],
      "execution_count": null,
      "outputs": []
    },
    {
      "cell_type": "code",
      "metadata": {
        "id": "9YexC053uZri"
      },
      "source": [
        ""
      ],
      "execution_count": null,
      "outputs": []
    },
    {
      "cell_type": "code",
      "metadata": {
        "id": "_vf6QGTRu9BR"
      },
      "source": [
        ""
      ],
      "execution_count": null,
      "outputs": []
    }
  ]
}