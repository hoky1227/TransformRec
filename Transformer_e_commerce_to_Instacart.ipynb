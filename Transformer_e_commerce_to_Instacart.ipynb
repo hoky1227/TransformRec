{
  "nbformat": 4,
  "nbformat_minor": 0,
  "metadata": {
    "colab": {
      "name": "Transformer e-commerce to Instacart.ipynb",
      "provenance": [],
      "collapsed_sections": [],
      "include_colab_link": true
    },
    "kernelspec": {
      "display_name": "Python 3",
      "language": "python",
      "name": "python3"
    },
    "language_info": {
      "codemirror_mode": {
        "name": "ipython",
        "version": 3
      },
      "file_extension": ".py",
      "mimetype": "text/x-python",
      "name": "python",
      "nbconvert_exporter": "python",
      "pygments_lexer": "ipython3",
      "version": "3.8.5"
    },
    "accelerator": "GPU"
  },
  "cells": [
    {
      "cell_type": "markdown",
      "metadata": {
        "id": "view-in-github",
        "colab_type": "text"
      },
      "source": [
        "<a href=\"https://colab.research.google.com/github/hoky1227/Transformer_based-recommendation/blob/main/Transformer_e_commerce_to_Instacart.ipynb\" target=\"_parent\"><img src=\"https://colab.research.google.com/assets/colab-badge.svg\" alt=\"Open In Colab\"/></a>"
      ]
    },
    {
      "cell_type": "code",
      "metadata": {
        "colab": {
          "base_uri": "https://localhost:8080/"
        },
        "id": "jsJc4nu7CBFk",
        "outputId": "027ace5b-17b7-4e2e-b3f7-fe237934d0a4"
      },
      "source": [
        "from google.colab import drive\n",
        "drive.mount('/content/drive')\n",
        "path = '/content/drive/MyDrive/'"
      ],
      "execution_count": null,
      "outputs": [
        {
          "output_type": "stream",
          "text": [
            "Mounted at /content/drive\n"
          ],
          "name": "stdout"
        }
      ]
    },
    {
      "cell_type": "code",
      "metadata": {
        "id": "KqIBocN1XMe7"
      },
      "source": [
        "import numpy as np\n",
        "import pandas as pd\n",
        "from dateutil.parser import parse\n",
        "from tqdm import tqdm_notebook\n",
        "import tqdm\n",
        "import matplotlib.pyplot as plt\n",
        "import tensorflow_datasets as tfds\n",
        "import tensorflow as tf\n",
        "import re"
      ],
      "execution_count": null,
      "outputs": []
    },
    {
      "cell_type": "markdown",
      "metadata": {
        "id": "iTYLa1rrCY80"
      },
      "source": [
        "#### 내 데이터 불러오기"
      ]
    },
    {
      "cell_type": "code",
      "metadata": {
        "id": "ClCqbjQdGd0J",
        "colab": {
          "base_uri": "https://localhost:8080/"
        },
        "outputId": "cdac7531-eff3-47f1-b821-9738809ca962"
      },
      "source": [
        "filtering_train_df = pd.read_csv(path + 'e-commerce_train.csv')\n",
        "filtering_train_df.pop('Unnamed: 0')\n",
        "filtering_test_df = pd.read_csv(path + 'instacart_test.csv')\n",
        "filtering_test_df.pop('Unnamed: 0')"
      ],
      "execution_count": null,
      "outputs": [
        {
          "output_type": "execute_result",
          "data": {
            "text/plain": [
              "0            0\n",
              "1            1\n",
              "2            2\n",
              "3            3\n",
              "4            4\n",
              "         ...  \n",
              "27430    27430\n",
              "27431    27431\n",
              "27432    27432\n",
              "27433    27433\n",
              "27434    27434\n",
              "Name: Unnamed: 0, Length: 27435, dtype: int64"
            ]
          },
          "metadata": {
            "tags": []
          },
          "execution_count": 3
        }
      ]
    },
    {
      "cell_type": "markdown",
      "metadata": {
        "id": "fTDYnAiwlCg6"
      },
      "source": [
        "#### 학습을 위해 토큰으로 자르기"
      ]
    },
    {
      "cell_type": "code",
      "metadata": {
        "id": "TIAMM6IYekZ2"
      },
      "source": [
        "filtering_train_df['split_train_token'] = ['<esp> ' + i.strip().replace('&&', ' <esp> ') + ' <esp>' for i in filtering_train_df['train']]\n",
        "filtering_train_df['split_label_token'] = ['<esp> ' + i.strip() + ' <esp>' for i in filtering_train_df['label']]"
      ],
      "execution_count": null,
      "outputs": []
    },
    {
      "cell_type": "code",
      "metadata": {
        "colab": {
          "base_uri": "https://localhost:8080/",
          "height": 204
        },
        "id": "grUN5n41gX2W",
        "outputId": "4de2cfbb-1a01-4a5f-f202-41b7e8ae6f1f"
      },
      "source": [
        "filtering_train_df.head()"
      ],
      "execution_count": null,
      "outputs": [
        {
          "output_type": "execute_result",
          "data": {
            "text/html": [
              "<div>\n",
              "<style scoped>\n",
              "    .dataframe tbody tr th:only-of-type {\n",
              "        vertical-align: middle;\n",
              "    }\n",
              "\n",
              "    .dataframe tbody tr th {\n",
              "        vertical-align: top;\n",
              "    }\n",
              "\n",
              "    .dataframe thead th {\n",
              "        text-align: right;\n",
              "    }\n",
              "</style>\n",
              "<table border=\"1\" class=\"dataframe\">\n",
              "  <thead>\n",
              "    <tr style=\"text-align: right;\">\n",
              "      <th></th>\n",
              "      <th>train</th>\n",
              "      <th>label</th>\n",
              "      <th>token_len</th>\n",
              "      <th>token_len_cate</th>\n",
              "      <th>split_train_token</th>\n",
              "      <th>split_label_token</th>\n",
              "    </tr>\n",
              "  </thead>\n",
              "  <tbody>\n",
              "    <tr>\n",
              "      <th>0</th>\n",
              "      <td>JUMBO BAG RED WHITE SPOTTY&amp;&amp;JUMBO BAG PINK WIT...</td>\n",
              "      <td>LUNCH BAG PINK RETROSPOT</td>\n",
              "      <td>20</td>\n",
              "      <td>0:100</td>\n",
              "      <td>&lt;esp&gt; JUMBO BAG RED WHITE SPOTTY &lt;esp&gt; JUMBO B...</td>\n",
              "      <td>&lt;esp&gt; LUNCH BAG PINK RETROSPOT &lt;esp&gt;</td>\n",
              "    </tr>\n",
              "    <tr>\n",
              "      <th>1</th>\n",
              "      <td>PLEASE ONE PERSON METAL SIGN&amp;&amp;NATURAL SLATE HE...</td>\n",
              "      <td>NATURAL SLATE CHALKBOARD LARGE</td>\n",
              "      <td>19</td>\n",
              "      <td>0:100</td>\n",
              "      <td>&lt;esp&gt; PLEASE ONE PERSON METAL SIGN &lt;esp&gt; NATUR...</td>\n",
              "      <td>&lt;esp&gt; NATURAL SLATE CHALKBOARD LARGE &lt;esp&gt;</td>\n",
              "    </tr>\n",
              "    <tr>\n",
              "      <th>2</th>\n",
              "      <td>JUMBO BAG WOODLAND ANIMALS&amp;&amp;STRAWBERRY CANDY B...</td>\n",
              "      <td>WOODLAND CHARLOTTE BAG</td>\n",
              "      <td>13</td>\n",
              "      <td>0:100</td>\n",
              "      <td>&lt;esp&gt; JUMBO BAG WOODLAND ANIMALS &lt;esp&gt; STRAWBE...</td>\n",
              "      <td>&lt;esp&gt; WOODLAND CHARLOTTE BAG &lt;esp&gt;</td>\n",
              "    </tr>\n",
              "    <tr>\n",
              "      <th>3</th>\n",
              "      <td>PINK DOUGHNUT TRINKET POT&amp;&amp;VINTAGE HEADS AND T...</td>\n",
              "      <td>COFFEE MUG BLUE PAISLEY DESIGN</td>\n",
              "      <td>20</td>\n",
              "      <td>0:100</td>\n",
              "      <td>&lt;esp&gt; PINK DOUGHNUT TRINKET POT &lt;esp&gt; VINTAGE ...</td>\n",
              "      <td>&lt;esp&gt; COFFEE MUG BLUE PAISLEY DESIGN &lt;esp&gt;</td>\n",
              "    </tr>\n",
              "    <tr>\n",
              "      <th>4</th>\n",
              "      <td>3D HEARTS  HONEYCOMB PAPER GARLAND&amp;&amp;SPOTTY  HO...</td>\n",
              "      <td>ORIENTAL BLUE C/COVER</td>\n",
              "      <td>23</td>\n",
              "      <td>0:100</td>\n",
              "      <td>&lt;esp&gt; 3D HEARTS  HONEYCOMB PAPER GARLAND &lt;esp&gt;...</td>\n",
              "      <td>&lt;esp&gt; ORIENTAL BLUE C/COVER &lt;esp&gt;</td>\n",
              "    </tr>\n",
              "  </tbody>\n",
              "</table>\n",
              "</div>"
            ],
            "text/plain": [
              "                                               train  ...                           split_label_token\n",
              "0  JUMBO BAG RED WHITE SPOTTY&&JUMBO BAG PINK WIT...  ...        <esp> LUNCH BAG PINK RETROSPOT <esp>\n",
              "1  PLEASE ONE PERSON METAL SIGN&&NATURAL SLATE HE...  ...  <esp> NATURAL SLATE CHALKBOARD LARGE <esp>\n",
              "2  JUMBO BAG WOODLAND ANIMALS&&STRAWBERRY CANDY B...  ...          <esp> WOODLAND CHARLOTTE BAG <esp>\n",
              "3  PINK DOUGHNUT TRINKET POT&&VINTAGE HEADS AND T...  ...  <esp> COFFEE MUG BLUE PAISLEY DESIGN <esp>\n",
              "4  3D HEARTS  HONEYCOMB PAPER GARLAND&&SPOTTY  HO...  ...           <esp> ORIENTAL BLUE C/COVER <esp>\n",
              "\n",
              "[5 rows x 6 columns]"
            ]
          },
          "metadata": {
            "tags": []
          },
          "execution_count": 5
        }
      ]
    },
    {
      "cell_type": "code",
      "metadata": {
        "id": "7y5o1x06Y3Qh"
      },
      "source": [
        "MAX_LENGTH = 128"
      ],
      "execution_count": null,
      "outputs": []
    },
    {
      "cell_type": "code",
      "metadata": {
        "id": "9HrRaQMinZ0H"
      },
      "source": [
        "tokenizer = tfds.deprecated.text.SubwordTextEncoder.build_from_corpus(filtering_train_df['split_train_token'] + filtering_train_df['split_label_token'], target_vocab_size=2**13)"
      ],
      "execution_count": null,
      "outputs": []
    },
    {
      "cell_type": "code",
      "metadata": {
        "id": "yNc2-ElvnZ7l"
      },
      "source": [
        "START_TOKEN, END_TOKEN = [tokenizer.vocab_size], [tokenizer.vocab_size + 1]\n",
        "VOCAB_SIZE = tokenizer.vocab_size + 2"
      ],
      "execution_count": null,
      "outputs": []
    },
    {
      "cell_type": "code",
      "metadata": {
        "colab": {
          "base_uri": "https://localhost:8080/"
        },
        "id": "4XNjMLlYnZ9h",
        "outputId": "b35e1a4a-4c92-4b06-9c63-553a2bb328fb"
      },
      "source": [
        "print('시작 토큰 번호 :',START_TOKEN)\n",
        "print('종료 토큰 번호 :',END_TOKEN)\n",
        "print('단어 집합의 크기 :',VOCAB_SIZE)"
      ],
      "execution_count": null,
      "outputs": [
        {
          "output_type": "stream",
          "text": [
            "시작 토큰 번호 : [2717]\n",
            "종료 토큰 번호 : [2718]\n",
            "단어 집합의 크기 : 2719\n"
          ],
          "name": "stdout"
        }
      ]
    },
    {
      "cell_type": "code",
      "metadata": {
        "id": "FyU2LyVcnZ_u"
      },
      "source": [
        "def tokenize_and_filter(inputs, outputs):\n",
        "  tokenized_inputs, tokenized_outputs = [], []\n",
        "\n",
        "  for (sentence1, sentence2) in zip(inputs, outputs):\n",
        "    sentence1 = START_TOKEN + tokenizer.encode(sentence1) + END_TOKEN\n",
        "    sentence2 = START_TOKEN + tokenizer.encode(sentence2) + END_TOKEN\n",
        "\n",
        "    tokenized_inputs.append(sentence1)\n",
        "    tokenized_outputs.append(sentence2)\n",
        "\n",
        "  tokenized_inputs = tf.keras.preprocessing.sequence.pad_sequences(\n",
        "      tokenized_inputs, maxlen=MAX_LENGTH, padding='post')\n",
        "  tokenized_outputs = tf.keras.preprocessing.sequence.pad_sequences(\n",
        "      tokenized_outputs, maxlen=MAX_LENGTH, padding='post')\n",
        "\n",
        "  return tokenized_inputs, tokenized_outputs"
      ],
      "execution_count": null,
      "outputs": []
    },
    {
      "cell_type": "code",
      "metadata": {
        "id": "vGD78-kOL_wk"
      },
      "source": [
        "train_token, label_token = tokenize_and_filter(filtering_train_df['split_train_token'], filtering_train_df['split_label_token'])"
      ],
      "execution_count": null,
      "outputs": []
    },
    {
      "cell_type": "code",
      "metadata": {
        "colab": {
          "base_uri": "https://localhost:8080/"
        },
        "id": "MNW0IgXRMYfD",
        "outputId": "60e0c024-24bd-407a-a6ac-5cb4fa22f03b"
      },
      "source": [
        "print('질문 데이터의 크기(shape) :', train_token.shape)\n",
        "print('답변 데이터의 크기(shape) :', label_token.shape)"
      ],
      "execution_count": null,
      "outputs": [
        {
          "output_type": "stream",
          "text": [
            "질문 데이터의 크기(shape) : (56964, 128)\n",
            "답변 데이터의 크기(shape) : (56964, 128)\n"
          ],
          "name": "stdout"
        }
      ]
    },
    {
      "cell_type": "markdown",
      "metadata": {
        "id": "PHi5hUkwF6NG"
      },
      "source": [
        "#### GPU 작동 확인"
      ]
    },
    {
      "cell_type": "code",
      "metadata": {
        "colab": {
          "base_uri": "https://localhost:8080/"
        },
        "id": "bMTEg_x0F5wr",
        "outputId": "f8d350b5-4092-44aa-82f5-755abbcc2ab9"
      },
      "source": [
        "tf.test.is_gpu_available()"
      ],
      "execution_count": null,
      "outputs": [
        {
          "output_type": "stream",
          "text": [
            "WARNING:tensorflow:From <ipython-input-13-17bb7203622b>:1: is_gpu_available (from tensorflow.python.framework.test_util) is deprecated and will be removed in a future version.\n",
            "Instructions for updating:\n",
            "Use `tf.config.list_physical_devices('GPU')` instead.\n"
          ],
          "name": "stdout"
        },
        {
          "output_type": "stream",
          "text": [
            "WARNING:tensorflow:From <ipython-input-13-17bb7203622b>:1: is_gpu_available (from tensorflow.python.framework.test_util) is deprecated and will be removed in a future version.\n",
            "Instructions for updating:\n",
            "Use `tf.config.list_physical_devices('GPU')` instead.\n"
          ],
          "name": "stderr"
        },
        {
          "output_type": "execute_result",
          "data": {
            "text/plain": [
              "True"
            ]
          },
          "metadata": {
            "tags": []
          },
          "execution_count": 13
        }
      ]
    },
    {
      "cell_type": "code",
      "metadata": {
        "colab": {
          "base_uri": "https://localhost:8080/",
          "height": 34
        },
        "id": "4T3tWOLGGDgI",
        "outputId": "5688933d-afce-4b22-b613-e9f7613075ae"
      },
      "source": [
        "tf.test.gpu_device_name()"
      ],
      "execution_count": null,
      "outputs": [
        {
          "output_type": "execute_result",
          "data": {
            "application/vnd.google.colaboratory.intrinsic+json": {
              "type": "string"
            },
            "text/plain": [
              "'/device:GPU:0'"
            ]
          },
          "metadata": {
            "tags": []
          },
          "execution_count": 14
        }
      ]
    },
    {
      "cell_type": "code",
      "metadata": {
        "colab": {
          "base_uri": "https://localhost:8080/"
        },
        "id": "cb_xqSUBw5TI",
        "outputId": "6f83eba0-de73-4bfc-af68-dcff217e3af9"
      },
      "source": [
        "!nvidia-smi"
      ],
      "execution_count": null,
      "outputs": [
        {
          "output_type": "stream",
          "text": [
            "Thu May 20 06:00:26 2021       \n",
            "+-----------------------------------------------------------------------------+\n",
            "| NVIDIA-SMI 465.19.01    Driver Version: 460.32.03    CUDA Version: 11.2     |\n",
            "|-------------------------------+----------------------+----------------------+\n",
            "| GPU  Name        Persistence-M| Bus-Id        Disp.A | Volatile Uncorr. ECC |\n",
            "| Fan  Temp  Perf  Pwr:Usage/Cap|         Memory-Usage | GPU-Util  Compute M. |\n",
            "|                               |                      |               MIG M. |\n",
            "|===============================+======================+======================|\n",
            "|   0  Tesla T4            Off  | 00000000:00:04.0 Off |                    0 |\n",
            "| N/A   57C    P0    29W /  70W |    222MiB / 15109MiB |      0%      Default |\n",
            "|                               |                      |                  N/A |\n",
            "+-------------------------------+----------------------+----------------------+\n",
            "                                                                               \n",
            "+-----------------------------------------------------------------------------+\n",
            "| Processes:                                                                  |\n",
            "|  GPU   GI   CI        PID   Type   Process name                  GPU Memory |\n",
            "|        ID   ID                                                   Usage      |\n",
            "|=============================================================================|\n",
            "+-----------------------------------------------------------------------------+\n"
          ],
          "name": "stdout"
        }
      ]
    },
    {
      "cell_type": "markdown",
      "metadata": {
        "id": "Wo4OnGGzGAGz"
      },
      "source": [
        "#### 학습"
      ]
    },
    {
      "cell_type": "code",
      "metadata": {
        "id": "NmbnOw_YTj04"
      },
      "source": [
        "# 텐서플로우 dataset을 이용하여 셔플(shuffle)을 수행하되, 배치 크기로 데이터를 묶는다.\n",
        "# 또한 이 과정에서 교사 강요(teacher forcing)을 사용하기 위해서 디코더의 입력과 실제값 시퀀스를 구성한다.\n",
        "BATCH_SIZE = 256\n",
        "BUFFER_SIZE = 20000\n",
        "\n",
        "# 디코더의 실제값 시퀀스에서는 시작 토큰을 제거해야 한다.\n",
        "dataset = tf.data.Dataset.from_tensor_slices((\n",
        "    {\n",
        "        'inputs': train_token,\n",
        "        'dec_inputs': label_token[:, :-1] # 디코더의 입력. 마지막 패딩 토큰이 제거된다.\n",
        "    },\n",
        "    {\n",
        "        'outputs': label_token[:, 1:]  # 맨 처음 토큰이 제거된다. 다시 말해 시작 토큰이 제거된다.\n",
        "    },\n",
        "))\n",
        "\n",
        "dataset = dataset.cache()\n",
        "dataset = dataset.shuffle(BUFFER_SIZE)\n",
        "dataset = dataset.batch(BATCH_SIZE)\n",
        "dataset = dataset.prefetch(tf.data.experimental.AUTOTUNE)"
      ],
      "execution_count": null,
      "outputs": []
    },
    {
      "cell_type": "code",
      "metadata": {
        "id": "U2MT1lyXKzzg"
      },
      "source": [
        "def scaled_dot_product_attention(query, key, value, mask):\n",
        "  \"\"\"Calculate the attention weights. \"\"\"\n",
        "  matmul_qk = tf.matmul(query, key, transpose_b=True)\n",
        "\n",
        "  # scale matmul_qk\n",
        "  depth = tf.cast(tf.shape(key)[-1], tf.float32)\n",
        "  logits = matmul_qk / tf.math.sqrt(depth)\n",
        "\n",
        "  # add the mask to zero out padding tokens\n",
        "  if mask is not None:\n",
        "    logits += (mask * -1e9)\n",
        "\n",
        "  # softmax is normalized on the last axis (seq_len_k)\n",
        "  attention_weights = tf.nn.softmax(logits, axis=-1)\n",
        "\n",
        "  output = tf.matmul(attention_weights, value)\n",
        "\n",
        "  return output\n",
        "\n",
        "class MultiHeadAttention(tf.keras.layers.Layer):\n",
        "\n",
        "  def __init__(self, d_model, num_heads, name=\"multi_head_attention\"):\n",
        "    super(MultiHeadAttention, self).__init__(name=name)\n",
        "    self.num_heads = num_heads\n",
        "    self.d_model = d_model\n",
        "\n",
        "    assert d_model % self.num_heads == 0\n",
        "\n",
        "    self.depth = d_model // self.num_heads\n",
        "\n",
        "    self.query_dense = tf.keras.layers.Dense(units=d_model)\n",
        "    self.key_dense = tf.keras.layers.Dense(units=d_model)\n",
        "    self.value_dense = tf.keras.layers.Dense(units=d_model)\n",
        "\n",
        "    self.dense = tf.keras.layers.Dense(units=d_model)\n",
        "\n",
        "  def split_heads(self, inputs, batch_size):\n",
        "    inputs = tf.reshape(\n",
        "        inputs, shape=(batch_size, -1, self.num_heads, self.depth))\n",
        "    return tf.transpose(inputs, perm=[0, 2, 1, 3])\n",
        "\n",
        "  def call(self, inputs):\n",
        "    query, key, value, mask = inputs['query'], inputs['key'], inputs[\n",
        "        'value'], inputs['mask']\n",
        "    batch_size = tf.shape(query)[0]\n",
        "\n",
        "    # linear layers\n",
        "    query = self.query_dense(query)\n",
        "    key = self.key_dense(key)\n",
        "    value = self.value_dense(value)\n",
        "\n",
        "    # split heads\n",
        "    query = self.split_heads(query, batch_size)\n",
        "    key = self.split_heads(key, batch_size)\n",
        "    value = self.split_heads(value, batch_size)\n",
        "\n",
        "    # scaled dot-product attention\n",
        "    scaled_attention = scaled_dot_product_attention(query, key, value, mask)\n",
        "\n",
        "    scaled_attention = tf.transpose(scaled_attention, perm=[0, 2, 1, 3])\n",
        "\n",
        "    # concatenation of heads\n",
        "    concat_attention = tf.reshape(scaled_attention,\n",
        "                                  (batch_size, -1, self.d_model))\n",
        "\n",
        "    # final linear layer\n",
        "    outputs = self.dense(concat_attention)\n",
        "\n",
        "    return outputs\n",
        "\n",
        "def create_padding_mask(x):\n",
        "  mask = tf.cast(tf.math.equal(x, 0), tf.float32)\n",
        "  # (batch_size, 1, 1, sequence length)\n",
        "  return mask[:, tf.newaxis, tf.newaxis, :]\n",
        "\n",
        "def create_look_ahead_mask(x):\n",
        "  seq_len = tf.shape(x)[1]\n",
        "  look_ahead_mask = 1 - tf.linalg.band_part(tf.ones((seq_len, seq_len)), -1, 0)\n",
        "  padding_mask = create_padding_mask(x)\n",
        "  return tf.maximum(look_ahead_mask, padding_mask)\n",
        "\n",
        "class PositionalEncoding(tf.keras.layers.Layer):\n",
        "\n",
        "  def __init__(self, position, d_model):\n",
        "    super(PositionalEncoding, self).__init__()\n",
        "    self.pos_encoding = self.positional_encoding(position, d_model)\n",
        "\n",
        "  def get_angles(self, position, i, d_model):\n",
        "    angles = 1 / tf.pow(10000, (2 * (i // 2)) / tf.cast(d_model, tf.float32))\n",
        "    return position * angles\n",
        "\n",
        "  def positional_encoding(self, position, d_model):\n",
        "    angle_rads = self.get_angles(\n",
        "        position=tf.range(position, dtype=tf.float32)[:, tf.newaxis],\n",
        "        i=tf.range(d_model, dtype=tf.float32)[tf.newaxis, :],\n",
        "        d_model=d_model)\n",
        "    # apply sin to even index in the array\n",
        "    sines = tf.math.sin(angle_rads[:, 0::2])\n",
        "    # apply cos to odd index in the array\n",
        "    cosines = tf.math.cos(angle_rads[:, 1::2])\n",
        "\n",
        "    pos_encoding = tf.concat([sines, cosines], axis=-1)\n",
        "    pos_encoding = pos_encoding[tf.newaxis, ...]\n",
        "    return tf.cast(pos_encoding, tf.float32)\n",
        "\n",
        "  def call(self, inputs):\n",
        "    return inputs + self.pos_encoding[:, :tf.shape(inputs)[1], :]\n",
        "\n",
        "def encoder_layer(units, d_model, num_heads, dropout, name=\"encoder_layer\"):\n",
        "  inputs = tf.keras.Input(shape=(None, d_model), name=\"inputs\")\n",
        "  padding_mask = tf.keras.Input(shape=(1, 1, None), name=\"padding_mask\")\n",
        "\n",
        "  attention = MultiHeadAttention(\n",
        "      d_model, num_heads, name=\"attention\")({\n",
        "          'query': inputs,\n",
        "          'key': inputs,\n",
        "          'value': inputs,\n",
        "          'mask': padding_mask\n",
        "      })\n",
        "  attention = tf.keras.layers.Dropout(rate=dropout)(attention)\n",
        "  attention = tf.keras.layers.LayerNormalization(\n",
        "      epsilon=1e-6)(inputs + attention)\n",
        "\n",
        "  outputs = tf.keras.layers.Dense(units=units, activation='relu')(attention)\n",
        "  outputs = tf.keras.layers.Dense(units=d_model)(outputs)\n",
        "  outputs = tf.keras.layers.Dropout(rate=dropout)(outputs)\n",
        "  outputs = tf.keras.layers.LayerNormalization(\n",
        "      epsilon=1e-6)(attention + outputs)\n",
        "\n",
        "  return tf.keras.Model(\n",
        "      inputs=[inputs, padding_mask], outputs=outputs, name=name)\n",
        "  \n",
        "def encoder(vocab_size,\n",
        "            num_layers,\n",
        "            units,\n",
        "            d_model,\n",
        "            num_heads,\n",
        "            dropout,\n",
        "            name=\"encoder\"):\n",
        "  inputs = tf.keras.Input(shape=(None,), name=\"inputs\")\n",
        "  padding_mask = tf.keras.Input(shape=(1, 1, None), name=\"padding_mask\")\n",
        "\n",
        "  embeddings = tf.keras.layers.Embedding(vocab_size, d_model)(inputs)\n",
        "  embeddings *= tf.math.sqrt(tf.cast(d_model, tf.float32))\n",
        "  embeddings = PositionalEncoding(vocab_size, d_model)(embeddings)\n",
        "\n",
        "  outputs = tf.keras.layers.Dropout(rate=dropout)(embeddings)\n",
        "\n",
        "  for i in range(num_layers):\n",
        "    outputs = encoder_layer(\n",
        "        units=units,\n",
        "        d_model=d_model,\n",
        "        num_heads=num_heads,\n",
        "        dropout=dropout,\n",
        "        name=\"encoder_layer_{}\".format(i),\n",
        "    )([outputs, padding_mask])\n",
        "\n",
        "  return tf.keras.Model(\n",
        "      inputs=[inputs, padding_mask], outputs=outputs, name=name)\n",
        "  \n",
        "def decoder_layer(units, d_model, num_heads, dropout, name=\"decoder_layer\"):\n",
        "  inputs = tf.keras.Input(shape=(None, d_model), name=\"inputs\")\n",
        "  enc_outputs = tf.keras.Input(shape=(None, d_model), name=\"encoder_outputs\")\n",
        "  look_ahead_mask = tf.keras.Input(\n",
        "      shape=(1, None, None), name=\"look_ahead_mask\")\n",
        "  padding_mask = tf.keras.Input(shape=(1, 1, None), name='padding_mask')\n",
        "\n",
        "  attention1 = MultiHeadAttention(\n",
        "      d_model, num_heads, name=\"attention_1\")(inputs={\n",
        "          'query': inputs,\n",
        "          'key': inputs,\n",
        "          'value': inputs,\n",
        "          'mask': look_ahead_mask\n",
        "      })\n",
        "  attention1 = tf.keras.layers.LayerNormalization(\n",
        "      epsilon=1e-6)(attention1 + inputs)\n",
        "\n",
        "  attention2 = MultiHeadAttention(\n",
        "      d_model, num_heads, name=\"attention_2\")(inputs={\n",
        "          'query': attention1,\n",
        "          'key': enc_outputs,\n",
        "          'value': enc_outputs,\n",
        "          'mask': padding_mask\n",
        "      })\n",
        "  attention2 = tf.keras.layers.Dropout(rate=dropout)(attention2)\n",
        "  attention2 = tf.keras.layers.LayerNormalization(\n",
        "      epsilon=1e-6)(attention2 + attention1)\n",
        "\n",
        "  outputs = tf.keras.layers.Dense(units=units, activation='relu')(attention2)\n",
        "  outputs = tf.keras.layers.Dense(units=d_model)(outputs)\n",
        "  outputs = tf.keras.layers.Dropout(rate=dropout)(outputs)\n",
        "  outputs = tf.keras.layers.LayerNormalization(\n",
        "      epsilon=1e-6)(outputs + attention2)\n",
        "\n",
        "  return tf.keras.Model(\n",
        "      inputs=[inputs, enc_outputs, look_ahead_mask, padding_mask],\n",
        "      outputs=outputs,\n",
        "      name=name)\n",
        "  \n",
        "def decoder(vocab_size,\n",
        "            num_layers,\n",
        "            units,\n",
        "            d_model,\n",
        "            num_heads,\n",
        "            dropout,\n",
        "            name='decoder'):\n",
        "  inputs = tf.keras.Input(shape=(None,), name='inputs')\n",
        "  enc_outputs = tf.keras.Input(shape=(None, d_model), name='encoder_outputs')\n",
        "  look_ahead_mask = tf.keras.Input(\n",
        "      shape=(1, None, None), name='look_ahead_mask')\n",
        "  padding_mask = tf.keras.Input(shape=(1, 1, None), name='padding_mask')\n",
        "  \n",
        "  embeddings = tf.keras.layers.Embedding(vocab_size, d_model)(inputs)\n",
        "  embeddings *= tf.math.sqrt(tf.cast(d_model, tf.float32))\n",
        "  embeddings = PositionalEncoding(vocab_size, d_model)(embeddings)\n",
        "\n",
        "  outputs = tf.keras.layers.Dropout(rate=dropout)(embeddings)\n",
        "\n",
        "  for i in range(num_layers):\n",
        "    outputs = decoder_layer(\n",
        "        units=units,\n",
        "        d_model=d_model,\n",
        "        num_heads=num_heads,\n",
        "        dropout=dropout,\n",
        "        name='decoder_layer_{}'.format(i),\n",
        "    )(inputs=[outputs, enc_outputs, look_ahead_mask, padding_mask])\n",
        "\n",
        "  return tf.keras.Model(\n",
        "      inputs=[inputs, enc_outputs, look_ahead_mask, padding_mask],\n",
        "      outputs=outputs,\n",
        "      name=name)\n",
        "  \n",
        "def transformer(vocab_size,\n",
        "                num_layers,\n",
        "                units,\n",
        "                d_model,\n",
        "                num_heads,\n",
        "                dropout,\n",
        "                name=\"transformer\"):\n",
        "  inputs = tf.keras.Input(shape=(None,), name=\"inputs\")\n",
        "  dec_inputs = tf.keras.Input(shape=(None,), name=\"dec_inputs\")\n",
        "\n",
        "  enc_padding_mask = tf.keras.layers.Lambda(\n",
        "      create_padding_mask, output_shape=(1, 1, None),\n",
        "      name='enc_padding_mask')(inputs)\n",
        "  # mask the future tokens for decoder inputs at the 1st attention block\n",
        "  look_ahead_mask = tf.keras.layers.Lambda(\n",
        "      create_look_ahead_mask,\n",
        "      output_shape=(1, None, None),\n",
        "      name='look_ahead_mask')(dec_inputs)\n",
        "  # mask the encoder outputs for the 2nd attention block\n",
        "  dec_padding_mask = tf.keras.layers.Lambda(\n",
        "      create_padding_mask, output_shape=(1, 1, None),\n",
        "      name='dec_padding_mask')(inputs)\n",
        "\n",
        "  enc_outputs = encoder(\n",
        "      vocab_size=vocab_size,\n",
        "      num_layers=num_layers,\n",
        "      units=units,\n",
        "      d_model=d_model,\n",
        "      num_heads=num_heads,\n",
        "      dropout=dropout,\n",
        "  )(inputs=[inputs, enc_padding_mask])\n",
        "\n",
        "  dec_outputs = decoder(\n",
        "      vocab_size=vocab_size,\n",
        "      num_layers=num_layers,\n",
        "      units=units,\n",
        "      d_model=d_model,\n",
        "      num_heads=num_heads,\n",
        "      dropout=dropout,\n",
        "  )(inputs=[dec_inputs, enc_outputs, look_ahead_mask, dec_padding_mask])\n",
        "\n",
        "  outputs = tf.keras.layers.Dense(units=vocab_size, name=\"outputs\")(dec_outputs)\n",
        "\n",
        "  return tf.keras.Model(inputs=[inputs, dec_inputs], outputs=outputs, name=name)"
      ],
      "execution_count": null,
      "outputs": []
    },
    {
      "cell_type": "code",
      "metadata": {
        "id": "d4kPBiQkLF8B"
      },
      "source": [
        "tf.keras.backend.clear_session()\n",
        "\n",
        "# Hyper-parameters\n",
        "\n",
        "# NUM_LAYERS = 2\n",
        "NUM_LAYERS = 1\n",
        "D_MODEL = 128\n",
        "NUM_HEADS = 4\n",
        "UNITS = 256\n",
        "DROPOUT = 0.2\n",
        "\n",
        "\n",
        "model = transformer(\n",
        "    vocab_size=VOCAB_SIZE,\n",
        "    num_layers=NUM_LAYERS,\n",
        "    units=UNITS,\n",
        "    d_model=D_MODEL,\n",
        "    num_heads=NUM_HEADS,\n",
        "    dropout=DROPOUT)"
      ],
      "execution_count": null,
      "outputs": []
    },
    {
      "cell_type": "code",
      "metadata": {
        "id": "WaxW16nJLK9E"
      },
      "source": [
        "def loss_function(y_true, y_pred):\n",
        "  y_true = tf.reshape(y_true, shape=(-1, MAX_LENGTH - 1))\n",
        "  \n",
        "  loss = tf.keras.losses.SparseCategoricalCrossentropy(\n",
        "      from_logits=True, reduction='none')(y_true, y_pred)\n",
        "\n",
        "  mask = tf.cast(tf.not_equal(y_true, 0), tf.float32)\n",
        "  loss = tf.multiply(loss, mask)\n",
        "\n",
        "  return tf.reduce_mean(loss)"
      ],
      "execution_count": null,
      "outputs": []
    },
    {
      "cell_type": "code",
      "metadata": {
        "id": "5rMmAF6jLONf"
      },
      "source": [
        "class CustomSchedule(tf.keras.optimizers.schedules.LearningRateSchedule):\n",
        "\n",
        "  def __init__(self, d_model, warmup_steps=4000):\n",
        "    super(CustomSchedule, self).__init__()\n",
        "\n",
        "    self.d_model = d_model\n",
        "    self.d_model = tf.cast(self.d_model, tf.float32)\n",
        "\n",
        "    self.warmup_steps = warmup_steps\n",
        "\n",
        "  def __call__(self, step):\n",
        "    arg1 = tf.math.rsqrt(step)\n",
        "    arg2 = step * (self.warmup_steps**-1.5)\n",
        "\n",
        "    return tf.math.rsqrt(self.d_model) * tf.math.minimum(arg1, arg2)"
      ],
      "execution_count": null,
      "outputs": []
    },
    {
      "cell_type": "code",
      "metadata": {
        "id": "9XDXvuc8Tj6J"
      },
      "source": [
        "learning_rate = CustomSchedule(D_MODEL)\n",
        "\n",
        "optimizer = tf.keras.optimizers.Adam(\n",
        "    learning_rate, beta_1=0.9, beta_2=0.98, epsilon=1e-9)\n",
        "\n",
        "def accuracy(y_true, y_pred):\n",
        "  # ensure labels have shape (batch_size, MAX_LENGTH - 1)\n",
        "  y_true = tf.reshape(y_true, shape=(-1, MAX_LENGTH - 1))\n",
        "  return tf.keras.metrics.sparse_categorical_accuracy(y_true, y_pred)\n",
        "\n",
        "model.compile(optimizer=optimizer, loss=loss_function, metrics=[accuracy])"
      ],
      "execution_count": null,
      "outputs": []
    },
    {
      "cell_type": "code",
      "metadata": {
        "id": "Udey1pWqABXR"
      },
      "source": [
        "EPOCHS = 10"
      ],
      "execution_count": null,
      "outputs": []
    },
    {
      "cell_type": "code",
      "metadata": {
        "colab": {
          "base_uri": "https://localhost:8080/"
        },
        "id": "AVHbISTxTj8d",
        "outputId": "b96ed21e-6485-4e8b-b249-eec8f2058ef8"
      },
      "source": [
        "model.fit(dataset, epochs=EPOCHS)"
      ],
      "execution_count": null,
      "outputs": [
        {
          "output_type": "stream",
          "text": [
            "Epoch 1/10\n",
            "223/223 [==============================] - 75s 305ms/step - loss: 0.7036 - accuracy: 0.0051\n",
            "Epoch 2/10\n",
            "223/223 [==============================] - 68s 304ms/step - loss: 0.4545 - accuracy: 0.0479\n",
            "Epoch 3/10\n",
            "223/223 [==============================] - 68s 304ms/step - loss: 0.2399 - accuracy: 0.0575\n",
            "Epoch 4/10\n",
            "223/223 [==============================] - 68s 304ms/step - loss: 0.1638 - accuracy: 0.0658\n",
            "Epoch 5/10\n",
            "223/223 [==============================] - 68s 304ms/step - loss: 0.1215 - accuracy: 0.0706\n",
            "Epoch 6/10\n",
            "223/223 [==============================] - 68s 303ms/step - loss: 0.0946 - accuracy: 0.0742\n",
            "Epoch 7/10\n",
            "223/223 [==============================] - 68s 303ms/step - loss: 0.0787 - accuracy: 0.0764\n",
            "Epoch 8/10\n",
            "223/223 [==============================] - 68s 303ms/step - loss: 0.0693 - accuracy: 0.0776\n",
            "Epoch 9/10\n",
            "223/223 [==============================] - 67s 302ms/step - loss: 0.0641 - accuracy: 0.0782\n",
            "Epoch 10/10\n",
            "223/223 [==============================] - 68s 303ms/step - loss: 0.0609 - accuracy: 0.0787\n"
          ],
          "name": "stdout"
        },
        {
          "output_type": "execute_result",
          "data": {
            "text/plain": [
              "<tensorflow.python.keras.callbacks.History at 0x7f67804da7d0>"
            ]
          },
          "metadata": {
            "tags": []
          },
          "execution_count": 30
        }
      ]
    },
    {
      "cell_type": "code",
      "metadata": {
        "id": "ctgBKzffNI58"
      },
      "source": [
        "model.save_weights(path+f'e-commerce_to_instacart_{EPOCHS}_weights_layers_{NUM_LAYERS}')"
      ],
      "execution_count": null,
      "outputs": []
    },
    {
      "cell_type": "code",
      "metadata": {
        "id": "vR-vDKccX0Xa",
        "colab": {
          "base_uri": "https://localhost:8080/"
        },
        "outputId": "725c99f1-0262-476d-e836-1abeb0539b24"
      },
      "source": [
        "model.load_weights(path+f'e-commerce_to_instacart_{EPOCHS}_weights_layers_{NUM_LAYERS}')"
      ],
      "execution_count": null,
      "outputs": [
        {
          "output_type": "execute_result",
          "data": {
            "text/plain": [
              "<tensorflow.python.training.tracking.util.CheckpointLoadStatus at 0x7f7e14283ed0>"
            ]
          },
          "metadata": {
            "tags": []
          },
          "execution_count": 23
        }
      ]
    },
    {
      "cell_type": "code",
      "metadata": {
        "id": "Qvgs4Pf4TkEC"
      },
      "source": [
        "def evaluate(sentence):\n",
        "  sentence = preprocess_sentence(sentence)\n",
        "\n",
        "  sentence = tf.expand_dims(\n",
        "      START_TOKEN + tokenizer.encode(sentence) + END_TOKEN, axis=0)\n",
        "\n",
        "  output = tf.expand_dims(START_TOKEN, 0)\n",
        "\n",
        "  # 디코더의 예측 시작\n",
        "  for i in range(MAX_LENGTH):\n",
        "    predictions = model(inputs=[sentence, output], training=False)\n",
        "\n",
        "    # 현재(마지막) 시점의 예측 단어를 받아온다.\n",
        "    predictions = predictions[:, -1:, :]\n",
        "    predicted_id = tf.cast(tf.argmax(predictions, axis=-1), tf.int32)\n",
        "\n",
        "    # 만약 마지막 시점의 예측 단어가 종료 토큰이라면 예측을 중단\n",
        "    if tf.equal(predicted_id, END_TOKEN[0]):\n",
        "      break\n",
        "\n",
        "    # 마지막 시점의 예측 단어를 출력에 연결한다.\n",
        "    # 이는 for문을 통해서 디코더의 입력으로 사용될 예정이다.\n",
        "    output = tf.concat([output, predicted_id], axis=-1)\n",
        "\n",
        "  return tf.squeeze(output, axis=0)\n",
        "\n",
        "def predict(sentence):\n",
        "  prediction = evaluate(sentence)\n",
        "\n",
        "  predicted_sentence = tokenizer.decode(\n",
        "      [i for i in prediction if i < tokenizer.vocab_size])\n",
        "\n",
        "#   print('Input: {}'.format(sentence))\n",
        "#   print('Output: {}'.format(predicted_sentence))\n",
        "\n",
        "  return predicted_sentence\n",
        "\n",
        "def preprocess_sentence(sentence):\n",
        "  sentence = re.sub(r\"([?.!,])\", r\" \\1 \", sentence)\n",
        "  sentence = sentence.strip()\n",
        "  return sentence"
      ],
      "execution_count": null,
      "outputs": []
    },
    {
      "cell_type": "code",
      "metadata": {
        "id": "k592OU1EY7xc",
        "colab": {
          "base_uri": "https://localhost:8080/",
          "height": 34
        },
        "outputId": "62019927-4e70-43c7-d360-6c8a4a1646ea"
      },
      "source": [
        "predict(filtering_train_df['split_label_token'][2])"
      ],
      "execution_count": null,
      "outputs": [
        {
          "output_type": "execute_result",
          "data": {
            "application/vnd.google.colaboratory.intrinsic+json": {
              "type": "string"
            },
            "text/plain": [
              "'<esp> RED SPOTTY CHARLOTTE BAG <esp>'"
            ]
          },
          "metadata": {
            "tags": []
          },
          "execution_count": 25
        }
      ]
    },
    {
      "cell_type": "code",
      "metadata": {
        "id": "Ammn_7esech4"
      },
      "source": [
        "filtering_test_df['split_train_token'] = ['<esp> ' + i.strip().replace('&&', ' <esp> ') + ' <esp>' for i in filtering_test_df['train']]\n",
        "filtering_test_df['split_label_token'] = ['<esp> ' + i.strip() + ' <esp>' for i in filtering_test_df['label']]"
      ],
      "execution_count": null,
      "outputs": []
    },
    {
      "cell_type": "code",
      "metadata": {
        "id": "3wGK8SfJfCLv",
        "colab": {
          "base_uri": "https://localhost:8080/",
          "height": 204
        },
        "outputId": "046648b8-15b4-4d90-833e-8a3fa89dde6e"
      },
      "source": [
        "filtering_test_df.pop('token_len')\n",
        "filtering_test_df.pop('token_len_cate')\n",
        "filtering_test_df.head()"
      ],
      "execution_count": null,
      "outputs": [
        {
          "output_type": "execute_result",
          "data": {
            "text/html": [
              "<div>\n",
              "<style scoped>\n",
              "    .dataframe tbody tr th:only-of-type {\n",
              "        vertical-align: middle;\n",
              "    }\n",
              "\n",
              "    .dataframe tbody tr th {\n",
              "        vertical-align: top;\n",
              "    }\n",
              "\n",
              "    .dataframe thead th {\n",
              "        text-align: right;\n",
              "    }\n",
              "</style>\n",
              "<table border=\"1\" class=\"dataframe\">\n",
              "  <thead>\n",
              "    <tr style=\"text-align: right;\">\n",
              "      <th></th>\n",
              "      <th>train</th>\n",
              "      <th>label</th>\n",
              "      <th>split_train_token</th>\n",
              "      <th>split_label_token</th>\n",
              "    </tr>\n",
              "  </thead>\n",
              "  <tbody>\n",
              "    <tr>\n",
              "      <th>0</th>\n",
              "      <td>Organic Romaine Lettuce&amp;&amp;Organic Baby Broccoli...</td>\n",
              "      <td>Organic Yukon Gold Potato</td>\n",
              "      <td>&lt;esp&gt; Organic Romaine Lettuce &lt;esp&gt; Organic Ba...</td>\n",
              "      <td>&lt;esp&gt; Organic Yukon Gold Potato &lt;esp&gt;</td>\n",
              "    </tr>\n",
              "    <tr>\n",
              "      <th>1</th>\n",
              "      <td>Organic Unsalted Butter&amp;&amp;Red Vine Tomato&amp;&amp;Orga...</td>\n",
              "      <td>Organic Half &amp; Half</td>\n",
              "      <td>&lt;esp&gt; Organic Unsalted Butter &lt;esp&gt; Red Vine T...</td>\n",
              "      <td>&lt;esp&gt; Organic Half &amp; Half &lt;esp&gt;</td>\n",
              "    </tr>\n",
              "    <tr>\n",
              "      <th>2</th>\n",
              "      <td>Swiss Rolls&amp;&amp;NUTrition Wholesome Nut Mix&amp;&amp;Rain...</td>\n",
              "      <td>Olive Oil Cooking Spray</td>\n",
              "      <td>&lt;esp&gt; Swiss Rolls &lt;esp&gt; NUTrition Wholesome Nu...</td>\n",
              "      <td>&lt;esp&gt; Olive Oil Cooking Spray &lt;esp&gt;</td>\n",
              "    </tr>\n",
              "    <tr>\n",
              "      <th>3</th>\n",
              "      <td>Organic Garlic&amp;&amp;Organic Strawberries&amp;&amp;Organic ...</td>\n",
              "      <td>Organic Large Brown Grade AA Cage Free Eggs</td>\n",
              "      <td>&lt;esp&gt; Organic Garlic &lt;esp&gt; Organic Strawberrie...</td>\n",
              "      <td>&lt;esp&gt; Organic Large Brown Grade AA Cage Free E...</td>\n",
              "    </tr>\n",
              "    <tr>\n",
              "      <th>4</th>\n",
              "      <td>Organic Avocado&amp;&amp;Banana&amp;&amp;Very Berry Flavor Spa...</td>\n",
              "      <td>Organic Spinach Bunch</td>\n",
              "      <td>&lt;esp&gt; Organic Avocado &lt;esp&gt; Banana &lt;esp&gt; Very ...</td>\n",
              "      <td>&lt;esp&gt; Organic Spinach Bunch &lt;esp&gt;</td>\n",
              "    </tr>\n",
              "  </tbody>\n",
              "</table>\n",
              "</div>"
            ],
            "text/plain": [
              "                                               train  ...                                  split_label_token\n",
              "0  Organic Romaine Lettuce&&Organic Baby Broccoli...  ...              <esp> Organic Yukon Gold Potato <esp>\n",
              "1  Organic Unsalted Butter&&Red Vine Tomato&&Orga...  ...                    <esp> Organic Half & Half <esp>\n",
              "2  Swiss Rolls&&NUTrition Wholesome Nut Mix&&Rain...  ...                <esp> Olive Oil Cooking Spray <esp>\n",
              "3  Organic Garlic&&Organic Strawberries&&Organic ...  ...  <esp> Organic Large Brown Grade AA Cage Free E...\n",
              "4  Organic Avocado&&Banana&&Very Berry Flavor Spa...  ...                  <esp> Organic Spinach Bunch <esp>\n",
              "\n",
              "[5 rows x 4 columns]"
            ]
          },
          "metadata": {
            "tags": []
          },
          "execution_count": 27
        }
      ]
    },
    {
      "cell_type": "code",
      "metadata": {
        "id": "3kA-UfGzeHIY",
        "colab": {
          "base_uri": "https://localhost:8080/"
        },
        "outputId": "1e90fae1-b347-4bbd-b818-6cfd096ec839"
      },
      "source": [
        "tqdm.tqdm.pandas()\n",
        "predict_item_test = filtering_test_df['split_train_token'].progress_apply(predict)"
      ],
      "execution_count": null,
      "outputs": [
        {
          "output_type": "stream",
          "text": [
            "/usr/local/lib/python3.7/dist-packages/tqdm/std.py:658: FutureWarning: The Panel class is removed from pandas. Accessing it from the top-level namespace will also be removed in the next version\n",
            "  from pandas import Panel\n",
            "100%|██████████| 27435/27435 [2:42:15<00:00,  2.82it/s]\n"
          ],
          "name": "stderr"
        }
      ]
    },
    {
      "cell_type": "code",
      "metadata": {
        "id": "sRmBz3pWM_DP",
        "colab": {
          "base_uri": "https://localhost:8080/",
          "height": 419
        },
        "outputId": "3be686cb-5eab-42dc-a90c-a832d22c8c94"
      },
      "source": [
        "filtering_test_df"
      ],
      "execution_count": null,
      "outputs": [
        {
          "output_type": "execute_result",
          "data": {
            "text/html": [
              "<div>\n",
              "<style scoped>\n",
              "    .dataframe tbody tr th:only-of-type {\n",
              "        vertical-align: middle;\n",
              "    }\n",
              "\n",
              "    .dataframe tbody tr th {\n",
              "        vertical-align: top;\n",
              "    }\n",
              "\n",
              "    .dataframe thead th {\n",
              "        text-align: right;\n",
              "    }\n",
              "</style>\n",
              "<table border=\"1\" class=\"dataframe\">\n",
              "  <thead>\n",
              "    <tr style=\"text-align: right;\">\n",
              "      <th></th>\n",
              "      <th>train</th>\n",
              "      <th>label</th>\n",
              "      <th>split_train_token</th>\n",
              "      <th>split_label_token</th>\n",
              "    </tr>\n",
              "  </thead>\n",
              "  <tbody>\n",
              "    <tr>\n",
              "      <th>0</th>\n",
              "      <td>Organic Romaine Lettuce&amp;&amp;Organic Baby Broccoli...</td>\n",
              "      <td>Organic Yukon Gold Potato</td>\n",
              "      <td>&lt;esp&gt; Organic Romaine Lettuce &lt;esp&gt; Organic Ba...</td>\n",
              "      <td>&lt;esp&gt; Organic Yukon Gold Potato &lt;esp&gt;</td>\n",
              "    </tr>\n",
              "    <tr>\n",
              "      <th>1</th>\n",
              "      <td>Organic Unsalted Butter&amp;&amp;Red Vine Tomato&amp;&amp;Orga...</td>\n",
              "      <td>Organic Half &amp; Half</td>\n",
              "      <td>&lt;esp&gt; Organic Unsalted Butter &lt;esp&gt; Red Vine T...</td>\n",
              "      <td>&lt;esp&gt; Organic Half &amp; Half &lt;esp&gt;</td>\n",
              "    </tr>\n",
              "    <tr>\n",
              "      <th>2</th>\n",
              "      <td>Swiss Rolls&amp;&amp;NUTrition Wholesome Nut Mix&amp;&amp;Rain...</td>\n",
              "      <td>Olive Oil Cooking Spray</td>\n",
              "      <td>&lt;esp&gt; Swiss Rolls &lt;esp&gt; NUTrition Wholesome Nu...</td>\n",
              "      <td>&lt;esp&gt; Olive Oil Cooking Spray &lt;esp&gt;</td>\n",
              "    </tr>\n",
              "    <tr>\n",
              "      <th>3</th>\n",
              "      <td>Organic Garlic&amp;&amp;Organic Strawberries&amp;&amp;Organic ...</td>\n",
              "      <td>Organic Large Brown Grade AA Cage Free Eggs</td>\n",
              "      <td>&lt;esp&gt; Organic Garlic &lt;esp&gt; Organic Strawberrie...</td>\n",
              "      <td>&lt;esp&gt; Organic Large Brown Grade AA Cage Free E...</td>\n",
              "    </tr>\n",
              "    <tr>\n",
              "      <th>4</th>\n",
              "      <td>Organic Avocado&amp;&amp;Banana&amp;&amp;Very Berry Flavor Spa...</td>\n",
              "      <td>Organic Spinach Bunch</td>\n",
              "      <td>&lt;esp&gt; Organic Avocado &lt;esp&gt; Banana &lt;esp&gt; Very ...</td>\n",
              "      <td>&lt;esp&gt; Organic Spinach Bunch &lt;esp&gt;</td>\n",
              "    </tr>\n",
              "    <tr>\n",
              "      <th>...</th>\n",
              "      <td>...</td>\n",
              "      <td>...</td>\n",
              "      <td>...</td>\n",
              "      <td>...</td>\n",
              "    </tr>\n",
              "    <tr>\n",
              "      <th>27430</th>\n",
              "      <td>Pretzels Original Thins&amp;&amp;Natural Spring Water&amp;...</td>\n",
              "      <td>Quaker Life Cinnamon Cereal</td>\n",
              "      <td>&lt;esp&gt; Pretzels Original Thins &lt;esp&gt; Natural Sp...</td>\n",
              "      <td>&lt;esp&gt; Quaker Life Cinnamon Cereal &lt;esp&gt;</td>\n",
              "    </tr>\n",
              "    <tr>\n",
              "      <th>27431</th>\n",
              "      <td>Organic YoKids Very Berry Smoothies&amp;&amp;Organic S...</td>\n",
              "      <td>Grass Fed Ground Beef</td>\n",
              "      <td>&lt;esp&gt; Organic YoKids Very Berry Smoothies &lt;esp...</td>\n",
              "      <td>&lt;esp&gt; Grass Fed Ground Beef &lt;esp&gt;</td>\n",
              "    </tr>\n",
              "    <tr>\n",
              "      <th>27432</th>\n",
              "      <td>Banana&amp;&amp;Fat Free Milk&amp;&amp;Strawberries&amp;&amp;Vanilla A...</td>\n",
              "      <td>Life Wheat + Protein Bread</td>\n",
              "      <td>&lt;esp&gt; Banana &lt;esp&gt; Fat Free Milk &lt;esp&gt; Strawbe...</td>\n",
              "      <td>&lt;esp&gt; Life Wheat + Protein Bread &lt;esp&gt;</td>\n",
              "    </tr>\n",
              "    <tr>\n",
              "      <th>27433</th>\n",
              "      <td>Hass Avocado&amp;&amp;Organic Romaine&amp;&amp;Cantaloupe&amp;&amp;Cra...</td>\n",
              "      <td>Original French Vanilla Yogurt</td>\n",
              "      <td>&lt;esp&gt; Hass Avocado &lt;esp&gt; Organic Romaine &lt;esp&gt;...</td>\n",
              "      <td>&lt;esp&gt; Original French Vanilla Yogurt &lt;esp&gt;</td>\n",
              "    </tr>\n",
              "    <tr>\n",
              "      <th>27434</th>\n",
              "      <td>Macaroni And Cheese&amp;&amp;Original Tortilla Strips&amp;...</td>\n",
              "      <td>Bag of Organic Bananas</td>\n",
              "      <td>&lt;esp&gt; Macaroni And Cheese &lt;esp&gt; Original Torti...</td>\n",
              "      <td>&lt;esp&gt; Bag of Organic Bananas &lt;esp&gt;</td>\n",
              "    </tr>\n",
              "  </tbody>\n",
              "</table>\n",
              "<p>27435 rows × 4 columns</p>\n",
              "</div>"
            ],
            "text/plain": [
              "                                                   train  ...                                  split_label_token\n",
              "0      Organic Romaine Lettuce&&Organic Baby Broccoli...  ...              <esp> Organic Yukon Gold Potato <esp>\n",
              "1      Organic Unsalted Butter&&Red Vine Tomato&&Orga...  ...                    <esp> Organic Half & Half <esp>\n",
              "2      Swiss Rolls&&NUTrition Wholesome Nut Mix&&Rain...  ...                <esp> Olive Oil Cooking Spray <esp>\n",
              "3      Organic Garlic&&Organic Strawberries&&Organic ...  ...  <esp> Organic Large Brown Grade AA Cage Free E...\n",
              "4      Organic Avocado&&Banana&&Very Berry Flavor Spa...  ...                  <esp> Organic Spinach Bunch <esp>\n",
              "...                                                  ...  ...                                                ...\n",
              "27430  Pretzels Original Thins&&Natural Spring Water&...  ...            <esp> Quaker Life Cinnamon Cereal <esp>\n",
              "27431  Organic YoKids Very Berry Smoothies&&Organic S...  ...                  <esp> Grass Fed Ground Beef <esp>\n",
              "27432  Banana&&Fat Free Milk&&Strawberries&&Vanilla A...  ...             <esp> Life Wheat + Protein Bread <esp>\n",
              "27433  Hass Avocado&&Organic Romaine&&Cantaloupe&&Cra...  ...         <esp> Original French Vanilla Yogurt <esp>\n",
              "27434  Macaroni And Cheese&&Original Tortilla Strips&...  ...                 <esp> Bag of Organic Bananas <esp>\n",
              "\n",
              "[27435 rows x 4 columns]"
            ]
          },
          "metadata": {
            "tags": []
          },
          "execution_count": 29
        }
      ]
    },
    {
      "cell_type": "code",
      "metadata": {
        "id": "3Q2ZolVofCH6"
      },
      "source": [
        "filtering_test_df.to_csv(path + f'e-commerce_to_instacart_test_outputs_{EPOCHS}.csv', mode='w')"
      ],
      "execution_count": null,
      "outputs": []
    },
    {
      "cell_type": "code",
      "metadata": {
        "id": "pxfKeJx8LTdH"
      },
      "source": [
        ""
      ],
      "execution_count": null,
      "outputs": []
    }
  ]
}