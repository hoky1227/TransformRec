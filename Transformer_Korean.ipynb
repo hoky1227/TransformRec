{
  "nbformat": 4,
  "nbformat_minor": 0,
  "metadata": {
    "colab": {
      "name": "Transformer Korean",
      "provenance": [],
      "collapsed_sections": [],
      "mount_file_id": "1uO5-Bjc3xI3V3-9aLgaN5e88ufG-ZSdE",
      "authorship_tag": "ABX9TyNN/eW0Zo4bsAYXEk6jpHD8",
      "include_colab_link": true
    },
    "kernelspec": {
      "name": "python3",
      "display_name": "Python 3"
    },
    "accelerator": "GPU",
    "widgets": {
      "application/vnd.jupyter.widget-state+json": {
        "fd95f6fafd004f358001101f6c19a74e": {
          "model_module": "@jupyter-widgets/controls",
          "model_name": "HBoxModel",
          "state": {
            "_view_name": "HBoxView",
            "_dom_classes": [],
            "_model_name": "HBoxModel",
            "_view_module": "@jupyter-widgets/controls",
            "_model_module_version": "1.5.0",
            "_view_count": null,
            "_view_module_version": "1.5.0",
            "box_style": "",
            "layout": "IPY_MODEL_0466176ace5346c597844ec2469ca117",
            "_model_module": "@jupyter-widgets/controls",
            "children": [
              "IPY_MODEL_755e4736bdcc4dde8ef516f3fa346908",
              "IPY_MODEL_e305d0d63b89497e9a213e963436db35"
            ]
          }
        },
        "0466176ace5346c597844ec2469ca117": {
          "model_module": "@jupyter-widgets/base",
          "model_name": "LayoutModel",
          "state": {
            "_view_name": "LayoutView",
            "grid_template_rows": null,
            "right": null,
            "justify_content": null,
            "_view_module": "@jupyter-widgets/base",
            "overflow": null,
            "_model_module_version": "1.2.0",
            "_view_count": null,
            "flex_flow": null,
            "width": null,
            "min_width": null,
            "border": null,
            "align_items": null,
            "bottom": null,
            "_model_module": "@jupyter-widgets/base",
            "top": null,
            "grid_column": null,
            "overflow_y": null,
            "overflow_x": null,
            "grid_auto_flow": null,
            "grid_area": null,
            "grid_template_columns": null,
            "flex": null,
            "_model_name": "LayoutModel",
            "justify_items": null,
            "grid_row": null,
            "max_height": null,
            "align_content": null,
            "visibility": null,
            "align_self": null,
            "height": null,
            "min_height": null,
            "padding": null,
            "grid_auto_rows": null,
            "grid_gap": null,
            "max_width": null,
            "order": null,
            "_view_module_version": "1.2.0",
            "grid_template_areas": null,
            "object_position": null,
            "object_fit": null,
            "grid_auto_columns": null,
            "margin": null,
            "display": null,
            "left": null
          }
        },
        "755e4736bdcc4dde8ef516f3fa346908": {
          "model_module": "@jupyter-widgets/controls",
          "model_name": "FloatProgressModel",
          "state": {
            "_view_name": "ProgressView",
            "style": "IPY_MODEL_b5cc28946c4c4a7db854bb90b5b7c8f7",
            "_dom_classes": [],
            "description": "100%",
            "_model_name": "FloatProgressModel",
            "bar_style": "success",
            "max": 344,
            "_view_module": "@jupyter-widgets/controls",
            "_model_module_version": "1.5.0",
            "value": 344,
            "_view_count": null,
            "_view_module_version": "1.5.0",
            "orientation": "horizontal",
            "min": 0,
            "description_tooltip": null,
            "_model_module": "@jupyter-widgets/controls",
            "layout": "IPY_MODEL_a6dff040d6e242368a4caa9915a4ff80"
          }
        },
        "e305d0d63b89497e9a213e963436db35": {
          "model_module": "@jupyter-widgets/controls",
          "model_name": "HTMLModel",
          "state": {
            "_view_name": "HTMLView",
            "style": "IPY_MODEL_5a047399f48b4820b94af9077350649e",
            "_dom_classes": [],
            "description": "",
            "_model_name": "HTMLModel",
            "placeholder": "​",
            "_view_module": "@jupyter-widgets/controls",
            "_model_module_version": "1.5.0",
            "value": " 344/344 [00:00&lt;00:00, 2922.11it/s]",
            "_view_count": null,
            "_view_module_version": "1.5.0",
            "description_tooltip": null,
            "_model_module": "@jupyter-widgets/controls",
            "layout": "IPY_MODEL_cd45924aa56c40879e43b633359107e5"
          }
        },
        "b5cc28946c4c4a7db854bb90b5b7c8f7": {
          "model_module": "@jupyter-widgets/controls",
          "model_name": "ProgressStyleModel",
          "state": {
            "_view_name": "StyleView",
            "_model_name": "ProgressStyleModel",
            "description_width": "initial",
            "_view_module": "@jupyter-widgets/base",
            "_model_module_version": "1.5.0",
            "_view_count": null,
            "_view_module_version": "1.2.0",
            "bar_color": null,
            "_model_module": "@jupyter-widgets/controls"
          }
        },
        "a6dff040d6e242368a4caa9915a4ff80": {
          "model_module": "@jupyter-widgets/base",
          "model_name": "LayoutModel",
          "state": {
            "_view_name": "LayoutView",
            "grid_template_rows": null,
            "right": null,
            "justify_content": null,
            "_view_module": "@jupyter-widgets/base",
            "overflow": null,
            "_model_module_version": "1.2.0",
            "_view_count": null,
            "flex_flow": null,
            "width": null,
            "min_width": null,
            "border": null,
            "align_items": null,
            "bottom": null,
            "_model_module": "@jupyter-widgets/base",
            "top": null,
            "grid_column": null,
            "overflow_y": null,
            "overflow_x": null,
            "grid_auto_flow": null,
            "grid_area": null,
            "grid_template_columns": null,
            "flex": null,
            "_model_name": "LayoutModel",
            "justify_items": null,
            "grid_row": null,
            "max_height": null,
            "align_content": null,
            "visibility": null,
            "align_self": null,
            "height": null,
            "min_height": null,
            "padding": null,
            "grid_auto_rows": null,
            "grid_gap": null,
            "max_width": null,
            "order": null,
            "_view_module_version": "1.2.0",
            "grid_template_areas": null,
            "object_position": null,
            "object_fit": null,
            "grid_auto_columns": null,
            "margin": null,
            "display": null,
            "left": null
          }
        },
        "5a047399f48b4820b94af9077350649e": {
          "model_module": "@jupyter-widgets/controls",
          "model_name": "DescriptionStyleModel",
          "state": {
            "_view_name": "StyleView",
            "_model_name": "DescriptionStyleModel",
            "description_width": "",
            "_view_module": "@jupyter-widgets/base",
            "_model_module_version": "1.5.0",
            "_view_count": null,
            "_view_module_version": "1.2.0",
            "_model_module": "@jupyter-widgets/controls"
          }
        },
        "cd45924aa56c40879e43b633359107e5": {
          "model_module": "@jupyter-widgets/base",
          "model_name": "LayoutModel",
          "state": {
            "_view_name": "LayoutView",
            "grid_template_rows": null,
            "right": null,
            "justify_content": null,
            "_view_module": "@jupyter-widgets/base",
            "overflow": null,
            "_model_module_version": "1.2.0",
            "_view_count": null,
            "flex_flow": null,
            "width": null,
            "min_width": null,
            "border": null,
            "align_items": null,
            "bottom": null,
            "_model_module": "@jupyter-widgets/base",
            "top": null,
            "grid_column": null,
            "overflow_y": null,
            "overflow_x": null,
            "grid_auto_flow": null,
            "grid_area": null,
            "grid_template_columns": null,
            "flex": null,
            "_model_name": "LayoutModel",
            "justify_items": null,
            "grid_row": null,
            "max_height": null,
            "align_content": null,
            "visibility": null,
            "align_self": null,
            "height": null,
            "min_height": null,
            "padding": null,
            "grid_auto_rows": null,
            "grid_gap": null,
            "max_width": null,
            "order": null,
            "_view_module_version": "1.2.0",
            "grid_template_areas": null,
            "object_position": null,
            "object_fit": null,
            "grid_auto_columns": null,
            "margin": null,
            "display": null,
            "left": null
          }
        },
        "81a29799bef643509807fd28d1aad29e": {
          "model_module": "@jupyter-widgets/controls",
          "model_name": "HBoxModel",
          "state": {
            "_view_name": "HBoxView",
            "_dom_classes": [],
            "_model_name": "HBoxModel",
            "_view_module": "@jupyter-widgets/controls",
            "_model_module_version": "1.5.0",
            "_view_count": null,
            "_view_module_version": "1.5.0",
            "box_style": "",
            "layout": "IPY_MODEL_959e138fe22c45e19483e7e1fa4bb8b2",
            "_model_module": "@jupyter-widgets/controls",
            "children": [
              "IPY_MODEL_1a337cb2be0e4b939e0d9ef5e2549a00",
              "IPY_MODEL_4520210fff6041c5bdd2aff74cb61ea3"
            ]
          }
        },
        "959e138fe22c45e19483e7e1fa4bb8b2": {
          "model_module": "@jupyter-widgets/base",
          "model_name": "LayoutModel",
          "state": {
            "_view_name": "LayoutView",
            "grid_template_rows": null,
            "right": null,
            "justify_content": null,
            "_view_module": "@jupyter-widgets/base",
            "overflow": null,
            "_model_module_version": "1.2.0",
            "_view_count": null,
            "flex_flow": null,
            "width": null,
            "min_width": null,
            "border": null,
            "align_items": null,
            "bottom": null,
            "_model_module": "@jupyter-widgets/base",
            "top": null,
            "grid_column": null,
            "overflow_y": null,
            "overflow_x": null,
            "grid_auto_flow": null,
            "grid_area": null,
            "grid_template_columns": null,
            "flex": null,
            "_model_name": "LayoutModel",
            "justify_items": null,
            "grid_row": null,
            "max_height": null,
            "align_content": null,
            "visibility": null,
            "align_self": null,
            "height": null,
            "min_height": null,
            "padding": null,
            "grid_auto_rows": null,
            "grid_gap": null,
            "max_width": null,
            "order": null,
            "_view_module_version": "1.2.0",
            "grid_template_areas": null,
            "object_position": null,
            "object_fit": null,
            "grid_auto_columns": null,
            "margin": null,
            "display": null,
            "left": null
          }
        },
        "1a337cb2be0e4b939e0d9ef5e2549a00": {
          "model_module": "@jupyter-widgets/controls",
          "model_name": "FloatProgressModel",
          "state": {
            "_view_name": "ProgressView",
            "style": "IPY_MODEL_cbb50337ac1b4139ac138d39617dfd74",
            "_dom_classes": [],
            "description": "100%",
            "_model_name": "FloatProgressModel",
            "bar_style": "success",
            "max": 344,
            "_view_module": "@jupyter-widgets/controls",
            "_model_module_version": "1.5.0",
            "value": 344,
            "_view_count": null,
            "_view_module_version": "1.5.0",
            "orientation": "horizontal",
            "min": 0,
            "description_tooltip": null,
            "_model_module": "@jupyter-widgets/controls",
            "layout": "IPY_MODEL_7006e73f29ec423a88a3c8490ce8e6a8"
          }
        },
        "4520210fff6041c5bdd2aff74cb61ea3": {
          "model_module": "@jupyter-widgets/controls",
          "model_name": "HTMLModel",
          "state": {
            "_view_name": "HTMLView",
            "style": "IPY_MODEL_91ff1648bfad487b80e759ac3e7a208d",
            "_dom_classes": [],
            "description": "",
            "_model_name": "HTMLModel",
            "placeholder": "​",
            "_view_module": "@jupyter-widgets/controls",
            "_model_module_version": "1.5.0",
            "value": " 344/344 [00:00&lt;00:00, 1354.59it/s]",
            "_view_count": null,
            "_view_module_version": "1.5.0",
            "description_tooltip": null,
            "_model_module": "@jupyter-widgets/controls",
            "layout": "IPY_MODEL_190deb0a7acb48a7a9c3f6e695539f90"
          }
        },
        "cbb50337ac1b4139ac138d39617dfd74": {
          "model_module": "@jupyter-widgets/controls",
          "model_name": "ProgressStyleModel",
          "state": {
            "_view_name": "StyleView",
            "_model_name": "ProgressStyleModel",
            "description_width": "initial",
            "_view_module": "@jupyter-widgets/base",
            "_model_module_version": "1.5.0",
            "_view_count": null,
            "_view_module_version": "1.2.0",
            "bar_color": null,
            "_model_module": "@jupyter-widgets/controls"
          }
        },
        "7006e73f29ec423a88a3c8490ce8e6a8": {
          "model_module": "@jupyter-widgets/base",
          "model_name": "LayoutModel",
          "state": {
            "_view_name": "LayoutView",
            "grid_template_rows": null,
            "right": null,
            "justify_content": null,
            "_view_module": "@jupyter-widgets/base",
            "overflow": null,
            "_model_module_version": "1.2.0",
            "_view_count": null,
            "flex_flow": null,
            "width": null,
            "min_width": null,
            "border": null,
            "align_items": null,
            "bottom": null,
            "_model_module": "@jupyter-widgets/base",
            "top": null,
            "grid_column": null,
            "overflow_y": null,
            "overflow_x": null,
            "grid_auto_flow": null,
            "grid_area": null,
            "grid_template_columns": null,
            "flex": null,
            "_model_name": "LayoutModel",
            "justify_items": null,
            "grid_row": null,
            "max_height": null,
            "align_content": null,
            "visibility": null,
            "align_self": null,
            "height": null,
            "min_height": null,
            "padding": null,
            "grid_auto_rows": null,
            "grid_gap": null,
            "max_width": null,
            "order": null,
            "_view_module_version": "1.2.0",
            "grid_template_areas": null,
            "object_position": null,
            "object_fit": null,
            "grid_auto_columns": null,
            "margin": null,
            "display": null,
            "left": null
          }
        },
        "91ff1648bfad487b80e759ac3e7a208d": {
          "model_module": "@jupyter-widgets/controls",
          "model_name": "DescriptionStyleModel",
          "state": {
            "_view_name": "StyleView",
            "_model_name": "DescriptionStyleModel",
            "description_width": "",
            "_view_module": "@jupyter-widgets/base",
            "_model_module_version": "1.5.0",
            "_view_count": null,
            "_view_module_version": "1.2.0",
            "_model_module": "@jupyter-widgets/controls"
          }
        },
        "190deb0a7acb48a7a9c3f6e695539f90": {
          "model_module": "@jupyter-widgets/base",
          "model_name": "LayoutModel",
          "state": {
            "_view_name": "LayoutView",
            "grid_template_rows": null,
            "right": null,
            "justify_content": null,
            "_view_module": "@jupyter-widgets/base",
            "overflow": null,
            "_model_module_version": "1.2.0",
            "_view_count": null,
            "flex_flow": null,
            "width": null,
            "min_width": null,
            "border": null,
            "align_items": null,
            "bottom": null,
            "_model_module": "@jupyter-widgets/base",
            "top": null,
            "grid_column": null,
            "overflow_y": null,
            "overflow_x": null,
            "grid_auto_flow": null,
            "grid_area": null,
            "grid_template_columns": null,
            "flex": null,
            "_model_name": "LayoutModel",
            "justify_items": null,
            "grid_row": null,
            "max_height": null,
            "align_content": null,
            "visibility": null,
            "align_self": null,
            "height": null,
            "min_height": null,
            "padding": null,
            "grid_auto_rows": null,
            "grid_gap": null,
            "max_width": null,
            "order": null,
            "_view_module_version": "1.2.0",
            "grid_template_areas": null,
            "object_position": null,
            "object_fit": null,
            "grid_auto_columns": null,
            "margin": null,
            "display": null,
            "left": null
          }
        },
        "ba825a90590848b1b63af540d86fcf66": {
          "model_module": "@jupyter-widgets/controls",
          "model_name": "HBoxModel",
          "state": {
            "_view_name": "HBoxView",
            "_dom_classes": [],
            "_model_name": "HBoxModel",
            "_view_module": "@jupyter-widgets/controls",
            "_model_module_version": "1.5.0",
            "_view_count": null,
            "_view_module_version": "1.5.0",
            "box_style": "",
            "layout": "IPY_MODEL_7d1d75bba1ef49b3938af298d8926ae2",
            "_model_module": "@jupyter-widgets/controls",
            "children": [
              "IPY_MODEL_da1caa53dec6486fbae81760b86ed9a9",
              "IPY_MODEL_4127ae8d2b8f4c1a9a28885c74251ef7"
            ]
          }
        },
        "7d1d75bba1ef49b3938af298d8926ae2": {
          "model_module": "@jupyter-widgets/base",
          "model_name": "LayoutModel",
          "state": {
            "_view_name": "LayoutView",
            "grid_template_rows": null,
            "right": null,
            "justify_content": null,
            "_view_module": "@jupyter-widgets/base",
            "overflow": null,
            "_model_module_version": "1.2.0",
            "_view_count": null,
            "flex_flow": null,
            "width": null,
            "min_width": null,
            "border": null,
            "align_items": null,
            "bottom": null,
            "_model_module": "@jupyter-widgets/base",
            "top": null,
            "grid_column": null,
            "overflow_y": null,
            "overflow_x": null,
            "grid_auto_flow": null,
            "grid_area": null,
            "grid_template_columns": null,
            "flex": null,
            "_model_name": "LayoutModel",
            "justify_items": null,
            "grid_row": null,
            "max_height": null,
            "align_content": null,
            "visibility": null,
            "align_self": null,
            "height": null,
            "min_height": null,
            "padding": null,
            "grid_auto_rows": null,
            "grid_gap": null,
            "max_width": null,
            "order": null,
            "_view_module_version": "1.2.0",
            "grid_template_areas": null,
            "object_position": null,
            "object_fit": null,
            "grid_auto_columns": null,
            "margin": null,
            "display": null,
            "left": null
          }
        },
        "da1caa53dec6486fbae81760b86ed9a9": {
          "model_module": "@jupyter-widgets/controls",
          "model_name": "FloatProgressModel",
          "state": {
            "_view_name": "ProgressView",
            "style": "IPY_MODEL_79feff917e464504979bf5388c854a21",
            "_dom_classes": [],
            "description": "100%",
            "_model_name": "FloatProgressModel",
            "bar_style": "success",
            "max": 344,
            "_view_module": "@jupyter-widgets/controls",
            "_model_module_version": "1.5.0",
            "value": 344,
            "_view_count": null,
            "_view_module_version": "1.5.0",
            "orientation": "horizontal",
            "min": 0,
            "description_tooltip": null,
            "_model_module": "@jupyter-widgets/controls",
            "layout": "IPY_MODEL_cf2bd1bad4f147fb9aa711d103b730b4"
          }
        },
        "4127ae8d2b8f4c1a9a28885c74251ef7": {
          "model_module": "@jupyter-widgets/controls",
          "model_name": "HTMLModel",
          "state": {
            "_view_name": "HTMLView",
            "style": "IPY_MODEL_a9a12ef0ec9f4e88a3201545bc9b230e",
            "_dom_classes": [],
            "description": "",
            "_model_name": "HTMLModel",
            "placeholder": "​",
            "_view_module": "@jupyter-widgets/controls",
            "_model_module_version": "1.5.0",
            "value": " 344/344 [00:00&lt;00:00, 2196.06it/s]",
            "_view_count": null,
            "_view_module_version": "1.5.0",
            "description_tooltip": null,
            "_model_module": "@jupyter-widgets/controls",
            "layout": "IPY_MODEL_c33b6f397f18477facca1cd1fa3182f3"
          }
        },
        "79feff917e464504979bf5388c854a21": {
          "model_module": "@jupyter-widgets/controls",
          "model_name": "ProgressStyleModel",
          "state": {
            "_view_name": "StyleView",
            "_model_name": "ProgressStyleModel",
            "description_width": "initial",
            "_view_module": "@jupyter-widgets/base",
            "_model_module_version": "1.5.0",
            "_view_count": null,
            "_view_module_version": "1.2.0",
            "bar_color": null,
            "_model_module": "@jupyter-widgets/controls"
          }
        },
        "cf2bd1bad4f147fb9aa711d103b730b4": {
          "model_module": "@jupyter-widgets/base",
          "model_name": "LayoutModel",
          "state": {
            "_view_name": "LayoutView",
            "grid_template_rows": null,
            "right": null,
            "justify_content": null,
            "_view_module": "@jupyter-widgets/base",
            "overflow": null,
            "_model_module_version": "1.2.0",
            "_view_count": null,
            "flex_flow": null,
            "width": null,
            "min_width": null,
            "border": null,
            "align_items": null,
            "bottom": null,
            "_model_module": "@jupyter-widgets/base",
            "top": null,
            "grid_column": null,
            "overflow_y": null,
            "overflow_x": null,
            "grid_auto_flow": null,
            "grid_area": null,
            "grid_template_columns": null,
            "flex": null,
            "_model_name": "LayoutModel",
            "justify_items": null,
            "grid_row": null,
            "max_height": null,
            "align_content": null,
            "visibility": null,
            "align_self": null,
            "height": null,
            "min_height": null,
            "padding": null,
            "grid_auto_rows": null,
            "grid_gap": null,
            "max_width": null,
            "order": null,
            "_view_module_version": "1.2.0",
            "grid_template_areas": null,
            "object_position": null,
            "object_fit": null,
            "grid_auto_columns": null,
            "margin": null,
            "display": null,
            "left": null
          }
        },
        "a9a12ef0ec9f4e88a3201545bc9b230e": {
          "model_module": "@jupyter-widgets/controls",
          "model_name": "DescriptionStyleModel",
          "state": {
            "_view_name": "StyleView",
            "_model_name": "DescriptionStyleModel",
            "description_width": "",
            "_view_module": "@jupyter-widgets/base",
            "_model_module_version": "1.5.0",
            "_view_count": null,
            "_view_module_version": "1.2.0",
            "_model_module": "@jupyter-widgets/controls"
          }
        },
        "c33b6f397f18477facca1cd1fa3182f3": {
          "model_module": "@jupyter-widgets/base",
          "model_name": "LayoutModel",
          "state": {
            "_view_name": "LayoutView",
            "grid_template_rows": null,
            "right": null,
            "justify_content": null,
            "_view_module": "@jupyter-widgets/base",
            "overflow": null,
            "_model_module_version": "1.2.0",
            "_view_count": null,
            "flex_flow": null,
            "width": null,
            "min_width": null,
            "border": null,
            "align_items": null,
            "bottom": null,
            "_model_module": "@jupyter-widgets/base",
            "top": null,
            "grid_column": null,
            "overflow_y": null,
            "overflow_x": null,
            "grid_auto_flow": null,
            "grid_area": null,
            "grid_template_columns": null,
            "flex": null,
            "_model_name": "LayoutModel",
            "justify_items": null,
            "grid_row": null,
            "max_height": null,
            "align_content": null,
            "visibility": null,
            "align_self": null,
            "height": null,
            "min_height": null,
            "padding": null,
            "grid_auto_rows": null,
            "grid_gap": null,
            "max_width": null,
            "order": null,
            "_view_module_version": "1.2.0",
            "grid_template_areas": null,
            "object_position": null,
            "object_fit": null,
            "grid_auto_columns": null,
            "margin": null,
            "display": null,
            "left": null
          }
        },
        "2f533389d66a4de78092f10f04768ab7": {
          "model_module": "@jupyter-widgets/controls",
          "model_name": "HBoxModel",
          "state": {
            "_view_name": "HBoxView",
            "_dom_classes": [],
            "_model_name": "HBoxModel",
            "_view_module": "@jupyter-widgets/controls",
            "_model_module_version": "1.5.0",
            "_view_count": null,
            "_view_module_version": "1.5.0",
            "box_style": "",
            "layout": "IPY_MODEL_11200961ebf9438c8f86ba61b006d317",
            "_model_module": "@jupyter-widgets/controls",
            "children": [
              "IPY_MODEL_aa3cc2ecaa6647cbab82d7ec7a1c5f16",
              "IPY_MODEL_21fc55d581fa4da78bed505419c2c940"
            ]
          }
        },
        "11200961ebf9438c8f86ba61b006d317": {
          "model_module": "@jupyter-widgets/base",
          "model_name": "LayoutModel",
          "state": {
            "_view_name": "LayoutView",
            "grid_template_rows": null,
            "right": null,
            "justify_content": null,
            "_view_module": "@jupyter-widgets/base",
            "overflow": null,
            "_model_module_version": "1.2.0",
            "_view_count": null,
            "flex_flow": null,
            "width": null,
            "min_width": null,
            "border": null,
            "align_items": null,
            "bottom": null,
            "_model_module": "@jupyter-widgets/base",
            "top": null,
            "grid_column": null,
            "overflow_y": null,
            "overflow_x": null,
            "grid_auto_flow": null,
            "grid_area": null,
            "grid_template_columns": null,
            "flex": null,
            "_model_name": "LayoutModel",
            "justify_items": null,
            "grid_row": null,
            "max_height": null,
            "align_content": null,
            "visibility": null,
            "align_self": null,
            "height": null,
            "min_height": null,
            "padding": null,
            "grid_auto_rows": null,
            "grid_gap": null,
            "max_width": null,
            "order": null,
            "_view_module_version": "1.2.0",
            "grid_template_areas": null,
            "object_position": null,
            "object_fit": null,
            "grid_auto_columns": null,
            "margin": null,
            "display": null,
            "left": null
          }
        },
        "aa3cc2ecaa6647cbab82d7ec7a1c5f16": {
          "model_module": "@jupyter-widgets/controls",
          "model_name": "FloatProgressModel",
          "state": {
            "_view_name": "ProgressView",
            "style": "IPY_MODEL_4e6c147dd5104109a461f5128da6abd5",
            "_dom_classes": [],
            "description": "100%",
            "_model_name": "FloatProgressModel",
            "bar_style": "success",
            "max": 344,
            "_view_module": "@jupyter-widgets/controls",
            "_model_module_version": "1.5.0",
            "value": 344,
            "_view_count": null,
            "_view_module_version": "1.5.0",
            "orientation": "horizontal",
            "min": 0,
            "description_tooltip": null,
            "_model_module": "@jupyter-widgets/controls",
            "layout": "IPY_MODEL_4aaf553af56b45fe8024f01c29738d95"
          }
        },
        "21fc55d581fa4da78bed505419c2c940": {
          "model_module": "@jupyter-widgets/controls",
          "model_name": "HTMLModel",
          "state": {
            "_view_name": "HTMLView",
            "style": "IPY_MODEL_467ae2b8fd2c487faa7d54e088ff9c87",
            "_dom_classes": [],
            "description": "",
            "_model_name": "HTMLModel",
            "placeholder": "​",
            "_view_module": "@jupyter-widgets/controls",
            "_model_module_version": "1.5.0",
            "value": " 344/344 [00:00&lt;00:00, 534.92it/s]",
            "_view_count": null,
            "_view_module_version": "1.5.0",
            "description_tooltip": null,
            "_model_module": "@jupyter-widgets/controls",
            "layout": "IPY_MODEL_92ccba4c38664da2acc8b422c6594513"
          }
        },
        "4e6c147dd5104109a461f5128da6abd5": {
          "model_module": "@jupyter-widgets/controls",
          "model_name": "ProgressStyleModel",
          "state": {
            "_view_name": "StyleView",
            "_model_name": "ProgressStyleModel",
            "description_width": "initial",
            "_view_module": "@jupyter-widgets/base",
            "_model_module_version": "1.5.0",
            "_view_count": null,
            "_view_module_version": "1.2.0",
            "bar_color": null,
            "_model_module": "@jupyter-widgets/controls"
          }
        },
        "4aaf553af56b45fe8024f01c29738d95": {
          "model_module": "@jupyter-widgets/base",
          "model_name": "LayoutModel",
          "state": {
            "_view_name": "LayoutView",
            "grid_template_rows": null,
            "right": null,
            "justify_content": null,
            "_view_module": "@jupyter-widgets/base",
            "overflow": null,
            "_model_module_version": "1.2.0",
            "_view_count": null,
            "flex_flow": null,
            "width": null,
            "min_width": null,
            "border": null,
            "align_items": null,
            "bottom": null,
            "_model_module": "@jupyter-widgets/base",
            "top": null,
            "grid_column": null,
            "overflow_y": null,
            "overflow_x": null,
            "grid_auto_flow": null,
            "grid_area": null,
            "grid_template_columns": null,
            "flex": null,
            "_model_name": "LayoutModel",
            "justify_items": null,
            "grid_row": null,
            "max_height": null,
            "align_content": null,
            "visibility": null,
            "align_self": null,
            "height": null,
            "min_height": null,
            "padding": null,
            "grid_auto_rows": null,
            "grid_gap": null,
            "max_width": null,
            "order": null,
            "_view_module_version": "1.2.0",
            "grid_template_areas": null,
            "object_position": null,
            "object_fit": null,
            "grid_auto_columns": null,
            "margin": null,
            "display": null,
            "left": null
          }
        },
        "467ae2b8fd2c487faa7d54e088ff9c87": {
          "model_module": "@jupyter-widgets/controls",
          "model_name": "DescriptionStyleModel",
          "state": {
            "_view_name": "StyleView",
            "_model_name": "DescriptionStyleModel",
            "description_width": "",
            "_view_module": "@jupyter-widgets/base",
            "_model_module_version": "1.5.0",
            "_view_count": null,
            "_view_module_version": "1.2.0",
            "_model_module": "@jupyter-widgets/controls"
          }
        },
        "92ccba4c38664da2acc8b422c6594513": {
          "model_module": "@jupyter-widgets/base",
          "model_name": "LayoutModel",
          "state": {
            "_view_name": "LayoutView",
            "grid_template_rows": null,
            "right": null,
            "justify_content": null,
            "_view_module": "@jupyter-widgets/base",
            "overflow": null,
            "_model_module_version": "1.2.0",
            "_view_count": null,
            "flex_flow": null,
            "width": null,
            "min_width": null,
            "border": null,
            "align_items": null,
            "bottom": null,
            "_model_module": "@jupyter-widgets/base",
            "top": null,
            "grid_column": null,
            "overflow_y": null,
            "overflow_x": null,
            "grid_auto_flow": null,
            "grid_area": null,
            "grid_template_columns": null,
            "flex": null,
            "_model_name": "LayoutModel",
            "justify_items": null,
            "grid_row": null,
            "max_height": null,
            "align_content": null,
            "visibility": null,
            "align_self": null,
            "height": null,
            "min_height": null,
            "padding": null,
            "grid_auto_rows": null,
            "grid_gap": null,
            "max_width": null,
            "order": null,
            "_view_module_version": "1.2.0",
            "grid_template_areas": null,
            "object_position": null,
            "object_fit": null,
            "grid_auto_columns": null,
            "margin": null,
            "display": null,
            "left": null
          }
        },
        "4facfb3a62d147cdb7882a34d671abad": {
          "model_module": "@jupyter-widgets/controls",
          "model_name": "HBoxModel",
          "state": {
            "_view_name": "HBoxView",
            "_dom_classes": [],
            "_model_name": "HBoxModel",
            "_view_module": "@jupyter-widgets/controls",
            "_model_module_version": "1.5.0",
            "_view_count": null,
            "_view_module_version": "1.5.0",
            "box_style": "",
            "layout": "IPY_MODEL_daf7f80a31e0487a9b0b879346f9b43d",
            "_model_module": "@jupyter-widgets/controls",
            "children": [
              "IPY_MODEL_fe62d74f76e947f3b58307c7250ad4c7",
              "IPY_MODEL_19a49eb7b42149d09fb5354653f3f76b"
            ]
          }
        },
        "daf7f80a31e0487a9b0b879346f9b43d": {
          "model_module": "@jupyter-widgets/base",
          "model_name": "LayoutModel",
          "state": {
            "_view_name": "LayoutView",
            "grid_template_rows": null,
            "right": null,
            "justify_content": null,
            "_view_module": "@jupyter-widgets/base",
            "overflow": null,
            "_model_module_version": "1.2.0",
            "_view_count": null,
            "flex_flow": null,
            "width": null,
            "min_width": null,
            "border": null,
            "align_items": null,
            "bottom": null,
            "_model_module": "@jupyter-widgets/base",
            "top": null,
            "grid_column": null,
            "overflow_y": null,
            "overflow_x": null,
            "grid_auto_flow": null,
            "grid_area": null,
            "grid_template_columns": null,
            "flex": null,
            "_model_name": "LayoutModel",
            "justify_items": null,
            "grid_row": null,
            "max_height": null,
            "align_content": null,
            "visibility": null,
            "align_self": null,
            "height": null,
            "min_height": null,
            "padding": null,
            "grid_auto_rows": null,
            "grid_gap": null,
            "max_width": null,
            "order": null,
            "_view_module_version": "1.2.0",
            "grid_template_areas": null,
            "object_position": null,
            "object_fit": null,
            "grid_auto_columns": null,
            "margin": null,
            "display": null,
            "left": null
          }
        },
        "fe62d74f76e947f3b58307c7250ad4c7": {
          "model_module": "@jupyter-widgets/controls",
          "model_name": "FloatProgressModel",
          "state": {
            "_view_name": "ProgressView",
            "style": "IPY_MODEL_836bb68d64c0423ab78b1bfe3b9db035",
            "_dom_classes": [],
            "description": "100%",
            "_model_name": "FloatProgressModel",
            "bar_style": "success",
            "max": 344,
            "_view_module": "@jupyter-widgets/controls",
            "_model_module_version": "1.5.0",
            "value": 344,
            "_view_count": null,
            "_view_module_version": "1.5.0",
            "orientation": "horizontal",
            "min": 0,
            "description_tooltip": null,
            "_model_module": "@jupyter-widgets/controls",
            "layout": "IPY_MODEL_8de300932e1140d595cc856b5e166405"
          }
        },
        "19a49eb7b42149d09fb5354653f3f76b": {
          "model_module": "@jupyter-widgets/controls",
          "model_name": "HTMLModel",
          "state": {
            "_view_name": "HTMLView",
            "style": "IPY_MODEL_70cc442a8bbd483bb636dbda1914feb5",
            "_dom_classes": [],
            "description": "",
            "_model_name": "HTMLModel",
            "placeholder": "​",
            "_view_module": "@jupyter-widgets/controls",
            "_model_module_version": "1.5.0",
            "value": " 344/344 [00:00&lt;00:00, 2284.85it/s]",
            "_view_count": null,
            "_view_module_version": "1.5.0",
            "description_tooltip": null,
            "_model_module": "@jupyter-widgets/controls",
            "layout": "IPY_MODEL_241d1218e09e41cd8741a41a3771301b"
          }
        },
        "836bb68d64c0423ab78b1bfe3b9db035": {
          "model_module": "@jupyter-widgets/controls",
          "model_name": "ProgressStyleModel",
          "state": {
            "_view_name": "StyleView",
            "_model_name": "ProgressStyleModel",
            "description_width": "initial",
            "_view_module": "@jupyter-widgets/base",
            "_model_module_version": "1.5.0",
            "_view_count": null,
            "_view_module_version": "1.2.0",
            "bar_color": null,
            "_model_module": "@jupyter-widgets/controls"
          }
        },
        "8de300932e1140d595cc856b5e166405": {
          "model_module": "@jupyter-widgets/base",
          "model_name": "LayoutModel",
          "state": {
            "_view_name": "LayoutView",
            "grid_template_rows": null,
            "right": null,
            "justify_content": null,
            "_view_module": "@jupyter-widgets/base",
            "overflow": null,
            "_model_module_version": "1.2.0",
            "_view_count": null,
            "flex_flow": null,
            "width": null,
            "min_width": null,
            "border": null,
            "align_items": null,
            "bottom": null,
            "_model_module": "@jupyter-widgets/base",
            "top": null,
            "grid_column": null,
            "overflow_y": null,
            "overflow_x": null,
            "grid_auto_flow": null,
            "grid_area": null,
            "grid_template_columns": null,
            "flex": null,
            "_model_name": "LayoutModel",
            "justify_items": null,
            "grid_row": null,
            "max_height": null,
            "align_content": null,
            "visibility": null,
            "align_self": null,
            "height": null,
            "min_height": null,
            "padding": null,
            "grid_auto_rows": null,
            "grid_gap": null,
            "max_width": null,
            "order": null,
            "_view_module_version": "1.2.0",
            "grid_template_areas": null,
            "object_position": null,
            "object_fit": null,
            "grid_auto_columns": null,
            "margin": null,
            "display": null,
            "left": null
          }
        },
        "70cc442a8bbd483bb636dbda1914feb5": {
          "model_module": "@jupyter-widgets/controls",
          "model_name": "DescriptionStyleModel",
          "state": {
            "_view_name": "StyleView",
            "_model_name": "DescriptionStyleModel",
            "description_width": "",
            "_view_module": "@jupyter-widgets/base",
            "_model_module_version": "1.5.0",
            "_view_count": null,
            "_view_module_version": "1.2.0",
            "_model_module": "@jupyter-widgets/controls"
          }
        },
        "241d1218e09e41cd8741a41a3771301b": {
          "model_module": "@jupyter-widgets/base",
          "model_name": "LayoutModel",
          "state": {
            "_view_name": "LayoutView",
            "grid_template_rows": null,
            "right": null,
            "justify_content": null,
            "_view_module": "@jupyter-widgets/base",
            "overflow": null,
            "_model_module_version": "1.2.0",
            "_view_count": null,
            "flex_flow": null,
            "width": null,
            "min_width": null,
            "border": null,
            "align_items": null,
            "bottom": null,
            "_model_module": "@jupyter-widgets/base",
            "top": null,
            "grid_column": null,
            "overflow_y": null,
            "overflow_x": null,
            "grid_auto_flow": null,
            "grid_area": null,
            "grid_template_columns": null,
            "flex": null,
            "_model_name": "LayoutModel",
            "justify_items": null,
            "grid_row": null,
            "max_height": null,
            "align_content": null,
            "visibility": null,
            "align_self": null,
            "height": null,
            "min_height": null,
            "padding": null,
            "grid_auto_rows": null,
            "grid_gap": null,
            "max_width": null,
            "order": null,
            "_view_module_version": "1.2.0",
            "grid_template_areas": null,
            "object_position": null,
            "object_fit": null,
            "grid_auto_columns": null,
            "margin": null,
            "display": null,
            "left": null
          }
        },
        "e8ec35383bad4bb0a3c4d2841a82e794": {
          "model_module": "@jupyter-widgets/controls",
          "model_name": "HBoxModel",
          "state": {
            "_view_name": "HBoxView",
            "_dom_classes": [],
            "_model_name": "HBoxModel",
            "_view_module": "@jupyter-widgets/controls",
            "_model_module_version": "1.5.0",
            "_view_count": null,
            "_view_module_version": "1.5.0",
            "box_style": "",
            "layout": "IPY_MODEL_1b825a8f9db7451cbc95550bab064bfc",
            "_model_module": "@jupyter-widgets/controls",
            "children": [
              "IPY_MODEL_b90b25af77d04f27a0db9e63515cc3c8",
              "IPY_MODEL_f595446a911e41c0a2399a77e98e7fc1"
            ]
          }
        },
        "1b825a8f9db7451cbc95550bab064bfc": {
          "model_module": "@jupyter-widgets/base",
          "model_name": "LayoutModel",
          "state": {
            "_view_name": "LayoutView",
            "grid_template_rows": null,
            "right": null,
            "justify_content": null,
            "_view_module": "@jupyter-widgets/base",
            "overflow": null,
            "_model_module_version": "1.2.0",
            "_view_count": null,
            "flex_flow": null,
            "width": null,
            "min_width": null,
            "border": null,
            "align_items": null,
            "bottom": null,
            "_model_module": "@jupyter-widgets/base",
            "top": null,
            "grid_column": null,
            "overflow_y": null,
            "overflow_x": null,
            "grid_auto_flow": null,
            "grid_area": null,
            "grid_template_columns": null,
            "flex": null,
            "_model_name": "LayoutModel",
            "justify_items": null,
            "grid_row": null,
            "max_height": null,
            "align_content": null,
            "visibility": null,
            "align_self": null,
            "height": null,
            "min_height": null,
            "padding": null,
            "grid_auto_rows": null,
            "grid_gap": null,
            "max_width": null,
            "order": null,
            "_view_module_version": "1.2.0",
            "grid_template_areas": null,
            "object_position": null,
            "object_fit": null,
            "grid_auto_columns": null,
            "margin": null,
            "display": null,
            "left": null
          }
        },
        "b90b25af77d04f27a0db9e63515cc3c8": {
          "model_module": "@jupyter-widgets/controls",
          "model_name": "FloatProgressModel",
          "state": {
            "_view_name": "ProgressView",
            "style": "IPY_MODEL_f413c777c5dd43a4afd6f9ec9f4c08cf",
            "_dom_classes": [],
            "description": "100%",
            "_model_name": "FloatProgressModel",
            "bar_style": "success",
            "max": 344,
            "_view_module": "@jupyter-widgets/controls",
            "_model_module_version": "1.5.0",
            "value": 344,
            "_view_count": null,
            "_view_module_version": "1.5.0",
            "orientation": "horizontal",
            "min": 0,
            "description_tooltip": null,
            "_model_module": "@jupyter-widgets/controls",
            "layout": "IPY_MODEL_c605ea1ecf3742d68e2aa6fc270ae548"
          }
        },
        "f595446a911e41c0a2399a77e98e7fc1": {
          "model_module": "@jupyter-widgets/controls",
          "model_name": "HTMLModel",
          "state": {
            "_view_name": "HTMLView",
            "style": "IPY_MODEL_b751515f4b02484fb578369f0cd8aa3f",
            "_dom_classes": [],
            "description": "",
            "_model_name": "HTMLModel",
            "placeholder": "​",
            "_view_module": "@jupyter-widgets/controls",
            "_model_module_version": "1.5.0",
            "value": " 344/344 [00:06&lt;00:00, 56.86it/s]",
            "_view_count": null,
            "_view_module_version": "1.5.0",
            "description_tooltip": null,
            "_model_module": "@jupyter-widgets/controls",
            "layout": "IPY_MODEL_a6d0b06ccc1549cab5c68722d0a650c6"
          }
        },
        "f413c777c5dd43a4afd6f9ec9f4c08cf": {
          "model_module": "@jupyter-widgets/controls",
          "model_name": "ProgressStyleModel",
          "state": {
            "_view_name": "StyleView",
            "_model_name": "ProgressStyleModel",
            "description_width": "initial",
            "_view_module": "@jupyter-widgets/base",
            "_model_module_version": "1.5.0",
            "_view_count": null,
            "_view_module_version": "1.2.0",
            "bar_color": null,
            "_model_module": "@jupyter-widgets/controls"
          }
        },
        "c605ea1ecf3742d68e2aa6fc270ae548": {
          "model_module": "@jupyter-widgets/base",
          "model_name": "LayoutModel",
          "state": {
            "_view_name": "LayoutView",
            "grid_template_rows": null,
            "right": null,
            "justify_content": null,
            "_view_module": "@jupyter-widgets/base",
            "overflow": null,
            "_model_module_version": "1.2.0",
            "_view_count": null,
            "flex_flow": null,
            "width": null,
            "min_width": null,
            "border": null,
            "align_items": null,
            "bottom": null,
            "_model_module": "@jupyter-widgets/base",
            "top": null,
            "grid_column": null,
            "overflow_y": null,
            "overflow_x": null,
            "grid_auto_flow": null,
            "grid_area": null,
            "grid_template_columns": null,
            "flex": null,
            "_model_name": "LayoutModel",
            "justify_items": null,
            "grid_row": null,
            "max_height": null,
            "align_content": null,
            "visibility": null,
            "align_self": null,
            "height": null,
            "min_height": null,
            "padding": null,
            "grid_auto_rows": null,
            "grid_gap": null,
            "max_width": null,
            "order": null,
            "_view_module_version": "1.2.0",
            "grid_template_areas": null,
            "object_position": null,
            "object_fit": null,
            "grid_auto_columns": null,
            "margin": null,
            "display": null,
            "left": null
          }
        },
        "b751515f4b02484fb578369f0cd8aa3f": {
          "model_module": "@jupyter-widgets/controls",
          "model_name": "DescriptionStyleModel",
          "state": {
            "_view_name": "StyleView",
            "_model_name": "DescriptionStyleModel",
            "description_width": "",
            "_view_module": "@jupyter-widgets/base",
            "_model_module_version": "1.5.0",
            "_view_count": null,
            "_view_module_version": "1.2.0",
            "_model_module": "@jupyter-widgets/controls"
          }
        },
        "a6d0b06ccc1549cab5c68722d0a650c6": {
          "model_module": "@jupyter-widgets/base",
          "model_name": "LayoutModel",
          "state": {
            "_view_name": "LayoutView",
            "grid_template_rows": null,
            "right": null,
            "justify_content": null,
            "_view_module": "@jupyter-widgets/base",
            "overflow": null,
            "_model_module_version": "1.2.0",
            "_view_count": null,
            "flex_flow": null,
            "width": null,
            "min_width": null,
            "border": null,
            "align_items": null,
            "bottom": null,
            "_model_module": "@jupyter-widgets/base",
            "top": null,
            "grid_column": null,
            "overflow_y": null,
            "overflow_x": null,
            "grid_auto_flow": null,
            "grid_area": null,
            "grid_template_columns": null,
            "flex": null,
            "_model_name": "LayoutModel",
            "justify_items": null,
            "grid_row": null,
            "max_height": null,
            "align_content": null,
            "visibility": null,
            "align_self": null,
            "height": null,
            "min_height": null,
            "padding": null,
            "grid_auto_rows": null,
            "grid_gap": null,
            "max_width": null,
            "order": null,
            "_view_module_version": "1.2.0",
            "grid_template_areas": null,
            "object_position": null,
            "object_fit": null,
            "grid_auto_columns": null,
            "margin": null,
            "display": null,
            "left": null
          }
        },
        "4e6e3ce58d1340f7b5fa425fd974ac0d": {
          "model_module": "@jupyter-widgets/controls",
          "model_name": "HBoxModel",
          "state": {
            "_view_name": "HBoxView",
            "_dom_classes": [],
            "_model_name": "HBoxModel",
            "_view_module": "@jupyter-widgets/controls",
            "_model_module_version": "1.5.0",
            "_view_count": null,
            "_view_module_version": "1.5.0",
            "box_style": "",
            "layout": "IPY_MODEL_abf2bd7958b24d2bac4705700bb42a3b",
            "_model_module": "@jupyter-widgets/controls",
            "children": [
              "IPY_MODEL_05afd4b0c1d848ebb7628ca3f64889e2",
              "IPY_MODEL_8d9b0d03c5e54a668a07f79c42725c82"
            ]
          }
        },
        "abf2bd7958b24d2bac4705700bb42a3b": {
          "model_module": "@jupyter-widgets/base",
          "model_name": "LayoutModel",
          "state": {
            "_view_name": "LayoutView",
            "grid_template_rows": null,
            "right": null,
            "justify_content": null,
            "_view_module": "@jupyter-widgets/base",
            "overflow": null,
            "_model_module_version": "1.2.0",
            "_view_count": null,
            "flex_flow": null,
            "width": null,
            "min_width": null,
            "border": null,
            "align_items": null,
            "bottom": null,
            "_model_module": "@jupyter-widgets/base",
            "top": null,
            "grid_column": null,
            "overflow_y": null,
            "overflow_x": null,
            "grid_auto_flow": null,
            "grid_area": null,
            "grid_template_columns": null,
            "flex": null,
            "_model_name": "LayoutModel",
            "justify_items": null,
            "grid_row": null,
            "max_height": null,
            "align_content": null,
            "visibility": null,
            "align_self": null,
            "height": null,
            "min_height": null,
            "padding": null,
            "grid_auto_rows": null,
            "grid_gap": null,
            "max_width": null,
            "order": null,
            "_view_module_version": "1.2.0",
            "grid_template_areas": null,
            "object_position": null,
            "object_fit": null,
            "grid_auto_columns": null,
            "margin": null,
            "display": null,
            "left": null
          }
        },
        "05afd4b0c1d848ebb7628ca3f64889e2": {
          "model_module": "@jupyter-widgets/controls",
          "model_name": "FloatProgressModel",
          "state": {
            "_view_name": "ProgressView",
            "style": "IPY_MODEL_1220230dbdee447c913c0c8a99822c83",
            "_dom_classes": [],
            "description": "100%",
            "_model_name": "FloatProgressModel",
            "bar_style": "success",
            "max": 344,
            "_view_module": "@jupyter-widgets/controls",
            "_model_module_version": "1.5.0",
            "value": 344,
            "_view_count": null,
            "_view_module_version": "1.5.0",
            "orientation": "horizontal",
            "min": 0,
            "description_tooltip": null,
            "_model_module": "@jupyter-widgets/controls",
            "layout": "IPY_MODEL_1c430f23fb8248b0ba8969e72317152d"
          }
        },
        "8d9b0d03c5e54a668a07f79c42725c82": {
          "model_module": "@jupyter-widgets/controls",
          "model_name": "HTMLModel",
          "state": {
            "_view_name": "HTMLView",
            "style": "IPY_MODEL_e13064dc6b20494eb285c8527cac39a9",
            "_dom_classes": [],
            "description": "",
            "_model_name": "HTMLModel",
            "placeholder": "​",
            "_view_module": "@jupyter-widgets/controls",
            "_model_module_version": "1.5.0",
            "value": " 344/344 [00:00&lt;00:00, 2298.93it/s]",
            "_view_count": null,
            "_view_module_version": "1.5.0",
            "description_tooltip": null,
            "_model_module": "@jupyter-widgets/controls",
            "layout": "IPY_MODEL_443f2a02be134066b9e8444eadbebbb3"
          }
        },
        "1220230dbdee447c913c0c8a99822c83": {
          "model_module": "@jupyter-widgets/controls",
          "model_name": "ProgressStyleModel",
          "state": {
            "_view_name": "StyleView",
            "_model_name": "ProgressStyleModel",
            "description_width": "initial",
            "_view_module": "@jupyter-widgets/base",
            "_model_module_version": "1.5.0",
            "_view_count": null,
            "_view_module_version": "1.2.0",
            "bar_color": null,
            "_model_module": "@jupyter-widgets/controls"
          }
        },
        "1c430f23fb8248b0ba8969e72317152d": {
          "model_module": "@jupyter-widgets/base",
          "model_name": "LayoutModel",
          "state": {
            "_view_name": "LayoutView",
            "grid_template_rows": null,
            "right": null,
            "justify_content": null,
            "_view_module": "@jupyter-widgets/base",
            "overflow": null,
            "_model_module_version": "1.2.0",
            "_view_count": null,
            "flex_flow": null,
            "width": null,
            "min_width": null,
            "border": null,
            "align_items": null,
            "bottom": null,
            "_model_module": "@jupyter-widgets/base",
            "top": null,
            "grid_column": null,
            "overflow_y": null,
            "overflow_x": null,
            "grid_auto_flow": null,
            "grid_area": null,
            "grid_template_columns": null,
            "flex": null,
            "_model_name": "LayoutModel",
            "justify_items": null,
            "grid_row": null,
            "max_height": null,
            "align_content": null,
            "visibility": null,
            "align_self": null,
            "height": null,
            "min_height": null,
            "padding": null,
            "grid_auto_rows": null,
            "grid_gap": null,
            "max_width": null,
            "order": null,
            "_view_module_version": "1.2.0",
            "grid_template_areas": null,
            "object_position": null,
            "object_fit": null,
            "grid_auto_columns": null,
            "margin": null,
            "display": null,
            "left": null
          }
        },
        "e13064dc6b20494eb285c8527cac39a9": {
          "model_module": "@jupyter-widgets/controls",
          "model_name": "DescriptionStyleModel",
          "state": {
            "_view_name": "StyleView",
            "_model_name": "DescriptionStyleModel",
            "description_width": "",
            "_view_module": "@jupyter-widgets/base",
            "_model_module_version": "1.5.0",
            "_view_count": null,
            "_view_module_version": "1.2.0",
            "_model_module": "@jupyter-widgets/controls"
          }
        },
        "443f2a02be134066b9e8444eadbebbb3": {
          "model_module": "@jupyter-widgets/base",
          "model_name": "LayoutModel",
          "state": {
            "_view_name": "LayoutView",
            "grid_template_rows": null,
            "right": null,
            "justify_content": null,
            "_view_module": "@jupyter-widgets/base",
            "overflow": null,
            "_model_module_version": "1.2.0",
            "_view_count": null,
            "flex_flow": null,
            "width": null,
            "min_width": null,
            "border": null,
            "align_items": null,
            "bottom": null,
            "_model_module": "@jupyter-widgets/base",
            "top": null,
            "grid_column": null,
            "overflow_y": null,
            "overflow_x": null,
            "grid_auto_flow": null,
            "grid_area": null,
            "grid_template_columns": null,
            "flex": null,
            "_model_name": "LayoutModel",
            "justify_items": null,
            "grid_row": null,
            "max_height": null,
            "align_content": null,
            "visibility": null,
            "align_self": null,
            "height": null,
            "min_height": null,
            "padding": null,
            "grid_auto_rows": null,
            "grid_gap": null,
            "max_width": null,
            "order": null,
            "_view_module_version": "1.2.0",
            "grid_template_areas": null,
            "object_position": null,
            "object_fit": null,
            "grid_auto_columns": null,
            "margin": null,
            "display": null,
            "left": null
          }
        },
        "ee6e9aa5bc814b0897f855ef4ebf64db": {
          "model_module": "@jupyter-widgets/controls",
          "model_name": "HBoxModel",
          "state": {
            "_view_name": "HBoxView",
            "_dom_classes": [],
            "_model_name": "HBoxModel",
            "_view_module": "@jupyter-widgets/controls",
            "_model_module_version": "1.5.0",
            "_view_count": null,
            "_view_module_version": "1.5.0",
            "box_style": "",
            "layout": "IPY_MODEL_dabaf05f65dc4f14b6a1e67b093c8720",
            "_model_module": "@jupyter-widgets/controls",
            "children": [
              "IPY_MODEL_0bee4fc8dd104601951bb4ae753425a4",
              "IPY_MODEL_cf76d91f92874d42bc1c288997d81d91"
            ]
          }
        },
        "dabaf05f65dc4f14b6a1e67b093c8720": {
          "model_module": "@jupyter-widgets/base",
          "model_name": "LayoutModel",
          "state": {
            "_view_name": "LayoutView",
            "grid_template_rows": null,
            "right": null,
            "justify_content": null,
            "_view_module": "@jupyter-widgets/base",
            "overflow": null,
            "_model_module_version": "1.2.0",
            "_view_count": null,
            "flex_flow": null,
            "width": null,
            "min_width": null,
            "border": null,
            "align_items": null,
            "bottom": null,
            "_model_module": "@jupyter-widgets/base",
            "top": null,
            "grid_column": null,
            "overflow_y": null,
            "overflow_x": null,
            "grid_auto_flow": null,
            "grid_area": null,
            "grid_template_columns": null,
            "flex": null,
            "_model_name": "LayoutModel",
            "justify_items": null,
            "grid_row": null,
            "max_height": null,
            "align_content": null,
            "visibility": null,
            "align_self": null,
            "height": null,
            "min_height": null,
            "padding": null,
            "grid_auto_rows": null,
            "grid_gap": null,
            "max_width": null,
            "order": null,
            "_view_module_version": "1.2.0",
            "grid_template_areas": null,
            "object_position": null,
            "object_fit": null,
            "grid_auto_columns": null,
            "margin": null,
            "display": null,
            "left": null
          }
        },
        "0bee4fc8dd104601951bb4ae753425a4": {
          "model_module": "@jupyter-widgets/controls",
          "model_name": "FloatProgressModel",
          "state": {
            "_view_name": "ProgressView",
            "style": "IPY_MODEL_0b4ea7be2e454e2b8d4ad81744e1a4e7",
            "_dom_classes": [],
            "description": "100%",
            "_model_name": "FloatProgressModel",
            "bar_style": "success",
            "max": 344,
            "_view_module": "@jupyter-widgets/controls",
            "_model_module_version": "1.5.0",
            "value": 344,
            "_view_count": null,
            "_view_module_version": "1.5.0",
            "orientation": "horizontal",
            "min": 0,
            "description_tooltip": null,
            "_model_module": "@jupyter-widgets/controls",
            "layout": "IPY_MODEL_d6cd07017b424de7b061a5e6c46c4da3"
          }
        },
        "cf76d91f92874d42bc1c288997d81d91": {
          "model_module": "@jupyter-widgets/controls",
          "model_name": "HTMLModel",
          "state": {
            "_view_name": "HTMLView",
            "style": "IPY_MODEL_b1d3e7f0c7144d02b93ab0d486245eee",
            "_dom_classes": [],
            "description": "",
            "_model_name": "HTMLModel",
            "placeholder": "​",
            "_view_module": "@jupyter-widgets/controls",
            "_model_module_version": "1.5.0",
            "value": " 344/344 [00:00&lt;00:00, 7095.53it/s]",
            "_view_count": null,
            "_view_module_version": "1.5.0",
            "description_tooltip": null,
            "_model_module": "@jupyter-widgets/controls",
            "layout": "IPY_MODEL_a5431d3b8261460bbab98b1eb5c4f661"
          }
        },
        "0b4ea7be2e454e2b8d4ad81744e1a4e7": {
          "model_module": "@jupyter-widgets/controls",
          "model_name": "ProgressStyleModel",
          "state": {
            "_view_name": "StyleView",
            "_model_name": "ProgressStyleModel",
            "description_width": "initial",
            "_view_module": "@jupyter-widgets/base",
            "_model_module_version": "1.5.0",
            "_view_count": null,
            "_view_module_version": "1.2.0",
            "bar_color": null,
            "_model_module": "@jupyter-widgets/controls"
          }
        },
        "d6cd07017b424de7b061a5e6c46c4da3": {
          "model_module": "@jupyter-widgets/base",
          "model_name": "LayoutModel",
          "state": {
            "_view_name": "LayoutView",
            "grid_template_rows": null,
            "right": null,
            "justify_content": null,
            "_view_module": "@jupyter-widgets/base",
            "overflow": null,
            "_model_module_version": "1.2.0",
            "_view_count": null,
            "flex_flow": null,
            "width": null,
            "min_width": null,
            "border": null,
            "align_items": null,
            "bottom": null,
            "_model_module": "@jupyter-widgets/base",
            "top": null,
            "grid_column": null,
            "overflow_y": null,
            "overflow_x": null,
            "grid_auto_flow": null,
            "grid_area": null,
            "grid_template_columns": null,
            "flex": null,
            "_model_name": "LayoutModel",
            "justify_items": null,
            "grid_row": null,
            "max_height": null,
            "align_content": null,
            "visibility": null,
            "align_self": null,
            "height": null,
            "min_height": null,
            "padding": null,
            "grid_auto_rows": null,
            "grid_gap": null,
            "max_width": null,
            "order": null,
            "_view_module_version": "1.2.0",
            "grid_template_areas": null,
            "object_position": null,
            "object_fit": null,
            "grid_auto_columns": null,
            "margin": null,
            "display": null,
            "left": null
          }
        },
        "b1d3e7f0c7144d02b93ab0d486245eee": {
          "model_module": "@jupyter-widgets/controls",
          "model_name": "DescriptionStyleModel",
          "state": {
            "_view_name": "StyleView",
            "_model_name": "DescriptionStyleModel",
            "description_width": "",
            "_view_module": "@jupyter-widgets/base",
            "_model_module_version": "1.5.0",
            "_view_count": null,
            "_view_module_version": "1.2.0",
            "_model_module": "@jupyter-widgets/controls"
          }
        },
        "a5431d3b8261460bbab98b1eb5c4f661": {
          "model_module": "@jupyter-widgets/base",
          "model_name": "LayoutModel",
          "state": {
            "_view_name": "LayoutView",
            "grid_template_rows": null,
            "right": null,
            "justify_content": null,
            "_view_module": "@jupyter-widgets/base",
            "overflow": null,
            "_model_module_version": "1.2.0",
            "_view_count": null,
            "flex_flow": null,
            "width": null,
            "min_width": null,
            "border": null,
            "align_items": null,
            "bottom": null,
            "_model_module": "@jupyter-widgets/base",
            "top": null,
            "grid_column": null,
            "overflow_y": null,
            "overflow_x": null,
            "grid_auto_flow": null,
            "grid_area": null,
            "grid_template_columns": null,
            "flex": null,
            "_model_name": "LayoutModel",
            "justify_items": null,
            "grid_row": null,
            "max_height": null,
            "align_content": null,
            "visibility": null,
            "align_self": null,
            "height": null,
            "min_height": null,
            "padding": null,
            "grid_auto_rows": null,
            "grid_gap": null,
            "max_width": null,
            "order": null,
            "_view_module_version": "1.2.0",
            "grid_template_areas": null,
            "object_position": null,
            "object_fit": null,
            "grid_auto_columns": null,
            "margin": null,
            "display": null,
            "left": null
          }
        }
      }
    }
  },
  "cells": [
    {
      "cell_type": "markdown",
      "metadata": {
        "id": "view-in-github",
        "colab_type": "text"
      },
      "source": [
        "<a href=\"https://colab.research.google.com/github/hoky1227/Transformer_based-recommendation/blob/main/Transformer_Korean.ipynb\" target=\"_parent\"><img src=\"https://colab.research.google.com/assets/colab-badge.svg\" alt=\"Open In Colab\"/></a>"
      ]
    },
    {
      "cell_type": "markdown",
      "metadata": {
        "id": "W3TQe0cWt5zG"
      },
      "source": [
        "# Gdrive  연동"
      ]
    },
    {
      "cell_type": "code",
      "metadata": {
        "id": "6dq-T8350NqV",
        "colab": {
          "base_uri": "https://localhost:8080/"
        },
        "outputId": "02031473-dc22-49ee-ff3d-8ad4ae881b88"
      },
      "source": [
        "from google.colab import drive\n",
        "\n",
        "drive.mount('/content/drive')\n",
        "path = '/content/drive/MyDrive/'"
      ],
      "execution_count": 1,
      "outputs": [
        {
          "output_type": "stream",
          "text": [
            "Mounted at /content/drive\n"
          ],
          "name": "stdout"
        }
      ]
    },
    {
      "cell_type": "markdown",
      "metadata": {
        "id": "5AFoTyd6t_bk"
      },
      "source": [
        "# Import Modules"
      ]
    },
    {
      "cell_type": "code",
      "metadata": {
        "id": "vyY73CHDuYfK",
        "colab": {
          "base_uri": "https://localhost:8080/"
        },
        "outputId": "88bdbc3b-82f6-4c41-e0cf-68a8b1588908"
      },
      "source": [
        "!pip install konlpy # 한국어 Tokenizer"
      ],
      "execution_count": 2,
      "outputs": [
        {
          "output_type": "stream",
          "text": [
            "Collecting konlpy\n",
            "\u001b[?25l  Downloading https://files.pythonhosted.org/packages/85/0e/f385566fec837c0b83f216b2da65db9997b35dd675e107752005b7d392b1/konlpy-0.5.2-py2.py3-none-any.whl (19.4MB)\n",
            "\u001b[K     |████████████████████████████████| 19.4MB 157kB/s \n",
            "\u001b[?25hRequirement already satisfied: numpy>=1.6 in /usr/local/lib/python3.7/dist-packages (from konlpy) (1.19.5)\n",
            "Collecting colorama\n",
            "  Downloading https://files.pythonhosted.org/packages/44/98/5b86278fbbf250d239ae0ecb724f8572af1c91f4a11edf4d36a206189440/colorama-0.4.4-py2.py3-none-any.whl\n",
            "Requirement already satisfied: lxml>=4.1.0 in /usr/local/lib/python3.7/dist-packages (from konlpy) (4.2.6)\n",
            "Collecting JPype1>=0.7.0\n",
            "\u001b[?25l  Downloading https://files.pythonhosted.org/packages/cd/a5/9781e2ef4ca92d09912c4794642c1653aea7607f473e156cf4d423a881a1/JPype1-1.2.1-cp37-cp37m-manylinux2010_x86_64.whl (457kB)\n",
            "\u001b[K     |████████████████████████████████| 460kB 56.8MB/s \n",
            "\u001b[?25hRequirement already satisfied: tweepy>=3.7.0 in /usr/local/lib/python3.7/dist-packages (from konlpy) (3.10.0)\n",
            "Collecting beautifulsoup4==4.6.0\n",
            "\u001b[?25l  Downloading https://files.pythonhosted.org/packages/9e/d4/10f46e5cfac773e22707237bfcd51bbffeaf0a576b0a847ec7ab15bd7ace/beautifulsoup4-4.6.0-py3-none-any.whl (86kB)\n",
            "\u001b[K     |████████████████████████████████| 92kB 14.3MB/s \n",
            "\u001b[?25hRequirement already satisfied: typing-extensions; python_version < \"3.8\" in /usr/local/lib/python3.7/dist-packages (from JPype1>=0.7.0->konlpy) (3.7.4.3)\n",
            "Requirement already satisfied: requests-oauthlib>=0.7.0 in /usr/local/lib/python3.7/dist-packages (from tweepy>=3.7.0->konlpy) (1.3.0)\n",
            "Requirement already satisfied: requests[socks]>=2.11.1 in /usr/local/lib/python3.7/dist-packages (from tweepy>=3.7.0->konlpy) (2.23.0)\n",
            "Requirement already satisfied: six>=1.10.0 in /usr/local/lib/python3.7/dist-packages (from tweepy>=3.7.0->konlpy) (1.15.0)\n",
            "Requirement already satisfied: oauthlib>=3.0.0 in /usr/local/lib/python3.7/dist-packages (from requests-oauthlib>=0.7.0->tweepy>=3.7.0->konlpy) (3.1.0)\n",
            "Requirement already satisfied: certifi>=2017.4.17 in /usr/local/lib/python3.7/dist-packages (from requests[socks]>=2.11.1->tweepy>=3.7.0->konlpy) (2020.12.5)\n",
            "Requirement already satisfied: chardet<4,>=3.0.2 in /usr/local/lib/python3.7/dist-packages (from requests[socks]>=2.11.1->tweepy>=3.7.0->konlpy) (3.0.4)\n",
            "Requirement already satisfied: idna<3,>=2.5 in /usr/local/lib/python3.7/dist-packages (from requests[socks]>=2.11.1->tweepy>=3.7.0->konlpy) (2.10)\n",
            "Requirement already satisfied: urllib3!=1.25.0,!=1.25.1,<1.26,>=1.21.1 in /usr/local/lib/python3.7/dist-packages (from requests[socks]>=2.11.1->tweepy>=3.7.0->konlpy) (1.24.3)\n",
            "Requirement already satisfied: PySocks!=1.5.7,>=1.5.6; extra == \"socks\" in /usr/local/lib/python3.7/dist-packages (from requests[socks]>=2.11.1->tweepy>=3.7.0->konlpy) (1.7.1)\n",
            "Installing collected packages: colorama, JPype1, beautifulsoup4, konlpy\n",
            "  Found existing installation: beautifulsoup4 4.6.3\n",
            "    Uninstalling beautifulsoup4-4.6.3:\n",
            "      Successfully uninstalled beautifulsoup4-4.6.3\n",
            "Successfully installed JPype1-1.2.1 beautifulsoup4-4.6.0 colorama-0.4.4 konlpy-0.5.2\n"
          ],
          "name": "stdout"
        }
      ]
    },
    {
      "cell_type": "code",
      "metadata": {
        "id": "2fSYBsOa80TU"
      },
      "source": [
        "from dateutil.parser import parse\n",
        "import tqdm\n",
        "import tensorflow_datasets as tfds\n",
        "import tensorflow as tf\n",
        "import re\n",
        "\n",
        "import numpy as np\n",
        "import pandas as pd\n",
        "\n",
        "from gensim.models import Word2Vec\n",
        "import matplotlib.pyplot as plt\n",
        "from tqdm import tqdm_notebook\n",
        "import math\n",
        "\n",
        "from konlpy.tag import Kkma\n",
        "kkma = Kkma()\n",
        "from konlpy.tag import Okt\n",
        "okt = Okt()\n",
        "\n",
        "import warnings \n",
        "\n",
        "warnings.filterwarnings('ignore')\n",
        "\n",
        "#재현성을 위해 seed 고정\n",
        "\n",
        "np.random.seed(2021)\n",
        "tf.random.set_seed(2021)"
      ],
      "execution_count": 3,
      "outputs": []
    },
    {
      "cell_type": "markdown",
      "metadata": {
        "id": "ISUqVW92uEYu"
      },
      "source": [
        "# Data 전처리"
      ]
    },
    {
      "cell_type": "code",
      "metadata": {
        "id": "Cv6iX6_g00Yq",
        "colab": {
          "base_uri": "https://localhost:8080/",
          "height": 555
        },
        "outputId": "55919631-697c-4904-ce10-2e880e339376"
      },
      "source": [
        "df = pd.read_excel(path + \"transformer_UB.xlsx\")\n",
        "print(df.isnull().sum())\n",
        "df.dropna(inplace=True)\n",
        "print(df.duplicated().sum())\n",
        "df.drop_duplicates(inplace=True)\n",
        "df"
      ],
      "execution_count": 4,
      "outputs": [
        {
          "output_type": "stream",
          "text": [
            "거래번호       0\n",
            "거래일자       0\n",
            "거래시간       0\n",
            "고객번호       0\n",
            "상품명     1225\n",
            "구분         0\n",
            "dtype: int64\n",
            "0\n"
          ],
          "name": "stdout"
        },
        {
          "output_type": "execute_result",
          "data": {
            "text/html": [
              "<div>\n",
              "<style scoped>\n",
              "    .dataframe tbody tr th:only-of-type {\n",
              "        vertical-align: middle;\n",
              "    }\n",
              "\n",
              "    .dataframe tbody tr th {\n",
              "        vertical-align: top;\n",
              "    }\n",
              "\n",
              "    .dataframe thead th {\n",
              "        text-align: right;\n",
              "    }\n",
              "</style>\n",
              "<table border=\"1\" class=\"dataframe\">\n",
              "  <thead>\n",
              "    <tr style=\"text-align: right;\">\n",
              "      <th></th>\n",
              "      <th>거래번호</th>\n",
              "      <th>거래일자</th>\n",
              "      <th>거래시간</th>\n",
              "      <th>고객번호</th>\n",
              "      <th>상품명</th>\n",
              "      <th>구분</th>\n",
              "    </tr>\n",
              "  </thead>\n",
              "  <tbody>\n",
              "    <tr>\n",
              "      <th>0</th>\n",
              "      <td>061R216791404802</td>\n",
              "      <td>20210302</td>\n",
              "      <td>18</td>\n",
              "      <td>1030910</td>\n",
              "      <td>Americano / Tall외 1건</td>\n",
              "      <td>울산페이</td>\n",
              "    </tr>\n",
              "    <tr>\n",
              "      <th>1</th>\n",
              "      <td>061R214106002408</td>\n",
              "      <td>20210302</td>\n",
              "      <td>11</td>\n",
              "      <td>1030910</td>\n",
              "      <td>Americano / Tall외 2건</td>\n",
              "      <td>울산페이</td>\n",
              "    </tr>\n",
              "    <tr>\n",
              "      <th>2</th>\n",
              "      <td>062R213236207516</td>\n",
              "      <td>20210303</td>\n",
              "      <td>8</td>\n",
              "      <td>1030910</td>\n",
              "      <td>Caffe Mocha / Tall외 1건</td>\n",
              "      <td>울산페이</td>\n",
              "    </tr>\n",
              "    <tr>\n",
              "      <th>3</th>\n",
              "      <td>062R213236807497</td>\n",
              "      <td>20210303</td>\n",
              "      <td>9</td>\n",
              "      <td>1025745</td>\n",
              "      <td>Americano / Tall외 1건</td>\n",
              "      <td>울산페이</td>\n",
              "    </tr>\n",
              "    <tr>\n",
              "      <th>4</th>\n",
              "      <td>061R216769704492</td>\n",
              "      <td>20210302</td>\n",
              "      <td>18</td>\n",
              "      <td>1030910</td>\n",
              "      <td>Americano / Tall외 1건</td>\n",
              "      <td>울산페이</td>\n",
              "    </tr>\n",
              "    <tr>\n",
              "      <th>...</th>\n",
              "      <td>...</td>\n",
              "      <td>...</td>\n",
              "      <td>...</td>\n",
              "      <td>...</td>\n",
              "      <td>...</td>\n",
              "      <td>...</td>\n",
              "    </tr>\n",
              "    <tr>\n",
              "      <th>13644</th>\n",
              "      <td>280R204467223875</td>\n",
              "      <td>20201006</td>\n",
              "      <td>122531</td>\n",
              "      <td>1066073</td>\n",
              "      <td>우편물</td>\n",
              "      <td>유비페이(구)</td>\n",
              "    </tr>\n",
              "    <tr>\n",
              "      <th>13645</th>\n",
              "      <td>280R204467323876</td>\n",
              "      <td>20201006</td>\n",
              "      <td>122449</td>\n",
              "      <td>719672</td>\n",
              "      <td>[한예지] 볼륨앤소프트 3겹 화장지 20m 30롤 3팩</td>\n",
              "      <td>유비페이(구)</td>\n",
              "    </tr>\n",
              "    <tr>\n",
              "      <th>13646</th>\n",
              "      <td>280R204477123830</td>\n",
              "      <td>20201006</td>\n",
              "      <td>122628</td>\n",
              "      <td>942118</td>\n",
              "      <td>약제비</td>\n",
              "      <td>유비페이(구)</td>\n",
              "    </tr>\n",
              "    <tr>\n",
              "      <th>13647</th>\n",
              "      <td>280R205282523848</td>\n",
              "      <td>20201006</td>\n",
              "      <td>144042</td>\n",
              "      <td>703839</td>\n",
              "      <td>[2020년 햇]강화순무 4kg + 강화순무물김치 3kg / 총 7kg</td>\n",
              "      <td>유비페이(구)</td>\n",
              "    </tr>\n",
              "    <tr>\n",
              "      <th>13649</th>\n",
              "      <td>280R205355323849</td>\n",
              "      <td>20201006</td>\n",
              "      <td>145250</td>\n",
              "      <td>715397</td>\n",
              "      <td>[M9]남성릴렉스데님팬츠2종</td>\n",
              "      <td>유비페이(구)</td>\n",
              "    </tr>\n",
              "  </tbody>\n",
              "</table>\n",
              "<p>12425 rows × 6 columns</p>\n",
              "</div>"
            ],
            "text/plain": [
              "                   거래번호  ...       구분\n",
              "0      061R216791404802  ...     울산페이\n",
              "1      061R214106002408  ...     울산페이\n",
              "2      062R213236207516  ...     울산페이\n",
              "3      062R213236807497  ...     울산페이\n",
              "4      061R216769704492  ...     울산페이\n",
              "...                 ...  ...      ...\n",
              "13644  280R204467223875  ...  유비페이(구)\n",
              "13645  280R204467323876  ...  유비페이(구)\n",
              "13646  280R204477123830  ...  유비페이(구)\n",
              "13647  280R205282523848  ...  유비페이(구)\n",
              "13649  280R205355323849  ...  유비페이(구)\n",
              "\n",
              "[12425 rows x 6 columns]"
            ]
          },
          "metadata": {
            "tags": []
          },
          "execution_count": 4
        }
      ]
    },
    {
      "cell_type": "code",
      "metadata": {
        "id": "97267Uc01JTv",
        "colab": {
          "base_uri": "https://localhost:8080/",
          "height": 204
        },
        "outputId": "1a09cbe5-b13d-440f-a28b-637faafd46ed"
      },
      "source": [
        "df.drop(['구분'],axis=1, inplace=True)\n",
        "df.head()"
      ],
      "execution_count": 5,
      "outputs": [
        {
          "output_type": "execute_result",
          "data": {
            "text/html": [
              "<div>\n",
              "<style scoped>\n",
              "    .dataframe tbody tr th:only-of-type {\n",
              "        vertical-align: middle;\n",
              "    }\n",
              "\n",
              "    .dataframe tbody tr th {\n",
              "        vertical-align: top;\n",
              "    }\n",
              "\n",
              "    .dataframe thead th {\n",
              "        text-align: right;\n",
              "    }\n",
              "</style>\n",
              "<table border=\"1\" class=\"dataframe\">\n",
              "  <thead>\n",
              "    <tr style=\"text-align: right;\">\n",
              "      <th></th>\n",
              "      <th>거래번호</th>\n",
              "      <th>거래일자</th>\n",
              "      <th>거래시간</th>\n",
              "      <th>고객번호</th>\n",
              "      <th>상품명</th>\n",
              "    </tr>\n",
              "  </thead>\n",
              "  <tbody>\n",
              "    <tr>\n",
              "      <th>0</th>\n",
              "      <td>061R216791404802</td>\n",
              "      <td>20210302</td>\n",
              "      <td>18</td>\n",
              "      <td>1030910</td>\n",
              "      <td>Americano / Tall외 1건</td>\n",
              "    </tr>\n",
              "    <tr>\n",
              "      <th>1</th>\n",
              "      <td>061R214106002408</td>\n",
              "      <td>20210302</td>\n",
              "      <td>11</td>\n",
              "      <td>1030910</td>\n",
              "      <td>Americano / Tall외 2건</td>\n",
              "    </tr>\n",
              "    <tr>\n",
              "      <th>2</th>\n",
              "      <td>062R213236207516</td>\n",
              "      <td>20210303</td>\n",
              "      <td>8</td>\n",
              "      <td>1030910</td>\n",
              "      <td>Caffe Mocha / Tall외 1건</td>\n",
              "    </tr>\n",
              "    <tr>\n",
              "      <th>3</th>\n",
              "      <td>062R213236807497</td>\n",
              "      <td>20210303</td>\n",
              "      <td>9</td>\n",
              "      <td>1025745</td>\n",
              "      <td>Americano / Tall외 1건</td>\n",
              "    </tr>\n",
              "    <tr>\n",
              "      <th>4</th>\n",
              "      <td>061R216769704492</td>\n",
              "      <td>20210302</td>\n",
              "      <td>18</td>\n",
              "      <td>1030910</td>\n",
              "      <td>Americano / Tall외 1건</td>\n",
              "    </tr>\n",
              "  </tbody>\n",
              "</table>\n",
              "</div>"
            ],
            "text/plain": [
              "               거래번호      거래일자  거래시간     고객번호                     상품명\n",
              "0  061R216791404802  20210302    18  1030910    Americano / Tall외 1건\n",
              "1  061R214106002408  20210302    11  1030910    Americano / Tall외 2건\n",
              "2  062R213236207516  20210303     8  1030910  Caffe Mocha / Tall외 1건\n",
              "3  062R213236807497  20210303     9  1025745    Americano / Tall외 1건\n",
              "4  061R216769704492  20210302    18  1030910    Americano / Tall외 1건"
            ]
          },
          "metadata": {
            "tags": []
          },
          "execution_count": 5
        }
      ]
    },
    {
      "cell_type": "code",
      "metadata": {
        "colab": {
          "base_uri": "https://localhost:8080/"
        },
        "id": "RqL1M0qijO4T",
        "outputId": "12f277a4-bed6-42d8-b41c-70fdaad1efff"
      },
      "source": [
        "detail = df['상품명'].unique() # Jaccard 유사도 검사에 필요\n",
        "len(detail)"
      ],
      "execution_count": 6,
      "outputs": [
        {
          "output_type": "execute_result",
          "data": {
            "text/plain": [
              "1982"
            ]
          },
          "metadata": {
            "tags": []
          },
          "execution_count": 6
        }
      ]
    },
    {
      "cell_type": "code",
      "metadata": {
        "id": "2z68B2Z1bzDt"
      },
      "source": [
        "def sortdf(data, column):\n",
        "    data.sort_values(column, inplace=True)\n",
        "    data.reset_index(inplace=True)\n",
        "    data.pop('index')\n",
        "    return data"
      ],
      "execution_count": 7,
      "outputs": []
    },
    {
      "cell_type": "code",
      "metadata": {
        "colab": {
          "base_uri": "https://localhost:8080/",
          "height": 419
        },
        "id": "7wM3rL5Hj016",
        "outputId": "6d1c1c4f-ff2a-4162-c2e9-dd6205858a1d"
      },
      "source": [
        "sortdf(df, ['고객번호', '거래일자', '거래시간'])"
      ],
      "execution_count": 8,
      "outputs": [
        {
          "output_type": "execute_result",
          "data": {
            "text/html": [
              "<div>\n",
              "<style scoped>\n",
              "    .dataframe tbody tr th:only-of-type {\n",
              "        vertical-align: middle;\n",
              "    }\n",
              "\n",
              "    .dataframe tbody tr th {\n",
              "        vertical-align: top;\n",
              "    }\n",
              "\n",
              "    .dataframe thead th {\n",
              "        text-align: right;\n",
              "    }\n",
              "</style>\n",
              "<table border=\"1\" class=\"dataframe\">\n",
              "  <thead>\n",
              "    <tr style=\"text-align: right;\">\n",
              "      <th></th>\n",
              "      <th>거래번호</th>\n",
              "      <th>거래일자</th>\n",
              "      <th>거래시간</th>\n",
              "      <th>고객번호</th>\n",
              "      <th>상품명</th>\n",
              "    </tr>\n",
              "  </thead>\n",
              "  <tbody>\n",
              "    <tr>\n",
              "      <th>0</th>\n",
              "      <td>122R203988815073</td>\n",
              "      <td>20200501</td>\n",
              "      <td>110500</td>\n",
              "      <td>36</td>\n",
              "      <td>우편물</td>\n",
              "    </tr>\n",
              "    <tr>\n",
              "      <th>1</th>\n",
              "      <td>203R204371664285</td>\n",
              "      <td>20200721</td>\n",
              "      <td>120902</td>\n",
              "      <td>36</td>\n",
              "      <td>더블더블 / 감자튀김 딥치즈 업그레이드 세트</td>\n",
              "    </tr>\n",
              "    <tr>\n",
              "      <th>2</th>\n",
              "      <td>204R204556964772</td>\n",
              "      <td>20200722</td>\n",
              "      <td>123940</td>\n",
              "      <td>36</td>\n",
              "      <td>꿀유자차 / 아이스</td>\n",
              "    </tr>\n",
              "    <tr>\n",
              "      <th>3</th>\n",
              "      <td>205R204563565281</td>\n",
              "      <td>20200723</td>\n",
              "      <td>124049</td>\n",
              "      <td>36</td>\n",
              "      <td>바닐라라떼 / 아이스</td>\n",
              "    </tr>\n",
              "    <tr>\n",
              "      <th>4</th>\n",
              "      <td>206R204522965902</td>\n",
              "      <td>20200724</td>\n",
              "      <td>123402</td>\n",
              "      <td>36</td>\n",
              "      <td>바닐라라떼 / 아이스</td>\n",
              "    </tr>\n",
              "    <tr>\n",
              "      <th>...</th>\n",
              "      <td>...</td>\n",
              "      <td>...</td>\n",
              "      <td>...</td>\n",
              "      <td>...</td>\n",
              "      <td>...</td>\n",
              "    </tr>\n",
              "    <tr>\n",
              "      <th>12420</th>\n",
              "      <td>070R214128821970</td>\n",
              "      <td>20210311</td>\n",
              "      <td>11</td>\n",
              "      <td>1987728</td>\n",
              "      <td>아메리카노 / ICE</td>\n",
              "    </tr>\n",
              "    <tr>\n",
              "      <th>12421</th>\n",
              "      <td>076R214076933731</td>\n",
              "      <td>20210317</td>\n",
              "      <td>11</td>\n",
              "      <td>1996381</td>\n",
              "      <td>[Best] 제주 흑돼지 돈까스샌드위치</td>\n",
              "    </tr>\n",
              "    <tr>\n",
              "      <th>12422</th>\n",
              "      <td>076R215430534237</td>\n",
              "      <td>20210317</td>\n",
              "      <td>15</td>\n",
              "      <td>1996381</td>\n",
              "      <td>[Bset] 프레즐빠다</td>\n",
              "    </tr>\n",
              "    <tr>\n",
              "      <th>12423</th>\n",
              "      <td>076R215684034355</td>\n",
              "      <td>20210317</td>\n",
              "      <td>15</td>\n",
              "      <td>1996646</td>\n",
              "      <td>에그모닝</td>\n",
              "    </tr>\n",
              "    <tr>\n",
              "      <th>12424</th>\n",
              "      <td>076R215726734365</td>\n",
              "      <td>20210317</td>\n",
              "      <td>15</td>\n",
              "      <td>1996646</td>\n",
              "      <td>생크림팥빵</td>\n",
              "    </tr>\n",
              "  </tbody>\n",
              "</table>\n",
              "<p>12425 rows × 5 columns</p>\n",
              "</div>"
            ],
            "text/plain": [
              "                   거래번호      거래일자    거래시간     고객번호                       상품명\n",
              "0      122R203988815073  20200501  110500       36                       우편물\n",
              "1      203R204371664285  20200721  120902       36  더블더블 / 감자튀김 딥치즈 업그레이드 세트\n",
              "2      204R204556964772  20200722  123940       36                꿀유자차 / 아이스\n",
              "3      205R204563565281  20200723  124049       36               바닐라라떼 / 아이스\n",
              "4      206R204522965902  20200724  123402       36               바닐라라떼 / 아이스\n",
              "...                 ...       ...     ...      ...                       ...\n",
              "12420  070R214128821970  20210311      11  1987728               아메리카노 / ICE\n",
              "12421  076R214076933731  20210317      11  1996381     [Best] 제주 흑돼지 돈까스샌드위치\n",
              "12422  076R215430534237  20210317      15  1996381              [Bset] 프레즐빠다\n",
              "12423  076R215684034355  20210317      15  1996646                      에그모닝\n",
              "12424  076R215726734365  20210317      15  1996646                     생크림팥빵\n",
              "\n",
              "[12425 rows x 5 columns]"
            ]
          },
          "metadata": {
            "tags": []
          },
          "execution_count": 8
        }
      ]
    },
    {
      "cell_type": "code",
      "metadata": {
        "colab": {
          "base_uri": "https://localhost:8080/",
          "height": 204
        },
        "id": "JC8JAZO3kjaP",
        "outputId": "17e2bf91-cba1-4508-a6c6-5e329a9f3ef2"
      },
      "source": [
        "df.drop(['거래번호', '거래일자', '거래시간'],axis=1, inplace=True)\n",
        "df.head()"
      ],
      "execution_count": 9,
      "outputs": [
        {
          "output_type": "execute_result",
          "data": {
            "text/html": [
              "<div>\n",
              "<style scoped>\n",
              "    .dataframe tbody tr th:only-of-type {\n",
              "        vertical-align: middle;\n",
              "    }\n",
              "\n",
              "    .dataframe tbody tr th {\n",
              "        vertical-align: top;\n",
              "    }\n",
              "\n",
              "    .dataframe thead th {\n",
              "        text-align: right;\n",
              "    }\n",
              "</style>\n",
              "<table border=\"1\" class=\"dataframe\">\n",
              "  <thead>\n",
              "    <tr style=\"text-align: right;\">\n",
              "      <th></th>\n",
              "      <th>고객번호</th>\n",
              "      <th>상품명</th>\n",
              "    </tr>\n",
              "  </thead>\n",
              "  <tbody>\n",
              "    <tr>\n",
              "      <th>0</th>\n",
              "      <td>36</td>\n",
              "      <td>우편물</td>\n",
              "    </tr>\n",
              "    <tr>\n",
              "      <th>1</th>\n",
              "      <td>36</td>\n",
              "      <td>더블더블 / 감자튀김 딥치즈 업그레이드 세트</td>\n",
              "    </tr>\n",
              "    <tr>\n",
              "      <th>2</th>\n",
              "      <td>36</td>\n",
              "      <td>꿀유자차 / 아이스</td>\n",
              "    </tr>\n",
              "    <tr>\n",
              "      <th>3</th>\n",
              "      <td>36</td>\n",
              "      <td>바닐라라떼 / 아이스</td>\n",
              "    </tr>\n",
              "    <tr>\n",
              "      <th>4</th>\n",
              "      <td>36</td>\n",
              "      <td>바닐라라떼 / 아이스</td>\n",
              "    </tr>\n",
              "  </tbody>\n",
              "</table>\n",
              "</div>"
            ],
            "text/plain": [
              "   고객번호                       상품명\n",
              "0    36                       우편물\n",
              "1    36  더블더블 / 감자튀김 딥치즈 업그레이드 세트\n",
              "2    36                꿀유자차 / 아이스\n",
              "3    36               바닐라라떼 / 아이스\n",
              "4    36               바닐라라떼 / 아이스"
            ]
          },
          "metadata": {
            "tags": []
          },
          "execution_count": 9
        }
      ]
    },
    {
      "cell_type": "code",
      "metadata": {
        "colab": {
          "base_uri": "https://localhost:8080/",
          "height": 419
        },
        "id": "6A0AR9sZpnss",
        "outputId": "1e4f0f85-dbb9-48c2-953f-6442c9d0cc24"
      },
      "source": [
        "# 거래건수 1건인 유저 제외\n",
        "user = df['고객번호'].unique()\n",
        "\n",
        "for v in user:\n",
        "    a = df[df['고객번호'] == v]\n",
        "    if len(a) < 2:\n",
        "        idx = a.index\n",
        "        df.drop(idx, inplace=True)\n",
        "df"
      ],
      "execution_count": 10,
      "outputs": [
        {
          "output_type": "execute_result",
          "data": {
            "text/html": [
              "<div>\n",
              "<style scoped>\n",
              "    .dataframe tbody tr th:only-of-type {\n",
              "        vertical-align: middle;\n",
              "    }\n",
              "\n",
              "    .dataframe tbody tr th {\n",
              "        vertical-align: top;\n",
              "    }\n",
              "\n",
              "    .dataframe thead th {\n",
              "        text-align: right;\n",
              "    }\n",
              "</style>\n",
              "<table border=\"1\" class=\"dataframe\">\n",
              "  <thead>\n",
              "    <tr style=\"text-align: right;\">\n",
              "      <th></th>\n",
              "      <th>고객번호</th>\n",
              "      <th>상품명</th>\n",
              "    </tr>\n",
              "  </thead>\n",
              "  <tbody>\n",
              "    <tr>\n",
              "      <th>0</th>\n",
              "      <td>36</td>\n",
              "      <td>우편물</td>\n",
              "    </tr>\n",
              "    <tr>\n",
              "      <th>1</th>\n",
              "      <td>36</td>\n",
              "      <td>더블더블 / 감자튀김 딥치즈 업그레이드 세트</td>\n",
              "    </tr>\n",
              "    <tr>\n",
              "      <th>2</th>\n",
              "      <td>36</td>\n",
              "      <td>꿀유자차 / 아이스</td>\n",
              "    </tr>\n",
              "    <tr>\n",
              "      <th>3</th>\n",
              "      <td>36</td>\n",
              "      <td>바닐라라떼 / 아이스</td>\n",
              "    </tr>\n",
              "    <tr>\n",
              "      <th>4</th>\n",
              "      <td>36</td>\n",
              "      <td>바닐라라떼 / 아이스</td>\n",
              "    </tr>\n",
              "    <tr>\n",
              "      <th>...</th>\n",
              "      <td>...</td>\n",
              "      <td>...</td>\n",
              "    </tr>\n",
              "    <tr>\n",
              "      <th>12420</th>\n",
              "      <td>1987728</td>\n",
              "      <td>아메리카노 / ICE</td>\n",
              "    </tr>\n",
              "    <tr>\n",
              "      <th>12421</th>\n",
              "      <td>1996381</td>\n",
              "      <td>[Best] 제주 흑돼지 돈까스샌드위치</td>\n",
              "    </tr>\n",
              "    <tr>\n",
              "      <th>12422</th>\n",
              "      <td>1996381</td>\n",
              "      <td>[Bset] 프레즐빠다</td>\n",
              "    </tr>\n",
              "    <tr>\n",
              "      <th>12423</th>\n",
              "      <td>1996646</td>\n",
              "      <td>에그모닝</td>\n",
              "    </tr>\n",
              "    <tr>\n",
              "      <th>12424</th>\n",
              "      <td>1996646</td>\n",
              "      <td>생크림팥빵</td>\n",
              "    </tr>\n",
              "  </tbody>\n",
              "</table>\n",
              "<p>12413 rows × 2 columns</p>\n",
              "</div>"
            ],
            "text/plain": [
              "          고객번호                       상품명\n",
              "0           36                       우편물\n",
              "1           36  더블더블 / 감자튀김 딥치즈 업그레이드 세트\n",
              "2           36                꿀유자차 / 아이스\n",
              "3           36               바닐라라떼 / 아이스\n",
              "4           36               바닐라라떼 / 아이스\n",
              "...        ...                       ...\n",
              "12420  1987728               아메리카노 / ICE\n",
              "12421  1996381     [Best] 제주 흑돼지 돈까스샌드위치\n",
              "12422  1996381              [Bset] 프레즐빠다\n",
              "12423  1996646                      에그모닝\n",
              "12424  1996646                     생크림팥빵\n",
              "\n",
              "[12413 rows x 2 columns]"
            ]
          },
          "metadata": {
            "tags": []
          },
          "execution_count": 10
        }
      ]
    },
    {
      "cell_type": "markdown",
      "metadata": {
        "id": "BaMi9pgnu43j"
      },
      "source": [
        "## Customer 기준 history"
      ]
    },
    {
      "cell_type": "code",
      "metadata": {
        "id": "TMkNoW7JlsWG",
        "colab": {
          "base_uri": "https://localhost:8080/",
          "height": 419
        },
        "outputId": "106937db-af59-4a84-acd9-0d3f9ce5283a"
      },
      "source": [
        "df2 = pd.DataFrame(columns=df.columns)\n",
        "values = df['고객번호'].value_counts().index.sort_values()\n",
        "\n",
        "for i, v in enumerate(values):\n",
        "    df2.loc[i] = (v, '&&'.join(df[df['고객번호'] == v]['상품명']))\n",
        "df2"
      ],
      "execution_count": 11,
      "outputs": [
        {
          "output_type": "execute_result",
          "data": {
            "text/html": [
              "<div>\n",
              "<style scoped>\n",
              "    .dataframe tbody tr th:only-of-type {\n",
              "        vertical-align: middle;\n",
              "    }\n",
              "\n",
              "    .dataframe tbody tr th {\n",
              "        vertical-align: top;\n",
              "    }\n",
              "\n",
              "    .dataframe thead th {\n",
              "        text-align: right;\n",
              "    }\n",
              "</style>\n",
              "<table border=\"1\" class=\"dataframe\">\n",
              "  <thead>\n",
              "    <tr style=\"text-align: right;\">\n",
              "      <th></th>\n",
              "      <th>고객번호</th>\n",
              "      <th>상품명</th>\n",
              "    </tr>\n",
              "  </thead>\n",
              "  <tbody>\n",
              "    <tr>\n",
              "      <th>0</th>\n",
              "      <td>36</td>\n",
              "      <td>우편물&amp;&amp;더블더블 / 감자튀김 딥치즈 업그레이드 세트&amp;&amp;꿀유자차 / 아이스&amp;&amp;바닐라...</td>\n",
              "    </tr>\n",
              "    <tr>\n",
              "      <th>1</th>\n",
              "      <td>17492</td>\n",
              "      <td>납기내금액&amp;&amp;납기내금액&amp;&amp;납기내금액&amp;&amp;납기내금액&amp;&amp;납기내금액&amp;&amp;납기내금액&amp;&amp;납기내금...</td>\n",
              "    </tr>\n",
              "    <tr>\n",
              "      <th>2</th>\n",
              "      <td>26661</td>\n",
              "      <td>무료배달&amp;&amp;무료배달&amp;&amp;베이컨 치즈버거 / 일반세트(버거+음료+감자튀김)&amp;&amp;무료배달&amp;...</td>\n",
              "    </tr>\n",
              "    <tr>\n",
              "      <th>3</th>\n",
              "      <td>27462</td>\n",
              "      <td>컬쳐캐쉬1건&amp;&amp;컬쳐캐쉬1건&amp;&amp;아메리카노(일반) / 아이스,킹&amp;&amp;떡볶이&amp;&amp;더블더블 /...</td>\n",
              "    </tr>\n",
              "    <tr>\n",
              "      <th>4</th>\n",
              "      <td>27478</td>\n",
              "      <td>납기내금액&amp;&amp;납기내금액&amp;&amp;임성근손질민물장어 12팩+소스10봉&amp;&amp;납기내금액&amp;&amp;아메리카...</td>\n",
              "    </tr>\n",
              "    <tr>\n",
              "      <th>...</th>\n",
              "      <td>...</td>\n",
              "      <td>...</td>\n",
              "    </tr>\n",
              "    <tr>\n",
              "      <th>3407</th>\n",
              "      <td>1987446</td>\n",
              "      <td>일벌세트 / 약간 덜매운맛 : 추천 맵기(20%)외 2건&amp;&amp;일벌세트 / 약간 덜매운...</td>\n",
              "    </tr>\n",
              "    <tr>\n",
              "      <th>3408</th>\n",
              "      <td>1987625</td>\n",
              "      <td>(2마리) 코다리매콤명태찜 / 젓가락빼주세요외 2건&amp;&amp;(2마리) 코다리매콤명태찜 /...</td>\n",
              "    </tr>\n",
              "    <tr>\n",
              "      <th>3409</th>\n",
              "      <td>1987728</td>\n",
              "      <td>리얼초코자바칩프라페 / 휘핑 반만올리기외 1건&amp;&amp;아메리카노 / HOT&amp;&amp;아메리카노 ...</td>\n",
              "    </tr>\n",
              "    <tr>\n",
              "      <th>3410</th>\n",
              "      <td>1996381</td>\n",
              "      <td>[Best] 제주 흑돼지 돈까스샌드위치&amp;&amp;[Bset] 프레즐빠다</td>\n",
              "    </tr>\n",
              "    <tr>\n",
              "      <th>3411</th>\n",
              "      <td>1996646</td>\n",
              "      <td>에그모닝&amp;&amp;생크림팥빵</td>\n",
              "    </tr>\n",
              "  </tbody>\n",
              "</table>\n",
              "<p>3412 rows × 2 columns</p>\n",
              "</div>"
            ],
            "text/plain": [
              "         고객번호                                                상품명\n",
              "0          36  우편물&&더블더블 / 감자튀김 딥치즈 업그레이드 세트&&꿀유자차 / 아이스&&바닐라...\n",
              "1       17492  납기내금액&&납기내금액&&납기내금액&&납기내금액&&납기내금액&&납기내금액&&납기내금...\n",
              "2       26661  무료배달&&무료배달&&베이컨 치즈버거 / 일반세트(버거+음료+감자튀김)&&무료배달&...\n",
              "3       27462  컬쳐캐쉬1건&&컬쳐캐쉬1건&&아메리카노(일반) / 아이스,킹&&떡볶이&&더블더블 /...\n",
              "4       27478  납기내금액&&납기내금액&&임성근손질민물장어 12팩+소스10봉&&납기내금액&&아메리카...\n",
              "...       ...                                                ...\n",
              "3407  1987446  일벌세트 / 약간 덜매운맛 : 추천 맵기(20%)외 2건&&일벌세트 / 약간 덜매운...\n",
              "3408  1987625  (2마리) 코다리매콤명태찜 / 젓가락빼주세요외 2건&&(2마리) 코다리매콤명태찜 /...\n",
              "3409  1987728  리얼초코자바칩프라페 / 휘핑 반만올리기외 1건&&아메리카노 / HOT&&아메리카노 ...\n",
              "3410  1996381                [Best] 제주 흑돼지 돈까스샌드위치&&[Bset] 프레즐빠다\n",
              "3411  1996646                                        에그모닝&&생크림팥빵\n",
              "\n",
              "[3412 rows x 2 columns]"
            ]
          },
          "metadata": {
            "tags": []
          },
          "execution_count": 11
        }
      ]
    },
    {
      "cell_type": "code",
      "metadata": {
        "id": "S1cEH2F24cxZ",
        "colab": {
          "base_uri": "https://localhost:8080/",
          "height": 419
        },
        "outputId": "00318dfa-9534-401c-b5ca-ad5ef3674d24"
      },
      "source": [
        "ds_customer = df2.copy()\n",
        "ds_customer"
      ],
      "execution_count": 12,
      "outputs": [
        {
          "output_type": "execute_result",
          "data": {
            "text/html": [
              "<div>\n",
              "<style scoped>\n",
              "    .dataframe tbody tr th:only-of-type {\n",
              "        vertical-align: middle;\n",
              "    }\n",
              "\n",
              "    .dataframe tbody tr th {\n",
              "        vertical-align: top;\n",
              "    }\n",
              "\n",
              "    .dataframe thead th {\n",
              "        text-align: right;\n",
              "    }\n",
              "</style>\n",
              "<table border=\"1\" class=\"dataframe\">\n",
              "  <thead>\n",
              "    <tr style=\"text-align: right;\">\n",
              "      <th></th>\n",
              "      <th>고객번호</th>\n",
              "      <th>상품명</th>\n",
              "    </tr>\n",
              "  </thead>\n",
              "  <tbody>\n",
              "    <tr>\n",
              "      <th>0</th>\n",
              "      <td>36</td>\n",
              "      <td>우편물&amp;&amp;더블더블 / 감자튀김 딥치즈 업그레이드 세트&amp;&amp;꿀유자차 / 아이스&amp;&amp;바닐라...</td>\n",
              "    </tr>\n",
              "    <tr>\n",
              "      <th>1</th>\n",
              "      <td>17492</td>\n",
              "      <td>납기내금액&amp;&amp;납기내금액&amp;&amp;납기내금액&amp;&amp;납기내금액&amp;&amp;납기내금액&amp;&amp;납기내금액&amp;&amp;납기내금...</td>\n",
              "    </tr>\n",
              "    <tr>\n",
              "      <th>2</th>\n",
              "      <td>26661</td>\n",
              "      <td>무료배달&amp;&amp;무료배달&amp;&amp;베이컨 치즈버거 / 일반세트(버거+음료+감자튀김)&amp;&amp;무료배달&amp;...</td>\n",
              "    </tr>\n",
              "    <tr>\n",
              "      <th>3</th>\n",
              "      <td>27462</td>\n",
              "      <td>컬쳐캐쉬1건&amp;&amp;컬쳐캐쉬1건&amp;&amp;아메리카노(일반) / 아이스,킹&amp;&amp;떡볶이&amp;&amp;더블더블 /...</td>\n",
              "    </tr>\n",
              "    <tr>\n",
              "      <th>4</th>\n",
              "      <td>27478</td>\n",
              "      <td>납기내금액&amp;&amp;납기내금액&amp;&amp;임성근손질민물장어 12팩+소스10봉&amp;&amp;납기내금액&amp;&amp;아메리카...</td>\n",
              "    </tr>\n",
              "    <tr>\n",
              "      <th>...</th>\n",
              "      <td>...</td>\n",
              "      <td>...</td>\n",
              "    </tr>\n",
              "    <tr>\n",
              "      <th>3407</th>\n",
              "      <td>1987446</td>\n",
              "      <td>일벌세트 / 약간 덜매운맛 : 추천 맵기(20%)외 2건&amp;&amp;일벌세트 / 약간 덜매운...</td>\n",
              "    </tr>\n",
              "    <tr>\n",
              "      <th>3408</th>\n",
              "      <td>1987625</td>\n",
              "      <td>(2마리) 코다리매콤명태찜 / 젓가락빼주세요외 2건&amp;&amp;(2마리) 코다리매콤명태찜 /...</td>\n",
              "    </tr>\n",
              "    <tr>\n",
              "      <th>3409</th>\n",
              "      <td>1987728</td>\n",
              "      <td>리얼초코자바칩프라페 / 휘핑 반만올리기외 1건&amp;&amp;아메리카노 / HOT&amp;&amp;아메리카노 ...</td>\n",
              "    </tr>\n",
              "    <tr>\n",
              "      <th>3410</th>\n",
              "      <td>1996381</td>\n",
              "      <td>[Best] 제주 흑돼지 돈까스샌드위치&amp;&amp;[Bset] 프레즐빠다</td>\n",
              "    </tr>\n",
              "    <tr>\n",
              "      <th>3411</th>\n",
              "      <td>1996646</td>\n",
              "      <td>에그모닝&amp;&amp;생크림팥빵</td>\n",
              "    </tr>\n",
              "  </tbody>\n",
              "</table>\n",
              "<p>3412 rows × 2 columns</p>\n",
              "</div>"
            ],
            "text/plain": [
              "         고객번호                                                상품명\n",
              "0          36  우편물&&더블더블 / 감자튀김 딥치즈 업그레이드 세트&&꿀유자차 / 아이스&&바닐라...\n",
              "1       17492  납기내금액&&납기내금액&&납기내금액&&납기내금액&&납기내금액&&납기내금액&&납기내금...\n",
              "2       26661  무료배달&&무료배달&&베이컨 치즈버거 / 일반세트(버거+음료+감자튀김)&&무료배달&...\n",
              "3       27462  컬쳐캐쉬1건&&컬쳐캐쉬1건&&아메리카노(일반) / 아이스,킹&&떡볶이&&더블더블 /...\n",
              "4       27478  납기내금액&&납기내금액&&임성근손질민물장어 12팩+소스10봉&&납기내금액&&아메리카...\n",
              "...       ...                                                ...\n",
              "3407  1987446  일벌세트 / 약간 덜매운맛 : 추천 맵기(20%)외 2건&&일벌세트 / 약간 덜매운...\n",
              "3408  1987625  (2마리) 코다리매콤명태찜 / 젓가락빼주세요외 2건&&(2마리) 코다리매콤명태찜 /...\n",
              "3409  1987728  리얼초코자바칩프라페 / 휘핑 반만올리기외 1건&&아메리카노 / HOT&&아메리카노 ...\n",
              "3410  1996381                [Best] 제주 흑돼지 돈까스샌드위치&&[Bset] 프레즐빠다\n",
              "3411  1996646                                        에그모닝&&생크림팥빵\n",
              "\n",
              "[3412 rows x 2 columns]"
            ]
          },
          "metadata": {
            "tags": []
          },
          "execution_count": 12
        }
      ]
    },
    {
      "cell_type": "markdown",
      "metadata": {
        "id": "kZW2bDinvLAi"
      },
      "source": [
        "## 4 + 1로 전처리"
      ]
    },
    {
      "cell_type": "code",
      "metadata": {
        "id": "l-1jzVzBs4B7",
        "colab": {
          "base_uri": "https://localhost:8080/"
        },
        "outputId": "3d8781a7-b6ec-4a06-9dc1-658ff14bbc22"
      },
      "source": [
        "df_series = df2['상품명'].str.split('&&')\n",
        "df_series[:2]"
      ],
      "execution_count": 13,
      "outputs": [
        {
          "output_type": "execute_result",
          "data": {
            "text/plain": [
              "0    [우편물, 더블더블 / 감자튀김 딥치즈 업그레이드 세트, 꿀유자차 / 아이스, 바닐...\n",
              "1    [납기내금액, 납기내금액, 납기내금액, 납기내금액, 납기내금액, 납기내금액, 납기내...\n",
              "Name: 상품명, dtype: object"
            ]
          },
          "metadata": {
            "tags": []
          },
          "execution_count": 13
        }
      ]
    },
    {
      "cell_type": "code",
      "metadata": {
        "id": "UPMVQk8Sid5w"
      },
      "source": [
        "# 4+1로 자르는 함수\n",
        "sequence_length = 5\n",
        "step_size = 2\n",
        "\n",
        "# [4, 4, 5, 5, 6, 6]이라면, 아래 함수를 통해\n",
        "# [[4, 4, 5, 5], [5, 5, 6, 6]]으로 다시 만들어집니다.\n",
        "def create_sequences(values, window_size, step_size):\n",
        "    sequences = []\n",
        "    start_index = 0\n",
        "    while True:\n",
        "        end_index = start_index + window_size\n",
        "        seq = values[start_index:end_index]\n",
        "        # 뒤에 남은 데이터가 window_size보다 작으면 중지합니다.\n",
        "        if len(seq) < window_size:\n",
        "            seq = values[-window_size:]\n",
        "            # window_size와 같으면 list에 붙여줍니다.\n",
        "            if len(seq) == window_size:\n",
        "                sequences.append(seq)\n",
        "            break\n",
        "        sequences.append(seq)\n",
        "        start_index += step_size\n",
        "    return sequences"
      ],
      "execution_count": 14,
      "outputs": []
    },
    {
      "cell_type": "code",
      "metadata": {
        "colab": {
          "base_uri": "https://localhost:8080/"
        },
        "id": "Sh7K36Yf_LkN",
        "outputId": "526c2c64-dec7-412e-d329-d5eecfd00f97"
      },
      "source": [
        "# 5건 미만의 데이터를 유지하기 위해 5건 기준 분류\n",
        "aaa = []\n",
        "dfdf = []\n",
        "\n",
        "for i in range(len(df_series)):\n",
        "    if len(df_series[i]) < 5:\n",
        "        aaa.append(df_series[i])\n",
        "    else: dfdf.append(df_series[i])\n",
        "\n",
        "print(len(aaa))\n",
        "len(dfdf)"
      ],
      "execution_count": 15,
      "outputs": [
        {
          "output_type": "stream",
          "text": [
            "2845\n"
          ],
          "name": "stdout"
        },
        {
          "output_type": "execute_result",
          "data": {
            "text/plain": [
              "567"
            ]
          },
          "metadata": {
            "tags": []
          },
          "execution_count": 15
        }
      ]
    },
    {
      "cell_type": "code",
      "metadata": {
        "id": "fLsKL0oOidxk",
        "colab": {
          "base_uri": "https://localhost:8080/"
        },
        "outputId": "6dc033f3-7054-409c-b5e2-23ab570c066e"
      },
      "source": [
        "df_series1 = []\n",
        "\n",
        "for i, v in enumerate(dfdf):\n",
        "    df_series1.append(create_sequences(v, sequence_length, step_size))\n",
        "df_series1[:2]"
      ],
      "execution_count": 16,
      "outputs": [
        {
          "output_type": "execute_result",
          "data": {
            "text/plain": [
              "[[['우편물',\n",
              "   '더블더블 / 감자튀김 딥치즈 업그레이드 세트',\n",
              "   '꿀유자차 / 아이스',\n",
              "   '바닐라라떼 / 아이스',\n",
              "   '바닐라라떼 / 아이스'],\n",
              "  ['더블더블 / 감자튀김 딥치즈 업그레이드 세트',\n",
              "   '꿀유자차 / 아이스',\n",
              "   '바닐라라떼 / 아이스',\n",
              "   '바닐라라떼 / 아이스',\n",
              "   '[개인결제] 개인결제']],\n",
              " [['납기내금액', '납기내금액', '납기내금액', '납기내금액', '납기내금액'],\n",
              "  ['납기내금액', '납기내금액', '납기내금액', '납기내금액', '납기내금액'],\n",
              "  ['납기내금액', '납기내금액', '납기내금액', '납기내금액', '납기내금액'],\n",
              "  ['납기내금액', '납기내금액', '납기내금액', '납기내금액', '납기내금액']]]"
            ]
          },
          "metadata": {
            "tags": []
          },
          "execution_count": 16
        }
      ]
    },
    {
      "cell_type": "code",
      "metadata": {
        "colab": {
          "base_uri": "https://localhost:8080/"
        },
        "id": "ns3Lcrqs-xms",
        "outputId": "65d800dd-1763-4d24-f69a-ee2b7df7a27e"
      },
      "source": [
        "len(df_series1)"
      ],
      "execution_count": 17,
      "outputs": [
        {
          "output_type": "execute_result",
          "data": {
            "text/plain": [
              "567"
            ]
          },
          "metadata": {
            "tags": []
          },
          "execution_count": 17
        }
      ]
    },
    {
      "cell_type": "code",
      "metadata": {
        "id": "60t6EyoJBxVD"
      },
      "source": [
        "df_series1.append(aaa)"
      ],
      "execution_count": 18,
      "outputs": []
    },
    {
      "cell_type": "code",
      "metadata": {
        "colab": {
          "base_uri": "https://localhost:8080/"
        },
        "id": "gt82XdkJB0_3",
        "outputId": "1bf83c27-ecd7-40bc-9ef9-3bc62a74c56d"
      },
      "source": [
        "len(df_series1)"
      ],
      "execution_count": 19,
      "outputs": [
        {
          "output_type": "execute_result",
          "data": {
            "text/plain": [
              "568"
            ]
          },
          "metadata": {
            "tags": []
          },
          "execution_count": 19
        }
      ]
    },
    {
      "cell_type": "code",
      "metadata": {
        "id": "C6xzMc6x0cjI",
        "colab": {
          "base_uri": "https://localhost:8080/"
        },
        "outputId": "a125065e-d81a-496e-d31f-9c6b0d6d1495"
      },
      "source": [
        "df_list = []\n",
        "for v in df_series1:\n",
        "    for value in v:\n",
        "        df_list.append(value)\n",
        "df_list[:2]"
      ],
      "execution_count": 20,
      "outputs": [
        {
          "output_type": "execute_result",
          "data": {
            "text/plain": [
              "[['우편물',\n",
              "  '더블더블 / 감자튀김 딥치즈 업그레이드 세트',\n",
              "  '꿀유자차 / 아이스',\n",
              "  '바닐라라떼 / 아이스',\n",
              "  '바닐라라떼 / 아이스'],\n",
              " ['더블더블 / 감자튀김 딥치즈 업그레이드 세트',\n",
              "  '꿀유자차 / 아이스',\n",
              "  '바닐라라떼 / 아이스',\n",
              "  '바닐라라떼 / 아이스',\n",
              "  '[개인결제] 개인결제']]"
            ]
          },
          "metadata": {
            "tags": []
          },
          "execution_count": 20
        }
      ]
    },
    {
      "cell_type": "code",
      "metadata": {
        "id": "GNoqx3HvyLAK"
      },
      "source": [
        "label_list = []\n",
        "\n",
        "for i in range(len(df_list)):\n",
        "    l = df_list[i][-1]\n",
        "    df_list[i].pop()\n",
        "    label_list.append(l)"
      ],
      "execution_count": 21,
      "outputs": []
    },
    {
      "cell_type": "code",
      "metadata": {
        "id": "iU9kuMcL3iJ0",
        "colab": {
          "base_uri": "https://localhost:8080/"
        },
        "outputId": "68e2bf76-eca6-4f82-835b-9c17094f4662"
      },
      "source": [
        "df_list[:2]"
      ],
      "execution_count": 22,
      "outputs": [
        {
          "output_type": "execute_result",
          "data": {
            "text/plain": [
              "[['우편물', '더블더블 / 감자튀김 딥치즈 업그레이드 세트', '꿀유자차 / 아이스', '바닐라라떼 / 아이스'],\n",
              " ['더블더블 / 감자튀김 딥치즈 업그레이드 세트', '꿀유자차 / 아이스', '바닐라라떼 / 아이스', '바닐라라떼 / 아이스']]"
            ]
          },
          "metadata": {
            "tags": []
          },
          "execution_count": 22
        }
      ]
    },
    {
      "cell_type": "code",
      "metadata": {
        "id": "KOmcenzx3h5i",
        "colab": {
          "base_uri": "https://localhost:8080/"
        },
        "outputId": "edd76a33-f8d1-4e56-e86a-f70a8d5b02b2"
      },
      "source": [
        "label_list[:2]"
      ],
      "execution_count": 23,
      "outputs": [
        {
          "output_type": "execute_result",
          "data": {
            "text/plain": [
              "['바닐라라떼 / 아이스', '[개인결제] 개인결제']"
            ]
          },
          "metadata": {
            "tags": []
          },
          "execution_count": 23
        }
      ]
    },
    {
      "cell_type": "code",
      "metadata": {
        "id": "l556IhlQyLQV",
        "colab": {
          "base_uri": "https://localhost:8080/",
          "height": 419
        },
        "outputId": "77de2f20-81af-44fa-94f8-9eb2c817bcc5"
      },
      "source": [
        "df_new = pd.DataFrame(columns=['Detail', 'label'])\n",
        "df_new['Detail'] = df_list\n",
        "df_new['label'] = label_list\n",
        "df_new"
      ],
      "execution_count": 24,
      "outputs": [
        {
          "output_type": "execute_result",
          "data": {
            "text/html": [
              "<div>\n",
              "<style scoped>\n",
              "    .dataframe tbody tr th:only-of-type {\n",
              "        vertical-align: middle;\n",
              "    }\n",
              "\n",
              "    .dataframe tbody tr th {\n",
              "        vertical-align: top;\n",
              "    }\n",
              "\n",
              "    .dataframe thead th {\n",
              "        text-align: right;\n",
              "    }\n",
              "</style>\n",
              "<table border=\"1\" class=\"dataframe\">\n",
              "  <thead>\n",
              "    <tr style=\"text-align: right;\">\n",
              "      <th></th>\n",
              "      <th>Detail</th>\n",
              "      <th>label</th>\n",
              "    </tr>\n",
              "  </thead>\n",
              "  <tbody>\n",
              "    <tr>\n",
              "      <th>0</th>\n",
              "      <td>[우편물, 더블더블 / 감자튀김 딥치즈 업그레이드 세트, 꿀유자차 / 아이스, 바닐...</td>\n",
              "      <td>바닐라라떼 / 아이스</td>\n",
              "    </tr>\n",
              "    <tr>\n",
              "      <th>1</th>\n",
              "      <td>[더블더블 / 감자튀김 딥치즈 업그레이드 세트, 꿀유자차 / 아이스, 바닐라라떼 /...</td>\n",
              "      <td>[개인결제] 개인결제</td>\n",
              "    </tr>\n",
              "    <tr>\n",
              "      <th>2</th>\n",
              "      <td>[납기내금액, 납기내금액, 납기내금액, 납기내금액]</td>\n",
              "      <td>납기내금액</td>\n",
              "    </tr>\n",
              "    <tr>\n",
              "      <th>3</th>\n",
              "      <td>[납기내금액, 납기내금액, 납기내금액, 납기내금액]</td>\n",
              "      <td>납기내금액</td>\n",
              "    </tr>\n",
              "    <tr>\n",
              "      <th>4</th>\n",
              "      <td>[납기내금액, 납기내금액, 납기내금액, 납기내금액]</td>\n",
              "      <td>납기내금액</td>\n",
              "    </tr>\n",
              "    <tr>\n",
              "      <th>...</th>\n",
              "      <td>...</td>\n",
              "      <td>...</td>\n",
              "    </tr>\n",
              "    <tr>\n",
              "      <th>5223</th>\n",
              "      <td>[일벌세트 / 약간 덜매운맛 : 추천 맵기(20%)외 2건]</td>\n",
              "      <td>일벌세트 / 약간 덜매운맛 : 추천 맵기(20%)외 2건</td>\n",
              "    </tr>\n",
              "    <tr>\n",
              "      <th>5224</th>\n",
              "      <td>[(2마리) 코다리매콤명태찜 / 젓가락빼주세요외 2건]</td>\n",
              "      <td>(2마리) 코다리매콤명태찜 / 젓가락빼주세요외 2건</td>\n",
              "    </tr>\n",
              "    <tr>\n",
              "      <th>5225</th>\n",
              "      <td>[리얼초코자바칩프라페 / 휘핑 반만올리기외 1건, 아메리카노 / HOT]</td>\n",
              "      <td>아메리카노 / ICE</td>\n",
              "    </tr>\n",
              "    <tr>\n",
              "      <th>5226</th>\n",
              "      <td>[[Best] 제주 흑돼지 돈까스샌드위치]</td>\n",
              "      <td>[Bset] 프레즐빠다</td>\n",
              "    </tr>\n",
              "    <tr>\n",
              "      <th>5227</th>\n",
              "      <td>[에그모닝]</td>\n",
              "      <td>생크림팥빵</td>\n",
              "    </tr>\n",
              "  </tbody>\n",
              "</table>\n",
              "<p>5228 rows × 2 columns</p>\n",
              "</div>"
            ],
            "text/plain": [
              "                                                 Detail                            label\n",
              "0     [우편물, 더블더블 / 감자튀김 딥치즈 업그레이드 세트, 꿀유자차 / 아이스, 바닐...                      바닐라라떼 / 아이스\n",
              "1     [더블더블 / 감자튀김 딥치즈 업그레이드 세트, 꿀유자차 / 아이스, 바닐라라떼 /...                      [개인결제] 개인결제\n",
              "2                          [납기내금액, 납기내금액, 납기내금액, 납기내금액]                            납기내금액\n",
              "3                          [납기내금액, 납기내금액, 납기내금액, 납기내금액]                            납기내금액\n",
              "4                          [납기내금액, 납기내금액, 납기내금액, 납기내금액]                            납기내금액\n",
              "...                                                 ...                              ...\n",
              "5223                  [일벌세트 / 약간 덜매운맛 : 추천 맵기(20%)외 2건]  일벌세트 / 약간 덜매운맛 : 추천 맵기(20%)외 2건\n",
              "5224                     [(2마리) 코다리매콤명태찜 / 젓가락빼주세요외 2건]     (2마리) 코다리매콤명태찜 / 젓가락빼주세요외 2건\n",
              "5225           [리얼초코자바칩프라페 / 휘핑 반만올리기외 1건, 아메리카노 / HOT]                      아메리카노 / ICE\n",
              "5226                            [[Best] 제주 흑돼지 돈까스샌드위치]                     [Bset] 프레즐빠다\n",
              "5227                                             [에그모닝]                            생크림팥빵\n",
              "\n",
              "[5228 rows x 2 columns]"
            ]
          },
          "metadata": {
            "tags": []
          },
          "execution_count": 24
        }
      ]
    },
    {
      "cell_type": "code",
      "metadata": {
        "id": "DfBLstEZyLM9",
        "colab": {
          "base_uri": "https://localhost:8080/",
          "height": 419
        },
        "outputId": "a9728630-9949-4ef2-a20a-501b86b31759"
      },
      "source": [
        "df_new['Detail'] = df_new['Detail'].apply(lambda x: '&&'.join(map(str, x)))\n",
        "df_new"
      ],
      "execution_count": 25,
      "outputs": [
        {
          "output_type": "execute_result",
          "data": {
            "text/html": [
              "<div>\n",
              "<style scoped>\n",
              "    .dataframe tbody tr th:only-of-type {\n",
              "        vertical-align: middle;\n",
              "    }\n",
              "\n",
              "    .dataframe tbody tr th {\n",
              "        vertical-align: top;\n",
              "    }\n",
              "\n",
              "    .dataframe thead th {\n",
              "        text-align: right;\n",
              "    }\n",
              "</style>\n",
              "<table border=\"1\" class=\"dataframe\">\n",
              "  <thead>\n",
              "    <tr style=\"text-align: right;\">\n",
              "      <th></th>\n",
              "      <th>Detail</th>\n",
              "      <th>label</th>\n",
              "    </tr>\n",
              "  </thead>\n",
              "  <tbody>\n",
              "    <tr>\n",
              "      <th>0</th>\n",
              "      <td>우편물&amp;&amp;더블더블 / 감자튀김 딥치즈 업그레이드 세트&amp;&amp;꿀유자차 / 아이스&amp;&amp;바닐라...</td>\n",
              "      <td>바닐라라떼 / 아이스</td>\n",
              "    </tr>\n",
              "    <tr>\n",
              "      <th>1</th>\n",
              "      <td>더블더블 / 감자튀김 딥치즈 업그레이드 세트&amp;&amp;꿀유자차 / 아이스&amp;&amp;바닐라라떼 / ...</td>\n",
              "      <td>[개인결제] 개인결제</td>\n",
              "    </tr>\n",
              "    <tr>\n",
              "      <th>2</th>\n",
              "      <td>납기내금액&amp;&amp;납기내금액&amp;&amp;납기내금액&amp;&amp;납기내금액</td>\n",
              "      <td>납기내금액</td>\n",
              "    </tr>\n",
              "    <tr>\n",
              "      <th>3</th>\n",
              "      <td>납기내금액&amp;&amp;납기내금액&amp;&amp;납기내금액&amp;&amp;납기내금액</td>\n",
              "      <td>납기내금액</td>\n",
              "    </tr>\n",
              "    <tr>\n",
              "      <th>4</th>\n",
              "      <td>납기내금액&amp;&amp;납기내금액&amp;&amp;납기내금액&amp;&amp;납기내금액</td>\n",
              "      <td>납기내금액</td>\n",
              "    </tr>\n",
              "    <tr>\n",
              "      <th>...</th>\n",
              "      <td>...</td>\n",
              "      <td>...</td>\n",
              "    </tr>\n",
              "    <tr>\n",
              "      <th>5223</th>\n",
              "      <td>일벌세트 / 약간 덜매운맛 : 추천 맵기(20%)외 2건</td>\n",
              "      <td>일벌세트 / 약간 덜매운맛 : 추천 맵기(20%)외 2건</td>\n",
              "    </tr>\n",
              "    <tr>\n",
              "      <th>5224</th>\n",
              "      <td>(2마리) 코다리매콤명태찜 / 젓가락빼주세요외 2건</td>\n",
              "      <td>(2마리) 코다리매콤명태찜 / 젓가락빼주세요외 2건</td>\n",
              "    </tr>\n",
              "    <tr>\n",
              "      <th>5225</th>\n",
              "      <td>리얼초코자바칩프라페 / 휘핑 반만올리기외 1건&amp;&amp;아메리카노 / HOT</td>\n",
              "      <td>아메리카노 / ICE</td>\n",
              "    </tr>\n",
              "    <tr>\n",
              "      <th>5226</th>\n",
              "      <td>[Best] 제주 흑돼지 돈까스샌드위치</td>\n",
              "      <td>[Bset] 프레즐빠다</td>\n",
              "    </tr>\n",
              "    <tr>\n",
              "      <th>5227</th>\n",
              "      <td>에그모닝</td>\n",
              "      <td>생크림팥빵</td>\n",
              "    </tr>\n",
              "  </tbody>\n",
              "</table>\n",
              "<p>5228 rows × 2 columns</p>\n",
              "</div>"
            ],
            "text/plain": [
              "                                                 Detail                            label\n",
              "0     우편물&&더블더블 / 감자튀김 딥치즈 업그레이드 세트&&꿀유자차 / 아이스&&바닐라...                      바닐라라떼 / 아이스\n",
              "1     더블더블 / 감자튀김 딥치즈 업그레이드 세트&&꿀유자차 / 아이스&&바닐라라떼 / ...                      [개인결제] 개인결제\n",
              "2                            납기내금액&&납기내금액&&납기내금액&&납기내금액                            납기내금액\n",
              "3                            납기내금액&&납기내금액&&납기내금액&&납기내금액                            납기내금액\n",
              "4                            납기내금액&&납기내금액&&납기내금액&&납기내금액                            납기내금액\n",
              "...                                                 ...                              ...\n",
              "5223                    일벌세트 / 약간 덜매운맛 : 추천 맵기(20%)외 2건  일벌세트 / 약간 덜매운맛 : 추천 맵기(20%)외 2건\n",
              "5224                       (2마리) 코다리매콤명태찜 / 젓가락빼주세요외 2건     (2마리) 코다리매콤명태찜 / 젓가락빼주세요외 2건\n",
              "5225             리얼초코자바칩프라페 / 휘핑 반만올리기외 1건&&아메리카노 / HOT                      아메리카노 / ICE\n",
              "5226                              [Best] 제주 흑돼지 돈까스샌드위치                     [Bset] 프레즐빠다\n",
              "5227                                               에그모닝                            생크림팥빵\n",
              "\n",
              "[5228 rows x 2 columns]"
            ]
          },
          "metadata": {
            "tags": []
          },
          "execution_count": 25
        }
      ]
    },
    {
      "cell_type": "code",
      "metadata": {
        "id": "_di2RVSOidlS",
        "colab": {
          "base_uri": "https://localhost:8080/"
        },
        "outputId": "964c45ff-b4bc-4555-ac58-6f99201c20c3"
      },
      "source": [
        "print(df_new.isnull().sum())\n",
        "df_new.dropna(inplace=True)"
      ],
      "execution_count": 26,
      "outputs": [
        {
          "output_type": "stream",
          "text": [
            "Detail    0\n",
            "label     0\n",
            "dtype: int64\n"
          ],
          "name": "stdout"
        }
      ]
    },
    {
      "cell_type": "code",
      "metadata": {
        "id": "h67mUuV-yLD0",
        "colab": {
          "base_uri": "https://localhost:8080/",
          "height": 436
        },
        "outputId": "147ef17d-d33a-491e-8c8a-f0a6aab671a7"
      },
      "source": [
        "print(df_new.duplicated().sum())\n",
        "df_new.drop_duplicates(inplace=True)\n",
        "df_new.reset_index(inplace=True)\n",
        "df_new.pop('index')\n",
        "df_new"
      ],
      "execution_count": 27,
      "outputs": [
        {
          "output_type": "stream",
          "text": [
            "3510\n"
          ],
          "name": "stdout"
        },
        {
          "output_type": "execute_result",
          "data": {
            "text/html": [
              "<div>\n",
              "<style scoped>\n",
              "    .dataframe tbody tr th:only-of-type {\n",
              "        vertical-align: middle;\n",
              "    }\n",
              "\n",
              "    .dataframe tbody tr th {\n",
              "        vertical-align: top;\n",
              "    }\n",
              "\n",
              "    .dataframe thead th {\n",
              "        text-align: right;\n",
              "    }\n",
              "</style>\n",
              "<table border=\"1\" class=\"dataframe\">\n",
              "  <thead>\n",
              "    <tr style=\"text-align: right;\">\n",
              "      <th></th>\n",
              "      <th>Detail</th>\n",
              "      <th>label</th>\n",
              "    </tr>\n",
              "  </thead>\n",
              "  <tbody>\n",
              "    <tr>\n",
              "      <th>0</th>\n",
              "      <td>우편물&amp;&amp;더블더블 / 감자튀김 딥치즈 업그레이드 세트&amp;&amp;꿀유자차 / 아이스&amp;&amp;바닐라...</td>\n",
              "      <td>바닐라라떼 / 아이스</td>\n",
              "    </tr>\n",
              "    <tr>\n",
              "      <th>1</th>\n",
              "      <td>더블더블 / 감자튀김 딥치즈 업그레이드 세트&amp;&amp;꿀유자차 / 아이스&amp;&amp;바닐라라떼 / ...</td>\n",
              "      <td>[개인결제] 개인결제</td>\n",
              "    </tr>\n",
              "    <tr>\n",
              "      <th>2</th>\n",
              "      <td>납기내금액&amp;&amp;납기내금액&amp;&amp;납기내금액&amp;&amp;납기내금액</td>\n",
              "      <td>납기내금액</td>\n",
              "    </tr>\n",
              "    <tr>\n",
              "      <th>3</th>\n",
              "      <td>무료배달&amp;&amp;무료배달&amp;&amp;베이컨 치즈버거 / 일반세트(버거+음료+감자튀김)&amp;&amp;무료배달</td>\n",
              "      <td>무료배달</td>\n",
              "    </tr>\n",
              "    <tr>\n",
              "      <th>4</th>\n",
              "      <td>베이컨 치즈버거 / 일반세트(버거+음료+감자튀김)&amp;&amp;무료배달&amp;&amp;무료배달&amp;&amp;무료배달</td>\n",
              "      <td>딥치즈후라이스</td>\n",
              "    </tr>\n",
              "    <tr>\n",
              "      <th>...</th>\n",
              "      <td>...</td>\n",
              "      <td>...</td>\n",
              "    </tr>\n",
              "    <tr>\n",
              "      <th>1713</th>\n",
              "      <td>일벌세트 / 약간 덜매운맛 : 추천 맵기(20%)외 2건</td>\n",
              "      <td>일벌세트 / 약간 덜매운맛 : 추천 맵기(20%)외 2건</td>\n",
              "    </tr>\n",
              "    <tr>\n",
              "      <th>1714</th>\n",
              "      <td>(2마리) 코다리매콤명태찜 / 젓가락빼주세요외 2건</td>\n",
              "      <td>(2마리) 코다리매콤명태찜 / 젓가락빼주세요외 2건</td>\n",
              "    </tr>\n",
              "    <tr>\n",
              "      <th>1715</th>\n",
              "      <td>리얼초코자바칩프라페 / 휘핑 반만올리기외 1건&amp;&amp;아메리카노 / HOT</td>\n",
              "      <td>아메리카노 / ICE</td>\n",
              "    </tr>\n",
              "    <tr>\n",
              "      <th>1716</th>\n",
              "      <td>[Best] 제주 흑돼지 돈까스샌드위치</td>\n",
              "      <td>[Bset] 프레즐빠다</td>\n",
              "    </tr>\n",
              "    <tr>\n",
              "      <th>1717</th>\n",
              "      <td>에그모닝</td>\n",
              "      <td>생크림팥빵</td>\n",
              "    </tr>\n",
              "  </tbody>\n",
              "</table>\n",
              "<p>1718 rows × 2 columns</p>\n",
              "</div>"
            ],
            "text/plain": [
              "                                                 Detail                            label\n",
              "0     우편물&&더블더블 / 감자튀김 딥치즈 업그레이드 세트&&꿀유자차 / 아이스&&바닐라...                      바닐라라떼 / 아이스\n",
              "1     더블더블 / 감자튀김 딥치즈 업그레이드 세트&&꿀유자차 / 아이스&&바닐라라떼 / ...                      [개인결제] 개인결제\n",
              "2                            납기내금액&&납기내금액&&납기내금액&&납기내금액                            납기내금액\n",
              "3         무료배달&&무료배달&&베이컨 치즈버거 / 일반세트(버거+음료+감자튀김)&&무료배달                             무료배달\n",
              "4         베이컨 치즈버거 / 일반세트(버거+음료+감자튀김)&&무료배달&&무료배달&&무료배달                          딥치즈후라이스\n",
              "...                                                 ...                              ...\n",
              "1713                    일벌세트 / 약간 덜매운맛 : 추천 맵기(20%)외 2건  일벌세트 / 약간 덜매운맛 : 추천 맵기(20%)외 2건\n",
              "1714                       (2마리) 코다리매콤명태찜 / 젓가락빼주세요외 2건     (2마리) 코다리매콤명태찜 / 젓가락빼주세요외 2건\n",
              "1715             리얼초코자바칩프라페 / 휘핑 반만올리기외 1건&&아메리카노 / HOT                      아메리카노 / ICE\n",
              "1716                              [Best] 제주 흑돼지 돈까스샌드위치                     [Bset] 프레즐빠다\n",
              "1717                                               에그모닝                            생크림팥빵\n",
              "\n",
              "[1718 rows x 2 columns]"
            ]
          },
          "metadata": {
            "tags": []
          },
          "execution_count": 27
        }
      ]
    },
    {
      "cell_type": "markdown",
      "metadata": {
        "id": "6W9jSoB6wsaj"
      },
      "source": [
        "# Transformer"
      ]
    },
    {
      "cell_type": "code",
      "metadata": {
        "colab": {
          "base_uri": "https://localhost:8080/",
          "height": 204
        },
        "id": "65jRNKKyCgRs",
        "outputId": "4cd00ccc-e293-44c0-cc60-2c37bf431a39"
      },
      "source": [
        "data = df_new\n",
        "\n",
        "data = data.sample(frac=1).reset_index(drop=True)\n",
        "data.head()"
      ],
      "execution_count": 28,
      "outputs": [
        {
          "output_type": "execute_result",
          "data": {
            "text/html": [
              "<div>\n",
              "<style scoped>\n",
              "    .dataframe tbody tr th:only-of-type {\n",
              "        vertical-align: middle;\n",
              "    }\n",
              "\n",
              "    .dataframe tbody tr th {\n",
              "        vertical-align: top;\n",
              "    }\n",
              "\n",
              "    .dataframe thead th {\n",
              "        text-align: right;\n",
              "    }\n",
              "</style>\n",
              "<table border=\"1\" class=\"dataframe\">\n",
              "  <thead>\n",
              "    <tr style=\"text-align: right;\">\n",
              "      <th></th>\n",
              "      <th>Detail</th>\n",
              "      <th>label</th>\n",
              "    </tr>\n",
              "  </thead>\n",
              "  <tbody>\n",
              "    <tr>\n",
              "      <th>0</th>\n",
              "      <td>약제비&amp;&amp;안    과/진료비</td>\n",
              "      <td>약제비</td>\n",
              "    </tr>\n",
              "    <tr>\n",
              "      <th>1</th>\n",
              "      <td>약제비&amp;&amp;정형외과/진료비&amp;&amp;약제비&amp;&amp;약제비</td>\n",
              "      <td>산부인과/진료비</td>\n",
              "    </tr>\n",
              "    <tr>\n",
              "      <th>2</th>\n",
              "      <td>정형외과/진료비&amp;&amp;약제비&amp;&amp;약제비&amp;&amp;심장내과/진료비</td>\n",
              "      <td>약제비</td>\n",
              "    </tr>\n",
              "    <tr>\n",
              "      <th>3</th>\n",
              "      <td>[보만] 4in1 충전식 핸디형 무선청소기 VC7210&amp;&amp;[부직포가방 포장] 제주 ...</td>\n",
              "      <td>[리브맘] 에어프라이어 종이호일 90매/180매/270매 (택1)</td>\n",
              "    </tr>\n",
              "    <tr>\n",
              "      <th>4</th>\n",
              "      <td>[제우스] KF94 마스크 100매&amp;&amp;[제우스] KF94 마스크 150매&amp;&amp;서귀포 ...</td>\n",
              "      <td>제주 한라봉 2kg 중과 8-11과/2세트 구매시 500g추가</td>\n",
              "    </tr>\n",
              "  </tbody>\n",
              "</table>\n",
              "</div>"
            ],
            "text/plain": [
              "                                              Detail                                  label\n",
              "0                                    약제비&&안    과/진료비                                    약제비\n",
              "1                            약제비&&정형외과/진료비&&약제비&&약제비                               산부인과/진료비\n",
              "2                       정형외과/진료비&&약제비&&약제비&&심장내과/진료비                                    약제비\n",
              "3  [보만] 4in1 충전식 핸디형 무선청소기 VC7210&&[부직포가방 포장] 제주 ...  [리브맘] 에어프라이어 종이호일 90매/180매/270매 (택1) \n",
              "4  [제우스] KF94 마스크 100매&&[제우스] KF94 마스크 150매&&서귀포 ...     제주 한라봉 2kg 중과 8-11과/2세트 구매시 500g추가"
            ]
          },
          "metadata": {
            "tags": []
          },
          "execution_count": 28
        }
      ]
    },
    {
      "cell_type": "code",
      "metadata": {
        "colab": {
          "base_uri": "https://localhost:8080/",
          "height": 419
        },
        "id": "wSCGdatWEGvU",
        "outputId": "3a83341b-cfd6-490a-860d-95b290d73433"
      },
      "source": [
        "train_df = data.copy()\n",
        "train_df.rename(columns = {'Detail':'train'}, inplace=True)\n",
        "train_df"
      ],
      "execution_count": 29,
      "outputs": [
        {
          "output_type": "execute_result",
          "data": {
            "text/html": [
              "<div>\n",
              "<style scoped>\n",
              "    .dataframe tbody tr th:only-of-type {\n",
              "        vertical-align: middle;\n",
              "    }\n",
              "\n",
              "    .dataframe tbody tr th {\n",
              "        vertical-align: top;\n",
              "    }\n",
              "\n",
              "    .dataframe thead th {\n",
              "        text-align: right;\n",
              "    }\n",
              "</style>\n",
              "<table border=\"1\" class=\"dataframe\">\n",
              "  <thead>\n",
              "    <tr style=\"text-align: right;\">\n",
              "      <th></th>\n",
              "      <th>train</th>\n",
              "      <th>label</th>\n",
              "    </tr>\n",
              "  </thead>\n",
              "  <tbody>\n",
              "    <tr>\n",
              "      <th>0</th>\n",
              "      <td>약제비&amp;&amp;안    과/진료비</td>\n",
              "      <td>약제비</td>\n",
              "    </tr>\n",
              "    <tr>\n",
              "      <th>1</th>\n",
              "      <td>약제비&amp;&amp;정형외과/진료비&amp;&amp;약제비&amp;&amp;약제비</td>\n",
              "      <td>산부인과/진료비</td>\n",
              "    </tr>\n",
              "    <tr>\n",
              "      <th>2</th>\n",
              "      <td>정형외과/진료비&amp;&amp;약제비&amp;&amp;약제비&amp;&amp;심장내과/진료비</td>\n",
              "      <td>약제비</td>\n",
              "    </tr>\n",
              "    <tr>\n",
              "      <th>3</th>\n",
              "      <td>[보만] 4in1 충전식 핸디형 무선청소기 VC7210&amp;&amp;[부직포가방 포장] 제주 ...</td>\n",
              "      <td>[리브맘] 에어프라이어 종이호일 90매/180매/270매 (택1)</td>\n",
              "    </tr>\n",
              "    <tr>\n",
              "      <th>4</th>\n",
              "      <td>[제우스] KF94 마스크 100매&amp;&amp;[제우스] KF94 마스크 150매&amp;&amp;서귀포 ...</td>\n",
              "      <td>제주 한라봉 2kg 중과 8-11과/2세트 구매시 500g추가</td>\n",
              "    </tr>\n",
              "    <tr>\n",
              "      <th>...</th>\n",
              "      <td>...</td>\n",
              "      <td>...</td>\n",
              "    </tr>\n",
              "    <tr>\n",
              "      <th>1713</th>\n",
              "      <td>우편물&amp;&amp;우편물&amp;&amp;무안 지주식 곱창김 50매&amp;&amp;우편물</td>\n",
              "      <td>청양칠갑산어머니구기자한과</td>\n",
              "    </tr>\n",
              "    <tr>\n",
              "      <th>1714</th>\n",
              "      <td>2020 자색양파 3kg 무안 산지배송</td>\n",
              "      <td>하동청매실엑기스</td>\n",
              "    </tr>\n",
              "    <tr>\n",
              "      <th>1715</th>\n",
              "      <td>가정용 사과(흠집과) 8kg(30~40개입)&amp;&amp;[12/5~1/13 쓱머니증정][1/...</td>\n",
              "      <td>[포프랑]올클린 살균소독제 300ml 스프레이 분무형 개인위생 소독용 Y</td>\n",
              "    </tr>\n",
              "    <tr>\n",
              "      <th>1716</th>\n",
              "      <td>보은건대추 특초1kg : 생대추24미리내외건조 : 기계선별크기일정 :용도가 가장 다...</td>\n",
              "      <td>명진농장도라지청외 1개</td>\n",
              "    </tr>\n",
              "    <tr>\n",
              "      <th>1717</th>\n",
              "      <td>[2020년산 햅쌀] 김제 10인농부의 맛있는 햅쌀10kg(등급:상)</td>\n",
              "      <td>[영동곶감] 쫀득 달콤한 최고의 선물세트 건시곶감 1.5kg (40~50과)</td>\n",
              "    </tr>\n",
              "  </tbody>\n",
              "</table>\n",
              "<p>1718 rows × 2 columns</p>\n",
              "</div>"
            ],
            "text/plain": [
              "                                                  train                                       label\n",
              "0                                       약제비&&안    과/진료비                                         약제비\n",
              "1                               약제비&&정형외과/진료비&&약제비&&약제비                                    산부인과/진료비\n",
              "2                          정형외과/진료비&&약제비&&약제비&&심장내과/진료비                                         약제비\n",
              "3     [보만] 4in1 충전식 핸디형 무선청소기 VC7210&&[부직포가방 포장] 제주 ...       [리브맘] 에어프라이어 종이호일 90매/180매/270매 (택1) \n",
              "4     [제우스] KF94 마스크 100매&&[제우스] KF94 마스크 150매&&서귀포 ...          제주 한라봉 2kg 중과 8-11과/2세트 구매시 500g추가\n",
              "...                                                 ...                                         ...\n",
              "1713                      우편물&&우편물&&무안 지주식 곱창김 50매&&우편물                               청양칠갑산어머니구기자한과\n",
              "1714                              2020 자색양파 3kg 무안 산지배송                                    하동청매실엑기스\n",
              "1715  가정용 사과(흠집과) 8kg(30~40개입)&&[12/5~1/13 쓱머니증정][1/...    [포프랑]올클린 살균소독제 300ml 스프레이 분무형 개인위생 소독용 Y\n",
              "1716  보은건대추 특초1kg : 생대추24미리내외건조 : 기계선별크기일정 :용도가 가장 다...                                명진농장도라지청외 1개\n",
              "1717             [2020년산 햅쌀] 김제 10인농부의 맛있는 햅쌀10kg(등급:상)  [영동곶감] 쫀득 달콤한 최고의 선물세트 건시곶감 1.5kg (40~50과)\n",
              "\n",
              "[1718 rows x 2 columns]"
            ]
          },
          "metadata": {
            "tags": []
          },
          "execution_count": 29
        }
      ]
    },
    {
      "cell_type": "markdown",
      "metadata": {
        "id": "Z045RrD4x8m-"
      },
      "source": [
        "## 한국어 Tokenizer 설정"
      ]
    },
    {
      "cell_type": "code",
      "metadata": {
        "id": "_nPo6Ft83nZ0"
      },
      "source": [
        "# 이하 Kkma 기준 전개\n",
        "tok = kkma.morphs\n",
        "# tok = okt.morphs"
      ],
      "execution_count": 30,
      "outputs": []
    },
    {
      "cell_type": "markdown",
      "metadata": {
        "id": "9EQmA7cFfS1v"
      },
      "source": [
        "## 학습 데이터의 토큰 갯수 분포 확인\n",
        "\n",
        "*   한국어 토큰화 과정이 포함 되어 있어 실행 시 주의(오래 걸림)\n",
        "*   코드에 영향을 주지 않아 실행하지 않아도 무방\n"
      ]
    },
    {
      "cell_type": "code",
      "metadata": {
        "id": "FIlSDEc3DlJz"
      },
      "source": [
        "train_df['token_len'] = [len(tok(aaa)) for aaa in train_df['train']]\n",
        "\n",
        "token_len_cate = []\n",
        "for i in train_df['token_len']:\n",
        "    if i >= 0 and i < 100:\n",
        "        token_len_cate.append('0:100')\n",
        "    elif i >= 100 and i < 200:\n",
        "        token_len_cate.append('100:200')\n",
        "    elif i >= 200 and i < 300:\n",
        "        token_len_cate.append('200:300')\n",
        "    elif i >= 300 and i < 400:\n",
        "        token_len_cate.append('300:400')\n",
        "    elif i >= 400 and i < 500:\n",
        "        token_len_cate.append('400:500')\n",
        "    elif i >= 500 and i < 600:\n",
        "        token_len_cate.append('500:600')\n",
        "    elif i >= 600 and i < 700:\n",
        "        token_len_cate.append('600:700')\n",
        "    elif i >= 700 and i < 800:\n",
        "        token_len_cate.append('700:800')\n",
        "    elif i >= 800 and i < 900:\n",
        "        token_len_cate.append('800:900')\n",
        "    elif i >= 900:\n",
        "        token_len_cate.append('900:')\n",
        "train_df['token_len_cate'] = token_len_cate"
      ],
      "execution_count": 31,
      "outputs": []
    },
    {
      "cell_type": "code",
      "metadata": {
        "colab": {
          "base_uri": "https://localhost:8080/",
          "height": 282
        },
        "id": "OiFp_ehEQSER",
        "outputId": "ce42c448-450d-446b-885e-2b118ff4ef2e"
      },
      "source": [
        "token_len_sort = sorted({i:j for i, j in zip(train_df['token_len_cate'].value_counts().keys(), train_df['token_len_cate'].value_counts().values)}.items(), key=lambda x:x[0])\n",
        "x = [i for (i,_) in token_len_sort]\n",
        "y = [i for (_,i) in token_len_sort]\n",
        "print(y)\n",
        "\n",
        "plt.figure(figsize=(10, 4))\n",
        "plt.bar(x, y)\n",
        "plt.show()"
      ],
      "execution_count": 32,
      "outputs": [
        {
          "output_type": "stream",
          "text": [
            "[1718]\n"
          ],
          "name": "stdout"
        },
        {
          "output_type": "display_data",
          "data": {
            "image/png": "[encoded data removed]",
            "text/plain": [
              "<Figure size 720x288 with 1 Axes>"
            ]
          },
          "metadata": {
            "tags": [],
            "needs_background": "light"
          }
        }
      ]
    },
    {
      "cell_type": "code",
      "metadata": {
        "colab": {
          "base_uri": "https://localhost:8080/",
          "height": 297
        },
        "id": "XJJZXp9BvpbQ",
        "outputId": "f139af26-a25c-4340-c18a-22a24f016be9"
      },
      "source": [
        "train_df.describe()"
      ],
      "execution_count": 33,
      "outputs": [
        {
          "output_type": "execute_result",
          "data": {
            "text/html": [
              "<div>\n",
              "<style scoped>\n",
              "    .dataframe tbody tr th:only-of-type {\n",
              "        vertical-align: middle;\n",
              "    }\n",
              "\n",
              "    .dataframe tbody tr th {\n",
              "        vertical-align: top;\n",
              "    }\n",
              "\n",
              "    .dataframe thead th {\n",
              "        text-align: right;\n",
              "    }\n",
              "</style>\n",
              "<table border=\"1\" class=\"dataframe\">\n",
              "  <thead>\n",
              "    <tr style=\"text-align: right;\">\n",
              "      <th></th>\n",
              "      <th>token_len</th>\n",
              "    </tr>\n",
              "  </thead>\n",
              "  <tbody>\n",
              "    <tr>\n",
              "      <th>count</th>\n",
              "      <td>1718.000000</td>\n",
              "    </tr>\n",
              "    <tr>\n",
              "      <th>mean</th>\n",
              "      <td>34.850407</td>\n",
              "    </tr>\n",
              "    <tr>\n",
              "      <th>std</th>\n",
              "      <td>24.111764</td>\n",
              "    </tr>\n",
              "    <tr>\n",
              "      <th>min</th>\n",
              "      <td>1.000000</td>\n",
              "    </tr>\n",
              "    <tr>\n",
              "      <th>25%</th>\n",
              "      <td>14.000000</td>\n",
              "    </tr>\n",
              "    <tr>\n",
              "      <th>50%</th>\n",
              "      <td>28.000000</td>\n",
              "    </tr>\n",
              "    <tr>\n",
              "      <th>75%</th>\n",
              "      <td>57.000000</td>\n",
              "    </tr>\n",
              "    <tr>\n",
              "      <th>max</th>\n",
              "      <td>96.000000</td>\n",
              "    </tr>\n",
              "  </tbody>\n",
              "</table>\n",
              "</div>"
            ],
            "text/plain": [
              "         token_len\n",
              "count  1718.000000\n",
              "mean     34.850407\n",
              "std      24.111764\n",
              "min       1.000000\n",
              "25%      14.000000\n",
              "50%      28.000000\n",
              "75%      57.000000\n",
              "max      96.000000"
            ]
          },
          "metadata": {
            "tags": []
          },
          "execution_count": 33
        }
      ]
    },
    {
      "cell_type": "markdown",
      "metadata": {
        "id": "EV6UCth9zSxT"
      },
      "source": [
        "## Data split"
      ]
    },
    {
      "cell_type": "code",
      "metadata": {
        "id": "ClCqbjQdGd0J"
      },
      "source": [
        "filtering_train_df = train_df.copy()"
      ],
      "execution_count": 34,
      "outputs": []
    },
    {
      "cell_type": "code",
      "metadata": {
        "id": "jfhU7g2IDC3J"
      },
      "source": [
        "cut = round(len(filtering_train_df) * 0.8)\n",
        "filtering_train_df, filtering_test_df = filtering_train_df[:cut], filtering_train_df[cut:]"
      ],
      "execution_count": 35,
      "outputs": []
    },
    {
      "cell_type": "code",
      "metadata": {
        "id": "kWjyzSEXMqXV"
      },
      "source": [
        "filtering_test_df = filtering_test_df.reset_index(drop=True)"
      ],
      "execution_count": 36,
      "outputs": []
    },
    {
      "cell_type": "code",
      "metadata": {
        "colab": {
          "base_uri": "https://localhost:8080/"
        },
        "id": "YUsG2iJd8nKn",
        "outputId": "0293a4c6-e880-442d-aef4-0c4d8a8aed2d"
      },
      "source": [
        "print(len(filtering_train_df))\n",
        "len(filtering_test_df)"
      ],
      "execution_count": 37,
      "outputs": [
        {
          "output_type": "stream",
          "text": [
            "1374\n"
          ],
          "name": "stdout"
        },
        {
          "output_type": "execute_result",
          "data": {
            "text/plain": [
              "344"
            ]
          },
          "metadata": {
            "tags": []
          },
          "execution_count": 37
        }
      ]
    },
    {
      "cell_type": "markdown",
      "metadata": {
        "id": "fTDYnAiwlCg6"
      },
      "source": [
        "## 학습을 위해 토큰으로 자르기"
      ]
    },
    {
      "cell_type": "code",
      "metadata": {
        "id": "TIAMM6IYekZ2"
      },
      "source": [
        "filtering_train_df['split_train_token'] = [tok(i.strip()) for i in filtering_train_df['train']]\n",
        "filtering_train_df['split_label_token'] = [tok(i.strip()) for i in filtering_train_df['label']]\n",
        "filtering_train_df['split_train_token'] = filtering_train_df['split_train_token'].apply(lambda x: ' '.join(map(str, x)))\n",
        "filtering_train_df['split_label_token'] = filtering_train_df['split_label_token'].apply(lambda x: ' '.join(map(str, x)))\n",
        "filtering_train_df['split_train_token'] = ['<esp> ' + i.strip().replace('&&', ' <esp> ') + ' <esp>' for i in filtering_train_df['split_train_token']]\n",
        "filtering_train_df['split_label_token'] = ['<esp> ' + i.strip() + ' <esp>' for i in filtering_train_df['split_label_token']]"
      ],
      "execution_count": 38,
      "outputs": []
    },
    {
      "cell_type": "code",
      "metadata": {
        "colab": {
          "base_uri": "https://localhost:8080/",
          "height": 272
        },
        "id": "grUN5n41gX2W",
        "outputId": "857d52cc-be76-4611-e7ca-d63af6a96897"
      },
      "source": [
        "filtering_train_df.head()"
      ],
      "execution_count": 39,
      "outputs": [
        {
          "output_type": "execute_result",
          "data": {
            "text/html": [
              "<div>\n",
              "<style scoped>\n",
              "    .dataframe tbody tr th:only-of-type {\n",
              "        vertical-align: middle;\n",
              "    }\n",
              "\n",
              "    .dataframe tbody tr th {\n",
              "        vertical-align: top;\n",
              "    }\n",
              "\n",
              "    .dataframe thead th {\n",
              "        text-align: right;\n",
              "    }\n",
              "</style>\n",
              "<table border=\"1\" class=\"dataframe\">\n",
              "  <thead>\n",
              "    <tr style=\"text-align: right;\">\n",
              "      <th></th>\n",
              "      <th>train</th>\n",
              "      <th>label</th>\n",
              "      <th>token_len</th>\n",
              "      <th>token_len_cate</th>\n",
              "      <th>split_train_token</th>\n",
              "      <th>split_label_token</th>\n",
              "    </tr>\n",
              "  </thead>\n",
              "  <tbody>\n",
              "    <tr>\n",
              "      <th>0</th>\n",
              "      <td>약제비&amp;&amp;안    과/진료비</td>\n",
              "      <td>약제비</td>\n",
              "      <td>7</td>\n",
              "      <td>0:100</td>\n",
              "      <td>&lt;esp&gt; 약 제비  &lt;esp&gt;  안 과 / 진료비 &lt;esp&gt;</td>\n",
              "      <td>&lt;esp&gt; 약제 비 &lt;esp&gt;</td>\n",
              "    </tr>\n",
              "    <tr>\n",
              "      <th>1</th>\n",
              "      <td>약제비&amp;&amp;정형외과/진료비&amp;&amp;약제비&amp;&amp;약제비</td>\n",
              "      <td>산부인과/진료비</td>\n",
              "      <td>12</td>\n",
              "      <td>0:100</td>\n",
              "      <td>&lt;esp&gt; 약 제비  &lt;esp&gt;  정형외과 / 진료비  &lt;esp&gt;  약제 비  &lt;e...</td>\n",
              "      <td>&lt;esp&gt; 산부인과 / 진료비 &lt;esp&gt;</td>\n",
              "    </tr>\n",
              "    <tr>\n",
              "      <th>2</th>\n",
              "      <td>정형외과/진료비&amp;&amp;약제비&amp;&amp;약제비&amp;&amp;심장내과/진료비</td>\n",
              "      <td>약제비</td>\n",
              "      <td>14</td>\n",
              "      <td>0:100</td>\n",
              "      <td>&lt;esp&gt; 정형외과 / 진료비  &lt;esp&gt;  약제 비  &lt;esp&gt;  약제 비  &lt;e...</td>\n",
              "      <td>&lt;esp&gt; 약제 비 &lt;esp&gt;</td>\n",
              "    </tr>\n",
              "    <tr>\n",
              "      <th>3</th>\n",
              "      <td>[보만] 4in1 충전식 핸디형 무선청소기 VC7210&amp;&amp;[부직포가방 포장] 제주 ...</td>\n",
              "      <td>[리브맘] 에어프라이어 종이호일 90매/180매/270매 (택1)</td>\n",
              "      <td>65</td>\n",
              "      <td>0:100</td>\n",
              "      <td>&lt;esp&gt; [ 보만 ] 4 in 1 충전 식 핸디 형 무선 청소기 VC 7210  ...</td>\n",
              "      <td>&lt;esp&gt; [ 리브 맘 ] 에어 프라이어 종이 호일 90 매 / 180 매 / 27...</td>\n",
              "    </tr>\n",
              "    <tr>\n",
              "      <th>4</th>\n",
              "      <td>[제우스] KF94 마스크 100매&amp;&amp;[제우스] KF94 마스크 150매&amp;&amp;서귀포 ...</td>\n",
              "      <td>제주 한라봉 2kg 중과 8-11과/2세트 구매시 500g추가</td>\n",
              "      <td>47</td>\n",
              "      <td>0:100</td>\n",
              "      <td>&lt;esp&gt; [ 제우스 ] KF 94 마스크 100 매  &lt;esp&gt;  [ 제우스 ] ...</td>\n",
              "      <td>&lt;esp&gt; 제주 한라 봉 2 kg 중과 8-11 과 / 2 세트 구매 시 500 g...</td>\n",
              "    </tr>\n",
              "  </tbody>\n",
              "</table>\n",
              "</div>"
            ],
            "text/plain": [
              "                                               train  ...                                  split_label_token\n",
              "0                                    약제비&&안    과/진료비  ...                                   <esp> 약제 비 <esp>\n",
              "1                            약제비&&정형외과/진료비&&약제비&&약제비  ...                             <esp> 산부인과 / 진료비 <esp>\n",
              "2                       정형외과/진료비&&약제비&&약제비&&심장내과/진료비  ...                                   <esp> 약제 비 <esp>\n",
              "3  [보만] 4in1 충전식 핸디형 무선청소기 VC7210&&[부직포가방 포장] 제주 ...  ...  <esp> [ 리브 맘 ] 에어 프라이어 종이 호일 90 매 / 180 매 / 27...\n",
              "4  [제우스] KF94 마스크 100매&&[제우스] KF94 마스크 150매&&서귀포 ...  ...  <esp> 제주 한라 봉 2 kg 중과 8-11 과 / 2 세트 구매 시 500 g...\n",
              "\n",
              "[5 rows x 6 columns]"
            ]
          },
          "metadata": {
            "tags": []
          },
          "execution_count": 39
        }
      ]
    },
    {
      "cell_type": "code",
      "metadata": {
        "id": "7y5o1x06Y3Qh"
      },
      "source": [
        "MAX_LENGTH = 128"
      ],
      "execution_count": 40,
      "outputs": []
    },
    {
      "cell_type": "code",
      "metadata": {
        "id": "9HrRaQMinZ0H"
      },
      "source": [
        "tokenizer = tfds.deprecated.text.SubwordTextEncoder.build_from_corpus(filtering_train_df['split_train_token'] + filtering_train_df['split_label_token'], target_vocab_size=2**13)"
      ],
      "execution_count": 41,
      "outputs": []
    },
    {
      "cell_type": "code",
      "metadata": {
        "id": "yNc2-ElvnZ7l"
      },
      "source": [
        "START_TOKEN, END_TOKEN = [tokenizer.vocab_size], [tokenizer.vocab_size + 1]\n",
        "VOCAB_SIZE = tokenizer.vocab_size + 2"
      ],
      "execution_count": 42,
      "outputs": []
    },
    {
      "cell_type": "code",
      "metadata": {
        "colab": {
          "base_uri": "https://localhost:8080/"
        },
        "id": "4XNjMLlYnZ9h",
        "outputId": "5faa6dc8-3c43-406f-ca75-c750f12fb075"
      },
      "source": [
        "print('시작 토큰 번호 :',START_TOKEN)\n",
        "print('종료 토큰 번호 :',END_TOKEN)\n",
        "print('단어 집합의 크기 :',VOCAB_SIZE)"
      ],
      "execution_count": 43,
      "outputs": [
        {
          "output_type": "stream",
          "text": [
            "시작 토큰 번호 : [4427]\n",
            "종료 토큰 번호 : [4428]\n",
            "단어 집합의 크기 : 4429\n"
          ],
          "name": "stdout"
        }
      ]
    },
    {
      "cell_type": "code",
      "metadata": {
        "id": "FyU2LyVcnZ_u"
      },
      "source": [
        "def tokenize_and_filter(inputs, outputs):\n",
        "  tokenized_inputs, tokenized_outputs = [], []\n",
        "\n",
        "  for (sentence1, sentence2) in zip(inputs, outputs):\n",
        "    sentence1 = START_TOKEN + tokenizer.encode(sentence1) + END_TOKEN\n",
        "    sentence2 = START_TOKEN + tokenizer.encode(sentence2) + END_TOKEN\n",
        "\n",
        "    tokenized_inputs.append(sentence1)\n",
        "    tokenized_outputs.append(sentence2)\n",
        "\n",
        "  tokenized_inputs = tf.keras.preprocessing.sequence.pad_sequences(\n",
        "      tokenized_inputs, maxlen=MAX_LENGTH, padding='post')\n",
        "  tokenized_outputs = tf.keras.preprocessing.sequence.pad_sequences(\n",
        "      tokenized_outputs, maxlen=MAX_LENGTH, padding='post')\n",
        "\n",
        "  return tokenized_inputs, tokenized_outputs"
      ],
      "execution_count": 44,
      "outputs": []
    },
    {
      "cell_type": "code",
      "metadata": {
        "id": "vGD78-kOL_wk"
      },
      "source": [
        "train_token, label_token = tokenize_and_filter(filtering_train_df['split_train_token'], filtering_train_df['split_label_token'])"
      ],
      "execution_count": 45,
      "outputs": []
    },
    {
      "cell_type": "code",
      "metadata": {
        "colab": {
          "base_uri": "https://localhost:8080/"
        },
        "id": "MNW0IgXRMYfD",
        "outputId": "d2ab8525-b104-4ede-8e79-7c6f7e255b22"
      },
      "source": [
        "print('질문 데이터의 크기(shape) :', train_token.shape)\n",
        "print('답변 데이터의 크기(shape) :', label_token.shape)"
      ],
      "execution_count": 46,
      "outputs": [
        {
          "output_type": "stream",
          "text": [
            "질문 데이터의 크기(shape) : (1374, 128)\n",
            "답변 데이터의 크기(shape) : (1374, 128)\n"
          ],
          "name": "stdout"
        }
      ]
    },
    {
      "cell_type": "markdown",
      "metadata": {
        "id": "PHi5hUkwF6NG"
      },
      "source": [
        "## GPU 작동 확인"
      ]
    },
    {
      "cell_type": "code",
      "metadata": {
        "colab": {
          "base_uri": "https://localhost:8080/"
        },
        "id": "bMTEg_x0F5wr",
        "outputId": "9ef6ea43-3b85-4700-8797-122439153e75"
      },
      "source": [
        "tf.test.is_gpu_available()"
      ],
      "execution_count": 47,
      "outputs": [
        {
          "output_type": "stream",
          "text": [
            "WARNING:tensorflow:From <ipython-input-47-17bb7203622b>:1: is_gpu_available (from tensorflow.python.framework.test_util) is deprecated and will be removed in a future version.\n",
            "Instructions for updating:\n",
            "Use `tf.config.list_physical_devices('GPU')` instead.\n"
          ],
          "name": "stdout"
        },
        {
          "output_type": "stream",
          "text": [
            "WARNING:tensorflow:From <ipython-input-47-17bb7203622b>:1: is_gpu_available (from tensorflow.python.framework.test_util) is deprecated and will be removed in a future version.\n",
            "Instructions for updating:\n",
            "Use `tf.config.list_physical_devices('GPU')` instead.\n"
          ],
          "name": "stderr"
        },
        {
          "output_type": "execute_result",
          "data": {
            "text/plain": [
              "True"
            ]
          },
          "metadata": {
            "tags": []
          },
          "execution_count": 47
        }
      ]
    },
    {
      "cell_type": "code",
      "metadata": {
        "colab": {
          "base_uri": "https://localhost:8080/",
          "height": 35
        },
        "id": "4T3tWOLGGDgI",
        "outputId": "0bec1533-beb9-4d80-8246-3d8f3752d03e"
      },
      "source": [
        "tf.test.gpu_device_name()"
      ],
      "execution_count": 48,
      "outputs": [
        {
          "output_type": "execute_result",
          "data": {
            "application/vnd.google.colaboratory.intrinsic+json": {
              "type": "string"
            },
            "text/plain": [
              "'/device:GPU:0'"
            ]
          },
          "metadata": {
            "tags": []
          },
          "execution_count": 48
        }
      ]
    },
    {
      "cell_type": "code",
      "metadata": {
        "colab": {
          "base_uri": "https://localhost:8080/"
        },
        "id": "cb_xqSUBw5TI",
        "outputId": "d10081ad-eb80-43aa-a9c9-31cfd35c2bca"
      },
      "source": [
        "!nvidia-smi"
      ],
      "execution_count": 49,
      "outputs": [
        {
          "output_type": "stream",
          "text": [
            "Sat May  8 08:50:42 2021       \n",
            "+-----------------------------------------------------------------------------+\n",
            "| NVIDIA-SMI 465.19.01    Driver Version: 460.32.03    CUDA Version: 11.2     |\n",
            "|-------------------------------+----------------------+----------------------+\n",
            "| GPU  Name        Persistence-M| Bus-Id        Disp.A | Volatile Uncorr. ECC |\n",
            "| Fan  Temp  Perf  Pwr:Usage/Cap|         Memory-Usage | GPU-Util  Compute M. |\n",
            "|                               |                      |               MIG M. |\n",
            "|===============================+======================+======================|\n",
            "|   0  Tesla T4            Off  | 00000000:00:04.0 Off |                    0 |\n",
            "| N/A   48C    P0    27W /  70W |    222MiB / 15109MiB |      1%      Default |\n",
            "|                               |                      |                  N/A |\n",
            "+-------------------------------+----------------------+----------------------+\n",
            "                                                                               \n",
            "+-----------------------------------------------------------------------------+\n",
            "| Processes:                                                                  |\n",
            "|  GPU   GI   CI        PID   Type   Process name                  GPU Memory |\n",
            "|        ID   ID                                                   Usage      |\n",
            "|=============================================================================|\n",
            "+-----------------------------------------------------------------------------+\n"
          ],
          "name": "stdout"
        }
      ]
    },
    {
      "cell_type": "markdown",
      "metadata": {
        "id": "Wo4OnGGzGAGz"
      },
      "source": [
        "## 학습"
      ]
    },
    {
      "cell_type": "code",
      "metadata": {
        "id": "NmbnOw_YTj04"
      },
      "source": [
        "# 텐서플로우 dataset을 이용하여 셔플(shuffle)을 수행하되, 배치 크기로 데이터를 묶는다.\n",
        "# 또한 이 과정에서 교사 강요(teacher forcing)을 사용하기 위해서 디코더의 입력과 실제값 시퀀스를 구성한다.\n",
        "BATCH_SIZE = 256\n",
        "BUFFER_SIZE = 20000\n",
        "\n",
        "# 디코더의 실제값 시퀀스에서는 시작 토큰을 제거해야 한다.\n",
        "dataset = tf.data.Dataset.from_tensor_slices((\n",
        "    {\n",
        "        'inputs': train_token,\n",
        "        'dec_inputs': label_token[:, :-1] # 디코더의 입력. 마지막 패딩 토큰이 제거된다.\n",
        "    },\n",
        "    {\n",
        "        'outputs': label_token[:, 1:]  # 맨 처음 토큰이 제거된다. 다시 말해 시작 토큰이 제거된다.\n",
        "    },\n",
        "))\n",
        "\n",
        "dataset = dataset.cache()\n",
        "dataset = dataset.shuffle(BUFFER_SIZE)\n",
        "dataset = dataset.batch(BATCH_SIZE)\n",
        "dataset = dataset.prefetch(tf.data.experimental.AUTOTUNE)"
      ],
      "execution_count": 50,
      "outputs": []
    },
    {
      "cell_type": "code",
      "metadata": {
        "id": "U2MT1lyXKzzg"
      },
      "source": [
        "def scaled_dot_product_attention(query, key, value, mask):\n",
        "  \"\"\"Calculate the attention weights. \"\"\"\n",
        "  matmul_qk = tf.matmul(query, key, transpose_b=True)\n",
        "\n",
        "  # scale matmul_qk\n",
        "  depth = tf.cast(tf.shape(key)[-1], tf.float32)\n",
        "  logits = matmul_qk / tf.math.sqrt(depth)\n",
        "\n",
        "  # add the mask to zero out padding tokens\n",
        "  if mask is not None:\n",
        "    logits += (mask * -1e9)\n",
        "\n",
        "  # softmax is normalized on the last axis (seq_len_k)\n",
        "  attention_weights = tf.nn.softmax(logits, axis=-1)\n",
        "\n",
        "  output = tf.matmul(attention_weights, value)\n",
        "\n",
        "  return output\n",
        "\n",
        "class MultiHeadAttention(tf.keras.layers.Layer):\n",
        "\n",
        "  def __init__(self, d_model, num_heads, name=\"multi_head_attention\"):\n",
        "    super(MultiHeadAttention, self).__init__(name=name)\n",
        "    self.num_heads = num_heads\n",
        "    self.d_model = d_model\n",
        "\n",
        "    assert d_model % self.num_heads == 0\n",
        "\n",
        "    self.depth = d_model // self.num_heads\n",
        "\n",
        "    self.query_dense = tf.keras.layers.Dense(units=d_model)\n",
        "    self.key_dense = tf.keras.layers.Dense(units=d_model)\n",
        "    self.value_dense = tf.keras.layers.Dense(units=d_model)\n",
        "\n",
        "    self.dense = tf.keras.layers.Dense(units=d_model)\n",
        "\n",
        "  def split_heads(self, inputs, batch_size):\n",
        "    inputs = tf.reshape(\n",
        "        inputs, shape=(batch_size, -1, self.num_heads, self.depth))\n",
        "    return tf.transpose(inputs, perm=[0, 2, 1, 3])\n",
        "\n",
        "  def call(self, inputs):\n",
        "    query, key, value, mask = inputs['query'], inputs['key'], inputs[\n",
        "        'value'], inputs['mask']\n",
        "    batch_size = tf.shape(query)[0]\n",
        "\n",
        "    # linear layers\n",
        "    query = self.query_dense(query)\n",
        "    key = self.key_dense(key)\n",
        "    value = self.value_dense(value)\n",
        "\n",
        "    # split heads\n",
        "    query = self.split_heads(query, batch_size)\n",
        "    key = self.split_heads(key, batch_size)\n",
        "    value = self.split_heads(value, batch_size)\n",
        "\n",
        "    # scaled dot-product attention\n",
        "    scaled_attention = scaled_dot_product_attention(query, key, value, mask)\n",
        "\n",
        "    scaled_attention = tf.transpose(scaled_attention, perm=[0, 2, 1, 3])\n",
        "\n",
        "    # concatenation of heads\n",
        "    concat_attention = tf.reshape(scaled_attention,\n",
        "                                  (batch_size, -1, self.d_model))\n",
        "\n",
        "    # final linear layer\n",
        "    outputs = self.dense(concat_attention)\n",
        "\n",
        "    return outputs\n",
        "\n",
        "def create_padding_mask(x):\n",
        "  mask = tf.cast(tf.math.equal(x, 0), tf.float32)\n",
        "  # (batch_size, 1, 1, sequence length)\n",
        "  return mask[:, tf.newaxis, tf.newaxis, :]\n",
        "\n",
        "def create_look_ahead_mask(x):\n",
        "  seq_len = tf.shape(x)[1]\n",
        "  look_ahead_mask = 1 - tf.linalg.band_part(tf.ones((seq_len, seq_len)), -1, 0)\n",
        "  padding_mask = create_padding_mask(x)\n",
        "  return tf.maximum(look_ahead_mask, padding_mask)\n",
        "\n",
        "class PositionalEncoding(tf.keras.layers.Layer):\n",
        "\n",
        "  def __init__(self, position, d_model):\n",
        "    super(PositionalEncoding, self).__init__()\n",
        "    self.pos_encoding = self.positional_encoding(position, d_model)\n",
        "\n",
        "  def get_angles(self, position, i, d_model):\n",
        "    angles = 1 / tf.pow(10000, (2 * (i // 2)) / tf.cast(d_model, tf.float32))\n",
        "    return position * angles\n",
        "\n",
        "  def positional_encoding(self, position, d_model):\n",
        "    angle_rads = self.get_angles(\n",
        "        position=tf.range(position, dtype=tf.float32)[:, tf.newaxis],\n",
        "        i=tf.range(d_model, dtype=tf.float32)[tf.newaxis, :],\n",
        "        d_model=d_model)\n",
        "    # apply sin to even index in the array\n",
        "    sines = tf.math.sin(angle_rads[:, 0::2])\n",
        "    # apply cos to odd index in the array\n",
        "    cosines = tf.math.cos(angle_rads[:, 1::2])\n",
        "\n",
        "    pos_encoding = tf.concat([sines, cosines], axis=-1)\n",
        "    pos_encoding = pos_encoding[tf.newaxis, ...]\n",
        "    return tf.cast(pos_encoding, tf.float32)\n",
        "\n",
        "  def call(self, inputs):\n",
        "    return inputs + self.pos_encoding[:, :tf.shape(inputs)[1], :]\n",
        "\n",
        "def encoder_layer(units, d_model, num_heads, dropout, name=\"encoder_layer\"):\n",
        "  inputs = tf.keras.Input(shape=(None, d_model), name=\"inputs\")\n",
        "  padding_mask = tf.keras.Input(shape=(1, 1, None), name=\"padding_mask\")\n",
        "\n",
        "  attention = MultiHeadAttention(\n",
        "      d_model, num_heads, name=\"attention\")({\n",
        "          'query': inputs,\n",
        "          'key': inputs,\n",
        "          'value': inputs,\n",
        "          'mask': padding_mask\n",
        "      })\n",
        "  attention = tf.keras.layers.Dropout(rate=dropout)(attention)\n",
        "  attention = tf.keras.layers.LayerNormalization(\n",
        "      epsilon=1e-6)(inputs + attention)\n",
        "\n",
        "  outputs = tf.keras.layers.Dense(units=units, activation='relu')(attention)\n",
        "  outputs = tf.keras.layers.Dense(units=d_model)(outputs)\n",
        "  outputs = tf.keras.layers.Dropout(rate=dropout)(outputs)\n",
        "  outputs = tf.keras.layers.LayerNormalization(\n",
        "      epsilon=1e-6)(attention + outputs)\n",
        "\n",
        "  return tf.keras.Model(\n",
        "      inputs=[inputs, padding_mask], outputs=outputs, name=name)\n",
        "  \n",
        "def encoder(vocab_size,\n",
        "            num_layers,\n",
        "            units,\n",
        "            d_model,\n",
        "            num_heads,\n",
        "            dropout,\n",
        "            name=\"encoder\"):\n",
        "  inputs = tf.keras.Input(shape=(None,), name=\"inputs\")\n",
        "  padding_mask = tf.keras.Input(shape=(1, 1, None), name=\"padding_mask\")\n",
        "\n",
        "  embeddings = tf.keras.layers.Embedding(vocab_size, d_model)(inputs)\n",
        "  embeddings *= tf.math.sqrt(tf.cast(d_model, tf.float32))\n",
        "  embeddings = PositionalEncoding(vocab_size, d_model)(embeddings)\n",
        "\n",
        "  outputs = tf.keras.layers.Dropout(rate=dropout)(embeddings)\n",
        "\n",
        "  for i in range(num_layers):\n",
        "    outputs = encoder_layer(\n",
        "        units=units,\n",
        "        d_model=d_model,\n",
        "        num_heads=num_heads,\n",
        "        dropout=dropout,\n",
        "        name=\"encoder_layer_{}\".format(i),\n",
        "    )([outputs, padding_mask])\n",
        "\n",
        "  return tf.keras.Model(\n",
        "      inputs=[inputs, padding_mask], outputs=outputs, name=name)\n",
        "  \n",
        "def decoder_layer(units, d_model, num_heads, dropout, name=\"decoder_layer\"):\n",
        "  inputs = tf.keras.Input(shape=(None, d_model), name=\"inputs\")\n",
        "  enc_outputs = tf.keras.Input(shape=(None, d_model), name=\"encoder_outputs\")\n",
        "  look_ahead_mask = tf.keras.Input(\n",
        "      shape=(1, None, None), name=\"look_ahead_mask\")\n",
        "  padding_mask = tf.keras.Input(shape=(1, 1, None), name='padding_mask')\n",
        "\n",
        "  attention1 = MultiHeadAttention(\n",
        "      d_model, num_heads, name=\"attention_1\")(inputs={\n",
        "          'query': inputs,\n",
        "          'key': inputs,\n",
        "          'value': inputs,\n",
        "          'mask': look_ahead_mask\n",
        "      })\n",
        "  attention1 = tf.keras.layers.LayerNormalization(\n",
        "      epsilon=1e-6)(attention1 + inputs)\n",
        "\n",
        "  attention2 = MultiHeadAttention(\n",
        "      d_model, num_heads, name=\"attention_2\")(inputs={\n",
        "          'query': attention1,\n",
        "          'key': enc_outputs,\n",
        "          'value': enc_outputs,\n",
        "          'mask': padding_mask\n",
        "      })\n",
        "  attention2 = tf.keras.layers.Dropout(rate=dropout)(attention2)\n",
        "  attention2 = tf.keras.layers.LayerNormalization(\n",
        "      epsilon=1e-6)(attention2 + attention1)\n",
        "\n",
        "  outputs = tf.keras.layers.Dense(units=units, activation='relu')(attention2)\n",
        "  outputs = tf.keras.layers.Dense(units=d_model)(outputs)\n",
        "  outputs = tf.keras.layers.Dropout(rate=dropout)(outputs)\n",
        "  outputs = tf.keras.layers.LayerNormalization(\n",
        "      epsilon=1e-6)(outputs + attention2)\n",
        "\n",
        "  return tf.keras.Model(\n",
        "      inputs=[inputs, enc_outputs, look_ahead_mask, padding_mask],\n",
        "      outputs=outputs,\n",
        "      name=name)\n",
        "  \n",
        "def decoder(vocab_size,\n",
        "            num_layers,\n",
        "            units,\n",
        "            d_model,\n",
        "            num_heads,\n",
        "            dropout,\n",
        "            name='decoder'):\n",
        "  inputs = tf.keras.Input(shape=(None,), name='inputs')\n",
        "  enc_outputs = tf.keras.Input(shape=(None, d_model), name='encoder_outputs')\n",
        "  look_ahead_mask = tf.keras.Input(\n",
        "      shape=(1, None, None), name='look_ahead_mask')\n",
        "  padding_mask = tf.keras.Input(shape=(1, 1, None), name='padding_mask')\n",
        "  \n",
        "  embeddings = tf.keras.layers.Embedding(vocab_size, d_model)(inputs)\n",
        "  embeddings *= tf.math.sqrt(tf.cast(d_model, tf.float32))\n",
        "  embeddings = PositionalEncoding(vocab_size, d_model)(embeddings)\n",
        "\n",
        "  outputs = tf.keras.layers.Dropout(rate=dropout)(embeddings)\n",
        "\n",
        "  for i in range(num_layers):\n",
        "    outputs = decoder_layer(\n",
        "        units=units,\n",
        "        d_model=d_model,\n",
        "        num_heads=num_heads,\n",
        "        dropout=dropout,\n",
        "        name='decoder_layer_{}'.format(i),\n",
        "    )(inputs=[outputs, enc_outputs, look_ahead_mask, padding_mask])\n",
        "\n",
        "  return tf.keras.Model(\n",
        "      inputs=[inputs, enc_outputs, look_ahead_mask, padding_mask],\n",
        "      outputs=outputs,\n",
        "      name=name)\n",
        "  \n",
        "def transformer(vocab_size,\n",
        "                num_layers,\n",
        "                units,\n",
        "                d_model,\n",
        "                num_heads,\n",
        "                dropout,\n",
        "                name=\"transformer\"):\n",
        "  inputs = tf.keras.Input(shape=(None,), name=\"inputs\")\n",
        "  dec_inputs = tf.keras.Input(shape=(None,), name=\"dec_inputs\")\n",
        "\n",
        "  enc_padding_mask = tf.keras.layers.Lambda(\n",
        "      create_padding_mask, output_shape=(1, 1, None),\n",
        "      name='enc_padding_mask')(inputs)\n",
        "  # mask the future tokens for decoder inputs at the 1st attention block\n",
        "  look_ahead_mask = tf.keras.layers.Lambda(\n",
        "      create_look_ahead_mask,\n",
        "      output_shape=(1, None, None),\n",
        "      name='look_ahead_mask')(dec_inputs)\n",
        "  # mask the encoder outputs for the 2nd attention block\n",
        "  dec_padding_mask = tf.keras.layers.Lambda(\n",
        "      create_padding_mask, output_shape=(1, 1, None),\n",
        "      name='dec_padding_mask')(inputs)\n",
        "\n",
        "  enc_outputs = encoder(\n",
        "      vocab_size=vocab_size,\n",
        "      num_layers=num_layers,\n",
        "      units=units,\n",
        "      d_model=d_model,\n",
        "      num_heads=num_heads,\n",
        "      dropout=dropout,\n",
        "  )(inputs=[inputs, enc_padding_mask])\n",
        "\n",
        "  dec_outputs = decoder(\n",
        "      vocab_size=vocab_size,\n",
        "      num_layers=num_layers,\n",
        "      units=units,\n",
        "      d_model=d_model,\n",
        "      num_heads=num_heads,\n",
        "      dropout=dropout,\n",
        "  )(inputs=[dec_inputs, enc_outputs, look_ahead_mask, dec_padding_mask])\n",
        "\n",
        "  outputs = tf.keras.layers.Dense(units=vocab_size, name=\"outputs\")(dec_outputs)\n",
        "\n",
        "  return tf.keras.Model(inputs=[inputs, dec_inputs], outputs=outputs, name=name)"
      ],
      "execution_count": 51,
      "outputs": []
    },
    {
      "cell_type": "code",
      "metadata": {
        "id": "d4kPBiQkLF8B"
      },
      "source": [
        "tf.keras.backend.clear_session()\n",
        "\n",
        "# NUM_LAYERS = 2\n",
        "NUM_LAYERS = 1\n",
        "D_MODEL = 128\n",
        "NUM_HEADS = 4\n",
        "UNITS = 256\n",
        "DROPOUT = 0.2\n",
        "\n",
        "\n",
        "model = transformer(\n",
        "    vocab_size=VOCAB_SIZE,\n",
        "    num_layers=NUM_LAYERS,\n",
        "    units=UNITS,\n",
        "    d_model=D_MODEL,\n",
        "    num_heads=NUM_HEADS,\n",
        "    dropout=DROPOUT)"
      ],
      "execution_count": 52,
      "outputs": []
    },
    {
      "cell_type": "code",
      "metadata": {
        "id": "WaxW16nJLK9E"
      },
      "source": [
        "def loss_function(y_true, y_pred):\n",
        "  y_true = tf.reshape(y_true, shape=(-1, MAX_LENGTH - 1))\n",
        "  \n",
        "  loss = tf.keras.losses.SparseCategoricalCrossentropy(\n",
        "      from_logits=True, reduction='none')(y_true, y_pred)\n",
        "\n",
        "  mask = tf.cast(tf.not_equal(y_true, 0), tf.float32)\n",
        "  loss = tf.multiply(loss, mask)\n",
        "\n",
        "  return tf.reduce_mean(loss)"
      ],
      "execution_count": 53,
      "outputs": []
    },
    {
      "cell_type": "code",
      "metadata": {
        "id": "5rMmAF6jLONf"
      },
      "source": [
        "class CustomSchedule(tf.keras.optimizers.schedules.LearningRateSchedule):\n",
        "\n",
        "  def __init__(self, d_model, warmup_steps=4000):\n",
        "    super(CustomSchedule, self).__init__()\n",
        "\n",
        "    self.d_model = d_model\n",
        "    self.d_model = tf.cast(self.d_model, tf.float32)\n",
        "\n",
        "    self.warmup_steps = warmup_steps\n",
        "\n",
        "  def __call__(self, step):\n",
        "    arg1 = tf.math.rsqrt(step)\n",
        "    arg2 = step * (self.warmup_steps**-1.5)\n",
        "\n",
        "    return tf.math.rsqrt(self.d_model) * tf.math.minimum(arg1, arg2)"
      ],
      "execution_count": 54,
      "outputs": []
    },
    {
      "cell_type": "code",
      "metadata": {
        "id": "9XDXvuc8Tj6J"
      },
      "source": [
        "learning_rate = CustomSchedule(D_MODEL)\n",
        "\n",
        "optimizer = tf.keras.optimizers.Adam(\n",
        "    learning_rate, beta_1=0.9, beta_2=0.98, epsilon=1e-9)\n",
        "\n",
        "def accuracy(y_true, y_pred):\n",
        "  # ensure labels have shape (batch_size, MAX_LENGTH - 1)\n",
        "  y_true = tf.reshape(y_true, shape=(-1, MAX_LENGTH - 1))\n",
        "  return tf.keras.metrics.sparse_categorical_accuracy(y_true, y_pred)\n",
        "\n",
        "model.compile(optimizer=optimizer, loss=loss_function, metrics=[accuracy])"
      ],
      "execution_count": 55,
      "outputs": []
    },
    {
      "cell_type": "code",
      "metadata": {
        "id": "Udey1pWqABXR"
      },
      "source": [
        "EPOCHS = 250"
      ],
      "execution_count": 56,
      "outputs": []
    },
    {
      "cell_type": "code",
      "metadata": {
        "id": "7zktfjye0Q_f",
        "colab": {
          "base_uri": "https://localhost:8080/"
        },
        "outputId": "b5fb0fd7-c910-4b69-a836-3b48da18cdd3"
      },
      "source": [
        "model.summary()"
      ],
      "execution_count": 57,
      "outputs": [
        {
          "output_type": "stream",
          "text": [
            "Model: \"transformer\"\n",
            "__________________________________________________________________________________________________\n",
            "Layer (type)                    Output Shape         Param #     Connected to                     \n",
            "==================================================================================================\n",
            "inputs (InputLayer)             [(None, None)]       0                                            \n",
            "__________________________________________________________________________________________________\n",
            "dec_inputs (InputLayer)         [(None, None)]       0                                            \n",
            "__________________________________________________________________________________________________\n",
            "enc_padding_mask (Lambda)       (None, 1, 1, None)   0           inputs[0][0]                     \n",
            "__________________________________________________________________________________________________\n",
            "encoder (Functional)            (None, None, 128)    699392      inputs[0][0]                     \n",
            "                                                                 enc_padding_mask[0][0]           \n",
            "__________________________________________________________________________________________________\n",
            "look_ahead_mask (Lambda)        (None, 1, None, None 0           dec_inputs[0][0]                 \n",
            "__________________________________________________________________________________________________\n",
            "dec_padding_mask (Lambda)       (None, 1, 1, None)   0           inputs[0][0]                     \n",
            "__________________________________________________________________________________________________\n",
            "decoder (Functional)            (None, None, 128)    765696      dec_inputs[0][0]                 \n",
            "                                                                 encoder[0][0]                    \n",
            "                                                                 look_ahead_mask[0][0]            \n",
            "                                                                 dec_padding_mask[0][0]           \n",
            "__________________________________________________________________________________________________\n",
            "outputs (Dense)                 (None, None, 4429)   571341      decoder[0][0]                    \n",
            "==================================================================================================\n",
            "Total params: 2,036,429\n",
            "Trainable params: 2,036,429\n",
            "Non-trainable params: 0\n",
            "__________________________________________________________________________________________________\n"
          ],
          "name": "stdout"
        }
      ]
    },
    {
      "cell_type": "code",
      "metadata": {
        "colab": {
          "base_uri": "https://localhost:8080/"
        },
        "id": "AVHbISTxTj8d",
        "outputId": "7630d469-8452-45e9-ae55-5d54f6b26515"
      },
      "source": [
        "model.fit(dataset, epochs=EPOCHS)"
      ],
      "execution_count": 58,
      "outputs": [
        {
          "output_type": "stream",
          "text": [
            "Epoch 1/250\n",
            "6/6 [==============================] - 12s 160ms/step - loss: 1.1205 - accuracy: 2.8352e-05\n",
            "Epoch 2/250\n",
            "6/6 [==============================] - 1s 157ms/step - loss: 1.1237 - accuracy: 2.6176e-05\n",
            "Epoch 3/250\n",
            "6/6 [==============================] - 1s 155ms/step - loss: 1.1319 - accuracy: 5.9848e-05\n",
            "Epoch 4/250\n",
            "6/6 [==============================] - 1s 156ms/step - loss: 1.1235 - accuracy: 5.7682e-05\n",
            "Epoch 5/250\n",
            "6/6 [==============================] - 1s 156ms/step - loss: 1.1304 - accuracy: 1.3103e-04\n",
            "Epoch 6/250\n",
            "6/6 [==============================] - 1s 155ms/step - loss: 1.1288 - accuracy: 1.9098e-04\n",
            "Epoch 7/250\n",
            "6/6 [==============================] - 1s 156ms/step - loss: 1.1327 - accuracy: 3.5245e-04\n",
            "Epoch 8/250\n",
            "6/6 [==============================] - 1s 157ms/step - loss: 1.1196 - accuracy: 6.5180e-04\n",
            "Epoch 9/250\n",
            "6/6 [==============================] - 1s 157ms/step - loss: 1.1208 - accuracy: 0.0013\n",
            "Epoch 10/250\n",
            "6/6 [==============================] - 1s 155ms/step - loss: 1.1182 - accuracy: 0.0024\n",
            "Epoch 11/250\n",
            "6/6 [==============================] - 1s 155ms/step - loss: 1.1111 - accuracy: 0.0043\n",
            "Epoch 12/250\n",
            "6/6 [==============================] - 1s 156ms/step - loss: 1.1013 - accuracy: 0.0078\n",
            "Epoch 13/250\n",
            "6/6 [==============================] - 1s 155ms/step - loss: 1.0858 - accuracy: 0.0119\n",
            "Epoch 14/250\n",
            "6/6 [==============================] - 1s 156ms/step - loss: 1.1000 - accuracy: 0.0153\n",
            "Epoch 15/250\n",
            "6/6 [==============================] - 1s 156ms/step - loss: 1.0807 - accuracy: 0.0170\n",
            "Epoch 16/250\n",
            "6/6 [==============================] - 1s 157ms/step - loss: 1.0915 - accuracy: 0.0176\n",
            "Epoch 17/250\n",
            "6/6 [==============================] - 1s 155ms/step - loss: 1.0778 - accuracy: 0.0179\n",
            "Epoch 18/250\n",
            "6/6 [==============================] - 1s 157ms/step - loss: 1.0620 - accuracy: 0.0174\n",
            "Epoch 19/250\n",
            "6/6 [==============================] - 1s 157ms/step - loss: 1.0619 - accuracy: 0.0176\n",
            "Epoch 20/250\n",
            "6/6 [==============================] - 1s 155ms/step - loss: 1.0495 - accuracy: 0.0175\n",
            "Epoch 21/250\n",
            "6/6 [==============================] - 1s 155ms/step - loss: 1.0512 - accuracy: 0.0173\n",
            "Epoch 22/250\n",
            "6/6 [==============================] - 1s 156ms/step - loss: 1.0446 - accuracy: 0.0173\n",
            "Epoch 23/250\n",
            "6/6 [==============================] - 1s 156ms/step - loss: 1.0329 - accuracy: 0.0173\n",
            "Epoch 24/250\n",
            "6/6 [==============================] - 1s 156ms/step - loss: 1.0306 - accuracy: 0.0174\n",
            "Epoch 25/250\n",
            "6/6 [==============================] - 1s 156ms/step - loss: 1.0228 - accuracy: 0.0172\n",
            "Epoch 26/250\n",
            "6/6 [==============================] - 1s 157ms/step - loss: 1.0252 - accuracy: 0.0176\n",
            "Epoch 27/250\n",
            "6/6 [==============================] - 1s 156ms/step - loss: 1.0140 - accuracy: 0.0176\n",
            "Epoch 28/250\n",
            "6/6 [==============================] - 1s 157ms/step - loss: 1.0049 - accuracy: 0.0180\n",
            "Epoch 29/250\n",
            "6/6 [==============================] - 1s 156ms/step - loss: 0.9832 - accuracy: 0.0180\n",
            "Epoch 30/250\n",
            "6/6 [==============================] - 1s 157ms/step - loss: 0.9899 - accuracy: 0.0187\n",
            "Epoch 31/250\n",
            "6/6 [==============================] - 1s 158ms/step - loss: 0.9812 - accuracy: 0.0191\n",
            "Epoch 32/250\n",
            "6/6 [==============================] - 1s 157ms/step - loss: 0.9731 - accuracy: 0.0197\n",
            "Epoch 33/250\n",
            "6/6 [==============================] - 1s 156ms/step - loss: 0.9614 - accuracy: 0.0205\n",
            "Epoch 34/250\n",
            "6/6 [==============================] - 1s 157ms/step - loss: 0.9533 - accuracy: 0.0213\n",
            "Epoch 35/250\n",
            "6/6 [==============================] - 1s 158ms/step - loss: 0.9479 - accuracy: 0.0222\n",
            "Epoch 36/250\n",
            "6/6 [==============================] - 1s 159ms/step - loss: 0.9510 - accuracy: 0.0227\n",
            "Epoch 37/250\n",
            "6/6 [==============================] - 1s 156ms/step - loss: 0.9269 - accuracy: 0.0231\n",
            "Epoch 38/250\n",
            "6/6 [==============================] - 1s 157ms/step - loss: 0.9169 - accuracy: 0.0235\n",
            "Epoch 39/250\n",
            "6/6 [==============================] - 1s 158ms/step - loss: 0.9193 - accuracy: 0.0237\n",
            "Epoch 40/250\n",
            "6/6 [==============================] - 1s 158ms/step - loss: 0.9071 - accuracy: 0.0241\n",
            "Epoch 41/250\n",
            "6/6 [==============================] - 1s 157ms/step - loss: 0.8885 - accuracy: 0.0245\n",
            "Epoch 42/250\n",
            "6/6 [==============================] - 1s 156ms/step - loss: 0.8928 - accuracy: 0.0250\n",
            "Epoch 43/250\n",
            "6/6 [==============================] - 1s 158ms/step - loss: 0.8800 - accuracy: 0.0258\n",
            "Epoch 44/250\n",
            "6/6 [==============================] - 1s 159ms/step - loss: 0.8715 - accuracy: 0.0276\n",
            "Epoch 45/250\n",
            "6/6 [==============================] - 1s 157ms/step - loss: 0.8580 - accuracy: 0.0292\n",
            "Epoch 46/250\n",
            "6/6 [==============================] - 1s 156ms/step - loss: 0.8573 - accuracy: 0.0316\n",
            "Epoch 47/250\n",
            "6/6 [==============================] - 1s 159ms/step - loss: 0.8433 - accuracy: 0.0345\n",
            "Epoch 48/250\n",
            "6/6 [==============================] - 1s 157ms/step - loss: 0.8426 - accuracy: 0.0380\n",
            "Epoch 49/250\n",
            "6/6 [==============================] - 1s 156ms/step - loss: 0.8237 - accuracy: 0.0401\n",
            "Epoch 50/250\n",
            "6/6 [==============================] - 1s 158ms/step - loss: 0.8125 - accuracy: 0.0418\n",
            "Epoch 51/250\n",
            "6/6 [==============================] - 1s 157ms/step - loss: 0.8059 - accuracy: 0.0433\n",
            "Epoch 52/250\n",
            "6/6 [==============================] - 1s 158ms/step - loss: 0.8058 - accuracy: 0.0438\n",
            "Epoch 53/250\n",
            "6/6 [==============================] - 1s 157ms/step - loss: 0.7839 - accuracy: 0.0442\n",
            "Epoch 54/250\n",
            "6/6 [==============================] - 1s 158ms/step - loss: 0.7791 - accuracy: 0.0445\n",
            "Epoch 55/250\n",
            "6/6 [==============================] - 1s 157ms/step - loss: 0.7777 - accuracy: 0.0446\n",
            "Epoch 56/250\n",
            "6/6 [==============================] - 1s 157ms/step - loss: 0.7574 - accuracy: 0.0447\n",
            "Epoch 57/250\n",
            "6/6 [==============================] - 1s 159ms/step - loss: 0.7637 - accuracy: 0.0450\n",
            "Epoch 58/250\n",
            "6/6 [==============================] - 1s 159ms/step - loss: 0.7485 - accuracy: 0.0454\n",
            "Epoch 59/250\n",
            "6/6 [==============================] - 1s 157ms/step - loss: 0.7350 - accuracy: 0.0458\n",
            "Epoch 60/250\n",
            "6/6 [==============================] - 1s 161ms/step - loss: 0.7328 - accuracy: 0.0463\n",
            "Epoch 61/250\n",
            "6/6 [==============================] - 1s 156ms/step - loss: 0.7116 - accuracy: 0.0471\n",
            "Epoch 62/250\n",
            "6/6 [==============================] - 1s 161ms/step - loss: 0.7067 - accuracy: 0.0479\n",
            "Epoch 63/250\n",
            "6/6 [==============================] - 1s 158ms/step - loss: 0.7006 - accuracy: 0.0485\n",
            "Epoch 64/250\n",
            "6/6 [==============================] - 1s 157ms/step - loss: 0.7010 - accuracy: 0.0492\n",
            "Epoch 65/250\n",
            "6/6 [==============================] - 1s 158ms/step - loss: 0.6960 - accuracy: 0.0494\n",
            "Epoch 66/250\n",
            "6/6 [==============================] - 1s 157ms/step - loss: 0.6873 - accuracy: 0.0497\n",
            "Epoch 67/250\n",
            "6/6 [==============================] - 1s 158ms/step - loss: 0.6902 - accuracy: 0.0498\n",
            "Epoch 68/250\n",
            "6/6 [==============================] - 1s 162ms/step - loss: 0.6579 - accuracy: 0.0506\n",
            "Epoch 69/250\n",
            "6/6 [==============================] - 1s 159ms/step - loss: 0.6607 - accuracy: 0.0507\n",
            "Epoch 70/250\n",
            "6/6 [==============================] - 1s 158ms/step - loss: 0.6477 - accuracy: 0.0513\n",
            "Epoch 71/250\n",
            "6/6 [==============================] - 1s 159ms/step - loss: 0.6466 - accuracy: 0.0514\n",
            "Epoch 72/250\n",
            "6/6 [==============================] - 1s 158ms/step - loss: 0.6385 - accuracy: 0.0518\n",
            "Epoch 73/250\n",
            "6/6 [==============================] - 1s 158ms/step - loss: 0.6202 - accuracy: 0.0521\n",
            "Epoch 74/250\n",
            "6/6 [==============================] - 1s 160ms/step - loss: 0.6191 - accuracy: 0.0521\n",
            "Epoch 75/250\n",
            "6/6 [==============================] - 1s 159ms/step - loss: 0.6245 - accuracy: 0.0523\n",
            "Epoch 76/250\n",
            "6/6 [==============================] - 1s 160ms/step - loss: 0.6061 - accuracy: 0.0529\n",
            "Epoch 77/250\n",
            "6/6 [==============================] - 1s 159ms/step - loss: 0.6021 - accuracy: 0.0528\n",
            "Epoch 78/250\n",
            "6/6 [==============================] - 1s 158ms/step - loss: 0.5948 - accuracy: 0.0533\n",
            "Epoch 79/250\n",
            "6/6 [==============================] - 1s 159ms/step - loss: 0.5863 - accuracy: 0.0535\n",
            "Epoch 80/250\n",
            "6/6 [==============================] - 1s 159ms/step - loss: 0.5806 - accuracy: 0.0541\n",
            "Epoch 81/250\n",
            "6/6 [==============================] - 1s 160ms/step - loss: 0.5606 - accuracy: 0.0547\n",
            "Epoch 82/250\n",
            "6/6 [==============================] - 1s 159ms/step - loss: 0.5715 - accuracy: 0.0548\n",
            "Epoch 83/250\n",
            "6/6 [==============================] - 1s 160ms/step - loss: 0.5450 - accuracy: 0.0552\n",
            "Epoch 84/250\n",
            "6/6 [==============================] - 1s 159ms/step - loss: 0.5459 - accuracy: 0.0555\n",
            "Epoch 85/250\n",
            "6/6 [==============================] - 1s 160ms/step - loss: 0.5410 - accuracy: 0.0559\n",
            "Epoch 86/250\n",
            "6/6 [==============================] - 1s 161ms/step - loss: 0.5348 - accuracy: 0.0563\n",
            "Epoch 87/250\n",
            "6/6 [==============================] - 1s 159ms/step - loss: 0.5295 - accuracy: 0.0565\n",
            "Epoch 88/250\n",
            "6/6 [==============================] - 1s 160ms/step - loss: 0.5146 - accuracy: 0.0572\n",
            "Epoch 89/250\n",
            "6/6 [==============================] - 1s 160ms/step - loss: 0.5034 - accuracy: 0.0574\n",
            "Epoch 90/250\n",
            "6/6 [==============================] - 1s 160ms/step - loss: 0.5081 - accuracy: 0.0577\n",
            "Epoch 91/250\n",
            "6/6 [==============================] - 1s 160ms/step - loss: 0.4871 - accuracy: 0.0582\n",
            "Epoch 92/250\n",
            "6/6 [==============================] - 1s 161ms/step - loss: 0.4926 - accuracy: 0.0587\n",
            "Epoch 93/250\n",
            "6/6 [==============================] - 1s 159ms/step - loss: 0.4917 - accuracy: 0.0594\n",
            "Epoch 94/250\n",
            "6/6 [==============================] - 1s 162ms/step - loss: 0.4810 - accuracy: 0.0601\n",
            "Epoch 95/250\n",
            "6/6 [==============================] - 1s 161ms/step - loss: 0.4737 - accuracy: 0.0605\n",
            "Epoch 96/250\n",
            "6/6 [==============================] - 1s 159ms/step - loss: 0.4719 - accuracy: 0.0609\n",
            "Epoch 97/250\n",
            "6/6 [==============================] - 1s 160ms/step - loss: 0.4727 - accuracy: 0.0613\n",
            "Epoch 98/250\n",
            "6/6 [==============================] - 1s 163ms/step - loss: 0.4595 - accuracy: 0.0622\n",
            "Epoch 99/250\n",
            "6/6 [==============================] - 1s 160ms/step - loss: 0.4508 - accuracy: 0.0628\n",
            "Epoch 100/250\n",
            "6/6 [==============================] - 1s 160ms/step - loss: 0.4493 - accuracy: 0.0632\n",
            "Epoch 101/250\n",
            "6/6 [==============================] - 1s 160ms/step - loss: 0.4414 - accuracy: 0.0641\n",
            "Epoch 102/250\n",
            "6/6 [==============================] - 1s 160ms/step - loss: 0.4397 - accuracy: 0.0646\n",
            "Epoch 103/250\n",
            "6/6 [==============================] - 1s 161ms/step - loss: 0.4341 - accuracy: 0.0654\n",
            "Epoch 104/250\n",
            "6/6 [==============================] - 1s 161ms/step - loss: 0.4324 - accuracy: 0.0656\n",
            "Epoch 105/250\n",
            "6/6 [==============================] - 1s 162ms/step - loss: 0.4186 - accuracy: 0.0664\n",
            "Epoch 106/250\n",
            "6/6 [==============================] - 1s 160ms/step - loss: 0.4088 - accuracy: 0.0672\n",
            "Epoch 107/250\n",
            "6/6 [==============================] - 1s 161ms/step - loss: 0.4072 - accuracy: 0.0677\n",
            "Epoch 108/250\n",
            "6/6 [==============================] - 1s 162ms/step - loss: 0.4069 - accuracy: 0.0679\n",
            "Epoch 109/250\n",
            "6/6 [==============================] - 1s 161ms/step - loss: 0.3981 - accuracy: 0.0692\n",
            "Epoch 110/250\n",
            "6/6 [==============================] - 1s 160ms/step - loss: 0.3957 - accuracy: 0.0698\n",
            "Epoch 111/250\n",
            "6/6 [==============================] - 1s 160ms/step - loss: 0.3971 - accuracy: 0.0703\n",
            "Epoch 112/250\n",
            "6/6 [==============================] - 1s 160ms/step - loss: 0.4000 - accuracy: 0.0705\n",
            "Epoch 113/250\n",
            "6/6 [==============================] - 1s 162ms/step - loss: 0.3747 - accuracy: 0.0716\n",
            "Epoch 114/250\n",
            "6/6 [==============================] - 1s 161ms/step - loss: 0.3811 - accuracy: 0.0719\n",
            "Epoch 115/250\n",
            "6/6 [==============================] - 1s 160ms/step - loss: 0.3693 - accuracy: 0.0730\n",
            "Epoch 116/250\n",
            "6/6 [==============================] - 1s 159ms/step - loss: 0.3686 - accuracy: 0.0739\n",
            "Epoch 117/250\n",
            "6/6 [==============================] - 1s 158ms/step - loss: 0.3727 - accuracy: 0.0746\n",
            "Epoch 118/250\n",
            "6/6 [==============================] - 1s 160ms/step - loss: 0.3625 - accuracy: 0.0743\n",
            "Epoch 119/250\n",
            "6/6 [==============================] - 1s 160ms/step - loss: 0.3540 - accuracy: 0.0752\n",
            "Epoch 120/250\n",
            "6/6 [==============================] - 1s 159ms/step - loss: 0.3486 - accuracy: 0.0752\n",
            "Epoch 121/250\n",
            "6/6 [==============================] - 1s 160ms/step - loss: 0.3589 - accuracy: 0.0770\n",
            "Epoch 122/250\n",
            "6/6 [==============================] - 1s 162ms/step - loss: 0.3470 - accuracy: 0.0784\n",
            "Epoch 123/250\n",
            "6/6 [==============================] - 1s 160ms/step - loss: 0.3442 - accuracy: 0.0790\n",
            "Epoch 124/250\n",
            "6/6 [==============================] - 1s 161ms/step - loss: 0.3368 - accuracy: 0.0798\n",
            "Epoch 125/250\n",
            "6/6 [==============================] - 1s 162ms/step - loss: 0.3346 - accuracy: 0.0800\n",
            "Epoch 126/250\n",
            "6/6 [==============================] - 1s 159ms/step - loss: 0.3299 - accuracy: 0.0815\n",
            "Epoch 127/250\n",
            "6/6 [==============================] - 1s 159ms/step - loss: 0.3249 - accuracy: 0.0817\n",
            "Epoch 128/250\n",
            "6/6 [==============================] - 1s 161ms/step - loss: 0.3138 - accuracy: 0.0811\n",
            "Epoch 129/250\n",
            "6/6 [==============================] - 1s 159ms/step - loss: 0.3191 - accuracy: 0.0822\n",
            "Epoch 130/250\n",
            "6/6 [==============================] - 1s 158ms/step - loss: 0.3127 - accuracy: 0.0836\n",
            "Epoch 131/250\n",
            "6/6 [==============================] - 1s 160ms/step - loss: 0.3163 - accuracy: 0.0844\n",
            "Epoch 132/250\n",
            "6/6 [==============================] - 1s 158ms/step - loss: 0.3043 - accuracy: 0.0845\n",
            "Epoch 133/250\n",
            "6/6 [==============================] - 1s 159ms/step - loss: 0.3015 - accuracy: 0.0855\n",
            "Epoch 134/250\n",
            "6/6 [==============================] - 1s 160ms/step - loss: 0.2941 - accuracy: 0.0860\n",
            "Epoch 135/250\n",
            "6/6 [==============================] - 1s 158ms/step - loss: 0.2895 - accuracy: 0.0867\n",
            "Epoch 136/250\n",
            "6/6 [==============================] - 1s 162ms/step - loss: 0.2851 - accuracy: 0.0872\n",
            "Epoch 137/250\n",
            "6/6 [==============================] - 1s 159ms/step - loss: 0.2815 - accuracy: 0.0877\n",
            "Epoch 138/250\n",
            "6/6 [==============================] - 1s 159ms/step - loss: 0.2848 - accuracy: 0.0892\n",
            "Epoch 139/250\n",
            "6/6 [==============================] - 1s 158ms/step - loss: 0.2741 - accuracy: 0.0897\n",
            "Epoch 140/250\n",
            "6/6 [==============================] - 1s 159ms/step - loss: 0.2725 - accuracy: 0.0893\n",
            "Epoch 141/250\n",
            "6/6 [==============================] - 1s 158ms/step - loss: 0.2695 - accuracy: 0.0899\n",
            "Epoch 142/250\n",
            "6/6 [==============================] - 1s 160ms/step - loss: 0.2616 - accuracy: 0.0910\n",
            "Epoch 143/250\n",
            "6/6 [==============================] - 1s 160ms/step - loss: 0.2596 - accuracy: 0.0916\n",
            "Epoch 144/250\n",
            "6/6 [==============================] - 1s 159ms/step - loss: 0.2530 - accuracy: 0.0921\n",
            "Epoch 145/250\n",
            "6/6 [==============================] - 1s 161ms/step - loss: 0.2588 - accuracy: 0.0935\n",
            "Epoch 146/250\n",
            "6/6 [==============================] - 1s 160ms/step - loss: 0.2491 - accuracy: 0.0929\n",
            "Epoch 147/250\n",
            "6/6 [==============================] - 1s 160ms/step - loss: 0.2480 - accuracy: 0.0938\n",
            "Epoch 148/250\n",
            "6/6 [==============================] - 1s 158ms/step - loss: 0.2453 - accuracy: 0.0944\n",
            "Epoch 149/250\n",
            "6/6 [==============================] - 1s 159ms/step - loss: 0.2332 - accuracy: 0.0942\n",
            "Epoch 150/250\n",
            "6/6 [==============================] - 1s 159ms/step - loss: 0.2334 - accuracy: 0.0956\n",
            "Epoch 151/250\n",
            "6/6 [==============================] - 1s 160ms/step - loss: 0.2296 - accuracy: 0.0953\n",
            "Epoch 152/250\n",
            "6/6 [==============================] - 1s 160ms/step - loss: 0.2204 - accuracy: 0.0963\n",
            "Epoch 153/250\n",
            "6/6 [==============================] - 1s 159ms/step - loss: 0.2265 - accuracy: 0.0968\n",
            "Epoch 154/250\n",
            "6/6 [==============================] - 1s 160ms/step - loss: 0.2247 - accuracy: 0.0976\n",
            "Epoch 155/250\n",
            "6/6 [==============================] - 1s 159ms/step - loss: 0.2156 - accuracy: 0.0984\n",
            "Epoch 156/250\n",
            "6/6 [==============================] - 1s 159ms/step - loss: 0.2116 - accuracy: 0.0977\n",
            "Epoch 157/250\n",
            "6/6 [==============================] - 1s 161ms/step - loss: 0.2104 - accuracy: 0.0987\n",
            "Epoch 158/250\n",
            "6/6 [==============================] - 1s 159ms/step - loss: 0.2067 - accuracy: 0.1000\n",
            "Epoch 159/250\n",
            "6/6 [==============================] - 1s 159ms/step - loss: 0.1966 - accuracy: 0.0992\n",
            "Epoch 160/250\n",
            "6/6 [==============================] - 1s 161ms/step - loss: 0.2040 - accuracy: 0.1001\n",
            "Epoch 161/250\n",
            "6/6 [==============================] - 1s 160ms/step - loss: 0.1952 - accuracy: 0.1013\n",
            "Epoch 162/250\n",
            "6/6 [==============================] - 1s 158ms/step - loss: 0.1923 - accuracy: 0.1018\n",
            "Epoch 163/250\n",
            "6/6 [==============================] - 1s 160ms/step - loss: 0.1890 - accuracy: 0.1020\n",
            "Epoch 164/250\n",
            "6/6 [==============================] - 1s 160ms/step - loss: 0.1823 - accuracy: 0.1011\n",
            "Epoch 165/250\n",
            "6/6 [==============================] - 1s 159ms/step - loss: 0.1806 - accuracy: 0.1032\n",
            "Epoch 166/250\n",
            "6/6 [==============================] - 1s 160ms/step - loss: 0.1783 - accuracy: 0.1025\n",
            "Epoch 167/250\n",
            "6/6 [==============================] - 1s 160ms/step - loss: 0.1739 - accuracy: 0.1034\n",
            "Epoch 168/250\n",
            "6/6 [==============================] - 1s 161ms/step - loss: 0.1744 - accuracy: 0.1045\n",
            "Epoch 169/250\n",
            "6/6 [==============================] - 1s 160ms/step - loss: 0.1688 - accuracy: 0.1047\n",
            "Epoch 170/250\n",
            "6/6 [==============================] - 1s 159ms/step - loss: 0.1644 - accuracy: 0.1054\n",
            "Epoch 171/250\n",
            "6/6 [==============================] - 1s 160ms/step - loss: 0.1651 - accuracy: 0.1066\n",
            "Epoch 172/250\n",
            "6/6 [==============================] - 1s 161ms/step - loss: 0.1622 - accuracy: 0.1058\n",
            "Epoch 173/250\n",
            "6/6 [==============================] - 1s 159ms/step - loss: 0.1533 - accuracy: 0.1064\n",
            "Epoch 174/250\n",
            "6/6 [==============================] - 1s 160ms/step - loss: 0.1529 - accuracy: 0.1067\n",
            "Epoch 175/250\n",
            "6/6 [==============================] - 1s 160ms/step - loss: 0.1481 - accuracy: 0.1079\n",
            "Epoch 176/250\n",
            "6/6 [==============================] - 1s 160ms/step - loss: 0.1516 - accuracy: 0.1097\n",
            "Epoch 177/250\n",
            "6/6 [==============================] - 1s 160ms/step - loss: 0.1493 - accuracy: 0.1097\n",
            "Epoch 178/250\n",
            "6/6 [==============================] - 1s 160ms/step - loss: 0.1443 - accuracy: 0.1100\n",
            "Epoch 179/250\n",
            "6/6 [==============================] - 1s 161ms/step - loss: 0.1380 - accuracy: 0.1085\n",
            "Epoch 180/250\n",
            "6/6 [==============================] - 1s 160ms/step - loss: 0.1373 - accuracy: 0.1104\n",
            "Epoch 181/250\n",
            "6/6 [==============================] - 1s 163ms/step - loss: 0.1352 - accuracy: 0.1103\n",
            "Epoch 182/250\n",
            "6/6 [==============================] - 1s 160ms/step - loss: 0.1289 - accuracy: 0.1105\n",
            "Epoch 183/250\n",
            "6/6 [==============================] - 1s 161ms/step - loss: 0.1295 - accuracy: 0.1129\n",
            "Epoch 184/250\n",
            "6/6 [==============================] - 1s 161ms/step - loss: 0.1247 - accuracy: 0.1128\n",
            "Epoch 185/250\n",
            "6/6 [==============================] - 1s 160ms/step - loss: 0.1227 - accuracy: 0.1136\n",
            "Epoch 186/250\n",
            "6/6 [==============================] - 1s 162ms/step - loss: 0.1190 - accuracy: 0.1129\n",
            "Epoch 187/250\n",
            "6/6 [==============================] - 1s 161ms/step - loss: 0.1181 - accuracy: 0.1145\n",
            "Epoch 188/250\n",
            "6/6 [==============================] - 1s 162ms/step - loss: 0.1124 - accuracy: 0.1139\n",
            "Epoch 189/250\n",
            "6/6 [==============================] - 1s 161ms/step - loss: 0.1135 - accuracy: 0.1161\n",
            "Epoch 190/250\n",
            "6/6 [==============================] - 1s 160ms/step - loss: 0.1106 - accuracy: 0.1153\n",
            "Epoch 191/250\n",
            "6/6 [==============================] - 1s 161ms/step - loss: 0.1078 - accuracy: 0.1160\n",
            "Epoch 192/250\n",
            "6/6 [==============================] - 1s 159ms/step - loss: 0.1055 - accuracy: 0.1172\n",
            "Epoch 193/250\n",
            "6/6 [==============================] - 1s 160ms/step - loss: 0.1006 - accuracy: 0.1159\n",
            "Epoch 194/250\n",
            "6/6 [==============================] - 1s 159ms/step - loss: 0.0999 - accuracy: 0.1180\n",
            "Epoch 195/250\n",
            "6/6 [==============================] - 1s 160ms/step - loss: 0.0945 - accuracy: 0.1185\n",
            "Epoch 196/250\n",
            "6/6 [==============================] - 1s 160ms/step - loss: 0.0930 - accuracy: 0.1176\n",
            "Epoch 197/250\n",
            "6/6 [==============================] - 1s 161ms/step - loss: 0.0907 - accuracy: 0.1181\n",
            "Epoch 198/250\n",
            "6/6 [==============================] - 1s 160ms/step - loss: 0.0903 - accuracy: 0.1192\n",
            "Epoch 199/250\n",
            "6/6 [==============================] - 1s 160ms/step - loss: 0.0875 - accuracy: 0.1218\n",
            "Epoch 200/250\n",
            "6/6 [==============================] - 1s 161ms/step - loss: 0.0813 - accuracy: 0.1189\n",
            "Epoch 201/250\n",
            "6/6 [==============================] - 1s 160ms/step - loss: 0.0827 - accuracy: 0.1208\n",
            "Epoch 202/250\n",
            "6/6 [==============================] - 1s 159ms/step - loss: 0.0793 - accuracy: 0.1205\n",
            "Epoch 203/250\n",
            "6/6 [==============================] - 1s 159ms/step - loss: 0.0793 - accuracy: 0.1227\n",
            "Epoch 204/250\n",
            "6/6 [==============================] - 1s 160ms/step - loss: 0.0764 - accuracy: 0.1212\n",
            "Epoch 205/250\n",
            "6/6 [==============================] - 1s 160ms/step - loss: 0.0729 - accuracy: 0.1224\n",
            "Epoch 206/250\n",
            "6/6 [==============================] - 1s 160ms/step - loss: 0.0709 - accuracy: 0.1226\n",
            "Epoch 207/250\n",
            "6/6 [==============================] - 1s 160ms/step - loss: 0.0685 - accuracy: 0.1225\n",
            "Epoch 208/250\n",
            "6/6 [==============================] - 1s 160ms/step - loss: 0.0689 - accuracy: 0.1246\n",
            "Epoch 209/250\n",
            "6/6 [==============================] - 1s 159ms/step - loss: 0.0656 - accuracy: 0.1243\n",
            "Epoch 210/250\n",
            "6/6 [==============================] - 1s 159ms/step - loss: 0.0645 - accuracy: 0.1249\n",
            "Epoch 211/250\n",
            "6/6 [==============================] - 1s 160ms/step - loss: 0.0641 - accuracy: 0.1266\n",
            "Epoch 212/250\n",
            "6/6 [==============================] - 1s 160ms/step - loss: 0.0595 - accuracy: 0.1258\n",
            "Epoch 213/250\n",
            "6/6 [==============================] - 1s 160ms/step - loss: 0.0588 - accuracy: 0.1270\n",
            "Epoch 214/250\n",
            "6/6 [==============================] - 1s 162ms/step - loss: 0.0562 - accuracy: 0.1261\n",
            "Epoch 215/250\n",
            "6/6 [==============================] - 1s 161ms/step - loss: 0.0540 - accuracy: 0.1258\n",
            "Epoch 216/250\n",
            "6/6 [==============================] - 1s 161ms/step - loss: 0.0549 - accuracy: 0.1292\n",
            "Epoch 217/250\n",
            "6/6 [==============================] - 1s 160ms/step - loss: 0.0523 - accuracy: 0.1283\n",
            "Epoch 218/250\n",
            "6/6 [==============================] - 1s 160ms/step - loss: 0.0503 - accuracy: 0.1277\n",
            "Epoch 219/250\n",
            "6/6 [==============================] - 1s 163ms/step - loss: 0.0482 - accuracy: 0.1280\n",
            "Epoch 220/250\n",
            "6/6 [==============================] - 1s 160ms/step - loss: 0.0468 - accuracy: 0.1282\n",
            "Epoch 221/250\n",
            "6/6 [==============================] - 1s 160ms/step - loss: 0.0449 - accuracy: 0.1295\n",
            "Epoch 222/250\n",
            "6/6 [==============================] - 1s 162ms/step - loss: 0.0445 - accuracy: 0.1289\n",
            "Epoch 223/250\n",
            "6/6 [==============================] - 1s 159ms/step - loss: 0.0426 - accuracy: 0.1291\n",
            "Epoch 224/250\n",
            "6/6 [==============================] - 1s 159ms/step - loss: 0.0408 - accuracy: 0.1301\n",
            "Epoch 225/250\n",
            "6/6 [==============================] - 1s 160ms/step - loss: 0.0410 - accuracy: 0.1308\n",
            "Epoch 226/250\n",
            "6/6 [==============================] - 1s 160ms/step - loss: 0.0389 - accuracy: 0.1287\n",
            "Epoch 227/250\n",
            "6/6 [==============================] - 1s 160ms/step - loss: 0.0369 - accuracy: 0.1305\n",
            "Epoch 228/250\n",
            "6/6 [==============================] - 1s 160ms/step - loss: 0.0361 - accuracy: 0.1307\n",
            "Epoch 229/250\n",
            "6/6 [==============================] - 1s 160ms/step - loss: 0.0337 - accuracy: 0.1300\n",
            "Epoch 230/250\n",
            "6/6 [==============================] - 1s 160ms/step - loss: 0.0339 - accuracy: 0.1310\n",
            "Epoch 231/250\n",
            "6/6 [==============================] - 1s 159ms/step - loss: 0.0329 - accuracy: 0.1304\n",
            "Epoch 232/250\n",
            "6/6 [==============================] - 1s 161ms/step - loss: 0.0318 - accuracy: 0.1314\n",
            "Epoch 233/250\n",
            "6/6 [==============================] - 1s 160ms/step - loss: 0.0305 - accuracy: 0.1316\n",
            "Epoch 234/250\n",
            "6/6 [==============================] - 1s 161ms/step - loss: 0.0294 - accuracy: 0.1322\n",
            "Epoch 235/250\n",
            "6/6 [==============================] - 1s 162ms/step - loss: 0.0277 - accuracy: 0.1315\n",
            "Epoch 236/250\n",
            "6/6 [==============================] - 1s 161ms/step - loss: 0.0277 - accuracy: 0.1318\n",
            "Epoch 237/250\n",
            "6/6 [==============================] - 1s 162ms/step - loss: 0.0266 - accuracy: 0.1322\n",
            "Epoch 238/250\n",
            "6/6 [==============================] - 1s 163ms/step - loss: 0.0261 - accuracy: 0.1328\n",
            "Epoch 239/250\n",
            "6/6 [==============================] - 1s 159ms/step - loss: 0.0250 - accuracy: 0.1326\n",
            "Epoch 240/250\n",
            "6/6 [==============================] - 1s 162ms/step - loss: 0.0239 - accuracy: 0.1330\n",
            "Epoch 241/250\n",
            "6/6 [==============================] - 1s 160ms/step - loss: 0.0229 - accuracy: 0.1320\n",
            "Epoch 242/250\n",
            "6/6 [==============================] - 1s 160ms/step - loss: 0.0221 - accuracy: 0.1320\n",
            "Epoch 243/250\n",
            "6/6 [==============================] - 1s 160ms/step - loss: 0.0214 - accuracy: 0.1317\n",
            "Epoch 244/250\n",
            "6/6 [==============================] - 1s 159ms/step - loss: 0.0213 - accuracy: 0.1330\n",
            "Epoch 245/250\n",
            "6/6 [==============================] - 1s 160ms/step - loss: 0.0196 - accuracy: 0.1312\n",
            "Epoch 246/250\n",
            "6/6 [==============================] - 1s 161ms/step - loss: 0.0197 - accuracy: 0.1321\n",
            "Epoch 247/250\n",
            "6/6 [==============================] - 1s 160ms/step - loss: 0.0187 - accuracy: 0.1336\n",
            "Epoch 248/250\n",
            "6/6 [==============================] - 1s 160ms/step - loss: 0.0184 - accuracy: 0.1337\n",
            "Epoch 249/250\n",
            "6/6 [==============================] - 1s 160ms/step - loss: 0.0175 - accuracy: 0.1325\n",
            "Epoch 250/250\n",
            "6/6 [==============================] - 1s 161ms/step - loss: 0.0170 - accuracy: 0.1349\n"
          ],
          "name": "stdout"
        },
        {
          "output_type": "execute_result",
          "data": {
            "text/plain": [
              "<tensorflow.python.keras.callbacks.History at 0x7f4f8824b1d0>"
            ]
          },
          "metadata": {
            "tags": []
          },
          "execution_count": 58
        }
      ]
    },
    {
      "cell_type": "code",
      "metadata": {
        "id": "ctgBKzffNI58"
      },
      "source": [
        "# model.save_weights(path+f'Transformer_kr_{EPOCHS}_layers_{NUM_LAYERS}.ckpt')"
      ],
      "execution_count": 59,
      "outputs": []
    },
    {
      "cell_type": "code",
      "metadata": {
        "id": "vR-vDKccX0Xa"
      },
      "source": [
        "# model.load_weights(path+f'Transformer_kr_{EPOCHS}_layers_{NUM_LAYERS}.ckpt')"
      ],
      "execution_count": 60,
      "outputs": []
    },
    {
      "cell_type": "markdown",
      "metadata": {
        "id": "S2_fVXqe0h-0"
      },
      "source": [
        "## 검증"
      ]
    },
    {
      "cell_type": "code",
      "metadata": {
        "id": "Qvgs4Pf4TkEC"
      },
      "source": [
        "def evaluate(sentence):\n",
        "  sentence = preprocess_sentence(sentence)\n",
        "\n",
        "  sentence = tf.expand_dims(\n",
        "      START_TOKEN + tokenizer.encode(sentence) + END_TOKEN, axis=0)\n",
        "\n",
        "  output = tf.expand_dims(START_TOKEN, 0)\n",
        "\n",
        "  # 디코더의 예측 시작\n",
        "  for i in range(MAX_LENGTH):\n",
        "    predictions = model(inputs=[sentence, output], training=False)\n",
        "\n",
        "    # 현재(마지막) 시점의 예측 단어를 받아온다.\n",
        "    predictions = predictions[:, -1:, :]\n",
        "    predicted_id = tf.cast(tf.argmax(predictions, axis=-1), tf.int32)\n",
        "\n",
        "    # 만약 마지막 시점의 예측 단어가 종료 토큰이라면 예측을 중단\n",
        "    if tf.equal(predicted_id, END_TOKEN[0]):\n",
        "      break\n",
        "\n",
        "    # 마지막 시점의 예측 단어를 출력에 연결한다.\n",
        "    # 이는 for문을 통해서 디코더의 입력으로 사용될 예정이다.\n",
        "    output = tf.concat([output, predicted_id], axis=-1)\n",
        "\n",
        "  return tf.squeeze(output, axis=0)\n",
        "\n",
        "\n",
        "def predict(sentence):\n",
        "  prediction = evaluate(sentence)\n",
        "\n",
        "  predicted_sentence = tokenizer.decode(\n",
        "      [i for i in prediction if i < tokenizer.vocab_size])\n",
        "\n",
        "#   print('Input: {}'.format(sentence))\n",
        "#   print('Output: {}'.format(predicted_sentence))\n",
        "\n",
        "  return predicted_sentence\n",
        "\n",
        "\n",
        "def preprocess_sentence(sentence):\n",
        "  sentence = re.sub(r\"([?.!,])\", r\" \\1 \", sentence)\n",
        "  sentence = sentence.strip()\n",
        "  return sentence"
      ],
      "execution_count": 61,
      "outputs": []
    },
    {
      "cell_type": "code",
      "metadata": {
        "id": "k592OU1EY7xc",
        "colab": {
          "base_uri": "https://localhost:8080/",
          "height": 35
        },
        "outputId": "aaa72ca5-1757-42d9-e1ae-621b6232e193"
      },
      "source": [
        "predict(filtering_train_df['split_train_token'][2])"
      ],
      "execution_count": 62,
      "outputs": [
        {
          "output_type": "execute_result",
          "data": {
            "application/vnd.google.colaboratory.intrinsic+json": {
              "type": "string"
            },
            "text/plain": [
              "'<esp> 약제 비 <esp>'"
            ]
          },
          "metadata": {
            "tags": []
          },
          "execution_count": 62
        }
      ]
    },
    {
      "cell_type": "code",
      "metadata": {
        "id": "Ammn_7esech4"
      },
      "source": [
        "filtering_test_df['split_train_token'] = [tok(i.strip()) for i in filtering_test_df['train']]\n",
        "filtering_test_df['split_label_token'] = [tok(i.strip()) for i in filtering_test_df['label']]\n",
        "filtering_test_df['split_train_token'] = filtering_test_df['split_train_token'].apply(lambda x: ' '.join(map(str, x)))\n",
        "filtering_test_df['split_label_token'] = filtering_test_df['split_label_token'].apply(lambda x: ' '.join(map(str, x)))\n",
        "filtering_test_df['split_train_token'] = ['<esp> ' + i.strip().replace('&&', ' <esp> ') + ' <esp>' for i in filtering_test_df['split_train_token']]\n",
        "filtering_test_df['split_label_token'] = ['<esp> ' + i.strip() + ' <esp>' for i in filtering_test_df['split_label_token']]"
      ],
      "execution_count": 63,
      "outputs": []
    },
    {
      "cell_type": "code",
      "metadata": {
        "id": "3wGK8SfJfCLv",
        "colab": {
          "base_uri": "https://localhost:8080/",
          "height": 204
        },
        "outputId": "aff10999-3cf4-4df3-9847-ed11411e6548"
      },
      "source": [
        "filtering_test_df.pop('token_len')\n",
        "filtering_test_df.pop('token_len_cate')\n",
        "filtering_test_df.head()"
      ],
      "execution_count": 64,
      "outputs": [
        {
          "output_type": "execute_result",
          "data": {
            "text/html": [
              "<div>\n",
              "<style scoped>\n",
              "    .dataframe tbody tr th:only-of-type {\n",
              "        vertical-align: middle;\n",
              "    }\n",
              "\n",
              "    .dataframe tbody tr th {\n",
              "        vertical-align: top;\n",
              "    }\n",
              "\n",
              "    .dataframe thead th {\n",
              "        text-align: right;\n",
              "    }\n",
              "</style>\n",
              "<table border=\"1\" class=\"dataframe\">\n",
              "  <thead>\n",
              "    <tr style=\"text-align: right;\">\n",
              "      <th></th>\n",
              "      <th>train</th>\n",
              "      <th>label</th>\n",
              "      <th>split_train_token</th>\n",
              "      <th>split_label_token</th>\n",
              "    </tr>\n",
              "  </thead>\n",
              "  <tbody>\n",
              "    <tr>\n",
              "      <th>0</th>\n",
              "      <td>[말하는 은행나무] 저온압착 참기름 300ml&amp;&amp;[남도장터] 함평 나비원 나비골추어...</td>\n",
              "      <td>여수 거문도 해풍쑥 생개떡 2kg</td>\n",
              "      <td>&lt;esp&gt; [ 말하 는 은행나무 ] 저온 압착 참기름 300 ml  &lt;esp&gt;  [...</td>\n",
              "      <td>&lt;esp&gt; 여수 거문도 해풍 쑥 생 개떡 2 kg &lt;esp&gt;</td>\n",
              "    </tr>\n",
              "    <tr>\n",
              "      <th>1</th>\n",
              "      <td>카카오프렌즈 광천김 재래 전장20g X 10봉+NEW장바구니&amp;&amp;[농부의정성]포근포근...</td>\n",
              "      <td>[제주안심밥상] 3단계 제주돼지 고추장불고기 300g 3팩</td>\n",
              "      <td>&lt;esp&gt; 카 카 오프 렌즈 광천 김 재래 전장 20 g X 10 봉 + NEW 장...</td>\n",
              "      <td>&lt;esp&gt; [ 제주 안심 밥상 ] 3 단계 제주 돼지 고추장 불고기 300 g 3 ...</td>\n",
              "    </tr>\n",
              "    <tr>\n",
              "      <th>2</th>\n",
              "      <td>약제비&amp;&amp;약제비&amp;&amp;비뇨기과/진료비&amp;&amp;약제비</td>\n",
              "      <td>약제비</td>\n",
              "      <td>&lt;esp&gt; 약 제비  &lt;esp&gt;  약제 비  &lt;esp&gt;  비뇨기과 / 진료비  &lt;e...</td>\n",
              "      <td>&lt;esp&gt; 약제 비 &lt;esp&gt;</td>\n",
              "    </tr>\n",
              "    <tr>\n",
              "      <th>3</th>\n",
              "      <td>부산명물 씨앗호떡 해바라기(60g 5개 × 4세트)&amp;&amp;부산명물 씨앗호떡 해바라기(6...</td>\n",
              "      <td>강병원의 한돈 목살마늘구이(300g*8)_3</td>\n",
              "      <td>&lt;esp&gt; 부산 명물 씨앗 호떡 해바라기 ( 60 g 5 개 × 4 세트 )  &lt;e...</td>\n",
              "      <td>&lt;esp&gt; 강 병원 의 한 돈 목살 마늘 구이 ( 300 g * 8 ) _ 3 &lt;esp&gt;</td>\n",
              "    </tr>\n",
              "    <tr>\n",
              "      <th>4</th>\n",
              "      <td>아메리카노 / HOT외 5건&amp;&amp;아메리카노 / HOT외 7건&amp;&amp;크로와플&amp;&amp;아메리카노 ...</td>\n",
              "      <td>크로와플</td>\n",
              "      <td>&lt;esp&gt; 아메리카 노 / HOT 외 5 건  &lt;esp&gt;  아메리카 노 / HOT ...</td>\n",
              "      <td>&lt;esp&gt; 크로 와플 &lt;esp&gt;</td>\n",
              "    </tr>\n",
              "  </tbody>\n",
              "</table>\n",
              "</div>"
            ],
            "text/plain": [
              "                                               train  ...                                  split_label_token\n",
              "0  [말하는 은행나무] 저온압착 참기름 300ml&&[남도장터] 함평 나비원 나비골추어...  ...                  <esp> 여수 거문도 해풍 쑥 생 개떡 2 kg <esp>\n",
              "1  카카오프렌즈 광천김 재래 전장20g X 10봉+NEW장바구니&&[농부의정성]포근포근...  ...  <esp> [ 제주 안심 밥상 ] 3 단계 제주 돼지 고추장 불고기 300 g 3 ...\n",
              "2                            약제비&&약제비&&비뇨기과/진료비&&약제비  ...                                   <esp> 약제 비 <esp>\n",
              "3  부산명물 씨앗호떡 해바라기(60g 5개 × 4세트)&&부산명물 씨앗호떡 해바라기(6...  ...  <esp> 강 병원 의 한 돈 목살 마늘 구이 ( 300 g * 8 ) _ 3 <esp>\n",
              "4  아메리카노 / HOT외 5건&&아메리카노 / HOT외 7건&&크로와플&&아메리카노 ...  ...                                  <esp> 크로 와플 <esp>\n",
              "\n",
              "[5 rows x 4 columns]"
            ]
          },
          "metadata": {
            "tags": []
          },
          "execution_count": 64
        }
      ]
    },
    {
      "cell_type": "code",
      "metadata": {
        "colab": {
          "base_uri": "https://localhost:8080/"
        },
        "id": "3kA-UfGzeHIY",
        "outputId": "00a26208-2aaf-4205-ff80-bbaa185453ad"
      },
      "source": [
        "tqdm.tqdm.pandas()\n",
        "predict_item_test = filtering_test_df['split_train_token'].progress_apply(predict)"
      ],
      "execution_count": 65,
      "outputs": [
        {
          "output_type": "stream",
          "text": [
            "100%|██████████| 344/344 [02:51<00:00,  2.00it/s]\n"
          ],
          "name": "stderr"
        }
      ]
    },
    {
      "cell_type": "code",
      "metadata": {
        "id": "R1bg7taWe3Vl"
      },
      "source": [
        "filtering_test_df['predict_item'] = predict_item_test"
      ],
      "execution_count": 66,
      "outputs": []
    },
    {
      "cell_type": "code",
      "metadata": {
        "id": "sRmBz3pWM_DP",
        "colab": {
          "base_uri": "https://localhost:8080/",
          "height": 589
        },
        "outputId": "f685290d-d7a4-45c1-c284-8576f4a92db5"
      },
      "source": [
        "filtering_test_df"
      ],
      "execution_count": 67,
      "outputs": [
        {
          "output_type": "execute_result",
          "data": {
            "text/html": [
              "<div>\n",
              "<style scoped>\n",
              "    .dataframe tbody tr th:only-of-type {\n",
              "        vertical-align: middle;\n",
              "    }\n",
              "\n",
              "    .dataframe tbody tr th {\n",
              "        vertical-align: top;\n",
              "    }\n",
              "\n",
              "    .dataframe thead th {\n",
              "        text-align: right;\n",
              "    }\n",
              "</style>\n",
              "<table border=\"1\" class=\"dataframe\">\n",
              "  <thead>\n",
              "    <tr style=\"text-align: right;\">\n",
              "      <th></th>\n",
              "      <th>train</th>\n",
              "      <th>label</th>\n",
              "      <th>split_train_token</th>\n",
              "      <th>split_label_token</th>\n",
              "      <th>predict_item</th>\n",
              "    </tr>\n",
              "  </thead>\n",
              "  <tbody>\n",
              "    <tr>\n",
              "      <th>0</th>\n",
              "      <td>[말하는 은행나무] 저온압착 참기름 300ml&amp;&amp;[남도장터] 함평 나비원 나비골추어...</td>\n",
              "      <td>여수 거문도 해풍쑥 생개떡 2kg</td>\n",
              "      <td>&lt;esp&gt; [ 말하 는 은행나무 ] 저온 압착 참기름 300 ml  &lt;esp&gt;  [...</td>\n",
              "      <td>&lt;esp&gt; 여수 거문도 해풍 쑥 생 개떡 2 kg &lt;esp&gt;</td>\n",
              "      <td>&lt;esp&gt; 화통 하 ㄴ 직 화 닭 발 세트 ( 직 화 무 뼈 닭 발 150 g × ...</td>\n",
              "    </tr>\n",
              "    <tr>\n",
              "      <th>1</th>\n",
              "      <td>카카오프렌즈 광천김 재래 전장20g X 10봉+NEW장바구니&amp;&amp;[농부의정성]포근포근...</td>\n",
              "      <td>[제주안심밥상] 3단계 제주돼지 고추장불고기 300g 3팩</td>\n",
              "      <td>&lt;esp&gt; 카 카 오프 렌즈 광천 김 재래 전장 20 g X 10 봉 + NEW 장...</td>\n",
              "      <td>&lt;esp&gt; [ 제주 안심 밥상 ] 3 단계 제주 돼지 고추장 불고기 300 g 3 ...</td>\n",
              "      <td>&lt;esp&gt; [ 특가 할인 ] 완도 활 전복 특대 8-9 미 \\&amp;undsc 9 팩 &lt;...</td>\n",
              "    </tr>\n",
              "    <tr>\n",
              "      <th>2</th>\n",
              "      <td>약제비&amp;&amp;약제비&amp;&amp;비뇨기과/진료비&amp;&amp;약제비</td>\n",
              "      <td>약제비</td>\n",
              "      <td>&lt;esp&gt; 약 제비  &lt;esp&gt;  약제 비  &lt;esp&gt;  비뇨기과 / 진료비  &lt;e...</td>\n",
              "      <td>&lt;esp&gt; 약제 비 &lt;esp&gt;</td>\n",
              "      <td>&lt;esp&gt; 약제 비 &lt;esp&gt;</td>\n",
              "    </tr>\n",
              "    <tr>\n",
              "      <th>3</th>\n",
              "      <td>부산명물 씨앗호떡 해바라기(60g 5개 × 4세트)&amp;&amp;부산명물 씨앗호떡 해바라기(6...</td>\n",
              "      <td>강병원의 한돈 목살마늘구이(300g*8)_3</td>\n",
              "      <td>&lt;esp&gt; 부산 명물 씨앗 호떡 해바라기 ( 60 g 5 개 × 4 세트 )  &lt;e...</td>\n",
              "      <td>&lt;esp&gt; 강 병원 의 한 돈 목살 마늘 구이 ( 300 g * 8 ) _ 3 &lt;esp&gt;</td>\n",
              "      <td>&lt;esp&gt; 강 병원 의 한 돈 목살 마늘 구이 ( 300 g * 8 ) \\&amp;unds...</td>\n",
              "    </tr>\n",
              "    <tr>\n",
              "      <th>4</th>\n",
              "      <td>아메리카노 / HOT외 5건&amp;&amp;아메리카노 / HOT외 7건&amp;&amp;크로와플&amp;&amp;아메리카노 ...</td>\n",
              "      <td>크로와플</td>\n",
              "      <td>&lt;esp&gt; 아메리카 노 / HOT 외 5 건  &lt;esp&gt;  아메리카 노 / HOT ...</td>\n",
              "      <td>&lt;esp&gt; 크로 와플 &lt;esp&gt;</td>\n",
              "      <td>&lt;esp&gt; HOT 카페 아메리카 노 &lt;esp&gt;</td>\n",
              "    </tr>\n",
              "    <tr>\n",
              "      <th>...</th>\n",
              "      <td>...</td>\n",
              "      <td>...</td>\n",
              "      <td>...</td>\n",
              "      <td>...</td>\n",
              "      <td>...</td>\n",
              "    </tr>\n",
              "    <tr>\n",
              "      <th>339</th>\n",
              "      <td>우편물&amp;&amp;우편물&amp;&amp;무안 지주식 곱창김 50매&amp;&amp;우편물</td>\n",
              "      <td>청양칠갑산어머니구기자한과</td>\n",
              "      <td>&lt;esp&gt; 우편물  &lt;esp&gt;  우편 물  &lt;esp&gt;  무안 지주식 곱창 김 50 ...</td>\n",
              "      <td>&lt;esp&gt; 청양 칠갑산 어머니 구기자 한과 &lt;esp&gt;</td>\n",
              "      <td>&lt;esp&gt; [ 최고 의 선물 ] 그리 ㄴ 식품 춘천 닭 갈비 2 kg ( 국내 산통...</td>\n",
              "    </tr>\n",
              "    <tr>\n",
              "      <th>340</th>\n",
              "      <td>2020 자색양파 3kg 무안 산지배송</td>\n",
              "      <td>하동청매실엑기스</td>\n",
              "      <td>&lt;esp&gt; 2020 자색 양파 3 kg 무안 산지 배송 &lt;esp&gt;</td>\n",
              "      <td>&lt;esp&gt; 하동 청매 실 엑기스 &lt;esp&gt;</td>\n",
              "      <td>&lt;esp&gt; [ 우체국 ] KF 94 이 ㄴ 증 마스크 대형 ( 화이트 ) 25 매 ...</td>\n",
              "    </tr>\n",
              "    <tr>\n",
              "      <th>341</th>\n",
              "      <td>가정용 사과(흠집과) 8kg(30~40개입)&amp;&amp;[12/5~1/13 쓱머니증정][1/...</td>\n",
              "      <td>[포프랑]올클린 살균소독제 300ml 스프레이 분무형 개인위생 소독용 Y</td>\n",
              "      <td>&lt;esp&gt; 가정용 사과 ( 흠집 과 ) 8 kg ( 30 ~ 40 개입 )  &lt;es...</td>\n",
              "      <td>&lt;esp&gt; [ 포 프랑 ] 올 클린 살균 소독제 300 ml 스프레이 분무 형 개인...</td>\n",
              "      <td>&lt;esp&gt; 2020 농협 천생 연 세척 사과 3 kg * 3 박스 ( 부사 ) &lt;esp&gt;</td>\n",
              "    </tr>\n",
              "    <tr>\n",
              "      <th>342</th>\n",
              "      <td>보은건대추 특초1kg : 생대추24미리내외건조 : 기계선별크기일정 :용도가 가장 다...</td>\n",
              "      <td>명진농장도라지청외 1개</td>\n",
              "      <td>&lt;esp&gt; 보은 걸 ㄴ 대추 특 초 1 kg : 생 대추 24 미리 내외 건조 : ...</td>\n",
              "      <td>&lt;esp&gt; 명진 농장 도라지 청 외 1 개 &lt;esp&gt;</td>\n",
              "      <td>&lt;esp&gt; 상주 향토 곶감 ( 건시 ) &lt;esp&gt;</td>\n",
              "    </tr>\n",
              "    <tr>\n",
              "      <th>343</th>\n",
              "      <td>[2020년산 햅쌀] 김제 10인농부의 맛있는 햅쌀10kg(등급:상)</td>\n",
              "      <td>[영동곶감] 쫀득 달콤한 최고의 선물세트 건시곶감 1.5kg (40~50과)</td>\n",
              "      <td>&lt;esp&gt; [ 2020 년 산 햅쌀 ] 김 제 10 이 ㄴ 농부 의 맛있 는 햅쌀 ...</td>\n",
              "      <td>&lt;esp&gt; [ 영동 곶감 ] 쫄 ㄴ 득 달콤 하 ㄴ 최고 의 선물 세트 건시 곶감 ...</td>\n",
              "      <td>&lt;esp&gt; 상주 향토 곶감 ( 건시 ) &lt;esp&gt;</td>\n",
              "    </tr>\n",
              "  </tbody>\n",
              "</table>\n",
              "<p>344 rows × 5 columns</p>\n",
              "</div>"
            ],
            "text/plain": [
              "                                                 train  ...                                       predict_item\n",
              "0    [말하는 은행나무] 저온압착 참기름 300ml&&[남도장터] 함평 나비원 나비골추어...  ...  <esp> 화통 하 ㄴ 직 화 닭 발 세트 ( 직 화 무 뼈 닭 발 150 g × ...\n",
              "1    카카오프렌즈 광천김 재래 전장20g X 10봉+NEW장바구니&&[농부의정성]포근포근...  ...  <esp> [ 특가 할인 ] 완도 활 전복 특대 8-9 미 \\&undsc 9 팩 <...\n",
              "2                              약제비&&약제비&&비뇨기과/진료비&&약제비  ...                                   <esp> 약제 비 <esp>\n",
              "3    부산명물 씨앗호떡 해바라기(60g 5개 × 4세트)&&부산명물 씨앗호떡 해바라기(6...  ...  <esp> 강 병원 의 한 돈 목살 마늘 구이 ( 300 g * 8 ) \\&unds...\n",
              "4    아메리카노 / HOT외 5건&&아메리카노 / HOT외 7건&&크로와플&&아메리카노 ...  ...                          <esp> HOT 카페 아메리카 노 <esp>\n",
              "..                                                 ...  ...                                                ...\n",
              "339                      우편물&&우편물&&무안 지주식 곱창김 50매&&우편물  ...  <esp> [ 최고 의 선물 ] 그리 ㄴ 식품 춘천 닭 갈비 2 kg ( 국내 산통...\n",
              "340                              2020 자색양파 3kg 무안 산지배송  ...  <esp> [ 우체국 ] KF 94 이 ㄴ 증 마스크 대형 ( 화이트 ) 25 매 ...\n",
              "341  가정용 사과(흠집과) 8kg(30~40개입)&&[12/5~1/13 쓱머니증정][1/...  ...  <esp> 2020 농협 천생 연 세척 사과 3 kg * 3 박스 ( 부사 ) <esp>\n",
              "342  보은건대추 특초1kg : 생대추24미리내외건조 : 기계선별크기일정 :용도가 가장 다...  ...                        <esp> 상주 향토 곶감 ( 건시 ) <esp>\n",
              "343             [2020년산 햅쌀] 김제 10인농부의 맛있는 햅쌀10kg(등급:상)  ...                        <esp> 상주 향토 곶감 ( 건시 ) <esp>\n",
              "\n",
              "[344 rows x 5 columns]"
            ]
          },
          "metadata": {
            "tags": []
          },
          "execution_count": 67
        }
      ]
    },
    {
      "cell_type": "markdown",
      "metadata": {
        "id": "g7X9HQa0012U"
      },
      "source": [
        "# Product2Vec"
      ]
    },
    {
      "cell_type": "code",
      "metadata": {
        "id": "kUCG5oYf05BT"
      },
      "source": [
        "TFoutputs = filtering_test_df"
      ],
      "execution_count": 68,
      "outputs": []
    },
    {
      "cell_type": "code",
      "metadata": {
        "id": "LWBXfHhq3gK-"
      },
      "source": [
        "Detail = pd.DataFrame()\n",
        "Detail['Detail'] = detail"
      ],
      "execution_count": 71,
      "outputs": []
    },
    {
      "cell_type": "code",
      "metadata": {
        "id": "6iCX2CaDeuPi",
        "colab": {
          "base_uri": "https://localhost:8080/"
        },
        "outputId": "64d43067-2cc3-4991-eb82-faf1bebe6dec"
      },
      "source": [
        "Detail['tok'] = [tok(i.strip()) for i in Detail['Detail']]\n",
        "Detail['tok'] = Detail['tok'].apply(lambda x: ' '.join(map(str, x)))\n",
        "detail_esp = ['<esp> ' + i + ' <esp>' for i in Detail['tok']]\n",
        "Detail['esp'] = detail_esp\n",
        "detail_esp[:5]"
      ],
      "execution_count": 72,
      "outputs": [
        {
          "output_type": "execute_result",
          "data": {
            "text/plain": [
              "['<esp> Americano / Tall 외 1 건 <esp>',\n",
              " '<esp> Americano / Tall 외 2 건 <esp>',\n",
              " '<esp> Caffe Mocha / Tall 외 1 건 <esp>',\n",
              " '<esp> Orange juice / Tall <esp>',\n",
              " '<esp> 김 가 네 김밥 <esp>']"
            ]
          },
          "metadata": {
            "tags": []
          },
          "execution_count": 72
        }
      ]
    },
    {
      "cell_type": "code",
      "metadata": {
        "colab": {
          "base_uri": "https://localhost:8080/"
        },
        "id": "Ke-2DG5kDvMU",
        "outputId": "9b61b2d6-ed58-460a-dd3b-673aa7853b9c"
      },
      "source": [
        "detail_esp = Detail['esp'].to_list()\n",
        "detail_esp[:5]"
      ],
      "execution_count": 73,
      "outputs": [
        {
          "output_type": "execute_result",
          "data": {
            "text/plain": [
              "['<esp> Americano / Tall 외 1 건 <esp>',\n",
              " '<esp> Americano / Tall 외 2 건 <esp>',\n",
              " '<esp> Caffe Mocha / Tall 외 1 건 <esp>',\n",
              " '<esp> Orange juice / Tall <esp>',\n",
              " '<esp> 김 가 네 김밥 <esp>']"
            ]
          },
          "metadata": {
            "tags": []
          },
          "execution_count": 73
        }
      ]
    },
    {
      "cell_type": "code",
      "metadata": {
        "id": "uQLI86f4X-S3",
        "colab": {
          "base_uri": "https://localhost:8080/",
          "height": 204
        },
        "outputId": "bdc66651-4542-4774-f053-dae522f30761"
      },
      "source": [
        "Detail.head()"
      ],
      "execution_count": 74,
      "outputs": [
        {
          "output_type": "execute_result",
          "data": {
            "text/html": [
              "<div>\n",
              "<style scoped>\n",
              "    .dataframe tbody tr th:only-of-type {\n",
              "        vertical-align: middle;\n",
              "    }\n",
              "\n",
              "    .dataframe tbody tr th {\n",
              "        vertical-align: top;\n",
              "    }\n",
              "\n",
              "    .dataframe thead th {\n",
              "        text-align: right;\n",
              "    }\n",
              "</style>\n",
              "<table border=\"1\" class=\"dataframe\">\n",
              "  <thead>\n",
              "    <tr style=\"text-align: right;\">\n",
              "      <th></th>\n",
              "      <th>Detail</th>\n",
              "      <th>tok</th>\n",
              "      <th>esp</th>\n",
              "    </tr>\n",
              "  </thead>\n",
              "  <tbody>\n",
              "    <tr>\n",
              "      <th>0</th>\n",
              "      <td>Americano / Tall외 1건</td>\n",
              "      <td>Americano / Tall 외 1 건</td>\n",
              "      <td>&lt;esp&gt; Americano / Tall 외 1 건 &lt;esp&gt;</td>\n",
              "    </tr>\n",
              "    <tr>\n",
              "      <th>1</th>\n",
              "      <td>Americano / Tall외 2건</td>\n",
              "      <td>Americano / Tall 외 2 건</td>\n",
              "      <td>&lt;esp&gt; Americano / Tall 외 2 건 &lt;esp&gt;</td>\n",
              "    </tr>\n",
              "    <tr>\n",
              "      <th>2</th>\n",
              "      <td>Caffe Mocha / Tall외 1건</td>\n",
              "      <td>Caffe Mocha / Tall 외 1 건</td>\n",
              "      <td>&lt;esp&gt; Caffe Mocha / Tall 외 1 건 &lt;esp&gt;</td>\n",
              "    </tr>\n",
              "    <tr>\n",
              "      <th>3</th>\n",
              "      <td>Orange juice / Tall</td>\n",
              "      <td>Orange juice / Tall</td>\n",
              "      <td>&lt;esp&gt; Orange juice / Tall &lt;esp&gt;</td>\n",
              "    </tr>\n",
              "    <tr>\n",
              "      <th>4</th>\n",
              "      <td>김가네김밥</td>\n",
              "      <td>김 가 네 김밥</td>\n",
              "      <td>&lt;esp&gt; 김 가 네 김밥 &lt;esp&gt;</td>\n",
              "    </tr>\n",
              "  </tbody>\n",
              "</table>\n",
              "</div>"
            ],
            "text/plain": [
              "                   Detail  ...                                   esp\n",
              "0    Americano / Tall외 1건  ...    <esp> Americano / Tall 외 1 건 <esp>\n",
              "1    Americano / Tall외 2건  ...    <esp> Americano / Tall 외 2 건 <esp>\n",
              "2  Caffe Mocha / Tall외 1건  ...  <esp> Caffe Mocha / Tall 외 1 건 <esp>\n",
              "3     Orange juice / Tall  ...       <esp> Orange juice / Tall <esp>\n",
              "4                   김가네김밥  ...                  <esp> 김 가 네 김밥 <esp>\n",
              "\n",
              "[5 rows x 3 columns]"
            ]
          },
          "metadata": {
            "tags": []
          },
          "execution_count": 74
        }
      ]
    },
    {
      "cell_type": "code",
      "metadata": {
        "id": "TGBzv7zpg_57"
      },
      "source": [
        "dic = {Detail['tok'][i]:Detail['Detail'][i] for i in range(len(Detail))}"
      ],
      "execution_count": 76,
      "outputs": []
    },
    {
      "cell_type": "code",
      "metadata": {
        "id": "Xhf_KP7ANU4c",
        "colab": {
          "base_uri": "https://localhost:8080/"
        },
        "outputId": "1ab5e4df-d6f0-43b0-b6e7-2001f5732090"
      },
      "source": [
        "checker = pd.Series([i in detail_esp for i in TFoutputs['predict_item']])\n",
        "print(checker.value_counts())\n",
        "filter = checker[checker == False].index\n",
        "len(filter)"
      ],
      "execution_count": 77,
      "outputs": [
        {
          "output_type": "stream",
          "text": [
            "True     278\n",
            "False     66\n",
            "dtype: int64\n"
          ],
          "name": "stdout"
        },
        {
          "output_type": "execute_result",
          "data": {
            "text/plain": [
              "66"
            ]
          },
          "metadata": {
            "tags": []
          },
          "execution_count": 77
        }
      ]
    },
    {
      "cell_type": "code",
      "metadata": {
        "id": "Uh-NlYnHNf5n",
        "colab": {
          "base_uri": "https://localhost:8080/",
          "height": 589
        },
        "outputId": "50701302-e9d0-4f12-b7e4-a10d643f86c7"
      },
      "source": [
        "TFoutputs['filter'] = checker\n",
        "TFoutputs"
      ],
      "execution_count": 78,
      "outputs": [
        {
          "output_type": "execute_result",
          "data": {
            "text/html": [
              "<div>\n",
              "<style scoped>\n",
              "    .dataframe tbody tr th:only-of-type {\n",
              "        vertical-align: middle;\n",
              "    }\n",
              "\n",
              "    .dataframe tbody tr th {\n",
              "        vertical-align: top;\n",
              "    }\n",
              "\n",
              "    .dataframe thead th {\n",
              "        text-align: right;\n",
              "    }\n",
              "</style>\n",
              "<table border=\"1\" class=\"dataframe\">\n",
              "  <thead>\n",
              "    <tr style=\"text-align: right;\">\n",
              "      <th></th>\n",
              "      <th>train</th>\n",
              "      <th>label</th>\n",
              "      <th>split_train_token</th>\n",
              "      <th>split_label_token</th>\n",
              "      <th>predict_item</th>\n",
              "      <th>filter</th>\n",
              "    </tr>\n",
              "  </thead>\n",
              "  <tbody>\n",
              "    <tr>\n",
              "      <th>0</th>\n",
              "      <td>[말하는 은행나무] 저온압착 참기름 300ml&amp;&amp;[남도장터] 함평 나비원 나비골추어...</td>\n",
              "      <td>여수 거문도 해풍쑥 생개떡 2kg</td>\n",
              "      <td>&lt;esp&gt; [ 말하 는 은행나무 ] 저온 압착 참기름 300 ml  &lt;esp&gt;  [...</td>\n",
              "      <td>&lt;esp&gt; 여수 거문도 해풍 쑥 생 개떡 2 kg &lt;esp&gt;</td>\n",
              "      <td>&lt;esp&gt; 화통 하 ㄴ 직 화 닭 발 세트 ( 직 화 무 뼈 닭 발 150 g × ...</td>\n",
              "      <td>False</td>\n",
              "    </tr>\n",
              "    <tr>\n",
              "      <th>1</th>\n",
              "      <td>카카오프렌즈 광천김 재래 전장20g X 10봉+NEW장바구니&amp;&amp;[농부의정성]포근포근...</td>\n",
              "      <td>[제주안심밥상] 3단계 제주돼지 고추장불고기 300g 3팩</td>\n",
              "      <td>&lt;esp&gt; 카 카 오프 렌즈 광천 김 재래 전장 20 g X 10 봉 + NEW 장...</td>\n",
              "      <td>&lt;esp&gt; [ 제주 안심 밥상 ] 3 단계 제주 돼지 고추장 불고기 300 g 3 ...</td>\n",
              "      <td>&lt;esp&gt; [ 특가 할인 ] 완도 활 전복 특대 8-9 미 \\&amp;undsc 9 팩 &lt;...</td>\n",
              "      <td>False</td>\n",
              "    </tr>\n",
              "    <tr>\n",
              "      <th>2</th>\n",
              "      <td>약제비&amp;&amp;약제비&amp;&amp;비뇨기과/진료비&amp;&amp;약제비</td>\n",
              "      <td>약제비</td>\n",
              "      <td>&lt;esp&gt; 약 제비  &lt;esp&gt;  약제 비  &lt;esp&gt;  비뇨기과 / 진료비  &lt;e...</td>\n",
              "      <td>&lt;esp&gt; 약제 비 &lt;esp&gt;</td>\n",
              "      <td>&lt;esp&gt; 약제 비 &lt;esp&gt;</td>\n",
              "      <td>True</td>\n",
              "    </tr>\n",
              "    <tr>\n",
              "      <th>3</th>\n",
              "      <td>부산명물 씨앗호떡 해바라기(60g 5개 × 4세트)&amp;&amp;부산명물 씨앗호떡 해바라기(6...</td>\n",
              "      <td>강병원의 한돈 목살마늘구이(300g*8)_3</td>\n",
              "      <td>&lt;esp&gt; 부산 명물 씨앗 호떡 해바라기 ( 60 g 5 개 × 4 세트 )  &lt;e...</td>\n",
              "      <td>&lt;esp&gt; 강 병원 의 한 돈 목살 마늘 구이 ( 300 g * 8 ) _ 3 &lt;esp&gt;</td>\n",
              "      <td>&lt;esp&gt; 강 병원 의 한 돈 목살 마늘 구이 ( 300 g * 8 ) \\&amp;unds...</td>\n",
              "      <td>False</td>\n",
              "    </tr>\n",
              "    <tr>\n",
              "      <th>4</th>\n",
              "      <td>아메리카노 / HOT외 5건&amp;&amp;아메리카노 / HOT외 7건&amp;&amp;크로와플&amp;&amp;아메리카노 ...</td>\n",
              "      <td>크로와플</td>\n",
              "      <td>&lt;esp&gt; 아메리카 노 / HOT 외 5 건  &lt;esp&gt;  아메리카 노 / HOT ...</td>\n",
              "      <td>&lt;esp&gt; 크로 와플 &lt;esp&gt;</td>\n",
              "      <td>&lt;esp&gt; HOT 카페 아메리카 노 &lt;esp&gt;</td>\n",
              "      <td>True</td>\n",
              "    </tr>\n",
              "    <tr>\n",
              "      <th>...</th>\n",
              "      <td>...</td>\n",
              "      <td>...</td>\n",
              "      <td>...</td>\n",
              "      <td>...</td>\n",
              "      <td>...</td>\n",
              "      <td>...</td>\n",
              "    </tr>\n",
              "    <tr>\n",
              "      <th>339</th>\n",
              "      <td>우편물&amp;&amp;우편물&amp;&amp;무안 지주식 곱창김 50매&amp;&amp;우편물</td>\n",
              "      <td>청양칠갑산어머니구기자한과</td>\n",
              "      <td>&lt;esp&gt; 우편물  &lt;esp&gt;  우편 물  &lt;esp&gt;  무안 지주식 곱창 김 50 ...</td>\n",
              "      <td>&lt;esp&gt; 청양 칠갑산 어머니 구기자 한과 &lt;esp&gt;</td>\n",
              "      <td>&lt;esp&gt; [ 최고 의 선물 ] 그리 ㄴ 식품 춘천 닭 갈비 2 kg ( 국내 산통...</td>\n",
              "      <td>True</td>\n",
              "    </tr>\n",
              "    <tr>\n",
              "      <th>340</th>\n",
              "      <td>2020 자색양파 3kg 무안 산지배송</td>\n",
              "      <td>하동청매실엑기스</td>\n",
              "      <td>&lt;esp&gt; 2020 자색 양파 3 kg 무안 산지 배송 &lt;esp&gt;</td>\n",
              "      <td>&lt;esp&gt; 하동 청매 실 엑기스 &lt;esp&gt;</td>\n",
              "      <td>&lt;esp&gt; [ 우체국 ] KF 94 이 ㄴ 증 마스크 대형 ( 화이트 ) 25 매 ...</td>\n",
              "      <td>True</td>\n",
              "    </tr>\n",
              "    <tr>\n",
              "      <th>341</th>\n",
              "      <td>가정용 사과(흠집과) 8kg(30~40개입)&amp;&amp;[12/5~1/13 쓱머니증정][1/...</td>\n",
              "      <td>[포프랑]올클린 살균소독제 300ml 스프레이 분무형 개인위생 소독용 Y</td>\n",
              "      <td>&lt;esp&gt; 가정용 사과 ( 흠집 과 ) 8 kg ( 30 ~ 40 개입 )  &lt;es...</td>\n",
              "      <td>&lt;esp&gt; [ 포 프랑 ] 올 클린 살균 소독제 300 ml 스프레이 분무 형 개인...</td>\n",
              "      <td>&lt;esp&gt; 2020 농협 천생 연 세척 사과 3 kg * 3 박스 ( 부사 ) &lt;esp&gt;</td>\n",
              "      <td>True</td>\n",
              "    </tr>\n",
              "    <tr>\n",
              "      <th>342</th>\n",
              "      <td>보은건대추 특초1kg : 생대추24미리내외건조 : 기계선별크기일정 :용도가 가장 다...</td>\n",
              "      <td>명진농장도라지청외 1개</td>\n",
              "      <td>&lt;esp&gt; 보은 걸 ㄴ 대추 특 초 1 kg : 생 대추 24 미리 내외 건조 : ...</td>\n",
              "      <td>&lt;esp&gt; 명진 농장 도라지 청 외 1 개 &lt;esp&gt;</td>\n",
              "      <td>&lt;esp&gt; 상주 향토 곶감 ( 건시 ) &lt;esp&gt;</td>\n",
              "      <td>True</td>\n",
              "    </tr>\n",
              "    <tr>\n",
              "      <th>343</th>\n",
              "      <td>[2020년산 햅쌀] 김제 10인농부의 맛있는 햅쌀10kg(등급:상)</td>\n",
              "      <td>[영동곶감] 쫀득 달콤한 최고의 선물세트 건시곶감 1.5kg (40~50과)</td>\n",
              "      <td>&lt;esp&gt; [ 2020 년 산 햅쌀 ] 김 제 10 이 ㄴ 농부 의 맛있 는 햅쌀 ...</td>\n",
              "      <td>&lt;esp&gt; [ 영동 곶감 ] 쫄 ㄴ 득 달콤 하 ㄴ 최고 의 선물 세트 건시 곶감 ...</td>\n",
              "      <td>&lt;esp&gt; 상주 향토 곶감 ( 건시 ) &lt;esp&gt;</td>\n",
              "      <td>True</td>\n",
              "    </tr>\n",
              "  </tbody>\n",
              "</table>\n",
              "<p>344 rows × 6 columns</p>\n",
              "</div>"
            ],
            "text/plain": [
              "                                                 train  ... filter\n",
              "0    [말하는 은행나무] 저온압착 참기름 300ml&&[남도장터] 함평 나비원 나비골추어...  ...  False\n",
              "1    카카오프렌즈 광천김 재래 전장20g X 10봉+NEW장바구니&&[농부의정성]포근포근...  ...  False\n",
              "2                              약제비&&약제비&&비뇨기과/진료비&&약제비  ...   True\n",
              "3    부산명물 씨앗호떡 해바라기(60g 5개 × 4세트)&&부산명물 씨앗호떡 해바라기(6...  ...  False\n",
              "4    아메리카노 / HOT외 5건&&아메리카노 / HOT외 7건&&크로와플&&아메리카노 ...  ...   True\n",
              "..                                                 ...  ...    ...\n",
              "339                      우편물&&우편물&&무안 지주식 곱창김 50매&&우편물  ...   True\n",
              "340                              2020 자색양파 3kg 무안 산지배송  ...   True\n",
              "341  가정용 사과(흠집과) 8kg(30~40개입)&&[12/5~1/13 쓱머니증정][1/...  ...   True\n",
              "342  보은건대추 특초1kg : 생대추24미리내외건조 : 기계선별크기일정 :용도가 가장 다...  ...   True\n",
              "343             [2020년산 햅쌀] 김제 10인농부의 맛있는 햅쌀10kg(등급:상)  ...   True\n",
              "\n",
              "[344 rows x 6 columns]"
            ]
          },
          "metadata": {
            "tags": []
          },
          "execution_count": 78
        }
      ]
    },
    {
      "cell_type": "code",
      "metadata": {
        "id": "8NNnTiziKXBu",
        "colab": {
          "base_uri": "https://localhost:8080/"
        },
        "outputId": "5f04c777-23fd-4b6c-9037-45c70a7f3fa2"
      },
      "source": [
        "pred = TFoutputs['predict_item']\n",
        "pred = pred.str.replace('<esp>', '')\n",
        "pred = pred.str.strip()\n",
        "pred.head()"
      ],
      "execution_count": 79,
      "outputs": [
        {
          "output_type": "execute_result",
          "data": {
            "text/plain": [
              "0    화통 하 ㄴ 직 화 닭 발 세트 ( 직 화 무 뼈 닭 발 150 g × 8 팩 + ...\n",
              "1               [ 특가 할인 ] 완도 활 전복 특대 8-9 미 \\&undsc 9 팩\n",
              "2                                                 약제 비\n",
              "3          강 병원 의 한 돈 목살 마늘 구이 ( 300 g * 8 ) \\&undsc 3\n",
              "4                                        HOT 카페 아메리카 노\n",
              "Name: predict_item, dtype: object"
            ]
          },
          "metadata": {
            "tags": []
          },
          "execution_count": 79
        }
      ]
    },
    {
      "cell_type": "code",
      "metadata": {
        "id": "99bDozohPb0F",
        "colab": {
          "base_uri": "https://localhost:8080/"
        },
        "outputId": "a2e0b38f-e0d9-43d1-e2ff-d6cbe95f40d1"
      },
      "source": [
        "falses = pd.Series([TFoutputs['predict_item'][i] for i in filter])\n",
        "falses = falses.str.replace('<esp>', '')\n",
        "falses = falses.str.strip()\n",
        "print(len(falses))\n",
        "falses.head()"
      ],
      "execution_count": 80,
      "outputs": [
        {
          "output_type": "stream",
          "text": [
            "66\n"
          ],
          "name": "stdout"
        },
        {
          "output_type": "execute_result",
          "data": {
            "text/plain": [
              "0    화통 하 ㄴ 직 화 닭 발 세트 ( 직 화 무 뼈 닭 발 150 g × 8 팩 + ...\n",
              "1               [ 특가 할인 ] 완도 활 전복 특대 8-9 미 \\&undsc 9 팩\n",
              "2          강 병원 의 한 돈 목살 마늘 구이 ( 300 g * 8 ) \\&undsc 3\n",
              "3           2020 의성 眞 ( 진 ) 자두 2.2 kg * 2 팩 \\&undsc 대석\n",
              "4                       2020 농협 천생 연 세척 사과 3 kg * 3 박스\n",
              "dtype: object"
            ]
          },
          "metadata": {
            "tags": []
          },
          "execution_count": 80
        }
      ]
    },
    {
      "cell_type": "code",
      "metadata": {
        "id": "nYFapQ7HAxsZ"
      },
      "source": [
        "user2item = ds_customer.copy()"
      ],
      "execution_count": 81,
      "outputs": []
    },
    {
      "cell_type": "code",
      "metadata": {
        "id": "6WW2TMwaE6Hn",
        "colab": {
          "base_uri": "https://localhost:8080/",
          "height": 419
        },
        "outputId": "b69d3749-30de-4119-ad69-0fc292470593"
      },
      "source": [
        "user2item.columns = ['유저 식별키', '유저 구매 상품 식별키 묶음']\n",
        "user2item"
      ],
      "execution_count": 82,
      "outputs": [
        {
          "output_type": "execute_result",
          "data": {
            "text/html": [
              "<div>\n",
              "<style scoped>\n",
              "    .dataframe tbody tr th:only-of-type {\n",
              "        vertical-align: middle;\n",
              "    }\n",
              "\n",
              "    .dataframe tbody tr th {\n",
              "        vertical-align: top;\n",
              "    }\n",
              "\n",
              "    .dataframe thead th {\n",
              "        text-align: right;\n",
              "    }\n",
              "</style>\n",
              "<table border=\"1\" class=\"dataframe\">\n",
              "  <thead>\n",
              "    <tr style=\"text-align: right;\">\n",
              "      <th></th>\n",
              "      <th>유저 식별키</th>\n",
              "      <th>유저 구매 상품 식별키 묶음</th>\n",
              "    </tr>\n",
              "  </thead>\n",
              "  <tbody>\n",
              "    <tr>\n",
              "      <th>0</th>\n",
              "      <td>36</td>\n",
              "      <td>우편물&amp;&amp;더블더블 / 감자튀김 딥치즈 업그레이드 세트&amp;&amp;꿀유자차 / 아이스&amp;&amp;바닐라...</td>\n",
              "    </tr>\n",
              "    <tr>\n",
              "      <th>1</th>\n",
              "      <td>17492</td>\n",
              "      <td>납기내금액&amp;&amp;납기내금액&amp;&amp;납기내금액&amp;&amp;납기내금액&amp;&amp;납기내금액&amp;&amp;납기내금액&amp;&amp;납기내금...</td>\n",
              "    </tr>\n",
              "    <tr>\n",
              "      <th>2</th>\n",
              "      <td>26661</td>\n",
              "      <td>무료배달&amp;&amp;무료배달&amp;&amp;베이컨 치즈버거 / 일반세트(버거+음료+감자튀김)&amp;&amp;무료배달&amp;...</td>\n",
              "    </tr>\n",
              "    <tr>\n",
              "      <th>3</th>\n",
              "      <td>27462</td>\n",
              "      <td>컬쳐캐쉬1건&amp;&amp;컬쳐캐쉬1건&amp;&amp;아메리카노(일반) / 아이스,킹&amp;&amp;떡볶이&amp;&amp;더블더블 /...</td>\n",
              "    </tr>\n",
              "    <tr>\n",
              "      <th>4</th>\n",
              "      <td>27478</td>\n",
              "      <td>납기내금액&amp;&amp;납기내금액&amp;&amp;임성근손질민물장어 12팩+소스10봉&amp;&amp;납기내금액&amp;&amp;아메리카...</td>\n",
              "    </tr>\n",
              "    <tr>\n",
              "      <th>...</th>\n",
              "      <td>...</td>\n",
              "      <td>...</td>\n",
              "    </tr>\n",
              "    <tr>\n",
              "      <th>3407</th>\n",
              "      <td>1987446</td>\n",
              "      <td>일벌세트 / 약간 덜매운맛 : 추천 맵기(20%)외 2건&amp;&amp;일벌세트 / 약간 덜매운...</td>\n",
              "    </tr>\n",
              "    <tr>\n",
              "      <th>3408</th>\n",
              "      <td>1987625</td>\n",
              "      <td>(2마리) 코다리매콤명태찜 / 젓가락빼주세요외 2건&amp;&amp;(2마리) 코다리매콤명태찜 /...</td>\n",
              "    </tr>\n",
              "    <tr>\n",
              "      <th>3409</th>\n",
              "      <td>1987728</td>\n",
              "      <td>리얼초코자바칩프라페 / 휘핑 반만올리기외 1건&amp;&amp;아메리카노 / HOT&amp;&amp;아메리카노 ...</td>\n",
              "    </tr>\n",
              "    <tr>\n",
              "      <th>3410</th>\n",
              "      <td>1996381</td>\n",
              "      <td>[Best] 제주 흑돼지 돈까스샌드위치&amp;&amp;[Bset] 프레즐빠다</td>\n",
              "    </tr>\n",
              "    <tr>\n",
              "      <th>3411</th>\n",
              "      <td>1996646</td>\n",
              "      <td>에그모닝&amp;&amp;생크림팥빵</td>\n",
              "    </tr>\n",
              "  </tbody>\n",
              "</table>\n",
              "<p>3412 rows × 2 columns</p>\n",
              "</div>"
            ],
            "text/plain": [
              "       유저 식별키                                    유저 구매 상품 식별키 묶음\n",
              "0          36  우편물&&더블더블 / 감자튀김 딥치즈 업그레이드 세트&&꿀유자차 / 아이스&&바닐라...\n",
              "1       17492  납기내금액&&납기내금액&&납기내금액&&납기내금액&&납기내금액&&납기내금액&&납기내금...\n",
              "2       26661  무료배달&&무료배달&&베이컨 치즈버거 / 일반세트(버거+음료+감자튀김)&&무료배달&...\n",
              "3       27462  컬쳐캐쉬1건&&컬쳐캐쉬1건&&아메리카노(일반) / 아이스,킹&&떡볶이&&더블더블 /...\n",
              "4       27478  납기내금액&&납기내금액&&임성근손질민물장어 12팩+소스10봉&&납기내금액&&아메리카...\n",
              "...       ...                                                ...\n",
              "3407  1987446  일벌세트 / 약간 덜매운맛 : 추천 맵기(20%)외 2건&&일벌세트 / 약간 덜매운...\n",
              "3408  1987625  (2마리) 코다리매콤명태찜 / 젓가락빼주세요외 2건&&(2마리) 코다리매콤명태찜 /...\n",
              "3409  1987728  리얼초코자바칩프라페 / 휘핑 반만올리기외 1건&&아메리카노 / HOT&&아메리카노 ...\n",
              "3410  1996381                [Best] 제주 흑돼지 돈까스샌드위치&&[Bset] 프레즐빠다\n",
              "3411  1996646                                        에그모닝&&생크림팥빵\n",
              "\n",
              "[3412 rows x 2 columns]"
            ]
          },
          "metadata": {
            "tags": []
          },
          "execution_count": 82
        }
      ]
    },
    {
      "cell_type": "markdown",
      "metadata": {
        "id": "ONTa8KzF7Tpd"
      },
      "source": [
        "## Product2Vector 생성"
      ]
    },
    {
      "cell_type": "markdown",
      "metadata": {
        "id": "tQ3s7oD7roAu"
      },
      "source": [
        "### Jaccard 유사도"
      ]
    },
    {
      "cell_type": "code",
      "metadata": {
        "id": "-6NCE8Xsn_gE"
      },
      "source": [
        "def JaccardSimilarity(inp1, inp2):\n",
        "    list_inp1 = inp1.split()\n",
        "    list_inp2 = inp2.split()\n",
        "    mom = set(list_inp1).union(set(list_inp2))\n",
        "    son = set(list_inp1).intersection(set(list_inp2))\n",
        "    # print(mom)\n",
        "    # print(son)\n",
        "    return len(son)/len(mom)"
      ],
      "execution_count": 83,
      "outputs": []
    },
    {
      "cell_type": "code",
      "metadata": {
        "id": "BimiFJ2Ac3Jt"
      },
      "source": [
        "detail = Detail['tok'].unique()"
      ],
      "execution_count": 84,
      "outputs": []
    },
    {
      "cell_type": "code",
      "metadata": {
        "id": "UN3GqMyz6iBW",
        "colab": {
          "base_uri": "https://localhost:8080/"
        },
        "outputId": "0d82e4a4-9bfc-4b16-8857-dc3f91661301"
      },
      "source": [
        "pd.Series([i in detail for i in pred]).value_counts()"
      ],
      "execution_count": 85,
      "outputs": [
        {
          "output_type": "execute_result",
          "data": {
            "text/plain": [
              "True     278\n",
              "False     66\n",
              "dtype: int64"
            ]
          },
          "metadata": {
            "tags": []
          },
          "execution_count": 85
        }
      ]
    },
    {
      "cell_type": "code",
      "metadata": {
        "id": "WEsJSuI5ruEV",
        "colab": {
          "base_uri": "https://localhost:8080/"
        },
        "outputId": "d055d976-2423-499a-e0ca-db69eae34609"
      },
      "source": [
        "asdf = []\n",
        "\n",
        "for v in falses:\n",
        "    max = 0\n",
        "    for d in detail:\n",
        "        score = JaccardSimilarity(v, d)\n",
        "        if max < score:\n",
        "            max = score\n",
        "            temp = d\n",
        "    if max == 0: asdf.append(v)\n",
        "    id = pred[pred == v].index\n",
        "    for i in id:\n",
        "        pred[i] = temp\n",
        "\n",
        "len(asdf)"
      ],
      "execution_count": 86,
      "outputs": [
        {
          "output_type": "execute_result",
          "data": {
            "text/plain": [
              "0"
            ]
          },
          "metadata": {
            "tags": []
          },
          "execution_count": 86
        }
      ]
    },
    {
      "cell_type": "code",
      "metadata": {
        "id": "tDALBoafz4DZ",
        "colab": {
          "base_uri": "https://localhost:8080/"
        },
        "outputId": "c997f63b-4ec5-459c-b8bc-79a3b4fea5b8"
      },
      "source": [
        "pd.Series([i in detail for i in pred]).value_counts()"
      ],
      "execution_count": 87,
      "outputs": [
        {
          "output_type": "execute_result",
          "data": {
            "text/plain": [
              "True    344\n",
              "dtype: int64"
            ]
          },
          "metadata": {
            "tags": []
          },
          "execution_count": 87
        }
      ]
    },
    {
      "cell_type": "code",
      "metadata": {
        "id": "91kYkoci3HNN",
        "colab": {
          "base_uri": "https://localhost:8080/",
          "height": 419
        },
        "outputId": "277e53ac-11d4-4d45-9810-055d69b109d3"
      },
      "source": [
        "changes = pd.DataFrame(columns=['Original', 'Changed'])\n",
        "changes['Original'] = falses\n",
        "changes['Changed'] = pred[filter].to_list()\n",
        "changes"
      ],
      "execution_count": 88,
      "outputs": [
        {
          "output_type": "execute_result",
          "data": {
            "text/html": [
              "<div>\n",
              "<style scoped>\n",
              "    .dataframe tbody tr th:only-of-type {\n",
              "        vertical-align: middle;\n",
              "    }\n",
              "\n",
              "    .dataframe tbody tr th {\n",
              "        vertical-align: top;\n",
              "    }\n",
              "\n",
              "    .dataframe thead th {\n",
              "        text-align: right;\n",
              "    }\n",
              "</style>\n",
              "<table border=\"1\" class=\"dataframe\">\n",
              "  <thead>\n",
              "    <tr style=\"text-align: right;\">\n",
              "      <th></th>\n",
              "      <th>Original</th>\n",
              "      <th>Changed</th>\n",
              "    </tr>\n",
              "  </thead>\n",
              "  <tbody>\n",
              "    <tr>\n",
              "      <th>0</th>\n",
              "      <td>화통 하 ㄴ 직 화 닭 발 세트 ( 직 화 무 뼈 닭 발 150 g × 8 팩 + ...</td>\n",
              "      <td>화통 하 ㄴ 직 화 닭 발 세트 ( 직 화 무 뼈 닭 발 150 g × 8 팩 + ...</td>\n",
              "    </tr>\n",
              "    <tr>\n",
              "      <th>1</th>\n",
              "      <td>[ 특가 할인 ] 완도 활 전복 특대 8-9 미 \\&amp;undsc 9 팩</td>\n",
              "      <td>[ 특가 할인 ] 완도 활 전복 특대 8-9 미 1 kg / 손질 도구 증정</td>\n",
              "    </tr>\n",
              "    <tr>\n",
              "      <th>2</th>\n",
              "      <td>강 병원 의 한 돈 목살 마늘 구이 ( 300 g * 8 ) \\&amp;undsc 3</td>\n",
              "      <td>강 병원 의 한 돈 목살 마늘 구이 ( 300 g * 8 ) _ 3</td>\n",
              "    </tr>\n",
              "    <tr>\n",
              "      <th>3</th>\n",
              "      <td>2020 의성 眞 ( 진 ) 자두 2.2 kg * 2 팩 \\&amp;undsc 대석</td>\n",
              "      <td>2020 의성 眞 ( 진 ) 자두 2.2 kg * 2 팩 _ 대석</td>\n",
              "    </tr>\n",
              "    <tr>\n",
              "      <th>4</th>\n",
              "      <td>2020 농협 천생 연 세척 사과 3 kg * 3 박스</td>\n",
              "      <td>2020 농협 천생 연 세척 사과 3 kg * 3 박스 _ 부사</td>\n",
              "    </tr>\n",
              "    <tr>\n",
              "      <th>...</th>\n",
              "      <td>...</td>\n",
              "      <td>...</td>\n",
              "    </tr>\n",
              "    <tr>\n",
              "      <th>61</th>\n",
              "      <td>태 송 볶음밥 250 g * 10 봉</td>\n",
              "      <td>태 송 볶음밥 250 g * 10 봉 ( 김치 / 새우 / 햄 야채 등 )</td>\n",
              "    </tr>\n",
              "    <tr>\n",
              "      <th>62</th>\n",
              "      <td>[ 2020 년 수확 ] 하 어 빛 소 불고기 400 g * 3 팩 ( 총 9 팩 )</td>\n",
              "      <td>[ 2020 년 수확 ] 하 어 빛 세척 의성 사과 3 kg * 3 박스 / 총 9...</td>\n",
              "    </tr>\n",
              "    <tr>\n",
              "      <th>63</th>\n",
              "      <td>[ 게릴라 ] 우리 쌀 로 만들 ㄴ 보름 기정 떡 1 박스</td>\n",
              "      <td>100 % 우리 쌀 로 만들 ㄴ 보름 기정 떡 1 박스 ( 33 개 )</td>\n",
              "    </tr>\n",
              "    <tr>\n",
              "      <th>64</th>\n",
              "      <td>2020 농협 적 벽 미인 화순 쌀 10 kg + 10 kg \\&amp;undsc 신동 진</td>\n",
              "      <td>2020 농협 적 벽 미인 화순 쌀 10 kg + 10 kg _ 신동 진</td>\n",
              "    </tr>\n",
              "    <tr>\n",
              "      <th>65</th>\n",
              "      <td>제주 우진 수산 고등어 외 3 개</td>\n",
              "      <td>제주 우진 수산 고등어 외 2 개</td>\n",
              "    </tr>\n",
              "  </tbody>\n",
              "</table>\n",
              "<p>66 rows × 2 columns</p>\n",
              "</div>"
            ],
            "text/plain": [
              "                                             Original                                            Changed\n",
              "0   화통 하 ㄴ 직 화 닭 발 세트 ( 직 화 무 뼈 닭 발 150 g × 8 팩 + ...  화통 하 ㄴ 직 화 닭 발 세트 ( 직 화 무 뼈 닭 발 150 g × 8 팩 + ...\n",
              "1              [ 특가 할인 ] 완도 활 전복 특대 8-9 미 \\&undsc 9 팩         [ 특가 할인 ] 완도 활 전복 특대 8-9 미 1 kg / 손질 도구 증정\n",
              "2         강 병원 의 한 돈 목살 마늘 구이 ( 300 g * 8 ) \\&undsc 3              강 병원 의 한 돈 목살 마늘 구이 ( 300 g * 8 ) _ 3\n",
              "3          2020 의성 眞 ( 진 ) 자두 2.2 kg * 2 팩 \\&undsc 대석               2020 의성 眞 ( 진 ) 자두 2.2 kg * 2 팩 _ 대석\n",
              "4                      2020 농협 천생 연 세척 사과 3 kg * 3 박스                2020 농협 천생 연 세척 사과 3 kg * 3 박스 _ 부사\n",
              "..                                                ...                                                ...\n",
              "61                               태 송 볶음밥 250 g * 10 봉          태 송 볶음밥 250 g * 10 봉 ( 김치 / 새우 / 햄 야채 등 )\n",
              "62    [ 2020 년 수확 ] 하 어 빛 소 불고기 400 g * 3 팩 ( 총 9 팩 )  [ 2020 년 수확 ] 하 어 빛 세척 의성 사과 3 kg * 3 박스 / 총 9...\n",
              "63                   [ 게릴라 ] 우리 쌀 로 만들 ㄴ 보름 기정 떡 1 박스            100 % 우리 쌀 로 만들 ㄴ 보름 기정 떡 1 박스 ( 33 개 )\n",
              "64     2020 농협 적 벽 미인 화순 쌀 10 kg + 10 kg \\&undsc 신동 진           2020 농협 적 벽 미인 화순 쌀 10 kg + 10 kg _ 신동 진\n",
              "65                                 제주 우진 수산 고등어 외 3 개                                 제주 우진 수산 고등어 외 2 개\n",
              "\n",
              "[66 rows x 2 columns]"
            ]
          },
          "metadata": {
            "tags": []
          },
          "execution_count": 88
        }
      ]
    },
    {
      "cell_type": "markdown",
      "metadata": {
        "id": "fYFPmeCmitV5"
      },
      "source": [
        "### 토큰-상품명 변환"
      ]
    },
    {
      "cell_type": "code",
      "metadata": {
        "colab": {
          "base_uri": "https://localhost:8080/",
          "height": 425
        },
        "id": "9UhDFcMYio1a",
        "outputId": "31333857-09bd-46ef-ffaf-5da5666a31e8"
      },
      "source": [
        "display(pred)\n",
        "for i in range(len(pred)):\n",
        "    pred[i] = dic.get(pred[i])\n",
        "pred"
      ],
      "execution_count": 89,
      "outputs": [
        {
          "output_type": "display_data",
          "data": {
            "text/plain": [
              "0      화통 하 ㄴ 직 화 닭 발 세트 ( 직 화 무 뼈 닭 발 150 g × 8 팩 + ...\n",
              "1             [ 특가 할인 ] 완도 활 전복 특대 8-9 미 1 kg / 손질 도구 증정\n",
              "2                                                   약제 비\n",
              "3                  강 병원 의 한 돈 목살 마늘 구이 ( 300 g * 8 ) _ 3\n",
              "4                                          HOT 카페 아메리카 노\n",
              "                             ...                        \n",
              "339    [ 최고 의 선물 ] 그리 ㄴ 식품 춘천 닭 갈비 2 kg ( 국내 산통 다리 살 ...\n",
              "340              [ 우체국 ] KF 94 이 ㄴ 증 마스크 대형 ( 화이트 ) 25 매\n",
              "341                2020 농협 천생 연 세척 사과 3 kg * 3 박스 ( 부사 )\n",
              "342                                      상주 향토 곶감 ( 건시 )\n",
              "343                                      상주 향토 곶감 ( 건시 )\n",
              "Name: predict_item, Length: 344, dtype: object"
            ]
          },
          "metadata": {
            "tags": []
          }
        },
        {
          "output_type": "execute_result",
          "data": {
            "text/plain": [
              "0          화통한직화닭발세트(직화무뼈닭발150g×8팩+마늘근위볶음180g×1팩)\n",
              "1             [특가할인] 완도 활전복 특대 8-9미 1kg / 손질도구 증정\n",
              "2                                             약제비\n",
              "3                        강병원의 한돈 목살마늘구이(300g*8)_3\n",
              "4                                    HOT 카페 아메리카노\n",
              "                          ...                    \n",
              "339    [최고의선물]그린식품 춘천닭갈비 2kg (국내산통다리살+국산고추가루마늘양파)\n",
              "340                 [우체국] KF94 인증 마스크 대형(화이트) 25매\n",
              "341                  2020 농협 천생연 세척사과 3kg*3박스(부사)\n",
              "342                                    상주향토곶감(건시)\n",
              "343                                    상주향토곶감(건시)\n",
              "Name: predict_item, Length: 344, dtype: object"
            ]
          },
          "metadata": {
            "tags": []
          },
          "execution_count": 89
        }
      ]
    },
    {
      "cell_type": "markdown",
      "metadata": {
        "id": "7ijtnPz57Tpd"
      },
      "source": [
        "### Word2vec Model 학습"
      ]
    },
    {
      "cell_type": "code",
      "metadata": {
        "id": "xV3a9xIwcCSi"
      },
      "source": [
        "model = Word2Vec([item_list.split('&&') for item_list in user2item['유저 구매 상품 식별키 묶음']], size=100, window=5, min_count=1, negative=15, iter=20, sample=0.00001, sg=1)"
      ],
      "execution_count": 90,
      "outputs": []
    },
    {
      "cell_type": "code",
      "metadata": {
        "id": "2vmgzv19cJIS"
      },
      "source": [
        "def find_item(item, n=10):\n",
        "    return list(dict(model.wv.most_similar(item, topn=n)))"
      ],
      "execution_count": 91,
      "outputs": []
    },
    {
      "cell_type": "code",
      "metadata": {
        "id": "hicq1rkn7Tpe",
        "colab": {
          "base_uri": "https://localhost:8080/"
        },
        "outputId": "831d7994-8d90-4f99-9285-2b40383d0b39"
      },
      "source": [
        "find_item(pred[0])"
      ],
      "execution_count": 92,
      "outputs": [
        {
          "output_type": "execute_result",
          "data": {
            "text/plain": [
              "['참숯돌에서 구운계란 30개/60개(국산 구운소금증정)',\n",
              " '[100% 국내산]감태영양누룽칩 40봉(무료체험2봉 포함)',\n",
              " '★게릴라 초특가!!★ 간이배어 있는 촉촉한 감동란 30구 + 15구',\n",
              " '컬쳐캐쉬+1+건',\n",
              " '벨라홈 에어프라이어 종이호일 120매',\n",
              " '[홈앤하우스] 메탈랙 900 5단 블랙 / 화이트 ',\n",
              " '[맛있는농장] 포근포근 감자 8kg(소/ 중/ 대 랜덤과)',\n",
              " '[네오메디칼]세이프가드KF-94마스크50매',\n",
              " '향수옥천 우리밀과 임실치즈를 가득넣어 만든 치즈볼-사은품증정(라이스틱7개)',\n",
              " '목우촌 순살 닭다리살 구이 2종세트(110*16팩)_3']"
            ]
          },
          "metadata": {
            "tags": []
          },
          "execution_count": 92
        }
      ]
    },
    {
      "cell_type": "markdown",
      "metadata": {
        "id": "yhEuNMnT7Tpf"
      },
      "source": [
        "## 구매전 : Top-10 시나리오"
      ]
    },
    {
      "cell_type": "code",
      "metadata": {
        "id": "qnTLapiUS5Wq"
      },
      "source": [
        "def recommend(n=10, acc=False, pred=pred, TFoutputs=TFoutputs):\n",
        "    item_list = []\n",
        "    for v in tqdm_notebook(pred.to_list()):\n",
        "        if n > 1:\n",
        "            pp = find_item(v, n-1)\n",
        "            pp.insert(0, v)\n",
        "            item_list.append(pp)\n",
        "        else: item_list.append(v)\n",
        "    TFoutputs['추천 list'] = item_list\n",
        "    TFoutputs['정답 유무'] = [True if label in item else False for label, item in tqdm_notebook(zip(TFoutputs['label'], TFoutputs['추천 list']), total=(len(TFoutputs)))]\n",
        "    # 추천 알고리듬 구매전 Top-10 성능평가\n",
        "    \n",
        "    if acc:\n",
        "        return TFoutputs[TFoutputs['정답 유무']==True].shape[0]/(TFoutputs.shape[0])\n",
        "\n",
        "    return TFoutputs"
      ],
      "execution_count": 93,
      "outputs": []
    },
    {
      "cell_type": "code",
      "metadata": {
        "id": "jyZiDRH6TvFu",
        "colab": {
          "base_uri": "https://localhost:8080/",
          "height": 132,
          "referenced_widgets": [
            "fd95f6fafd004f358001101f6c19a74e",
            "0466176ace5346c597844ec2469ca117",
            "755e4736bdcc4dde8ef516f3fa346908",
            "e305d0d63b89497e9a213e963436db35",
            "b5cc28946c4c4a7db854bb90b5b7c8f7",
            "a6dff040d6e242368a4caa9915a4ff80",
            "5a047399f48b4820b94af9077350649e",
            "cd45924aa56c40879e43b633359107e5",
            "81a29799bef643509807fd28d1aad29e",
            "959e138fe22c45e19483e7e1fa4bb8b2",
            "1a337cb2be0e4b939e0d9ef5e2549a00",
            "4520210fff6041c5bdd2aff74cb61ea3",
            "cbb50337ac1b4139ac138d39617dfd74",
            "7006e73f29ec423a88a3c8490ce8e6a8",
            "91ff1648bfad487b80e759ac3e7a208d",
            "190deb0a7acb48a7a9c3f6e695539f90"
          ]
        },
        "outputId": "6ea24f0f-3da0-4a71-8961-f5057d183594"
      },
      "source": [
        "recommend(n=5, acc=True)"
      ],
      "execution_count": 94,
      "outputs": [
        {
          "output_type": "display_data",
          "data": {
            "application/vnd.jupyter.widget-view+json": {
              "model_id": "fd95f6fafd004f358001101f6c19a74e",
              "version_minor": 0,
              "version_major": 2
            },
            "text/plain": [
              "HBox(children=(FloatProgress(value=0.0, max=344.0), HTML(value='')))"
            ]
          },
          "metadata": {
            "tags": []
          }
        },
        {
          "output_type": "stream",
          "text": [
            "\n"
          ],
          "name": "stdout"
        },
        {
          "output_type": "display_data",
          "data": {
            "application/vnd.jupyter.widget-view+json": {
              "model_id": "81a29799bef643509807fd28d1aad29e",
              "version_minor": 0,
              "version_major": 2
            },
            "text/plain": [
              "HBox(children=(FloatProgress(value=0.0, max=344.0), HTML(value='')))"
            ]
          },
          "metadata": {
            "tags": []
          }
        },
        {
          "output_type": "stream",
          "text": [
            "\n"
          ],
          "name": "stdout"
        },
        {
          "output_type": "execute_result",
          "data": {
            "text/plain": [
              "0.11046511627906977"
            ]
          },
          "metadata": {
            "tags": []
          },
          "execution_count": 94
        }
      ]
    },
    {
      "cell_type": "code",
      "metadata": {
        "id": "8w2fjzSUp5nH",
        "colab": {
          "base_uri": "https://localhost:8080/",
          "height": 132,
          "referenced_widgets": [
            "ba825a90590848b1b63af540d86fcf66",
            "7d1d75bba1ef49b3938af298d8926ae2",
            "da1caa53dec6486fbae81760b86ed9a9",
            "4127ae8d2b8f4c1a9a28885c74251ef7",
            "79feff917e464504979bf5388c854a21",
            "cf2bd1bad4f147fb9aa711d103b730b4",
            "a9a12ef0ec9f4e88a3201545bc9b230e",
            "c33b6f397f18477facca1cd1fa3182f3",
            "2f533389d66a4de78092f10f04768ab7",
            "11200961ebf9438c8f86ba61b006d317",
            "aa3cc2ecaa6647cbab82d7ec7a1c5f16",
            "21fc55d581fa4da78bed505419c2c940",
            "4e6c147dd5104109a461f5128da6abd5",
            "4aaf553af56b45fe8024f01c29738d95",
            "467ae2b8fd2c487faa7d54e088ff9c87",
            "92ccba4c38664da2acc8b422c6594513"
          ]
        },
        "outputId": "a66253da-2a1e-4e05-cdd2-567c26b4ff56"
      },
      "source": [
        "recommend(n=10, acc=True)"
      ],
      "execution_count": 95,
      "outputs": [
        {
          "output_type": "display_data",
          "data": {
            "application/vnd.jupyter.widget-view+json": {
              "model_id": "ba825a90590848b1b63af540d86fcf66",
              "version_minor": 0,
              "version_major": 2
            },
            "text/plain": [
              "HBox(children=(FloatProgress(value=0.0, max=344.0), HTML(value='')))"
            ]
          },
          "metadata": {
            "tags": []
          }
        },
        {
          "output_type": "stream",
          "text": [
            "\n"
          ],
          "name": "stdout"
        },
        {
          "output_type": "display_data",
          "data": {
            "application/vnd.jupyter.widget-view+json": {
              "model_id": "2f533389d66a4de78092f10f04768ab7",
              "version_minor": 0,
              "version_major": 2
            },
            "text/plain": [
              "HBox(children=(FloatProgress(value=0.0, max=344.0), HTML(value='')))"
            ]
          },
          "metadata": {
            "tags": []
          }
        },
        {
          "output_type": "stream",
          "text": [
            "\n"
          ],
          "name": "stdout"
        },
        {
          "output_type": "execute_result",
          "data": {
            "text/plain": [
              "0.11337209302325581"
            ]
          },
          "metadata": {
            "tags": []
          },
          "execution_count": 95
        }
      ]
    },
    {
      "cell_type": "code",
      "metadata": {
        "id": "e-iKPO41T57o",
        "colab": {
          "base_uri": "https://localhost:8080/",
          "height": 132,
          "referenced_widgets": [
            "4facfb3a62d147cdb7882a34d671abad",
            "daf7f80a31e0487a9b0b879346f9b43d",
            "fe62d74f76e947f3b58307c7250ad4c7",
            "19a49eb7b42149d09fb5354653f3f76b",
            "836bb68d64c0423ab78b1bfe3b9db035",
            "8de300932e1140d595cc856b5e166405",
            "70cc442a8bbd483bb636dbda1914feb5",
            "241d1218e09e41cd8741a41a3771301b",
            "e8ec35383bad4bb0a3c4d2841a82e794",
            "1b825a8f9db7451cbc95550bab064bfc",
            "b90b25af77d04f27a0db9e63515cc3c8",
            "f595446a911e41c0a2399a77e98e7fc1",
            "f413c777c5dd43a4afd6f9ec9f4c08cf",
            "c605ea1ecf3742d68e2aa6fc270ae548",
            "b751515f4b02484fb578369f0cd8aa3f",
            "a6d0b06ccc1549cab5c68722d0a650c6"
          ]
        },
        "outputId": "da68260b-5000-4362-fbef-1ff267e9f65f"
      },
      "source": [
        "recommend(n=20, acc=True)"
      ],
      "execution_count": 96,
      "outputs": [
        {
          "output_type": "display_data",
          "data": {
            "application/vnd.jupyter.widget-view+json": {
              "model_id": "4facfb3a62d147cdb7882a34d671abad",
              "version_minor": 0,
              "version_major": 2
            },
            "text/plain": [
              "HBox(children=(FloatProgress(value=0.0, max=344.0), HTML(value='')))"
            ]
          },
          "metadata": {
            "tags": []
          }
        },
        {
          "output_type": "stream",
          "text": [
            "\n"
          ],
          "name": "stdout"
        },
        {
          "output_type": "display_data",
          "data": {
            "application/vnd.jupyter.widget-view+json": {
              "model_id": "e8ec35383bad4bb0a3c4d2841a82e794",
              "version_minor": 0,
              "version_major": 2
            },
            "text/plain": [
              "HBox(children=(FloatProgress(value=0.0, max=344.0), HTML(value='')))"
            ]
          },
          "metadata": {
            "tags": []
          }
        },
        {
          "output_type": "stream",
          "text": [
            "\n"
          ],
          "name": "stdout"
        },
        {
          "output_type": "execute_result",
          "data": {
            "text/plain": [
              "0.1308139534883721"
            ]
          },
          "metadata": {
            "tags": []
          },
          "execution_count": 96
        }
      ]
    },
    {
      "cell_type": "code",
      "metadata": {
        "id": "MoKad0ot4BfT",
        "colab": {
          "base_uri": "https://localhost:8080/",
          "height": 704,
          "referenced_widgets": [
            "4e6e3ce58d1340f7b5fa425fd974ac0d",
            "abf2bd7958b24d2bac4705700bb42a3b",
            "05afd4b0c1d848ebb7628ca3f64889e2",
            "8d9b0d03c5e54a668a07f79c42725c82",
            "1220230dbdee447c913c0c8a99822c83",
            "1c430f23fb8248b0ba8969e72317152d",
            "e13064dc6b20494eb285c8527cac39a9",
            "443f2a02be134066b9e8444eadbebbb3",
            "ee6e9aa5bc814b0897f855ef4ebf64db",
            "dabaf05f65dc4f14b6a1e67b093c8720",
            "0bee4fc8dd104601951bb4ae753425a4",
            "cf76d91f92874d42bc1c288997d81d91",
            "0b4ea7be2e454e2b8d4ad81744e1a4e7",
            "d6cd07017b424de7b061a5e6c46c4da3",
            "b1d3e7f0c7144d02b93ab0d486245eee",
            "a5431d3b8261460bbab98b1eb5c4f661"
          ]
        },
        "outputId": "cd63d699-ef59-4594-db12-383c2c27c6ba"
      },
      "source": [
        "recommend()"
      ],
      "execution_count": 97,
      "outputs": [
        {
          "output_type": "display_data",
          "data": {
            "application/vnd.jupyter.widget-view+json": {
              "model_id": "4e6e3ce58d1340f7b5fa425fd974ac0d",
              "version_minor": 0,
              "version_major": 2
            },
            "text/plain": [
              "HBox(children=(FloatProgress(value=0.0, max=344.0), HTML(value='')))"
            ]
          },
          "metadata": {
            "tags": []
          }
        },
        {
          "output_type": "stream",
          "text": [
            "\n"
          ],
          "name": "stdout"
        },
        {
          "output_type": "display_data",
          "data": {
            "application/vnd.jupyter.widget-view+json": {
              "model_id": "ee6e9aa5bc814b0897f855ef4ebf64db",
              "version_minor": 0,
              "version_major": 2
            },
            "text/plain": [
              "HBox(children=(FloatProgress(value=0.0, max=344.0), HTML(value='')))"
            ]
          },
          "metadata": {
            "tags": []
          }
        },
        {
          "output_type": "stream",
          "text": [
            "\n"
          ],
          "name": "stdout"
        },
        {
          "output_type": "execute_result",
          "data": {
            "text/html": [
              "<div>\n",
              "<style scoped>\n",
              "    .dataframe tbody tr th:only-of-type {\n",
              "        vertical-align: middle;\n",
              "    }\n",
              "\n",
              "    .dataframe tbody tr th {\n",
              "        vertical-align: top;\n",
              "    }\n",
              "\n",
              "    .dataframe thead th {\n",
              "        text-align: right;\n",
              "    }\n",
              "</style>\n",
              "<table border=\"1\" class=\"dataframe\">\n",
              "  <thead>\n",
              "    <tr style=\"text-align: right;\">\n",
              "      <th></th>\n",
              "      <th>train</th>\n",
              "      <th>label</th>\n",
              "      <th>split_train_token</th>\n",
              "      <th>split_label_token</th>\n",
              "      <th>predict_item</th>\n",
              "      <th>filter</th>\n",
              "      <th>추천 list</th>\n",
              "      <th>정답 유무</th>\n",
              "    </tr>\n",
              "  </thead>\n",
              "  <tbody>\n",
              "    <tr>\n",
              "      <th>0</th>\n",
              "      <td>[말하는 은행나무] 저온압착 참기름 300ml&amp;&amp;[남도장터] 함평 나비원 나비골추어...</td>\n",
              "      <td>여수 거문도 해풍쑥 생개떡 2kg</td>\n",
              "      <td>&lt;esp&gt; [ 말하 는 은행나무 ] 저온 압착 참기름 300 ml  &lt;esp&gt;  [...</td>\n",
              "      <td>&lt;esp&gt; 여수 거문도 해풍 쑥 생 개떡 2 kg &lt;esp&gt;</td>\n",
              "      <td>&lt;esp&gt; 화통 하 ㄴ 직 화 닭 발 세트 ( 직 화 무 뼈 닭 발 150 g × ...</td>\n",
              "      <td>False</td>\n",
              "      <td>[화통한직화닭발세트(직화무뼈닭발150g×8팩+마늘근위볶음180g×1팩), 참숯돌에서...</td>\n",
              "      <td>False</td>\n",
              "    </tr>\n",
              "    <tr>\n",
              "      <th>1</th>\n",
              "      <td>카카오프렌즈 광천김 재래 전장20g X 10봉+NEW장바구니&amp;&amp;[농부의정성]포근포근...</td>\n",
              "      <td>[제주안심밥상] 3단계 제주돼지 고추장불고기 300g 3팩</td>\n",
              "      <td>&lt;esp&gt; 카 카 오프 렌즈 광천 김 재래 전장 20 g X 10 봉 + NEW 장...</td>\n",
              "      <td>&lt;esp&gt; [ 제주 안심 밥상 ] 3 단계 제주 돼지 고추장 불고기 300 g 3 ...</td>\n",
              "      <td>&lt;esp&gt; [ 특가 할인 ] 완도 활 전복 특대 8-9 미 \\&amp;undsc 9 팩 &lt;...</td>\n",
              "      <td>False</td>\n",
              "      <td>[[특가할인] 완도 활전복 특대 8-9미 1kg / 손질도구 증정, 여름필수템 가쯔...</td>\n",
              "      <td>False</td>\n",
              "    </tr>\n",
              "    <tr>\n",
              "      <th>2</th>\n",
              "      <td>약제비&amp;&amp;약제비&amp;&amp;비뇨기과/진료비&amp;&amp;약제비</td>\n",
              "      <td>약제비</td>\n",
              "      <td>&lt;esp&gt; 약 제비  &lt;esp&gt;  약제 비  &lt;esp&gt;  비뇨기과 / 진료비  &lt;e...</td>\n",
              "      <td>&lt;esp&gt; 약제 비 &lt;esp&gt;</td>\n",
              "      <td>&lt;esp&gt; 약제 비 &lt;esp&gt;</td>\n",
              "      <td>True</td>\n",
              "      <td>[약제비, [20년산] 포근포근 햇 감자 3kg/5kg, 김가네김밥, ARS 10%...</td>\n",
              "      <td>True</td>\n",
              "    </tr>\n",
              "    <tr>\n",
              "      <th>3</th>\n",
              "      <td>부산명물 씨앗호떡 해바라기(60g 5개 × 4세트)&amp;&amp;부산명물 씨앗호떡 해바라기(6...</td>\n",
              "      <td>강병원의 한돈 목살마늘구이(300g*8)_3</td>\n",
              "      <td>&lt;esp&gt; 부산 명물 씨앗 호떡 해바라기 ( 60 g 5 개 × 4 세트 )  &lt;e...</td>\n",
              "      <td>&lt;esp&gt; 강 병원 의 한 돈 목살 마늘 구이 ( 300 g * 8 ) _ 3 &lt;esp&gt;</td>\n",
              "      <td>&lt;esp&gt; 강 병원 의 한 돈 목살 마늘 구이 ( 300 g * 8 ) \\&amp;unds...</td>\n",
              "      <td>False</td>\n",
              "      <td>[강병원의 한돈 목살마늘구이(300g*8)_3, 리꼬푸드 불갈비맛 소시지 750g ...</td>\n",
              "      <td>True</td>\n",
              "    </tr>\n",
              "    <tr>\n",
              "      <th>4</th>\n",
              "      <td>아메리카노 / HOT외 5건&amp;&amp;아메리카노 / HOT외 7건&amp;&amp;크로와플&amp;&amp;아메리카노 ...</td>\n",
              "      <td>크로와플</td>\n",
              "      <td>&lt;esp&gt; 아메리카 노 / HOT 외 5 건  &lt;esp&gt;  아메리카 노 / HOT ...</td>\n",
              "      <td>&lt;esp&gt; 크로 와플 &lt;esp&gt;</td>\n",
              "      <td>&lt;esp&gt; HOT 카페 아메리카 노 &lt;esp&gt;</td>\n",
              "      <td>True</td>\n",
              "      <td>[HOT 카페 아메리카노, ■Premium 명장김치 11kg■김순자명장 포기6kg+...</td>\n",
              "      <td>False</td>\n",
              "    </tr>\n",
              "    <tr>\n",
              "      <th>...</th>\n",
              "      <td>...</td>\n",
              "      <td>...</td>\n",
              "      <td>...</td>\n",
              "      <td>...</td>\n",
              "      <td>...</td>\n",
              "      <td>...</td>\n",
              "      <td>...</td>\n",
              "      <td>...</td>\n",
              "    </tr>\n",
              "    <tr>\n",
              "      <th>339</th>\n",
              "      <td>우편물&amp;&amp;우편물&amp;&amp;무안 지주식 곱창김 50매&amp;&amp;우편물</td>\n",
              "      <td>청양칠갑산어머니구기자한과</td>\n",
              "      <td>&lt;esp&gt; 우편물  &lt;esp&gt;  우편 물  &lt;esp&gt;  무안 지주식 곱창 김 50 ...</td>\n",
              "      <td>&lt;esp&gt; 청양 칠갑산 어머니 구기자 한과 &lt;esp&gt;</td>\n",
              "      <td>&lt;esp&gt; [ 최고 의 선물 ] 그리 ㄴ 식품 춘천 닭 갈비 2 kg ( 국내 산통...</td>\n",
              "      <td>True</td>\n",
              "      <td>[[최고의선물]그린식품 춘천닭갈비 2kg (국내산통다리살+국산고추가루마늘양파), O...</td>\n",
              "      <td>False</td>\n",
              "    </tr>\n",
              "    <tr>\n",
              "      <th>340</th>\n",
              "      <td>2020 자색양파 3kg 무안 산지배송</td>\n",
              "      <td>하동청매실엑기스</td>\n",
              "      <td>&lt;esp&gt; 2020 자색 양파 3 kg 무안 산지 배송 &lt;esp&gt;</td>\n",
              "      <td>&lt;esp&gt; 하동 청매 실 엑기스 &lt;esp&gt;</td>\n",
              "      <td>&lt;esp&gt; [ 우체국 ] KF 94 이 ㄴ 증 마스크 대형 ( 화이트 ) 25 매 ...</td>\n",
              "      <td>True</td>\n",
              "      <td>[[우체국] KF94 인증 마스크 대형(화이트) 25매, Americano / Ho...</td>\n",
              "      <td>False</td>\n",
              "    </tr>\n",
              "    <tr>\n",
              "      <th>341</th>\n",
              "      <td>가정용 사과(흠집과) 8kg(30~40개입)&amp;&amp;[12/5~1/13 쓱머니증정][1/...</td>\n",
              "      <td>[포프랑]올클린 살균소독제 300ml 스프레이 분무형 개인위생 소독용 Y</td>\n",
              "      <td>&lt;esp&gt; 가정용 사과 ( 흠집 과 ) 8 kg ( 30 ~ 40 개입 )  &lt;es...</td>\n",
              "      <td>&lt;esp&gt; [ 포 프랑 ] 올 클린 살균 소독제 300 ml 스프레이 분무 형 개인...</td>\n",
              "      <td>&lt;esp&gt; 2020 농협 천생 연 세척 사과 3 kg * 3 박스 ( 부사 ) &lt;esp&gt;</td>\n",
              "      <td>True</td>\n",
              "      <td>[2020 농협 천생연 세척사과 3kg*3박스(부사), ★초특가★[멸치세트] 볶음용...</td>\n",
              "      <td>False</td>\n",
              "    </tr>\n",
              "    <tr>\n",
              "      <th>342</th>\n",
              "      <td>보은건대추 특초1kg : 생대추24미리내외건조 : 기계선별크기일정 :용도가 가장 다...</td>\n",
              "      <td>명진농장도라지청외 1개</td>\n",
              "      <td>&lt;esp&gt; 보은 걸 ㄴ 대추 특 초 1 kg : 생 대추 24 미리 내외 건조 : ...</td>\n",
              "      <td>&lt;esp&gt; 명진 농장 도라지 청 외 1 개 &lt;esp&gt;</td>\n",
              "      <td>&lt;esp&gt; 상주 향토 곶감 ( 건시 ) &lt;esp&gt;</td>\n",
              "      <td>True</td>\n",
              "      <td>[상주향토곶감(건시), 라이키패밀리 블링 베베 엠보싱 물티슈 80매 10팩, 적벽미...</td>\n",
              "      <td>False</td>\n",
              "    </tr>\n",
              "    <tr>\n",
              "      <th>343</th>\n",
              "      <td>[2020년산 햅쌀] 김제 10인농부의 맛있는 햅쌀10kg(등급:상)</td>\n",
              "      <td>[영동곶감] 쫀득 달콤한 최고의 선물세트 건시곶감 1.5kg (40~50과)</td>\n",
              "      <td>&lt;esp&gt; [ 2020 년 산 햅쌀 ] 김 제 10 이 ㄴ 농부 의 맛있 는 햅쌀 ...</td>\n",
              "      <td>&lt;esp&gt; [ 영동 곶감 ] 쫄 ㄴ 득 달콤 하 ㄴ 최고 의 선물 세트 건시 곶감 ...</td>\n",
              "      <td>&lt;esp&gt; 상주 향토 곶감 ( 건시 ) &lt;esp&gt;</td>\n",
              "      <td>True</td>\n",
              "      <td>[상주향토곶감(건시), 라이키패밀리 블링 베베 엠보싱 물티슈 80매 10팩, 적벽미...</td>\n",
              "      <td>False</td>\n",
              "    </tr>\n",
              "  </tbody>\n",
              "</table>\n",
              "<p>344 rows × 8 columns</p>\n",
              "</div>"
            ],
            "text/plain": [
              "                                                 train  ...  정답 유무\n",
              "0    [말하는 은행나무] 저온압착 참기름 300ml&&[남도장터] 함평 나비원 나비골추어...  ...  False\n",
              "1    카카오프렌즈 광천김 재래 전장20g X 10봉+NEW장바구니&&[농부의정성]포근포근...  ...  False\n",
              "2                              약제비&&약제비&&비뇨기과/진료비&&약제비  ...   True\n",
              "3    부산명물 씨앗호떡 해바라기(60g 5개 × 4세트)&&부산명물 씨앗호떡 해바라기(6...  ...   True\n",
              "4    아메리카노 / HOT외 5건&&아메리카노 / HOT외 7건&&크로와플&&아메리카노 ...  ...  False\n",
              "..                                                 ...  ...    ...\n",
              "339                      우편물&&우편물&&무안 지주식 곱창김 50매&&우편물  ...  False\n",
              "340                              2020 자색양파 3kg 무안 산지배송  ...  False\n",
              "341  가정용 사과(흠집과) 8kg(30~40개입)&&[12/5~1/13 쓱머니증정][1/...  ...  False\n",
              "342  보은건대추 특초1kg : 생대추24미리내외건조 : 기계선별크기일정 :용도가 가장 다...  ...  False\n",
              "343             [2020년산 햅쌀] 김제 10인농부의 맛있는 햅쌀10kg(등급:상)  ...  False\n",
              "\n",
              "[344 rows x 8 columns]"
            ]
          },
          "metadata": {
            "tags": []
          },
          "execution_count": 97
        }
      ]
    }
  ]
}