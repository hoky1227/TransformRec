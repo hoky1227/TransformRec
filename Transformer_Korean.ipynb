{
  "nbformat": 4,
  "nbformat_minor": 0,
  "metadata": {
    "colab": {
      "name": "Transformer Korean",
      "provenance": [],
      "collapsed_sections": [],
      "mount_file_id": "1uO5-Bjc3xI3V3-9aLgaN5e88ufG-ZSdE",
      "authorship_tag": "ABX9TyOVU/Mc6P/bBuzeDuKb6e+8",
      "include_colab_link": true
    },
    "kernelspec": {
      "name": "python3",
      "display_name": "Python 3"
    }
  },
  "cells": [
    {
      "cell_type": "markdown",
      "metadata": {
        "id": "view-in-github",
        "colab_type": "text"
      },
      "source": [
        "<a href=\"https://colab.research.google.com/github/hoky1227/Transformer_based-recommendation/blob/main/Transformer_Korean.ipynb\" target=\"_parent\"><img src=\"https://colab.research.google.com/assets/colab-badge.svg\" alt=\"Open In Colab\"/></a>"
      ]
    },
    {
      "cell_type": "markdown",
      "metadata": {
        "id": "W3TQe0cWt5zG"
      },
      "source": [
        "# Gdrive  연동"
      ]
    },
    {
      "cell_type": "code",
      "metadata": {
        "id": "6dq-T8350NqV",
        "colab": {
          "base_uri": "https://localhost:8080/"
        },
        "outputId": "357cdcf8-2801-4860-dd36-67cdeefcb6ec"
      },
      "source": [
        "from google.colab import drive\n",
        "\n",
        "drive.mount('/content/drive')\n",
        "path = '/content/drive/MyDrive/'"
      ],
      "execution_count": null,
      "outputs": [
        {
          "output_type": "stream",
          "text": [
            "Mounted at /content/drive\n"
          ],
          "name": "stdout"
        }
      ]
    },
    {
      "cell_type": "markdown",
      "metadata": {
        "id": "5AFoTyd6t_bk"
      },
      "source": [
        "# Import Modules"
      ]
    },
    {
      "cell_type": "code",
      "metadata": {
        "id": "vyY73CHDuYfK"
      },
      "source": [
        "!pip install konlpy # 한국어 Tokenizer"
      ],
      "execution_count": null,
      "outputs": []
    },
    {
      "cell_type": "code",
      "metadata": {
        "id": "2fSYBsOa80TU"
      },
      "source": [
        "from dateutil.parser import parse\n",
        "import tqdm\n",
        "import tensorflow_datasets as tfds\n",
        "import tensorflow as tf\n",
        "import re\n",
        "\n",
        "import numpy as np\n",
        "import pandas as pd\n",
        "from gensim.models import Word2Vec\n",
        "import matplotlib.pyplot as plt\n",
        "from tqdm import tqdm_notebook\n",
        "import math\n",
        "from numpy.linalg import norm\n",
        "from konlpy.tag import Kkma\n",
        "kkma = Kkma()\n",
        "from konlpy.tag import Okt\n",
        "okt = Okt()\n",
        "import warnings \n",
        "\n",
        "warnings.filterwarnings('ignore')\n",
        "\n",
        "#재현성을 위해 seed 고정\n",
        "\n",
        "np.random.seed(2021)\n",
        "tf.random.set_seed(2021)"
      ],
      "execution_count": null,
      "outputs": []
    },
    {
      "cell_type": "markdown",
      "metadata": {
        "id": "ISUqVW92uEYu"
      },
      "source": [
        "# Data 전처리"
      ]
    },
    {
      "cell_type": "code",
      "metadata": {
        "id": "Cv6iX6_g00Yq",
        "colab": {
          "base_uri": "https://localhost:8080/",
          "height": 416
        },
        "outputId": "2eab2bff-c512-4f37-fbf6-4650b571fa11"
      },
      "source": [
        "df = pd.read_excel(path + \"transformer_UB.xlsx\")\n",
        "print(df.isnull().sum())\n",
        "df.dropna(inplace=True)\n",
        "print(df.duplicated().sum())\n",
        "df.drop_duplicates(inplace=True)\n",
        "df"
      ],
      "execution_count": null,
      "outputs": [
        {
          "output_type": "execute_result",
          "data": {
            "text/html": [
              "<div>\n",
              "<style scoped>\n",
              "    .dataframe tbody tr th:only-of-type {\n",
              "        vertical-align: middle;\n",
              "    }\n",
              "\n",
              "    .dataframe tbody tr th {\n",
              "        vertical-align: top;\n",
              "    }\n",
              "\n",
              "    .dataframe thead th {\n",
              "        text-align: right;\n",
              "    }\n",
              "</style>\n",
              "<table border=\"1\" class=\"dataframe\">\n",
              "  <thead>\n",
              "    <tr style=\"text-align: right;\">\n",
              "      <th></th>\n",
              "      <th>거래번호</th>\n",
              "      <th>거래일자</th>\n",
              "      <th>거래시간</th>\n",
              "      <th>고객번호</th>\n",
              "      <th>상품명</th>\n",
              "      <th>구분</th>\n",
              "    </tr>\n",
              "  </thead>\n",
              "  <tbody>\n",
              "    <tr>\n",
              "      <th>0</th>\n",
              "      <td>061R216791404802</td>\n",
              "      <td>20210302</td>\n",
              "      <td>18</td>\n",
              "      <td>1030910</td>\n",
              "      <td>Americano / Tall외 1건</td>\n",
              "      <td>울산페이</td>\n",
              "    </tr>\n",
              "    <tr>\n",
              "      <th>1</th>\n",
              "      <td>061R214106002408</td>\n",
              "      <td>20210302</td>\n",
              "      <td>11</td>\n",
              "      <td>1030910</td>\n",
              "      <td>Americano / Tall외 2건</td>\n",
              "      <td>울산페이</td>\n",
              "    </tr>\n",
              "    <tr>\n",
              "      <th>2</th>\n",
              "      <td>062R213236207516</td>\n",
              "      <td>20210303</td>\n",
              "      <td>8</td>\n",
              "      <td>1030910</td>\n",
              "      <td>Caffe Mocha / Tall외 1건</td>\n",
              "      <td>울산페이</td>\n",
              "    </tr>\n",
              "    <tr>\n",
              "      <th>3</th>\n",
              "      <td>062R213236807497</td>\n",
              "      <td>20210303</td>\n",
              "      <td>9</td>\n",
              "      <td>1025745</td>\n",
              "      <td>Americano / Tall외 1건</td>\n",
              "      <td>울산페이</td>\n",
              "    </tr>\n",
              "    <tr>\n",
              "      <th>4</th>\n",
              "      <td>061R216769704492</td>\n",
              "      <td>20210302</td>\n",
              "      <td>18</td>\n",
              "      <td>1030910</td>\n",
              "      <td>Americano / Tall외 1건</td>\n",
              "      <td>울산페이</td>\n",
              "    </tr>\n",
              "    <tr>\n",
              "      <th>...</th>\n",
              "      <td>...</td>\n",
              "      <td>...</td>\n",
              "      <td>...</td>\n",
              "      <td>...</td>\n",
              "      <td>...</td>\n",
              "      <td>...</td>\n",
              "    </tr>\n",
              "    <tr>\n",
              "      <th>13645</th>\n",
              "      <td>280R204467323876</td>\n",
              "      <td>20201006</td>\n",
              "      <td>122449</td>\n",
              "      <td>719672</td>\n",
              "      <td>[한예지] 볼륨앤소프트 3겹 화장지 20m 30롤 3팩</td>\n",
              "      <td>유비페이(구)</td>\n",
              "    </tr>\n",
              "    <tr>\n",
              "      <th>13646</th>\n",
              "      <td>280R204477123830</td>\n",
              "      <td>20201006</td>\n",
              "      <td>122628</td>\n",
              "      <td>942118</td>\n",
              "      <td>약제비</td>\n",
              "      <td>유비페이(구)</td>\n",
              "    </tr>\n",
              "    <tr>\n",
              "      <th>13647</th>\n",
              "      <td>280R205282523848</td>\n",
              "      <td>20201006</td>\n",
              "      <td>144042</td>\n",
              "      <td>703839</td>\n",
              "      <td>[2020년 햇]강화순무 4kg + 강화순무물김치 3kg / 총 7kg</td>\n",
              "      <td>유비페이(구)</td>\n",
              "    </tr>\n",
              "    <tr>\n",
              "      <th>13648</th>\n",
              "      <td>280R205324523933</td>\n",
              "      <td>20201006</td>\n",
              "      <td>144908</td>\n",
              "      <td>1063907</td>\n",
              "      <td>NaN</td>\n",
              "      <td>유비페이(구)</td>\n",
              "    </tr>\n",
              "    <tr>\n",
              "      <th>13649</th>\n",
              "      <td>280R205355323849</td>\n",
              "      <td>20201006</td>\n",
              "      <td>145250</td>\n",
              "      <td>715397</td>\n",
              "      <td>[M9]남성릴렉스데님팬츠2종</td>\n",
              "      <td>유비페이(구)</td>\n",
              "    </tr>\n",
              "  </tbody>\n",
              "</table>\n",
              "<p>13650 rows × 6 columns</p>\n",
              "</div>"
            ],
            "text/plain": [
              "                   거래번호  ...       구분\n",
              "0      061R216791404802  ...     울산페이\n",
              "1      061R214106002408  ...     울산페이\n",
              "2      062R213236207516  ...     울산페이\n",
              "3      062R213236807497  ...     울산페이\n",
              "4      061R216769704492  ...     울산페이\n",
              "...                 ...  ...      ...\n",
              "13645  280R204467323876  ...  유비페이(구)\n",
              "13646  280R204477123830  ...  유비페이(구)\n",
              "13647  280R205282523848  ...  유비페이(구)\n",
              "13648  280R205324523933  ...  유비페이(구)\n",
              "13649  280R205355323849  ...  유비페이(구)\n",
              "\n",
              "[13650 rows x 6 columns]"
            ]
          },
          "metadata": {
            "tags": []
          },
          "execution_count": 4
        }
      ]
    },
    {
      "cell_type": "code",
      "metadata": {
        "id": "97267Uc01JTv",
        "colab": {
          "base_uri": "https://localhost:8080/",
          "height": 202
        },
        "outputId": "615994e1-ac6b-4e56-afc5-75ae65df2dd1"
      },
      "source": [
        "df.drop(['구분'],axis=1, inplace=True)\n",
        "df.head()"
      ],
      "execution_count": null,
      "outputs": [
        {
          "output_type": "execute_result",
          "data": {
            "text/html": [
              "<div>\n",
              "<style scoped>\n",
              "    .dataframe tbody tr th:only-of-type {\n",
              "        vertical-align: middle;\n",
              "    }\n",
              "\n",
              "    .dataframe tbody tr th {\n",
              "        vertical-align: top;\n",
              "    }\n",
              "\n",
              "    .dataframe thead th {\n",
              "        text-align: right;\n",
              "    }\n",
              "</style>\n",
              "<table border=\"1\" class=\"dataframe\">\n",
              "  <thead>\n",
              "    <tr style=\"text-align: right;\">\n",
              "      <th></th>\n",
              "      <th>거래번호</th>\n",
              "      <th>거래일자</th>\n",
              "      <th>거래시간</th>\n",
              "      <th>고객번호</th>\n",
              "      <th>상품명</th>\n",
              "    </tr>\n",
              "  </thead>\n",
              "  <tbody>\n",
              "    <tr>\n",
              "      <th>0</th>\n",
              "      <td>061R216791404802</td>\n",
              "      <td>20210302</td>\n",
              "      <td>18</td>\n",
              "      <td>1030910</td>\n",
              "      <td>Americano / Tall외 1건</td>\n",
              "    </tr>\n",
              "    <tr>\n",
              "      <th>1</th>\n",
              "      <td>061R214106002408</td>\n",
              "      <td>20210302</td>\n",
              "      <td>11</td>\n",
              "      <td>1030910</td>\n",
              "      <td>Americano / Tall외 2건</td>\n",
              "    </tr>\n",
              "    <tr>\n",
              "      <th>2</th>\n",
              "      <td>062R213236207516</td>\n",
              "      <td>20210303</td>\n",
              "      <td>8</td>\n",
              "      <td>1030910</td>\n",
              "      <td>Caffe Mocha / Tall외 1건</td>\n",
              "    </tr>\n",
              "    <tr>\n",
              "      <th>3</th>\n",
              "      <td>062R213236807497</td>\n",
              "      <td>20210303</td>\n",
              "      <td>9</td>\n",
              "      <td>1025745</td>\n",
              "      <td>Americano / Tall외 1건</td>\n",
              "    </tr>\n",
              "    <tr>\n",
              "      <th>4</th>\n",
              "      <td>061R216769704492</td>\n",
              "      <td>20210302</td>\n",
              "      <td>18</td>\n",
              "      <td>1030910</td>\n",
              "      <td>Americano / Tall외 1건</td>\n",
              "    </tr>\n",
              "  </tbody>\n",
              "</table>\n",
              "</div>"
            ],
            "text/plain": [
              "               거래번호      거래일자  거래시간     고객번호                     상품명\n",
              "0  061R216791404802  20210302    18  1030910    Americano / Tall외 1건\n",
              "1  061R214106002408  20210302    11  1030910    Americano / Tall외 2건\n",
              "2  062R213236207516  20210303     8  1030910  Caffe Mocha / Tall외 1건\n",
              "3  062R213236807497  20210303     9  1025745    Americano / Tall외 1건\n",
              "4  061R216769704492  20210302    18  1030910    Americano / Tall외 1건"
            ]
          },
          "metadata": {
            "tags": []
          },
          "execution_count": 8
        }
      ]
    },
    {
      "cell_type": "code",
      "metadata": {
        "colab": {
          "base_uri": "https://localhost:8080/"
        },
        "id": "RqL1M0qijO4T",
        "outputId": "81b5af80-af40-43a0-8f30-fac48a9400b3"
      },
      "source": [
        "detail = df['상품명'].unique() # Jaccard 유사도 검사에 필요\n",
        "len(detail)"
      ],
      "execution_count": null,
      "outputs": [
        {
          "output_type": "execute_result",
          "data": {
            "text/plain": [
              "1982"
            ]
          },
          "metadata": {
            "tags": []
          },
          "execution_count": 9
        }
      ]
    },
    {
      "cell_type": "code",
      "metadata": {
        "id": "2z68B2Z1bzDt"
      },
      "source": [
        "def sortdf(data, column):\n",
        "    data.sort_values(column, inplace=True)\n",
        "    data.reset_index(inplace=True)\n",
        "    data.pop('index')\n",
        "    return data"
      ],
      "execution_count": null,
      "outputs": []
    },
    {
      "cell_type": "code",
      "metadata": {
        "colab": {
          "base_uri": "https://localhost:8080/",
          "height": 416
        },
        "id": "7wM3rL5Hj016",
        "outputId": "54e1c4f4-e3e9-4cc8-e900-75bbdb839978"
      },
      "source": [
        "sortdf(df, ['고객번호', '거래일자', '거래시간'])"
      ],
      "execution_count": null,
      "outputs": [
        {
          "output_type": "execute_result",
          "data": {
            "text/html": [
              "<div>\n",
              "<style scoped>\n",
              "    .dataframe tbody tr th:only-of-type {\n",
              "        vertical-align: middle;\n",
              "    }\n",
              "\n",
              "    .dataframe tbody tr th {\n",
              "        vertical-align: top;\n",
              "    }\n",
              "\n",
              "    .dataframe thead th {\n",
              "        text-align: right;\n",
              "    }\n",
              "</style>\n",
              "<table border=\"1\" class=\"dataframe\">\n",
              "  <thead>\n",
              "    <tr style=\"text-align: right;\">\n",
              "      <th></th>\n",
              "      <th>거래번호</th>\n",
              "      <th>거래일자</th>\n",
              "      <th>거래시간</th>\n",
              "      <th>고객번호</th>\n",
              "      <th>상품명</th>\n",
              "    </tr>\n",
              "  </thead>\n",
              "  <tbody>\n",
              "    <tr>\n",
              "      <th>0</th>\n",
              "      <td>122R203988815073</td>\n",
              "      <td>20200501</td>\n",
              "      <td>110500</td>\n",
              "      <td>36</td>\n",
              "      <td>우편물</td>\n",
              "    </tr>\n",
              "    <tr>\n",
              "      <th>1</th>\n",
              "      <td>203R204371664285</td>\n",
              "      <td>20200721</td>\n",
              "      <td>120902</td>\n",
              "      <td>36</td>\n",
              "      <td>더블더블 / 감자튀김 딥치즈 업그레이드 세트</td>\n",
              "    </tr>\n",
              "    <tr>\n",
              "      <th>2</th>\n",
              "      <td>204R204556964772</td>\n",
              "      <td>20200722</td>\n",
              "      <td>123940</td>\n",
              "      <td>36</td>\n",
              "      <td>꿀유자차 / 아이스</td>\n",
              "    </tr>\n",
              "    <tr>\n",
              "      <th>3</th>\n",
              "      <td>205R204563565281</td>\n",
              "      <td>20200723</td>\n",
              "      <td>124049</td>\n",
              "      <td>36</td>\n",
              "      <td>바닐라라떼 / 아이스</td>\n",
              "    </tr>\n",
              "    <tr>\n",
              "      <th>4</th>\n",
              "      <td>206R204522965902</td>\n",
              "      <td>20200724</td>\n",
              "      <td>123402</td>\n",
              "      <td>36</td>\n",
              "      <td>바닐라라떼 / 아이스</td>\n",
              "    </tr>\n",
              "    <tr>\n",
              "      <th>...</th>\n",
              "      <td>...</td>\n",
              "      <td>...</td>\n",
              "      <td>...</td>\n",
              "      <td>...</td>\n",
              "      <td>...</td>\n",
              "    </tr>\n",
              "    <tr>\n",
              "      <th>12420</th>\n",
              "      <td>070R214128821970</td>\n",
              "      <td>20210311</td>\n",
              "      <td>11</td>\n",
              "      <td>1987728</td>\n",
              "      <td>아메리카노 / ICE</td>\n",
              "    </tr>\n",
              "    <tr>\n",
              "      <th>12421</th>\n",
              "      <td>076R214076933731</td>\n",
              "      <td>20210317</td>\n",
              "      <td>11</td>\n",
              "      <td>1996381</td>\n",
              "      <td>[Best] 제주 흑돼지 돈까스샌드위치</td>\n",
              "    </tr>\n",
              "    <tr>\n",
              "      <th>12422</th>\n",
              "      <td>076R215430534237</td>\n",
              "      <td>20210317</td>\n",
              "      <td>15</td>\n",
              "      <td>1996381</td>\n",
              "      <td>[Bset] 프레즐빠다</td>\n",
              "    </tr>\n",
              "    <tr>\n",
              "      <th>12423</th>\n",
              "      <td>076R215684034355</td>\n",
              "      <td>20210317</td>\n",
              "      <td>15</td>\n",
              "      <td>1996646</td>\n",
              "      <td>에그모닝</td>\n",
              "    </tr>\n",
              "    <tr>\n",
              "      <th>12424</th>\n",
              "      <td>076R215726734365</td>\n",
              "      <td>20210317</td>\n",
              "      <td>15</td>\n",
              "      <td>1996646</td>\n",
              "      <td>생크림팥빵</td>\n",
              "    </tr>\n",
              "  </tbody>\n",
              "</table>\n",
              "<p>12425 rows × 5 columns</p>\n",
              "</div>"
            ],
            "text/plain": [
              "                   거래번호      거래일자    거래시간     고객번호                       상품명\n",
              "0      122R203988815073  20200501  110500       36                       우편물\n",
              "1      203R204371664285  20200721  120902       36  더블더블 / 감자튀김 딥치즈 업그레이드 세트\n",
              "2      204R204556964772  20200722  123940       36                꿀유자차 / 아이스\n",
              "3      205R204563565281  20200723  124049       36               바닐라라떼 / 아이스\n",
              "4      206R204522965902  20200724  123402       36               바닐라라떼 / 아이스\n",
              "...                 ...       ...     ...      ...                       ...\n",
              "12420  070R214128821970  20210311      11  1987728               아메리카노 / ICE\n",
              "12421  076R214076933731  20210317      11  1996381     [Best] 제주 흑돼지 돈까스샌드위치\n",
              "12422  076R215430534237  20210317      15  1996381              [Bset] 프레즐빠다\n",
              "12423  076R215684034355  20210317      15  1996646                      에그모닝\n",
              "12424  076R215726734365  20210317      15  1996646                     생크림팥빵\n",
              "\n",
              "[12425 rows x 5 columns]"
            ]
          },
          "metadata": {
            "tags": []
          },
          "execution_count": 12
        }
      ]
    },
    {
      "cell_type": "code",
      "metadata": {
        "colab": {
          "base_uri": "https://localhost:8080/",
          "height": 202
        },
        "id": "JC8JAZO3kjaP",
        "outputId": "809ac126-3cdc-487b-fe3d-0af1e63c41c2"
      },
      "source": [
        "df.drop(['거래번호', '거래일자', '거래시간'],axis=1, inplace=True)\n",
        "df.head()"
      ],
      "execution_count": null,
      "outputs": [
        {
          "output_type": "execute_result",
          "data": {
            "text/html": [
              "<div>\n",
              "<style scoped>\n",
              "    .dataframe tbody tr th:only-of-type {\n",
              "        vertical-align: middle;\n",
              "    }\n",
              "\n",
              "    .dataframe tbody tr th {\n",
              "        vertical-align: top;\n",
              "    }\n",
              "\n",
              "    .dataframe thead th {\n",
              "        text-align: right;\n",
              "    }\n",
              "</style>\n",
              "<table border=\"1\" class=\"dataframe\">\n",
              "  <thead>\n",
              "    <tr style=\"text-align: right;\">\n",
              "      <th></th>\n",
              "      <th>고객번호</th>\n",
              "      <th>상품명</th>\n",
              "    </tr>\n",
              "  </thead>\n",
              "  <tbody>\n",
              "    <tr>\n",
              "      <th>0</th>\n",
              "      <td>36</td>\n",
              "      <td>우편물</td>\n",
              "    </tr>\n",
              "    <tr>\n",
              "      <th>1</th>\n",
              "      <td>36</td>\n",
              "      <td>더블더블 / 감자튀김 딥치즈 업그레이드 세트</td>\n",
              "    </tr>\n",
              "    <tr>\n",
              "      <th>2</th>\n",
              "      <td>36</td>\n",
              "      <td>꿀유자차 / 아이스</td>\n",
              "    </tr>\n",
              "    <tr>\n",
              "      <th>3</th>\n",
              "      <td>36</td>\n",
              "      <td>바닐라라떼 / 아이스</td>\n",
              "    </tr>\n",
              "    <tr>\n",
              "      <th>4</th>\n",
              "      <td>36</td>\n",
              "      <td>바닐라라떼 / 아이스</td>\n",
              "    </tr>\n",
              "  </tbody>\n",
              "</table>\n",
              "</div>"
            ],
            "text/plain": [
              "   고객번호                       상품명\n",
              "0    36                       우편물\n",
              "1    36  더블더블 / 감자튀김 딥치즈 업그레이드 세트\n",
              "2    36                꿀유자차 / 아이스\n",
              "3    36               바닐라라떼 / 아이스\n",
              "4    36               바닐라라떼 / 아이스"
            ]
          },
          "metadata": {
            "tags": []
          },
          "execution_count": 13
        }
      ]
    },
    {
      "cell_type": "code",
      "metadata": {
        "colab": {
          "base_uri": "https://localhost:8080/",
          "height": 416
        },
        "id": "6A0AR9sZpnss",
        "outputId": "3926ffc8-aea1-4f47-fb89-2427f5587fca"
      },
      "source": [
        "# 거래건수 1건인 유저 제외\n",
        "user = df['고객번호'].unique()\n",
        "\n",
        "for v in user:\n",
        "    a = df[df['고객번호'] == v]\n",
        "    if len(a) < 2:\n",
        "        idx = a.index\n",
        "        df.drop(idx, inplace=True)\n",
        "df"
      ],
      "execution_count": null,
      "outputs": [
        {
          "output_type": "execute_result",
          "data": {
            "text/html": [
              "<div>\n",
              "<style scoped>\n",
              "    .dataframe tbody tr th:only-of-type {\n",
              "        vertical-align: middle;\n",
              "    }\n",
              "\n",
              "    .dataframe tbody tr th {\n",
              "        vertical-align: top;\n",
              "    }\n",
              "\n",
              "    .dataframe thead th {\n",
              "        text-align: right;\n",
              "    }\n",
              "</style>\n",
              "<table border=\"1\" class=\"dataframe\">\n",
              "  <thead>\n",
              "    <tr style=\"text-align: right;\">\n",
              "      <th></th>\n",
              "      <th>고객번호</th>\n",
              "      <th>상품명</th>\n",
              "    </tr>\n",
              "  </thead>\n",
              "  <tbody>\n",
              "    <tr>\n",
              "      <th>0</th>\n",
              "      <td>36</td>\n",
              "      <td>우편물</td>\n",
              "    </tr>\n",
              "    <tr>\n",
              "      <th>1</th>\n",
              "      <td>36</td>\n",
              "      <td>더블더블 / 감자튀김 딥치즈 업그레이드 세트</td>\n",
              "    </tr>\n",
              "    <tr>\n",
              "      <th>2</th>\n",
              "      <td>36</td>\n",
              "      <td>꿀유자차 / 아이스</td>\n",
              "    </tr>\n",
              "    <tr>\n",
              "      <th>3</th>\n",
              "      <td>36</td>\n",
              "      <td>바닐라라떼 / 아이스</td>\n",
              "    </tr>\n",
              "    <tr>\n",
              "      <th>4</th>\n",
              "      <td>36</td>\n",
              "      <td>바닐라라떼 / 아이스</td>\n",
              "    </tr>\n",
              "    <tr>\n",
              "      <th>...</th>\n",
              "      <td>...</td>\n",
              "      <td>...</td>\n",
              "    </tr>\n",
              "    <tr>\n",
              "      <th>12420</th>\n",
              "      <td>1987728</td>\n",
              "      <td>아메리카노 / ICE</td>\n",
              "    </tr>\n",
              "    <tr>\n",
              "      <th>12421</th>\n",
              "      <td>1996381</td>\n",
              "      <td>[Best] 제주 흑돼지 돈까스샌드위치</td>\n",
              "    </tr>\n",
              "    <tr>\n",
              "      <th>12422</th>\n",
              "      <td>1996381</td>\n",
              "      <td>[Bset] 프레즐빠다</td>\n",
              "    </tr>\n",
              "    <tr>\n",
              "      <th>12423</th>\n",
              "      <td>1996646</td>\n",
              "      <td>에그모닝</td>\n",
              "    </tr>\n",
              "    <tr>\n",
              "      <th>12424</th>\n",
              "      <td>1996646</td>\n",
              "      <td>생크림팥빵</td>\n",
              "    </tr>\n",
              "  </tbody>\n",
              "</table>\n",
              "<p>12413 rows × 2 columns</p>\n",
              "</div>"
            ],
            "text/plain": [
              "          고객번호                       상품명\n",
              "0           36                       우편물\n",
              "1           36  더블더블 / 감자튀김 딥치즈 업그레이드 세트\n",
              "2           36                꿀유자차 / 아이스\n",
              "3           36               바닐라라떼 / 아이스\n",
              "4           36               바닐라라떼 / 아이스\n",
              "...        ...                       ...\n",
              "12420  1987728               아메리카노 / ICE\n",
              "12421  1996381     [Best] 제주 흑돼지 돈까스샌드위치\n",
              "12422  1996381              [Bset] 프레즐빠다\n",
              "12423  1996646                      에그모닝\n",
              "12424  1996646                     생크림팥빵\n",
              "\n",
              "[12413 rows x 2 columns]"
            ]
          },
          "metadata": {
            "tags": []
          },
          "execution_count": 14
        }
      ]
    },
    {
      "cell_type": "markdown",
      "metadata": {
        "id": "BaMi9pgnu43j"
      },
      "source": [
        "## Customer 기준 history"
      ]
    },
    {
      "cell_type": "code",
      "metadata": {
        "id": "TMkNoW7JlsWG",
        "colab": {
          "base_uri": "https://localhost:8080/",
          "height": 416
        },
        "outputId": "d722ede0-632f-44c5-94b5-1bba50bc6bcb"
      },
      "source": [
        "df2 = pd.DataFrame(columns=df.columns)\n",
        "values = df['고객번호'].value_counts().index.sort_values()\n",
        "\n",
        "for i, v in enumerate(values):\n",
        "    df2.loc[i] = (v, '&&'.join(df[df['고객번호'] == v]['상품명']))\n",
        "df2"
      ],
      "execution_count": null,
      "outputs": [
        {
          "output_type": "execute_result",
          "data": {
            "text/html": [
              "<div>\n",
              "<style scoped>\n",
              "    .dataframe tbody tr th:only-of-type {\n",
              "        vertical-align: middle;\n",
              "    }\n",
              "\n",
              "    .dataframe tbody tr th {\n",
              "        vertical-align: top;\n",
              "    }\n",
              "\n",
              "    .dataframe thead th {\n",
              "        text-align: right;\n",
              "    }\n",
              "</style>\n",
              "<table border=\"1\" class=\"dataframe\">\n",
              "  <thead>\n",
              "    <tr style=\"text-align: right;\">\n",
              "      <th></th>\n",
              "      <th>고객번호</th>\n",
              "      <th>상품명</th>\n",
              "    </tr>\n",
              "  </thead>\n",
              "  <tbody>\n",
              "    <tr>\n",
              "      <th>0</th>\n",
              "      <td>36</td>\n",
              "      <td>우편물&amp;&amp;더블더블 / 감자튀김 딥치즈 업그레이드 세트&amp;&amp;꿀유자차 / 아이스&amp;&amp;바닐라...</td>\n",
              "    </tr>\n",
              "    <tr>\n",
              "      <th>1</th>\n",
              "      <td>17492</td>\n",
              "      <td>납기내금액&amp;&amp;납기내금액&amp;&amp;납기내금액&amp;&amp;납기내금액&amp;&amp;납기내금액&amp;&amp;납기내금액&amp;&amp;납기내금...</td>\n",
              "    </tr>\n",
              "    <tr>\n",
              "      <th>2</th>\n",
              "      <td>26661</td>\n",
              "      <td>무료배달&amp;&amp;무료배달&amp;&amp;베이컨 치즈버거 / 일반세트(버거+음료+감자튀김)&amp;&amp;무료배달&amp;...</td>\n",
              "    </tr>\n",
              "    <tr>\n",
              "      <th>3</th>\n",
              "      <td>27462</td>\n",
              "      <td>컬쳐캐쉬1건&amp;&amp;컬쳐캐쉬1건&amp;&amp;아메리카노(일반) / 아이스,킹&amp;&amp;떡볶이&amp;&amp;더블더블 /...</td>\n",
              "    </tr>\n",
              "    <tr>\n",
              "      <th>4</th>\n",
              "      <td>27478</td>\n",
              "      <td>납기내금액&amp;&amp;납기내금액&amp;&amp;임성근손질민물장어 12팩+소스10봉&amp;&amp;납기내금액&amp;&amp;아메리카...</td>\n",
              "    </tr>\n",
              "    <tr>\n",
              "      <th>...</th>\n",
              "      <td>...</td>\n",
              "      <td>...</td>\n",
              "    </tr>\n",
              "    <tr>\n",
              "      <th>3407</th>\n",
              "      <td>1987446</td>\n",
              "      <td>일벌세트 / 약간 덜매운맛 : 추천 맵기(20%)외 2건&amp;&amp;일벌세트 / 약간 덜매운...</td>\n",
              "    </tr>\n",
              "    <tr>\n",
              "      <th>3408</th>\n",
              "      <td>1987625</td>\n",
              "      <td>(2마리) 코다리매콤명태찜 / 젓가락빼주세요외 2건&amp;&amp;(2마리) 코다리매콤명태찜 /...</td>\n",
              "    </tr>\n",
              "    <tr>\n",
              "      <th>3409</th>\n",
              "      <td>1987728</td>\n",
              "      <td>리얼초코자바칩프라페 / 휘핑 반만올리기외 1건&amp;&amp;아메리카노 / HOT&amp;&amp;아메리카노 ...</td>\n",
              "    </tr>\n",
              "    <tr>\n",
              "      <th>3410</th>\n",
              "      <td>1996381</td>\n",
              "      <td>[Best] 제주 흑돼지 돈까스샌드위치&amp;&amp;[Bset] 프레즐빠다</td>\n",
              "    </tr>\n",
              "    <tr>\n",
              "      <th>3411</th>\n",
              "      <td>1996646</td>\n",
              "      <td>에그모닝&amp;&amp;생크림팥빵</td>\n",
              "    </tr>\n",
              "  </tbody>\n",
              "</table>\n",
              "<p>3412 rows × 2 columns</p>\n",
              "</div>"
            ],
            "text/plain": [
              "         고객번호                                                상품명\n",
              "0          36  우편물&&더블더블 / 감자튀김 딥치즈 업그레이드 세트&&꿀유자차 / 아이스&&바닐라...\n",
              "1       17492  납기내금액&&납기내금액&&납기내금액&&납기내금액&&납기내금액&&납기내금액&&납기내금...\n",
              "2       26661  무료배달&&무료배달&&베이컨 치즈버거 / 일반세트(버거+음료+감자튀김)&&무료배달&...\n",
              "3       27462  컬쳐캐쉬1건&&컬쳐캐쉬1건&&아메리카노(일반) / 아이스,킹&&떡볶이&&더블더블 /...\n",
              "4       27478  납기내금액&&납기내금액&&임성근손질민물장어 12팩+소스10봉&&납기내금액&&아메리카...\n",
              "...       ...                                                ...\n",
              "3407  1987446  일벌세트 / 약간 덜매운맛 : 추천 맵기(20%)외 2건&&일벌세트 / 약간 덜매운...\n",
              "3408  1987625  (2마리) 코다리매콤명태찜 / 젓가락빼주세요외 2건&&(2마리) 코다리매콤명태찜 /...\n",
              "3409  1987728  리얼초코자바칩프라페 / 휘핑 반만올리기외 1건&&아메리카노 / HOT&&아메리카노 ...\n",
              "3410  1996381                [Best] 제주 흑돼지 돈까스샌드위치&&[Bset] 프레즐빠다\n",
              "3411  1996646                                        에그모닝&&생크림팥빵\n",
              "\n",
              "[3412 rows x 2 columns]"
            ]
          },
          "metadata": {
            "tags": []
          },
          "execution_count": 15
        }
      ]
    },
    {
      "cell_type": "code",
      "metadata": {
        "id": "S1cEH2F24cxZ"
      },
      "source": [
        "ds_customer = df2.copy()\n",
        "ds_customer"
      ],
      "execution_count": null,
      "outputs": []
    },
    {
      "cell_type": "markdown",
      "metadata": {
        "id": "kZW2bDinvLAi"
      },
      "source": [
        "## 4 + 1로 전처리"
      ]
    },
    {
      "cell_type": "code",
      "metadata": {
        "id": "l-1jzVzBs4B7",
        "colab": {
          "base_uri": "https://localhost:8080/"
        },
        "outputId": "bdcd5765-c36f-4d8e-8c29-7a236fc5ed3e"
      },
      "source": [
        "df_series = df2['상품명'].str.split('&&')\n",
        "df_series[:2]"
      ],
      "execution_count": null,
      "outputs": [
        {
          "output_type": "execute_result",
          "data": {
            "text/plain": [
              "0    [우편물, 더블더블 / 감자튀김 딥치즈 업그레이드 세트, 꿀유자차 / 아이스, 바닐...\n",
              "1    [납기내금액, 납기내금액, 납기내금액, 납기내금액, 납기내금액, 납기내금액, 납기내...\n",
              "Name: 상품명, dtype: object"
            ]
          },
          "metadata": {
            "tags": []
          },
          "execution_count": 77
        }
      ]
    },
    {
      "cell_type": "code",
      "metadata": {
        "id": "UPMVQk8Sid5w"
      },
      "source": [
        "# 4+1로 자르는 함수\n",
        "sequence_length = 5\n",
        "step_size = 2\n",
        "\n",
        "# [4, 4, 5, 5, 6, 6]이라면, 아래 함수를 통해\n",
        "# [[4, 4, 5, 5], [5, 5, 6, 6]]으로 다시 만들어집니다.\n",
        "def create_sequences(values, window_size, step_size):\n",
        "    sequences = []\n",
        "    start_index = 0\n",
        "    while True:\n",
        "        end_index = start_index + window_size\n",
        "        seq = values[start_index:end_index]\n",
        "        # 뒤에 남은 데이터가 window_size보다 작으면 중지합니다.\n",
        "        if len(seq) < window_size:\n",
        "            seq = values[-window_size:]\n",
        "            # window_size와 같으면 list에 붙여줍니다.\n",
        "            if len(seq) == window_size:\n",
        "                sequences.append(seq)\n",
        "            break\n",
        "        sequences.append(seq)\n",
        "        start_index += step_size\n",
        "    return sequences"
      ],
      "execution_count": null,
      "outputs": []
    },
    {
      "cell_type": "code",
      "metadata": {
        "colab": {
          "base_uri": "https://localhost:8080/"
        },
        "id": "Sh7K36Yf_LkN",
        "outputId": "25d4cf35-7beb-4650-b36b-da48600b7c18"
      },
      "source": [
        "# 5건 미만의 데이터를 유지하기 위해 5건 기준 분류\n",
        "aaa = []\n",
        "dfdf = []\n",
        "\n",
        "for i in range(len(df_series)):\n",
        "    if len(df_series[i]) < 5:\n",
        "        aaa.append(df_series[i])\n",
        "    else: dfdf.append(df_series[i])\n",
        "\n",
        "print(len(aaa))\n",
        "len(dfdf)"
      ],
      "execution_count": null,
      "outputs": [
        {
          "output_type": "stream",
          "text": [
            "2845\n"
          ],
          "name": "stdout"
        },
        {
          "output_type": "execute_result",
          "data": {
            "text/plain": [
              "567"
            ]
          },
          "metadata": {
            "tags": []
          },
          "execution_count": 81
        }
      ]
    },
    {
      "cell_type": "code",
      "metadata": {
        "id": "fLsKL0oOidxk",
        "colab": {
          "base_uri": "https://localhost:8080/"
        },
        "outputId": "43e99002-ad03-415c-f736-f9438ee8911d"
      },
      "source": [
        "df_series1 = []\n",
        "\n",
        "for i, v in enumerate(dfdf):\n",
        "    df_series1.append(create_sequences(v, sequence_length, step_size))\n",
        "df_series1[:2]"
      ],
      "execution_count": null,
      "outputs": [
        {
          "output_type": "execute_result",
          "data": {
            "text/plain": [
              "[[['우편물',\n",
              "   '더블더블 / 감자튀김 딥치즈 업그레이드 세트',\n",
              "   '꿀유자차 / 아이스',\n",
              "   '바닐라라떼 / 아이스',\n",
              "   '바닐라라떼 / 아이스'],\n",
              "  ['더블더블 / 감자튀김 딥치즈 업그레이드 세트',\n",
              "   '꿀유자차 / 아이스',\n",
              "   '바닐라라떼 / 아이스',\n",
              "   '바닐라라떼 / 아이스',\n",
              "   '[개인결제] 개인결제']],\n",
              " [['납기내금액', '납기내금액', '납기내금액', '납기내금액', '납기내금액'],\n",
              "  ['납기내금액', '납기내금액', '납기내금액', '납기내금액', '납기내금액'],\n",
              "  ['납기내금액', '납기내금액', '납기내금액', '납기내금액', '납기내금액'],\n",
              "  ['납기내금액', '납기내금액', '납기내금액', '납기내금액', '납기내금액']]]"
            ]
          },
          "metadata": {
            "tags": []
          },
          "execution_count": 82
        }
      ]
    },
    {
      "cell_type": "code",
      "metadata": {
        "colab": {
          "base_uri": "https://localhost:8080/"
        },
        "id": "ns3Lcrqs-xms",
        "outputId": "1f1a080e-ed74-492d-cfc7-df7089a5499d"
      },
      "source": [
        "len(df_series1)"
      ],
      "execution_count": null,
      "outputs": [
        {
          "output_type": "execute_result",
          "data": {
            "text/plain": [
              "567"
            ]
          },
          "metadata": {
            "tags": []
          },
          "execution_count": 83
        }
      ]
    },
    {
      "cell_type": "code",
      "metadata": {
        "id": "60t6EyoJBxVD"
      },
      "source": [
        "df_series1.append(aaa)"
      ],
      "execution_count": null,
      "outputs": []
    },
    {
      "cell_type": "code",
      "metadata": {
        "colab": {
          "base_uri": "https://localhost:8080/"
        },
        "id": "gt82XdkJB0_3",
        "outputId": "5d3f270a-b32c-4d43-d8d1-262612a48d45"
      },
      "source": [
        "len(df_series1)"
      ],
      "execution_count": null,
      "outputs": [
        {
          "output_type": "execute_result",
          "data": {
            "text/plain": [
              "568"
            ]
          },
          "metadata": {
            "tags": []
          },
          "execution_count": 85
        }
      ]
    },
    {
      "cell_type": "code",
      "metadata": {
        "id": "C6xzMc6x0cjI",
        "colab": {
          "base_uri": "https://localhost:8080/"
        },
        "outputId": "b98e8124-3464-4325-df81-8c2481c9aa5c"
      },
      "source": [
        "df_list = []\n",
        "for v in df_series1:\n",
        "    for value in v:\n",
        "        df_list.append(value)\n",
        "df_list[:2]"
      ],
      "execution_count": null,
      "outputs": [
        {
          "output_type": "execute_result",
          "data": {
            "text/plain": [
              "[['우편물',\n",
              "  '더블더블 / 감자튀김 딥치즈 업그레이드 세트',\n",
              "  '꿀유자차 / 아이스',\n",
              "  '바닐라라떼 / 아이스',\n",
              "  '바닐라라떼 / 아이스'],\n",
              " ['더블더블 / 감자튀김 딥치즈 업그레이드 세트',\n",
              "  '꿀유자차 / 아이스',\n",
              "  '바닐라라떼 / 아이스',\n",
              "  '바닐라라떼 / 아이스',\n",
              "  '[개인결제] 개인결제']]"
            ]
          },
          "metadata": {
            "tags": []
          },
          "execution_count": 86
        }
      ]
    },
    {
      "cell_type": "code",
      "metadata": {
        "id": "GNoqx3HvyLAK"
      },
      "source": [
        "label_list = []\n",
        "\n",
        "for i in range(len(df_list)):\n",
        "    l = df_list[i][-1]\n",
        "    df_list[i].pop()\n",
        "    label_list.append(l)"
      ],
      "execution_count": null,
      "outputs": []
    },
    {
      "cell_type": "code",
      "metadata": {
        "id": "iU9kuMcL3iJ0",
        "colab": {
          "base_uri": "https://localhost:8080/"
        },
        "outputId": "e604c8e7-b213-45d2-d601-86192ca1644c"
      },
      "source": [
        "df_list[:2]"
      ],
      "execution_count": null,
      "outputs": [
        {
          "output_type": "execute_result",
          "data": {
            "text/plain": [
              "[['우편물', '더블더블 / 감자튀김 딥치즈 업그레이드 세트', '꿀유자차 / 아이스', '바닐라라떼 / 아이스'],\n",
              " ['더블더블 / 감자튀김 딥치즈 업그레이드 세트', '꿀유자차 / 아이스', '바닐라라떼 / 아이스', '바닐라라떼 / 아이스']]"
            ]
          },
          "metadata": {
            "tags": []
          },
          "execution_count": 88
        }
      ]
    },
    {
      "cell_type": "code",
      "metadata": {
        "id": "KOmcenzx3h5i",
        "colab": {
          "base_uri": "https://localhost:8080/"
        },
        "outputId": "a74d74bc-30bf-493e-b980-a12713711174"
      },
      "source": [
        "label_list[:2]"
      ],
      "execution_count": null,
      "outputs": [
        {
          "output_type": "execute_result",
          "data": {
            "text/plain": [
              "['바닐라라떼 / 아이스', '[개인결제] 개인결제']"
            ]
          },
          "metadata": {
            "tags": []
          },
          "execution_count": 89
        }
      ]
    },
    {
      "cell_type": "code",
      "metadata": {
        "id": "l556IhlQyLQV",
        "colab": {
          "base_uri": "https://localhost:8080/",
          "height": 419
        },
        "outputId": "4e4999b3-2132-4908-94c6-ab11b300ce0a"
      },
      "source": [
        "df_new = pd.DataFrame(columns=['Detail', 'label'])\n",
        "df_new['Detail'] = df_list\n",
        "df_new['label'] = label_list\n",
        "df_new"
      ],
      "execution_count": null,
      "outputs": [
        {
          "output_type": "execute_result",
          "data": {
            "text/html": [
              "<div>\n",
              "<style scoped>\n",
              "    .dataframe tbody tr th:only-of-type {\n",
              "        vertical-align: middle;\n",
              "    }\n",
              "\n",
              "    .dataframe tbody tr th {\n",
              "        vertical-align: top;\n",
              "    }\n",
              "\n",
              "    .dataframe thead th {\n",
              "        text-align: right;\n",
              "    }\n",
              "</style>\n",
              "<table border=\"1\" class=\"dataframe\">\n",
              "  <thead>\n",
              "    <tr style=\"text-align: right;\">\n",
              "      <th></th>\n",
              "      <th>Detail</th>\n",
              "      <th>label</th>\n",
              "    </tr>\n",
              "  </thead>\n",
              "  <tbody>\n",
              "    <tr>\n",
              "      <th>0</th>\n",
              "      <td>[우편물, 더블더블 / 감자튀김 딥치즈 업그레이드 세트, 꿀유자차 / 아이스, 바닐...</td>\n",
              "      <td>바닐라라떼 / 아이스</td>\n",
              "    </tr>\n",
              "    <tr>\n",
              "      <th>1</th>\n",
              "      <td>[더블더블 / 감자튀김 딥치즈 업그레이드 세트, 꿀유자차 / 아이스, 바닐라라떼 /...</td>\n",
              "      <td>[개인결제] 개인결제</td>\n",
              "    </tr>\n",
              "    <tr>\n",
              "      <th>2</th>\n",
              "      <td>[납기내금액, 납기내금액, 납기내금액, 납기내금액]</td>\n",
              "      <td>납기내금액</td>\n",
              "    </tr>\n",
              "    <tr>\n",
              "      <th>3</th>\n",
              "      <td>[납기내금액, 납기내금액, 납기내금액, 납기내금액]</td>\n",
              "      <td>납기내금액</td>\n",
              "    </tr>\n",
              "    <tr>\n",
              "      <th>4</th>\n",
              "      <td>[납기내금액, 납기내금액, 납기내금액, 납기내금액]</td>\n",
              "      <td>납기내금액</td>\n",
              "    </tr>\n",
              "    <tr>\n",
              "      <th>...</th>\n",
              "      <td>...</td>\n",
              "      <td>...</td>\n",
              "    </tr>\n",
              "    <tr>\n",
              "      <th>5223</th>\n",
              "      <td>[일벌세트 / 약간 덜매운맛 : 추천 맵기(20%)외 2건]</td>\n",
              "      <td>일벌세트 / 약간 덜매운맛 : 추천 맵기(20%)외 2건</td>\n",
              "    </tr>\n",
              "    <tr>\n",
              "      <th>5224</th>\n",
              "      <td>[(2마리) 코다리매콤명태찜 / 젓가락빼주세요외 2건]</td>\n",
              "      <td>(2마리) 코다리매콤명태찜 / 젓가락빼주세요외 2건</td>\n",
              "    </tr>\n",
              "    <tr>\n",
              "      <th>5225</th>\n",
              "      <td>[리얼초코자바칩프라페 / 휘핑 반만올리기외 1건, 아메리카노 / HOT]</td>\n",
              "      <td>아메리카노 / ICE</td>\n",
              "    </tr>\n",
              "    <tr>\n",
              "      <th>5226</th>\n",
              "      <td>[[Best] 제주 흑돼지 돈까스샌드위치]</td>\n",
              "      <td>[Bset] 프레즐빠다</td>\n",
              "    </tr>\n",
              "    <tr>\n",
              "      <th>5227</th>\n",
              "      <td>[에그모닝]</td>\n",
              "      <td>생크림팥빵</td>\n",
              "    </tr>\n",
              "  </tbody>\n",
              "</table>\n",
              "<p>5228 rows × 2 columns</p>\n",
              "</div>"
            ],
            "text/plain": [
              "                                                 Detail                            label\n",
              "0     [우편물, 더블더블 / 감자튀김 딥치즈 업그레이드 세트, 꿀유자차 / 아이스, 바닐...                      바닐라라떼 / 아이스\n",
              "1     [더블더블 / 감자튀김 딥치즈 업그레이드 세트, 꿀유자차 / 아이스, 바닐라라떼 /...                      [개인결제] 개인결제\n",
              "2                          [납기내금액, 납기내금액, 납기내금액, 납기내금액]                            납기내금액\n",
              "3                          [납기내금액, 납기내금액, 납기내금액, 납기내금액]                            납기내금액\n",
              "4                          [납기내금액, 납기내금액, 납기내금액, 납기내금액]                            납기내금액\n",
              "...                                                 ...                              ...\n",
              "5223                  [일벌세트 / 약간 덜매운맛 : 추천 맵기(20%)외 2건]  일벌세트 / 약간 덜매운맛 : 추천 맵기(20%)외 2건\n",
              "5224                     [(2마리) 코다리매콤명태찜 / 젓가락빼주세요외 2건]     (2마리) 코다리매콤명태찜 / 젓가락빼주세요외 2건\n",
              "5225           [리얼초코자바칩프라페 / 휘핑 반만올리기외 1건, 아메리카노 / HOT]                      아메리카노 / ICE\n",
              "5226                            [[Best] 제주 흑돼지 돈까스샌드위치]                     [Bset] 프레즐빠다\n",
              "5227                                             [에그모닝]                            생크림팥빵\n",
              "\n",
              "[5228 rows x 2 columns]"
            ]
          },
          "metadata": {
            "tags": []
          },
          "execution_count": 90
        }
      ]
    },
    {
      "cell_type": "code",
      "metadata": {
        "id": "DfBLstEZyLM9",
        "colab": {
          "base_uri": "https://localhost:8080/",
          "height": 419
        },
        "outputId": "7ba7f321-2ef0-4f64-d01d-37576616f2ea"
      },
      "source": [
        "df_new['Detail'] = df_new['Detail'].apply(lambda x: '&&'.join(map(str, x)))\n",
        "df_new"
      ],
      "execution_count": null,
      "outputs": [
        {
          "output_type": "execute_result",
          "data": {
            "text/html": [
              "<div>\n",
              "<style scoped>\n",
              "    .dataframe tbody tr th:only-of-type {\n",
              "        vertical-align: middle;\n",
              "    }\n",
              "\n",
              "    .dataframe tbody tr th {\n",
              "        vertical-align: top;\n",
              "    }\n",
              "\n",
              "    .dataframe thead th {\n",
              "        text-align: right;\n",
              "    }\n",
              "</style>\n",
              "<table border=\"1\" class=\"dataframe\">\n",
              "  <thead>\n",
              "    <tr style=\"text-align: right;\">\n",
              "      <th></th>\n",
              "      <th>Detail</th>\n",
              "      <th>label</th>\n",
              "    </tr>\n",
              "  </thead>\n",
              "  <tbody>\n",
              "    <tr>\n",
              "      <th>0</th>\n",
              "      <td>우편물&amp;&amp;더블더블 / 감자튀김 딥치즈 업그레이드 세트&amp;&amp;꿀유자차 / 아이스&amp;&amp;바닐라...</td>\n",
              "      <td>바닐라라떼 / 아이스</td>\n",
              "    </tr>\n",
              "    <tr>\n",
              "      <th>1</th>\n",
              "      <td>더블더블 / 감자튀김 딥치즈 업그레이드 세트&amp;&amp;꿀유자차 / 아이스&amp;&amp;바닐라라떼 / ...</td>\n",
              "      <td>[개인결제] 개인결제</td>\n",
              "    </tr>\n",
              "    <tr>\n",
              "      <th>2</th>\n",
              "      <td>납기내금액&amp;&amp;납기내금액&amp;&amp;납기내금액&amp;&amp;납기내금액</td>\n",
              "      <td>납기내금액</td>\n",
              "    </tr>\n",
              "    <tr>\n",
              "      <th>3</th>\n",
              "      <td>납기내금액&amp;&amp;납기내금액&amp;&amp;납기내금액&amp;&amp;납기내금액</td>\n",
              "      <td>납기내금액</td>\n",
              "    </tr>\n",
              "    <tr>\n",
              "      <th>4</th>\n",
              "      <td>납기내금액&amp;&amp;납기내금액&amp;&amp;납기내금액&amp;&amp;납기내금액</td>\n",
              "      <td>납기내금액</td>\n",
              "    </tr>\n",
              "    <tr>\n",
              "      <th>...</th>\n",
              "      <td>...</td>\n",
              "      <td>...</td>\n",
              "    </tr>\n",
              "    <tr>\n",
              "      <th>5223</th>\n",
              "      <td>일벌세트 / 약간 덜매운맛 : 추천 맵기(20%)외 2건</td>\n",
              "      <td>일벌세트 / 약간 덜매운맛 : 추천 맵기(20%)외 2건</td>\n",
              "    </tr>\n",
              "    <tr>\n",
              "      <th>5224</th>\n",
              "      <td>(2마리) 코다리매콤명태찜 / 젓가락빼주세요외 2건</td>\n",
              "      <td>(2마리) 코다리매콤명태찜 / 젓가락빼주세요외 2건</td>\n",
              "    </tr>\n",
              "    <tr>\n",
              "      <th>5225</th>\n",
              "      <td>리얼초코자바칩프라페 / 휘핑 반만올리기외 1건&amp;&amp;아메리카노 / HOT</td>\n",
              "      <td>아메리카노 / ICE</td>\n",
              "    </tr>\n",
              "    <tr>\n",
              "      <th>5226</th>\n",
              "      <td>[Best] 제주 흑돼지 돈까스샌드위치</td>\n",
              "      <td>[Bset] 프레즐빠다</td>\n",
              "    </tr>\n",
              "    <tr>\n",
              "      <th>5227</th>\n",
              "      <td>에그모닝</td>\n",
              "      <td>생크림팥빵</td>\n",
              "    </tr>\n",
              "  </tbody>\n",
              "</table>\n",
              "<p>5228 rows × 2 columns</p>\n",
              "</div>"
            ],
            "text/plain": [
              "                                                 Detail                            label\n",
              "0     우편물&&더블더블 / 감자튀김 딥치즈 업그레이드 세트&&꿀유자차 / 아이스&&바닐라...                      바닐라라떼 / 아이스\n",
              "1     더블더블 / 감자튀김 딥치즈 업그레이드 세트&&꿀유자차 / 아이스&&바닐라라떼 / ...                      [개인결제] 개인결제\n",
              "2                            납기내금액&&납기내금액&&납기내금액&&납기내금액                            납기내금액\n",
              "3                            납기내금액&&납기내금액&&납기내금액&&납기내금액                            납기내금액\n",
              "4                            납기내금액&&납기내금액&&납기내금액&&납기내금액                            납기내금액\n",
              "...                                                 ...                              ...\n",
              "5223                    일벌세트 / 약간 덜매운맛 : 추천 맵기(20%)외 2건  일벌세트 / 약간 덜매운맛 : 추천 맵기(20%)외 2건\n",
              "5224                       (2마리) 코다리매콤명태찜 / 젓가락빼주세요외 2건     (2마리) 코다리매콤명태찜 / 젓가락빼주세요외 2건\n",
              "5225             리얼초코자바칩프라페 / 휘핑 반만올리기외 1건&&아메리카노 / HOT                      아메리카노 / ICE\n",
              "5226                              [Best] 제주 흑돼지 돈까스샌드위치                     [Bset] 프레즐빠다\n",
              "5227                                               에그모닝                            생크림팥빵\n",
              "\n",
              "[5228 rows x 2 columns]"
            ]
          },
          "metadata": {
            "tags": []
          },
          "execution_count": 92
        }
      ]
    },
    {
      "cell_type": "code",
      "metadata": {
        "id": "_di2RVSOidlS",
        "colab": {
          "base_uri": "https://localhost:8080/"
        },
        "outputId": "d9c567d7-81f9-4738-a45b-856e5e38e090"
      },
      "source": [
        "print(df_new.isnull().sum())\n",
        "df_new.dropna(inplace=True)"
      ],
      "execution_count": null,
      "outputs": [
        {
          "output_type": "stream",
          "text": [
            "Detail    0\n",
            "label     0\n",
            "dtype: int64\n"
          ],
          "name": "stdout"
        },
        {
          "output_type": "execute_result",
          "data": {
            "text/plain": [
              "Detail    0\n",
              "label     0\n",
              "dtype: int64"
            ]
          },
          "metadata": {
            "tags": []
          },
          "execution_count": 93
        }
      ]
    },
    {
      "cell_type": "code",
      "metadata": {
        "id": "h67mUuV-yLD0",
        "colab": {
          "base_uri": "https://localhost:8080/",
          "height": 436
        },
        "outputId": "03e41d70-179f-4416-91da-3343a2edcea7"
      },
      "source": [
        "print(df_new.duplicated().sum())\n",
        "df_new.drop_duplicates(inplace=True)\n",
        "df_new.reset_index(inplace=True)\n",
        "df_new.pop('index')\n",
        "df_new"
      ],
      "execution_count": null,
      "outputs": [
        {
          "output_type": "stream",
          "text": [
            "3510\n"
          ],
          "name": "stdout"
        },
        {
          "output_type": "execute_result",
          "data": {
            "text/html": [
              "<div>\n",
              "<style scoped>\n",
              "    .dataframe tbody tr th:only-of-type {\n",
              "        vertical-align: middle;\n",
              "    }\n",
              "\n",
              "    .dataframe tbody tr th {\n",
              "        vertical-align: top;\n",
              "    }\n",
              "\n",
              "    .dataframe thead th {\n",
              "        text-align: right;\n",
              "    }\n",
              "</style>\n",
              "<table border=\"1\" class=\"dataframe\">\n",
              "  <thead>\n",
              "    <tr style=\"text-align: right;\">\n",
              "      <th></th>\n",
              "      <th>Detail</th>\n",
              "      <th>label</th>\n",
              "    </tr>\n",
              "  </thead>\n",
              "  <tbody>\n",
              "    <tr>\n",
              "      <th>0</th>\n",
              "      <td>우편물&amp;&amp;더블더블 / 감자튀김 딥치즈 업그레이드 세트&amp;&amp;꿀유자차 / 아이스&amp;&amp;바닐라...</td>\n",
              "      <td>바닐라라떼 / 아이스</td>\n",
              "    </tr>\n",
              "    <tr>\n",
              "      <th>1</th>\n",
              "      <td>더블더블 / 감자튀김 딥치즈 업그레이드 세트&amp;&amp;꿀유자차 / 아이스&amp;&amp;바닐라라떼 / ...</td>\n",
              "      <td>[개인결제] 개인결제</td>\n",
              "    </tr>\n",
              "    <tr>\n",
              "      <th>2</th>\n",
              "      <td>납기내금액&amp;&amp;납기내금액&amp;&amp;납기내금액&amp;&amp;납기내금액</td>\n",
              "      <td>납기내금액</td>\n",
              "    </tr>\n",
              "    <tr>\n",
              "      <th>3</th>\n",
              "      <td>무료배달&amp;&amp;무료배달&amp;&amp;베이컨 치즈버거 / 일반세트(버거+음료+감자튀김)&amp;&amp;무료배달</td>\n",
              "      <td>무료배달</td>\n",
              "    </tr>\n",
              "    <tr>\n",
              "      <th>4</th>\n",
              "      <td>베이컨 치즈버거 / 일반세트(버거+음료+감자튀김)&amp;&amp;무료배달&amp;&amp;무료배달&amp;&amp;무료배달</td>\n",
              "      <td>딥치즈후라이스</td>\n",
              "    </tr>\n",
              "    <tr>\n",
              "      <th>...</th>\n",
              "      <td>...</td>\n",
              "      <td>...</td>\n",
              "    </tr>\n",
              "    <tr>\n",
              "      <th>1713</th>\n",
              "      <td>일벌세트 / 약간 덜매운맛 : 추천 맵기(20%)외 2건</td>\n",
              "      <td>일벌세트 / 약간 덜매운맛 : 추천 맵기(20%)외 2건</td>\n",
              "    </tr>\n",
              "    <tr>\n",
              "      <th>1714</th>\n",
              "      <td>(2마리) 코다리매콤명태찜 / 젓가락빼주세요외 2건</td>\n",
              "      <td>(2마리) 코다리매콤명태찜 / 젓가락빼주세요외 2건</td>\n",
              "    </tr>\n",
              "    <tr>\n",
              "      <th>1715</th>\n",
              "      <td>리얼초코자바칩프라페 / 휘핑 반만올리기외 1건&amp;&amp;아메리카노 / HOT</td>\n",
              "      <td>아메리카노 / ICE</td>\n",
              "    </tr>\n",
              "    <tr>\n",
              "      <th>1716</th>\n",
              "      <td>[Best] 제주 흑돼지 돈까스샌드위치</td>\n",
              "      <td>[Bset] 프레즐빠다</td>\n",
              "    </tr>\n",
              "    <tr>\n",
              "      <th>1717</th>\n",
              "      <td>에그모닝</td>\n",
              "      <td>생크림팥빵</td>\n",
              "    </tr>\n",
              "  </tbody>\n",
              "</table>\n",
              "<p>1718 rows × 2 columns</p>\n",
              "</div>"
            ],
            "text/plain": [
              "                                                 Detail                            label\n",
              "0     우편물&&더블더블 / 감자튀김 딥치즈 업그레이드 세트&&꿀유자차 / 아이스&&바닐라...                      바닐라라떼 / 아이스\n",
              "1     더블더블 / 감자튀김 딥치즈 업그레이드 세트&&꿀유자차 / 아이스&&바닐라라떼 / ...                      [개인결제] 개인결제\n",
              "2                            납기내금액&&납기내금액&&납기내금액&&납기내금액                            납기내금액\n",
              "3         무료배달&&무료배달&&베이컨 치즈버거 / 일반세트(버거+음료+감자튀김)&&무료배달                             무료배달\n",
              "4         베이컨 치즈버거 / 일반세트(버거+음료+감자튀김)&&무료배달&&무료배달&&무료배달                          딥치즈후라이스\n",
              "...                                                 ...                              ...\n",
              "1713                    일벌세트 / 약간 덜매운맛 : 추천 맵기(20%)외 2건  일벌세트 / 약간 덜매운맛 : 추천 맵기(20%)외 2건\n",
              "1714                       (2마리) 코다리매콤명태찜 / 젓가락빼주세요외 2건     (2마리) 코다리매콤명태찜 / 젓가락빼주세요외 2건\n",
              "1715             리얼초코자바칩프라페 / 휘핑 반만올리기외 1건&&아메리카노 / HOT                      아메리카노 / ICE\n",
              "1716                              [Best] 제주 흑돼지 돈까스샌드위치                     [Bset] 프레즐빠다\n",
              "1717                                               에그모닝                            생크림팥빵\n",
              "\n",
              "[1718 rows x 2 columns]"
            ]
          },
          "metadata": {
            "tags": []
          },
          "execution_count": 95
        }
      ]
    },
    {
      "cell_type": "markdown",
      "metadata": {
        "id": "6W9jSoB6wsaj"
      },
      "source": [
        "# Transformer"
      ]
    },
    {
      "cell_type": "code",
      "metadata": {
        "colab": {
          "base_uri": "https://localhost:8080/",
          "height": 419
        },
        "id": "65jRNKKyCgRs",
        "outputId": "0d46d4ac-9677-499a-a16f-8f0f12805d40"
      },
      "source": [
        "data = df_new\n",
        "\n",
        "data = data.sample(frac=1).reset_index(drop=True)\n",
        "data.head()"
      ],
      "execution_count": null,
      "outputs": [
        {
          "output_type": "execute_result",
          "data": {
            "text/html": [
              "<div>\n",
              "<style scoped>\n",
              "    .dataframe tbody tr th:only-of-type {\n",
              "        vertical-align: middle;\n",
              "    }\n",
              "\n",
              "    .dataframe tbody tr th {\n",
              "        vertical-align: top;\n",
              "    }\n",
              "\n",
              "    .dataframe thead th {\n",
              "        text-align: right;\n",
              "    }\n",
              "</style>\n",
              "<table border=\"1\" class=\"dataframe\">\n",
              "  <thead>\n",
              "    <tr style=\"text-align: right;\">\n",
              "      <th></th>\n",
              "      <th>Detail</th>\n",
              "      <th>label</th>\n",
              "    </tr>\n",
              "  </thead>\n",
              "  <tbody>\n",
              "    <tr>\n",
              "      <th>0</th>\n",
              "      <td>청송주왕산보문꿀사과</td>\n",
              "      <td>청송주왕산고랭지꿀사과</td>\n",
              "    </tr>\n",
              "    <tr>\n",
              "      <th>1</th>\n",
              "      <td>무안 자색양파즙 180포&amp;&amp;[아침에떡] 당일생산 뜨끈뜨끈 입술 기정떡 3종 中 택1...</td>\n",
              "      <td>[유기농] 당찬여주즙60ml * 30포 * 8박스</td>\n",
              "    </tr>\n",
              "    <tr>\n",
              "      <th>2</th>\n",
              "      <td>[게릴라] [귤로장생]하우스 밀감(3kg)&amp;&amp;강원도 햇 미백찰옥수수 51개&amp;&amp;[비타...</td>\n",
              "      <td>[한일스텐레스] 프리미엄 통5중 인덕션 스텐냄비 모음전</td>\n",
              "    </tr>\n",
              "    <tr>\n",
              "      <th>3</th>\n",
              "      <td>[게릴라]모닝애플 주스 120ml * 60포&amp;&amp;[발레리]라이크라런닝형브라팬티10종_...</td>\n",
              "      <td>[맛있는김치]도미솔 왕비포기김치 11kg</td>\n",
              "    </tr>\n",
              "    <tr>\n",
              "      <th>4</th>\n",
              "      <td>이비인후과/진료비&amp;&amp;약제비&amp;&amp;감염내과/진료비&amp;&amp;약제비</td>\n",
              "      <td>호흡기내과/진료비</td>\n",
              "    </tr>\n",
              "    <tr>\n",
              "      <th>...</th>\n",
              "      <td>...</td>\n",
              "      <td>...</td>\n",
              "    </tr>\n",
              "    <tr>\n",
              "      <th>1713</th>\n",
              "      <td>고기랑 찰떡궁합! 청도 미나리 500g&amp;&amp;[명절특가] 황제의아침 숙성흑마늘진액 10...</td>\n",
              "      <td>[횡성명품한우] 횡성 한우 정육 4호 선물세트(불불국)</td>\n",
              "    </tr>\n",
              "    <tr>\n",
              "      <th>1714</th>\n",
              "      <td>귤로장생 제주 햇 레드향 1.8kg*3박스&amp;&amp; 미루 구수한 누룽지 3종세트(50봉)</td>\n",
              "      <td>★초특가★[게릴라]옛날 쥐치포</td>\n",
              "    </tr>\n",
              "    <tr>\n",
              "      <th>1715</th>\n",
              "      <td>평창애 양념코다리180g</td>\n",
              "      <td>영광법성포이조굴비</td>\n",
              "    </tr>\n",
              "    <tr>\n",
              "      <th>1716</th>\n",
              "      <td>미납통행료</td>\n",
              "      <td>미납통행료</td>\n",
              "    </tr>\n",
              "    <tr>\n",
              "      <th>1717</th>\n",
              "      <td>제주직송 올탑농원 햇 노지감귤 5kg 소과외 2개</td>\n",
              "      <td>[생산자직송] 해남 강미자님의 호박고구마 (한입)</td>\n",
              "    </tr>\n",
              "  </tbody>\n",
              "</table>\n",
              "<p>1718 rows × 2 columns</p>\n",
              "</div>"
            ],
            "text/plain": [
              "                                                 Detail                           label\n",
              "0                                            청송주왕산보문꿀사과                     청송주왕산고랭지꿀사과\n",
              "1     무안 자색양파즙 180포&&[아침에떡] 당일생산 뜨끈뜨끈 입술 기정떡 3종 中 택1...     [유기농] 당찬여주즙60ml * 30포 * 8박스\n",
              "2     [게릴라] [귤로장생]하우스 밀감(3kg)&&강원도 햇 미백찰옥수수 51개&&[비타...  [한일스텐레스] 프리미엄 통5중 인덕션 스텐냄비 모음전\n",
              "3     [게릴라]모닝애플 주스 120ml * 60포&&[발레리]라이크라런닝형브라팬티10종_...          [맛있는김치]도미솔 왕비포기김치 11kg\n",
              "4                         이비인후과/진료비&&약제비&&감염내과/진료비&&약제비                       호흡기내과/진료비\n",
              "...                                                 ...                             ...\n",
              "1713  고기랑 찰떡궁합! 청도 미나리 500g&&[명절특가] 황제의아침 숙성흑마늘진액 10...  [횡성명품한우] 횡성 한우 정육 4호 선물세트(불불국)\n",
              "1714     귤로장생 제주 햇 레드향 1.8kg*3박스&& 미루 구수한 누룽지 3종세트(50봉)                ★초특가★[게릴라]옛날 쥐치포\n",
              "1715                                      평창애 양념코다리180g                       영광법성포이조굴비\n",
              "1716                                              미납통행료                           미납통행료\n",
              "1717                        제주직송 올탑농원 햇 노지감귤 5kg 소과외 2개     [생산자직송] 해남 강미자님의 호박고구마 (한입)\n",
              "\n",
              "[1718 rows x 2 columns]"
            ]
          },
          "metadata": {
            "tags": []
          },
          "execution_count": 64
        }
      ]
    },
    {
      "cell_type": "code",
      "metadata": {
        "colab": {
          "base_uri": "https://localhost:8080/",
          "height": 419
        },
        "id": "wSCGdatWEGvU",
        "outputId": "14a09afe-4e38-441a-be2c-08f7a60ce6a6"
      },
      "source": [
        "train_df = data.copy()\n",
        "train_df.rename(columns = {'Detail':'train'}, inplace=True)\n",
        "train_df"
      ],
      "execution_count": null,
      "outputs": [
        {
          "output_type": "execute_result",
          "data": {
            "text/html": [
              "<div>\n",
              "<style scoped>\n",
              "    .dataframe tbody tr th:only-of-type {\n",
              "        vertical-align: middle;\n",
              "    }\n",
              "\n",
              "    .dataframe tbody tr th {\n",
              "        vertical-align: top;\n",
              "    }\n",
              "\n",
              "    .dataframe thead th {\n",
              "        text-align: right;\n",
              "    }\n",
              "</style>\n",
              "<table border=\"1\" class=\"dataframe\">\n",
              "  <thead>\n",
              "    <tr style=\"text-align: right;\">\n",
              "      <th></th>\n",
              "      <th>train</th>\n",
              "      <th>label</th>\n",
              "    </tr>\n",
              "  </thead>\n",
              "  <tbody>\n",
              "    <tr>\n",
              "      <th>0</th>\n",
              "      <td>청송주왕산보문꿀사과</td>\n",
              "      <td>청송주왕산고랭지꿀사과</td>\n",
              "    </tr>\n",
              "    <tr>\n",
              "      <th>1</th>\n",
              "      <td>무안 자색양파즙 180포&amp;&amp;[아침에떡] 당일생산 뜨끈뜨끈 입술 기정떡 3종 中 택1...</td>\n",
              "      <td>[유기농] 당찬여주즙60ml * 30포 * 8박스</td>\n",
              "    </tr>\n",
              "    <tr>\n",
              "      <th>2</th>\n",
              "      <td>[게릴라] [귤로장생]하우스 밀감(3kg)&amp;&amp;강원도 햇 미백찰옥수수 51개&amp;&amp;[비타...</td>\n",
              "      <td>[한일스텐레스] 프리미엄 통5중 인덕션 스텐냄비 모음전</td>\n",
              "    </tr>\n",
              "    <tr>\n",
              "      <th>3</th>\n",
              "      <td>[게릴라]모닝애플 주스 120ml * 60포&amp;&amp;[발레리]라이크라런닝형브라팬티10종_...</td>\n",
              "      <td>[맛있는김치]도미솔 왕비포기김치 11kg</td>\n",
              "    </tr>\n",
              "    <tr>\n",
              "      <th>4</th>\n",
              "      <td>이비인후과/진료비&amp;&amp;약제비&amp;&amp;감염내과/진료비&amp;&amp;약제비</td>\n",
              "      <td>호흡기내과/진료비</td>\n",
              "    </tr>\n",
              "    <tr>\n",
              "      <th>...</th>\n",
              "      <td>...</td>\n",
              "      <td>...</td>\n",
              "    </tr>\n",
              "    <tr>\n",
              "      <th>1713</th>\n",
              "      <td>고기랑 찰떡궁합! 청도 미나리 500g&amp;&amp;[명절특가] 황제의아침 숙성흑마늘진액 10...</td>\n",
              "      <td>[횡성명품한우] 횡성 한우 정육 4호 선물세트(불불국)</td>\n",
              "    </tr>\n",
              "    <tr>\n",
              "      <th>1714</th>\n",
              "      <td>귤로장생 제주 햇 레드향 1.8kg*3박스&amp;&amp; 미루 구수한 누룽지 3종세트(50봉)</td>\n",
              "      <td>★초특가★[게릴라]옛날 쥐치포</td>\n",
              "    </tr>\n",
              "    <tr>\n",
              "      <th>1715</th>\n",
              "      <td>평창애 양념코다리180g</td>\n",
              "      <td>영광법성포이조굴비</td>\n",
              "    </tr>\n",
              "    <tr>\n",
              "      <th>1716</th>\n",
              "      <td>미납통행료</td>\n",
              "      <td>미납통행료</td>\n",
              "    </tr>\n",
              "    <tr>\n",
              "      <th>1717</th>\n",
              "      <td>제주직송 올탑농원 햇 노지감귤 5kg 소과외 2개</td>\n",
              "      <td>[생산자직송] 해남 강미자님의 호박고구마 (한입)</td>\n",
              "    </tr>\n",
              "  </tbody>\n",
              "</table>\n",
              "<p>1718 rows × 2 columns</p>\n",
              "</div>"
            ],
            "text/plain": [
              "                                                  train                           label\n",
              "0                                            청송주왕산보문꿀사과                     청송주왕산고랭지꿀사과\n",
              "1     무안 자색양파즙 180포&&[아침에떡] 당일생산 뜨끈뜨끈 입술 기정떡 3종 中 택1...     [유기농] 당찬여주즙60ml * 30포 * 8박스\n",
              "2     [게릴라] [귤로장생]하우스 밀감(3kg)&&강원도 햇 미백찰옥수수 51개&&[비타...  [한일스텐레스] 프리미엄 통5중 인덕션 스텐냄비 모음전\n",
              "3     [게릴라]모닝애플 주스 120ml * 60포&&[발레리]라이크라런닝형브라팬티10종_...          [맛있는김치]도미솔 왕비포기김치 11kg\n",
              "4                         이비인후과/진료비&&약제비&&감염내과/진료비&&약제비                       호흡기내과/진료비\n",
              "...                                                 ...                             ...\n",
              "1713  고기랑 찰떡궁합! 청도 미나리 500g&&[명절특가] 황제의아침 숙성흑마늘진액 10...  [횡성명품한우] 횡성 한우 정육 4호 선물세트(불불국)\n",
              "1714     귤로장생 제주 햇 레드향 1.8kg*3박스&& 미루 구수한 누룽지 3종세트(50봉)                ★초특가★[게릴라]옛날 쥐치포\n",
              "1715                                      평창애 양념코다리180g                       영광법성포이조굴비\n",
              "1716                                              미납통행료                           미납통행료\n",
              "1717                        제주직송 올탑농원 햇 노지감귤 5kg 소과외 2개     [생산자직송] 해남 강미자님의 호박고구마 (한입)\n",
              "\n",
              "[1718 rows x 2 columns]"
            ]
          },
          "metadata": {
            "tags": []
          },
          "execution_count": 65
        }
      ]
    },
    {
      "cell_type": "markdown",
      "metadata": {
        "id": "Z045RrD4x8m-"
      },
      "source": [
        "## 한국어 Tokenizer 설정"
      ]
    },
    {
      "cell_type": "code",
      "metadata": {
        "id": "_nPo6Ft83nZ0"
      },
      "source": [
        "# 이하 Kkma 기준 전개\n",
        "tok = kkma.morphs\n",
        "# tok = okt.morphs"
      ],
      "execution_count": null,
      "outputs": []
    },
    {
      "cell_type": "markdown",
      "metadata": {
        "id": "9EQmA7cFfS1v"
      },
      "source": [
        "## 학습 데이터의 토큰 갯수 분포 확인\n",
        "\n",
        "*   한국어 토큰화 과정이 포함 되어 있어 실행 시 주의(오래 걸림)\n",
        "*   코드에 영향을 주지 않아 실행하지 않아도 무방\n"
      ]
    },
    {
      "cell_type": "code",
      "metadata": {
        "id": "FIlSDEc3DlJz"
      },
      "source": [
        "train_df['token_len'] = [len(tok(aaa)) for aaa in train_df['train']]\n",
        "\n",
        "token_len_cate = []\n",
        "for i in train_df['token_len']:\n",
        "    if i >= 0 and i < 100:\n",
        "        token_len_cate.append('0:100')\n",
        "    elif i >= 100 and i < 200:\n",
        "        token_len_cate.append('100:200')\n",
        "    elif i >= 200 and i < 300:\n",
        "        token_len_cate.append('200:300')\n",
        "    elif i >= 300 and i < 400:\n",
        "        token_len_cate.append('300:400')\n",
        "    elif i >= 400 and i < 500:\n",
        "        token_len_cate.append('400:500')\n",
        "    elif i >= 500 and i < 600:\n",
        "        token_len_cate.append('500:600')\n",
        "    elif i >= 600 and i < 700:\n",
        "        token_len_cate.append('600:700')\n",
        "    elif i >= 700 and i < 800:\n",
        "        token_len_cate.append('700:800')\n",
        "    elif i >= 800 and i < 900:\n",
        "        token_len_cate.append('800:900')\n",
        "    elif i >= 900:\n",
        "        token_len_cate.append('900:')\n",
        "train_df['token_len_cate'] = token_len_cate"
      ],
      "execution_count": null,
      "outputs": []
    },
    {
      "cell_type": "code",
      "metadata": {
        "colab": {
          "base_uri": "https://localhost:8080/",
          "height": 282
        },
        "id": "OiFp_ehEQSER",
        "outputId": "5c9fc880-22a5-4242-f83f-15c62efecfd9"
      },
      "source": [
        "token_len_sort = sorted({i:j for i, j in zip(train_df['token_len_cate'].value_counts().keys(), train_df['token_len_cate'].value_counts().values)}.items(), key=lambda x:x[0])\n",
        "x = [i for (i,_) in token_len_sort]\n",
        "y = [i for (_,i) in token_len_sort]\n",
        "print(y)\n",
        "\n",
        "plt.figure(figsize=(10, 4))\n",
        "plt.bar(x, y)\n",
        "plt.show()"
      ],
      "execution_count": null,
      "outputs": [
        {
          "output_type": "stream",
          "text": [
            "[1718]\n"
          ],
          "name": "stdout"
        },
        {
          "output_type": "display_data",
          "data": {
            "image/png": "[encoded data removed]",
            "text/plain": [
              "<Figure size 720x288 with 1 Axes>"
            ]
          },
          "metadata": {
            "tags": [],
            "needs_background": "light"
          }
        }
      ]
    },
    {
      "cell_type": "code",
      "metadata": {
        "colab": {
          "base_uri": "https://localhost:8080/",
          "height": 297
        },
        "id": "XJJZXp9BvpbQ",
        "outputId": "1e7fb0fd-7a24-49fe-80f9-75e03221b355"
      },
      "source": [
        "train_df.describe()"
      ],
      "execution_count": null,
      "outputs": [
        {
          "output_type": "execute_result",
          "data": {
            "text/html": [
              "<div>\n",
              "<style scoped>\n",
              "    .dataframe tbody tr th:only-of-type {\n",
              "        vertical-align: middle;\n",
              "    }\n",
              "\n",
              "    .dataframe tbody tr th {\n",
              "        vertical-align: top;\n",
              "    }\n",
              "\n",
              "    .dataframe thead th {\n",
              "        text-align: right;\n",
              "    }\n",
              "</style>\n",
              "<table border=\"1\" class=\"dataframe\">\n",
              "  <thead>\n",
              "    <tr style=\"text-align: right;\">\n",
              "      <th></th>\n",
              "      <th>token_len</th>\n",
              "    </tr>\n",
              "  </thead>\n",
              "  <tbody>\n",
              "    <tr>\n",
              "      <th>count</th>\n",
              "      <td>1718.000000</td>\n",
              "    </tr>\n",
              "    <tr>\n",
              "      <th>mean</th>\n",
              "      <td>34.850407</td>\n",
              "    </tr>\n",
              "    <tr>\n",
              "      <th>std</th>\n",
              "      <td>24.111764</td>\n",
              "    </tr>\n",
              "    <tr>\n",
              "      <th>min</th>\n",
              "      <td>1.000000</td>\n",
              "    </tr>\n",
              "    <tr>\n",
              "      <th>25%</th>\n",
              "      <td>14.000000</td>\n",
              "    </tr>\n",
              "    <tr>\n",
              "      <th>50%</th>\n",
              "      <td>28.000000</td>\n",
              "    </tr>\n",
              "    <tr>\n",
              "      <th>75%</th>\n",
              "      <td>57.000000</td>\n",
              "    </tr>\n",
              "    <tr>\n",
              "      <th>max</th>\n",
              "      <td>96.000000</td>\n",
              "    </tr>\n",
              "  </tbody>\n",
              "</table>\n",
              "</div>"
            ],
            "text/plain": [
              "         token_len\n",
              "count  1718.000000\n",
              "mean     34.850407\n",
              "std      24.111764\n",
              "min       1.000000\n",
              "25%      14.000000\n",
              "50%      28.000000\n",
              "75%      57.000000\n",
              "max      96.000000"
            ]
          },
          "metadata": {
            "tags": []
          },
          "execution_count": 69
        }
      ]
    },
    {
      "cell_type": "markdown",
      "metadata": {
        "id": "EV6UCth9zSxT"
      },
      "source": [
        "## Data split"
      ]
    },
    {
      "cell_type": "code",
      "metadata": {
        "id": "ClCqbjQdGd0J"
      },
      "source": [
        "filtering_train_df = train_df.copy()"
      ],
      "execution_count": null,
      "outputs": []
    },
    {
      "cell_type": "code",
      "metadata": {
        "id": "jfhU7g2IDC3J"
      },
      "source": [
        "cut = round(len(filtering_train_df) * 0.8)\n",
        "filtering_train_df, filtering_test_df = filtering_train_df[:cut], filtering_train_df[cut:]"
      ],
      "execution_count": null,
      "outputs": []
    },
    {
      "cell_type": "code",
      "metadata": {
        "id": "kWjyzSEXMqXV"
      },
      "source": [
        "filtering_test_df = filtering_test_df.reset_index(drop=True)"
      ],
      "execution_count": null,
      "outputs": []
    },
    {
      "cell_type": "code",
      "metadata": {
        "colab": {
          "base_uri": "https://localhost:8080/"
        },
        "id": "YUsG2iJd8nKn",
        "outputId": "592845b3-8142-45be-c69e-d055752f33d9"
      },
      "source": [
        "print(len(filtering_train_df))\n",
        "len(filtering_test_df)"
      ],
      "execution_count": null,
      "outputs": [
        {
          "output_type": "stream",
          "text": [
            "1374\n"
          ],
          "name": "stdout"
        },
        {
          "output_type": "execute_result",
          "data": {
            "text/plain": [
              "344"
            ]
          },
          "metadata": {
            "tags": []
          },
          "execution_count": 74
        }
      ]
    },
    {
      "cell_type": "markdown",
      "metadata": {
        "id": "fTDYnAiwlCg6"
      },
      "source": [
        "## 학습을 위해 토큰으로 자르기"
      ]
    },
    {
      "cell_type": "code",
      "metadata": {
        "id": "TIAMM6IYekZ2"
      },
      "source": [
        "filtering_train_df['split_train_token'] = [tok(i.strip()) for i in filtering_train_df['train']]\n",
        "filtering_train_df['split_label_token'] = [tok(i.strip()) for i in filtering_train_df['label']]\n",
        "filtering_train_df['split_train_token'] = filtering_train_df['split_train_token'].apply(lambda x: ' '.join(map(str, x)))\n",
        "filtering_train_df['split_label_token'] = filtering_train_df['split_label_token'].apply(lambda x: ' '.join(map(str, x)))\n",
        "filtering_train_df['split_train_token'] = ['<esp> ' + i.strip().replace('&&', ' <esp> ') + ' <esp>' for i in filtering_train_df['split_train_token']]\n",
        "filtering_train_df['split_label_token'] = ['<esp> ' + i.strip() + ' <esp>' for i in filtering_train_df['split_label_token']]"
      ],
      "execution_count": null,
      "outputs": []
    },
    {
      "cell_type": "code",
      "metadata": {
        "colab": {
          "base_uri": "https://localhost:8080/",
          "height": 306
        },
        "id": "grUN5n41gX2W",
        "outputId": "8f8778f5-d98b-4286-d18f-8b5a32bb7989"
      },
      "source": [
        "filtering_train_df.head()"
      ],
      "execution_count": null,
      "outputs": [
        {
          "output_type": "execute_result",
          "data": {
            "text/html": [
              "<div>\n",
              "<style scoped>\n",
              "    .dataframe tbody tr th:only-of-type {\n",
              "        vertical-align: middle;\n",
              "    }\n",
              "\n",
              "    .dataframe tbody tr th {\n",
              "        vertical-align: top;\n",
              "    }\n",
              "\n",
              "    .dataframe thead th {\n",
              "        text-align: right;\n",
              "    }\n",
              "</style>\n",
              "<table border=\"1\" class=\"dataframe\">\n",
              "  <thead>\n",
              "    <tr style=\"text-align: right;\">\n",
              "      <th></th>\n",
              "      <th>train</th>\n",
              "      <th>label</th>\n",
              "      <th>token_len</th>\n",
              "      <th>token_len_cate</th>\n",
              "      <th>split_train_token</th>\n",
              "      <th>split_label_token</th>\n",
              "    </tr>\n",
              "  </thead>\n",
              "  <tbody>\n",
              "    <tr>\n",
              "      <th>0</th>\n",
              "      <td>청송주왕산보문꿀사과</td>\n",
              "      <td>청송주왕산고랭지꿀사과</td>\n",
              "      <td>6</td>\n",
              "      <td>0:100</td>\n",
              "      <td>&lt;esp&gt; 청송 주왕산 보문 꾸 ㄹ 사과 &lt;esp&gt;</td>\n",
              "      <td>&lt;esp&gt; 청송 주왕산 고랭지 꿀 사과 &lt;esp&gt;</td>\n",
              "    </tr>\n",
              "    <tr>\n",
              "      <th>1</th>\n",
              "      <td>무안 자색양파즙 180포&amp;&amp;[아침에떡] 당일생산 뜨끈뜨끈 입술 기정떡 3종 中 택1...</td>\n",
              "      <td>[유기농] 당찬여주즙60ml * 30포 * 8박스</td>\n",
              "      <td>45</td>\n",
              "      <td>0:100</td>\n",
              "      <td>&lt;esp&gt; 무안 자색 양파 즙 180 포  &lt;esp&gt;  [ 아침 에 떡 ] 당일 생...</td>\n",
              "      <td>&lt;esp&gt; [ 유기농 ] 당차 ㄴ 여주 즙 60 ml * 30 포 * 8 박스 &lt;esp&gt;</td>\n",
              "    </tr>\n",
              "    <tr>\n",
              "      <th>2</th>\n",
              "      <td>[게릴라] [귤로장생]하우스 밀감(3kg)&amp;&amp;강원도 햇 미백찰옥수수 51개&amp;&amp;[비타...</td>\n",
              "      <td>[한일스텐레스] 프리미엄 통5중 인덕션 스텐냄비 모음전</td>\n",
              "      <td>58</td>\n",
              "      <td>0:100</td>\n",
              "      <td>&lt;esp&gt; [ 게릴라 ] [ 귤 로 장생 ] 하우스 밀감 ( 3 kg )  &lt;esp...</td>\n",
              "      <td>&lt;esp&gt; [ 하 ㄴ 일 스텐레스 ] 프리미엄 통 5 중 인덕 션 스텐 냄비 모음 ...</td>\n",
              "    </tr>\n",
              "    <tr>\n",
              "      <th>3</th>\n",
              "      <td>[게릴라]모닝애플 주스 120ml * 60포&amp;&amp;[발레리]라이크라런닝형브라팬티10종_...</td>\n",
              "      <td>[맛있는김치]도미솔 왕비포기김치 11kg</td>\n",
              "      <td>68</td>\n",
              "      <td>0:100</td>\n",
              "      <td>&lt;esp&gt; [ 게릴라 ] 모닝 애플 주스 120 ml * 60 포  &lt;esp&gt;  [...</td>\n",
              "      <td>&lt;esp&gt; [ 맛있 는 김치 ] 도미 솔 왕비 포기김치 11 kg &lt;esp&gt;</td>\n",
              "    </tr>\n",
              "    <tr>\n",
              "      <th>4</th>\n",
              "      <td>이비인후과/진료비&amp;&amp;약제비&amp;&amp;감염내과/진료비&amp;&amp;약제비</td>\n",
              "      <td>호흡기내과/진료비</td>\n",
              "      <td>14</td>\n",
              "      <td>0:100</td>\n",
              "      <td>&lt;esp&gt; 이비인후과 / 진료비  &lt;esp&gt;  약제 비  &lt;esp&gt;  감염 내과 /...</td>\n",
              "      <td>&lt;esp&gt; 호흡기 내과 / 진료비 &lt;esp&gt;</td>\n",
              "    </tr>\n",
              "  </tbody>\n",
              "</table>\n",
              "</div>"
            ],
            "text/plain": [
              "                                               train  ...                                  split_label_token\n",
              "0                                         청송주왕산보문꿀사과  ...                        <esp> 청송 주왕산 고랭지 꿀 사과 <esp>\n",
              "1  무안 자색양파즙 180포&&[아침에떡] 당일생산 뜨끈뜨끈 입술 기정떡 3종 中 택1...  ...  <esp> [ 유기농 ] 당차 ㄴ 여주 즙 60 ml * 30 포 * 8 박스 <esp>\n",
              "2  [게릴라] [귤로장생]하우스 밀감(3kg)&&강원도 햇 미백찰옥수수 51개&&[비타...  ...  <esp> [ 하 ㄴ 일 스텐레스 ] 프리미엄 통 5 중 인덕 션 스텐 냄비 모음 ...\n",
              "3  [게릴라]모닝애플 주스 120ml * 60포&&[발레리]라이크라런닝형브라팬티10종_...  ...         <esp> [ 맛있 는 김치 ] 도미 솔 왕비 포기김치 11 kg <esp>\n",
              "4                      이비인후과/진료비&&약제비&&감염내과/진료비&&약제비  ...                           <esp> 호흡기 내과 / 진료비 <esp>\n",
              "\n",
              "[5 rows x 6 columns]"
            ]
          },
          "metadata": {
            "tags": []
          },
          "execution_count": 76
        }
      ]
    },
    {
      "cell_type": "code",
      "metadata": {
        "id": "7y5o1x06Y3Qh"
      },
      "source": [
        "MAX_LENGTH = 128"
      ],
      "execution_count": null,
      "outputs": []
    },
    {
      "cell_type": "code",
      "metadata": {
        "id": "9HrRaQMinZ0H"
      },
      "source": [
        "tokenizer = tfds.deprecated.text.SubwordTextEncoder.build_from_corpus(filtering_train_df['split_train_token'] + filtering_train_df['split_label_token'], target_vocab_size=2**13)"
      ],
      "execution_count": null,
      "outputs": []
    },
    {
      "cell_type": "code",
      "metadata": {
        "id": "yNc2-ElvnZ7l"
      },
      "source": [
        "START_TOKEN, END_TOKEN = [tokenizer.vocab_size], [tokenizer.vocab_size + 1]\n",
        "VOCAB_SIZE = tokenizer.vocab_size + 2"
      ],
      "execution_count": null,
      "outputs": []
    },
    {
      "cell_type": "code",
      "metadata": {
        "colab": {
          "base_uri": "https://localhost:8080/"
        },
        "id": "4XNjMLlYnZ9h",
        "outputId": "b58ea439-4b1e-40cb-eccd-05a4272cd0b8"
      },
      "source": [
        "print('시작 토큰 번호 :',START_TOKEN)\n",
        "print('종료 토큰 번호 :',END_TOKEN)\n",
        "print('단어 집합의 크기 :',VOCAB_SIZE)"
      ],
      "execution_count": null,
      "outputs": [
        {
          "output_type": "stream",
          "text": [
            "시작 토큰 번호 : [4486]\n",
            "종료 토큰 번호 : [4487]\n",
            "단어 집합의 크기 : 4488\n"
          ],
          "name": "stdout"
        }
      ]
    },
    {
      "cell_type": "code",
      "metadata": {
        "id": "FyU2LyVcnZ_u"
      },
      "source": [
        "def tokenize_and_filter(inputs, outputs):\n",
        "  tokenized_inputs, tokenized_outputs = [], []\n",
        "\n",
        "  for (sentence1, sentence2) in zip(inputs, outputs):\n",
        "    sentence1 = START_TOKEN + tokenizer.encode(sentence1) + END_TOKEN\n",
        "    sentence2 = START_TOKEN + tokenizer.encode(sentence2) + END_TOKEN\n",
        "\n",
        "    tokenized_inputs.append(sentence1)\n",
        "    tokenized_outputs.append(sentence2)\n",
        "\n",
        "  tokenized_inputs = tf.keras.preprocessing.sequence.pad_sequences(\n",
        "      tokenized_inputs, maxlen=MAX_LENGTH, padding='post')\n",
        "  tokenized_outputs = tf.keras.preprocessing.sequence.pad_sequences(\n",
        "      tokenized_outputs, maxlen=MAX_LENGTH, padding='post')\n",
        "\n",
        "  return tokenized_inputs, tokenized_outputs"
      ],
      "execution_count": null,
      "outputs": []
    },
    {
      "cell_type": "code",
      "metadata": {
        "id": "vGD78-kOL_wk"
      },
      "source": [
        "train_token, label_token = tokenize_and_filter(filtering_train_df['split_train_token'], filtering_train_df['split_label_token'])"
      ],
      "execution_count": null,
      "outputs": []
    },
    {
      "cell_type": "code",
      "metadata": {
        "colab": {
          "base_uri": "https://localhost:8080/"
        },
        "id": "MNW0IgXRMYfD",
        "outputId": "fc177db0-269e-4ed2-9f9c-e845423804a3"
      },
      "source": [
        "print('질문 데이터의 크기(shape) :', train_token.shape)\n",
        "print('답변 데이터의 크기(shape) :', label_token.shape)"
      ],
      "execution_count": null,
      "outputs": [
        {
          "output_type": "stream",
          "text": [
            "질문 데이터의 크기(shape) : (1374, 128)\n",
            "답변 데이터의 크기(shape) : (1374, 128)\n"
          ],
          "name": "stdout"
        }
      ]
    },
    {
      "cell_type": "markdown",
      "metadata": {
        "id": "PHi5hUkwF6NG"
      },
      "source": [
        "## GPU 작동 확인"
      ]
    },
    {
      "cell_type": "code",
      "metadata": {
        "colab": {
          "base_uri": "https://localhost:8080/"
        },
        "id": "bMTEg_x0F5wr",
        "outputId": "4af232cb-7547-4595-e772-057a2cb947af"
      },
      "source": [
        "tf.test.is_gpu_available()"
      ],
      "execution_count": null,
      "outputs": [
        {
          "output_type": "execute_result",
          "data": {
            "text/plain": [
              "True"
            ]
          },
          "metadata": {
            "tags": []
          },
          "execution_count": 84
        }
      ]
    },
    {
      "cell_type": "code",
      "metadata": {
        "colab": {
          "base_uri": "https://localhost:8080/",
          "height": 35
        },
        "id": "4T3tWOLGGDgI",
        "outputId": "adcf53a7-b5a2-4f4e-a8cc-fefe2e3033c5"
      },
      "source": [
        "tf.test.gpu_device_name()"
      ],
      "execution_count": null,
      "outputs": [
        {
          "output_type": "execute_result",
          "data": {
            "application/vnd.google.colaboratory.intrinsic+json": {
              "type": "string"
            },
            "text/plain": [
              "'/device:GPU:0'"
            ]
          },
          "metadata": {
            "tags": []
          },
          "execution_count": 85
        }
      ]
    },
    {
      "cell_type": "code",
      "metadata": {
        "colab": {
          "base_uri": "https://localhost:8080/"
        },
        "id": "cb_xqSUBw5TI",
        "outputId": "cdd767ab-e628-4fa6-ab30-724412c68291"
      },
      "source": [
        "!nvidia-smi"
      ],
      "execution_count": null,
      "outputs": [
        {
          "output_type": "stream",
          "text": [
            "Mon Apr 19 12:24:05 2021       \n",
            "+-----------------------------------------------------------------------------+\n",
            "| NVIDIA-SMI 460.67       Driver Version: 460.32.03    CUDA Version: 11.2     |\n",
            "|-------------------------------+----------------------+----------------------+\n",
            "| GPU  Name        Persistence-M| Bus-Id        Disp.A | Volatile Uncorr. ECC |\n",
            "| Fan  Temp  Perf  Pwr:Usage/Cap|         Memory-Usage | GPU-Util  Compute M. |\n",
            "|                               |                      |               MIG M. |\n",
            "|===============================+======================+======================|\n",
            "|   0  Tesla K80           Off  | 00000000:00:04.0 Off |                    0 |\n",
            "| N/A   73C    P0    73W / 149W |   2218MiB / 11441MiB |      0%      Default |\n",
            "|                               |                      |                  N/A |\n",
            "+-------------------------------+----------------------+----------------------+\n",
            "                                                                               \n",
            "+-----------------------------------------------------------------------------+\n",
            "| Processes:                                                                  |\n",
            "|  GPU   GI   CI        PID   Type   Process name                  GPU Memory |\n",
            "|        ID   ID                                                   Usage      |\n",
            "|=============================================================================|\n",
            "+-----------------------------------------------------------------------------+\n"
          ],
          "name": "stdout"
        }
      ]
    },
    {
      "cell_type": "markdown",
      "metadata": {
        "id": "Wo4OnGGzGAGz"
      },
      "source": [
        "## 학습"
      ]
    },
    {
      "cell_type": "code",
      "metadata": {
        "id": "NmbnOw_YTj04"
      },
      "source": [
        "# 텐서플로우 dataset을 이용하여 셔플(shuffle)을 수행하되, 배치 크기로 데이터를 묶는다.\n",
        "# 또한 이 과정에서 교사 강요(teacher forcing)을 사용하기 위해서 디코더의 입력과 실제값 시퀀스를 구성한다.\n",
        "BATCH_SIZE = 256\n",
        "BUFFER_SIZE = 20000\n",
        "\n",
        "# 디코더의 실제값 시퀀스에서는 시작 토큰을 제거해야 한다.\n",
        "dataset = tf.data.Dataset.from_tensor_slices((\n",
        "    {\n",
        "        'inputs': train_token,\n",
        "        'dec_inputs': label_token[:, :-1] # 디코더의 입력. 마지막 패딩 토큰이 제거된다.\n",
        "    },\n",
        "    {\n",
        "        'outputs': label_token[:, 1:]  # 맨 처음 토큰이 제거된다. 다시 말해 시작 토큰이 제거된다.\n",
        "    },\n",
        "))\n",
        "\n",
        "dataset = dataset.cache()\n",
        "dataset = dataset.shuffle(BUFFER_SIZE)\n",
        "dataset = dataset.batch(BATCH_SIZE)\n",
        "dataset = dataset.prefetch(tf.data.experimental.AUTOTUNE)"
      ],
      "execution_count": null,
      "outputs": []
    },
    {
      "cell_type": "code",
      "metadata": {
        "id": "U2MT1lyXKzzg"
      },
      "source": [
        "def scaled_dot_product_attention(query, key, value, mask):\n",
        "  \"\"\"Calculate the attention weights. \"\"\"\n",
        "  matmul_qk = tf.matmul(query, key, transpose_b=True)\n",
        "\n",
        "  # scale matmul_qk\n",
        "  depth = tf.cast(tf.shape(key)[-1], tf.float32)\n",
        "  logits = matmul_qk / tf.math.sqrt(depth)\n",
        "\n",
        "  # add the mask to zero out padding tokens\n",
        "  if mask is not None:\n",
        "    logits += (mask * -1e9)\n",
        "\n",
        "  # softmax is normalized on the last axis (seq_len_k)\n",
        "  attention_weights = tf.nn.softmax(logits, axis=-1)\n",
        "\n",
        "  output = tf.matmul(attention_weights, value)\n",
        "\n",
        "  return output\n",
        "\n",
        "class MultiHeadAttention(tf.keras.layers.Layer):\n",
        "\n",
        "  def __init__(self, d_model, num_heads, name=\"multi_head_attention\"):\n",
        "    super(MultiHeadAttention, self).__init__(name=name)\n",
        "    self.num_heads = num_heads\n",
        "    self.d_model = d_model\n",
        "\n",
        "    assert d_model % self.num_heads == 0\n",
        "\n",
        "    self.depth = d_model // self.num_heads\n",
        "\n",
        "    self.query_dense = tf.keras.layers.Dense(units=d_model)\n",
        "    self.key_dense = tf.keras.layers.Dense(units=d_model)\n",
        "    self.value_dense = tf.keras.layers.Dense(units=d_model)\n",
        "\n",
        "    self.dense = tf.keras.layers.Dense(units=d_model)\n",
        "\n",
        "  def split_heads(self, inputs, batch_size):\n",
        "    inputs = tf.reshape(\n",
        "        inputs, shape=(batch_size, -1, self.num_heads, self.depth))\n",
        "    return tf.transpose(inputs, perm=[0, 2, 1, 3])\n",
        "\n",
        "  def call(self, inputs):\n",
        "    query, key, value, mask = inputs['query'], inputs['key'], inputs[\n",
        "        'value'], inputs['mask']\n",
        "    batch_size = tf.shape(query)[0]\n",
        "\n",
        "    # linear layers\n",
        "    query = self.query_dense(query)\n",
        "    key = self.key_dense(key)\n",
        "    value = self.value_dense(value)\n",
        "\n",
        "    # split heads\n",
        "    query = self.split_heads(query, batch_size)\n",
        "    key = self.split_heads(key, batch_size)\n",
        "    value = self.split_heads(value, batch_size)\n",
        "\n",
        "    # scaled dot-product attention\n",
        "    scaled_attention = scaled_dot_product_attention(query, key, value, mask)\n",
        "\n",
        "    scaled_attention = tf.transpose(scaled_attention, perm=[0, 2, 1, 3])\n",
        "\n",
        "    # concatenation of heads\n",
        "    concat_attention = tf.reshape(scaled_attention,\n",
        "                                  (batch_size, -1, self.d_model))\n",
        "\n",
        "    # final linear layer\n",
        "    outputs = self.dense(concat_attention)\n",
        "\n",
        "    return outputs\n",
        "\n",
        "def create_padding_mask(x):\n",
        "  mask = tf.cast(tf.math.equal(x, 0), tf.float32)\n",
        "  # (batch_size, 1, 1, sequence length)\n",
        "  return mask[:, tf.newaxis, tf.newaxis, :]\n",
        "\n",
        "def create_look_ahead_mask(x):\n",
        "  seq_len = tf.shape(x)[1]\n",
        "  look_ahead_mask = 1 - tf.linalg.band_part(tf.ones((seq_len, seq_len)), -1, 0)\n",
        "  padding_mask = create_padding_mask(x)\n",
        "  return tf.maximum(look_ahead_mask, padding_mask)\n",
        "\n",
        "class PositionalEncoding(tf.keras.layers.Layer):\n",
        "\n",
        "  def __init__(self, position, d_model):\n",
        "    super(PositionalEncoding, self).__init__()\n",
        "    self.pos_encoding = self.positional_encoding(position, d_model)\n",
        "\n",
        "  def get_angles(self, position, i, d_model):\n",
        "    angles = 1 / tf.pow(10000, (2 * (i // 2)) / tf.cast(d_model, tf.float32))\n",
        "    return position * angles\n",
        "\n",
        "  def positional_encoding(self, position, d_model):\n",
        "    angle_rads = self.get_angles(\n",
        "        position=tf.range(position, dtype=tf.float32)[:, tf.newaxis],\n",
        "        i=tf.range(d_model, dtype=tf.float32)[tf.newaxis, :],\n",
        "        d_model=d_model)\n",
        "    # apply sin to even index in the array\n",
        "    sines = tf.math.sin(angle_rads[:, 0::2])\n",
        "    # apply cos to odd index in the array\n",
        "    cosines = tf.math.cos(angle_rads[:, 1::2])\n",
        "\n",
        "    pos_encoding = tf.concat([sines, cosines], axis=-1)\n",
        "    pos_encoding = pos_encoding[tf.newaxis, ...]\n",
        "    return tf.cast(pos_encoding, tf.float32)\n",
        "\n",
        "  def call(self, inputs):\n",
        "    return inputs + self.pos_encoding[:, :tf.shape(inputs)[1], :]\n",
        "\n",
        "def encoder_layer(units, d_model, num_heads, dropout, name=\"encoder_layer\"):\n",
        "  inputs = tf.keras.Input(shape=(None, d_model), name=\"inputs\")\n",
        "  padding_mask = tf.keras.Input(shape=(1, 1, None), name=\"padding_mask\")\n",
        "\n",
        "  attention = MultiHeadAttention(\n",
        "      d_model, num_heads, name=\"attention\")({\n",
        "          'query': inputs,\n",
        "          'key': inputs,\n",
        "          'value': inputs,\n",
        "          'mask': padding_mask\n",
        "      })\n",
        "  attention = tf.keras.layers.Dropout(rate=dropout)(attention)\n",
        "  attention = tf.keras.layers.LayerNormalization(\n",
        "      epsilon=1e-6)(inputs + attention)\n",
        "\n",
        "  outputs = tf.keras.layers.Dense(units=units, activation='relu')(attention)\n",
        "  outputs = tf.keras.layers.Dense(units=d_model)(outputs)\n",
        "  outputs = tf.keras.layers.Dropout(rate=dropout)(outputs)\n",
        "  outputs = tf.keras.layers.LayerNormalization(\n",
        "      epsilon=1e-6)(attention + outputs)\n",
        "\n",
        "  return tf.keras.Model(\n",
        "      inputs=[inputs, padding_mask], outputs=outputs, name=name)\n",
        "  \n",
        "def encoder(vocab_size,\n",
        "            num_layers,\n",
        "            units,\n",
        "            d_model,\n",
        "            num_heads,\n",
        "            dropout,\n",
        "            name=\"encoder\"):\n",
        "  inputs = tf.keras.Input(shape=(None,), name=\"inputs\")\n",
        "  padding_mask = tf.keras.Input(shape=(1, 1, None), name=\"padding_mask\")\n",
        "\n",
        "  embeddings = tf.keras.layers.Embedding(vocab_size, d_model)(inputs)\n",
        "  embeddings *= tf.math.sqrt(tf.cast(d_model, tf.float32))\n",
        "  embeddings = PositionalEncoding(vocab_size, d_model)(embeddings)\n",
        "\n",
        "  outputs = tf.keras.layers.Dropout(rate=dropout)(embeddings)\n",
        "\n",
        "  for i in range(num_layers):\n",
        "    outputs = encoder_layer(\n",
        "        units=units,\n",
        "        d_model=d_model,\n",
        "        num_heads=num_heads,\n",
        "        dropout=dropout,\n",
        "        name=\"encoder_layer_{}\".format(i),\n",
        "    )([outputs, padding_mask])\n",
        "\n",
        "  return tf.keras.Model(\n",
        "      inputs=[inputs, padding_mask], outputs=outputs, name=name)\n",
        "  \n",
        "def decoder_layer(units, d_model, num_heads, dropout, name=\"decoder_layer\"):\n",
        "  inputs = tf.keras.Input(shape=(None, d_model), name=\"inputs\")\n",
        "  enc_outputs = tf.keras.Input(shape=(None, d_model), name=\"encoder_outputs\")\n",
        "  look_ahead_mask = tf.keras.Input(\n",
        "      shape=(1, None, None), name=\"look_ahead_mask\")\n",
        "  padding_mask = tf.keras.Input(shape=(1, 1, None), name='padding_mask')\n",
        "\n",
        "  attention1 = MultiHeadAttention(\n",
        "      d_model, num_heads, name=\"attention_1\")(inputs={\n",
        "          'query': inputs,\n",
        "          'key': inputs,\n",
        "          'value': inputs,\n",
        "          'mask': look_ahead_mask\n",
        "      })\n",
        "  attention1 = tf.keras.layers.LayerNormalization(\n",
        "      epsilon=1e-6)(attention1 + inputs)\n",
        "\n",
        "  attention2 = MultiHeadAttention(\n",
        "      d_model, num_heads, name=\"attention_2\")(inputs={\n",
        "          'query': attention1,\n",
        "          'key': enc_outputs,\n",
        "          'value': enc_outputs,\n",
        "          'mask': padding_mask\n",
        "      })\n",
        "  attention2 = tf.keras.layers.Dropout(rate=dropout)(attention2)\n",
        "  attention2 = tf.keras.layers.LayerNormalization(\n",
        "      epsilon=1e-6)(attention2 + attention1)\n",
        "\n",
        "  outputs = tf.keras.layers.Dense(units=units, activation='relu')(attention2)\n",
        "  outputs = tf.keras.layers.Dense(units=d_model)(outputs)\n",
        "  outputs = tf.keras.layers.Dropout(rate=dropout)(outputs)\n",
        "  outputs = tf.keras.layers.LayerNormalization(\n",
        "      epsilon=1e-6)(outputs + attention2)\n",
        "\n",
        "  return tf.keras.Model(\n",
        "      inputs=[inputs, enc_outputs, look_ahead_mask, padding_mask],\n",
        "      outputs=outputs,\n",
        "      name=name)\n",
        "  \n",
        "def decoder(vocab_size,\n",
        "            num_layers,\n",
        "            units,\n",
        "            d_model,\n",
        "            num_heads,\n",
        "            dropout,\n",
        "            name='decoder'):\n",
        "  inputs = tf.keras.Input(shape=(None,), name='inputs')\n",
        "  enc_outputs = tf.keras.Input(shape=(None, d_model), name='encoder_outputs')\n",
        "  look_ahead_mask = tf.keras.Input(\n",
        "      shape=(1, None, None), name='look_ahead_mask')\n",
        "  padding_mask = tf.keras.Input(shape=(1, 1, None), name='padding_mask')\n",
        "  \n",
        "  embeddings = tf.keras.layers.Embedding(vocab_size, d_model)(inputs)\n",
        "  embeddings *= tf.math.sqrt(tf.cast(d_model, tf.float32))\n",
        "  embeddings = PositionalEncoding(vocab_size, d_model)(embeddings)\n",
        "\n",
        "  outputs = tf.keras.layers.Dropout(rate=dropout)(embeddings)\n",
        "\n",
        "  for i in range(num_layers):\n",
        "    outputs = decoder_layer(\n",
        "        units=units,\n",
        "        d_model=d_model,\n",
        "        num_heads=num_heads,\n",
        "        dropout=dropout,\n",
        "        name='decoder_layer_{}'.format(i),\n",
        "    )(inputs=[outputs, enc_outputs, look_ahead_mask, padding_mask])\n",
        "\n",
        "  return tf.keras.Model(\n",
        "      inputs=[inputs, enc_outputs, look_ahead_mask, padding_mask],\n",
        "      outputs=outputs,\n",
        "      name=name)\n",
        "  \n",
        "def transformer(vocab_size,\n",
        "                num_layers,\n",
        "                units,\n",
        "                d_model,\n",
        "                num_heads,\n",
        "                dropout,\n",
        "                name=\"transformer\"):\n",
        "  inputs = tf.keras.Input(shape=(None,), name=\"inputs\")\n",
        "  dec_inputs = tf.keras.Input(shape=(None,), name=\"dec_inputs\")\n",
        "\n",
        "  enc_padding_mask = tf.keras.layers.Lambda(\n",
        "      create_padding_mask, output_shape=(1, 1, None),\n",
        "      name='enc_padding_mask')(inputs)\n",
        "  # mask the future tokens for decoder inputs at the 1st attention block\n",
        "  look_ahead_mask = tf.keras.layers.Lambda(\n",
        "      create_look_ahead_mask,\n",
        "      output_shape=(1, None, None),\n",
        "      name='look_ahead_mask')(dec_inputs)\n",
        "  # mask the encoder outputs for the 2nd attention block\n",
        "  dec_padding_mask = tf.keras.layers.Lambda(\n",
        "      create_padding_mask, output_shape=(1, 1, None),\n",
        "      name='dec_padding_mask')(inputs)\n",
        "\n",
        "  enc_outputs = encoder(\n",
        "      vocab_size=vocab_size,\n",
        "      num_layers=num_layers,\n",
        "      units=units,\n",
        "      d_model=d_model,\n",
        "      num_heads=num_heads,\n",
        "      dropout=dropout,\n",
        "  )(inputs=[inputs, enc_padding_mask])\n",
        "\n",
        "  dec_outputs = decoder(\n",
        "      vocab_size=vocab_size,\n",
        "      num_layers=num_layers,\n",
        "      units=units,\n",
        "      d_model=d_model,\n",
        "      num_heads=num_heads,\n",
        "      dropout=dropout,\n",
        "  )(inputs=[dec_inputs, enc_outputs, look_ahead_mask, dec_padding_mask])\n",
        "\n",
        "  outputs = tf.keras.layers.Dense(units=vocab_size, name=\"outputs\")(dec_outputs)\n",
        "\n",
        "  return tf.keras.Model(inputs=[inputs, dec_inputs], outputs=outputs, name=name)"
      ],
      "execution_count": null,
      "outputs": []
    },
    {
      "cell_type": "code",
      "metadata": {
        "id": "d4kPBiQkLF8B"
      },
      "source": [
        "tf.keras.backend.clear_session()\n",
        "\n",
        "# NUM_LAYERS = 2\n",
        "NUM_LAYERS = 1\n",
        "D_MODEL = 128\n",
        "NUM_HEADS = 4\n",
        "UNITS = 256\n",
        "DROPOUT = 0.2\n",
        "\n",
        "\n",
        "model = transformer(\n",
        "    vocab_size=VOCAB_SIZE,\n",
        "    num_layers=NUM_LAYERS,\n",
        "    units=UNITS,\n",
        "    d_model=D_MODEL,\n",
        "    num_heads=NUM_HEADS,\n",
        "    dropout=DROPOUT)"
      ],
      "execution_count": null,
      "outputs": []
    },
    {
      "cell_type": "code",
      "metadata": {
        "id": "WaxW16nJLK9E"
      },
      "source": [
        "def loss_function(y_true, y_pred):\n",
        "  y_true = tf.reshape(y_true, shape=(-1, MAX_LENGTH - 1))\n",
        "  \n",
        "  loss = tf.keras.losses.SparseCategoricalCrossentropy(\n",
        "      from_logits=True, reduction='none')(y_true, y_pred)\n",
        "\n",
        "  mask = tf.cast(tf.not_equal(y_true, 0), tf.float32)\n",
        "  loss = tf.multiply(loss, mask)\n",
        "\n",
        "  return tf.reduce_mean(loss)"
      ],
      "execution_count": null,
      "outputs": []
    },
    {
      "cell_type": "code",
      "metadata": {
        "id": "5rMmAF6jLONf"
      },
      "source": [
        "class CustomSchedule(tf.keras.optimizers.schedules.LearningRateSchedule):\n",
        "\n",
        "  def __init__(self, d_model, warmup_steps=4000):\n",
        "    super(CustomSchedule, self).__init__()\n",
        "\n",
        "    self.d_model = d_model\n",
        "    self.d_model = tf.cast(self.d_model, tf.float32)\n",
        "\n",
        "    self.warmup_steps = warmup_steps\n",
        "\n",
        "  def __call__(self, step):\n",
        "    arg1 = tf.math.rsqrt(step)\n",
        "    arg2 = step * (self.warmup_steps**-1.5)\n",
        "\n",
        "    return tf.math.rsqrt(self.d_model) * tf.math.minimum(arg1, arg2)"
      ],
      "execution_count": null,
      "outputs": []
    },
    {
      "cell_type": "code",
      "metadata": {
        "id": "9XDXvuc8Tj6J"
      },
      "source": [
        "learning_rate = CustomSchedule(D_MODEL)\n",
        "\n",
        "optimizer = tf.keras.optimizers.Adam(\n",
        "    learning_rate, beta_1=0.9, beta_2=0.98, epsilon=1e-9)\n",
        "\n",
        "def accuracy(y_true, y_pred):\n",
        "  # ensure labels have shape (batch_size, MAX_LENGTH - 1)\n",
        "  y_true = tf.reshape(y_true, shape=(-1, MAX_LENGTH - 1))\n",
        "  return tf.keras.metrics.sparse_categorical_accuracy(y_true, y_pred)\n",
        "\n",
        "model.compile(optimizer=optimizer, loss=loss_function, metrics=[accuracy])"
      ],
      "execution_count": null,
      "outputs": []
    },
    {
      "cell_type": "code",
      "metadata": {
        "id": "Udey1pWqABXR"
      },
      "source": [
        "EPOCHS = 250"
      ],
      "execution_count": null,
      "outputs": []
    },
    {
      "cell_type": "code",
      "metadata": {
        "id": "7zktfjye0Q_f"
      },
      "source": [
        "model.summary()"
      ],
      "execution_count": null,
      "outputs": []
    },
    {
      "cell_type": "code",
      "metadata": {
        "colab": {
          "base_uri": "https://localhost:8080/"
        },
        "id": "AVHbISTxTj8d",
        "outputId": "615b530a-6959-4c62-a265-fd9a06043d71"
      },
      "source": [
        "model.fit(dataset, epochs=EPOCHS)"
      ],
      "execution_count": null,
      "outputs": [
        {
          "output_type": "stream",
          "text": [
            "Epoch 1/250\n",
            "6/6 [==============================] - 6s 322ms/step - loss: 1.1527 - accuracy: 3.2673e-05\n",
            "Epoch 2/250\n",
            "6/6 [==============================] - 2s 316ms/step - loss: 1.1489 - accuracy: 4.4594e-05\n",
            "Epoch 3/250\n",
            "6/6 [==============================] - 2s 314ms/step - loss: 1.1415 - accuracy: 6.7668e-05\n",
            "Epoch 4/250\n",
            "6/6 [==============================] - 2s 316ms/step - loss: 1.1514 - accuracy: 1.1372e-04\n",
            "Epoch 5/250\n",
            "6/6 [==============================] - 2s 317ms/step - loss: 1.1378 - accuracy: 1.7569e-04\n",
            "Epoch 6/250\n",
            "6/6 [==============================] - 2s 316ms/step - loss: 1.1577 - accuracy: 2.1275e-04\n",
            "Epoch 7/250\n",
            "6/6 [==============================] - 2s 316ms/step - loss: 1.1321 - accuracy: 3.3007e-04\n",
            "Epoch 8/250\n",
            "6/6 [==============================] - 2s 317ms/step - loss: 1.1452 - accuracy: 6.0363e-04\n",
            "Epoch 9/250\n",
            "6/6 [==============================] - 2s 315ms/step - loss: 1.1360 - accuracy: 0.0011\n",
            "Epoch 10/250\n",
            "6/6 [==============================] - 2s 314ms/step - loss: 1.1192 - accuracy: 0.0019\n",
            "Epoch 11/250\n",
            "6/6 [==============================] - 2s 315ms/step - loss: 1.1292 - accuracy: 0.0026\n",
            "Epoch 12/250\n",
            "6/6 [==============================] - 2s 320ms/step - loss: 1.1426 - accuracy: 0.0034\n",
            "Epoch 13/250\n",
            "6/6 [==============================] - 2s 315ms/step - loss: 1.1038 - accuracy: 0.0050\n",
            "Epoch 14/250\n",
            "6/6 [==============================] - 2s 314ms/step - loss: 1.1166 - accuracy: 0.0080\n",
            "Epoch 15/250\n",
            "6/6 [==============================] - 2s 316ms/step - loss: 1.0968 - accuracy: 0.0125\n",
            "Epoch 16/250\n",
            "6/6 [==============================] - 2s 317ms/step - loss: 1.1136 - accuracy: 0.0157\n",
            "Epoch 17/250\n",
            "6/6 [==============================] - 2s 315ms/step - loss: 1.0939 - accuracy: 0.0175\n",
            "Epoch 18/250\n",
            "6/6 [==============================] - 2s 315ms/step - loss: 1.0853 - accuracy: 0.0182\n",
            "Epoch 19/250\n",
            "6/6 [==============================] - 2s 315ms/step - loss: 1.0841 - accuracy: 0.0176\n",
            "Epoch 20/250\n",
            "6/6 [==============================] - 2s 318ms/step - loss: 1.0770 - accuracy: 0.0173\n",
            "Epoch 21/250\n",
            "6/6 [==============================] - 2s 312ms/step - loss: 1.0583 - accuracy: 0.0173\n",
            "Epoch 22/250\n",
            "6/6 [==============================] - 2s 315ms/step - loss: 1.0604 - accuracy: 0.0170\n",
            "Epoch 23/250\n",
            "6/6 [==============================] - 2s 316ms/step - loss: 1.0562 - accuracy: 0.0166\n",
            "Epoch 24/250\n",
            "6/6 [==============================] - 2s 316ms/step - loss: 1.0379 - accuracy: 0.0166\n",
            "Epoch 25/250\n",
            "6/6 [==============================] - 2s 313ms/step - loss: 1.0560 - accuracy: 0.0163\n",
            "Epoch 26/250\n",
            "6/6 [==============================] - 2s 314ms/step - loss: 1.0380 - accuracy: 0.0163\n",
            "Epoch 27/250\n",
            "6/6 [==============================] - 2s 315ms/step - loss: 1.0233 - accuracy: 0.0162\n",
            "Epoch 28/250\n",
            "6/6 [==============================] - 2s 314ms/step - loss: 1.0152 - accuracy: 0.0161\n",
            "Epoch 29/250\n",
            "6/6 [==============================] - 2s 315ms/step - loss: 1.0256 - accuracy: 0.0162\n",
            "Epoch 30/250\n",
            "6/6 [==============================] - 2s 314ms/step - loss: 0.9990 - accuracy: 0.0162\n",
            "Epoch 31/250\n",
            "6/6 [==============================] - 2s 314ms/step - loss: 1.0050 - accuracy: 0.0162\n",
            "Epoch 32/250\n",
            "6/6 [==============================] - 2s 315ms/step - loss: 0.9884 - accuracy: 0.0164\n",
            "Epoch 33/250\n",
            "6/6 [==============================] - 2s 314ms/step - loss: 0.9800 - accuracy: 0.0166\n",
            "Epoch 34/250\n",
            "6/6 [==============================] - 2s 317ms/step - loss: 0.9777 - accuracy: 0.0170\n",
            "Epoch 35/250\n",
            "6/6 [==============================] - 2s 314ms/step - loss: 0.9835 - accuracy: 0.0174\n",
            "Epoch 36/250\n",
            "6/6 [==============================] - 2s 314ms/step - loss: 0.9614 - accuracy: 0.0186\n",
            "Epoch 37/250\n",
            "6/6 [==============================] - 2s 312ms/step - loss: 0.9534 - accuracy: 0.0202\n",
            "Epoch 38/250\n",
            "6/6 [==============================] - 2s 315ms/step - loss: 0.9463 - accuracy: 0.0219\n",
            "Epoch 39/250\n",
            "6/6 [==============================] - 2s 312ms/step - loss: 0.9371 - accuracy: 0.0244\n",
            "Epoch 40/250\n",
            "6/6 [==============================] - 2s 314ms/step - loss: 0.9268 - accuracy: 0.0265\n",
            "Epoch 41/250\n",
            "6/6 [==============================] - 2s 315ms/step - loss: 0.9191 - accuracy: 0.0277\n",
            "Epoch 42/250\n",
            "6/6 [==============================] - 2s 313ms/step - loss: 0.9137 - accuracy: 0.0287\n",
            "Epoch 43/250\n",
            "6/6 [==============================] - 2s 314ms/step - loss: 0.9047 - accuracy: 0.0303\n",
            "Epoch 44/250\n",
            "6/6 [==============================] - 2s 315ms/step - loss: 0.8746 - accuracy: 0.0316\n",
            "Epoch 45/250\n",
            "6/6 [==============================] - 2s 315ms/step - loss: 0.8695 - accuracy: 0.0332\n",
            "Epoch 46/250\n",
            "6/6 [==============================] - 2s 313ms/step - loss: 0.8814 - accuracy: 0.0345\n",
            "Epoch 47/250\n",
            "6/6 [==============================] - 2s 312ms/step - loss: 0.8808 - accuracy: 0.0363\n",
            "Epoch 48/250\n",
            "6/6 [==============================] - 2s 316ms/step - loss: 0.8514 - accuracy: 0.0373\n",
            "Epoch 49/250\n",
            "6/6 [==============================] - 2s 314ms/step - loss: 0.8301 - accuracy: 0.0384\n",
            "Epoch 50/250\n",
            "6/6 [==============================] - 2s 314ms/step - loss: 0.8275 - accuracy: 0.0391\n",
            "Epoch 51/250\n",
            "6/6 [==============================] - 2s 313ms/step - loss: 0.8204 - accuracy: 0.0398\n",
            "Epoch 52/250\n",
            "6/6 [==============================] - 2s 313ms/step - loss: 0.8203 - accuracy: 0.0408\n",
            "Epoch 53/250\n",
            "6/6 [==============================] - 2s 317ms/step - loss: 0.8011 - accuracy: 0.0421\n",
            "Epoch 54/250\n",
            "6/6 [==============================] - 2s 314ms/step - loss: 0.7806 - accuracy: 0.0428\n",
            "Epoch 55/250\n",
            "6/6 [==============================] - 2s 314ms/step - loss: 0.7874 - accuracy: 0.0436\n",
            "Epoch 56/250\n",
            "6/6 [==============================] - 2s 314ms/step - loss: 0.7712 - accuracy: 0.0444\n",
            "Epoch 57/250\n",
            "6/6 [==============================] - 2s 313ms/step - loss: 0.7677 - accuracy: 0.0453\n",
            "Epoch 58/250\n",
            "6/6 [==============================] - 2s 315ms/step - loss: 0.7644 - accuracy: 0.0458\n",
            "Epoch 59/250\n",
            "6/6 [==============================] - 2s 314ms/step - loss: 0.7531 - accuracy: 0.0463\n",
            "Epoch 60/250\n",
            "6/6 [==============================] - 2s 314ms/step - loss: 0.7492 - accuracy: 0.0473\n",
            "Epoch 61/250\n",
            "6/6 [==============================] - 2s 319ms/step - loss: 0.7372 - accuracy: 0.0478\n",
            "Epoch 62/250\n",
            "6/6 [==============================] - 2s 319ms/step - loss: 0.7273 - accuracy: 0.0486\n",
            "Epoch 63/250\n",
            "6/6 [==============================] - 2s 313ms/step - loss: 0.7188 - accuracy: 0.0492\n",
            "Epoch 64/250\n",
            "6/6 [==============================] - 2s 315ms/step - loss: 0.7100 - accuracy: 0.0493\n",
            "Epoch 65/250\n",
            "6/6 [==============================] - 2s 312ms/step - loss: 0.7043 - accuracy: 0.0499\n",
            "Epoch 66/250\n",
            "6/6 [==============================] - 2s 312ms/step - loss: 0.7018 - accuracy: 0.0500\n",
            "Epoch 67/250\n",
            "6/6 [==============================] - 2s 318ms/step - loss: 0.6982 - accuracy: 0.0504\n",
            "Epoch 68/250\n",
            "6/6 [==============================] - 2s 311ms/step - loss: 0.6816 - accuracy: 0.0506\n",
            "Epoch 69/250\n",
            "6/6 [==============================] - 2s 316ms/step - loss: 0.6793 - accuracy: 0.0506\n",
            "Epoch 70/250\n",
            "6/6 [==============================] - 2s 313ms/step - loss: 0.6605 - accuracy: 0.0509\n",
            "Epoch 71/250\n",
            "6/6 [==============================] - 2s 313ms/step - loss: 0.6633 - accuracy: 0.0511\n",
            "Epoch 72/250\n",
            "6/6 [==============================] - 2s 316ms/step - loss: 0.6543 - accuracy: 0.0511\n",
            "Epoch 73/250\n",
            "6/6 [==============================] - 2s 314ms/step - loss: 0.6508 - accuracy: 0.0511\n",
            "Epoch 74/250\n",
            "6/6 [==============================] - 2s 314ms/step - loss: 0.6325 - accuracy: 0.0513\n",
            "Epoch 75/250\n",
            "6/6 [==============================] - 2s 314ms/step - loss: 0.6206 - accuracy: 0.0515\n",
            "Epoch 76/250\n",
            "6/6 [==============================] - 2s 313ms/step - loss: 0.6208 - accuracy: 0.0515\n",
            "Epoch 77/250\n",
            "6/6 [==============================] - 2s 313ms/step - loss: 0.6045 - accuracy: 0.0520\n",
            "Epoch 78/250\n",
            "6/6 [==============================] - 2s 317ms/step - loss: 0.6035 - accuracy: 0.0523\n",
            "Epoch 79/250\n",
            "6/6 [==============================] - 2s 315ms/step - loss: 0.5996 - accuracy: 0.0530\n",
            "Epoch 80/250\n",
            "6/6 [==============================] - 2s 317ms/step - loss: 0.5822 - accuracy: 0.0532\n",
            "Epoch 81/250\n",
            "6/6 [==============================] - 2s 313ms/step - loss: 0.5770 - accuracy: 0.0537\n",
            "Epoch 82/250\n",
            "6/6 [==============================] - 2s 314ms/step - loss: 0.5766 - accuracy: 0.0538\n",
            "Epoch 83/250\n",
            "6/6 [==============================] - 2s 315ms/step - loss: 0.5453 - accuracy: 0.0549\n",
            "Epoch 84/250\n",
            "6/6 [==============================] - 2s 314ms/step - loss: 0.5524 - accuracy: 0.0551\n",
            "Epoch 85/250\n",
            "6/6 [==============================] - 2s 315ms/step - loss: 0.5397 - accuracy: 0.0554\n",
            "Epoch 86/250\n",
            "6/6 [==============================] - 2s 318ms/step - loss: 0.5419 - accuracy: 0.0564\n",
            "Epoch 87/250\n",
            "6/6 [==============================] - 2s 315ms/step - loss: 0.5314 - accuracy: 0.0566\n",
            "Epoch 88/250\n",
            "6/6 [==============================] - 2s 317ms/step - loss: 0.5187 - accuracy: 0.0570\n",
            "Epoch 89/250\n",
            "6/6 [==============================] - 2s 313ms/step - loss: 0.5269 - accuracy: 0.0575\n",
            "Epoch 90/250\n",
            "6/6 [==============================] - 2s 316ms/step - loss: 0.5192 - accuracy: 0.0581\n",
            "Epoch 91/250\n",
            "6/6 [==============================] - 2s 313ms/step - loss: 0.5040 - accuracy: 0.0589\n",
            "Epoch 92/250\n",
            "6/6 [==============================] - 2s 313ms/step - loss: 0.4885 - accuracy: 0.0593\n",
            "Epoch 93/250\n",
            "6/6 [==============================] - 2s 314ms/step - loss: 0.4933 - accuracy: 0.0601\n",
            "Epoch 94/250\n",
            "6/6 [==============================] - 2s 317ms/step - loss: 0.4905 - accuracy: 0.0604\n",
            "Epoch 95/250\n",
            "6/6 [==============================] - 2s 313ms/step - loss: 0.4806 - accuracy: 0.0609\n",
            "Epoch 96/250\n",
            "6/6 [==============================] - 2s 317ms/step - loss: 0.4666 - accuracy: 0.0615\n",
            "Epoch 97/250\n",
            "6/6 [==============================] - 2s 315ms/step - loss: 0.4712 - accuracy: 0.0619\n",
            "Epoch 98/250\n",
            "6/6 [==============================] - 2s 314ms/step - loss: 0.4613 - accuracy: 0.0629\n",
            "Epoch 99/250\n",
            "6/6 [==============================] - 2s 313ms/step - loss: 0.4662 - accuracy: 0.0632\n",
            "Epoch 100/250\n",
            "6/6 [==============================] - 2s 314ms/step - loss: 0.4537 - accuracy: 0.0644\n",
            "Epoch 101/250\n",
            "6/6 [==============================] - 2s 314ms/step - loss: 0.4483 - accuracy: 0.0642\n",
            "Epoch 102/250\n",
            "6/6 [==============================] - 2s 314ms/step - loss: 0.4340 - accuracy: 0.0651\n",
            "Epoch 103/250\n",
            "6/6 [==============================] - 2s 315ms/step - loss: 0.4373 - accuracy: 0.0657\n",
            "Epoch 104/250\n",
            "6/6 [==============================] - 2s 316ms/step - loss: 0.4348 - accuracy: 0.0667\n",
            "Epoch 105/250\n",
            "6/6 [==============================] - 2s 313ms/step - loss: 0.4279 - accuracy: 0.0671\n",
            "Epoch 106/250\n",
            "6/6 [==============================] - 2s 314ms/step - loss: 0.4285 - accuracy: 0.0675\n",
            "Epoch 107/250\n",
            "6/6 [==============================] - 2s 314ms/step - loss: 0.4209 - accuracy: 0.0683\n",
            "Epoch 108/250\n",
            "6/6 [==============================] - 2s 314ms/step - loss: 0.4097 - accuracy: 0.0695\n",
            "Epoch 109/250\n",
            "6/6 [==============================] - 2s 316ms/step - loss: 0.4088 - accuracy: 0.0704\n",
            "Epoch 110/250\n",
            "6/6 [==============================] - 2s 315ms/step - loss: 0.4004 - accuracy: 0.0707\n",
            "Epoch 111/250\n",
            "6/6 [==============================] - 2s 315ms/step - loss: 0.3893 - accuracy: 0.0710\n",
            "Epoch 112/250\n",
            "6/6 [==============================] - 2s 315ms/step - loss: 0.3942 - accuracy: 0.0720\n",
            "Epoch 113/250\n",
            "6/6 [==============================] - 2s 317ms/step - loss: 0.3824 - accuracy: 0.0722\n",
            "Epoch 114/250\n",
            "6/6 [==============================] - 2s 314ms/step - loss: 0.3916 - accuracy: 0.0737\n",
            "Epoch 115/250\n",
            "6/6 [==============================] - 2s 316ms/step - loss: 0.3763 - accuracy: 0.0736\n",
            "Epoch 116/250\n",
            "6/6 [==============================] - 2s 315ms/step - loss: 0.3712 - accuracy: 0.0745\n",
            "Epoch 117/250\n",
            "6/6 [==============================] - 2s 314ms/step - loss: 0.3706 - accuracy: 0.0750\n",
            "Epoch 118/250\n",
            "6/6 [==============================] - 2s 313ms/step - loss: 0.3632 - accuracy: 0.0764\n",
            "Epoch 119/250\n",
            "6/6 [==============================] - 2s 314ms/step - loss: 0.3636 - accuracy: 0.0771\n",
            "Epoch 120/250\n",
            "6/6 [==============================] - 2s 315ms/step - loss: 0.3559 - accuracy: 0.0778\n",
            "Epoch 121/250\n",
            "6/6 [==============================] - 2s 314ms/step - loss: 0.3516 - accuracy: 0.0786\n",
            "Epoch 122/250\n",
            "6/6 [==============================] - 2s 314ms/step - loss: 0.3475 - accuracy: 0.0794\n",
            "Epoch 123/250\n",
            "6/6 [==============================] - 2s 314ms/step - loss: 0.3337 - accuracy: 0.0799\n",
            "Epoch 124/250\n",
            "6/6 [==============================] - 2s 316ms/step - loss: 0.3351 - accuracy: 0.0802\n",
            "Epoch 125/250\n",
            "6/6 [==============================] - 2s 317ms/step - loss: 0.3370 - accuracy: 0.0811\n",
            "Epoch 126/250\n",
            "6/6 [==============================] - 2s 314ms/step - loss: 0.3271 - accuracy: 0.0815\n",
            "Epoch 127/250\n",
            "6/6 [==============================] - 2s 315ms/step - loss: 0.3285 - accuracy: 0.0827\n",
            "Epoch 128/250\n",
            "6/6 [==============================] - 2s 314ms/step - loss: 0.3239 - accuracy: 0.0835\n",
            "Epoch 129/250\n",
            "6/6 [==============================] - 2s 314ms/step - loss: 0.3234 - accuracy: 0.0847\n",
            "Epoch 130/250\n",
            "6/6 [==============================] - 2s 310ms/step - loss: 0.3224 - accuracy: 0.0851\n",
            "Epoch 131/250\n",
            "6/6 [==============================] - 2s 316ms/step - loss: 0.3091 - accuracy: 0.0856\n",
            "Epoch 132/250\n",
            "6/6 [==============================] - 2s 314ms/step - loss: 0.3060 - accuracy: 0.0860\n",
            "Epoch 133/250\n",
            "6/6 [==============================] - 2s 313ms/step - loss: 0.3049 - accuracy: 0.0866\n",
            "Epoch 134/250\n",
            "6/6 [==============================] - 2s 314ms/step - loss: 0.2922 - accuracy: 0.0868\n",
            "Epoch 135/250\n",
            "6/6 [==============================] - 2s 317ms/step - loss: 0.2948 - accuracy: 0.0882\n",
            "Epoch 136/250\n",
            "6/6 [==============================] - 2s 315ms/step - loss: 0.2893 - accuracy: 0.0882\n",
            "Epoch 137/250\n",
            "6/6 [==============================] - 2s 314ms/step - loss: 0.2892 - accuracy: 0.0894\n",
            "Epoch 138/250\n",
            "6/6 [==============================] - 2s 317ms/step - loss: 0.2782 - accuracy: 0.0894\n",
            "Epoch 139/250\n",
            "6/6 [==============================] - 2s 315ms/step - loss: 0.2790 - accuracy: 0.0910\n",
            "Epoch 140/250\n",
            "6/6 [==============================] - 2s 316ms/step - loss: 0.2714 - accuracy: 0.0904\n",
            "Epoch 141/250\n",
            "6/6 [==============================] - 2s 316ms/step - loss: 0.2673 - accuracy: 0.0910\n",
            "Epoch 142/250\n",
            "6/6 [==============================] - 2s 313ms/step - loss: 0.2681 - accuracy: 0.0920\n",
            "Epoch 143/250\n",
            "6/6 [==============================] - 2s 316ms/step - loss: 0.2679 - accuracy: 0.0927\n",
            "Epoch 144/250\n",
            "6/6 [==============================] - 2s 313ms/step - loss: 0.2525 - accuracy: 0.0926\n",
            "Epoch 145/250\n",
            "6/6 [==============================] - 2s 315ms/step - loss: 0.2562 - accuracy: 0.0940\n",
            "Epoch 146/250\n",
            "6/6 [==============================] - 2s 313ms/step - loss: 0.2512 - accuracy: 0.0937\n",
            "Epoch 147/250\n",
            "6/6 [==============================] - 2s 313ms/step - loss: 0.2499 - accuracy: 0.0952\n",
            "Epoch 148/250\n",
            "6/6 [==============================] - 2s 316ms/step - loss: 0.2453 - accuracy: 0.0954\n",
            "Epoch 149/250\n",
            "6/6 [==============================] - 2s 315ms/step - loss: 0.2393 - accuracy: 0.0960\n",
            "Epoch 150/250\n",
            "6/6 [==============================] - 2s 316ms/step - loss: 0.2313 - accuracy: 0.0961\n",
            "Epoch 151/250\n",
            "6/6 [==============================] - 2s 315ms/step - loss: 0.2319 - accuracy: 0.0969\n",
            "Epoch 152/250\n",
            "6/6 [==============================] - 2s 315ms/step - loss: 0.2300 - accuracy: 0.0987\n",
            "Epoch 153/250\n",
            "6/6 [==============================] - 2s 315ms/step - loss: 0.2256 - accuracy: 0.0983\n",
            "Epoch 154/250\n",
            "6/6 [==============================] - 2s 316ms/step - loss: 0.2260 - accuracy: 0.0988\n",
            "Epoch 155/250\n",
            "6/6 [==============================] - 2s 315ms/step - loss: 0.2214 - accuracy: 0.0991\n",
            "Epoch 156/250\n",
            "6/6 [==============================] - 2s 314ms/step - loss: 0.2172 - accuracy: 0.1002\n",
            "Epoch 157/250\n",
            "6/6 [==============================] - 2s 315ms/step - loss: 0.2106 - accuracy: 0.1003\n",
            "Epoch 158/250\n",
            "6/6 [==============================] - 2s 315ms/step - loss: 0.2061 - accuracy: 0.1007\n",
            "Epoch 159/250\n",
            "6/6 [==============================] - 2s 318ms/step - loss: 0.2028 - accuracy: 0.1005\n",
            "Epoch 160/250\n",
            "6/6 [==============================] - 2s 316ms/step - loss: 0.2007 - accuracy: 0.1018\n",
            "Epoch 161/250\n",
            "6/6 [==============================] - 2s 312ms/step - loss: 0.1924 - accuracy: 0.1017\n",
            "Epoch 162/250\n",
            "6/6 [==============================] - 2s 314ms/step - loss: 0.1948 - accuracy: 0.1032\n",
            "Epoch 163/250\n",
            "6/6 [==============================] - 2s 315ms/step - loss: 0.1896 - accuracy: 0.1039\n",
            "Epoch 164/250\n",
            "6/6 [==============================] - 2s 316ms/step - loss: 0.1863 - accuracy: 0.1039\n",
            "Epoch 165/250\n",
            "6/6 [==============================] - 2s 315ms/step - loss: 0.1836 - accuracy: 0.1045\n",
            "Epoch 166/250\n",
            "6/6 [==============================] - 2s 315ms/step - loss: 0.1799 - accuracy: 0.1048\n",
            "Epoch 167/250\n",
            "6/6 [==============================] - 2s 315ms/step - loss: 0.1774 - accuracy: 0.1060\n",
            "Epoch 168/250\n",
            "6/6 [==============================] - 2s 313ms/step - loss: 0.1687 - accuracy: 0.1053\n",
            "Epoch 169/250\n",
            "6/6 [==============================] - 2s 315ms/step - loss: 0.1701 - accuracy: 0.1068\n",
            "Epoch 170/250\n",
            "6/6 [==============================] - 2s 315ms/step - loss: 0.1628 - accuracy: 0.1057\n",
            "Epoch 171/250\n",
            "6/6 [==============================] - 2s 315ms/step - loss: 0.1653 - accuracy: 0.1082\n",
            "Epoch 172/250\n",
            "6/6 [==============================] - 2s 315ms/step - loss: 0.1579 - accuracy: 0.1080\n",
            "Epoch 173/250\n",
            "6/6 [==============================] - 2s 314ms/step - loss: 0.1564 - accuracy: 0.1084\n",
            "Epoch 174/250\n",
            "6/6 [==============================] - 2s 315ms/step - loss: 0.1558 - accuracy: 0.1096\n",
            "Epoch 175/250\n",
            "6/6 [==============================] - 2s 315ms/step - loss: 0.1480 - accuracy: 0.1094\n",
            "Epoch 176/250\n",
            "6/6 [==============================] - 2s 316ms/step - loss: 0.1455 - accuracy: 0.1108\n",
            "Epoch 177/250\n",
            "6/6 [==============================] - 2s 316ms/step - loss: 0.1419 - accuracy: 0.1098\n",
            "Epoch 178/250\n",
            "6/6 [==============================] - 2s 316ms/step - loss: 0.1406 - accuracy: 0.1108\n",
            "Epoch 179/250\n",
            "6/6 [==============================] - 2s 313ms/step - loss: 0.1391 - accuracy: 0.1120\n",
            "Epoch 180/250\n",
            "6/6 [==============================] - 2s 314ms/step - loss: 0.1365 - accuracy: 0.1116\n",
            "Epoch 181/250\n",
            "6/6 [==============================] - 2s 316ms/step - loss: 0.1322 - accuracy: 0.1132\n",
            "Epoch 182/250\n",
            "6/6 [==============================] - 2s 316ms/step - loss: 0.1303 - accuracy: 0.1130\n",
            "Epoch 183/250\n",
            "6/6 [==============================] - 2s 316ms/step - loss: 0.1246 - accuracy: 0.1132\n",
            "Epoch 184/250\n",
            "6/6 [==============================] - 2s 319ms/step - loss: 0.1233 - accuracy: 0.1136\n",
            "Epoch 185/250\n",
            "6/6 [==============================] - 2s 314ms/step - loss: 0.1220 - accuracy: 0.1138\n",
            "Epoch 186/250\n",
            "6/6 [==============================] - 2s 314ms/step - loss: 0.1201 - accuracy: 0.1149\n",
            "Epoch 187/250\n",
            "6/6 [==============================] - 2s 314ms/step - loss: 0.1146 - accuracy: 0.1151\n",
            "Epoch 188/250\n",
            "6/6 [==============================] - 2s 315ms/step - loss: 0.1118 - accuracy: 0.1161\n",
            "Epoch 189/250\n",
            "6/6 [==============================] - 2s 316ms/step - loss: 0.1132 - accuracy: 0.1178\n",
            "Epoch 190/250\n",
            "6/6 [==============================] - 2s 316ms/step - loss: 0.1069 - accuracy: 0.1174\n",
            "Epoch 191/250\n",
            "6/6 [==============================] - 2s 317ms/step - loss: 0.1057 - accuracy: 0.1173\n",
            "Epoch 192/250\n",
            "6/6 [==============================] - 2s 316ms/step - loss: 0.1038 - accuracy: 0.1177\n",
            "Epoch 193/250\n",
            "6/6 [==============================] - 2s 315ms/step - loss: 0.1018 - accuracy: 0.1198\n",
            "Epoch 194/250\n",
            "6/6 [==============================] - 2s 317ms/step - loss: 0.0967 - accuracy: 0.1198\n",
            "Epoch 195/250\n",
            "6/6 [==============================] - 2s 315ms/step - loss: 0.0971 - accuracy: 0.1189\n",
            "Epoch 196/250\n",
            "6/6 [==============================] - 2s 315ms/step - loss: 0.0933 - accuracy: 0.1199\n",
            "Epoch 197/250\n",
            "6/6 [==============================] - 2s 315ms/step - loss: 0.0902 - accuracy: 0.1196\n",
            "Epoch 198/250\n",
            "6/6 [==============================] - 2s 314ms/step - loss: 0.0884 - accuracy: 0.1209\n",
            "Epoch 199/250\n",
            "6/6 [==============================] - 2s 316ms/step - loss: 0.0877 - accuracy: 0.1223\n",
            "Epoch 200/250\n",
            "6/6 [==============================] - 2s 315ms/step - loss: 0.0849 - accuracy: 0.1216\n",
            "Epoch 201/250\n",
            "6/6 [==============================] - 2s 313ms/step - loss: 0.0834 - accuracy: 0.1237\n",
            "Epoch 202/250\n",
            "6/6 [==============================] - 2s 316ms/step - loss: 0.0818 - accuracy: 0.1243\n",
            "Epoch 203/250\n",
            "6/6 [==============================] - 2s 315ms/step - loss: 0.0777 - accuracy: 0.1239\n",
            "Epoch 204/250\n",
            "6/6 [==============================] - 2s 315ms/step - loss: 0.0750 - accuracy: 0.1234\n",
            "Epoch 205/250\n",
            "6/6 [==============================] - 2s 315ms/step - loss: 0.0735 - accuracy: 0.1254\n",
            "Epoch 206/250\n",
            "6/6 [==============================] - 2s 318ms/step - loss: 0.0716 - accuracy: 0.1249\n",
            "Epoch 207/250\n",
            "6/6 [==============================] - 2s 314ms/step - loss: 0.0701 - accuracy: 0.1258\n",
            "Epoch 208/250\n",
            "6/6 [==============================] - 2s 316ms/step - loss: 0.0683 - accuracy: 0.1251\n",
            "Epoch 209/250\n",
            "6/6 [==============================] - 2s 313ms/step - loss: 0.0662 - accuracy: 0.1265\n",
            "Epoch 210/250\n",
            "6/6 [==============================] - 2s 315ms/step - loss: 0.0642 - accuracy: 0.1260\n",
            "Epoch 211/250\n",
            "6/6 [==============================] - 2s 315ms/step - loss: 0.0638 - accuracy: 0.1280\n",
            "Epoch 212/250\n",
            "6/6 [==============================] - 2s 314ms/step - loss: 0.0602 - accuracy: 0.1279\n",
            "Epoch 213/250\n",
            "6/6 [==============================] - 2s 313ms/step - loss: 0.0567 - accuracy: 0.1267\n",
            "Epoch 214/250\n",
            "6/6 [==============================] - 2s 316ms/step - loss: 0.0565 - accuracy: 0.1274\n",
            "Epoch 215/250\n",
            "6/6 [==============================] - 2s 316ms/step - loss: 0.0532 - accuracy: 0.1273\n",
            "Epoch 216/250\n",
            "6/6 [==============================] - 2s 316ms/step - loss: 0.0523 - accuracy: 0.1278\n",
            "Epoch 217/250\n",
            "6/6 [==============================] - 2s 316ms/step - loss: 0.0507 - accuracy: 0.1288\n",
            "Epoch 218/250\n",
            "6/6 [==============================] - 2s 317ms/step - loss: 0.0484 - accuracy: 0.1293\n",
            "Epoch 219/250\n",
            "6/6 [==============================] - 2s 317ms/step - loss: 0.0495 - accuracy: 0.1307\n",
            "Epoch 220/250\n",
            "6/6 [==============================] - 2s 315ms/step - loss: 0.0478 - accuracy: 0.1308\n",
            "Epoch 221/250\n",
            "6/6 [==============================] - 2s 319ms/step - loss: 0.0455 - accuracy: 0.1301\n",
            "Epoch 222/250\n",
            "6/6 [==============================] - 2s 315ms/step - loss: 0.0438 - accuracy: 0.1316\n",
            "Epoch 223/250\n",
            "6/6 [==============================] - 2s 314ms/step - loss: 0.0421 - accuracy: 0.1295\n",
            "Epoch 224/250\n",
            "6/6 [==============================] - 2s 315ms/step - loss: 0.0409 - accuracy: 0.1321\n",
            "Epoch 225/250\n",
            "6/6 [==============================] - 2s 314ms/step - loss: 0.0404 - accuracy: 0.1330\n",
            "Epoch 226/250\n",
            "6/6 [==============================] - 2s 317ms/step - loss: 0.0390 - accuracy: 0.1333\n",
            "Epoch 227/250\n",
            "6/6 [==============================] - 2s 317ms/step - loss: 0.0372 - accuracy: 0.1322\n",
            "Epoch 228/250\n",
            "6/6 [==============================] - 2s 314ms/step - loss: 0.0368 - accuracy: 0.1332\n",
            "Epoch 229/250\n",
            "6/6 [==============================] - 2s 316ms/step - loss: 0.0350 - accuracy: 0.1329\n",
            "Epoch 230/250\n",
            "6/6 [==============================] - 2s 318ms/step - loss: 0.0335 - accuracy: 0.1326\n",
            "Epoch 231/250\n",
            "6/6 [==============================] - 2s 318ms/step - loss: 0.0322 - accuracy: 0.1328\n",
            "Epoch 232/250\n",
            "6/6 [==============================] - 2s 317ms/step - loss: 0.0311 - accuracy: 0.1326\n",
            "Epoch 233/250\n",
            "6/6 [==============================] - 2s 317ms/step - loss: 0.0314 - accuracy: 0.1319\n",
            "Epoch 234/250\n",
            "6/6 [==============================] - 2s 315ms/step - loss: 0.0290 - accuracy: 0.1315\n",
            "Epoch 235/250\n",
            "6/6 [==============================] - 2s 316ms/step - loss: 0.0284 - accuracy: 0.1326\n",
            "Epoch 236/250\n",
            "6/6 [==============================] - 2s 314ms/step - loss: 0.0275 - accuracy: 0.1324\n",
            "Epoch 237/250\n",
            "6/6 [==============================] - 2s 316ms/step - loss: 0.0262 - accuracy: 0.1345\n",
            "Epoch 238/250\n",
            "6/6 [==============================] - 2s 317ms/step - loss: 0.0260 - accuracy: 0.1351\n",
            "Epoch 239/250\n",
            "6/6 [==============================] - 2s 314ms/step - loss: 0.0241 - accuracy: 0.1328\n",
            "Epoch 240/250\n",
            "6/6 [==============================] - 2s 316ms/step - loss: 0.0242 - accuracy: 0.1348\n",
            "Epoch 241/250\n",
            "6/6 [==============================] - 2s 317ms/step - loss: 0.0232 - accuracy: 0.1348\n",
            "Epoch 242/250\n",
            "6/6 [==============================] - 2s 314ms/step - loss: 0.0222 - accuracy: 0.1333\n",
            "Epoch 243/250\n",
            "6/6 [==============================] - 2s 318ms/step - loss: 0.0218 - accuracy: 0.1346\n",
            "Epoch 244/250\n",
            "6/6 [==============================] - 2s 315ms/step - loss: 0.0201 - accuracy: 0.1333\n",
            "Epoch 245/250\n",
            "6/6 [==============================] - 2s 313ms/step - loss: 0.0195 - accuracy: 0.1319\n",
            "Epoch 246/250\n",
            "6/6 [==============================] - 2s 320ms/step - loss: 0.0191 - accuracy: 0.1334\n",
            "Epoch 247/250\n",
            "6/6 [==============================] - 2s 316ms/step - loss: 0.0189 - accuracy: 0.1353\n",
            "Epoch 248/250\n",
            "6/6 [==============================] - 2s 315ms/step - loss: 0.0181 - accuracy: 0.1345\n",
            "Epoch 249/250\n",
            "6/6 [==============================] - 2s 314ms/step - loss: 0.0169 - accuracy: 0.1331\n",
            "Epoch 250/250\n",
            "6/6 [==============================] - 2s 316ms/step - loss: 0.0168 - accuracy: 0.1349\n"
          ],
          "name": "stdout"
        },
        {
          "output_type": "execute_result",
          "data": {
            "text/plain": [
              "<tensorflow.python.keras.callbacks.History at 0x7f79cefcdf50>"
            ]
          },
          "metadata": {
            "tags": []
          },
          "execution_count": 95
        }
      ]
    },
    {
      "cell_type": "code",
      "metadata": {
        "id": "ctgBKzffNI58"
      },
      "source": [
        "# model.save_weights(path+f'Transformer_kr_{EPOCHS}_layers_{NUM_LAYERS}.ckpt')"
      ],
      "execution_count": null,
      "outputs": []
    },
    {
      "cell_type": "code",
      "metadata": {
        "id": "vR-vDKccX0Xa",
        "colab": {
          "base_uri": "https://localhost:8080/"
        },
        "outputId": "7cbd9c25-6925-44fb-f3d7-0f4be05a3465"
      },
      "source": [
        "# model.load_weights(path+f'Transformer_kr_{EPOCHS}_layers_{NUM_LAYERS}.ckpt')"
      ],
      "execution_count": null,
      "outputs": [
        {
          "output_type": "execute_result",
          "data": {
            "text/plain": [
              "<tensorflow.python.training.tracking.util.CheckpointLoadStatus at 0x7f79ce5aee50>"
            ]
          },
          "metadata": {
            "tags": []
          },
          "execution_count": 98
        }
      ]
    },
    {
      "cell_type": "markdown",
      "metadata": {
        "id": "S2_fVXqe0h-0"
      },
      "source": [
        "## 검증"
      ]
    },
    {
      "cell_type": "code",
      "metadata": {
        "id": "Qvgs4Pf4TkEC"
      },
      "source": [
        "def evaluate(sentence):\n",
        "  sentence = preprocess_sentence(sentence)\n",
        "\n",
        "  sentence = tf.expand_dims(\n",
        "      START_TOKEN + tokenizer.encode(sentence) + END_TOKEN, axis=0)\n",
        "\n",
        "  output = tf.expand_dims(START_TOKEN, 0)\n",
        "\n",
        "  # 디코더의 예측 시작\n",
        "  for i in range(MAX_LENGTH):\n",
        "    predictions = model(inputs=[sentence, output], training=False)\n",
        "\n",
        "    # 현재(마지막) 시점의 예측 단어를 받아온다.\n",
        "    predictions = predictions[:, -1:, :]\n",
        "    predicted_id = tf.cast(tf.argmax(predictions, axis=-1), tf.int32)\n",
        "\n",
        "    # 만약 마지막 시점의 예측 단어가 종료 토큰이라면 예측을 중단\n",
        "    if tf.equal(predicted_id, END_TOKEN[0]):\n",
        "      break\n",
        "\n",
        "    # 마지막 시점의 예측 단어를 출력에 연결한다.\n",
        "    # 이는 for문을 통해서 디코더의 입력으로 사용될 예정이다.\n",
        "    output = tf.concat([output, predicted_id], axis=-1)\n",
        "\n",
        "  return tf.squeeze(output, axis=0)\n",
        "\n",
        "\n",
        "def predict(sentence):\n",
        "  prediction = evaluate(sentence)\n",
        "\n",
        "  predicted_sentence = tokenizer.decode(\n",
        "      [i for i in prediction if i < tokenizer.vocab_size])\n",
        "\n",
        "#   print('Input: {}'.format(sentence))\n",
        "#   print('Output: {}'.format(predicted_sentence))\n",
        "\n",
        "  return predicted_sentence\n",
        "\n",
        "\n",
        "def preprocess_sentence(sentence):\n",
        "  sentence = re.sub(r\"([?.!,])\", r\" \\1 \", sentence)\n",
        "  sentence = sentence.strip()\n",
        "  return sentence"
      ],
      "execution_count": null,
      "outputs": []
    },
    {
      "cell_type": "code",
      "metadata": {
        "id": "k592OU1EY7xc",
        "colab": {
          "base_uri": "https://localhost:8080/",
          "height": 35
        },
        "outputId": "a9d49c3f-4dc6-402b-d9b7-9a3cd025a3b4"
      },
      "source": [
        "predict(filtering_train_df['split_train_token'][2])"
      ],
      "execution_count": null,
      "outputs": [
        {
          "output_type": "execute_result",
          "data": {
            "application/vnd.google.colaboratory.intrinsic+json": {
              "type": "string"
            },
            "text/plain": [
              "'<esp> [ 하 ㄴ 일 스텐레스 ] 프리미엄 통 5 중 인덕 션 스텐 냄비 모음 전 <esp>'"
            ]
          },
          "metadata": {
            "tags": []
          },
          "execution_count": 100
        }
      ]
    },
    {
      "cell_type": "code",
      "metadata": {
        "id": "Ammn_7esech4"
      },
      "source": [
        "filtering_test_df['split_train_token'] = [tok(i.strip()) for i in filtering_test_df['train']]\n",
        "filtering_test_df['split_label_token'] = [tok(i.strip()) for i in filtering_test_df['label']]\n",
        "filtering_test_df['split_train_token'] = filtering_test_df['split_train_token'].apply(lambda x: ' '.join(map(str, x)))\n",
        "filtering_test_df['split_label_token'] = filtering_test_df['split_label_token'].apply(lambda x: ' '.join(map(str, x)))\n",
        "filtering_test_df['split_train_token'] = ['<esp> ' + i.strip().replace('&&', ' <esp> ') + ' <esp>' for i in filtering_test_df['split_train_token']]\n",
        "filtering_test_df['split_label_token'] = ['<esp> ' + i.strip() + ' <esp>' for i in filtering_test_df['split_label_token']]"
      ],
      "execution_count": null,
      "outputs": []
    },
    {
      "cell_type": "code",
      "metadata": {
        "id": "3wGK8SfJfCLv",
        "colab": {
          "base_uri": "https://localhost:8080/",
          "height": 323
        },
        "outputId": "1aec2316-ddd2-4f8e-9937-466f1feab6df"
      },
      "source": [
        "filtering_test_df.pop('token_len')\n",
        "filtering_test_df.pop('token_len_cate')\n",
        "filtering_test_df.head()"
      ],
      "execution_count": null,
      "outputs": [
        {
          "output_type": "execute_result",
          "data": {
            "text/html": [
              "<div>\n",
              "<style scoped>\n",
              "    .dataframe tbody tr th:only-of-type {\n",
              "        vertical-align: middle;\n",
              "    }\n",
              "\n",
              "    .dataframe tbody tr th {\n",
              "        vertical-align: top;\n",
              "    }\n",
              "\n",
              "    .dataframe thead th {\n",
              "        text-align: right;\n",
              "    }\n",
              "</style>\n",
              "<table border=\"1\" class=\"dataframe\">\n",
              "  <thead>\n",
              "    <tr style=\"text-align: right;\">\n",
              "      <th></th>\n",
              "      <th>train</th>\n",
              "      <th>label</th>\n",
              "      <th>token_len</th>\n",
              "      <th>token_len_cate</th>\n",
              "      <th>split_train_token</th>\n",
              "      <th>split_label_token</th>\n",
              "    </tr>\n",
              "  </thead>\n",
              "  <tbody>\n",
              "    <tr>\n",
              "      <th>0</th>\n",
              "      <td>우편물</td>\n",
              "      <td>보령삼육조미구이식탁김</td>\n",
              "      <td>1</td>\n",
              "      <td>0:100</td>\n",
              "      <td>&lt;esp&gt; 우편물 &lt;esp&gt;</td>\n",
              "      <td>&lt;esp&gt; 보령 삼육 조미 구이 식탁 김 &lt;esp&gt;</td>\n",
              "    </tr>\n",
              "    <tr>\n",
              "      <th>1</th>\n",
              "      <td>[팝핀 도너츠] 도넛 6종세트 15개/30개(바바리안, 딸기, 보스톤 메론 , 땅콩...</td>\n",
              "      <td>★지난 총 8회 매진 신화★서산 간월도식 어리굴젓8통 + 양념굴젓4통</td>\n",
              "      <td>86</td>\n",
              "      <td>0:100</td>\n",
              "      <td>&lt;esp&gt; [ 팝 핀 도너츠 ] 도넛 6 종 세트 15 개 / 30 개 ( 바바리 ...</td>\n",
              "      <td>&lt;esp&gt; ★ 지나 ㄴ 총 8 회 매진 신화 ★ 서산 간월 도식 어리 굴젓 8 통 ...</td>\n",
              "    </tr>\n",
              "    <tr>\n",
              "      <th>2</th>\n",
              "      <td>양구 펀치볼 시래기17팩+맛내기17팩</td>\n",
              "      <td>[상시]강원도명물더덕무침(13팩)</td>\n",
              "      <td>13</td>\n",
              "      <td>0:100</td>\n",
              "      <td>&lt;esp&gt; 양 구 펀치 보 ㄹ 시래기 17 팩 + 맛 내기 17 팩 &lt;esp&gt;</td>\n",
              "      <td>&lt;esp&gt; [ 상시 ] 강원도 명물 더덕 무침 ( 13 팩 ) &lt;esp&gt;</td>\n",
              "    </tr>\n",
              "    <tr>\n",
              "      <th>3</th>\n",
              "      <td>류마티스내과/진료비&amp;&amp;약제비&amp;&amp;약제비&amp;&amp;심장내과/진료비</td>\n",
              "      <td>이비인후과/진료비</td>\n",
              "      <td>16</td>\n",
              "      <td>0:100</td>\n",
              "      <td>&lt;esp&gt; 류 마티스 내과 / 진료비  &lt;esp&gt;  약제 비  &lt;esp&gt;  약제 비...</td>\n",
              "      <td>&lt;esp&gt; 이비인후과 / 진료비 &lt;esp&gt;</td>\n",
              "    </tr>\n",
              "    <tr>\n",
              "      <th>4</th>\n",
              "      <td>여수 거문도 해풍쑥 생개떡 2kg&amp;&amp;깊고 진한 전라도 김치 2kg 포장/한정판매 갓...</td>\n",
              "      <td>특산영농조합법인곶감(반건시)</td>\n",
              "      <td>59</td>\n",
              "      <td>0:100</td>\n",
              "      <td>&lt;esp&gt; 여수 거문도 해풍 쑥 생 개떡 2 kg  &lt;esp&gt;  깊 고 진하 ㄴ 전...</td>\n",
              "      <td>&lt;esp&gt; 특산 영농 조합 법인 곶감 ( 반 건시 ) &lt;esp&gt;</td>\n",
              "    </tr>\n",
              "  </tbody>\n",
              "</table>\n",
              "</div>"
            ],
            "text/plain": [
              "                                               train  ...                                  split_label_token\n",
              "0                                                우편물  ...                       <esp> 보령 삼육 조미 구이 식탁 김 <esp>\n",
              "1  [팝핀 도너츠] 도넛 6종세트 15개/30개(바바리안, 딸기, 보스톤 메론 , 땅콩...  ...  <esp> ★ 지나 ㄴ 총 8 회 매진 신화 ★ 서산 간월 도식 어리 굴젓 8 통 ...\n",
              "2                               양구 펀치볼 시래기17팩+맛내기17팩  ...           <esp> [ 상시 ] 강원도 명물 더덕 무침 ( 13 팩 ) <esp>\n",
              "3                     류마티스내과/진료비&&약제비&&약제비&&심장내과/진료비  ...                            <esp> 이비인후과 / 진료비 <esp>\n",
              "4  여수 거문도 해풍쑥 생개떡 2kg&&깊고 진한 전라도 김치 2kg 포장/한정판매 갓...  ...                <esp> 특산 영농 조합 법인 곶감 ( 반 건시 ) <esp>\n",
              "\n",
              "[5 rows x 6 columns]"
            ]
          },
          "metadata": {
            "tags": []
          },
          "execution_count": 102
        }
      ]
    },
    {
      "cell_type": "code",
      "metadata": {
        "colab": {
          "base_uri": "https://localhost:8080/"
        },
        "id": "3kA-UfGzeHIY",
        "outputId": "23d1d532-6e2b-455f-ea32-8ba508ee1746"
      },
      "source": [
        "tqdm.tqdm.pandas()\n",
        "predict_item_test = filtering_test_df['split_train_token'].progress_apply(predict)"
      ],
      "execution_count": null,
      "outputs": [
        {
          "output_type": "stream",
          "text": [
            "/usr/local/lib/python3.7/dist-packages/tqdm/std.py:658: FutureWarning: The Panel class is removed from pandas. Accessing it from the top-level namespace will also be removed in the next version\n",
            "  from pandas import Panel\n",
            "100%|██████████| 344/344 [04:11<00:00,  1.37it/s]\n"
          ],
          "name": "stderr"
        }
      ]
    },
    {
      "cell_type": "code",
      "metadata": {
        "id": "R1bg7taWe3Vl",
        "colab": {
          "base_uri": "https://localhost:8080/"
        },
        "outputId": "46e35bd7-e4d3-48ae-bfda-0548a2219cf8"
      },
      "source": [
        "filtering_test_df['predict_item'] = predict_item_test"
      ],
      "execution_count": null,
      "outputs": [
        {
          "output_type": "execute_result",
          "data": {
            "text/plain": [
              "False    204\n",
              "True     140\n",
              "dtype: int64"
            ]
          },
          "metadata": {
            "tags": []
          },
          "execution_count": 104
        }
      ]
    },
    {
      "cell_type": "code",
      "metadata": {
        "id": "sRmBz3pWM_DP",
        "colab": {
          "base_uri": "https://localhost:8080/",
          "height": 708
        },
        "outputId": "6f5032ac-9046-483c-a1a9-2d412e395f9b"
      },
      "source": [
        "filtering_test_df"
      ],
      "execution_count": null,
      "outputs": [
        {
          "output_type": "execute_result",
          "data": {
            "text/html": [
              "<div>\n",
              "<style scoped>\n",
              "    .dataframe tbody tr th:only-of-type {\n",
              "        vertical-align: middle;\n",
              "    }\n",
              "\n",
              "    .dataframe tbody tr th {\n",
              "        vertical-align: top;\n",
              "    }\n",
              "\n",
              "    .dataframe thead th {\n",
              "        text-align: right;\n",
              "    }\n",
              "</style>\n",
              "<table border=\"1\" class=\"dataframe\">\n",
              "  <thead>\n",
              "    <tr style=\"text-align: right;\">\n",
              "      <th></th>\n",
              "      <th>train</th>\n",
              "      <th>label</th>\n",
              "      <th>token_len</th>\n",
              "      <th>token_len_cate</th>\n",
              "      <th>split_train_token</th>\n",
              "      <th>split_label_token</th>\n",
              "      <th>predict_item</th>\n",
              "    </tr>\n",
              "  </thead>\n",
              "  <tbody>\n",
              "    <tr>\n",
              "      <th>0</th>\n",
              "      <td>우편물</td>\n",
              "      <td>보령삼육조미구이식탁김</td>\n",
              "      <td>1</td>\n",
              "      <td>0:100</td>\n",
              "      <td>&lt;esp&gt; 우편물 &lt;esp&gt;</td>\n",
              "      <td>&lt;esp&gt; 보령 삼육 조미 구이 식탁 김 &lt;esp&gt;</td>\n",
              "      <td>&lt;esp&gt; 우편물 &lt;esp&gt;</td>\n",
              "    </tr>\n",
              "    <tr>\n",
              "      <th>1</th>\n",
              "      <td>[팝핀 도너츠] 도넛 6종세트 15개/30개(바바리안, 딸기, 보스톤 메론 , 땅콩...</td>\n",
              "      <td>★지난 총 8회 매진 신화★서산 간월도식 어리굴젓8통 + 양념굴젓4통</td>\n",
              "      <td>86</td>\n",
              "      <td>0:100</td>\n",
              "      <td>&lt;esp&gt; [ 팝 핀 도너츠 ] 도넛 6 종 세트 15 개 / 30 개 ( 바바리 ...</td>\n",
              "      <td>&lt;esp&gt; ★ 지나 ㄴ 총 8 회 매진 신화 ★ 서산 간월 도식 어리 굴젓 8 통 ...</td>\n",
              "      <td>&lt;esp&gt; 국내산 대패 삼겹살 300 g * 7 팩 ( 총 2.5 kg ) &lt;esp&gt;</td>\n",
              "    </tr>\n",
              "    <tr>\n",
              "      <th>2</th>\n",
              "      <td>양구 펀치볼 시래기17팩+맛내기17팩</td>\n",
              "      <td>[상시]강원도명물더덕무침(13팩)</td>\n",
              "      <td>13</td>\n",
              "      <td>0:100</td>\n",
              "      <td>&lt;esp&gt; 양 구 펀치 보 ㄹ 시래기 17 팩 + 맛 내기 17 팩 &lt;esp&gt;</td>\n",
              "      <td>&lt;esp&gt; [ 상시 ] 강원도 명물 더덕 무침 ( 13 팩 ) &lt;esp&gt;</td>\n",
              "      <td>&lt;esp&gt; 쫄깃 담백 참숯 굽 ㄴ 계란 60 구 &lt;esp&gt;</td>\n",
              "    </tr>\n",
              "    <tr>\n",
              "      <th>3</th>\n",
              "      <td>류마티스내과/진료비&amp;&amp;약제비&amp;&amp;약제비&amp;&amp;심장내과/진료비</td>\n",
              "      <td>이비인후과/진료비</td>\n",
              "      <td>16</td>\n",
              "      <td>0:100</td>\n",
              "      <td>&lt;esp&gt; 류 마티스 내과 / 진료비  &lt;esp&gt;  약제 비  &lt;esp&gt;  약제 비...</td>\n",
              "      <td>&lt;esp&gt; 이비인후과 / 진료비 &lt;esp&gt;</td>\n",
              "      <td>&lt;esp&gt; 약제 비 &lt;esp&gt;</td>\n",
              "    </tr>\n",
              "    <tr>\n",
              "      <th>4</th>\n",
              "      <td>여수 거문도 해풍쑥 생개떡 2kg&amp;&amp;깊고 진한 전라도 김치 2kg 포장/한정판매 갓...</td>\n",
              "      <td>특산영농조합법인곶감(반건시)</td>\n",
              "      <td>59</td>\n",
              "      <td>0:100</td>\n",
              "      <td>&lt;esp&gt; 여수 거문도 해풍 쑥 생 개떡 2 kg  &lt;esp&gt;  깊 고 진하 ㄴ 전...</td>\n",
              "      <td>&lt;esp&gt; 특산 영농 조합 법인 곶감 ( 반 건시 ) &lt;esp&gt;</td>\n",
              "      <td>&lt;esp&gt; 영광 법성포 굴비 마을 굴비 &lt;esp&gt;</td>\n",
              "    </tr>\n",
              "    <tr>\n",
              "      <th>...</th>\n",
              "      <td>...</td>\n",
              "      <td>...</td>\n",
              "      <td>...</td>\n",
              "      <td>...</td>\n",
              "      <td>...</td>\n",
              "      <td>...</td>\n",
              "      <td>...</td>\n",
              "    </tr>\n",
              "    <tr>\n",
              "      <th>339</th>\n",
              "      <td>고기랑 찰떡궁합! 청도 미나리 500g&amp;&amp;[명절특가] 황제의아침 숙성흑마늘진액 10...</td>\n",
              "      <td>[횡성명품한우] 횡성 한우 정육 4호 선물세트(불불국)</td>\n",
              "      <td>74</td>\n",
              "      <td>0:100</td>\n",
              "      <td>&lt;esp&gt; 고기 랑 찰떡 궁합 ! 청도 미나리 500 g  &lt;esp&gt;  [ 명절 특...</td>\n",
              "      <td>&lt;esp&gt; [ 횡 성명 품 하 ㄴ 우 ] 횡 성 한우 정육 4 호 선물세트 ( 불 ...</td>\n",
              "      <td>&lt;esp&gt; 2021 년 설명 절 ] 부침 명장 명절 모둠 전 \\&amp;undsc 3 &lt;esp&gt;</td>\n",
              "    </tr>\n",
              "    <tr>\n",
              "      <th>340</th>\n",
              "      <td>귤로장생 제주 햇 레드향 1.8kg*3박스&amp;&amp; 미루 구수한 누룽지 3종세트(50봉)</td>\n",
              "      <td>★초특가★[게릴라]옛날 쥐치포</td>\n",
              "      <td>27</td>\n",
              "      <td>0:100</td>\n",
              "      <td>&lt;esp&gt; 귤 로 장생 제주 하 였 레드 향 1.8 kg * 3 박스  &lt;esp&gt; ...</td>\n",
              "      <td>&lt;esp&gt; ★ 초 특가 ★ [ 게릴라 ] 옛날 쥐치 포 &lt;esp&gt;</td>\n",
              "      <td>&lt;esp&gt; 신 강식 아트 컬러 레이스 집 업 상 , 하세 트 &lt;esp&gt;</td>\n",
              "    </tr>\n",
              "    <tr>\n",
              "      <th>341</th>\n",
              "      <td>평창애 양념코다리180g</td>\n",
              "      <td>영광법성포이조굴비</td>\n",
              "      <td>6</td>\n",
              "      <td>0:100</td>\n",
              "      <td>&lt;esp&gt; 평 창애 양념 코다리 180 g &lt;esp&gt;</td>\n",
              "      <td>&lt;esp&gt; 영광 법성포 이조 굴비 &lt;esp&gt;</td>\n",
              "      <td>&lt;esp&gt; 통영 유기농 키위 참 다래 2 kg &lt;esp&gt;</td>\n",
              "    </tr>\n",
              "    <tr>\n",
              "      <th>342</th>\n",
              "      <td>미납통행료</td>\n",
              "      <td>미납통행료</td>\n",
              "      <td>2</td>\n",
              "      <td>0:100</td>\n",
              "      <td>&lt;esp&gt; 미납 통행료 &lt;esp&gt;</td>\n",
              "      <td>&lt;esp&gt; 미납 통행료 &lt;esp&gt;</td>\n",
              "      <td>&lt;esp&gt; 미납 통행료 &lt;esp&gt;</td>\n",
              "    </tr>\n",
              "    <tr>\n",
              "      <th>343</th>\n",
              "      <td>제주직송 올탑농원 햇 노지감귤 5kg 소과외 2개</td>\n",
              "      <td>[생산자직송] 해남 강미자님의 호박고구마 (한입)</td>\n",
              "      <td>15</td>\n",
              "      <td>0:100</td>\n",
              "      <td>&lt;esp&gt; 제주 직송 올 탑 농원 하 였 노지 감귤 5 kg 소 과외 2 개 &lt;esp&gt;</td>\n",
              "      <td>&lt;esp&gt; [ 생산자 직송 ] 하 어 남 강미 자 님 의 호박 고구마 ( 하 ㄴ 입...</td>\n",
              "      <td>&lt;esp&gt; [ 명절 특가 ] 황제 의 아침 숙성 흑 마늘 진액 1000 1 L 1 ...</td>\n",
              "    </tr>\n",
              "  </tbody>\n",
              "</table>\n",
              "<p>344 rows × 7 columns</p>\n",
              "</div>"
            ],
            "text/plain": [
              "                                                 train  ...                                       predict_item\n",
              "0                                                  우편물  ...                                    <esp> 우편물 <esp>\n",
              "1    [팝핀 도너츠] 도넛 6종세트 15개/30개(바바리안, 딸기, 보스톤 메론 , 땅콩...  ...    <esp> 국내산 대패 삼겹살 300 g * 7 팩 ( 총 2.5 kg ) <esp>\n",
              "2                                 양구 펀치볼 시래기17팩+맛내기17팩  ...                   <esp> 쫄깃 담백 참숯 굽 ㄴ 계란 60 구 <esp>\n",
              "3                       류마티스내과/진료비&&약제비&&약제비&&심장내과/진료비  ...                                   <esp> 약제 비 <esp>\n",
              "4    여수 거문도 해풍쑥 생개떡 2kg&&깊고 진한 전라도 김치 2kg 포장/한정판매 갓...  ...                        <esp> 영광 법성포 굴비 마을 굴비 <esp>\n",
              "..                                                 ...  ...                                                ...\n",
              "339  고기랑 찰떡궁합! 청도 미나리 500g&&[명절특가] 황제의아침 숙성흑마늘진액 10...  ...  <esp> 2021 년 설명 절 ] 부침 명장 명절 모둠 전 \\&undsc 3 <esp>\n",
              "340     귤로장생 제주 햇 레드향 1.8kg*3박스&& 미루 구수한 누룽지 3종세트(50봉)  ...            <esp> 신 강식 아트 컬러 레이스 집 업 상 , 하세 트 <esp>\n",
              "341                                      평창애 양념코다리180g  ...                    <esp> 통영 유기농 키위 참 다래 2 kg <esp>\n",
              "342                                              미납통행료  ...                                 <esp> 미납 통행료 <esp>\n",
              "343                        제주직송 올탑농원 햇 노지감귤 5kg 소과외 2개  ...  <esp> [ 명절 특가 ] 황제 의 아침 숙성 흑 마늘 진액 1000 1 L 1 ...\n",
              "\n",
              "[344 rows x 7 columns]"
            ]
          },
          "metadata": {
            "tags": []
          },
          "execution_count": 105
        }
      ]
    },
    {
      "cell_type": "markdown",
      "metadata": {
        "id": "g7X9HQa0012U"
      },
      "source": [
        "# Product2Vec"
      ]
    },
    {
      "cell_type": "code",
      "metadata": {
        "id": "kUCG5oYf05BT"
      },
      "source": [
        "TFoutputs = filtering_test_df"
      ],
      "execution_count": null,
      "outputs": []
    },
    {
      "cell_type": "code",
      "metadata": {
        "id": "LWBXfHhq3gK-"
      },
      "source": [
        "Detail = pd.DataFrame(detail)"
      ],
      "execution_count": null,
      "outputs": []
    },
    {
      "cell_type": "code",
      "metadata": {
        "id": "6iCX2CaDeuPi"
      },
      "source": [
        "Detail['tok'] = [tok(i.strip()) for i in Detail['0']]\n",
        "Detail['tok'] = Detail['tok'].apply(lambda x: ' '.join(map(str, x)))\n",
        "detail_esp = ['<esp> ' + i + ' <esp>' for i in Detail['tok']]\n",
        "Detail['esp'] = detail_esp\n",
        "detail_esp[:5]"
      ],
      "execution_count": null,
      "outputs": []
    },
    {
      "cell_type": "code",
      "metadata": {
        "colab": {
          "base_uri": "https://localhost:8080/"
        },
        "id": "Ke-2DG5kDvMU",
        "outputId": "41c954d2-ca5b-4bb3-d5ae-26ae1d896a67"
      },
      "source": [
        "detail_esp = Detail['esp'].to_list()\n",
        "detail_esp[:5]"
      ],
      "execution_count": null,
      "outputs": [
        {
          "output_type": "execute_result",
          "data": {
            "text/plain": [
              "['<esp> Americano / Tall 외 1 건 <esp>',\n",
              " '<esp> Americano / Tall 외 2 건 <esp>',\n",
              " '<esp> Caffe Mocha / Tall 외 1 건 <esp>',\n",
              " '<esp> Orange juice / Tall <esp>',\n",
              " '<esp> 김 가 네 김밥 <esp>']"
            ]
          },
          "metadata": {
            "tags": []
          },
          "execution_count": 159
        }
      ]
    },
    {
      "cell_type": "code",
      "metadata": {
        "id": "uQLI86f4X-S3"
      },
      "source": [
        "Detail.head()"
      ],
      "execution_count": null,
      "outputs": []
    },
    {
      "cell_type": "code",
      "metadata": {
        "colab": {
          "base_uri": "https://localhost:8080/"
        },
        "id": "TGBzv7zpg_57",
        "outputId": "d180e438-1e73-4da8-f6fc-83510d54cb3d"
      },
      "source": [
        "dic = {Detail['tok'][i]:Detail['0'][i] for i in range(len(Detail))}"
      ],
      "execution_count": null,
      "outputs": [
        {
          "output_type": "execute_result",
          "data": {
            "text/plain": [
              "{'Americano / Tall 외 1 건': 'Americano / Tall외 1건',\n",
              " 'Americano / Tall 외 2 건': 'Americano / Tall외 2건',\n",
              " 'Caffe Mocha / Tall 외 1 건': 'Caffe Mocha / Tall외 1건',\n",
              " 'Orange juice / Tall': 'Orange juice / Tall',\n",
              " '김 가 네 김밥': '김가네김밥',\n",
              " '리얼 초 코 자바 칩 프라페 / 휘 핑 반 만 올리 기 외 1 건': '리얼초코자바칩프라페 / 휘핑 반만올리기외 1건',\n",
              " '( 기본 ) 비빔 국수': '(기본) 비빔국수',\n",
              " '소 불고기 김밥': '소불고기김밥',\n",
              " 'Signature Chocolate / Tall 외 1 건': 'Signature Chocolate / Tall외 1건',\n",
              " 'Caffe latte / Tall 외 1 건': 'Caffe latte / Tall외 1건',\n",
              " '( 小 ) 로스 팅 훈제 족발 + 쟁반 국수': '(小) 로스팅훈제족발+쟁반국수',\n",
              " '무료 배달': '무료배달',\n",
              " '( 2 마리 ) 코다리 매콤 명태 찜 / 젓가락 빼주 세 요외 2 건': '(2마리) 코다리매콤명태찜 / 젓가락빼주세요외 2건',\n",
              " '아메리카 노 / HOT': '아메리카노 / HOT',\n",
              " '크로 와플': '크로와플',\n",
              " '아메리카 노 / HOT 외 5 건': '아메리카노 / HOT외 5건',\n",
              " '아메리카 노 / HOT 외 7 건': '아메리카노 / HOT외 7건',\n",
              " '아메리카 노 / ICE 외 7 건': '아메리카노 / ICE외 7건',\n",
              " '모듬 전': '모듬전',\n",
              " '일벌 세트 / 약간 덜 매운맛 : 추천 맵 기 ( 20 % ) 외 2 건': '일벌세트 / 약간 덜매운맛 : 추천 맵기(20%)외 2건',\n",
              " '크로 와플 ( NEW )': '크로와플 (NEW)',\n",
              " '아메리카 노 / ICE': '아메리카노 / ICE',\n",
              " '( 2 p ) 플레인 크로플 / 포크 만 주 세요': '(2p) 플레인크로플 / 포크만 주세요',\n",
              " 'HOT 카페 아메리카 노': 'HOT 카페 아메리카노',\n",
              " '( 라지 L ) 로맨틱 하와이 안 ( 파인 애플 피자 ) / 오리지널 도 우 ( 기본 적인 ) 외 1 건': '(라지 L) 로맨틱 하와이안(파인애플 피자) / 오리지널 도우(기본적인)외 1건',\n",
              " 'ICED 딸기 라 떼': 'ICED 딸기 라떼',\n",
              " '( 보통 ) 해물 왕 짬뽕': '(보통) 해물왕짬뽕',\n",
              " '꾸 ㄹ 호떡 세트': '꿀호떡 세트',\n",
              " 'B 치즈 닭 발 2 인 세트 + 주먹밥 + 계란찜 + 샐러드 + 쿠 ㄹ 피스 / 약간 매운맛 ( 하 ) 외 3 건': 'B치즈닭발2인세트 +주먹밥+계란찜+샐러드+쿨피스 / 약간매운맛(하)외 3건',\n",
              " '[ Best ] 제주 흑 돼지 돈까스 샌드위치': '[Best] 제주 흑돼지 돈까스샌드위치',\n",
              " '( ICE ) 아메리카 노': '(ICE) 아메리카노',\n",
              " '뚱 와플 / 듬뿍 외 1 건': '뚱와플 / 듬뿍외 1건',\n",
              " '( 콩나물 小 ) 골르 아 먹 는 찜 ( 해물 추가 에서 해물 선택 ) / 순 하 ㄴ 맛': '(콩나물小) 골라먹는찜(해물추가에서 해물선택) / 순한맛',\n",
              " '( M ) 피치 세트 / 후라 이드 치킨': '(M) 피치세트 / 후라이드치킨',\n",
              " '( Hot ) 아메리카 노 ( 16 z )': '(Hot) 아메리카노(16z)',\n",
              " '옛날 통닭 1 마리': '옛날통닭1마리',\n",
              " '슈크림 빵': '슈크림빵',\n",
              " '( Ice ) 아메리카 노 ( 16 z )': '(Ice) 아메리카노(16z)',\n",
              " '( ICE ) 초콜릿 라 떼': '(ICE) 초콜릿라떼',\n",
              " '에그 모닝': '에그모닝',\n",
              " '돈 ( 돼지 ) 왕 갈비탕': '돈(돼지)왕갈비탕',\n",
              " '커피 플랫 하 지 놓': '커피 플랫치노',\n",
              " '( only ICE ) 자몽 에이드': '(only ICE) 자몽에이드',\n",
              " '[ Bset ] 프레즐빠 다': '[Bset] 프레즐빠다',\n",
              " '생크림 팥 빵': '생크림팥빵',\n",
              " '앙 버터 ( No . 2 )': '앙버터(No.2)',\n",
              " '돼지 바 와플 / 듬뿍': '돼지바와플 / 듬뿍',\n",
              " '코코넛 커피 ( Iced )': '코코넛 커피 (Iced)',\n",
              " '쿠앤크 와플 / 듬뿍 외 1 건': '쿠앤크와플 / 듬뿍외 1건',\n",
              " '1 인 보쌈 도시락 ( 배달 ) / M': '1인 보쌈도시락(배달) / M',\n",
              " '( 소 ) 족발': '(소) 족발',\n",
              " '순 사 ㄹ 새우 치킨': '순살새우치킨',\n",
              " '( 1 이 ㄴ 분 ) 삼겹살 정식 도시락': '(1인분) 삼겹살 정식 도시락',\n",
              " '( 8 p ) 연어 초밥': '(8p) 연어초밥',\n",
              " '생 아귀찜': '생아귀찜',\n",
              " '생 딸기 주스': '생딸기주스',\n",
              " '( 중 ( 2 ~ 3 인 )) 마라 탕 / 1 단계 ( 조금 매운맛 ) 외 1 건': '(중(2~3인)) 마라탕 / 1단계(조금매운맛)외 1건',\n",
              " '앙큼 플라워 떡 케이크 1 호': '앙큼플라워떡케이크 1호',\n",
              " '마루 프리미엄 세트 / 통 새우 링 4 개 외 4 건': '마루 프리미엄 세트 / 통새우링 4개외 4건',\n",
              " '( 소 ) 산 오징어 회': '(소) 산오징어회',\n",
              " '1 인 세트 ( 생 연어 150 g + 초 밥 4 p )': '1인세트(생연어150g+초밥4p)',\n",
              " '고구마 타르트': '고구마타르트',\n",
              " '( 1 조각 ) ( 추천 ) 바스크 치즈 케이크': '(1조각) (추천) 바스크 치즈 케이크',\n",
              " '( 2 인 ) [ 신 메뉴 ] 로제 분 모자 떡볶이 ( 2 이 ㄴ 분 ) / 0 % ( 아이 맛 , 안 매 움 )': '(2인) [신메뉴]로제 분모자 떡볶이(2인분) / 0%(아이맛,안매움)',\n",
              " '버블 크림 밀크 티': '버블 크림 밀크티',\n",
              " '아메리카 노': '아메리카노',\n",
              " '( 작 은 거 ) 한우 육회 ( 미경 산 한우 암소 )': '(작은거) 한우육회(미경산 한우암소)',\n",
              " '( 2 인 ) 무 뼈 닭 발': '(2인) 무뼈닭발',\n",
              " '오 겹 살 스테이크': '오겹살 스테이크',\n",
              " '( EX ) ICED 카페 라 떼': '(EX)ICED 카페 라떼',\n",
              " '아메리카 노 + 별나 ㄴ 핫도그 / HOT ( 16 oz ) 외 1 건': '아메리카노+별난핫도그 / HOT(16oz)외 1건',\n",
              " '마루 클래식 세트 / 이탈 리 안 치즈 피자 외 2 건': '마루 클래식 세트 / 이탈리안치즈피자외 2건',\n",
              " '크림 달 고 나 아 세트': '크림 달고나 세트',\n",
              " '내 맘대로 반반 R / 오리지널 도 우 ( 기본 적인 ) 외 1 건': '내맘대로 반반 R / 오리지널 도우(기본적인)외 1건',\n",
              " '한일 의료기 전기요 극세사 - 대 / 전기장판': '한일의료기 전기요 극세사-대/전기장판',\n",
              " '미납 통행료': '미납통행료',\n",
              " '[ 공영 필 마트 ] 쉬슬 러 세탁 세제 실 속 세트 _ 기획 초 특가': '[공영필마트]쉬슬러세탁세제실속세트_기획초특가',\n",
              " '[ 게릴라 ] 창화 당 만두 세트 8 팩 ( 고기 참 3 , 김치 참 3 , 납작 왕 군만두 2 )': '[게릴라] 창화당만두세트8팩(고기참3,김치참3,납작왕군만두2)',\n",
              " '2021 논 산 설 향 딸기 세트 750 g * 2 팩': '2021 논산 설향 딸기 세트 750g*2팩',\n",
              " '약제 비': '약제비',\n",
              " '내분비 내과 / 진료비': '내분비내과/진료비',\n",
              " '소화기 내과 / 진료비': '소화기내과/진료비',\n",
              " '추억 의 7080 팝 핀 전병 1 kg + 1 kg': '추억의 7080 팝핀전병 1kg+1kg',\n",
              " '[ 자연 맛 남 ] 20 년 수확 하 어 남 첫사랑 꾸 ㄹ 고구마 5 kg ( 특상 / 100g-300g )': '[자연맛남] 20년수확 해남 첫사랑 꿀고구마 5kg (특상/100g-300g)',\n",
              " '임성 근 순 사 ㄹ 양념 코다리 구이 17 팩 ( 고추장 6 팩 + 간장 6 팩 + 시래기 양념 코다리 5 팩 )': '임성근 순살양념 코다리구이 17팩(고추장6팩+간장6팩+시래기양념코다리5팩)',\n",
              " '★ 고 영 숙의 특산 백세 삼계탕 8 팩 / 총 8 kg !': '★고영숙의 특산 백세 삼계탕 8팩 / 총 8kg!',\n",
              " '[ 상주 둥 시 곶감 ] 홍 시 담 은 곶감 1 호 1 kg ( 14 ~ 20 개 )': '[상주둥시곶감] 홍시 담은 곶감 1호 1kg (14~20개)',\n",
              " '[ 힐링 타임 ] 다 덮 어 만능 실리콘 뚜껑 12 p + ( 2 세트 구매 시 ) 배수관 트랩 2 개': '[힐링타임] 다덮어 만능 실리콘뚜껑 12p + (2세트 구매시) 배수관트랩 2개',\n",
              " '외 과 / 진료비': '외    과/진료비',\n",
              " '부산 명물 씨앗 호떡 해바라기 ( 60 g 5 개 × 4 세트 )': '부산명물 씨앗호떡 해바라기(60g 5개 × 4세트)',\n",
              " '신장 내과 / 진료비': '신장내과/진료비',\n",
              " '[ 미 넴 ] 남성 덕 답 ㄴ 점퍼': '[미넴]남성 덕다운 점퍼',\n",
              " '육우 등심 스테이크 세트 ( 등심 스테이크 8 팩 + 등 심 큐브 스테이크 2 팩 )': '육우등심스테이크세트(등심스테이크8팩+ 등심큐브스테이크2팩)',\n",
              " '이비인후과 / 진료비': '이비인후과/진료비',\n",
              " '[ 헤 르 조 그 ] 컴팩트 일렉트릭 와이드 그릴 ( LU-4726 )': '[헤르조그]컴팩트 일렉트릭 와이드 그릴(LU-4726)',\n",
              " '[ 매일 편하 ㄴ ] KF 94 마스크 150 매 ( 화이트 / 블랙 ) ( 1 매입 )': '[매일편한]KF94마스크150매(화이트/블랙)(1매입)',\n",
              " '[ 공영 생필품 마트 ] 모나리자 프리미엄 화장지 30 미터 90 롤': '[공영생필품마트] 모나리자 프리미엄 화장지 30미터 90롤',\n",
              " '[ 설 특별 패키지 ] 우리 쌀 전병 3 가지 맛 3 세트 ( 총 9 박스 )': '[설특별패키지] 우리쌀전병 3가지 맛 3세트 (총 9박스)',\n",
              " '★ 1 만원 인하 ★ 아 라벨 르 세라 피 밍크 터치 착 벌 ㄴ 극세사 침구 세트 ( K )': '★1만원인하★아라벨르 세라피 밍크터치 착번극세사 침구세트 (K)',\n",
              " '[ 국가 지정 조리 명장 1 호 ] 하 ㄴ 춘섭 명장 의 된장 시래기 15 팩': '[국가지정 조리명장 1호] 한춘섭 명장의 된장 시래기 15팩',\n",
              " '[ 밀크 바 오 밥 ] 1.2 L 대용량 세라 헤어 / 바디 케어 1 + 1': '[밀크바오밥] 1.2L 대용량 세라 헤어/바디케어1+1',\n",
              " '★ 완도 해조 쌀 국수 시즌 2 [ 멸치 맛 40 개 ]': '★완도해조쌀국수 시즌2 [멸치맛40개]',\n",
              " '보성 녹 돈 복분자 양념 불고기 세트 ( 간장 불고기 350 g * 7 팩 + 고추장 불고기 350 g * 7 팩 )': '보성녹돈 복분자 양념불고기세트(간장불고기350g*7팩+고추장불고기350g*7팩)',\n",
              " '[ 20 년 햇 더 덕 ] ★ 100 % 강원도 통 더덕 ( 13 팩 )': '[20년햇더덕]★100%강원도 통더덕 (13팩)',\n",
              " '하늘 농가 국내산 산나물 세트 ( 곤드레 6 팩 + 취나물 6 팩 + 시래기 6 팩 / 총 18 팩 )': '하늘농가 국내산 산나물세트(곤드레6팩+취나물6팩+시래기6팩/총18팩)',\n",
              " '치 과 / 진료비': '치    과/진료비',\n",
              " '[ 제이 로 렌 외 ] 인기 절정 새해 맞이 파격 가 아 ! 방한화 11 종 택 1': '[제이로렌 외] 인기절정 새해맞이 파격가! 방한화 11종 택1',\n",
              " '하 였 감자 5 kg 대 크기 ( 개 당 중량 70 g ~ 100 g )': '햇 감자 5kg 대크기 (개당 중량 70g~100g)',\n",
              " '[ 산지 직송 ] 새 순 하 어 남 첫사랑 꾸 ㄹ 고구마 ( 하 ㄴ 입 / 50 g 내외 ) 3 kg': '[산지직송] 새순 해남 첫사랑 꿀고구마 (한입/50g내외) 3kg',\n",
              " '★ 국내 산소 꼬리 ★ 김 하 지 는 가마솥 꼬리 수육 탕 11 팩': '★국내산소꼬리★ 김하진 가마솥 꼬리수육탕 11팩',\n",
              " '제주 레드 향 중과 2 kg 08-11 과 내외 벌크 포장 2 개 구매 시 4.5 kg 발송': '제주 레드향 중과 2kg 08-11과 내외 벌크포장 2개구매시 4.5kg 발송',\n",
              " '미납 요금': '미납요금',\n",
              " '2020 옥구 농협 귀리 1 kg * 10 팩 ( 총 10 kg )': '2020 옥구농협 귀리 1kg*10팩(총10kg)',\n",
              " '( Q / K 균 일가 ) 눕 는 순간 기절 무중력 토퍼 외 모음 전': '(Q/K균일가)눕는순간 기절 무중력토퍼 외 모음전',\n",
              " '[ NK 365 ] 포스트 바이오 틱스 15 개월': '[NK365] 포스트바이오틱스 15개월',\n",
              " '[ 잭 필드 ] 남성 보 아 푸 어 니트 패키지 3 종': '[잭필드] 남성 보아퍼 니트패키지 3종',\n",
              " '제주 한라 봉 2 kg 중과 8-11 과 / 2 세트 구매 시 500 g 추가': '제주 한라봉 2kg 중과 8-11과/2세트 구매시 500g추가',\n",
              " '[ 11 + 1 팩 ] 김 하 지 는 ★ 우리 소 ★ 뚝배기 불고기 12 팩 ( 7.2 kg ) !!!': '[11+1팩] 김하진 ★우리소★ 뚝배기불고기 12팩 (7.2kg)!!!',\n",
              " '꼬 소 쫄 ㄴ 득 제주 오 메기 떡 20 개 골르 아 담기 ( 팥 / 콩고물 / 흑임자 택 1 )': '꼬소쫀득 제주 오메기떡 20개 골라담기(팥/콩고물/흑임자 택1)',\n",
              " '3 FIT 스마트 훌라후프 1 개': '3FIT 스마트 훌라후프 1개',\n",
              " '[ 포이 ] 여성 팬티 / 노 라인 / 위생 생리 / 보정 / 엉 뽕 / 요실금 / 최다 종류': '[포이]여성팬티/노라인/위생생리/보정/엉뽕/요실금/최다종류 ',\n",
              " '제주 한라 봉 4.5 kg 25-35 과 중소 과 벌크 포장': '제주 한라봉 4.5kg 25-35과 중소과 벌크포장',\n",
              " '에드워드 권 메 로 10 팩 + 특제 소스 2 병 ( 데리 야 끼 1 병 + 겨자 와 인 1 병 )': '에드워드권 메로10팩+특제소스2병(데리야끼1병+겨자와인1병) ',\n",
              " '[ EXR ] 겨울 시즌 오프 특가 다운 / 롱 패딩 / 후드 등 아우터 모음': '[EXR]겨울 시즌오프 특가 다운/롱패딩/후드 등 아우터 모음',\n",
              " '스마트 에 코 비바체 100 매 12 팩 캡 형 외 모음 전': '스마트에코 비바체 100매 12팩 캡형외 모음전 ',\n",
              " '★ 매출 / 재 구매 율 1 등 ★ 국 / 내 / 산 / 검 은 콩 100 % ★ 맷돌 로 갈 아 만들 ㄴ 검 은 콩 두유 ( 185 ml × 105 팩 )': '★매출/재구매율1등★국/내/산/검은콩100%★맷돌로갈아만든검은콩두유(185ml×105팩)',\n",
              " '수협 영광 참 굴비 50 미 ( 대장 대 미 당 70 g )': '수협 영광 참굴비 50미(대장대 미당70g)',\n",
              " '옹기 어 어 된장 1 + 1 세트 [ 어 어 된장 900 g * 4 병 + 어간장 490 ml * 4 병 + 발효 멸치 액 490 m * 2 병 ]': '옹기어된장 1+1세트[어된장900g*4병+어간장490ml*4병+발효멸치액490m*2병]',\n",
              " '[ 자연 맛 남 ] 제주 직송 하 였 노지 감귤 9 kg 중 대과 ( L-2L / 실 중량 )': '[자연맛남] 제주직송 햇 노지감귤 9kg 중대과 (L-2L/실중량)',\n",
              " '[ 생활 공작 소 ] 주방세제 4 L 1 + 1 ( 향 4 종 택 1 )': '[생활공작소] 주방세제 4L 1+1 (향 4종 택1)',\n",
              " '[ 두원 푸드 ] 바다 해미 새우 멸치 김자반 볶음 40 g x 7 봉': '[두원푸드]바다해미 새우 멸치 김자반 볶음 40g x 7봉',\n",
              " '강원 도 진짜 감자 옹 심이 와 장 칼국수 , 감자전 세트': '강원도 진짜 감자 옹심이와 장칼국수, 감자전 세트',\n",
              " '[ 게릴라 ] 우리 쌀 떡 4 종 세트': '[게릴라]우리쌀떡4종세트',\n",
              " '이 수근 의 가 아 평 황 잣 5 병 세트': '이수근의 가평 황잣 5병 세트',\n",
              " '[ 르 에 어 어 ] 플러스 KF-94 마스크 150 매': '[르에어]플러스 KF-94마스크 150매',\n",
              " '★ 총 10 kg ! ★ 고 영 숙의 모듬 수육 곰탕 세트 / 총 10 kg !!': '★총 10kg!★고영숙의 모듬수육곰탕 세트 / 총 10kg!!',\n",
              " 'NnF 여성 패딩 베스트 + 상 , 하 세트 ( 3 종 )': 'NnF 여성 패딩베스트+ 상,하세트(3종)',\n",
              " '밀양 얼음 골 사과 5 kg ( 21-23 과 )': '밀양얼음골 사과 5kg(21-23과)',\n",
              " '[ 선호 본 명란 ] 오 ㄴ 명란 9 팩 + 단 명란 10 팩 / 총 19 팩': '[선호본명란]온명란9팩+단명란10팩/총19팩',\n",
              " '[ GNM 자연 의 품격 ] 건강 하 ㄴ 간 밀크 씨 스 ㄹ 실리 마린 4 박스 ( 4 개월 분 )': '[GNM자연의품격] 건강한 간 밀크씨슬 실리마린 4박스 (4개월분)',\n",
              " '리브 맘 푹신 폭신 양털 토퍼 퀸': '리브맘 푹신폭신 양털토퍼 퀸',\n",
              " '[ 여수 사나이 ] 여수 돌산 갓김치 1.5 kg 국내산 당일 생산': '[여수사나이] 여수돌산갓김치 1.5kg 국내산 당일생산',\n",
              " '1 + 1 카르 닉 USB 충전 식 손 난로 모음 전': '1+1 카르닉 USB 충전식 손난로 모음전',\n",
              " '[ 여수 사나이 ] 갓 피 크 ㄹ 2 kg 국내산': '[여수사나이] 갓피클 2kg 국내산 ',\n",
              " '오리진 타트 체리 주스 12 병': '오리진타트체리주스 12병',\n",
              " '[ 2020 년 김치 품평회 우 수상 ] 태 백김치 세트 포기 13 kg ( 9 kg + 4 kg )': '[2020년 김치품평회 우수상] 태백김치세트 포기 13kg (9kg+4kg)',\n",
              " '미납 통행료 하': '미납통행료합',\n",
              " '겨울 추위 필수 템 ! 패딩 스커트 담요': '겨울추위 필수템! 패딩스커트 담요',\n",
              " '상품명': '상품명',\n",
              " '[ 2020 년 수확 ] 하 어 빛 세척 의성 사과 3 kg * 3 박스 / 총 9 kg ( 총 30 과 ~ 45 과 )': '[2020년수확] 해빛 세척 의성 사과 3kg*3박스/총 9kg (총30과~45과)',\n",
              " '[ 포 어스 ] 물걸레 청소 포 15 팩': '[포어스]물걸레청소포15팩',\n",
              " '[ 대복 ] 대복 백김치 5 kg': '[대복] 대복 백김치 5kg',\n",
              " '테스트 커피': '테스트커피',\n",
              " '신경외과 / 진료비': '신경외과/진료비',\n",
              " '정신 건강 의 학과 / 진료비': '정신건강의학과/진료비',\n",
              " '커 ㄹ 쳐캐 쉬 1 건': '컬쳐캐쉬1건',\n",
              " '우편물': '우편물',\n",
              " '창구 소포': '창구소포',\n",
              " '청양 칠갑산 어머니 구기자 한과': '청양칠갑산어머니구기자한과',\n",
              " '대천 갓바위 조미 구이 김': '대천갓바위조미구이김',\n",
              " '대천 김': '대천김',\n",
              " '어 어 승희 벌꿀': '어승희벌꿀',\n",
              " '순창 밤 동계 밤 국내산 무농약 햇 밤 대보 밤 외 1 개': '순창밤 동계밤 국내산 무농약 햇밤 대보밤외 1개',\n",
              " '그 유명 하 ㄴ 대천 김 김부각 스낵 5 봉 세트': '그 유명한 대천김 김부각스낵 5봉세트',\n",
              " '제주 한라 봉 ( 대 ) 10 kg ( 30 ~ 37 과 )': '제주 한라봉(대) 10kg(30~37과)',\n",
              " '향수 옥천 국민 견과 프리미엄 Mix ( 20 g X 11 봉 ) X 3 박스': '향수옥천 국민견과 프리미엄Mix (20g X11봉)X3박스',\n",
              " '문경 송화 송화 이 고 고기 버섯 500 g': '문경 송화 송화고 고기버섯 500g',\n",
              " '완도 장보고 물산 맛있 는 곱창 돌김 100 장': '완도 장보고물산 맛있는 곱창 돌김 100장',\n",
              " '찹쌀 유과': '찹쌀유과',\n",
              " '남 원 추 ㄴ 향 골 참 도토리 묵': '남원 춘향골 참도토리묵',\n",
              " '논 산 계룡 축협 한 돈 LA 갈비 3 kg': '논산계룡축협 한돈LA갈비 3kg',\n",
              " '설명 절 특별 구성 선물 세트 - 순수 닭 갈비 1 kg * 3 닭다리 살 로 만 든 냉장 상품': '설명절 특별구성 선물세트 - 순수닭갈비 1kg*3 닭다리살로 만든 냉장상품',\n",
              " '[ 복 애플 ] 쿠키 3 종 세트': '[복애플] 쿠키 3종 세트',\n",
              " '한우 양념 소 불고기 500 g 1 + 1 , 총 1 kg': '한우 양념 소불고기 500g 1+1, 총 1kg',\n",
              " '제주 서귀포 레드 향': '제주서귀포레드향',\n",
              " '아삭 하 ㄴ 경북 사과 부사 3 kg 10 ~ 12 과 정품': '아삭한 경북사과 부사 3kg 10~12과 정품',\n",
              " '표고 아빠 네 표고 버섯 선물 세트 [ 웨 ㄹ 빙 5 호 ]': '표고아빠네 표고버섯선물세트 [웰빙5호]',\n",
              " '건강 하 ㄴ 태안 ! 태안 안면도 황토 꿀 ! 맛나 는 고구마 ( 상 ) 3 kg': '건강한 태안! 태안 안면도 황토 꿀!  맛나는 고구마(상) 3kg',\n",
              " '[ 김 가 네 과 일촌 ] 선물 용 대 과 영주 사과 4 kg': '[김가네 과일촌] 선물용 대과 영주 사과 4kg',\n",
              " '청양 칠갑산 구기자 한과': '청양칠갑산구기자한과',\n",
              " '[ 명절 특가 ] 황제 의 아침 숙성 흑 마늘 진액 1000 1 L 1 병 + 쇼핑백 1 장': '[명절특가] 황제의아침 숙성흑마늘진액 1000 1L 1병+ 쇼핑백 1장',\n",
              " '여수 삼산 햇 멸치': '여수삼산햇멸치',\n",
              " '청송 꿀 사과 농원 사과': '청송꿀사과농원사과',\n",
              " '정 읍 [ 이 음 농원 ] 유럽 형 완숙 토마토 ( 농가 직송 ) 2 kg': '정읍[이음농원] 유럽형 완숙 토마토(농가직송) 2kg',\n",
              " '[ 산지 직송 ] 해감 되 ㄴ 자연산 동 죽 1 kg': '[산지직송] 해감된 자연산 동죽 1kg',\n",
              " '보령 대천 김': '보령대천김',\n",
              " '보령 삼육 조미 구이 식탁 김': '보령삼육조미구이식탁김',\n",
              " '홍 주 골 더덕': '홍주골더덕',\n",
              " '오색 떡국 떡 1 kg + 1 kg [ 우리 쌀 , HACCP ]': '오색떡국떡 1kg +1kg [우리쌀,HACCP]',\n",
              " '서귀포 넘버원 농장 레드 향 3 kg ( 11 ~ 15 과 )': '서귀포넘버원농장레드향 3kg(11~15과)',\n",
              " '주 하 ㅁ 식품 한우 사골 곰국 10 팩 ( 1 팩 350 g ) 외 1 개': '주함식품 한우 사골곰국 10팩 (1팩 350g)외 1개',\n",
              " '서천 장터 한산 소 곡주 700 ml ( 13 % )': '서천장터 한산 소곡주 700ml(13%)',\n",
              " '서귀포 넘버원 농장 천혜 향 5 kg ( 15 ~ 18 과 )': '서귀포넘버원농장천혜향 5kg(15~18과)',\n",
              " '거 창덕 유산 골 높 은 다리 사과': '거창덕유산골높은다리사과',\n",
              " '삼백 찬가 연잎 넣 은 한우 맑은 곰탕 500 g 1 개': '삼백찬가 연잎넣은한우맑은곰탕 500g 1개',\n",
              " '여수 돌산 갓김치 1 kg + 갓 물김치 1 kg': '여수 돌산갓김치1kg + 갓물김치1kg',\n",
              " '제주 한라 봉 ( 중 ) 10 kg ( 38 ~ 47 과 )': '제주 한라봉(중) 10kg(38~47과)',\n",
              " '상주 향토 곶감 ( 건시 )': '상주향토곶감(건시)',\n",
              " '[ 생산자 직송 ] 20 년 하 어 남 강미 자 님 의 하 였 꿀 고구마 ( 특상 )': '[생산자직송] 20년 해남 강미자님의 햇 꿀고구마 (특상)',\n",
              " '무안 지주식 곱창 김 50 매': '무안 지주식 곱창김 50매',\n",
              " '상주 곶감 집 곶감 ( 반 건시 ) 외 2 개': '상주곶감집곶감(반건시)외 2개',\n",
              " '[ 보령 장터 ] 만 세 보령 쌀 삼광 미 GOLD 10 kg ( 특등 급 )': '[보령장터]만세보령쌀 삼광미 GOLD 10kg (특등급)',\n",
              " '[ 서산 ] 등심 돈까스 2 팩 + 자연산 치즈 돈까스 2 팩 + 소스 4 팩': '[서산] 등심돈까스 2팩+자연산 치즈돈까스 2팩+소스 4팩',\n",
              " '태 백 곤드레 육개장 4 이 ㄴ 분': '태백곤드레육개장 4인분',\n",
              " '특산 영농 조합 법인 곶감 ( 반 건시 )': '특산영농조합법인곶감(반건시)',\n",
              " '[ 3 대 째 오직 단감 가화 농원 ] 5 kg 무료 배송': '[3대째 오직 단감 가화농원] 5kg 무료배송',\n",
              " '우리 아이 와 함께 먹 는 무농약 귤 ( 2 s ~ 2 L )': '우리 아이와 함께 먹는 무농약 귤(2s~2L)',\n",
              " '인제 용 대리 황태': '인제용대리황태',\n",
              " '왕가 대천 식탁 김': '왕가대천식탁김',\n",
              " '명광 수산 벌교 새꼬막 2 kg 상품 가격 폭등 중': '명광수산 벌교 새꼬막 2kg 상품 가격폭등중',\n",
              " '안동 간고등어 순 살': '안동간고등어순살',\n",
              " '[ 최고 의 선물 ] 그리 ㄴ 식품 춘천 닭 갈비 2 kg ( 국내 산통 다리 살 + 국산 고추 가루 마늘 양파 )': '[최고의선물]그린식품 춘천닭갈비 2kg (국내산통다리살+국산고추가루마늘양파)',\n",
              " '[ 팔 도 농장 ] 제주 화산 토 흙 당근 ( 왕 / 즙 용 )': '[팔도농장] 제주 화산토 흙당근(왕/즙용)',\n",
              " '[ 20 년 첫 수확 / 신안 _ 지주식 곱창 돌김 ] 20 년 첫 수확 _ 태 평 염전 전통 지주식 곱창 돌김 100 매 외 2 개': '[20년 첫수확/신안_지주식 곱창돌김]20년 첫수확_태평염전 전통 지주식 곱창돌김 100매외 2개',\n",
              " '( 제철 ) 전 남 보성 하 진경 님 의 골드 키위 2 kg': '(제철)전남 보성 하진경님의 골드키위 2kg',\n",
              " '제주 직송 대갈 하 지 5 미 ( 220 g 5 마리 ) 총 20 토막 선물 세트': '제주직송 대갈치5미(220g 5마리) 총20토막 선물세트',\n",
              " '[ 만수무 강 ] 명절 한과 선물 세트 [ 특허 출원 名品 유과 ]': '[만수무강] 명절 한과 선물 세트 [특허출원 名品유과]',\n",
              " '전주 두메 산골 生 오리 슬라이스 1 kg 외 1 개': '전주 두메산골 生오리슬라이스 1kg외 1개',\n",
              " '기장 일광 다시마': '기장일광다시마',\n",
              " '단 짜 ㄴ 단짝 한 돈 불고기 400 g': '단짠단짝 한돈 불고기 400g',\n",
              " '강원도 춘천 강명희님 의 춘천 원조 닭 갈비 1 kg ( 국산 통 다리 살 , 국산 고추 가루 마늘 양파 )': '강원도 춘천 강명희님의 춘천 원조닭갈비 1kg(국산통다리살,국산고추가루마늘양파)',\n",
              " '향수 옥천 우리밀 과 임 실 치즈 를 가득 넣 어 만들 ㄴ 치즈 볼 - 사은품 증정 ( 라이 스틱 7 개 )': '향수옥천 우리밀과 임실치즈를 가득넣어 만든 치즈볼-사은품증정(라이스틱7개)',\n",
              " '기장 미역': '기장미역',\n",
              " '[ 한솔 파 ㅁ ] 무농약 생 노 로 궁뎅이 버섯 680 g ( 2 송이 * 4 팩 ) / 1 kg ( 2 송이 * 6 팩 )': '[한솔팜] 무농약 생노루궁뎅이버섯 680g(2송이*4팩)/1kg(2송이*6팩)',\n",
              " '우림 식품 한 돈 사태 500 g': '우림식품 한돈 사태 500g',\n",
              " '횡 성 푸줏간 횡 성한 우 사골': '횡성푸줏간 횡성한우 사골',\n",
              " '고창 2020 급 냉 하 였 왕새우 1 kg': '고창 2020 급냉 햇 왕새우 1kg',\n",
              " '정선 가리왕산 건곤 드레': '정선 가리왕산 건곤드레',\n",
              " '향수 옥천 ( 클릭 금지 ) 한 번 사 면 헤어나오 ㄹ 수 없 는 16 곡 물 곤약 쫄 ㄴ 디기': '향수옥천 (클릭금지) 한번사면 헤어나올수없는16곡물 곤약쫀디기',\n",
              " '오미자 김 4 호': '오미자김4호',\n",
              " '것 이 ㄴ지 현미 누룽지 ( 국산 쌀 100 % ) 최신 제품': '건지현미누룽지(국산쌀100%) 최신제품',\n",
              " '고창 참 바다 복분자 고등어': '고창참바다복분자고등어',\n",
              " '임금님 표 이천 하 ㄴ 우': '임금님표이천한우',\n",
              " '아 아 타토 드립 백 커피 ( 1 박스 24 개 )': '아타토 드립백 커피 (1박스 24개)',\n",
              " '대양 조합 임산물 세트': '대양조합임산물세트',\n",
              " '[ 살 ㄴ 채 가 - 태백산 채 마을 ] 고기 랑 김치 랑 손 만두 1.4 kg + 1.4 kg ( 총 2.8 kg )': '[산채가-태백산채마을] 고기랑 김치랑 손만두 1.4kg+1.4kg (총 2.8kg)',\n",
              " '김장 희 삼 백 곶감 ( 반 건시 )': '김장희삼백곶감(반건시)',\n",
              " '무안 지주식 곱창 김 50 매 외 4 개': '무안 지주식 곱창김 50매외 4개',\n",
              " '낙타 표찰 당면': '낙타표찰당면',\n",
              " '어촌 재래 맛 김': '어촌재래맛김',\n",
              " '봉화 배 몽룡 山 사과': '봉화 배몽룡山사과',\n",
              " '2020 년 첫 수확 국내산 골드 키위 3 kg': '2020년 첫수확 국내산 골드키위 3kg',\n",
              " '영광 법성 정 굴비 국내산 역 걸이 20 미 ( 19 cm 내외 / 1.45 kg 내외 )': '영광 법성정굴비 국내산 역걸이 20미(19cm내외/1.45kg내외)',\n",
              " '[ 남도 장터 ] 백운 주가 복분 자주 360 ml x 6 병': '[남도장터] 백운주가 복분자주 360ml x 6병',\n",
              " '바다 마을 완도 대 활 전복 ( 선물 용 ) 활 전복 10 ~ 11 마리 ( 선물 포장 ) 1 kg 내외': '바다마을완도대활전복(선물용) 활전복10~11마리(선물포장) 1kg내외',\n",
              " '2021 년 제주 화산 토 하 였 감자 ( 중 )': '2021년 제주 화산토 햇 감자(중)',\n",
              " '안동 소주': '안동소주',\n",
              " '[ 강릉 은 정한 과 ] 실 속한 과 선물 세트 1 kg': '[강릉은정한과] 실속한과 선물세트 1kg',\n",
              " '실 손 보험 빠르 ㄴ 청구': '실손보험빠른청구',\n",
              " '수수료': '수수료',\n",
              " '축하 카드 - 사랑 하 어요': '축하카드 - 사랑해요',\n",
              " '착불 배달 우편 물결 제': '착불배달우편물결제',\n",
              " '축하 카드': '축하카드',\n",
              " '새콤달콤 제주감귤 극 조 생 감귤 하우스 귤 5 kg / 10 kg': '새콤달콤 제주감귤 극조생 감귤 하우스귤 5kg/10kg ',\n",
              " '신경과 / 진료비': '신경과/진료비',\n",
              " '국내산 순 사 ㄹ 갈치 150 g * 18 팩 ( 총 2.7 kg )': '국내산순살갈치 150g * 18팩(총 2.7kg)',\n",
              " '[ 바 네 사리 찌 ] 튤립 카 라 볼륨 패딩': '[바네사리찌]튤립 카라 볼륨 패딩',\n",
              " '2020 장 길 영 세척 사과 ( 부사 ) 3 kg * 3 박스 / 총 9 kg': '2020 장길영 세척 사과(부사) 3kg*3박스 / 총9kg',\n",
              " '여성 나이키 데이 브레이크 CK2351-103': '여성 나이키 데이브레이크 CK2351-103',\n",
              " '인 디 브랜드 밍크 베스트': '인디브랜드 밍크베스트',\n",
              " '★ 특집 ! ★ 1 등급 치 ㄴ 환경 오리 로스 18 팩 + 1 팩 더 !': '★특집!★1등급 친환경 오리로스 18팩+1팩 더!',\n",
              " '★ 한 우 우족 ★ 고 영 숙의 궁중 우 족탕 800 g X 11 팩 총 8.8 kg': '★한우우족★고영숙의 궁중우족탕 800g X 11팩 총 8.8kg ',\n",
              " '심장 내과 / 진료비': '심장내과/진료비',\n",
              " '자연산 손질 오징어 260 g ( 1 팩 / 2 미 ) * 10 팩 총 20 미 _ 3': '자연산 손질오징어260g(1팩/2미)*10팩 총20미_3',\n",
              " '산부인과 / 진료비': '산부인과/진료비',\n",
              " '[ 보만 ] 4 in 1 충전 식 핸디 형 무선 청소기 VC 7210': '[보만] 4in1 충전식 핸디형 무선청소기 VC7210',\n",
              " '[ 국내산 콩 100 % ] 담 양 생 청국장 170 g 6 개': '[국내산 콩 100%] 담양 생 청국장 170g 6개',\n",
              " '소아 청소년 과 / 진료비': '소아청소년과/진료비',\n",
              " '르 헤브 겨울 차렵 이 불 진드기 방지 먼지 없 는 이불 SS Q': '르헤브 겨울 차렵이불 진드기방지 먼지없는 이불 SS Q',\n",
              " '3 FIT 스마트 훌라후프 1 + 1': '3FIT 스마트 훌라후프 1+1',\n",
              " '미 로 구수 하 ㄴ 누룽지 3 종 세트 ( 50 봉 )': ' 미루 구수한 누룽지 3종세트(50봉)',\n",
              " '[ 안동 맛 자반 ] 손 지 ㄹ 안동 간고등어 150 gx 10 팩': '[안동맛자반] 손질 안동간고등어 150gx10팩',\n",
              " '[ 도미 솔 김치 ] 왕비 포기김치 15 kg': '[도미솔김치] 왕비포기김치 15kg    ',\n",
              " '가족 세척 사과 ( 부사 ) 3 kg * 3 박스 + 사과 주스 총 3 봉 추가 구성': '가족 세척사과(부사) 3kg*3박스+사과주스 총3봉 추가구성 ',\n",
              " '땅 끝 햇살 秀 하 어 남새 청 무 쌀 10 kg + 10 kg': '땅끝햇살秀 해남새청무쌀 10kg + 10kg ',\n",
              " '무주 반딧불 포기김치 10 kg': '무주 반딧불 포기김치 10kg',\n",
              " '정형외과 / 진료비': '정형외과/진료비',\n",
              " '[ 힐링 타임 ] 오래 쓰 는 질기 어요 고무장갑 2 + 1 ( 총 3 개 ) M / L': '[힐링타임] 오래쓰는 질겨용 고무장갑 2+1 (총3개) M/L',\n",
              " '[ 초 특가 ] [ 피 유 블 ㄹ 릭 ] 천연 소가죽 윈 터 드라이빙 슈즈': '[초특가][피유블릭] 천연소가죽 윈터 드라이빙슈즈',\n",
              " '프리미엄 규조토 발 매트 시리즈': '프리미엄 규조토 발매트 시리즈',\n",
              " '극세사 수면 바지': '극세사수면바지',\n",
              " '배 연정 하 ㄴ 우 소머리 곰탕 600 gx 14 팩 + 수육 250 gx 7 팩': '배연정한우소머리곰탕600gx14팩+수육250gx7팩',\n",
              " '미인 콜라겐 26 박스 ( 52 주 분 )': '미인콜라겐 26박스(52주분)',\n",
              " '국내산 무안 순수 양파 즙 100 ml ( 30 / 60 / 90 / 120 포 )': '국내산 무안 순수양파즙 100ml(30/60/90/120포)',\n",
              " '[ 1 + 1 + 1 ] 스타일 / 기능성 가 아 성비 좋 은 남성 드 로즈 3 종 세트 모음 6 종 중 택 1': '[1+1+1]스타일/기능성 가성비좋은 남성드로즈 3종세트 모음 6종 중 택1',\n",
              " '[ 여수 사나이 ] 파 김치 1 kg 국내산 당일 생산': '[여수사나이] 파김치 1kg 국내산 당일생산',\n",
              " '관절 사 ㄹ 리도 M 24 주 분 ( 1 세트 )': '관절살리도M 24주분(1세트)',\n",
              " '[ 자연 맛 남 ] 제주 한라 봉 선물 세트 4.5 kg ( 실 중량 / 17 과 내외 )': '[자연맛남] 제주 한라봉 선물세트 4.5kg (실중량/17과내외)',\n",
              " '★ 선물세트 ★ 영광 법성포 특대 장대 10 마리': '★선물세트★영광법성포 특대장대 10마리',\n",
              " '시즌 오프 땡 처리 기모 티셔츠 패딩 조끼 기모 겨울 바지 38 종': '시즌오프 땡처리 기모 티셔츠 패딩조끼 기모 겨울바지 38종',\n",
              " '[ 자연 맛 남 ] 제주 흙 당근 5 kg ( 왕 특 )': '[자연맛남] 제주 흙 당근 5kg (왕특)',\n",
              " '[ 인천 수협 수매 ] 서해 안 반건조 두절 참조기 400 gx 1 팩 / 10 ~ 12 미': '[인천수협수매] 서해안 반건조 두절 참조기 400gx1팩/10~12미',\n",
              " '굿 슬립 롤링 목 어깨 베개 쿠션 안마기 MVP-1555': '굿슬립 롤링 목어깨 베개 쿠션 안마기 MVP-1555',\n",
              " '[ 어간장 추가 ] 김 정배 명인 젓갈 5 종 10 통 ( 새우젓 , 어리 굴젓 , 낙지 , 오징어 , 갈치 쌈 장 ) + 어간장 1 병': '[어간장추가]김정배명인 젓갈 5종10통 (새우젓,어리굴젓,낙지,오징어,갈치쌈장)+어간장1병',\n",
              " '김 규흔 명장 의 실속 한과 세트 ( 유과 6 봉 + 약 과 6 봉 )': '김규흔명장의 실속 한과 세트 (유과6봉+약과6봉)',\n",
              " '[ 벨리 에 르 ] 극세사 토퍼 외 모음': '[벨리에르] 극세사 토퍼 외 모음',\n",
              " '[ 몬 테 밀라노 ] 데일리 타올 15 종 세트': '[몬테밀라노]데일리타올15종세트',\n",
              " '에어 볼 키친 타올 150 매 4 + 2 롤 2 개 총 12 롤': '에어볼 키친타올 150매 4+2롤 2개 총12롤',\n",
              " '경북 하 였 부사 사과 가정용 ( 흠 과 ) 5 kg 29-33 과': '경북 햇 부사 사과 가정용(흠과) 5kg 29-33과',\n",
              " '제주 안심 밥상 제주 흑 돼지 보쌈 용 400 g x 3 팩 총 1.2 kg': '제주안심밥상 제주흑돼지 보쌈용 400g x 3팩 총1.2kg',\n",
              " '[ 제주 안심 밥상 ] 제주 양돈 농협 제주 흑 돼지 구이 사 ㄹ 400 g 1 + 1 + 1 ( 3 팩 )': '[제주안심밥상]제주양돈농협 제주흑돼지 구이살 400g 1+1+1(3팩)',\n",
              " '김 순 자 명장 포기 13 kg': '김순자명장 포기13kg',\n",
              " '[ 공 영 X 김 정문 알로에 ] [ 역대 급 혜택 ] [ 전 고객 2 X 미니 크림 + 배리어 크림 증정 ] 기초 케어 특집 전': '[공영X김정문알로에][역대급혜택][전고객2X미니크림+배리어크림 증정]기초케어 특집전',\n",
              " '★ 1 + 등급 하 ㄴ 우 ★ 에드워드 권의 한우 양념 구이 / 2.4 kg !': '★1+등급한우★에드워드권의 한우양념구이 / 2.4kg!',\n",
              " '[ 게릴라 ] 홍 천약 도라지 청 100 g * 4 병': '[게릴라] 홍천약도라지청 100g * 4병',\n",
              " '[ 다담 은 ] 전통 떡갈비 80 g × 40 장 + 매콤 낙지 떡갈비 80 g × 20 장': '[다담은] 전통떡갈비80g×40장+매콤낙지떡갈비80g×20장',\n",
              " '★ 국내 산 소 갈비 ★ 조리기 능장 고 영 숙의 궁중 특 갈비탕 10 팩 ( 총 7 kg )': '★국내산 소갈비★조리기능장 고영숙의 궁중 특 갈비탕 10팩(총 7kg) ',\n",
              " '가정의 학과 / 진료비': '가정의학과/진료비',\n",
              " '정 을 나누 는 의 령 명물 먹거리 의 령 부자 망개떡 40 개': '정을나누는 의령명물 먹거리 의령부자망개떡 40개',\n",
              " '문배 술': '문배술',\n",
              " '서귀포 두 모 악 천혜 향': '서귀포두모악천혜향',\n",
              " '상주 곶감 집 곶감 ( 반 건시 )': '상주곶감집곶감(반건시)',\n",
              " '서귀포 사랑 농원 레드 향': '서귀포사랑농원레드향',\n",
              " '[ 봉화 미담 ] 고당 도 부사 고랭지 사과 # 가정용 흠집 사과 # 10 kg 33 ~ 39 과': '[봉화미담]고당도 부사 고랭지 사과 # 가정용 흠집사과 # 10kg 33~39과',\n",
              " '리하 셀 이 ㄴ 터 이 ㄴ 시브 배 ㄹ 런 싱 모이 스처 크림 - 50 ml': '리하셀 인텐시브 밸런싱 모이스처 크림 - 50ml',\n",
              " '완도 친구 참전 복': '완도친구참전복',\n",
              " '청송 초당 골 사과': '청송초당골사과',\n",
              " '[ 유기 샘 ] 하루 견과 백 년 동안 견과 28 일 분': '[유기샘] 하루견과 백년동안견과 28일분',\n",
              " '통영 임정 욱 님 의 무색소 명란젓 500 g': '통영 임정욱님의 무색소 명란젓 500g',\n",
              " '노지 하 였 조 생 감귤 10 kg 소과 로얄 ( 2S-S / M )': '노지 햇 조생감귤 10kg 소과로얄(2S-S/M)',\n",
              " '홍 쌍 리 청매 실 반찬 세트': '홍쌍리청매실반찬세트',\n",
              " '고흥 키위 삼형 제 달달 하 ㄴ 레드 키위 2 kg 소과': '고흥키위삼형제 달달한 레드키위 2kg 소과',\n",
              " '[ 푸른 들판 ] 국내산 상황 버섯 분말 가루': '[푸른들판]국내산 상황버섯 분말 가루',\n",
              " '청송 주왕산 고랭지 꿀 사과': '청송주왕산고랭지꿀사과',\n",
              " '빨갛 ㄴ 꿀 땋 ㄴ지 사과': '빨간꿀딴지사과',\n",
              " '통영 류 민 상회 멸치': '통영류민상회멸치',\n",
              " '제주 직송 도시락 갈치 ( 400 g x 3 팩 ) 2 세트 구매 시 1 팩 추가 증정': '제주직송 도시락갈치(400g x 3팩) 2세트 구매 시 1팩 추가 증정',\n",
              " '공주 정 안 알밤 1 차 탈피 밤': '공주정안알밤 1차 탈피밤',\n",
              " '완도 진영 물산 김': '완도진영물산김',\n",
              " '진안 시 케이 푸드 불 에 굽 ㄴ 닭 가슴살': '진안 시케이푸드 불에구운 닭가슴살',\n",
              " '즐기 어 찾김 실 속형 1 호 도시락 김 선물 세트': '즐겨찾김 실속형1호 도시락김 선물세트',\n",
              " '제주 창해 수산 갈치': '제주창해수산갈치',\n",
              " '혜성 식품 오마니 감자떡 1.5 kg ( 30 * 50 ) 강원도 감자떡': '혜성식품 오마니 감자떡1.5kg(30*50)강원도감자떡',\n",
              " '( 오늘 바다 ) 국내산 싱싱 하 ㄴ 통영 생굴 1 kg': '(오늘바다) 국내산 싱싱한 통영 생굴 1kg',\n",
              " '유기농 청 보리 3 kg': '유기농 청보리 3kg',\n",
              " '완도 제일 물산 최고 집 미역': '완도제일물산최고집미역',\n",
              " '뜸 부기 쌀 로 빚 은 모시 떡국 떡 1 kg': '뜸부기 쌀로 빚은 모시 떡국떡 1kg',\n",
              " '시루 연 전통 식품 품질 인증 우리 쌀 떡국 떡 2 kg': '시루연 전통식품품질인증 우리쌀 떡국떡 2kg',\n",
              " '뜨끈 하 ㄴ 국물 이 땡기 ㄹ 때 ! 미 보 어묵 탕 -400 gx 2 봉': '뜨끈한 국물이 땡길때! 미보 어묵탕-400gx2봉',\n",
              " '바다 마을 완도 활 전복 ( 선물 용 ) 활 전복 14 ~ 15 미 선물 포장 1 kg 내외': '바다마을완도활전복(선물용) 활전복 14~15미 선물포장 1kg내외',\n",
              " '나 아 주봉 황 배': '나주봉황배',\n",
              " '완주 한 돈 뒷 고기 꼬들 살 , 보 ㄹ 터 이 기 살 ㄹ , 두 항정 사 ㄹ 500 g 골르 아 담기': '완주 한돈 뒷고기 꼬들살, 볼테기살, 두항정살 500g 골라담기',\n",
              " '맨밥 에 비비 어 먹 는 곤드레 윤영 근 의 착하 ㄴ 나물 곤드레 , 시래기 , 취나물 , 유채 나물 외 2 개': '맨밥에 비벼먹는 곤드레 윤영근의 착한나물 곤드레, 시래기, 취나물, 유채나물외 2개',\n",
              " '낳 ㄴ 드 르 농장 한라 봉': '난드르농장한라봉',\n",
              " '스 어 천우 일 식품 김': '서천우일식품김',\n",
              " '[ 약 선 푸드 ] 불향 닭 근위 ( 닭똥 집 ) 숯불 구이 ( 2 이 ㄴ 분 ) 250 g': '[약선푸드] 불향 닭근위(닭똥집) 숯불구이 (2인분)250g',\n",
              " '[ 명품 선물 ] 한라 봉 + 천혜 향 혼합 선물 세트 3 kg ★ 부직포 가방 증정': '[명품선물] 한라봉+천혜향 혼합 선물세트 3kg ★부직포가방 증정',\n",
              " '제주 레드 향 ( 특대 ) 5 kg ( 19 ~ 23 과 )': '제주 레드향(특대) 5kg(19~23과)',\n",
              " '노지 하 였 조 생 감귤 10 kg 중 대과 ( L-2L )': '노지 햇 조생감귤 10kg 중대과(L-2L)',\n",
              " '[ 말하 는 은행나무 ] 저온 압착 참기름 300 ml': '[말하는 은행나무] 저온압착 참기름 300ml',\n",
              " '서산 생강 하 ㄴ 과 1 kg 외 2 개': '서산생강한과 1kg외 2개',\n",
              " '고랭지 장 수사과 후지 4 kg 16-18 과': '고랭지 장수사과 후지  4kg 16-18과',\n",
              " '영동 대학 교포 도 즙': '영동대학교포도즙',\n",
              " '향토 농산 고려 홍삼': '향토농산고려홍삼',\n",
              " '전주 저온 숙성 맥반석 굽 ㄴ 계란': '전주 저온숙성 맥반석 구운계란',\n",
              " '[ 전 북 마을 기업 ] 장수 성 암산 들 산 야초 ( 山野草 ) 장아찌 고르 아 담기 외 1 개': '[전북마을기업] 장수 성암산들 산야초(山野草) 장아찌 골라담기외 1개',\n",
              " '[ 팔 도 농장 ] 무안 양파 ( 중 )': '[팔도농장] 무안 양파(중)',\n",
              " '전통 고추장 굴비': '전통고추장굴비',\n",
              " '꼭지 없 는 스낵 토마토 1 kg 2 kg 3 kg': '꼭지없는 스낵토마토 1kg 2kg 3kg',\n",
              " '[ 농협 ] 의성 진 세척 사과 3 kg # 부 사 # 산지 직송': '[농협] 의성 진 세척사과 3kg # 부사 # 산지직송',\n",
              " '[ 호탄 청국장 ] 국산 콩 100 % 냄새 없 는 청국장 800 g ( 200 g x 4 개 )': '[호탄청국장] 국산콩 100% 냄새없는 청국장 800g(200g x 4개)',\n",
              " '케어 웨 ㄹ KF 94 황 사방 역 일회용 마스크 식 약 처 인증 화이트 대형': '케어웰 KF94 황사방역 일회용 마스크 식약처인증 화이트 대형',\n",
              " '영광 법성포 이조 굴비': '영광법성포이조굴비',\n",
              " '제주 직송 올 탑 농원 하 였 노지 감귤 5 kg 소 과외 2 개': '제주직송 올탑농원 햇 노지감귤 5kg 소과외 2개',\n",
              " '[ 태흥 하 ㄴ 돈 ] 국내산 쫄깃 하 ㄴ 목살 구이 용 200 g x 3': '[태흥한돈] 국내산 쫄깃한 목살 구이용 200g x 3',\n",
              " '순창 밤 동계 밤 국내산 무농약 햇 밤 대보 밤': '순창밤 동계밤 국내산 무농약 햇밤 대보밤',\n",
              " '[ 대 구축 혀 / 팔 ㄹ 공상 강 하 ㄴ 우 ] 한우 정육 세트 5 호': '[대구축협/팔공상강한우] 한우 정육세트 5호',\n",
              " '제주 어촌 마을 갈하 지 . 고등어 세트': '제주어촌마을갈치.고등어세트',\n",
              " '[ 달팽이 장터 ] 주부 님 들 ㄹ 반찬 걱정 그만 ~~ 바다 愛 재래 복분자 김': '[달팽이장터] 주부님들 반찬걱정 그만~~ 바다愛재래복분자김',\n",
              " '황태 포 ( 특 )': '황태포(특)',\n",
              " '서귀포 넘버원 농장 한라 봉': '서귀포넘버원농장한라봉',\n",
              " '덩치 소 곱창 전골 -1 kg [ 우 동사리 무료 증정 이벤트 ! ]': '덩치 소곱창전골-1kg [우동사리 무료증정 이벤트!]',\n",
              " '( 제철 ) 전 남 벌교 공 태 균 님 의 피 꼬막 사 ㄹ ( 자숙 ) 300 g × 2 개': '(제철)전남 벌교 공태균님의 피꼬막살 (자숙) 300g×2개',\n",
              " '통영 유기농 키위 참 다래 2 kg': '통영 유기농키위 참다래 2kg',\n",
              " '양 평 다물 ㄹ 농산 한과': '양평다물농산한과',\n",
              " '권 여사 찹쌀 수제 김부각 30 g * 8 봉 세트': '권여사 찹쌀 수제 김부각 30g*8봉 세트',\n",
              " '중원 청명주': '중원청명주',\n",
              " '명인 쌀 조청 5 kg / 꿀 조청 물엿 / 국가 지정 조청 , 엿 분야 전통 식품 명인 강 봉 석': '명인 쌀조청 5kg/꿀 조청 물엿/국가지정 조청,엿 분야 전통식품명인 강봉석',\n",
              " '여수 돌산 갓김치 1 kg + 동치 미 1 kg 외 5 개': '여수 돌산갓김치1kg + 동치미1kg외 5개',\n",
              " '[ 락 토리 움 ] 프로 바이오 틱스 생 유산균 50 포 X 2 통 ( 100 일 분 ) 외 3 개': '[락토리움] 프로바이오틱스 생유산균 50포X2통(100일분)외 3개',\n",
              " '박은숙님 이 직접 생산 / 판매 하 는 무안 황토 골 새 송이 버섯 특상 1 kg': '박은숙님이 직접 생산/판매하는 무안 황토골새송이버섯 특상 1kg',\n",
              " '[ 웨 ㄹ 빙 채소 ] 제주 화산 토 흙 당근 ( 상 ) 3 kg + 콜라 비 3 kg': '[웰빙채소] 제주 화산토 흙당근(상)3kg+콜라비3kg',\n",
              " '제주 우진 수산 고등어': '제주우진수산고등어',\n",
              " 'CJ 스팸 8 호 선물세트 ( 개별 무료 배송 )': 'CJ 스팸 8호 선물세트(개별무료배송)',\n",
              " '국내산 알배기 크 ㄴ 꽃게 8 팩 _ 3': '국내산 알배기 큰 꽃게 8팩_3',\n",
              " '설날 친척 맞이 ! 개 당 263 원 칫솔 30 개 외 모음': '설날 친척맞이! 개당 263원 칫솔 30개 외 모음',\n",
              " '★ 11 kg ★ [ 전 진주 요리 연구가 ] 가 정식 김치 세트 ( 포기 7 kg + 총각 3 kg + 파 1 kg )': '★11kg★[전진주 요리연구가]가정식 김치세트(포기7kg+총각3kg+파1kg)',\n",
              " '★ 기획 특가 ★ 달구지 국내산 돼지 막창 ( 총 11 팩 + 소스 5 봉 )': '★기획특가★ 달구지 국내산 돼지막창(총 11팩+소스5봉)',\n",
              " '[ 동안 동 농협 ] 새콤달콤 부사 세척 사과 3 kg ( 12 과 내 )': '[동안동농협] 새콤달콤 부사 세척사과 3kg (12과내)',\n",
              " '알 ㄴ 과 / 진료비': '안    과/진료비',\n",
              " '두리반 김치 2 종 11 Kg ( 포기 8 kg + 갓김치 3 kg )': '두리반 김치 2종 11Kg (포기8kg + 갓김치3kg)',\n",
              " '강원도 감자 옹 심이 와 장 칼국수 , 감자전 세트': '강원도 감자 옹심이와 장칼국수, 감자전 세트',\n",
              " '서귀포 한라 봉 2 kg 중과 8-11 과 / 2 세트 구매 시 500 g 추가': '서귀포 한라봉 2kg 중과 8-11과/2세트 구매시 500g추가',\n",
              " '[ 코멕스 ] 설 냉장고 정리 용품 ( 바이오 글라스 ) 모음 전': '[코멕스] 설 냉장고 정리용품(바이오글라스) 모음전',\n",
              " '[ 멍멍 야옹 ] LCD 바리 깡 세트 _ 기획 초 특가 ( HYSS-0003 )': '[멍멍야옹]LCD바리깡세트_기획 초특가(HYSS-0003)',\n",
              " '[ 파 ㅁ 투 맘 ] 촉촉 달콤 꾸 ㄹ 고구마 3 kg / 5 kg': '[팜투맘] 촉촉달콤 꿀고구마 3kg/5kg ',\n",
              " '흉부 외과 / 진료비': '흉부외과/진료비',\n",
              " '[ 마 티 ㄹ라 ] 이브 정원 피그 먼트 이불 겸 패드 ( SS )': '[마틸라] 이브정원 피그먼트 이불겸패드(SS)',\n",
              " '★ 기획 초 특가 ★ [ 퓨 라 ] 호 아 장지 25 m _ 36 롤 * 3 팩 108 롤': '★기획초특가★[퓨라]화장지25m_36롤*3팩108롤',\n",
              " '[ SNRD ] 여성 키높이 기모 겨울 슬립 오 ㄴ 토끼털 슬립 온': '[SNRD] 여성 키높이 기모 겨울 슬립온 토끼털슬립온',\n",
              " '[ 바보 사랑 ] 모던 파스텔 디저트 디너 포크 ( 4 color ) annahouse': '[바보사랑]모던 파스텔  디저트디너 포크(4color)annahouse',\n",
              " '울릉도 명이 나물 10 봉 + 부 지 갱 이 5 봉 [ 총 15 봉 ]': '울릉도 명이나물 10봉 + 부지갱이 5봉 [총 15봉]',\n",
              " '수협 촉촉 오징어 특대 총 16 미': '수협 촉촉오징어 특대 총16미',\n",
              " '유가 네 닭 갈비 세트 9 팩 + 쫄 면 사리 2 팩 ( 100 % 국내 산 닭 넓적다리 살 )': '유가네 닭갈비 세트 9팩 + 쫄면사리 2팩(100% 국내산 닭 넓적다리살)',\n",
              " '메디 하 이 ㅁ 6 L 대용량 디지털 에어 프라이어 AFM53-M1': '메디하임 6L 대용량 디지털 에어프라이어 AFM53-M1',\n",
              " '★ 국내 산 소 등심 ★ 에드워드 권의 흑 마늘 부 추파 불고기 13 팩 !': '★국내산 소등심★에드워드권의 흑마늘 부추파불고기 13팩!',\n",
              " '[ 도미 솔 김치 ] 왕비 포기김치 13 kg + 김치 어묵 만두 2 봉': '[도미솔김치] 왕비포기김치 13kg + 김치어묵만두 2봉  ',\n",
              " '[ 바 네 사리 찌 / 로 이 바 셋 ] 여성 극세사 / 기모 본 딩 팬츠 3 종 세트': '[바네사리찌/루이바셋]여성 극세사/기모 본딩 팬츠 3종세트',\n",
              " '매이 ㄹ 해초 샐러드 35 봉 + 누룽지 10 봉': '매일 해초 샐러드 35봉+누룽지10봉',\n",
              " '[ 2020 수 확 ] 자연 향 세척 사과 ( 미얀마 품종 ) 3 kg * 3 박스 / 총 9 kg': '[2020수확] 자연향 세척사과(미얀마품종) 3kg*3박스 / 총9kg',\n",
              " '[ 안 흥 찐빵 ] 하 ㄹ 매안 흥 찐빵 25 개 4 가지 맛': '[안흥찐빵] 할매안흥찐빵 25개 4가지맛',\n",
              " '[ BFL ] 소프트 터치 기모 셔츠 7 종 ( 여성 )': '[BFL] 소프트터치 기모 셔츠 7종(여성)',\n",
              " '포항 구룡포 참 솔 완전 손질 과 메기 10 마리': '포항 구룡포 참솔 완전손질 과메기 10마리',\n",
              " '[ 명가 미곡 ] 지리산 메뚜기 쌀 찹쌀 10 kg': '[명가미곡]지리산메뚜기쌀 찹쌀10kg',\n",
              " '[ 데일리 젠틀맨 ] 20 년 겨울 정장 팬츠 3 종 세트': '[데일리젠틀맨] 20년 겨울 정장팬츠 3종세트',\n",
              " '[ 거제 직송 ] 당일 수확 하 ㄴ 신선 하 ㄴ 홍합 5 kg / 10 kg': '[거제직송] 당일수확한 신선한 홍합 5kg/10kg',\n",
              " '★ 한 우 1 등급 ★ 강 병원 언 양식 한판 구이 10 판 ( 1.8 kg )': '★한우 1등급★ 강병원 언양식 한판 구이 10판 (1.8kg)',\n",
              " '[ 1 / 22 단 하루 ] [ 공 영 X 강 블 ㄹ 리 ] 스킨 케어 인기 제품 특집 전 / 전 구매 고객 사은품 증정 !': '[1/22 단하루][공영X강블리]스킨케어 인기제품 특집전 /전구매 고객 사은품 증정!',\n",
              " '★ 국내 산 양지 사태 ★ 오롯 담 나 주 곰탕 10 팩': '★국내산 양지 사태★ 오롯담 나주곰탕 10팩',\n",
              " '강원도 6 년 근 피더 덕 1.5 kg': '강원도 6년근 피더덕 1.5kg',\n",
              " '[ 게릴라 ] 소문 난 광천 재래 김 120 봉': '[게릴라]소문난 광천 재래김 120봉',\n",
              " '고당 도 서귀포 감귤 로열 과 4.5 kg ( 실 중량 )': '고당도 서귀포 감귤 로열과 4.5kg(실중량)',\n",
              " '[ 달 ㄴ 품 ] 순천만 하이 아미 햅쌀 10 kg * 1 포 / 총 10 kg': '[단품]순천만 하이아미 햅쌀 10kg*1포 / 총10kg',\n",
              " '[ 게릴라 초 특가 ] 하 ㄴ 돈 튀기 어 나오 ㄴ 통 등심 돈까스 12 팩 ! ( 1.44 kg )': '[게릴라초특가] 한돈 튀겨나온 통등심 돈까스 12팩!(1.44kg)',\n",
              " '[ 제우스 ] KF 94 마스크 150 매': '[제우스] KF94 마스크 150매',\n",
              " '[ 바다 소풍 ] 완도 특 大 활 전복 21 미 ( 미 당 80 g ~ 90 g )': '[바다소풍]완도 특大활전복 21미(미당80g~90g)',\n",
              " '시 서스 필 다이어트 16 주 분': '시서스 필 다이어트 16주분',\n",
              " '[ 21 년 1 월 이후 수확 ] 제주 레드 향 1.5 kg * 3 박스': '[21년 1월 이후 수확] 제주 레드향 1.5kg*3박스',\n",
              " '[ 오롯 담 ] 우리 소 양념 찜 갈비 500 g × 6 팩': '[오롯담] 우리소 양념 찜갈비500g×6팩',\n",
              " '[ 모스 트맘 ] 집 콕 라이프 필수 템 파자마 세트 / 홈 웨어 64 종': '[모스트맘] 집콕 라이프 필수템 파자마세트/홈웨어 64종',\n",
              " '[ 피아 렌 ] 스마트 4 in 1 샤프 느 어 칼 갈이 / 가위 갈이': '[피아렌] 스마트 4in1 샤프너 칼갈이/가위갈이',\n",
              " '완도 직송 곱창 김 특품 50 장 / 100 장': '완도직송 곱창김 특품 50장/100장',\n",
              " '윈 터 양털 실내화 슬리퍼 사무실 집 털실 내화 겨울 신발': '윈터 양털 실내화 슬리퍼 사무실 집 털실내화 겨울신발 ',\n",
              " '구룡포 과 메기 모듬 세트 ( 과 메기 5 미 + 야채 초장 세트 )': '구룡포 과메기모듬세트(과메기5미+야채초장세트)',\n",
              " '바른 세탁소 EWG 등급 주방세제 4 L 2 개 + 펌프 용기 증정': '바른세탁소 EWG등급 주방세제 4L 2개 + 펌프용기증정',\n",
              " '[ 상시 ] 강원도 명물 더덕 무침 ( 13 팩 )': '[상시]강원도명물더덕무침(13팩)',\n",
              " '[ 춘천 닭 갈비 ] 국내산 닭 으로 만들 ㄴ 순 사 ㄹ 춘천 닭 갈비 500 x 4 팩': '[춘천닭갈비]국내산 닭으로 만든 순살 춘천닭갈비 500 x 4팩',\n",
              " '쌀눈 쌀 푸 어 핑 수제 누룽지 3 종 ( 총 36 봉 )': '쌀눈쌀 퍼핑 수제 누룽지 3종 (총36봉)',\n",
              " '[ 오 초록 ] 동해안 반건조 하 였 양미리 2 두름 40 미': '[오초록] 동해안 반건조 햇 양미리 2두름 40미',\n",
              " '★ 게릴라 ★ 저온 숙성 우리 소 촉 촉 육포 25 봉': '★게릴라★ 저온숙성우리소촉촉육포 25봉',\n",
              " '따뜻 하 고 포근 하 ㄴ 여성 데일리 밍크 수면 잠옷 세트': '따뜻하고 포근한 여성 데일리 밍크 수면 잠옷세트 ',\n",
              " '[ 자연 맛 남 ] 제주 산 손질 고등어 사 ㄹ 특대 10 팩 ( 1 . 6kg-1 . 8 kg )': '[자연맛남] 제주산 손질 고등어살 특대 10팩(1.6kg-1.8kg)',\n",
              " '2020 년 햅쌀 경북 상주 특등 급 일품 아자 개 쌀 10 kg': '2020년 햅쌀 경북 상주 특등급 일품 아자개쌀 10kg',\n",
              " '★ 방수 4 등급 ★ 블루 밍 비데 퓨어 화이트': '★방수4등급★블루밍비데 퓨어화이트',\n",
              " '홈 쇼핑 HIT 홈 트레이닝 다이어트 헬스 운동 기구': '홈쇼핑HIT 홈트레이닝 다이어트 헬스 운동기구',\n",
              " '제주 천혜 향 1.5 kg * 3 박스': '제주 천혜향 1.5kg*3박스',\n",
              " '[ 캐나다 산 ] 올 리비아 헤 ㄹ 시 동결 건조 로얄 젤리 분말 4 병': '[캐나다산] 올리비아 헬시 동결건조 로얄젤리 분말4병',\n",
              " '[ 캐나다 산 ] 올 리비아 헤 ㄹ 시 동결 건조 로얄 젤리 분말 8 병': '[캐나다산] 올리비아 헬시 동결건조 로얄젤리 분말8병',\n",
              " '무 릅 용 찜질 팩 무릎 용 찜질 팩 황토 냉온 찜질 팩 온찜질 팩': '무릅용찜질팩 무릎용찜질팩 황토냉온찜질팩 온찜질팩',\n",
              " '혈액 종양 / 진료비': '혈액종양/진료비',\n",
              " '나 주 정가 네 배': '나주정가네배',\n",
              " '핑크 호 접 란 ( 1 )': '핑크 호접란(1)',\n",
              " '숲 골 임 실 치즈 마을 프로 바이오 요거트 플레인 더 진하 ㄴ 플레인 900 ml 농 후 발효유 외 2 개': '숲골 임실치즈마을 프로바이오 요거트 플레인 더진한 플레인 900ml 농후발효유외 2개',\n",
              " '대천 맛 김': '대천맛김',\n",
              " '완도 제일 물산 최고 집 멸치': '완도제일물산최고집멸치',\n",
              " '즐기 어 찾김 도시락 김 선물 세트': '즐겨찾김 도시락김 선물세트',\n",
              " '[ 봄 내 푸드 ] 춘천 닭 갈비 1 kg 강원도 춘천 직송 !': '[봄내푸드] 춘천닭갈비 1kg 강원도 춘천 직송!',\n",
              " '영광 법성포 굴비 마을 굴비': '영광법성포굴비마을굴비',\n",
              " '통영 유기농 키위 참 다래 2 kg 외 1 개': '통영 유기농키위 참다래 2kg외 1개',\n",
              " '[ 남도 장터 ] 봄 푸드 수제 돈까스 380 g ( 3 ~ 5 장 ) 외 2 개': '[남도장터] 봄푸드 수제 돈까스 380g(3~5장)외 2개',\n",
              " '바다 마을 완도 활 전복 ( 선물 용 ) 활 전복 12 ~ 13 마리 ( 선물 포장 ) 1 kg 내외': '바다마을완도활전복(선물용) 활전복 12~13마리(선물포장) 1kg내외',\n",
              " '내 강토 무 항생제 돼지 갈비': '내강토 무항생제 돼지갈비',\n",
              " '기장 다시마': '기장다시마',\n",
              " '[ 전 북 사회적 기업 ] 김 제 우리밀 프리미엄 파운드 케익 ( 아몬드 / 호두 선택 )': '[전북사회적기업] 김제 우리밀 프리미엄 파운드 케익(아몬드/호두 선택)',\n",
              " '삼백 하 ㄴ 우 맑 은 곰탕 떡국 세트 2 ~ 3 인분': '삼백한우맑은곰탕떡국세트 2~3인분',\n",
              " '노지 하 였 조 생 감귤 10 kg 프리미엄 ( S )': '노지 햇 조생감귤 10kg 프리미엄(S)',\n",
              " '[ 팬 캡 + 부직포 가방 ] 선물 용 영주 풍기 사과 4 kg 11 ~ 13 과 # 대 크기 # 제 수용 # 부사': '[팬캡+부직포가방] 선물용 영주풍기사과 4kg 11~13과 #대크기 #제수용 #부사',\n",
              " '( 제철 ) 녹차 수도 보성 골드 키위 2 kg': '(제철)녹차수도 보성 골드키위 2kg',\n",
              " '이화 배 명품 혼합 세트 ( 자연 )': '이화배명품혼합세트(자연)',\n",
              " '고구마 5 kg , 10 kg 한입 크기 [ 2020 년 산 , 공덕 농협 , 5 kg / 10 kg 선택 ]': '고구마 5kg, 10kg 한입크기 [2020년산, 공덕농협, 5kg/10kg 선택]',\n",
              " '모나리자 각 티슈 250 매 x 6 개 세트': '모나리자 각티슈 250매x6개세트',\n",
              " '완도 바다 미소 미역': '완도바다미소미역',\n",
              " '정 읍 솔 티 애 떡 전통 두텁떡 3 종 ( 27 개입 )': '정읍 솔티애떡 전통두텁떡3종(27개입)',\n",
              " '곱창 김 진도 돌 재래 곱창 김': '곱창김 진도 돌재래곱창김',\n",
              " '( 겨울 간식 ) 세상 에서 가장 맛있 는 야망 떡집 잔 기지 떡 50 개': '(겨울간식) 세상에서 가장 맛있는 야망떡집 잔기지떡 50개',\n",
              " '천하일 품 청정 제주 제철 감귤': '천하일품 청정 제주 제철감귤',\n",
              " '서귀포 제주 테마 한라 봉': '서귀포제주테마한라봉',\n",
              " '( 대정 하 ㄴ 우 ) 육회 꾸리살 200 g 외 1 개': '(대정한우)육회꾸리살200g외 1개',\n",
              " '보은 걸 ㄴ 대추 특 초 1 kg : 생 대추 24 미리 내외 건조 : 기계 선별 크기 일정 : 용도 가 가장 다양 하 ㅁ 외 2 개': '보은건대추 특초1kg : 생대추24미리내외건조 : 기계선별크기일정 :용도가 가장 다양함외 2개',\n",
              " '고기 랑 찰떡 궁합 ! 청도 미나리 500 g': '고기랑 찰떡궁합! 청도 미나리 500g',\n",
              " '상주 기상 곶감 ( 건시 )': '상주기상곶감(건시)',\n",
              " '안면 도고 남 호박 고구마': '안면도고남호박고구마',\n",
              " '장 흥 토요 시장 암소 한우 정육 선물 세트 1.2 kg / 1.8 kkg': '장흥토요시장 암소 한우 정육선물세트 1.2kg / 1.8kkg',\n",
              " '토실토실 공주 정 안 알밤 대 1.5 kg': '토실토실 공주 정안알밤 대1.5kg',\n",
              " '[ 종근당 건강 ] 오메가 3 골드 업 60 캡슐 3 병 ( 6 개월 분 )': '[종근당건강] 오메가3 골드업 60캡슐 3병(6개월분)',\n",
              " '보령 삼육 조미 구이 전장 김': '보령삼육조미구이전장김',\n",
              " '진도 아리랑 홍 주': '진도아리랑홍주',\n",
              " '태 송 볶음밥 250 g * 10 봉 ( 김치 / 새우 / 햄 야채 등 )': '태송 볶음밥 250g*10봉(김치/새우/햄야채 등)',\n",
              " '[ 착하 ㄴ 고기 마을 ] 남도 장터 고기 함량 최고 수제 소세지 , 한우 떡갈비 5 종': '[착한고기마을]남도장터 고기함량 최고 수제 소세지,한우 떡갈비5종',\n",
              " '[ 2020 년 하 였 고추가루 ] 국내산 HACCP 인증 _ 하 였 고추가루 1 kg _ 보통 매운맛': '[2020년 햇 고추가루] 국내산 HACCP 인증_햇 고추가루 1kg_보통매운맛',\n",
              " '정 옥 엄마 의 수정 과 500 mlx 5 병 수제 전통 음료': '정옥 엄마의 수정과 500mlx5병 수제전통음료',\n",
              " '진안 매콤 호 아 끈 중독 의 맛 뼈 없 는 직 화 불 닭 발 ( 2 팩 )': '진안 매콤화끈 중독의맛 뼈없는 직화불닭발 (2팩)',\n",
              " '[ 남 원 농협 ] 2020 년 햅쌀 남 원 신동 지 ㄴ 쌀 10 kg': '[남원농협]2020년 햅쌀 남원 신동진쌀 10kg',\n",
              " '전통 찹쌀떡 ( 40 g 42 개입 )': '전통찹쌀떡 (40g 42개입)',\n",
              " '[ 생산자 직송 ] 하 어 남 강미 자 님 의 호박 고구마 ( 하 ㄴ 입 )': '[생산자직송] 해남 강미자님의 호박고구마 (한입)',\n",
              " '김 재범 님 의 초당 커피 빵 ( 40 g * 8 개 )': '김재범님의 초당 커피빵(40g*8개)',\n",
              " '상주 곶감 집 곶감 ( 건시 )': '상주곶감집곶감(건시)',\n",
              " '깊 고 진하 ㄴ 홍 영 의 어간장 3 종 선물 세트 외 1 개': '깊고 진한 홍영의 어간장 3종 선물세트외 1개',\n",
              " '오 바 ( 대 멸 , 가정용 ) 국물 멸치 특품 ( 1.5 kg )': '오바(대멸,가정용)국물멸치 특품(1.5kg)',\n",
              " '[ 남도 장터 ] 봄 푸드 수제 돈까스 380 g ( 3 ~ 5 장 )': '[남도장터] 봄푸드 수제 돈까스 380g(3~5장)',\n",
              " '네이 처 그램 냉동 닭 가슴살 200 g 10 팩 세트 외 1 개': '네이처그램 냉동 닭가슴살 200g 10팩 세트외 1개',\n",
              " '무농약 생 표고버섯 ( 600 g , 1 kg )': '무농약 생표고버섯(600g,1kg)',\n",
              " '식 약 처 인증 수술 용 델 ㄴ 탈 마스크 국산 대형 50 매 의약 외 품 / ( 화이트 / 블루 선택 )': '식약처인증 수술용 덴탈마스크 국산 대형 50매 의약외품/(화이트/블루 선택)',\n",
              " '[ 경북 능금 농협 ] 경북 의성 사과 5 kg # 부 사 # 흠집 사과 # 가정용 # 산지 직송': '[경북능금농협] 경북 의성 사과 5kg # 부사 # 흠집사과 # 가정용 # 산지직송',\n",
              " '바나나 떡 1 Box ( 40 g 35 개입 )': '바나나떡 1Box(40g 35개입)',\n",
              " '완도 제일 물산 최고 집 미역 . 다시마': '완도제일물산최고집미역.다시마',\n",
              " '[ 대숲 천년 쌀 _ 20 년 쌀 ] 청량 하 ㄴ 대숲 이 전하 는 담 양 신동 지 ㄴ 쌀 10 kg ( 당일 도 정 ) 상 등급': '[대숲천년쌀_20년쌀] 청량한 대숲이 전하는 담양 신동진쌀 10kg(당일도정)상등급',\n",
              " '인터넷 우표': '인터넷우표',\n",
              " '내용 증명': '내용증명',\n",
              " 'Americano / Hot , Tall': 'Americano / Hot,Tall',\n",
              " '대복 동치미 3 kg ( 100 % 국내 산 농산물 )': '대복 동치미 3kg (100%국내산 농산물)',\n",
              " '화통 하 ㄴ 직 화 닭 발 세트 ( 직 화 무 뼈 닭 발 150 g × 8 팩 + 마늘 근 위 볶음 180 g × 1 팩 )': '화통한직화닭발세트(직화무뼈닭발150g×8팩+마늘근위볶음180g×1팩)',\n",
              " '1 + 1 웨 ㄹ 베 딩 항균 경추 베개 솜 총 2 개': '1+1 웰베딩 항균경추베개솜 총 2개',\n",
              " '모나리자 프리미엄 화장지 30 미터 90 롤': '모나리자 프리미엄 화장지 30미터 90롤',\n",
              " '[ 설명 절 프로 모션 ] [ 공영 쇼핑 매출 1 위 , 재 구매 율 1 위 ] 창 억 떡 7 종 세트': '[설명절 프로모션][공영쇼핑 매출1위, 재구매율1위] 창억떡 7종 세트',\n",
              " '여수 3 종 세트 _ 조기 + 삼치 + 고등어': '여수3종세트_조기+삼치+고등어',\n",
              " '추 봉하 첫사랑 꾸 ㄹ 고구마 3 kg 대 / 왕 특 ( 세 척 )': '추봉하 첫사랑 꿀 고구마 3kg 대/왕특 (세척)',\n",
              " '[ 특집 ] 오제 끌 프리미엄 실크 바디 필링 _ 싱글 구성': '[특집]오제끄 프리미엄 실크 바디필링_싱글구성',\n",
              " '[ 퀸 센스 ] 양면 팬 1 + 1 세트': '[퀸센스] 양면팬 1+1세트',\n",
              " '[ 자연 맛 남 ] 제주 한라 봉 4.5 kg 중소 과 ( 25 과 내외 / 벌크 포장 )': '[자연맛남] 제주 한라봉 4.5kg 중소과(25과내외/벌크포장)',\n",
              " '이성 미 의 꼼꼼 한 알 탕 650 g * 11 팩': '이성미의 꼼꼼한 알탕 650g*11팩',\n",
              " '[ 2020 년 김치 품평회 우 수상 ] 태 백김치 세트 ( 포기 9 kg + 총각 4 kg )': '[2020년 김치품평회 우수상] 태백김치 세트(포기 9kg + 총각 4kg)',\n",
              " '[ 로즈 마인 ] 특가 찬스 !!!! 푸 어 퓸드 핸드 크림 10 종 ( 택 1 )': '[로즈마인] 특가찬스!!!! 퍼퓸드 핸드크림 10종 (택1)',\n",
              " '목우 촌 순 사 ㄹ 닭다리 사 ㄹ 구이 2 종 세트 ( 110 * 16 팩 )': '목우촌 순살 닭다리살 구이 2종세트(110*16팩)',\n",
              " '[ 공영 생필품 마트 ] 디 럭스 2 단 스텐 식기 건조대': '[공영생필품마트]디럭스2단스텐식기건조대',\n",
              " '[ 농부 의 정성 ] 포근포근 햇감자 5 kg ( 100 ~ 140 g 이하 ) / 찜 용 요리용': '[농부의정성]포근포근 햇감자 5kg (100~140g이하)/ 찜용 요리용',\n",
              " '★ 국내 산 소 갈비탕 오롯 담 갈비탕 12 팩 ( 겨자 소스 포함 )': '★국내산 소갈비탕 오롯담 갈비탕 12팩(겨자소스포함)',\n",
              " '더블 업 쓱싹 3 초 새치 헤어 마커': '더블업 쓱싹 3초 새치헤어마커',\n",
              " '[ 애 스펀 ] 남성 스피넬 패딩 트레이닝 세트 ( 자켓 + 짚 업 상의 + 팬츠 )': '[애스펀] 남성 스피넬 패딩 트레이닝 세트(자켓+짚업상의+팬츠)',\n",
              " '[ 잭 필드 ] 남성 호 베 ㄴ 니트 배색 패딩 2 종': '[잭필드]남성 호벤 니트 배색 패딩 2종',\n",
              " '라이프 공방 리빙 골 델 ㄴ 코 듀 로이 슬리퍼 1 + 1': '라이프공방 리빙골덴 코듀로이 슬리퍼 1+1',\n",
              " '[ 춘천 닭 갈비 ] 국내산 닭 으로 만들 ㄴ 순 사 ㄹ 춘천 닭 갈비 500 x 2 팩': '[춘천닭갈비]국내산 닭으로 만든 순살 춘천닭갈비 500 x 2팩',\n",
              " '[ 명가 미곡 ] 지리산 메뚜기 쌀 백미 20 Kg': '[명가미곡]지리산 메뚜기쌀 백미 20Kg',\n",
              " '양 구 펀치 보 ㄹ 시래기 17 팩 + 맛 내기 17 팩': '양구 펀치볼 시래기17팩+맛내기17팩',\n",
              " '쿠잉 레트 로 다이얼 식 전자 레인지 MM-R20A 3 종': '쿠잉 레트로 다이얼식 전자레인지 MM-R20A 3종',\n",
              " '김 선영 의 초벌 순 사 ㄹ 코다리 구이 18 팩': '김선영의 초벌 순살코다리구이 18팩',\n",
              " '진도 조 우현 님 진도 봄 동 배추 1.5 kg': '진도 조우현님 진도 봄동배추 1.5kg',\n",
              " '[ 제주 만감 류 3 종 세트 ] 레드 향 1.5 kg + 천혜 향 1.5 kg + 한라 봉 1.5 kg': '[제주 만감류 3종 세트] 레드향 1.5kg+천혜향 1.5kg+한라봉 1.5kg',\n",
              " '★ 에드워드 권의 육우 등심 스테이크 세트 ( 총 11 팩 + 특제 소스 1 병 )': '★에드워드권의  육우등심스테이크 세트(총 11팩 + 특제소스1병)',\n",
              " '초선 의 꿈 로제 ( 375 ml )': '초선의꿈 로제 (375ml)',\n",
              " '호흡기 내과 / 진료비': '호흡기내과/진료비',\n",
              " '커 ㄹ 쳐캐 쉬 + 1 + 건': '컬쳐캐쉬+1+건',\n",
              " '방문 소포': '방문소포',\n",
              " '최고급 저 소금 무색 명란': '최고급 저소금 무색명란',\n",
              " '민속 하 ㄴ 우 갈비 세트 2 호 [ 2.4 kg ( 찜 갈비 800 g × 3 ) ( 냉동 ) ]': '민속한우갈비세트2호[2.4kg(찜갈비800g×3)(냉동)]',\n",
              " '싱싱 아삭 ! 요리용 2020 년 무안 양파': '싱싱아삭! 요리용 2020년 무안 양파',\n",
              " '대천 우정 김': '대천우정김',\n",
              " '바로 먹 는 ! 통영 자연산 바다 장어 / 양념장 증정 / 무료 배송': '바로 먹는! 통영 자연산 바다 장어 /양념장 증정/무료배송',\n",
              " '강경 맛깔 젓 전통 젓갈 ( 창난젓 , 토하젓 , 씨앗 비빔 젓갈 , 함 초 새우젓 , 13 가지 ) 외 2 개': '강경맛깔젓 전통젓갈(창난젓,토하젓,씨앗비빔젓갈,함초새우젓, 13가지)외 2개',\n",
              " '완도 전복 특특 大 7 ~ 9 미 1 kg 명절 선물 포장 선택 최저가 할인': '완도전복 특특大 7~9미 1kg 명절선물 포장선택  최저가할인',\n",
              " '두메 산골 냉장 生 닭다리 사 ㄹ ( 정육 ) 1 kg 외 6 개': '두메산골 냉장 生닭다리살 (정육) 1kg외 6개',\n",
              " '국민 간식 냠 몽몽 하 ㄴ 입 마카롱 7 구 2 + 1 상자 ( 21 구 )': '국민간식 냠몽몽 한입마카롱 7구 2+1상자(21구)',\n",
              " '지도 표 성경 김 곱창 김 재래 돌김 100 장': '지도표 성경김 곱창김 재래돌김 100장',\n",
              " '청송 양숙 솔 사과': '청송양숙솔사과',\n",
              " '지구 마을 국산 아이스 군고구마 꾸 ㄹ 고구마 전자렌지 1 분 OK B 형 1 kg': '지구마을 국산 아이스 군고구마 꿀고구마 전자렌지1분 OK B형 1kg',\n",
              " '정가 네 가마솥 누룽지 1 kg [ 달팽이 장터 ]': '정가네 가마솥누룽지 1kg [달팽이장터]',\n",
              " '아 아 루 이팜 말리 ㄴ 자색 돼지 감자 500 g 볶 은 돼지 감자 차 300 g 돼지 감자 가루': '아루이팜 말린 자색돼지감자 500g 볶은 돼지감자차 300g 돼지감자 가루',\n",
              " '태안 푸드 국내산 찹쌀 파이 1 판 ( 8 조각 )': '태안푸드 국내산 찹쌀파이 1판(8조각)',\n",
              " '장인 의 정성 은 담 은 연우 당 백련 잎 밥': '장인의 정성은 담은 연우당 백련잎밥',\n",
              " '제주 팥 오 메기 떡 50 개 이': '제주 팥 오메기떡 50개입',\n",
              " '[ 남도 장터 ] 고흥 케이 푸드 참 맛 김 선물 세트 ( 6 매 * 10 봉 )': '[남도장터]고흥 케이푸드 참맛김 선물세트(6매*10봉)',\n",
              " '장성 김수영 님 의 아삭 달콤 정품 햇 단감 3.5 kg': '장성 김수영님의 아삭달콤 정품 햇단감 3.5kg',\n",
              " '[ 산 소 포장 ] 통 영 자연산 돌 문어 / 무료 배송': '[산소포장]통영 자연산돌문어/무료배송',\n",
              " '[ 녹십자 ] 스마일 렌 루테인 12 눈 영양제 30 캡슐 X 3 통': '[녹십자] 스마일렌 루테인 12 눈영양제 30캡슐 X3통',\n",
              " '전 남 나 주 안 영일 님 의 가정용 나 아 주배 5 kg': '전남 나주 안영일님의 가정용 나주배 5kg',\n",
              " '청송 꿀 사과 농원 사과 외 1 개': '청송꿀사과농원사과외 1개',\n",
              " '여수 돌산 갓김치 2 kg + 갓 물김치 2 kg': '여수 돌산갓김치2kg + 갓물김치2kg',\n",
              " '고랭지 장 수사과 4 kg 13-15 과 팬 캡 망 포장': '고랭지  장수사과  4kg 13-15과  팬캡망포장',\n",
              " '원주 전주희님 의 굽 ㄴ 계란 장조림 [ 나리 ㄴ 뜰 ]': '원주 전주희님의 구운계란 장조림[나린뜰]',\n",
              " '( 대정 하 ㄴ 우 ) 1 ++ 등급 우리하 ㄴ 우 선물 세트 모음 전': '(대정한우) 1++등급 우리한우 선물세트모음전',\n",
              " '[ 구룡포 904 ] 1 등급 과 메기 완전 손질 ( 껍질 제거 ) 10 미 ( 20 쪽 ) / 20 미 ( 40 쪽 ) + 김': '[구룡포904] 1등급 과메기 완전손질(껍질제거) 10미(20쪽)/20미(40쪽)+김',\n",
              " '나 주 이화 배': '나주이화배',\n",
              " '상주 곶감 집 곶감 ( 반 건시 ) 외 3 개': '상주곶감집곶감(반건시)외 3개',\n",
              " '여수 거문도 해풍 쑥 생 개떡 2 kg': '여수 거문도 해풍쑥 생개떡 2kg',\n",
              " '지리산 벌꿀': '지리산벌꿀',\n",
              " '[ 요리 에 필수 ] 황토밭 무안 오 아 송품 은 양파 5 kg / 10 kg 중대 혼합 산지 배송': '[요리에필수] 황토밭 무안 와송품은 양파 5kg/10kg 중대혼합 산지배송',\n",
              " '고흥 쌍둥이 네 해산물 세트': '고흥쌍둥이네해산물세트',\n",
              " '아침 미소 백 진미 채 1 kg': '아침미소 백진미채 1kg',\n",
              " '해뜨 는 농장 사과': '해뜨는농장사과',\n",
              " '정 읍 명품 귀리 2 kg': '정읍명품 귀리 2kg',\n",
              " '[ 생산자 직송 ] 아산 우리 쌀 로 만들 ㄴ 오색 떡국 떡 / 흰떡 국 떡 1 kg': '[생산자직송] 아산 우리쌀로 만든 오색떡국떡/흰떡국떡 1kg',\n",
              " '맛있 는 하동 녹차 명란 맛 김 도시락 조미 김 24 봉': '맛있는 하동 녹차 명란 맛김 도시락 조미 김 24봉',\n",
              " '서산 생 강한 과': '서산생강한과',\n",
              " 'KF-AD 비말 차단 제 노 코리아 마스크 국산 대형 50 매 / 식 약 처 인증 의약 외 푸 ㅁ': 'KF-AD 비말차단 제노코리아 마스크 국산 대형 50매/식약처인증 의약외품',\n",
              " '삼호 유 황오리 유황 먹이 ㄴ 오리 훈제 슬라이스': '삼호유황오리 유황먹인오리 훈제슬라이스',\n",
              " '여수 삼산 햇 멸치 세트': '여수삼산햇멸치세트',\n",
              " '국산 닭 가슴살 메추리 알 ㄹ 장조림 1 kg 2 팩': '국산 닭가슴살 메추리알 장조림 1kg 2팩',\n",
              " '[ 태흥 하 ㄴ 돈 ] 국내산 쫄깃 하 ㄴ 갈비 찜 용 500 g * 2': '[태흥한돈] 국내산 쫄깃한 갈비 찜용 500g * 2',\n",
              " '추 ㄴ 향 골 전통 김부각': '춘향골전통김부각',\n",
              " '[ 친하 ㄴ ] 청 정 임 실 수제 소시지 6 종': '[친한]청정 임실 수제 소시지 6종',\n",
              " '묵 은 지 청국장 200 g 1 + 1 ★ 무료 배송 ★ ( 6 ~ 8 이 ㄴ 분 ) [ 순창 성 가정 식품 ]': '묵은지청국장 200g 1+1 ★무료배송★ (6~8인분)  [순창성가정식품]',\n",
              " '대천 어머니 조미 구이 김': '대천어머니조미구이김',\n",
              " '국내산 밀 팥 우리밀 찐빵 500 g 2 봉 20 입 1 kg 모음 전 쌀 찐빵 고구마 흑 미 단호박 외 1 개': '국내산 밀 팥 우리밀 찐빵 500g 2봉 20입 1kg 모음전 쌀찐빵 고구마 흑미 단호박외 1개',\n",
              " '담 양 옛사랑 한과 찹쌀 유과 & amp ; 쌀강정': '담양옛사랑한과 찹쌀유과&amp;쌀강정',\n",
              " '[ 감귤 축제 ] 달콤 바삭 제주 명물 하 효 맘 감귤 과 즐 720 g': '[감귤축제] 달콤바삭 제주명물 하효맘 감귤과즐 720g',\n",
              " '정 읍 삼호 유 황오리 유황 먹이 ㄴ 오리 훈제 슬라이스': '정읍 삼호유황오리 유황먹인오리 훈제슬라이스',\n",
              " '철골 소심 ( 1 )': '철골소심(1)',\n",
              " '간편 요리 해 물탕 세트 ( 손질 하 어 물 + 야채 + 양념장 ) 3-4 인분 외 2 개': '간편요리 해물탕 세트 (손질해물+야채+양념장) 3-4인분외 2개',\n",
              " '오늘 하루 KF 80 / KF 94 마스크 국산 대형 60 매입 ( 개별 포장 ) / 식 약 처 인증': '오늘하루 KF80/KF94 마스크 국산 대형 60매입(개별포장)/식약처인증',\n",
              " '[ 특가 할인 ] 완도 활 전복 특대 8-9 미 1 kg / 손질 도구 증정': '[특가할인] 완도 활전복 특대 8-9미 1kg / 손질도구 증정',\n",
              " '진안 고원 실 속형 수삼 5 년 근 600 g ( 11-13 뿌리 )': '진안고원 실속형 수삼 5년근 600g(11-13뿌리)',\n",
              " '[ 설 선물 ] 강진 착하 ㄴ 한우 1 등급 구이 선물 세트 ( 꽃 등심 + 채끝 등심 )': '[설선물] 강진착한한우1등급 구이선물세트(꽃등심+채끝등심)',\n",
              " '정 읍 명품 귀리 1 kg': '정읍명품귀리 1kg',\n",
              " '에버 리치 만 길': '에버리치만기',\n",
              " '[ 푸드 家 ] 강원도 속 초 오징어 순대 300 g * 2 팩 ( 하 ㄴ 팩 에 오징어 가 2 마리 )': '[푸드家]강원도속초 오징어순대300g*2팩(한팩에 오징어가2마리)',\n",
              " 'NnF 슬림 롱 패딩': 'NnF 슬림 롱패딩',\n",
              " '바른 세탁소 액체 세제 2.5 L X 4 개 라 임 향': '바른세탁소 액체세제 2.5L X 4개 라임향',\n",
              " '2020 옥구 농협 귀리 1 kg * 10 팩': '2020 옥구농협 귀리 1kg*10팩',\n",
              " '2020 년 햅쌀 하 어 남 옥천 농협 첫사랑 쌀 20 kg': '2020년 햅쌀 해남 옥천농협 첫사랑 쌀20kg',\n",
              " '[ 에 는 보 ㄴ ] 오리털 앵 크 ㄹ 부츠': '[엔본] 오리털 앵클부츠',\n",
              " '엄마 옷 모슬린 국산 상하 세트 / 원피스 홈 웨어 / 잠옷 균 일가 25 종 택 1': '엄마옷 모슬린 국산 상하세트/원피스 홈웨어/잠옷 균일가 25종 택1',\n",
              " '2020 년 햅쌀 신 김 포 농협 5000 년 전통 김 포 쌀 추청 20 kg': '2020년 햅쌀 신김포농협 5000년전통 김포쌀 추청 20kg',\n",
              " '[ 강원 도 전통 의 맛 ] 감자 로 만 든 옹 심이 / 감자전 / 호떡 / 부꾸미 9 종 골르 아 담기': '[강원도 전통의 맛] 감자로 만든 옹심이/감자전/호떡/부꾸미 9종 골라담기',\n",
              " '★ 11 kg ★ [ 전 진주 요리 연구가 ] 가 정식 포기김치 11 kg': '★11kg★[전진주 요리연구가]가정식 포기김치 11kg',\n",
              " '[ 잭 필드 ] 남성 메 ㄹ 리플 후드 집 업 트레이닝 세트': '[잭필드]남성 멜리플 후드집업 트레이닝 세트',\n",
              " '국내산 순 사 ㄹ 갈치 ( 200 g * 14 팩 , 총 2.8 kg )': '국내산 순살갈치(200g*14팩, 총2.8kg)',\n",
              " '거제 외 포 손질 대구 세트 400 x 8 팩 + 매운탕 소스 4 개 + 맑 은 탕 소스 4 개': '거제 외포 손질 대구세트 400x8팩+매운탕소스4개+맑은탕소스4개',\n",
              " '접이 식 높이 조절 스마트 폰 거치대 1 + 1 외 모음': '접이식 높이조절 스마트폰 거치대 1+1 외 모음 ',\n",
              " '★ 한 우 ★ 이종 임 하 ㄴ 우 떡갈비 80 g × 28 장': '★한우★ 이종임한우떡갈비80g×28장',\n",
              " '자연산 손질 오징어 大 총 20 미': '자연산 손질오징어 大 총20미 ',\n",
              " '[ 대천 김 ] 재래 김 15 봉': '[대천김] 재래김 15봉',\n",
              " '화훼 농가 돕 기 나눔 꽃다발': '화훼농가돕기 나눔 꽃다발',\n",
              " '통영 굴 150 g * 12 팩 + 완도 매생이 100 g * 5 팩 / 총 2.3 kg': '통영굴 150g*12팩 + 완도매생이 100g*5팩 / 총 2.3kg',\n",
              " '★ 8 회 전량 매진 ★ 청아 간월 도식 어리 굴젓 8 + 양념 굴젓 4 통': '★8회 전량매진★ 청아 간월도식 어리굴젓8+양념굴젓 4통',\n",
              " '국내산 반건조 특대 민어 300 g * 11 마리': '국내산 반건조 특대 민어 300g*11마리',\n",
              " '카 카 오프 렌즈 광천 김 재래 전장 20 g X 10 봉 + NEW 장바구니': '카카오프렌즈 광천김 재래 전장20g X 10봉+NEW장바구니',\n",
              " '국산 통 참깨 로 만들 ㄴ 충 청상 회 참기름 4 병': '국산 통참깨로 만든 충청상회 참기름 4병',\n",
              " '이상 복 장인 의 국내산 차 ㄹ 보리 빵 60 개': '이상복 장인의 국내산 찰보리빵 60개',\n",
              " '[ 자연 맛 남 ] 제주 직송 하 였 노지 감귤 9 kg 로 열과 ( S-M / 실 중량 )': '[자연맛남] 제주직송 햇 노지감귤 9kg 로열과 (S-M/실중량)',\n",
              " '제 주은 갈치 왕 특대 사이즈 420 g * 4 팩 / 총 1.68 kg': '제주은갈치 왕특대사이즈 420g * 4팩 / 총 1.68kg',\n",
              " '[ 오 초록 ] 구룡포 피 데기 반건조 오징어 10 미 ( 1.2 kg )': '[오초록] 구룡포 피데기 반건조 오징어 10미(1.2kg)',\n",
              " '[ 20 년 ] 양 구 펀치 보 ㄹ 시래기': '[20년] 양구 펀치볼 시래기',\n",
              " '[ 김 여사 ] 겨울 고 퀄리티 4050 아우터 30 종 택 1': '[김여사]겨울 고퀄리티 4050 아우터 30종택1',\n",
              " '[ 2021 서 ㄹ ] 내 몸 가득 眞 6 년 근 홍삼 스틱 200 포 ( 4 세트 )': '[2021설]내몸가득眞 6년근 홍삼스틱 200포(4세트)',\n",
              " '[ 씨 엘 블루 ] KF-94 마스크 150 매': '[씨엘블루]KF-94마스크150매',\n",
              " '국내산 절단 꽃게 9 팩 _ ( 하 어 강 )': '국내산 절단꽃게 9팩_(해강)',\n",
              " '[ 도미 솔 식품 ] 포기김치 5 kg': '[도미솔식품]포기김치5kg',\n",
              " '[ 20 년 10 월 이후 수확 ] 슈퍼 농부 - 해 남 황토 호박 고구마 3.5 kg * 2 박스': '[20년 10월 이후 수확 ] 슈퍼농부 - 해남황토 호박고구마 3.5kg*2박스',\n",
              " '스파 크 ㄹ 생수 2 리터 6 병 ( 3 팩 ) - 총 18 병': '스파클 생수 2리터 6병(3팩) - 총18병',\n",
              " '개 당 263 원 ! 칫솔 30 개 7900 원 외 모음 전': '개당 263원! 칫솔 30개 7900원 외 모음전 ',\n",
              " '2020 비 어 꽃 농부 오색 현미 16 봉 + 떡국 떡 4 봉': '2020 벼꽃농부 오색현미 16봉+떡국떡 4봉',\n",
              " '납기 내 금액': '납기내금액',\n",
              " '명품 나 아 주배 선물 세트 7.5 kg 고급 / 프리미엄 ( 1 월 18 일 부터 순차 발송 )': '명품 나주배 선물세트 7.5kg 고급/프리미엄  (1월18일부터 순차발송)',\n",
              " '안 동인 안동 찜 닭 세트 4 이 ㄴ 분 외 3 개': '안동인 안동찜닭세트 4인분외 3개',\n",
              " '21 년 설 할인 특가 건어물 씽크 박스 국내 가 공 황태 채 250 g 이상': '21년 설 할인특가 건어물씽크박스 국내가공 황태채 250g 이상',\n",
              " '제주 우진 수산 고등어 외 2 개': '제주우진수산고등어외 2개',\n",
              " '남도 애 청정 한우 1 등급 심 심이 선물 세트 ( 꽃 등심 350 g + 등 심 350 g )': '남도애 청정 한우1등급 심심이선물세트(꽃등심350g+등심350g)',\n",
              " '하 ㄴ 산소 곡주 선물 세트 750 ml x 2 개': '한산소곡주 선물세트 750ml x 2개',\n",
              " '서산 생강 하 ㄴ 과외 1 개': '서산생강한과외 1개',\n",
              " '[ 제주 헤 바 ] 레드 향 4.5 kg 실속 형 ( 중 소과 )': '[제주헤바] 레드향 4.5kg 실속형 (중소과)',\n",
              " '쌀과자 부드럽 ㄴ 미니 볼 4 개 묶음 세트 ( 현미 볼 2 + 아몬드 볼 1 + 땅콩 볼 1 )': '쌀과자 부드러운 미니볼 4개묶음 세트(현미볼2+아몬드볼1+땅콩볼1)',\n",
              " '상주 토성 곶감': '상주토성곶감',\n",
              " '한 끼 뚝딱 누룽지': '한끼뚝딱누룽지',\n",
              " '김 제 박 종복 님 의 고소 함의 끝판 왕 박 씨네 누룽지': '김제 박종복님의 고소함의 끝판왕 박씨네누룽지',\n",
              " '제주 구좌 흙 당근 5 kg ( 쥬스 용 소 / 대 )': '제주 구좌 흙당근5kg (쥬스용 소/대)',\n",
              " '[ 산지 직송 ] 제주 참조기 ( 대 )': '[산지직송] 제주 참조기(대)',\n",
              " '제주 은 갈치 _ 300 g ( 1 미 , 4 토막 ) * 4 ea': '제주 은갈치_300g(1미, 4토막)*4ea',\n",
              " '[ 거류 영농 조합 법인 ] 우리 쌀 70 % 함유 즉석 쌀 국수 ( 멸치 맛 / 10 개입 )': '[거류영농조합법인] 우리쌀 70% 함유 즉석 쌀국수(멸치맛/10개입)',\n",
              " '제주 노지 하 였 감귤 5 kg 로얄 중 대과 ( M-2L ) ★': '제주 노지 햇 감귤 5kg 로얄중대과(M-2L)★',\n",
              " '[ 첫 출하 / 특품 / 국내 최대 창 녕 우 포 ] 고당 도 골드 단감 5 kg ( 2 L / 17 ~ 20 과 )': '[첫출하/특품/국내 최대 창녕우포] 고당도 골드단감 5kg (2L/17~20과)',\n",
              " '[ 첫 출하 / 특품 / 국내 최대 창 녕 우 포 ] 고당 도 골드 단감 5 kg ( L / 21 ~ 23 과 )': '[첫출하/특품/국내 최대 창녕우포] 고당도 골드단감 5kg (L/21~23과)',\n",
              " '나 주 동양 배': '나주동양배',\n",
              " '2020 년 생산 쌀 _ 福 ( 복 ) 이 든 쌓 ㄹ 백미 5 kg 10 kg': '2020년 생산 쌀_福(복)이든쌀 백미5kg 10kg',\n",
              " '반딧불 참 표고 버섯': '반딧불참표고버섯',\n",
              " '전주 두메 산골 生 오리 슬라이스 1 kg': '전주 두메산골 生오리슬라이스 1kg',\n",
              " '영광 법성포 옥 굴비': '영광법성포옥굴비',\n",
              " '안동 대추': '안동대추',\n",
              " '양념 깻잎 장아찌 350 g 1 + 1 순창 성 가정 식품': '양념깻잎 장아찌 350g 1+1 순창성가정식품',\n",
              " '유모 례 된장': '유모례된장',\n",
              " '건강 하 ㄴ ! 태안 담 채원 치 ㄴ 환경 동치미 2 kg': '건강한! 태안  담채원 친환경 동치미 2kg',\n",
              " '왕가 대천 도시락 김': '왕가대천도시락김',\n",
              " '100 % 우리 쌀 로 만들 ㄴ 보름 기정 떡 1 박스 ( 33 개 )': '100%우리쌀로 만든 보름기정떡 1박스(33개)',\n",
              " '명태회 500 g': '명태회 500g',\n",
              " '[ 전 북 마을 기업 ] 장수 성 암 마을 산야 초 ( 山野草 ) 장아찌 선물 세트': '[전북마을기업] 장수 성암마을 산야초(山野草) 장아찌 선물세트',\n",
              " '[ 무 첨가 화학 조미료 ] 해우 리 국산 아귀 포': '[무첨가화학조미료] 해우리 국산 아귀포',\n",
              " '담 고 로 담 양 죽순 죽순 떡갈비': '담그루 담양죽순 죽순떡갈비',\n",
              " '산청 덕 산 곶감 ( 건시 )': '산청덕산곶감(건시)',\n",
              " '대관령 황태': '대관령황태',\n",
              " '문경 약 돌 돼지': '문경약돌돼지',\n",
              " '( 캐 ㄴ 음료 ) 일화 탑 씨 170 ml 30 캔': '(캔음료) 일화 탑씨 170ml 30캔',\n",
              " '[ 와와 푸드 ] 춘천 양념 한 입 닭 갈비 국내산 100 % 계육 닭 갈비 + 양념장 증정': '[와와푸드] 춘천 양념 한입닭갈비 국내산 100% 계육 닭갈비+양념장증정',\n",
              " '인삼 명가 홍삼 제품': '인삼명가홍삼제품',\n",
              " '주문진 갈매기 황태': '주문진갈매기황태',\n",
              " '[ 자연 그대로 ] 영양 많 은 시금치 _ 1 kg': '[자연그대로] 영양많은 시금치_1kg',\n",
              " '주 하 ㅁ 식품 한우 사골 곰국 10 팩 ( 1 팩 350 g )': '주함식품 한우 사골곰국 10팩 (1팩 350g)',\n",
              " '정선 농협 지킴 이 황기 외 1 개': '정선농협지킴이황기외 1개',\n",
              " '신진 조미 구이 파래 김': '신진 조미구이 파래김',\n",
              " '횡 성 푸줏간 횡 성한 우 국 거리': '횡성푸줏간 횡성한우 국거리',\n",
              " '서귀포 천제연 농원 한라 봉': '서귀포천제연농원한라봉',\n",
              " '마루 임산물 세트 7 호': '마루임산물세트7호',\n",
              " '( 국내산 ) 축산가 돼지 양념 갈비 400 g x 3 팩': '(국내산)축산가 돼지양념갈비 400g x 3팩',\n",
              " '[ 왕 특 ] 새콤달콤 ! 저 ㄴ 남 스위트 키위 국내산 골드 키위 1.2 kg': '[왕특] 새콤달콤! 전남스위트키위 국내산 골드키위 1.2kg',\n",
              " '사과 의 고장 경북 햇사과 / 4 kg 가정용 기스 과 / 부사 / 후지': '사과의 고장 경북 햇사과/ 4kg 가정용 기스과/부사/후지',\n",
              " '모나리자 부자 되 는 집 순수 데 코 두루마리화장지 - 개별': '모나리자 부자되는집 순수데코 두루마리화장지-개별',\n",
              " '사조 오색 모듬 전 -1 kg / 반찬 동그랑땡 -1 kg / 숯불 갈비 맛 산적 구이 -1 kg 외 2 개': '사조 오색모듬전-1kg/반찬동그랑땡-1kg/숯불갈비맛산적구이-1kg외 2개',\n",
              " '태흥 하 ㄴ 돈 신선 하 ㄴ 국내산 미 박 뒷다리 사 ㄹ 제육 용 300 gX 2 팩': '태흥한돈 신선한 국내산 미박뒷다리살 제육용 300gX2팩',\n",
              " '플러스 연금 2': '플러스연금2',\n",
              " '원터치 중탕 기 홈쿠 시즌 2 / 홈쿠 2 / GE-1001W': '원터치 중탕기 홈쿠 시즌2/홈쿠2 / GE-1001W  ',\n",
              " '헐 니 원 특수 밀원 선물 세트 5 병 ( 아카시아 , 야생화 , 밤꽃 , 때 죽 , 피 나무 )': '허니원 특수밀원 선물세트5병(아카시아,야생화,밤꽃,때죽,피나무)',\n",
              " '관절 류 마티스 내과 / 진료비': '관절류마티스내과/진료비',\n",
              " '[ 유 맥스 ] Ai 43 43 형 스마트 UHDTV 공식 인증 구 글 무결점 TV': '[유맥스] Ai43 43형 스마트 UHDTV 공식인증 구글 무결점TV',\n",
              " '동강 마 로 아카시아 벌꿀 500 g * 5 병 ( 쇼핑 백 2 장 )': '동강마루아카시아벌꿀500g*5병(쇼핑백2장)',\n",
              " '[ 자연 맛 남 ] 20 년 수확 하 어 남 첫사랑 꾸 ㄹ 고구마 3 kg / 5 kg 外 크기별': '[자연맛남] 20년수확 해남 첫사랑 꿀고구마 3kg/5kg 外 크기별',\n",
              " '국내산 남여 골프 / 스포츠 / 기본 양말 10 ~ 20 개 ( 택 1 )': '국내산 남여 골프/스포츠/기본 양말 10~20개 (택1)',\n",
              " '[ 모든 방송 매진 !! ] ★ 1 등급 ★ 냉장 한 돈 세트 ( 삼 겹 3 팩 + 목살 3 팩 + 항정 1 팩 + 삼 겹 미 추리 3 팩': '[모든 방송 매진!!]★1등급★ 냉장 한돈 세트(삼겹 3팩+목살3팩+항정1팩+삼겹미추리3팩',\n",
              " 'GNM 멀티 종합 비타민 미네랄 15 종 4 박스 선물 세트 ( 총 12 개월 분 )': 'GNM 멀티 종합비타민미네랄 15종 4박스 선물세트 (총 12개월분)',\n",
              " '[ 예쎄 ] 여성 주 디스 경량 답 ㄴ 2 종': '[예쎄]여성 주디스 경량다운 2종',\n",
              " '[ 잭 필드 ] 여성 메 ㄹ 리플 후드 집 업 트레이닝 세트': '[잭필드]여성 멜리플 후드집업 트레이닝 세트',\n",
              " '오토 가드 유리막 코팅 광택제 차량 용 셀프 관리제 5 종': '오토가드 유리막 코팅광택제 차량용 셀프 관리제 5종',\n",
              " '[ 대한민국 한과 명장 ] 김 규흔 하루 하 ㄴ 끼 영양 바 _ 총 80 개': '[대한민국한과명장]김규흔 하루한끼 영양바_총80개',\n",
              " '[ 다인 명가 ] 아이스 경주 빵 38 g x 20 개이': '[다인명가] 아이스 경주빵 38g x 20 개입',\n",
              " '그대 에게 포켓 용 핫 팩 70 팩': '그대에게 포켓용 핫팩 70팩',\n",
              " '★ 오직 3 년 근 도라지 100 % ★ [ 강화군 산림 조합 ] 강화 섬 백 도라지 분말 50 g * 6 통': '★오직 3년근 도라지 100%★ [강화군산림조합] 강화섬 백도라지 분말 50g*6통',\n",
              " '[ 로질리 ] 여성 로 니 패딩 앙상블 ( 자켓 + 베스트 )': '[로질리] 여성 로니 패딩 앙상블(자켓+베스트)',\n",
              " '동결 건조 자연 조미료 자연 하 ㄴ 알 + 마늘 하 ㄴ 알': '동결건조 자연조미료 자연한알+마늘한알',\n",
              " '통영 황금 가리비 1 kg ( 27 미 내외 )': '통영 황금가리비 1kg (27미내외)',\n",
              " '[ 자연 맛 남 ] 아삭아삭 하 였 세척 사과 2.5 kg ( 14 과 내 )': '[자연맛남] 아삭아삭 햇 세척사과 2.5kg (14과내)',\n",
              " '달콤 하 ㅁ 가득 산지 직송 영 암 꾸 ㄹ 고구마 5 kg 한입 ( 30 ~ 60 g )': '달콤함 가득 산지직송 영암 꿀고구마 5kg 한입(30~60g)',\n",
              " '정권 식 춘천 닭 갈비 300 g × 9 팩': '정권식춘천닭갈비300g×9팩',\n",
              " '타 ㄴ 탄 소 울 ㄹ 히트 데일리 남성 라운드 맨투맨 ( J 93 LT 020 M )': '탄탄 소울히트 데일리 남성 라운드 맨투맨(J93LT020M)',\n",
              " '★ 개 국 5 주년 특집 가 아 ★ [ 정성스레 빚 은 떡 ] 청 애 뜰 찰떡 세트 110 개': '★개국5주년특집가★[정성스레빚은떡]청애뜰찰떡세트 110개',\n",
              " '[ 제주 안심 밥상 ] 3 단계 제주 돼지 고추장 불고기 300 g 3 팩': '[제주안심밥상] 3단계 제주돼지 고추장불고기 300g 3팩',\n",
              " '( ※ 랜덤 배송 ) 휴비딕 디지털 자동 전자 혈압계 HBP-1500 / HBP-1510': '(※랜덤배송)휴비딕 디지털 자동전자 혈압계 HBP-1500/HBP-1510 ',\n",
              " '[ 홈 앤 하우스 ] 멀티 실리콘 키친 툴 8 P 세트 ( 그레이 / 블랙 )': '[홈앤하우스] 멀티 실리콘 키친툴 8P 세트 (그레이/블랙)',\n",
              " '2020 풍 광수 토신 동진 쌀 10 kg * 2 포': '2020 풍광수토신동진쌀10kg*2포',\n",
              " '[ 마담 4060 ] 플리츠 기모 팬츠 3 종': '[마담4060] 플리츠 기모팬츠 3종',\n",
              " '트루 마리 순수 휴지 30 미터 90 롤': '트루마리 순수휴지 30미터 90롤 ',\n",
              " '★ 국내 산 소 갈비 살 ★ 에드워드 권의 수제 포 갈비 사 ㄹ 구이 10 팩 !': '★국내산 소갈비살★에드워드권의 수제포 갈비살구이 10팩!',\n",
              " '행사 ! 피죤 프리미엄 섬유 유 연제 2300 mlx 3 개 + 액 츠 300 증정 일반 / 드럼 겸용': '행사! 피죤 프리미엄 섬유유연제 2300mlx3개 + 액츠300 증정 일반/드럼겸용',\n",
              " '마음심 은 이종 임 포기김치 7 kg': '마음심은 이종임 포기김치 7kg',\n",
              " '[ 마르 조 ] 여성 디 ㄹ 리스 이지 트레이닝 세트 3 종': '[마르조] 여성 딜리스 이지 트레이닝 세트3종',\n",
              " '몽실이 차 ㄹ 보리떡 3 종 세트': '몽실이 찰보리떡 3종세트',\n",
              " '[ 일시불 ] 유기농 당 찬 여주 즙 60 ml * 30 포 * 8 박스': '[일시불] 유기농 당찬여주즙60ml * 30포 * 8박스',\n",
              " '[ 목우 촌 ] 1 등급 오리 로스 150 g x 6 팩 + 양념 소스 1 병 ( 280 g )': '[목우촌]1등급 오리로스 150g x 6팩+양념소스 1병(280g)',\n",
              " '★ 매진 행렬 ★ [ 쉐 우 드가 구 ] 리 클라 이닝 의자': '★매진행렬★[쉐우드가구]리클라이닝 의자',\n",
              " '보성 녹차 골 한과': '보성녹차골한과',\n",
              " '밤 뜨래 밤 양갱': '밤뜨래밤양갱',\n",
              " '서산 특산품 뜸 부기 쌀 로 빚 은 모시 송편 ( 내용물 동부 )': '서산특산품 뜸부기쌀로 빚은 모시송편(내용물 동부)',\n",
              " '서귀포 넘버원 농장 감귤': '서귀포넘버원농장감귤',\n",
              " '아 아 타토 더 치 커피 선물 세트 고급 형': '아타토 더치커피 선물세트 고급형',\n",
              " '진짜 떡 ! 갈비 완주 고인돌 떡갈비 350 g * 3 팩': '진짜 떡!갈비 완주 고인돌 떡갈비 350g*3팩',\n",
              " '반 건시 감사 세트': '반건시 감사세트',\n",
              " '제주 딱새 우회 130 g 14 ~ 21 마리 ( 중 량 기준 )': '제주 딱새우회 130g 14~21마리(중량 기준)',\n",
              " '찹쌀 약 과': '찹쌀약과',\n",
              " '[ 푸드 앤 펀 ] 진짜 맛 ! 이 나 는 대패 삼겹살 ( 녹차 , 마늘 , 오리지널 ) 300 g 택 1 외 2 개': '[푸드앤펀] 진짜 맛! 이나는 대패 삼겹살(녹차, 마늘, 오리지널) 300g 택 1외 2개',\n",
              " '깊 고 진하 ㄴ 홍 영 의 홍 게 진간장 500 ml': '깊고 진한 홍영의 홍게진간장 500ml',\n",
              " '보성 골드 그리 ㄴ 참 다래': '보성골드그린참다래',\n",
              " '새콤달콤 드 어 파 머스 꿀 사과 부사 5 kg ( 22-23 과 )': '새콤달콤 더파머스 꿀사과  부사 5kg(22-23과)',\n",
              " '어디 에 넣 어도 맛있 는 국내산 치 ㄴ 환경 산소 콩나물 500 g + 육수 근본': '어디에 넣어도 맛있는 국내산 친환경 산소콩나물500g+육수근본',\n",
              " '밀양 산내 얼음 골 사과': '밀양산내얼음골사과',\n",
              " '( 나 비원 ) 함 평 천지 나비 골 추어탕 500 g x 10 팩': '(나비원) 함평천지 나비골 추어탕 500g x 10팩',\n",
              " '집 에서 먹자 뒷 고기 뒷덜미 사 ㄹ 500 g': '집에서먹자 뒷고기 뒷덜미살 500g',\n",
              " '( 무료 배송 ) 국내산 까 ㄴ 더덕 눌리 ㄴ 더덕 / 중 / 상 / 대 / 사이즈 선택 / 300 g 500 g 1 kg 중량 선택 가능': '(무료배송)국내산 깐더덕 눌린더덕/중/상/대/사이즈선택/300g 500g 1kg중량선택가능',\n",
              " '[ 대숲 맑 은 물 애 _ 20 년 쌀 ] 청량 하 ㄴ 대숲 이 전하 는 담 양 햅쌀 백미 5 kg ( 당일 도 정 )': '[대숲맑은물애_20년쌀] 청량한 대숲이 전하는 담양 햅쌀 백미 5kg(당일도정)',\n",
              " '주 하 ㅁ 식품 한우 사골 곰국 5 팩': '주함식품 한우 사골곰국 5팩',\n",
              " '우체국 쇼핑 眞 홍삼 스틱 [ 1 일 섭취량 기준 : 진세 노사 이드 Rg 1 + Rb 1 + Rg 3 15 mg ]': '우체국쇼핑 眞홍삼스틱[1일섭취량 기준 : 진세노사이드Rg1+Rb1+Rg3 15mg]',\n",
              " '맥우 하 ㄴ 돈 구이 용 3 구 선물 세트 각 600 g': '맥우한돈 구이용 3구 선물세트 각600g',\n",
              " '경북 사과 5 kg 정품 ( 24-18 과 )': '경북 사과 5kg 정품 (24-18과)',\n",
              " '상주 삼백 곶감 반 건시 최상품 1 kg ( 50 g * 20 개입 )': '상주삼백곶감 반건시 최상품1kg(50g*20개입)',\n",
              " '문경 행복 하 ㄴ 오미 자청 원액 외 3 개': '문경 행복한 오미자청 원액외 3개',\n",
              " '( 고성 군 ) 성공 수산 깔끔 코다리': '(고성군) 성공수산 깔끔 코다리',\n",
              " '상주 사과 배 세트': '상주사과 배 세트',\n",
              " '[ 사회적 기업 ] 담그 아 오 ㄴ 깍두기 500 g 외 1 개': '[사회적기업] 담가온 깍두기 500g외 1개',\n",
              " '사랑 海 황금 박대 실속 형 大 사이즈 5 미 세트': '사랑海 황금박대 실속형 大사이즈 5미세트',\n",
              " '[ 농업 회사 법인 고성 울금 유한 회사 ] 땅 속 의 보물 ! 울금 가루 외 2 개': '[농업회사법인 고성울금 유한회사] 땅속의 보물! 울금가루외 2개',\n",
              " '청양 종합 구기자 한과': '청양종합구기자한과',\n",
              " '지리산 산청 시골 농장 아카시아 ( 병 ) 꿀': '지리산 산청 시골농장 아카시아(병)꿀',\n",
              " '[ 전 북 마을 기업 ] 정 읍 해 아람 영농 조합 의 속편 하 ㄴ 에너지 곡물 바': '[전북마을기업] 정읍 해아람 영농조합의 속편한 에너지 곡물바',\n",
              " '전 남 함 평 자색 양파 5 kg ( 중 / 대 )': '전남 함평 자색양파 5kg (중/대)',\n",
              " '[ 게릴라 ] 홍 천 고향 차 ㄹ 현미 뻥 15 봉': '[게릴라]홍천 고향 찰현미뻥 15봉',\n",
              " '남녀 내복 내의 상하 의 세트 기모 / 발열 / 레깅스 / 타이즈 ( 올리비 아바 비 / 클라크 바 바 )': '남녀 내복내의 상하의세트 기모/발열/레깅스/타이즈(올리비아바비/클라크바바)',\n",
              " '진성 의 블랙 선 식 100 폴': '진성의 블랙선식 100포',\n",
              " '르 헤브 순면 목 이 편하 ㄴ 편백 나무 메밀 경추 베개': '르헤브 순면 목이편한 편백나무 메밀 경추 베개',\n",
              " '시래기 코다리 조림 400 g * 10 팩 총 4 kg': '시래기코다리조림 400g*10팩 총4kg',\n",
              " '재활 의 학과 / 진료비': '재활의학과/진료비',\n",
              " '[ 베스 트 어 워즈 ] 꼬 소 쫄 ㄴ 득 제주 오 메기 떡 20 개 골르 아 담기 ( 팥 / 콩고물 / 흑임자 택 1 )': '[베스트어워즈]꼬소쫀득 제주 오메기떡 20개 골라담기(팥/콩고물/흑임자 택1)',\n",
              " '잇바디 돌김 진도 곱창 김 200 매': '잇바디돌김 진도곱창김 200매',\n",
              " '[ 명가 미곡 ] 신 동진 쌀 백미 10 Kg': '[명가미곡]신동진쌀 백미10Kg',\n",
              " '국내산 왕 특대 손질 오징어 300 g ( 1 팩 / 1 미 ) * 9 팩 , 총 9 미 ( 2.7 kg )': '국내산 왕특대 손질오징어300g(1팩/1미)*9팩, 총9미(2.7kg)',\n",
              " '[ 게릴라 ] 하 ㄴ 돈 뒷 고기 400 g * 4 팩 ! 총 1.6 kg !': ' [ 게릴라 ] 한돈 뒷고기 400g * 4팩! 총 1.6kg!',\n",
              " '★ 연속 매진 ★ 국내 산 손질 대구 9 팩 ( 알 , 곤이 포함 ) + 소스 9 팩 ( 맵 ㄴ 탕 5 팩 + 맑 은 탕 4 팩 )': '★연속매진★국내산 손질대구9팩(알,곤이 포함)+ 소스9팩(매운탕5팩+맑은탕4팩)',\n",
              " '기모 방한 방풍 방수 보온 자전거 스키 스마트 터치 장갑': '기모 방한 방풍 방수 보온 자전거 스키 스마트터치 장갑',\n",
              " '스 어 일 농원 명인 청국장 _ 3': '서일농원 명인 청국장_3',\n",
              " '우리 소 육우 양념 찜 갈비 600 g × 5 팩': '우리소육우양념찜갈비600g×5팩',\n",
              " '[ 20 년 10 월 수확 ] 김 연도 오색 현미 21 봉': '[20년 10월수확] 김연도 오색현미21봉',\n",
              " '국내산 통 대사 이즈 오징어 270 g ( 팩 당 2 마리 ) * 7 팩 / 총 14 마리': '국내산 통 대사이즈 오징어 270g(팩당2마리)*7팩 / 총14마리',\n",
              " '[ 늘품 은 ] 김 하 지 는 동치미 3 kg': '[늘품은] 김하진 동치미 3kg',\n",
              " '[ 20 년 햅쌀 ] 순천만 하이 아미 햅쌀 10 kg * 2 포 / 총 20 kg': '[20년 햅쌀]순천만 하이아미 햅쌀 10kg*2포 / 총20kg',\n",
              " '2020 농협 적 벽 미인 화순 쌀 10 kg + 10 kg _ 신동 진': '2020 농협 적벽미인 화순쌀 10kg+10kg_신동진',\n",
              " '[ 뿌리 다 제주 ] 2021 년 제주 유기농 귤 5 kg + 5 kg / 총 10 kg': '[뿌리다 제주] 2021년 제주 유기농 귤 5kg+5kg  / 총 10kg',\n",
              " '2020 여 량 농협 냉동 차 ㄹ 옥수수 세트': '2020 여량농협 냉동찰옥수수 세트',\n",
              " '[ 여수 농협 ] 여수 돌산 갓김치 3 kg': '[여수농협] 여수돌산 갓김치 3kg',\n",
              " '[ 제이 로 렌 ] 여성용 핫 하 ㄴ 방한화 연말 파격 가 아 2 종 택 1': '[제이로렌] 여성용 핫한 방한화 연말파격가 2종 택1',\n",
              " '[ 리브 맘 ] 에어 프라이어 종이 호일 90 매 / 180 매 / 270 매 ( 택 1 )': '[리브맘] 에어프라이어 종이호일 90매/180매/270매 (택1) ',\n",
              " '★ 제주 안심 밥상 냉장 제주 돼지 + 1 팩 더 !! ( 14 팩 총 4.2 kg )': '★제주안심밥상 냉장 제주돼지 +1팩더!!(14팩 총4.2kg)',\n",
              " '한복 서 는 다시 팩 100 팩 ( 진 하 ㄴ 멸치 50 팩 + 해물 육수 50 팩 )': '한복선다시팩100팩(진한멸치50팩+해물육수50팩)',\n",
              " '[ 베스 트 어 워즈 ] [ 연 두 파 ㅁ ] BIG 아빠 의 주스 사과즙 대용량 180 ml 30 개입 하 ㄴ 박스': '[베스트어워즈][연두팜] BIG 아빠의주스 사과즙 대용량 180ml  30개입 한박스',\n",
              " '[ 하 어 피 홈 ] 놀 ㄴ 슬립 옷걸이 50 개 세트': '[해피홈]논슬립옷걸이50개세트',\n",
              " '[ 토종 마을 ] HACCP 인증 국산 보리 새싹 가루 150 g 새싹 보리': '[토종마을]HACCP인증 국산 보리새싹가루150g 새싹보리',\n",
              " '[ 나 노도 깨비 겔 ] 테이프 22 종 세트': '[나노도깨비겔]테이프 22종세트',\n",
              " '[ 르 에 어 어 ] KF-94 마스크 150 매': '[르에어]KF-94마스크 150매',\n",
              " '대구 안 지랑 곱창 골목 국내산 생 막창 / 양념 곱창': '대구 안지랑곱창골목 국내산 생 막창/양념곱창',\n",
              " '[ 게릴라 ] 우리 밀 ㄹ 붕어빵 _ 3': '[게릴라]우리밀붕어빵_3',\n",
              " '[ 기본 에 ] 스탠딩 지퍼 백 특대 + 대 + 중 + 소 형 외 모음': '[기본에] 스탠딩 지퍼백 특대+대+중+소형 외 모음',\n",
              " '감염 내과 / 진료비': '감염내과/진료비',\n",
              " '완도 전복 특대 9 ~ 11 미 1 kg 명절 선물 포장 선택': '완도전복 특대 9~11미 1kg 명절선물 포장선택',\n",
              " '서천 장 수록 모시 떡국 떡': '서천 장수록 모시 떡국떡',\n",
              " '한라 참치 액': '한라참치액',\n",
              " '나 주 토하젓': '나주토하젓',\n",
              " '핑크 미니 호 접 란 ( 1 )': '핑크미니호접란(1)',\n",
              " '서산 어리 굴젓 명인 간월 도 어리 굴젓': '서산 어리굴젓 명인 간월도 어리굴젓',\n",
              " '제주 우진 수산 갈치': '제주우진수산갈치',\n",
              " '춘천 신선 하 ㄴ 입 닭 갈비 1 kg * 2 팩 ( 국내산 어깨 살 ) 2 세트 구매 시 사 누끼 떡 증정': '춘천신선한입닭갈비 1kg*2팩 (국내산 어깨살) 2세트 구매시 사누끼 떡 증정',\n",
              " '제철 싱싱 생굴 1 kg ( 횟감 용 )': '제철 싱싱 생굴 1kg (횟감용)',\n",
              " '[ GAP 인증 ] 조 인숙 님 의 국내산 골드 키위 ( 5 kg 58-68 과 )': '[GAP인증] 조인숙님의 국내산 골드키위(5kg 58-68과)',\n",
              " '꼭지 없 는 스낵 토마토 1 kg 2 kg 3 kg 외 1 개': '꼭지없는 스낵토마토 1kg 2kg 3kg외 1개',\n",
              " '[ since 1969 ] 50 년 전통 명 미 당 제주 오 메기 떡 1 호 ( 20 개 세트 )': '[since1969] 50년전통 명미당 제주오메기떡 1호 (20개세트)',\n",
              " '대천 김 외 2 개': '대천김외 2개',\n",
              " '달콤 하 고 맛있 는 영동 곶감 반 건시 3 호 선물 세트': '달콤하고 맛있는 영동곶감 반건시3호 선물세트',\n",
              " '산중 농원 청송 사과': '산중농원청송사과',\n",
              " '오색 담 은 청국장 ( 1.5 kg ) 150 gx 10 개': '오색담은 청국장(1.5kg) 150gx10개',\n",
              " '포항 박성환 님 의 구룡포 904 과 메기 야채 세트 혼 술 과 메기': '포항 박성환님의 구룡포 904과메기 야채세트 혼술과메기',\n",
              " '간편 요리 해 물탕 세트 ( 손질 하 어 물 + 야채 + 양념장 ) 3-4 인분': '간편요리 해물탕 세트 (손질해물+야채+양념장) 3-4인분',\n",
              " '고창 서해안 암 꽃게 로 만들 ㄴ 복분자 양념 게장 / 간장 게장 ( 1 마리 )': '고창 서해안 암꽃게로 만든 복분자 양념게장/간장게장(1마리)',\n",
              " '[ 서천 장터 ] 서천 명물 백 조기 10 미': '[서천장터] 서천 명물 백조기 10미',\n",
              " '남도 장터 그 시절 추어탕': '남도장터 그시절추어탕',\n",
              " '광천 조양 조미 구이 김': '광천조양조미구이김',\n",
              " '신 농 곶감': '신농곶감',\n",
              " '무주 최 영 님 의 반딧불 사과 100 % 사과즙 120 ml x 30 팩': '무주 최영님의 반딧불 사과 100% 사과즙 120ml x 30팩',\n",
              " '엄마 애 바다 까나리 섞이 ㄴ 뱅어포 1 속 ( 10 장 )': '엄마애바다 까나리섞인 뱅어포 1속(10장)',\n",
              " '신진 조미 구이 재래 김': '신진조미구이재래김',\n",
              " '안성 신선 쌀': '안성신선쌀',\n",
              " '[ 2020 년 산 햅쌀 ] 김 제 10 이 ㄴ 농부 의 맛있 는 햅쌀 10 kg ( 등급 : 상 )': '[2020년산 햅쌀] 김제 10인농부의 맛있는 햅쌀10kg(등급:상)',\n",
              " '[ 산지 직송 ] 2 대 를 잇 은 최 동근 님 의 나 주 레드 향 ( 중 / 대 )': '[산지직송] 2대를 이은 최동근님의 나주 레드향(중/대)',\n",
              " '믿음 식품 발효 숙성 국내산 LA 식 돼지 갈비 700 g': '믿음식품 발효숙성 국내산 LA식 돼지갈비 700g',\n",
              " '인제 내설악 용 대리 황태 외 1 개': '인제내설악용대리황태외 1개',\n",
              " '파인 에 그 황토 가 마 에 갓 굽 어 내 ㄴ 참숯 훈제 이 란 외 2 개': '파인에그 황토가마에 갓 구워낸 참숯 훈제란외 2개',\n",
              " '무안 황토밭 차조 1 kg': '무안 황토밭 차조 1kg',\n",
              " '여수 돌산 갓김치 1 kg + 동치 미 1 kg 외 1 개': '여수 돌산갓김치1kg + 동치미1kg외 1개',\n",
              " '우리밀 초 코 파이 / 수제 초 코 파이 / 전주 수제 초 코 파이 6 개': '우리밀초코파이 / 수제초코파이 / 전주수제초코파이 6개',\n",
              " '정 읍 명품 귀리 1 kg 외 1 개': '정읍명품귀리 1kg외 1개',\n",
              " '매일 매일 생 만호 파우치 / 생강 만나 ㄴ 호두 정과': '매일매일 생만호 파우치 / 생강만난 호두정과',\n",
              " '[ 경북 능금 농협 ] 껍질 째 먹 는 세척 사과 2.5 kg 13-15 과 # 소과 # 부 사 # 산지 직송': '[경북능금농협] 껍질째먹는 세척사과 2.5kg 13-15과 # 소과 # 부사 # 산지직송',\n",
              " '무안 갯벌 지주식 곱창 김 굽 ㄴ 김 10 매 5 봉': '무안갯벌지주식 곱창김 구운김 10매 5봉',\n",
              " '어촌 재래 맛 김 외 1 개': '어촌재래맛김외 1개',\n",
              " '[ 멸치 몰 ㄹ ] 통 영멸 하 지 ( 대 멸 )': '[멸치몰] 통영멸치(대멸)',\n",
              " '전주 두메 산골 냉장 생 절단 육 1 kgx 2 팩 ( 총 2 kg )': '전주 두메산골 냉장 생절단육 1kgx2팩(총2kg)',\n",
              " '[ 대구 경북 능금 농협 ] 농협 흠집 부사 사과 4 kg # 경북 사과 # 못난이 사과 # 예 천사 과': '[대구경북능금농협] 농협 흠집 부사 사과 4kg #경북사과 #못난이사과 #예천사과',\n",
              " '명인 명품 완숙 토마토 무농약 인증 . GAP 인증 2 kg': '명인명품 완숙토마토무농약인증 .GAP인증 2kg',\n",
              " '서귀포 남 원상 크미 천혜 향': '서귀포남원상크미천혜향',\n",
              " '임성 근 전설 의 육개장 500 g × 13 팩': '임성근전설의육개장500g×13팩',\n",
              " '[ 명절 ] 강 봉 석 명인 견과 바 _ 75 개 + 쇼핑백': '[명절]강봉석 명인 견과바_75개+쇼핑백',\n",
              " '세 ㄴ 소다 인 화이트 치약 113 g 1 개 + 딥 클린 치약 113 g 1 개': '센소다인 화이트 치약 113g 1개 + 딥클린 치약 113g 1개',\n",
              " '박 경호 의 프리 바이오 틱스 FOS 프 락 토 올리고당 12 개월': '박경호의 프리바이오틱스 FOS 프락토올리고당 12개월',\n",
              " '[ 명화 마스터 피스 컬렉션 ] 고 흐 해바라기 ( 대 형 )': '[명화마스터피스컬렉션] 고흐 해바라기(대형)',\n",
              " '[ 치 ㄹ 산 바다 ] 국내산 절단 꽃게 350 g x 2 팩': '[칠산바다] 국내산 절단꽃게 350g x 2팩',\n",
              " '[ 잭 필드 ] 남성 소프트 웜 푸 ㄹ 패딩 1 종': '[잭필드] 남성 소프트웜 풀패딩 1종',\n",
              " '당차 ㄴ 여주 분말 12 통 + 스푼 6 개': '당찬여주 분말12통+스푼6개',\n",
              " '강 병원 의 한 돈 목살 마늘 구이 ( 300 g * 8 ) _ 3': '강병원의 한돈 목살마늘구이(300g*8)_3',\n",
              " '★ 3 회 연속 매진 ★ 횡 성 축협 하 ㄴ 우 버섯 육개장 350 g × 11 팩': '★3회연속매진★ 횡성축협한우버섯육개장350g×11팩',\n",
              " '★ 180 억 돌파 브랜드 ★ 홈 몬스터 모던 서랍 장 1 + 1 + 1': '★180억 돌파 브랜드★ 홈몬스터 모던서랍장 1+1+1',\n",
              " '자연산 大 오징어 총 18 미': '자연산 大오징어 총18미',\n",
              " '피 부 과 / 진료비': '피 부 과/진료비',\n",
              " '[ 행복 하 ㄴ 농부 ] 당일 조업 생 곰 피 미역 쇠미역 1 kg': '[행복한농부] 당일조업 생 곰피미역 쇠미역 1kg',\n",
              " '[ 2021 년 ] 제주 하 였 레드 향 1.5 kg ( 5 ~ 8 과 ) * 3 박스 / 총 4.5 kg': '[2021년] 제주 햇 레드향 1.5kg(5~8과) * 3박스 / 총4.5kg',\n",
              " '[ 2020 햇 꼬막 ] 벌교 통 꼬막 장 12 통': '[2020햇꼬막]벌교 통꼬막장 12통 ',\n",
              " '크리스 티나 앤 코 후드 베스트 & amp ; 퀼팅 자켓': '크리스티나앤코 후드베스트&amp;퀼팅자켓',\n",
              " '[ 햇 특집 ] 국내산 절단 꽃게 8 + 2 팩 총 10 팩': '[햇특집]국내산 절단꽃게 8+2팩 총 10팩',\n",
              " '[ 20 팩 ! ] 바다 한 끼 해물 모둠 세트': '[20팩!]바다한끼 해물모둠 세트',\n",
              " '★ 국내 산 소 갈비 ★ 에드워드 권 의 LA 갈비 구이 400 g × 10 팩 !': '★국내산 소갈비★에드워드권의 LA갈비구이 400g×10팩!',\n",
              " '★ 국내 산 우리 소 ★ 김 하 지 는 통째 로 소한 마리 탕 8 팩': '★국내산 우리소★ 김하진 통째로 소한마리탕 8팩',\n",
              " '[ 파 라고 나 아 ] 아우터 / 자켓 / 티셔츠 균 일가 땡 처리 12 종': '[파라고나]아우터/자켓/티셔츠 균일가 땡처리 12종',\n",
              " '[ 2021 년 설명 절 ] 부침 명장 명절 모둠 전 _ 9 팩': '[2021년 설명절]부침명장 명절모둠전_9팩',\n",
              " '[ 대복 ] 대복 총각 김치 5 kg': '[대복] 대복 총각김치 5kg',\n",
              " '★ 국 / 내 / 산 / 통팥 100 % ★ 이상 복 장인 의 국내산 경주 빵 44 개 + 계피 빵 10 개 , 총 54 개': '★국/내/산/통팥100%★이상복 장인의 국내산 경주빵 44개+계피빵10개, 총54개',\n",
              " '바른 엔젤 체어 2 [ 1 + 1 ] 커 어 블 ㄹ 등받이 좌식 자세 교정 의자': '바른엔젤체어2 [1+1] 커블 등받이 좌식 자세 교정 의자',\n",
              " '일출 과 메기 해풍 건조 구룡포 완전 손질 과 메기 20 마리 ( 40 쪽 / 진공포장 )': '일출과메기 해풍건조 구룡포 완전손질 과메기 20마리(40쪽/진공포장) ',\n",
              " '[ 하 어 미래 ] 바다 의 보배 담백 하 ㄴ 국내산 병어 70 g x 7 팩': '[해미래] 바다의 보배 담백한 국내산 병어 70g x 7팩',\n",
              " '[ 매일 편하 ㄴ ] KF 94 마스크 100 매 ( 화이트 / 블랙 ) ( 1 매입 )': '[매일편한]KF94마스크100매(화이트/블랙)(1매입)',\n",
              " '간편 하 ㄴ 자숙 손질 피 꼬막 100 g x 5 팩': '간편한 자숙 손질 피꼬막 100g x 5팩',\n",
              " '2020 농협 천생 연 세척 사과 3 kg * 3 박스 _ 부사': '2020 농협 천생연 세척사과 3kg*3박스_부사',\n",
              " '강원도 용 대리 에서 얼 고 녹 은 황태 14 마리': '강원도 용대리에서 얼고 녹은 황태 14마리',\n",
              " '빌 뇨 의 학과 / 진료비': '비뇨의학과/진료비',\n",
              " '서귀포 새 코 롬 한라 봉': '서귀포새코롬한라봉',\n",
              " '가평 잣': '가평잣',\n",
              " '안동 양반 간고등어': '안동양반간고등어',\n",
              " '봄 푸드 수제 떡갈비 500 g ( 100 g * 5 개입 ) 외 3 개': '봄푸드 수제 떡갈비 500g(100g*5개입)외 3개',\n",
              " '[ 서천 장터 ] 장 수록 한산 모시 개떡 1.2 kg': '[서천장터] 장수록 한산 모시개떡1.2kg',\n",
              " '향수 옥천 꿈 에 도 모르 았 던 맛있 는 떡국 떡 !': '향수옥천 꿈에도 몰랐던 맛있는 떡국떡!',\n",
              " '대천 갓바위 조미 구이 김 외 1 개': '대천갓바위조미구이김외 1개',\n",
              " '[ 빛 고을 한들 축산 ] 한우 으뜸 구이 세트 1 호 - 등 심 ( 500 g ) + 채끝 ( 300 g ) + 특수 부위 ( 200 g )': '[빛고을한들축산]한우으뜸구이세트1호-등심(500g)+채끝(300g)+특수부위(200g)',\n",
              " '[ 마니 커 어 F & amp ; G ] 도톰 하 ㄴ 입 산적 구이 1 kg + 1 kg 외 2 개': '[마니커F&amp;G] 도톰한입산적구이 1kg+1kg외 2개',\n",
              " '전 남 화순 떡 명장 심 은 의 별꼴 떡볶이 떡 ( 400 g * 3 봉 ) + 소스 3 팩 제공': '전남 화순 떡명장 심은의 별꼴떡볶이떡(400g*3봉) +소스3팩 제공',\n",
              " '( 오늘 바다 ) 국내산 싱싱 하 ㄴ 통영 홍 가리비 1 kg': '(오늘바다) 국내산 싱싱한 통영 홍가리비 1kg',\n",
              " '[ 착하 ㄴ 고기 마을 ] 산지 직송 무 항생제 돼지고기 보쌈 용 뒷다리 사 ㄹ 1 kg / 남도 장터 / 전 남 에서 키우 ㄴ 돼지': '[착한고기마을]산지직송 무항생제 돼지고기 보쌈용 뒷다리살 1kg/남도장터/전남에서 키운돼지',\n",
              " '순수 닭 갈비 1 kg * 2 닭다리 살 로 만 든 냉장 상품 ( 양념장 100 g * 2 증정 )': '순수닭갈비 1kg*2 닭다리살로 만든 냉장상품 (양념장100g*2 증정)',\n",
              " '상주 둥 시 곶감 ( 건시 )': '상주둥시곶감(건시)',\n",
              " '제주 강 해성 수산 수산물 세트': '제주강해성수산수산물세트',\n",
              " '꿀 이 뚝뚝 한입 장 수신 농사 과 3.5 kg ( 17 과 ~ 19 과 )': '꿀이 뚝뚝 한입 장수신농사과 3.5kg(17과 ~ 19과)',\n",
              " '고창 서해안 암 꽃게 로 만들 ㄴ 복분자 양념 게장': '고창 서해안 암꽃게로 만든 복분자 양념게장',\n",
              " '여수 바다 로 멸치': '여수바다로멸치',\n",
              " '완도 보길도 참전 복': '완도보길도참전복',\n",
              " '거제 식품 진상품 특선 멸치 세트': '거제식품진상품특선멸치세트',\n",
              " '유 창 수산 식품 멸치': '유창수산식품 멸치',\n",
              " '표고 아빠 네 표고 버섯 선물 세트 [ 종합 ( 대 ) 1 호 ]': '표고아빠네 표고버섯선물세트 [종합(대)1호]',\n",
              " '부 안 아리 울 ㄹ 떡 공방 굳 지 않 는 앙금 절편 떡 1 kg 외 2 개': '부안 아리울떡공방 굳지않는 앙금절편 떡 1kg외 2개',\n",
              " '이안 농장 과 일 세트': '이안농장과일세트',\n",
              " '대관령 주문진 황태': '대관령주문진황태',\n",
              " '원 프리미엄 육포': '원프리미엄육포',\n",
              " '알 ㄴ 시 리움': '안시리움',\n",
              " '표고 버섯 중품 ( 생 표고 ) 1 kg': '표고버섯 중품(생표고) 1kg',\n",
              " '[ 남도 장터 ] 떡 명장 심 은 의 떡국 떡볶이 특가 할인': '[남도장터] 떡 명장 심은의 떡국 떡볶이 특가할인',\n",
              " '[ 하늘 다리 ] 청 농 생강 원액 옵션 외 2 개': '[하늘다리]청농 생강원액 옵션외 2개',\n",
              " '산청 지리산 덕 산 꿀 곶감': '산청지리산덕산꿀곶감',\n",
              " '제주 비트 즙 100 ml x 30 폴': '제주비트즙 100ml x 30포',\n",
              " '청양 농협 고춧가루 일반용 500 g ( 매운맛 / 순 하 ㄴ 맛 ) 외 1 개': '청양농협 고춧가루 일반용 500g (매운맛/순한맛)외 1개',\n",
              " '[ 구룡포 904 ] 못난이 마른 오징어 ( 파 품 ) 300 g': '[구룡포904] 못난이 마른오징어(파품) 300g',\n",
              " '춘천 신선 하 ㄴ 입 닭 갈비 1 kg * 2 팩 ( 국내산 어깨 살 ) 2 세트 구매 시 사 누끼 떡 증정 외 1 개': '춘천신선한입닭갈비 1kg*2팩 (국내산 어깨살) 2세트 구매시 사누끼 떡 증정외 1개',\n",
              " '[ GAP , 저탄소 인증 ] 감 고을 아삭 단감 5 kg ( 선물 용 )': '[GAP, 저탄소인증] 감고을아삭단감 5kg (선물용)',\n",
              " '모나리자 플러스 데 코 ( 27 * 30 롤 ) 1 봉 지': '모나리자 플러스데코(27*30롤) 1봉지',\n",
              " '고랭지 장 수사과 무선 별 가정용 흠 과 사과 10 Kg 이상': '고랭지 장수사과 무선별 가정용흠과 사과  10Kg 이상',\n",
              " '쿡 시 쌀 국수': '쿡시쌀국수',\n",
              " '신 제품 진안 천 추 ㄴ 진 박사 의 부드럽 ㄴ 채담 카레 5 개': '신제품 진안 천춘진박사의 부드러운 채담카레 5개',\n",
              " '[ 하늘 다리 ] 청 농 생강 원액 옵션': '[하늘다리]청농 생강원액 옵션',\n",
              " '삼립 호 빵 토종 효모 닿 ㄴ 팥 야채 호 빵 10 개': '삼립호빵 토종효모 단팥 야채호빵 10개',\n",
              " '엄마 밥상 매콤 돼 지 갈비 500 g * 2 팩': '엄마밥상 매콤 돼지갈비 500g*2팩',\n",
              " '기쁨 세트 소': '기쁨세트 소',\n",
              " '[ 남도 장터 ] 함 평 나 비원 나비 골 추어탕 500 g * 5 팩': '[남도장터] 함평 나비원 나비골추어탕 500g*5팩',\n",
              " '( 제철 ) 달콤 하 ㄴ 레드 키위 2 kg': '(제철)달콤한 레드키위 2kg',\n",
              " '한 돈 포크 밸리 삼겹살 , 오 겹 살 , 목살 350 g 골르 아 담기 외 1 개': '한돈 포크밸리 삼겹살, 오겹살, 목살 350g 골라담기외 1개',\n",
              " '( 오늘 바다 ) 바다 향 가득 국내산 홍합 2 kg 외 1 개': '(오늘바다) 바다 향 가득 국내산 홍합 2kg외 1개',\n",
              " '대천 갓바위 재래 도시락 김': '대천갓바위 재래도시락김',\n",
              " '지구 마을 프리미엄 생강차 생강 원액 350 ml ~ 500 ml': '지구마을 프리미엄 생강차 생강원액 350ml~500ml',\n",
              " '춘천 순수 조각 닭 갈비 1 kg * 2 ( + 양념장 100 g * 2 증정 )': '춘천순수조각닭갈비 1kg * 2(+양념장100g*2 증정)',\n",
              " '김 하 어 초림 단지 묵 도토리 묵 400 g x 2 외 2 개': '김해 초림 단지묵 도토리묵 400g x 2외 2개',\n",
              " '하 ㄴ 산소 곡주': '한산소곡주',\n",
              " '[ 달팽이 장터 ] 우림 식품 한 돈 선물 세트': '[달팽이장터]우림식품 한돈 선물세트',\n",
              " '나 만 의 우표': '나만의 우표',\n",
              " '[ 애플 트리 ] 이너 뷰티 콜라겐 C 프리미엄 ( 6 개월 분 )': '[애플트리]이너뷰티 콜라겐C 프리미엄(6개월분)',\n",
              " '하얗 ㄴ 앙금 희 ㄴ 바람떡 쑥 바람떡 ( 650 g 2 팩 ) 희 ㄴ 앙금 백 앙금': '하얀앙금 흰바람떡 쑥바람떡 (650g 2팩) 흰앙금 백앙금',\n",
              " '제 주은 갈치 무려 왕 특대 사이즈 420 g * 4 팩 / 총 1.68 kg': '제주은갈치 무려 왕특대사이즈 420g * 4팩 / 총 1.68kg',\n",
              " '국내산 반건조 특대 민어 300 g * 12 미': '국내산 반건조 특대 민어 300g *12미 ',\n",
              " '[ GNM 자연 의 품격 ] 마그네슘 05 4 개월 분 x 1 병': '[GNM자연의품격]마그네슘05 4개월분 x 1병 ',\n",
              " '[ 2021 년 ] 강 진향 심 씨 전통 메주 세트': '[2021년]강진향심씨 전통메주세트',\n",
              " '쫄깃 담백 참숯 굽 ㄴ 계란 60 구': '쫄깃담백 참숯 구운계란 60구',\n",
              " '[ 행복 하 ㄴ 농부 ] 유기농 쌈 채소 600 g': '[행복한농부] 유기농 쌈채소 600g',\n",
              " '[ 강 블 ㄹ 리 ] 제주 에 세 ㄴ 셜 핸드 크림 4 종': '[강블리] 제주 에센셜 핸드크림 4종',\n",
              " '★ 한 만두 5 가지 맛 무려 10 봉 2.298 kg !!!': '★ 한만두 5가지맛 무려 10봉 2.298kg!!!',\n",
              " '★ 1 만원 인하 ★ 아 라벨 르 세라 피 밍크 터치 착 벌 ㄴ 극세사 침구 세트 ( SK )': '★1만원인하★아라벨르 세라피 밍크터치 착번극세사 침구세트 (SK)',\n",
              " '[ 명절 특집 ] 어부 네 생선 가게 국내산 손질 왕 특대 가자미 250 g 10 미': '[명절특집]어부네생선가게 국내산 손질 왕특대 가자미 250g 10미',\n",
              " '이 수근 의 가 아 평 황 잣 3 병 세트': '이수근의 가평 황잣 3병 세트',\n",
              " '제주 안심 밥상 돼지 특수 부위 뒷 고기 ( 구 이용 ) 3 팩 750 g': '제주안심밥상 돼지특수부위 뒷고기(구이용) 3팩 750g',\n",
              " '★ 기획 특가 ★ 1 등급 한우 정육 세트 ( 불고기 , 국 거리 , 장조림 / 총 1 kg )': '★기획특가★ 1등급 한우 정육세트(불고기,국거리,장조림/총 1kg)',\n",
              " '보 몽드 극세사 이불 베개 세트 모음 전 ( SS / Q )': '보몽드 극세사 이불베개세트 모음전(SS/Q)',\n",
              " '곰 표 하 ㄴ 일 워 셔블 전기요 / 매트 / 전기장판 모음': '곰표한일 워셔블 전기요/매트/전기장판 모음',\n",
              " '[ 자연 향 ] 2020 해 남 호박 고구마 3.5 kg * 2 박스 / 총 7 kg': '[자연향] 2020 해남 호박 고구마 3.5kg*2박스 / 총7kg',\n",
              " '[ 자연 맛 남 ] 제주 산 참 굴비 선물 세트 20 팩 ( 1 미 당 80g-100g ) / 개별 포장': '[자연맛남] 제주산 참굴비선물세트 20팩(1미당80g-100g)/개별포장',\n",
              " '[ 도미 솔 김치 ] 별 미 4 종 김치 13 kg + 김치 어묵 만두 2 봉': '[도미솔김치] 별미4종김치13kg+김치어묵만두2봉',\n",
              " '[ 신 강식 ] 윈 터 하운드 니트 패딩 코트': '[신강식] 윈터하운드 니트패딩코트',\n",
              " '수협 영광 참 굴비 대장 대 50 미': '수협 영광 참굴비 대장대 50미',\n",
              " '★ 1 만원 인하 ★ 아 라벨 르 레이첼 더블 착 벌 ㄴ 극세사 침구 세트 ( SK )': '★1만원인하★아라벨르 레이첼 더블착번극세사 침구세트 (SK)',\n",
              " '[ 김 여사 ] 신년 맞이 초 특가 이너 & amp ; 악 세서 라 46 종 엄마 옷 / 중년 의류': '[김여사]신년맞이 초특가 이너&amp;악세서라 46종 엄마옷/중년의류',\n",
              " '박 주 ㄴ 미용실 블루 라벨 아르 간 대용량 샴푸 1150 ml': '박준 미용실 블루라벨 아르간 대용량 샴푸 1150ml',\n",
              " '히트 융 극세사 융기 모 남 / 녀 동 내의 2 종': '히트융 극세사 융기모 남/녀 동내의 2종',\n",
              " '햇 강화 순무 4 kg + 강화 순무 물김치 3 kg / 총 7 kg': '햇강화순무 4kg+강화순무물김치 3kg / 총 7kg',\n",
              " '[ 마담 엘레강스 ] 세실 밍크 카 라 알파카 코트': '[마담엘레강스] 세실 밍크카라 알파카코트',\n",
              " '[ 라벨 영 ] 쇼 킹 풋 필링 크림 발 보습 / 발 각질 + 굳은살 즉각 제거': '[라벨영] 쇼킹풋필링크림 발보습 /발각질+굳은살 즉각제거',\n",
              " '[ 다인 명가 ] 호 두 과자 20 EA x 2 봉 ( 총 800 g )': '[다인명가] 호두과자 20EA x 2봉 (총 800g)',\n",
              " '루시 앙 테 디 푸 어 롱 코트 4 종 택 1': '루시앙 테디 퍼 롱코트 4종 택1',\n",
              " '상품 1': '상품1',\n",
              " '[ 착하 ㄴ 고기 마을 ] 무 항생제 돼지 세트 4 호 / 전 남 에서 키우 ㄴ 건강 하 ㄴ 돼지 하 ㄴ 돈': '[착한고기마을]무항생제 돼지세트 4호 / 전남에서 키운 건강한 돼지 한돈',\n",
              " '빨갛 ㄴ 꿀 땋 ㄴ지 사과 배 혼합 세트': '빨간꿀딴지사과배혼합세트',\n",
              " '안면도 호박 고구마 3 kg 5 kg 10 kg ( 50 ~ 300 g )': '안면도호박고구마 3kg 5kg 10kg (50~300g)',\n",
              " '거제 식품 진상품 특선 멸치 액 젓': '거제식품진상품특선멸치액젓',\n",
              " '[ 보령 장터 ] 보령 수협 국내산 멸치 세 멸치 ( 지리 , 볶음 용 ) 1 kg / 원물 박스': '[보령장터] 보령수협 국내산 멸치 세멸치 (지리, 볶음용) 1kg / 원물박스',\n",
              " '평 창애 양념 코다리 180 g': '평창애 양념코다리180g',\n",
              " '상주 새 누리 곶감': '상주새누리곶감',\n",
              " '( 유 ) 바다 향 볶음 용 멸치 ( 자 ㄴ 멸치 ) - 최상품': '(유)바다향 볶음용 멸치(잔멸치) - 최상품',\n",
              " '[ 창영 수산 ] 탱글탱글 제철 남해안 생굴': '[창영수산] 탱글탱글 제철 남해안 생굴',\n",
              " '[ 락 토리 움 ] 프로 바이오 틱스 생 유산균 50 포 X 2 통 ( 100 일 분 )': '[락토리움] 프로바이오틱스 생유산균 50포X2통(100일분)',\n",
              " '상주 궁중 곶감 ( 반 건시 )': '상주궁중곶감(반건시)',\n",
              " '보성 에서 자라 ㄴ 유기농 녹차 로 만들 ㄴ 고운 가루 녹차 , 녹차 가루': '보성에서 자란 유기농 녹차로 만든 고운 가루녹차, 녹차가루',\n",
              " '제 주해 수산물 고등어': '제주해수산물고등어',\n",
              " '[ 오 엠 오 ] 100 % 새싹 보리 분말 수경 재배 + 계량 스푼 포함 외 2 개': '[오엠오]100%새싹보리분말 수경재배 + 계량스푼포함외 2개',\n",
              " '[ 횡 성명 품 하 ㄴ 우 ] 횡 성 한우 정육 4 호 선물세트 ( 불 불국 )': '[횡성명품한우] 횡성 한우 정육 4호 선물세트(불불국)',\n",
              " '완도 활 전복 中 구이 용 11 ~ 14 미 400 g 외 3 개': '완도활전복 中 구이용 11~14미 400g외 3개',\n",
              " '홍 천 가락 재 잣 마을 잣': '홍천가락재잣마을잣',\n",
              " '이슬 마루 세척 사과 2.5 kg': '이슬마루 세척사과 2.5kg',\n",
              " '[ 서울 약사 신협 ] 6 년 근 투데이 홍삼 정 플러스 스틱 60 폴': '[서울약사신협] 6년근 투데이 홍삼정 플러스 스틱 60포',\n",
              " '[ 푸드 앤 펀 ] 진짜 맛 ! 이 나 는 대패 삼겹살 ( 녹차 , 마늘 , 오리지널 ) 300 g 택 1 외 3 개': '[푸드앤펀] 진짜 맛! 이나는 대패 삼겹살(녹차, 마늘, 오리지널) 300g 택 1외 3개',\n",
              " '상주 능 바우 곶감 ( 건시 )': '상주능바우곶감(건시)',\n",
              " '군고구마 양갱 선물 세트 [ 속 이 알차 ㄴ , 45 g * 16 개 ]': '군고구마양갱 선물세트[속이 알찬, 45g * 16개]',\n",
              " '부 안 아리 울 ㄹ 떡 공방 굳 지 않 는 앙금 절편 떡 1 kg 외 1 개': '부안 아리울떡공방 굳지않는 앙금절편 떡 1kg외 1개',\n",
              " '[ 생산자 직송 ] 하 어 남 강미 자 님 의 호박 고구마 ( 특상 )': '[생산자직송] 해남 강미자님의 호박고구마(특상)',\n",
              " '실속 형 못난이 곶감 ( 2 급 ) 3 kg ( 종이 상자 )': '실속형 못난이 곶감(2급) 3kg (종이상자)',\n",
              " '붉 은 진주 머루 와인': '붉은진주머루와인',\n",
              " '( 제주 직 배송 ) 레드 향 + 천혜 향 ( 혼합 과 ) 선물 용 5 kg ( 20-25 과 )': '(제주직배송)레드향+천혜향 (혼합과) 선물용 5kg(20-25과)',\n",
              " '[ 런 칭 특가 ] 불 땡초 맛 김 도시락 4 호': '[런칭특가] 불땡초맛김 도시락 4호',\n",
              " '별 우 별미 고르 아 담기 횡 성한 우 [ 대창 , 막창 , 특 양 구이 , 곱창 ]': '별우별미 골라담기 횡성한우 [대창,막창,특양구이,곱창]',\n",
              " '순창 현미 누룽지 35 g x 10 봉': '순창 현미 누룽지 35g x 10봉',\n",
              " ...}"
            ]
          },
          "metadata": {
            "tags": []
          },
          "execution_count": 162
        }
      ]
    },
    {
      "cell_type": "code",
      "metadata": {
        "id": "Xhf_KP7ANU4c",
        "colab": {
          "base_uri": "https://localhost:8080/"
        },
        "outputId": "bd4b225e-4a97-43d2-bb79-84fdc04ff362"
      },
      "source": [
        "checker = pd.Series([i in detail_esp for i in TFoutputs['predict_item']])\n",
        "print(checker.value_counts())\n",
        "filter = checker[checker == False].index\n",
        "len(filter)"
      ],
      "execution_count": null,
      "outputs": [
        {
          "output_type": "stream",
          "text": [
            "True     272\n",
            "False     72\n",
            "dtype: int64\n"
          ],
          "name": "stdout"
        },
        {
          "output_type": "execute_result",
          "data": {
            "text/plain": [
              "72"
            ]
          },
          "metadata": {
            "tags": []
          },
          "execution_count": 163
        }
      ]
    },
    {
      "cell_type": "code",
      "metadata": {
        "id": "Uh-NlYnHNf5n",
        "colab": {
          "base_uri": "https://localhost:8080/",
          "height": 555
        },
        "outputId": "36ce4e59-fd5f-4803-c709-5bc5a490b8ed"
      },
      "source": [
        "TFoutputs['filter'] = checker\n",
        "TFoutputs"
      ],
      "execution_count": null,
      "outputs": [
        {
          "output_type": "execute_result",
          "data": {
            "text/html": [
              "<div>\n",
              "<style scoped>\n",
              "    .dataframe tbody tr th:only-of-type {\n",
              "        vertical-align: middle;\n",
              "    }\n",
              "\n",
              "    .dataframe tbody tr th {\n",
              "        vertical-align: top;\n",
              "    }\n",
              "\n",
              "    .dataframe thead th {\n",
              "        text-align: right;\n",
              "    }\n",
              "</style>\n",
              "<table border=\"1\" class=\"dataframe\">\n",
              "  <thead>\n",
              "    <tr style=\"text-align: right;\">\n",
              "      <th></th>\n",
              "      <th>train</th>\n",
              "      <th>label</th>\n",
              "      <th>token_len</th>\n",
              "      <th>token_len_cate</th>\n",
              "      <th>split_train_token</th>\n",
              "      <th>split_label_token</th>\n",
              "      <th>predict_item</th>\n",
              "      <th>filter</th>\n",
              "    </tr>\n",
              "  </thead>\n",
              "  <tbody>\n",
              "    <tr>\n",
              "      <th>0</th>\n",
              "      <td>우편물</td>\n",
              "      <td>보령삼육조미구이식탁김</td>\n",
              "      <td>1</td>\n",
              "      <td>0:100</td>\n",
              "      <td>&lt;esp&gt; 우편물 &lt;esp&gt;</td>\n",
              "      <td>&lt;esp&gt; 보령 삼육 조미 구이 식탁 김 &lt;esp&gt;</td>\n",
              "      <td>&lt;esp&gt; 우편물 &lt;esp&gt;</td>\n",
              "      <td>True</td>\n",
              "    </tr>\n",
              "    <tr>\n",
              "      <th>1</th>\n",
              "      <td>[팝핀 도너츠] 도넛 6종세트 15개/30개(바바리안, 딸기, 보스톤 메론 , 땅콩...</td>\n",
              "      <td>★지난 총 8회 매진 신화★서산 간월도식 어리굴젓8통 + 양념굴젓4통</td>\n",
              "      <td>86</td>\n",
              "      <td>0:100</td>\n",
              "      <td>&lt;esp&gt; [ 팝 핀 도너츠 ] 도넛 6 종 세트 15 개 / 30 개 ( 바바리 ...</td>\n",
              "      <td>&lt;esp&gt; ★ 지나 ㄴ 총 8 회 매진 신화 ★ 서산 간월 도식 어리 굴젓 8 통 ...</td>\n",
              "      <td>&lt;esp&gt; 국내산 대패 삼겹살 300 g * 7 팩 ( 총 2.5 kg ) &lt;esp&gt;</td>\n",
              "      <td>False</td>\n",
              "    </tr>\n",
              "    <tr>\n",
              "      <th>2</th>\n",
              "      <td>양구 펀치볼 시래기17팩+맛내기17팩</td>\n",
              "      <td>[상시]강원도명물더덕무침(13팩)</td>\n",
              "      <td>13</td>\n",
              "      <td>0:100</td>\n",
              "      <td>&lt;esp&gt; 양 구 펀치 보 ㄹ 시래기 17 팩 + 맛 내기 17 팩 &lt;esp&gt;</td>\n",
              "      <td>&lt;esp&gt; [ 상시 ] 강원도 명물 더덕 무침 ( 13 팩 ) &lt;esp&gt;</td>\n",
              "      <td>&lt;esp&gt; 쫄깃 담백 참숯 굽 ㄴ 계란 60 구 &lt;esp&gt;</td>\n",
              "      <td>True</td>\n",
              "    </tr>\n",
              "    <tr>\n",
              "      <th>3</th>\n",
              "      <td>류마티스내과/진료비&amp;&amp;약제비&amp;&amp;약제비&amp;&amp;심장내과/진료비</td>\n",
              "      <td>이비인후과/진료비</td>\n",
              "      <td>16</td>\n",
              "      <td>0:100</td>\n",
              "      <td>&lt;esp&gt; 류 마티스 내과 / 진료비  &lt;esp&gt;  약제 비  &lt;esp&gt;  약제 비...</td>\n",
              "      <td>&lt;esp&gt; 이비인후과 / 진료비 &lt;esp&gt;</td>\n",
              "      <td>&lt;esp&gt; 약제 비 &lt;esp&gt;</td>\n",
              "      <td>True</td>\n",
              "    </tr>\n",
              "    <tr>\n",
              "      <th>4</th>\n",
              "      <td>여수 거문도 해풍쑥 생개떡 2kg&amp;&amp;깊고 진한 전라도 김치 2kg 포장/한정판매 갓...</td>\n",
              "      <td>특산영농조합법인곶감(반건시)</td>\n",
              "      <td>59</td>\n",
              "      <td>0:100</td>\n",
              "      <td>&lt;esp&gt; 여수 거문도 해풍 쑥 생 개떡 2 kg  &lt;esp&gt;  깊 고 진하 ㄴ 전...</td>\n",
              "      <td>&lt;esp&gt; 특산 영농 조합 법인 곶감 ( 반 건시 ) &lt;esp&gt;</td>\n",
              "      <td>&lt;esp&gt; 영광 법성포 굴비 마을 굴비 &lt;esp&gt;</td>\n",
              "      <td>True</td>\n",
              "    </tr>\n",
              "    <tr>\n",
              "      <th>...</th>\n",
              "      <td>...</td>\n",
              "      <td>...</td>\n",
              "      <td>...</td>\n",
              "      <td>...</td>\n",
              "      <td>...</td>\n",
              "      <td>...</td>\n",
              "      <td>...</td>\n",
              "      <td>...</td>\n",
              "    </tr>\n",
              "    <tr>\n",
              "      <th>339</th>\n",
              "      <td>고기랑 찰떡궁합! 청도 미나리 500g&amp;&amp;[명절특가] 황제의아침 숙성흑마늘진액 10...</td>\n",
              "      <td>[횡성명품한우] 횡성 한우 정육 4호 선물세트(불불국)</td>\n",
              "      <td>74</td>\n",
              "      <td>0:100</td>\n",
              "      <td>&lt;esp&gt; 고기 랑 찰떡 궁합 ! 청도 미나리 500 g  &lt;esp&gt;  [ 명절 특...</td>\n",
              "      <td>&lt;esp&gt; [ 횡 성명 품 하 ㄴ 우 ] 횡 성 한우 정육 4 호 선물세트 ( 불 ...</td>\n",
              "      <td>&lt;esp&gt; 2021 년 설명 절 ] 부침 명장 명절 모둠 전 \\&amp;undsc 3 &lt;esp&gt;</td>\n",
              "      <td>False</td>\n",
              "    </tr>\n",
              "    <tr>\n",
              "      <th>340</th>\n",
              "      <td>귤로장생 제주 햇 레드향 1.8kg*3박스&amp;&amp; 미루 구수한 누룽지 3종세트(50봉)</td>\n",
              "      <td>★초특가★[게릴라]옛날 쥐치포</td>\n",
              "      <td>27</td>\n",
              "      <td>0:100</td>\n",
              "      <td>&lt;esp&gt; 귤 로 장생 제주 하 였 레드 향 1.8 kg * 3 박스  &lt;esp&gt; ...</td>\n",
              "      <td>&lt;esp&gt; ★ 초 특가 ★ [ 게릴라 ] 옛날 쥐치 포 &lt;esp&gt;</td>\n",
              "      <td>&lt;esp&gt; 신 강식 아트 컬러 레이스 집 업 상 , 하세 트 &lt;esp&gt;</td>\n",
              "      <td>True</td>\n",
              "    </tr>\n",
              "    <tr>\n",
              "      <th>341</th>\n",
              "      <td>평창애 양념코다리180g</td>\n",
              "      <td>영광법성포이조굴비</td>\n",
              "      <td>6</td>\n",
              "      <td>0:100</td>\n",
              "      <td>&lt;esp&gt; 평 창애 양념 코다리 180 g &lt;esp&gt;</td>\n",
              "      <td>&lt;esp&gt; 영광 법성포 이조 굴비 &lt;esp&gt;</td>\n",
              "      <td>&lt;esp&gt; 통영 유기농 키위 참 다래 2 kg &lt;esp&gt;</td>\n",
              "      <td>True</td>\n",
              "    </tr>\n",
              "    <tr>\n",
              "      <th>342</th>\n",
              "      <td>미납통행료</td>\n",
              "      <td>미납통행료</td>\n",
              "      <td>2</td>\n",
              "      <td>0:100</td>\n",
              "      <td>&lt;esp&gt; 미납 통행료 &lt;esp&gt;</td>\n",
              "      <td>&lt;esp&gt; 미납 통행료 &lt;esp&gt;</td>\n",
              "      <td>&lt;esp&gt; 미납 통행료 &lt;esp&gt;</td>\n",
              "      <td>True</td>\n",
              "    </tr>\n",
              "    <tr>\n",
              "      <th>343</th>\n",
              "      <td>제주직송 올탑농원 햇 노지감귤 5kg 소과외 2개</td>\n",
              "      <td>[생산자직송] 해남 강미자님의 호박고구마 (한입)</td>\n",
              "      <td>15</td>\n",
              "      <td>0:100</td>\n",
              "      <td>&lt;esp&gt; 제주 직송 올 탑 농원 하 였 노지 감귤 5 kg 소 과외 2 개 &lt;esp&gt;</td>\n",
              "      <td>&lt;esp&gt; [ 생산자 직송 ] 하 어 남 강미 자 님 의 호박 고구마 ( 하 ㄴ 입...</td>\n",
              "      <td>&lt;esp&gt; [ 명절 특가 ] 황제 의 아침 숙성 흑 마늘 진액 1000 1 L 1 ...</td>\n",
              "      <td>False</td>\n",
              "    </tr>\n",
              "  </tbody>\n",
              "</table>\n",
              "<p>344 rows × 8 columns</p>\n",
              "</div>"
            ],
            "text/plain": [
              "                                                 train  ... filter\n",
              "0                                                  우편물  ...   True\n",
              "1    [팝핀 도너츠] 도넛 6종세트 15개/30개(바바리안, 딸기, 보스톤 메론 , 땅콩...  ...  False\n",
              "2                                 양구 펀치볼 시래기17팩+맛내기17팩  ...   True\n",
              "3                       류마티스내과/진료비&&약제비&&약제비&&심장내과/진료비  ...   True\n",
              "4    여수 거문도 해풍쑥 생개떡 2kg&&깊고 진한 전라도 김치 2kg 포장/한정판매 갓...  ...   True\n",
              "..                                                 ...  ...    ...\n",
              "339  고기랑 찰떡궁합! 청도 미나리 500g&&[명절특가] 황제의아침 숙성흑마늘진액 10...  ...  False\n",
              "340     귤로장생 제주 햇 레드향 1.8kg*3박스&& 미루 구수한 누룽지 3종세트(50봉)  ...   True\n",
              "341                                      평창애 양념코다리180g  ...   True\n",
              "342                                              미납통행료  ...   True\n",
              "343                        제주직송 올탑농원 햇 노지감귤 5kg 소과외 2개  ...  False\n",
              "\n",
              "[344 rows x 8 columns]"
            ]
          },
          "metadata": {
            "tags": []
          },
          "execution_count": 164
        }
      ]
    },
    {
      "cell_type": "code",
      "metadata": {
        "id": "8NNnTiziKXBu",
        "colab": {
          "base_uri": "https://localhost:8080/"
        },
        "outputId": "704133be-4445-4683-f08c-2164a7b1d5c6"
      },
      "source": [
        "pred = TFoutputs['predict_item']\n",
        "pred = pred.str.replace('<esp>', '')\n",
        "pred = pred.str.strip()\n",
        "pred.head()"
      ],
      "execution_count": null,
      "outputs": [
        {
          "output_type": "execute_result",
          "data": {
            "text/plain": [
              "0                                    우편물\n",
              "1    국내산 대패 삼겹살 300 g * 7 팩 ( 총 2.5 kg )\n",
              "2                   쫄깃 담백 참숯 굽 ㄴ 계란 60 구\n",
              "3                                   약제 비\n",
              "4                        영광 법성포 굴비 마을 굴비\n",
              "Name: predict_item, dtype: object"
            ]
          },
          "metadata": {
            "tags": []
          },
          "execution_count": 165
        }
      ]
    },
    {
      "cell_type": "code",
      "metadata": {
        "id": "99bDozohPb0F",
        "colab": {
          "base_uri": "https://localhost:8080/"
        },
        "outputId": "07a34b64-850d-4210-f526-62ab91d3acca"
      },
      "source": [
        "falses = pd.Series([TFoutputs['predict_item'][i] for i in filter])\n",
        "falses = falses.str.replace('<esp>', '')\n",
        "falses = falses.str.strip()\n",
        "print(len(falses))\n",
        "falses.head()"
      ],
      "execution_count": null,
      "outputs": [
        {
          "output_type": "stream",
          "text": [
            "72\n"
          ],
          "name": "stdout"
        },
        {
          "output_type": "execute_result",
          "data": {
            "text/plain": [
              "0                  국내산 대패 삼겹살 300 g * 7 팩 ( 총 2.5 kg )\n",
              "1                                                 참 멸치\n",
              "2    [ 명절 특가 ] 황제 의 아침 숙성 흑 마늘 진액 1000 1 L 1 병 ( 11...\n",
              "3           2020 농협 천생 연 세척 사과 3 kg * 3 박스 + 천혜 향 3 박스\n",
              "4    [ 1 / 22 단 하루 ] [ 공 영 X 강 블 ㄹ 리 ] 스킨 케어 인기 제품 ...\n",
              "dtype: object"
            ]
          },
          "metadata": {
            "tags": []
          },
          "execution_count": 166
        }
      ]
    },
    {
      "cell_type": "code",
      "metadata": {
        "id": "nYFapQ7HAxsZ"
      },
      "source": [
        "user2item = ds_customer.copy()"
      ],
      "execution_count": null,
      "outputs": []
    },
    {
      "cell_type": "code",
      "metadata": {
        "id": "6WW2TMwaE6Hn",
        "colab": {
          "base_uri": "https://localhost:8080/",
          "height": 419
        },
        "outputId": "238959ff-996d-45e0-f0c5-9265cb6da98c"
      },
      "source": [
        "user2item.columns = ['유저 식별키', '유저 구매 상품 식별키 묶음']\n",
        "user2item"
      ],
      "execution_count": null,
      "outputs": [
        {
          "output_type": "execute_result",
          "data": {
            "text/html": [
              "<div>\n",
              "<style scoped>\n",
              "    .dataframe tbody tr th:only-of-type {\n",
              "        vertical-align: middle;\n",
              "    }\n",
              "\n",
              "    .dataframe tbody tr th {\n",
              "        vertical-align: top;\n",
              "    }\n",
              "\n",
              "    .dataframe thead th {\n",
              "        text-align: right;\n",
              "    }\n",
              "</style>\n",
              "<table border=\"1\" class=\"dataframe\">\n",
              "  <thead>\n",
              "    <tr style=\"text-align: right;\">\n",
              "      <th></th>\n",
              "      <th>유저 식별키</th>\n",
              "      <th>유저 구매 상품 식별키 묶음</th>\n",
              "    </tr>\n",
              "  </thead>\n",
              "  <tbody>\n",
              "    <tr>\n",
              "      <th>0</th>\n",
              "      <td>36</td>\n",
              "      <td>우편물&amp;&amp;더블더블 / 감자튀김 딥치즈 업그레이드 세트&amp;&amp;꿀유자차 / 아이스&amp;&amp;바닐라...</td>\n",
              "    </tr>\n",
              "    <tr>\n",
              "      <th>1</th>\n",
              "      <td>17492</td>\n",
              "      <td>납기내금액&amp;&amp;납기내금액&amp;&amp;납기내금액&amp;&amp;납기내금액&amp;&amp;납기내금액&amp;&amp;납기내금액&amp;&amp;납기내금...</td>\n",
              "    </tr>\n",
              "    <tr>\n",
              "      <th>2</th>\n",
              "      <td>26661</td>\n",
              "      <td>무료배달&amp;&amp;무료배달&amp;&amp;베이컨 치즈버거 / 일반세트(버거+음료+감자튀김)&amp;&amp;무료배달&amp;...</td>\n",
              "    </tr>\n",
              "    <tr>\n",
              "      <th>3</th>\n",
              "      <td>27462</td>\n",
              "      <td>컬쳐캐쉬1건&amp;&amp;컬쳐캐쉬1건&amp;&amp;아메리카노(일반) / 아이스,킹&amp;&amp;떡볶이&amp;&amp;더블더블 /...</td>\n",
              "    </tr>\n",
              "    <tr>\n",
              "      <th>4</th>\n",
              "      <td>27478</td>\n",
              "      <td>납기내금액&amp;&amp;납기내금액&amp;&amp;임성근손질민물장어 12팩+소스10봉&amp;&amp;납기내금액&amp;&amp;아메리카...</td>\n",
              "    </tr>\n",
              "    <tr>\n",
              "      <th>...</th>\n",
              "      <td>...</td>\n",
              "      <td>...</td>\n",
              "    </tr>\n",
              "    <tr>\n",
              "      <th>3407</th>\n",
              "      <td>1987446</td>\n",
              "      <td>일벌세트 / 약간 덜매운맛 : 추천 맵기(20%)외 2건&amp;&amp;일벌세트 / 약간 덜매운...</td>\n",
              "    </tr>\n",
              "    <tr>\n",
              "      <th>3408</th>\n",
              "      <td>1987625</td>\n",
              "      <td>(2마리) 코다리매콤명태찜 / 젓가락빼주세요외 2건&amp;&amp;(2마리) 코다리매콤명태찜 /...</td>\n",
              "    </tr>\n",
              "    <tr>\n",
              "      <th>3409</th>\n",
              "      <td>1987728</td>\n",
              "      <td>리얼초코자바칩프라페 / 휘핑 반만올리기외 1건&amp;&amp;아메리카노 / HOT&amp;&amp;아메리카노 ...</td>\n",
              "    </tr>\n",
              "    <tr>\n",
              "      <th>3410</th>\n",
              "      <td>1996381</td>\n",
              "      <td>[Best] 제주 흑돼지 돈까스샌드위치&amp;&amp;[Bset] 프레즐빠다</td>\n",
              "    </tr>\n",
              "    <tr>\n",
              "      <th>3411</th>\n",
              "      <td>1996646</td>\n",
              "      <td>에그모닝&amp;&amp;생크림팥빵</td>\n",
              "    </tr>\n",
              "  </tbody>\n",
              "</table>\n",
              "<p>3412 rows × 2 columns</p>\n",
              "</div>"
            ],
            "text/plain": [
              "       유저 식별키                                    유저 구매 상품 식별키 묶음\n",
              "0          36  우편물&&더블더블 / 감자튀김 딥치즈 업그레이드 세트&&꿀유자차 / 아이스&&바닐라...\n",
              "1       17492  납기내금액&&납기내금액&&납기내금액&&납기내금액&&납기내금액&&납기내금액&&납기내금...\n",
              "2       26661  무료배달&&무료배달&&베이컨 치즈버거 / 일반세트(버거+음료+감자튀김)&&무료배달&...\n",
              "3       27462  컬쳐캐쉬1건&&컬쳐캐쉬1건&&아메리카노(일반) / 아이스,킹&&떡볶이&&더블더블 /...\n",
              "4       27478  납기내금액&&납기내금액&&임성근손질민물장어 12팩+소스10봉&&납기내금액&&아메리카...\n",
              "...       ...                                                ...\n",
              "3407  1987446  일벌세트 / 약간 덜매운맛 : 추천 맵기(20%)외 2건&&일벌세트 / 약간 덜매운...\n",
              "3408  1987625  (2마리) 코다리매콤명태찜 / 젓가락빼주세요외 2건&&(2마리) 코다리매콤명태찜 /...\n",
              "3409  1987728  리얼초코자바칩프라페 / 휘핑 반만올리기외 1건&&아메리카노 / HOT&&아메리카노 ...\n",
              "3410  1996381                [Best] 제주 흑돼지 돈까스샌드위치&&[Bset] 프레즐빠다\n",
              "3411  1996646                                        에그모닝&&생크림팥빵\n",
              "\n",
              "[3412 rows x 2 columns]"
            ]
          },
          "metadata": {
            "tags": []
          },
          "execution_count": 170
        }
      ]
    },
    {
      "cell_type": "markdown",
      "metadata": {
        "id": "ONTa8KzF7Tpd"
      },
      "source": [
        "## Product2Vector 생성"
      ]
    },
    {
      "cell_type": "markdown",
      "metadata": {
        "id": "tQ3s7oD7roAu"
      },
      "source": [
        "### Jaccard 유사도"
      ]
    },
    {
      "cell_type": "code",
      "metadata": {
        "id": "-6NCE8Xsn_gE"
      },
      "source": [
        "def JaccardSimilarity(inp1, inp2):\n",
        "    list_inp1 = inp1.split()\n",
        "    list_inp2 = inp2.split()\n",
        "    mom = set(list_inp1).union(set(list_inp2))\n",
        "    son = set(list_inp1).intersection(set(list_inp2))\n",
        "    # print(mom)\n",
        "    # print(son)\n",
        "    return len(son)/len(mom)"
      ],
      "execution_count": null,
      "outputs": []
    },
    {
      "cell_type": "code",
      "metadata": {
        "id": "BimiFJ2Ac3Jt"
      },
      "source": [
        "detail = Detail['tok'].unique()"
      ],
      "execution_count": null,
      "outputs": []
    },
    {
      "cell_type": "code",
      "metadata": {
        "id": "UN3GqMyz6iBW",
        "colab": {
          "base_uri": "https://localhost:8080/"
        },
        "outputId": "d093cef6-fda9-4b7f-e420-3371241738f3"
      },
      "source": [
        "pd.Series([i in detail for i in pred]).value_counts()"
      ],
      "execution_count": null,
      "outputs": [
        {
          "output_type": "execute_result",
          "data": {
            "text/plain": [
              "True     272\n",
              "False     72\n",
              "dtype: int64"
            ]
          },
          "metadata": {
            "tags": []
          },
          "execution_count": 174
        }
      ]
    },
    {
      "cell_type": "code",
      "metadata": {
        "id": "WEsJSuI5ruEV",
        "colab": {
          "base_uri": "https://localhost:8080/"
        },
        "outputId": "64d8cd70-a2ce-44ce-b253-e3b287055e7c"
      },
      "source": [
        "asdf = []\n",
        "\n",
        "for v in falses:\n",
        "    max = 0\n",
        "    for d in detail:\n",
        "        score = JaccardSimilarity(v, d)\n",
        "        if max < score:\n",
        "            max = score\n",
        "            temp = d\n",
        "    if max == 0: asdf.append(v)\n",
        "    id = pred[pred == v].index\n",
        "    for i in id:\n",
        "        pred[i] = temp\n",
        "\n",
        "len(asdf)"
      ],
      "execution_count": null,
      "outputs": [
        {
          "output_type": "execute_result",
          "data": {
            "text/plain": [
              "0"
            ]
          },
          "metadata": {
            "tags": []
          },
          "execution_count": 175
        }
      ]
    },
    {
      "cell_type": "code",
      "metadata": {
        "id": "tDALBoafz4DZ",
        "colab": {
          "base_uri": "https://localhost:8080/"
        },
        "outputId": "ef5be7af-9717-4d3d-e333-b33ea7990b25"
      },
      "source": [
        "pd.Series([i in detail for i in pred]).value_counts()"
      ],
      "execution_count": null,
      "outputs": [
        {
          "output_type": "execute_result",
          "data": {
            "text/plain": [
              "True    344\n",
              "dtype: int64"
            ]
          },
          "metadata": {
            "tags": []
          },
          "execution_count": 178
        }
      ]
    },
    {
      "cell_type": "code",
      "metadata": {
        "id": "91kYkoci3HNN",
        "colab": {
          "base_uri": "https://localhost:8080/",
          "height": 419
        },
        "outputId": "db3b399c-192c-40a4-d502-da1bea4353e8"
      },
      "source": [
        "changes = pd.DataFrame(columns=['Original', 'Changed'])\n",
        "changes['Original'] = falses\n",
        "changes['Changed'] = pred[filter].to_list()\n",
        "changes"
      ],
      "execution_count": null,
      "outputs": [
        {
          "output_type": "execute_result",
          "data": {
            "text/html": [
              "<div>\n",
              "<style scoped>\n",
              "    .dataframe tbody tr th:only-of-type {\n",
              "        vertical-align: middle;\n",
              "    }\n",
              "\n",
              "    .dataframe tbody tr th {\n",
              "        vertical-align: top;\n",
              "    }\n",
              "\n",
              "    .dataframe thead th {\n",
              "        text-align: right;\n",
              "    }\n",
              "</style>\n",
              "<table border=\"1\" class=\"dataframe\">\n",
              "  <thead>\n",
              "    <tr style=\"text-align: right;\">\n",
              "      <th></th>\n",
              "      <th>Original</th>\n",
              "      <th>Changed</th>\n",
              "    </tr>\n",
              "  </thead>\n",
              "  <tbody>\n",
              "    <tr>\n",
              "      <th>0</th>\n",
              "      <td>국내산 대패 삼겹살 300 g * 7 팩 ( 총 2.5 kg )</td>\n",
              "      <td>국내산 대패 삼겹살 300 g * 7 팩 ( 총 2.1 kg )</td>\n",
              "    </tr>\n",
              "    <tr>\n",
              "      <th>1</th>\n",
              "      <td>참 멸치</td>\n",
              "      <td>통영 참 멸치</td>\n",
              "    </tr>\n",
              "    <tr>\n",
              "      <th>2</th>\n",
              "      <td>[ 명절 특가 ] 황제 의 아침 숙성 흑 마늘 진액 1000 1 L 1 병 ( 11...</td>\n",
              "      <td>[ 명절 특가 ] 황제 의 아침 숙성 흑 마늘 진액 1000 1 L 1 병 + 쇼핑...</td>\n",
              "    </tr>\n",
              "    <tr>\n",
              "      <th>3</th>\n",
              "      <td>2020 농협 천생 연 세척 사과 3 kg * 3 박스 + 천혜 향 3 박스</td>\n",
              "      <td>농협 세척 사과 3 kg * 2 박스 + 천혜 향 2 kg</td>\n",
              "    </tr>\n",
              "    <tr>\n",
              "      <th>4</th>\n",
              "      <td>[ 1 / 22 단 하루 ] [ 공 영 X 강 블 ㄹ 리 ] 스킨 케어 인기 제품 ...</td>\n",
              "      <td>[ 1 / 22 단 하루 ] [ 공 영 X 강 블 ㄹ 리 ] 스킨 케어 인기 제품 ...</td>\n",
              "    </tr>\n",
              "    <tr>\n",
              "      <th>...</th>\n",
              "      <td>...</td>\n",
              "      <td>...</td>\n",
              "    </tr>\n",
              "    <tr>\n",
              "      <th>67</th>\n",
              "      <td>[ 게릴라 ] 창화 당 만두 세트 8 팩 ( 고기 참 3.4 kg )</td>\n",
              "      <td>[ 게릴라 ] 창화 당 만두 세트 8 팩 ( 고기 참 3 , 김치 참 3 , 납작 ...</td>\n",
              "    </tr>\n",
              "    <tr>\n",
              "      <th>68</th>\n",
              "      <td>[ 일시불 ] 유기농 당 찬 여주 즙 60 ml * 30 포</td>\n",
              "      <td>[ 일시불 ] 유기농 당 찬 여주 즙 60 ml * 30 포 * 8 박스</td>\n",
              "    </tr>\n",
              "    <tr>\n",
              "      <th>69</th>\n",
              "      <td>목우 촌 순 사 ㄹ 닭다리 사 ㄹ 구이 2 종 세트</td>\n",
              "      <td>목우 촌 순 사 ㄹ 닭다리 사 ㄹ 구이 2 종 세트 ( 110 * 16 팩 )</td>\n",
              "    </tr>\n",
              "    <tr>\n",
              "      <th>70</th>\n",
              "      <td>2021 년 설명 절 ] 부침 명장 명절 모둠 전 \\&amp;undsc 3</td>\n",
              "      <td>[ 2021 년 설명 절 ] 부침 명장 명절 모둠 전 _ 9 팩</td>\n",
              "    </tr>\n",
              "    <tr>\n",
              "      <th>71</th>\n",
              "      <td>[ 명절 특가 ] 황제 의 아침 숙성 흑 마늘 진액 1000 1 L 1 병</td>\n",
              "      <td>[ 명절 특가 ] 황제 의 아침 숙성 흑 마늘 진액 1000 1 L 1 병 + 쇼핑...</td>\n",
              "    </tr>\n",
              "  </tbody>\n",
              "</table>\n",
              "<p>72 rows × 2 columns</p>\n",
              "</div>"
            ],
            "text/plain": [
              "                                             Original                                            Changed\n",
              "0                 국내산 대패 삼겹살 300 g * 7 팩 ( 총 2.5 kg )                국내산 대패 삼겹살 300 g * 7 팩 ( 총 2.1 kg )\n",
              "1                                                참 멸치                                            통영 참 멸치\n",
              "2   [ 명절 특가 ] 황제 의 아침 숙성 흑 마늘 진액 1000 1 L 1 병 ( 11...  [ 명절 특가 ] 황제 의 아침 숙성 흑 마늘 진액 1000 1 L 1 병 + 쇼핑...\n",
              "3          2020 농협 천생 연 세척 사과 3 kg * 3 박스 + 천혜 향 3 박스                   농협 세척 사과 3 kg * 2 박스 + 천혜 향 2 kg\n",
              "4   [ 1 / 22 단 하루 ] [ 공 영 X 강 블 ㄹ 리 ] 스킨 케어 인기 제품 ...  [ 1 / 22 단 하루 ] [ 공 영 X 강 블 ㄹ 리 ] 스킨 케어 인기 제품 ...\n",
              "..                                                ...                                                ...\n",
              "67             [ 게릴라 ] 창화 당 만두 세트 8 팩 ( 고기 참 3.4 kg )  [ 게릴라 ] 창화 당 만두 세트 8 팩 ( 고기 참 3 , 김치 참 3 , 납작 ...\n",
              "68                  [ 일시불 ] 유기농 당 찬 여주 즙 60 ml * 30 포           [ 일시불 ] 유기농 당 찬 여주 즙 60 ml * 30 포 * 8 박스\n",
              "69                       목우 촌 순 사 ㄹ 닭다리 사 ㄹ 구이 2 종 세트        목우 촌 순 사 ㄹ 닭다리 사 ㄹ 구이 2 종 세트 ( 110 * 16 팩 )\n",
              "70              2021 년 설명 절 ] 부침 명장 명절 모둠 전 \\&undsc 3                [ 2021 년 설명 절 ] 부침 명장 명절 모둠 전 _ 9 팩\n",
              "71          [ 명절 특가 ] 황제 의 아침 숙성 흑 마늘 진액 1000 1 L 1 병  [ 명절 특가 ] 황제 의 아침 숙성 흑 마늘 진액 1000 1 L 1 병 + 쇼핑...\n",
              "\n",
              "[72 rows x 2 columns]"
            ]
          },
          "metadata": {
            "tags": []
          },
          "execution_count": 179
        }
      ]
    },
    {
      "cell_type": "markdown",
      "metadata": {
        "id": "fYFPmeCmitV5"
      },
      "source": [
        "### 토큰-상품명 변환"
      ]
    },
    {
      "cell_type": "code",
      "metadata": {
        "colab": {
          "base_uri": "https://localhost:8080/",
          "height": 425
        },
        "id": "9UhDFcMYio1a",
        "outputId": "f24581f2-26f0-4260-8696-059eb1b7a9f1"
      },
      "source": [
        "display(pred)\n",
        "for i in range(len(pred)):\n",
        "    pred[i] = dic.get(pred[i])\n",
        "pred"
      ],
      "execution_count": null,
      "outputs": [
        {
          "output_type": "display_data",
          "data": {
            "text/plain": [
              "0                                                    우편물\n",
              "1                    국내산 대패 삼겹살 300 g * 7 팩 ( 총 2.1 kg )\n",
              "2                                   쫄깃 담백 참숯 굽 ㄴ 계란 60 구\n",
              "3                                                   약제 비\n",
              "4                                        영광 법성포 굴비 마을 굴비\n",
              "                             ...                        \n",
              "339                  [ 2021 년 설명 절 ] 부침 명장 명절 모둠 전 _ 9 팩\n",
              "340                          신 강식 아트 컬러 레이스 집 업 상 , 하세 트\n",
              "341                                  통영 유기농 키위 참 다래 2 kg\n",
              "342                                               미납 통행료\n",
              "343    [ 명절 특가 ] 황제 의 아침 숙성 흑 마늘 진액 1000 1 L 1 병 + 쇼핑...\n",
              "Name: predict_item, Length: 344, dtype: object"
            ]
          },
          "metadata": {
            "tags": []
          }
        },
        {
          "output_type": "execute_result",
          "data": {
            "text/plain": [
              "0                                          우편물\n",
              "1                      국내산대패삼겹살300g*7팩(총2.1kg)\n",
              "2                             쫄깃담백 참숯 구운계란 60구\n",
              "3                                          약제비\n",
              "4                                  영광법성포굴비마을굴비\n",
              "                        ...                   \n",
              "339                   [2021년 설명절]부침명장 명절모둠전_9팩\n",
              "340                      신강식 아트컬러 레이스 집업 상,하세트\n",
              "341                           통영 유기농키위 참다래 2kg\n",
              "342                                      미납통행료\n",
              "343    [명절특가] 황제의아침 숙성흑마늘진액 1000 1L 1병+ 쇼핑백 1장\n",
              "Name: predict_item, Length: 344, dtype: object"
            ]
          },
          "metadata": {
            "tags": []
          },
          "execution_count": 181
        }
      ]
    },
    {
      "cell_type": "markdown",
      "metadata": {
        "id": "7ijtnPz57Tpd"
      },
      "source": [
        "### Word2vec Model 학습"
      ]
    },
    {
      "cell_type": "code",
      "metadata": {
        "id": "xV3a9xIwcCSi"
      },
      "source": [
        "model = Word2Vec([item_list.split('&&') for item_list in user2item['유저 구매 상품 식별키 묶음']], size=100, window=5, min_count=1, negative=15, iter=20, sample=0.00001, sg=1)"
      ],
      "execution_count": null,
      "outputs": []
    },
    {
      "cell_type": "code",
      "metadata": {
        "id": "L_HZvoHXcFYi",
        "scrolled": true,
        "colab": {
          "base_uri": "https://localhost:8080/",
          "height": 66,
          "referenced_widgets": [
            "359ea7655f7c4041b5b0f382fd801143",
            "b1882e598fdd44a48f79f2b0fee36092",
            "c9b4a7491ca5446287bd956b9930e46c",
            "901994568cd44a21854796dd54de7961",
            "0bd0ac61b1254e338a95a376ccc6bfa0",
            "58f701f0dacd48fe97da9bb20ffe4df5",
            "7dc46d80cdff4231a27e17710e81c5ad",
            "a5f7b2abf1d74c318302a9e783c7e2d3"
          ]
        },
        "outputId": "e159289d-ddcd-49ac-87c7-589716c7a3ac"
      },
      "source": [
        "# 유저 성향 벡터 구하기 \n",
        "user_propensity_vector = []\n",
        "for item_list in tqdm_notebook(user2item['유저 구매 상품 식별키 묶음']):\n",
        "    item_list = item_list.split('&&')\n",
        "    bbb = np.array(np.ones(100))\n",
        "    for aaa in item_list:\n",
        "        bbb *= model[aaa]\n",
        "        bbb = bbb/norm(bbb)\n",
        "    user_propensity_vector.append(bbb)"
      ],
      "execution_count": null,
      "outputs": [
        {
          "output_type": "display_data",
          "data": {
            "application/vnd.jupyter.widget-view+json": {
              "model_id": "359ea7655f7c4041b5b0f382fd801143",
              "version_minor": 0,
              "version_major": 2
            },
            "text/plain": [
              "HBox(children=(FloatProgress(value=0.0, max=3412.0), HTML(value='')))"
            ]
          },
          "metadata": {
            "tags": []
          }
        },
        {
          "output_type": "stream",
          "text": [
            "\n"
          ],
          "name": "stdout"
        }
      ]
    },
    {
      "cell_type": "code",
      "metadata": {
        "id": "2vmgzv19cJIS"
      },
      "source": [
        "# 유사 product 찾기\n",
        "# def find_item(user, n=10):\n",
        "#     item_code = user2item[user2item['유저 식별키']==user]['유저 구매 상품 식별키 묶음'].values[0].split('&&')[-1]\n",
        "#     return list(dict(model.wv.most_similar(item_code, topn=n)))\n",
        "\n",
        "def find_item(item, n=10):\n",
        "    return list(dict(model.wv.most_similar(item, topn=n)))\n",
        "\n",
        "# 유저 유사도 계산 및 유사 유저 찾기\n",
        "def user_sim(A, B): \n",
        "    A_vec = user_propensity_vector[user2item[user2item['유저 식별키']==A].index[0]]\n",
        "    B_vec = user_propensity_vector[user2item[user2item['유저 식별키']==B].index[0]]\n",
        "    return euclidean(A_vec.reshape(-1, 1), B_vec.reshape(-1, 1))\n",
        "\n",
        "def find_user(user):\n",
        "    user_index = user2item[user2item['유저 식별키']==user].index[0]\n",
        "    min_user_similar = min(user_matrix_f[user_index].drop(user_index))\n",
        "    return user2item.iloc[{j:i for i, j in enumerate(user_matrix_f[user_index])}[min_user_similar]]['유저 식별키']"
      ],
      "execution_count": null,
      "outputs": []
    },
    {
      "cell_type": "code",
      "metadata": {
        "id": "wJUCFhY6cNaA",
        "scrolled": true
      },
      "source": [
        "# # 유저 유사도 매트릭스\n",
        "# user_matrix_f = pd.DataFrame()\n",
        "# for i in tqdm_notebook(range(len(user_propensity_vector))):\n",
        "#     tmp = []\n",
        "#     for j in range(len(user_propensity_vector)):\n",
        "#         tmp.append(euclidean(user_propensity_vector[i], user_propensity_vector[j]))\n",
        "#     user_matrix_f = pd.concat([user_matrix_f, pd.DataFrame(tmp)], axis = 1)\n",
        "# user_matrix_f.columns = user_matrix_f.index\n",
        "# user_matrix_f"
      ],
      "execution_count": null,
      "outputs": []
    },
    {
      "cell_type": "code",
      "metadata": {
        "colab": {
          "base_uri": "https://localhost:8080/",
          "height": 35
        },
        "id": "OPeVb0hjF4A8",
        "outputId": "1ee506da-3e5e-4ce6-e397-43624ebd4f44"
      },
      "source": [
        "pred[0]"
      ],
      "execution_count": null,
      "outputs": [
        {
          "output_type": "execute_result",
          "data": {
            "application/vnd.google.colaboratory.intrinsic+json": {
              "type": "string"
            },
            "text/plain": [
              "'우편물'"
            ]
          },
          "metadata": {
            "tags": []
          },
          "execution_count": 186
        }
      ]
    },
    {
      "cell_type": "code",
      "metadata": {
        "id": "hicq1rkn7Tpe",
        "colab": {
          "base_uri": "https://localhost:8080/"
        },
        "outputId": "89dc44f8-e94f-4997-f74a-8043c4325f5a"
      },
      "source": [
        "find_item(pred[0])"
      ],
      "execution_count": null,
      "outputs": [
        {
          "output_type": "execute_result",
          "data": {
            "text/plain": [
              "['[월드컵]여성 썸머 다이얼 트레킹화 세트',\n",
              " '2019수확 [자연향/미얀마단일품종] 세척사과 3kg*3박스 / 총9kg',\n",
              " '(EX)ICED 카페 라떼',\n",
              " '[개국초특가]도미솔 왕비포기김치 12kg',\n",
              " '■Premium 명장김치 11kg■김순자명장 포기6kg+총각김치3kg+열무김치2kg',\n",
              " '[오롯담] 양념찜갈비500g×6팩',\n",
              " '안동인 안동찜닭세트 4인분외 3개',\n",
              " '★초복전배송가능★우렁추어탕 12팩 ',\n",
              " '(제주직배송)레드향+천혜향 (혼합과) 선물용 5kg(20-25과)',\n",
              " '[20년산] 포근포근 햇 감자 3kg/5kg']"
            ]
          },
          "metadata": {
            "tags": []
          },
          "execution_count": 187
        }
      ]
    },
    {
      "cell_type": "markdown",
      "metadata": {
        "id": "yhEuNMnT7Tpf"
      },
      "source": [
        "## 구매전 : Top-10 시나리오"
      ]
    },
    {
      "cell_type": "code",
      "metadata": {
        "id": "qnTLapiUS5Wq"
      },
      "source": [
        "def recommend(n=10, acc=False, pred=pred, TFoutputs=TFoutputs):\n",
        "    item_list = []\n",
        "    for v in tqdm_notebook(pred.to_list()):\n",
        "        if n > 1:\n",
        "            pp = find_item(v, n-1)\n",
        "            pp.insert(0, v)\n",
        "            item_list.append(pp)\n",
        "        else: item_list.append(v)\n",
        "    TFoutputs['추천 list'] = item_list\n",
        "    TFoutputs['정답 유무'] = [True if label in item else False for label, item in tqdm_notebook(zip(TFoutputs['label'], TFoutputs['추천 list']), total=(len(TFoutputs)))]\n",
        "    # 추천 알고리듬 구매전 Top-10 성능평가\n",
        "    \n",
        "    if acc:\n",
        "        return TFoutputs[TFoutputs['정답 유무']==True].shape[0]/(TFoutputs.shape[0])\n",
        "\n",
        "    return TFoutputs"
      ],
      "execution_count": null,
      "outputs": []
    },
    {
      "cell_type": "code",
      "metadata": {
        "id": "jyZiDRH6TvFu",
        "colab": {
          "base_uri": "https://localhost:8080/",
          "height": 83,
          "referenced_widgets": [
            "c269a0a3b998486fb3f4c0beda45eedf",
            "50cc9eafb78f4641af756bc250a9a248",
            "65a18c29130748908c640447ebe30f67",
            "ab2a979cf4714c67822d91e1b912a03e",
            "1df4cc9f555f4b898842fe41ecb26ae0",
            "f61965c4d0bc4891a734bbccf082197c",
            "6ee344cd112142c0861bc2526632639d",
            "0239fecbb7694e28a1a4b7fd51aa8ef4"
          ]
        },
        "outputId": "f7196d8e-096c-4166-dce7-68b3ae7bd07c"
      },
      "source": [
        "recommend(n=5, acc=True)"
      ],
      "execution_count": null,
      "outputs": [
        {
          "output_type": "display_data",
          "data": {
            "application/vnd.jupyter.widget-view+json": {
              "model_id": "c269a0a3b998486fb3f4c0beda45eedf",
              "version_minor": 0,
              "version_major": 2
            },
            "text/plain": [
              "HBox(children=(FloatProgress(value=0.0, max=344.0), HTML(value='')))"
            ]
          },
          "metadata": {
            "tags": []
          }
        },
        {
          "output_type": "stream",
          "text": [
            "\n"
          ],
          "name": "stdout"
        },
        {
          "output_type": "execute_result",
          "data": {
            "text/plain": [
              "0.14825581395348839"
            ]
          },
          "metadata": {
            "tags": []
          },
          "execution_count": 190
        }
      ]
    },
    {
      "cell_type": "code",
      "metadata": {
        "id": "8w2fjzSUp5nH",
        "colab": {
          "base_uri": "https://localhost:8080/",
          "height": 83,
          "referenced_widgets": [
            "b1c22b4460e64da89026c2f1f9efb3d4",
            "4e62755634204365ba7ef37591a9ace1",
            "f031692efd0244948e1e311cc4393f00",
            "2276b76dcaf64e3ab38b5a06c492591b",
            "4ac40170908243d38ca28d8fc7cb5c03",
            "dd6a23ea99d240349d2d87f4177b99ea",
            "fc1c875b23c84aaf9530c478605366ea",
            "ceb4bfa1994f4dbaa21cb67636c69312"
          ]
        },
        "outputId": "6435dc43-b5a3-4ac2-dd3d-df48d36e3ad9"
      },
      "source": [
        "recommend(n=10, acc=True)"
      ],
      "execution_count": null,
      "outputs": [
        {
          "output_type": "display_data",
          "data": {
            "application/vnd.jupyter.widget-view+json": {
              "model_id": "b1c22b4460e64da89026c2f1f9efb3d4",
              "version_minor": 0,
              "version_major": 2
            },
            "text/plain": [
              "HBox(children=(FloatProgress(value=0.0, max=344.0), HTML(value='')))"
            ]
          },
          "metadata": {
            "tags": []
          }
        },
        {
          "output_type": "stream",
          "text": [
            "\n"
          ],
          "name": "stdout"
        },
        {
          "output_type": "execute_result",
          "data": {
            "text/plain": [
              "0.15988372093023256"
            ]
          },
          "metadata": {
            "tags": []
          },
          "execution_count": 191
        }
      ]
    },
    {
      "cell_type": "code",
      "metadata": {
        "id": "e-iKPO41T57o",
        "colab": {
          "base_uri": "https://localhost:8080/",
          "height": 83,
          "referenced_widgets": [
            "53950ddff08a4da8bb9661675fa74746",
            "6f32081e61114a43889fbe7a43cc34c8",
            "142b4d990a4c4f6d9b098de5f834eb88",
            "19d8744328124ff8ba7be0655bff49cf",
            "62a855b0b72d45a78194ffb0ba3adc7d",
            "976ce273846d411ea2ab384cfd7ce348",
            "9e83101ba7284ab5891f4903c8910b65",
            "cd1f337a5c15419e940dae6af10274de"
          ]
        },
        "outputId": "64c75b48-fe61-476d-9ea5-a1740b3ae25f"
      },
      "source": [
        "recommend(n=20, acc=True)"
      ],
      "execution_count": null,
      "outputs": [
        {
          "output_type": "display_data",
          "data": {
            "application/vnd.jupyter.widget-view+json": {
              "model_id": "53950ddff08a4da8bb9661675fa74746",
              "version_minor": 0,
              "version_major": 2
            },
            "text/plain": [
              "HBox(children=(FloatProgress(value=0.0, max=344.0), HTML(value='')))"
            ]
          },
          "metadata": {
            "tags": []
          }
        },
        {
          "output_type": "stream",
          "text": [
            "\n"
          ],
          "name": "stdout"
        },
        {
          "output_type": "execute_result",
          "data": {
            "text/plain": [
              "0.1686046511627907"
            ]
          },
          "metadata": {
            "tags": []
          },
          "execution_count": 192
        }
      ]
    },
    {
      "cell_type": "code",
      "metadata": {
        "id": "MoKad0ot4BfT",
        "colab": {
          "base_uri": "https://localhost:8080/",
          "height": 825,
          "referenced_widgets": [
            "5c615edd741545f488abdea494571cb5",
            "712adce5e22942e5b0c6592bc64f5dd7",
            "3c8b1900f725499491121e98485d35e9",
            "051059ce177249e69f301e6b7fe5940b",
            "a10ff17776d5445ba3c72d63955cfc2d",
            "c2975db1510b47a9a15d5ebb391a0158",
            "182a3025041d45628aae84930ef2b106",
            "e243751ae2d440979419c69db316c044"
          ]
        },
        "outputId": "fdc4f81f-78ad-4ada-d561-3354eb282f70"
      },
      "source": [
        "recommend()"
      ],
      "execution_count": null,
      "outputs": [
        {
          "output_type": "display_data",
          "data": {
            "application/vnd.jupyter.widget-view+json": {
              "model_id": "5c615edd741545f488abdea494571cb5",
              "version_minor": 0,
              "version_major": 2
            },
            "text/plain": [
              "HBox(children=(FloatProgress(value=0.0, max=344.0), HTML(value='')))"
            ]
          },
          "metadata": {
            "tags": []
          }
        },
        {
          "output_type": "stream",
          "text": [
            "\n"
          ],
          "name": "stdout"
        },
        {
          "output_type": "execute_result",
          "data": {
            "text/html": [
              "<div>\n",
              "<style scoped>\n",
              "    .dataframe tbody tr th:only-of-type {\n",
              "        vertical-align: middle;\n",
              "    }\n",
              "\n",
              "    .dataframe tbody tr th {\n",
              "        vertical-align: top;\n",
              "    }\n",
              "\n",
              "    .dataframe thead th {\n",
              "        text-align: right;\n",
              "    }\n",
              "</style>\n",
              "<table border=\"1\" class=\"dataframe\">\n",
              "  <thead>\n",
              "    <tr style=\"text-align: right;\">\n",
              "      <th></th>\n",
              "      <th>train</th>\n",
              "      <th>label</th>\n",
              "      <th>token_len</th>\n",
              "      <th>token_len_cate</th>\n",
              "      <th>split_train_token</th>\n",
              "      <th>split_label_token</th>\n",
              "      <th>predict_item</th>\n",
              "      <th>filter</th>\n",
              "      <th>추천 list</th>\n",
              "      <th>정답 유무</th>\n",
              "    </tr>\n",
              "  </thead>\n",
              "  <tbody>\n",
              "    <tr>\n",
              "      <th>0</th>\n",
              "      <td>우편물</td>\n",
              "      <td>보령삼육조미구이식탁김</td>\n",
              "      <td>1</td>\n",
              "      <td>0:100</td>\n",
              "      <td>&lt;esp&gt; 우편물 &lt;esp&gt;</td>\n",
              "      <td>&lt;esp&gt; 보령 삼육 조미 구이 식탁 김 &lt;esp&gt;</td>\n",
              "      <td>&lt;esp&gt; 우편물 &lt;esp&gt;</td>\n",
              "      <td>True</td>\n",
              "      <td>[[월드컵]여성 썸머 다이얼 트레킹화 세트, 2019수확 [자연향/미얀마단일품종] ...</td>\n",
              "      <td>False</td>\n",
              "    </tr>\n",
              "    <tr>\n",
              "      <th>1</th>\n",
              "      <td>[팝핀 도너츠] 도넛 6종세트 15개/30개(바바리안, 딸기, 보스톤 메론 , 땅콩...</td>\n",
              "      <td>★지난 총 8회 매진 신화★서산 간월도식 어리굴젓8통 + 양념굴젓4통</td>\n",
              "      <td>86</td>\n",
              "      <td>0:100</td>\n",
              "      <td>&lt;esp&gt; [ 팝 핀 도너츠 ] 도넛 6 종 세트 15 개 / 30 개 ( 바바리 ...</td>\n",
              "      <td>&lt;esp&gt; ★ 지나 ㄴ 총 8 회 매진 신화 ★ 서산 간월 도식 어리 굴젓 8 통 ...</td>\n",
              "      <td>&lt;esp&gt; 국내산 대패 삼겹살 300 g * 7 팩 ( 총 2.5 kg ) &lt;esp&gt;</td>\n",
              "      <td>False</td>\n",
              "      <td>[대천김, 키친아트 스텐밀폐용기 18종, 2020 농협 햇복숭아(3kg*2박스)_백...</td>\n",
              "      <td>False</td>\n",
              "    </tr>\n",
              "    <tr>\n",
              "      <th>2</th>\n",
              "      <td>양구 펀치볼 시래기17팩+맛내기17팩</td>\n",
              "      <td>[상시]강원도명물더덕무침(13팩)</td>\n",
              "      <td>13</td>\n",
              "      <td>0:100</td>\n",
              "      <td>&lt;esp&gt; 양 구 펀치 보 ㄹ 시래기 17 팩 + 맛 내기 17 팩 &lt;esp&gt;</td>\n",
              "      <td>&lt;esp&gt; [ 상시 ] 강원도 명물 더덕 무침 ( 13 팩 ) &lt;esp&gt;</td>\n",
              "      <td>&lt;esp&gt; 쫄깃 담백 참숯 굽 ㄴ 계란 60 구 &lt;esp&gt;</td>\n",
              "      <td>True</td>\n",
              "      <td>[[개국5주년 게릴라] 파뷔에항균도마세트 총 3종, 김규흔명장의 실속 한과 세트 (...</td>\n",
              "      <td>False</td>\n",
              "    </tr>\n",
              "    <tr>\n",
              "      <th>3</th>\n",
              "      <td>류마티스내과/진료비&amp;&amp;약제비&amp;&amp;약제비&amp;&amp;심장내과/진료비</td>\n",
              "      <td>이비인후과/진료비</td>\n",
              "      <td>16</td>\n",
              "      <td>0:100</td>\n",
              "      <td>&lt;esp&gt; 류 마티스 내과 / 진료비  &lt;esp&gt;  약제 비  &lt;esp&gt;  약제 비...</td>\n",
              "      <td>&lt;esp&gt; 이비인후과 / 진료비 &lt;esp&gt;</td>\n",
              "      <td>&lt;esp&gt; 약제 비 &lt;esp&gt;</td>\n",
              "      <td>True</td>\n",
              "      <td>[사임당 떡 4종 세트(총 110알), 소닉케어 프로리절트 칫솔모 HX6014/63...</td>\n",
              "      <td>False</td>\n",
              "    </tr>\n",
              "    <tr>\n",
              "      <th>4</th>\n",
              "      <td>여수 거문도 해풍쑥 생개떡 2kg&amp;&amp;깊고 진한 전라도 김치 2kg 포장/한정판매 갓...</td>\n",
              "      <td>특산영농조합법인곶감(반건시)</td>\n",
              "      <td>59</td>\n",
              "      <td>0:100</td>\n",
              "      <td>&lt;esp&gt; 여수 거문도 해풍 쑥 생 개떡 2 kg  &lt;esp&gt;  깊 고 진하 ㄴ 전...</td>\n",
              "      <td>&lt;esp&gt; 특산 영농 조합 법인 곶감 ( 반 건시 ) &lt;esp&gt;</td>\n",
              "      <td>&lt;esp&gt; 영광 법성포 굴비 마을 굴비 &lt;esp&gt;</td>\n",
              "      <td>True</td>\n",
              "      <td>[[수협]자연산 손질 촉촉오징어_대사이즈 총20미  , 황 매실액 매실청 3년숙성 ...</td>\n",
              "      <td>False</td>\n",
              "    </tr>\n",
              "    <tr>\n",
              "      <th>...</th>\n",
              "      <td>...</td>\n",
              "      <td>...</td>\n",
              "      <td>...</td>\n",
              "      <td>...</td>\n",
              "      <td>...</td>\n",
              "      <td>...</td>\n",
              "      <td>...</td>\n",
              "      <td>...</td>\n",
              "      <td>...</td>\n",
              "      <td>...</td>\n",
              "    </tr>\n",
              "    <tr>\n",
              "      <th>339</th>\n",
              "      <td>고기랑 찰떡궁합! 청도 미나리 500g&amp;&amp;[명절특가] 황제의아침 숙성흑마늘진액 10...</td>\n",
              "      <td>[횡성명품한우] 횡성 한우 정육 4호 선물세트(불불국)</td>\n",
              "      <td>74</td>\n",
              "      <td>0:100</td>\n",
              "      <td>&lt;esp&gt; 고기 랑 찰떡 궁합 ! 청도 미나리 500 g  &lt;esp&gt;  [ 명절 특...</td>\n",
              "      <td>&lt;esp&gt; [ 횡 성명 품 하 ㄴ 우 ] 횡 성 한우 정육 4 호 선물세트 ( 불 ...</td>\n",
              "      <td>&lt;esp&gt; 2021 년 설명 절 ] 부침 명장 명절 모둠 전 \\&amp;undsc 3 &lt;esp&gt;</td>\n",
              "      <td>False</td>\n",
              "      <td>[[5주년기념 초특가] 김연도 오색현미 21봉, ■Premium 명장김치 11kg■...</td>\n",
              "      <td>False</td>\n",
              "    </tr>\n",
              "    <tr>\n",
              "      <th>340</th>\n",
              "      <td>귤로장생 제주 햇 레드향 1.8kg*3박스&amp;&amp; 미루 구수한 누룽지 3종세트(50봉)</td>\n",
              "      <td>★초특가★[게릴라]옛날 쥐치포</td>\n",
              "      <td>27</td>\n",
              "      <td>0:100</td>\n",
              "      <td>&lt;esp&gt; 귤 로 장생 제주 하 였 레드 향 1.8 kg * 3 박스  &lt;esp&gt; ...</td>\n",
              "      <td>&lt;esp&gt; ★ 초 특가 ★ [ 게릴라 ] 옛날 쥐치 포 &lt;esp&gt;</td>\n",
              "      <td>&lt;esp&gt; 신 강식 아트 컬러 레이스 집 업 상 , 하세 트 &lt;esp&gt;</td>\n",
              "      <td>True</td>\n",
              "      <td>[ 산소계 표백제 과탄산소다 대용량 5kg , ★2020 햇!★ 홍천 미니 밤단호박...</td>\n",
              "      <td>False</td>\n",
              "    </tr>\n",
              "    <tr>\n",
              "      <th>341</th>\n",
              "      <td>평창애 양념코다리180g</td>\n",
              "      <td>영광법성포이조굴비</td>\n",
              "      <td>6</td>\n",
              "      <td>0:100</td>\n",
              "      <td>&lt;esp&gt; 평 창애 양념 코다리 180 g &lt;esp&gt;</td>\n",
              "      <td>&lt;esp&gt; 영광 법성포 이조 굴비 &lt;esp&gt;</td>\n",
              "      <td>&lt;esp&gt; 통영 유기농 키위 참 다래 2 kg &lt;esp&gt;</td>\n",
              "      <td>True</td>\n",
              "      <td>[앙큼플라워떡케이크 1호, [월드컵]여성 썸머 다이얼 트레킹화 세트, 고당도 서귀포...</td>\n",
              "      <td>False</td>\n",
              "    </tr>\n",
              "    <tr>\n",
              "      <th>342</th>\n",
              "      <td>미납통행료</td>\n",
              "      <td>미납통행료</td>\n",
              "      <td>2</td>\n",
              "      <td>0:100</td>\n",
              "      <td>&lt;esp&gt; 미납 통행료 &lt;esp&gt;</td>\n",
              "      <td>&lt;esp&gt; 미납 통행료 &lt;esp&gt;</td>\n",
              "      <td>&lt;esp&gt; 미납 통행료 &lt;esp&gt;</td>\n",
              "      <td>True</td>\n",
              "      <td>[함평천지 승현이네 새싹삼 랜덤 50뿌리, 무주장터 안성들풀 찹쌀 4kg, 노랑 호...</td>\n",
              "      <td>True</td>\n",
              "    </tr>\n",
              "    <tr>\n",
              "      <th>343</th>\n",
              "      <td>제주직송 올탑농원 햇 노지감귤 5kg 소과외 2개</td>\n",
              "      <td>[생산자직송] 해남 강미자님의 호박고구마 (한입)</td>\n",
              "      <td>15</td>\n",
              "      <td>0:100</td>\n",
              "      <td>&lt;esp&gt; 제주 직송 올 탑 농원 하 였 노지 감귤 5 kg 소 과외 2 개 &lt;esp&gt;</td>\n",
              "      <td>&lt;esp&gt; [ 생산자 직송 ] 하 어 남 강미 자 님 의 호박 고구마 ( 하 ㄴ 입...</td>\n",
              "      <td>&lt;esp&gt; [ 명절 특가 ] 황제 의 아침 숙성 흑 마늘 진액 1000 1 L 1 ...</td>\n",
              "      <td>False</td>\n",
              "      <td>[[엘리스앤블루] 남성 하이브리드 볼패딩 점퍼 , [생활공작소] 야채/과일도 씻는 ...</td>\n",
              "      <td>False</td>\n",
              "    </tr>\n",
              "  </tbody>\n",
              "</table>\n",
              "<p>344 rows × 10 columns</p>\n",
              "</div>"
            ],
            "text/plain": [
              "                                                 train  ...  정답 유무\n",
              "0                                                  우편물  ...  False\n",
              "1    [팝핀 도너츠] 도넛 6종세트 15개/30개(바바리안, 딸기, 보스톤 메론 , 땅콩...  ...  False\n",
              "2                                 양구 펀치볼 시래기17팩+맛내기17팩  ...  False\n",
              "3                       류마티스내과/진료비&&약제비&&약제비&&심장내과/진료비  ...  False\n",
              "4    여수 거문도 해풍쑥 생개떡 2kg&&깊고 진한 전라도 김치 2kg 포장/한정판매 갓...  ...  False\n",
              "..                                                 ...  ...    ...\n",
              "339  고기랑 찰떡궁합! 청도 미나리 500g&&[명절특가] 황제의아침 숙성흑마늘진액 10...  ...  False\n",
              "340     귤로장생 제주 햇 레드향 1.8kg*3박스&& 미루 구수한 누룽지 3종세트(50봉)  ...  False\n",
              "341                                      평창애 양념코다리180g  ...  False\n",
              "342                                              미납통행료  ...   True\n",
              "343                        제주직송 올탑농원 햇 노지감귤 5kg 소과외 2개  ...  False\n",
              "\n",
              "[344 rows x 10 columns]"
            ]
          },
          "metadata": {
            "tags": []
          },
          "execution_count": 134
        }
      ]
    }
  ]
}