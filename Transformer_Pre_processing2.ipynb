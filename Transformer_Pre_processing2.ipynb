{
  "nbformat": 4,
  "nbformat_minor": 0,
  "metadata": {
    "colab": {
      "name": "Transformer_Pre-processing2.ipynb",
      "provenance": [],
      "collapsed_sections": [],
      "mount_file_id": "1uO5-Bjc3xI3V3-9aLgaN5e88ufG-ZSdE",
      "authorship_tag": "ABX9TyPqGcG6RGoNbHFo6oYKTOd7",
      "include_colab_link": true
    },
    "kernelspec": {
      "name": "python3",
      "display_name": "Python 3"
    }
  },
  "cells": [
    {
      "cell_type": "markdown",
      "metadata": {
        "id": "view-in-github",
        "colab_type": "text"
      },
      "source": [
        "<a href=\"https://colab.research.google.com/github/hoky1227/bert_based-recommendation/blob/main/Transformer_Pre_processing2.ipynb\" target=\"_parent\"><img src=\"https://colab.research.google.com/assets/colab-badge.svg\" alt=\"Open In Colab\"/></a>"
      ]
    },
    {
      "cell_type": "code",
      "metadata": {
        "id": "6dq-T8350NqV",
        "colab": {
          "base_uri": "https://localhost:8080/"
        },
        "outputId": "57020cd5-2040-4162-874c-6e9c477761c8"
      },
      "source": [
        "from google.colab import drive\n",
        "\n",
        "drive.mount('/content/drive')"
      ],
      "execution_count": null,
      "outputs": [
        {
          "output_type": "stream",
          "text": [
            "Drive already mounted at /content/drive; to attempt to forcibly remount, call drive.mount(\"/content/drive\", force_remount=True).\n"
          ],
          "name": "stdout"
        }
      ]
    },
    {
      "cell_type": "code",
      "metadata": {
        "id": "QCUDdGEo8vRr",
        "colab": {
          "base_uri": "https://localhost:8080/"
        },
        "outputId": "c0e1f7f9-c3b0-4f23-e5a9-daeab8a4febc"
      },
      "source": [
        "!pip install transformers\n",
        "!pip install pytorch-transformers"
      ],
      "execution_count": null,
      "outputs": [
        {
          "output_type": "stream",
          "text": [
            "Requirement already satisfied: transformers in /usr/local/lib/python3.7/dist-packages (4.4.2)\n",
            "Requirement already satisfied: filelock in /usr/local/lib/python3.7/dist-packages (from transformers) (3.0.12)\n",
            "Requirement already satisfied: packaging in /usr/local/lib/python3.7/dist-packages (from transformers) (20.9)\n",
            "Requirement already satisfied: tqdm>=4.27 in /usr/local/lib/python3.7/dist-packages (from transformers) (4.41.1)\n",
            "Requirement already satisfied: regex!=2019.12.17 in /usr/local/lib/python3.7/dist-packages (from transformers) (2019.12.20)\n",
            "Requirement already satisfied: importlib-metadata; python_version < \"3.8\" in /usr/local/lib/python3.7/dist-packages (from transformers) (3.7.2)\n",
            "Requirement already satisfied: tokenizers<0.11,>=0.10.1 in /usr/local/lib/python3.7/dist-packages (from transformers) (0.10.1)\n",
            "Requirement already satisfied: requests in /usr/local/lib/python3.7/dist-packages (from transformers) (2.23.0)\n",
            "Requirement already satisfied: numpy>=1.17 in /usr/local/lib/python3.7/dist-packages (from transformers) (1.19.5)\n",
            "Requirement already satisfied: sacremoses in /usr/local/lib/python3.7/dist-packages (from transformers) (0.0.43)\n",
            "Requirement already satisfied: pyparsing>=2.0.2 in /usr/local/lib/python3.7/dist-packages (from packaging->transformers) (2.4.7)\n",
            "Requirement already satisfied: zipp>=0.5 in /usr/local/lib/python3.7/dist-packages (from importlib-metadata; python_version < \"3.8\"->transformers) (3.4.1)\n",
            "Requirement already satisfied: typing-extensions>=3.6.4; python_version < \"3.8\" in /usr/local/lib/python3.7/dist-packages (from importlib-metadata; python_version < \"3.8\"->transformers) (3.7.4.3)\n",
            "Requirement already satisfied: idna<3,>=2.5 in /usr/local/lib/python3.7/dist-packages (from requests->transformers) (2.10)\n",
            "Requirement already satisfied: chardet<4,>=3.0.2 in /usr/local/lib/python3.7/dist-packages (from requests->transformers) (3.0.4)\n",
            "Requirement already satisfied: certifi>=2017.4.17 in /usr/local/lib/python3.7/dist-packages (from requests->transformers) (2020.12.5)\n",
            "Requirement already satisfied: urllib3!=1.25.0,!=1.25.1,<1.26,>=1.21.1 in /usr/local/lib/python3.7/dist-packages (from requests->transformers) (1.24.3)\n",
            "Requirement already satisfied: joblib in /usr/local/lib/python3.7/dist-packages (from sacremoses->transformers) (1.0.1)\n",
            "Requirement already satisfied: six in /usr/local/lib/python3.7/dist-packages (from sacremoses->transformers) (1.15.0)\n",
            "Requirement already satisfied: click in /usr/local/lib/python3.7/dist-packages (from sacremoses->transformers) (7.1.2)\n",
            "Requirement already satisfied: pytorch-transformers in /usr/local/lib/python3.7/dist-packages (1.2.0)\n",
            "Requirement already satisfied: requests in /usr/local/lib/python3.7/dist-packages (from pytorch-transformers) (2.23.0)\n",
            "Requirement already satisfied: sacremoses in /usr/local/lib/python3.7/dist-packages (from pytorch-transformers) (0.0.43)\n",
            "Requirement already satisfied: boto3 in /usr/local/lib/python3.7/dist-packages (from pytorch-transformers) (1.17.32)\n",
            "Requirement already satisfied: tqdm in /usr/local/lib/python3.7/dist-packages (from pytorch-transformers) (4.41.1)\n",
            "Requirement already satisfied: torch>=1.0.0 in /usr/local/lib/python3.7/dist-packages (from pytorch-transformers) (1.8.0+cu101)\n",
            "Requirement already satisfied: sentencepiece in /usr/local/lib/python3.7/dist-packages (from pytorch-transformers) (0.1.95)\n",
            "Requirement already satisfied: numpy in /usr/local/lib/python3.7/dist-packages (from pytorch-transformers) (1.19.5)\n",
            "Requirement already satisfied: regex in /usr/local/lib/python3.7/dist-packages (from pytorch-transformers) (2019.12.20)\n",
            "Requirement already satisfied: chardet<4,>=3.0.2 in /usr/local/lib/python3.7/dist-packages (from requests->pytorch-transformers) (3.0.4)\n",
            "Requirement already satisfied: idna<3,>=2.5 in /usr/local/lib/python3.7/dist-packages (from requests->pytorch-transformers) (2.10)\n",
            "Requirement already satisfied: urllib3!=1.25.0,!=1.25.1,<1.26,>=1.21.1 in /usr/local/lib/python3.7/dist-packages (from requests->pytorch-transformers) (1.24.3)\n",
            "Requirement already satisfied: certifi>=2017.4.17 in /usr/local/lib/python3.7/dist-packages (from requests->pytorch-transformers) (2020.12.5)\n",
            "Requirement already satisfied: click in /usr/local/lib/python3.7/dist-packages (from sacremoses->pytorch-transformers) (7.1.2)\n",
            "Requirement already satisfied: joblib in /usr/local/lib/python3.7/dist-packages (from sacremoses->pytorch-transformers) (1.0.1)\n",
            "Requirement already satisfied: six in /usr/local/lib/python3.7/dist-packages (from sacremoses->pytorch-transformers) (1.15.0)\n",
            "Requirement already satisfied: botocore<1.21.0,>=1.20.32 in /usr/local/lib/python3.7/dist-packages (from boto3->pytorch-transformers) (1.20.32)\n",
            "Requirement already satisfied: jmespath<1.0.0,>=0.7.1 in /usr/local/lib/python3.7/dist-packages (from boto3->pytorch-transformers) (0.10.0)\n",
            "Requirement already satisfied: s3transfer<0.4.0,>=0.3.0 in /usr/local/lib/python3.7/dist-packages (from boto3->pytorch-transformers) (0.3.6)\n",
            "Requirement already satisfied: typing-extensions in /usr/local/lib/python3.7/dist-packages (from torch>=1.0.0->pytorch-transformers) (3.7.4.3)\n",
            "Requirement already satisfied: python-dateutil<3.0.0,>=2.1 in /usr/local/lib/python3.7/dist-packages (from botocore<1.21.0,>=1.20.32->boto3->pytorch-transformers) (2.8.1)\n"
          ],
          "name": "stdout"
        }
      ]
    },
    {
      "cell_type": "code",
      "metadata": {
        "id": "2fSYBsOa80TU"
      },
      "source": [
        "import tensorflow as tf\n",
        "import torch\n",
        "import tensorflow_datasets as tfds\n",
        "\n",
        "from transformers import BertTokenizer\n",
        "from transformers import BertForSequenceClassification, AdamW, BertConfig\n",
        "from transformers import get_linear_schedule_with_warmup\n",
        "from torch.utils.data import TensorDataset, DataLoader, RandomSampler, SequentialSampler\n",
        "from keras.preprocessing.sequence import pad_sequences\n",
        "from sklearn.model_selection import train_test_split\n",
        "# import numpy as np\n",
        "# import pandas as pd\n",
        "# import torch\n",
        "from torch.utils.data import Dataset\n",
        "# from pytorch_transformers import BertTokenizer, BertForSequenceClassification, BertConfig\n",
        "from torch.optim import Adam\n",
        "import torch.nn.functional as F\n",
        "\n",
        "import pandas as pd\n",
        "import numpy as np\n",
        "import random\n",
        "import time\n",
        "import datetime\n",
        "import csv\n",
        "import os\n",
        "import matplotlib.pyplot as plt"
      ],
      "execution_count": null,
      "outputs": []
    },
    {
      "cell_type": "code",
      "metadata": {
        "id": "Cv6iX6_g00Yq",
        "colab": {
          "base_uri": "https://localhost:8080/",
          "height": 238
        },
        "outputId": "10c7d75c-37fc-452f-8847-0c2052b362a2"
      },
      "source": [
        "df = pd.read_csv(\"/content/drive/MyDrive/2017online retail.csv\")\n",
        "df.head()\n",
        "# df.describe()"
      ],
      "execution_count": null,
      "outputs": [
        {
          "output_type": "stream",
          "text": [
            "/usr/local/lib/python3.7/dist-packages/IPython/core/interactiveshell.py:2718: DtypeWarning: Columns (2) have mixed types.Specify dtype option on import or set low_memory=False.\n",
            "  interactivity=interactivity, compiler=compiler, result=result)\n"
          ],
          "name": "stderr"
        },
        {
          "output_type": "execute_result",
          "data": {
            "text/html": [
              "<div>\n",
              "<style scoped>\n",
              "    .dataframe tbody tr th:only-of-type {\n",
              "        vertical-align: middle;\n",
              "    }\n",
              "\n",
              "    .dataframe tbody tr th {\n",
              "        vertical-align: top;\n",
              "    }\n",
              "\n",
              "    .dataframe thead th {\n",
              "        text-align: right;\n",
              "    }\n",
              "</style>\n",
              "<table border=\"1\" class=\"dataframe\">\n",
              "  <thead>\n",
              "    <tr style=\"text-align: right;\">\n",
              "      <th></th>\n",
              "      <th>Customer</th>\n",
              "      <th>Payment Way</th>\n",
              "      <th>Invoice</th>\n",
              "      <th>ItemCode</th>\n",
              "      <th>Detail</th>\n",
              "      <th>Date</th>\n",
              "      <th>Amount</th>\n",
              "      <th>Price</th>\n",
              "    </tr>\n",
              "  </thead>\n",
              "  <tbody>\n",
              "    <tr>\n",
              "      <th>0</th>\n",
              "      <td>37593.0</td>\n",
              "      <td>Skrill</td>\n",
              "      <td>C514216</td>\n",
              "      <td>22406</td>\n",
              "      <td>MONEY BOX KINGS CHOICE DESIGN</td>\n",
              "      <td>2017/6/30 17:38</td>\n",
              "      <td>-1</td>\n",
              "      <td>1.25</td>\n",
              "    </tr>\n",
              "    <tr>\n",
              "      <th>1</th>\n",
              "      <td>37593.0</td>\n",
              "      <td>Skrill</td>\n",
              "      <td>C514216</td>\n",
              "      <td>22056</td>\n",
              "      <td>CERAMIC PLATE LOVE HEART DESIGN</td>\n",
              "      <td>2017/6/30 17:38</td>\n",
              "      <td>-1</td>\n",
              "      <td>1.49</td>\n",
              "    </tr>\n",
              "    <tr>\n",
              "      <th>2</th>\n",
              "      <td>37593.0</td>\n",
              "      <td>Skrill</td>\n",
              "      <td>C514216</td>\n",
              "      <td>21844</td>\n",
              "      <td>RED RETROSPOT MUG</td>\n",
              "      <td>2017/6/30 17:38</td>\n",
              "      <td>-1</td>\n",
              "      <td>2.95</td>\n",
              "    </tr>\n",
              "    <tr>\n",
              "      <th>3</th>\n",
              "      <td>37593.0</td>\n",
              "      <td>Skrill</td>\n",
              "      <td>C514216</td>\n",
              "      <td>22073</td>\n",
              "      <td>RED RETROSPOT STORAGE JAR</td>\n",
              "      <td>2017/6/30 17:38</td>\n",
              "      <td>-1</td>\n",
              "      <td>3.75</td>\n",
              "    </tr>\n",
              "    <tr>\n",
              "      <th>4</th>\n",
              "      <td>37593.0</td>\n",
              "      <td>Credit</td>\n",
              "      <td>C514216</td>\n",
              "      <td>22059</td>\n",
              "      <td>CERAMIC STRWBERRY DESIGN MUG</td>\n",
              "      <td>2017/6/30 17:38</td>\n",
              "      <td>-2</td>\n",
              "      <td>1.49</td>\n",
              "    </tr>\n",
              "  </tbody>\n",
              "</table>\n",
              "</div>"
            ],
            "text/plain": [
              "   Customer Payment Way  Invoice  ...             Date Amount Price\n",
              "0   37593.0      Skrill  C514216  ...  2017/6/30 17:38     -1  1.25\n",
              "1   37593.0      Skrill  C514216  ...  2017/6/30 17:38     -1  1.49\n",
              "2   37593.0      Skrill  C514216  ...  2017/6/30 17:38     -1  2.95\n",
              "3   37593.0      Skrill  C514216  ...  2017/6/30 17:38     -1  3.75\n",
              "4   37593.0      Credit  C514216  ...  2017/6/30 17:38     -2  1.49\n",
              "\n",
              "[5 rows x 8 columns]"
            ]
          },
          "metadata": {
            "tags": []
          },
          "execution_count": 4
        }
      ]
    },
    {
      "cell_type": "code",
      "metadata": {
        "id": "70y4KRPr9P04"
      },
      "source": [
        "# Detail = pd.read_csv('/content/drive/MyDrive/Detail.csv')\n",
        "# Detail.pop('Unnamed: 0')\n",
        "# Detail.head()"
      ],
      "execution_count": null,
      "outputs": []
    },
    {
      "cell_type": "code",
      "metadata": {
        "id": "_jrcLbXI9hVx"
      },
      "source": [
        "# detail = Detail['0'].unique()\n",
        "# detail = detail.tolist()\n",
        "# len(detail)"
      ],
      "execution_count": null,
      "outputs": []
    },
    {
      "cell_type": "code",
      "metadata": {
        "id": "iPE2iTqp9k4E"
      },
      "source": [
        "# dic = {string : i for i,string in enumerate(detail)}\n",
        "# print(dic)\n",
        "# len(dic)"
      ],
      "execution_count": null,
      "outputs": []
    },
    {
      "cell_type": "code",
      "metadata": {
        "id": "Kn-FJAjW03eu",
        "colab": {
          "base_uri": "https://localhost:8080/"
        },
        "outputId": "d12bf23e-c4c7-4f90-b616-72f576f56c48"
      },
      "source": [
        "print(df.isnull().sum())\n",
        "df.dropna(inplace=True)\n",
        "df.isnull().sum()"
      ],
      "execution_count": null,
      "outputs": [
        {
          "output_type": "stream",
          "text": [
            "Customer       42970\n",
            "Payment Way        0\n",
            "Invoice            0\n",
            "ItemCode           0\n",
            "Detail          1745\n",
            "Date               0\n",
            "Amount             0\n",
            "Price              0\n",
            "dtype: int64\n"
          ],
          "name": "stdout"
        },
        {
          "output_type": "execute_result",
          "data": {
            "text/plain": [
              "Customer       0\n",
              "Payment Way    0\n",
              "Invoice        0\n",
              "ItemCode       0\n",
              "Detail         0\n",
              "Date           0\n",
              "Amount         0\n",
              "Price          0\n",
              "dtype: int64"
            ]
          },
          "metadata": {
            "tags": []
          },
          "execution_count": 8
        }
      ]
    },
    {
      "cell_type": "code",
      "metadata": {
        "id": "uZhskEHE1H8j",
        "colab": {
          "base_uri": "https://localhost:8080/",
          "height": 221
        },
        "outputId": "8eaa3d84-1311-4d86-f247-42e6fa874f4f"
      },
      "source": [
        "print(df.duplicated().sum())\n",
        "df.drop_duplicates(inplace=True)\n",
        "df.head()"
      ],
      "execution_count": null,
      "outputs": [
        {
          "output_type": "stream",
          "text": [
            "1458\n"
          ],
          "name": "stdout"
        },
        {
          "output_type": "execute_result",
          "data": {
            "text/html": [
              "<div>\n",
              "<style scoped>\n",
              "    .dataframe tbody tr th:only-of-type {\n",
              "        vertical-align: middle;\n",
              "    }\n",
              "\n",
              "    .dataframe tbody tr th {\n",
              "        vertical-align: top;\n",
              "    }\n",
              "\n",
              "    .dataframe thead th {\n",
              "        text-align: right;\n",
              "    }\n",
              "</style>\n",
              "<table border=\"1\" class=\"dataframe\">\n",
              "  <thead>\n",
              "    <tr style=\"text-align: right;\">\n",
              "      <th></th>\n",
              "      <th>Customer</th>\n",
              "      <th>Payment Way</th>\n",
              "      <th>Invoice</th>\n",
              "      <th>ItemCode</th>\n",
              "      <th>Detail</th>\n",
              "      <th>Date</th>\n",
              "      <th>Amount</th>\n",
              "      <th>Price</th>\n",
              "    </tr>\n",
              "  </thead>\n",
              "  <tbody>\n",
              "    <tr>\n",
              "      <th>0</th>\n",
              "      <td>37593.0</td>\n",
              "      <td>Skrill</td>\n",
              "      <td>C514216</td>\n",
              "      <td>22406</td>\n",
              "      <td>MONEY BOX KINGS CHOICE DESIGN</td>\n",
              "      <td>2017/6/30 17:38</td>\n",
              "      <td>-1</td>\n",
              "      <td>1.25</td>\n",
              "    </tr>\n",
              "    <tr>\n",
              "      <th>1</th>\n",
              "      <td>37593.0</td>\n",
              "      <td>Skrill</td>\n",
              "      <td>C514216</td>\n",
              "      <td>22056</td>\n",
              "      <td>CERAMIC PLATE LOVE HEART DESIGN</td>\n",
              "      <td>2017/6/30 17:38</td>\n",
              "      <td>-1</td>\n",
              "      <td>1.49</td>\n",
              "    </tr>\n",
              "    <tr>\n",
              "      <th>2</th>\n",
              "      <td>37593.0</td>\n",
              "      <td>Skrill</td>\n",
              "      <td>C514216</td>\n",
              "      <td>21844</td>\n",
              "      <td>RED RETROSPOT MUG</td>\n",
              "      <td>2017/6/30 17:38</td>\n",
              "      <td>-1</td>\n",
              "      <td>2.95</td>\n",
              "    </tr>\n",
              "    <tr>\n",
              "      <th>3</th>\n",
              "      <td>37593.0</td>\n",
              "      <td>Skrill</td>\n",
              "      <td>C514216</td>\n",
              "      <td>22073</td>\n",
              "      <td>RED RETROSPOT STORAGE JAR</td>\n",
              "      <td>2017/6/30 17:38</td>\n",
              "      <td>-1</td>\n",
              "      <td>3.75</td>\n",
              "    </tr>\n",
              "    <tr>\n",
              "      <th>4</th>\n",
              "      <td>37593.0</td>\n",
              "      <td>Credit</td>\n",
              "      <td>C514216</td>\n",
              "      <td>22059</td>\n",
              "      <td>CERAMIC STRWBERRY DESIGN MUG</td>\n",
              "      <td>2017/6/30 17:38</td>\n",
              "      <td>-2</td>\n",
              "      <td>1.49</td>\n",
              "    </tr>\n",
              "  </tbody>\n",
              "</table>\n",
              "</div>"
            ],
            "text/plain": [
              "   Customer Payment Way  Invoice  ...             Date Amount Price\n",
              "0   37593.0      Skrill  C514216  ...  2017/6/30 17:38     -1  1.25\n",
              "1   37593.0      Skrill  C514216  ...  2017/6/30 17:38     -1  1.49\n",
              "2   37593.0      Skrill  C514216  ...  2017/6/30 17:38     -1  2.95\n",
              "3   37593.0      Skrill  C514216  ...  2017/6/30 17:38     -1  3.75\n",
              "4   37593.0      Credit  C514216  ...  2017/6/30 17:38     -2  1.49\n",
              "\n",
              "[5 rows x 8 columns]"
            ]
          },
          "metadata": {
            "tags": []
          },
          "execution_count": 9
        }
      ]
    },
    {
      "cell_type": "code",
      "metadata": {
        "id": "97267Uc01JTv",
        "colab": {
          "base_uri": "https://localhost:8080/",
          "height": 204
        },
        "outputId": "04909e79-e694-4f9d-a35d-2dff6a4a24fb"
      },
      "source": [
        "df.drop(['Payment Way'],axis=1, inplace=True)\n",
        "df.head()"
      ],
      "execution_count": null,
      "outputs": [
        {
          "output_type": "execute_result",
          "data": {
            "text/html": [
              "<div>\n",
              "<style scoped>\n",
              "    .dataframe tbody tr th:only-of-type {\n",
              "        vertical-align: middle;\n",
              "    }\n",
              "\n",
              "    .dataframe tbody tr th {\n",
              "        vertical-align: top;\n",
              "    }\n",
              "\n",
              "    .dataframe thead th {\n",
              "        text-align: right;\n",
              "    }\n",
              "</style>\n",
              "<table border=\"1\" class=\"dataframe\">\n",
              "  <thead>\n",
              "    <tr style=\"text-align: right;\">\n",
              "      <th></th>\n",
              "      <th>Customer</th>\n",
              "      <th>Invoice</th>\n",
              "      <th>ItemCode</th>\n",
              "      <th>Detail</th>\n",
              "      <th>Date</th>\n",
              "      <th>Amount</th>\n",
              "      <th>Price</th>\n",
              "    </tr>\n",
              "  </thead>\n",
              "  <tbody>\n",
              "    <tr>\n",
              "      <th>0</th>\n",
              "      <td>37593.0</td>\n",
              "      <td>C514216</td>\n",
              "      <td>22406</td>\n",
              "      <td>MONEY BOX KINGS CHOICE DESIGN</td>\n",
              "      <td>2017/6/30 17:38</td>\n",
              "      <td>-1</td>\n",
              "      <td>1.25</td>\n",
              "    </tr>\n",
              "    <tr>\n",
              "      <th>1</th>\n",
              "      <td>37593.0</td>\n",
              "      <td>C514216</td>\n",
              "      <td>22056</td>\n",
              "      <td>CERAMIC PLATE LOVE HEART DESIGN</td>\n",
              "      <td>2017/6/30 17:38</td>\n",
              "      <td>-1</td>\n",
              "      <td>1.49</td>\n",
              "    </tr>\n",
              "    <tr>\n",
              "      <th>2</th>\n",
              "      <td>37593.0</td>\n",
              "      <td>C514216</td>\n",
              "      <td>21844</td>\n",
              "      <td>RED RETROSPOT MUG</td>\n",
              "      <td>2017/6/30 17:38</td>\n",
              "      <td>-1</td>\n",
              "      <td>2.95</td>\n",
              "    </tr>\n",
              "    <tr>\n",
              "      <th>3</th>\n",
              "      <td>37593.0</td>\n",
              "      <td>C514216</td>\n",
              "      <td>22073</td>\n",
              "      <td>RED RETROSPOT STORAGE JAR</td>\n",
              "      <td>2017/6/30 17:38</td>\n",
              "      <td>-1</td>\n",
              "      <td>3.75</td>\n",
              "    </tr>\n",
              "    <tr>\n",
              "      <th>4</th>\n",
              "      <td>37593.0</td>\n",
              "      <td>C514216</td>\n",
              "      <td>22059</td>\n",
              "      <td>CERAMIC STRWBERRY DESIGN MUG</td>\n",
              "      <td>2017/6/30 17:38</td>\n",
              "      <td>-2</td>\n",
              "      <td>1.49</td>\n",
              "    </tr>\n",
              "  </tbody>\n",
              "</table>\n",
              "</div>"
            ],
            "text/plain": [
              "   Customer  Invoice ItemCode  ...             Date Amount  Price\n",
              "0   37593.0  C514216    22406  ...  2017/6/30 17:38     -1   1.25\n",
              "1   37593.0  C514216    22056  ...  2017/6/30 17:38     -1   1.49\n",
              "2   37593.0  C514216    21844  ...  2017/6/30 17:38     -1   2.95\n",
              "3   37593.0  C514216    22073  ...  2017/6/30 17:38     -1   3.75\n",
              "4   37593.0  C514216    22059  ...  2017/6/30 17:38     -2   1.49\n",
              "\n",
              "[5 rows x 7 columns]"
            ]
          },
          "metadata": {
            "tags": []
          },
          "execution_count": 10
        }
      ]
    },
    {
      "cell_type": "code",
      "metadata": {
        "id": "9y6du3x01Fdd",
        "colab": {
          "base_uri": "https://localhost:8080/"
        },
        "outputId": "790cae35-806f-42bf-d29b-635cc79407ba"
      },
      "source": [
        "df['Detail'] = df['Detail'].str.strip()\n",
        "Detail = df['Detail'].unique()\n",
        "for i in Detail:\n",
        "    if i.isupper() == False:\n",
        "        print(i)"
      ],
      "execution_count": null,
      "outputs": [
        {
          "output_type": "stream",
          "text": [
            "Manual\n",
            "BAG 250g SWIRLY MARBLES\n",
            "Discount\n",
            "Adjustment by Peter on 24/05/2010 1\n",
            "BAG 125g SWIRLY MARBLES\n",
            "POLYESTER FILLER PAD 65CMx65CM\n",
            "Bank Charges\n",
            "POLYESTER FILLER PAD 40x40cm\n",
            "Adjustment by john on 26/01/2010 17\n",
            "Adjustment by john on 26/01/2010 16\n",
            "Adjust bad debt\n",
            "FOLK ART GREETING CARD,pack/12\n",
            "POLYESTER FILLER PAD 45x45cm\n",
            "Adjustment by Peter on Jun 25 2010\n",
            "ESSENTIAL BALM 3.5g TIN IN ENVELOPE\n",
            "SET Of 6 SOLDIER SKITTLES\n",
            "POLYESTER FILLER PAD 30CMx30CM\n",
            "THE KING GIFT BAG 25x24x12cm\n",
            "POLYESTER FILLER PAD 45x30cm\n",
            "This is a test product.\n",
            "POLYESTER FILLER PAD 60x40cm\n"
          ],
          "name": "stdout"
        }
      ]
    },
    {
      "cell_type": "code",
      "metadata": {
        "id": "ZgfLYByY1QxI",
        "colab": {
          "base_uri": "https://localhost:8080/",
          "height": 433
        },
        "outputId": "aa295e5d-9b1f-4ec1-f610-26029595d666"
      },
      "source": [
        "idx = df[df['Amount'] <= 0.].index\n",
        "df.drop(idx, inplace=True)\n",
        "l = ['Manual', 'This is a test product.', 'Discount', 'Adjustment by Peter on 24/05/2010 1',\\\n",
        "     'Bank Charges', 'Adjustment by john on 26/01/2010 17',  'Adjustment by john on 26/01/2010 16', 'Adjust bad debt', 'Adjustment by Peter on Jun 25 2010', 'POSTAGE', 'CARRIAGE']\n",
        "for v in l:\n",
        "    idx2 = df[df['Detail'] == v].index\n",
        "    df.drop(idx2, inplace=True)\n",
        "idx3 = df[df['Price'] <= 0.].index\n",
        "df.drop(idx3, inplace=True)\n",
        "print(df.head())\n",
        "df.describe()"
      ],
      "execution_count": null,
      "outputs": [
        {
          "output_type": "stream",
          "text": [
            "      Customer Invoice ItemCode  ...             Date Amount  Price\n",
            "4492   34882.0  264212    84755  ...  2017/6/30 17:04     16   0.65\n",
            "4493   34882.0  264212    20957  ...  2017/6/30 17:04     16   1.45\n",
            "4494   34882.0  264212    22457  ...  2017/6/30 17:04     12   2.95\n",
            "4496   34882.0  264212    20958  ...  2017/6/30 17:04      8   1.95\n",
            "4497   34882.0  264212    22430  ...  2017/6/30 17:04      3   4.95\n",
            "\n",
            "[5 rows x 7 columns]\n"
          ],
          "name": "stdout"
        },
        {
          "output_type": "execute_result",
          "data": {
            "text/html": [
              "<div>\n",
              "<style scoped>\n",
              "    .dataframe tbody tr th:only-of-type {\n",
              "        vertical-align: middle;\n",
              "    }\n",
              "\n",
              "    .dataframe tbody tr th {\n",
              "        vertical-align: top;\n",
              "    }\n",
              "\n",
              "    .dataframe thead th {\n",
              "        text-align: right;\n",
              "    }\n",
              "</style>\n",
              "<table border=\"1\" class=\"dataframe\">\n",
              "  <thead>\n",
              "    <tr style=\"text-align: right;\">\n",
              "      <th></th>\n",
              "      <th>Customer</th>\n",
              "      <th>Amount</th>\n",
              "      <th>Price</th>\n",
              "    </tr>\n",
              "  </thead>\n",
              "  <tbody>\n",
              "    <tr>\n",
              "      <th>count</th>\n",
              "      <td>161040.000000</td>\n",
              "      <td>161040.000000</td>\n",
              "      <td>161040.000000</td>\n",
              "    </tr>\n",
              "    <tr>\n",
              "      <th>mean</th>\n",
              "      <td>35334.207570</td>\n",
              "      <td>14.045293</td>\n",
              "      <td>3.051039</td>\n",
              "    </tr>\n",
              "    <tr>\n",
              "      <th>std</th>\n",
              "      <td>1673.922109</td>\n",
              "      <td>123.241911</td>\n",
              "      <td>3.435328</td>\n",
              "    </tr>\n",
              "    <tr>\n",
              "      <th>min</th>\n",
              "      <td>32346.000000</td>\n",
              "      <td>1.000000</td>\n",
              "      <td>0.001000</td>\n",
              "    </tr>\n",
              "    <tr>\n",
              "      <th>25%</th>\n",
              "      <td>33976.000000</td>\n",
              "      <td>2.000000</td>\n",
              "      <td>1.250000</td>\n",
              "    </tr>\n",
              "    <tr>\n",
              "      <th>50%</th>\n",
              "      <td>35248.000000</td>\n",
              "      <td>5.000000</td>\n",
              "      <td>1.950000</td>\n",
              "    </tr>\n",
              "    <tr>\n",
              "      <th>75%</th>\n",
              "      <td>36805.000000</td>\n",
              "      <td>12.000000</td>\n",
              "      <td>3.750000</td>\n",
              "    </tr>\n",
              "    <tr>\n",
              "      <th>max</th>\n",
              "      <td>38287.000000</td>\n",
              "      <td>19152.000000</td>\n",
              "      <td>125.000000</td>\n",
              "    </tr>\n",
              "  </tbody>\n",
              "</table>\n",
              "</div>"
            ],
            "text/plain": [
              "            Customer         Amount          Price\n",
              "count  161040.000000  161040.000000  161040.000000\n",
              "mean    35334.207570      14.045293       3.051039\n",
              "std      1673.922109     123.241911       3.435328\n",
              "min     32346.000000       1.000000       0.001000\n",
              "25%     33976.000000       2.000000       1.250000\n",
              "50%     35248.000000       5.000000       1.950000\n",
              "75%     36805.000000      12.000000       3.750000\n",
              "max     38287.000000   19152.000000     125.000000"
            ]
          },
          "metadata": {
            "tags": []
          },
          "execution_count": 12
        }
      ]
    },
    {
      "cell_type": "code",
      "metadata": {
        "colab": {
          "base_uri": "https://localhost:8080/"
        },
        "id": "CC_iVkltN8n1",
        "outputId": "35e9d8be-588c-4685-b69d-916cee50e5ba"
      },
      "source": [
        "df['Detail'] = df['Detail'].str.strip()\n",
        "Detail = df['Detail'].unique()\n",
        "for i in Detail:\n",
        "    if i.isupper() == False:\n",
        "        print(i)"
      ],
      "execution_count": null,
      "outputs": [
        {
          "output_type": "stream",
          "text": [
            "BAG 250g SWIRLY MARBLES\n",
            "FOLK ART GREETING CARD,pack/12\n",
            "POLYESTER FILLER PAD 45x45cm\n",
            "POLYESTER FILLER PAD 40x40cm\n",
            "BAG 125g SWIRLY MARBLES\n",
            "POLYESTER FILLER PAD 65CMx65CM\n",
            "ESSENTIAL BALM 3.5g TIN IN ENVELOPE\n",
            "SET Of 6 SOLDIER SKITTLES\n",
            "POLYESTER FILLER PAD 30CMx30CM\n",
            "THE KING GIFT BAG 25x24x12cm\n",
            "POLYESTER FILLER PAD 45x30cm\n",
            "POLYESTER FILLER PAD 60x40cm\n"
          ],
          "name": "stdout"
        }
      ]
    },
    {
      "cell_type": "code",
      "metadata": {
        "colab": {
          "base_uri": "https://localhost:8080/"
        },
        "id": "12e87OwSN9uI",
        "outputId": "e4519bbb-4504-4d50-c578-e47e5adc3313"
      },
      "source": [
        "for i in Detail:\n",
        "    if len(i) <= 10:\n",
        "        print(i)"
      ],
      "execution_count": null,
      "outputs": [
        {
          "output_type": "stream",
          "text": [
            "PHOTO CUBE\n",
            "SOMBRERO\n",
            "BINGO SET\n",
            "SPACE OWL\n",
            "CAT BOWL\n",
            "SPOTS MUG\n",
            "SPACE FROG\n",
            "DAISY RING\n"
          ],
          "name": "stdout"
        }
      ]
    },
    {
      "cell_type": "code",
      "metadata": {
        "id": "GKQK6q791T7h",
        "colab": {
          "base_uri": "https://localhost:8080/",
          "height": 204
        },
        "outputId": "c0e017a3-9102-4616-de83-640a9ad491d7"
      },
      "source": [
        "df.drop(['Amount', 'Price', 'ItemCode'],axis=1, inplace=True)\n",
        "df.head()"
      ],
      "execution_count": null,
      "outputs": [
        {
          "output_type": "execute_result",
          "data": {
            "text/html": [
              "<div>\n",
              "<style scoped>\n",
              "    .dataframe tbody tr th:only-of-type {\n",
              "        vertical-align: middle;\n",
              "    }\n",
              "\n",
              "    .dataframe tbody tr th {\n",
              "        vertical-align: top;\n",
              "    }\n",
              "\n",
              "    .dataframe thead th {\n",
              "        text-align: right;\n",
              "    }\n",
              "</style>\n",
              "<table border=\"1\" class=\"dataframe\">\n",
              "  <thead>\n",
              "    <tr style=\"text-align: right;\">\n",
              "      <th></th>\n",
              "      <th>Customer</th>\n",
              "      <th>Invoice</th>\n",
              "      <th>Detail</th>\n",
              "      <th>Date</th>\n",
              "    </tr>\n",
              "  </thead>\n",
              "  <tbody>\n",
              "    <tr>\n",
              "      <th>4492</th>\n",
              "      <td>34882.0</td>\n",
              "      <td>264212</td>\n",
              "      <td>COLOUR GLASS T-LIGHT HOLDER HANGING</td>\n",
              "      <td>2017/6/30 17:04</td>\n",
              "    </tr>\n",
              "    <tr>\n",
              "      <th>4493</th>\n",
              "      <td>34882.0</td>\n",
              "      <td>264212</td>\n",
              "      <td>PORCELAIN HANGING BELL SMALL</td>\n",
              "      <td>2017/6/30 17:04</td>\n",
              "    </tr>\n",
              "    <tr>\n",
              "      <th>4494</th>\n",
              "      <td>34882.0</td>\n",
              "      <td>264212</td>\n",
              "      <td>NATURAL SLATE HEART CHALKBOARD</td>\n",
              "      <td>2017/6/30 17:04</td>\n",
              "    </tr>\n",
              "    <tr>\n",
              "      <th>4496</th>\n",
              "      <td>34882.0</td>\n",
              "      <td>264212</td>\n",
              "      <td>PORCELAIN HANGING BELL LARGE</td>\n",
              "      <td>2017/6/30 17:04</td>\n",
              "    </tr>\n",
              "    <tr>\n",
              "      <th>4497</th>\n",
              "      <td>34882.0</td>\n",
              "      <td>264212</td>\n",
              "      <td>ENAMEL WATERING CAN CREAM</td>\n",
              "      <td>2017/6/30 17:04</td>\n",
              "    </tr>\n",
              "  </tbody>\n",
              "</table>\n",
              "</div>"
            ],
            "text/plain": [
              "      Customer Invoice                               Detail             Date\n",
              "4492   34882.0  264212  COLOUR GLASS T-LIGHT HOLDER HANGING  2017/6/30 17:04\n",
              "4493   34882.0  264212         PORCELAIN HANGING BELL SMALL  2017/6/30 17:04\n",
              "4494   34882.0  264212       NATURAL SLATE HEART CHALKBOARD  2017/6/30 17:04\n",
              "4496   34882.0  264212         PORCELAIN HANGING BELL LARGE  2017/6/30 17:04\n",
              "4497   34882.0  264212            ENAMEL WATERING CAN CREAM  2017/6/30 17:04"
            ]
          },
          "metadata": {
            "tags": []
          },
          "execution_count": 15
        }
      ]
    },
    {
      "cell_type": "code",
      "metadata": {
        "id": "ig21r9epr6Fe"
      },
      "source": [
        "df['Invoice'] = df['Invoice'].apply(lambda x: str(x))"
      ],
      "execution_count": null,
      "outputs": []
    },
    {
      "cell_type": "code",
      "metadata": {
        "id": "2z68B2Z1bzDt"
      },
      "source": [
        "def sortdf(data, column):\n",
        "    data.sort_values(column, inplace=True)\n",
        "    data.reset_index(inplace=True)\n",
        "    data.pop('index')\n",
        "    return data"
      ],
      "execution_count": null,
      "outputs": []
    },
    {
      "cell_type": "code",
      "metadata": {
        "id": "QV7T67jt1VQ0",
        "colab": {
          "base_uri": "https://localhost:8080/",
          "height": 204
        },
        "outputId": "fa0e6064-c1aa-4945-8ada-556f7ebdcf5c"
      },
      "source": [
        "df = sortdf(df, ['Invoice'])\n",
        "df.head()"
      ],
      "execution_count": null,
      "outputs": [
        {
          "output_type": "execute_result",
          "data": {
            "text/html": [
              "<div>\n",
              "<style scoped>\n",
              "    .dataframe tbody tr th:only-of-type {\n",
              "        vertical-align: middle;\n",
              "    }\n",
              "\n",
              "    .dataframe tbody tr th {\n",
              "        vertical-align: top;\n",
              "    }\n",
              "\n",
              "    .dataframe thead th {\n",
              "        text-align: right;\n",
              "    }\n",
              "</style>\n",
              "<table border=\"1\" class=\"dataframe\">\n",
              "  <thead>\n",
              "    <tr style=\"text-align: right;\">\n",
              "      <th></th>\n",
              "      <th>Customer</th>\n",
              "      <th>Invoice</th>\n",
              "      <th>Detail</th>\n",
              "      <th>Date</th>\n",
              "    </tr>\n",
              "  </thead>\n",
              "  <tbody>\n",
              "    <tr>\n",
              "      <th>0</th>\n",
              "      <td>34590.0</td>\n",
              "      <td>243414</td>\n",
              "      <td>HAND OPEN SHAPE GOLD</td>\n",
              "      <td>2017/1/4 10:28</td>\n",
              "    </tr>\n",
              "    <tr>\n",
              "      <th>1</th>\n",
              "      <td>34590.0</td>\n",
              "      <td>243414</td>\n",
              "      <td>RETRO SPOT MUG</td>\n",
              "      <td>2017/1/4 10:28</td>\n",
              "    </tr>\n",
              "    <tr>\n",
              "      <th>2</th>\n",
              "      <td>34590.0</td>\n",
              "      <td>243414</td>\n",
              "      <td>RETRO SPOT SUGAR JAM BOWL</td>\n",
              "      <td>2017/1/4 10:28</td>\n",
              "    </tr>\n",
              "    <tr>\n",
              "      <th>3</th>\n",
              "      <td>34590.0</td>\n",
              "      <td>243414</td>\n",
              "      <td>NEW ENGLAND CERAMIC CAKE SERVER</td>\n",
              "      <td>2017/1/4 10:28</td>\n",
              "    </tr>\n",
              "    <tr>\n",
              "      <th>4</th>\n",
              "      <td>34590.0</td>\n",
              "      <td>243414</td>\n",
              "      <td>RETRO SPOT TRADITIONAL TEAPOT</td>\n",
              "      <td>2017/1/4 10:28</td>\n",
              "    </tr>\n",
              "  </tbody>\n",
              "</table>\n",
              "</div>"
            ],
            "text/plain": [
              "   Customer Invoice                           Detail            Date\n",
              "0   34590.0  243414             HAND OPEN SHAPE GOLD  2017/1/4 10:28\n",
              "1   34590.0  243414                   RETRO SPOT MUG  2017/1/4 10:28\n",
              "2   34590.0  243414        RETRO SPOT SUGAR JAM BOWL  2017/1/4 10:28\n",
              "3   34590.0  243414  NEW ENGLAND CERAMIC CAKE SERVER  2017/1/4 10:28\n",
              "4   34590.0  243414    RETRO SPOT TRADITIONAL TEAPOT  2017/1/4 10:28"
            ]
          },
          "metadata": {
            "tags": []
          },
          "execution_count": 18
        }
      ]
    },
    {
      "cell_type": "code",
      "metadata": {
        "colab": {
          "base_uri": "https://localhost:8080/"
        },
        "id": "sTJNjye-mhyT",
        "outputId": "e7054190-1615-4a9b-933d-57d02a6b9a2d"
      },
      "source": [
        "Date = df['Date'].unique()\n",
        "Date = sorted(Date)\n",
        "print(len(Date))\n",
        "\n",
        "Invoice = df['Invoice'].unique()\n",
        "Invoice = sorted(Invoice)\n",
        "len(Invoice)"
      ],
      "execution_count": null,
      "outputs": [
        {
          "output_type": "stream",
          "text": [
            "7178\n"
          ],
          "name": "stdout"
        },
        {
          "output_type": "execute_result",
          "data": {
            "text/plain": [
              "7557"
            ]
          },
          "metadata": {
            "tags": []
          },
          "execution_count": 19
        }
      ]
    },
    {
      "cell_type": "code",
      "metadata": {
        "colab": {
          "base_uri": "https://localhost:8080/",
          "height": 204
        },
        "id": "SQT_NDWmomdq",
        "outputId": "c63ccfb9-f7c8-4411-8905-71e822400ecd"
      },
      "source": [
        "df.pop('Date')\n",
        "df.head()"
      ],
      "execution_count": null,
      "outputs": [
        {
          "output_type": "execute_result",
          "data": {
            "text/html": [
              "<div>\n",
              "<style scoped>\n",
              "    .dataframe tbody tr th:only-of-type {\n",
              "        vertical-align: middle;\n",
              "    }\n",
              "\n",
              "    .dataframe tbody tr th {\n",
              "        vertical-align: top;\n",
              "    }\n",
              "\n",
              "    .dataframe thead th {\n",
              "        text-align: right;\n",
              "    }\n",
              "</style>\n",
              "<table border=\"1\" class=\"dataframe\">\n",
              "  <thead>\n",
              "    <tr style=\"text-align: right;\">\n",
              "      <th></th>\n",
              "      <th>Customer</th>\n",
              "      <th>Invoice</th>\n",
              "      <th>Detail</th>\n",
              "    </tr>\n",
              "  </thead>\n",
              "  <tbody>\n",
              "    <tr>\n",
              "      <th>0</th>\n",
              "      <td>34590.0</td>\n",
              "      <td>243414</td>\n",
              "      <td>HAND OPEN SHAPE GOLD</td>\n",
              "    </tr>\n",
              "    <tr>\n",
              "      <th>1</th>\n",
              "      <td>34590.0</td>\n",
              "      <td>243414</td>\n",
              "      <td>RETRO SPOT MUG</td>\n",
              "    </tr>\n",
              "    <tr>\n",
              "      <th>2</th>\n",
              "      <td>34590.0</td>\n",
              "      <td>243414</td>\n",
              "      <td>RETRO SPOT SUGAR JAM BOWL</td>\n",
              "    </tr>\n",
              "    <tr>\n",
              "      <th>3</th>\n",
              "      <td>34590.0</td>\n",
              "      <td>243414</td>\n",
              "      <td>NEW ENGLAND CERAMIC CAKE SERVER</td>\n",
              "    </tr>\n",
              "    <tr>\n",
              "      <th>4</th>\n",
              "      <td>34590.0</td>\n",
              "      <td>243414</td>\n",
              "      <td>RETRO SPOT TRADITIONAL TEAPOT</td>\n",
              "    </tr>\n",
              "  </tbody>\n",
              "</table>\n",
              "</div>"
            ],
            "text/plain": [
              "   Customer Invoice                           Detail\n",
              "0   34590.0  243414             HAND OPEN SHAPE GOLD\n",
              "1   34590.0  243414                   RETRO SPOT MUG\n",
              "2   34590.0  243414        RETRO SPOT SUGAR JAM BOWL\n",
              "3   34590.0  243414  NEW ENGLAND CERAMIC CAKE SERVER\n",
              "4   34590.0  243414    RETRO SPOT TRADITIONAL TEAPOT"
            ]
          },
          "metadata": {
            "tags": []
          },
          "execution_count": 20
        }
      ]
    },
    {
      "cell_type": "code",
      "metadata": {
        "colab": {
          "base_uri": "https://localhost:8080/",
          "height": 221
        },
        "id": "j9F4oyLRcxpY",
        "outputId": "aed31b38-9fa4-45ab-9eee-49ed3a2f4961"
      },
      "source": [
        "df1 = df.copy()\n",
        "df1.pop('Detail')\n",
        "df1.drop_duplicates(inplace=True)\n",
        "df1.reset_index(inplace=True)\n",
        "df1.drop('index', axis=1, inplace=True)\n",
        "df1.drop_duplicates(inplace=True)\n",
        "df1.reset_index(inplace=True)\n",
        "df1.pop('index')\n",
        "display(df1.head())\n",
        "len(df1)"
      ],
      "execution_count": null,
      "outputs": [
        {
          "output_type": "display_data",
          "data": {
            "text/html": [
              "<div>\n",
              "<style scoped>\n",
              "    .dataframe tbody tr th:only-of-type {\n",
              "        vertical-align: middle;\n",
              "    }\n",
              "\n",
              "    .dataframe tbody tr th {\n",
              "        vertical-align: top;\n",
              "    }\n",
              "\n",
              "    .dataframe thead th {\n",
              "        text-align: right;\n",
              "    }\n",
              "</style>\n",
              "<table border=\"1\" class=\"dataframe\">\n",
              "  <thead>\n",
              "    <tr style=\"text-align: right;\">\n",
              "      <th></th>\n",
              "      <th>Customer</th>\n",
              "      <th>Invoice</th>\n",
              "    </tr>\n",
              "  </thead>\n",
              "  <tbody>\n",
              "    <tr>\n",
              "      <th>0</th>\n",
              "      <td>34590.0</td>\n",
              "      <td>243414</td>\n",
              "    </tr>\n",
              "    <tr>\n",
              "      <th>1</th>\n",
              "      <td>33287.0</td>\n",
              "      <td>243427</td>\n",
              "    </tr>\n",
              "    <tr>\n",
              "      <th>2</th>\n",
              "      <td>36550.0</td>\n",
              "      <td>243428</td>\n",
              "    </tr>\n",
              "    <tr>\n",
              "      <th>3</th>\n",
              "      <td>34680.0</td>\n",
              "      <td>243432</td>\n",
              "    </tr>\n",
              "    <tr>\n",
              "      <th>4</th>\n",
              "      <td>34709.0</td>\n",
              "      <td>243433</td>\n",
              "    </tr>\n",
              "  </tbody>\n",
              "</table>\n",
              "</div>"
            ],
            "text/plain": [
              "   Customer Invoice\n",
              "0   34590.0  243414\n",
              "1   33287.0  243427\n",
              "2   36550.0  243428\n",
              "3   34680.0  243432\n",
              "4   34709.0  243433"
            ]
          },
          "metadata": {
            "tags": []
          }
        },
        {
          "output_type": "execute_result",
          "data": {
            "text/plain": [
              "7557"
            ]
          },
          "metadata": {
            "tags": []
          },
          "execution_count": 21
        }
      ]
    },
    {
      "cell_type": "code",
      "metadata": {
        "id": "qeJ-lIcKZZdh",
        "colab": {
          "base_uri": "https://localhost:8080/",
          "height": 419
        },
        "outputId": "6d038edf-9fcf-4d53-f694-05e0c9777dde"
      },
      "source": [
        "df2 = pd.DataFrame(columns=['Invoice', 'Detail'])\n",
        "values = df['Invoice'].value_counts().index.sort_values()\n",
        "\n",
        "for i, v in enumerate(values):\n",
        "    df2.loc[i] = (v, '&&'.join(df[df['Invoice'] == v]['Detail']))\n",
        "df2"
      ],
      "execution_count": null,
      "outputs": [
        {
          "output_type": "execute_result",
          "data": {
            "text/html": [
              "<div>\n",
              "<style scoped>\n",
              "    .dataframe tbody tr th:only-of-type {\n",
              "        vertical-align: middle;\n",
              "    }\n",
              "\n",
              "    .dataframe tbody tr th {\n",
              "        vertical-align: top;\n",
              "    }\n",
              "\n",
              "    .dataframe thead th {\n",
              "        text-align: right;\n",
              "    }\n",
              "</style>\n",
              "<table border=\"1\" class=\"dataframe\">\n",
              "  <thead>\n",
              "    <tr style=\"text-align: right;\">\n",
              "      <th></th>\n",
              "      <th>Invoice</th>\n",
              "      <th>Detail</th>\n",
              "    </tr>\n",
              "  </thead>\n",
              "  <tbody>\n",
              "    <tr>\n",
              "      <th>0</th>\n",
              "      <td>243414</td>\n",
              "      <td>HAND OPEN SHAPE GOLD&amp;&amp;RETRO SPOT MUG&amp;&amp;RETRO SP...</td>\n",
              "    </tr>\n",
              "    <tr>\n",
              "      <th>1</th>\n",
              "      <td>243427</td>\n",
              "      <td>MOROCCAN TEA GLASS&amp;&amp;BLACK FLOWER CANDLE PLATE&amp;...</td>\n",
              "    </tr>\n",
              "    <tr>\n",
              "      <th>2</th>\n",
              "      <td>243428</td>\n",
              "      <td>LUNCHBOX WITH CUTLERY FAIRY CAKES&amp;&amp;STRAWBERRY ...</td>\n",
              "    </tr>\n",
              "    <tr>\n",
              "      <th>3</th>\n",
              "      <td>243432</td>\n",
              "      <td>RED WOOLLY HOTTIE WHITE HEART.&amp;&amp;CERAMIC CAKE D...</td>\n",
              "    </tr>\n",
              "    <tr>\n",
              "      <th>4</th>\n",
              "      <td>243433</td>\n",
              "      <td>STRAWBERRY CERAMIC TRINKET BOX&amp;&amp;JUMBO  BAG BAR...</td>\n",
              "    </tr>\n",
              "    <tr>\n",
              "      <th>...</th>\n",
              "      <td>...</td>\n",
              "      <td>...</td>\n",
              "    </tr>\n",
              "    <tr>\n",
              "      <th>7552</th>\n",
              "      <td>264208</td>\n",
              "      <td>ASSORTED COLOUR BIRD ORNAMENT&amp;&amp;VICTORIAN GLASS...</td>\n",
              "    </tr>\n",
              "    <tr>\n",
              "      <th>7553</th>\n",
              "      <td>264209</td>\n",
              "      <td>PACK OF 60 PINK PAISLEY CAKE CASES&amp;&amp;WASHROOM M...</td>\n",
              "    </tr>\n",
              "    <tr>\n",
              "      <th>7554</th>\n",
              "      <td>264210</td>\n",
              "      <td>GLASS JAR DIGESTIVE BISCUITS&amp;&amp;BLUE STRIPE CERA...</td>\n",
              "    </tr>\n",
              "    <tr>\n",
              "      <th>7555</th>\n",
              "      <td>264211</td>\n",
              "      <td>PICNIC BASKET WICKER SMALL&amp;&amp;NATURAL SLATE HEAR...</td>\n",
              "    </tr>\n",
              "    <tr>\n",
              "      <th>7556</th>\n",
              "      <td>264212</td>\n",
              "      <td>UNION STRIPE WITH FRINGE  HAMMOCK&amp;&amp;RED/CREAM S...</td>\n",
              "    </tr>\n",
              "  </tbody>\n",
              "</table>\n",
              "<p>7557 rows × 2 columns</p>\n",
              "</div>"
            ],
            "text/plain": [
              "     Invoice                                             Detail\n",
              "0     243414  HAND OPEN SHAPE GOLD&&RETRO SPOT MUG&&RETRO SP...\n",
              "1     243427  MOROCCAN TEA GLASS&&BLACK FLOWER CANDLE PLATE&...\n",
              "2     243428  LUNCHBOX WITH CUTLERY FAIRY CAKES&&STRAWBERRY ...\n",
              "3     243432  RED WOOLLY HOTTIE WHITE HEART.&&CERAMIC CAKE D...\n",
              "4     243433  STRAWBERRY CERAMIC TRINKET BOX&&JUMBO  BAG BAR...\n",
              "...      ...                                                ...\n",
              "7552  264208  ASSORTED COLOUR BIRD ORNAMENT&&VICTORIAN GLASS...\n",
              "7553  264209  PACK OF 60 PINK PAISLEY CAKE CASES&&WASHROOM M...\n",
              "7554  264210  GLASS JAR DIGESTIVE BISCUITS&&BLUE STRIPE CERA...\n",
              "7555  264211  PICNIC BASKET WICKER SMALL&&NATURAL SLATE HEAR...\n",
              "7556  264212  UNION STRIPE WITH FRINGE  HAMMOCK&&RED/CREAM S...\n",
              "\n",
              "[7557 rows x 2 columns]"
            ]
          },
          "metadata": {
            "tags": []
          },
          "execution_count": 22
        }
      ]
    },
    {
      "cell_type": "code",
      "metadata": {
        "colab": {
          "base_uri": "https://localhost:8080/",
          "height": 419
        },
        "id": "51w0wxII4F0S",
        "outputId": "e33678ea-a9aa-43f3-9ea9-dcedc6183059"
      },
      "source": [
        "df1_ = df1.drop(['Invoice'], axis=1)\n",
        "df1_"
      ],
      "execution_count": null,
      "outputs": [
        {
          "output_type": "execute_result",
          "data": {
            "text/html": [
              "<div>\n",
              "<style scoped>\n",
              "    .dataframe tbody tr th:only-of-type {\n",
              "        vertical-align: middle;\n",
              "    }\n",
              "\n",
              "    .dataframe tbody tr th {\n",
              "        vertical-align: top;\n",
              "    }\n",
              "\n",
              "    .dataframe thead th {\n",
              "        text-align: right;\n",
              "    }\n",
              "</style>\n",
              "<table border=\"1\" class=\"dataframe\">\n",
              "  <thead>\n",
              "    <tr style=\"text-align: right;\">\n",
              "      <th></th>\n",
              "      <th>Customer</th>\n",
              "    </tr>\n",
              "  </thead>\n",
              "  <tbody>\n",
              "    <tr>\n",
              "      <th>0</th>\n",
              "      <td>34590.0</td>\n",
              "    </tr>\n",
              "    <tr>\n",
              "      <th>1</th>\n",
              "      <td>33287.0</td>\n",
              "    </tr>\n",
              "    <tr>\n",
              "      <th>2</th>\n",
              "      <td>36550.0</td>\n",
              "    </tr>\n",
              "    <tr>\n",
              "      <th>3</th>\n",
              "      <td>34680.0</td>\n",
              "    </tr>\n",
              "    <tr>\n",
              "      <th>4</th>\n",
              "      <td>34709.0</td>\n",
              "    </tr>\n",
              "    <tr>\n",
              "      <th>...</th>\n",
              "      <td>...</td>\n",
              "    </tr>\n",
              "    <tr>\n",
              "      <th>7552</th>\n",
              "      <td>33649.0</td>\n",
              "    </tr>\n",
              "    <tr>\n",
              "      <th>7553</th>\n",
              "      <td>38215.0</td>\n",
              "    </tr>\n",
              "    <tr>\n",
              "      <th>7554</th>\n",
              "      <td>38231.0</td>\n",
              "    </tr>\n",
              "    <tr>\n",
              "      <th>7555</th>\n",
              "      <td>33589.0</td>\n",
              "    </tr>\n",
              "    <tr>\n",
              "      <th>7556</th>\n",
              "      <td>34882.0</td>\n",
              "    </tr>\n",
              "  </tbody>\n",
              "</table>\n",
              "<p>7557 rows × 1 columns</p>\n",
              "</div>"
            ],
            "text/plain": [
              "      Customer\n",
              "0      34590.0\n",
              "1      33287.0\n",
              "2      36550.0\n",
              "3      34680.0\n",
              "4      34709.0\n",
              "...        ...\n",
              "7552   33649.0\n",
              "7553   38215.0\n",
              "7554   38231.0\n",
              "7555   33589.0\n",
              "7556   34882.0\n",
              "\n",
              "[7557 rows x 1 columns]"
            ]
          },
          "metadata": {
            "tags": []
          },
          "execution_count": 23
        }
      ]
    },
    {
      "cell_type": "code",
      "metadata": {
        "colab": {
          "base_uri": "https://localhost:8080/",
          "height": 419
        },
        "id": "4RZH-g0-dwtT",
        "outputId": "058c4397-e2b9-40b3-9918-c4e1e3d4eb56"
      },
      "source": [
        "df3 = pd.concat([df1_, df2], axis=1)\n",
        "df3"
      ],
      "execution_count": null,
      "outputs": [
        {
          "output_type": "execute_result",
          "data": {
            "text/html": [
              "<div>\n",
              "<style scoped>\n",
              "    .dataframe tbody tr th:only-of-type {\n",
              "        vertical-align: middle;\n",
              "    }\n",
              "\n",
              "    .dataframe tbody tr th {\n",
              "        vertical-align: top;\n",
              "    }\n",
              "\n",
              "    .dataframe thead th {\n",
              "        text-align: right;\n",
              "    }\n",
              "</style>\n",
              "<table border=\"1\" class=\"dataframe\">\n",
              "  <thead>\n",
              "    <tr style=\"text-align: right;\">\n",
              "      <th></th>\n",
              "      <th>Customer</th>\n",
              "      <th>Invoice</th>\n",
              "      <th>Detail</th>\n",
              "    </tr>\n",
              "  </thead>\n",
              "  <tbody>\n",
              "    <tr>\n",
              "      <th>0</th>\n",
              "      <td>34590.0</td>\n",
              "      <td>243414</td>\n",
              "      <td>HAND OPEN SHAPE GOLD&amp;&amp;RETRO SPOT MUG&amp;&amp;RETRO SP...</td>\n",
              "    </tr>\n",
              "    <tr>\n",
              "      <th>1</th>\n",
              "      <td>33287.0</td>\n",
              "      <td>243427</td>\n",
              "      <td>MOROCCAN TEA GLASS&amp;&amp;BLACK FLOWER CANDLE PLATE&amp;...</td>\n",
              "    </tr>\n",
              "    <tr>\n",
              "      <th>2</th>\n",
              "      <td>36550.0</td>\n",
              "      <td>243428</td>\n",
              "      <td>LUNCHBOX WITH CUTLERY FAIRY CAKES&amp;&amp;STRAWBERRY ...</td>\n",
              "    </tr>\n",
              "    <tr>\n",
              "      <th>3</th>\n",
              "      <td>34680.0</td>\n",
              "      <td>243432</td>\n",
              "      <td>RED WOOLLY HOTTIE WHITE HEART.&amp;&amp;CERAMIC CAKE D...</td>\n",
              "    </tr>\n",
              "    <tr>\n",
              "      <th>4</th>\n",
              "      <td>34709.0</td>\n",
              "      <td>243433</td>\n",
              "      <td>STRAWBERRY CERAMIC TRINKET BOX&amp;&amp;JUMBO  BAG BAR...</td>\n",
              "    </tr>\n",
              "    <tr>\n",
              "      <th>...</th>\n",
              "      <td>...</td>\n",
              "      <td>...</td>\n",
              "      <td>...</td>\n",
              "    </tr>\n",
              "    <tr>\n",
              "      <th>7552</th>\n",
              "      <td>33649.0</td>\n",
              "      <td>264208</td>\n",
              "      <td>ASSORTED COLOUR BIRD ORNAMENT&amp;&amp;VICTORIAN GLASS...</td>\n",
              "    </tr>\n",
              "    <tr>\n",
              "      <th>7553</th>\n",
              "      <td>38215.0</td>\n",
              "      <td>264209</td>\n",
              "      <td>PACK OF 60 PINK PAISLEY CAKE CASES&amp;&amp;WASHROOM M...</td>\n",
              "    </tr>\n",
              "    <tr>\n",
              "      <th>7554</th>\n",
              "      <td>38231.0</td>\n",
              "      <td>264210</td>\n",
              "      <td>GLASS JAR DIGESTIVE BISCUITS&amp;&amp;BLUE STRIPE CERA...</td>\n",
              "    </tr>\n",
              "    <tr>\n",
              "      <th>7555</th>\n",
              "      <td>33589.0</td>\n",
              "      <td>264211</td>\n",
              "      <td>PICNIC BASKET WICKER SMALL&amp;&amp;NATURAL SLATE HEAR...</td>\n",
              "    </tr>\n",
              "    <tr>\n",
              "      <th>7556</th>\n",
              "      <td>34882.0</td>\n",
              "      <td>264212</td>\n",
              "      <td>UNION STRIPE WITH FRINGE  HAMMOCK&amp;&amp;RED/CREAM S...</td>\n",
              "    </tr>\n",
              "  </tbody>\n",
              "</table>\n",
              "<p>7557 rows × 3 columns</p>\n",
              "</div>"
            ],
            "text/plain": [
              "      Customer Invoice                                             Detail\n",
              "0      34590.0  243414  HAND OPEN SHAPE GOLD&&RETRO SPOT MUG&&RETRO SP...\n",
              "1      33287.0  243427  MOROCCAN TEA GLASS&&BLACK FLOWER CANDLE PLATE&...\n",
              "2      36550.0  243428  LUNCHBOX WITH CUTLERY FAIRY CAKES&&STRAWBERRY ...\n",
              "3      34680.0  243432  RED WOOLLY HOTTIE WHITE HEART.&&CERAMIC CAKE D...\n",
              "4      34709.0  243433  STRAWBERRY CERAMIC TRINKET BOX&&JUMBO  BAG BAR...\n",
              "...        ...     ...                                                ...\n",
              "7552   33649.0  264208  ASSORTED COLOUR BIRD ORNAMENT&&VICTORIAN GLASS...\n",
              "7553   38215.0  264209  PACK OF 60 PINK PAISLEY CAKE CASES&&WASHROOM M...\n",
              "7554   38231.0  264210  GLASS JAR DIGESTIVE BISCUITS&&BLUE STRIPE CERA...\n",
              "7555   33589.0  264211  PICNIC BASKET WICKER SMALL&&NATURAL SLATE HEAR...\n",
              "7556   34882.0  264212  UNION STRIPE WITH FRINGE  HAMMOCK&&RED/CREAM S...\n",
              "\n",
              "[7557 rows x 3 columns]"
            ]
          },
          "metadata": {
            "tags": []
          },
          "execution_count": 24
        }
      ]
    },
    {
      "cell_type": "code",
      "metadata": {
        "colab": {
          "base_uri": "https://localhost:8080/",
          "height": 34
        },
        "id": "nycHNxBG8hZk",
        "outputId": "98fb46bb-9b2d-4085-a258-05ea5f283921"
      },
      "source": [
        "token_df = df3.copy()\n",
        "token_df['Detail'] = token_df['Detail'].str.replace('&&', ' [SEP] ')\n",
        "sentences = token_df['Detail']\n",
        "sentences = [\"[CLS] \" + str(sentence).lower() + \" [SEP]\" for sentence in sentences]\n",
        "sentences = [sentence.replace('[sep]', '[SEP]') for sentence in sentences]\n",
        "sentences[0]"
      ],
      "execution_count": null,
      "outputs": [
        {
          "output_type": "execute_result",
          "data": {
            "application/vnd.google.colaboratory.intrinsic+json": {
              "type": "string"
            },
            "text/plain": [
              "'[CLS] hand open shape gold [SEP] retro spot mug [SEP] retro spot sugar jam bowl [SEP] new england ceramic cake server [SEP] retro spot traditional teapot [SEP] retro spot large milk jug [SEP]'"
            ]
          },
          "metadata": {
            "tags": []
          },
          "execution_count": 25
        }
      ]
    },
    {
      "cell_type": "code",
      "metadata": {
        "colab": {
          "base_uri": "https://localhost:8080/",
          "height": 204
        },
        "id": "Nduvvg8CBqLE",
        "outputId": "2c0dde49-2bcb-4b53-bdbd-b7bf87abe214"
      },
      "source": [
        "token_df.head()"
      ],
      "execution_count": null,
      "outputs": [
        {
          "output_type": "execute_result",
          "data": {
            "text/html": [
              "<div>\n",
              "<style scoped>\n",
              "    .dataframe tbody tr th:only-of-type {\n",
              "        vertical-align: middle;\n",
              "    }\n",
              "\n",
              "    .dataframe tbody tr th {\n",
              "        vertical-align: top;\n",
              "    }\n",
              "\n",
              "    .dataframe thead th {\n",
              "        text-align: right;\n",
              "    }\n",
              "</style>\n",
              "<table border=\"1\" class=\"dataframe\">\n",
              "  <thead>\n",
              "    <tr style=\"text-align: right;\">\n",
              "      <th></th>\n",
              "      <th>Customer</th>\n",
              "      <th>Invoice</th>\n",
              "      <th>Detail</th>\n",
              "    </tr>\n",
              "  </thead>\n",
              "  <tbody>\n",
              "    <tr>\n",
              "      <th>0</th>\n",
              "      <td>34590.0</td>\n",
              "      <td>243414</td>\n",
              "      <td>HAND OPEN SHAPE GOLD [SEP] RETRO SPOT MUG [SEP...</td>\n",
              "    </tr>\n",
              "    <tr>\n",
              "      <th>1</th>\n",
              "      <td>33287.0</td>\n",
              "      <td>243427</td>\n",
              "      <td>MOROCCAN TEA GLASS [SEP] BLACK FLOWER CANDLE P...</td>\n",
              "    </tr>\n",
              "    <tr>\n",
              "      <th>2</th>\n",
              "      <td>36550.0</td>\n",
              "      <td>243428</td>\n",
              "      <td>LUNCHBOX WITH CUTLERY FAIRY CAKES [SEP] STRAWB...</td>\n",
              "    </tr>\n",
              "    <tr>\n",
              "      <th>3</th>\n",
              "      <td>34680.0</td>\n",
              "      <td>243432</td>\n",
              "      <td>RED WOOLLY HOTTIE WHITE HEART. [SEP] CERAMIC C...</td>\n",
              "    </tr>\n",
              "    <tr>\n",
              "      <th>4</th>\n",
              "      <td>34709.0</td>\n",
              "      <td>243433</td>\n",
              "      <td>STRAWBERRY CERAMIC TRINKET BOX [SEP] JUMBO  BA...</td>\n",
              "    </tr>\n",
              "  </tbody>\n",
              "</table>\n",
              "</div>"
            ],
            "text/plain": [
              "   Customer Invoice                                             Detail\n",
              "0   34590.0  243414  HAND OPEN SHAPE GOLD [SEP] RETRO SPOT MUG [SEP...\n",
              "1   33287.0  243427  MOROCCAN TEA GLASS [SEP] BLACK FLOWER CANDLE P...\n",
              "2   36550.0  243428  LUNCHBOX WITH CUTLERY FAIRY CAKES [SEP] STRAWB...\n",
              "3   34680.0  243432  RED WOOLLY HOTTIE WHITE HEART. [SEP] CERAMIC C...\n",
              "4   34709.0  243433  STRAWBERRY CERAMIC TRINKET BOX [SEP] JUMBO  BA..."
            ]
          },
          "metadata": {
            "tags": []
          },
          "execution_count": 26
        }
      ]
    },
    {
      "cell_type": "code",
      "metadata": {
        "id": "-xFHMZfEZ-h3"
      },
      "source": [
        "def BERTtokenizer(sentences):\n",
        "    # BERT의 토크나이저로 문장을 토큰으로 분리\n",
        "    tokenizer = BertTokenizer.from_pretrained('bert-base-uncased', do_lower_case=True)\n",
        "    # tokenized_texts = [tokenizer.tokenize(sent) for sent in sentences]\n",
        "    tokenized_texts = [tokenizer.tokenize(sent) for sent in sentences]\n",
        "    return tokenized_texts"
      ],
      "execution_count": null,
      "outputs": []
    },
    {
      "cell_type": "code",
      "metadata": {
        "colab": {
          "base_uri": "https://localhost:8080/"
        },
        "id": "BfCWW0muARUL",
        "outputId": "b32c99fb-a76b-45d2-cd9b-3212d03eb34b"
      },
      "source": [
        "tokenized_texts = BERTtokenizer(sentences)\n",
        "\n",
        "print (sentences[0])\n",
        "print (tokenized_texts[0])\n",
        "len(tokenized_texts)"
      ],
      "execution_count": null,
      "outputs": [
        {
          "output_type": "stream",
          "text": [
            "[CLS] hand open shape gold [SEP] retro spot mug [SEP] retro spot sugar jam bowl [SEP] new england ceramic cake server [SEP] retro spot traditional teapot [SEP] retro spot large milk jug [SEP]\n",
            "['[CLS]', 'hand', 'open', 'shape', 'gold', '[SEP]', 'retro', 'spot', 'mug', '[SEP]', 'retro', 'spot', 'sugar', 'jam', 'bowl', '[SEP]', 'new', 'england', 'ceramic', 'cake', 'server', '[SEP]', 'retro', 'spot', 'traditional', 'tea', '##pot', '[SEP]', 'retro', 'spot', 'large', 'milk', 'jug', '[SEP]']\n"
          ],
          "name": "stdout"
        },
        {
          "output_type": "execute_result",
          "data": {
            "text/plain": [
              "7557"
            ]
          },
          "metadata": {
            "tags": []
          },
          "execution_count": 28
        }
      ]
    },
    {
      "cell_type": "code",
      "metadata": {
        "id": "H6RZ--3daYNE"
      },
      "source": [
        "def SPACEtokenizer(sentences):\n",
        "    tokenized_texts2 = [sent.split(' ') for sent in sentences]\n",
        "    return tokenized_texts2"
      ],
      "execution_count": null,
      "outputs": []
    },
    {
      "cell_type": "code",
      "metadata": {
        "colab": {
          "base_uri": "https://localhost:8080/"
        },
        "id": "fd_r3If3B8j6",
        "outputId": "c6883ff4-59f3-44c3-bd63-a5e44584d1df"
      },
      "source": [
        "tokenized_texts2 = SPACEtokenizer(sentences)\n",
        "print(tokenized_texts2[0])\n",
        "len(tokenized_texts2)"
      ],
      "execution_count": null,
      "outputs": [
        {
          "output_type": "stream",
          "text": [
            "['[CLS]', 'hand', 'open', 'shape', 'gold', '[SEP]', 'retro', 'spot', 'mug', '[SEP]', 'retro', 'spot', 'sugar', 'jam', 'bowl', '[SEP]', 'new', 'england', 'ceramic', 'cake', 'server', '[SEP]', 'retro', 'spot', 'traditional', 'teapot', '[SEP]', 'retro', 'spot', 'large', 'milk', 'jug', '[SEP]']\n"
          ],
          "name": "stdout"
        },
        {
          "output_type": "execute_result",
          "data": {
            "text/plain": [
              "7557"
            ]
          },
          "metadata": {
            "tags": []
          },
          "execution_count": 30
        }
      ]
    },
    {
      "cell_type": "code",
      "metadata": {
        "colab": {
          "base_uri": "https://localhost:8080/",
          "height": 419
        },
        "id": "RfkcLTbAPC8C",
        "outputId": "654853b6-a3c5-4f55-c153-6e7b5d54d070"
      },
      "source": [
        "tokenized_df = token_df.copy()\n",
        "tokenized_df['Detail'] = tokenized_texts\n",
        "# print(len(tokenized_df))\n",
        "tokenized_df"
      ],
      "execution_count": null,
      "outputs": [
        {
          "output_type": "execute_result",
          "data": {
            "text/html": [
              "<div>\n",
              "<style scoped>\n",
              "    .dataframe tbody tr th:only-of-type {\n",
              "        vertical-align: middle;\n",
              "    }\n",
              "\n",
              "    .dataframe tbody tr th {\n",
              "        vertical-align: top;\n",
              "    }\n",
              "\n",
              "    .dataframe thead th {\n",
              "        text-align: right;\n",
              "    }\n",
              "</style>\n",
              "<table border=\"1\" class=\"dataframe\">\n",
              "  <thead>\n",
              "    <tr style=\"text-align: right;\">\n",
              "      <th></th>\n",
              "      <th>Customer</th>\n",
              "      <th>Invoice</th>\n",
              "      <th>Detail</th>\n",
              "    </tr>\n",
              "  </thead>\n",
              "  <tbody>\n",
              "    <tr>\n",
              "      <th>0</th>\n",
              "      <td>34590.0</td>\n",
              "      <td>243414</td>\n",
              "      <td>[[CLS], hand, open, shape, gold, [SEP], retro,...</td>\n",
              "    </tr>\n",
              "    <tr>\n",
              "      <th>1</th>\n",
              "      <td>33287.0</td>\n",
              "      <td>243427</td>\n",
              "      <td>[[CLS], moroccan, tea, glass, [SEP], black, fl...</td>\n",
              "    </tr>\n",
              "    <tr>\n",
              "      <th>2</th>\n",
              "      <td>36550.0</td>\n",
              "      <td>243428</td>\n",
              "      <td>[[CLS], lunch, ##box, with, cutler, ##y, fairy...</td>\n",
              "    </tr>\n",
              "    <tr>\n",
              "      <th>3</th>\n",
              "      <td>34680.0</td>\n",
              "      <td>243432</td>\n",
              "      <td>[[CLS], red, wool, ##ly, hot, ##tie, white, he...</td>\n",
              "    </tr>\n",
              "    <tr>\n",
              "      <th>4</th>\n",
              "      <td>34709.0</td>\n",
              "      <td>243433</td>\n",
              "      <td>[[CLS], strawberry, ceramic, tri, ##nk, ##et, ...</td>\n",
              "    </tr>\n",
              "    <tr>\n",
              "      <th>...</th>\n",
              "      <td>...</td>\n",
              "      <td>...</td>\n",
              "      <td>...</td>\n",
              "    </tr>\n",
              "    <tr>\n",
              "      <th>7552</th>\n",
              "      <td>33649.0</td>\n",
              "      <td>264208</td>\n",
              "      <td>[[CLS], ass, ##orted, colour, bird, or, ##name...</td>\n",
              "    </tr>\n",
              "    <tr>\n",
              "      <th>7553</th>\n",
              "      <td>38215.0</td>\n",
              "      <td>264209</td>\n",
              "      <td>[[CLS], pack, of, 60, pink, paisley, cake, cas...</td>\n",
              "    </tr>\n",
              "    <tr>\n",
              "      <th>7554</th>\n",
              "      <td>38231.0</td>\n",
              "      <td>264210</td>\n",
              "      <td>[[CLS], glass, jar, digest, ##ive, biscuits, [...</td>\n",
              "    </tr>\n",
              "    <tr>\n",
              "      <th>7555</th>\n",
              "      <td>33589.0</td>\n",
              "      <td>264211</td>\n",
              "      <td>[[CLS], picnic, basket, wi, ##cker, small, [SE...</td>\n",
              "    </tr>\n",
              "    <tr>\n",
              "      <th>7556</th>\n",
              "      <td>34882.0</td>\n",
              "      <td>264212</td>\n",
              "      <td>[[CLS], union, stripe, with, fringe, ham, ##mo...</td>\n",
              "    </tr>\n",
              "  </tbody>\n",
              "</table>\n",
              "<p>7557 rows × 3 columns</p>\n",
              "</div>"
            ],
            "text/plain": [
              "      Customer Invoice                                             Detail\n",
              "0      34590.0  243414  [[CLS], hand, open, shape, gold, [SEP], retro,...\n",
              "1      33287.0  243427  [[CLS], moroccan, tea, glass, [SEP], black, fl...\n",
              "2      36550.0  243428  [[CLS], lunch, ##box, with, cutler, ##y, fairy...\n",
              "3      34680.0  243432  [[CLS], red, wool, ##ly, hot, ##tie, white, he...\n",
              "4      34709.0  243433  [[CLS], strawberry, ceramic, tri, ##nk, ##et, ...\n",
              "...        ...     ...                                                ...\n",
              "7552   33649.0  264208  [[CLS], ass, ##orted, colour, bird, or, ##name...\n",
              "7553   38215.0  264209  [[CLS], pack, of, 60, pink, paisley, cake, cas...\n",
              "7554   38231.0  264210  [[CLS], glass, jar, digest, ##ive, biscuits, [...\n",
              "7555   33589.0  264211  [[CLS], picnic, basket, wi, ##cker, small, [SE...\n",
              "7556   34882.0  264212  [[CLS], union, stripe, with, fringe, ham, ##mo...\n",
              "\n",
              "[7557 rows x 3 columns]"
            ]
          },
          "metadata": {
            "tags": []
          },
          "execution_count": 31
        }
      ]
    },
    {
      "cell_type": "code",
      "metadata": {
        "colab": {
          "base_uri": "https://localhost:8080/",
          "height": 204
        },
        "id": "kxJPZvu3Is1C",
        "outputId": "4a7921cf-ab31-4adf-a724-9f469a1edf1e"
      },
      "source": [
        "tokenized_df['Detail'] = tokenized_df['Detail'].apply(lambda x: ','.join(map(str, x)))\n",
        "tokenized_df.head()"
      ],
      "execution_count": null,
      "outputs": [
        {
          "output_type": "execute_result",
          "data": {
            "text/html": [
              "<div>\n",
              "<style scoped>\n",
              "    .dataframe tbody tr th:only-of-type {\n",
              "        vertical-align: middle;\n",
              "    }\n",
              "\n",
              "    .dataframe tbody tr th {\n",
              "        vertical-align: top;\n",
              "    }\n",
              "\n",
              "    .dataframe thead th {\n",
              "        text-align: right;\n",
              "    }\n",
              "</style>\n",
              "<table border=\"1\" class=\"dataframe\">\n",
              "  <thead>\n",
              "    <tr style=\"text-align: right;\">\n",
              "      <th></th>\n",
              "      <th>Customer</th>\n",
              "      <th>Invoice</th>\n",
              "      <th>Detail</th>\n",
              "    </tr>\n",
              "  </thead>\n",
              "  <tbody>\n",
              "    <tr>\n",
              "      <th>0</th>\n",
              "      <td>34590.0</td>\n",
              "      <td>243414</td>\n",
              "      <td>[CLS],hand,open,shape,gold,[SEP],retro,spot,mu...</td>\n",
              "    </tr>\n",
              "    <tr>\n",
              "      <th>1</th>\n",
              "      <td>33287.0</td>\n",
              "      <td>243427</td>\n",
              "      <td>[CLS],moroccan,tea,glass,[SEP],black,flower,ca...</td>\n",
              "    </tr>\n",
              "    <tr>\n",
              "      <th>2</th>\n",
              "      <td>36550.0</td>\n",
              "      <td>243428</td>\n",
              "      <td>[CLS],lunch,##box,with,cutler,##y,fairy,cakes,...</td>\n",
              "    </tr>\n",
              "    <tr>\n",
              "      <th>3</th>\n",
              "      <td>34680.0</td>\n",
              "      <td>243432</td>\n",
              "      <td>[CLS],red,wool,##ly,hot,##tie,white,heart,.,[S...</td>\n",
              "    </tr>\n",
              "    <tr>\n",
              "      <th>4</th>\n",
              "      <td>34709.0</td>\n",
              "      <td>243433</td>\n",
              "      <td>[CLS],strawberry,ceramic,tri,##nk,##et,box,[SE...</td>\n",
              "    </tr>\n",
              "  </tbody>\n",
              "</table>\n",
              "</div>"
            ],
            "text/plain": [
              "   Customer Invoice                                             Detail\n",
              "0   34590.0  243414  [CLS],hand,open,shape,gold,[SEP],retro,spot,mu...\n",
              "1   33287.0  243427  [CLS],moroccan,tea,glass,[SEP],black,flower,ca...\n",
              "2   36550.0  243428  [CLS],lunch,##box,with,cutler,##y,fairy,cakes,...\n",
              "3   34680.0  243432  [CLS],red,wool,##ly,hot,##tie,white,heart,.,[S...\n",
              "4   34709.0  243433  [CLS],strawberry,ceramic,tri,##nk,##et,box,[SE..."
            ]
          },
          "metadata": {
            "tags": []
          },
          "execution_count": 32
        }
      ]
    },
    {
      "cell_type": "code",
      "metadata": {
        "colab": {
          "base_uri": "https://localhost:8080/",
          "height": 419
        },
        "id": "0r7c7et167PC",
        "outputId": "4add487b-7c73-4c15-e87a-d5fdf3e63895"
      },
      "source": [
        "tokenized_df2 = token_df.copy()\n",
        "tokenized_df2['Detail'] = tokenized_texts2\n",
        "# print(len(tokenized_df2))\n",
        "tokenized_df2"
      ],
      "execution_count": null,
      "outputs": [
        {
          "output_type": "execute_result",
          "data": {
            "text/html": [
              "<div>\n",
              "<style scoped>\n",
              "    .dataframe tbody tr th:only-of-type {\n",
              "        vertical-align: middle;\n",
              "    }\n",
              "\n",
              "    .dataframe tbody tr th {\n",
              "        vertical-align: top;\n",
              "    }\n",
              "\n",
              "    .dataframe thead th {\n",
              "        text-align: right;\n",
              "    }\n",
              "</style>\n",
              "<table border=\"1\" class=\"dataframe\">\n",
              "  <thead>\n",
              "    <tr style=\"text-align: right;\">\n",
              "      <th></th>\n",
              "      <th>Customer</th>\n",
              "      <th>Invoice</th>\n",
              "      <th>Detail</th>\n",
              "    </tr>\n",
              "  </thead>\n",
              "  <tbody>\n",
              "    <tr>\n",
              "      <th>0</th>\n",
              "      <td>34590.0</td>\n",
              "      <td>243414</td>\n",
              "      <td>[[CLS], hand, open, shape, gold, [SEP], retro,...</td>\n",
              "    </tr>\n",
              "    <tr>\n",
              "      <th>1</th>\n",
              "      <td>33287.0</td>\n",
              "      <td>243427</td>\n",
              "      <td>[[CLS], moroccan, tea, glass, [SEP], black, fl...</td>\n",
              "    </tr>\n",
              "    <tr>\n",
              "      <th>2</th>\n",
              "      <td>36550.0</td>\n",
              "      <td>243428</td>\n",
              "      <td>[[CLS], lunchbox, with, cutlery, fairy, cakes,...</td>\n",
              "    </tr>\n",
              "    <tr>\n",
              "      <th>3</th>\n",
              "      <td>34680.0</td>\n",
              "      <td>243432</td>\n",
              "      <td>[[CLS], red, woolly, hottie, white, heart., [S...</td>\n",
              "    </tr>\n",
              "    <tr>\n",
              "      <th>4</th>\n",
              "      <td>34709.0</td>\n",
              "      <td>243433</td>\n",
              "      <td>[[CLS], strawberry, ceramic, trinket, box, [SE...</td>\n",
              "    </tr>\n",
              "    <tr>\n",
              "      <th>...</th>\n",
              "      <td>...</td>\n",
              "      <td>...</td>\n",
              "      <td>...</td>\n",
              "    </tr>\n",
              "    <tr>\n",
              "      <th>7552</th>\n",
              "      <td>33649.0</td>\n",
              "      <td>264208</td>\n",
              "      <td>[[CLS], assorted, colour, bird, ornament, [SEP...</td>\n",
              "    </tr>\n",
              "    <tr>\n",
              "      <th>7553</th>\n",
              "      <td>38215.0</td>\n",
              "      <td>264209</td>\n",
              "      <td>[[CLS], pack, of, 60, pink, paisley, cake, cas...</td>\n",
              "    </tr>\n",
              "    <tr>\n",
              "      <th>7554</th>\n",
              "      <td>38231.0</td>\n",
              "      <td>264210</td>\n",
              "      <td>[[CLS], glass, jar, digestive, biscuits, [SEP]...</td>\n",
              "    </tr>\n",
              "    <tr>\n",
              "      <th>7555</th>\n",
              "      <td>33589.0</td>\n",
              "      <td>264211</td>\n",
              "      <td>[[CLS], picnic, basket, wicker, small, [SEP], ...</td>\n",
              "    </tr>\n",
              "    <tr>\n",
              "      <th>7556</th>\n",
              "      <td>34882.0</td>\n",
              "      <td>264212</td>\n",
              "      <td>[[CLS], union, stripe, with, fringe, , hammock...</td>\n",
              "    </tr>\n",
              "  </tbody>\n",
              "</table>\n",
              "<p>7557 rows × 3 columns</p>\n",
              "</div>"
            ],
            "text/plain": [
              "      Customer Invoice                                             Detail\n",
              "0      34590.0  243414  [[CLS], hand, open, shape, gold, [SEP], retro,...\n",
              "1      33287.0  243427  [[CLS], moroccan, tea, glass, [SEP], black, fl...\n",
              "2      36550.0  243428  [[CLS], lunchbox, with, cutlery, fairy, cakes,...\n",
              "3      34680.0  243432  [[CLS], red, woolly, hottie, white, heart., [S...\n",
              "4      34709.0  243433  [[CLS], strawberry, ceramic, trinket, box, [SE...\n",
              "...        ...     ...                                                ...\n",
              "7552   33649.0  264208  [[CLS], assorted, colour, bird, ornament, [SEP...\n",
              "7553   38215.0  264209  [[CLS], pack, of, 60, pink, paisley, cake, cas...\n",
              "7554   38231.0  264210  [[CLS], glass, jar, digestive, biscuits, [SEP]...\n",
              "7555   33589.0  264211  [[CLS], picnic, basket, wicker, small, [SEP], ...\n",
              "7556   34882.0  264212  [[CLS], union, stripe, with, fringe, , hammock...\n",
              "\n",
              "[7557 rows x 3 columns]"
            ]
          },
          "metadata": {
            "tags": []
          },
          "execution_count": 33
        }
      ]
    },
    {
      "cell_type": "code",
      "metadata": {
        "colab": {
          "base_uri": "https://localhost:8080/",
          "height": 204
        },
        "id": "gEnKwnUwK8aJ",
        "outputId": "cdf2f378-2cd2-47b9-ff1a-446f73ec8fd5"
      },
      "source": [
        "tokenized_df2['Detail'] = tokenized_df2['Detail'].apply(lambda x: ','.join(map(str, x)))\n",
        "tokenized_df2.head()"
      ],
      "execution_count": null,
      "outputs": [
        {
          "output_type": "execute_result",
          "data": {
            "text/html": [
              "<div>\n",
              "<style scoped>\n",
              "    .dataframe tbody tr th:only-of-type {\n",
              "        vertical-align: middle;\n",
              "    }\n",
              "\n",
              "    .dataframe tbody tr th {\n",
              "        vertical-align: top;\n",
              "    }\n",
              "\n",
              "    .dataframe thead th {\n",
              "        text-align: right;\n",
              "    }\n",
              "</style>\n",
              "<table border=\"1\" class=\"dataframe\">\n",
              "  <thead>\n",
              "    <tr style=\"text-align: right;\">\n",
              "      <th></th>\n",
              "      <th>Customer</th>\n",
              "      <th>Invoice</th>\n",
              "      <th>Detail</th>\n",
              "    </tr>\n",
              "  </thead>\n",
              "  <tbody>\n",
              "    <tr>\n",
              "      <th>0</th>\n",
              "      <td>34590.0</td>\n",
              "      <td>243414</td>\n",
              "      <td>[CLS],hand,open,shape,gold,[SEP],retro,spot,mu...</td>\n",
              "    </tr>\n",
              "    <tr>\n",
              "      <th>1</th>\n",
              "      <td>33287.0</td>\n",
              "      <td>243427</td>\n",
              "      <td>[CLS],moroccan,tea,glass,[SEP],black,flower,ca...</td>\n",
              "    </tr>\n",
              "    <tr>\n",
              "      <th>2</th>\n",
              "      <td>36550.0</td>\n",
              "      <td>243428</td>\n",
              "      <td>[CLS],lunchbox,with,cutlery,fairy,cakes,[SEP],...</td>\n",
              "    </tr>\n",
              "    <tr>\n",
              "      <th>3</th>\n",
              "      <td>34680.0</td>\n",
              "      <td>243432</td>\n",
              "      <td>[CLS],red,woolly,hottie,white,heart.,[SEP],cer...</td>\n",
              "    </tr>\n",
              "    <tr>\n",
              "      <th>4</th>\n",
              "      <td>34709.0</td>\n",
              "      <td>243433</td>\n",
              "      <td>[CLS],strawberry,ceramic,trinket,box,[SEP],jum...</td>\n",
              "    </tr>\n",
              "  </tbody>\n",
              "</table>\n",
              "</div>"
            ],
            "text/plain": [
              "   Customer Invoice                                             Detail\n",
              "0   34590.0  243414  [CLS],hand,open,shape,gold,[SEP],retro,spot,mu...\n",
              "1   33287.0  243427  [CLS],moroccan,tea,glass,[SEP],black,flower,ca...\n",
              "2   36550.0  243428  [CLS],lunchbox,with,cutlery,fairy,cakes,[SEP],...\n",
              "3   34680.0  243432  [CLS],red,woolly,hottie,white,heart.,[SEP],cer...\n",
              "4   34709.0  243433  [CLS],strawberry,ceramic,trinket,box,[SEP],jum..."
            ]
          },
          "metadata": {
            "tags": []
          },
          "execution_count": 34
        }
      ]
    },
    {
      "cell_type": "code",
      "metadata": {
        "colab": {
          "base_uri": "https://localhost:8080/"
        },
        "id": "vL63phs6DhVY",
        "outputId": "8f9e7564-8c0e-4a4b-a100-b3e19e561833"
      },
      "source": [
        "Customer = df3['Customer'].unique()\n",
        "len(Customer)"
      ],
      "execution_count": null,
      "outputs": [
        {
          "output_type": "execute_result",
          "data": {
            "text/plain": [
              "2732"
            ]
          },
          "metadata": {
            "tags": []
          },
          "execution_count": 35
        }
      ]
    },
    {
      "cell_type": "code",
      "metadata": {
        "id": "Vz9JTZAiC7NW"
      },
      "source": [
        "MAX_LEN = 512"
      ],
      "execution_count": null,
      "outputs": []
    },
    {
      "cell_type": "code",
      "metadata": {
        "colab": {
          "base_uri": "https://localhost:8080/"
        },
        "id": "2uBNxmSfDDaU",
        "outputId": "cd08d0bd-b5a8-4aec-b592-0438a6ef6eb1"
      },
      "source": [
        "overlen = []\n",
        "tokenized_texts_copy = tokenized_texts.copy()\n",
        "for i in range(len(tokenized_texts_copy)):\n",
        "    if len(tokenized_texts_copy[i]) > MAX_LEN:\n",
        "        overlen.append(tokenized_texts_copy[i])\n",
        "        while 1:\n",
        "            id = tokenized_texts_copy[i].index('[SEP]')\n",
        "            tokenized_texts_copy[i] = tokenized_texts_copy[i][id:]\n",
        "            tokenized_texts_copy[i][0] = '[CLS]'\n",
        "            if len(tokenized_texts_copy[i]) <= MAX_LEN:\n",
        "                break\n",
        "tok = []\n",
        "for i in range(len(tokenized_texts_copy)):\n",
        "    if len(tokenized_texts_copy[i]) > MAX_LEN:\n",
        "        tok.append(len(tokenized_texts_copy[i]))\n",
        "# print(max(tok))\n",
        "print(len(tok))\n",
        "print(len(tokenized_texts_copy))\n",
        "print(len(overlen[0]))\n",
        "print(len(overlen))\n",
        "print(overlen[0])"
      ],
      "execution_count": null,
      "outputs": [
        {
          "output_type": "stream",
          "text": [
            "0\n",
            "7557\n",
            "694\n",
            "185\n",
            "['[CLS]', 'set', 'of', '36', 'dinosaur', 'paper', 'doi', '##lies', '[SEP]', 'candy', 'heart', 'hanging', 'decoration', '[SEP]', 'lavender', 'scented', 'set', '/', '9', 't', '-', 'lights', '[SEP]', 'white', 'hanging', 'heart', 't', '-', 'light', 'holder', '[SEP]', '72', 'sweetheart', 'fairy', 'cake', 'cases', '[SEP]', 'red', 'wool', '##ly', 'hot', '##tie', 'white', 'heart', '.', '[SEP]', 'red', 'hanging', 'heart', 't', '-', 'light', 'holder', '[SEP]', 'food', 'container', 'set', '3', 'love', 'heart', '[SEP]', 'ladies', '&', 'gentlemen', 'metal', 'sign', '[SEP]', 'ci', '##nam', '##mon', 'set', 'of', '9', 't', '-', 'lights', '[SEP]', 'please', 'one', 'person', 'metal', 'sign', '[SEP]', 'red', 'spot', 'heart', 'hot', 'water', 'bottle', '[SEP]', 'small', 'glass', 'heart', 'tri', '##nk', '##et', 'pot', '[SEP]', 'mushroom', 'blue', 'hot', 'water', 'bottle', '[SEP]', 'pack', '20', 'dolly', 'peg', '##s', '[SEP]', 'jungle', 'pops', '##icles', 'ice', 'lo', '##lly', 'holders', '[SEP]', 'poly', '##ester', 'fill', '##er', 'pad', '30', '##cm', '##x', '##30', '##cm', '[SEP]', 'set', 'of', '72', 'pink', 'heart', 'paper', 'doi', '##lies', '[SEP]', 'pink', 'hearts', 'paper', 'garland', '[SEP]', 'white', 'dove', 'honey', '##comb', 'paper', 'garland', '[SEP]', 'love', 'heart', 'sock', 'hang', '##er', '[SEP]', 'wood', 'stamp', 'set', 'best', 'wishes', '[SEP]', 'romantic', 'images', 'gift', 'wrap', 'set', '[SEP]', 'wood', 'stamp', 'set', 'thank', 'you', '[SEP]', 'folk', '##art', 'zinc', 'clip', 'on', 'angel', 'wings', '[SEP]', 'pink', 'love', 'heart', 'shape', 'cup', '[SEP]', 'ea', '##u', 'de', 'nile', 'heart', 'shape', 'photo', 'frame', '[SEP]', 'dinosaur', 'key', '##ring', '##s', 'ass', '##orted', '[SEP]', 'ass', '##orted', 'creepy', 'crawl', '##ies', '[SEP]', 'hearts', 'pencil', '/', 'rubber', '+', '5', 'mini', 'pencil', '##s', '[SEP]', 'pink', 'flower', 'hanging', 'heart', '[SEP]', 'red', 'victorian', 'fabric', 'heart', 'box', '[SEP]', 'blue', 'victorian', 'fabric', 'heart', 'box', '[SEP]', 'pack', 'of', '12', 'hearts', 'design', 'tissues', '[SEP]', 'lad', '##le', 'love', 'heart', 'pink', '[SEP]', 'lad', '##le', 'love', 'heart', 'red', '[SEP]', 'ribbon', 'reel', 'hearts', 'design', '[SEP]', 'feather', 'pen', ',', 'hot', 'pink', '[SEP]', 'zinc', 'metal', 'heart', 'decoration', '[SEP]', 'set', '/', '12', 'funky', 'felt', 'flower', 'peg', 'in', 'bag', '[SEP]', 'grand', 'chocolate', '##can', '##dle', '[SEP]', 'fairy', 'cake', 'fl', '##anne', '##l', 'ass', '##orted', 'colour', '[SEP]', 'pink', 'heart', 'shape', 'egg', 'fry', '##ing', 'pan', '[SEP]', 'zinc', 'willie', 'wink', '##ie', 'candle', 'stick', '[SEP]', 'small', 'heart', 'measuring', 'spoon', '##s', '[SEP]', 'hanging', 'heart', 'jar', 't', '-', 'light', 'holder', '[SEP]', 'zinc', 'heart', 'lattice', 'double', 'plant', '##er', '[SEP]', 'red', 'love', 'heart', 'shape', 'cup', '[SEP]', 'red', 'organic', 'candle', 'in', 'glass', '[SEP]', '3d', 'hearts', 'honey', '##comb', 'paper', 'garland', '[SEP]', 'sweetheart', 'key', 'cabinet', '[SEP]', 'small', 'retro', 'spot', 'mug', 'in', 'box', 'white', '[SEP]', 'old', 'doc', '.', 'russ', '##el', 'metal', 'sign', '[SEP]', 'fanny', \"'\", 's', 'rest', 'stop', '##met', '##al', 'sign', '[SEP]', 'hot', 'baths', 'metal', 'sign', '[SEP]', 'kings', 'choice', 'tea', 'cad', '##dy', '[SEP]', 'floral', 'elephant', 'soft', 'toy', '[SEP]', 'floral', 'dinosaur', 'green', '[SEP]', 'set', '/', '3', 'russian', 'doll', 'stack', '##ing', 'tin', '##s', '[SEP]', 'blossom', 'images', 'scrap', 'book', 'set', '[SEP]', 'curious', 'images', 'scrap', 'book', 'set', '[SEP]', 'romantic', 'images', 'scrap', 'book', 'set', '[SEP]', 'more', 'butter', 'metal', 'sign', '[SEP]', 'pink', '/', 'brown', 'dots', 'ru', '##ffled', 'umbrella', '[SEP]', 'edward', '##ian', 'para', '##sol', 'black', '[SEP]', 'ceramic', 'bird', '##house', 'butterfly', 'large', '[SEP]', 'ceramic', 'bird', '##house', 'red', 'roof', 'large', '[SEP]', 'ceramic', 'bird', '##house', 'red', 'roof', 'large', '[SEP]', 'ceramic', 'bird', '##house', 'black', 'rose', 'large', '[SEP]', 's', '/', '16', 'vintage', 'red', 'cutler', '##y', '[SEP]', 'blue', 'diner', 'wall', 'clock', '[SEP]', 'red', 'diner', 'wall', 'clock', '[SEP]', 's', '/', '2', 'zinc', 'heart', 'design', 'plant', '##ers', '[SEP]', 'pink', 'heart', 'red', 'hand', '##bag', '[SEP]', 'edward', '##ian', 'para', '##sol', 'red', '[SEP]', 'pink', 'jumper', 'larry', 'the', 'lamb', '[SEP]', 'elephant', 'toy', 'with', 'blue', 't', '-', 'shirt', '[SEP]', 'toxic', 'area', 'door', 'hang', '##er', '[SEP]', 'basket', '/', '8', 'scented', 'love', 'token', 'candles', '[SEP]', 'english', 'rose', 'scented', 'hanging', 'heart', '[SEP]', 'fry', '##ing', 'pan', 'union', 'flag', '[SEP]', 'pink', 'b', \"'\", 'fly', 'c', '/', 'cover', 'w', 'bob', '##bles', '[SEP]', 'empire', 'tissue', 'box', '[SEP]', 'door', 'hang', '##er', 'mum', '+', 'dad', '##s', 'room', '[SEP]', 'white', 'travel', 'alarm', 'clock', '[SEP]', 'ceramic', 'bird', '##house', 'red', 'roof', 'small', '[SEP]', 'paper', 'chain', 'kit', 'empire', '[SEP]', 'bingo', 'set', '[SEP]', 'gin', '##gh', '##am', 'heart', 'doors', '##top', 'red', '[SEP]', 'feather', 'dust', '##er', ',', 'coal', 'black', '[SEP]', 'recipe', 'box', 'with', 'metal', 'heart', '[SEP]', 'set', '12', 'retro', 'white', 'chalk', 'sticks', '[SEP]', 'feather', 'dust', '##er', ',', 'coal', 'black', '[SEP]', 'set', '/', '10', 'blue', 'spot', '##ty', 'party', 'candles', '[SEP]', 'set', '/', '10', 'ivory', 'spot', '##ty', 'party', 'candles', '[SEP]', 'set', '/', '10', 'pink', 'spot', '##ty', 'party', 'candles', '[SEP]', 'keep', 'out', 'boys', 'door', 'hang', '##er', '[SEP]', 'set', '/', '10', 'red', 'spot', '##ty', 'party', 'candles', '[SEP]', 'set', '6', 'football', 'celebration', 'candles', '[SEP]', 'moody', 'boy', 'door', 'hang', '##er', '[SEP]', 'milk', 'bottle', 'with', 'glass', 'stop', '##per', '[SEP]']\n"
          ],
          "name": "stdout"
        }
      ]
    },
    {
      "cell_type": "code",
      "metadata": {
        "colab": {
          "base_uri": "https://localhost:8080/"
        },
        "id": "xERAXvU-Eqxi",
        "outputId": "2b2e990f-2822-4412-b920-f3fdb6683b79"
      },
      "source": [
        "overlen2 = []\n",
        "tokenized_texts_copy2 = tokenized_texts2.copy()\n",
        "for i in range(len(tokenized_texts_copy2)):\n",
        "    if len(tokenized_texts_copy2[i]) > MAX_LEN:\n",
        "        overlen2.append(tokenized_texts_copy2[i])\n",
        "        while 1:\n",
        "            id = tokenized_texts_copy2[i].index('[SEP]')\n",
        "            tokenized_texts_copy2[i] = tokenized_texts_copy2[i][id:]\n",
        "            tokenized_texts_copy2[i][0] = '[CLS]'\n",
        "            if len(tokenized_texts_copy2[i]) <= MAX_LEN:\n",
        "                break\n",
        "tok = []\n",
        "for i in range(len(tokenized_texts_copy2)):\n",
        "    if len(tokenized_texts_copy2[i]) > MAX_LEN:\n",
        "        tok.append(len(tokenized_texts_copy2[i]))\n",
        "# print(max(tok))\n",
        "print(len(tok))\n",
        "print(len(tokenized_texts_copy2))\n",
        "print(len(overlen2[0]))\n",
        "print(len(overlen2))\n",
        "print(overlen2[0])"
      ],
      "execution_count": null,
      "outputs": [
        {
          "output_type": "stream",
          "text": [
            "0\n",
            "7557\n",
            "577\n",
            "115\n",
            "['[CLS]', 'set', 'of', '36', 'dinosaur', 'paper', 'doilies', '[SEP]', 'candy', 'heart', 'hanging', 'decoration', '[SEP]', 'lavender', 'scented', 'set/9', 't-lights', '[SEP]', 'white', 'hanging', 'heart', 't-light', 'holder', '[SEP]', '72', 'sweetheart', 'fairy', 'cake', 'cases', '[SEP]', 'red', 'woolly', 'hottie', 'white', 'heart.', '[SEP]', 'red', 'hanging', 'heart', 't-light', 'holder', '[SEP]', 'food', 'container', 'set', '3', 'love', 'heart', '[SEP]', 'ladies', '&', 'gentlemen', 'metal', 'sign', '[SEP]', 'cinammon', 'set', 'of', '9', 't-lights', '[SEP]', 'please', 'one', 'person', '', 'metal', 'sign', '[SEP]', 'red', 'spot', 'heart', 'hot', 'water', 'bottle', '[SEP]', 'small', 'glass', 'heart', 'trinket', 'pot', '[SEP]', 'mushroom', 'blue', 'hot', 'water', 'bottle', '[SEP]', 'pack', '20', 'dolly', 'pegs', '[SEP]', 'jungle', 'popsicles', 'ice', 'lolly', 'holders', '[SEP]', 'polyester', 'filler', 'pad', '30cmx30cm', '[SEP]', 'set', 'of', '72', 'pink', 'heart', 'paper', 'doilies', '[SEP]', 'pink', 'hearts', 'paper', 'garland', '[SEP]', 'white', 'dove', 'honeycomb', 'paper', 'garland', '[SEP]', 'love', 'heart', 'sock', 'hanger', '[SEP]', 'wood', 'stamp', 'set', 'best', 'wishes', '[SEP]', 'romantic', 'images', 'gift', 'wrap', 'set', '[SEP]', 'wood', 'stamp', 'set', 'thank', 'you', '[SEP]', 'folkart', 'zinc', 'clip', 'on', 'angel', 'wings', '[SEP]', 'pink', 'love', 'heart', 'shape', 'cup', '[SEP]', 'eau', 'de', 'nile', 'heart', 'shape', 'photo', 'frame', '[SEP]', 'dinosaur', 'keyrings', 'assorted', '[SEP]', 'assorted', 'creepy', 'crawlies', '[SEP]', 'hearts', 'pencil/rubber+5', 'mini', 'pencils', '[SEP]', 'pink', 'flower', 'hanging', 'heart', '[SEP]', 'red', 'victorian', 'fabric', 'heart', 'box', '[SEP]', 'blue', 'victorian', 'fabric', 'heart', 'box', '[SEP]', 'pack', 'of', '12', 'hearts', 'design', 'tissues', '[SEP]', 'ladle', 'love', 'heart', 'pink', '[SEP]', 'ladle', 'love', 'heart', 'red', '[SEP]', 'ribbon', 'reel', 'hearts', 'design', '[SEP]', 'feather', 'pen,hot', 'pink', '[SEP]', 'zinc', 'metal', 'heart', 'decoration', '[SEP]', 'set/12', 'funky', 'felt', 'flower', 'peg', 'in', 'bag', '[SEP]', 'grand', 'chocolatecandle', '[SEP]', 'fairy', 'cake', 'flannel', 'assorted', 'colour', '[SEP]', 'pink', 'heart', 'shape', 'egg', 'frying', 'pan', '[SEP]', 'zinc', 'willie', 'winkie', '', 'candle', 'stick', '[SEP]', 'small', 'heart', 'measuring', 'spoons', '[SEP]', 'hanging', 'heart', 'jar', 't-light', 'holder', '[SEP]', 'zinc', 'heart', 'lattice', 'double', 'planter', '[SEP]', 'red', 'love', 'heart', 'shape', 'cup', '[SEP]', 'red', 'organic', 'candle', 'in', 'glass', '[SEP]', '3d', 'hearts', '', 'honeycomb', 'paper', 'garland', '[SEP]', 'sweetheart', 'key', 'cabinet', '[SEP]', 'small', 'retro', 'spot', 'mug', 'in', 'box', '', 'white', '[SEP]', 'old', 'doc.russel', 'metal', 'sign', '[SEP]', \"fanny's\", 'rest', 'stopmetal', 'sign', '[SEP]', 'hot', 'baths', 'metal', 'sign', '[SEP]', 'kings', 'choice', 'tea', 'caddy', '[SEP]', 'floral', 'elephant', 'soft', 'toy', '[SEP]', 'floral', 'dinosaur', 'green', '[SEP]', 'set/3', 'russian', 'doll', 'stacking', 'tins', '[SEP]', 'blossom', 'images', 'scrap', 'book', 'set', '[SEP]', 'curious', 'images', 'scrap', 'book', 'set', '[SEP]', 'romantic', 'images', 'scrap', 'book', 'set', '[SEP]', 'more', 'butter', 'metal', 'sign', '[SEP]', 'pink/brown', 'dots', 'ruffled', 'umbrella', '[SEP]', 'edwardian', 'parasol', 'black', '[SEP]', 'ceramic', 'birdhouse', 'butterfly', 'large', '[SEP]', 'ceramic', 'birdhouse', 'red', 'roof', 'large', '[SEP]', 'ceramic', 'birdhouse', 'red', 'roof', 'large', '[SEP]', 'ceramic', 'birdhouse', 'black', 'rose', '', 'large', '[SEP]', 's/16', 'vintage', 'red', 'cutlery', '[SEP]', 'blue', 'diner', 'wall', 'clock', '[SEP]', 'red', 'diner', 'wall', 'clock', '[SEP]', 's/2', 'zinc', 'heart', 'design', 'planters', '[SEP]', 'pink', 'heart', 'red', 'handbag', '[SEP]', 'edwardian', 'parasol', 'red', '[SEP]', 'pink', 'jumper', 'larry', 'the', 'lamb', '[SEP]', 'elephant', 'toy', 'with', 'blue', 't-shirt', '[SEP]', 'toxic', 'area', '', 'door', 'hanger', '[SEP]', 'basket/8', 'scented', 'love', 'token', 'candles', '[SEP]', 'english', 'rose', 'scented', 'hanging', 'heart', '[SEP]', 'frying', 'pan', 'union', 'flag', '[SEP]', 'pink', \"b'fly\", 'c/cover', 'w', 'bobbles', '[SEP]', 'empire', 'tissue', 'box', '[SEP]', 'door', 'hanger', '', 'mum', '+', 'dads', 'room', '[SEP]', 'white', 'travel', 'alarm', 'clock', '[SEP]', 'ceramic', 'birdhouse', 'red', 'roof', 'small', '[SEP]', 'paper', 'chain', 'kit', 'empire', '[SEP]', 'bingo', 'set', '[SEP]', 'gingham', 'heart', '', 'doorstop', 'red', '[SEP]', 'feather', 'duster,', 'coal', 'black', '[SEP]', 'recipe', 'box', 'with', 'metal', 'heart', '[SEP]', 'set', '12', 'retro', 'white', 'chalk', 'sticks', '[SEP]', 'feather', 'duster,', 'coal', 'black', '[SEP]', 'set/10', 'blue', 'spotty', 'party', 'candles', '[SEP]', 'set/10', 'ivory', 'spotty', 'party', 'candles', '[SEP]', 'set/10', 'pink', 'spotty', 'party', 'candles', '[SEP]', 'keep', 'out', 'boys', 'door', 'hanger', '[SEP]', 'set/10', 'red', 'spotty', 'party', 'candles', '[SEP]', 'set', '6', 'football', 'celebration', 'candles', '[SEP]', 'moody', 'boy', '', 'door', 'hanger', '[SEP]', 'milk', 'bottle', 'with', 'glass', 'stopper', '[SEP]']\n"
          ],
          "name": "stdout"
        }
      ]
    },
    {
      "cell_type": "code",
      "metadata": {
        "colab": {
          "base_uri": "https://localhost:8080/"
        },
        "id": "iYr7bUJiRmiX",
        "outputId": "bda63a8d-de53-4da7-dad2-f22d43a02f96"
      },
      "source": [
        "idx = []\n",
        "for i in range(len(overlen)):\n",
        "    idx.append(tokenized_df.index[tokenized_df['Detail'] == ','.join(v for v in overlen[i])].tolist())\n",
        "print(len(idx))\n",
        "print(idx)"
      ],
      "execution_count": null,
      "outputs": [
        {
          "output_type": "stream",
          "text": [
            "185\n",
            "[[59], [76], [83], [144], [245], [273], [309], [315], [377], [398], [456], [508], [530], [594], [603], [624], [626], [676], [707], [727], [901], [927], [928], [1010], [1044], [1095], [1096], [1177], [1242], [1428], [1431], [1440], [1461], [1519], [1526], [1579], [1627], [1643], [1679], [1725], [1790], [1886], [1934], [1975], [1992], [1999], [2083], [2144], [2147], [2151], [2175], [2217], [2292], [2310], [2324], [2337], [2340], [2470], [2542], [2553], [2620], [2658], [2852], [2887], [2933], [2969], [3001], [3079], [3138], [3155], [3163], [3221], [3270], [3274], [3291], [3323], [3442], [3605], [3617], [3716], [3762], [3780], [3834], [3871], [3910], [3931], [4052], [4073], [4080], [4085], [4193], [4203], [4404], [4430], [4478], [4577], [4596], [4677], [4706], [4785], [4792], [4832], [4937], [4962], [4976], [4990], [5023], [5047], [5058], [5061], [5063], [5169], [5172], [5199], [5229], [5404], [5414], [5415], [5423], [5434], [5479], [5480], [5528], [5564], [5612], [5703], [5728], [5733], [5746], [5843], [5852], [5923], [6006], [6020], [6051], [6053], [6097], [6106], [6115], [6126], [6162], [6173], [6189], [6210], [6282], [6283], [6293], [6300], [6383], [6384], [6410], [6426], [6478], [6496], [6534], [6620], [6621], [6669], [6711], [6747], [6774], [6796], [6797], [6826], [6860], [6892], [6904], [7016], [7065], [7073], [7089], [7091], [7097], [7107], [7143], [7216], [7303], [7321], [7331], [7386], [7467], [7468], [7479], [7484], [7544]]\n"
          ],
          "name": "stdout"
        }
      ]
    },
    {
      "cell_type": "code",
      "metadata": {
        "colab": {
          "base_uri": "https://localhost:8080/"
        },
        "id": "Eux5O16TH0IT",
        "outputId": "5aa3bc53-2180-4469-d5d8-dbae9a543b75"
      },
      "source": [
        "idx2 = []\n",
        "for i in range(len(overlen2)):\n",
        "    idx2.append(tokenized_df2.index[tokenized_df2['Detail'] == ','.join(v for v in overlen2[i])].tolist())\n",
        "print(len(idx2))\n",
        "print(idx2)"
      ],
      "execution_count": null,
      "outputs": [
        {
          "output_type": "stream",
          "text": [
            "115\n",
            "[[59], [76], [83], [144], [245], [273], [309], [315], [377], [398], [456], [508], [594], [624], [676], [707], [727], [901], [927], [1010], [1095], [1096], [1177], [1242], [1428], [1440], [1519], [1579], [1627], [1679], [1790], [1886], [1975], [1992], [2083], [2144], [2147], [2151], [2175], [2292], [2324], [2337], [2340], [2470], [2553], [2658], [2933], [2969], [3079], [3155], [3221], [3274], [3323], [3617], [3871], [3910], [3931], [4085], [4193], [4203], [4404], [4430], [4577], [4677], [4706], [4792], [4832], [4976], [4990], [5023], [5047], [5058], [5061], [5063], [5169], [5404], [5414], [5415], [5434], [5479], [5528], [5612], [5703], [5728], [5852], [6097], [6173], [6210], [6282], [6283], [6300], [6383], [6384], [6410], [6426], [6478], [6496], [6534], [6711], [6747], [6774], [6796], [6797], [6826], [6892], [7016], [7073], [7091], [7097], [7143], [7321], [7331], [7386], [7467], [7544]]\n"
          ],
          "name": "stdout"
        }
      ]
    },
    {
      "cell_type": "code",
      "metadata": {
        "colab": {
          "base_uri": "https://localhost:8080/",
          "height": 419
        },
        "id": "b7rSCYvRICJ7",
        "outputId": "2682c8ad-e523-4142-d861-6b202d00fc4a"
      },
      "source": [
        "overlen_df = pd.DataFrame(columns=df3.columns)\n",
        "df_reduced = df3.copy()\n",
        "for i, v in enumerate(idx):\n",
        "    overlen_df.loc[i] = tokenized_df.loc[v[0]]\n",
        "    df_reduced.drop(v[0], inplace=True)\n",
        "overlen_df"
      ],
      "execution_count": null,
      "outputs": [
        {
          "output_type": "execute_result",
          "data": {
            "text/html": [
              "<div>\n",
              "<style scoped>\n",
              "    .dataframe tbody tr th:only-of-type {\n",
              "        vertical-align: middle;\n",
              "    }\n",
              "\n",
              "    .dataframe tbody tr th {\n",
              "        vertical-align: top;\n",
              "    }\n",
              "\n",
              "    .dataframe thead th {\n",
              "        text-align: right;\n",
              "    }\n",
              "</style>\n",
              "<table border=\"1\" class=\"dataframe\">\n",
              "  <thead>\n",
              "    <tr style=\"text-align: right;\">\n",
              "      <th></th>\n",
              "      <th>Customer</th>\n",
              "      <th>Invoice</th>\n",
              "      <th>Detail</th>\n",
              "    </tr>\n",
              "  </thead>\n",
              "  <tbody>\n",
              "    <tr>\n",
              "      <th>0</th>\n",
              "      <td>37965.0</td>\n",
              "      <td>243759</td>\n",
              "      <td>[CLS],set,of,36,dinosaur,paper,doi,##lies,[SEP...</td>\n",
              "    </tr>\n",
              "    <tr>\n",
              "      <th>1</th>\n",
              "      <td>33081.0</td>\n",
              "      <td>243812</td>\n",
              "      <td>[CLS],s,/,4,black,dinner,candle,silver,fl,##oc...</td>\n",
              "    </tr>\n",
              "    <tr>\n",
              "      <th>2</th>\n",
              "      <td>34156.0</td>\n",
              "      <td>243819</td>\n",
              "      <td>[CLS],scandinavian,paisley,picnic,bag,[SEP],pa...</td>\n",
              "    </tr>\n",
              "    <tr>\n",
              "      <th>3</th>\n",
              "      <td>32714.0</td>\n",
              "      <td>243964</td>\n",
              "      <td>[CLS],deco,##up,##age,,,greeting,card,,,[SEP],...</td>\n",
              "    </tr>\n",
              "    <tr>\n",
              "      <th>4</th>\n",
              "      <td>34081.0</td>\n",
              "      <td>244239</td>\n",
              "      <td>[CLS],kings,choice,mug,[SEP],white,spot,blue,c...</td>\n",
              "    </tr>\n",
              "    <tr>\n",
              "      <th>...</th>\n",
              "      <td>...</td>\n",
              "      <td>...</td>\n",
              "      <td>...</td>\n",
              "    </tr>\n",
              "    <tr>\n",
              "      <th>180</th>\n",
              "      <td>34049.0</td>\n",
              "      <td>263952</td>\n",
              "      <td>[CLS],fairy,soap,soap,holder,[SEP],ceramic,hea...</td>\n",
              "    </tr>\n",
              "    <tr>\n",
              "      <th>181</th>\n",
              "      <td>34426.0</td>\n",
              "      <td>263953</td>\n",
              "      <td>[CLS],kings,choice,mug,[SEP],home,sweet,home,m...</td>\n",
              "    </tr>\n",
              "    <tr>\n",
              "      <th>182</th>\n",
              "      <td>35532.0</td>\n",
              "      <td>263972</td>\n",
              "      <td>[CLS],12,ivory,rose,peg,place,settings,[SEP],l...</td>\n",
              "    </tr>\n",
              "    <tr>\n",
              "      <th>183</th>\n",
              "      <td>32415.0</td>\n",
              "      <td>263987</td>\n",
              "      <td>[CLS],paper,bun,##ting,retro,spots,[SEP],paper...</td>\n",
              "    </tr>\n",
              "    <tr>\n",
              "      <th>184</th>\n",
              "      <td>36283.0</td>\n",
              "      <td>264163</td>\n",
              "      <td>[CLS],hen,house,decoration,[SEP],love,garland,...</td>\n",
              "    </tr>\n",
              "  </tbody>\n",
              "</table>\n",
              "<p>185 rows × 3 columns</p>\n",
              "</div>"
            ],
            "text/plain": [
              "     Customer Invoice                                             Detail\n",
              "0     37965.0  243759  [CLS],set,of,36,dinosaur,paper,doi,##lies,[SEP...\n",
              "1     33081.0  243812  [CLS],s,/,4,black,dinner,candle,silver,fl,##oc...\n",
              "2     34156.0  243819  [CLS],scandinavian,paisley,picnic,bag,[SEP],pa...\n",
              "3     32714.0  243964  [CLS],deco,##up,##age,,,greeting,card,,,[SEP],...\n",
              "4     34081.0  244239  [CLS],kings,choice,mug,[SEP],white,spot,blue,c...\n",
              "..        ...     ...                                                ...\n",
              "180   34049.0  263952  [CLS],fairy,soap,soap,holder,[SEP],ceramic,hea...\n",
              "181   34426.0  263953  [CLS],kings,choice,mug,[SEP],home,sweet,home,m...\n",
              "182   35532.0  263972  [CLS],12,ivory,rose,peg,place,settings,[SEP],l...\n",
              "183   32415.0  263987  [CLS],paper,bun,##ting,retro,spots,[SEP],paper...\n",
              "184   36283.0  264163  [CLS],hen,house,decoration,[SEP],love,garland,...\n",
              "\n",
              "[185 rows x 3 columns]"
            ]
          },
          "metadata": {
            "tags": []
          },
          "execution_count": 41
        }
      ]
    },
    {
      "cell_type": "code",
      "metadata": {
        "colab": {
          "base_uri": "https://localhost:8080/",
          "height": 419
        },
        "id": "7Y_1tXmqRchm",
        "outputId": "2019ce5d-9578-4e81-81bc-bbb661fdc538"
      },
      "source": [
        "overlen_df2 = pd.DataFrame(columns=df3.columns)\n",
        "df_reduced2 = df3.copy()\n",
        "for i, v in enumerate(idx2):\n",
        "    overlen_df2.loc[i] = tokenized_df2.loc[v[0]]\n",
        "    df_reduced2.drop(v[0], inplace=True)\n",
        "overlen_df2"
      ],
      "execution_count": null,
      "outputs": [
        {
          "output_type": "execute_result",
          "data": {
            "text/html": [
              "<div>\n",
              "<style scoped>\n",
              "    .dataframe tbody tr th:only-of-type {\n",
              "        vertical-align: middle;\n",
              "    }\n",
              "\n",
              "    .dataframe tbody tr th {\n",
              "        vertical-align: top;\n",
              "    }\n",
              "\n",
              "    .dataframe thead th {\n",
              "        text-align: right;\n",
              "    }\n",
              "</style>\n",
              "<table border=\"1\" class=\"dataframe\">\n",
              "  <thead>\n",
              "    <tr style=\"text-align: right;\">\n",
              "      <th></th>\n",
              "      <th>Customer</th>\n",
              "      <th>Invoice</th>\n",
              "      <th>Detail</th>\n",
              "    </tr>\n",
              "  </thead>\n",
              "  <tbody>\n",
              "    <tr>\n",
              "      <th>0</th>\n",
              "      <td>37965.0</td>\n",
              "      <td>243759</td>\n",
              "      <td>[CLS],set,of,36,dinosaur,paper,doilies,[SEP],c...</td>\n",
              "    </tr>\n",
              "    <tr>\n",
              "      <th>1</th>\n",
              "      <td>33081.0</td>\n",
              "      <td>243812</td>\n",
              "      <td>[CLS],s/4,black,dinner,candle,silver,floc,[SEP...</td>\n",
              "    </tr>\n",
              "    <tr>\n",
              "      <th>2</th>\n",
              "      <td>34156.0</td>\n",
              "      <td>243819</td>\n",
              "      <td>[CLS],scandinavian,paisley,picnic,bag,[SEP],pa...</td>\n",
              "    </tr>\n",
              "    <tr>\n",
              "      <th>3</th>\n",
              "      <td>32714.0</td>\n",
              "      <td>243964</td>\n",
              "      <td>[CLS],decoupage,greeting,card,,[SEP],elephant,...</td>\n",
              "    </tr>\n",
              "    <tr>\n",
              "      <th>4</th>\n",
              "      <td>34081.0</td>\n",
              "      <td>244239</td>\n",
              "      <td>[CLS],kings,choice,mug,[SEP],white,spot,blue,c...</td>\n",
              "    </tr>\n",
              "    <tr>\n",
              "      <th>...</th>\n",
              "      <td>...</td>\n",
              "      <td>...</td>\n",
              "      <td>...</td>\n",
              "    </tr>\n",
              "    <tr>\n",
              "      <th>110</th>\n",
              "      <td>35998.0</td>\n",
              "      <td>263615</td>\n",
              "      <td>[CLS],retro,spot,,cigar,box,matches,[SEP],gree...</td>\n",
              "    </tr>\n",
              "    <tr>\n",
              "      <th>111</th>\n",
              "      <td>34505.0</td>\n",
              "      <td>263625</td>\n",
              "      <td>[CLS],paper,bunting,white,lace,[SEP],suki,,sho...</td>\n",
              "    </tr>\n",
              "    <tr>\n",
              "      <th>112</th>\n",
              "      <td>32451.0</td>\n",
              "      <td>263762</td>\n",
              "      <td>[CLS],red,spotty,shopping,bag,[SEP],red,spotty...</td>\n",
              "    </tr>\n",
              "    <tr>\n",
              "      <th>113</th>\n",
              "      <td>34049.0</td>\n",
              "      <td>263952</td>\n",
              "      <td>[CLS],fairy,soap,soap,holder,[SEP],ceramic,hea...</td>\n",
              "    </tr>\n",
              "    <tr>\n",
              "      <th>114</th>\n",
              "      <td>36283.0</td>\n",
              "      <td>264163</td>\n",
              "      <td>[CLS],hen,house,decoration,[SEP],love,garland,...</td>\n",
              "    </tr>\n",
              "  </tbody>\n",
              "</table>\n",
              "<p>115 rows × 3 columns</p>\n",
              "</div>"
            ],
            "text/plain": [
              "     Customer Invoice                                             Detail\n",
              "0     37965.0  243759  [CLS],set,of,36,dinosaur,paper,doilies,[SEP],c...\n",
              "1     33081.0  243812  [CLS],s/4,black,dinner,candle,silver,floc,[SEP...\n",
              "2     34156.0  243819  [CLS],scandinavian,paisley,picnic,bag,[SEP],pa...\n",
              "3     32714.0  243964  [CLS],decoupage,greeting,card,,[SEP],elephant,...\n",
              "4     34081.0  244239  [CLS],kings,choice,mug,[SEP],white,spot,blue,c...\n",
              "..        ...     ...                                                ...\n",
              "110   35998.0  263615  [CLS],retro,spot,,cigar,box,matches,[SEP],gree...\n",
              "111   34505.0  263625  [CLS],paper,bunting,white,lace,[SEP],suki,,sho...\n",
              "112   32451.0  263762  [CLS],red,spotty,shopping,bag,[SEP],red,spotty...\n",
              "113   34049.0  263952  [CLS],fairy,soap,soap,holder,[SEP],ceramic,hea...\n",
              "114   36283.0  264163  [CLS],hen,house,decoration,[SEP],love,garland,...\n",
              "\n",
              "[115 rows x 3 columns]"
            ]
          },
          "metadata": {
            "tags": []
          },
          "execution_count": 42
        }
      ]
    },
    {
      "cell_type": "code",
      "metadata": {
        "colab": {
          "base_uri": "https://localhost:8080/",
          "height": 419
        },
        "id": "P-cSZEGqSSgm",
        "outputId": "26b066e5-5b49-4929-9b9b-db80dc60642f"
      },
      "source": [
        "df_reduced"
      ],
      "execution_count": null,
      "outputs": [
        {
          "output_type": "execute_result",
          "data": {
            "text/html": [
              "<div>\n",
              "<style scoped>\n",
              "    .dataframe tbody tr th:only-of-type {\n",
              "        vertical-align: middle;\n",
              "    }\n",
              "\n",
              "    .dataframe tbody tr th {\n",
              "        vertical-align: top;\n",
              "    }\n",
              "\n",
              "    .dataframe thead th {\n",
              "        text-align: right;\n",
              "    }\n",
              "</style>\n",
              "<table border=\"1\" class=\"dataframe\">\n",
              "  <thead>\n",
              "    <tr style=\"text-align: right;\">\n",
              "      <th></th>\n",
              "      <th>Customer</th>\n",
              "      <th>Invoice</th>\n",
              "      <th>Detail</th>\n",
              "    </tr>\n",
              "  </thead>\n",
              "  <tbody>\n",
              "    <tr>\n",
              "      <th>0</th>\n",
              "      <td>34590.0</td>\n",
              "      <td>243414</td>\n",
              "      <td>HAND OPEN SHAPE GOLD&amp;&amp;RETRO SPOT MUG&amp;&amp;RETRO SP...</td>\n",
              "    </tr>\n",
              "    <tr>\n",
              "      <th>1</th>\n",
              "      <td>33287.0</td>\n",
              "      <td>243427</td>\n",
              "      <td>MOROCCAN TEA GLASS&amp;&amp;BLACK FLOWER CANDLE PLATE&amp;...</td>\n",
              "    </tr>\n",
              "    <tr>\n",
              "      <th>2</th>\n",
              "      <td>36550.0</td>\n",
              "      <td>243428</td>\n",
              "      <td>LUNCHBOX WITH CUTLERY FAIRY CAKES&amp;&amp;STRAWBERRY ...</td>\n",
              "    </tr>\n",
              "    <tr>\n",
              "      <th>3</th>\n",
              "      <td>34680.0</td>\n",
              "      <td>243432</td>\n",
              "      <td>RED WOOLLY HOTTIE WHITE HEART.&amp;&amp;CERAMIC CAKE D...</td>\n",
              "    </tr>\n",
              "    <tr>\n",
              "      <th>4</th>\n",
              "      <td>34709.0</td>\n",
              "      <td>243433</td>\n",
              "      <td>STRAWBERRY CERAMIC TRINKET BOX&amp;&amp;JUMBO  BAG BAR...</td>\n",
              "    </tr>\n",
              "    <tr>\n",
              "      <th>...</th>\n",
              "      <td>...</td>\n",
              "      <td>...</td>\n",
              "      <td>...</td>\n",
              "    </tr>\n",
              "    <tr>\n",
              "      <th>7552</th>\n",
              "      <td>33649.0</td>\n",
              "      <td>264208</td>\n",
              "      <td>ASSORTED COLOUR BIRD ORNAMENT&amp;&amp;VICTORIAN GLASS...</td>\n",
              "    </tr>\n",
              "    <tr>\n",
              "      <th>7553</th>\n",
              "      <td>38215.0</td>\n",
              "      <td>264209</td>\n",
              "      <td>PACK OF 60 PINK PAISLEY CAKE CASES&amp;&amp;WASHROOM M...</td>\n",
              "    </tr>\n",
              "    <tr>\n",
              "      <th>7554</th>\n",
              "      <td>38231.0</td>\n",
              "      <td>264210</td>\n",
              "      <td>GLASS JAR DIGESTIVE BISCUITS&amp;&amp;BLUE STRIPE CERA...</td>\n",
              "    </tr>\n",
              "    <tr>\n",
              "      <th>7555</th>\n",
              "      <td>33589.0</td>\n",
              "      <td>264211</td>\n",
              "      <td>PICNIC BASKET WICKER SMALL&amp;&amp;NATURAL SLATE HEAR...</td>\n",
              "    </tr>\n",
              "    <tr>\n",
              "      <th>7556</th>\n",
              "      <td>34882.0</td>\n",
              "      <td>264212</td>\n",
              "      <td>UNION STRIPE WITH FRINGE  HAMMOCK&amp;&amp;RED/CREAM S...</td>\n",
              "    </tr>\n",
              "  </tbody>\n",
              "</table>\n",
              "<p>7372 rows × 3 columns</p>\n",
              "</div>"
            ],
            "text/plain": [
              "      Customer Invoice                                             Detail\n",
              "0      34590.0  243414  HAND OPEN SHAPE GOLD&&RETRO SPOT MUG&&RETRO SP...\n",
              "1      33287.0  243427  MOROCCAN TEA GLASS&&BLACK FLOWER CANDLE PLATE&...\n",
              "2      36550.0  243428  LUNCHBOX WITH CUTLERY FAIRY CAKES&&STRAWBERRY ...\n",
              "3      34680.0  243432  RED WOOLLY HOTTIE WHITE HEART.&&CERAMIC CAKE D...\n",
              "4      34709.0  243433  STRAWBERRY CERAMIC TRINKET BOX&&JUMBO  BAG BAR...\n",
              "...        ...     ...                                                ...\n",
              "7552   33649.0  264208  ASSORTED COLOUR BIRD ORNAMENT&&VICTORIAN GLASS...\n",
              "7553   38215.0  264209  PACK OF 60 PINK PAISLEY CAKE CASES&&WASHROOM M...\n",
              "7554   38231.0  264210  GLASS JAR DIGESTIVE BISCUITS&&BLUE STRIPE CERA...\n",
              "7555   33589.0  264211  PICNIC BASKET WICKER SMALL&&NATURAL SLATE HEAR...\n",
              "7556   34882.0  264212  UNION STRIPE WITH FRINGE  HAMMOCK&&RED/CREAM S...\n",
              "\n",
              "[7372 rows x 3 columns]"
            ]
          },
          "metadata": {
            "tags": []
          },
          "execution_count": 43
        }
      ]
    },
    {
      "cell_type": "code",
      "metadata": {
        "colab": {
          "base_uri": "https://localhost:8080/",
          "height": 419
        },
        "id": "ehgRFNw2ZCnJ",
        "outputId": "3d042386-ed0e-4887-a73f-87a21017d8a5"
      },
      "source": [
        "df_reduced2"
      ],
      "execution_count": null,
      "outputs": [
        {
          "output_type": "execute_result",
          "data": {
            "text/html": [
              "<div>\n",
              "<style scoped>\n",
              "    .dataframe tbody tr th:only-of-type {\n",
              "        vertical-align: middle;\n",
              "    }\n",
              "\n",
              "    .dataframe tbody tr th {\n",
              "        vertical-align: top;\n",
              "    }\n",
              "\n",
              "    .dataframe thead th {\n",
              "        text-align: right;\n",
              "    }\n",
              "</style>\n",
              "<table border=\"1\" class=\"dataframe\">\n",
              "  <thead>\n",
              "    <tr style=\"text-align: right;\">\n",
              "      <th></th>\n",
              "      <th>Customer</th>\n",
              "      <th>Invoice</th>\n",
              "      <th>Detail</th>\n",
              "    </tr>\n",
              "  </thead>\n",
              "  <tbody>\n",
              "    <tr>\n",
              "      <th>0</th>\n",
              "      <td>34590.0</td>\n",
              "      <td>243414</td>\n",
              "      <td>HAND OPEN SHAPE GOLD&amp;&amp;RETRO SPOT MUG&amp;&amp;RETRO SP...</td>\n",
              "    </tr>\n",
              "    <tr>\n",
              "      <th>1</th>\n",
              "      <td>33287.0</td>\n",
              "      <td>243427</td>\n",
              "      <td>MOROCCAN TEA GLASS&amp;&amp;BLACK FLOWER CANDLE PLATE&amp;...</td>\n",
              "    </tr>\n",
              "    <tr>\n",
              "      <th>2</th>\n",
              "      <td>36550.0</td>\n",
              "      <td>243428</td>\n",
              "      <td>LUNCHBOX WITH CUTLERY FAIRY CAKES&amp;&amp;STRAWBERRY ...</td>\n",
              "    </tr>\n",
              "    <tr>\n",
              "      <th>3</th>\n",
              "      <td>34680.0</td>\n",
              "      <td>243432</td>\n",
              "      <td>RED WOOLLY HOTTIE WHITE HEART.&amp;&amp;CERAMIC CAKE D...</td>\n",
              "    </tr>\n",
              "    <tr>\n",
              "      <th>4</th>\n",
              "      <td>34709.0</td>\n",
              "      <td>243433</td>\n",
              "      <td>STRAWBERRY CERAMIC TRINKET BOX&amp;&amp;JUMBO  BAG BAR...</td>\n",
              "    </tr>\n",
              "    <tr>\n",
              "      <th>...</th>\n",
              "      <td>...</td>\n",
              "      <td>...</td>\n",
              "      <td>...</td>\n",
              "    </tr>\n",
              "    <tr>\n",
              "      <th>7552</th>\n",
              "      <td>33649.0</td>\n",
              "      <td>264208</td>\n",
              "      <td>ASSORTED COLOUR BIRD ORNAMENT&amp;&amp;VICTORIAN GLASS...</td>\n",
              "    </tr>\n",
              "    <tr>\n",
              "      <th>7553</th>\n",
              "      <td>38215.0</td>\n",
              "      <td>264209</td>\n",
              "      <td>PACK OF 60 PINK PAISLEY CAKE CASES&amp;&amp;WASHROOM M...</td>\n",
              "    </tr>\n",
              "    <tr>\n",
              "      <th>7554</th>\n",
              "      <td>38231.0</td>\n",
              "      <td>264210</td>\n",
              "      <td>GLASS JAR DIGESTIVE BISCUITS&amp;&amp;BLUE STRIPE CERA...</td>\n",
              "    </tr>\n",
              "    <tr>\n",
              "      <th>7555</th>\n",
              "      <td>33589.0</td>\n",
              "      <td>264211</td>\n",
              "      <td>PICNIC BASKET WICKER SMALL&amp;&amp;NATURAL SLATE HEAR...</td>\n",
              "    </tr>\n",
              "    <tr>\n",
              "      <th>7556</th>\n",
              "      <td>34882.0</td>\n",
              "      <td>264212</td>\n",
              "      <td>UNION STRIPE WITH FRINGE  HAMMOCK&amp;&amp;RED/CREAM S...</td>\n",
              "    </tr>\n",
              "  </tbody>\n",
              "</table>\n",
              "<p>7442 rows × 3 columns</p>\n",
              "</div>"
            ],
            "text/plain": [
              "      Customer Invoice                                             Detail\n",
              "0      34590.0  243414  HAND OPEN SHAPE GOLD&&RETRO SPOT MUG&&RETRO SP...\n",
              "1      33287.0  243427  MOROCCAN TEA GLASS&&BLACK FLOWER CANDLE PLATE&...\n",
              "2      36550.0  243428  LUNCHBOX WITH CUTLERY FAIRY CAKES&&STRAWBERRY ...\n",
              "3      34680.0  243432  RED WOOLLY HOTTIE WHITE HEART.&&CERAMIC CAKE D...\n",
              "4      34709.0  243433  STRAWBERRY CERAMIC TRINKET BOX&&JUMBO  BAG BAR...\n",
              "...        ...     ...                                                ...\n",
              "7552   33649.0  264208  ASSORTED COLOUR BIRD ORNAMENT&&VICTORIAN GLASS...\n",
              "7553   38215.0  264209  PACK OF 60 PINK PAISLEY CAKE CASES&&WASHROOM M...\n",
              "7554   38231.0  264210  GLASS JAR DIGESTIVE BISCUITS&&BLUE STRIPE CERA...\n",
              "7555   33589.0  264211  PICNIC BASKET WICKER SMALL&&NATURAL SLATE HEAR...\n",
              "7556   34882.0  264212  UNION STRIPE WITH FRINGE  HAMMOCK&&RED/CREAM S...\n",
              "\n",
              "[7442 rows x 3 columns]"
            ]
          },
          "metadata": {
            "tags": []
          },
          "execution_count": 44
        }
      ]
    },
    {
      "cell_type": "code",
      "metadata": {
        "colab": {
          "base_uri": "https://localhost:8080/",
          "height": 419
        },
        "id": "uG8_QScPZHv2",
        "outputId": "6fbac45c-4a3e-4bf0-d5d6-9405010a3217"
      },
      "source": [
        "df_reduced = sortdf(df_reduced, ['Customer', 'Invoice'])\n",
        "df_reduced"
      ],
      "execution_count": null,
      "outputs": [
        {
          "output_type": "execute_result",
          "data": {
            "text/html": [
              "<div>\n",
              "<style scoped>\n",
              "    .dataframe tbody tr th:only-of-type {\n",
              "        vertical-align: middle;\n",
              "    }\n",
              "\n",
              "    .dataframe tbody tr th {\n",
              "        vertical-align: top;\n",
              "    }\n",
              "\n",
              "    .dataframe thead th {\n",
              "        text-align: right;\n",
              "    }\n",
              "</style>\n",
              "<table border=\"1\" class=\"dataframe\">\n",
              "  <thead>\n",
              "    <tr style=\"text-align: right;\">\n",
              "      <th></th>\n",
              "      <th>Customer</th>\n",
              "      <th>Invoice</th>\n",
              "      <th>Detail</th>\n",
              "    </tr>\n",
              "  </thead>\n",
              "  <tbody>\n",
              "    <tr>\n",
              "      <th>0</th>\n",
              "      <td>32346.0</td>\n",
              "      <td>249763</td>\n",
              "      <td>EDWARDIAN PARASOL PINK&amp;&amp;EDWARDIAN PARASOL BLAC...</td>\n",
              "    </tr>\n",
              "    <tr>\n",
              "      <th>1</th>\n",
              "      <td>32346.0</td>\n",
              "      <td>263774</td>\n",
              "      <td>DOORMAT 3 SMILEY CATS&amp;&amp;DOORMAT WELCOME SUNRISE...</td>\n",
              "    </tr>\n",
              "    <tr>\n",
              "      <th>2</th>\n",
              "      <td>32349.0</td>\n",
              "      <td>256394</td>\n",
              "      <td>SET OF 6 HEART CHOPSTICKS&amp;&amp;SPOTS MUG&amp;&amp;PINK DOU...</td>\n",
              "    </tr>\n",
              "    <tr>\n",
              "      <th>3</th>\n",
              "      <td>32355.0</td>\n",
              "      <td>259300</td>\n",
              "      <td>TOOTHPASTE TUBE PEN&amp;&amp;KIDS RAIN MAC BLUE&amp;&amp;KIDS ...</td>\n",
              "    </tr>\n",
              "    <tr>\n",
              "      <th>4</th>\n",
              "      <td>32358.0</td>\n",
              "      <td>261229</td>\n",
              "      <td>ASSORTED ICE CREAM FRIDGE MAGNETS&amp;&amp;ASSORTED SA...</td>\n",
              "    </tr>\n",
              "    <tr>\n",
              "      <th>...</th>\n",
              "      <td>...</td>\n",
              "      <td>...</td>\n",
              "      <td>...</td>\n",
              "    </tr>\n",
              "    <tr>\n",
              "      <th>7367</th>\n",
              "      <td>38283.0</td>\n",
              "      <td>248547</td>\n",
              "      <td>FUNKY MONKEY MUG&amp;&amp;PINK BLUE FELT CRAFT TRINKET...</td>\n",
              "    </tr>\n",
              "    <tr>\n",
              "      <th>7368</th>\n",
              "      <td>38283.0</td>\n",
              "      <td>249771</td>\n",
              "      <td>PACK 20 ENGLISH ROSE PAPER NAPKINS&amp;&amp;60 TEATIME...</td>\n",
              "    </tr>\n",
              "    <tr>\n",
              "      <th>7369</th>\n",
              "      <td>38283.0</td>\n",
              "      <td>252841</td>\n",
              "      <td>ASSORTED ICE CREAM FRIDGE MAGNETS&amp;&amp;BIG DOUGHNU...</td>\n",
              "    </tr>\n",
              "    <tr>\n",
              "      <th>7370</th>\n",
              "      <td>38285.0</td>\n",
              "      <td>248149</td>\n",
              "      <td>VICTORIAN GLASS HANGING T-LIGHT&amp;&amp;PAPER BUNTING...</td>\n",
              "    </tr>\n",
              "    <tr>\n",
              "      <th>7371</th>\n",
              "      <td>38287.0</td>\n",
              "      <td>258581</td>\n",
              "      <td>BUNNY DECORATION MAGIC GARDEN&amp;&amp;LIPSTICK PEN FU...</td>\n",
              "    </tr>\n",
              "  </tbody>\n",
              "</table>\n",
              "<p>7372 rows × 3 columns</p>\n",
              "</div>"
            ],
            "text/plain": [
              "      Customer Invoice                                             Detail\n",
              "0      32346.0  249763  EDWARDIAN PARASOL PINK&&EDWARDIAN PARASOL BLAC...\n",
              "1      32346.0  263774  DOORMAT 3 SMILEY CATS&&DOORMAT WELCOME SUNRISE...\n",
              "2      32349.0  256394  SET OF 6 HEART CHOPSTICKS&&SPOTS MUG&&PINK DOU...\n",
              "3      32355.0  259300  TOOTHPASTE TUBE PEN&&KIDS RAIN MAC BLUE&&KIDS ...\n",
              "4      32358.0  261229  ASSORTED ICE CREAM FRIDGE MAGNETS&&ASSORTED SA...\n",
              "...        ...     ...                                                ...\n",
              "7367   38283.0  248547  FUNKY MONKEY MUG&&PINK BLUE FELT CRAFT TRINKET...\n",
              "7368   38283.0  249771  PACK 20 ENGLISH ROSE PAPER NAPKINS&&60 TEATIME...\n",
              "7369   38283.0  252841  ASSORTED ICE CREAM FRIDGE MAGNETS&&BIG DOUGHNU...\n",
              "7370   38285.0  248149  VICTORIAN GLASS HANGING T-LIGHT&&PAPER BUNTING...\n",
              "7371   38287.0  258581  BUNNY DECORATION MAGIC GARDEN&&LIPSTICK PEN FU...\n",
              "\n",
              "[7372 rows x 3 columns]"
            ]
          },
          "metadata": {
            "tags": []
          },
          "execution_count": 45
        }
      ]
    },
    {
      "cell_type": "code",
      "metadata": {
        "colab": {
          "base_uri": "https://localhost:8080/",
          "height": 419
        },
        "id": "1sqmvt7QZjKR",
        "outputId": "229e264e-c789-4c7d-a0a3-4962e8f74162"
      },
      "source": [
        "df_reduced2 = sortdf(df_reduced2, ['Customer', 'Invoice'])\n",
        "df_reduced2"
      ],
      "execution_count": null,
      "outputs": [
        {
          "output_type": "execute_result",
          "data": {
            "text/html": [
              "<div>\n",
              "<style scoped>\n",
              "    .dataframe tbody tr th:only-of-type {\n",
              "        vertical-align: middle;\n",
              "    }\n",
              "\n",
              "    .dataframe tbody tr th {\n",
              "        vertical-align: top;\n",
              "    }\n",
              "\n",
              "    .dataframe thead th {\n",
              "        text-align: right;\n",
              "    }\n",
              "</style>\n",
              "<table border=\"1\" class=\"dataframe\">\n",
              "  <thead>\n",
              "    <tr style=\"text-align: right;\">\n",
              "      <th></th>\n",
              "      <th>Customer</th>\n",
              "      <th>Invoice</th>\n",
              "      <th>Detail</th>\n",
              "    </tr>\n",
              "  </thead>\n",
              "  <tbody>\n",
              "    <tr>\n",
              "      <th>0</th>\n",
              "      <td>32346.0</td>\n",
              "      <td>249763</td>\n",
              "      <td>EDWARDIAN PARASOL PINK&amp;&amp;EDWARDIAN PARASOL BLAC...</td>\n",
              "    </tr>\n",
              "    <tr>\n",
              "      <th>1</th>\n",
              "      <td>32346.0</td>\n",
              "      <td>263774</td>\n",
              "      <td>DOORMAT 3 SMILEY CATS&amp;&amp;DOORMAT WELCOME SUNRISE...</td>\n",
              "    </tr>\n",
              "    <tr>\n",
              "      <th>2</th>\n",
              "      <td>32349.0</td>\n",
              "      <td>256394</td>\n",
              "      <td>SET OF 6 HEART CHOPSTICKS&amp;&amp;SPOTS MUG&amp;&amp;PINK DOU...</td>\n",
              "    </tr>\n",
              "    <tr>\n",
              "      <th>3</th>\n",
              "      <td>32355.0</td>\n",
              "      <td>259300</td>\n",
              "      <td>TOOTHPASTE TUBE PEN&amp;&amp;KIDS RAIN MAC BLUE&amp;&amp;KIDS ...</td>\n",
              "    </tr>\n",
              "    <tr>\n",
              "      <th>4</th>\n",
              "      <td>32358.0</td>\n",
              "      <td>261229</td>\n",
              "      <td>ASSORTED ICE CREAM FRIDGE MAGNETS&amp;&amp;ASSORTED SA...</td>\n",
              "    </tr>\n",
              "    <tr>\n",
              "      <th>...</th>\n",
              "      <td>...</td>\n",
              "      <td>...</td>\n",
              "      <td>...</td>\n",
              "    </tr>\n",
              "    <tr>\n",
              "      <th>7437</th>\n",
              "      <td>38283.0</td>\n",
              "      <td>248547</td>\n",
              "      <td>FUNKY MONKEY MUG&amp;&amp;PINK BLUE FELT CRAFT TRINKET...</td>\n",
              "    </tr>\n",
              "    <tr>\n",
              "      <th>7438</th>\n",
              "      <td>38283.0</td>\n",
              "      <td>249771</td>\n",
              "      <td>PACK 20 ENGLISH ROSE PAPER NAPKINS&amp;&amp;60 TEATIME...</td>\n",
              "    </tr>\n",
              "    <tr>\n",
              "      <th>7439</th>\n",
              "      <td>38283.0</td>\n",
              "      <td>252841</td>\n",
              "      <td>ASSORTED ICE CREAM FRIDGE MAGNETS&amp;&amp;BIG DOUGHNU...</td>\n",
              "    </tr>\n",
              "    <tr>\n",
              "      <th>7440</th>\n",
              "      <td>38285.0</td>\n",
              "      <td>248149</td>\n",
              "      <td>VICTORIAN GLASS HANGING T-LIGHT&amp;&amp;PAPER BUNTING...</td>\n",
              "    </tr>\n",
              "    <tr>\n",
              "      <th>7441</th>\n",
              "      <td>38287.0</td>\n",
              "      <td>258581</td>\n",
              "      <td>BUNNY DECORATION MAGIC GARDEN&amp;&amp;LIPSTICK PEN FU...</td>\n",
              "    </tr>\n",
              "  </tbody>\n",
              "</table>\n",
              "<p>7442 rows × 3 columns</p>\n",
              "</div>"
            ],
            "text/plain": [
              "      Customer Invoice                                             Detail\n",
              "0      32346.0  249763  EDWARDIAN PARASOL PINK&&EDWARDIAN PARASOL BLAC...\n",
              "1      32346.0  263774  DOORMAT 3 SMILEY CATS&&DOORMAT WELCOME SUNRISE...\n",
              "2      32349.0  256394  SET OF 6 HEART CHOPSTICKS&&SPOTS MUG&&PINK DOU...\n",
              "3      32355.0  259300  TOOTHPASTE TUBE PEN&&KIDS RAIN MAC BLUE&&KIDS ...\n",
              "4      32358.0  261229  ASSORTED ICE CREAM FRIDGE MAGNETS&&ASSORTED SA...\n",
              "...        ...     ...                                                ...\n",
              "7437   38283.0  248547  FUNKY MONKEY MUG&&PINK BLUE FELT CRAFT TRINKET...\n",
              "7438   38283.0  249771  PACK 20 ENGLISH ROSE PAPER NAPKINS&&60 TEATIME...\n",
              "7439   38283.0  252841  ASSORTED ICE CREAM FRIDGE MAGNETS&&BIG DOUGHNU...\n",
              "7440   38285.0  248149  VICTORIAN GLASS HANGING T-LIGHT&&PAPER BUNTING...\n",
              "7441   38287.0  258581  BUNNY DECORATION MAGIC GARDEN&&LIPSTICK PEN FU...\n",
              "\n",
              "[7442 rows x 3 columns]"
            ]
          },
          "metadata": {
            "tags": []
          },
          "execution_count": 46
        }
      ]
    },
    {
      "cell_type": "code",
      "metadata": {
        "colab": {
          "base_uri": "https://localhost:8080/",
          "height": 419
        },
        "id": "0-QD8qIXZtdP",
        "outputId": "8d45534f-24b0-41e5-d528-465ed1057131"
      },
      "source": [
        "df_add = pd.DataFrame(columns=['Customer', 'Detail'])\n",
        "\n",
        "for i in range(len(df_reduced) - 1):\n",
        "    if df_reduced.loc[i, 'Customer'] != df_reduced.loc[i+1, 'Customer']:\n",
        "        continue\n",
        "    df_add.loc[i] = (df_reduced.loc[i, 'Customer'], df_reduced.loc[i, 'Detail'] + df_reduced.loc[i+1, 'Detail'])\n",
        "df_add"
      ],
      "execution_count": null,
      "outputs": [
        {
          "output_type": "execute_result",
          "data": {
            "text/html": [
              "<div>\n",
              "<style scoped>\n",
              "    .dataframe tbody tr th:only-of-type {\n",
              "        vertical-align: middle;\n",
              "    }\n",
              "\n",
              "    .dataframe tbody tr th {\n",
              "        vertical-align: top;\n",
              "    }\n",
              "\n",
              "    .dataframe thead th {\n",
              "        text-align: right;\n",
              "    }\n",
              "</style>\n",
              "<table border=\"1\" class=\"dataframe\">\n",
              "  <thead>\n",
              "    <tr style=\"text-align: right;\">\n",
              "      <th></th>\n",
              "      <th>Customer</th>\n",
              "      <th>Detail</th>\n",
              "    </tr>\n",
              "  </thead>\n",
              "  <tbody>\n",
              "    <tr>\n",
              "      <th>0</th>\n",
              "      <td>32346.0</td>\n",
              "      <td>EDWARDIAN PARASOL PINK&amp;&amp;EDWARDIAN PARASOL BLAC...</td>\n",
              "    </tr>\n",
              "    <tr>\n",
              "      <th>5</th>\n",
              "      <td>32359.0</td>\n",
              "      <td>TEA BAG PLATE RED SPOTTY&amp;&amp;FAIRY SOAP SOAP HOLD...</td>\n",
              "    </tr>\n",
              "    <tr>\n",
              "      <th>6</th>\n",
              "      <td>32359.0</td>\n",
              "      <td>RED GINGHAM TEDDY BEAR&amp;&amp;PIN CUSHION RUSSIAN DO...</td>\n",
              "    </tr>\n",
              "    <tr>\n",
              "      <th>8</th>\n",
              "      <td>32360.0</td>\n",
              "      <td>ASSORTED CAKES FRIDGE MAGNETS&amp;&amp;BUNNY DECORATIO...</td>\n",
              "    </tr>\n",
              "    <tr>\n",
              "      <th>10</th>\n",
              "      <td>32361.0</td>\n",
              "      <td>LUNCH BAG RED SPOTTY&amp;&amp;STRAWBERRY LUNCHBOX WITH...</td>\n",
              "    </tr>\n",
              "    <tr>\n",
              "      <th>...</th>\n",
              "      <td>...</td>\n",
              "      <td>...</td>\n",
              "    </tr>\n",
              "    <tr>\n",
              "      <th>7357</th>\n",
              "      <td>38268.0</td>\n",
              "      <td>DOOR MAT HEARTS&amp;&amp;ENAMEL PINK TEA CONTAINER&amp;&amp;EN...</td>\n",
              "    </tr>\n",
              "    <tr>\n",
              "      <th>7360</th>\n",
              "      <td>38272.0</td>\n",
              "      <td>KINGS CHOICE TEA CADDY&amp;&amp;RETRO RED SPOTTY WASHI...</td>\n",
              "    </tr>\n",
              "    <tr>\n",
              "      <th>7361</th>\n",
              "      <td>38272.0</td>\n",
              "      <td>PORCELAIN ROSE SMALL&amp;&amp;KEY FOB , GARAGE DESIGN&amp;...</td>\n",
              "    </tr>\n",
              "    <tr>\n",
              "      <th>7367</th>\n",
              "      <td>38283.0</td>\n",
              "      <td>FUNKY MONKEY MUG&amp;&amp;PINK BLUE FELT CRAFT TRINKET...</td>\n",
              "    </tr>\n",
              "    <tr>\n",
              "      <th>7368</th>\n",
              "      <td>38283.0</td>\n",
              "      <td>PACK 20 ENGLISH ROSE PAPER NAPKINS&amp;&amp;60 TEATIME...</td>\n",
              "    </tr>\n",
              "  </tbody>\n",
              "</table>\n",
              "<p>4681 rows × 2 columns</p>\n",
              "</div>"
            ],
            "text/plain": [
              "      Customer                                             Detail\n",
              "0      32346.0  EDWARDIAN PARASOL PINK&&EDWARDIAN PARASOL BLAC...\n",
              "5      32359.0  TEA BAG PLATE RED SPOTTY&&FAIRY SOAP SOAP HOLD...\n",
              "6      32359.0  RED GINGHAM TEDDY BEAR&&PIN CUSHION RUSSIAN DO...\n",
              "8      32360.0  ASSORTED CAKES FRIDGE MAGNETS&&BUNNY DECORATIO...\n",
              "10     32361.0  LUNCH BAG RED SPOTTY&&STRAWBERRY LUNCHBOX WITH...\n",
              "...        ...                                                ...\n",
              "7357   38268.0  DOOR MAT HEARTS&&ENAMEL PINK TEA CONTAINER&&EN...\n",
              "7360   38272.0  KINGS CHOICE TEA CADDY&&RETRO RED SPOTTY WASHI...\n",
              "7361   38272.0  PORCELAIN ROSE SMALL&&KEY FOB , GARAGE DESIGN&...\n",
              "7367   38283.0  FUNKY MONKEY MUG&&PINK BLUE FELT CRAFT TRINKET...\n",
              "7368   38283.0  PACK 20 ENGLISH ROSE PAPER NAPKINS&&60 TEATIME...\n",
              "\n",
              "[4681 rows x 2 columns]"
            ]
          },
          "metadata": {
            "tags": []
          },
          "execution_count": 47
        }
      ]
    },
    {
      "cell_type": "code",
      "metadata": {
        "colab": {
          "base_uri": "https://localhost:8080/",
          "height": 419
        },
        "id": "S0scm0Lwga9t",
        "outputId": "b71a2e75-0bee-434e-f54d-fa8449a320be"
      },
      "source": [
        "df_add2 = pd.DataFrame(columns=['Customer', 'Detail'])\n",
        "\n",
        "for i in range(len(df_reduced2) - 1):\n",
        "    if df_reduced2.loc[i, 'Customer'] != df_reduced2.loc[i+1, 'Customer']:\n",
        "        continue\n",
        "    df_add2.loc[i] = (df_reduced2.loc[i, 'Customer'], df_reduced2.loc[i, 'Detail'] + df_reduced2.loc[i+1, 'Detail'])\n",
        "df_add2"
      ],
      "execution_count": null,
      "outputs": [
        {
          "output_type": "execute_result",
          "data": {
            "text/html": [
              "<div>\n",
              "<style scoped>\n",
              "    .dataframe tbody tr th:only-of-type {\n",
              "        vertical-align: middle;\n",
              "    }\n",
              "\n",
              "    .dataframe tbody tr th {\n",
              "        vertical-align: top;\n",
              "    }\n",
              "\n",
              "    .dataframe thead th {\n",
              "        text-align: right;\n",
              "    }\n",
              "</style>\n",
              "<table border=\"1\" class=\"dataframe\">\n",
              "  <thead>\n",
              "    <tr style=\"text-align: right;\">\n",
              "      <th></th>\n",
              "      <th>Customer</th>\n",
              "      <th>Detail</th>\n",
              "    </tr>\n",
              "  </thead>\n",
              "  <tbody>\n",
              "    <tr>\n",
              "      <th>0</th>\n",
              "      <td>32346.0</td>\n",
              "      <td>EDWARDIAN PARASOL PINK&amp;&amp;EDWARDIAN PARASOL BLAC...</td>\n",
              "    </tr>\n",
              "    <tr>\n",
              "      <th>5</th>\n",
              "      <td>32359.0</td>\n",
              "      <td>TEA BAG PLATE RED SPOTTY&amp;&amp;FAIRY SOAP SOAP HOLD...</td>\n",
              "    </tr>\n",
              "    <tr>\n",
              "      <th>6</th>\n",
              "      <td>32359.0</td>\n",
              "      <td>RED GINGHAM TEDDY BEAR&amp;&amp;PIN CUSHION RUSSIAN DO...</td>\n",
              "    </tr>\n",
              "    <tr>\n",
              "      <th>8</th>\n",
              "      <td>32360.0</td>\n",
              "      <td>ASSORTED CAKES FRIDGE MAGNETS&amp;&amp;BUNNY DECORATIO...</td>\n",
              "    </tr>\n",
              "    <tr>\n",
              "      <th>10</th>\n",
              "      <td>32361.0</td>\n",
              "      <td>LUNCH BAG RED SPOTTY&amp;&amp;STRAWBERRY LUNCHBOX WITH...</td>\n",
              "    </tr>\n",
              "    <tr>\n",
              "      <th>...</th>\n",
              "      <td>...</td>\n",
              "      <td>...</td>\n",
              "    </tr>\n",
              "    <tr>\n",
              "      <th>7427</th>\n",
              "      <td>38268.0</td>\n",
              "      <td>DOOR MAT HEARTS&amp;&amp;ENAMEL PINK TEA CONTAINER&amp;&amp;EN...</td>\n",
              "    </tr>\n",
              "    <tr>\n",
              "      <th>7430</th>\n",
              "      <td>38272.0</td>\n",
              "      <td>KINGS CHOICE TEA CADDY&amp;&amp;RETRO RED SPOTTY WASHI...</td>\n",
              "    </tr>\n",
              "    <tr>\n",
              "      <th>7431</th>\n",
              "      <td>38272.0</td>\n",
              "      <td>PORCELAIN ROSE SMALL&amp;&amp;KEY FOB , GARAGE DESIGN&amp;...</td>\n",
              "    </tr>\n",
              "    <tr>\n",
              "      <th>7437</th>\n",
              "      <td>38283.0</td>\n",
              "      <td>FUNKY MONKEY MUG&amp;&amp;PINK BLUE FELT CRAFT TRINKET...</td>\n",
              "    </tr>\n",
              "    <tr>\n",
              "      <th>7438</th>\n",
              "      <td>38283.0</td>\n",
              "      <td>PACK 20 ENGLISH ROSE PAPER NAPKINS&amp;&amp;60 TEATIME...</td>\n",
              "    </tr>\n",
              "  </tbody>\n",
              "</table>\n",
              "<p>4734 rows × 2 columns</p>\n",
              "</div>"
            ],
            "text/plain": [
              "      Customer                                             Detail\n",
              "0      32346.0  EDWARDIAN PARASOL PINK&&EDWARDIAN PARASOL BLAC...\n",
              "5      32359.0  TEA BAG PLATE RED SPOTTY&&FAIRY SOAP SOAP HOLD...\n",
              "6      32359.0  RED GINGHAM TEDDY BEAR&&PIN CUSHION RUSSIAN DO...\n",
              "8      32360.0  ASSORTED CAKES FRIDGE MAGNETS&&BUNNY DECORATIO...\n",
              "10     32361.0  LUNCH BAG RED SPOTTY&&STRAWBERRY LUNCHBOX WITH...\n",
              "...        ...                                                ...\n",
              "7427   38268.0  DOOR MAT HEARTS&&ENAMEL PINK TEA CONTAINER&&EN...\n",
              "7430   38272.0  KINGS CHOICE TEA CADDY&&RETRO RED SPOTTY WASHI...\n",
              "7431   38272.0  PORCELAIN ROSE SMALL&&KEY FOB , GARAGE DESIGN&...\n",
              "7437   38283.0  FUNKY MONKEY MUG&&PINK BLUE FELT CRAFT TRINKET...\n",
              "7438   38283.0  PACK 20 ENGLISH ROSE PAPER NAPKINS&&60 TEATIME...\n",
              "\n",
              "[4734 rows x 2 columns]"
            ]
          },
          "metadata": {
            "tags": []
          },
          "execution_count": 48
        }
      ]
    },
    {
      "cell_type": "code",
      "metadata": {
        "colab": {
          "base_uri": "https://localhost:8080/",
          "height": 419
        },
        "id": "ubJS77LVum9d",
        "outputId": "f0b8f6d1-df74-4152-f03f-4ccb09a68fb8"
      },
      "source": [
        "data_bert = pd.concat([df3.drop('Invoice', axis=1), df_add])\n",
        "data_bert.reset_index(inplace=True)\n",
        "data_bert.pop('index')\n",
        "data_bert"
      ],
      "execution_count": null,
      "outputs": [
        {
          "output_type": "execute_result",
          "data": {
            "text/html": [
              "<div>\n",
              "<style scoped>\n",
              "    .dataframe tbody tr th:only-of-type {\n",
              "        vertical-align: middle;\n",
              "    }\n",
              "\n",
              "    .dataframe tbody tr th {\n",
              "        vertical-align: top;\n",
              "    }\n",
              "\n",
              "    .dataframe thead th {\n",
              "        text-align: right;\n",
              "    }\n",
              "</style>\n",
              "<table border=\"1\" class=\"dataframe\">\n",
              "  <thead>\n",
              "    <tr style=\"text-align: right;\">\n",
              "      <th></th>\n",
              "      <th>Customer</th>\n",
              "      <th>Detail</th>\n",
              "    </tr>\n",
              "  </thead>\n",
              "  <tbody>\n",
              "    <tr>\n",
              "      <th>0</th>\n",
              "      <td>34590.0</td>\n",
              "      <td>HAND OPEN SHAPE GOLD&amp;&amp;RETRO SPOT MUG&amp;&amp;RETRO SP...</td>\n",
              "    </tr>\n",
              "    <tr>\n",
              "      <th>1</th>\n",
              "      <td>33287.0</td>\n",
              "      <td>MOROCCAN TEA GLASS&amp;&amp;BLACK FLOWER CANDLE PLATE&amp;...</td>\n",
              "    </tr>\n",
              "    <tr>\n",
              "      <th>2</th>\n",
              "      <td>36550.0</td>\n",
              "      <td>LUNCHBOX WITH CUTLERY FAIRY CAKES&amp;&amp;STRAWBERRY ...</td>\n",
              "    </tr>\n",
              "    <tr>\n",
              "      <th>3</th>\n",
              "      <td>34680.0</td>\n",
              "      <td>RED WOOLLY HOTTIE WHITE HEART.&amp;&amp;CERAMIC CAKE D...</td>\n",
              "    </tr>\n",
              "    <tr>\n",
              "      <th>4</th>\n",
              "      <td>34709.0</td>\n",
              "      <td>STRAWBERRY CERAMIC TRINKET BOX&amp;&amp;JUMBO  BAG BAR...</td>\n",
              "    </tr>\n",
              "    <tr>\n",
              "      <th>...</th>\n",
              "      <td>...</td>\n",
              "      <td>...</td>\n",
              "    </tr>\n",
              "    <tr>\n",
              "      <th>12233</th>\n",
              "      <td>38268.0</td>\n",
              "      <td>DOOR MAT HEARTS&amp;&amp;ENAMEL PINK TEA CONTAINER&amp;&amp;EN...</td>\n",
              "    </tr>\n",
              "    <tr>\n",
              "      <th>12234</th>\n",
              "      <td>38272.0</td>\n",
              "      <td>KINGS CHOICE TEA CADDY&amp;&amp;RETRO RED SPOTTY WASHI...</td>\n",
              "    </tr>\n",
              "    <tr>\n",
              "      <th>12235</th>\n",
              "      <td>38272.0</td>\n",
              "      <td>PORCELAIN ROSE SMALL&amp;&amp;KEY FOB , GARAGE DESIGN&amp;...</td>\n",
              "    </tr>\n",
              "    <tr>\n",
              "      <th>12236</th>\n",
              "      <td>38283.0</td>\n",
              "      <td>FUNKY MONKEY MUG&amp;&amp;PINK BLUE FELT CRAFT TRINKET...</td>\n",
              "    </tr>\n",
              "    <tr>\n",
              "      <th>12237</th>\n",
              "      <td>38283.0</td>\n",
              "      <td>PACK 20 ENGLISH ROSE PAPER NAPKINS&amp;&amp;60 TEATIME...</td>\n",
              "    </tr>\n",
              "  </tbody>\n",
              "</table>\n",
              "<p>12238 rows × 2 columns</p>\n",
              "</div>"
            ],
            "text/plain": [
              "       Customer                                             Detail\n",
              "0       34590.0  HAND OPEN SHAPE GOLD&&RETRO SPOT MUG&&RETRO SP...\n",
              "1       33287.0  MOROCCAN TEA GLASS&&BLACK FLOWER CANDLE PLATE&...\n",
              "2       36550.0  LUNCHBOX WITH CUTLERY FAIRY CAKES&&STRAWBERRY ...\n",
              "3       34680.0  RED WOOLLY HOTTIE WHITE HEART.&&CERAMIC CAKE D...\n",
              "4       34709.0  STRAWBERRY CERAMIC TRINKET BOX&&JUMBO  BAG BAR...\n",
              "...         ...                                                ...\n",
              "12233   38268.0  DOOR MAT HEARTS&&ENAMEL PINK TEA CONTAINER&&EN...\n",
              "12234   38272.0  KINGS CHOICE TEA CADDY&&RETRO RED SPOTTY WASHI...\n",
              "12235   38272.0  PORCELAIN ROSE SMALL&&KEY FOB , GARAGE DESIGN&...\n",
              "12236   38283.0  FUNKY MONKEY MUG&&PINK BLUE FELT CRAFT TRINKET...\n",
              "12237   38283.0  PACK 20 ENGLISH ROSE PAPER NAPKINS&&60 TEATIME...\n",
              "\n",
              "[12238 rows x 2 columns]"
            ]
          },
          "metadata": {
            "tags": []
          },
          "execution_count": 49
        }
      ]
    },
    {
      "cell_type": "code",
      "metadata": {
        "colab": {
          "base_uri": "https://localhost:8080/",
          "height": 419
        },
        "id": "GLfj85YXzFQW",
        "outputId": "4a09ad16-6f84-4e1e-b054-8f62498d59d9"
      },
      "source": [
        "data_space = pd.concat([df3.drop('Invoice', axis=1), df_add2])\n",
        "data_space.reset_index(inplace=True)\n",
        "data_space.pop('index')\n",
        "data_space"
      ],
      "execution_count": null,
      "outputs": [
        {
          "output_type": "execute_result",
          "data": {
            "text/html": [
              "<div>\n",
              "<style scoped>\n",
              "    .dataframe tbody tr th:only-of-type {\n",
              "        vertical-align: middle;\n",
              "    }\n",
              "\n",
              "    .dataframe tbody tr th {\n",
              "        vertical-align: top;\n",
              "    }\n",
              "\n",
              "    .dataframe thead th {\n",
              "        text-align: right;\n",
              "    }\n",
              "</style>\n",
              "<table border=\"1\" class=\"dataframe\">\n",
              "  <thead>\n",
              "    <tr style=\"text-align: right;\">\n",
              "      <th></th>\n",
              "      <th>Customer</th>\n",
              "      <th>Detail</th>\n",
              "    </tr>\n",
              "  </thead>\n",
              "  <tbody>\n",
              "    <tr>\n",
              "      <th>0</th>\n",
              "      <td>34590.0</td>\n",
              "      <td>HAND OPEN SHAPE GOLD&amp;&amp;RETRO SPOT MUG&amp;&amp;RETRO SP...</td>\n",
              "    </tr>\n",
              "    <tr>\n",
              "      <th>1</th>\n",
              "      <td>33287.0</td>\n",
              "      <td>MOROCCAN TEA GLASS&amp;&amp;BLACK FLOWER CANDLE PLATE&amp;...</td>\n",
              "    </tr>\n",
              "    <tr>\n",
              "      <th>2</th>\n",
              "      <td>36550.0</td>\n",
              "      <td>LUNCHBOX WITH CUTLERY FAIRY CAKES&amp;&amp;STRAWBERRY ...</td>\n",
              "    </tr>\n",
              "    <tr>\n",
              "      <th>3</th>\n",
              "      <td>34680.0</td>\n",
              "      <td>RED WOOLLY HOTTIE WHITE HEART.&amp;&amp;CERAMIC CAKE D...</td>\n",
              "    </tr>\n",
              "    <tr>\n",
              "      <th>4</th>\n",
              "      <td>34709.0</td>\n",
              "      <td>STRAWBERRY CERAMIC TRINKET BOX&amp;&amp;JUMBO  BAG BAR...</td>\n",
              "    </tr>\n",
              "    <tr>\n",
              "      <th>...</th>\n",
              "      <td>...</td>\n",
              "      <td>...</td>\n",
              "    </tr>\n",
              "    <tr>\n",
              "      <th>12286</th>\n",
              "      <td>38268.0</td>\n",
              "      <td>DOOR MAT HEARTS&amp;&amp;ENAMEL PINK TEA CONTAINER&amp;&amp;EN...</td>\n",
              "    </tr>\n",
              "    <tr>\n",
              "      <th>12287</th>\n",
              "      <td>38272.0</td>\n",
              "      <td>KINGS CHOICE TEA CADDY&amp;&amp;RETRO RED SPOTTY WASHI...</td>\n",
              "    </tr>\n",
              "    <tr>\n",
              "      <th>12288</th>\n",
              "      <td>38272.0</td>\n",
              "      <td>PORCELAIN ROSE SMALL&amp;&amp;KEY FOB , GARAGE DESIGN&amp;...</td>\n",
              "    </tr>\n",
              "    <tr>\n",
              "      <th>12289</th>\n",
              "      <td>38283.0</td>\n",
              "      <td>FUNKY MONKEY MUG&amp;&amp;PINK BLUE FELT CRAFT TRINKET...</td>\n",
              "    </tr>\n",
              "    <tr>\n",
              "      <th>12290</th>\n",
              "      <td>38283.0</td>\n",
              "      <td>PACK 20 ENGLISH ROSE PAPER NAPKINS&amp;&amp;60 TEATIME...</td>\n",
              "    </tr>\n",
              "  </tbody>\n",
              "</table>\n",
              "<p>12291 rows × 2 columns</p>\n",
              "</div>"
            ],
            "text/plain": [
              "       Customer                                             Detail\n",
              "0       34590.0  HAND OPEN SHAPE GOLD&&RETRO SPOT MUG&&RETRO SP...\n",
              "1       33287.0  MOROCCAN TEA GLASS&&BLACK FLOWER CANDLE PLATE&...\n",
              "2       36550.0  LUNCHBOX WITH CUTLERY FAIRY CAKES&&STRAWBERRY ...\n",
              "3       34680.0  RED WOOLLY HOTTIE WHITE HEART.&&CERAMIC CAKE D...\n",
              "4       34709.0  STRAWBERRY CERAMIC TRINKET BOX&&JUMBO  BAG BAR...\n",
              "...         ...                                                ...\n",
              "12286   38268.0  DOOR MAT HEARTS&&ENAMEL PINK TEA CONTAINER&&EN...\n",
              "12287   38272.0  KINGS CHOICE TEA CADDY&&RETRO RED SPOTTY WASHI...\n",
              "12288   38272.0  PORCELAIN ROSE SMALL&&KEY FOB , GARAGE DESIGN&...\n",
              "12289   38283.0  FUNKY MONKEY MUG&&PINK BLUE FELT CRAFT TRINKET...\n",
              "12290   38283.0  PACK 20 ENGLISH ROSE PAPER NAPKINS&&60 TEATIME...\n",
              "\n",
              "[12291 rows x 2 columns]"
            ]
          },
          "metadata": {
            "tags": []
          },
          "execution_count": 50
        }
      ]
    },
    {
      "cell_type": "code",
      "metadata": {
        "colab": {
          "base_uri": "https://localhost:8080/",
          "height": 272
        },
        "id": "xFOJ0x1K0-cA",
        "outputId": "35fc901c-08fd-426a-d1df-986b8cc22caa"
      },
      "source": [
        "# temp_bert = data_bert['Detail'].str.replace(' [SEP] ', '*')\n",
        "# type(temp_bert)\n",
        "series_bert = data_bert['Detail'].str.split('&&')\n",
        "print(type(series_bert))\n",
        "display(series_bert)\n",
        "print(series_bert[0][-1])\n",
        "len(series_bert[0])"
      ],
      "execution_count": null,
      "outputs": [
        {
          "output_type": "stream",
          "text": [
            "<class 'pandas.core.series.Series'>\n"
          ],
          "name": "stdout"
        },
        {
          "output_type": "display_data",
          "data": {
            "text/plain": [
              "0        [HAND OPEN SHAPE GOLD, RETRO SPOT MUG, RETRO S...\n",
              "1        [MOROCCAN TEA GLASS, BLACK FLOWER CANDLE PLATE...\n",
              "2        [LUNCHBOX WITH CUTLERY FAIRY CAKES, STRAWBERRY...\n",
              "3        [RED WOOLLY HOTTIE WHITE HEART., CERAMIC CAKE ...\n",
              "4        [STRAWBERRY CERAMIC TRINKET BOX, JUMBO  BAG BA...\n",
              "                               ...                        \n",
              "12233    [DOOR MAT HEARTS, ENAMEL PINK TEA CONTAINER, E...\n",
              "12234    [KINGS CHOICE TEA CADDY, RETRO RED SPOTTY WASH...\n",
              "12235    [PORCELAIN ROSE SMALL, KEY FOB , GARAGE DESIGN...\n",
              "12236    [FUNKY MONKEY MUG, PINK BLUE FELT CRAFT TRINKE...\n",
              "12237    [PACK 20 ENGLISH ROSE PAPER NAPKINS, 60 TEATIM...\n",
              "Name: Detail, Length: 12238, dtype: object"
            ]
          },
          "metadata": {
            "tags": []
          }
        },
        {
          "output_type": "stream",
          "text": [
            "RETRO SPOT LARGE MILK JUG\n"
          ],
          "name": "stdout"
        },
        {
          "output_type": "execute_result",
          "data": {
            "text/plain": [
              "6"
            ]
          },
          "metadata": {
            "tags": []
          },
          "execution_count": 51
        }
      ]
    },
    {
      "cell_type": "code",
      "metadata": {
        "colab": {
          "base_uri": "https://localhost:8080/"
        },
        "id": "uPsGHygf1_F0",
        "outputId": "303a2839-5a49-4eb0-ca15-266f3724c10e"
      },
      "source": [
        "series_space = data_space['Detail'].str.split('&&')\n",
        "print(type(series_space))\n",
        "print(len(series_space))\n",
        "print(series_space[0][-1])\n",
        "len(series_space[0])"
      ],
      "execution_count": null,
      "outputs": [
        {
          "output_type": "stream",
          "text": [
            "<class 'pandas.core.series.Series'>\n",
            "12291\n",
            "RETRO SPOT LARGE MILK JUG\n"
          ],
          "name": "stdout"
        },
        {
          "output_type": "execute_result",
          "data": {
            "text/plain": [
              "6"
            ]
          },
          "metadata": {
            "tags": []
          },
          "execution_count": 52
        }
      ]
    },
    {
      "cell_type": "code",
      "metadata": {
        "colab": {
          "base_uri": "https://localhost:8080/"
        },
        "id": "bg7V6-D54oT4",
        "outputId": "a361ba2b-5662-4f89-bd87-0c8209db291d"
      },
      "source": [
        "label_bert = []\n",
        "\n",
        "for i in range(len(series_bert)):\n",
        "    l = series_bert[i][-1]\n",
        "    series_bert[i].pop()\n",
        "    label_bert.append(l)\n",
        "\n",
        "print(label_bert[:5])\n",
        "# series_bert[0][-1]\n",
        "len(label_bert)"
      ],
      "execution_count": null,
      "outputs": [
        {
          "output_type": "stream",
          "text": [
            "['RETRO SPOT LARGE MILK JUG', 'WHITE ROUND PORCELAIN TLIGHT HOLDER', 'FLAMINGO LIGHTS', 'WHITE TISSUE REAM', 'TEA TIME MUG IN GIFT BOX']\n"
          ],
          "name": "stdout"
        },
        {
          "output_type": "execute_result",
          "data": {
            "text/plain": [
              "12238"
            ]
          },
          "metadata": {
            "tags": []
          },
          "execution_count": 53
        }
      ]
    },
    {
      "cell_type": "code",
      "metadata": {
        "colab": {
          "base_uri": "https://localhost:8080/"
        },
        "id": "sJfjgqMafWSS",
        "outputId": "f665948c-95ca-4db0-8ca4-6e1815524d99"
      },
      "source": [
        "label_space = []\n",
        "\n",
        "for i in range(len(series_space)):\n",
        "    l = series_space[i][-1]\n",
        "    series_space[i].pop()\n",
        "    label_space.append(l)\n",
        "\n",
        "print(label_space[:5])\n",
        "len(label_space)"
      ],
      "execution_count": null,
      "outputs": [
        {
          "output_type": "stream",
          "text": [
            "['RETRO SPOT LARGE MILK JUG', 'WHITE ROUND PORCELAIN TLIGHT HOLDER', 'FLAMINGO LIGHTS', 'WHITE TISSUE REAM', 'TEA TIME MUG IN GIFT BOX']\n"
          ],
          "name": "stdout"
        },
        {
          "output_type": "execute_result",
          "data": {
            "text/plain": [
              "12291"
            ]
          },
          "metadata": {
            "tags": []
          },
          "execution_count": 54
        }
      ]
    },
    {
      "cell_type": "code",
      "metadata": {
        "colab": {
          "base_uri": "https://localhost:8080/",
          "height": 204
        },
        "id": "7_ZBTMW8h2VK",
        "outputId": "a6585b93-92c1-42b8-fe53-80a7c251ae17"
      },
      "source": [
        "data_bert['Detail'] = series_bert.apply(lambda x: '&&'.join(map(str, x)))\n",
        "data_bert.head()"
      ],
      "execution_count": null,
      "outputs": [
        {
          "output_type": "execute_result",
          "data": {
            "text/html": [
              "<div>\n",
              "<style scoped>\n",
              "    .dataframe tbody tr th:only-of-type {\n",
              "        vertical-align: middle;\n",
              "    }\n",
              "\n",
              "    .dataframe tbody tr th {\n",
              "        vertical-align: top;\n",
              "    }\n",
              "\n",
              "    .dataframe thead th {\n",
              "        text-align: right;\n",
              "    }\n",
              "</style>\n",
              "<table border=\"1\" class=\"dataframe\">\n",
              "  <thead>\n",
              "    <tr style=\"text-align: right;\">\n",
              "      <th></th>\n",
              "      <th>Customer</th>\n",
              "      <th>Detail</th>\n",
              "    </tr>\n",
              "  </thead>\n",
              "  <tbody>\n",
              "    <tr>\n",
              "      <th>0</th>\n",
              "      <td>34590.0</td>\n",
              "      <td>HAND OPEN SHAPE GOLD&amp;&amp;RETRO SPOT MUG&amp;&amp;RETRO SP...</td>\n",
              "    </tr>\n",
              "    <tr>\n",
              "      <th>1</th>\n",
              "      <td>33287.0</td>\n",
              "      <td>MOROCCAN TEA GLASS&amp;&amp;BLACK FLOWER CANDLE PLATE&amp;...</td>\n",
              "    </tr>\n",
              "    <tr>\n",
              "      <th>2</th>\n",
              "      <td>36550.0</td>\n",
              "      <td>LUNCHBOX WITH CUTLERY FAIRY CAKES&amp;&amp;STRAWBERRY ...</td>\n",
              "    </tr>\n",
              "    <tr>\n",
              "      <th>3</th>\n",
              "      <td>34680.0</td>\n",
              "      <td>RED WOOLLY HOTTIE WHITE HEART.&amp;&amp;CERAMIC CAKE D...</td>\n",
              "    </tr>\n",
              "    <tr>\n",
              "      <th>4</th>\n",
              "      <td>34709.0</td>\n",
              "      <td>STRAWBERRY CERAMIC TRINKET BOX&amp;&amp;JUMBO  BAG BAR...</td>\n",
              "    </tr>\n",
              "  </tbody>\n",
              "</table>\n",
              "</div>"
            ],
            "text/plain": [
              "   Customer                                             Detail\n",
              "0   34590.0  HAND OPEN SHAPE GOLD&&RETRO SPOT MUG&&RETRO SP...\n",
              "1   33287.0  MOROCCAN TEA GLASS&&BLACK FLOWER CANDLE PLATE&...\n",
              "2   36550.0  LUNCHBOX WITH CUTLERY FAIRY CAKES&&STRAWBERRY ...\n",
              "3   34680.0  RED WOOLLY HOTTIE WHITE HEART.&&CERAMIC CAKE D...\n",
              "4   34709.0  STRAWBERRY CERAMIC TRINKET BOX&&JUMBO  BAG BAR..."
            ]
          },
          "metadata": {
            "tags": []
          },
          "execution_count": 55
        }
      ]
    },
    {
      "cell_type": "code",
      "metadata": {
        "colab": {
          "base_uri": "https://localhost:8080/",
          "height": 204
        },
        "id": "gNN6DQWgh2Dr",
        "outputId": "ddc8b660-8209-478e-d74d-60fd81f87105"
      },
      "source": [
        "data_space['Detail'] = series_space.apply(lambda x: '&&'.join(map(str, x)))\n",
        "data_space.head()"
      ],
      "execution_count": null,
      "outputs": [
        {
          "output_type": "execute_result",
          "data": {
            "text/html": [
              "<div>\n",
              "<style scoped>\n",
              "    .dataframe tbody tr th:only-of-type {\n",
              "        vertical-align: middle;\n",
              "    }\n",
              "\n",
              "    .dataframe tbody tr th {\n",
              "        vertical-align: top;\n",
              "    }\n",
              "\n",
              "    .dataframe thead th {\n",
              "        text-align: right;\n",
              "    }\n",
              "</style>\n",
              "<table border=\"1\" class=\"dataframe\">\n",
              "  <thead>\n",
              "    <tr style=\"text-align: right;\">\n",
              "      <th></th>\n",
              "      <th>Customer</th>\n",
              "      <th>Detail</th>\n",
              "    </tr>\n",
              "  </thead>\n",
              "  <tbody>\n",
              "    <tr>\n",
              "      <th>0</th>\n",
              "      <td>34590.0</td>\n",
              "      <td>HAND OPEN SHAPE GOLD&amp;&amp;RETRO SPOT MUG&amp;&amp;RETRO SP...</td>\n",
              "    </tr>\n",
              "    <tr>\n",
              "      <th>1</th>\n",
              "      <td>33287.0</td>\n",
              "      <td>MOROCCAN TEA GLASS&amp;&amp;BLACK FLOWER CANDLE PLATE&amp;...</td>\n",
              "    </tr>\n",
              "    <tr>\n",
              "      <th>2</th>\n",
              "      <td>36550.0</td>\n",
              "      <td>LUNCHBOX WITH CUTLERY FAIRY CAKES&amp;&amp;STRAWBERRY ...</td>\n",
              "    </tr>\n",
              "    <tr>\n",
              "      <th>3</th>\n",
              "      <td>34680.0</td>\n",
              "      <td>RED WOOLLY HOTTIE WHITE HEART.&amp;&amp;CERAMIC CAKE D...</td>\n",
              "    </tr>\n",
              "    <tr>\n",
              "      <th>4</th>\n",
              "      <td>34709.0</td>\n",
              "      <td>STRAWBERRY CERAMIC TRINKET BOX&amp;&amp;JUMBO  BAG BAR...</td>\n",
              "    </tr>\n",
              "  </tbody>\n",
              "</table>\n",
              "</div>"
            ],
            "text/plain": [
              "   Customer                                             Detail\n",
              "0   34590.0  HAND OPEN SHAPE GOLD&&RETRO SPOT MUG&&RETRO SP...\n",
              "1   33287.0  MOROCCAN TEA GLASS&&BLACK FLOWER CANDLE PLATE&...\n",
              "2   36550.0  LUNCHBOX WITH CUTLERY FAIRY CAKES&&STRAWBERRY ...\n",
              "3   34680.0  RED WOOLLY HOTTIE WHITE HEART.&&CERAMIC CAKE D...\n",
              "4   34709.0  STRAWBERRY CERAMIC TRINKET BOX&&JUMBO  BAG BAR..."
            ]
          },
          "metadata": {
            "tags": []
          },
          "execution_count": 56
        }
      ]
    },
    {
      "cell_type": "code",
      "metadata": {
        "colab": {
          "base_uri": "https://localhost:8080/",
          "height": 419
        },
        "id": "D0sL5t14nLbQ",
        "outputId": "7da09ac0-4d4a-4980-bb95-9d017b40ebae"
      },
      "source": [
        "data_bert['label'] = label_bert\n",
        "data_space['label'] = label_space\n",
        "data_bert.dropna()\n",
        "data_space.dropna()"
      ],
      "execution_count": null,
      "outputs": [
        {
          "output_type": "execute_result",
          "data": {
            "text/html": [
              "<div>\n",
              "<style scoped>\n",
              "    .dataframe tbody tr th:only-of-type {\n",
              "        vertical-align: middle;\n",
              "    }\n",
              "\n",
              "    .dataframe tbody tr th {\n",
              "        vertical-align: top;\n",
              "    }\n",
              "\n",
              "    .dataframe thead th {\n",
              "        text-align: right;\n",
              "    }\n",
              "</style>\n",
              "<table border=\"1\" class=\"dataframe\">\n",
              "  <thead>\n",
              "    <tr style=\"text-align: right;\">\n",
              "      <th></th>\n",
              "      <th>Customer</th>\n",
              "      <th>Detail</th>\n",
              "      <th>label</th>\n",
              "    </tr>\n",
              "  </thead>\n",
              "  <tbody>\n",
              "    <tr>\n",
              "      <th>0</th>\n",
              "      <td>34590.0</td>\n",
              "      <td>HAND OPEN SHAPE GOLD&amp;&amp;RETRO SPOT MUG&amp;&amp;RETRO SP...</td>\n",
              "      <td>RETRO SPOT LARGE MILK JUG</td>\n",
              "    </tr>\n",
              "    <tr>\n",
              "      <th>1</th>\n",
              "      <td>33287.0</td>\n",
              "      <td>MOROCCAN TEA GLASS&amp;&amp;BLACK FLOWER CANDLE PLATE&amp;...</td>\n",
              "      <td>WHITE ROUND PORCELAIN TLIGHT HOLDER</td>\n",
              "    </tr>\n",
              "    <tr>\n",
              "      <th>2</th>\n",
              "      <td>36550.0</td>\n",
              "      <td>LUNCHBOX WITH CUTLERY FAIRY CAKES&amp;&amp;STRAWBERRY ...</td>\n",
              "      <td>FLAMINGO LIGHTS</td>\n",
              "    </tr>\n",
              "    <tr>\n",
              "      <th>3</th>\n",
              "      <td>34680.0</td>\n",
              "      <td>RED WOOLLY HOTTIE WHITE HEART.&amp;&amp;CERAMIC CAKE D...</td>\n",
              "      <td>WHITE TISSUE REAM</td>\n",
              "    </tr>\n",
              "    <tr>\n",
              "      <th>4</th>\n",
              "      <td>34709.0</td>\n",
              "      <td>STRAWBERRY CERAMIC TRINKET BOX&amp;&amp;JUMBO  BAG BAR...</td>\n",
              "      <td>TEA TIME MUG IN GIFT BOX</td>\n",
              "    </tr>\n",
              "    <tr>\n",
              "      <th>...</th>\n",
              "      <td>...</td>\n",
              "      <td>...</td>\n",
              "      <td>...</td>\n",
              "    </tr>\n",
              "    <tr>\n",
              "      <th>12286</th>\n",
              "      <td>38268.0</td>\n",
              "      <td>DOOR MAT HEARTS&amp;&amp;ENAMEL PINK TEA CONTAINER&amp;&amp;EN...</td>\n",
              "      <td>PINK SPOTTY BOWL</td>\n",
              "    </tr>\n",
              "    <tr>\n",
              "      <th>12287</th>\n",
              "      <td>38272.0</td>\n",
              "      <td>KINGS CHOICE TEA CADDY&amp;&amp;RETRO RED SPOTTY WASHI...</td>\n",
              "      <td>PINK  HEART SHAPE LOVE BUCKET</td>\n",
              "    </tr>\n",
              "    <tr>\n",
              "      <th>12288</th>\n",
              "      <td>38272.0</td>\n",
              "      <td>PORCELAIN ROSE SMALL&amp;&amp;KEY FOB , GARAGE DESIGN&amp;...</td>\n",
              "      <td>CERAMIC PIRATE CHEST MONEY BANK</td>\n",
              "    </tr>\n",
              "    <tr>\n",
              "      <th>12289</th>\n",
              "      <td>38283.0</td>\n",
              "      <td>FUNKY MONKEY MUG&amp;&amp;PINK BLUE FELT CRAFT TRINKET...</td>\n",
              "      <td>ROUND SNACK BOXES SET OF 4 SKULLS</td>\n",
              "    </tr>\n",
              "    <tr>\n",
              "      <th>12290</th>\n",
              "      <td>38283.0</td>\n",
              "      <td>PACK 20 ENGLISH ROSE PAPER NAPKINS&amp;&amp;60 TEATIME...</td>\n",
              "      <td>LUNCH BAG WOODLAND</td>\n",
              "    </tr>\n",
              "  </tbody>\n",
              "</table>\n",
              "<p>12291 rows × 3 columns</p>\n",
              "</div>"
            ],
            "text/plain": [
              "       Customer  ...                                label\n",
              "0       34590.0  ...            RETRO SPOT LARGE MILK JUG\n",
              "1       33287.0  ...  WHITE ROUND PORCELAIN TLIGHT HOLDER\n",
              "2       36550.0  ...                      FLAMINGO LIGHTS\n",
              "3       34680.0  ...                    WHITE TISSUE REAM\n",
              "4       34709.0  ...             TEA TIME MUG IN GIFT BOX\n",
              "...         ...  ...                                  ...\n",
              "12286   38268.0  ...                     PINK SPOTTY BOWL\n",
              "12287   38272.0  ...        PINK  HEART SHAPE LOVE BUCKET\n",
              "12288   38272.0  ...      CERAMIC PIRATE CHEST MONEY BANK\n",
              "12289   38283.0  ...    ROUND SNACK BOXES SET OF 4 SKULLS\n",
              "12290   38283.0  ...                   LUNCH BAG WOODLAND\n",
              "\n",
              "[12291 rows x 3 columns]"
            ]
          },
          "metadata": {
            "tags": []
          },
          "execution_count": 57
        }
      ]
    },
    {
      "cell_type": "code",
      "metadata": {
        "colab": {
          "base_uri": "https://localhost:8080/",
          "height": 51
        },
        "id": "-SW6lLoY36_f",
        "outputId": "29e99de2-aa1f-4cc5-9113-8c77617b6109"
      },
      "source": [
        "print(sorted(data_bert['Detail'].unique())[0])\n",
        "sorted(data_space['Detail'].unique())[0]"
      ],
      "execution_count": null,
      "outputs": [
        {
          "output_type": "stream",
          "text": [
            "\n"
          ],
          "name": "stdout"
        },
        {
          "output_type": "execute_result",
          "data": {
            "application/vnd.google.colaboratory.intrinsic+json": {
              "type": "string"
            },
            "text/plain": [
              "''"
            ]
          },
          "metadata": {
            "tags": []
          },
          "execution_count": 80
        }
      ]
    },
    {
      "cell_type": "code",
      "metadata": {
        "id": "NQqOkfvk4BpT"
      },
      "source": [
        "idx = data_bert[data_bert['Detail'] == ''].index\n",
        "data_bert.drop(idx, inplace=True)\n",
        "idx = data_space[data_space['Detail'] == ''].index\n",
        "data_space.drop(idx, inplace=True)"
      ],
      "execution_count": null,
      "outputs": []
    },
    {
      "cell_type": "code",
      "metadata": {
        "colab": {
          "base_uri": "https://localhost:8080/"
        },
        "id": "At4XHA0X4GVy",
        "outputId": "6542f1ad-d863-48ab-82df-19afe8126501"
      },
      "source": [
        "data_bert.reset_index(inplace=True)\n",
        "data_bert.pop('index')\n",
        "data_space.reset_index(inplace=True)\n",
        "data_space.pop('index')"
      ],
      "execution_count": null,
      "outputs": [
        {
          "output_type": "execute_result",
          "data": {
            "text/plain": [
              "0            0\n",
              "1            1\n",
              "2            2\n",
              "3            3\n",
              "4            4\n",
              "         ...  \n",
              "11623    12286\n",
              "11624    12287\n",
              "11625    12288\n",
              "11626    12289\n",
              "11627    12290\n",
              "Name: index, Length: 11628, dtype: int64"
            ]
          },
          "metadata": {
            "tags": []
          },
          "execution_count": 82
        }
      ]
    },
    {
      "cell_type": "code",
      "metadata": {
        "colab": {
          "base_uri": "https://localhost:8080/",
          "height": 34
        },
        "id": "W1S7PJddmSbD",
        "outputId": "8190a3bd-4abd-4d0d-9b1f-7a270b013e3c"
      },
      "source": [
        "token_data_bert = data_bert.copy()\n",
        "token_data_bert['Detail'] = token_data_bert['Detail'].str.replace('&&', ' [SEP] ')\n",
        "sentences_bert = token_data_bert['Detail']\n",
        "sentences_bert = [\"[CLS] \" + str(sentence).lower() + \" [SEP]\" for sentence in sentences_bert]\n",
        "sentences_bert = [sentence.replace('[sep]', '[SEP]') for sentence in sentences_bert]\n",
        "sentences_bert[0]"
      ],
      "execution_count": null,
      "outputs": [
        {
          "output_type": "execute_result",
          "data": {
            "application/vnd.google.colaboratory.intrinsic+json": {
              "type": "string"
            },
            "text/plain": [
              "'[CLS] hand open shape gold [SEP] retro spot mug [SEP] retro spot sugar jam bowl [SEP] new england ceramic cake server [SEP] retro spot traditional teapot [SEP]'"
            ]
          },
          "metadata": {
            "tags": []
          },
          "execution_count": 58
        }
      ]
    },
    {
      "cell_type": "code",
      "metadata": {
        "colab": {
          "base_uri": "https://localhost:8080/",
          "height": 34
        },
        "id": "07bNH5qkmSOj",
        "outputId": "2c3c0359-7139-4227-e2aa-6ffcfb8c455d"
      },
      "source": [
        "token_data_space = data_space.copy()\n",
        "token_data_space['Detail'] = token_data_space['Detail'].str.replace('&&', ' [SEP] ')\n",
        "sentences_space = token_data_space['Detail']\n",
        "sentences_space = [\"[CLS] \" + str(sentence).lower() + \" [SEP]\" for sentence in sentences_space]\n",
        "sentences_space = [sentence.replace('[sep]', '[SEP]') for sentence in sentences_space]\n",
        "sentences_space[0]"
      ],
      "execution_count": null,
      "outputs": [
        {
          "output_type": "execute_result",
          "data": {
            "application/vnd.google.colaboratory.intrinsic+json": {
              "type": "string"
            },
            "text/plain": [
              "'[CLS] hand open shape gold [SEP] retro spot mug [SEP] retro spot sugar jam bowl [SEP] new england ceramic cake server [SEP] retro spot traditional teapot [SEP]'"
            ]
          },
          "metadata": {
            "tags": []
          },
          "execution_count": 59
        }
      ]
    },
    {
      "cell_type": "code",
      "metadata": {
        "colab": {
          "base_uri": "https://localhost:8080/"
        },
        "id": "V0TdbHoBnGkm",
        "outputId": "4d594460-bd48-408e-cca2-b349899ddc7a"
      },
      "source": [
        "tokenized_texts_bert = BERTtokenizer(sentences_bert)\n",
        "\n",
        "print (sentences_bert[0])\n",
        "print (tokenized_texts_bert[0])\n",
        "len(tokenized_texts_bert)"
      ],
      "execution_count": null,
      "outputs": [
        {
          "output_type": "stream",
          "text": [
            "[CLS] hand open shape gold [SEP] retro spot mug [SEP] retro spot sugar jam bowl [SEP] new england ceramic cake server [SEP] retro spot traditional teapot [SEP]\n",
            "['[CLS]', 'hand', 'open', 'shape', 'gold', '[SEP]', 'retro', 'spot', 'mug', '[SEP]', 'retro', 'spot', 'sugar', 'jam', 'bowl', '[SEP]', 'new', 'england', 'ceramic', 'cake', 'server', '[SEP]', 'retro', 'spot', 'traditional', 'tea', '##pot', '[SEP]']\n"
          ],
          "name": "stdout"
        },
        {
          "output_type": "execute_result",
          "data": {
            "text/plain": [
              "12238"
            ]
          },
          "metadata": {
            "tags": []
          },
          "execution_count": 60
        }
      ]
    },
    {
      "cell_type": "code",
      "metadata": {
        "colab": {
          "base_uri": "https://localhost:8080/"
        },
        "id": "FswDlZVknGcG",
        "outputId": "2a284dfb-fb73-4b38-e552-400bec5fc758"
      },
      "source": [
        "tokenized_texts_space = SPACEtokenizer(sentences_space)\n",
        "print(tokenized_texts_space[0])\n",
        "len(tokenized_texts_space)"
      ],
      "execution_count": null,
      "outputs": [
        {
          "output_type": "stream",
          "text": [
            "['[CLS]', 'hand', 'open', 'shape', 'gold', '[SEP]', 'retro', 'spot', 'mug', '[SEP]', 'retro', 'spot', 'sugar', 'jam', 'bowl', '[SEP]', 'new', 'england', 'ceramic', 'cake', 'server', '[SEP]', 'retro', 'spot', 'traditional', 'teapot', '[SEP]']\n"
          ],
          "name": "stdout"
        },
        {
          "output_type": "execute_result",
          "data": {
            "text/plain": [
              "12291"
            ]
          },
          "metadata": {
            "tags": []
          },
          "execution_count": 61
        }
      ]
    },
    {
      "cell_type": "markdown",
      "metadata": {
        "id": "EmqaTsUknOq5"
      },
      "source": [
        "자르기"
      ]
    },
    {
      "cell_type": "code",
      "metadata": {
        "id": "OqxC_Jy7giHU",
        "colab": {
          "base_uri": "https://localhost:8080/"
        },
        "outputId": "2e6f3100-be70-4d09-da7b-8201bc5511bf"
      },
      "source": [
        "# overlen = []\n",
        "tokenized_texts_bert_copy = tokenized_texts_bert.copy()\n",
        "for i in range(len(tokenized_texts_bert_copy)):\n",
        "    if len(tokenized_texts_bert_copy[i]) > MAX_LEN:\n",
        "        # overlen.append(tokenized_texts_bert_copy[i])\n",
        "        while 1:\n",
        "            id = tokenized_texts_bert_copy[i].index('[SEP]')\n",
        "            tokenized_texts_bert_copy[i] = tokenized_texts_bert_copy[i][id:]\n",
        "            tokenized_texts_bert_copy[i][0] = '[CLS]'\n",
        "            if len(tokenized_texts_bert_copy[i]) <= MAX_LEN:\n",
        "                break\n",
        "tok = []\n",
        "for i in range(len(tokenized_texts_bert_copy)):\n",
        "    if len(tokenized_texts_bert_copy[i]) > MAX_LEN:\n",
        "        tok.append(len(tokenized_texts_bert_copy[i]))\n",
        "# print(max(tok))\n",
        "print(len(tok))\n",
        "print(len(tokenized_texts_bert_copy))\n",
        "# print(len(overlen[0]))\n",
        "# print(len(overlen))\n",
        "# print(overlen[0])"
      ],
      "execution_count": null,
      "outputs": [
        {
          "output_type": "stream",
          "text": [
            "0\n",
            "12238\n"
          ],
          "name": "stdout"
        }
      ]
    },
    {
      "cell_type": "code",
      "metadata": {
        "colab": {
          "base_uri": "https://localhost:8080/"
        },
        "id": "KsYndgapn8z8",
        "outputId": "ec21fe07-6118-4337-9a7e-8b9415c630e6"
      },
      "source": [
        "# overlen = []\n",
        "tokenized_texts_space_copy = tokenized_texts_space.copy()\n",
        "for i in range(len(tokenized_texts_space_copy)):\n",
        "    if len(tokenized_texts_space_copy[i]) > MAX_LEN:\n",
        "        # overlen.append(tokenized_texts_space_copy[i])\n",
        "        while 1:\n",
        "            id = tokenized_texts_space_copy[i].index('[SEP]')\n",
        "            tokenized_texts_space_copy[i] = tokenized_texts_space_copy[i][id:]\n",
        "            tokenized_texts_space_copy[i][0] = '[CLS]'\n",
        "            if len(tokenized_texts_space_copy[i]) <= MAX_LEN:\n",
        "                break\n",
        "tok = []\n",
        "for i in range(len(tokenized_texts_space_copy)):\n",
        "    if len(tokenized_texts_space_copy[i]) > MAX_LEN:\n",
        "        tok.append(len(tokenized_texts_space_copy[i]))\n",
        "# print(max(tok))\n",
        "print(len(tok))\n",
        "print(len(tokenized_texts_space_copy))\n",
        "# print(len(overlen[0]))\n",
        "# print(len(overlen))\n",
        "# print(overlen[0])"
      ],
      "execution_count": null,
      "outputs": [
        {
          "output_type": "stream",
          "text": [
            "0\n",
            "12291\n"
          ],
          "name": "stdout"
        }
      ]
    },
    {
      "cell_type": "code",
      "metadata": {
        "id": "Dcbw8ZWeok0v"
      },
      "source": [
        "token_data_bert['Detail'] = tokenized_texts_bert_copy\n",
        "token_data_space['Detail'] = tokenized_texts_space_copy"
      ],
      "execution_count": null,
      "outputs": []
    },
    {
      "cell_type": "code",
      "metadata": {
        "id": "dhf8E0l0okxz"
      },
      "source": [
        "token_data_bert['Detail'] = token_data_bert['Detail'].apply(lambda x: ','.join(map(str, x)))\n",
        "token_data_space['Detail'] = token_data_space['Detail'].apply(lambda x: ','.join(map(str, x)))"
      ],
      "execution_count": null,
      "outputs": []
    },
    {
      "cell_type": "code",
      "metadata": {
        "id": "GIHQbmKttSRE"
      },
      "source": [
        "idx = token_data_bert[token_data_bert['Detail'] == '[CLS],[SEP]'].index\n",
        "token_data_bert.drop(idx, inplace=True)\n",
        "idx = token_data_space[token_data_space['Detail'] == '[CLS],,[SEP]'].index\n",
        "token_data_space.drop(idx, inplace=True)"
      ],
      "execution_count": null,
      "outputs": []
    },
    {
      "cell_type": "code",
      "metadata": {
        "colab": {
          "base_uri": "https://localhost:8080/"
        },
        "id": "66JoW1RZwiNb",
        "outputId": "dddb6800-f291-4f50-fb89-7ed269033684"
      },
      "source": [
        "token_data_bert.reset_index(inplace=True)\n",
        "token_data_bert.pop('index')\n",
        "token_data_space.reset_index(inplace=True)\n",
        "token_data_space.pop('index')"
      ],
      "execution_count": null,
      "outputs": [
        {
          "output_type": "execute_result",
          "data": {
            "text/plain": [
              "0            0\n",
              "1            1\n",
              "2            2\n",
              "3            3\n",
              "4            4\n",
              "         ...  \n",
              "11623    12286\n",
              "11624    12287\n",
              "11625    12288\n",
              "11626    12289\n",
              "11627    12290\n",
              "Name: index, Length: 11628, dtype: int64"
            ]
          },
          "metadata": {
            "tags": []
          },
          "execution_count": 70
        }
      ]
    },
    {
      "cell_type": "code",
      "metadata": {
        "colab": {
          "base_uri": "https://localhost:8080/",
          "height": 419
        },
        "id": "vgreno7LpDR_",
        "outputId": "d7727749-1264-4e86-b901-23172fa3c5e9"
      },
      "source": [
        "token_data_bert"
      ],
      "execution_count": null,
      "outputs": [
        {
          "output_type": "execute_result",
          "data": {
            "text/html": [
              "<div>\n",
              "<style scoped>\n",
              "    .dataframe tbody tr th:only-of-type {\n",
              "        vertical-align: middle;\n",
              "    }\n",
              "\n",
              "    .dataframe tbody tr th {\n",
              "        vertical-align: top;\n",
              "    }\n",
              "\n",
              "    .dataframe thead th {\n",
              "        text-align: right;\n",
              "    }\n",
              "</style>\n",
              "<table border=\"1\" class=\"dataframe\">\n",
              "  <thead>\n",
              "    <tr style=\"text-align: right;\">\n",
              "      <th></th>\n",
              "      <th>Customer</th>\n",
              "      <th>Detail</th>\n",
              "      <th>label</th>\n",
              "    </tr>\n",
              "  </thead>\n",
              "  <tbody>\n",
              "    <tr>\n",
              "      <th>0</th>\n",
              "      <td>34590.0</td>\n",
              "      <td>[CLS],hand,open,shape,gold,[SEP],retro,spot,mu...</td>\n",
              "      <td>RETRO SPOT LARGE MILK JUG</td>\n",
              "    </tr>\n",
              "    <tr>\n",
              "      <th>1</th>\n",
              "      <td>33287.0</td>\n",
              "      <td>[CLS],moroccan,tea,glass,[SEP],black,flower,ca...</td>\n",
              "      <td>WHITE ROUND PORCELAIN TLIGHT HOLDER</td>\n",
              "    </tr>\n",
              "    <tr>\n",
              "      <th>2</th>\n",
              "      <td>36550.0</td>\n",
              "      <td>[CLS],lunch,##box,with,cutler,##y,fairy,cakes,...</td>\n",
              "      <td>FLAMINGO LIGHTS</td>\n",
              "    </tr>\n",
              "    <tr>\n",
              "      <th>3</th>\n",
              "      <td>34680.0</td>\n",
              "      <td>[CLS],red,wool,##ly,hot,##tie,white,heart,.,[S...</td>\n",
              "      <td>WHITE TISSUE REAM</td>\n",
              "    </tr>\n",
              "    <tr>\n",
              "      <th>4</th>\n",
              "      <td>34709.0</td>\n",
              "      <td>[CLS],strawberry,ceramic,tri,##nk,##et,box,[SE...</td>\n",
              "      <td>TEA TIME MUG IN GIFT BOX</td>\n",
              "    </tr>\n",
              "    <tr>\n",
              "      <th>...</th>\n",
              "      <td>...</td>\n",
              "      <td>...</td>\n",
              "      <td>...</td>\n",
              "    </tr>\n",
              "    <tr>\n",
              "      <th>11570</th>\n",
              "      <td>38268.0</td>\n",
              "      <td>[CLS],door,mat,hearts,[SEP],enamel,pink,tea,co...</td>\n",
              "      <td>PINK SPOTTY BOWL</td>\n",
              "    </tr>\n",
              "    <tr>\n",
              "      <th>11571</th>\n",
              "      <td>38272.0</td>\n",
              "      <td>[CLS],kings,choice,tea,cad,##dy,[SEP],retro,re...</td>\n",
              "      <td>PINK  HEART SHAPE LOVE BUCKET</td>\n",
              "    </tr>\n",
              "    <tr>\n",
              "      <th>11572</th>\n",
              "      <td>38272.0</td>\n",
              "      <td>[CLS],porcelain,rose,small,[SEP],key,f,##ob,,,...</td>\n",
              "      <td>CERAMIC PIRATE CHEST MONEY BANK</td>\n",
              "    </tr>\n",
              "    <tr>\n",
              "      <th>11573</th>\n",
              "      <td>38283.0</td>\n",
              "      <td>[CLS],funky,monkey,mug,[SEP],pink,blue,felt,cr...</td>\n",
              "      <td>ROUND SNACK BOXES SET OF 4 SKULLS</td>\n",
              "    </tr>\n",
              "    <tr>\n",
              "      <th>11574</th>\n",
              "      <td>38283.0</td>\n",
              "      <td>[CLS],retro,spot,cake,stand,[SEP],blue,3,piece...</td>\n",
              "      <td>LUNCH BAG WOODLAND</td>\n",
              "    </tr>\n",
              "  </tbody>\n",
              "</table>\n",
              "<p>11575 rows × 3 columns</p>\n",
              "</div>"
            ],
            "text/plain": [
              "       Customer  ...                                label\n",
              "0       34590.0  ...            RETRO SPOT LARGE MILK JUG\n",
              "1       33287.0  ...  WHITE ROUND PORCELAIN TLIGHT HOLDER\n",
              "2       36550.0  ...                      FLAMINGO LIGHTS\n",
              "3       34680.0  ...                    WHITE TISSUE REAM\n",
              "4       34709.0  ...             TEA TIME MUG IN GIFT BOX\n",
              "...         ...  ...                                  ...\n",
              "11570   38268.0  ...                     PINK SPOTTY BOWL\n",
              "11571   38272.0  ...        PINK  HEART SHAPE LOVE BUCKET\n",
              "11572   38272.0  ...      CERAMIC PIRATE CHEST MONEY BANK\n",
              "11573   38283.0  ...    ROUND SNACK BOXES SET OF 4 SKULLS\n",
              "11574   38283.0  ...                   LUNCH BAG WOODLAND\n",
              "\n",
              "[11575 rows x 3 columns]"
            ]
          },
          "metadata": {
            "tags": []
          },
          "execution_count": 71
        }
      ]
    },
    {
      "cell_type": "code",
      "metadata": {
        "colab": {
          "base_uri": "https://localhost:8080/",
          "height": 419
        },
        "id": "hv_1Bl-zpDJ0",
        "outputId": "9093ab1d-ce05-4216-8bb1-43e15e15dd98"
      },
      "source": [
        "token_data_space"
      ],
      "execution_count": null,
      "outputs": [
        {
          "output_type": "execute_result",
          "data": {
            "text/html": [
              "<div>\n",
              "<style scoped>\n",
              "    .dataframe tbody tr th:only-of-type {\n",
              "        vertical-align: middle;\n",
              "    }\n",
              "\n",
              "    .dataframe tbody tr th {\n",
              "        vertical-align: top;\n",
              "    }\n",
              "\n",
              "    .dataframe thead th {\n",
              "        text-align: right;\n",
              "    }\n",
              "</style>\n",
              "<table border=\"1\" class=\"dataframe\">\n",
              "  <thead>\n",
              "    <tr style=\"text-align: right;\">\n",
              "      <th></th>\n",
              "      <th>Customer</th>\n",
              "      <th>Detail</th>\n",
              "      <th>label</th>\n",
              "    </tr>\n",
              "  </thead>\n",
              "  <tbody>\n",
              "    <tr>\n",
              "      <th>0</th>\n",
              "      <td>34590.0</td>\n",
              "      <td>[CLS],hand,open,shape,gold,[SEP],retro,spot,mu...</td>\n",
              "      <td>RETRO SPOT LARGE MILK JUG</td>\n",
              "    </tr>\n",
              "    <tr>\n",
              "      <th>1</th>\n",
              "      <td>33287.0</td>\n",
              "      <td>[CLS],moroccan,tea,glass,[SEP],black,flower,ca...</td>\n",
              "      <td>WHITE ROUND PORCELAIN TLIGHT HOLDER</td>\n",
              "    </tr>\n",
              "    <tr>\n",
              "      <th>2</th>\n",
              "      <td>36550.0</td>\n",
              "      <td>[CLS],lunchbox,with,cutlery,fairy,cakes,[SEP],...</td>\n",
              "      <td>FLAMINGO LIGHTS</td>\n",
              "    </tr>\n",
              "    <tr>\n",
              "      <th>3</th>\n",
              "      <td>34680.0</td>\n",
              "      <td>[CLS],red,woolly,hottie,white,heart.,[SEP],cer...</td>\n",
              "      <td>WHITE TISSUE REAM</td>\n",
              "    </tr>\n",
              "    <tr>\n",
              "      <th>4</th>\n",
              "      <td>34709.0</td>\n",
              "      <td>[CLS],strawberry,ceramic,trinket,box,[SEP],jum...</td>\n",
              "      <td>TEA TIME MUG IN GIFT BOX</td>\n",
              "    </tr>\n",
              "    <tr>\n",
              "      <th>...</th>\n",
              "      <td>...</td>\n",
              "      <td>...</td>\n",
              "      <td>...</td>\n",
              "    </tr>\n",
              "    <tr>\n",
              "      <th>11623</th>\n",
              "      <td>38268.0</td>\n",
              "      <td>[CLS],door,mat,hearts,[SEP],enamel,pink,tea,co...</td>\n",
              "      <td>PINK SPOTTY BOWL</td>\n",
              "    </tr>\n",
              "    <tr>\n",
              "      <th>11624</th>\n",
              "      <td>38272.0</td>\n",
              "      <td>[CLS],kings,choice,tea,caddy,[SEP],retro,red,s...</td>\n",
              "      <td>PINK  HEART SHAPE LOVE BUCKET</td>\n",
              "    </tr>\n",
              "    <tr>\n",
              "      <th>11625</th>\n",
              "      <td>38272.0</td>\n",
              "      <td>[CLS],porcelain,rose,small,[SEP],key,fob,,,gar...</td>\n",
              "      <td>CERAMIC PIRATE CHEST MONEY BANK</td>\n",
              "    </tr>\n",
              "    <tr>\n",
              "      <th>11626</th>\n",
              "      <td>38283.0</td>\n",
              "      <td>[CLS],funky,monkey,mug,[SEP],pink,blue,felt,cr...</td>\n",
              "      <td>ROUND SNACK BOXES SET OF 4 SKULLS</td>\n",
              "    </tr>\n",
              "    <tr>\n",
              "      <th>11627</th>\n",
              "      <td>38283.0</td>\n",
              "      <td>[CLS],pack,20,english,rose,paper,napkins,[SEP]...</td>\n",
              "      <td>LUNCH BAG WOODLAND</td>\n",
              "    </tr>\n",
              "  </tbody>\n",
              "</table>\n",
              "<p>11628 rows × 3 columns</p>\n",
              "</div>"
            ],
            "text/plain": [
              "       Customer  ...                                label\n",
              "0       34590.0  ...            RETRO SPOT LARGE MILK JUG\n",
              "1       33287.0  ...  WHITE ROUND PORCELAIN TLIGHT HOLDER\n",
              "2       36550.0  ...                      FLAMINGO LIGHTS\n",
              "3       34680.0  ...                    WHITE TISSUE REAM\n",
              "4       34709.0  ...             TEA TIME MUG IN GIFT BOX\n",
              "...         ...  ...                                  ...\n",
              "11623   38268.0  ...                     PINK SPOTTY BOWL\n",
              "11624   38272.0  ...        PINK  HEART SHAPE LOVE BUCKET\n",
              "11625   38272.0  ...      CERAMIC PIRATE CHEST MONEY BANK\n",
              "11626   38283.0  ...    ROUND SNACK BOXES SET OF 4 SKULLS\n",
              "11627   38283.0  ...                   LUNCH BAG WOODLAND\n",
              "\n",
              "[11628 rows x 3 columns]"
            ]
          },
          "metadata": {
            "tags": []
          },
          "execution_count": 72
        }
      ]
    },
    {
      "cell_type": "markdown",
      "metadata": {
        "id": "QYFMx4gzpKHK"
      },
      "source": [
        "저장"
      ]
    },
    {
      "cell_type": "code",
      "metadata": {
        "id": "nGIsOYUXpK7d"
      },
      "source": [
        "data_bert.to_csv(\"/content/drive/MyDrive/train_bert.csv\", mode='w')\n",
        "data_space.to_csv(\"/content/drive/MyDrive/train_space.csv\", mode='w')"
      ],
      "execution_count": null,
      "outputs": []
    },
    {
      "cell_type": "code",
      "metadata": {
        "id": "xHwn3DITwzbd"
      },
      "source": [
        ""
      ],
      "execution_count": null,
      "outputs": []
    }
  ]
}