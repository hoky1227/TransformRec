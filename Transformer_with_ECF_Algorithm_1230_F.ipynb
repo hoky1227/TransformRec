{
  "nbformat": 4,
  "nbformat_minor": 0,
  "metadata": {
    "colab": {
      "name": "Transformer with ECF Algorithm_1230_F.ipynb",
      "provenance": [],
      "collapsed_sections": [],
      "include_colab_link": true
    },
    "kernelspec": {
      "display_name": "Python 3",
      "language": "python",
      "name": "python3"
    },
    "language_info": {
      "codemirror_mode": {
        "name": "ipython",
        "version": 3
      },
      "file_extension": ".py",
      "mimetype": "text/x-python",
      "name": "python",
      "nbconvert_exporter": "python",
      "pygments_lexer": "ipython3",
      "version": "3.8.5"
    },
    "widgets": {
      "application/vnd.jupyter.widget-state+json": {
        "c11d2b71d82f4030b1ac655b2c397e35": {
          "model_module": "@jupyter-widgets/controls",
          "model_name": "HBoxModel",
          "state": {
            "_view_name": "HBoxView",
            "_dom_classes": [],
            "_model_name": "HBoxModel",
            "_view_module": "@jupyter-widgets/controls",
            "_model_module_version": "1.5.0",
            "_view_count": null,
            "_view_module_version": "1.5.0",
            "box_style": "",
            "layout": "IPY_MODEL_3e5d47e9467b44059e13ac1d648bb4c5",
            "_model_module": "@jupyter-widgets/controls",
            "children": [
              "IPY_MODEL_a661ab6a52474c66b9d029a585e563f7",
              "IPY_MODEL_e3e4765e85f74aec888db2d587a53eae"
            ]
          }
        },
        "3e5d47e9467b44059e13ac1d648bb4c5": {
          "model_module": "@jupyter-widgets/base",
          "model_name": "LayoutModel",
          "state": {
            "_view_name": "LayoutView",
            "grid_template_rows": null,
            "right": null,
            "justify_content": null,
            "_view_module": "@jupyter-widgets/base",
            "overflow": null,
            "_model_module_version": "1.2.0",
            "_view_count": null,
            "flex_flow": null,
            "width": null,
            "min_width": null,
            "border": null,
            "align_items": null,
            "bottom": null,
            "_model_module": "@jupyter-widgets/base",
            "top": null,
            "grid_column": null,
            "overflow_y": null,
            "overflow_x": null,
            "grid_auto_flow": null,
            "grid_area": null,
            "grid_template_columns": null,
            "flex": null,
            "_model_name": "LayoutModel",
            "justify_items": null,
            "grid_row": null,
            "max_height": null,
            "align_content": null,
            "visibility": null,
            "align_self": null,
            "height": null,
            "min_height": null,
            "padding": null,
            "grid_auto_rows": null,
            "grid_gap": null,
            "max_width": null,
            "order": null,
            "_view_module_version": "1.2.0",
            "grid_template_areas": null,
            "object_position": null,
            "object_fit": null,
            "grid_auto_columns": null,
            "margin": null,
            "display": null,
            "left": null
          }
        },
        "a661ab6a52474c66b9d029a585e563f7": {
          "model_module": "@jupyter-widgets/controls",
          "model_name": "FloatProgressModel",
          "state": {
            "_view_name": "ProgressView",
            "style": "IPY_MODEL_082361c4fed14c50a1b6137292985e3a",
            "_dom_classes": [],
            "description": "100%",
            "_model_name": "FloatProgressModel",
            "bar_style": "success",
            "max": 2677,
            "_view_module": "@jupyter-widgets/controls",
            "_model_module_version": "1.5.0",
            "value": 2677,
            "_view_count": null,
            "_view_module_version": "1.5.0",
            "orientation": "horizontal",
            "min": 0,
            "description_tooltip": null,
            "_model_module": "@jupyter-widgets/controls",
            "layout": "IPY_MODEL_87430b627ef54d4d9824fda354551f47"
          }
        },
        "e3e4765e85f74aec888db2d587a53eae": {
          "model_module": "@jupyter-widgets/controls",
          "model_name": "HTMLModel",
          "state": {
            "_view_name": "HTMLView",
            "style": "IPY_MODEL_0e861bb0c44644e1a4e61d2c9fc6d460",
            "_dom_classes": [],
            "description": "",
            "_model_name": "HTMLModel",
            "placeholder": "​",
            "_view_module": "@jupyter-widgets/controls",
            "_model_module_version": "1.5.0",
            "value": " 2677/2677 [00:03&lt;00:00, 806.92it/s]",
            "_view_count": null,
            "_view_module_version": "1.5.0",
            "description_tooltip": null,
            "_model_module": "@jupyter-widgets/controls",
            "layout": "IPY_MODEL_c378d93df9e54d7da0f641a0e373257a"
          }
        },
        "082361c4fed14c50a1b6137292985e3a": {
          "model_module": "@jupyter-widgets/controls",
          "model_name": "ProgressStyleModel",
          "state": {
            "_view_name": "StyleView",
            "_model_name": "ProgressStyleModel",
            "description_width": "initial",
            "_view_module": "@jupyter-widgets/base",
            "_model_module_version": "1.5.0",
            "_view_count": null,
            "_view_module_version": "1.2.0",
            "bar_color": null,
            "_model_module": "@jupyter-widgets/controls"
          }
        },
        "87430b627ef54d4d9824fda354551f47": {
          "model_module": "@jupyter-widgets/base",
          "model_name": "LayoutModel",
          "state": {
            "_view_name": "LayoutView",
            "grid_template_rows": null,
            "right": null,
            "justify_content": null,
            "_view_module": "@jupyter-widgets/base",
            "overflow": null,
            "_model_module_version": "1.2.0",
            "_view_count": null,
            "flex_flow": null,
            "width": null,
            "min_width": null,
            "border": null,
            "align_items": null,
            "bottom": null,
            "_model_module": "@jupyter-widgets/base",
            "top": null,
            "grid_column": null,
            "overflow_y": null,
            "overflow_x": null,
            "grid_auto_flow": null,
            "grid_area": null,
            "grid_template_columns": null,
            "flex": null,
            "_model_name": "LayoutModel",
            "justify_items": null,
            "grid_row": null,
            "max_height": null,
            "align_content": null,
            "visibility": null,
            "align_self": null,
            "height": null,
            "min_height": null,
            "padding": null,
            "grid_auto_rows": null,
            "grid_gap": null,
            "max_width": null,
            "order": null,
            "_view_module_version": "1.2.0",
            "grid_template_areas": null,
            "object_position": null,
            "object_fit": null,
            "grid_auto_columns": null,
            "margin": null,
            "display": null,
            "left": null
          }
        },
        "0e861bb0c44644e1a4e61d2c9fc6d460": {
          "model_module": "@jupyter-widgets/controls",
          "model_name": "DescriptionStyleModel",
          "state": {
            "_view_name": "StyleView",
            "_model_name": "DescriptionStyleModel",
            "description_width": "",
            "_view_module": "@jupyter-widgets/base",
            "_model_module_version": "1.5.0",
            "_view_count": null,
            "_view_module_version": "1.2.0",
            "_model_module": "@jupyter-widgets/controls"
          }
        },
        "c378d93df9e54d7da0f641a0e373257a": {
          "model_module": "@jupyter-widgets/base",
          "model_name": "LayoutModel",
          "state": {
            "_view_name": "LayoutView",
            "grid_template_rows": null,
            "right": null,
            "justify_content": null,
            "_view_module": "@jupyter-widgets/base",
            "overflow": null,
            "_model_module_version": "1.2.0",
            "_view_count": null,
            "flex_flow": null,
            "width": null,
            "min_width": null,
            "border": null,
            "align_items": null,
            "bottom": null,
            "_model_module": "@jupyter-widgets/base",
            "top": null,
            "grid_column": null,
            "overflow_y": null,
            "overflow_x": null,
            "grid_auto_flow": null,
            "grid_area": null,
            "grid_template_columns": null,
            "flex": null,
            "_model_name": "LayoutModel",
            "justify_items": null,
            "grid_row": null,
            "max_height": null,
            "align_content": null,
            "visibility": null,
            "align_self": null,
            "height": null,
            "min_height": null,
            "padding": null,
            "grid_auto_rows": null,
            "grid_gap": null,
            "max_width": null,
            "order": null,
            "_view_module_version": "1.2.0",
            "grid_template_areas": null,
            "object_position": null,
            "object_fit": null,
            "grid_auto_columns": null,
            "margin": null,
            "display": null,
            "left": null
          }
        },
        "613d7f6faadc4512b3ebb97d96bee42d": {
          "model_module": "@jupyter-widgets/controls",
          "model_name": "HBoxModel",
          "state": {
            "_view_name": "HBoxView",
            "_dom_classes": [],
            "_model_name": "HBoxModel",
            "_view_module": "@jupyter-widgets/controls",
            "_model_module_version": "1.5.0",
            "_view_count": null,
            "_view_module_version": "1.5.0",
            "box_style": "",
            "layout": "IPY_MODEL_66e7e73bbb6e4f29afd853d136485257",
            "_model_module": "@jupyter-widgets/controls",
            "children": [
              "IPY_MODEL_8e2edbd7c8674f689e62a6241b8ad27e",
              "IPY_MODEL_dfc29a0cc0bc49c68bb560a72b324d4a"
            ]
          }
        },
        "66e7e73bbb6e4f29afd853d136485257": {
          "model_module": "@jupyter-widgets/base",
          "model_name": "LayoutModel",
          "state": {
            "_view_name": "LayoutView",
            "grid_template_rows": null,
            "right": null,
            "justify_content": null,
            "_view_module": "@jupyter-widgets/base",
            "overflow": null,
            "_model_module_version": "1.2.0",
            "_view_count": null,
            "flex_flow": null,
            "width": null,
            "min_width": null,
            "border": null,
            "align_items": null,
            "bottom": null,
            "_model_module": "@jupyter-widgets/base",
            "top": null,
            "grid_column": null,
            "overflow_y": null,
            "overflow_x": null,
            "grid_auto_flow": null,
            "grid_area": null,
            "grid_template_columns": null,
            "flex": null,
            "_model_name": "LayoutModel",
            "justify_items": null,
            "grid_row": null,
            "max_height": null,
            "align_content": null,
            "visibility": null,
            "align_self": null,
            "height": null,
            "min_height": null,
            "padding": null,
            "grid_auto_rows": null,
            "grid_gap": null,
            "max_width": null,
            "order": null,
            "_view_module_version": "1.2.0",
            "grid_template_areas": null,
            "object_position": null,
            "object_fit": null,
            "grid_auto_columns": null,
            "margin": null,
            "display": null,
            "left": null
          }
        },
        "8e2edbd7c8674f689e62a6241b8ad27e": {
          "model_module": "@jupyter-widgets/controls",
          "model_name": "FloatProgressModel",
          "state": {
            "_view_name": "ProgressView",
            "style": "IPY_MODEL_db4974a6c66d4650a57e9934551e2ce6",
            "_dom_classes": [],
            "description": "100%",
            "_model_name": "FloatProgressModel",
            "bar_style": "success",
            "max": 14241,
            "_view_module": "@jupyter-widgets/controls",
            "_model_module_version": "1.5.0",
            "value": 14241,
            "_view_count": null,
            "_view_module_version": "1.5.0",
            "orientation": "horizontal",
            "min": 0,
            "description_tooltip": null,
            "_model_module": "@jupyter-widgets/controls",
            "layout": "IPY_MODEL_1fbee3161181437e87bbcc369d9747bf"
          }
        },
        "dfc29a0cc0bc49c68bb560a72b324d4a": {
          "model_module": "@jupyter-widgets/controls",
          "model_name": "HTMLModel",
          "state": {
            "_view_name": "HTMLView",
            "style": "IPY_MODEL_6d6003b7fafb48cd9c5f2bfb893e9db3",
            "_dom_classes": [],
            "description": "",
            "_model_name": "HTMLModel",
            "placeholder": "​",
            "_view_module": "@jupyter-widgets/controls",
            "_model_module_version": "1.5.0",
            "value": " 14241/14241 [00:00&lt;00:00, 56590.05it/s]",
            "_view_count": null,
            "_view_module_version": "1.5.0",
            "description_tooltip": null,
            "_model_module": "@jupyter-widgets/controls",
            "layout": "IPY_MODEL_90680cfe131c4e9ea02152ca5fe69548"
          }
        },
        "db4974a6c66d4650a57e9934551e2ce6": {
          "model_module": "@jupyter-widgets/controls",
          "model_name": "ProgressStyleModel",
          "state": {
            "_view_name": "StyleView",
            "_model_name": "ProgressStyleModel",
            "description_width": "initial",
            "_view_module": "@jupyter-widgets/base",
            "_model_module_version": "1.5.0",
            "_view_count": null,
            "_view_module_version": "1.2.0",
            "bar_color": null,
            "_model_module": "@jupyter-widgets/controls"
          }
        },
        "1fbee3161181437e87bbcc369d9747bf": {
          "model_module": "@jupyter-widgets/base",
          "model_name": "LayoutModel",
          "state": {
            "_view_name": "LayoutView",
            "grid_template_rows": null,
            "right": null,
            "justify_content": null,
            "_view_module": "@jupyter-widgets/base",
            "overflow": null,
            "_model_module_version": "1.2.0",
            "_view_count": null,
            "flex_flow": null,
            "width": null,
            "min_width": null,
            "border": null,
            "align_items": null,
            "bottom": null,
            "_model_module": "@jupyter-widgets/base",
            "top": null,
            "grid_column": null,
            "overflow_y": null,
            "overflow_x": null,
            "grid_auto_flow": null,
            "grid_area": null,
            "grid_template_columns": null,
            "flex": null,
            "_model_name": "LayoutModel",
            "justify_items": null,
            "grid_row": null,
            "max_height": null,
            "align_content": null,
            "visibility": null,
            "align_self": null,
            "height": null,
            "min_height": null,
            "padding": null,
            "grid_auto_rows": null,
            "grid_gap": null,
            "max_width": null,
            "order": null,
            "_view_module_version": "1.2.0",
            "grid_template_areas": null,
            "object_position": null,
            "object_fit": null,
            "grid_auto_columns": null,
            "margin": null,
            "display": null,
            "left": null
          }
        },
        "6d6003b7fafb48cd9c5f2bfb893e9db3": {
          "model_module": "@jupyter-widgets/controls",
          "model_name": "DescriptionStyleModel",
          "state": {
            "_view_name": "StyleView",
            "_model_name": "DescriptionStyleModel",
            "description_width": "",
            "_view_module": "@jupyter-widgets/base",
            "_model_module_version": "1.5.0",
            "_view_count": null,
            "_view_module_version": "1.2.0",
            "_model_module": "@jupyter-widgets/controls"
          }
        },
        "90680cfe131c4e9ea02152ca5fe69548": {
          "model_module": "@jupyter-widgets/base",
          "model_name": "LayoutModel",
          "state": {
            "_view_name": "LayoutView",
            "grid_template_rows": null,
            "right": null,
            "justify_content": null,
            "_view_module": "@jupyter-widgets/base",
            "overflow": null,
            "_model_module_version": "1.2.0",
            "_view_count": null,
            "flex_flow": null,
            "width": null,
            "min_width": null,
            "border": null,
            "align_items": null,
            "bottom": null,
            "_model_module": "@jupyter-widgets/base",
            "top": null,
            "grid_column": null,
            "overflow_y": null,
            "overflow_x": null,
            "grid_auto_flow": null,
            "grid_area": null,
            "grid_template_columns": null,
            "flex": null,
            "_model_name": "LayoutModel",
            "justify_items": null,
            "grid_row": null,
            "max_height": null,
            "align_content": null,
            "visibility": null,
            "align_self": null,
            "height": null,
            "min_height": null,
            "padding": null,
            "grid_auto_rows": null,
            "grid_gap": null,
            "max_width": null,
            "order": null,
            "_view_module_version": "1.2.0",
            "grid_template_areas": null,
            "object_position": null,
            "object_fit": null,
            "grid_auto_columns": null,
            "margin": null,
            "display": null,
            "left": null
          }
        },
        "b79f3617b4e24613a661dce5cd8aa065": {
          "model_module": "@jupyter-widgets/controls",
          "model_name": "HBoxModel",
          "state": {
            "_view_name": "HBoxView",
            "_dom_classes": [],
            "_model_name": "HBoxModel",
            "_view_module": "@jupyter-widgets/controls",
            "_model_module_version": "1.5.0",
            "_view_count": null,
            "_view_module_version": "1.5.0",
            "box_style": "",
            "layout": "IPY_MODEL_8045a8c5259d4d7487cc788386dbef8b",
            "_model_module": "@jupyter-widgets/controls",
            "children": [
              "IPY_MODEL_1324d2955a994149a42e8b1ab0b7caf9",
              "IPY_MODEL_c7733f47998b4334b029a96429fed11b"
            ]
          }
        },
        "8045a8c5259d4d7487cc788386dbef8b": {
          "model_module": "@jupyter-widgets/base",
          "model_name": "LayoutModel",
          "state": {
            "_view_name": "LayoutView",
            "grid_template_rows": null,
            "right": null,
            "justify_content": null,
            "_view_module": "@jupyter-widgets/base",
            "overflow": null,
            "_model_module_version": "1.2.0",
            "_view_count": null,
            "flex_flow": null,
            "width": null,
            "min_width": null,
            "border": null,
            "align_items": null,
            "bottom": null,
            "_model_module": "@jupyter-widgets/base",
            "top": null,
            "grid_column": null,
            "overflow_y": null,
            "overflow_x": null,
            "grid_auto_flow": null,
            "grid_area": null,
            "grid_template_columns": null,
            "flex": null,
            "_model_name": "LayoutModel",
            "justify_items": null,
            "grid_row": null,
            "max_height": null,
            "align_content": null,
            "visibility": null,
            "align_self": null,
            "height": null,
            "min_height": null,
            "padding": null,
            "grid_auto_rows": null,
            "grid_gap": null,
            "max_width": null,
            "order": null,
            "_view_module_version": "1.2.0",
            "grid_template_areas": null,
            "object_position": null,
            "object_fit": null,
            "grid_auto_columns": null,
            "margin": null,
            "display": null,
            "left": null
          }
        },
        "1324d2955a994149a42e8b1ab0b7caf9": {
          "model_module": "@jupyter-widgets/controls",
          "model_name": "FloatProgressModel",
          "state": {
            "_view_name": "ProgressView",
            "style": "IPY_MODEL_7bcfa08051a842e794652b2677a8f806",
            "_dom_classes": [],
            "description": "100%",
            "_model_name": "FloatProgressModel",
            "bar_style": "success",
            "max": 14241,
            "_view_module": "@jupyter-widgets/controls",
            "_model_module_version": "1.5.0",
            "value": 14241,
            "_view_count": null,
            "_view_module_version": "1.5.0",
            "orientation": "horizontal",
            "min": 0,
            "description_tooltip": null,
            "_model_module": "@jupyter-widgets/controls",
            "layout": "IPY_MODEL_dbfec23f671842b5bd736babce36b163"
          }
        },
        "c7733f47998b4334b029a96429fed11b": {
          "model_module": "@jupyter-widgets/controls",
          "model_name": "HTMLModel",
          "state": {
            "_view_name": "HTMLView",
            "style": "IPY_MODEL_aeb9f7719d4747758b8563675d6a2698",
            "_dom_classes": [],
            "description": "",
            "_model_name": "HTMLModel",
            "placeholder": "​",
            "_view_module": "@jupyter-widgets/controls",
            "_model_module_version": "1.5.0",
            "value": " 14241/14241 [00:00&lt;00:00, 63911.47it/s]",
            "_view_count": null,
            "_view_module_version": "1.5.0",
            "description_tooltip": null,
            "_model_module": "@jupyter-widgets/controls",
            "layout": "IPY_MODEL_cd2564fa4289445ba0917a05ef429a44"
          }
        },
        "7bcfa08051a842e794652b2677a8f806": {
          "model_module": "@jupyter-widgets/controls",
          "model_name": "ProgressStyleModel",
          "state": {
            "_view_name": "StyleView",
            "_model_name": "ProgressStyleModel",
            "description_width": "initial",
            "_view_module": "@jupyter-widgets/base",
            "_model_module_version": "1.5.0",
            "_view_count": null,
            "_view_module_version": "1.2.0",
            "bar_color": null,
            "_model_module": "@jupyter-widgets/controls"
          }
        },
        "dbfec23f671842b5bd736babce36b163": {
          "model_module": "@jupyter-widgets/base",
          "model_name": "LayoutModel",
          "state": {
            "_view_name": "LayoutView",
            "grid_template_rows": null,
            "right": null,
            "justify_content": null,
            "_view_module": "@jupyter-widgets/base",
            "overflow": null,
            "_model_module_version": "1.2.0",
            "_view_count": null,
            "flex_flow": null,
            "width": null,
            "min_width": null,
            "border": null,
            "align_items": null,
            "bottom": null,
            "_model_module": "@jupyter-widgets/base",
            "top": null,
            "grid_column": null,
            "overflow_y": null,
            "overflow_x": null,
            "grid_auto_flow": null,
            "grid_area": null,
            "grid_template_columns": null,
            "flex": null,
            "_model_name": "LayoutModel",
            "justify_items": null,
            "grid_row": null,
            "max_height": null,
            "align_content": null,
            "visibility": null,
            "align_self": null,
            "height": null,
            "min_height": null,
            "padding": null,
            "grid_auto_rows": null,
            "grid_gap": null,
            "max_width": null,
            "order": null,
            "_view_module_version": "1.2.0",
            "grid_template_areas": null,
            "object_position": null,
            "object_fit": null,
            "grid_auto_columns": null,
            "margin": null,
            "display": null,
            "left": null
          }
        },
        "aeb9f7719d4747758b8563675d6a2698": {
          "model_module": "@jupyter-widgets/controls",
          "model_name": "DescriptionStyleModel",
          "state": {
            "_view_name": "StyleView",
            "_model_name": "DescriptionStyleModel",
            "description_width": "",
            "_view_module": "@jupyter-widgets/base",
            "_model_module_version": "1.5.0",
            "_view_count": null,
            "_view_module_version": "1.2.0",
            "_model_module": "@jupyter-widgets/controls"
          }
        },
        "cd2564fa4289445ba0917a05ef429a44": {
          "model_module": "@jupyter-widgets/base",
          "model_name": "LayoutModel",
          "state": {
            "_view_name": "LayoutView",
            "grid_template_rows": null,
            "right": null,
            "justify_content": null,
            "_view_module": "@jupyter-widgets/base",
            "overflow": null,
            "_model_module_version": "1.2.0",
            "_view_count": null,
            "flex_flow": null,
            "width": null,
            "min_width": null,
            "border": null,
            "align_items": null,
            "bottom": null,
            "_model_module": "@jupyter-widgets/base",
            "top": null,
            "grid_column": null,
            "overflow_y": null,
            "overflow_x": null,
            "grid_auto_flow": null,
            "grid_area": null,
            "grid_template_columns": null,
            "flex": null,
            "_model_name": "LayoutModel",
            "justify_items": null,
            "grid_row": null,
            "max_height": null,
            "align_content": null,
            "visibility": null,
            "align_self": null,
            "height": null,
            "min_height": null,
            "padding": null,
            "grid_auto_rows": null,
            "grid_gap": null,
            "max_width": null,
            "order": null,
            "_view_module_version": "1.2.0",
            "grid_template_areas": null,
            "object_position": null,
            "object_fit": null,
            "grid_auto_columns": null,
            "margin": null,
            "display": null,
            "left": null
          }
        },
        "c50482ae78ca441c82c50c823e1760fb": {
          "model_module": "@jupyter-widgets/controls",
          "model_name": "HBoxModel",
          "state": {
            "_view_name": "HBoxView",
            "_dom_classes": [],
            "_model_name": "HBoxModel",
            "_view_module": "@jupyter-widgets/controls",
            "_model_module_version": "1.5.0",
            "_view_count": null,
            "_view_module_version": "1.5.0",
            "box_style": "",
            "layout": "IPY_MODEL_0cbdbc9c67bb418aa18b5f6c6c89c634",
            "_model_module": "@jupyter-widgets/controls",
            "children": [
              "IPY_MODEL_9606f6215b484fe096b1c32ecc59b295",
              "IPY_MODEL_a8818c510d9c44828c20c4dea645944f"
            ]
          }
        },
        "0cbdbc9c67bb418aa18b5f6c6c89c634": {
          "model_module": "@jupyter-widgets/base",
          "model_name": "LayoutModel",
          "state": {
            "_view_name": "LayoutView",
            "grid_template_rows": null,
            "right": null,
            "justify_content": null,
            "_view_module": "@jupyter-widgets/base",
            "overflow": null,
            "_model_module_version": "1.2.0",
            "_view_count": null,
            "flex_flow": null,
            "width": null,
            "min_width": null,
            "border": null,
            "align_items": null,
            "bottom": null,
            "_model_module": "@jupyter-widgets/base",
            "top": null,
            "grid_column": null,
            "overflow_y": null,
            "overflow_x": null,
            "grid_auto_flow": null,
            "grid_area": null,
            "grid_template_columns": null,
            "flex": null,
            "_model_name": "LayoutModel",
            "justify_items": null,
            "grid_row": null,
            "max_height": null,
            "align_content": null,
            "visibility": null,
            "align_self": null,
            "height": null,
            "min_height": null,
            "padding": null,
            "grid_auto_rows": null,
            "grid_gap": null,
            "max_width": null,
            "order": null,
            "_view_module_version": "1.2.0",
            "grid_template_areas": null,
            "object_position": null,
            "object_fit": null,
            "grid_auto_columns": null,
            "margin": null,
            "display": null,
            "left": null
          }
        },
        "9606f6215b484fe096b1c32ecc59b295": {
          "model_module": "@jupyter-widgets/controls",
          "model_name": "FloatProgressModel",
          "state": {
            "_view_name": "ProgressView",
            "style": "IPY_MODEL_339615a061a14b62b857d6a06836030b",
            "_dom_classes": [],
            "description": "100%",
            "_model_name": "FloatProgressModel",
            "bar_style": "success",
            "max": 14241,
            "_view_module": "@jupyter-widgets/controls",
            "_model_module_version": "1.5.0",
            "value": 14241,
            "_view_count": null,
            "_view_module_version": "1.5.0",
            "orientation": "horizontal",
            "min": 0,
            "description_tooltip": null,
            "_model_module": "@jupyter-widgets/controls",
            "layout": "IPY_MODEL_f40e6597028d4a89a303fd437eac8e9a"
          }
        },
        "a8818c510d9c44828c20c4dea645944f": {
          "model_module": "@jupyter-widgets/controls",
          "model_name": "HTMLModel",
          "state": {
            "_view_name": "HTMLView",
            "style": "IPY_MODEL_0f402e52ae574f109699a957b0694940",
            "_dom_classes": [],
            "description": "",
            "_model_name": "HTMLModel",
            "placeholder": "​",
            "_view_module": "@jupyter-widgets/controls",
            "_model_module_version": "1.5.0",
            "value": " 14241/14241 [00:00&lt;00:00, 65001.96it/s]",
            "_view_count": null,
            "_view_module_version": "1.5.0",
            "description_tooltip": null,
            "_model_module": "@jupyter-widgets/controls",
            "layout": "IPY_MODEL_93584923e97b4e29a9c33de518c3d4c0"
          }
        },
        "339615a061a14b62b857d6a06836030b": {
          "model_module": "@jupyter-widgets/controls",
          "model_name": "ProgressStyleModel",
          "state": {
            "_view_name": "StyleView",
            "_model_name": "ProgressStyleModel",
            "description_width": "initial",
            "_view_module": "@jupyter-widgets/base",
            "_model_module_version": "1.5.0",
            "_view_count": null,
            "_view_module_version": "1.2.0",
            "bar_color": null,
            "_model_module": "@jupyter-widgets/controls"
          }
        },
        "f40e6597028d4a89a303fd437eac8e9a": {
          "model_module": "@jupyter-widgets/base",
          "model_name": "LayoutModel",
          "state": {
            "_view_name": "LayoutView",
            "grid_template_rows": null,
            "right": null,
            "justify_content": null,
            "_view_module": "@jupyter-widgets/base",
            "overflow": null,
            "_model_module_version": "1.2.0",
            "_view_count": null,
            "flex_flow": null,
            "width": null,
            "min_width": null,
            "border": null,
            "align_items": null,
            "bottom": null,
            "_model_module": "@jupyter-widgets/base",
            "top": null,
            "grid_column": null,
            "overflow_y": null,
            "overflow_x": null,
            "grid_auto_flow": null,
            "grid_area": null,
            "grid_template_columns": null,
            "flex": null,
            "_model_name": "LayoutModel",
            "justify_items": null,
            "grid_row": null,
            "max_height": null,
            "align_content": null,
            "visibility": null,
            "align_self": null,
            "height": null,
            "min_height": null,
            "padding": null,
            "grid_auto_rows": null,
            "grid_gap": null,
            "max_width": null,
            "order": null,
            "_view_module_version": "1.2.0",
            "grid_template_areas": null,
            "object_position": null,
            "object_fit": null,
            "grid_auto_columns": null,
            "margin": null,
            "display": null,
            "left": null
          }
        },
        "0f402e52ae574f109699a957b0694940": {
          "model_module": "@jupyter-widgets/controls",
          "model_name": "DescriptionStyleModel",
          "state": {
            "_view_name": "StyleView",
            "_model_name": "DescriptionStyleModel",
            "description_width": "",
            "_view_module": "@jupyter-widgets/base",
            "_model_module_version": "1.5.0",
            "_view_count": null,
            "_view_module_version": "1.2.0",
            "_model_module": "@jupyter-widgets/controls"
          }
        },
        "93584923e97b4e29a9c33de518c3d4c0": {
          "model_module": "@jupyter-widgets/base",
          "model_name": "LayoutModel",
          "state": {
            "_view_name": "LayoutView",
            "grid_template_rows": null,
            "right": null,
            "justify_content": null,
            "_view_module": "@jupyter-widgets/base",
            "overflow": null,
            "_model_module_version": "1.2.0",
            "_view_count": null,
            "flex_flow": null,
            "width": null,
            "min_width": null,
            "border": null,
            "align_items": null,
            "bottom": null,
            "_model_module": "@jupyter-widgets/base",
            "top": null,
            "grid_column": null,
            "overflow_y": null,
            "overflow_x": null,
            "grid_auto_flow": null,
            "grid_area": null,
            "grid_template_columns": null,
            "flex": null,
            "_model_name": "LayoutModel",
            "justify_items": null,
            "grid_row": null,
            "max_height": null,
            "align_content": null,
            "visibility": null,
            "align_self": null,
            "height": null,
            "min_height": null,
            "padding": null,
            "grid_auto_rows": null,
            "grid_gap": null,
            "max_width": null,
            "order": null,
            "_view_module_version": "1.2.0",
            "grid_template_areas": null,
            "object_position": null,
            "object_fit": null,
            "grid_auto_columns": null,
            "margin": null,
            "display": null,
            "left": null
          }
        },
        "d295b0dbf15a4938b73e7ee7052c3ad6": {
          "model_module": "@jupyter-widgets/controls",
          "model_name": "HBoxModel",
          "state": {
            "_view_name": "HBoxView",
            "_dom_classes": [],
            "_model_name": "HBoxModel",
            "_view_module": "@jupyter-widgets/controls",
            "_model_module_version": "1.5.0",
            "_view_count": null,
            "_view_module_version": "1.5.0",
            "box_style": "",
            "layout": "IPY_MODEL_dcee1c38e4ed444f8eaf467e81542ce0",
            "_model_module": "@jupyter-widgets/controls",
            "children": [
              "IPY_MODEL_a60dac7847bd4ac5bb39e6680886f369",
              "IPY_MODEL_31336ce91da948e6be7172a0badd29ed"
            ]
          }
        },
        "dcee1c38e4ed444f8eaf467e81542ce0": {
          "model_module": "@jupyter-widgets/base",
          "model_name": "LayoutModel",
          "state": {
            "_view_name": "LayoutView",
            "grid_template_rows": null,
            "right": null,
            "justify_content": null,
            "_view_module": "@jupyter-widgets/base",
            "overflow": null,
            "_model_module_version": "1.2.0",
            "_view_count": null,
            "flex_flow": null,
            "width": null,
            "min_width": null,
            "border": null,
            "align_items": null,
            "bottom": null,
            "_model_module": "@jupyter-widgets/base",
            "top": null,
            "grid_column": null,
            "overflow_y": null,
            "overflow_x": null,
            "grid_auto_flow": null,
            "grid_area": null,
            "grid_template_columns": null,
            "flex": null,
            "_model_name": "LayoutModel",
            "justify_items": null,
            "grid_row": null,
            "max_height": null,
            "align_content": null,
            "visibility": null,
            "align_self": null,
            "height": null,
            "min_height": null,
            "padding": null,
            "grid_auto_rows": null,
            "grid_gap": null,
            "max_width": null,
            "order": null,
            "_view_module_version": "1.2.0",
            "grid_template_areas": null,
            "object_position": null,
            "object_fit": null,
            "grid_auto_columns": null,
            "margin": null,
            "display": null,
            "left": null
          }
        },
        "a60dac7847bd4ac5bb39e6680886f369": {
          "model_module": "@jupyter-widgets/controls",
          "model_name": "FloatProgressModel",
          "state": {
            "_view_name": "ProgressView",
            "style": "IPY_MODEL_24d72b1114b442d6bdd8a1bdfe9fdcf4",
            "_dom_classes": [],
            "description": "100%",
            "_model_name": "FloatProgressModel",
            "bar_style": "success",
            "max": 14241,
            "_view_module": "@jupyter-widgets/controls",
            "_model_module_version": "1.5.0",
            "value": 14241,
            "_view_count": null,
            "_view_module_version": "1.5.0",
            "orientation": "horizontal",
            "min": 0,
            "description_tooltip": null,
            "_model_module": "@jupyter-widgets/controls",
            "layout": "IPY_MODEL_2d7b056c305844868e76ccb42a48efd8"
          }
        },
        "31336ce91da948e6be7172a0badd29ed": {
          "model_module": "@jupyter-widgets/controls",
          "model_name": "HTMLModel",
          "state": {
            "_view_name": "HTMLView",
            "style": "IPY_MODEL_e4ad81f182f646fea1fbf555da911c4b",
            "_dom_classes": [],
            "description": "",
            "_model_name": "HTMLModel",
            "placeholder": "​",
            "_view_module": "@jupyter-widgets/controls",
            "_model_module_version": "1.5.0",
            "value": " 14241/14241 [00:00&lt;00:00, 71315.67it/s]",
            "_view_count": null,
            "_view_module_version": "1.5.0",
            "description_tooltip": null,
            "_model_module": "@jupyter-widgets/controls",
            "layout": "IPY_MODEL_2c6a67637cd54d538752d97d7529409a"
          }
        },
        "24d72b1114b442d6bdd8a1bdfe9fdcf4": {
          "model_module": "@jupyter-widgets/controls",
          "model_name": "ProgressStyleModel",
          "state": {
            "_view_name": "StyleView",
            "_model_name": "ProgressStyleModel",
            "description_width": "initial",
            "_view_module": "@jupyter-widgets/base",
            "_model_module_version": "1.5.0",
            "_view_count": null,
            "_view_module_version": "1.2.0",
            "bar_color": null,
            "_model_module": "@jupyter-widgets/controls"
          }
        },
        "2d7b056c305844868e76ccb42a48efd8": {
          "model_module": "@jupyter-widgets/base",
          "model_name": "LayoutModel",
          "state": {
            "_view_name": "LayoutView",
            "grid_template_rows": null,
            "right": null,
            "justify_content": null,
            "_view_module": "@jupyter-widgets/base",
            "overflow": null,
            "_model_module_version": "1.2.0",
            "_view_count": null,
            "flex_flow": null,
            "width": null,
            "min_width": null,
            "border": null,
            "align_items": null,
            "bottom": null,
            "_model_module": "@jupyter-widgets/base",
            "top": null,
            "grid_column": null,
            "overflow_y": null,
            "overflow_x": null,
            "grid_auto_flow": null,
            "grid_area": null,
            "grid_template_columns": null,
            "flex": null,
            "_model_name": "LayoutModel",
            "justify_items": null,
            "grid_row": null,
            "max_height": null,
            "align_content": null,
            "visibility": null,
            "align_self": null,
            "height": null,
            "min_height": null,
            "padding": null,
            "grid_auto_rows": null,
            "grid_gap": null,
            "max_width": null,
            "order": null,
            "_view_module_version": "1.2.0",
            "grid_template_areas": null,
            "object_position": null,
            "object_fit": null,
            "grid_auto_columns": null,
            "margin": null,
            "display": null,
            "left": null
          }
        },
        "e4ad81f182f646fea1fbf555da911c4b": {
          "model_module": "@jupyter-widgets/controls",
          "model_name": "DescriptionStyleModel",
          "state": {
            "_view_name": "StyleView",
            "_model_name": "DescriptionStyleModel",
            "description_width": "",
            "_view_module": "@jupyter-widgets/base",
            "_model_module_version": "1.5.0",
            "_view_count": null,
            "_view_module_version": "1.2.0",
            "_model_module": "@jupyter-widgets/controls"
          }
        },
        "2c6a67637cd54d538752d97d7529409a": {
          "model_module": "@jupyter-widgets/base",
          "model_name": "LayoutModel",
          "state": {
            "_view_name": "LayoutView",
            "grid_template_rows": null,
            "right": null,
            "justify_content": null,
            "_view_module": "@jupyter-widgets/base",
            "overflow": null,
            "_model_module_version": "1.2.0",
            "_view_count": null,
            "flex_flow": null,
            "width": null,
            "min_width": null,
            "border": null,
            "align_items": null,
            "bottom": null,
            "_model_module": "@jupyter-widgets/base",
            "top": null,
            "grid_column": null,
            "overflow_y": null,
            "overflow_x": null,
            "grid_auto_flow": null,
            "grid_area": null,
            "grid_template_columns": null,
            "flex": null,
            "_model_name": "LayoutModel",
            "justify_items": null,
            "grid_row": null,
            "max_height": null,
            "align_content": null,
            "visibility": null,
            "align_self": null,
            "height": null,
            "min_height": null,
            "padding": null,
            "grid_auto_rows": null,
            "grid_gap": null,
            "max_width": null,
            "order": null,
            "_view_module_version": "1.2.0",
            "grid_template_areas": null,
            "object_position": null,
            "object_fit": null,
            "grid_auto_columns": null,
            "margin": null,
            "display": null,
            "left": null
          }
        }
      }
    }
  },
  "cells": [
    {
      "cell_type": "markdown",
      "metadata": {
        "id": "view-in-github",
        "colab_type": "text"
      },
      "source": [
        "<a href=\"https://colab.research.google.com/github/hoky1227/Transformer_based-recommendation/blob/main/Transformer_with_ECF_Algorithm_1230_F.ipynb\" target=\"_parent\"><img src=\"https://colab.research.google.com/assets/colab-badge.svg\" alt=\"Open In Colab\"/></a>"
      ]
    },
    {
      "cell_type": "code",
      "metadata": {
        "id": "NZkzctqF7wdX",
        "colab": {
          "base_uri": "https://localhost:8080/"
        },
        "outputId": "00747971-7b55-4d1e-91a9-1c0e3b10dadd"
      },
      "source": [
        "from google.colab import drive\n",
        "drive.mount('/content/drive')\n",
        "\n",
        "path = '/content/drive/MyDrive/'"
      ],
      "execution_count": 2,
      "outputs": [
        {
          "output_type": "stream",
          "text": [
            "Drive already mounted at /content/drive; to attempt to forcibly remount, call drive.mount(\"/content/drive\", force_remount=True).\n"
          ],
          "name": "stdout"
        }
      ]
    },
    {
      "cell_type": "markdown",
      "metadata": {
        "id": "gq7X0GG97To_"
      },
      "source": [
        "### Module 가져오기"
      ]
    },
    {
      "cell_type": "code",
      "metadata": {
        "id": "XLxp7sxmZk43"
      },
      "source": [
        "import numpy as np\n",
        "import pandas as pd\n",
        "from gensim.models import Word2Vec\n",
        "import matplotlib.pyplot as plt\n",
        "from tqdm import tqdm_notebook\n",
        "import math\n",
        "from numpy.linalg import norm\n",
        "from sklearn.metrics.pairwise import cosine_similarity\n",
        "from scipy.spatial.distance import euclidean\n",
        "\n",
        "import warnings \n",
        "\n",
        "warnings.filterwarnings('ignore')"
      ],
      "execution_count": 3,
      "outputs": []
    },
    {
      "cell_type": "markdown",
      "metadata": {
        "id": "lTZJXfbD7TpY"
      },
      "source": [
        "### Data Road"
      ]
    },
    {
      "cell_type": "code",
      "metadata": {
        "id": "A6d7H7aAJ-v1",
        "colab": {
          "base_uri": "https://localhost:8080/",
          "height": 588
        },
        "outputId": "c6a58023-dd08-44df-8fb1-bf39e86ee3d2"
      },
      "source": [
        "TFoutputs = pd.read_csv(path + \"Transformer_test_outputs_20.csv\")\n",
        "TFoutputs.pop('Unnamed: 0')\n",
        "TFoutputs"
      ],
      "execution_count": 4,
      "outputs": [
        {
          "output_type": "execute_result",
          "data": {
            "text/html": [
              "<div>\n",
              "<style scoped>\n",
              "    .dataframe tbody tr th:only-of-type {\n",
              "        vertical-align: middle;\n",
              "    }\n",
              "\n",
              "    .dataframe tbody tr th {\n",
              "        vertical-align: top;\n",
              "    }\n",
              "\n",
              "    .dataframe thead th {\n",
              "        text-align: right;\n",
              "    }\n",
              "</style>\n",
              "<table border=\"1\" class=\"dataframe\">\n",
              "  <thead>\n",
              "    <tr style=\"text-align: right;\">\n",
              "      <th></th>\n",
              "      <th>train</th>\n",
              "      <th>label</th>\n",
              "      <th>split_train_token</th>\n",
              "      <th>split_label_token</th>\n",
              "      <th>predict_item</th>\n",
              "    </tr>\n",
              "  </thead>\n",
              "  <tbody>\n",
              "    <tr>\n",
              "      <th>0</th>\n",
              "      <td>ENAMEL FLOWER JUG CREAM&amp;&amp;DOOR MAT FAIRY CAKE&amp;&amp;...</td>\n",
              "      <td>RED SPOTTY TABLECLOTH</td>\n",
              "      <td>&lt;esp&gt; ENAMEL FLOWER JUG CREAM &lt;esp&gt; DOOR MAT F...</td>\n",
              "      <td>&lt;esp&gt; RED SPOTTY TABLECLOTH &lt;esp&gt;</td>\n",
              "      <td>&lt;esp&gt; ENAMEL BREAD BIN CREAM &lt;esp&gt;</td>\n",
              "    </tr>\n",
              "    <tr>\n",
              "      <th>1</th>\n",
              "      <td>GAOLERS KEYS DECORATIVE GARDEN&amp;&amp;HAND OPEN SHAP...</td>\n",
              "      <td>SET OF 2 FANCY FONT TEA TOWELS</td>\n",
              "      <td>&lt;esp&gt; GAOLERS KEYS DECORATIVE GARDEN &lt;esp&gt; HAN...</td>\n",
              "      <td>&lt;esp&gt; SET OF 2 FANCY FONT TEA TOWELS &lt;esp&gt;</td>\n",
              "      <td>&lt;esp&gt; PAPER BUNTING RETRO SPOTS &lt;esp&gt;</td>\n",
              "    </tr>\n",
              "    <tr>\n",
              "      <th>2</th>\n",
              "      <td>SET OF 9 HEART SHAPED BALLOONS&amp;&amp;SET OF 9 BLACK...</td>\n",
              "      <td>CERAMIC CHERRY CAKE MONEY BANK</td>\n",
              "      <td>&lt;esp&gt; SET OF 9 HEART SHAPED BALLOONS &lt;esp&gt; SET...</td>\n",
              "      <td>&lt;esp&gt; CERAMIC CHERRY CAKE MONEY BANK &lt;esp&gt;</td>\n",
              "      <td>&lt;esp&gt; ASSTD DESIGN BUBBLE GUM RING &lt;esp&gt;</td>\n",
              "    </tr>\n",
              "    <tr>\n",
              "      <th>3</th>\n",
              "      <td>HANGING HEART ZINC T-LIGHT HOLDER&amp;&amp;OPULENT VEL...</td>\n",
              "      <td>COLOUR GLASS. STAR T-LIGHT HOLDER</td>\n",
              "      <td>&lt;esp&gt; HANGING HEART ZINC T-LIGHT HOLDER &lt;esp&gt; ...</td>\n",
              "      <td>&lt;esp&gt; COLOUR GLASS. STAR T-LIGHT HOLDER &lt;esp&gt;</td>\n",
              "      <td>&lt;esp&gt; HANGING HEART ZINC T-LIGHT HOLDER &lt;esp&gt;</td>\n",
              "    </tr>\n",
              "    <tr>\n",
              "      <th>4</th>\n",
              "      <td>BAKING SET 9 PIECE RETROSPOT&amp;&amp;PARTY INVITES WO...</td>\n",
              "      <td>PARTY INVITES FOOTBALL</td>\n",
              "      <td>&lt;esp&gt; BAKING SET 9 PIECE RETROSPOT &lt;esp&gt; PARTY...</td>\n",
              "      <td>&lt;esp&gt; PARTY INVITES FOOTBALL &lt;esp&gt;</td>\n",
              "      <td>&lt;esp&gt; PARTY INVITES WOODLAND &lt;esp&gt;</td>\n",
              "    </tr>\n",
              "    <tr>\n",
              "      <th>...</th>\n",
              "      <td>...</td>\n",
              "      <td>...</td>\n",
              "      <td>...</td>\n",
              "      <td>...</td>\n",
              "      <td>...</td>\n",
              "    </tr>\n",
              "    <tr>\n",
              "      <th>14236</th>\n",
              "      <td>ENAMEL MEASURING JUG CREAM&amp;&amp;CREAM HEART CARD H...</td>\n",
              "      <td>IVORY KITCHEN SCALES</td>\n",
              "      <td>&lt;esp&gt; ENAMEL MEASURING JUG CREAM &lt;esp&gt; CREAM H...</td>\n",
              "      <td>&lt;esp&gt; IVORY KITCHEN SCALES &lt;esp&gt;</td>\n",
              "      <td>&lt;esp&gt; DOOR MAT UNION FLAG &lt;esp&gt;</td>\n",
              "    </tr>\n",
              "    <tr>\n",
              "      <th>14237</th>\n",
              "      <td>TOILET METAL SIGN&amp;&amp;SAVE THE PLANET MUG&amp;&amp;KINGS ...</td>\n",
              "      <td>POTTERING IN THE SHED METAL SIGN</td>\n",
              "      <td>&lt;esp&gt; TOILET METAL SIGN &lt;esp&gt; SAVE THE PLANET ...</td>\n",
              "      <td>&lt;esp&gt; POTTERING IN THE SHED METAL SIGN &lt;esp&gt;</td>\n",
              "      <td>&lt;esp&gt; BATHROOM METAL SIGN &lt;esp&gt;</td>\n",
              "    </tr>\n",
              "    <tr>\n",
              "      <th>14238</th>\n",
              "      <td>IVORY HANGING DECORATION  HEART&amp;&amp;HEART IVORY T...</td>\n",
              "      <td>COLOUR GLASS T-LIGHT HOLDER HANGING</td>\n",
              "      <td>&lt;esp&gt; IVORY HANGING DECORATION  HEART &lt;esp&gt; HE...</td>\n",
              "      <td>&lt;esp&gt; COLOUR GLASS T-LIGHT HOLDER HANGING &lt;esp&gt;</td>\n",
              "      <td>&lt;esp&gt; HEART T-LIGHT HOLDER &lt;esp&gt;</td>\n",
              "    </tr>\n",
              "    <tr>\n",
              "      <th>14239</th>\n",
              "      <td>LAVENDER SCENTED FABRIC HEART&amp;&amp;PLACE SETTING W...</td>\n",
              "      <td>MURANO STYLE GLASS BRACELET PINK</td>\n",
              "      <td>&lt;esp&gt; LAVENDER SCENTED FABRIC HEART &lt;esp&gt; PLAC...</td>\n",
              "      <td>&lt;esp&gt; MURANO STYLE GLASS BRACELET PINK &lt;esp&gt;</td>\n",
              "      <td>&lt;esp&gt; RED GINGHAM ROSE JEWELLERY BOX &lt;esp&gt;</td>\n",
              "    </tr>\n",
              "    <tr>\n",
              "      <th>14240</th>\n",
              "      <td>FELT EGG COSY CHICKEN&amp;&amp;APPLE BATH SPONGE&amp;&amp;RED ...</td>\n",
              "      <td>VINTAGE CARAVAN GIFT WRAP</td>\n",
              "      <td>&lt;esp&gt; FELT EGG COSY CHICKEN &lt;esp&gt; APPLE BATH S...</td>\n",
              "      <td>&lt;esp&gt; VINTAGE CARAVAN GIFT WRAP &lt;esp&gt;</td>\n",
              "      <td>&lt;esp&gt; SPACEBOY GIFT WRAP &lt;esp&gt;</td>\n",
              "    </tr>\n",
              "  </tbody>\n",
              "</table>\n",
              "<p>14241 rows × 5 columns</p>\n",
              "</div>"
            ],
            "text/plain": [
              "                                                   train  ...                                   predict_item\n",
              "0      ENAMEL FLOWER JUG CREAM&&DOOR MAT FAIRY CAKE&&...  ...             <esp> ENAMEL BREAD BIN CREAM <esp>\n",
              "1      GAOLERS KEYS DECORATIVE GARDEN&&HAND OPEN SHAP...  ...          <esp> PAPER BUNTING RETRO SPOTS <esp>\n",
              "2      SET OF 9 HEART SHAPED BALLOONS&&SET OF 9 BLACK...  ...       <esp> ASSTD DESIGN BUBBLE GUM RING <esp>\n",
              "3      HANGING HEART ZINC T-LIGHT HOLDER&&OPULENT VEL...  ...  <esp> HANGING HEART ZINC T-LIGHT HOLDER <esp>\n",
              "4      BAKING SET 9 PIECE RETROSPOT&&PARTY INVITES WO...  ...             <esp> PARTY INVITES WOODLAND <esp>\n",
              "...                                                  ...  ...                                            ...\n",
              "14236  ENAMEL MEASURING JUG CREAM&&CREAM HEART CARD H...  ...                <esp> DOOR MAT UNION FLAG <esp>\n",
              "14237  TOILET METAL SIGN&&SAVE THE PLANET MUG&&KINGS ...  ...                <esp> BATHROOM METAL SIGN <esp>\n",
              "14238  IVORY HANGING DECORATION  HEART&&HEART IVORY T...  ...               <esp> HEART T-LIGHT HOLDER <esp>\n",
              "14239  LAVENDER SCENTED FABRIC HEART&&PLACE SETTING W...  ...     <esp> RED GINGHAM ROSE JEWELLERY BOX <esp>\n",
              "14240  FELT EGG COSY CHICKEN&&APPLE BATH SPONGE&&RED ...  ...                 <esp> SPACEBOY GIFT WRAP <esp>\n",
              "\n",
              "[14241 rows x 5 columns]"
            ]
          },
          "metadata": {
            "tags": []
          },
          "execution_count": 4
        }
      ]
    },
    {
      "cell_type": "code",
      "metadata": {
        "id": "Xhf_KP7ANU4c",
        "colab": {
          "base_uri": "https://localhost:8080/"
        },
        "outputId": "d0d39a88-222a-4c88-ccdf-fd839b51305f"
      },
      "source": [
        "checker = pd.Series([i in list(TFoutputs['split_label_token']) for i in TFoutputs['predict_item']])\n",
        "# filter = checker.replace(False, np.NaN)\n",
        "print(checker.value_counts())\n",
        "filter = checker[checker == False].index\n",
        "len(filter)"
      ],
      "execution_count": 5,
      "outputs": [
        {
          "output_type": "stream",
          "text": [
            "True     14040\n",
            "False      201\n",
            "dtype: int64\n"
          ],
          "name": "stdout"
        },
        {
          "output_type": "execute_result",
          "data": {
            "text/plain": [
              "201"
            ]
          },
          "metadata": {
            "tags": []
          },
          "execution_count": 5
        }
      ]
    },
    {
      "cell_type": "code",
      "metadata": {
        "id": "Uh-NlYnHNf5n"
      },
      "source": [
        "TFoutputs['filter'] = checker\n",
        "# falses = TFoutputs.isna().sum()\n",
        "# TFoutputs.dropna(inplace=True)\n",
        "# TFoutputs.reset_index(drop=True, inplace=True)\n",
        "# TFoutputs"
      ],
      "execution_count": 6,
      "outputs": []
    },
    {
      "cell_type": "code",
      "metadata": {
        "id": "XR7Iz3dQqUKa",
        "colab": {
          "base_uri": "https://localhost:8080/",
          "height": 588
        },
        "outputId": "0d5ccc90-585a-4e72-de50-4430d6b837bc"
      },
      "source": [
        "TFoutputs"
      ],
      "execution_count": 7,
      "outputs": [
        {
          "output_type": "execute_result",
          "data": {
            "text/html": [
              "<div>\n",
              "<style scoped>\n",
              "    .dataframe tbody tr th:only-of-type {\n",
              "        vertical-align: middle;\n",
              "    }\n",
              "\n",
              "    .dataframe tbody tr th {\n",
              "        vertical-align: top;\n",
              "    }\n",
              "\n",
              "    .dataframe thead th {\n",
              "        text-align: right;\n",
              "    }\n",
              "</style>\n",
              "<table border=\"1\" class=\"dataframe\">\n",
              "  <thead>\n",
              "    <tr style=\"text-align: right;\">\n",
              "      <th></th>\n",
              "      <th>train</th>\n",
              "      <th>label</th>\n",
              "      <th>split_train_token</th>\n",
              "      <th>split_label_token</th>\n",
              "      <th>predict_item</th>\n",
              "      <th>filter</th>\n",
              "    </tr>\n",
              "  </thead>\n",
              "  <tbody>\n",
              "    <tr>\n",
              "      <th>0</th>\n",
              "      <td>ENAMEL FLOWER JUG CREAM&amp;&amp;DOOR MAT FAIRY CAKE&amp;&amp;...</td>\n",
              "      <td>RED SPOTTY TABLECLOTH</td>\n",
              "      <td>&lt;esp&gt; ENAMEL FLOWER JUG CREAM &lt;esp&gt; DOOR MAT F...</td>\n",
              "      <td>&lt;esp&gt; RED SPOTTY TABLECLOTH &lt;esp&gt;</td>\n",
              "      <td>&lt;esp&gt; ENAMEL BREAD BIN CREAM &lt;esp&gt;</td>\n",
              "      <td>True</td>\n",
              "    </tr>\n",
              "    <tr>\n",
              "      <th>1</th>\n",
              "      <td>GAOLERS KEYS DECORATIVE GARDEN&amp;&amp;HAND OPEN SHAP...</td>\n",
              "      <td>SET OF 2 FANCY FONT TEA TOWELS</td>\n",
              "      <td>&lt;esp&gt; GAOLERS KEYS DECORATIVE GARDEN &lt;esp&gt; HAN...</td>\n",
              "      <td>&lt;esp&gt; SET OF 2 FANCY FONT TEA TOWELS &lt;esp&gt;</td>\n",
              "      <td>&lt;esp&gt; PAPER BUNTING RETRO SPOTS &lt;esp&gt;</td>\n",
              "      <td>True</td>\n",
              "    </tr>\n",
              "    <tr>\n",
              "      <th>2</th>\n",
              "      <td>SET OF 9 HEART SHAPED BALLOONS&amp;&amp;SET OF 9 BLACK...</td>\n",
              "      <td>CERAMIC CHERRY CAKE MONEY BANK</td>\n",
              "      <td>&lt;esp&gt; SET OF 9 HEART SHAPED BALLOONS &lt;esp&gt; SET...</td>\n",
              "      <td>&lt;esp&gt; CERAMIC CHERRY CAKE MONEY BANK &lt;esp&gt;</td>\n",
              "      <td>&lt;esp&gt; ASSTD DESIGN BUBBLE GUM RING &lt;esp&gt;</td>\n",
              "      <td>True</td>\n",
              "    </tr>\n",
              "    <tr>\n",
              "      <th>3</th>\n",
              "      <td>HANGING HEART ZINC T-LIGHT HOLDER&amp;&amp;OPULENT VEL...</td>\n",
              "      <td>COLOUR GLASS. STAR T-LIGHT HOLDER</td>\n",
              "      <td>&lt;esp&gt; HANGING HEART ZINC T-LIGHT HOLDER &lt;esp&gt; ...</td>\n",
              "      <td>&lt;esp&gt; COLOUR GLASS. STAR T-LIGHT HOLDER &lt;esp&gt;</td>\n",
              "      <td>&lt;esp&gt; HANGING HEART ZINC T-LIGHT HOLDER &lt;esp&gt;</td>\n",
              "      <td>True</td>\n",
              "    </tr>\n",
              "    <tr>\n",
              "      <th>4</th>\n",
              "      <td>BAKING SET 9 PIECE RETROSPOT&amp;&amp;PARTY INVITES WO...</td>\n",
              "      <td>PARTY INVITES FOOTBALL</td>\n",
              "      <td>&lt;esp&gt; BAKING SET 9 PIECE RETROSPOT &lt;esp&gt; PARTY...</td>\n",
              "      <td>&lt;esp&gt; PARTY INVITES FOOTBALL &lt;esp&gt;</td>\n",
              "      <td>&lt;esp&gt; PARTY INVITES WOODLAND &lt;esp&gt;</td>\n",
              "      <td>True</td>\n",
              "    </tr>\n",
              "    <tr>\n",
              "      <th>...</th>\n",
              "      <td>...</td>\n",
              "      <td>...</td>\n",
              "      <td>...</td>\n",
              "      <td>...</td>\n",
              "      <td>...</td>\n",
              "      <td>...</td>\n",
              "    </tr>\n",
              "    <tr>\n",
              "      <th>14236</th>\n",
              "      <td>ENAMEL MEASURING JUG CREAM&amp;&amp;CREAM HEART CARD H...</td>\n",
              "      <td>IVORY KITCHEN SCALES</td>\n",
              "      <td>&lt;esp&gt; ENAMEL MEASURING JUG CREAM &lt;esp&gt; CREAM H...</td>\n",
              "      <td>&lt;esp&gt; IVORY KITCHEN SCALES &lt;esp&gt;</td>\n",
              "      <td>&lt;esp&gt; DOOR MAT UNION FLAG &lt;esp&gt;</td>\n",
              "      <td>True</td>\n",
              "    </tr>\n",
              "    <tr>\n",
              "      <th>14237</th>\n",
              "      <td>TOILET METAL SIGN&amp;&amp;SAVE THE PLANET MUG&amp;&amp;KINGS ...</td>\n",
              "      <td>POTTERING IN THE SHED METAL SIGN</td>\n",
              "      <td>&lt;esp&gt; TOILET METAL SIGN &lt;esp&gt; SAVE THE PLANET ...</td>\n",
              "      <td>&lt;esp&gt; POTTERING IN THE SHED METAL SIGN &lt;esp&gt;</td>\n",
              "      <td>&lt;esp&gt; BATHROOM METAL SIGN &lt;esp&gt;</td>\n",
              "      <td>True</td>\n",
              "    </tr>\n",
              "    <tr>\n",
              "      <th>14238</th>\n",
              "      <td>IVORY HANGING DECORATION  HEART&amp;&amp;HEART IVORY T...</td>\n",
              "      <td>COLOUR GLASS T-LIGHT HOLDER HANGING</td>\n",
              "      <td>&lt;esp&gt; IVORY HANGING DECORATION  HEART &lt;esp&gt; HE...</td>\n",
              "      <td>&lt;esp&gt; COLOUR GLASS T-LIGHT HOLDER HANGING &lt;esp&gt;</td>\n",
              "      <td>&lt;esp&gt; HEART T-LIGHT HOLDER &lt;esp&gt;</td>\n",
              "      <td>True</td>\n",
              "    </tr>\n",
              "    <tr>\n",
              "      <th>14239</th>\n",
              "      <td>LAVENDER SCENTED FABRIC HEART&amp;&amp;PLACE SETTING W...</td>\n",
              "      <td>MURANO STYLE GLASS BRACELET PINK</td>\n",
              "      <td>&lt;esp&gt; LAVENDER SCENTED FABRIC HEART &lt;esp&gt; PLAC...</td>\n",
              "      <td>&lt;esp&gt; MURANO STYLE GLASS BRACELET PINK &lt;esp&gt;</td>\n",
              "      <td>&lt;esp&gt; RED GINGHAM ROSE JEWELLERY BOX &lt;esp&gt;</td>\n",
              "      <td>True</td>\n",
              "    </tr>\n",
              "    <tr>\n",
              "      <th>14240</th>\n",
              "      <td>FELT EGG COSY CHICKEN&amp;&amp;APPLE BATH SPONGE&amp;&amp;RED ...</td>\n",
              "      <td>VINTAGE CARAVAN GIFT WRAP</td>\n",
              "      <td>&lt;esp&gt; FELT EGG COSY CHICKEN &lt;esp&gt; APPLE BATH S...</td>\n",
              "      <td>&lt;esp&gt; VINTAGE CARAVAN GIFT WRAP &lt;esp&gt;</td>\n",
              "      <td>&lt;esp&gt; SPACEBOY GIFT WRAP &lt;esp&gt;</td>\n",
              "      <td>True</td>\n",
              "    </tr>\n",
              "  </tbody>\n",
              "</table>\n",
              "<p>14241 rows × 6 columns</p>\n",
              "</div>"
            ],
            "text/plain": [
              "                                                   train  ... filter\n",
              "0      ENAMEL FLOWER JUG CREAM&&DOOR MAT FAIRY CAKE&&...  ...   True\n",
              "1      GAOLERS KEYS DECORATIVE GARDEN&&HAND OPEN SHAP...  ...   True\n",
              "2      SET OF 9 HEART SHAPED BALLOONS&&SET OF 9 BLACK...  ...   True\n",
              "3      HANGING HEART ZINC T-LIGHT HOLDER&&OPULENT VEL...  ...   True\n",
              "4      BAKING SET 9 PIECE RETROSPOT&&PARTY INVITES WO...  ...   True\n",
              "...                                                  ...  ...    ...\n",
              "14236  ENAMEL MEASURING JUG CREAM&&CREAM HEART CARD H...  ...   True\n",
              "14237  TOILET METAL SIGN&&SAVE THE PLANET MUG&&KINGS ...  ...   True\n",
              "14238  IVORY HANGING DECORATION  HEART&&HEART IVORY T...  ...   True\n",
              "14239  LAVENDER SCENTED FABRIC HEART&&PLACE SETTING W...  ...   True\n",
              "14240  FELT EGG COSY CHICKEN&&APPLE BATH SPONGE&&RED ...  ...   True\n",
              "\n",
              "[14241 rows x 6 columns]"
            ]
          },
          "metadata": {
            "tags": []
          },
          "execution_count": 7
        }
      ]
    },
    {
      "cell_type": "code",
      "metadata": {
        "id": "8NNnTiziKXBu",
        "colab": {
          "base_uri": "https://localhost:8080/"
        },
        "outputId": "e55fcd19-2683-4ca2-9b67-5820eceb3ced"
      },
      "source": [
        "pred = TFoutputs['predict_item']\n",
        "pred = pred.str.replace('<esp>', '')\n",
        "pred = pred.str.strip()\n",
        "pred.head()"
      ],
      "execution_count": 8,
      "outputs": [
        {
          "output_type": "execute_result",
          "data": {
            "text/plain": [
              "0               ENAMEL BREAD BIN CREAM\n",
              "1            PAPER BUNTING RETRO SPOTS\n",
              "2         ASSTD DESIGN BUBBLE GUM RING\n",
              "3    HANGING HEART ZINC T-LIGHT HOLDER\n",
              "4               PARTY INVITES WOODLAND\n",
              "Name: predict_item, dtype: object"
            ]
          },
          "metadata": {
            "tags": []
          },
          "execution_count": 8
        }
      ]
    },
    {
      "cell_type": "code",
      "metadata": {
        "id": "99bDozohPb0F",
        "colab": {
          "base_uri": "https://localhost:8080/"
        },
        "outputId": "d484f268-dc9d-45d4-c78d-a581265ab842"
      },
      "source": [
        "# falses = falses['filter']\n",
        "# falses\n",
        "\n",
        "falses = pd.Series([TFoutputs['predict_item'][i] for i in filter])\n",
        "falses = falses.str.replace('<esp>', '')\n",
        "falses = falses.str.strip()\n",
        "print(len(falses))\n",
        "falses.head()"
      ],
      "execution_count": 9,
      "outputs": [
        {
          "output_type": "stream",
          "text": [
            "201\n"
          ],
          "name": "stdout"
        },
        {
          "output_type": "execute_result",
          "data": {
            "text/plain": [
              "0       BATHROOM SCALES, TROPICAL BEACH\n",
              "1      ANT COPPER RED BOUDICCA BRACELET\n",
              "2              PINK PATCH CUSHION COVER\n",
              "3    SMALL CAMPHOR WOOD FIELD  MUSHROOM\n",
              "4    CHOCOLATE 3 WICK MORRIS BOX CANDLE\n",
              "dtype: object"
            ]
          },
          "metadata": {
            "tags": []
          },
          "execution_count": 9
        }
      ]
    },
    {
      "cell_type": "code",
      "metadata": {
        "id": "8u5Kpf0fyHmd",
        "colab": {
          "base_uri": "https://localhost:8080/"
        },
        "outputId": "3e58e47d-194f-4a23-9ae3-b593974421ad"
      },
      "source": [
        "filter[:5]"
      ],
      "execution_count": 10,
      "outputs": [
        {
          "output_type": "execute_result",
          "data": {
            "text/plain": [
              "Int64Index([34, 46, 277, 370, 399], dtype='int64')"
            ]
          },
          "metadata": {
            "tags": []
          },
          "execution_count": 10
        }
      ]
    },
    {
      "cell_type": "code",
      "metadata": {
        "id": "IgcTovcIZrBO",
        "colab": {
          "base_uri": "https://localhost:8080/",
          "height": 416
        },
        "outputId": "64b38a68-3e65-4f36-de16-2f4ce828e679"
      },
      "source": [
        "df = pd.read_csv(path + \"data_customer_based.csv\")\n",
        "df.pop('Unnamed: 0')\n",
        "df"
      ],
      "execution_count": 11,
      "outputs": [
        {
          "output_type": "execute_result",
          "data": {
            "text/html": [
              "<div>\n",
              "<style scoped>\n",
              "    .dataframe tbody tr th:only-of-type {\n",
              "        vertical-align: middle;\n",
              "    }\n",
              "\n",
              "    .dataframe tbody tr th {\n",
              "        vertical-align: top;\n",
              "    }\n",
              "\n",
              "    .dataframe thead th {\n",
              "        text-align: right;\n",
              "    }\n",
              "</style>\n",
              "<table border=\"1\" class=\"dataframe\">\n",
              "  <thead>\n",
              "    <tr style=\"text-align: right;\">\n",
              "      <th></th>\n",
              "      <th>Customer</th>\n",
              "      <th>Detail</th>\n",
              "      <th>label</th>\n",
              "    </tr>\n",
              "  </thead>\n",
              "  <tbody>\n",
              "    <tr>\n",
              "      <th>0</th>\n",
              "      <td>32346.0</td>\n",
              "      <td>RED SPOTTY CHILDS UMBRELLA&amp;&amp;EDWARDIAN PARASOL ...</td>\n",
              "      <td>DOORMAT UNION JACK GUNS AND ROSES</td>\n",
              "    </tr>\n",
              "    <tr>\n",
              "      <th>1</th>\n",
              "      <td>32349.0</td>\n",
              "      <td>WRAP PINK FAIRY CAKES&amp;&amp;VINTAGE CARAVAN GIFT WR...</td>\n",
              "      <td>LOVE LARGE WOOD LETTERS</td>\n",
              "    </tr>\n",
              "    <tr>\n",
              "      <th>2</th>\n",
              "      <td>32355.0</td>\n",
              "      <td>TOOTHPASTE TUBE PEN&amp;&amp;KIDS RAIN MAC BLUE&amp;&amp;KIDS ...</td>\n",
              "      <td>CERAMIC CAKE STAND + HANGING CAKES</td>\n",
              "    </tr>\n",
              "    <tr>\n",
              "      <th>3</th>\n",
              "      <td>32358.0</td>\n",
              "      <td>ASSORTED CHEESE FRIDGE MAGNETS&amp;&amp;ASSORTED ICE C...</td>\n",
              "      <td>JUMBO SHOPPER VINTAGE RED PAISLEY</td>\n",
              "    </tr>\n",
              "    <tr>\n",
              "      <th>4</th>\n",
              "      <td>32359.0</td>\n",
              "      <td>TEA BAG PLATE RED SPOTTY&amp;&amp;FAIRY SOAP SOAP HOLD...</td>\n",
              "      <td>RED KITCHEN SCALES</td>\n",
              "    </tr>\n",
              "    <tr>\n",
              "      <th>...</th>\n",
              "      <td>...</td>\n",
              "      <td>...</td>\n",
              "      <td>...</td>\n",
              "    </tr>\n",
              "    <tr>\n",
              "      <th>2672</th>\n",
              "      <td>38276.0</td>\n",
              "      <td>60 TEATIME FAIRY CAKE CASES&amp;&amp;PACK OF 72 SKULL ...</td>\n",
              "      <td>VICTORIAN SEWING BOX LARGE</td>\n",
              "    </tr>\n",
              "    <tr>\n",
              "      <th>2673</th>\n",
              "      <td>38281.0</td>\n",
              "      <td>SPACEBOY BIRTHDAY CARD&amp;&amp;ELEPHANT, BIRTHDAY CAR...</td>\n",
              "      <td>AIRLINE BAG VINTAGE JET SET WHITE</td>\n",
              "    </tr>\n",
              "    <tr>\n",
              "      <th>2674</th>\n",
              "      <td>38283.0</td>\n",
              "      <td>RETRO SPOT MUG&amp;&amp;PACK OF 6 SKULL PAPER PLATES&amp;&amp;...</td>\n",
              "      <td>VINTAGE UNION JACK BUNTING</td>\n",
              "    </tr>\n",
              "    <tr>\n",
              "      <th>2675</th>\n",
              "      <td>38285.0</td>\n",
              "      <td>PAPER BUNTING WHITE LACE&amp;&amp;RIDGED GLASS T-LIGHT...</td>\n",
              "      <td>GLASS CAKE STAND MIRRORED BASE</td>\n",
              "    </tr>\n",
              "    <tr>\n",
              "      <th>2676</th>\n",
              "      <td>38287.0</td>\n",
              "      <td>ASSTD DESIGN BUBBLE GUM RING&amp;&amp;SET/6 PURPLE BUT...</td>\n",
              "      <td>CAKE STAND 3 TIER MAGIC GARDEN</td>\n",
              "    </tr>\n",
              "  </tbody>\n",
              "</table>\n",
              "<p>2677 rows × 3 columns</p>\n",
              "</div>"
            ],
            "text/plain": [
              "      Customer  ...                               label\n",
              "0      32346.0  ...   DOORMAT UNION JACK GUNS AND ROSES\n",
              "1      32349.0  ...             LOVE LARGE WOOD LETTERS\n",
              "2      32355.0  ...  CERAMIC CAKE STAND + HANGING CAKES\n",
              "3      32358.0  ...   JUMBO SHOPPER VINTAGE RED PAISLEY\n",
              "4      32359.0  ...                  RED KITCHEN SCALES\n",
              "...        ...  ...                                 ...\n",
              "2672   38276.0  ...          VICTORIAN SEWING BOX LARGE\n",
              "2673   38281.0  ...   AIRLINE BAG VINTAGE JET SET WHITE\n",
              "2674   38283.0  ...          VINTAGE UNION JACK BUNTING\n",
              "2675   38285.0  ...      GLASS CAKE STAND MIRRORED BASE\n",
              "2676   38287.0  ...      CAKE STAND 3 TIER MAGIC GARDEN\n",
              "\n",
              "[2677 rows x 3 columns]"
            ]
          },
          "metadata": {
            "tags": []
          },
          "execution_count": 11
        }
      ]
    },
    {
      "cell_type": "code",
      "metadata": {
        "id": "nYFapQ7HAxsZ"
      },
      "source": [
        "user2item = df.copy()"
      ],
      "execution_count": 12,
      "outputs": []
    },
    {
      "cell_type": "code",
      "metadata": {
        "id": "6WW2TMwaE6Hn",
        "colab": {
          "base_uri": "https://localhost:8080/",
          "height": 416
        },
        "outputId": "4e2e7acd-990d-41db-89c3-77376289aeb6"
      },
      "source": [
        "user2item.columns = ['유저 식별키', '유저 구매 상품 식별키 묶음', '라벨']\n",
        "user2item"
      ],
      "execution_count": 13,
      "outputs": [
        {
          "output_type": "execute_result",
          "data": {
            "text/html": [
              "<div>\n",
              "<style scoped>\n",
              "    .dataframe tbody tr th:only-of-type {\n",
              "        vertical-align: middle;\n",
              "    }\n",
              "\n",
              "    .dataframe tbody tr th {\n",
              "        vertical-align: top;\n",
              "    }\n",
              "\n",
              "    .dataframe thead th {\n",
              "        text-align: right;\n",
              "    }\n",
              "</style>\n",
              "<table border=\"1\" class=\"dataframe\">\n",
              "  <thead>\n",
              "    <tr style=\"text-align: right;\">\n",
              "      <th></th>\n",
              "      <th>유저 식별키</th>\n",
              "      <th>유저 구매 상품 식별키 묶음</th>\n",
              "      <th>라벨</th>\n",
              "    </tr>\n",
              "  </thead>\n",
              "  <tbody>\n",
              "    <tr>\n",
              "      <th>0</th>\n",
              "      <td>32346.0</td>\n",
              "      <td>RED SPOTTY CHILDS UMBRELLA&amp;&amp;EDWARDIAN PARASOL ...</td>\n",
              "      <td>DOORMAT UNION JACK GUNS AND ROSES</td>\n",
              "    </tr>\n",
              "    <tr>\n",
              "      <th>1</th>\n",
              "      <td>32349.0</td>\n",
              "      <td>WRAP PINK FAIRY CAKES&amp;&amp;VINTAGE CARAVAN GIFT WR...</td>\n",
              "      <td>LOVE LARGE WOOD LETTERS</td>\n",
              "    </tr>\n",
              "    <tr>\n",
              "      <th>2</th>\n",
              "      <td>32355.0</td>\n",
              "      <td>TOOTHPASTE TUBE PEN&amp;&amp;KIDS RAIN MAC BLUE&amp;&amp;KIDS ...</td>\n",
              "      <td>CERAMIC CAKE STAND + HANGING CAKES</td>\n",
              "    </tr>\n",
              "    <tr>\n",
              "      <th>3</th>\n",
              "      <td>32358.0</td>\n",
              "      <td>ASSORTED CHEESE FRIDGE MAGNETS&amp;&amp;ASSORTED ICE C...</td>\n",
              "      <td>JUMBO SHOPPER VINTAGE RED PAISLEY</td>\n",
              "    </tr>\n",
              "    <tr>\n",
              "      <th>4</th>\n",
              "      <td>32359.0</td>\n",
              "      <td>TEA BAG PLATE RED SPOTTY&amp;&amp;FAIRY SOAP SOAP HOLD...</td>\n",
              "      <td>RED KITCHEN SCALES</td>\n",
              "    </tr>\n",
              "    <tr>\n",
              "      <th>...</th>\n",
              "      <td>...</td>\n",
              "      <td>...</td>\n",
              "      <td>...</td>\n",
              "    </tr>\n",
              "    <tr>\n",
              "      <th>2672</th>\n",
              "      <td>38276.0</td>\n",
              "      <td>60 TEATIME FAIRY CAKE CASES&amp;&amp;PACK OF 72 SKULL ...</td>\n",
              "      <td>VICTORIAN SEWING BOX LARGE</td>\n",
              "    </tr>\n",
              "    <tr>\n",
              "      <th>2673</th>\n",
              "      <td>38281.0</td>\n",
              "      <td>SPACEBOY BIRTHDAY CARD&amp;&amp;ELEPHANT, BIRTHDAY CAR...</td>\n",
              "      <td>AIRLINE BAG VINTAGE JET SET WHITE</td>\n",
              "    </tr>\n",
              "    <tr>\n",
              "      <th>2674</th>\n",
              "      <td>38283.0</td>\n",
              "      <td>RETRO SPOT MUG&amp;&amp;PACK OF 6 SKULL PAPER PLATES&amp;&amp;...</td>\n",
              "      <td>VINTAGE UNION JACK BUNTING</td>\n",
              "    </tr>\n",
              "    <tr>\n",
              "      <th>2675</th>\n",
              "      <td>38285.0</td>\n",
              "      <td>PAPER BUNTING WHITE LACE&amp;&amp;RIDGED GLASS T-LIGHT...</td>\n",
              "      <td>GLASS CAKE STAND MIRRORED BASE</td>\n",
              "    </tr>\n",
              "    <tr>\n",
              "      <th>2676</th>\n",
              "      <td>38287.0</td>\n",
              "      <td>ASSTD DESIGN BUBBLE GUM RING&amp;&amp;SET/6 PURPLE BUT...</td>\n",
              "      <td>CAKE STAND 3 TIER MAGIC GARDEN</td>\n",
              "    </tr>\n",
              "  </tbody>\n",
              "</table>\n",
              "<p>2677 rows × 3 columns</p>\n",
              "</div>"
            ],
            "text/plain": [
              "       유저 식별키  ...                                  라벨\n",
              "0     32346.0  ...   DOORMAT UNION JACK GUNS AND ROSES\n",
              "1     32349.0  ...             LOVE LARGE WOOD LETTERS\n",
              "2     32355.0  ...  CERAMIC CAKE STAND + HANGING CAKES\n",
              "3     32358.0  ...   JUMBO SHOPPER VINTAGE RED PAISLEY\n",
              "4     32359.0  ...                  RED KITCHEN SCALES\n",
              "...       ...  ...                                 ...\n",
              "2672  38276.0  ...          VICTORIAN SEWING BOX LARGE\n",
              "2673  38281.0  ...   AIRLINE BAG VINTAGE JET SET WHITE\n",
              "2674  38283.0  ...          VINTAGE UNION JACK BUNTING\n",
              "2675  38285.0  ...      GLASS CAKE STAND MIRRORED BASE\n",
              "2676  38287.0  ...      CAKE STAND 3 TIER MAGIC GARDEN\n",
              "\n",
              "[2677 rows x 3 columns]"
            ]
          },
          "metadata": {
            "tags": []
          },
          "execution_count": 13
        }
      ]
    },
    {
      "cell_type": "markdown",
      "metadata": {
        "id": "ONTa8KzF7Tpd"
      },
      "source": [
        "# Product2Vector 생성"
      ]
    },
    {
      "cell_type": "markdown",
      "metadata": {
        "id": "tQ3s7oD7roAu"
      },
      "source": [
        "### Jaccard 유사도"
      ]
    },
    {
      "cell_type": "code",
      "metadata": {
        "id": "tnGznGc7tyiq",
        "colab": {
          "base_uri": "https://localhost:8080/"
        },
        "outputId": "f63b2bb8-9092-428a-c80a-d48aab29970c"
      },
      "source": [
        "detail = pd.read_csv(path + \"Detail.csv\")\n",
        "detail.pop('Unnamed: 0')\n",
        "print(len(detail))\n",
        "detail = detail['0'].to_list()\n",
        "len(detail)"
      ],
      "execution_count": 14,
      "outputs": [
        {
          "output_type": "stream",
          "text": [
            "3487\n"
          ],
          "name": "stdout"
        },
        {
          "output_type": "execute_result",
          "data": {
            "text/plain": [
              "3487"
            ]
          },
          "metadata": {
            "tags": []
          },
          "execution_count": 14
        }
      ]
    },
    {
      "cell_type": "code",
      "metadata": {
        "id": "WOtZGHYeyqf3"
      },
      "source": [
        "# pd.Series([i in detail for i in falses]).value_counts()"
      ],
      "execution_count": 15,
      "outputs": []
    },
    {
      "cell_type": "code",
      "metadata": {
        "id": "-6NCE8Xsn_gE"
      },
      "source": [
        "def JaccardSimilarity(inp1, inp2):\n",
        "    list_inp1 = inp1.split()\n",
        "    list_inp2 = inp2.split()\n",
        "    mom = set(list_inp1).union(set(list_inp2))\n",
        "    son = set(list_inp1).intersection(set(list_inp2))\n",
        "    # print(mom)\n",
        "    # print(son)\n",
        "    return len(son)/len(mom)"
      ],
      "execution_count": 16,
      "outputs": []
    },
    {
      "cell_type": "code",
      "metadata": {
        "id": "q_diL3hJzkIo"
      },
      "source": [
        "# detail = TFoutputs['label'].unique().tolist()\n",
        "# print(detail[-1])\n",
        "# len(detail)"
      ],
      "execution_count": 17,
      "outputs": []
    },
    {
      "cell_type": "code",
      "metadata": {
        "id": "48v_MQRw1YVv",
        "colab": {
          "base_uri": "https://localhost:8080/",
          "height": 35
        },
        "outputId": "b011528f-a3c1-48f7-d376-5c535b1fbece"
      },
      "source": [
        "pred[75]"
      ],
      "execution_count": 18,
      "outputs": [
        {
          "output_type": "execute_result",
          "data": {
            "application/vnd.google.colaboratory.intrinsic+json": {
              "type": "string"
            },
            "text/plain": [
              "'SET OF 72 GREEN PAPER DOILIES'"
            ]
          },
          "metadata": {
            "tags": []
          },
          "execution_count": 18
        }
      ]
    },
    {
      "cell_type": "code",
      "metadata": {
        "id": "UN3GqMyz6iBW",
        "colab": {
          "base_uri": "https://localhost:8080/"
        },
        "outputId": "d76e14cf-d08f-4f2f-a3f7-cfb496469f69"
      },
      "source": [
        "pd.Series([i in detail for i in pred]).value_counts()"
      ],
      "execution_count": 19,
      "outputs": [
        {
          "output_type": "execute_result",
          "data": {
            "text/plain": [
              "True     14227\n",
              "False       14\n",
              "dtype: int64"
            ]
          },
          "metadata": {
            "tags": []
          },
          "execution_count": 19
        }
      ]
    },
    {
      "cell_type": "code",
      "metadata": {
        "id": "WEsJSuI5ruEV"
      },
      "source": [
        "asdf = []\n",
        "\n",
        "for v in falses:\n",
        "    max = 0\n",
        "    for d in detail:\n",
        "        score = JaccardSimilarity(v, d)\n",
        "        if max < score:\n",
        "            max = score\n",
        "            temp = d\n",
        "    if max == 0: asdf.append(v)\n",
        "    id = pred[pred == v].index\n",
        "    for i in id:\n",
        "        pred[i] = temp"
      ],
      "execution_count": 20,
      "outputs": []
    },
    {
      "cell_type": "code",
      "metadata": {
        "id": "fiv9jONu11sB",
        "colab": {
          "base_uri": "https://localhost:8080/"
        },
        "outputId": "7b018176-cdf7-4d0e-c66c-0ed075deeca7"
      },
      "source": [
        "len(asdf)"
      ],
      "execution_count": 21,
      "outputs": [
        {
          "output_type": "execute_result",
          "data": {
            "text/plain": [
              "0"
            ]
          },
          "metadata": {
            "tags": []
          },
          "execution_count": 21
        }
      ]
    },
    {
      "cell_type": "code",
      "metadata": {
        "id": "eib8VT_h0IQs",
        "colab": {
          "base_uri": "https://localhost:8080/",
          "height": 35
        },
        "outputId": "a8e5bbcd-5c8d-4d29-84df-d1ced0058bbe"
      },
      "source": [
        "falses[0]"
      ],
      "execution_count": 22,
      "outputs": [
        {
          "output_type": "execute_result",
          "data": {
            "application/vnd.google.colaboratory.intrinsic+json": {
              "type": "string"
            },
            "text/plain": [
              "'BATHROOM SCALES, TROPICAL BEACH'"
            ]
          },
          "metadata": {
            "tags": []
          },
          "execution_count": 22
        }
      ]
    },
    {
      "cell_type": "code",
      "metadata": {
        "id": "yjgBebQk0xdz",
        "colab": {
          "base_uri": "https://localhost:8080/",
          "height": 35
        },
        "outputId": "9ebce202-19e7-40f5-8362-ed8d8eeb065a"
      },
      "source": [
        "pred[75]"
      ],
      "execution_count": 23,
      "outputs": [
        {
          "output_type": "execute_result",
          "data": {
            "application/vnd.google.colaboratory.intrinsic+json": {
              "type": "string"
            },
            "text/plain": [
              "'SET OF 72 GREEN PAPER DOILIES'"
            ]
          },
          "metadata": {
            "tags": []
          },
          "execution_count": 23
        }
      ]
    },
    {
      "cell_type": "code",
      "metadata": {
        "id": "tDALBoafz4DZ",
        "colab": {
          "base_uri": "https://localhost:8080/"
        },
        "outputId": "ccdd8ad5-6ef7-4a4f-ac8f-6a9a5e2aa62c"
      },
      "source": [
        "pd.Series([i in detail for i in pred]).value_counts()"
      ],
      "execution_count": 24,
      "outputs": [
        {
          "output_type": "execute_result",
          "data": {
            "text/plain": [
              "True    14241\n",
              "dtype: int64"
            ]
          },
          "metadata": {
            "tags": []
          },
          "execution_count": 24
        }
      ]
    },
    {
      "cell_type": "code",
      "metadata": {
        "id": "91kYkoci3HNN",
        "colab": {
          "base_uri": "https://localhost:8080/",
          "height": 416
        },
        "outputId": "7108556d-f77b-4587-9a04-bf81ad775e6d"
      },
      "source": [
        "changes = pd.DataFrame(columns=['Original', 'Changed'])\n",
        "changes['Original'] = falses\n",
        "changes['Changed'] = pred[filter].to_list()\n",
        "changes"
      ],
      "execution_count": 25,
      "outputs": [
        {
          "output_type": "execute_result",
          "data": {
            "text/html": [
              "<div>\n",
              "<style scoped>\n",
              "    .dataframe tbody tr th:only-of-type {\n",
              "        vertical-align: middle;\n",
              "    }\n",
              "\n",
              "    .dataframe tbody tr th {\n",
              "        vertical-align: top;\n",
              "    }\n",
              "\n",
              "    .dataframe thead th {\n",
              "        text-align: right;\n",
              "    }\n",
              "</style>\n",
              "<table border=\"1\" class=\"dataframe\">\n",
              "  <thead>\n",
              "    <tr style=\"text-align: right;\">\n",
              "      <th></th>\n",
              "      <th>Original</th>\n",
              "      <th>Changed</th>\n",
              "    </tr>\n",
              "  </thead>\n",
              "  <tbody>\n",
              "    <tr>\n",
              "      <th>0</th>\n",
              "      <td>BATHROOM SCALES, TROPICAL BEACH</td>\n",
              "      <td>BATHROOM SCALES, TROPICAL BEACH</td>\n",
              "    </tr>\n",
              "    <tr>\n",
              "      <th>1</th>\n",
              "      <td>ANT COPPER RED BOUDICCA BRACELET</td>\n",
              "      <td>ANT COPPER RED BOUDICCA BRACELET</td>\n",
              "    </tr>\n",
              "    <tr>\n",
              "      <th>2</th>\n",
              "      <td>PINK PATCH CUSHION COVER</td>\n",
              "      <td>PINK YELLOW PATCH CUSHION COVER</td>\n",
              "    </tr>\n",
              "    <tr>\n",
              "      <th>3</th>\n",
              "      <td>SMALL CAMPHOR WOOD FIELD  MUSHROOM</td>\n",
              "      <td>SMALL CAMPHOR WOOD FIELD  MUSHROOM</td>\n",
              "    </tr>\n",
              "    <tr>\n",
              "      <th>4</th>\n",
              "      <td>CHOCOLATE 3 WICK MORRIS BOX CANDLE</td>\n",
              "      <td>CHOCOLATE 3 WICK MORRIS BOX CANDLE</td>\n",
              "    </tr>\n",
              "    <tr>\n",
              "      <th>...</th>\n",
              "      <td>...</td>\n",
              "      <td>...</td>\n",
              "    </tr>\n",
              "    <tr>\n",
              "      <th>196</th>\n",
              "      <td>CHOCOLATE 3 WICK MORRIS BOX CANDLE</td>\n",
              "      <td>CHOCOLATE 3 WICK MORRIS BOX CANDLE</td>\n",
              "    </tr>\n",
              "    <tr>\n",
              "      <th>197</th>\n",
              "      <td>WHITE/PINK MINI CRYSTALS NECKLACE</td>\n",
              "      <td>WHITE/PINK MINI CRYSTALS NECKLACE</td>\n",
              "    </tr>\n",
              "    <tr>\n",
              "      <th>198</th>\n",
              "      <td>BLACK PILLAR CANDLE SILVER FLOCK</td>\n",
              "      <td>BLACK PILLAR CANDLE SILVER FLOCK</td>\n",
              "    </tr>\n",
              "    <tr>\n",
              "      <th>199</th>\n",
              "      <td>TRADITIONAL CHRISTMAS RIBBONS</td>\n",
              "      <td>TRADITIONAL CHRISTMAS RIBBONS</td>\n",
              "    </tr>\n",
              "    <tr>\n",
              "      <th>200</th>\n",
              "      <td>SET/6 COLLAGE PAPER CUPS</td>\n",
              "      <td>SET/6 COLLAGE PAPER CUPS</td>\n",
              "    </tr>\n",
              "  </tbody>\n",
              "</table>\n",
              "<p>201 rows × 2 columns</p>\n",
              "</div>"
            ],
            "text/plain": [
              "                               Original                             Changed\n",
              "0       BATHROOM SCALES, TROPICAL BEACH     BATHROOM SCALES, TROPICAL BEACH\n",
              "1      ANT COPPER RED BOUDICCA BRACELET    ANT COPPER RED BOUDICCA BRACELET\n",
              "2              PINK PATCH CUSHION COVER     PINK YELLOW PATCH CUSHION COVER\n",
              "3    SMALL CAMPHOR WOOD FIELD  MUSHROOM  SMALL CAMPHOR WOOD FIELD  MUSHROOM\n",
              "4    CHOCOLATE 3 WICK MORRIS BOX CANDLE  CHOCOLATE 3 WICK MORRIS BOX CANDLE\n",
              "..                                  ...                                 ...\n",
              "196  CHOCOLATE 3 WICK MORRIS BOX CANDLE  CHOCOLATE 3 WICK MORRIS BOX CANDLE\n",
              "197   WHITE/PINK MINI CRYSTALS NECKLACE   WHITE/PINK MINI CRYSTALS NECKLACE\n",
              "198    BLACK PILLAR CANDLE SILVER FLOCK    BLACK PILLAR CANDLE SILVER FLOCK\n",
              "199       TRADITIONAL CHRISTMAS RIBBONS       TRADITIONAL CHRISTMAS RIBBONS\n",
              "200            SET/6 COLLAGE PAPER CUPS            SET/6 COLLAGE PAPER CUPS\n",
              "\n",
              "[201 rows x 2 columns]"
            ]
          },
          "metadata": {
            "tags": []
          },
          "execution_count": 25
        }
      ]
    },
    {
      "cell_type": "code",
      "metadata": {
        "id": "hEds17zQ3r-B"
      },
      "source": [
        "changes.to_csv(path + 'changed_products.csv', mode='w')"
      ],
      "execution_count": 26,
      "outputs": []
    },
    {
      "cell_type": "markdown",
      "metadata": {
        "id": "7ijtnPz57Tpd"
      },
      "source": [
        "### Word2vec Model 학습"
      ]
    },
    {
      "cell_type": "code",
      "metadata": {
        "id": "xV3a9xIwcCSi"
      },
      "source": [
        "model = Word2Vec([item_list.split('&&') for item_list in user2item['유저 구매 상품 식별키 묶음']], size=100, window=5, min_count=1, negative=15, iter=20, sample=0.00001, sg=1)"
      ],
      "execution_count": 27,
      "outputs": []
    },
    {
      "cell_type": "code",
      "metadata": {
        "id": "L_HZvoHXcFYi",
        "scrolled": true,
        "colab": {
          "base_uri": "https://localhost:8080/",
          "height": 66,
          "referenced_widgets": [
            "c11d2b71d82f4030b1ac655b2c397e35",
            "3e5d47e9467b44059e13ac1d648bb4c5",
            "a661ab6a52474c66b9d029a585e563f7",
            "e3e4765e85f74aec888db2d587a53eae",
            "082361c4fed14c50a1b6137292985e3a",
            "87430b627ef54d4d9824fda354551f47",
            "0e861bb0c44644e1a4e61d2c9fc6d460",
            "c378d93df9e54d7da0f641a0e373257a"
          ]
        },
        "outputId": "641ddf40-0eb0-4c5a-c292-7b70d2042978"
      },
      "source": [
        "# 유저 성향 벡터 구하기 \n",
        "user_propensity_vector = []\n",
        "for item_list in tqdm_notebook(user2item['유저 구매 상품 식별키 묶음']):\n",
        "    item_list = item_list.split('&&')\n",
        "    bbb = np.array(np.ones(100))\n",
        "    for aaa in item_list:\n",
        "        bbb *= model[aaa]\n",
        "        bbb = bbb/norm(bbb)\n",
        "    user_propensity_vector.append(bbb)"
      ],
      "execution_count": 28,
      "outputs": [
        {
          "output_type": "display_data",
          "data": {
            "application/vnd.jupyter.widget-view+json": {
              "model_id": "c11d2b71d82f4030b1ac655b2c397e35",
              "version_minor": 0,
              "version_major": 2
            },
            "text/plain": [
              "HBox(children=(FloatProgress(value=0.0, max=2677.0), HTML(value='')))"
            ]
          },
          "metadata": {
            "tags": []
          }
        },
        {
          "output_type": "stream",
          "text": [
            "\n"
          ],
          "name": "stdout"
        }
      ]
    },
    {
      "cell_type": "code",
      "metadata": {
        "id": "2vmgzv19cJIS"
      },
      "source": [
        "# 유사 product 찾기\n",
        "# def find_item(user, n=10):\n",
        "#     item_code = user2item[user2item['유저 식별키']==user]['유저 구매 상품 식별키 묶음'].values[0].split('&&')[-1]\n",
        "#     return list(dict(model.wv.most_similar(item_code, topn=n)))\n",
        "\n",
        "def find_item(item, n=10):\n",
        "    return list(dict(model.wv.most_similar(item, topn=n)))\n",
        "\n",
        "# 유저 유사도 계산 및 유사 유저 찾기\n",
        "def user_sim(A, B): \n",
        "    A_vec = user_propensity_vector[user2item[user2item['유저 식별키']==A].index[0]]\n",
        "    B_vec = user_propensity_vector[user2item[user2item['유저 식별키']==B].index[0]]\n",
        "    return euclidean(A_vec.reshape(-1, 1), B_vec.reshape(-1, 1))\n",
        "\n",
        "def find_user(user):\n",
        "    user_index = user2item[user2item['유저 식별키']==user].index[0]\n",
        "    min_user_similar = min(user_matrix_f[user_index].drop(user_index))\n",
        "    return user2item.iloc[{j:i for i, j in enumerate(user_matrix_f[user_index])}[min_user_similar]]['유저 식별키']"
      ],
      "execution_count": 29,
      "outputs": []
    },
    {
      "cell_type": "code",
      "metadata": {
        "id": "wJUCFhY6cNaA",
        "scrolled": true
      },
      "source": [
        "# # 유저 유사도 매트릭스\n",
        "# user_matrix_f = pd.DataFrame()\n",
        "# for i in tqdm_notebook(range(len(user_propensity_vector))):\n",
        "#     tmp = []\n",
        "#     for j in range(len(user_propensity_vector)):\n",
        "#         tmp.append(euclidean(user_propensity_vector[i], user_propensity_vector[j]))\n",
        "#     user_matrix_f = pd.concat([user_matrix_f, pd.DataFrame(tmp)], axis = 1)\n",
        "# user_matrix_f.columns = user_matrix_f.index\n",
        "# user_matrix_f"
      ],
      "execution_count": 30,
      "outputs": []
    },
    {
      "cell_type": "code",
      "metadata": {
        "id": "hicq1rkn7Tpe",
        "colab": {
          "base_uri": "https://localhost:8080/"
        },
        "outputId": "984fe760-6e0c-44e7-e4d0-71b95cda65d6"
      },
      "source": [
        "find_item(pred[0])"
      ],
      "execution_count": 31,
      "outputs": [
        {
          "output_type": "execute_result",
          "data": {
            "text/plain": [
              "['TEA COSY VINTAGE UNION JACK',\n",
              " 'ENAMEL MEASURING JUG CREAM',\n",
              " 'ENAMEL WATERING CAN CREAM',\n",
              " 'ENAMEL FLOWER JUG CREAM',\n",
              " 'ENAMEL WASH BOWL CREAM',\n",
              " 'ENAMEL COLANDER CREAM',\n",
              " 'MINT KITCHEN SCALES',\n",
              " 'PICNIC BASKET WICKER LARGE',\n",
              " 'IVORY KITCHEN SCALES',\n",
              " 'WHITE WOOD GARDEN PLANT LADDER']"
            ]
          },
          "metadata": {
            "tags": []
          },
          "execution_count": 31
        }
      ]
    },
    {
      "cell_type": "markdown",
      "metadata": {
        "id": "yhEuNMnT7Tpf"
      },
      "source": [
        "## 구매전 : Top-10 시나리오"
      ]
    },
    {
      "cell_type": "code",
      "metadata": {
        "id": "qnTLapiUS5Wq"
      },
      "source": [
        "def recommend(n=10, acc=False, pred=pred, TFoutputs=TFoutputs):\n",
        "    item_list = []\n",
        "    for v in pred.to_list():\n",
        "        pp = find_item(v, n)\n",
        "        item_list.append(pp)\n",
        "    TFoutputs['추천 list'] = item_list\n",
        "    # user2item['정답 유무'] = [True if label in recommendation(user) else False for user, label in tqdm_notebook(zip(user2item['유저 식별키'], user2item['라벨']), total=len(user2item['유저 식별키']))]\n",
        "    TFoutputs['정답 유무'] = [True if label in item else False for label, item in tqdm_notebook(zip(TFoutputs['label'], TFoutputs['추천 list']), total=(len(TFoutputs)))]\n",
        "    # 추천 알고리듬 구매전 Top-10 성능평가\n",
        "    \n",
        "    if acc:\n",
        "        return TFoutputs[TFoutputs['정답 유무']==True].shape[0]/(TFoutputs.shape[0])\n",
        "\n",
        "    return TFoutputs"
      ],
      "execution_count": 32,
      "outputs": []
    },
    {
      "cell_type": "code",
      "metadata": {
        "id": "jyZiDRH6TvFu",
        "colab": {
          "base_uri": "https://localhost:8080/",
          "height": 84,
          "referenced_widgets": [
            "613d7f6faadc4512b3ebb97d96bee42d",
            "66e7e73bbb6e4f29afd853d136485257",
            "8e2edbd7c8674f689e62a6241b8ad27e",
            "dfc29a0cc0bc49c68bb560a72b324d4a",
            "db4974a6c66d4650a57e9934551e2ce6",
            "1fbee3161181437e87bbcc369d9747bf",
            "6d6003b7fafb48cd9c5f2bfb893e9db3",
            "90680cfe131c4e9ea02152ca5fe69548"
          ]
        },
        "outputId": "1f374ca1-29b0-49b2-908c-5c0d3829c9e6"
      },
      "source": [
        "recommend(n=5, acc=True)"
      ],
      "execution_count": 33,
      "outputs": [
        {
          "output_type": "display_data",
          "data": {
            "application/vnd.jupyter.widget-view+json": {
              "model_id": "613d7f6faadc4512b3ebb97d96bee42d",
              "version_minor": 0,
              "version_major": 2
            },
            "text/plain": [
              "HBox(children=(FloatProgress(value=0.0, max=14241.0), HTML(value='')))"
            ]
          },
          "metadata": {
            "tags": []
          }
        },
        {
          "output_type": "stream",
          "text": [
            "\n"
          ],
          "name": "stdout"
        },
        {
          "output_type": "execute_result",
          "data": {
            "text/plain": [
              "0.043185169580787865"
            ]
          },
          "metadata": {
            "tags": []
          },
          "execution_count": 33
        }
      ]
    },
    {
      "cell_type": "code",
      "metadata": {
        "id": "8w2fjzSUp5nH",
        "colab": {
          "base_uri": "https://localhost:8080/",
          "height": 84,
          "referenced_widgets": [
            "b79f3617b4e24613a661dce5cd8aa065",
            "8045a8c5259d4d7487cc788386dbef8b",
            "1324d2955a994149a42e8b1ab0b7caf9",
            "c7733f47998b4334b029a96429fed11b",
            "7bcfa08051a842e794652b2677a8f806",
            "dbfec23f671842b5bd736babce36b163",
            "aeb9f7719d4747758b8563675d6a2698",
            "cd2564fa4289445ba0917a05ef429a44"
          ]
        },
        "outputId": "dc21a896-99e3-42d9-8cfd-1335cfd7746b"
      },
      "source": [
        "recommend(n=10, acc=True)"
      ],
      "execution_count": 34,
      "outputs": [
        {
          "output_type": "display_data",
          "data": {
            "application/vnd.jupyter.widget-view+json": {
              "model_id": "b79f3617b4e24613a661dce5cd8aa065",
              "version_minor": 0,
              "version_major": 2
            },
            "text/plain": [
              "HBox(children=(FloatProgress(value=0.0, max=14241.0), HTML(value='')))"
            ]
          },
          "metadata": {
            "tags": []
          }
        },
        {
          "output_type": "stream",
          "text": [
            "\n"
          ],
          "name": "stdout"
        },
        {
          "output_type": "execute_result",
          "data": {
            "text/plain": [
              "0.06319780914261638"
            ]
          },
          "metadata": {
            "tags": []
          },
          "execution_count": 34
        }
      ]
    },
    {
      "cell_type": "code",
      "metadata": {
        "id": "e-iKPO41T57o",
        "colab": {
          "base_uri": "https://localhost:8080/",
          "height": 84,
          "referenced_widgets": [
            "c50482ae78ca441c82c50c823e1760fb",
            "0cbdbc9c67bb418aa18b5f6c6c89c634",
            "9606f6215b484fe096b1c32ecc59b295",
            "a8818c510d9c44828c20c4dea645944f",
            "339615a061a14b62b857d6a06836030b",
            "f40e6597028d4a89a303fd437eac8e9a",
            "0f402e52ae574f109699a957b0694940",
            "93584923e97b4e29a9c33de518c3d4c0"
          ]
        },
        "outputId": "fe6bb496-506c-4a35-da36-c925e3544093"
      },
      "source": [
        "recommend(n=20, acc=True)"
      ],
      "execution_count": 35,
      "outputs": [
        {
          "output_type": "display_data",
          "data": {
            "application/vnd.jupyter.widget-view+json": {
              "model_id": "c50482ae78ca441c82c50c823e1760fb",
              "version_minor": 0,
              "version_major": 2
            },
            "text/plain": [
              "HBox(children=(FloatProgress(value=0.0, max=14241.0), HTML(value='')))"
            ]
          },
          "metadata": {
            "tags": []
          }
        },
        {
          "output_type": "stream",
          "text": [
            "\n"
          ],
          "name": "stdout"
        },
        {
          "output_type": "execute_result",
          "data": {
            "text/plain": [
              "0.09163682325679376"
            ]
          },
          "metadata": {
            "tags": []
          },
          "execution_count": 35
        }
      ]
    },
    {
      "cell_type": "code",
      "metadata": {
        "id": "MoKad0ot4BfT",
        "colab": {
          "base_uri": "https://localhost:8080/",
          "height": 741,
          "referenced_widgets": [
            "d295b0dbf15a4938b73e7ee7052c3ad6",
            "dcee1c38e4ed444f8eaf467e81542ce0",
            "a60dac7847bd4ac5bb39e6680886f369",
            "31336ce91da948e6be7172a0badd29ed",
            "24d72b1114b442d6bdd8a1bdfe9fdcf4",
            "2d7b056c305844868e76ccb42a48efd8",
            "e4ad81f182f646fea1fbf555da911c4b",
            "2c6a67637cd54d538752d97d7529409a"
          ]
        },
        "outputId": "c32e1d17-36b3-48fa-de06-4e7dc8d4364a"
      },
      "source": [
        "recommend()"
      ],
      "execution_count": 36,
      "outputs": [
        {
          "output_type": "display_data",
          "data": {
            "application/vnd.jupyter.widget-view+json": {
              "model_id": "d295b0dbf15a4938b73e7ee7052c3ad6",
              "version_minor": 0,
              "version_major": 2
            },
            "text/plain": [
              "HBox(children=(FloatProgress(value=0.0, max=14241.0), HTML(value='')))"
            ]
          },
          "metadata": {
            "tags": []
          }
        },
        {
          "output_type": "stream",
          "text": [
            "\n"
          ],
          "name": "stdout"
        },
        {
          "output_type": "execute_result",
          "data": {
            "text/html": [
              "<div>\n",
              "<style scoped>\n",
              "    .dataframe tbody tr th:only-of-type {\n",
              "        vertical-align: middle;\n",
              "    }\n",
              "\n",
              "    .dataframe tbody tr th {\n",
              "        vertical-align: top;\n",
              "    }\n",
              "\n",
              "    .dataframe thead th {\n",
              "        text-align: right;\n",
              "    }\n",
              "</style>\n",
              "<table border=\"1\" class=\"dataframe\">\n",
              "  <thead>\n",
              "    <tr style=\"text-align: right;\">\n",
              "      <th></th>\n",
              "      <th>train</th>\n",
              "      <th>label</th>\n",
              "      <th>split_train_token</th>\n",
              "      <th>split_label_token</th>\n",
              "      <th>predict_item</th>\n",
              "      <th>filter</th>\n",
              "      <th>추천 list</th>\n",
              "      <th>정답 유무</th>\n",
              "    </tr>\n",
              "  </thead>\n",
              "  <tbody>\n",
              "    <tr>\n",
              "      <th>0</th>\n",
              "      <td>ENAMEL FLOWER JUG CREAM&amp;&amp;DOOR MAT FAIRY CAKE&amp;&amp;...</td>\n",
              "      <td>RED SPOTTY TABLECLOTH</td>\n",
              "      <td>&lt;esp&gt; ENAMEL FLOWER JUG CREAM &lt;esp&gt; DOOR MAT F...</td>\n",
              "      <td>&lt;esp&gt; RED SPOTTY TABLECLOTH &lt;esp&gt;</td>\n",
              "      <td>&lt;esp&gt; ENAMEL BREAD BIN CREAM &lt;esp&gt;</td>\n",
              "      <td>True</td>\n",
              "      <td>[TEA COSY VINTAGE UNION JACK, ENAMEL MEASURING...</td>\n",
              "      <td>False</td>\n",
              "    </tr>\n",
              "    <tr>\n",
              "      <th>1</th>\n",
              "      <td>GAOLERS KEYS DECORATIVE GARDEN&amp;&amp;HAND OPEN SHAP...</td>\n",
              "      <td>SET OF 2 FANCY FONT TEA TOWELS</td>\n",
              "      <td>&lt;esp&gt; GAOLERS KEYS DECORATIVE GARDEN &lt;esp&gt; HAN...</td>\n",
              "      <td>&lt;esp&gt; SET OF 2 FANCY FONT TEA TOWELS &lt;esp&gt;</td>\n",
              "      <td>&lt;esp&gt; PAPER BUNTING RETRO SPOTS &lt;esp&gt;</td>\n",
              "      <td>True</td>\n",
              "      <td>[PAPER CHAIN KIT RETRO SPOT, STRAWBERRY HONEYC...</td>\n",
              "      <td>False</td>\n",
              "    </tr>\n",
              "    <tr>\n",
              "      <th>2</th>\n",
              "      <td>SET OF 9 HEART SHAPED BALLOONS&amp;&amp;SET OF 9 BLACK...</td>\n",
              "      <td>CERAMIC CHERRY CAKE MONEY BANK</td>\n",
              "      <td>&lt;esp&gt; SET OF 9 HEART SHAPED BALLOONS &lt;esp&gt; SET...</td>\n",
              "      <td>&lt;esp&gt; CERAMIC CHERRY CAKE MONEY BANK &lt;esp&gt;</td>\n",
              "      <td>&lt;esp&gt; ASSTD DESIGN BUBBLE GUM RING &lt;esp&gt;</td>\n",
              "      <td>True</td>\n",
              "      <td>[PIG KEYRING WITH LIGHT &amp; SOUND, DOLLY HONEYCO...</td>\n",
              "      <td>False</td>\n",
              "    </tr>\n",
              "    <tr>\n",
              "      <th>3</th>\n",
              "      <td>HANGING HEART ZINC T-LIGHT HOLDER&amp;&amp;OPULENT VEL...</td>\n",
              "      <td>COLOUR GLASS. STAR T-LIGHT HOLDER</td>\n",
              "      <td>&lt;esp&gt; HANGING HEART ZINC T-LIGHT HOLDER &lt;esp&gt; ...</td>\n",
              "      <td>&lt;esp&gt; COLOUR GLASS. STAR T-LIGHT HOLDER &lt;esp&gt;</td>\n",
              "      <td>&lt;esp&gt; HANGING HEART ZINC T-LIGHT HOLDER &lt;esp&gt;</td>\n",
              "      <td>True</td>\n",
              "      <td>[HANGING RIDGE GLASS T-LIGHT HOLDER, SMALL HAN...</td>\n",
              "      <td>False</td>\n",
              "    </tr>\n",
              "    <tr>\n",
              "      <th>4</th>\n",
              "      <td>BAKING SET 9 PIECE RETROSPOT&amp;&amp;PARTY INVITES WO...</td>\n",
              "      <td>PARTY INVITES FOOTBALL</td>\n",
              "      <td>&lt;esp&gt; BAKING SET 9 PIECE RETROSPOT &lt;esp&gt; PARTY...</td>\n",
              "      <td>&lt;esp&gt; PARTY INVITES FOOTBALL &lt;esp&gt;</td>\n",
              "      <td>&lt;esp&gt; PARTY INVITES WOODLAND &lt;esp&gt;</td>\n",
              "      <td>True</td>\n",
              "      <td>[PARTY INVITES SPACEMAN, PARTY INVITES DINOSAU...</td>\n",
              "      <td>False</td>\n",
              "    </tr>\n",
              "    <tr>\n",
              "      <th>...</th>\n",
              "      <td>...</td>\n",
              "      <td>...</td>\n",
              "      <td>...</td>\n",
              "      <td>...</td>\n",
              "      <td>...</td>\n",
              "      <td>...</td>\n",
              "      <td>...</td>\n",
              "      <td>...</td>\n",
              "    </tr>\n",
              "    <tr>\n",
              "      <th>14236</th>\n",
              "      <td>ENAMEL MEASURING JUG CREAM&amp;&amp;CREAM HEART CARD H...</td>\n",
              "      <td>IVORY KITCHEN SCALES</td>\n",
              "      <td>&lt;esp&gt; ENAMEL MEASURING JUG CREAM &lt;esp&gt; CREAM H...</td>\n",
              "      <td>&lt;esp&gt; IVORY KITCHEN SCALES &lt;esp&gt;</td>\n",
              "      <td>&lt;esp&gt; DOOR MAT UNION FLAG &lt;esp&gt;</td>\n",
              "      <td>True</td>\n",
              "      <td>[DOOR MAT NEW ENGLAND, DOOR MAT FANCY FONT HOM...</td>\n",
              "      <td>False</td>\n",
              "    </tr>\n",
              "    <tr>\n",
              "      <th>14237</th>\n",
              "      <td>TOILET METAL SIGN&amp;&amp;SAVE THE PLANET MUG&amp;&amp;KINGS ...</td>\n",
              "      <td>POTTERING IN THE SHED METAL SIGN</td>\n",
              "      <td>&lt;esp&gt; TOILET METAL SIGN &lt;esp&gt; SAVE THE PLANET ...</td>\n",
              "      <td>&lt;esp&gt; POTTERING IN THE SHED METAL SIGN &lt;esp&gt;</td>\n",
              "      <td>&lt;esp&gt; BATHROOM METAL SIGN &lt;esp&gt;</td>\n",
              "      <td>True</td>\n",
              "      <td>[FANNY'S REST STOPMETAL SIGN, YOU'RE CONFUSING...</td>\n",
              "      <td>False</td>\n",
              "    </tr>\n",
              "    <tr>\n",
              "      <th>14238</th>\n",
              "      <td>IVORY HANGING DECORATION  HEART&amp;&amp;HEART IVORY T...</td>\n",
              "      <td>COLOUR GLASS T-LIGHT HOLDER HANGING</td>\n",
              "      <td>&lt;esp&gt; IVORY HANGING DECORATION  HEART &lt;esp&gt; HE...</td>\n",
              "      <td>&lt;esp&gt; COLOUR GLASS T-LIGHT HOLDER HANGING &lt;esp&gt;</td>\n",
              "      <td>&lt;esp&gt; HEART T-LIGHT HOLDER &lt;esp&gt;</td>\n",
              "      <td>True</td>\n",
              "      <td>[ROSES IN WHITE HEART CANDLE, DECORATION, HANG...</td>\n",
              "      <td>False</td>\n",
              "    </tr>\n",
              "    <tr>\n",
              "      <th>14239</th>\n",
              "      <td>LAVENDER SCENTED FABRIC HEART&amp;&amp;PLACE SETTING W...</td>\n",
              "      <td>MURANO STYLE GLASS BRACELET PINK</td>\n",
              "      <td>&lt;esp&gt; LAVENDER SCENTED FABRIC HEART &lt;esp&gt; PLAC...</td>\n",
              "      <td>&lt;esp&gt; MURANO STYLE GLASS BRACELET PINK &lt;esp&gt;</td>\n",
              "      <td>&lt;esp&gt; RED GINGHAM ROSE JEWELLERY BOX &lt;esp&gt;</td>\n",
              "      <td>True</td>\n",
              "      <td>[ASSORTED ICE CREAM FRIDGE MAGNETS, CAROUSEL D...</td>\n",
              "      <td>False</td>\n",
              "    </tr>\n",
              "    <tr>\n",
              "      <th>14240</th>\n",
              "      <td>FELT EGG COSY CHICKEN&amp;&amp;APPLE BATH SPONGE&amp;&amp;RED ...</td>\n",
              "      <td>VINTAGE CARAVAN GIFT WRAP</td>\n",
              "      <td>&lt;esp&gt; FELT EGG COSY CHICKEN &lt;esp&gt; APPLE BATH S...</td>\n",
              "      <td>&lt;esp&gt; VINTAGE CARAVAN GIFT WRAP &lt;esp&gt;</td>\n",
              "      <td>&lt;esp&gt; SPACEBOY GIFT WRAP &lt;esp&gt;</td>\n",
              "      <td>True</td>\n",
              "      <td>[RING OF ROSES BIRTHDAY CARD, VINTAGE KID DOLL...</td>\n",
              "      <td>False</td>\n",
              "    </tr>\n",
              "  </tbody>\n",
              "</table>\n",
              "<p>14241 rows × 8 columns</p>\n",
              "</div>"
            ],
            "text/plain": [
              "                                                   train  ...  정답 유무\n",
              "0      ENAMEL FLOWER JUG CREAM&&DOOR MAT FAIRY CAKE&&...  ...  False\n",
              "1      GAOLERS KEYS DECORATIVE GARDEN&&HAND OPEN SHAP...  ...  False\n",
              "2      SET OF 9 HEART SHAPED BALLOONS&&SET OF 9 BLACK...  ...  False\n",
              "3      HANGING HEART ZINC T-LIGHT HOLDER&&OPULENT VEL...  ...  False\n",
              "4      BAKING SET 9 PIECE RETROSPOT&&PARTY INVITES WO...  ...  False\n",
              "...                                                  ...  ...    ...\n",
              "14236  ENAMEL MEASURING JUG CREAM&&CREAM HEART CARD H...  ...  False\n",
              "14237  TOILET METAL SIGN&&SAVE THE PLANET MUG&&KINGS ...  ...  False\n",
              "14238  IVORY HANGING DECORATION  HEART&&HEART IVORY T...  ...  False\n",
              "14239  LAVENDER SCENTED FABRIC HEART&&PLACE SETTING W...  ...  False\n",
              "14240  FELT EGG COSY CHICKEN&&APPLE BATH SPONGE&&RED ...  ...  False\n",
              "\n",
              "[14241 rows x 8 columns]"
            ]
          },
          "metadata": {
            "tags": []
          },
          "execution_count": 36
        }
      ]
    },
    {
      "cell_type": "code",
      "metadata": {
        "id": "813haTsJLLaH"
      },
      "source": [
        "# item_list = []\n",
        "# for v in pred.to_list():\n",
        "#     pp = find_item(v)\n",
        "#     item_list.append(pp)\n",
        "\n",
        "# item_list[:2]"
      ],
      "execution_count": 37,
      "outputs": []
    },
    {
      "cell_type": "code",
      "metadata": {
        "id": "06Sa3TjS7Tpf"
      },
      "source": [
        "# def recommendation(user):\n",
        "#     n = 10\n",
        "#     while True:\n",
        "#         recom_item = set(user2item[user2item['유저 식별키']==find_user(user)]['유저 구매 상품 식별키 묶음'].values[0].split('&&')) - set(user2item[user2item['유저 식별키']==user]['유저 구매 상품 식별키 묶음'].values[0].split('&&'))\n",
        "#         n += 10\n",
        "#         if len(recom_item) >= 10:\n",
        "#             return list(recom_item)[:10]           #Top10\n",
        "#         if n >= 1000:\n",
        "#             return list(recom_item)"
      ],
      "execution_count": 38,
      "outputs": []
    },
    {
      "cell_type": "code",
      "metadata": {
        "id": "TvG6Py2-7Tpf"
      },
      "source": [
        "# # 추천 List 생성\n",
        "\n",
        "# rec_list = []\n",
        "# for i in tqdm_notebook(user2item['유저 식별키'].unique()):\n",
        "#     r_list = list(recommendation(i))\n",
        "#     rec_list.append(r_list)\n",
        "# rec_list\n",
        "\n",
        "# user2rec = pd.DataFrame({'유저 식별키':user2item['유저 식별키'].unique(),\n",
        "#                          '추천 list':[str(i).replace('[','').replace(']','').replace(\"'\",'').replace(',','&&') \n",
        "#                                    for i in rec_list]})\n",
        "# user2rec"
      ],
      "execution_count": 39,
      "outputs": []
    },
    {
      "cell_type": "code",
      "metadata": {
        "id": "dWT111O0Q_Zk"
      },
      "source": [
        "# TFoutputs['추천 list'] = item_list"
      ],
      "execution_count": 40,
      "outputs": []
    },
    {
      "cell_type": "code",
      "metadata": {
        "id": "pR9AIf9OcPFW",
        "scrolled": true
      },
      "source": [
        "# # user2item['정답 유무'] = [True if label in recommendation(user) else False for user, label in tqdm_notebook(zip(user2item['유저 식별키'], user2item['라벨']), total=len(user2item['유저 식별키']))]\n",
        "# TFoutputs['정답 유무'] = [True if label in item else False for label, item in tqdm_notebook(zip(TFoutputs['label'], TFoutputs['추천 list']), total=(len(TFoutputs)))]"
      ],
      "execution_count": 41,
      "outputs": []
    },
    {
      "cell_type": "code",
      "metadata": {
        "id": "Q5isQ6BFSAsC"
      },
      "source": [
        "# TFoutputs"
      ],
      "execution_count": 42,
      "outputs": []
    },
    {
      "cell_type": "code",
      "metadata": {
        "id": "7ho1Gknv7Tpg"
      },
      "source": [
        "# # 추천 알고리듬 구매전 Top-10 성능평가\n",
        "\n",
        "# TFoutputs[TFoutputs['정답 유무']==True].shape[0]/(TFoutputs.shape[0] + falses)"
      ],
      "execution_count": 43,
      "outputs": []
    },
    {
      "cell_type": "code",
      "metadata": {
        "id": "z9PtAzr57Tpg"
      },
      "source": [
        ""
      ],
      "execution_count": 43,
      "outputs": []
    },
    {
      "cell_type": "markdown",
      "metadata": {
        "id": "1393Vl2t7Tpg"
      },
      "source": [
        "# 구매후(교-차)  : Top-10 시나리오"
      ]
    },
    {
      "cell_type": "code",
      "metadata": {
        "id": "a58XEWav7Tpg"
      },
      "source": [
        "# def recommendation(user):\n",
        "#     n = 10\n",
        "#     while True:\n",
        "#         recom_item = set(set(user2item[user2item['유저 식별키']==find_user(user)]['유저 구매 상품 식별키 묶음'].values[0].split('@')) & set(find_item(user, n))) - set(user2item[user2item['유저 식별키']==user]['유저 구매 상품 식별키 묶음'].values[0].split('@'))\n",
        "#         n += 10   \n",
        "#         if len(recom_item) >= 10:\n",
        "#             return list(recom_item)[:10]            #Top10\n",
        "#         if n >= 1000:\n",
        "#             return list(recom_item)"
      ],
      "execution_count": 44,
      "outputs": []
    },
    {
      "cell_type": "code",
      "metadata": {
        "id": "3FXqdTTJ7Tpg"
      },
      "source": [
        "# # 추천 List 생성\n",
        "\n",
        "# rec_list = []\n",
        "# for i in tqdm_notebook(df_f2['고객번호'].unique()):\n",
        "#     r_list = list(recommendation(i))\n",
        "#     rec_list.append(r_list)\n",
        "# rec_list\n",
        "\n",
        "# user2rec = pd.DataFrame({'유저 식별키':df_f2['고객번호'].unique(),\n",
        "#                          '추천 list':[str(i).replace('[','').replace(']','').replace(\"'\",'').replace(',','@') \n",
        "#                                     for i in rec_list]})\n",
        "# user2rec"
      ],
      "execution_count": 45,
      "outputs": []
    },
    {
      "cell_type": "code",
      "metadata": {
        "id": "xrDsheOC7Tph"
      },
      "source": [
        "# user2item['정답 유무'] = [True if label in recommendation(user) else False for user, label in tqdm_notebook(zip(user2item['유저 식별키'], user2item['라벨']), total=len(user2item['유저 식별키']))]"
      ],
      "execution_count": 46,
      "outputs": []
    },
    {
      "cell_type": "code",
      "metadata": {
        "id": "1FD-5uwY7Tph"
      },
      "source": [
        "# # 추천 알고리듬 구매후(교-차) Top-10 성능평가\n",
        "\n",
        "\n",
        "# user2item[user2item['정답 유무']==True].shape[0]/user2item.shape[0]*100 #Top10"
      ],
      "execution_count": 47,
      "outputs": []
    },
    {
      "cell_type": "code",
      "metadata": {
        "id": "zRRJ0EK-7Tph"
      },
      "source": [
        ""
      ],
      "execution_count": 47,
      "outputs": []
    },
    {
      "cell_type": "markdown",
      "metadata": {
        "id": "Ktg3T6o67Tph"
      },
      "source": [
        "# 구매후(합-차) : Top-10 시나리오"
      ]
    },
    {
      "cell_type": "code",
      "metadata": {
        "id": "ygiJnj537Tph"
      },
      "source": [
        "# def recommendation(user):\n",
        "#     n = 20\n",
        "#     while True:\n",
        "#         recom_item = set(set(user2item[user2item['유저 식별키']==find_user(user)]['유저 구매 상품 식별키 묶음'].values[0].split('@')) | set(find_item(user, n))) - set(user2item[user2item['유저 식별키']==user]['유저 구매 상품 식별키 묶음'].values[0].split('@'))\n",
        "#         n += 10   \n",
        "#         if len(recom_item) >= 10:\n",
        "#             return list(recom_item)[:10]              #Top10\n",
        "#         if n >= 1000:\n",
        "#             return list(recom_item)"
      ],
      "execution_count": 48,
      "outputs": []
    },
    {
      "cell_type": "code",
      "metadata": {
        "id": "DzdCjp9Z7Tph"
      },
      "source": [
        "# # 추천 List 생성\n",
        "\n",
        "# rec_list = []\n",
        "# for i in tqdm_notebook(df_f2['고객번호'].unique()):\n",
        "#     r_list = list(recommendation(i))\n",
        "#     rec_list.append(r_list)\n",
        "# rec_list\n",
        "\n",
        "# user2rec = pd.DataFrame({'유저 식별키':df_f2['고객번호'].unique(),\n",
        "#                          '추천 list':[str(i).replace('[','').replace(']','').replace(\"'\",'').replace(',','@') \n",
        "#                                     for i in rec_list]})\n",
        "# user2rec"
      ],
      "execution_count": 49,
      "outputs": []
    },
    {
      "cell_type": "code",
      "metadata": {
        "id": "dzB0cpYF7Tpi"
      },
      "source": [
        "# user2item['정답 유무'] = [True if label in recommendation(user) else False for user, label in tqdm_notebook(zip(user2item['유저 식별키'], user2item['라벨']), total=len(user2item['유저 식별키']))]"
      ],
      "execution_count": 50,
      "outputs": []
    },
    {
      "cell_type": "code",
      "metadata": {
        "scrolled": true,
        "id": "Ks6P431a7Tpi"
      },
      "source": [
        "# # 추천 알고리듬 구매후(합-차) Top-10 성능평가\n",
        "\n",
        "# user2item[user2item['정답 유무']==True].shape[0]/user2item.shape[0]*100 #Top10"
      ],
      "execution_count": 51,
      "outputs": []
    },
    {
      "cell_type": "code",
      "metadata": {
        "id": "JKy8ekdD7Tpj"
      },
      "source": [
        ""
      ],
      "execution_count": 51,
      "outputs": []
    },
    {
      "cell_type": "code",
      "metadata": {
        "id": "DbWDf2UT7Tpj"
      },
      "source": [
        ""
      ],
      "execution_count": 51,
      "outputs": []
    },
    {
      "cell_type": "code",
      "metadata": {
        "id": "GQO_uf8S7Tpj"
      },
      "source": [
        ""
      ],
      "execution_count": 51,
      "outputs": []
    }
  ]
}