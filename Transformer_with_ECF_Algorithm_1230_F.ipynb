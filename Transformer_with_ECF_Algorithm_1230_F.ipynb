{
  "nbformat": 4,
  "nbformat_minor": 0,
  "metadata": {
    "colab": {
      "name": "Transformer with ECF Algorithm_1230_F.ipynb",
      "private_outputs": true,
      "provenance": [],
      "collapsed_sections": [],
      "include_colab_link": true
    },
    "kernelspec": {
      "display_name": "Python 3",
      "language": "python",
      "name": "python3"
    },
    "language_info": {
      "codemirror_mode": {
        "name": "ipython",
        "version": 3
      },
      "file_extension": ".py",
      "mimetype": "text/x-python",
      "name": "python",
      "nbconvert_exporter": "python",
      "pygments_lexer": "ipython3",
      "version": "3.8.5"
    }
  },
  "cells": [
    {
      "cell_type": "markdown",
      "metadata": {
        "id": "view-in-github",
        "colab_type": "text"
      },
      "source": [
        "<a href=\"https://colab.research.google.com/github/hoky1227/Transformer_based-recommendation/blob/main/Transformer_with_ECF_Algorithm_1230_F.ipynb\" target=\"_parent\"><img src=\"https://colab.research.google.com/assets/colab-badge.svg\" alt=\"Open In Colab\"/></a>"
      ]
    },
    {
      "cell_type": "code",
      "metadata": {
        "id": "NZkzctqF7wdX"
      },
      "source": [
        "from google.colab import drive\n",
        "drive.mount('/content/drive')\n",
        "\n",
        "path = '/content/drive/MyDrive/'"
      ],
      "execution_count": null,
      "outputs": []
    },
    {
      "cell_type": "markdown",
      "metadata": {
        "id": "gq7X0GG97To_"
      },
      "source": [
        "### Module 가져오기"
      ]
    },
    {
      "cell_type": "code",
      "metadata": {
        "id": "XLxp7sxmZk43"
      },
      "source": [
        "import numpy as np\n",
        "import pandas as pd\n",
        "from gensim.models import Word2Vec\n",
        "import matplotlib.pyplot as plt\n",
        "from tqdm import tqdm_notebook\n",
        "import math\n",
        "from numpy.linalg import norm\n",
        "from sklearn.metrics.pairwise import cosine_similarity\n",
        "from scipy.spatial.distance import euclidean\n",
        "\n",
        "import warnings \n",
        "\n",
        "warnings.filterwarnings('ignore')"
      ],
      "execution_count": null,
      "outputs": []
    },
    {
      "cell_type": "markdown",
      "metadata": {
        "id": "lTZJXfbD7TpY"
      },
      "source": [
        "### Data Road"
      ]
    },
    {
      "cell_type": "code",
      "metadata": {
        "id": "A6d7H7aAJ-v1"
      },
      "source": [
        "TFoutputs = pd.read_csv(path + \"Transformer_test_outputs_10.csv\")\n",
        "TFoutputs.pop('Unnamed: 0')\n",
        "TFoutputs"
      ],
      "execution_count": null,
      "outputs": []
    },
    {
      "cell_type": "code",
      "metadata": {
        "id": "Xhf_KP7ANU4c"
      },
      "source": [
        "checker = pd.Series([i in list(TFoutputs['split_label_token']) for i in TFoutputs['predict_item']])\n",
        "# filter = checker.replace(False, np.NaN)\n",
        "print(checker.value_counts())\n",
        "filter = checker[checker == False].index\n",
        "len(filter)"
      ],
      "execution_count": null,
      "outputs": []
    },
    {
      "cell_type": "code",
      "metadata": {
        "id": "Uh-NlYnHNf5n"
      },
      "source": [
        "TFoutputs['filter'] = checker\n",
        "# falses = TFoutputs.isna().sum()\n",
        "# TFoutputs.dropna(inplace=True)\n",
        "# TFoutputs.reset_index(drop=True, inplace=True)\n",
        "# TFoutputs"
      ],
      "execution_count": null,
      "outputs": []
    },
    {
      "cell_type": "code",
      "metadata": {
        "id": "XR7Iz3dQqUKa"
      },
      "source": [
        "TFoutputs"
      ],
      "execution_count": null,
      "outputs": []
    },
    {
      "cell_type": "code",
      "metadata": {
        "id": "8NNnTiziKXBu"
      },
      "source": [
        "pred = TFoutputs['predict_item']\n",
        "pred = pred.str.replace('<esp>', '')\n",
        "pred = pred.str.strip()\n",
        "pred.head()"
      ],
      "execution_count": null,
      "outputs": []
    },
    {
      "cell_type": "code",
      "metadata": {
        "id": "99bDozohPb0F"
      },
      "source": [
        "# falses = falses['filter']\n",
        "# falses\n",
        "\n",
        "falses = pd.Series([TFoutputs['predict_item'][i] for i in filter])\n",
        "falses = falses.str.replace('<esp>', '')\n",
        "falses = falses.str.strip()\n",
        "print(len(falses))\n",
        "falses.head()"
      ],
      "execution_count": null,
      "outputs": []
    },
    {
      "cell_type": "code",
      "metadata": {
        "id": "8u5Kpf0fyHmd"
      },
      "source": [
        "filter[:5]"
      ],
      "execution_count": null,
      "outputs": []
    },
    {
      "cell_type": "code",
      "metadata": {
        "id": "IgcTovcIZrBO"
      },
      "source": [
        "df = pd.read_csv(path + \"data_customer_based.csv\")\n",
        "df.pop('Unnamed: 0')\n",
        "df"
      ],
      "execution_count": null,
      "outputs": []
    },
    {
      "cell_type": "code",
      "metadata": {
        "id": "nYFapQ7HAxsZ"
      },
      "source": [
        "user2item = df.copy()"
      ],
      "execution_count": null,
      "outputs": []
    },
    {
      "cell_type": "code",
      "metadata": {
        "id": "6WW2TMwaE6Hn"
      },
      "source": [
        "user2item.columns = ['유저 식별키', '유저 구매 상품 식별키 묶음', '라벨']\n",
        "user2item"
      ],
      "execution_count": null,
      "outputs": []
    },
    {
      "cell_type": "markdown",
      "metadata": {
        "id": "ONTa8KzF7Tpd"
      },
      "source": [
        "# Product2Vector 생성"
      ]
    },
    {
      "cell_type": "markdown",
      "metadata": {
        "id": "tQ3s7oD7roAu"
      },
      "source": [
        "### Jaccard 유사도"
      ]
    },
    {
      "cell_type": "code",
      "metadata": {
        "id": "tnGznGc7tyiq"
      },
      "source": [
        "# detail = pd.read_csv(path + \"Detail.csv\")\n",
        "# detail.pop('Unnamed: 0')\n",
        "# print(len(detail))\n",
        "# detail = detail['0'].to_list()\n",
        "# len(detail)"
      ],
      "execution_count": null,
      "outputs": []
    },
    {
      "cell_type": "code",
      "metadata": {
        "id": "WOtZGHYeyqf3"
      },
      "source": [
        "# pd.Series([i in detail for i in falses]).value_counts()"
      ],
      "execution_count": null,
      "outputs": []
    },
    {
      "cell_type": "code",
      "metadata": {
        "id": "-6NCE8Xsn_gE"
      },
      "source": [
        "def JaccardSimilarity(inp1, inp2):\n",
        "    list_inp1 = inp1.split()\n",
        "    list_inp2 = inp2.split()\n",
        "    mom = set(list_inp1).union(set(list_inp2))\n",
        "    son = set(list_inp1).intersection(set(list_inp2))\n",
        "    # print(mom)\n",
        "    # print(son)\n",
        "    return len(son)/len(mom)"
      ],
      "execution_count": null,
      "outputs": []
    },
    {
      "cell_type": "code",
      "metadata": {
        "id": "q_diL3hJzkIo"
      },
      "source": [
        "detail = TFoutputs['label'].unique().tolist()\n",
        "print(detail[-1])\n",
        "len(detail)"
      ],
      "execution_count": null,
      "outputs": []
    },
    {
      "cell_type": "code",
      "metadata": {
        "id": "48v_MQRw1YVv"
      },
      "source": [
        "pred[75]"
      ],
      "execution_count": null,
      "outputs": []
    },
    {
      "cell_type": "code",
      "metadata": {
        "id": "WEsJSuI5ruEV"
      },
      "source": [
        "asdf = []\n",
        "\n",
        "for v in falses:\n",
        "    max = 0\n",
        "    for d in detail:\n",
        "        score = JaccardSimilarity(v, d)\n",
        "        if max < score:\n",
        "            max = score\n",
        "            temp = d\n",
        "    if max == 0: asdf.append(v)\n",
        "    id = pred[pred == v].index\n",
        "    for i in id:\n",
        "        pred[i] = temp"
      ],
      "execution_count": null,
      "outputs": []
    },
    {
      "cell_type": "code",
      "metadata": {
        "id": "fiv9jONu11sB"
      },
      "source": [
        "len(asdf)"
      ],
      "execution_count": null,
      "outputs": []
    },
    {
      "cell_type": "code",
      "metadata": {
        "id": "eib8VT_h0IQs"
      },
      "source": [
        "falses[0]"
      ],
      "execution_count": null,
      "outputs": []
    },
    {
      "cell_type": "code",
      "metadata": {
        "id": "yjgBebQk0xdz"
      },
      "source": [
        "pred[75]"
      ],
      "execution_count": null,
      "outputs": []
    },
    {
      "cell_type": "code",
      "metadata": {
        "id": "tDALBoafz4DZ"
      },
      "source": [
        "pd.Series([i in detail for i in pred]).value_counts()"
      ],
      "execution_count": null,
      "outputs": []
    },
    {
      "cell_type": "code",
      "metadata": {
        "id": "91kYkoci3HNN"
      },
      "source": [
        "changes = pd.DataFrame(columns=['Original', 'Changed'])\n",
        "changes['Original'] = falses\n",
        "changes['Changed'] = pred[filter].to_list()\n",
        "changes"
      ],
      "execution_count": null,
      "outputs": []
    },
    {
      "cell_type": "code",
      "metadata": {
        "id": "hEds17zQ3r-B"
      },
      "source": [
        "changes.to_csv(path + 'changed_products.csv', mode='w')"
      ],
      "execution_count": null,
      "outputs": []
    },
    {
      "cell_type": "markdown",
      "metadata": {
        "id": "7ijtnPz57Tpd"
      },
      "source": [
        "### Word2vec Model 학습"
      ]
    },
    {
      "cell_type": "code",
      "metadata": {
        "id": "xV3a9xIwcCSi"
      },
      "source": [
        "model = Word2Vec([item_list.split('&&') for item_list in user2item['유저 구매 상품 식별키 묶음']], size=100, window=5, min_count=1, negative=15, iter=20, sample=0.00001, sg=1)"
      ],
      "execution_count": null,
      "outputs": []
    },
    {
      "cell_type": "code",
      "metadata": {
        "id": "L_HZvoHXcFYi",
        "scrolled": true
      },
      "source": [
        "# 유저 성향 벡터 구하기 \n",
        "user_propensity_vector = []\n",
        "for item_list in tqdm_notebook(user2item['유저 구매 상품 식별키 묶음']):\n",
        "    item_list = item_list.split('&&')\n",
        "    bbb = np.array(np.ones(100))\n",
        "    for aaa in item_list:\n",
        "        bbb *= model[aaa]\n",
        "        bbb = bbb/norm(bbb)\n",
        "    user_propensity_vector.append(bbb)"
      ],
      "execution_count": null,
      "outputs": []
    },
    {
      "cell_type": "code",
      "metadata": {
        "id": "2vmgzv19cJIS"
      },
      "source": [
        "# 유사 product 찾기\n",
        "# def find_item(user, n=10):\n",
        "#     item_code = user2item[user2item['유저 식별키']==user]['유저 구매 상품 식별키 묶음'].values[0].split('&&')[-1]\n",
        "#     return list(dict(model.wv.most_similar(item_code, topn=n)))\n",
        "\n",
        "def find_item(item, n=10):\n",
        "    return list(dict(model.wv.most_similar(item, topn=n)))\n",
        "\n",
        "# 유저 유사도 계산 및 유사 유저 찾기\n",
        "def user_sim(A, B): \n",
        "    A_vec = user_propensity_vector[user2item[user2item['유저 식별키']==A].index[0]]\n",
        "    B_vec = user_propensity_vector[user2item[user2item['유저 식별키']==B].index[0]]\n",
        "    return euclidean(A_vec.reshape(-1, 1), B_vec.reshape(-1, 1))\n",
        "\n",
        "def find_user(user):\n",
        "    user_index = user2item[user2item['유저 식별키']==user].index[0]\n",
        "    min_user_similar = min(user_matrix_f[user_index].drop(user_index))\n",
        "    return user2item.iloc[{j:i for i, j in enumerate(user_matrix_f[user_index])}[min_user_similar]]['유저 식별키']"
      ],
      "execution_count": null,
      "outputs": []
    },
    {
      "cell_type": "code",
      "metadata": {
        "id": "wJUCFhY6cNaA",
        "scrolled": true
      },
      "source": [
        "# # 유저 유사도 매트릭스\n",
        "# user_matrix_f = pd.DataFrame()\n",
        "# for i in tqdm_notebook(range(len(user_propensity_vector))):\n",
        "#     tmp = []\n",
        "#     for j in range(len(user_propensity_vector)):\n",
        "#         tmp.append(euclidean(user_propensity_vector[i], user_propensity_vector[j]))\n",
        "#     user_matrix_f = pd.concat([user_matrix_f, pd.DataFrame(tmp)], axis = 1)\n",
        "# user_matrix_f.columns = user_matrix_f.index\n",
        "# user_matrix_f"
      ],
      "execution_count": null,
      "outputs": []
    },
    {
      "cell_type": "code",
      "metadata": {
        "id": "hicq1rkn7Tpe"
      },
      "source": [
        "find_item(pred[0])"
      ],
      "execution_count": null,
      "outputs": []
    },
    {
      "cell_type": "markdown",
      "metadata": {
        "id": "yhEuNMnT7Tpf"
      },
      "source": [
        "## 구매전 : Top-10 시나리오"
      ]
    },
    {
      "cell_type": "code",
      "metadata": {
        "id": "qnTLapiUS5Wq"
      },
      "source": [
        "def recommend(n=10, acc=False, pred=pred, TFoutputs=TFoutputs):\n",
        "    item_list = []\n",
        "    for v in pred.to_list():\n",
        "        pp = find_item(v, n)\n",
        "        item_list.append(pp)\n",
        "    TFoutputs['추천 list'] = item_list\n",
        "    # user2item['정답 유무'] = [True if label in recommendation(user) else False for user, label in tqdm_notebook(zip(user2item['유저 식별키'], user2item['라벨']), total=len(user2item['유저 식별키']))]\n",
        "    TFoutputs['정답 유무'] = [True if label in item else False for label, item in tqdm_notebook(zip(TFoutputs['label'], TFoutputs['추천 list']), total=(len(TFoutputs)))]\n",
        "    # 추천 알고리듬 구매전 Top-10 성능평가\n",
        "    \n",
        "    if acc:\n",
        "        return TFoutputs[TFoutputs['정답 유무']==True].shape[0]/(TFoutputs.shape[0])\n",
        "\n",
        "    return TFoutputs"
      ],
      "execution_count": null,
      "outputs": []
    },
    {
      "cell_type": "code",
      "metadata": {
        "id": "jyZiDRH6TvFu"
      },
      "source": [
        "recommend(n=5, acc=True)"
      ],
      "execution_count": null,
      "outputs": []
    },
    {
      "cell_type": "code",
      "metadata": {
        "id": "8w2fjzSUp5nH"
      },
      "source": [
        "recommend(n=10, acc=True)"
      ],
      "execution_count": null,
      "outputs": []
    },
    {
      "cell_type": "code",
      "metadata": {
        "id": "e-iKPO41T57o"
      },
      "source": [
        "recommend(n=20, acc=True)"
      ],
      "execution_count": null,
      "outputs": []
    },
    {
      "cell_type": "code",
      "metadata": {
        "id": "MoKad0ot4BfT"
      },
      "source": [
        "recommend()"
      ],
      "execution_count": null,
      "outputs": []
    },
    {
      "cell_type": "code",
      "metadata": {
        "id": "813haTsJLLaH"
      },
      "source": [
        "# item_list = []\n",
        "# for v in pred.to_list():\n",
        "#     pp = find_item(v)\n",
        "#     item_list.append(pp)\n",
        "\n",
        "# item_list[:2]"
      ],
      "execution_count": null,
      "outputs": []
    },
    {
      "cell_type": "code",
      "metadata": {
        "id": "06Sa3TjS7Tpf"
      },
      "source": [
        "# def recommendation(user):\n",
        "#     n = 10\n",
        "#     while True:\n",
        "#         recom_item = set(user2item[user2item['유저 식별키']==find_user(user)]['유저 구매 상품 식별키 묶음'].values[0].split('&&')) - set(user2item[user2item['유저 식별키']==user]['유저 구매 상품 식별키 묶음'].values[0].split('&&'))\n",
        "#         n += 10\n",
        "#         if len(recom_item) >= 10:\n",
        "#             return list(recom_item)[:10]           #Top10\n",
        "#         if n >= 1000:\n",
        "#             return list(recom_item)"
      ],
      "execution_count": null,
      "outputs": []
    },
    {
      "cell_type": "code",
      "metadata": {
        "id": "TvG6Py2-7Tpf"
      },
      "source": [
        "# # 추천 List 생성\n",
        "\n",
        "# rec_list = []\n",
        "# for i in tqdm_notebook(user2item['유저 식별키'].unique()):\n",
        "#     r_list = list(recommendation(i))\n",
        "#     rec_list.append(r_list)\n",
        "# rec_list\n",
        "\n",
        "# user2rec = pd.DataFrame({'유저 식별키':user2item['유저 식별키'].unique(),\n",
        "#                          '추천 list':[str(i).replace('[','').replace(']','').replace(\"'\",'').replace(',','&&') \n",
        "#                                    for i in rec_list]})\n",
        "# user2rec"
      ],
      "execution_count": null,
      "outputs": []
    },
    {
      "cell_type": "code",
      "metadata": {
        "id": "dWT111O0Q_Zk"
      },
      "source": [
        "# TFoutputs['추천 list'] = item_list"
      ],
      "execution_count": null,
      "outputs": []
    },
    {
      "cell_type": "code",
      "metadata": {
        "id": "pR9AIf9OcPFW",
        "scrolled": true
      },
      "source": [
        "# # user2item['정답 유무'] = [True if label in recommendation(user) else False for user, label in tqdm_notebook(zip(user2item['유저 식별키'], user2item['라벨']), total=len(user2item['유저 식별키']))]\n",
        "# TFoutputs['정답 유무'] = [True if label in item else False for label, item in tqdm_notebook(zip(TFoutputs['label'], TFoutputs['추천 list']), total=(len(TFoutputs)))]"
      ],
      "execution_count": null,
      "outputs": []
    },
    {
      "cell_type": "code",
      "metadata": {
        "id": "Q5isQ6BFSAsC"
      },
      "source": [
        "# TFoutputs"
      ],
      "execution_count": null,
      "outputs": []
    },
    {
      "cell_type": "code",
      "metadata": {
        "id": "7ho1Gknv7Tpg"
      },
      "source": [
        "# # 추천 알고리듬 구매전 Top-10 성능평가\n",
        "\n",
        "# TFoutputs[TFoutputs['정답 유무']==True].shape[0]/(TFoutputs.shape[0] + falses)"
      ],
      "execution_count": null,
      "outputs": []
    },
    {
      "cell_type": "code",
      "metadata": {
        "id": "z9PtAzr57Tpg"
      },
      "source": [
        ""
      ],
      "execution_count": null,
      "outputs": []
    },
    {
      "cell_type": "markdown",
      "metadata": {
        "id": "1393Vl2t7Tpg"
      },
      "source": [
        "# 구매후(교-차)  : Top-10 시나리오"
      ]
    },
    {
      "cell_type": "code",
      "metadata": {
        "id": "a58XEWav7Tpg"
      },
      "source": [
        "# def recommendation(user):\n",
        "#     n = 10\n",
        "#     while True:\n",
        "#         recom_item = set(set(user2item[user2item['유저 식별키']==find_user(user)]['유저 구매 상품 식별키 묶음'].values[0].split('@')) & set(find_item(user, n))) - set(user2item[user2item['유저 식별키']==user]['유저 구매 상품 식별키 묶음'].values[0].split('@'))\n",
        "#         n += 10   \n",
        "#         if len(recom_item) >= 10:\n",
        "#             return list(recom_item)[:10]            #Top10\n",
        "#         if n >= 1000:\n",
        "#             return list(recom_item)"
      ],
      "execution_count": null,
      "outputs": []
    },
    {
      "cell_type": "code",
      "metadata": {
        "id": "3FXqdTTJ7Tpg"
      },
      "source": [
        "# # 추천 List 생성\n",
        "\n",
        "# rec_list = []\n",
        "# for i in tqdm_notebook(df_f2['고객번호'].unique()):\n",
        "#     r_list = list(recommendation(i))\n",
        "#     rec_list.append(r_list)\n",
        "# rec_list\n",
        "\n",
        "# user2rec = pd.DataFrame({'유저 식별키':df_f2['고객번호'].unique(),\n",
        "#                          '추천 list':[str(i).replace('[','').replace(']','').replace(\"'\",'').replace(',','@') \n",
        "#                                     for i in rec_list]})\n",
        "# user2rec"
      ],
      "execution_count": null,
      "outputs": []
    },
    {
      "cell_type": "code",
      "metadata": {
        "id": "xrDsheOC7Tph"
      },
      "source": [
        "# user2item['정답 유무'] = [True if label in recommendation(user) else False for user, label in tqdm_notebook(zip(user2item['유저 식별키'], user2item['라벨']), total=len(user2item['유저 식별키']))]"
      ],
      "execution_count": null,
      "outputs": []
    },
    {
      "cell_type": "code",
      "metadata": {
        "id": "1FD-5uwY7Tph"
      },
      "source": [
        "# # 추천 알고리듬 구매후(교-차) Top-10 성능평가\n",
        "\n",
        "\n",
        "# user2item[user2item['정답 유무']==True].shape[0]/user2item.shape[0]*100 #Top10"
      ],
      "execution_count": null,
      "outputs": []
    },
    {
      "cell_type": "code",
      "metadata": {
        "id": "zRRJ0EK-7Tph"
      },
      "source": [
        ""
      ],
      "execution_count": null,
      "outputs": []
    },
    {
      "cell_type": "markdown",
      "metadata": {
        "id": "Ktg3T6o67Tph"
      },
      "source": [
        "# 구매후(합-차) : Top-10 시나리오"
      ]
    },
    {
      "cell_type": "code",
      "metadata": {
        "id": "ygiJnj537Tph"
      },
      "source": [
        "# def recommendation(user):\n",
        "#     n = 20\n",
        "#     while True:\n",
        "#         recom_item = set(set(user2item[user2item['유저 식별키']==find_user(user)]['유저 구매 상품 식별키 묶음'].values[0].split('@')) | set(find_item(user, n))) - set(user2item[user2item['유저 식별키']==user]['유저 구매 상품 식별키 묶음'].values[0].split('@'))\n",
        "#         n += 10   \n",
        "#         if len(recom_item) >= 10:\n",
        "#             return list(recom_item)[:10]              #Top10\n",
        "#         if n >= 1000:\n",
        "#             return list(recom_item)"
      ],
      "execution_count": null,
      "outputs": []
    },
    {
      "cell_type": "code",
      "metadata": {
        "id": "DzdCjp9Z7Tph"
      },
      "source": [
        "# # 추천 List 생성\n",
        "\n",
        "# rec_list = []\n",
        "# for i in tqdm_notebook(df_f2['고객번호'].unique()):\n",
        "#     r_list = list(recommendation(i))\n",
        "#     rec_list.append(r_list)\n",
        "# rec_list\n",
        "\n",
        "# user2rec = pd.DataFrame({'유저 식별키':df_f2['고객번호'].unique(),\n",
        "#                          '추천 list':[str(i).replace('[','').replace(']','').replace(\"'\",'').replace(',','@') \n",
        "#                                     for i in rec_list]})\n",
        "# user2rec"
      ],
      "execution_count": null,
      "outputs": []
    },
    {
      "cell_type": "code",
      "metadata": {
        "id": "dzB0cpYF7Tpi"
      },
      "source": [
        "# user2item['정답 유무'] = [True if label in recommendation(user) else False for user, label in tqdm_notebook(zip(user2item['유저 식별키'], user2item['라벨']), total=len(user2item['유저 식별키']))]"
      ],
      "execution_count": null,
      "outputs": []
    },
    {
      "cell_type": "code",
      "metadata": {
        "scrolled": true,
        "id": "Ks6P431a7Tpi"
      },
      "source": [
        "# # 추천 알고리듬 구매후(합-차) Top-10 성능평가\n",
        "\n",
        "# user2item[user2item['정답 유무']==True].shape[0]/user2item.shape[0]*100 #Top10"
      ],
      "execution_count": null,
      "outputs": []
    },
    {
      "cell_type": "code",
      "metadata": {
        "id": "JKy8ekdD7Tpj"
      },
      "source": [
        ""
      ],
      "execution_count": null,
      "outputs": []
    },
    {
      "cell_type": "code",
      "metadata": {
        "id": "DbWDf2UT7Tpj"
      },
      "source": [
        ""
      ],
      "execution_count": null,
      "outputs": []
    },
    {
      "cell_type": "code",
      "metadata": {
        "id": "GQO_uf8S7Tpj"
      },
      "source": [
        ""
      ],
      "execution_count": null,
      "outputs": []
    }
  ]
}