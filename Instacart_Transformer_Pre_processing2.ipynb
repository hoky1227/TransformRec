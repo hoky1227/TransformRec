{
  "nbformat": 4,
  "nbformat_minor": 0,
  "metadata": {
    "colab": {
      "name": "Instacart_Transformer_Pre-processing2.ipynb",
      "provenance": [],
      "collapsed_sections": [],
      "mount_file_id": "1uO5-Bjc3xI3V3-9aLgaN5e88ufG-ZSdE",
      "authorship_tag": "ABX9TyOqtdRUhztg0zadf6xwBNR7",
      "include_colab_link": true
    },
    "kernelspec": {
      "name": "python3",
      "display_name": "Python 3"
    }
  },
  "cells": [
    {
      "cell_type": "markdown",
      "metadata": {
        "id": "view-in-github",
        "colab_type": "text"
      },
      "source": [
        "<a href=\"https://colab.research.google.com/github/hoky1227/Transformer_based-recommendation/blob/main/Instacart_Transformer_Pre_processing2.ipynb\" target=\"_parent\"><img src=\"https://colab.research.google.com/assets/colab-badge.svg\" alt=\"Open In Colab\"/></a>"
      ]
    },
    {
      "cell_type": "code",
      "metadata": {
        "id": "6dq-T8350NqV",
        "colab": {
          "base_uri": "https://localhost:8080/"
        },
        "outputId": "55a3466a-ccb6-4389-ef02-ab00a497ad46"
      },
      "source": [
        "from google.colab import drive\n",
        "\n",
        "drive.mount('/content/drive')"
      ],
      "execution_count": null,
      "outputs": [
        {
          "output_type": "stream",
          "text": [
            "Mounted at /content/drive\n"
          ],
          "name": "stdout"
        }
      ]
    },
    {
      "cell_type": "code",
      "metadata": {
        "id": "2fSYBsOa80TU"
      },
      "source": [
        "import pandas as pd\n",
        "import numpy as np\n",
        "import random\n",
        "import time\n",
        "import datetime\n",
        "import csv\n",
        "import os\n",
        "import matplotlib.pyplot as plt\n",
        "import pickle\n",
        "from tqdm import tqdm"
      ],
      "execution_count": null,
      "outputs": []
    },
    {
      "cell_type": "code",
      "metadata": {
        "id": "Cv6iX6_g00Yq",
        "colab": {
          "base_uri": "https://localhost:8080/"
        },
        "outputId": "858e7857-45bf-4810-92e8-5f45afda4fe5"
      },
      "source": [
        "path = '/content/drive/MyDrive/Instacart/'\n",
        "print(os.listdir(path))\n",
        "\n",
        "def csvread(filename):\n",
        "    return pd.read_csv(path + filename + '.csv')\n",
        "\n",
        "# aisles = csvread('aisles')\n",
        "# departments = csvread('departments')\n",
        "# products = csvread('products')\n",
        "# order_products_train = csvread('order_products__train')\n",
        "# orders = csvread('orders')\n",
        "# order_products_prior = csvread('order_products__prior')\n",
        "order_products = pd.read_pickle(path + 'order_products.pkl')\n",
        "ds = pd.read_pickle(path + 'InstacartCustomers.pkl')\n",
        "# sample_submission = csvread('sample_submission')"
      ],
      "execution_count": null,
      "outputs": [
        {
          "output_type": "stream",
          "text": [
            "['aisles.csv', 'departments.csv', 'products.csv', 'order_products__train.csv', 'orders.csv', 'order_products__prior.csv', 'sample_submission.csv', 'InstacartDetail.csv', '.ipynb_checkpoints', 'order_products.pkl', 'InstacartCustomers.pkl', 'InstacartOrders_sample.pkl']\n"
          ],
          "name": "stdout"
        }
      ]
    },
    {
      "cell_type": "code",
      "metadata": {
        "colab": {
          "base_uri": "https://localhost:8080/",
          "height": 416
        },
        "id": "WyEfu3r3O2m-",
        "outputId": "1a67aa3a-1b80-4df7-8bee-23f14660e466"
      },
      "source": [
        "ds"
      ],
      "execution_count": null,
      "outputs": [
        {
          "output_type": "execute_result",
          "data": {
            "text/html": [
              "<div>\n",
              "<style scoped>\n",
              "    .dataframe tbody tr th:only-of-type {\n",
              "        vertical-align: middle;\n",
              "    }\n",
              "\n",
              "    .dataframe tbody tr th {\n",
              "        vertical-align: top;\n",
              "    }\n",
              "\n",
              "    .dataframe thead th {\n",
              "        text-align: right;\n",
              "    }\n",
              "</style>\n",
              "<table border=\"1\" class=\"dataframe\">\n",
              "  <thead>\n",
              "    <tr style=\"text-align: right;\">\n",
              "      <th></th>\n",
              "      <th>user</th>\n",
              "      <th>products</th>\n",
              "    </tr>\n",
              "  </thead>\n",
              "  <tbody>\n",
              "    <tr>\n",
              "      <th>0</th>\n",
              "      <td>1</td>\n",
              "      <td>Organic Fuji Apples&amp;&amp;Bag of Organic Bananas&amp;&amp;H...</td>\n",
              "    </tr>\n",
              "    <tr>\n",
              "      <th>1</th>\n",
              "      <td>2</td>\n",
              "      <td>Organic Roasted Sliced Chicken Breast&amp;&amp;Articho...</td>\n",
              "    </tr>\n",
              "    <tr>\n",
              "      <th>2</th>\n",
              "      <td>3</td>\n",
              "      <td>Crackers, Crispy, Cheddar&amp;&amp;Organic Baby Spinac...</td>\n",
              "    </tr>\n",
              "    <tr>\n",
              "      <th>3</th>\n",
              "      <td>4</td>\n",
              "      <td>Original Orange Juice&amp;&amp;Extra-Dry Cava&amp;&amp;Organic...</td>\n",
              "    </tr>\n",
              "    <tr>\n",
              "      <th>4</th>\n",
              "      <td>5</td>\n",
              "      <td>Semi-Soft Cheese, Ripened&amp;&amp;Red Raspberries&amp;&amp;Or...</td>\n",
              "    </tr>\n",
              "    <tr>\n",
              "      <th>...</th>\n",
              "      <td>...</td>\n",
              "      <td>...</td>\n",
              "    </tr>\n",
              "    <tr>\n",
              "      <th>206204</th>\n",
              "      <td>206205</td>\n",
              "      <td>Hass Avocado&amp;&amp;Organic Whole String Cheese&amp;&amp;Ora...</td>\n",
              "    </tr>\n",
              "    <tr>\n",
              "      <th>206205</th>\n",
              "      <td>206206</td>\n",
              "      <td>Large Alfresco Eggs&amp;&amp;Gluten Free Apple Cinnamo...</td>\n",
              "    </tr>\n",
              "    <tr>\n",
              "      <th>206206</th>\n",
              "      <td>206207</td>\n",
              "      <td>Sparkling Water Grapefruit&amp;&amp;Organic Raspberrie...</td>\n",
              "    </tr>\n",
              "    <tr>\n",
              "      <th>206207</th>\n",
              "      <td>206208</td>\n",
              "      <td>Organic Whipping Cream&amp;&amp;Organic Lemon&amp;&amp;Peanut ...</td>\n",
              "    </tr>\n",
              "    <tr>\n",
              "      <th>206208</th>\n",
              "      <td>206209</td>\n",
              "      <td>Fabric Softener Sheets&amp;&amp;Banana&amp;&amp;Calcium Enrich...</td>\n",
              "    </tr>\n",
              "  </tbody>\n",
              "</table>\n",
              "<p>206209 rows × 2 columns</p>\n",
              "</div>"
            ],
            "text/plain": [
              "          user                                           products\n",
              "0            1  Organic Fuji Apples&&Bag of Organic Bananas&&H...\n",
              "1            2  Organic Roasted Sliced Chicken Breast&&Articho...\n",
              "2            3  Crackers, Crispy, Cheddar&&Organic Baby Spinac...\n",
              "3            4  Original Orange Juice&&Extra-Dry Cava&&Organic...\n",
              "4            5  Semi-Soft Cheese, Ripened&&Red Raspberries&&Or...\n",
              "...        ...                                                ...\n",
              "206204  206205  Hass Avocado&&Organic Whole String Cheese&&Ora...\n",
              "206205  206206  Large Alfresco Eggs&&Gluten Free Apple Cinnamo...\n",
              "206206  206207  Sparkling Water Grapefruit&&Organic Raspberrie...\n",
              "206207  206208  Organic Whipping Cream&&Organic Lemon&&Peanut ...\n",
              "206208  206209  Fabric Softener Sheets&&Banana&&Calcium Enrich...\n",
              "\n",
              "[206209 rows x 2 columns]"
            ]
          },
          "metadata": {
            "tags": []
          },
          "execution_count": 4
        }
      ]
    },
    {
      "cell_type": "code",
      "metadata": {
        "id": "KhcLRz28r4yQ",
        "colab": {
          "base_uri": "https://localhost:8080/",
          "height": 416
        },
        "outputId": "8ed24afb-f6bf-4078-dd71-93b9d739fe7a"
      },
      "source": [
        "order_products"
      ],
      "execution_count": null,
      "outputs": [
        {
          "output_type": "execute_result",
          "data": {
            "text/html": [
              "<div>\n",
              "<style scoped>\n",
              "    .dataframe tbody tr th:only-of-type {\n",
              "        vertical-align: middle;\n",
              "    }\n",
              "\n",
              "    .dataframe tbody tr th {\n",
              "        vertical-align: top;\n",
              "    }\n",
              "\n",
              "    .dataframe thead th {\n",
              "        text-align: right;\n",
              "    }\n",
              "</style>\n",
              "<table border=\"1\" class=\"dataframe\">\n",
              "  <thead>\n",
              "    <tr style=\"text-align: right;\">\n",
              "      <th></th>\n",
              "      <th>order_id</th>\n",
              "      <th>product_id</th>\n",
              "      <th>user_id</th>\n",
              "    </tr>\n",
              "  </thead>\n",
              "  <tbody>\n",
              "    <tr>\n",
              "      <th>0</th>\n",
              "      <td>431534</td>\n",
              "      <td>Organic Fuji Apples</td>\n",
              "      <td>1</td>\n",
              "    </tr>\n",
              "    <tr>\n",
              "      <th>1</th>\n",
              "      <td>431534</td>\n",
              "      <td>Bag of Organic Bananas</td>\n",
              "      <td>1</td>\n",
              "    </tr>\n",
              "    <tr>\n",
              "      <th>2</th>\n",
              "      <td>431534</td>\n",
              "      <td>Honeycrisp Apples</td>\n",
              "      <td>1</td>\n",
              "    </tr>\n",
              "    <tr>\n",
              "      <th>3</th>\n",
              "      <td>431534</td>\n",
              "      <td>Organic String Cheese</td>\n",
              "      <td>1</td>\n",
              "    </tr>\n",
              "    <tr>\n",
              "      <th>4</th>\n",
              "      <td>431534</td>\n",
              "      <td>Bartlett Pears</td>\n",
              "      <td>1</td>\n",
              "    </tr>\n",
              "    <tr>\n",
              "      <th>...</th>\n",
              "      <td>...</td>\n",
              "      <td>...</td>\n",
              "      <td>...</td>\n",
              "    </tr>\n",
              "    <tr>\n",
              "      <th>33819101</th>\n",
              "      <td>3154581</td>\n",
              "      <td>Diet Pepsi Pack</td>\n",
              "      <td>206209</td>\n",
              "    </tr>\n",
              "    <tr>\n",
              "      <th>33819102</th>\n",
              "      <td>3154581</td>\n",
              "      <td>Organic Diced Tomatoes</td>\n",
              "      <td>206209</td>\n",
              "    </tr>\n",
              "    <tr>\n",
              "      <th>33819103</th>\n",
              "      <td>3154581</td>\n",
              "      <td>Fat Free Cream Cheese</td>\n",
              "      <td>206209</td>\n",
              "    </tr>\n",
              "    <tr>\n",
              "      <th>33819104</th>\n",
              "      <td>3186442</td>\n",
              "      <td>Raisin Bran Cereal</td>\n",
              "      <td>206209</td>\n",
              "    </tr>\n",
              "    <tr>\n",
              "      <th>33819105</th>\n",
              "      <td>3186442</td>\n",
              "      <td>Tomato Paste</td>\n",
              "      <td>206209</td>\n",
              "    </tr>\n",
              "  </tbody>\n",
              "</table>\n",
              "<p>33819106 rows × 3 columns</p>\n",
              "</div>"
            ],
            "text/plain": [
              "          order_id              product_id  user_id\n",
              "0           431534     Organic Fuji Apples        1\n",
              "1           431534  Bag of Organic Bananas        1\n",
              "2           431534       Honeycrisp Apples        1\n",
              "3           431534   Organic String Cheese        1\n",
              "4           431534          Bartlett Pears        1\n",
              "...            ...                     ...      ...\n",
              "33819101   3154581         Diet Pepsi Pack   206209\n",
              "33819102   3154581  Organic Diced Tomatoes   206209\n",
              "33819103   3154581   Fat Free Cream Cheese   206209\n",
              "33819104   3186442      Raisin Bran Cereal   206209\n",
              "33819105   3186442            Tomato Paste   206209\n",
              "\n",
              "[33819106 rows x 3 columns]"
            ]
          },
          "metadata": {
            "tags": []
          },
          "execution_count": 5
        }
      ]
    },
    {
      "cell_type": "code",
      "metadata": {
        "id": "2z68B2Z1bzDt"
      },
      "source": [
        "def sortdf(data, column):\n",
        "    data.sort_values(column, inplace=True)\n",
        "    data.reset_index(inplace=True)\n",
        "    data.pop('index')\n",
        "    return data"
      ],
      "execution_count": null,
      "outputs": []
    },
    {
      "cell_type": "code",
      "metadata": {
        "colab": {
          "base_uri": "https://localhost:8080/",
          "height": 433
        },
        "id": "ffi8bnESzy2d",
        "outputId": "6d1b125c-ae8c-4d71-865d-e8c7756f2a1f"
      },
      "source": [
        "order_id = pd.DataFrame(columns=['order_id'])\n",
        "order_id['order_id'] = pd.Series(order_products['order_id'].unique()).sample(frac=0.01).reset_index().pop('index')\n",
        "print(len(order_id['order_id'].unique()))\n",
        "order_id"
      ],
      "execution_count": null,
      "outputs": [
        {
          "output_type": "stream",
          "text": [
            "33461\n"
          ],
          "name": "stdout"
        },
        {
          "output_type": "execute_result",
          "data": {
            "text/html": [
              "<div>\n",
              "<style scoped>\n",
              "    .dataframe tbody tr th:only-of-type {\n",
              "        vertical-align: middle;\n",
              "    }\n",
              "\n",
              "    .dataframe tbody tr th {\n",
              "        vertical-align: top;\n",
              "    }\n",
              "\n",
              "    .dataframe thead th {\n",
              "        text-align: right;\n",
              "    }\n",
              "</style>\n",
              "<table border=\"1\" class=\"dataframe\">\n",
              "  <thead>\n",
              "    <tr style=\"text-align: right;\">\n",
              "      <th></th>\n",
              "      <th>order_id</th>\n",
              "    </tr>\n",
              "  </thead>\n",
              "  <tbody>\n",
              "    <tr>\n",
              "      <th>0</th>\n",
              "      <td>95613</td>\n",
              "    </tr>\n",
              "    <tr>\n",
              "      <th>1</th>\n",
              "      <td>969347</td>\n",
              "    </tr>\n",
              "    <tr>\n",
              "      <th>2</th>\n",
              "      <td>4516</td>\n",
              "    </tr>\n",
              "    <tr>\n",
              "      <th>3</th>\n",
              "      <td>1930165</td>\n",
              "    </tr>\n",
              "    <tr>\n",
              "      <th>4</th>\n",
              "      <td>1527966</td>\n",
              "    </tr>\n",
              "    <tr>\n",
              "      <th>...</th>\n",
              "      <td>...</td>\n",
              "    </tr>\n",
              "    <tr>\n",
              "      <th>33456</th>\n",
              "      <td>2307371</td>\n",
              "    </tr>\n",
              "    <tr>\n",
              "      <th>33457</th>\n",
              "      <td>2458488</td>\n",
              "    </tr>\n",
              "    <tr>\n",
              "      <th>33458</th>\n",
              "      <td>2534301</td>\n",
              "    </tr>\n",
              "    <tr>\n",
              "      <th>33459</th>\n",
              "      <td>2900756</td>\n",
              "    </tr>\n",
              "    <tr>\n",
              "      <th>33460</th>\n",
              "      <td>2950922</td>\n",
              "    </tr>\n",
              "  </tbody>\n",
              "</table>\n",
              "<p>33461 rows × 1 columns</p>\n",
              "</div>"
            ],
            "text/plain": [
              "       order_id\n",
              "0         95613\n",
              "1        969347\n",
              "2          4516\n",
              "3       1930165\n",
              "4       1527966\n",
              "...         ...\n",
              "33456   2307371\n",
              "33457   2458488\n",
              "33458   2534301\n",
              "33459   2900756\n",
              "33460   2950922\n",
              "\n",
              "[33461 rows x 1 columns]"
            ]
          },
          "metadata": {
            "tags": []
          },
          "execution_count": 7
        }
      ]
    },
    {
      "cell_type": "code",
      "metadata": {
        "colab": {
          "base_uri": "https://localhost:8080/",
          "height": 416
        },
        "id": "TljF6U_f0nwg",
        "outputId": "95503d84-427b-480f-c5d3-c6343dbe862f"
      },
      "source": [
        "order_sample = pd.merge(order_id, order_products, on='order_id', how='inner')\n",
        "order_sample.pop('user_id')\n",
        "order_sample"
      ],
      "execution_count": null,
      "outputs": [
        {
          "output_type": "execute_result",
          "data": {
            "text/html": [
              "<div>\n",
              "<style scoped>\n",
              "    .dataframe tbody tr th:only-of-type {\n",
              "        vertical-align: middle;\n",
              "    }\n",
              "\n",
              "    .dataframe tbody tr th {\n",
              "        vertical-align: top;\n",
              "    }\n",
              "\n",
              "    .dataframe thead th {\n",
              "        text-align: right;\n",
              "    }\n",
              "</style>\n",
              "<table border=\"1\" class=\"dataframe\">\n",
              "  <thead>\n",
              "    <tr style=\"text-align: right;\">\n",
              "      <th></th>\n",
              "      <th>order_id</th>\n",
              "      <th>product_id</th>\n",
              "    </tr>\n",
              "  </thead>\n",
              "  <tbody>\n",
              "    <tr>\n",
              "      <th>0</th>\n",
              "      <td>95613</td>\n",
              "      <td>Sweet &amp; Salty Nut Granola Bars Peanut</td>\n",
              "    </tr>\n",
              "    <tr>\n",
              "      <th>1</th>\n",
              "      <td>95613</td>\n",
              "      <td>Sea Salt Brown Rice Crackers</td>\n",
              "    </tr>\n",
              "    <tr>\n",
              "      <th>2</th>\n",
              "      <td>95613</td>\n",
              "      <td>Pub Mix</td>\n",
              "    </tr>\n",
              "    <tr>\n",
              "      <th>3</th>\n",
              "      <td>95613</td>\n",
              "      <td>Original Beef Jerky</td>\n",
              "    </tr>\n",
              "    <tr>\n",
              "      <th>4</th>\n",
              "      <td>95613</td>\n",
              "      <td>Salt &amp; Pepper Pistachios</td>\n",
              "    </tr>\n",
              "    <tr>\n",
              "      <th>...</th>\n",
              "      <td>...</td>\n",
              "      <td>...</td>\n",
              "    </tr>\n",
              "    <tr>\n",
              "      <th>331819</th>\n",
              "      <td>2900756</td>\n",
              "      <td>Apple Honeycrisp Organic</td>\n",
              "    </tr>\n",
              "    <tr>\n",
              "      <th>331820</th>\n",
              "      <td>2900756</td>\n",
              "      <td>Unsalted Cultured Butter</td>\n",
              "    </tr>\n",
              "    <tr>\n",
              "      <th>331821</th>\n",
              "      <td>2900756</td>\n",
              "      <td>Organic Whole Milk</td>\n",
              "    </tr>\n",
              "    <tr>\n",
              "      <th>331822</th>\n",
              "      <td>2950922</td>\n",
              "      <td>Organic Low Fat Milk</td>\n",
              "    </tr>\n",
              "    <tr>\n",
              "      <th>331823</th>\n",
              "      <td>2950922</td>\n",
              "      <td>Natural Spring Water</td>\n",
              "    </tr>\n",
              "  </tbody>\n",
              "</table>\n",
              "<p>331824 rows × 2 columns</p>\n",
              "</div>"
            ],
            "text/plain": [
              "        order_id                             product_id\n",
              "0          95613  Sweet & Salty Nut Granola Bars Peanut\n",
              "1          95613           Sea Salt Brown Rice Crackers\n",
              "2          95613                                Pub Mix\n",
              "3          95613                    Original Beef Jerky\n",
              "4          95613               Salt & Pepper Pistachios\n",
              "...          ...                                    ...\n",
              "331819   2900756               Apple Honeycrisp Organic\n",
              "331820   2900756               Unsalted Cultured Butter\n",
              "331821   2900756                     Organic Whole Milk\n",
              "331822   2950922                   Organic Low Fat Milk\n",
              "331823   2950922                   Natural Spring Water\n",
              "\n",
              "[331824 rows x 2 columns]"
            ]
          },
          "metadata": {
            "tags": []
          },
          "execution_count": 8
        }
      ]
    },
    {
      "cell_type": "code",
      "metadata": {
        "colab": {
          "base_uri": "https://localhost:8080/",
          "height": 416
        },
        "id": "LR40_BDR6YeB",
        "outputId": "bbbc4478-ad87-4543-9143-bde16dde257d"
      },
      "source": [
        "sortdf(order_sample, ['order_id'])"
      ],
      "execution_count": null,
      "outputs": [
        {
          "output_type": "execute_result",
          "data": {
            "text/html": [
              "<div>\n",
              "<style scoped>\n",
              "    .dataframe tbody tr th:only-of-type {\n",
              "        vertical-align: middle;\n",
              "    }\n",
              "\n",
              "    .dataframe tbody tr th {\n",
              "        vertical-align: top;\n",
              "    }\n",
              "\n",
              "    .dataframe thead th {\n",
              "        text-align: right;\n",
              "    }\n",
              "</style>\n",
              "<table border=\"1\" class=\"dataframe\">\n",
              "  <thead>\n",
              "    <tr style=\"text-align: right;\">\n",
              "      <th></th>\n",
              "      <th>order_id</th>\n",
              "      <th>product_id</th>\n",
              "    </tr>\n",
              "  </thead>\n",
              "  <tbody>\n",
              "    <tr>\n",
              "      <th>0</th>\n",
              "      <td>289</td>\n",
              "      <td>Organic Sour Cream</td>\n",
              "    </tr>\n",
              "    <tr>\n",
              "      <th>1</th>\n",
              "      <td>289</td>\n",
              "      <td>Organic Gala Apples</td>\n",
              "    </tr>\n",
              "    <tr>\n",
              "      <th>2</th>\n",
              "      <td>289</td>\n",
              "      <td>Hass Avocados</td>\n",
              "    </tr>\n",
              "    <tr>\n",
              "      <th>3</th>\n",
              "      <td>289</td>\n",
              "      <td>Organic Raspberry Fruit Spread</td>\n",
              "    </tr>\n",
              "    <tr>\n",
              "      <th>4</th>\n",
              "      <td>289</td>\n",
              "      <td>Organic Red Cabbage</td>\n",
              "    </tr>\n",
              "    <tr>\n",
              "      <th>...</th>\n",
              "      <td>...</td>\n",
              "      <td>...</td>\n",
              "    </tr>\n",
              "    <tr>\n",
              "      <th>331819</th>\n",
              "      <td>3346047</td>\n",
              "      <td>Grape White/Green Seedless</td>\n",
              "    </tr>\n",
              "    <tr>\n",
              "      <th>331820</th>\n",
              "      <td>3346047</td>\n",
              "      <td>Plantain Chips</td>\n",
              "    </tr>\n",
              "    <tr>\n",
              "      <th>331821</th>\n",
              "      <td>3346047</td>\n",
              "      <td>Honey Oat Crunch Trail Mix Crunchy Granola Bars</td>\n",
              "    </tr>\n",
              "    <tr>\n",
              "      <th>331822</th>\n",
              "      <td>3346047</td>\n",
              "      <td>Firm Tofu</td>\n",
              "    </tr>\n",
              "    <tr>\n",
              "      <th>331823</th>\n",
              "      <td>3346047</td>\n",
              "      <td>Organic Hass Avocado</td>\n",
              "    </tr>\n",
              "  </tbody>\n",
              "</table>\n",
              "<p>331824 rows × 2 columns</p>\n",
              "</div>"
            ],
            "text/plain": [
              "        order_id                                       product_id\n",
              "0            289                               Organic Sour Cream\n",
              "1            289                              Organic Gala Apples\n",
              "2            289                                    Hass Avocados\n",
              "3            289                   Organic Raspberry Fruit Spread\n",
              "4            289                              Organic Red Cabbage\n",
              "...          ...                                              ...\n",
              "331819   3346047                       Grape White/Green Seedless\n",
              "331820   3346047                                   Plantain Chips\n",
              "331821   3346047  Honey Oat Crunch Trail Mix Crunchy Granola Bars\n",
              "331822   3346047                                        Firm Tofu\n",
              "331823   3346047                             Organic Hass Avocado\n",
              "\n",
              "[331824 rows x 2 columns]"
            ]
          },
          "metadata": {
            "tags": []
          },
          "execution_count": 12
        }
      ]
    },
    {
      "cell_type": "code",
      "metadata": {
        "id": "TMkNoW7JlsWG",
        "colab": {
          "base_uri": "https://localhost:8080/",
          "height": 433
        },
        "outputId": "63f331bd-d8b5-488c-c379-2fa51dacbbbe"
      },
      "source": [
        "df2 = pd.DataFrame(columns=['order', 'products'])\n",
        "values = order_sample['order_id'].value_counts().index.sort_values()\n",
        "\n",
        "for i, v in enumerate(tqdm(values)):\n",
        "    df2.loc[i] = (v, '&&'.join(order_sample[order_sample['order_id'] == v]['product_id']))\n",
        "df2"
      ],
      "execution_count": null,
      "outputs": [
        {
          "output_type": "stream",
          "text": [
            "100%|██████████| 32752/32752 [05:17<00:00, 103.03it/s]\n"
          ],
          "name": "stderr"
        },
        {
          "output_type": "execute_result",
          "data": {
            "text/html": [
              "<div>\n",
              "<style scoped>\n",
              "    .dataframe tbody tr th:only-of-type {\n",
              "        vertical-align: middle;\n",
              "    }\n",
              "\n",
              "    .dataframe tbody tr th {\n",
              "        vertical-align: top;\n",
              "    }\n",
              "\n",
              "    .dataframe thead th {\n",
              "        text-align: right;\n",
              "    }\n",
              "</style>\n",
              "<table border=\"1\" class=\"dataframe\">\n",
              "  <thead>\n",
              "    <tr style=\"text-align: right;\">\n",
              "      <th></th>\n",
              "      <th>order</th>\n",
              "      <th>products</th>\n",
              "    </tr>\n",
              "  </thead>\n",
              "  <tbody>\n",
              "    <tr>\n",
              "      <th>0</th>\n",
              "      <td>289</td>\n",
              "      <td>All Natural Roasted Garlic Hummus&amp;&amp;Organic Cot...</td>\n",
              "    </tr>\n",
              "    <tr>\n",
              "      <th>1</th>\n",
              "      <td>378</td>\n",
              "      <td>Skim Milk&amp;&amp;Whole Vitamin D Milk</td>\n",
              "    </tr>\n",
              "    <tr>\n",
              "      <th>2</th>\n",
              "      <td>442</td>\n",
              "      <td>Total 2% Lowfat Plain Greek Yogurt&amp;&amp;Pitted Kal...</td>\n",
              "    </tr>\n",
              "    <tr>\n",
              "      <th>3</th>\n",
              "      <td>562</td>\n",
              "      <td>Crackers Cheddar Bunnies Snack Packs&amp;&amp;Organic ...</td>\n",
              "    </tr>\n",
              "    <tr>\n",
              "      <th>4</th>\n",
              "      <td>749</td>\n",
              "      <td>Organic Mushroom Base&amp;&amp;Chanterelle Mushrooms&amp;&amp;...</td>\n",
              "    </tr>\n",
              "    <tr>\n",
              "      <th>...</th>\n",
              "      <td>...</td>\n",
              "      <td>...</td>\n",
              "    </tr>\n",
              "    <tr>\n",
              "      <th>32747</th>\n",
              "      <td>3345838</td>\n",
              "      <td>Pomegranate on the Bottom Non-Fat Greek Yogurt...</td>\n",
              "    </tr>\n",
              "    <tr>\n",
              "      <th>32748</th>\n",
              "      <td>3345950</td>\n",
              "      <td>Veri Veri Teriyaki Marinade &amp; Sauce&amp;&amp;Mild Ched...</td>\n",
              "    </tr>\n",
              "    <tr>\n",
              "      <th>32749</th>\n",
              "      <td>3345963</td>\n",
              "      <td>Unsweetened Organic Soy Milk&amp;&amp;Light Sour Cream...</td>\n",
              "    </tr>\n",
              "    <tr>\n",
              "      <th>32750</th>\n",
              "      <td>3346014</td>\n",
              "      <td>Half &amp; Half&amp;&amp;Coke Zero&amp;&amp;Chicken Flavor Ramen N...</td>\n",
              "    </tr>\n",
              "    <tr>\n",
              "      <th>32751</th>\n",
              "      <td>3346047</td>\n",
              "      <td>100% Pineapple Juice&amp;&amp;Honey Oat Crunch Trail M...</td>\n",
              "    </tr>\n",
              "  </tbody>\n",
              "</table>\n",
              "<p>32752 rows × 2 columns</p>\n",
              "</div>"
            ],
            "text/plain": [
              "         order                                           products\n",
              "0          289  All Natural Roasted Garlic Hummus&&Organic Cot...\n",
              "1          378                    Skim Milk&&Whole Vitamin D Milk\n",
              "2          442  Total 2% Lowfat Plain Greek Yogurt&&Pitted Kal...\n",
              "3          562  Crackers Cheddar Bunnies Snack Packs&&Organic ...\n",
              "4          749  Organic Mushroom Base&&Chanterelle Mushrooms&&...\n",
              "...        ...                                                ...\n",
              "32747  3345838  Pomegranate on the Bottom Non-Fat Greek Yogurt...\n",
              "32748  3345950  Veri Veri Teriyaki Marinade & Sauce&&Mild Ched...\n",
              "32749  3345963  Unsweetened Organic Soy Milk&&Light Sour Cream...\n",
              "32750  3346014  Half & Half&&Coke Zero&&Chicken Flavor Ramen N...\n",
              "32751  3346047  100% Pineapple Juice&&Honey Oat Crunch Trail M...\n",
              "\n",
              "[32752 rows x 2 columns]"
            ]
          },
          "metadata": {
            "tags": []
          },
          "execution_count": 9
        }
      ]
    },
    {
      "cell_type": "code",
      "metadata": {
        "id": "WCvIZl63DwL_"
      },
      "source": [
        "df2.to_pickle(path + 'InstacartOrders_sample.pkl')"
      ],
      "execution_count": null,
      "outputs": []
    },
    {
      "cell_type": "code",
      "metadata": {
        "colab": {
          "base_uri": "https://localhost:8080/",
          "height": 416
        },
        "id": "3YUSLaZMyZS4",
        "outputId": "648d0f96-5d83-4b60-a26b-50431d5e61d5"
      },
      "source": [
        "df2 = pd.read_pickle(path + 'InstacartOrders_sample.pkl')\n",
        "df2"
      ],
      "execution_count": null,
      "outputs": [
        {
          "output_type": "execute_result",
          "data": {
            "text/html": [
              "<div>\n",
              "<style scoped>\n",
              "    .dataframe tbody tr th:only-of-type {\n",
              "        vertical-align: middle;\n",
              "    }\n",
              "\n",
              "    .dataframe tbody tr th {\n",
              "        vertical-align: top;\n",
              "    }\n",
              "\n",
              "    .dataframe thead th {\n",
              "        text-align: right;\n",
              "    }\n",
              "</style>\n",
              "<table border=\"1\" class=\"dataframe\">\n",
              "  <thead>\n",
              "    <tr style=\"text-align: right;\">\n",
              "      <th></th>\n",
              "      <th>order</th>\n",
              "      <th>products</th>\n",
              "    </tr>\n",
              "  </thead>\n",
              "  <tbody>\n",
              "    <tr>\n",
              "      <th>0</th>\n",
              "      <td>289</td>\n",
              "      <td>All Natural Roasted Garlic Hummus&amp;&amp;Organic Cot...</td>\n",
              "    </tr>\n",
              "    <tr>\n",
              "      <th>1</th>\n",
              "      <td>378</td>\n",
              "      <td>Skim Milk&amp;&amp;Whole Vitamin D Milk</td>\n",
              "    </tr>\n",
              "    <tr>\n",
              "      <th>2</th>\n",
              "      <td>442</td>\n",
              "      <td>Total 2% Lowfat Plain Greek Yogurt&amp;&amp;Pitted Kal...</td>\n",
              "    </tr>\n",
              "    <tr>\n",
              "      <th>3</th>\n",
              "      <td>562</td>\n",
              "      <td>Crackers Cheddar Bunnies Snack Packs&amp;&amp;Organic ...</td>\n",
              "    </tr>\n",
              "    <tr>\n",
              "      <th>4</th>\n",
              "      <td>749</td>\n",
              "      <td>Organic Mushroom Base&amp;&amp;Chanterelle Mushrooms&amp;&amp;...</td>\n",
              "    </tr>\n",
              "    <tr>\n",
              "      <th>...</th>\n",
              "      <td>...</td>\n",
              "      <td>...</td>\n",
              "    </tr>\n",
              "    <tr>\n",
              "      <th>32747</th>\n",
              "      <td>3345838</td>\n",
              "      <td>Pomegranate on the Bottom Non-Fat Greek Yogurt...</td>\n",
              "    </tr>\n",
              "    <tr>\n",
              "      <th>32748</th>\n",
              "      <td>3345950</td>\n",
              "      <td>Veri Veri Teriyaki Marinade &amp; Sauce&amp;&amp;Mild Ched...</td>\n",
              "    </tr>\n",
              "    <tr>\n",
              "      <th>32749</th>\n",
              "      <td>3345963</td>\n",
              "      <td>Unsweetened Organic Soy Milk&amp;&amp;Light Sour Cream...</td>\n",
              "    </tr>\n",
              "    <tr>\n",
              "      <th>32750</th>\n",
              "      <td>3346014</td>\n",
              "      <td>Half &amp; Half&amp;&amp;Coke Zero&amp;&amp;Chicken Flavor Ramen N...</td>\n",
              "    </tr>\n",
              "    <tr>\n",
              "      <th>32751</th>\n",
              "      <td>3346047</td>\n",
              "      <td>100% Pineapple Juice&amp;&amp;Honey Oat Crunch Trail M...</td>\n",
              "    </tr>\n",
              "  </tbody>\n",
              "</table>\n",
              "<p>32752 rows × 2 columns</p>\n",
              "</div>"
            ],
            "text/plain": [
              "         order                                           products\n",
              "0          289  All Natural Roasted Garlic Hummus&&Organic Cot...\n",
              "1          378                    Skim Milk&&Whole Vitamin D Milk\n",
              "2          442  Total 2% Lowfat Plain Greek Yogurt&&Pitted Kal...\n",
              "3          562  Crackers Cheddar Bunnies Snack Packs&&Organic ...\n",
              "4          749  Organic Mushroom Base&&Chanterelle Mushrooms&&...\n",
              "...        ...                                                ...\n",
              "32747  3345838  Pomegranate on the Bottom Non-Fat Greek Yogurt...\n",
              "32748  3345950  Veri Veri Teriyaki Marinade & Sauce&&Mild Ched...\n",
              "32749  3345963  Unsweetened Organic Soy Milk&&Light Sour Cream...\n",
              "32750  3346014  Half & Half&&Coke Zero&&Chicken Flavor Ramen N...\n",
              "32751  3346047  100% Pineapple Juice&&Honey Oat Crunch Trail M...\n",
              "\n",
              "[32752 rows x 2 columns]"
            ]
          },
          "metadata": {
            "tags": []
          },
          "execution_count": 11
        }
      ]
    },
    {
      "cell_type": "code",
      "metadata": {
        "colab": {
          "base_uri": "https://localhost:8080/"
        },
        "id": "QuSsChf6aRVQ",
        "outputId": "fbb30561-d65c-4389-c44c-6d723cee5db9"
      },
      "source": [
        "ds = df2.copy()\n",
        "ds1 = ds['products'].str.split('&&')\n",
        "# print(ds1[0][-1])\n",
        "# print(ds1[0][-2])\n",
        "ds1"
      ],
      "execution_count": null,
      "outputs": [
        {
          "output_type": "execute_result",
          "data": {
            "text/plain": [
              "0        [All Natural Roasted Garlic Hummus, Organic Co...\n",
              "1                        [Skim Milk, Whole Vitamin D Milk]\n",
              "2        [Total 2% Lowfat Plain Greek Yogurt, Pitted Ka...\n",
              "3        [Crackers Cheddar Bunnies Snack Packs, Organic...\n",
              "4        [Organic Mushroom Base, Chanterelle Mushrooms,...\n",
              "                               ...                        \n",
              "32747    [Pomegranate on the Bottom Non-Fat Greek Yogur...\n",
              "32748    [Veri Veri Teriyaki Marinade & Sauce, Mild Che...\n",
              "32749    [Unsweetened Organic Soy Milk, Light Sour Crea...\n",
              "32750    [Half & Half, Coke Zero, Chicken Flavor Ramen ...\n",
              "32751    [100% Pineapple Juice, Honey Oat Crunch Trail ...\n",
              "Name: products, Length: 32752, dtype: object"
            ]
          },
          "metadata": {
            "tags": []
          },
          "execution_count": 33
        }
      ]
    },
    {
      "cell_type": "code",
      "metadata": {
        "id": "g-VhuSoQan0G"
      },
      "source": [
        "# # test = []\n",
        "# for i in range(len(ds1)):\n",
        "#     l = ds1[i][-1]\n",
        "#     ds1[i].pop()\n",
        "#     # test.append(l)\n",
        "\n",
        "# display(ds1.head())\n",
        "# # print(test[:5])\n",
        "# ds1[0][-1]"
      ],
      "execution_count": null,
      "outputs": []
    },
    {
      "cell_type": "code",
      "metadata": {
        "colab": {
          "base_uri": "https://localhost:8080/"
        },
        "id": "wabqY19AavCi",
        "outputId": "afec436c-db18-44bb-da84-b215141ff92e"
      },
      "source": [
        "# ds1 = ds1.apply(lambda x: '&&'.join(map(str, x)))\n",
        "# ds1.head()\n",
        "# # ds1 = ds1.astype(str).str.replace('\\[|\\]|\\'', '')\n",
        "# # ds1 = pd.DataFrame(ds1)\n",
        "# # ds1.head()"
      ],
      "execution_count": null,
      "outputs": [
        {
          "output_type": "execute_result",
          "data": {
            "text/plain": [
              "0    All Natural Roasted Garlic Hummus&&Organic Cot...\n",
              "1                      Skim Milk&&Whole Vitamin D Milk\n",
              "2    Total 2% Lowfat Plain Greek Yogurt&&Pitted Kal...\n",
              "3    Crackers Cheddar Bunnies Snack Packs&&Organic ...\n",
              "4    Organic Mushroom Base&&Chanterelle Mushrooms&&...\n",
              "Name: products, dtype: object"
            ]
          },
          "metadata": {
            "tags": []
          },
          "execution_count": 27
        }
      ]
    },
    {
      "cell_type": "code",
      "metadata": {
        "id": "UPMVQk8Sid5w"
      },
      "source": [
        "sequence_length = 5\n",
        "step_size = 2\n",
        "\n",
        "# [4, 4, 5, 5, 6, 6]이라면, 아래 함수를 통해\n",
        "# [[4, 4, 5, 5], [5, 5, 6, 6]]으로 다시 만들어집니다.\n",
        "def create_sequences(values, window_size, step_size):\n",
        "    sequences = []\n",
        "    start_index = 0\n",
        "    while True:\n",
        "        end_index = start_index + window_size\n",
        "        seq = values[start_index:end_index]\n",
        "        # 뒤에 남은 데이터가 window_size보다 작으면 중지합니다.\n",
        "        if len(seq) < window_size:\n",
        "            seq = values[-window_size:]\n",
        "            # window_size와 같으면 list에 붙여줍니다.\n",
        "            if len(seq) == window_size:\n",
        "                sequences.append(seq)\n",
        "            break\n",
        "        sequences.append(seq)\n",
        "        start_index += step_size\n",
        "    return sequences\n",
        "\n",
        "\n",
        "# ratings_data.movie_ids = ratings_data.movie_ids.apply(\n",
        "#     lambda ids: create_sequences(ids, sequence_length, step_size)\n",
        "# )\n",
        "\n",
        "# ratings_data.ratings = ratings_data.ratings.apply(\n",
        "#     lambda ids: create_sequences(ids, sequence_length, step_size)\n",
        "# )\n",
        "\n",
        "# del ratings_data[\"timestamps\"]"
      ],
      "execution_count": null,
      "outputs": []
    },
    {
      "cell_type": "code",
      "metadata": {
        "id": "fLsKL0oOidxk",
        "colab": {
          "base_uri": "https://localhost:8080/"
        },
        "outputId": "ff886fa5-92d5-4e3d-e311-3c917b9e1d5d"
      },
      "source": [
        "df_series1 = []\n",
        "\n",
        "for i, v in enumerate(tqdm(ds1)):\n",
        "    df_series1.append(create_sequences(v, sequence_length, step_size))\n",
        "df_series1[:2]"
      ],
      "execution_count": null,
      "outputs": [
        {
          "output_type": "stream",
          "text": [
            "\n",
            "  0%|          | 0/32752 [00:00<?, ?it/s]\u001b[A\n",
            "100%|██████████| 32752/32752 [00:01<00:00, 23899.68it/s]\n"
          ],
          "name": "stderr"
        },
        {
          "output_type": "execute_result",
          "data": {
            "text/plain": [
              "[[['All Natural Roasted Garlic Hummus',\n",
              "   'Organic Cottage Cheese',\n",
              "   'Probugs Strawnana Split Frozen Ypgurt',\n",
              "   'Organic Red Bell Pepper',\n",
              "   'Veggie Burger, Quarter Pound'],\n",
              "  ['Probugs Strawnana Split Frozen Ypgurt',\n",
              "   'Organic Red Bell Pepper',\n",
              "   'Veggie Burger, Quarter Pound',\n",
              "   'Spinach Peas & Pear Stage 2 Baby Food',\n",
              "   'Country Dijon Mustard'],\n",
              "  ['Veggie Burger, Quarter Pound',\n",
              "   'Spinach Peas & Pear Stage 2 Baby Food',\n",
              "   'Country Dijon Mustard',\n",
              "   'Coconut Yogurt',\n",
              "   'Wild Sweet Orange Herbal Tea'],\n",
              "  ['Country Dijon Mustard',\n",
              "   'Coconut Yogurt',\n",
              "   'Wild Sweet Orange Herbal Tea',\n",
              "   'Refresh Herbal Tea',\n",
              "   'Organic Red Cabbage'],\n",
              "  ['Wild Sweet Orange Herbal Tea',\n",
              "   'Refresh Herbal Tea',\n",
              "   'Organic Red Cabbage',\n",
              "   'Organic Raspberry Fruit Spread',\n",
              "   'Hass Avocados'],\n",
              "  ['Organic Red Cabbage',\n",
              "   'Organic Raspberry Fruit Spread',\n",
              "   'Hass Avocados',\n",
              "   'Organic Sour Cream',\n",
              "   'Organic Gala Apples'],\n",
              "  ['Hass Avocados',\n",
              "   'Organic Sour Cream',\n",
              "   'Organic Gala Apples',\n",
              "   'Cream Top Smooth & Creamy Plain Yogurt',\n",
              "   'Mediterranee Strawberry Yogurt'],\n",
              "  ['Organic Gala Apples',\n",
              "   'Cream Top Smooth & Creamy Plain Yogurt',\n",
              "   'Mediterranee Strawberry Yogurt',\n",
              "   'Earl Grey Tea',\n",
              "   'First Prunes'],\n",
              "  ['Organic Gala Apples',\n",
              "   'Cream Top Smooth & Creamy Plain Yogurt',\n",
              "   'Mediterranee Strawberry Yogurt',\n",
              "   'Earl Grey Tea',\n",
              "   'First Prunes']],\n",
              " []]"
            ]
          },
          "metadata": {
            "tags": []
          },
          "execution_count": 36
        }
      ]
    },
    {
      "cell_type": "code",
      "metadata": {
        "id": "C6xzMc6x0cjI",
        "colab": {
          "base_uri": "https://localhost:8080/"
        },
        "outputId": "9351d077-0e75-4370-e6ca-c06bcb3dfd8f"
      },
      "source": [
        "df_list = []\n",
        "for v in tqdm(df_series1):\n",
        "    for value in v:\n",
        "        df_list.append(value)\n",
        "df_list[:2]"
      ],
      "execution_count": null,
      "outputs": [
        {
          "output_type": "stream",
          "text": [
            "\n",
            "100%|██████████| 32752/32752 [00:00<00:00, 731012.37it/s]\n"
          ],
          "name": "stderr"
        },
        {
          "output_type": "execute_result",
          "data": {
            "text/plain": [
              "[['All Natural Roasted Garlic Hummus',\n",
              "  'Organic Cottage Cheese',\n",
              "  'Probugs Strawnana Split Frozen Ypgurt',\n",
              "  'Organic Red Bell Pepper',\n",
              "  'Veggie Burger, Quarter Pound'],\n",
              " ['Probugs Strawnana Split Frozen Ypgurt',\n",
              "  'Organic Red Bell Pepper',\n",
              "  'Veggie Burger, Quarter Pound',\n",
              "  'Spinach Peas & Pear Stage 2 Baby Food',\n",
              "  'Country Dijon Mustard']]"
            ]
          },
          "metadata": {
            "tags": []
          },
          "execution_count": 37
        }
      ]
    },
    {
      "cell_type": "code",
      "metadata": {
        "id": "GNoqx3HvyLAK"
      },
      "source": [
        "label_list = []\n",
        "\n",
        "for i in range(len(df_list)):\n",
        "    l = df_list[i][-1]\n",
        "    df_list[i].pop()\n",
        "    label_list.append(l)"
      ],
      "execution_count": null,
      "outputs": []
    },
    {
      "cell_type": "code",
      "metadata": {
        "id": "iU9kuMcL3iJ0",
        "colab": {
          "base_uri": "https://localhost:8080/"
        },
        "outputId": "1c103cb8-9b5c-440c-9494-eae49e42d2e2"
      },
      "source": [
        "df_list[:2]"
      ],
      "execution_count": null,
      "outputs": [
        {
          "output_type": "execute_result",
          "data": {
            "text/plain": [
              "[['All Natural Roasted Garlic Hummus',\n",
              "  'Organic Cottage Cheese',\n",
              "  'Probugs Strawnana Split Frozen Ypgurt',\n",
              "  'Organic Red Bell Pepper'],\n",
              " ['Probugs Strawnana Split Frozen Ypgurt',\n",
              "  'Organic Red Bell Pepper',\n",
              "  'Veggie Burger, Quarter Pound',\n",
              "  'Spinach Peas & Pear Stage 2 Baby Food']]"
            ]
          },
          "metadata": {
            "tags": []
          },
          "execution_count": 39
        }
      ]
    },
    {
      "cell_type": "code",
      "metadata": {
        "id": "KOmcenzx3h5i",
        "colab": {
          "base_uri": "https://localhost:8080/"
        },
        "outputId": "aab6dc56-aac6-453d-8530-1ba2ca028595"
      },
      "source": [
        "label_list[:2]"
      ],
      "execution_count": null,
      "outputs": [
        {
          "output_type": "execute_result",
          "data": {
            "text/plain": [
              "['Veggie Burger, Quarter Pound', 'Country Dijon Mustard']"
            ]
          },
          "metadata": {
            "tags": []
          },
          "execution_count": 40
        }
      ]
    },
    {
      "cell_type": "code",
      "metadata": {
        "id": "l556IhlQyLQV",
        "colab": {
          "base_uri": "https://localhost:8080/",
          "height": 416
        },
        "outputId": "394b9622-e232-456b-a7fb-2fd23ede709a"
      },
      "source": [
        "df_new = pd.DataFrame(columns=['Detail', 'label'])\n",
        "df_new['Detail'] = df_list\n",
        "df_new['label'] = label_list\n",
        "df_new"
      ],
      "execution_count": null,
      "outputs": [
        {
          "output_type": "execute_result",
          "data": {
            "text/html": [
              "<div>\n",
              "<style scoped>\n",
              "    .dataframe tbody tr th:only-of-type {\n",
              "        vertical-align: middle;\n",
              "    }\n",
              "\n",
              "    .dataframe tbody tr th {\n",
              "        vertical-align: top;\n",
              "    }\n",
              "\n",
              "    .dataframe thead th {\n",
              "        text-align: right;\n",
              "    }\n",
              "</style>\n",
              "<table border=\"1\" class=\"dataframe\">\n",
              "  <thead>\n",
              "    <tr style=\"text-align: right;\">\n",
              "      <th></th>\n",
              "      <th>Detail</th>\n",
              "      <th>label</th>\n",
              "    </tr>\n",
              "  </thead>\n",
              "  <tbody>\n",
              "    <tr>\n",
              "      <th>0</th>\n",
              "      <td>[All Natural Roasted Garlic Hummus, Organic Co...</td>\n",
              "      <td>Veggie Burger, Quarter Pound</td>\n",
              "    </tr>\n",
              "    <tr>\n",
              "      <th>1</th>\n",
              "      <td>[Probugs Strawnana Split Frozen Ypgurt, Organi...</td>\n",
              "      <td>Country Dijon Mustard</td>\n",
              "    </tr>\n",
              "    <tr>\n",
              "      <th>2</th>\n",
              "      <td>[Veggie Burger, Quarter Pound, Spinach Peas &amp; ...</td>\n",
              "      <td>Wild Sweet Orange Herbal Tea</td>\n",
              "    </tr>\n",
              "    <tr>\n",
              "      <th>3</th>\n",
              "      <td>[Country Dijon Mustard, Coconut Yogurt, Wild S...</td>\n",
              "      <td>Organic Red Cabbage</td>\n",
              "    </tr>\n",
              "    <tr>\n",
              "      <th>4</th>\n",
              "      <td>[Wild Sweet Orange Herbal Tea, Refresh Herbal ...</td>\n",
              "      <td>Hass Avocados</td>\n",
              "    </tr>\n",
              "    <tr>\n",
              "      <th>...</th>\n",
              "      <td>...</td>\n",
              "      <td>...</td>\n",
              "    </tr>\n",
              "    <tr>\n",
              "      <th>137172</th>\n",
              "      <td>[Mixed Fruit Snacks, Tahitian Renewal  Body Wa...</td>\n",
              "      <td>Blueberries</td>\n",
              "    </tr>\n",
              "    <tr>\n",
              "      <th>137173</th>\n",
              "      <td>[100% Pineapple Juice, Honey Oat Crunch Trail ...</td>\n",
              "      <td>Golden Fishless Filet</td>\n",
              "    </tr>\n",
              "    <tr>\n",
              "      <th>137174</th>\n",
              "      <td>[Plantain Chips, Grape White/Green Seedless, G...</td>\n",
              "      <td>Firm Tofu</td>\n",
              "    </tr>\n",
              "    <tr>\n",
              "      <th>137175</th>\n",
              "      <td>[Golden Fishless Filet, Original No Pulp 100% ...</td>\n",
              "      <td>Organic Hass Avocado</td>\n",
              "    </tr>\n",
              "    <tr>\n",
              "      <th>137176</th>\n",
              "      <td>[Golden Fishless Filet, Original No Pulp 100% ...</td>\n",
              "      <td>Organic Hass Avocado</td>\n",
              "    </tr>\n",
              "  </tbody>\n",
              "</table>\n",
              "<p>137177 rows × 2 columns</p>\n",
              "</div>"
            ],
            "text/plain": [
              "                                                   Detail                         label\n",
              "0       [All Natural Roasted Garlic Hummus, Organic Co...  Veggie Burger, Quarter Pound\n",
              "1       [Probugs Strawnana Split Frozen Ypgurt, Organi...         Country Dijon Mustard\n",
              "2       [Veggie Burger, Quarter Pound, Spinach Peas & ...  Wild Sweet Orange Herbal Tea\n",
              "3       [Country Dijon Mustard, Coconut Yogurt, Wild S...           Organic Red Cabbage\n",
              "4       [Wild Sweet Orange Herbal Tea, Refresh Herbal ...                 Hass Avocados\n",
              "...                                                   ...                           ...\n",
              "137172  [Mixed Fruit Snacks, Tahitian Renewal  Body Wa...                   Blueberries\n",
              "137173  [100% Pineapple Juice, Honey Oat Crunch Trail ...         Golden Fishless Filet\n",
              "137174  [Plantain Chips, Grape White/Green Seedless, G...                     Firm Tofu\n",
              "137175  [Golden Fishless Filet, Original No Pulp 100% ...          Organic Hass Avocado\n",
              "137176  [Golden Fishless Filet, Original No Pulp 100% ...          Organic Hass Avocado\n",
              "\n",
              "[137177 rows x 2 columns]"
            ]
          },
          "metadata": {
            "tags": []
          },
          "execution_count": 41
        }
      ]
    },
    {
      "cell_type": "code",
      "metadata": {
        "id": "hgSE2n133f5o"
      },
      "source": [
        "# m = 4\n",
        "# for v in df_list:\n",
        "#     a = len(v)\n",
        "#     if a < m:\n",
        "#         m = a\n",
        "# m"
      ],
      "execution_count": null,
      "outputs": []
    },
    {
      "cell_type": "code",
      "metadata": {
        "id": "DfBLstEZyLM9",
        "colab": {
          "base_uri": "https://localhost:8080/",
          "height": 416
        },
        "outputId": "e0434dae-d16a-415c-bab7-61cf27b8884a"
      },
      "source": [
        "df_new['Detail'] = df_new['Detail'].apply(lambda x: '&&'.join(map(str, x)))\n",
        "df_new"
      ],
      "execution_count": null,
      "outputs": [
        {
          "output_type": "execute_result",
          "data": {
            "text/html": [
              "<div>\n",
              "<style scoped>\n",
              "    .dataframe tbody tr th:only-of-type {\n",
              "        vertical-align: middle;\n",
              "    }\n",
              "\n",
              "    .dataframe tbody tr th {\n",
              "        vertical-align: top;\n",
              "    }\n",
              "\n",
              "    .dataframe thead th {\n",
              "        text-align: right;\n",
              "    }\n",
              "</style>\n",
              "<table border=\"1\" class=\"dataframe\">\n",
              "  <thead>\n",
              "    <tr style=\"text-align: right;\">\n",
              "      <th></th>\n",
              "      <th>Detail</th>\n",
              "      <th>label</th>\n",
              "    </tr>\n",
              "  </thead>\n",
              "  <tbody>\n",
              "    <tr>\n",
              "      <th>0</th>\n",
              "      <td>All Natural Roasted Garlic Hummus&amp;&amp;Organic Cot...</td>\n",
              "      <td>Veggie Burger, Quarter Pound</td>\n",
              "    </tr>\n",
              "    <tr>\n",
              "      <th>1</th>\n",
              "      <td>Probugs Strawnana Split Frozen Ypgurt&amp;&amp;Organic...</td>\n",
              "      <td>Country Dijon Mustard</td>\n",
              "    </tr>\n",
              "    <tr>\n",
              "      <th>2</th>\n",
              "      <td>Veggie Burger, Quarter Pound&amp;&amp;Spinach Peas &amp; P...</td>\n",
              "      <td>Wild Sweet Orange Herbal Tea</td>\n",
              "    </tr>\n",
              "    <tr>\n",
              "      <th>3</th>\n",
              "      <td>Country Dijon Mustard&amp;&amp;Coconut Yogurt&amp;&amp;Wild Sw...</td>\n",
              "      <td>Organic Red Cabbage</td>\n",
              "    </tr>\n",
              "    <tr>\n",
              "      <th>4</th>\n",
              "      <td>Wild Sweet Orange Herbal Tea&amp;&amp;Refresh Herbal T...</td>\n",
              "      <td>Hass Avocados</td>\n",
              "    </tr>\n",
              "    <tr>\n",
              "      <th>...</th>\n",
              "      <td>...</td>\n",
              "      <td>...</td>\n",
              "    </tr>\n",
              "    <tr>\n",
              "      <th>137172</th>\n",
              "      <td>Mixed Fruit Snacks&amp;&amp;Tahitian Renewal  Body Was...</td>\n",
              "      <td>Blueberries</td>\n",
              "    </tr>\n",
              "    <tr>\n",
              "      <th>137173</th>\n",
              "      <td>100% Pineapple Juice&amp;&amp;Honey Oat Crunch Trail M...</td>\n",
              "      <td>Golden Fishless Filet</td>\n",
              "    </tr>\n",
              "    <tr>\n",
              "      <th>137174</th>\n",
              "      <td>Plantain Chips&amp;&amp;Grape White/Green Seedless&amp;&amp;Go...</td>\n",
              "      <td>Firm Tofu</td>\n",
              "    </tr>\n",
              "    <tr>\n",
              "      <th>137175</th>\n",
              "      <td>Golden Fishless Filet&amp;&amp;Original No Pulp 100% F...</td>\n",
              "      <td>Organic Hass Avocado</td>\n",
              "    </tr>\n",
              "    <tr>\n",
              "      <th>137176</th>\n",
              "      <td>Golden Fishless Filet&amp;&amp;Original No Pulp 100% F...</td>\n",
              "      <td>Organic Hass Avocado</td>\n",
              "    </tr>\n",
              "  </tbody>\n",
              "</table>\n",
              "<p>137177 rows × 2 columns</p>\n",
              "</div>"
            ],
            "text/plain": [
              "                                                   Detail                         label\n",
              "0       All Natural Roasted Garlic Hummus&&Organic Cot...  Veggie Burger, Quarter Pound\n",
              "1       Probugs Strawnana Split Frozen Ypgurt&&Organic...         Country Dijon Mustard\n",
              "2       Veggie Burger, Quarter Pound&&Spinach Peas & P...  Wild Sweet Orange Herbal Tea\n",
              "3       Country Dijon Mustard&&Coconut Yogurt&&Wild Sw...           Organic Red Cabbage\n",
              "4       Wild Sweet Orange Herbal Tea&&Refresh Herbal T...                 Hass Avocados\n",
              "...                                                   ...                           ...\n",
              "137172  Mixed Fruit Snacks&&Tahitian Renewal  Body Was...                   Blueberries\n",
              "137173  100% Pineapple Juice&&Honey Oat Crunch Trail M...         Golden Fishless Filet\n",
              "137174  Plantain Chips&&Grape White/Green Seedless&&Go...                     Firm Tofu\n",
              "137175  Golden Fishless Filet&&Original No Pulp 100% F...          Organic Hass Avocado\n",
              "137176  Golden Fishless Filet&&Original No Pulp 100% F...          Organic Hass Avocado\n",
              "\n",
              "[137177 rows x 2 columns]"
            ]
          },
          "metadata": {
            "tags": []
          },
          "execution_count": 43
        }
      ]
    },
    {
      "cell_type": "code",
      "metadata": {
        "id": "_di2RVSOidlS",
        "colab": {
          "base_uri": "https://localhost:8080/"
        },
        "outputId": "7d2870a2-f723-4ee9-b219-1ca82ae19b0b"
      },
      "source": [
        "print(df_new.isnull().sum())\n",
        "df_new.dropna(inplace=True)\n",
        "df_new.isnull().sum()"
      ],
      "execution_count": null,
      "outputs": [
        {
          "output_type": "stream",
          "text": [
            "Detail    0\n",
            "label     0\n",
            "dtype: int64\n"
          ],
          "name": "stdout"
        },
        {
          "output_type": "execute_result",
          "data": {
            "text/plain": [
              "Detail    0\n",
              "label     0\n",
              "dtype: int64"
            ]
          },
          "metadata": {
            "tags": []
          },
          "execution_count": 44
        }
      ]
    },
    {
      "cell_type": "code",
      "metadata": {
        "id": "mq9uFZlMxel5"
      },
      "source": [
        "df_new.to_csv(path + 'Instacartdata_dup_sample.csv', mode='w')"
      ],
      "execution_count": null,
      "outputs": []
    },
    {
      "cell_type": "code",
      "metadata": {
        "id": "h67mUuV-yLD0",
        "colab": {
          "base_uri": "https://localhost:8080/",
          "height": 433
        },
        "outputId": "b50a427f-713e-4de6-e46b-159a4a400f55"
      },
      "source": [
        "print(df_new.duplicated().sum())\n",
        "df_new.drop_duplicates(inplace=True)\n",
        "df_new.reset_index(inplace=True)\n",
        "df_new.pop('index')\n",
        "df_new"
      ],
      "execution_count": null,
      "outputs": [
        {
          "output_type": "stream",
          "text": [
            "13093\n"
          ],
          "name": "stdout"
        },
        {
          "output_type": "execute_result",
          "data": {
            "text/html": [
              "<div>\n",
              "<style scoped>\n",
              "    .dataframe tbody tr th:only-of-type {\n",
              "        vertical-align: middle;\n",
              "    }\n",
              "\n",
              "    .dataframe tbody tr th {\n",
              "        vertical-align: top;\n",
              "    }\n",
              "\n",
              "    .dataframe thead th {\n",
              "        text-align: right;\n",
              "    }\n",
              "</style>\n",
              "<table border=\"1\" class=\"dataframe\">\n",
              "  <thead>\n",
              "    <tr style=\"text-align: right;\">\n",
              "      <th></th>\n",
              "      <th>Detail</th>\n",
              "      <th>label</th>\n",
              "    </tr>\n",
              "  </thead>\n",
              "  <tbody>\n",
              "    <tr>\n",
              "      <th>0</th>\n",
              "      <td>All Natural Roasted Garlic Hummus&amp;&amp;Organic Cot...</td>\n",
              "      <td>Veggie Burger, Quarter Pound</td>\n",
              "    </tr>\n",
              "    <tr>\n",
              "      <th>1</th>\n",
              "      <td>Probugs Strawnana Split Frozen Ypgurt&amp;&amp;Organic...</td>\n",
              "      <td>Country Dijon Mustard</td>\n",
              "    </tr>\n",
              "    <tr>\n",
              "      <th>2</th>\n",
              "      <td>Veggie Burger, Quarter Pound&amp;&amp;Spinach Peas &amp; P...</td>\n",
              "      <td>Wild Sweet Orange Herbal Tea</td>\n",
              "    </tr>\n",
              "    <tr>\n",
              "      <th>3</th>\n",
              "      <td>Country Dijon Mustard&amp;&amp;Coconut Yogurt&amp;&amp;Wild Sw...</td>\n",
              "      <td>Organic Red Cabbage</td>\n",
              "    </tr>\n",
              "    <tr>\n",
              "      <th>4</th>\n",
              "      <td>Wild Sweet Orange Herbal Tea&amp;&amp;Refresh Herbal T...</td>\n",
              "      <td>Hass Avocados</td>\n",
              "    </tr>\n",
              "    <tr>\n",
              "      <th>...</th>\n",
              "      <td>...</td>\n",
              "      <td>...</td>\n",
              "    </tr>\n",
              "    <tr>\n",
              "      <th>124079</th>\n",
              "      <td>Chicken Flavor Ramen Noodle Soup&amp;&amp;Ramen Noodle...</td>\n",
              "      <td>Presliced Everything Bagels</td>\n",
              "    </tr>\n",
              "    <tr>\n",
              "      <th>124080</th>\n",
              "      <td>Mixed Fruit Snacks&amp;&amp;Tahitian Renewal  Body Was...</td>\n",
              "      <td>Blueberries</td>\n",
              "    </tr>\n",
              "    <tr>\n",
              "      <th>124081</th>\n",
              "      <td>100% Pineapple Juice&amp;&amp;Honey Oat Crunch Trail M...</td>\n",
              "      <td>Golden Fishless Filet</td>\n",
              "    </tr>\n",
              "    <tr>\n",
              "      <th>124082</th>\n",
              "      <td>Plantain Chips&amp;&amp;Grape White/Green Seedless&amp;&amp;Go...</td>\n",
              "      <td>Firm Tofu</td>\n",
              "    </tr>\n",
              "    <tr>\n",
              "      <th>124083</th>\n",
              "      <td>Golden Fishless Filet&amp;&amp;Original No Pulp 100% F...</td>\n",
              "      <td>Organic Hass Avocado</td>\n",
              "    </tr>\n",
              "  </tbody>\n",
              "</table>\n",
              "<p>124084 rows × 2 columns</p>\n",
              "</div>"
            ],
            "text/plain": [
              "                                                   Detail                         label\n",
              "0       All Natural Roasted Garlic Hummus&&Organic Cot...  Veggie Burger, Quarter Pound\n",
              "1       Probugs Strawnana Split Frozen Ypgurt&&Organic...         Country Dijon Mustard\n",
              "2       Veggie Burger, Quarter Pound&&Spinach Peas & P...  Wild Sweet Orange Herbal Tea\n",
              "3       Country Dijon Mustard&&Coconut Yogurt&&Wild Sw...           Organic Red Cabbage\n",
              "4       Wild Sweet Orange Herbal Tea&&Refresh Herbal T...                 Hass Avocados\n",
              "...                                                   ...                           ...\n",
              "124079  Chicken Flavor Ramen Noodle Soup&&Ramen Noodle...   Presliced Everything Bagels\n",
              "124080  Mixed Fruit Snacks&&Tahitian Renewal  Body Was...                   Blueberries\n",
              "124081  100% Pineapple Juice&&Honey Oat Crunch Trail M...         Golden Fishless Filet\n",
              "124082  Plantain Chips&&Grape White/Green Seedless&&Go...                     Firm Tofu\n",
              "124083  Golden Fishless Filet&&Original No Pulp 100% F...          Organic Hass Avocado\n",
              "\n",
              "[124084 rows x 2 columns]"
            ]
          },
          "metadata": {
            "tags": []
          },
          "execution_count": 46
        }
      ]
    },
    {
      "cell_type": "code",
      "metadata": {
        "id": "yF_pkNpAlvEq"
      },
      "source": [
        "df_new.to_csv(path + 'Instacartdata_sample.csv', mode='w')"
      ],
      "execution_count": null,
      "outputs": []
    },
    {
      "cell_type": "code",
      "metadata": {
        "id": "xHwn3DITwzbd"
      },
      "source": [
        ""
      ],
      "execution_count": null,
      "outputs": []
    }
  ]
}