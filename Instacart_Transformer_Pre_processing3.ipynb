{
  "nbformat": 4,
  "nbformat_minor": 0,
  "metadata": {
    "colab": {
      "name": "Instacart_Transformer_Pre-processing3.ipynb",
      "provenance": [],
      "authorship_tag": "ABX9TyM5WLoLRPC3JimtUcYnkfXf",
      "include_colab_link": true
    },
    "kernelspec": {
      "name": "python3",
      "display_name": "Python 3"
    },
    "language_info": {
      "name": "python"
    }
  },
  "cells": [
    {
      "cell_type": "markdown",
      "metadata": {
        "id": "view-in-github",
        "colab_type": "text"
      },
      "source": [
        "<a href=\"https://colab.research.google.com/github/hoky1227/Transformer_based-recommendation/blob/main/Instacart_Transformer_Pre_processing3.ipynb\" target=\"_parent\"><img src=\"https://colab.research.google.com/assets/colab-badge.svg\" alt=\"Open In Colab\"/></a>"
      ]
    },
    {
      "cell_type": "code",
      "metadata": {
        "colab": {
          "base_uri": "https://localhost:8080/"
        },
        "id": "sl1y2kWhqPrP",
        "outputId": "fc95cfee-a718-40bc-ba8e-c26cbaeb4d94"
      },
      "source": [
        "from google.colab import drive\n",
        "\n",
        "drive.mount('/content/drive/')\n",
        "path = '/content/drive/MyDrive/Instacart/'"
      ],
      "execution_count": null,
      "outputs": [
        {
          "output_type": "stream",
          "text": [
            "Drive already mounted at /content/drive/; to attempt to forcibly remount, call drive.mount(\"/content/drive/\", force_remount=True).\n"
          ],
          "name": "stdout"
        }
      ]
    },
    {
      "cell_type": "code",
      "metadata": {
        "id": "U480PZQBqV5V"
      },
      "source": [
        "import pandas as pd\n",
        "import numpy as np\n",
        "import random\n",
        "import time\n",
        "import datetime\n",
        "import csv\n",
        "import os\n",
        "import matplotlib.pyplot as plt\n",
        "import pickle\n",
        "from tqdm import tqdm"
      ],
      "execution_count": null,
      "outputs": []
    },
    {
      "cell_type": "code",
      "metadata": {
        "id": "eu6gnRzTqfSt",
        "colab": {
          "base_uri": "https://localhost:8080/",
          "height": 416
        },
        "outputId": "744e67d9-3c69-4112-d9b8-cec69f0c7d86"
      },
      "source": [
        "df = pd.read_pickle(path + 'InstacartOrders_sample.pkl')\n",
        "df"
      ],
      "execution_count": null,
      "outputs": [
        {
          "output_type": "execute_result",
          "data": {
            "text/html": [
              "<div>\n",
              "<style scoped>\n",
              "    .dataframe tbody tr th:only-of-type {\n",
              "        vertical-align: middle;\n",
              "    }\n",
              "\n",
              "    .dataframe tbody tr th {\n",
              "        vertical-align: top;\n",
              "    }\n",
              "\n",
              "    .dataframe thead th {\n",
              "        text-align: right;\n",
              "    }\n",
              "</style>\n",
              "<table border=\"1\" class=\"dataframe\">\n",
              "  <thead>\n",
              "    <tr style=\"text-align: right;\">\n",
              "      <th></th>\n",
              "      <th>order</th>\n",
              "      <th>products</th>\n",
              "    </tr>\n",
              "  </thead>\n",
              "  <tbody>\n",
              "    <tr>\n",
              "      <th>0</th>\n",
              "      <td>289</td>\n",
              "      <td>All Natural Roasted Garlic Hummus&amp;&amp;Organic Cot...</td>\n",
              "    </tr>\n",
              "    <tr>\n",
              "      <th>1</th>\n",
              "      <td>378</td>\n",
              "      <td>Skim Milk&amp;&amp;Whole Vitamin D Milk</td>\n",
              "    </tr>\n",
              "    <tr>\n",
              "      <th>2</th>\n",
              "      <td>442</td>\n",
              "      <td>Total 2% Lowfat Plain Greek Yogurt&amp;&amp;Pitted Kal...</td>\n",
              "    </tr>\n",
              "    <tr>\n",
              "      <th>3</th>\n",
              "      <td>562</td>\n",
              "      <td>Crackers Cheddar Bunnies Snack Packs&amp;&amp;Organic ...</td>\n",
              "    </tr>\n",
              "    <tr>\n",
              "      <th>4</th>\n",
              "      <td>749</td>\n",
              "      <td>Organic Mushroom Base&amp;&amp;Chanterelle Mushrooms&amp;&amp;...</td>\n",
              "    </tr>\n",
              "    <tr>\n",
              "      <th>...</th>\n",
              "      <td>...</td>\n",
              "      <td>...</td>\n",
              "    </tr>\n",
              "    <tr>\n",
              "      <th>32747</th>\n",
              "      <td>3345838</td>\n",
              "      <td>Pomegranate on the Bottom Non-Fat Greek Yogurt...</td>\n",
              "    </tr>\n",
              "    <tr>\n",
              "      <th>32748</th>\n",
              "      <td>3345950</td>\n",
              "      <td>Veri Veri Teriyaki Marinade &amp; Sauce&amp;&amp;Mild Ched...</td>\n",
              "    </tr>\n",
              "    <tr>\n",
              "      <th>32749</th>\n",
              "      <td>3345963</td>\n",
              "      <td>Unsweetened Organic Soy Milk&amp;&amp;Light Sour Cream...</td>\n",
              "    </tr>\n",
              "    <tr>\n",
              "      <th>32750</th>\n",
              "      <td>3346014</td>\n",
              "      <td>Half &amp; Half&amp;&amp;Coke Zero&amp;&amp;Chicken Flavor Ramen N...</td>\n",
              "    </tr>\n",
              "    <tr>\n",
              "      <th>32751</th>\n",
              "      <td>3346047</td>\n",
              "      <td>100% Pineapple Juice&amp;&amp;Honey Oat Crunch Trail M...</td>\n",
              "    </tr>\n",
              "  </tbody>\n",
              "</table>\n",
              "<p>32752 rows × 2 columns</p>\n",
              "</div>"
            ],
            "text/plain": [
              "         order                                           products\n",
              "0          289  All Natural Roasted Garlic Hummus&&Organic Cot...\n",
              "1          378                    Skim Milk&&Whole Vitamin D Milk\n",
              "2          442  Total 2% Lowfat Plain Greek Yogurt&&Pitted Kal...\n",
              "3          562  Crackers Cheddar Bunnies Snack Packs&&Organic ...\n",
              "4          749  Organic Mushroom Base&&Chanterelle Mushrooms&&...\n",
              "...        ...                                                ...\n",
              "32747  3345838  Pomegranate on the Bottom Non-Fat Greek Yogurt...\n",
              "32748  3345950  Veri Veri Teriyaki Marinade & Sauce&&Mild Ched...\n",
              "32749  3345963  Unsweetened Organic Soy Milk&&Light Sour Cream...\n",
              "32750  3346014  Half & Half&&Coke Zero&&Chicken Flavor Ramen N...\n",
              "32751  3346047  100% Pineapple Juice&&Honey Oat Crunch Trail M...\n",
              "\n",
              "[32752 rows x 2 columns]"
            ]
          },
          "metadata": {
            "tags": []
          },
          "execution_count": 14
        }
      ]
    },
    {
      "cell_type": "code",
      "metadata": {
        "colab": {
          "base_uri": "https://localhost:8080/",
          "height": 416
        },
        "id": "PAFkIi4ssZRB",
        "outputId": "d663a3c8-6891-4aa8-e32d-2a51bca39ee0"
      },
      "source": [
        "df['products'] = df['products'].str.split('&&')\n",
        "df"
      ],
      "execution_count": null,
      "outputs": [
        {
          "output_type": "execute_result",
          "data": {
            "text/html": [
              "<div>\n",
              "<style scoped>\n",
              "    .dataframe tbody tr th:only-of-type {\n",
              "        vertical-align: middle;\n",
              "    }\n",
              "\n",
              "    .dataframe tbody tr th {\n",
              "        vertical-align: top;\n",
              "    }\n",
              "\n",
              "    .dataframe thead th {\n",
              "        text-align: right;\n",
              "    }\n",
              "</style>\n",
              "<table border=\"1\" class=\"dataframe\">\n",
              "  <thead>\n",
              "    <tr style=\"text-align: right;\">\n",
              "      <th></th>\n",
              "      <th>order</th>\n",
              "      <th>products</th>\n",
              "    </tr>\n",
              "  </thead>\n",
              "  <tbody>\n",
              "    <tr>\n",
              "      <th>0</th>\n",
              "      <td>289</td>\n",
              "      <td>[All Natural Roasted Garlic Hummus, Organic Co...</td>\n",
              "    </tr>\n",
              "    <tr>\n",
              "      <th>1</th>\n",
              "      <td>378</td>\n",
              "      <td>[Skim Milk, Whole Vitamin D Milk]</td>\n",
              "    </tr>\n",
              "    <tr>\n",
              "      <th>2</th>\n",
              "      <td>442</td>\n",
              "      <td>[Total 2% Lowfat Plain Greek Yogurt, Pitted Ka...</td>\n",
              "    </tr>\n",
              "    <tr>\n",
              "      <th>3</th>\n",
              "      <td>562</td>\n",
              "      <td>[Crackers Cheddar Bunnies Snack Packs, Organic...</td>\n",
              "    </tr>\n",
              "    <tr>\n",
              "      <th>4</th>\n",
              "      <td>749</td>\n",
              "      <td>[Organic Mushroom Base, Chanterelle Mushrooms,...</td>\n",
              "    </tr>\n",
              "    <tr>\n",
              "      <th>...</th>\n",
              "      <td>...</td>\n",
              "      <td>...</td>\n",
              "    </tr>\n",
              "    <tr>\n",
              "      <th>32747</th>\n",
              "      <td>3345838</td>\n",
              "      <td>[Pomegranate on the Bottom Non-Fat Greek Yogur...</td>\n",
              "    </tr>\n",
              "    <tr>\n",
              "      <th>32748</th>\n",
              "      <td>3345950</td>\n",
              "      <td>[Veri Veri Teriyaki Marinade &amp; Sauce, Mild Che...</td>\n",
              "    </tr>\n",
              "    <tr>\n",
              "      <th>32749</th>\n",
              "      <td>3345963</td>\n",
              "      <td>[Unsweetened Organic Soy Milk, Light Sour Crea...</td>\n",
              "    </tr>\n",
              "    <tr>\n",
              "      <th>32750</th>\n",
              "      <td>3346014</td>\n",
              "      <td>[Half &amp; Half, Coke Zero, Chicken Flavor Ramen ...</td>\n",
              "    </tr>\n",
              "    <tr>\n",
              "      <th>32751</th>\n",
              "      <td>3346047</td>\n",
              "      <td>[100% Pineapple Juice, Honey Oat Crunch Trail ...</td>\n",
              "    </tr>\n",
              "  </tbody>\n",
              "</table>\n",
              "<p>32752 rows × 2 columns</p>\n",
              "</div>"
            ],
            "text/plain": [
              "         order                                           products\n",
              "0          289  [All Natural Roasted Garlic Hummus, Organic Co...\n",
              "1          378                  [Skim Milk, Whole Vitamin D Milk]\n",
              "2          442  [Total 2% Lowfat Plain Greek Yogurt, Pitted Ka...\n",
              "3          562  [Crackers Cheddar Bunnies Snack Packs, Organic...\n",
              "4          749  [Organic Mushroom Base, Chanterelle Mushrooms,...\n",
              "...        ...                                                ...\n",
              "32747  3345838  [Pomegranate on the Bottom Non-Fat Greek Yogur...\n",
              "32748  3345950  [Veri Veri Teriyaki Marinade & Sauce, Mild Che...\n",
              "32749  3345963  [Unsweetened Organic Soy Milk, Light Sour Crea...\n",
              "32750  3346014  [Half & Half, Coke Zero, Chicken Flavor Ramen ...\n",
              "32751  3346047  [100% Pineapple Juice, Honey Oat Crunch Trail ...\n",
              "\n",
              "[32752 rows x 2 columns]"
            ]
          },
          "metadata": {
            "tags": []
          },
          "execution_count": 15
        }
      ]
    },
    {
      "cell_type": "code",
      "metadata": {
        "colab": {
          "base_uri": "https://localhost:8080/",
          "height": 416
        },
        "id": "0N6-l06uvuvz",
        "outputId": "ce1fe032-a163-4378-fa16-99a1430e13e5"
      },
      "source": [
        "df['len'] = [len(df['products'][i]) for i in range(len(df))]\n",
        "df"
      ],
      "execution_count": null,
      "outputs": [
        {
          "output_type": "execute_result",
          "data": {
            "text/html": [
              "<div>\n",
              "<style scoped>\n",
              "    .dataframe tbody tr th:only-of-type {\n",
              "        vertical-align: middle;\n",
              "    }\n",
              "\n",
              "    .dataframe tbody tr th {\n",
              "        vertical-align: top;\n",
              "    }\n",
              "\n",
              "    .dataframe thead th {\n",
              "        text-align: right;\n",
              "    }\n",
              "</style>\n",
              "<table border=\"1\" class=\"dataframe\">\n",
              "  <thead>\n",
              "    <tr style=\"text-align: right;\">\n",
              "      <th></th>\n",
              "      <th>order</th>\n",
              "      <th>products</th>\n",
              "      <th>len</th>\n",
              "    </tr>\n",
              "  </thead>\n",
              "  <tbody>\n",
              "    <tr>\n",
              "      <th>0</th>\n",
              "      <td>289</td>\n",
              "      <td>[All Natural Roasted Garlic Hummus, Organic Co...</td>\n",
              "      <td>19</td>\n",
              "    </tr>\n",
              "    <tr>\n",
              "      <th>1</th>\n",
              "      <td>378</td>\n",
              "      <td>[Skim Milk, Whole Vitamin D Milk]</td>\n",
              "      <td>2</td>\n",
              "    </tr>\n",
              "    <tr>\n",
              "      <th>2</th>\n",
              "      <td>442</td>\n",
              "      <td>[Total 2% Lowfat Plain Greek Yogurt, Pitted Ka...</td>\n",
              "      <td>9</td>\n",
              "    </tr>\n",
              "    <tr>\n",
              "      <th>3</th>\n",
              "      <td>562</td>\n",
              "      <td>[Crackers Cheddar Bunnies Snack Packs, Organic...</td>\n",
              "      <td>14</td>\n",
              "    </tr>\n",
              "    <tr>\n",
              "      <th>4</th>\n",
              "      <td>749</td>\n",
              "      <td>[Organic Mushroom Base, Chanterelle Mushrooms,...</td>\n",
              "      <td>17</td>\n",
              "    </tr>\n",
              "    <tr>\n",
              "      <th>...</th>\n",
              "      <td>...</td>\n",
              "      <td>...</td>\n",
              "      <td>...</td>\n",
              "    </tr>\n",
              "    <tr>\n",
              "      <th>32747</th>\n",
              "      <td>3345838</td>\n",
              "      <td>[Pomegranate on the Bottom Non-Fat Greek Yogur...</td>\n",
              "      <td>9</td>\n",
              "    </tr>\n",
              "    <tr>\n",
              "      <th>32748</th>\n",
              "      <td>3345950</td>\n",
              "      <td>[Veri Veri Teriyaki Marinade &amp; Sauce, Mild Che...</td>\n",
              "      <td>10</td>\n",
              "    </tr>\n",
              "    <tr>\n",
              "      <th>32749</th>\n",
              "      <td>3345963</td>\n",
              "      <td>[Unsweetened Organic Soy Milk, Light Sour Crea...</td>\n",
              "      <td>7</td>\n",
              "    </tr>\n",
              "    <tr>\n",
              "      <th>32750</th>\n",
              "      <td>3346014</td>\n",
              "      <td>[Half &amp; Half, Coke Zero, Chicken Flavor Ramen ...</td>\n",
              "      <td>9</td>\n",
              "    </tr>\n",
              "    <tr>\n",
              "      <th>32751</th>\n",
              "      <td>3346047</td>\n",
              "      <td>[100% Pineapple Juice, Honey Oat Crunch Trail ...</td>\n",
              "      <td>9</td>\n",
              "    </tr>\n",
              "  </tbody>\n",
              "</table>\n",
              "<p>32752 rows × 3 columns</p>\n",
              "</div>"
            ],
            "text/plain": [
              "         order                                           products  len\n",
              "0          289  [All Natural Roasted Garlic Hummus, Organic Co...   19\n",
              "1          378                  [Skim Milk, Whole Vitamin D Milk]    2\n",
              "2          442  [Total 2% Lowfat Plain Greek Yogurt, Pitted Ka...    9\n",
              "3          562  [Crackers Cheddar Bunnies Snack Packs, Organic...   14\n",
              "4          749  [Organic Mushroom Base, Chanterelle Mushrooms,...   17\n",
              "...        ...                                                ...  ...\n",
              "32747  3345838  [Pomegranate on the Bottom Non-Fat Greek Yogur...    9\n",
              "32748  3345950  [Veri Veri Teriyaki Marinade & Sauce, Mild Che...   10\n",
              "32749  3345963  [Unsweetened Organic Soy Milk, Light Sour Crea...    7\n",
              "32750  3346014  [Half & Half, Coke Zero, Chicken Flavor Ramen ...    9\n",
              "32751  3346047  [100% Pineapple Juice, Honey Oat Crunch Trail ...    9\n",
              "\n",
              "[32752 rows x 3 columns]"
            ]
          },
          "metadata": {
            "tags": []
          },
          "execution_count": 17
        }
      ]
    },
    {
      "cell_type": "code",
      "metadata": {
        "colab": {
          "base_uri": "https://localhost:8080/"
        },
        "id": "vMKFnusCwEKG",
        "outputId": "0d4bddf2-e061-4e58-f78d-54cccb5b0fdf"
      },
      "source": [
        "df['len'].describe()"
      ],
      "execution_count": null,
      "outputs": [
        {
          "output_type": "execute_result",
          "data": {
            "text/plain": [
              "count    32752.000000\n",
              "mean        10.131412\n",
              "std          7.599141\n",
              "min          1.000000\n",
              "25%          5.000000\n",
              "50%          8.000000\n",
              "75%         14.000000\n",
              "max        108.000000\n",
              "Name: len, dtype: float64"
            ]
          },
          "metadata": {
            "tags": []
          },
          "execution_count": 18
        }
      ]
    },
    {
      "cell_type": "code",
      "metadata": {
        "id": "JcGV_sD5wPGr"
      },
      "source": [
        "id = df[df['len'] == df['len'].max()].index\n",
        "p = df['products'][id].to_list()\n",
        "p[0]"
      ],
      "execution_count": null,
      "outputs": []
    },
    {
      "cell_type": "code",
      "metadata": {
        "colab": {
          "base_uri": "https://localhost:8080/"
        },
        "id": "pj3bKtKlxcfv",
        "outputId": "3750f27f-7fac-4c70-ec01-d4ac25f35cdc"
      },
      "source": [
        "df['order'][id]"
      ],
      "execution_count": null,
      "outputs": [
        {
          "output_type": "execute_result",
          "data": {
            "text/plain": [
              "21013    2136777\n",
              "Name: order, dtype: object"
            ]
          },
          "metadata": {
            "tags": []
          },
          "execution_count": 34
        }
      ]
    },
    {
      "cell_type": "code",
      "metadata": {
        "colab": {
          "base_uri": "https://localhost:8080/",
          "height": 416
        },
        "id": "Bgdf_w5m5R2W",
        "outputId": "8747a209-265b-40ad-ade6-c74b92ed797c"
      },
      "source": [
        "raw = pd.read_pickle(path + 'order_products.pkl')\n",
        "raw"
      ],
      "execution_count": null,
      "outputs": [
        {
          "output_type": "execute_result",
          "data": {
            "text/html": [
              "<div>\n",
              "<style scoped>\n",
              "    .dataframe tbody tr th:only-of-type {\n",
              "        vertical-align: middle;\n",
              "    }\n",
              "\n",
              "    .dataframe tbody tr th {\n",
              "        vertical-align: top;\n",
              "    }\n",
              "\n",
              "    .dataframe thead th {\n",
              "        text-align: right;\n",
              "    }\n",
              "</style>\n",
              "<table border=\"1\" class=\"dataframe\">\n",
              "  <thead>\n",
              "    <tr style=\"text-align: right;\">\n",
              "      <th></th>\n",
              "      <th>order_id</th>\n",
              "      <th>product_id</th>\n",
              "      <th>user_id</th>\n",
              "    </tr>\n",
              "  </thead>\n",
              "  <tbody>\n",
              "    <tr>\n",
              "      <th>0</th>\n",
              "      <td>431534</td>\n",
              "      <td>Organic Fuji Apples</td>\n",
              "      <td>1</td>\n",
              "    </tr>\n",
              "    <tr>\n",
              "      <th>1</th>\n",
              "      <td>431534</td>\n",
              "      <td>Bag of Organic Bananas</td>\n",
              "      <td>1</td>\n",
              "    </tr>\n",
              "    <tr>\n",
              "      <th>2</th>\n",
              "      <td>431534</td>\n",
              "      <td>Honeycrisp Apples</td>\n",
              "      <td>1</td>\n",
              "    </tr>\n",
              "    <tr>\n",
              "      <th>3</th>\n",
              "      <td>431534</td>\n",
              "      <td>Organic String Cheese</td>\n",
              "      <td>1</td>\n",
              "    </tr>\n",
              "    <tr>\n",
              "      <th>4</th>\n",
              "      <td>431534</td>\n",
              "      <td>Bartlett Pears</td>\n",
              "      <td>1</td>\n",
              "    </tr>\n",
              "    <tr>\n",
              "      <th>...</th>\n",
              "      <td>...</td>\n",
              "      <td>...</td>\n",
              "      <td>...</td>\n",
              "    </tr>\n",
              "    <tr>\n",
              "      <th>33819101</th>\n",
              "      <td>3154581</td>\n",
              "      <td>Diet Pepsi Pack</td>\n",
              "      <td>206209</td>\n",
              "    </tr>\n",
              "    <tr>\n",
              "      <th>33819102</th>\n",
              "      <td>3154581</td>\n",
              "      <td>Organic Diced Tomatoes</td>\n",
              "      <td>206209</td>\n",
              "    </tr>\n",
              "    <tr>\n",
              "      <th>33819103</th>\n",
              "      <td>3154581</td>\n",
              "      <td>Fat Free Cream Cheese</td>\n",
              "      <td>206209</td>\n",
              "    </tr>\n",
              "    <tr>\n",
              "      <th>33819104</th>\n",
              "      <td>3186442</td>\n",
              "      <td>Raisin Bran Cereal</td>\n",
              "      <td>206209</td>\n",
              "    </tr>\n",
              "    <tr>\n",
              "      <th>33819105</th>\n",
              "      <td>3186442</td>\n",
              "      <td>Tomato Paste</td>\n",
              "      <td>206209</td>\n",
              "    </tr>\n",
              "  </tbody>\n",
              "</table>\n",
              "<p>33819106 rows × 3 columns</p>\n",
              "</div>"
            ],
            "text/plain": [
              "          order_id              product_id  user_id\n",
              "0           431534     Organic Fuji Apples        1\n",
              "1           431534  Bag of Organic Bananas        1\n",
              "2           431534       Honeycrisp Apples        1\n",
              "3           431534   Organic String Cheese        1\n",
              "4           431534          Bartlett Pears        1\n",
              "...            ...                     ...      ...\n",
              "33819101   3154581         Diet Pepsi Pack   206209\n",
              "33819102   3154581  Organic Diced Tomatoes   206209\n",
              "33819103   3154581   Fat Free Cream Cheese   206209\n",
              "33819104   3186442      Raisin Bran Cereal   206209\n",
              "33819105   3186442            Tomato Paste   206209\n",
              "\n",
              "[33819106 rows x 3 columns]"
            ]
          },
          "metadata": {
            "tags": []
          },
          "execution_count": 39
        }
      ]
    },
    {
      "cell_type": "code",
      "metadata": {
        "colab": {
          "base_uri": "https://localhost:8080/"
        },
        "id": "vEnW_xD55dxY",
        "outputId": "f982e3e9-5535-4845-b4a9-649c533a28a4"
      },
      "source": [
        "len(raw[raw['order_id'] == 2136777])"
      ],
      "execution_count": null,
      "outputs": [
        {
          "output_type": "execute_result",
          "data": {
            "text/plain": [
              "108"
            ]
          },
          "metadata": {
            "tags": []
          },
          "execution_count": 46
        }
      ]
    },
    {
      "cell_type": "code",
      "metadata": {
        "colab": {
          "base_uri": "https://localhost:8080/",
          "height": 416
        },
        "id": "lU6wFw-O5eDY",
        "outputId": "befaed87-f618-4769-8361-a53fa56b040a"
      },
      "source": [
        "detail = pd.read_csv(path + 'InstacartDetail.csv')\n",
        "detail"
      ],
      "execution_count": null,
      "outputs": [
        {
          "output_type": "execute_result",
          "data": {
            "text/html": [
              "<div>\n",
              "<style scoped>\n",
              "    .dataframe tbody tr th:only-of-type {\n",
              "        vertical-align: middle;\n",
              "    }\n",
              "\n",
              "    .dataframe tbody tr th {\n",
              "        vertical-align: top;\n",
              "    }\n",
              "\n",
              "    .dataframe thead th {\n",
              "        text-align: right;\n",
              "    }\n",
              "</style>\n",
              "<table border=\"1\" class=\"dataframe\">\n",
              "  <thead>\n",
              "    <tr style=\"text-align: right;\">\n",
              "      <th></th>\n",
              "      <th>Unnamed: 0</th>\n",
              "      <th>product_name</th>\n",
              "    </tr>\n",
              "  </thead>\n",
              "  <tbody>\n",
              "    <tr>\n",
              "      <th>0</th>\n",
              "      <td>0</td>\n",
              "      <td>Chocolate Sandwich Cookies</td>\n",
              "    </tr>\n",
              "    <tr>\n",
              "      <th>1</th>\n",
              "      <td>1</td>\n",
              "      <td>All-Seasons Salt</td>\n",
              "    </tr>\n",
              "    <tr>\n",
              "      <th>2</th>\n",
              "      <td>2</td>\n",
              "      <td>Robust Golden Unsweetened Oolong Tea</td>\n",
              "    </tr>\n",
              "    <tr>\n",
              "      <th>3</th>\n",
              "      <td>3</td>\n",
              "      <td>Smart Ones Classic Favorites Mini Rigatoni Wit...</td>\n",
              "    </tr>\n",
              "    <tr>\n",
              "      <th>4</th>\n",
              "      <td>4</td>\n",
              "      <td>Green Chile Anytime Sauce</td>\n",
              "    </tr>\n",
              "    <tr>\n",
              "      <th>...</th>\n",
              "      <td>...</td>\n",
              "      <td>...</td>\n",
              "    </tr>\n",
              "    <tr>\n",
              "      <th>49683</th>\n",
              "      <td>49683</td>\n",
              "      <td>Vodka, Triple Distilled, Twist of Vanilla</td>\n",
              "    </tr>\n",
              "    <tr>\n",
              "      <th>49684</th>\n",
              "      <td>49684</td>\n",
              "      <td>En Croute Roast Hazelnut Cranberry</td>\n",
              "    </tr>\n",
              "    <tr>\n",
              "      <th>49685</th>\n",
              "      <td>49685</td>\n",
              "      <td>Artisan Baguette</td>\n",
              "    </tr>\n",
              "    <tr>\n",
              "      <th>49686</th>\n",
              "      <td>49686</td>\n",
              "      <td>Smartblend Healthy Metabolism Dry Cat Food</td>\n",
              "    </tr>\n",
              "    <tr>\n",
              "      <th>49687</th>\n",
              "      <td>49687</td>\n",
              "      <td>Fresh Foaming Cleanser</td>\n",
              "    </tr>\n",
              "  </tbody>\n",
              "</table>\n",
              "<p>49688 rows × 2 columns</p>\n",
              "</div>"
            ],
            "text/plain": [
              "       Unnamed: 0                                       product_name\n",
              "0               0                         Chocolate Sandwich Cookies\n",
              "1               1                                   All-Seasons Salt\n",
              "2               2               Robust Golden Unsweetened Oolong Tea\n",
              "3               3  Smart Ones Classic Favorites Mini Rigatoni Wit...\n",
              "4               4                          Green Chile Anytime Sauce\n",
              "...           ...                                                ...\n",
              "49683       49683          Vodka, Triple Distilled, Twist of Vanilla\n",
              "49684       49684                 En Croute Roast Hazelnut Cranberry\n",
              "49685       49685                                   Artisan Baguette\n",
              "49686       49686         Smartblend Healthy Metabolism Dry Cat Food\n",
              "49687       49687                             Fresh Foaming Cleanser\n",
              "\n",
              "[49688 rows x 2 columns]"
            ]
          },
          "metadata": {
            "tags": []
          },
          "execution_count": 41
        }
      ]
    },
    {
      "cell_type": "code",
      "metadata": {
        "colab": {
          "base_uri": "https://localhost:8080/"
        },
        "id": "cwAO309a5eOn",
        "outputId": "6598f7b5-61bf-418d-9524-439179280459"
      },
      "source": [
        "detail.loc[49533]"
      ],
      "execution_count": null,
      "outputs": [
        {
          "output_type": "execute_result",
          "data": {
            "text/plain": [
              "Unnamed: 0                               49533\n",
              "product_name    Jalapeño Seasoned Potato Chips\n",
              "Name: 49533, dtype: object"
            ]
          },
          "metadata": {
            "tags": []
          },
          "execution_count": 42
        }
      ]
    },
    {
      "cell_type": "code",
      "metadata": {
        "colab": {
          "base_uri": "https://localhost:8080/"
        },
        "id": "HYa6RRNm5eZM",
        "outputId": "7da9f6f2-2311-45d5-a50c-fe7efef3fa2b"
      },
      "source": [
        "detail.loc[49585]"
      ],
      "execution_count": null,
      "outputs": [
        {
          "output_type": "execute_result",
          "data": {
            "text/plain": [
              "Unnamed: 0                                       49585\n",
              "product_name    Chèvre Oh-La-La Spreadable Goat Cheese\n",
              "Name: 49585, dtype: object"
            ]
          },
          "metadata": {
            "tags": []
          },
          "execution_count": 43
        }
      ]
    },
    {
      "cell_type": "code",
      "metadata": {
        "colab": {
          "base_uri": "https://localhost:8080/"
        },
        "id": "lrsEmjhg5ekV",
        "outputId": "ea21a154-f46c-49d1-db8e-5e74d5d50004"
      },
      "source": [
        "detail.loc[49640]"
      ],
      "execution_count": null,
      "outputs": [
        {
          "output_type": "execute_result",
          "data": {
            "text/plain": [
              "Unnamed: 0              49640\n",
              "product_name    8\\\" Pecan Pie\n",
              "Name: 49640, dtype: object"
            ]
          },
          "metadata": {
            "tags": []
          },
          "execution_count": 44
        }
      ]
    },
    {
      "cell_type": "code",
      "metadata": {
        "id": "qlMKUWzj6X9W"
      },
      "source": [
        ""
      ],
      "execution_count": null,
      "outputs": []
    },
    {
      "cell_type": "code",
      "metadata": {
        "id": "OtXn1M1E6Ycw"
      },
      "source": [
        ""
      ],
      "execution_count": null,
      "outputs": []
    },
    {
      "cell_type": "code",
      "metadata": {
        "id": "LV79nfBP6Y28"
      },
      "source": [
        ""
      ],
      "execution_count": null,
      "outputs": []
    },
    {
      "cell_type": "code",
      "metadata": {
        "id": "niA4zukxt31j"
      },
      "source": [
        "ds = pd.DataFrame(columns=df.coloumns)\n",
        "ds['order'] = df['order'][i] for v in range(len(df['products'][i]))\n",
        "\n",
        "\n",
        "for i in range(len(df)):\n",
        "    for v in df['products'][i]:\n",
        "        "
      ],
      "execution_count": null,
      "outputs": []
    },
    {
      "cell_type": "code",
      "metadata": {
        "colab": {
          "base_uri": "https://localhost:8080/",
          "height": 416
        },
        "id": "6jRRVYtI1ymQ",
        "outputId": "67b57a74-5417-4514-9623-1b085b0fc8df"
      },
      "source": [
        "df_products = pd.DataFrame(columns=['products'])\n",
        "\n",
        "products = []\n",
        "\n",
        "for i in range(len(df)):\n",
        "    for v in df['products'][i]:\n",
        "        products.append(v)\n",
        "\n",
        "df_products['products'] = products\n",
        "df_products"
      ],
      "execution_count": null,
      "outputs": [
        {
          "output_type": "execute_result",
          "data": {
            "text/html": [
              "<div>\n",
              "<style scoped>\n",
              "    .dataframe tbody tr th:only-of-type {\n",
              "        vertical-align: middle;\n",
              "    }\n",
              "\n",
              "    .dataframe tbody tr th {\n",
              "        vertical-align: top;\n",
              "    }\n",
              "\n",
              "    .dataframe thead th {\n",
              "        text-align: right;\n",
              "    }\n",
              "</style>\n",
              "<table border=\"1\" class=\"dataframe\">\n",
              "  <thead>\n",
              "    <tr style=\"text-align: right;\">\n",
              "      <th></th>\n",
              "      <th>products</th>\n",
              "    </tr>\n",
              "  </thead>\n",
              "  <tbody>\n",
              "    <tr>\n",
              "      <th>0</th>\n",
              "      <td>All Natural Roasted Garlic Hummus</td>\n",
              "    </tr>\n",
              "    <tr>\n",
              "      <th>1</th>\n",
              "      <td>Organic Cottage Cheese</td>\n",
              "    </tr>\n",
              "    <tr>\n",
              "      <th>2</th>\n",
              "      <td>Probugs Strawnana Split Frozen Ypgurt</td>\n",
              "    </tr>\n",
              "    <tr>\n",
              "      <th>3</th>\n",
              "      <td>Organic Red Bell Pepper</td>\n",
              "    </tr>\n",
              "    <tr>\n",
              "      <th>4</th>\n",
              "      <td>Veggie Burger, Quarter Pound</td>\n",
              "    </tr>\n",
              "    <tr>\n",
              "      <th>...</th>\n",
              "      <td>...</td>\n",
              "    </tr>\n",
              "    <tr>\n",
              "      <th>331819</th>\n",
              "      <td>Golden Fishless Filet</td>\n",
              "    </tr>\n",
              "    <tr>\n",
              "      <th>331820</th>\n",
              "      <td>Original No Pulp 100% Florida Orange Juice</td>\n",
              "    </tr>\n",
              "    <tr>\n",
              "      <th>331821</th>\n",
              "      <td>Firm Tofu</td>\n",
              "    </tr>\n",
              "    <tr>\n",
              "      <th>331822</th>\n",
              "      <td>Banana</td>\n",
              "    </tr>\n",
              "    <tr>\n",
              "      <th>331823</th>\n",
              "      <td>Organic Hass Avocado</td>\n",
              "    </tr>\n",
              "  </tbody>\n",
              "</table>\n",
              "<p>331824 rows × 1 columns</p>\n",
              "</div>"
            ],
            "text/plain": [
              "                                          products\n",
              "0                All Natural Roasted Garlic Hummus\n",
              "1                           Organic Cottage Cheese\n",
              "2            Probugs Strawnana Split Frozen Ypgurt\n",
              "3                          Organic Red Bell Pepper\n",
              "4                     Veggie Burger, Quarter Pound\n",
              "...                                            ...\n",
              "331819                       Golden Fishless Filet\n",
              "331820  Original No Pulp 100% Florida Orange Juice\n",
              "331821                                   Firm Tofu\n",
              "331822                                      Banana\n",
              "331823                        Organic Hass Avocado\n",
              "\n",
              "[331824 rows x 1 columns]"
            ]
          },
          "metadata": {
            "tags": []
          },
          "execution_count": 37
        }
      ]
    },
    {
      "cell_type": "code",
      "metadata": {
        "id": "cpE2AIFU2dyZ"
      },
      "source": [
        "df_products.to_csv(path + 'products_sample.csv', encoding='UTF-8')"
      ],
      "execution_count": null,
      "outputs": []
    },
    {
      "cell_type": "code",
      "metadata": {
        "id": "okJmx4bk5BJ4"
      },
      "source": [
        ""
      ],
      "execution_count": null,
      "outputs": []
    }
  ]
}