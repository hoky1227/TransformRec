{
  "nbformat": 4,
  "nbformat_minor": 0,
  "metadata": {
    "colab": {
      "name": "Transformer e-commerce.ipynb",
      "provenance": [],
      "collapsed_sections": [],
      "authorship_tag": "ABX9TyN5CIL83FugVVrj/ugJfdG1",
      "include_colab_link": true
    },
    "kernelspec": {
      "name": "python3",
      "display_name": "Python 3"
    },
    "accelerator": "GPU",
    "widgets": {
      "application/vnd.jupyter.widget-state+json": {
        "fec02ec3620d4397bb29d6dbc5a0c6f7": {
          "model_module": "@jupyter-widgets/controls",
          "model_name": "HBoxModel",
          "state": {
            "_view_name": "HBoxView",
            "_dom_classes": [],
            "_model_name": "HBoxModel",
            "_view_module": "@jupyter-widgets/controls",
            "_model_module_version": "1.5.0",
            "_view_count": null,
            "_view_module_version": "1.5.0",
            "box_style": "",
            "layout": "IPY_MODEL_3837ddfc511341d5bee6993893990520",
            "_model_module": "@jupyter-widgets/controls",
            "children": [
              "IPY_MODEL_e8226922d5af43f196774d4ff9e3cbc5",
              "IPY_MODEL_fa211916be114efe9905dc8b7f569a5f"
            ]
          }
        },
        "3837ddfc511341d5bee6993893990520": {
          "model_module": "@jupyter-widgets/base",
          "model_name": "LayoutModel",
          "state": {
            "_view_name": "LayoutView",
            "grid_template_rows": null,
            "right": null,
            "justify_content": null,
            "_view_module": "@jupyter-widgets/base",
            "overflow": null,
            "_model_module_version": "1.2.0",
            "_view_count": null,
            "flex_flow": null,
            "width": null,
            "min_width": null,
            "border": null,
            "align_items": null,
            "bottom": null,
            "_model_module": "@jupyter-widgets/base",
            "top": null,
            "grid_column": null,
            "overflow_y": null,
            "overflow_x": null,
            "grid_auto_flow": null,
            "grid_area": null,
            "grid_template_columns": null,
            "flex": null,
            "_model_name": "LayoutModel",
            "justify_items": null,
            "grid_row": null,
            "max_height": null,
            "align_content": null,
            "visibility": null,
            "align_self": null,
            "height": null,
            "min_height": null,
            "padding": null,
            "grid_auto_rows": null,
            "grid_gap": null,
            "max_width": null,
            "order": null,
            "_view_module_version": "1.2.0",
            "grid_template_areas": null,
            "object_position": null,
            "object_fit": null,
            "grid_auto_columns": null,
            "margin": null,
            "display": null,
            "left": null
          }
        },
        "e8226922d5af43f196774d4ff9e3cbc5": {
          "model_module": "@jupyter-widgets/controls",
          "model_name": "FloatProgressModel",
          "state": {
            "_view_name": "ProgressView",
            "style": "IPY_MODEL_cdc1b540f070466f91260b8aca0ee984",
            "_dom_classes": [],
            "description": "100%",
            "_model_name": "FloatProgressModel",
            "bar_style": "success",
            "max": 2677,
            "_view_module": "@jupyter-widgets/controls",
            "_model_module_version": "1.5.0",
            "value": 2677,
            "_view_count": null,
            "_view_module_version": "1.5.0",
            "orientation": "horizontal",
            "min": 0,
            "description_tooltip": null,
            "_model_module": "@jupyter-widgets/controls",
            "layout": "IPY_MODEL_4295ca2d04e34b16b8faed77b596b384"
          }
        },
        "fa211916be114efe9905dc8b7f569a5f": {
          "model_module": "@jupyter-widgets/controls",
          "model_name": "HTMLModel",
          "state": {
            "_view_name": "HTMLView",
            "style": "IPY_MODEL_967e55d1c6a346519826cc704e4cb13f",
            "_dom_classes": [],
            "description": "",
            "_model_name": "HTMLModel",
            "placeholder": "​",
            "_view_module": "@jupyter-widgets/controls",
            "_model_module_version": "1.5.0",
            "value": " 2677/2677 [00:03&lt;00:00, 875.77it/s]",
            "_view_count": null,
            "_view_module_version": "1.5.0",
            "description_tooltip": null,
            "_model_module": "@jupyter-widgets/controls",
            "layout": "IPY_MODEL_30d66953c9804dadb574f5c3b956bd80"
          }
        },
        "cdc1b540f070466f91260b8aca0ee984": {
          "model_module": "@jupyter-widgets/controls",
          "model_name": "ProgressStyleModel",
          "state": {
            "_view_name": "StyleView",
            "_model_name": "ProgressStyleModel",
            "description_width": "initial",
            "_view_module": "@jupyter-widgets/base",
            "_model_module_version": "1.5.0",
            "_view_count": null,
            "_view_module_version": "1.2.0",
            "bar_color": null,
            "_model_module": "@jupyter-widgets/controls"
          }
        },
        "4295ca2d04e34b16b8faed77b596b384": {
          "model_module": "@jupyter-widgets/base",
          "model_name": "LayoutModel",
          "state": {
            "_view_name": "LayoutView",
            "grid_template_rows": null,
            "right": null,
            "justify_content": null,
            "_view_module": "@jupyter-widgets/base",
            "overflow": null,
            "_model_module_version": "1.2.0",
            "_view_count": null,
            "flex_flow": null,
            "width": null,
            "min_width": null,
            "border": null,
            "align_items": null,
            "bottom": null,
            "_model_module": "@jupyter-widgets/base",
            "top": null,
            "grid_column": null,
            "overflow_y": null,
            "overflow_x": null,
            "grid_auto_flow": null,
            "grid_area": null,
            "grid_template_columns": null,
            "flex": null,
            "_model_name": "LayoutModel",
            "justify_items": null,
            "grid_row": null,
            "max_height": null,
            "align_content": null,
            "visibility": null,
            "align_self": null,
            "height": null,
            "min_height": null,
            "padding": null,
            "grid_auto_rows": null,
            "grid_gap": null,
            "max_width": null,
            "order": null,
            "_view_module_version": "1.2.0",
            "grid_template_areas": null,
            "object_position": null,
            "object_fit": null,
            "grid_auto_columns": null,
            "margin": null,
            "display": null,
            "left": null
          }
        },
        "967e55d1c6a346519826cc704e4cb13f": {
          "model_module": "@jupyter-widgets/controls",
          "model_name": "DescriptionStyleModel",
          "state": {
            "_view_name": "StyleView",
            "_model_name": "DescriptionStyleModel",
            "description_width": "",
            "_view_module": "@jupyter-widgets/base",
            "_model_module_version": "1.5.0",
            "_view_count": null,
            "_view_module_version": "1.2.0",
            "_model_module": "@jupyter-widgets/controls"
          }
        },
        "30d66953c9804dadb574f5c3b956bd80": {
          "model_module": "@jupyter-widgets/base",
          "model_name": "LayoutModel",
          "state": {
            "_view_name": "LayoutView",
            "grid_template_rows": null,
            "right": null,
            "justify_content": null,
            "_view_module": "@jupyter-widgets/base",
            "overflow": null,
            "_model_module_version": "1.2.0",
            "_view_count": null,
            "flex_flow": null,
            "width": null,
            "min_width": null,
            "border": null,
            "align_items": null,
            "bottom": null,
            "_model_module": "@jupyter-widgets/base",
            "top": null,
            "grid_column": null,
            "overflow_y": null,
            "overflow_x": null,
            "grid_auto_flow": null,
            "grid_area": null,
            "grid_template_columns": null,
            "flex": null,
            "_model_name": "LayoutModel",
            "justify_items": null,
            "grid_row": null,
            "max_height": null,
            "align_content": null,
            "visibility": null,
            "align_self": null,
            "height": null,
            "min_height": null,
            "padding": null,
            "grid_auto_rows": null,
            "grid_gap": null,
            "max_width": null,
            "order": null,
            "_view_module_version": "1.2.0",
            "grid_template_areas": null,
            "object_position": null,
            "object_fit": null,
            "grid_auto_columns": null,
            "margin": null,
            "display": null,
            "left": null
          }
        },
        "6060074d4b3c4765a7665530087f41e9": {
          "model_module": "@jupyter-widgets/controls",
          "model_name": "HBoxModel",
          "state": {
            "_view_name": "HBoxView",
            "_dom_classes": [],
            "_model_name": "HBoxModel",
            "_view_module": "@jupyter-widgets/controls",
            "_model_module_version": "1.5.0",
            "_view_count": null,
            "_view_module_version": "1.5.0",
            "box_style": "",
            "layout": "IPY_MODEL_04d52fdccc6e44ae94a1c61a37c47142",
            "_model_module": "@jupyter-widgets/controls",
            "children": [
              "IPY_MODEL_6c5056de7c044545937edcafaf227c6f",
              "IPY_MODEL_5c57faec71cc451d8cc08d3dc5036b18"
            ]
          }
        },
        "04d52fdccc6e44ae94a1c61a37c47142": {
          "model_module": "@jupyter-widgets/base",
          "model_name": "LayoutModel",
          "state": {
            "_view_name": "LayoutView",
            "grid_template_rows": null,
            "right": null,
            "justify_content": null,
            "_view_module": "@jupyter-widgets/base",
            "overflow": null,
            "_model_module_version": "1.2.0",
            "_view_count": null,
            "flex_flow": null,
            "width": null,
            "min_width": null,
            "border": null,
            "align_items": null,
            "bottom": null,
            "_model_module": "@jupyter-widgets/base",
            "top": null,
            "grid_column": null,
            "overflow_y": null,
            "overflow_x": null,
            "grid_auto_flow": null,
            "grid_area": null,
            "grid_template_columns": null,
            "flex": null,
            "_model_name": "LayoutModel",
            "justify_items": null,
            "grid_row": null,
            "max_height": null,
            "align_content": null,
            "visibility": null,
            "align_self": null,
            "height": null,
            "min_height": null,
            "padding": null,
            "grid_auto_rows": null,
            "grid_gap": null,
            "max_width": null,
            "order": null,
            "_view_module_version": "1.2.0",
            "grid_template_areas": null,
            "object_position": null,
            "object_fit": null,
            "grid_auto_columns": null,
            "margin": null,
            "display": null,
            "left": null
          }
        },
        "6c5056de7c044545937edcafaf227c6f": {
          "model_module": "@jupyter-widgets/controls",
          "model_name": "FloatProgressModel",
          "state": {
            "_view_name": "ProgressView",
            "style": "IPY_MODEL_f38a9c6ed77242ab92e1cd5b425ad373",
            "_dom_classes": [],
            "description": "100%",
            "_model_name": "FloatProgressModel",
            "bar_style": "success",
            "max": 14241,
            "_view_module": "@jupyter-widgets/controls",
            "_model_module_version": "1.5.0",
            "value": 14241,
            "_view_count": null,
            "_view_module_version": "1.5.0",
            "orientation": "horizontal",
            "min": 0,
            "description_tooltip": null,
            "_model_module": "@jupyter-widgets/controls",
            "layout": "IPY_MODEL_da033dec03d04d9abab60e252f011591"
          }
        },
        "5c57faec71cc451d8cc08d3dc5036b18": {
          "model_module": "@jupyter-widgets/controls",
          "model_name": "HTMLModel",
          "state": {
            "_view_name": "HTMLView",
            "style": "IPY_MODEL_b4996cb092db498c9390370e9383c0bc",
            "_dom_classes": [],
            "description": "",
            "_model_name": "HTMLModel",
            "placeholder": "​",
            "_view_module": "@jupyter-widgets/controls",
            "_model_module_version": "1.5.0",
            "value": " 14241/14241 [00:03&lt;00:00, 3597.54it/s]",
            "_view_count": null,
            "_view_module_version": "1.5.0",
            "description_tooltip": null,
            "_model_module": "@jupyter-widgets/controls",
            "layout": "IPY_MODEL_4d30034efdea4feabf069ed606e01b22"
          }
        },
        "f38a9c6ed77242ab92e1cd5b425ad373": {
          "model_module": "@jupyter-widgets/controls",
          "model_name": "ProgressStyleModel",
          "state": {
            "_view_name": "StyleView",
            "_model_name": "ProgressStyleModel",
            "description_width": "initial",
            "_view_module": "@jupyter-widgets/base",
            "_model_module_version": "1.5.0",
            "_view_count": null,
            "_view_module_version": "1.2.0",
            "bar_color": null,
            "_model_module": "@jupyter-widgets/controls"
          }
        },
        "da033dec03d04d9abab60e252f011591": {
          "model_module": "@jupyter-widgets/base",
          "model_name": "LayoutModel",
          "state": {
            "_view_name": "LayoutView",
            "grid_template_rows": null,
            "right": null,
            "justify_content": null,
            "_view_module": "@jupyter-widgets/base",
            "overflow": null,
            "_model_module_version": "1.2.0",
            "_view_count": null,
            "flex_flow": null,
            "width": null,
            "min_width": null,
            "border": null,
            "align_items": null,
            "bottom": null,
            "_model_module": "@jupyter-widgets/base",
            "top": null,
            "grid_column": null,
            "overflow_y": null,
            "overflow_x": null,
            "grid_auto_flow": null,
            "grid_area": null,
            "grid_template_columns": null,
            "flex": null,
            "_model_name": "LayoutModel",
            "justify_items": null,
            "grid_row": null,
            "max_height": null,
            "align_content": null,
            "visibility": null,
            "align_self": null,
            "height": null,
            "min_height": null,
            "padding": null,
            "grid_auto_rows": null,
            "grid_gap": null,
            "max_width": null,
            "order": null,
            "_view_module_version": "1.2.0",
            "grid_template_areas": null,
            "object_position": null,
            "object_fit": null,
            "grid_auto_columns": null,
            "margin": null,
            "display": null,
            "left": null
          }
        },
        "b4996cb092db498c9390370e9383c0bc": {
          "model_module": "@jupyter-widgets/controls",
          "model_name": "DescriptionStyleModel",
          "state": {
            "_view_name": "StyleView",
            "_model_name": "DescriptionStyleModel",
            "description_width": "",
            "_view_module": "@jupyter-widgets/base",
            "_model_module_version": "1.5.0",
            "_view_count": null,
            "_view_module_version": "1.2.0",
            "_model_module": "@jupyter-widgets/controls"
          }
        },
        "4d30034efdea4feabf069ed606e01b22": {
          "model_module": "@jupyter-widgets/base",
          "model_name": "LayoutModel",
          "state": {
            "_view_name": "LayoutView",
            "grid_template_rows": null,
            "right": null,
            "justify_content": null,
            "_view_module": "@jupyter-widgets/base",
            "overflow": null,
            "_model_module_version": "1.2.0",
            "_view_count": null,
            "flex_flow": null,
            "width": null,
            "min_width": null,
            "border": null,
            "align_items": null,
            "bottom": null,
            "_model_module": "@jupyter-widgets/base",
            "top": null,
            "grid_column": null,
            "overflow_y": null,
            "overflow_x": null,
            "grid_auto_flow": null,
            "grid_area": null,
            "grid_template_columns": null,
            "flex": null,
            "_model_name": "LayoutModel",
            "justify_items": null,
            "grid_row": null,
            "max_height": null,
            "align_content": null,
            "visibility": null,
            "align_self": null,
            "height": null,
            "min_height": null,
            "padding": null,
            "grid_auto_rows": null,
            "grid_gap": null,
            "max_width": null,
            "order": null,
            "_view_module_version": "1.2.0",
            "grid_template_areas": null,
            "object_position": null,
            "object_fit": null,
            "grid_auto_columns": null,
            "margin": null,
            "display": null,
            "left": null
          }
        },
        "5885d7d9c0534ea8a69ab6ffb6e8e4ca": {
          "model_module": "@jupyter-widgets/controls",
          "model_name": "HBoxModel",
          "state": {
            "_view_name": "HBoxView",
            "_dom_classes": [],
            "_model_name": "HBoxModel",
            "_view_module": "@jupyter-widgets/controls",
            "_model_module_version": "1.5.0",
            "_view_count": null,
            "_view_module_version": "1.5.0",
            "box_style": "",
            "layout": "IPY_MODEL_cff0c8b7ac4f46de97b2d0df06954e4f",
            "_model_module": "@jupyter-widgets/controls",
            "children": [
              "IPY_MODEL_aa8f6ac0bf114cf798551a87eb6536d8",
              "IPY_MODEL_fb860905d173410cbfb8cf90a4c4a3e9"
            ]
          }
        },
        "cff0c8b7ac4f46de97b2d0df06954e4f": {
          "model_module": "@jupyter-widgets/base",
          "model_name": "LayoutModel",
          "state": {
            "_view_name": "LayoutView",
            "grid_template_rows": null,
            "right": null,
            "justify_content": null,
            "_view_module": "@jupyter-widgets/base",
            "overflow": null,
            "_model_module_version": "1.2.0",
            "_view_count": null,
            "flex_flow": null,
            "width": null,
            "min_width": null,
            "border": null,
            "align_items": null,
            "bottom": null,
            "_model_module": "@jupyter-widgets/base",
            "top": null,
            "grid_column": null,
            "overflow_y": null,
            "overflow_x": null,
            "grid_auto_flow": null,
            "grid_area": null,
            "grid_template_columns": null,
            "flex": null,
            "_model_name": "LayoutModel",
            "justify_items": null,
            "grid_row": null,
            "max_height": null,
            "align_content": null,
            "visibility": null,
            "align_self": null,
            "height": null,
            "min_height": null,
            "padding": null,
            "grid_auto_rows": null,
            "grid_gap": null,
            "max_width": null,
            "order": null,
            "_view_module_version": "1.2.0",
            "grid_template_areas": null,
            "object_position": null,
            "object_fit": null,
            "grid_auto_columns": null,
            "margin": null,
            "display": null,
            "left": null
          }
        },
        "aa8f6ac0bf114cf798551a87eb6536d8": {
          "model_module": "@jupyter-widgets/controls",
          "model_name": "FloatProgressModel",
          "state": {
            "_view_name": "ProgressView",
            "style": "IPY_MODEL_f19dc348ac1546e48be76c894e984767",
            "_dom_classes": [],
            "description": "100%",
            "_model_name": "FloatProgressModel",
            "bar_style": "success",
            "max": 14241,
            "_view_module": "@jupyter-widgets/controls",
            "_model_module_version": "1.5.0",
            "value": 14241,
            "_view_count": null,
            "_view_module_version": "1.5.0",
            "orientation": "horizontal",
            "min": 0,
            "description_tooltip": null,
            "_model_module": "@jupyter-widgets/controls",
            "layout": "IPY_MODEL_3e44911f8e4440c78f607e98983163fb"
          }
        },
        "fb860905d173410cbfb8cf90a4c4a3e9": {
          "model_module": "@jupyter-widgets/controls",
          "model_name": "HTMLModel",
          "state": {
            "_view_name": "HTMLView",
            "style": "IPY_MODEL_b70b461382584acaaafe30d1b57b00ba",
            "_dom_classes": [],
            "description": "",
            "_model_name": "HTMLModel",
            "placeholder": "​",
            "_view_module": "@jupyter-widgets/controls",
            "_model_module_version": "1.5.0",
            "value": " 14241/14241 [00:00&lt;00:00, 47685.11it/s]",
            "_view_count": null,
            "_view_module_version": "1.5.0",
            "description_tooltip": null,
            "_model_module": "@jupyter-widgets/controls",
            "layout": "IPY_MODEL_18f3d8680a8c4b40a06602ba08dfb7bf"
          }
        },
        "f19dc348ac1546e48be76c894e984767": {
          "model_module": "@jupyter-widgets/controls",
          "model_name": "ProgressStyleModel",
          "state": {
            "_view_name": "StyleView",
            "_model_name": "ProgressStyleModel",
            "description_width": "initial",
            "_view_module": "@jupyter-widgets/base",
            "_model_module_version": "1.5.0",
            "_view_count": null,
            "_view_module_version": "1.2.0",
            "bar_color": null,
            "_model_module": "@jupyter-widgets/controls"
          }
        },
        "3e44911f8e4440c78f607e98983163fb": {
          "model_module": "@jupyter-widgets/base",
          "model_name": "LayoutModel",
          "state": {
            "_view_name": "LayoutView",
            "grid_template_rows": null,
            "right": null,
            "justify_content": null,
            "_view_module": "@jupyter-widgets/base",
            "overflow": null,
            "_model_module_version": "1.2.0",
            "_view_count": null,
            "flex_flow": null,
            "width": null,
            "min_width": null,
            "border": null,
            "align_items": null,
            "bottom": null,
            "_model_module": "@jupyter-widgets/base",
            "top": null,
            "grid_column": null,
            "overflow_y": null,
            "overflow_x": null,
            "grid_auto_flow": null,
            "grid_area": null,
            "grid_template_columns": null,
            "flex": null,
            "_model_name": "LayoutModel",
            "justify_items": null,
            "grid_row": null,
            "max_height": null,
            "align_content": null,
            "visibility": null,
            "align_self": null,
            "height": null,
            "min_height": null,
            "padding": null,
            "grid_auto_rows": null,
            "grid_gap": null,
            "max_width": null,
            "order": null,
            "_view_module_version": "1.2.0",
            "grid_template_areas": null,
            "object_position": null,
            "object_fit": null,
            "grid_auto_columns": null,
            "margin": null,
            "display": null,
            "left": null
          }
        },
        "b70b461382584acaaafe30d1b57b00ba": {
          "model_module": "@jupyter-widgets/controls",
          "model_name": "DescriptionStyleModel",
          "state": {
            "_view_name": "StyleView",
            "_model_name": "DescriptionStyleModel",
            "description_width": "",
            "_view_module": "@jupyter-widgets/base",
            "_model_module_version": "1.5.0",
            "_view_count": null,
            "_view_module_version": "1.2.0",
            "_model_module": "@jupyter-widgets/controls"
          }
        },
        "18f3d8680a8c4b40a06602ba08dfb7bf": {
          "model_module": "@jupyter-widgets/base",
          "model_name": "LayoutModel",
          "state": {
            "_view_name": "LayoutView",
            "grid_template_rows": null,
            "right": null,
            "justify_content": null,
            "_view_module": "@jupyter-widgets/base",
            "overflow": null,
            "_model_module_version": "1.2.0",
            "_view_count": null,
            "flex_flow": null,
            "width": null,
            "min_width": null,
            "border": null,
            "align_items": null,
            "bottom": null,
            "_model_module": "@jupyter-widgets/base",
            "top": null,
            "grid_column": null,
            "overflow_y": null,
            "overflow_x": null,
            "grid_auto_flow": null,
            "grid_area": null,
            "grid_template_columns": null,
            "flex": null,
            "_model_name": "LayoutModel",
            "justify_items": null,
            "grid_row": null,
            "max_height": null,
            "align_content": null,
            "visibility": null,
            "align_self": null,
            "height": null,
            "min_height": null,
            "padding": null,
            "grid_auto_rows": null,
            "grid_gap": null,
            "max_width": null,
            "order": null,
            "_view_module_version": "1.2.0",
            "grid_template_areas": null,
            "object_position": null,
            "object_fit": null,
            "grid_auto_columns": null,
            "margin": null,
            "display": null,
            "left": null
          }
        },
        "a4d35d69e4654624affc004af345a9f8": {
          "model_module": "@jupyter-widgets/controls",
          "model_name": "HBoxModel",
          "state": {
            "_view_name": "HBoxView",
            "_dom_classes": [],
            "_model_name": "HBoxModel",
            "_view_module": "@jupyter-widgets/controls",
            "_model_module_version": "1.5.0",
            "_view_count": null,
            "_view_module_version": "1.5.0",
            "box_style": "",
            "layout": "IPY_MODEL_9530dee61917437dae87ea9aa89b3be0",
            "_model_module": "@jupyter-widgets/controls",
            "children": [
              "IPY_MODEL_885f0b3713e7477b950f4cf967b55eeb",
              "IPY_MODEL_21f71781c9184e6c9eb3ae11f50831d7"
            ]
          }
        },
        "9530dee61917437dae87ea9aa89b3be0": {
          "model_module": "@jupyter-widgets/base",
          "model_name": "LayoutModel",
          "state": {
            "_view_name": "LayoutView",
            "grid_template_rows": null,
            "right": null,
            "justify_content": null,
            "_view_module": "@jupyter-widgets/base",
            "overflow": null,
            "_model_module_version": "1.2.0",
            "_view_count": null,
            "flex_flow": null,
            "width": null,
            "min_width": null,
            "border": null,
            "align_items": null,
            "bottom": null,
            "_model_module": "@jupyter-widgets/base",
            "top": null,
            "grid_column": null,
            "overflow_y": null,
            "overflow_x": null,
            "grid_auto_flow": null,
            "grid_area": null,
            "grid_template_columns": null,
            "flex": null,
            "_model_name": "LayoutModel",
            "justify_items": null,
            "grid_row": null,
            "max_height": null,
            "align_content": null,
            "visibility": null,
            "align_self": null,
            "height": null,
            "min_height": null,
            "padding": null,
            "grid_auto_rows": null,
            "grid_gap": null,
            "max_width": null,
            "order": null,
            "_view_module_version": "1.2.0",
            "grid_template_areas": null,
            "object_position": null,
            "object_fit": null,
            "grid_auto_columns": null,
            "margin": null,
            "display": null,
            "left": null
          }
        },
        "885f0b3713e7477b950f4cf967b55eeb": {
          "model_module": "@jupyter-widgets/controls",
          "model_name": "FloatProgressModel",
          "state": {
            "_view_name": "ProgressView",
            "style": "IPY_MODEL_d85287ffbf1d401ea01734b54a03ad0e",
            "_dom_classes": [],
            "description": "100%",
            "_model_name": "FloatProgressModel",
            "bar_style": "success",
            "max": 14241,
            "_view_module": "@jupyter-widgets/controls",
            "_model_module_version": "1.5.0",
            "value": 14241,
            "_view_count": null,
            "_view_module_version": "1.5.0",
            "orientation": "horizontal",
            "min": 0,
            "description_tooltip": null,
            "_model_module": "@jupyter-widgets/controls",
            "layout": "IPY_MODEL_ff7df8559bb344cebabd572a23086efc"
          }
        },
        "21f71781c9184e6c9eb3ae11f50831d7": {
          "model_module": "@jupyter-widgets/controls",
          "model_name": "HTMLModel",
          "state": {
            "_view_name": "HTMLView",
            "style": "IPY_MODEL_b5bd74f38b86494eb84ecdf8a2680cf8",
            "_dom_classes": [],
            "description": "",
            "_model_name": "HTMLModel",
            "placeholder": "​",
            "_view_module": "@jupyter-widgets/controls",
            "_model_module_version": "1.5.0",
            "value": " 14241/14241 [00:03&lt;00:00, 3805.22it/s]",
            "_view_count": null,
            "_view_module_version": "1.5.0",
            "description_tooltip": null,
            "_model_module": "@jupyter-widgets/controls",
            "layout": "IPY_MODEL_c2bc3f2e8ab64615bbeb1815a2e923eb"
          }
        },
        "d85287ffbf1d401ea01734b54a03ad0e": {
          "model_module": "@jupyter-widgets/controls",
          "model_name": "ProgressStyleModel",
          "state": {
            "_view_name": "StyleView",
            "_model_name": "ProgressStyleModel",
            "description_width": "initial",
            "_view_module": "@jupyter-widgets/base",
            "_model_module_version": "1.5.0",
            "_view_count": null,
            "_view_module_version": "1.2.0",
            "bar_color": null,
            "_model_module": "@jupyter-widgets/controls"
          }
        },
        "ff7df8559bb344cebabd572a23086efc": {
          "model_module": "@jupyter-widgets/base",
          "model_name": "LayoutModel",
          "state": {
            "_view_name": "LayoutView",
            "grid_template_rows": null,
            "right": null,
            "justify_content": null,
            "_view_module": "@jupyter-widgets/base",
            "overflow": null,
            "_model_module_version": "1.2.0",
            "_view_count": null,
            "flex_flow": null,
            "width": null,
            "min_width": null,
            "border": null,
            "align_items": null,
            "bottom": null,
            "_model_module": "@jupyter-widgets/base",
            "top": null,
            "grid_column": null,
            "overflow_y": null,
            "overflow_x": null,
            "grid_auto_flow": null,
            "grid_area": null,
            "grid_template_columns": null,
            "flex": null,
            "_model_name": "LayoutModel",
            "justify_items": null,
            "grid_row": null,
            "max_height": null,
            "align_content": null,
            "visibility": null,
            "align_self": null,
            "height": null,
            "min_height": null,
            "padding": null,
            "grid_auto_rows": null,
            "grid_gap": null,
            "max_width": null,
            "order": null,
            "_view_module_version": "1.2.0",
            "grid_template_areas": null,
            "object_position": null,
            "object_fit": null,
            "grid_auto_columns": null,
            "margin": null,
            "display": null,
            "left": null
          }
        },
        "b5bd74f38b86494eb84ecdf8a2680cf8": {
          "model_module": "@jupyter-widgets/controls",
          "model_name": "DescriptionStyleModel",
          "state": {
            "_view_name": "StyleView",
            "_model_name": "DescriptionStyleModel",
            "description_width": "",
            "_view_module": "@jupyter-widgets/base",
            "_model_module_version": "1.5.0",
            "_view_count": null,
            "_view_module_version": "1.2.0",
            "_model_module": "@jupyter-widgets/controls"
          }
        },
        "c2bc3f2e8ab64615bbeb1815a2e923eb": {
          "model_module": "@jupyter-widgets/base",
          "model_name": "LayoutModel",
          "state": {
            "_view_name": "LayoutView",
            "grid_template_rows": null,
            "right": null,
            "justify_content": null,
            "_view_module": "@jupyter-widgets/base",
            "overflow": null,
            "_model_module_version": "1.2.0",
            "_view_count": null,
            "flex_flow": null,
            "width": null,
            "min_width": null,
            "border": null,
            "align_items": null,
            "bottom": null,
            "_model_module": "@jupyter-widgets/base",
            "top": null,
            "grid_column": null,
            "overflow_y": null,
            "overflow_x": null,
            "grid_auto_flow": null,
            "grid_area": null,
            "grid_template_columns": null,
            "flex": null,
            "_model_name": "LayoutModel",
            "justify_items": null,
            "grid_row": null,
            "max_height": null,
            "align_content": null,
            "visibility": null,
            "align_self": null,
            "height": null,
            "min_height": null,
            "padding": null,
            "grid_auto_rows": null,
            "grid_gap": null,
            "max_width": null,
            "order": null,
            "_view_module_version": "1.2.0",
            "grid_template_areas": null,
            "object_position": null,
            "object_fit": null,
            "grid_auto_columns": null,
            "margin": null,
            "display": null,
            "left": null
          }
        },
        "dd2e0b855273485783b4be46ada2751d": {
          "model_module": "@jupyter-widgets/controls",
          "model_name": "HBoxModel",
          "state": {
            "_view_name": "HBoxView",
            "_dom_classes": [],
            "_model_name": "HBoxModel",
            "_view_module": "@jupyter-widgets/controls",
            "_model_module_version": "1.5.0",
            "_view_count": null,
            "_view_module_version": "1.5.0",
            "box_style": "",
            "layout": "IPY_MODEL_c8d58f7b712f42f49e663834540cc49a",
            "_model_module": "@jupyter-widgets/controls",
            "children": [
              "IPY_MODEL_abc0b9b0c4f940fcbced26911a79c03c",
              "IPY_MODEL_9341c787d12d430da14b87b3313818b1"
            ]
          }
        },
        "c8d58f7b712f42f49e663834540cc49a": {
          "model_module": "@jupyter-widgets/base",
          "model_name": "LayoutModel",
          "state": {
            "_view_name": "LayoutView",
            "grid_template_rows": null,
            "right": null,
            "justify_content": null,
            "_view_module": "@jupyter-widgets/base",
            "overflow": null,
            "_model_module_version": "1.2.0",
            "_view_count": null,
            "flex_flow": null,
            "width": null,
            "min_width": null,
            "border": null,
            "align_items": null,
            "bottom": null,
            "_model_module": "@jupyter-widgets/base",
            "top": null,
            "grid_column": null,
            "overflow_y": null,
            "overflow_x": null,
            "grid_auto_flow": null,
            "grid_area": null,
            "grid_template_columns": null,
            "flex": null,
            "_model_name": "LayoutModel",
            "justify_items": null,
            "grid_row": null,
            "max_height": null,
            "align_content": null,
            "visibility": null,
            "align_self": null,
            "height": null,
            "min_height": null,
            "padding": null,
            "grid_auto_rows": null,
            "grid_gap": null,
            "max_width": null,
            "order": null,
            "_view_module_version": "1.2.0",
            "grid_template_areas": null,
            "object_position": null,
            "object_fit": null,
            "grid_auto_columns": null,
            "margin": null,
            "display": null,
            "left": null
          }
        },
        "abc0b9b0c4f940fcbced26911a79c03c": {
          "model_module": "@jupyter-widgets/controls",
          "model_name": "FloatProgressModel",
          "state": {
            "_view_name": "ProgressView",
            "style": "IPY_MODEL_b6f14c52636b455886b8cf4e75d3efd3",
            "_dom_classes": [],
            "description": "100%",
            "_model_name": "FloatProgressModel",
            "bar_style": "success",
            "max": 14241,
            "_view_module": "@jupyter-widgets/controls",
            "_model_module_version": "1.5.0",
            "value": 14241,
            "_view_count": null,
            "_view_module_version": "1.5.0",
            "orientation": "horizontal",
            "min": 0,
            "description_tooltip": null,
            "_model_module": "@jupyter-widgets/controls",
            "layout": "IPY_MODEL_5cf198449d0b45669ff7522080690848"
          }
        },
        "9341c787d12d430da14b87b3313818b1": {
          "model_module": "@jupyter-widgets/controls",
          "model_name": "HTMLModel",
          "state": {
            "_view_name": "HTMLView",
            "style": "IPY_MODEL_b3fe96fb7bdb4c6d9862f42308fb42fa",
            "_dom_classes": [],
            "description": "",
            "_model_name": "HTMLModel",
            "placeholder": "​",
            "_view_module": "@jupyter-widgets/controls",
            "_model_module_version": "1.5.0",
            "value": " 14241/14241 [00:00&lt;00:00, 113748.79it/s]",
            "_view_count": null,
            "_view_module_version": "1.5.0",
            "description_tooltip": null,
            "_model_module": "@jupyter-widgets/controls",
            "layout": "IPY_MODEL_14feadd94cf6449483a22c7073722aa4"
          }
        },
        "b6f14c52636b455886b8cf4e75d3efd3": {
          "model_module": "@jupyter-widgets/controls",
          "model_name": "ProgressStyleModel",
          "state": {
            "_view_name": "StyleView",
            "_model_name": "ProgressStyleModel",
            "description_width": "initial",
            "_view_module": "@jupyter-widgets/base",
            "_model_module_version": "1.5.0",
            "_view_count": null,
            "_view_module_version": "1.2.0",
            "bar_color": null,
            "_model_module": "@jupyter-widgets/controls"
          }
        },
        "5cf198449d0b45669ff7522080690848": {
          "model_module": "@jupyter-widgets/base",
          "model_name": "LayoutModel",
          "state": {
            "_view_name": "LayoutView",
            "grid_template_rows": null,
            "right": null,
            "justify_content": null,
            "_view_module": "@jupyter-widgets/base",
            "overflow": null,
            "_model_module_version": "1.2.0",
            "_view_count": null,
            "flex_flow": null,
            "width": null,
            "min_width": null,
            "border": null,
            "align_items": null,
            "bottom": null,
            "_model_module": "@jupyter-widgets/base",
            "top": null,
            "grid_column": null,
            "overflow_y": null,
            "overflow_x": null,
            "grid_auto_flow": null,
            "grid_area": null,
            "grid_template_columns": null,
            "flex": null,
            "_model_name": "LayoutModel",
            "justify_items": null,
            "grid_row": null,
            "max_height": null,
            "align_content": null,
            "visibility": null,
            "align_self": null,
            "height": null,
            "min_height": null,
            "padding": null,
            "grid_auto_rows": null,
            "grid_gap": null,
            "max_width": null,
            "order": null,
            "_view_module_version": "1.2.0",
            "grid_template_areas": null,
            "object_position": null,
            "object_fit": null,
            "grid_auto_columns": null,
            "margin": null,
            "display": null,
            "left": null
          }
        },
        "b3fe96fb7bdb4c6d9862f42308fb42fa": {
          "model_module": "@jupyter-widgets/controls",
          "model_name": "DescriptionStyleModel",
          "state": {
            "_view_name": "StyleView",
            "_model_name": "DescriptionStyleModel",
            "description_width": "",
            "_view_module": "@jupyter-widgets/base",
            "_model_module_version": "1.5.0",
            "_view_count": null,
            "_view_module_version": "1.2.0",
            "_model_module": "@jupyter-widgets/controls"
          }
        },
        "14feadd94cf6449483a22c7073722aa4": {
          "model_module": "@jupyter-widgets/base",
          "model_name": "LayoutModel",
          "state": {
            "_view_name": "LayoutView",
            "grid_template_rows": null,
            "right": null,
            "justify_content": null,
            "_view_module": "@jupyter-widgets/base",
            "overflow": null,
            "_model_module_version": "1.2.0",
            "_view_count": null,
            "flex_flow": null,
            "width": null,
            "min_width": null,
            "border": null,
            "align_items": null,
            "bottom": null,
            "_model_module": "@jupyter-widgets/base",
            "top": null,
            "grid_column": null,
            "overflow_y": null,
            "overflow_x": null,
            "grid_auto_flow": null,
            "grid_area": null,
            "grid_template_columns": null,
            "flex": null,
            "_model_name": "LayoutModel",
            "justify_items": null,
            "grid_row": null,
            "max_height": null,
            "align_content": null,
            "visibility": null,
            "align_self": null,
            "height": null,
            "min_height": null,
            "padding": null,
            "grid_auto_rows": null,
            "grid_gap": null,
            "max_width": null,
            "order": null,
            "_view_module_version": "1.2.0",
            "grid_template_areas": null,
            "object_position": null,
            "object_fit": null,
            "grid_auto_columns": null,
            "margin": null,
            "display": null,
            "left": null
          }
        },
        "44918d9c4a814e67abf8c68cb0e378ff": {
          "model_module": "@jupyter-widgets/controls",
          "model_name": "HBoxModel",
          "state": {
            "_view_name": "HBoxView",
            "_dom_classes": [],
            "_model_name": "HBoxModel",
            "_view_module": "@jupyter-widgets/controls",
            "_model_module_version": "1.5.0",
            "_view_count": null,
            "_view_module_version": "1.5.0",
            "box_style": "",
            "layout": "IPY_MODEL_9c423f8ff81146b2bc093213e0c3187d",
            "_model_module": "@jupyter-widgets/controls",
            "children": [
              "IPY_MODEL_37c5061c524f42e59291b68f97f30a5b",
              "IPY_MODEL_abda2b3f10454e0d84683b249ef9afcb"
            ]
          }
        },
        "9c423f8ff81146b2bc093213e0c3187d": {
          "model_module": "@jupyter-widgets/base",
          "model_name": "LayoutModel",
          "state": {
            "_view_name": "LayoutView",
            "grid_template_rows": null,
            "right": null,
            "justify_content": null,
            "_view_module": "@jupyter-widgets/base",
            "overflow": null,
            "_model_module_version": "1.2.0",
            "_view_count": null,
            "flex_flow": null,
            "width": null,
            "min_width": null,
            "border": null,
            "align_items": null,
            "bottom": null,
            "_model_module": "@jupyter-widgets/base",
            "top": null,
            "grid_column": null,
            "overflow_y": null,
            "overflow_x": null,
            "grid_auto_flow": null,
            "grid_area": null,
            "grid_template_columns": null,
            "flex": null,
            "_model_name": "LayoutModel",
            "justify_items": null,
            "grid_row": null,
            "max_height": null,
            "align_content": null,
            "visibility": null,
            "align_self": null,
            "height": null,
            "min_height": null,
            "padding": null,
            "grid_auto_rows": null,
            "grid_gap": null,
            "max_width": null,
            "order": null,
            "_view_module_version": "1.2.0",
            "grid_template_areas": null,
            "object_position": null,
            "object_fit": null,
            "grid_auto_columns": null,
            "margin": null,
            "display": null,
            "left": null
          }
        },
        "37c5061c524f42e59291b68f97f30a5b": {
          "model_module": "@jupyter-widgets/controls",
          "model_name": "FloatProgressModel",
          "state": {
            "_view_name": "ProgressView",
            "style": "IPY_MODEL_14856d524985471e815e77d06313e13e",
            "_dom_classes": [],
            "description": "100%",
            "_model_name": "FloatProgressModel",
            "bar_style": "success",
            "max": 14241,
            "_view_module": "@jupyter-widgets/controls",
            "_model_module_version": "1.5.0",
            "value": 14241,
            "_view_count": null,
            "_view_module_version": "1.5.0",
            "orientation": "horizontal",
            "min": 0,
            "description_tooltip": null,
            "_model_module": "@jupyter-widgets/controls",
            "layout": "IPY_MODEL_d5a31d8699174059a5c5b31e55f74c90"
          }
        },
        "abda2b3f10454e0d84683b249ef9afcb": {
          "model_module": "@jupyter-widgets/controls",
          "model_name": "HTMLModel",
          "state": {
            "_view_name": "HTMLView",
            "style": "IPY_MODEL_76cd6400b13a42a0a9f5a3ced3febd76",
            "_dom_classes": [],
            "description": "",
            "_model_name": "HTMLModel",
            "placeholder": "​",
            "_view_module": "@jupyter-widgets/controls",
            "_model_module_version": "1.5.0",
            "value": " 14241/14241 [00:03&lt;00:00, 3560.48it/s]",
            "_view_count": null,
            "_view_module_version": "1.5.0",
            "description_tooltip": null,
            "_model_module": "@jupyter-widgets/controls",
            "layout": "IPY_MODEL_75143e2503ba4473a22263658331b582"
          }
        },
        "14856d524985471e815e77d06313e13e": {
          "model_module": "@jupyter-widgets/controls",
          "model_name": "ProgressStyleModel",
          "state": {
            "_view_name": "StyleView",
            "_model_name": "ProgressStyleModel",
            "description_width": "initial",
            "_view_module": "@jupyter-widgets/base",
            "_model_module_version": "1.5.0",
            "_view_count": null,
            "_view_module_version": "1.2.0",
            "bar_color": null,
            "_model_module": "@jupyter-widgets/controls"
          }
        },
        "d5a31d8699174059a5c5b31e55f74c90": {
          "model_module": "@jupyter-widgets/base",
          "model_name": "LayoutModel",
          "state": {
            "_view_name": "LayoutView",
            "grid_template_rows": null,
            "right": null,
            "justify_content": null,
            "_view_module": "@jupyter-widgets/base",
            "overflow": null,
            "_model_module_version": "1.2.0",
            "_view_count": null,
            "flex_flow": null,
            "width": null,
            "min_width": null,
            "border": null,
            "align_items": null,
            "bottom": null,
            "_model_module": "@jupyter-widgets/base",
            "top": null,
            "grid_column": null,
            "overflow_y": null,
            "overflow_x": null,
            "grid_auto_flow": null,
            "grid_area": null,
            "grid_template_columns": null,
            "flex": null,
            "_model_name": "LayoutModel",
            "justify_items": null,
            "grid_row": null,
            "max_height": null,
            "align_content": null,
            "visibility": null,
            "align_self": null,
            "height": null,
            "min_height": null,
            "padding": null,
            "grid_auto_rows": null,
            "grid_gap": null,
            "max_width": null,
            "order": null,
            "_view_module_version": "1.2.0",
            "grid_template_areas": null,
            "object_position": null,
            "object_fit": null,
            "grid_auto_columns": null,
            "margin": null,
            "display": null,
            "left": null
          }
        },
        "76cd6400b13a42a0a9f5a3ced3febd76": {
          "model_module": "@jupyter-widgets/controls",
          "model_name": "DescriptionStyleModel",
          "state": {
            "_view_name": "StyleView",
            "_model_name": "DescriptionStyleModel",
            "description_width": "",
            "_view_module": "@jupyter-widgets/base",
            "_model_module_version": "1.5.0",
            "_view_count": null,
            "_view_module_version": "1.2.0",
            "_model_module": "@jupyter-widgets/controls"
          }
        },
        "75143e2503ba4473a22263658331b582": {
          "model_module": "@jupyter-widgets/base",
          "model_name": "LayoutModel",
          "state": {
            "_view_name": "LayoutView",
            "grid_template_rows": null,
            "right": null,
            "justify_content": null,
            "_view_module": "@jupyter-widgets/base",
            "overflow": null,
            "_model_module_version": "1.2.0",
            "_view_count": null,
            "flex_flow": null,
            "width": null,
            "min_width": null,
            "border": null,
            "align_items": null,
            "bottom": null,
            "_model_module": "@jupyter-widgets/base",
            "top": null,
            "grid_column": null,
            "overflow_y": null,
            "overflow_x": null,
            "grid_auto_flow": null,
            "grid_area": null,
            "grid_template_columns": null,
            "flex": null,
            "_model_name": "LayoutModel",
            "justify_items": null,
            "grid_row": null,
            "max_height": null,
            "align_content": null,
            "visibility": null,
            "align_self": null,
            "height": null,
            "min_height": null,
            "padding": null,
            "grid_auto_rows": null,
            "grid_gap": null,
            "max_width": null,
            "order": null,
            "_view_module_version": "1.2.0",
            "grid_template_areas": null,
            "object_position": null,
            "object_fit": null,
            "grid_auto_columns": null,
            "margin": null,
            "display": null,
            "left": null
          }
        },
        "6474f5e7c5a4423e80dcad42384e833e": {
          "model_module": "@jupyter-widgets/controls",
          "model_name": "HBoxModel",
          "state": {
            "_view_name": "HBoxView",
            "_dom_classes": [],
            "_model_name": "HBoxModel",
            "_view_module": "@jupyter-widgets/controls",
            "_model_module_version": "1.5.0",
            "_view_count": null,
            "_view_module_version": "1.5.0",
            "box_style": "",
            "layout": "IPY_MODEL_f4092596fa494ee38403d40647734c94",
            "_model_module": "@jupyter-widgets/controls",
            "children": [
              "IPY_MODEL_9b8071cc23a841038091b8894906be4a",
              "IPY_MODEL_58c02b27f6d94512997956c81b709b1b"
            ]
          }
        },
        "f4092596fa494ee38403d40647734c94": {
          "model_module": "@jupyter-widgets/base",
          "model_name": "LayoutModel",
          "state": {
            "_view_name": "LayoutView",
            "grid_template_rows": null,
            "right": null,
            "justify_content": null,
            "_view_module": "@jupyter-widgets/base",
            "overflow": null,
            "_model_module_version": "1.2.0",
            "_view_count": null,
            "flex_flow": null,
            "width": null,
            "min_width": null,
            "border": null,
            "align_items": null,
            "bottom": null,
            "_model_module": "@jupyter-widgets/base",
            "top": null,
            "grid_column": null,
            "overflow_y": null,
            "overflow_x": null,
            "grid_auto_flow": null,
            "grid_area": null,
            "grid_template_columns": null,
            "flex": null,
            "_model_name": "LayoutModel",
            "justify_items": null,
            "grid_row": null,
            "max_height": null,
            "align_content": null,
            "visibility": null,
            "align_self": null,
            "height": null,
            "min_height": null,
            "padding": null,
            "grid_auto_rows": null,
            "grid_gap": null,
            "max_width": null,
            "order": null,
            "_view_module_version": "1.2.0",
            "grid_template_areas": null,
            "object_position": null,
            "object_fit": null,
            "grid_auto_columns": null,
            "margin": null,
            "display": null,
            "left": null
          }
        },
        "9b8071cc23a841038091b8894906be4a": {
          "model_module": "@jupyter-widgets/controls",
          "model_name": "FloatProgressModel",
          "state": {
            "_view_name": "ProgressView",
            "style": "IPY_MODEL_f686c79efeba4f7892b3a03025d24d7c",
            "_dom_classes": [],
            "description": "100%",
            "_model_name": "FloatProgressModel",
            "bar_style": "success",
            "max": 14241,
            "_view_module": "@jupyter-widgets/controls",
            "_model_module_version": "1.5.0",
            "value": 14241,
            "_view_count": null,
            "_view_module_version": "1.5.0",
            "orientation": "horizontal",
            "min": 0,
            "description_tooltip": null,
            "_model_module": "@jupyter-widgets/controls",
            "layout": "IPY_MODEL_a373f740f4604ade9f4e026fe8aecb94"
          }
        },
        "58c02b27f6d94512997956c81b709b1b": {
          "model_module": "@jupyter-widgets/controls",
          "model_name": "HTMLModel",
          "state": {
            "_view_name": "HTMLView",
            "style": "IPY_MODEL_d920d7f65d5a48218aa9b2b2bce8bef1",
            "_dom_classes": [],
            "description": "",
            "_model_name": "HTMLModel",
            "placeholder": "​",
            "_view_module": "@jupyter-widgets/controls",
            "_model_module_version": "1.5.0",
            "value": " 14241/14241 [00:00&lt;00:00, 63810.35it/s]",
            "_view_count": null,
            "_view_module_version": "1.5.0",
            "description_tooltip": null,
            "_model_module": "@jupyter-widgets/controls",
            "layout": "IPY_MODEL_e66e0e7a9ae34699a953b44fe5281155"
          }
        },
        "f686c79efeba4f7892b3a03025d24d7c": {
          "model_module": "@jupyter-widgets/controls",
          "model_name": "ProgressStyleModel",
          "state": {
            "_view_name": "StyleView",
            "_model_name": "ProgressStyleModel",
            "description_width": "initial",
            "_view_module": "@jupyter-widgets/base",
            "_model_module_version": "1.5.0",
            "_view_count": null,
            "_view_module_version": "1.2.0",
            "bar_color": null,
            "_model_module": "@jupyter-widgets/controls"
          }
        },
        "a373f740f4604ade9f4e026fe8aecb94": {
          "model_module": "@jupyter-widgets/base",
          "model_name": "LayoutModel",
          "state": {
            "_view_name": "LayoutView",
            "grid_template_rows": null,
            "right": null,
            "justify_content": null,
            "_view_module": "@jupyter-widgets/base",
            "overflow": null,
            "_model_module_version": "1.2.0",
            "_view_count": null,
            "flex_flow": null,
            "width": null,
            "min_width": null,
            "border": null,
            "align_items": null,
            "bottom": null,
            "_model_module": "@jupyter-widgets/base",
            "top": null,
            "grid_column": null,
            "overflow_y": null,
            "overflow_x": null,
            "grid_auto_flow": null,
            "grid_area": null,
            "grid_template_columns": null,
            "flex": null,
            "_model_name": "LayoutModel",
            "justify_items": null,
            "grid_row": null,
            "max_height": null,
            "align_content": null,
            "visibility": null,
            "align_self": null,
            "height": null,
            "min_height": null,
            "padding": null,
            "grid_auto_rows": null,
            "grid_gap": null,
            "max_width": null,
            "order": null,
            "_view_module_version": "1.2.0",
            "grid_template_areas": null,
            "object_position": null,
            "object_fit": null,
            "grid_auto_columns": null,
            "margin": null,
            "display": null,
            "left": null
          }
        },
        "d920d7f65d5a48218aa9b2b2bce8bef1": {
          "model_module": "@jupyter-widgets/controls",
          "model_name": "DescriptionStyleModel",
          "state": {
            "_view_name": "StyleView",
            "_model_name": "DescriptionStyleModel",
            "description_width": "",
            "_view_module": "@jupyter-widgets/base",
            "_model_module_version": "1.5.0",
            "_view_count": null,
            "_view_module_version": "1.2.0",
            "_model_module": "@jupyter-widgets/controls"
          }
        },
        "e66e0e7a9ae34699a953b44fe5281155": {
          "model_module": "@jupyter-widgets/base",
          "model_name": "LayoutModel",
          "state": {
            "_view_name": "LayoutView",
            "grid_template_rows": null,
            "right": null,
            "justify_content": null,
            "_view_module": "@jupyter-widgets/base",
            "overflow": null,
            "_model_module_version": "1.2.0",
            "_view_count": null,
            "flex_flow": null,
            "width": null,
            "min_width": null,
            "border": null,
            "align_items": null,
            "bottom": null,
            "_model_module": "@jupyter-widgets/base",
            "top": null,
            "grid_column": null,
            "overflow_y": null,
            "overflow_x": null,
            "grid_auto_flow": null,
            "grid_area": null,
            "grid_template_columns": null,
            "flex": null,
            "_model_name": "LayoutModel",
            "justify_items": null,
            "grid_row": null,
            "max_height": null,
            "align_content": null,
            "visibility": null,
            "align_self": null,
            "height": null,
            "min_height": null,
            "padding": null,
            "grid_auto_rows": null,
            "grid_gap": null,
            "max_width": null,
            "order": null,
            "_view_module_version": "1.2.0",
            "grid_template_areas": null,
            "object_position": null,
            "object_fit": null,
            "grid_auto_columns": null,
            "margin": null,
            "display": null,
            "left": null
          }
        },
        "b9421611bf1f49528d9b821d0632a62e": {
          "model_module": "@jupyter-widgets/controls",
          "model_name": "HBoxModel",
          "state": {
            "_view_name": "HBoxView",
            "_dom_classes": [],
            "_model_name": "HBoxModel",
            "_view_module": "@jupyter-widgets/controls",
            "_model_module_version": "1.5.0",
            "_view_count": null,
            "_view_module_version": "1.5.0",
            "box_style": "",
            "layout": "IPY_MODEL_b17210ed18cd4d06ad861486ca526a6a",
            "_model_module": "@jupyter-widgets/controls",
            "children": [
              "IPY_MODEL_2ccefd2ba34848b8abee84ff80bc29f1",
              "IPY_MODEL_afcc745249ff416fbc979f4ce7868d9e"
            ]
          }
        },
        "b17210ed18cd4d06ad861486ca526a6a": {
          "model_module": "@jupyter-widgets/base",
          "model_name": "LayoutModel",
          "state": {
            "_view_name": "LayoutView",
            "grid_template_rows": null,
            "right": null,
            "justify_content": null,
            "_view_module": "@jupyter-widgets/base",
            "overflow": null,
            "_model_module_version": "1.2.0",
            "_view_count": null,
            "flex_flow": null,
            "width": null,
            "min_width": null,
            "border": null,
            "align_items": null,
            "bottom": null,
            "_model_module": "@jupyter-widgets/base",
            "top": null,
            "grid_column": null,
            "overflow_y": null,
            "overflow_x": null,
            "grid_auto_flow": null,
            "grid_area": null,
            "grid_template_columns": null,
            "flex": null,
            "_model_name": "LayoutModel",
            "justify_items": null,
            "grid_row": null,
            "max_height": null,
            "align_content": null,
            "visibility": null,
            "align_self": null,
            "height": null,
            "min_height": null,
            "padding": null,
            "grid_auto_rows": null,
            "grid_gap": null,
            "max_width": null,
            "order": null,
            "_view_module_version": "1.2.0",
            "grid_template_areas": null,
            "object_position": null,
            "object_fit": null,
            "grid_auto_columns": null,
            "margin": null,
            "display": null,
            "left": null
          }
        },
        "2ccefd2ba34848b8abee84ff80bc29f1": {
          "model_module": "@jupyter-widgets/controls",
          "model_name": "FloatProgressModel",
          "state": {
            "_view_name": "ProgressView",
            "style": "IPY_MODEL_142db8b8afec46bf8b3c6c2469c61215",
            "_dom_classes": [],
            "description": "100%",
            "_model_name": "FloatProgressModel",
            "bar_style": "success",
            "max": 14241,
            "_view_module": "@jupyter-widgets/controls",
            "_model_module_version": "1.5.0",
            "value": 14241,
            "_view_count": null,
            "_view_module_version": "1.5.0",
            "orientation": "horizontal",
            "min": 0,
            "description_tooltip": null,
            "_model_module": "@jupyter-widgets/controls",
            "layout": "IPY_MODEL_dfdbdada5491433fbda8363617826c42"
          }
        },
        "afcc745249ff416fbc979f4ce7868d9e": {
          "model_module": "@jupyter-widgets/controls",
          "model_name": "HTMLModel",
          "state": {
            "_view_name": "HTMLView",
            "style": "IPY_MODEL_827a13739bb64408a62a289eac724f3e",
            "_dom_classes": [],
            "description": "",
            "_model_name": "HTMLModel",
            "placeholder": "​",
            "_view_module": "@jupyter-widgets/controls",
            "_model_module_version": "1.5.0",
            "value": " 14241/14241 [00:03&lt;00:00, 3971.12it/s]",
            "_view_count": null,
            "_view_module_version": "1.5.0",
            "description_tooltip": null,
            "_model_module": "@jupyter-widgets/controls",
            "layout": "IPY_MODEL_aa951188f6d4442e8e0705d64084603a"
          }
        },
        "142db8b8afec46bf8b3c6c2469c61215": {
          "model_module": "@jupyter-widgets/controls",
          "model_name": "ProgressStyleModel",
          "state": {
            "_view_name": "StyleView",
            "_model_name": "ProgressStyleModel",
            "description_width": "initial",
            "_view_module": "@jupyter-widgets/base",
            "_model_module_version": "1.5.0",
            "_view_count": null,
            "_view_module_version": "1.2.0",
            "bar_color": null,
            "_model_module": "@jupyter-widgets/controls"
          }
        },
        "dfdbdada5491433fbda8363617826c42": {
          "model_module": "@jupyter-widgets/base",
          "model_name": "LayoutModel",
          "state": {
            "_view_name": "LayoutView",
            "grid_template_rows": null,
            "right": null,
            "justify_content": null,
            "_view_module": "@jupyter-widgets/base",
            "overflow": null,
            "_model_module_version": "1.2.0",
            "_view_count": null,
            "flex_flow": null,
            "width": null,
            "min_width": null,
            "border": null,
            "align_items": null,
            "bottom": null,
            "_model_module": "@jupyter-widgets/base",
            "top": null,
            "grid_column": null,
            "overflow_y": null,
            "overflow_x": null,
            "grid_auto_flow": null,
            "grid_area": null,
            "grid_template_columns": null,
            "flex": null,
            "_model_name": "LayoutModel",
            "justify_items": null,
            "grid_row": null,
            "max_height": null,
            "align_content": null,
            "visibility": null,
            "align_self": null,
            "height": null,
            "min_height": null,
            "padding": null,
            "grid_auto_rows": null,
            "grid_gap": null,
            "max_width": null,
            "order": null,
            "_view_module_version": "1.2.0",
            "grid_template_areas": null,
            "object_position": null,
            "object_fit": null,
            "grid_auto_columns": null,
            "margin": null,
            "display": null,
            "left": null
          }
        },
        "827a13739bb64408a62a289eac724f3e": {
          "model_module": "@jupyter-widgets/controls",
          "model_name": "DescriptionStyleModel",
          "state": {
            "_view_name": "StyleView",
            "_model_name": "DescriptionStyleModel",
            "description_width": "",
            "_view_module": "@jupyter-widgets/base",
            "_model_module_version": "1.5.0",
            "_view_count": null,
            "_view_module_version": "1.2.0",
            "_model_module": "@jupyter-widgets/controls"
          }
        },
        "aa951188f6d4442e8e0705d64084603a": {
          "model_module": "@jupyter-widgets/base",
          "model_name": "LayoutModel",
          "state": {
            "_view_name": "LayoutView",
            "grid_template_rows": null,
            "right": null,
            "justify_content": null,
            "_view_module": "@jupyter-widgets/base",
            "overflow": null,
            "_model_module_version": "1.2.0",
            "_view_count": null,
            "flex_flow": null,
            "width": null,
            "min_width": null,
            "border": null,
            "align_items": null,
            "bottom": null,
            "_model_module": "@jupyter-widgets/base",
            "top": null,
            "grid_column": null,
            "overflow_y": null,
            "overflow_x": null,
            "grid_auto_flow": null,
            "grid_area": null,
            "grid_template_columns": null,
            "flex": null,
            "_model_name": "LayoutModel",
            "justify_items": null,
            "grid_row": null,
            "max_height": null,
            "align_content": null,
            "visibility": null,
            "align_self": null,
            "height": null,
            "min_height": null,
            "padding": null,
            "grid_auto_rows": null,
            "grid_gap": null,
            "max_width": null,
            "order": null,
            "_view_module_version": "1.2.0",
            "grid_template_areas": null,
            "object_position": null,
            "object_fit": null,
            "grid_auto_columns": null,
            "margin": null,
            "display": null,
            "left": null
          }
        },
        "72396caa1c56454d9216e42d5b37be6b": {
          "model_module": "@jupyter-widgets/controls",
          "model_name": "HBoxModel",
          "state": {
            "_view_name": "HBoxView",
            "_dom_classes": [],
            "_model_name": "HBoxModel",
            "_view_module": "@jupyter-widgets/controls",
            "_model_module_version": "1.5.0",
            "_view_count": null,
            "_view_module_version": "1.5.0",
            "box_style": "",
            "layout": "IPY_MODEL_2a05033c26834507b037232f505f5bdf",
            "_model_module": "@jupyter-widgets/controls",
            "children": [
              "IPY_MODEL_e72f61a260ea4d12956fc090e29150a0",
              "IPY_MODEL_144e182284f2468496b7d97369fea1d7"
            ]
          }
        },
        "2a05033c26834507b037232f505f5bdf": {
          "model_module": "@jupyter-widgets/base",
          "model_name": "LayoutModel",
          "state": {
            "_view_name": "LayoutView",
            "grid_template_rows": null,
            "right": null,
            "justify_content": null,
            "_view_module": "@jupyter-widgets/base",
            "overflow": null,
            "_model_module_version": "1.2.0",
            "_view_count": null,
            "flex_flow": null,
            "width": null,
            "min_width": null,
            "border": null,
            "align_items": null,
            "bottom": null,
            "_model_module": "@jupyter-widgets/base",
            "top": null,
            "grid_column": null,
            "overflow_y": null,
            "overflow_x": null,
            "grid_auto_flow": null,
            "grid_area": null,
            "grid_template_columns": null,
            "flex": null,
            "_model_name": "LayoutModel",
            "justify_items": null,
            "grid_row": null,
            "max_height": null,
            "align_content": null,
            "visibility": null,
            "align_self": null,
            "height": null,
            "min_height": null,
            "padding": null,
            "grid_auto_rows": null,
            "grid_gap": null,
            "max_width": null,
            "order": null,
            "_view_module_version": "1.2.0",
            "grid_template_areas": null,
            "object_position": null,
            "object_fit": null,
            "grid_auto_columns": null,
            "margin": null,
            "display": null,
            "left": null
          }
        },
        "e72f61a260ea4d12956fc090e29150a0": {
          "model_module": "@jupyter-widgets/controls",
          "model_name": "FloatProgressModel",
          "state": {
            "_view_name": "ProgressView",
            "style": "IPY_MODEL_745f17403d0545259a6d19c20c4e00d3",
            "_dom_classes": [],
            "description": "100%",
            "_model_name": "FloatProgressModel",
            "bar_style": "success",
            "max": 14241,
            "_view_module": "@jupyter-widgets/controls",
            "_model_module_version": "1.5.0",
            "value": 14241,
            "_view_count": null,
            "_view_module_version": "1.5.0",
            "orientation": "horizontal",
            "min": 0,
            "description_tooltip": null,
            "_model_module": "@jupyter-widgets/controls",
            "layout": "IPY_MODEL_d42f618f02ab4bf8bbbfb4ad607234ee"
          }
        },
        "144e182284f2468496b7d97369fea1d7": {
          "model_module": "@jupyter-widgets/controls",
          "model_name": "HTMLModel",
          "state": {
            "_view_name": "HTMLView",
            "style": "IPY_MODEL_459701be634b4522a50be3504d0e06d9",
            "_dom_classes": [],
            "description": "",
            "_model_name": "HTMLModel",
            "placeholder": "​",
            "_view_module": "@jupyter-widgets/controls",
            "_model_module_version": "1.5.0",
            "value": " 14241/14241 [00:00&lt;00:00, 96445.30it/s]",
            "_view_count": null,
            "_view_module_version": "1.5.0",
            "description_tooltip": null,
            "_model_module": "@jupyter-widgets/controls",
            "layout": "IPY_MODEL_eb8ea2f163cb4023b9eeaeffdacfb1ba"
          }
        },
        "745f17403d0545259a6d19c20c4e00d3": {
          "model_module": "@jupyter-widgets/controls",
          "model_name": "ProgressStyleModel",
          "state": {
            "_view_name": "StyleView",
            "_model_name": "ProgressStyleModel",
            "description_width": "initial",
            "_view_module": "@jupyter-widgets/base",
            "_model_module_version": "1.5.0",
            "_view_count": null,
            "_view_module_version": "1.2.0",
            "bar_color": null,
            "_model_module": "@jupyter-widgets/controls"
          }
        },
        "d42f618f02ab4bf8bbbfb4ad607234ee": {
          "model_module": "@jupyter-widgets/base",
          "model_name": "LayoutModel",
          "state": {
            "_view_name": "LayoutView",
            "grid_template_rows": null,
            "right": null,
            "justify_content": null,
            "_view_module": "@jupyter-widgets/base",
            "overflow": null,
            "_model_module_version": "1.2.0",
            "_view_count": null,
            "flex_flow": null,
            "width": null,
            "min_width": null,
            "border": null,
            "align_items": null,
            "bottom": null,
            "_model_module": "@jupyter-widgets/base",
            "top": null,
            "grid_column": null,
            "overflow_y": null,
            "overflow_x": null,
            "grid_auto_flow": null,
            "grid_area": null,
            "grid_template_columns": null,
            "flex": null,
            "_model_name": "LayoutModel",
            "justify_items": null,
            "grid_row": null,
            "max_height": null,
            "align_content": null,
            "visibility": null,
            "align_self": null,
            "height": null,
            "min_height": null,
            "padding": null,
            "grid_auto_rows": null,
            "grid_gap": null,
            "max_width": null,
            "order": null,
            "_view_module_version": "1.2.0",
            "grid_template_areas": null,
            "object_position": null,
            "object_fit": null,
            "grid_auto_columns": null,
            "margin": null,
            "display": null,
            "left": null
          }
        },
        "459701be634b4522a50be3504d0e06d9": {
          "model_module": "@jupyter-widgets/controls",
          "model_name": "DescriptionStyleModel",
          "state": {
            "_view_name": "StyleView",
            "_model_name": "DescriptionStyleModel",
            "description_width": "",
            "_view_module": "@jupyter-widgets/base",
            "_model_module_version": "1.5.0",
            "_view_count": null,
            "_view_module_version": "1.2.0",
            "_model_module": "@jupyter-widgets/controls"
          }
        },
        "eb8ea2f163cb4023b9eeaeffdacfb1ba": {
          "model_module": "@jupyter-widgets/base",
          "model_name": "LayoutModel",
          "state": {
            "_view_name": "LayoutView",
            "grid_template_rows": null,
            "right": null,
            "justify_content": null,
            "_view_module": "@jupyter-widgets/base",
            "overflow": null,
            "_model_module_version": "1.2.0",
            "_view_count": null,
            "flex_flow": null,
            "width": null,
            "min_width": null,
            "border": null,
            "align_items": null,
            "bottom": null,
            "_model_module": "@jupyter-widgets/base",
            "top": null,
            "grid_column": null,
            "overflow_y": null,
            "overflow_x": null,
            "grid_auto_flow": null,
            "grid_area": null,
            "grid_template_columns": null,
            "flex": null,
            "_model_name": "LayoutModel",
            "justify_items": null,
            "grid_row": null,
            "max_height": null,
            "align_content": null,
            "visibility": null,
            "align_self": null,
            "height": null,
            "min_height": null,
            "padding": null,
            "grid_auto_rows": null,
            "grid_gap": null,
            "max_width": null,
            "order": null,
            "_view_module_version": "1.2.0",
            "grid_template_areas": null,
            "object_position": null,
            "object_fit": null,
            "grid_auto_columns": null,
            "margin": null,
            "display": null,
            "left": null
          }
        }
      }
    }
  },
  "cells": [
    {
      "cell_type": "markdown",
      "metadata": {
        "id": "view-in-github",
        "colab_type": "text"
      },
      "source": [
        "<a href=\"https://colab.research.google.com/github/hoky1227/Transformer_based-recommendation/blob/main/Transformer_e_commerce.ipynb\" target=\"_parent\"><img src=\"https://colab.research.google.com/assets/colab-badge.svg\" alt=\"Open In Colab\"/></a>"
      ]
    },
    {
      "cell_type": "markdown",
      "metadata": {
        "id": "_iEpn_8l-427"
      },
      "source": [
        "# Gdrive 연동"
      ]
    },
    {
      "cell_type": "code",
      "metadata": {
        "id": "w-P0qGLuIUYS",
        "colab": {
          "base_uri": "https://localhost:8080/"
        },
        "outputId": "ef334e36-b063-42c5-a22d-dd96045b1861"
      },
      "source": [
        "from google.colab import drive\n",
        "\n",
        "drive.mount('/content/drive')\n",
        "\n",
        "path = '/content/drive/MyDrive/'"
      ],
      "execution_count": null,
      "outputs": [
        {
          "output_type": "stream",
          "text": [
            "Mounted at /content/drive\n"
          ],
          "name": "stdout"
        }
      ]
    },
    {
      "cell_type": "markdown",
      "metadata": {
        "id": "vC8JTGR2_B6J"
      },
      "source": [
        "# Import Modules"
      ]
    },
    {
      "cell_type": "code",
      "metadata": {
        "id": "ROZHfsn0KSle"
      },
      "source": [
        "import numpy as np\n",
        "import pandas as pd\n",
        "from dateutil.parser import parse\n",
        "from tqdm import tqdm_notebook\n",
        "import tqdm\n",
        "import matplotlib.pyplot as plt\n",
        "import tensorflow_datasets as tfds\n",
        "import tensorflow as tf\n",
        "import re\n",
        "import torch\n",
        "from gensim.models import Word2Vec\n",
        "import math\n",
        "from numpy.linalg import norm\n",
        "\n",
        "import warnings \n",
        "\n",
        "warnings.filterwarnings('ignore')\n",
        "\n",
        "#재현성을 위해 seed 고정\n",
        "\n",
        "np.random.seed(2021)\n",
        "tf.random.set_seed(2021)"
      ],
      "execution_count": null,
      "outputs": []
    },
    {
      "cell_type": "markdown",
      "metadata": {
        "id": "A8nWdUml_KqT"
      },
      "source": [
        "# Data 전처리"
      ]
    },
    {
      "cell_type": "code",
      "metadata": {
        "colab": {
          "base_uri": "https://localhost:8080/",
          "height": 374
        },
        "id": "78WkSgbT6wuo",
        "outputId": "646c1723-76b0-48f9-bb56-9595f2acd902"
      },
      "source": [
        "df = pd.read_csv(\"/content/drive/MyDrive/2017online retail.csv\")\n",
        "\n",
        "print(df.isnull().sum())\n",
        "df.dropna(inplace=True)\n",
        "print(df.duplicated().sum())\n",
        "df.drop_duplicates(inplace=True)\n",
        "df.head()"
      ],
      "execution_count": null,
      "outputs": [
        {
          "output_type": "stream",
          "text": [
            "Customer       42970\n",
            "Payment Way        0\n",
            "Invoice            0\n",
            "ItemCode           0\n",
            "Detail          1745\n",
            "Date               0\n",
            "Amount             0\n",
            "Price              0\n",
            "dtype: int64\n",
            "1458\n"
          ],
          "name": "stdout"
        },
        {
          "output_type": "execute_result",
          "data": {
            "text/html": [
              "<div>\n",
              "<style scoped>\n",
              "    .dataframe tbody tr th:only-of-type {\n",
              "        vertical-align: middle;\n",
              "    }\n",
              "\n",
              "    .dataframe tbody tr th {\n",
              "        vertical-align: top;\n",
              "    }\n",
              "\n",
              "    .dataframe thead th {\n",
              "        text-align: right;\n",
              "    }\n",
              "</style>\n",
              "<table border=\"1\" class=\"dataframe\">\n",
              "  <thead>\n",
              "    <tr style=\"text-align: right;\">\n",
              "      <th></th>\n",
              "      <th>Customer</th>\n",
              "      <th>Payment Way</th>\n",
              "      <th>Invoice</th>\n",
              "      <th>ItemCode</th>\n",
              "      <th>Detail</th>\n",
              "      <th>Date</th>\n",
              "      <th>Amount</th>\n",
              "      <th>Price</th>\n",
              "    </tr>\n",
              "  </thead>\n",
              "  <tbody>\n",
              "    <tr>\n",
              "      <th>0</th>\n",
              "      <td>37593.0</td>\n",
              "      <td>Skrill</td>\n",
              "      <td>C514216</td>\n",
              "      <td>22406</td>\n",
              "      <td>MONEY BOX KINGS CHOICE DESIGN</td>\n",
              "      <td>2017/6/30 17:38</td>\n",
              "      <td>-1</td>\n",
              "      <td>1.25</td>\n",
              "    </tr>\n",
              "    <tr>\n",
              "      <th>1</th>\n",
              "      <td>37593.0</td>\n",
              "      <td>Skrill</td>\n",
              "      <td>C514216</td>\n",
              "      <td>22056</td>\n",
              "      <td>CERAMIC PLATE LOVE HEART DESIGN</td>\n",
              "      <td>2017/6/30 17:38</td>\n",
              "      <td>-1</td>\n",
              "      <td>1.49</td>\n",
              "    </tr>\n",
              "    <tr>\n",
              "      <th>2</th>\n",
              "      <td>37593.0</td>\n",
              "      <td>Skrill</td>\n",
              "      <td>C514216</td>\n",
              "      <td>21844</td>\n",
              "      <td>RED RETROSPOT MUG</td>\n",
              "      <td>2017/6/30 17:38</td>\n",
              "      <td>-1</td>\n",
              "      <td>2.95</td>\n",
              "    </tr>\n",
              "    <tr>\n",
              "      <th>3</th>\n",
              "      <td>37593.0</td>\n",
              "      <td>Skrill</td>\n",
              "      <td>C514216</td>\n",
              "      <td>22073</td>\n",
              "      <td>RED RETROSPOT STORAGE JAR</td>\n",
              "      <td>2017/6/30 17:38</td>\n",
              "      <td>-1</td>\n",
              "      <td>3.75</td>\n",
              "    </tr>\n",
              "    <tr>\n",
              "      <th>4</th>\n",
              "      <td>37593.0</td>\n",
              "      <td>Credit</td>\n",
              "      <td>C514216</td>\n",
              "      <td>22059</td>\n",
              "      <td>CERAMIC STRWBERRY DESIGN MUG</td>\n",
              "      <td>2017/6/30 17:38</td>\n",
              "      <td>-2</td>\n",
              "      <td>1.49</td>\n",
              "    </tr>\n",
              "  </tbody>\n",
              "</table>\n",
              "</div>"
            ],
            "text/plain": [
              "   Customer Payment Way  Invoice  ...             Date Amount Price\n",
              "0   37593.0      Skrill  C514216  ...  2017/6/30 17:38     -1  1.25\n",
              "1   37593.0      Skrill  C514216  ...  2017/6/30 17:38     -1  1.49\n",
              "2   37593.0      Skrill  C514216  ...  2017/6/30 17:38     -1  2.95\n",
              "3   37593.0      Skrill  C514216  ...  2017/6/30 17:38     -1  3.75\n",
              "4   37593.0      Credit  C514216  ...  2017/6/30 17:38     -2  1.49\n",
              "\n",
              "[5 rows x 8 columns]"
            ]
          },
          "metadata": {
            "tags": []
          },
          "execution_count": 3
        }
      ]
    },
    {
      "cell_type": "code",
      "metadata": {
        "colab": {
          "base_uri": "https://localhost:8080/",
          "height": 204
        },
        "id": "q4_5za65MV4s",
        "outputId": "bfcf79ae-c7ce-496f-dd50-a8a0a05a1f1e"
      },
      "source": [
        "df.drop(['Payment Way', 'Date'],axis=1, inplace=True)\n",
        "df.head()"
      ],
      "execution_count": null,
      "outputs": [
        {
          "output_type": "execute_result",
          "data": {
            "text/html": [
              "<div>\n",
              "<style scoped>\n",
              "    .dataframe tbody tr th:only-of-type {\n",
              "        vertical-align: middle;\n",
              "    }\n",
              "\n",
              "    .dataframe tbody tr th {\n",
              "        vertical-align: top;\n",
              "    }\n",
              "\n",
              "    .dataframe thead th {\n",
              "        text-align: right;\n",
              "    }\n",
              "</style>\n",
              "<table border=\"1\" class=\"dataframe\">\n",
              "  <thead>\n",
              "    <tr style=\"text-align: right;\">\n",
              "      <th></th>\n",
              "      <th>Customer</th>\n",
              "      <th>Invoice</th>\n",
              "      <th>ItemCode</th>\n",
              "      <th>Detail</th>\n",
              "      <th>Amount</th>\n",
              "      <th>Price</th>\n",
              "    </tr>\n",
              "  </thead>\n",
              "  <tbody>\n",
              "    <tr>\n",
              "      <th>0</th>\n",
              "      <td>37593.0</td>\n",
              "      <td>C514216</td>\n",
              "      <td>22406</td>\n",
              "      <td>MONEY BOX KINGS CHOICE DESIGN</td>\n",
              "      <td>-1</td>\n",
              "      <td>1.25</td>\n",
              "    </tr>\n",
              "    <tr>\n",
              "      <th>1</th>\n",
              "      <td>37593.0</td>\n",
              "      <td>C514216</td>\n",
              "      <td>22056</td>\n",
              "      <td>CERAMIC PLATE LOVE HEART DESIGN</td>\n",
              "      <td>-1</td>\n",
              "      <td>1.49</td>\n",
              "    </tr>\n",
              "    <tr>\n",
              "      <th>2</th>\n",
              "      <td>37593.0</td>\n",
              "      <td>C514216</td>\n",
              "      <td>21844</td>\n",
              "      <td>RED RETROSPOT MUG</td>\n",
              "      <td>-1</td>\n",
              "      <td>2.95</td>\n",
              "    </tr>\n",
              "    <tr>\n",
              "      <th>3</th>\n",
              "      <td>37593.0</td>\n",
              "      <td>C514216</td>\n",
              "      <td>22073</td>\n",
              "      <td>RED RETROSPOT STORAGE JAR</td>\n",
              "      <td>-1</td>\n",
              "      <td>3.75</td>\n",
              "    </tr>\n",
              "    <tr>\n",
              "      <th>4</th>\n",
              "      <td>37593.0</td>\n",
              "      <td>C514216</td>\n",
              "      <td>22059</td>\n",
              "      <td>CERAMIC STRWBERRY DESIGN MUG</td>\n",
              "      <td>-2</td>\n",
              "      <td>1.49</td>\n",
              "    </tr>\n",
              "  </tbody>\n",
              "</table>\n",
              "</div>"
            ],
            "text/plain": [
              "   Customer  Invoice ItemCode                           Detail  Amount  Price\n",
              "0   37593.0  C514216    22406    MONEY BOX KINGS CHOICE DESIGN      -1   1.25\n",
              "1   37593.0  C514216    22056  CERAMIC PLATE LOVE HEART DESIGN      -1   1.49\n",
              "2   37593.0  C514216    21844                RED RETROSPOT MUG      -1   2.95\n",
              "3   37593.0  C514216    22073        RED RETROSPOT STORAGE JAR      -1   3.75\n",
              "4   37593.0  C514216    22059     CERAMIC STRWBERRY DESIGN MUG      -2   1.49"
            ]
          },
          "metadata": {
            "tags": []
          },
          "execution_count": 4
        }
      ]
    },
    {
      "cell_type": "code",
      "metadata": {
        "colab": {
          "base_uri": "https://localhost:8080/"
        },
        "id": "kFxAY-vQOsOW",
        "outputId": "51036e4e-17f7-4c1e-ba74-92ca57029666"
      },
      "source": [
        "def check(): # Detail이 대문자로 이루어져 있어 소문자가 포함될 경우 이상값일 가능성이 있어 검증하는 함수\n",
        "    df['Detail'] = df['Detail'].str.strip()\n",
        "    Detail = df['Detail'].unique()\n",
        "    for i in Detail:\n",
        "        if i.isupper() == False:\n",
        "            print(i)\n",
        "\n",
        "check()"
      ],
      "execution_count": null,
      "outputs": [
        {
          "output_type": "stream",
          "text": [
            "Manual\n",
            "BAG 250g SWIRLY MARBLES\n",
            "Discount\n",
            "Adjustment by Peter on 24/05/2010 1\n",
            "BAG 125g SWIRLY MARBLES\n",
            "POLYESTER FILLER PAD 65CMx65CM\n",
            "Bank Charges\n",
            "POLYESTER FILLER PAD 40x40cm\n",
            "Adjustment by john on 26/01/2010 17\n",
            "Adjustment by john on 26/01/2010 16\n",
            "Adjust bad debt\n",
            "FOLK ART GREETING CARD,pack/12\n",
            "POLYESTER FILLER PAD 45x45cm\n",
            "Adjustment by Peter on Jun 25 2010\n",
            "ESSENTIAL BALM 3.5g TIN IN ENVELOPE\n",
            "SET Of 6 SOLDIER SKITTLES\n",
            "POLYESTER FILLER PAD 30CMx30CM\n",
            "THE KING GIFT BAG 25x24x12cm\n",
            "POLYESTER FILLER PAD 45x30cm\n",
            "This is a test product.\n",
            "POLYESTER FILLER PAD 60x40cm\n"
          ],
          "name": "stdout"
        }
      ]
    },
    {
      "cell_type": "code",
      "metadata": {
        "colab": {
          "base_uri": "https://localhost:8080/"
        },
        "id": "EDPSqZq18bAB",
        "outputId": "339e662c-e348-41f4-b96b-69eef1f8c050"
      },
      "source": [
        "def check10():# 대문자로만 이루어진 이상값 존재 확인을 위해 글자수 10 이하 확인\n",
        "    Detail = df['Detail'].unique()\n",
        "    for i in Detail:\n",
        "        if len(i) <= 10:\n",
        "            print(i)\n",
        "\n",
        "check10()"
      ],
      "execution_count": null,
      "outputs": [
        {
          "output_type": "stream",
          "text": [
            "Manual\n",
            "POSTAGE\n",
            "Discount\n",
            "CARRIAGE\n",
            "SPOTS MUG\n",
            "PHOTO CUBE\n",
            "SOMBRERO\n",
            "BINGO SET\n",
            "SPACE OWL\n",
            "CAT BOWL\n",
            "SPACE FROG\n",
            "DAISY RING\n"
          ],
          "name": "stdout"
        }
      ]
    },
    {
      "cell_type": "code",
      "metadata": {
        "id": "IBoaGNXNR_28",
        "colab": {
          "base_uri": "https://localhost:8080/",
          "height": 297
        },
        "outputId": "e82d82fa-eaba-46a7-9260-211c279b07f5"
      },
      "source": [
        "# 이상값 제거\n",
        "idx = df[df['Amount'] <= 0.].index\n",
        "df.drop(idx, inplace=True)\n",
        "l = ['Manual', 'This is a test product.', 'Discount', 'Adjustment by Peter on 24/05/2010 1',\\\n",
        "     'Bank Charges', 'Adjustment by john on 26/01/2010 17',  'Adjustment by john on 26/01/2010 16', 'Adjust bad debt', 'Adjustment by Peter on Jun 25 2010', 'POSTAGE', 'CARRIAGE']\n",
        "for v in l:\n",
        "    idx2 = df[df['Detail'] == v].index\n",
        "    df.drop(idx2, inplace=True)\n",
        "idx3 = df[df['Price'] <= 0.].index\n",
        "df.drop(idx3, inplace=True)\n",
        "\n",
        "df.describe()"
      ],
      "execution_count": null,
      "outputs": [
        {
          "output_type": "execute_result",
          "data": {
            "text/html": [
              "<div>\n",
              "<style scoped>\n",
              "    .dataframe tbody tr th:only-of-type {\n",
              "        vertical-align: middle;\n",
              "    }\n",
              "\n",
              "    .dataframe tbody tr th {\n",
              "        vertical-align: top;\n",
              "    }\n",
              "\n",
              "    .dataframe thead th {\n",
              "        text-align: right;\n",
              "    }\n",
              "</style>\n",
              "<table border=\"1\" class=\"dataframe\">\n",
              "  <thead>\n",
              "    <tr style=\"text-align: right;\">\n",
              "      <th></th>\n",
              "      <th>Customer</th>\n",
              "      <th>Amount</th>\n",
              "      <th>Price</th>\n",
              "    </tr>\n",
              "  </thead>\n",
              "  <tbody>\n",
              "    <tr>\n",
              "      <th>count</th>\n",
              "      <td>161040.000000</td>\n",
              "      <td>161040.000000</td>\n",
              "      <td>161040.000000</td>\n",
              "    </tr>\n",
              "    <tr>\n",
              "      <th>mean</th>\n",
              "      <td>35334.207570</td>\n",
              "      <td>14.045293</td>\n",
              "      <td>3.051039</td>\n",
              "    </tr>\n",
              "    <tr>\n",
              "      <th>std</th>\n",
              "      <td>1673.922109</td>\n",
              "      <td>123.241911</td>\n",
              "      <td>3.435328</td>\n",
              "    </tr>\n",
              "    <tr>\n",
              "      <th>min</th>\n",
              "      <td>32346.000000</td>\n",
              "      <td>1.000000</td>\n",
              "      <td>0.001000</td>\n",
              "    </tr>\n",
              "    <tr>\n",
              "      <th>25%</th>\n",
              "      <td>33976.000000</td>\n",
              "      <td>2.000000</td>\n",
              "      <td>1.250000</td>\n",
              "    </tr>\n",
              "    <tr>\n",
              "      <th>50%</th>\n",
              "      <td>35248.000000</td>\n",
              "      <td>5.000000</td>\n",
              "      <td>1.950000</td>\n",
              "    </tr>\n",
              "    <tr>\n",
              "      <th>75%</th>\n",
              "      <td>36805.000000</td>\n",
              "      <td>12.000000</td>\n",
              "      <td>3.750000</td>\n",
              "    </tr>\n",
              "    <tr>\n",
              "      <th>max</th>\n",
              "      <td>38287.000000</td>\n",
              "      <td>19152.000000</td>\n",
              "      <td>125.000000</td>\n",
              "    </tr>\n",
              "  </tbody>\n",
              "</table>\n",
              "</div>"
            ],
            "text/plain": [
              "            Customer         Amount          Price\n",
              "count  161040.000000  161040.000000  161040.000000\n",
              "mean    35334.207570      14.045293       3.051039\n",
              "std      1673.922109     123.241911       3.435328\n",
              "min     32346.000000       1.000000       0.001000\n",
              "25%     33976.000000       2.000000       1.250000\n",
              "50%     35248.000000       5.000000       1.950000\n",
              "75%     36805.000000      12.000000       3.750000\n",
              "max     38287.000000   19152.000000     125.000000"
            ]
          },
          "metadata": {
            "tags": []
          },
          "execution_count": 7
        }
      ]
    },
    {
      "cell_type": "code",
      "metadata": {
        "colab": {
          "base_uri": "https://localhost:8080/"
        },
        "id": "3xpKsdVO8Y0_",
        "outputId": "500039c4-b389-4043-fafe-e956734ab761"
      },
      "source": [
        "check()"
      ],
      "execution_count": null,
      "outputs": [
        {
          "output_type": "stream",
          "text": [
            "BAG 250g SWIRLY MARBLES\n",
            "FOLK ART GREETING CARD,pack/12\n",
            "POLYESTER FILLER PAD 45x45cm\n",
            "POLYESTER FILLER PAD 40x40cm\n",
            "BAG 125g SWIRLY MARBLES\n",
            "POLYESTER FILLER PAD 65CMx65CM\n",
            "ESSENTIAL BALM 3.5g TIN IN ENVELOPE\n",
            "SET Of 6 SOLDIER SKITTLES\n",
            "POLYESTER FILLER PAD 30CMx30CM\n",
            "THE KING GIFT BAG 25x24x12cm\n",
            "POLYESTER FILLER PAD 45x30cm\n",
            "POLYESTER FILLER PAD 60x40cm\n"
          ],
          "name": "stdout"
        }
      ]
    },
    {
      "cell_type": "code",
      "metadata": {
        "colab": {
          "base_uri": "https://localhost:8080/"
        },
        "id": "-fM5iRu-TU8X",
        "outputId": "1a778f50-bca4-44c0-e2a3-059dbf79cd75"
      },
      "source": [
        "check10()"
      ],
      "execution_count": null,
      "outputs": [
        {
          "output_type": "stream",
          "text": [
            "PHOTO CUBE\n",
            "SOMBRERO\n",
            "BINGO SET\n",
            "SPACE OWL\n",
            "CAT BOWL\n",
            "SPOTS MUG\n",
            "SPACE FROG\n",
            "DAISY RING\n"
          ],
          "name": "stdout"
        }
      ]
    },
    {
      "cell_type": "code",
      "metadata": {
        "colab": {
          "base_uri": "https://localhost:8080/",
          "height": 204
        },
        "id": "jvh9tcK2U6s6",
        "outputId": "40386fc3-293c-4a3b-b60e-56b76cddd36a"
      },
      "source": [
        "df.drop(['Amount', 'Price', 'ItemCode'],axis=1, inplace=True)\n",
        "df.head()"
      ],
      "execution_count": null,
      "outputs": [
        {
          "output_type": "execute_result",
          "data": {
            "text/html": [
              "<div>\n",
              "<style scoped>\n",
              "    .dataframe tbody tr th:only-of-type {\n",
              "        vertical-align: middle;\n",
              "    }\n",
              "\n",
              "    .dataframe tbody tr th {\n",
              "        vertical-align: top;\n",
              "    }\n",
              "\n",
              "    .dataframe thead th {\n",
              "        text-align: right;\n",
              "    }\n",
              "</style>\n",
              "<table border=\"1\" class=\"dataframe\">\n",
              "  <thead>\n",
              "    <tr style=\"text-align: right;\">\n",
              "      <th></th>\n",
              "      <th>Customer</th>\n",
              "      <th>Invoice</th>\n",
              "      <th>Detail</th>\n",
              "    </tr>\n",
              "  </thead>\n",
              "  <tbody>\n",
              "    <tr>\n",
              "      <th>4492</th>\n",
              "      <td>34882.0</td>\n",
              "      <td>264212</td>\n",
              "      <td>COLOUR GLASS T-LIGHT HOLDER HANGING</td>\n",
              "    </tr>\n",
              "    <tr>\n",
              "      <th>4493</th>\n",
              "      <td>34882.0</td>\n",
              "      <td>264212</td>\n",
              "      <td>PORCELAIN HANGING BELL SMALL</td>\n",
              "    </tr>\n",
              "    <tr>\n",
              "      <th>4494</th>\n",
              "      <td>34882.0</td>\n",
              "      <td>264212</td>\n",
              "      <td>NATURAL SLATE HEART CHALKBOARD</td>\n",
              "    </tr>\n",
              "    <tr>\n",
              "      <th>4496</th>\n",
              "      <td>34882.0</td>\n",
              "      <td>264212</td>\n",
              "      <td>PORCELAIN HANGING BELL LARGE</td>\n",
              "    </tr>\n",
              "    <tr>\n",
              "      <th>4497</th>\n",
              "      <td>34882.0</td>\n",
              "      <td>264212</td>\n",
              "      <td>ENAMEL WATERING CAN CREAM</td>\n",
              "    </tr>\n",
              "  </tbody>\n",
              "</table>\n",
              "</div>"
            ],
            "text/plain": [
              "      Customer Invoice                               Detail\n",
              "4492   34882.0  264212  COLOUR GLASS T-LIGHT HOLDER HANGING\n",
              "4493   34882.0  264212         PORCELAIN HANGING BELL SMALL\n",
              "4494   34882.0  264212       NATURAL SLATE HEART CHALKBOARD\n",
              "4496   34882.0  264212         PORCELAIN HANGING BELL LARGE\n",
              "4497   34882.0  264212            ENAMEL WATERING CAN CREAM"
            ]
          },
          "metadata": {
            "tags": []
          },
          "execution_count": 10
        }
      ]
    },
    {
      "cell_type": "code",
      "metadata": {
        "id": "lvwA7pNiNVfI"
      },
      "source": [
        "detail = df['Detail'].unique()"
      ],
      "execution_count": null,
      "outputs": []
    },
    {
      "cell_type": "code",
      "metadata": {
        "id": "key1uIRL8lWm"
      },
      "source": [
        "def sortdf(data, column): # 정렬 함수\n",
        "    data.sort_values(column, inplace=True)\n",
        "    data.reset_index(inplace=True)\n",
        "    data.pop('index')\n",
        "    return data"
      ],
      "execution_count": null,
      "outputs": []
    },
    {
      "cell_type": "markdown",
      "metadata": {
        "id": "pO-NvcfACzqD"
      },
      "source": [
        "## Customer 기준 history"
      ]
    },
    {
      "cell_type": "code",
      "metadata": {
        "colab": {
          "base_uri": "https://localhost:8080/",
          "height": 204
        },
        "id": "5QiVjU3DCWqL",
        "outputId": "5b2c8587-7df1-4128-eba1-fbbe94ac2fd3"
      },
      "source": [
        "df_customer = df.copy() # 기존 데이터 오염을 막기 위해 복사, 기존 데이터는 이후 재사용\n",
        "sortdf(df_customer, ['Customer'])\n",
        "df_customer.pop('Invoice')\n",
        "df_customer.head()"
      ],
      "execution_count": null,
      "outputs": [
        {
          "output_type": "execute_result",
          "data": {
            "text/html": [
              "<div>\n",
              "<style scoped>\n",
              "    .dataframe tbody tr th:only-of-type {\n",
              "        vertical-align: middle;\n",
              "    }\n",
              "\n",
              "    .dataframe tbody tr th {\n",
              "        vertical-align: top;\n",
              "    }\n",
              "\n",
              "    .dataframe thead th {\n",
              "        text-align: right;\n",
              "    }\n",
              "</style>\n",
              "<table border=\"1\" class=\"dataframe\">\n",
              "  <thead>\n",
              "    <tr style=\"text-align: right;\">\n",
              "      <th></th>\n",
              "      <th>Customer</th>\n",
              "      <th>Detail</th>\n",
              "    </tr>\n",
              "  </thead>\n",
              "  <tbody>\n",
              "    <tr>\n",
              "      <th>0</th>\n",
              "      <td>32346.0</td>\n",
              "      <td>DOORMAT HOME SWEET HOME BLUE</td>\n",
              "    </tr>\n",
              "    <tr>\n",
              "      <th>1</th>\n",
              "      <td>32346.0</td>\n",
              "      <td>DOORMAT SPOTTY HOME SWEET HOME</td>\n",
              "    </tr>\n",
              "    <tr>\n",
              "      <th>2</th>\n",
              "      <td>32346.0</td>\n",
              "      <td>DOORMAT WELCOME TO OUR HOME</td>\n",
              "    </tr>\n",
              "    <tr>\n",
              "      <th>3</th>\n",
              "      <td>32346.0</td>\n",
              "      <td>DOORMAT I LOVE LONDON</td>\n",
              "    </tr>\n",
              "    <tr>\n",
              "      <th>4</th>\n",
              "      <td>32346.0</td>\n",
              "      <td>DOORMAT CHRISTMAS VILLAGE</td>\n",
              "    </tr>\n",
              "  </tbody>\n",
              "</table>\n",
              "</div>"
            ],
            "text/plain": [
              "   Customer                          Detail\n",
              "0   32346.0    DOORMAT HOME SWEET HOME BLUE\n",
              "1   32346.0  DOORMAT SPOTTY HOME SWEET HOME\n",
              "2   32346.0     DOORMAT WELCOME TO OUR HOME\n",
              "3   32346.0           DOORMAT I LOVE LONDON\n",
              "4   32346.0       DOORMAT CHRISTMAS VILLAGE"
            ]
          },
          "metadata": {
            "tags": []
          },
          "execution_count": 13
        }
      ]
    },
    {
      "cell_type": "code",
      "metadata": {
        "colab": {
          "base_uri": "https://localhost:8080/",
          "height": 419
        },
        "id": "Z0zKU4k7f5U9",
        "outputId": "5c5abdb6-6849-4272-c0bc-009ac75d20f3"
      },
      "source": [
        "df2 = pd.DataFrame(columns=df_customer.columns) # Product2Vec 학습용 Customer 기준 history\n",
        "values = df_customer['Customer'].value_counts().index.sort_values()\n",
        "\n",
        "for i, v in enumerate(values):\n",
        "    df2.loc[i] = (v, '&&'.join(df_customer[df_customer['Customer'] == v]['Detail']))\n",
        "df2"
      ],
      "execution_count": null,
      "outputs": [
        {
          "output_type": "execute_result",
          "data": {
            "text/html": [
              "<div>\n",
              "<style scoped>\n",
              "    .dataframe tbody tr th:only-of-type {\n",
              "        vertical-align: middle;\n",
              "    }\n",
              "\n",
              "    .dataframe tbody tr th {\n",
              "        vertical-align: top;\n",
              "    }\n",
              "\n",
              "    .dataframe thead th {\n",
              "        text-align: right;\n",
              "    }\n",
              "</style>\n",
              "<table border=\"1\" class=\"dataframe\">\n",
              "  <thead>\n",
              "    <tr style=\"text-align: right;\">\n",
              "      <th></th>\n",
              "      <th>Customer</th>\n",
              "      <th>Detail</th>\n",
              "    </tr>\n",
              "  </thead>\n",
              "  <tbody>\n",
              "    <tr>\n",
              "      <th>0</th>\n",
              "      <td>32346.0</td>\n",
              "      <td>DOORMAT HOME SWEET HOME BLUE&amp;&amp;DOORMAT SPOTTY H...</td>\n",
              "    </tr>\n",
              "    <tr>\n",
              "      <th>1</th>\n",
              "      <td>32349.0</td>\n",
              "      <td>RETRO SPOT LARGE MILK JUG&amp;&amp;POLKADOT CUTLERY 24...</td>\n",
              "    </tr>\n",
              "    <tr>\n",
              "      <th>2</th>\n",
              "      <td>32355.0</td>\n",
              "      <td>GOLD TEDDY BEAR&amp;&amp;OPULENT VELVET SET/3 CANDLES&amp;...</td>\n",
              "    </tr>\n",
              "    <tr>\n",
              "      <th>3</th>\n",
              "      <td>32358.0</td>\n",
              "      <td>JUMBO SHOPPER VINTAGE RED PAISLEY&amp;&amp;GARDEN PATH...</td>\n",
              "    </tr>\n",
              "    <tr>\n",
              "      <th>4</th>\n",
              "      <td>32359.0</td>\n",
              "      <td>SET OF 2 WOODEN MARKET CRATES&amp;&amp;OLD DOC RUSSEL ...</td>\n",
              "    </tr>\n",
              "    <tr>\n",
              "      <th>...</th>\n",
              "      <td>...</td>\n",
              "      <td>...</td>\n",
              "    </tr>\n",
              "    <tr>\n",
              "      <th>2727</th>\n",
              "      <td>38276.0</td>\n",
              "      <td>LUNCH BAG SPACEBOY DESIGN&amp;&amp;SET OF 72 SKULL PAP...</td>\n",
              "    </tr>\n",
              "    <tr>\n",
              "      <th>2728</th>\n",
              "      <td>38281.0</td>\n",
              "      <td>TEA PARTY BIRTHDAY CARD&amp;&amp;LUNCH BAG PINK RETROS...</td>\n",
              "    </tr>\n",
              "    <tr>\n",
              "      <th>2729</th>\n",
              "      <td>38283.0</td>\n",
              "      <td>SMALL POPCORN HOLDER&amp;&amp;ASSORTED ICE CREAM FRIDG...</td>\n",
              "    </tr>\n",
              "    <tr>\n",
              "      <th>2730</th>\n",
              "      <td>38285.0</td>\n",
              "      <td>GLASS HEART T-LIGHT HOLDER&amp;&amp;SMALL GLASS SUNDAE...</td>\n",
              "    </tr>\n",
              "    <tr>\n",
              "      <th>2731</th>\n",
              "      <td>38287.0</td>\n",
              "      <td>S/4 PINK FLOWER CANDLES IN BOWL&amp;&amp;GARLAND, MAGI...</td>\n",
              "    </tr>\n",
              "  </tbody>\n",
              "</table>\n",
              "<p>2732 rows × 2 columns</p>\n",
              "</div>"
            ],
            "text/plain": [
              "      Customer                                             Detail\n",
              "0      32346.0  DOORMAT HOME SWEET HOME BLUE&&DOORMAT SPOTTY H...\n",
              "1      32349.0  RETRO SPOT LARGE MILK JUG&&POLKADOT CUTLERY 24...\n",
              "2      32355.0  GOLD TEDDY BEAR&&OPULENT VELVET SET/3 CANDLES&...\n",
              "3      32358.0  JUMBO SHOPPER VINTAGE RED PAISLEY&&GARDEN PATH...\n",
              "4      32359.0  SET OF 2 WOODEN MARKET CRATES&&OLD DOC RUSSEL ...\n",
              "...        ...                                                ...\n",
              "2727   38276.0  LUNCH BAG SPACEBOY DESIGN&&SET OF 72 SKULL PAP...\n",
              "2728   38281.0  TEA PARTY BIRTHDAY CARD&&LUNCH BAG PINK RETROS...\n",
              "2729   38283.0  SMALL POPCORN HOLDER&&ASSORTED ICE CREAM FRIDG...\n",
              "2730   38285.0  GLASS HEART T-LIGHT HOLDER&&SMALL GLASS SUNDAE...\n",
              "2731   38287.0  S/4 PINK FLOWER CANDLES IN BOWL&&GARLAND, MAGI...\n",
              "\n",
              "[2732 rows x 2 columns]"
            ]
          },
          "metadata": {
            "tags": []
          },
          "execution_count": 14
        }
      ]
    },
    {
      "cell_type": "code",
      "metadata": {
        "colab": {
          "base_uri": "https://localhost:8080/",
          "height": 419
        },
        "id": "KG39724Mg8cO",
        "outputId": "28dc0f84-038c-444f-aabd-07313dd453ba"
      },
      "source": [
        "ds = df2.copy()\n",
        "ds"
      ],
      "execution_count": null,
      "outputs": [
        {
          "output_type": "execute_result",
          "data": {
            "text/html": [
              "<div>\n",
              "<style scoped>\n",
              "    .dataframe tbody tr th:only-of-type {\n",
              "        vertical-align: middle;\n",
              "    }\n",
              "\n",
              "    .dataframe tbody tr th {\n",
              "        vertical-align: top;\n",
              "    }\n",
              "\n",
              "    .dataframe thead th {\n",
              "        text-align: right;\n",
              "    }\n",
              "</style>\n",
              "<table border=\"1\" class=\"dataframe\">\n",
              "  <thead>\n",
              "    <tr style=\"text-align: right;\">\n",
              "      <th></th>\n",
              "      <th>Customer</th>\n",
              "      <th>Detail</th>\n",
              "    </tr>\n",
              "  </thead>\n",
              "  <tbody>\n",
              "    <tr>\n",
              "      <th>0</th>\n",
              "      <td>32346.0</td>\n",
              "      <td>DOORMAT HOME SWEET HOME BLUE&amp;&amp;DOORMAT SPOTTY H...</td>\n",
              "    </tr>\n",
              "    <tr>\n",
              "      <th>1</th>\n",
              "      <td>32349.0</td>\n",
              "      <td>RETRO SPOT LARGE MILK JUG&amp;&amp;POLKADOT CUTLERY 24...</td>\n",
              "    </tr>\n",
              "    <tr>\n",
              "      <th>2</th>\n",
              "      <td>32355.0</td>\n",
              "      <td>GOLD TEDDY BEAR&amp;&amp;OPULENT VELVET SET/3 CANDLES&amp;...</td>\n",
              "    </tr>\n",
              "    <tr>\n",
              "      <th>3</th>\n",
              "      <td>32358.0</td>\n",
              "      <td>JUMBO SHOPPER VINTAGE RED PAISLEY&amp;&amp;GARDEN PATH...</td>\n",
              "    </tr>\n",
              "    <tr>\n",
              "      <th>4</th>\n",
              "      <td>32359.0</td>\n",
              "      <td>SET OF 2 WOODEN MARKET CRATES&amp;&amp;OLD DOC RUSSEL ...</td>\n",
              "    </tr>\n",
              "    <tr>\n",
              "      <th>...</th>\n",
              "      <td>...</td>\n",
              "      <td>...</td>\n",
              "    </tr>\n",
              "    <tr>\n",
              "      <th>2727</th>\n",
              "      <td>38276.0</td>\n",
              "      <td>LUNCH BAG SPACEBOY DESIGN&amp;&amp;SET OF 72 SKULL PAP...</td>\n",
              "    </tr>\n",
              "    <tr>\n",
              "      <th>2728</th>\n",
              "      <td>38281.0</td>\n",
              "      <td>TEA PARTY BIRTHDAY CARD&amp;&amp;LUNCH BAG PINK RETROS...</td>\n",
              "    </tr>\n",
              "    <tr>\n",
              "      <th>2729</th>\n",
              "      <td>38283.0</td>\n",
              "      <td>SMALL POPCORN HOLDER&amp;&amp;ASSORTED ICE CREAM FRIDG...</td>\n",
              "    </tr>\n",
              "    <tr>\n",
              "      <th>2730</th>\n",
              "      <td>38285.0</td>\n",
              "      <td>GLASS HEART T-LIGHT HOLDER&amp;&amp;SMALL GLASS SUNDAE...</td>\n",
              "    </tr>\n",
              "    <tr>\n",
              "      <th>2731</th>\n",
              "      <td>38287.0</td>\n",
              "      <td>S/4 PINK FLOWER CANDLES IN BOWL&amp;&amp;GARLAND, MAGI...</td>\n",
              "    </tr>\n",
              "  </tbody>\n",
              "</table>\n",
              "<p>2732 rows × 2 columns</p>\n",
              "</div>"
            ],
            "text/plain": [
              "      Customer                                             Detail\n",
              "0      32346.0  DOORMAT HOME SWEET HOME BLUE&&DOORMAT SPOTTY H...\n",
              "1      32349.0  RETRO SPOT LARGE MILK JUG&&POLKADOT CUTLERY 24...\n",
              "2      32355.0  GOLD TEDDY BEAR&&OPULENT VELVET SET/3 CANDLES&...\n",
              "3      32358.0  JUMBO SHOPPER VINTAGE RED PAISLEY&&GARDEN PATH...\n",
              "4      32359.0  SET OF 2 WOODEN MARKET CRATES&&OLD DOC RUSSEL ...\n",
              "...        ...                                                ...\n",
              "2727   38276.0  LUNCH BAG SPACEBOY DESIGN&&SET OF 72 SKULL PAP...\n",
              "2728   38281.0  TEA PARTY BIRTHDAY CARD&&LUNCH BAG PINK RETROS...\n",
              "2729   38283.0  SMALL POPCORN HOLDER&&ASSORTED ICE CREAM FRIDG...\n",
              "2730   38285.0  GLASS HEART T-LIGHT HOLDER&&SMALL GLASS SUNDAE...\n",
              "2731   38287.0  S/4 PINK FLOWER CANDLES IN BOWL&&GARLAND, MAGI...\n",
              "\n",
              "[2732 rows x 2 columns]"
            ]
          },
          "metadata": {
            "tags": []
          },
          "execution_count": 15
        }
      ]
    },
    {
      "cell_type": "code",
      "metadata": {
        "id": "OXAJ5qw_ixnX",
        "colab": {
          "base_uri": "https://localhost:8080/"
        },
        "outputId": "1fd99e13-cace-4ea5-9ed9-9a9af7108b39"
      },
      "source": [
        "ds1 = ds['Detail'].str.split('&&')\n",
        "print(ds1[0][-1])\n",
        "print(ds1[0][-2])\n",
        "ds1"
      ],
      "execution_count": null,
      "outputs": [
        {
          "output_type": "stream",
          "text": [
            "RED SPOTTY CHILDS UMBRELLA\n",
            "DOORMAT UNION JACK GUNS AND ROSES\n"
          ],
          "name": "stdout"
        },
        {
          "output_type": "execute_result",
          "data": {
            "text/plain": [
              "0       [DOORMAT HOME SWEET HOME BLUE, DOORMAT SPOTTY ...\n",
              "1       [RETRO SPOT LARGE MILK JUG, POLKADOT CUTLERY 2...\n",
              "2       [GOLD TEDDY BEAR, OPULENT VELVET SET/3 CANDLES...\n",
              "3       [JUMBO SHOPPER VINTAGE RED PAISLEY, GARDEN PAT...\n",
              "4       [SET OF 2 WOODEN MARKET CRATES, OLD DOC RUSSEL...\n",
              "                              ...                        \n",
              "2727    [LUNCH BAG SPACEBOY DESIGN, SET OF 72 SKULL PA...\n",
              "2728    [TEA PARTY BIRTHDAY CARD, LUNCH BAG PINK RETRO...\n",
              "2729    [SMALL POPCORN HOLDER, ASSORTED ICE CREAM FRID...\n",
              "2730    [GLASS HEART T-LIGHT HOLDER, SMALL GLASS SUNDA...\n",
              "2731    [S/4 PINK FLOWER CANDLES IN BOWL, GARLAND, MAG...\n",
              "Name: Detail, Length: 2732, dtype: object"
            ]
          },
          "metadata": {
            "tags": []
          },
          "execution_count": 16
        }
      ]
    },
    {
      "cell_type": "code",
      "metadata": {
        "colab": {
          "base_uri": "https://localhost:8080/",
          "height": 154
        },
        "id": "XiPVB43RSCeS",
        "outputId": "f6627140-683d-4e85-e6bf-57481a0dfad3"
      },
      "source": [
        "label = []\n",
        "for i in range(len(ds1)):\n",
        "    l = ds1[i][-1]\n",
        "    ds1[i].pop()\n",
        "    label.append(l)\n",
        "\n",
        "display(ds1.head())\n",
        "print(label[:5])\n",
        "ds1[0][-1]"
      ],
      "execution_count": null,
      "outputs": [
        {
          "output_type": "display_data",
          "data": {
            "text/plain": [
              "0    [DOORMAT HOME SWEET HOME BLUE, DOORMAT SPOTTY ...\n",
              "1    [RETRO SPOT LARGE MILK JUG, POLKADOT CUTLERY 2...\n",
              "2    [GOLD TEDDY BEAR, OPULENT VELVET SET/3 CANDLES...\n",
              "3    [JUMBO SHOPPER VINTAGE RED PAISLEY, GARDEN PAT...\n",
              "4    [SET OF 2 WOODEN MARKET CRATES, OLD DOC RUSSEL...\n",
              "Name: Detail, dtype: object"
            ]
          },
          "metadata": {
            "tags": []
          }
        },
        {
          "output_type": "stream",
          "text": [
            "['RED SPOTTY CHILDS UMBRELLA', 'SET/6 RED SPOTTY PAPER CUPS', 'KIDS RAIN MAC BLUE', 'ASSORTED CHEESE FRIDGE MAGNETS', 'LAUNDRY 15C METAL SIGN']\n"
          ],
          "name": "stdout"
        },
        {
          "output_type": "execute_result",
          "data": {
            "application/vnd.google.colaboratory.intrinsic+json": {
              "type": "string"
            },
            "text/plain": [
              "'DOORMAT UNION JACK GUNS AND ROSES'"
            ]
          },
          "metadata": {
            "tags": []
          },
          "execution_count": 17
        }
      ]
    },
    {
      "cell_type": "code",
      "metadata": {
        "colab": {
          "base_uri": "https://localhost:8080/"
        },
        "id": "LCs2CE5gA5GS",
        "outputId": "e7cd9bfa-7b9a-4f1f-b482-6c76076f249c"
      },
      "source": [
        "ds1 = ds1.apply(lambda x: '&&'.join(map(str, x)))\n",
        "ds1.head()"
      ],
      "execution_count": null,
      "outputs": [
        {
          "output_type": "execute_result",
          "data": {
            "text/plain": [
              "0    DOORMAT HOME SWEET HOME BLUE&&DOORMAT SPOTTY H...\n",
              "1    RETRO SPOT LARGE MILK JUG&&POLKADOT CUTLERY 24...\n",
              "2    GOLD TEDDY BEAR&&OPULENT VELVET SET/3 CANDLES&...\n",
              "3    JUMBO SHOPPER VINTAGE RED PAISLEY&&GARDEN PATH...\n",
              "4    SET OF 2 WOODEN MARKET CRATES&&OLD DOC RUSSEL ...\n",
              "Name: Detail, dtype: object"
            ]
          },
          "metadata": {
            "tags": []
          },
          "execution_count": 18
        }
      ]
    },
    {
      "cell_type": "code",
      "metadata": {
        "colab": {
          "base_uri": "https://localhost:8080/",
          "height": 419
        },
        "id": "n_ppapH88-B7",
        "outputId": "b39ff883-51a8-47f0-b870-fe0d89e4804c"
      },
      "source": [
        "ds['Detail'] = ds1\n",
        "ds['label'] = label\n",
        "ds"
      ],
      "execution_count": null,
      "outputs": [
        {
          "output_type": "execute_result",
          "data": {
            "text/html": [
              "<div>\n",
              "<style scoped>\n",
              "    .dataframe tbody tr th:only-of-type {\n",
              "        vertical-align: middle;\n",
              "    }\n",
              "\n",
              "    .dataframe tbody tr th {\n",
              "        vertical-align: top;\n",
              "    }\n",
              "\n",
              "    .dataframe thead th {\n",
              "        text-align: right;\n",
              "    }\n",
              "</style>\n",
              "<table border=\"1\" class=\"dataframe\">\n",
              "  <thead>\n",
              "    <tr style=\"text-align: right;\">\n",
              "      <th></th>\n",
              "      <th>Customer</th>\n",
              "      <th>Detail</th>\n",
              "      <th>label</th>\n",
              "    </tr>\n",
              "  </thead>\n",
              "  <tbody>\n",
              "    <tr>\n",
              "      <th>0</th>\n",
              "      <td>32346.0</td>\n",
              "      <td>DOORMAT HOME SWEET HOME BLUE&amp;&amp;DOORMAT SPOTTY H...</td>\n",
              "      <td>RED SPOTTY CHILDS UMBRELLA</td>\n",
              "    </tr>\n",
              "    <tr>\n",
              "      <th>1</th>\n",
              "      <td>32349.0</td>\n",
              "      <td>RETRO SPOT LARGE MILK JUG&amp;&amp;POLKADOT CUTLERY 24...</td>\n",
              "      <td>SET/6 RED SPOTTY PAPER CUPS</td>\n",
              "    </tr>\n",
              "    <tr>\n",
              "      <th>2</th>\n",
              "      <td>32355.0</td>\n",
              "      <td>GOLD TEDDY BEAR&amp;&amp;OPULENT VELVET SET/3 CANDLES&amp;...</td>\n",
              "      <td>KIDS RAIN MAC BLUE</td>\n",
              "    </tr>\n",
              "    <tr>\n",
              "      <th>3</th>\n",
              "      <td>32358.0</td>\n",
              "      <td>JUMBO SHOPPER VINTAGE RED PAISLEY&amp;&amp;GARDEN PATH...</td>\n",
              "      <td>ASSORTED CHEESE FRIDGE MAGNETS</td>\n",
              "    </tr>\n",
              "    <tr>\n",
              "      <th>4</th>\n",
              "      <td>32359.0</td>\n",
              "      <td>SET OF 2 WOODEN MARKET CRATES&amp;&amp;OLD DOC RUSSEL ...</td>\n",
              "      <td>LAUNDRY 15C METAL SIGN</td>\n",
              "    </tr>\n",
              "    <tr>\n",
              "      <th>...</th>\n",
              "      <td>...</td>\n",
              "      <td>...</td>\n",
              "      <td>...</td>\n",
              "    </tr>\n",
              "    <tr>\n",
              "      <th>2727</th>\n",
              "      <td>38276.0</td>\n",
              "      <td>LUNCH BAG SPACEBOY DESIGN&amp;&amp;SET OF 72 SKULL PAP...</td>\n",
              "      <td>LUNCH BAG  BLACK SKULL.</td>\n",
              "    </tr>\n",
              "    <tr>\n",
              "      <th>2728</th>\n",
              "      <td>38281.0</td>\n",
              "      <td>TEA PARTY BIRTHDAY CARD&amp;&amp;LUNCH BAG PINK RETROS...</td>\n",
              "      <td>SPACEBOY BIRTHDAY CARD</td>\n",
              "    </tr>\n",
              "    <tr>\n",
              "      <th>2729</th>\n",
              "      <td>38283.0</td>\n",
              "      <td>SMALL POPCORN HOLDER&amp;&amp;ASSORTED ICE CREAM FRIDG...</td>\n",
              "      <td>RED SPOTTY CHILDS APRON</td>\n",
              "    </tr>\n",
              "    <tr>\n",
              "      <th>2730</th>\n",
              "      <td>38285.0</td>\n",
              "      <td>GLASS HEART T-LIGHT HOLDER&amp;&amp;SMALL GLASS SUNDAE...</td>\n",
              "      <td>CAKE STAND VICTORIAN FILIGREE SMALL</td>\n",
              "    </tr>\n",
              "    <tr>\n",
              "      <th>2731</th>\n",
              "      <td>38287.0</td>\n",
              "      <td>S/4 PINK FLOWER CANDLES IN BOWL&amp;&amp;GARLAND, MAGI...</td>\n",
              "      <td>BASKET OF TOADSTOOLS</td>\n",
              "    </tr>\n",
              "  </tbody>\n",
              "</table>\n",
              "<p>2732 rows × 3 columns</p>\n",
              "</div>"
            ],
            "text/plain": [
              "      Customer  ...                                label\n",
              "0      32346.0  ...           RED SPOTTY CHILDS UMBRELLA\n",
              "1      32349.0  ...          SET/6 RED SPOTTY PAPER CUPS\n",
              "2      32355.0  ...                   KIDS RAIN MAC BLUE\n",
              "3      32358.0  ...       ASSORTED CHEESE FRIDGE MAGNETS\n",
              "4      32359.0  ...               LAUNDRY 15C METAL SIGN\n",
              "...        ...  ...                                  ...\n",
              "2727   38276.0  ...              LUNCH BAG  BLACK SKULL.\n",
              "2728   38281.0  ...               SPACEBOY BIRTHDAY CARD\n",
              "2729   38283.0  ...              RED SPOTTY CHILDS APRON\n",
              "2730   38285.0  ...  CAKE STAND VICTORIAN FILIGREE SMALL\n",
              "2731   38287.0  ...                 BASKET OF TOADSTOOLS\n",
              "\n",
              "[2732 rows x 3 columns]"
            ]
          },
          "metadata": {
            "tags": []
          },
          "execution_count": 19
        }
      ]
    },
    {
      "cell_type": "code",
      "metadata": {
        "colab": {
          "base_uri": "https://localhost:8080/"
        },
        "id": "LA2TwTLL89_p",
        "outputId": "dd56504a-780c-471e-d2b2-22333ce033a3"
      },
      "source": [
        "ds.isnull().sum()"
      ],
      "execution_count": null,
      "outputs": [
        {
          "output_type": "execute_result",
          "data": {
            "text/plain": [
              "Customer    0\n",
              "Detail      0\n",
              "label       0\n",
              "dtype: int64"
            ]
          },
          "metadata": {
            "tags": []
          },
          "execution_count": 20
        }
      ]
    },
    {
      "cell_type": "code",
      "metadata": {
        "colab": {
          "base_uri": "https://localhost:8080/"
        },
        "id": "ocNfsNPG8981",
        "outputId": "80ad5750-fc42-41e0-a6c1-ea06366b7817"
      },
      "source": [
        "de = ds['Detail'].unique()\n",
        "for i in de:\n",
        "    if len(i) <= 5:\n",
        "        print(str(i))"
      ],
      "execution_count": null,
      "outputs": [
        {
          "output_type": "stream",
          "text": [
            "\n"
          ],
          "name": "stdout"
        }
      ]
    },
    {
      "cell_type": "code",
      "metadata": {
        "id": "qujMEIzVAGPC"
      },
      "source": [
        "# 위의 결과로부터 ''값이 존재하여 제거\n",
        "idx2 = ds[ds['Detail'] == ''].index\n",
        "ds.drop(idx2, inplace=True)"
      ],
      "execution_count": null,
      "outputs": []
    },
    {
      "cell_type": "code",
      "metadata": {
        "colab": {
          "base_uri": "https://localhost:8080/",
          "height": 419
        },
        "id": "dpsU4VGqAN8y",
        "outputId": "19710aa0-e8bd-4f24-ddaa-a0510732a2f6"
      },
      "source": [
        "ds"
      ],
      "execution_count": null,
      "outputs": [
        {
          "output_type": "execute_result",
          "data": {
            "text/html": [
              "<div>\n",
              "<style scoped>\n",
              "    .dataframe tbody tr th:only-of-type {\n",
              "        vertical-align: middle;\n",
              "    }\n",
              "\n",
              "    .dataframe tbody tr th {\n",
              "        vertical-align: top;\n",
              "    }\n",
              "\n",
              "    .dataframe thead th {\n",
              "        text-align: right;\n",
              "    }\n",
              "</style>\n",
              "<table border=\"1\" class=\"dataframe\">\n",
              "  <thead>\n",
              "    <tr style=\"text-align: right;\">\n",
              "      <th></th>\n",
              "      <th>Customer</th>\n",
              "      <th>Detail</th>\n",
              "      <th>label</th>\n",
              "    </tr>\n",
              "  </thead>\n",
              "  <tbody>\n",
              "    <tr>\n",
              "      <th>0</th>\n",
              "      <td>32346.0</td>\n",
              "      <td>DOORMAT HOME SWEET HOME BLUE&amp;&amp;DOORMAT SPOTTY H...</td>\n",
              "      <td>RED SPOTTY CHILDS UMBRELLA</td>\n",
              "    </tr>\n",
              "    <tr>\n",
              "      <th>1</th>\n",
              "      <td>32349.0</td>\n",
              "      <td>RETRO SPOT LARGE MILK JUG&amp;&amp;POLKADOT CUTLERY 24...</td>\n",
              "      <td>SET/6 RED SPOTTY PAPER CUPS</td>\n",
              "    </tr>\n",
              "    <tr>\n",
              "      <th>2</th>\n",
              "      <td>32355.0</td>\n",
              "      <td>GOLD TEDDY BEAR&amp;&amp;OPULENT VELVET SET/3 CANDLES&amp;...</td>\n",
              "      <td>KIDS RAIN MAC BLUE</td>\n",
              "    </tr>\n",
              "    <tr>\n",
              "      <th>3</th>\n",
              "      <td>32358.0</td>\n",
              "      <td>JUMBO SHOPPER VINTAGE RED PAISLEY&amp;&amp;GARDEN PATH...</td>\n",
              "      <td>ASSORTED CHEESE FRIDGE MAGNETS</td>\n",
              "    </tr>\n",
              "    <tr>\n",
              "      <th>4</th>\n",
              "      <td>32359.0</td>\n",
              "      <td>SET OF 2 WOODEN MARKET CRATES&amp;&amp;OLD DOC RUSSEL ...</td>\n",
              "      <td>LAUNDRY 15C METAL SIGN</td>\n",
              "    </tr>\n",
              "    <tr>\n",
              "      <th>...</th>\n",
              "      <td>...</td>\n",
              "      <td>...</td>\n",
              "      <td>...</td>\n",
              "    </tr>\n",
              "    <tr>\n",
              "      <th>2727</th>\n",
              "      <td>38276.0</td>\n",
              "      <td>LUNCH BAG SPACEBOY DESIGN&amp;&amp;SET OF 72 SKULL PAP...</td>\n",
              "      <td>LUNCH BAG  BLACK SKULL.</td>\n",
              "    </tr>\n",
              "    <tr>\n",
              "      <th>2728</th>\n",
              "      <td>38281.0</td>\n",
              "      <td>TEA PARTY BIRTHDAY CARD&amp;&amp;LUNCH BAG PINK RETROS...</td>\n",
              "      <td>SPACEBOY BIRTHDAY CARD</td>\n",
              "    </tr>\n",
              "    <tr>\n",
              "      <th>2729</th>\n",
              "      <td>38283.0</td>\n",
              "      <td>SMALL POPCORN HOLDER&amp;&amp;ASSORTED ICE CREAM FRIDG...</td>\n",
              "      <td>RED SPOTTY CHILDS APRON</td>\n",
              "    </tr>\n",
              "    <tr>\n",
              "      <th>2730</th>\n",
              "      <td>38285.0</td>\n",
              "      <td>GLASS HEART T-LIGHT HOLDER&amp;&amp;SMALL GLASS SUNDAE...</td>\n",
              "      <td>CAKE STAND VICTORIAN FILIGREE SMALL</td>\n",
              "    </tr>\n",
              "    <tr>\n",
              "      <th>2731</th>\n",
              "      <td>38287.0</td>\n",
              "      <td>S/4 PINK FLOWER CANDLES IN BOWL&amp;&amp;GARLAND, MAGI...</td>\n",
              "      <td>BASKET OF TOADSTOOLS</td>\n",
              "    </tr>\n",
              "  </tbody>\n",
              "</table>\n",
              "<p>2677 rows × 3 columns</p>\n",
              "</div>"
            ],
            "text/plain": [
              "      Customer  ...                                label\n",
              "0      32346.0  ...           RED SPOTTY CHILDS UMBRELLA\n",
              "1      32349.0  ...          SET/6 RED SPOTTY PAPER CUPS\n",
              "2      32355.0  ...                   KIDS RAIN MAC BLUE\n",
              "3      32358.0  ...       ASSORTED CHEESE FRIDGE MAGNETS\n",
              "4      32359.0  ...               LAUNDRY 15C METAL SIGN\n",
              "...        ...  ...                                  ...\n",
              "2727   38276.0  ...              LUNCH BAG  BLACK SKULL.\n",
              "2728   38281.0  ...               SPACEBOY BIRTHDAY CARD\n",
              "2729   38283.0  ...              RED SPOTTY CHILDS APRON\n",
              "2730   38285.0  ...  CAKE STAND VICTORIAN FILIGREE SMALL\n",
              "2731   38287.0  ...                 BASKET OF TOADSTOOLS\n",
              "\n",
              "[2677 rows x 3 columns]"
            ]
          },
          "metadata": {
            "tags": []
          },
          "execution_count": 23
        }
      ]
    },
    {
      "cell_type": "code",
      "metadata": {
        "id": "f0kciZNHCQCK"
      },
      "source": [
        "ds_customer = ds # 명확한 명칭으로 변경"
      ],
      "execution_count": null,
      "outputs": []
    },
    {
      "cell_type": "markdown",
      "metadata": {
        "id": "GAllqZizDFWQ"
      },
      "source": [
        "## Invoice 기준 history"
      ]
    },
    {
      "cell_type": "code",
      "metadata": {
        "colab": {
          "base_uri": "https://localhost:8080/",
          "height": 204
        },
        "id": "pb6EdT8KXad-",
        "outputId": "dc328e18-b868-452d-bd19-5189dae90b76"
      },
      "source": [
        "df_invoice = df.copy()\n",
        "df_invoice['Invoice'] = df_invoice['Invoice'].apply(lambda x: str(x))\n",
        "sortdf(df_invoice, ['Invoice'])\n",
        "df_invoice.head()"
      ],
      "execution_count": null,
      "outputs": [
        {
          "output_type": "execute_result",
          "data": {
            "text/html": [
              "<div>\n",
              "<style scoped>\n",
              "    .dataframe tbody tr th:only-of-type {\n",
              "        vertical-align: middle;\n",
              "    }\n",
              "\n",
              "    .dataframe tbody tr th {\n",
              "        vertical-align: top;\n",
              "    }\n",
              "\n",
              "    .dataframe thead th {\n",
              "        text-align: right;\n",
              "    }\n",
              "</style>\n",
              "<table border=\"1\" class=\"dataframe\">\n",
              "  <thead>\n",
              "    <tr style=\"text-align: right;\">\n",
              "      <th></th>\n",
              "      <th>Customer</th>\n",
              "      <th>Invoice</th>\n",
              "      <th>Detail</th>\n",
              "    </tr>\n",
              "  </thead>\n",
              "  <tbody>\n",
              "    <tr>\n",
              "      <th>0</th>\n",
              "      <td>34590.0</td>\n",
              "      <td>243414</td>\n",
              "      <td>HAND OPEN SHAPE GOLD</td>\n",
              "    </tr>\n",
              "    <tr>\n",
              "      <th>1</th>\n",
              "      <td>34590.0</td>\n",
              "      <td>243414</td>\n",
              "      <td>RETRO SPOT MUG</td>\n",
              "    </tr>\n",
              "    <tr>\n",
              "      <th>2</th>\n",
              "      <td>34590.0</td>\n",
              "      <td>243414</td>\n",
              "      <td>RETRO SPOT SUGAR JAM BOWL</td>\n",
              "    </tr>\n",
              "    <tr>\n",
              "      <th>3</th>\n",
              "      <td>34590.0</td>\n",
              "      <td>243414</td>\n",
              "      <td>NEW ENGLAND CERAMIC CAKE SERVER</td>\n",
              "    </tr>\n",
              "    <tr>\n",
              "      <th>4</th>\n",
              "      <td>34590.0</td>\n",
              "      <td>243414</td>\n",
              "      <td>RETRO SPOT TRADITIONAL TEAPOT</td>\n",
              "    </tr>\n",
              "  </tbody>\n",
              "</table>\n",
              "</div>"
            ],
            "text/plain": [
              "   Customer Invoice                           Detail\n",
              "0   34590.0  243414             HAND OPEN SHAPE GOLD\n",
              "1   34590.0  243414                   RETRO SPOT MUG\n",
              "2   34590.0  243414        RETRO SPOT SUGAR JAM BOWL\n",
              "3   34590.0  243414  NEW ENGLAND CERAMIC CAKE SERVER\n",
              "4   34590.0  243414    RETRO SPOT TRADITIONAL TEAPOT"
            ]
          },
          "metadata": {
            "tags": []
          },
          "execution_count": 25
        }
      ]
    },
    {
      "cell_type": "code",
      "metadata": {
        "colab": {
          "base_uri": "https://localhost:8080/"
        },
        "id": "e-9gEKBx8uHK",
        "outputId": "63e007a8-b4e8-4125-abf2-66fee291d39f"
      },
      "source": [
        "Invoice = df_invoice['Invoice'].unique()\n",
        "Invoice = sorted(Invoice)\n",
        "len(Invoice)"
      ],
      "execution_count": null,
      "outputs": [
        {
          "output_type": "execute_result",
          "data": {
            "text/plain": [
              "7557"
            ]
          },
          "metadata": {
            "tags": []
          },
          "execution_count": 26
        }
      ]
    },
    {
      "cell_type": "code",
      "metadata": {
        "colab": {
          "base_uri": "https://localhost:8080/",
          "height": 436
        },
        "id": "8BO1CJZ--bEN",
        "outputId": "a45312af-e91c-4648-f5ea-938778c8c288"
      },
      "source": [
        "df3 = pd.DataFrame(columns=['Invoice', 'Detail']) #  Transformer 학습용 Invoice 기준 history\n",
        "values = df_invoice['Invoice'].value_counts().index.sort_values()\n",
        "\n",
        "for i, v in enumerate(tqdm.tqdm(values)):\n",
        "    df3.loc[i] = (v, '&&'.join(df_invoice[df_invoice['Invoice'] == v]['Detail']))\n",
        "df3"
      ],
      "execution_count": null,
      "outputs": [
        {
          "output_type": "stream",
          "text": [
            "100%|██████████| 7557/7557 [01:24<00:00, 89.96it/s]\n"
          ],
          "name": "stderr"
        },
        {
          "output_type": "execute_result",
          "data": {
            "text/html": [
              "<div>\n",
              "<style scoped>\n",
              "    .dataframe tbody tr th:only-of-type {\n",
              "        vertical-align: middle;\n",
              "    }\n",
              "\n",
              "    .dataframe tbody tr th {\n",
              "        vertical-align: top;\n",
              "    }\n",
              "\n",
              "    .dataframe thead th {\n",
              "        text-align: right;\n",
              "    }\n",
              "</style>\n",
              "<table border=\"1\" class=\"dataframe\">\n",
              "  <thead>\n",
              "    <tr style=\"text-align: right;\">\n",
              "      <th></th>\n",
              "      <th>Invoice</th>\n",
              "      <th>Detail</th>\n",
              "    </tr>\n",
              "  </thead>\n",
              "  <tbody>\n",
              "    <tr>\n",
              "      <th>0</th>\n",
              "      <td>243414</td>\n",
              "      <td>HAND OPEN SHAPE GOLD&amp;&amp;RETRO SPOT MUG&amp;&amp;RETRO SP...</td>\n",
              "    </tr>\n",
              "    <tr>\n",
              "      <th>1</th>\n",
              "      <td>243427</td>\n",
              "      <td>MOROCCAN TEA GLASS&amp;&amp;BLACK FLOWER CANDLE PLATE&amp;...</td>\n",
              "    </tr>\n",
              "    <tr>\n",
              "      <th>2</th>\n",
              "      <td>243428</td>\n",
              "      <td>LUNCHBOX WITH CUTLERY FAIRY CAKES&amp;&amp;STRAWBERRY ...</td>\n",
              "    </tr>\n",
              "    <tr>\n",
              "      <th>3</th>\n",
              "      <td>243432</td>\n",
              "      <td>RED WOOLLY HOTTIE WHITE HEART.&amp;&amp;CERAMIC CAKE D...</td>\n",
              "    </tr>\n",
              "    <tr>\n",
              "      <th>4</th>\n",
              "      <td>243433</td>\n",
              "      <td>STRAWBERRY CERAMIC TRINKET BOX&amp;&amp;JUMBO  BAG BAR...</td>\n",
              "    </tr>\n",
              "    <tr>\n",
              "      <th>...</th>\n",
              "      <td>...</td>\n",
              "      <td>...</td>\n",
              "    </tr>\n",
              "    <tr>\n",
              "      <th>7552</th>\n",
              "      <td>264208</td>\n",
              "      <td>ASSORTED COLOUR BIRD ORNAMENT&amp;&amp;VICTORIAN GLASS...</td>\n",
              "    </tr>\n",
              "    <tr>\n",
              "      <th>7553</th>\n",
              "      <td>264209</td>\n",
              "      <td>PACK OF 60 PINK PAISLEY CAKE CASES&amp;&amp;WASHROOM M...</td>\n",
              "    </tr>\n",
              "    <tr>\n",
              "      <th>7554</th>\n",
              "      <td>264210</td>\n",
              "      <td>GLASS JAR DIGESTIVE BISCUITS&amp;&amp;BLUE STRIPE CERA...</td>\n",
              "    </tr>\n",
              "    <tr>\n",
              "      <th>7555</th>\n",
              "      <td>264211</td>\n",
              "      <td>PICNIC BASKET WICKER SMALL&amp;&amp;NATURAL SLATE HEAR...</td>\n",
              "    </tr>\n",
              "    <tr>\n",
              "      <th>7556</th>\n",
              "      <td>264212</td>\n",
              "      <td>UNION STRIPE WITH FRINGE  HAMMOCK&amp;&amp;RED/CREAM S...</td>\n",
              "    </tr>\n",
              "  </tbody>\n",
              "</table>\n",
              "<p>7557 rows × 2 columns</p>\n",
              "</div>"
            ],
            "text/plain": [
              "     Invoice                                             Detail\n",
              "0     243414  HAND OPEN SHAPE GOLD&&RETRO SPOT MUG&&RETRO SP...\n",
              "1     243427  MOROCCAN TEA GLASS&&BLACK FLOWER CANDLE PLATE&...\n",
              "2     243428  LUNCHBOX WITH CUTLERY FAIRY CAKES&&STRAWBERRY ...\n",
              "3     243432  RED WOOLLY HOTTIE WHITE HEART.&&CERAMIC CAKE D...\n",
              "4     243433  STRAWBERRY CERAMIC TRINKET BOX&&JUMBO  BAG BAR...\n",
              "...      ...                                                ...\n",
              "7552  264208  ASSORTED COLOUR BIRD ORNAMENT&&VICTORIAN GLASS...\n",
              "7553  264209  PACK OF 60 PINK PAISLEY CAKE CASES&&WASHROOM M...\n",
              "7554  264210  GLASS JAR DIGESTIVE BISCUITS&&BLUE STRIPE CERA...\n",
              "7555  264211  PICNIC BASKET WICKER SMALL&&NATURAL SLATE HEAR...\n",
              "7556  264212  UNION STRIPE WITH FRINGE  HAMMOCK&&RED/CREAM S...\n",
              "\n",
              "[7557 rows x 2 columns]"
            ]
          },
          "metadata": {
            "tags": []
          },
          "execution_count": 27
        }
      ]
    },
    {
      "cell_type": "code",
      "metadata": {
        "colab": {
          "base_uri": "https://localhost:8080/",
          "height": 419
        },
        "id": "8yNXh2DBHsLE",
        "outputId": "58b55ab9-86b7-47db-a9e0-ce327b0c97ff"
      },
      "source": [
        "df3.pop('Invoice')\n",
        "df3"
      ],
      "execution_count": null,
      "outputs": [
        {
          "output_type": "execute_result",
          "data": {
            "text/html": [
              "<div>\n",
              "<style scoped>\n",
              "    .dataframe tbody tr th:only-of-type {\n",
              "        vertical-align: middle;\n",
              "    }\n",
              "\n",
              "    .dataframe tbody tr th {\n",
              "        vertical-align: top;\n",
              "    }\n",
              "\n",
              "    .dataframe thead th {\n",
              "        text-align: right;\n",
              "    }\n",
              "</style>\n",
              "<table border=\"1\" class=\"dataframe\">\n",
              "  <thead>\n",
              "    <tr style=\"text-align: right;\">\n",
              "      <th></th>\n",
              "      <th>Detail</th>\n",
              "    </tr>\n",
              "  </thead>\n",
              "  <tbody>\n",
              "    <tr>\n",
              "      <th>0</th>\n",
              "      <td>HAND OPEN SHAPE GOLD&amp;&amp;RETRO SPOT MUG&amp;&amp;RETRO SP...</td>\n",
              "    </tr>\n",
              "    <tr>\n",
              "      <th>1</th>\n",
              "      <td>MOROCCAN TEA GLASS&amp;&amp;BLACK FLOWER CANDLE PLATE&amp;...</td>\n",
              "    </tr>\n",
              "    <tr>\n",
              "      <th>2</th>\n",
              "      <td>LUNCHBOX WITH CUTLERY FAIRY CAKES&amp;&amp;STRAWBERRY ...</td>\n",
              "    </tr>\n",
              "    <tr>\n",
              "      <th>3</th>\n",
              "      <td>RED WOOLLY HOTTIE WHITE HEART.&amp;&amp;CERAMIC CAKE D...</td>\n",
              "    </tr>\n",
              "    <tr>\n",
              "      <th>4</th>\n",
              "      <td>STRAWBERRY CERAMIC TRINKET BOX&amp;&amp;JUMBO  BAG BAR...</td>\n",
              "    </tr>\n",
              "    <tr>\n",
              "      <th>...</th>\n",
              "      <td>...</td>\n",
              "    </tr>\n",
              "    <tr>\n",
              "      <th>7552</th>\n",
              "      <td>ASSORTED COLOUR BIRD ORNAMENT&amp;&amp;VICTORIAN GLASS...</td>\n",
              "    </tr>\n",
              "    <tr>\n",
              "      <th>7553</th>\n",
              "      <td>PACK OF 60 PINK PAISLEY CAKE CASES&amp;&amp;WASHROOM M...</td>\n",
              "    </tr>\n",
              "    <tr>\n",
              "      <th>7554</th>\n",
              "      <td>GLASS JAR DIGESTIVE BISCUITS&amp;&amp;BLUE STRIPE CERA...</td>\n",
              "    </tr>\n",
              "    <tr>\n",
              "      <th>7555</th>\n",
              "      <td>PICNIC BASKET WICKER SMALL&amp;&amp;NATURAL SLATE HEAR...</td>\n",
              "    </tr>\n",
              "    <tr>\n",
              "      <th>7556</th>\n",
              "      <td>UNION STRIPE WITH FRINGE  HAMMOCK&amp;&amp;RED/CREAM S...</td>\n",
              "    </tr>\n",
              "  </tbody>\n",
              "</table>\n",
              "<p>7557 rows × 1 columns</p>\n",
              "</div>"
            ],
            "text/plain": [
              "                                                 Detail\n",
              "0     HAND OPEN SHAPE GOLD&&RETRO SPOT MUG&&RETRO SP...\n",
              "1     MOROCCAN TEA GLASS&&BLACK FLOWER CANDLE PLATE&...\n",
              "2     LUNCHBOX WITH CUTLERY FAIRY CAKES&&STRAWBERRY ...\n",
              "3     RED WOOLLY HOTTIE WHITE HEART.&&CERAMIC CAKE D...\n",
              "4     STRAWBERRY CERAMIC TRINKET BOX&&JUMBO  BAG BAR...\n",
              "...                                                 ...\n",
              "7552  ASSORTED COLOUR BIRD ORNAMENT&&VICTORIAN GLASS...\n",
              "7553  PACK OF 60 PINK PAISLEY CAKE CASES&&WASHROOM M...\n",
              "7554  GLASS JAR DIGESTIVE BISCUITS&&BLUE STRIPE CERA...\n",
              "7555  PICNIC BASKET WICKER SMALL&&NATURAL SLATE HEAR...\n",
              "7556  UNION STRIPE WITH FRINGE  HAMMOCK&&RED/CREAM S...\n",
              "\n",
              "[7557 rows x 1 columns]"
            ]
          },
          "metadata": {
            "tags": []
          },
          "execution_count": 28
        }
      ]
    },
    {
      "cell_type": "code",
      "metadata": {
        "id": "zVuQylRuupaR",
        "colab": {
          "base_uri": "https://localhost:8080/"
        },
        "outputId": "d69ff0d5-bdc0-4467-a2f0-dba3226df8cc"
      },
      "source": [
        "df_series = df3['Detail'].str.split('&&')\n",
        "df_series[0]"
      ],
      "execution_count": null,
      "outputs": [
        {
          "output_type": "execute_result",
          "data": {
            "text/plain": [
              "['HAND OPEN SHAPE GOLD',\n",
              " 'RETRO SPOT MUG',\n",
              " 'RETRO SPOT SUGAR JAM BOWL',\n",
              " 'NEW ENGLAND CERAMIC CAKE SERVER',\n",
              " 'RETRO SPOT TRADITIONAL TEAPOT',\n",
              " 'RETRO SPOT LARGE MILK JUG']"
            ]
          },
          "metadata": {
            "tags": []
          },
          "execution_count": 29
        }
      ]
    },
    {
      "cell_type": "code",
      "metadata": {
        "id": "GVCj9IZbHeZP"
      },
      "source": [
        "# Invoice를 4+1로 자르는 함수\n",
        "\n",
        "sequence_length = 5\n",
        "step_size = 2\n",
        "\n",
        "# [4, 4, 5, 5, 6, 6]이라면, 아래 함수를 통해\n",
        "# [[4, 4, 5, 5], [5, 5, 6, 6]]으로 다시 만들어집니다.\n",
        "def create_sequences(values, window_size, step_size):\n",
        "    sequences = []\n",
        "    start_index = 0\n",
        "    while True:\n",
        "        end_index = start_index + window_size\n",
        "        seq = values[start_index:end_index]\n",
        "        # 뒤에 남은 데이터가 window_size보다 작으면 중지합니다.\n",
        "        if len(seq) < window_size:\n",
        "            seq = values[-window_size:]\n",
        "            # window_size와 같으면 list에 붙여줍니다.\n",
        "            if len(seq) == window_size:\n",
        "                sequences.append(seq)\n",
        "            break\n",
        "        sequences.append(seq)\n",
        "        start_index += step_size\n",
        "    return sequences"
      ],
      "execution_count": null,
      "outputs": []
    },
    {
      "cell_type": "code",
      "metadata": {
        "colab": {
          "base_uri": "https://localhost:8080/"
        },
        "id": "uFwYfCTzHkwB",
        "outputId": "ff160691-3992-417d-da87-563f7f29d4e3"
      },
      "source": [
        "for i, v in enumerate(df_series):\n",
        "    df_series[i] = create_sequences(v, sequence_length, step_size)\n",
        "df_series[0]"
      ],
      "execution_count": null,
      "outputs": [
        {
          "output_type": "execute_result",
          "data": {
            "text/plain": [
              "[['HAND OPEN SHAPE GOLD',\n",
              "  'RETRO SPOT MUG',\n",
              "  'RETRO SPOT SUGAR JAM BOWL',\n",
              "  'NEW ENGLAND CERAMIC CAKE SERVER',\n",
              "  'RETRO SPOT TRADITIONAL TEAPOT'],\n",
              " ['RETRO SPOT MUG',\n",
              "  'RETRO SPOT SUGAR JAM BOWL',\n",
              "  'NEW ENGLAND CERAMIC CAKE SERVER',\n",
              "  'RETRO SPOT TRADITIONAL TEAPOT',\n",
              "  'RETRO SPOT LARGE MILK JUG']]"
            ]
          },
          "metadata": {
            "tags": []
          },
          "execution_count": 31
        }
      ]
    },
    {
      "cell_type": "code",
      "metadata": {
        "colab": {
          "base_uri": "https://localhost:8080/"
        },
        "id": "qkiKgawkHmaN",
        "outputId": "a394036c-7eb2-4b85-976c-270f0401dfcf"
      },
      "source": [
        "df_list = []\n",
        "for v in df_series:\n",
        "    for value in v:\n",
        "        df_list.append(value)\n",
        "df_list[:2]"
      ],
      "execution_count": null,
      "outputs": [
        {
          "output_type": "execute_result",
          "data": {
            "text/plain": [
              "[['HAND OPEN SHAPE GOLD',\n",
              "  'RETRO SPOT MUG',\n",
              "  'RETRO SPOT SUGAR JAM BOWL',\n",
              "  'NEW ENGLAND CERAMIC CAKE SERVER',\n",
              "  'RETRO SPOT TRADITIONAL TEAPOT'],\n",
              " ['RETRO SPOT MUG',\n",
              "  'RETRO SPOT SUGAR JAM BOWL',\n",
              "  'NEW ENGLAND CERAMIC CAKE SERVER',\n",
              "  'RETRO SPOT TRADITIONAL TEAPOT',\n",
              "  'RETRO SPOT LARGE MILK JUG']]"
            ]
          },
          "metadata": {
            "tags": []
          },
          "execution_count": 32
        }
      ]
    },
    {
      "cell_type": "code",
      "metadata": {
        "colab": {
          "base_uri": "https://localhost:8080/"
        },
        "id": "oQHDMO92HzlT",
        "outputId": "3025c492-e51f-4396-c5ef-169d6b7f7ffe"
      },
      "source": [
        "label_list = []\n",
        "\n",
        "for i in range(len(df_list)):\n",
        "    l = df_list[i][-1]\n",
        "    df_list[i].pop()\n",
        "    label_list.append(l)\n",
        "label_list[:2]"
      ],
      "execution_count": null,
      "outputs": [
        {
          "output_type": "execute_result",
          "data": {
            "text/plain": [
              "['RETRO SPOT TRADITIONAL TEAPOT', 'RETRO SPOT LARGE MILK JUG']"
            ]
          },
          "metadata": {
            "tags": []
          },
          "execution_count": 33
        }
      ]
    },
    {
      "cell_type": "code",
      "metadata": {
        "colab": {
          "base_uri": "https://localhost:8080/",
          "height": 419
        },
        "id": "vLJP8niaH1BR",
        "outputId": "7011d680-b5e5-4540-832c-02b5feec5b03"
      },
      "source": [
        "df_new = pd.DataFrame(columns=['Detail', 'label'])\n",
        "df_new['Detail'] = df_list\n",
        "df_new['label'] = label_list\n",
        "df_new"
      ],
      "execution_count": null,
      "outputs": [
        {
          "output_type": "execute_result",
          "data": {
            "text/html": [
              "<div>\n",
              "<style scoped>\n",
              "    .dataframe tbody tr th:only-of-type {\n",
              "        vertical-align: middle;\n",
              "    }\n",
              "\n",
              "    .dataframe tbody tr th {\n",
              "        vertical-align: top;\n",
              "    }\n",
              "\n",
              "    .dataframe thead th {\n",
              "        text-align: right;\n",
              "    }\n",
              "</style>\n",
              "<table border=\"1\" class=\"dataframe\">\n",
              "  <thead>\n",
              "    <tr style=\"text-align: right;\">\n",
              "      <th></th>\n",
              "      <th>Detail</th>\n",
              "      <th>label</th>\n",
              "    </tr>\n",
              "  </thead>\n",
              "  <tbody>\n",
              "    <tr>\n",
              "      <th>0</th>\n",
              "      <td>[HAND OPEN SHAPE GOLD, RETRO SPOT MUG, RETRO S...</td>\n",
              "      <td>RETRO SPOT TRADITIONAL TEAPOT</td>\n",
              "    </tr>\n",
              "    <tr>\n",
              "      <th>1</th>\n",
              "      <td>[RETRO SPOT MUG, RETRO SPOT SUGAR JAM BOWL, NE...</td>\n",
              "      <td>RETRO SPOT LARGE MILK JUG</td>\n",
              "    </tr>\n",
              "    <tr>\n",
              "      <th>2</th>\n",
              "      <td>[MOROCCAN TEA GLASS, BLACK FLOWER CANDLE PLATE...</td>\n",
              "      <td>CERAMIC CAKE DESIGN SPOTTED PLATE</td>\n",
              "    </tr>\n",
              "    <tr>\n",
              "      <th>3</th>\n",
              "      <td>[BLACK SILOUETTE CANDLE PLATE, VICTORIAN GLASS...</td>\n",
              "      <td>SAVE THE PLANET COTTON TOTE BAG</td>\n",
              "    </tr>\n",
              "    <tr>\n",
              "      <th>4</th>\n",
              "      <td>[CERAMIC CAKE DESIGN SPOTTED PLATE, PINK CLEAR...</td>\n",
              "      <td>STRAWBERRY CERAMIC TRINKET BOX</td>\n",
              "    </tr>\n",
              "    <tr>\n",
              "      <th>...</th>\n",
              "      <td>...</td>\n",
              "      <td>...</td>\n",
              "    </tr>\n",
              "    <tr>\n",
              "      <th>74502</th>\n",
              "      <td>[UNION STRIPE WITH FRINGE  HAMMOCK, RED/CREAM ...</td>\n",
              "      <td>WHITE HANGING HEART T-LIGHT HOLDER</td>\n",
              "    </tr>\n",
              "    <tr>\n",
              "      <th>74503</th>\n",
              "      <td>[OCEAN STRIPE HAMMOCK, BLUE/CREAM STRIPE FRING...</td>\n",
              "      <td>ENAMEL WATERING CAN CREAM</td>\n",
              "    </tr>\n",
              "    <tr>\n",
              "      <th>74504</th>\n",
              "      <td>[WHITE HANGING HEART T-LIGHT HOLDER, BAG 250g ...</td>\n",
              "      <td>NATURAL SLATE HEART CHALKBOARD</td>\n",
              "    </tr>\n",
              "    <tr>\n",
              "      <th>74505</th>\n",
              "      <td>[ENAMEL WATERING CAN CREAM, PORCELAIN HANGING ...</td>\n",
              "      <td>COLOUR GLASS T-LIGHT HOLDER HANGING</td>\n",
              "    </tr>\n",
              "    <tr>\n",
              "      <th>74506</th>\n",
              "      <td>[ENAMEL WATERING CAN CREAM, PORCELAIN HANGING ...</td>\n",
              "      <td>COLOUR GLASS T-LIGHT HOLDER HANGING</td>\n",
              "    </tr>\n",
              "  </tbody>\n",
              "</table>\n",
              "<p>74507 rows × 2 columns</p>\n",
              "</div>"
            ],
            "text/plain": [
              "                                                  Detail                                label\n",
              "0      [HAND OPEN SHAPE GOLD, RETRO SPOT MUG, RETRO S...        RETRO SPOT TRADITIONAL TEAPOT\n",
              "1      [RETRO SPOT MUG, RETRO SPOT SUGAR JAM BOWL, NE...            RETRO SPOT LARGE MILK JUG\n",
              "2      [MOROCCAN TEA GLASS, BLACK FLOWER CANDLE PLATE...    CERAMIC CAKE DESIGN SPOTTED PLATE\n",
              "3      [BLACK SILOUETTE CANDLE PLATE, VICTORIAN GLASS...      SAVE THE PLANET COTTON TOTE BAG\n",
              "4      [CERAMIC CAKE DESIGN SPOTTED PLATE, PINK CLEAR...       STRAWBERRY CERAMIC TRINKET BOX\n",
              "...                                                  ...                                  ...\n",
              "74502  [UNION STRIPE WITH FRINGE  HAMMOCK, RED/CREAM ...   WHITE HANGING HEART T-LIGHT HOLDER\n",
              "74503  [OCEAN STRIPE HAMMOCK, BLUE/CREAM STRIPE FRING...            ENAMEL WATERING CAN CREAM\n",
              "74504  [WHITE HANGING HEART T-LIGHT HOLDER, BAG 250g ...       NATURAL SLATE HEART CHALKBOARD\n",
              "74505  [ENAMEL WATERING CAN CREAM, PORCELAIN HANGING ...  COLOUR GLASS T-LIGHT HOLDER HANGING\n",
              "74506  [ENAMEL WATERING CAN CREAM, PORCELAIN HANGING ...  COLOUR GLASS T-LIGHT HOLDER HANGING\n",
              "\n",
              "[74507 rows x 2 columns]"
            ]
          },
          "metadata": {
            "tags": []
          },
          "execution_count": 34
        }
      ]
    },
    {
      "cell_type": "code",
      "metadata": {
        "colab": {
          "base_uri": "https://localhost:8080/",
          "height": 419
        },
        "id": "tKmSosAXH-EW",
        "outputId": "1e37131a-5416-424a-e117-8b8ee34d7e34"
      },
      "source": [
        "df_new['Detail'] = df_new['Detail'].apply(lambda x: '&&'.join(map(str, x)))\n",
        "df_new"
      ],
      "execution_count": null,
      "outputs": [
        {
          "output_type": "execute_result",
          "data": {
            "text/html": [
              "<div>\n",
              "<style scoped>\n",
              "    .dataframe tbody tr th:only-of-type {\n",
              "        vertical-align: middle;\n",
              "    }\n",
              "\n",
              "    .dataframe tbody tr th {\n",
              "        vertical-align: top;\n",
              "    }\n",
              "\n",
              "    .dataframe thead th {\n",
              "        text-align: right;\n",
              "    }\n",
              "</style>\n",
              "<table border=\"1\" class=\"dataframe\">\n",
              "  <thead>\n",
              "    <tr style=\"text-align: right;\">\n",
              "      <th></th>\n",
              "      <th>Detail</th>\n",
              "      <th>label</th>\n",
              "    </tr>\n",
              "  </thead>\n",
              "  <tbody>\n",
              "    <tr>\n",
              "      <th>0</th>\n",
              "      <td>HAND OPEN SHAPE GOLD&amp;&amp;RETRO SPOT MUG&amp;&amp;RETRO SP...</td>\n",
              "      <td>RETRO SPOT TRADITIONAL TEAPOT</td>\n",
              "    </tr>\n",
              "    <tr>\n",
              "      <th>1</th>\n",
              "      <td>RETRO SPOT MUG&amp;&amp;RETRO SPOT SUGAR JAM BOWL&amp;&amp;NEW...</td>\n",
              "      <td>RETRO SPOT LARGE MILK JUG</td>\n",
              "    </tr>\n",
              "    <tr>\n",
              "      <th>2</th>\n",
              "      <td>MOROCCAN TEA GLASS&amp;&amp;BLACK FLOWER CANDLE PLATE&amp;...</td>\n",
              "      <td>CERAMIC CAKE DESIGN SPOTTED PLATE</td>\n",
              "    </tr>\n",
              "    <tr>\n",
              "      <th>3</th>\n",
              "      <td>BLACK SILOUETTE CANDLE PLATE&amp;&amp;VICTORIAN GLASS ...</td>\n",
              "      <td>SAVE THE PLANET COTTON TOTE BAG</td>\n",
              "    </tr>\n",
              "    <tr>\n",
              "      <th>4</th>\n",
              "      <td>CERAMIC CAKE DESIGN SPOTTED PLATE&amp;&amp;PINK CLEAR ...</td>\n",
              "      <td>STRAWBERRY CERAMIC TRINKET BOX</td>\n",
              "    </tr>\n",
              "    <tr>\n",
              "      <th>...</th>\n",
              "      <td>...</td>\n",
              "      <td>...</td>\n",
              "    </tr>\n",
              "    <tr>\n",
              "      <th>74502</th>\n",
              "      <td>UNION STRIPE WITH FRINGE  HAMMOCK&amp;&amp;RED/CREAM S...</td>\n",
              "      <td>WHITE HANGING HEART T-LIGHT HOLDER</td>\n",
              "    </tr>\n",
              "    <tr>\n",
              "      <th>74503</th>\n",
              "      <td>OCEAN STRIPE HAMMOCK&amp;&amp;BLUE/CREAM STRIPE FRINGE...</td>\n",
              "      <td>ENAMEL WATERING CAN CREAM</td>\n",
              "    </tr>\n",
              "    <tr>\n",
              "      <th>74504</th>\n",
              "      <td>WHITE HANGING HEART T-LIGHT HOLDER&amp;&amp;BAG 250g S...</td>\n",
              "      <td>NATURAL SLATE HEART CHALKBOARD</td>\n",
              "    </tr>\n",
              "    <tr>\n",
              "      <th>74505</th>\n",
              "      <td>ENAMEL WATERING CAN CREAM&amp;&amp;PORCELAIN HANGING B...</td>\n",
              "      <td>COLOUR GLASS T-LIGHT HOLDER HANGING</td>\n",
              "    </tr>\n",
              "    <tr>\n",
              "      <th>74506</th>\n",
              "      <td>ENAMEL WATERING CAN CREAM&amp;&amp;PORCELAIN HANGING B...</td>\n",
              "      <td>COLOUR GLASS T-LIGHT HOLDER HANGING</td>\n",
              "    </tr>\n",
              "  </tbody>\n",
              "</table>\n",
              "<p>74507 rows × 2 columns</p>\n",
              "</div>"
            ],
            "text/plain": [
              "                                                  Detail                                label\n",
              "0      HAND OPEN SHAPE GOLD&&RETRO SPOT MUG&&RETRO SP...        RETRO SPOT TRADITIONAL TEAPOT\n",
              "1      RETRO SPOT MUG&&RETRO SPOT SUGAR JAM BOWL&&NEW...            RETRO SPOT LARGE MILK JUG\n",
              "2      MOROCCAN TEA GLASS&&BLACK FLOWER CANDLE PLATE&...    CERAMIC CAKE DESIGN SPOTTED PLATE\n",
              "3      BLACK SILOUETTE CANDLE PLATE&&VICTORIAN GLASS ...      SAVE THE PLANET COTTON TOTE BAG\n",
              "4      CERAMIC CAKE DESIGN SPOTTED PLATE&&PINK CLEAR ...       STRAWBERRY CERAMIC TRINKET BOX\n",
              "...                                                  ...                                  ...\n",
              "74502  UNION STRIPE WITH FRINGE  HAMMOCK&&RED/CREAM S...   WHITE HANGING HEART T-LIGHT HOLDER\n",
              "74503  OCEAN STRIPE HAMMOCK&&BLUE/CREAM STRIPE FRINGE...            ENAMEL WATERING CAN CREAM\n",
              "74504  WHITE HANGING HEART T-LIGHT HOLDER&&BAG 250g S...       NATURAL SLATE HEART CHALKBOARD\n",
              "74505  ENAMEL WATERING CAN CREAM&&PORCELAIN HANGING B...  COLOUR GLASS T-LIGHT HOLDER HANGING\n",
              "74506  ENAMEL WATERING CAN CREAM&&PORCELAIN HANGING B...  COLOUR GLASS T-LIGHT HOLDER HANGING\n",
              "\n",
              "[74507 rows x 2 columns]"
            ]
          },
          "metadata": {
            "tags": []
          },
          "execution_count": 35
        }
      ]
    },
    {
      "cell_type": "code",
      "metadata": {
        "colab": {
          "base_uri": "https://localhost:8080/"
        },
        "id": "W0mR1XZNIA3v",
        "outputId": "2dec29ac-44d2-4071-a4a4-56589efb068e"
      },
      "source": [
        "print(df_new.isnull().sum())\n",
        "df_new.dropna(inplace=True)"
      ],
      "execution_count": null,
      "outputs": [
        {
          "output_type": "stream",
          "text": [
            "Detail    0\n",
            "label     0\n",
            "dtype: int64\n"
          ],
          "name": "stdout"
        }
      ]
    },
    {
      "cell_type": "code",
      "metadata": {
        "colab": {
          "base_uri": "https://localhost:8080/",
          "height": 436
        },
        "id": "LKdNaxy5IBww",
        "outputId": "38734957-9480-4e34-c331-e3b5de2e591b"
      },
      "source": [
        "print(df_new.duplicated().sum())\n",
        "df_new.drop_duplicates(inplace=True)\n",
        "df_new.reset_index(inplace=True)\n",
        "df_new.pop('index')\n",
        "df_new"
      ],
      "execution_count": null,
      "outputs": [
        {
          "output_type": "stream",
          "text": [
            "3302\n"
          ],
          "name": "stdout"
        },
        {
          "output_type": "execute_result",
          "data": {
            "text/html": [
              "<div>\n",
              "<style scoped>\n",
              "    .dataframe tbody tr th:only-of-type {\n",
              "        vertical-align: middle;\n",
              "    }\n",
              "\n",
              "    .dataframe tbody tr th {\n",
              "        vertical-align: top;\n",
              "    }\n",
              "\n",
              "    .dataframe thead th {\n",
              "        text-align: right;\n",
              "    }\n",
              "</style>\n",
              "<table border=\"1\" class=\"dataframe\">\n",
              "  <thead>\n",
              "    <tr style=\"text-align: right;\">\n",
              "      <th></th>\n",
              "      <th>Detail</th>\n",
              "      <th>label</th>\n",
              "    </tr>\n",
              "  </thead>\n",
              "  <tbody>\n",
              "    <tr>\n",
              "      <th>0</th>\n",
              "      <td>HAND OPEN SHAPE GOLD&amp;&amp;RETRO SPOT MUG&amp;&amp;RETRO SP...</td>\n",
              "      <td>RETRO SPOT TRADITIONAL TEAPOT</td>\n",
              "    </tr>\n",
              "    <tr>\n",
              "      <th>1</th>\n",
              "      <td>RETRO SPOT MUG&amp;&amp;RETRO SPOT SUGAR JAM BOWL&amp;&amp;NEW...</td>\n",
              "      <td>RETRO SPOT LARGE MILK JUG</td>\n",
              "    </tr>\n",
              "    <tr>\n",
              "      <th>2</th>\n",
              "      <td>MOROCCAN TEA GLASS&amp;&amp;BLACK FLOWER CANDLE PLATE&amp;...</td>\n",
              "      <td>CERAMIC CAKE DESIGN SPOTTED PLATE</td>\n",
              "    </tr>\n",
              "    <tr>\n",
              "      <th>3</th>\n",
              "      <td>BLACK SILOUETTE CANDLE PLATE&amp;&amp;VICTORIAN GLASS ...</td>\n",
              "      <td>SAVE THE PLANET COTTON TOTE BAG</td>\n",
              "    </tr>\n",
              "    <tr>\n",
              "      <th>4</th>\n",
              "      <td>CERAMIC CAKE DESIGN SPOTTED PLATE&amp;&amp;PINK CLEAR ...</td>\n",
              "      <td>STRAWBERRY CERAMIC TRINKET BOX</td>\n",
              "    </tr>\n",
              "    <tr>\n",
              "      <th>...</th>\n",
              "      <td>...</td>\n",
              "      <td>...</td>\n",
              "    </tr>\n",
              "    <tr>\n",
              "      <th>71200</th>\n",
              "      <td>WOODEN SKITTLES GARDEN SET&amp;&amp;DOORMAT UNION FLAG...</td>\n",
              "      <td>WOODEN CROQUET GARDEN SET</td>\n",
              "    </tr>\n",
              "    <tr>\n",
              "      <th>71201</th>\n",
              "      <td>UNION STRIPE WITH FRINGE  HAMMOCK&amp;&amp;RED/CREAM S...</td>\n",
              "      <td>WHITE HANGING HEART T-LIGHT HOLDER</td>\n",
              "    </tr>\n",
              "    <tr>\n",
              "      <th>71202</th>\n",
              "      <td>OCEAN STRIPE HAMMOCK&amp;&amp;BLUE/CREAM STRIPE FRINGE...</td>\n",
              "      <td>ENAMEL WATERING CAN CREAM</td>\n",
              "    </tr>\n",
              "    <tr>\n",
              "      <th>71203</th>\n",
              "      <td>WHITE HANGING HEART T-LIGHT HOLDER&amp;&amp;BAG 250g S...</td>\n",
              "      <td>NATURAL SLATE HEART CHALKBOARD</td>\n",
              "    </tr>\n",
              "    <tr>\n",
              "      <th>71204</th>\n",
              "      <td>ENAMEL WATERING CAN CREAM&amp;&amp;PORCELAIN HANGING B...</td>\n",
              "      <td>COLOUR GLASS T-LIGHT HOLDER HANGING</td>\n",
              "    </tr>\n",
              "  </tbody>\n",
              "</table>\n",
              "<p>71205 rows × 2 columns</p>\n",
              "</div>"
            ],
            "text/plain": [
              "                                                  Detail                                label\n",
              "0      HAND OPEN SHAPE GOLD&&RETRO SPOT MUG&&RETRO SP...        RETRO SPOT TRADITIONAL TEAPOT\n",
              "1      RETRO SPOT MUG&&RETRO SPOT SUGAR JAM BOWL&&NEW...            RETRO SPOT LARGE MILK JUG\n",
              "2      MOROCCAN TEA GLASS&&BLACK FLOWER CANDLE PLATE&...    CERAMIC CAKE DESIGN SPOTTED PLATE\n",
              "3      BLACK SILOUETTE CANDLE PLATE&&VICTORIAN GLASS ...      SAVE THE PLANET COTTON TOTE BAG\n",
              "4      CERAMIC CAKE DESIGN SPOTTED PLATE&&PINK CLEAR ...       STRAWBERRY CERAMIC TRINKET BOX\n",
              "...                                                  ...                                  ...\n",
              "71200  WOODEN SKITTLES GARDEN SET&&DOORMAT UNION FLAG...            WOODEN CROQUET GARDEN SET\n",
              "71201  UNION STRIPE WITH FRINGE  HAMMOCK&&RED/CREAM S...   WHITE HANGING HEART T-LIGHT HOLDER\n",
              "71202  OCEAN STRIPE HAMMOCK&&BLUE/CREAM STRIPE FRINGE...            ENAMEL WATERING CAN CREAM\n",
              "71203  WHITE HANGING HEART T-LIGHT HOLDER&&BAG 250g S...       NATURAL SLATE HEART CHALKBOARD\n",
              "71204  ENAMEL WATERING CAN CREAM&&PORCELAIN HANGING B...  COLOUR GLASS T-LIGHT HOLDER HANGING\n",
              "\n",
              "[71205 rows x 2 columns]"
            ]
          },
          "metadata": {
            "tags": []
          },
          "execution_count": 37
        }
      ]
    },
    {
      "cell_type": "code",
      "metadata": {
        "id": "mZqA3Oy_IDhY"
      },
      "source": [
        "ds_invoice = df_new # 명확한 명칭으로 변경"
      ],
      "execution_count": null,
      "outputs": []
    },
    {
      "cell_type": "markdown",
      "metadata": {
        "id": "SU_H2idIIL_k"
      },
      "source": [
        "# Transformer"
      ]
    },
    {
      "cell_type": "code",
      "metadata": {
        "colab": {
          "base_uri": "https://localhost:8080/",
          "height": 204
        },
        "id": "vbe7bjwlILt1",
        "outputId": "bc36d1c5-55ca-4b42-dbd9-d3ad0c6d1ceb"
      },
      "source": [
        "data = ds_invoice\n",
        "\n",
        "data = data.sample(frac=1).reset_index(drop=True)\n",
        "data.head()"
      ],
      "execution_count": null,
      "outputs": [
        {
          "output_type": "execute_result",
          "data": {
            "text/html": [
              "<div>\n",
              "<style scoped>\n",
              "    .dataframe tbody tr th:only-of-type {\n",
              "        vertical-align: middle;\n",
              "    }\n",
              "\n",
              "    .dataframe tbody tr th {\n",
              "        vertical-align: top;\n",
              "    }\n",
              "\n",
              "    .dataframe thead th {\n",
              "        text-align: right;\n",
              "    }\n",
              "</style>\n",
              "<table border=\"1\" class=\"dataframe\">\n",
              "  <thead>\n",
              "    <tr style=\"text-align: right;\">\n",
              "      <th></th>\n",
              "      <th>Detail</th>\n",
              "      <th>label</th>\n",
              "    </tr>\n",
              "  </thead>\n",
              "  <tbody>\n",
              "    <tr>\n",
              "      <th>0</th>\n",
              "      <td>JUMBO BAG RED WHITE SPOTTY&amp;&amp;JUMBO BAG PINK WIT...</td>\n",
              "      <td>LUNCH BAG PINK RETROSPOT</td>\n",
              "    </tr>\n",
              "    <tr>\n",
              "      <th>1</th>\n",
              "      <td>PLEASE ONE PERSON METAL SIGN&amp;&amp;NATURAL SLATE HE...</td>\n",
              "      <td>NATURAL SLATE CHALKBOARD LARGE</td>\n",
              "    </tr>\n",
              "    <tr>\n",
              "      <th>2</th>\n",
              "      <td>JUMBO BAG WOODLAND ANIMALS&amp;&amp;STRAWBERRY CANDY B...</td>\n",
              "      <td>WOODLAND CHARLOTTE BAG</td>\n",
              "    </tr>\n",
              "    <tr>\n",
              "      <th>3</th>\n",
              "      <td>PINK DOUGHNUT TRINKET POT&amp;&amp;VINTAGE HEADS AND T...</td>\n",
              "      <td>COFFEE MUG BLUE PAISLEY DESIGN</td>\n",
              "    </tr>\n",
              "    <tr>\n",
              "      <th>4</th>\n",
              "      <td>3D HEARTS  HONEYCOMB PAPER GARLAND&amp;&amp;SPOTTY  HO...</td>\n",
              "      <td>ORIENTAL BLUE C/COVER</td>\n",
              "    </tr>\n",
              "  </tbody>\n",
              "</table>\n",
              "</div>"
            ],
            "text/plain": [
              "                                              Detail                           label\n",
              "0  JUMBO BAG RED WHITE SPOTTY&&JUMBO BAG PINK WIT...        LUNCH BAG PINK RETROSPOT\n",
              "1  PLEASE ONE PERSON METAL SIGN&&NATURAL SLATE HE...  NATURAL SLATE CHALKBOARD LARGE\n",
              "2  JUMBO BAG WOODLAND ANIMALS&&STRAWBERRY CANDY B...          WOODLAND CHARLOTTE BAG\n",
              "3  PINK DOUGHNUT TRINKET POT&&VINTAGE HEADS AND T...  COFFEE MUG BLUE PAISLEY DESIGN\n",
              "4  3D HEARTS  HONEYCOMB PAPER GARLAND&&SPOTTY  HO...           ORIENTAL BLUE C/COVER"
            ]
          },
          "metadata": {
            "tags": []
          },
          "execution_count": 39
        }
      ]
    },
    {
      "cell_type": "code",
      "metadata": {
        "colab": {
          "base_uri": "https://localhost:8080/",
          "height": 204
        },
        "id": "jM96iDqfIuA8",
        "outputId": "2e53ad14-d3a9-4a22-b1ec-d9638627c483"
      },
      "source": [
        "train_df = data.copy()\n",
        "train_df.rename(columns = {'Detail':'train'}, inplace=True)\n",
        "train_df.head()"
      ],
      "execution_count": null,
      "outputs": [
        {
          "output_type": "execute_result",
          "data": {
            "text/html": [
              "<div>\n",
              "<style scoped>\n",
              "    .dataframe tbody tr th:only-of-type {\n",
              "        vertical-align: middle;\n",
              "    }\n",
              "\n",
              "    .dataframe tbody tr th {\n",
              "        vertical-align: top;\n",
              "    }\n",
              "\n",
              "    .dataframe thead th {\n",
              "        text-align: right;\n",
              "    }\n",
              "</style>\n",
              "<table border=\"1\" class=\"dataframe\">\n",
              "  <thead>\n",
              "    <tr style=\"text-align: right;\">\n",
              "      <th></th>\n",
              "      <th>train</th>\n",
              "      <th>label</th>\n",
              "    </tr>\n",
              "  </thead>\n",
              "  <tbody>\n",
              "    <tr>\n",
              "      <th>0</th>\n",
              "      <td>JUMBO BAG RED WHITE SPOTTY&amp;&amp;JUMBO BAG PINK WIT...</td>\n",
              "      <td>LUNCH BAG PINK RETROSPOT</td>\n",
              "    </tr>\n",
              "    <tr>\n",
              "      <th>1</th>\n",
              "      <td>PLEASE ONE PERSON METAL SIGN&amp;&amp;NATURAL SLATE HE...</td>\n",
              "      <td>NATURAL SLATE CHALKBOARD LARGE</td>\n",
              "    </tr>\n",
              "    <tr>\n",
              "      <th>2</th>\n",
              "      <td>JUMBO BAG WOODLAND ANIMALS&amp;&amp;STRAWBERRY CANDY B...</td>\n",
              "      <td>WOODLAND CHARLOTTE BAG</td>\n",
              "    </tr>\n",
              "    <tr>\n",
              "      <th>3</th>\n",
              "      <td>PINK DOUGHNUT TRINKET POT&amp;&amp;VINTAGE HEADS AND T...</td>\n",
              "      <td>COFFEE MUG BLUE PAISLEY DESIGN</td>\n",
              "    </tr>\n",
              "    <tr>\n",
              "      <th>4</th>\n",
              "      <td>3D HEARTS  HONEYCOMB PAPER GARLAND&amp;&amp;SPOTTY  HO...</td>\n",
              "      <td>ORIENTAL BLUE C/COVER</td>\n",
              "    </tr>\n",
              "  </tbody>\n",
              "</table>\n",
              "</div>"
            ],
            "text/plain": [
              "                                               train                           label\n",
              "0  JUMBO BAG RED WHITE SPOTTY&&JUMBO BAG PINK WIT...        LUNCH BAG PINK RETROSPOT\n",
              "1  PLEASE ONE PERSON METAL SIGN&&NATURAL SLATE HE...  NATURAL SLATE CHALKBOARD LARGE\n",
              "2  JUMBO BAG WOODLAND ANIMALS&&STRAWBERRY CANDY B...          WOODLAND CHARLOTTE BAG\n",
              "3  PINK DOUGHNUT TRINKET POT&&VINTAGE HEADS AND T...  COFFEE MUG BLUE PAISLEY DESIGN\n",
              "4  3D HEARTS  HONEYCOMB PAPER GARLAND&&SPOTTY  HO...           ORIENTAL BLUE C/COVER"
            ]
          },
          "metadata": {
            "tags": []
          },
          "execution_count": 40
        }
      ]
    },
    {
      "cell_type": "markdown",
      "metadata": {
        "id": "Oyze56VzKMDC"
      },
      "source": [
        "## 학습 데이터의 토큰 갯수 분포 확인"
      ]
    },
    {
      "cell_type": "code",
      "metadata": {
        "id": "hJf76R3BKF85"
      },
      "source": [
        "train_df['token_len'] = [len(sum([i.split(' ') for i in aaa.split('&&')], [])) for aaa in train_df['train']]\n",
        "\n",
        "token_len_cate = []\n",
        "for i in train_df['token_len']:\n",
        "    if i >= 0 and i < 100:\n",
        "        token_len_cate.append('0:100')\n",
        "    elif i >= 100 and i < 200:\n",
        "        token_len_cate.append('100:200')\n",
        "    elif i >= 200 and i < 300:\n",
        "        token_len_cate.append('200:300')\n",
        "    elif i >= 300 and i < 400:\n",
        "        token_len_cate.append('300:400')\n",
        "    elif i >= 400 and i < 500:\n",
        "        token_len_cate.append('400:500')\n",
        "    elif i >= 500 and i < 600:\n",
        "        token_len_cate.append('500:600')\n",
        "    elif i >= 600 and i < 700:\n",
        "        token_len_cate.append('600:700')\n",
        "    elif i >= 700 and i < 800:\n",
        "        token_len_cate.append('700:800')\n",
        "    elif i >= 800 and i < 900:\n",
        "        token_len_cate.append('800:900')\n",
        "    elif i >= 900:\n",
        "        token_len_cate.append('900:')\n",
        "train_df['token_len_cate'] = token_len_cate"
      ],
      "execution_count": null,
      "outputs": []
    },
    {
      "cell_type": "code",
      "metadata": {
        "colab": {
          "base_uri": "https://localhost:8080/",
          "height": 282
        },
        "id": "3X-CH4G4KGh7",
        "outputId": "3903a455-756f-4c69-be6d-f7182a7c1954"
      },
      "source": [
        "token_len_sort = sorted({i:j for i, j in zip(train_df['token_len_cate'].value_counts().keys(), train_df['token_len_cate'].value_counts().values)}.items(), key=lambda x:x[0])\n",
        "x = [i for (i,_) in token_len_sort]\n",
        "y = [i for (_,i) in token_len_sort]\n",
        "print(y)\n",
        "\n",
        "plt.figure(figsize=(10, 4))\n",
        "plt.bar(x, y)\n",
        "plt.show()"
      ],
      "execution_count": null,
      "outputs": [
        {
          "output_type": "stream",
          "text": [
            "[71205]\n"
          ],
          "name": "stdout"
        },
        {
          "output_type": "display_data",
          "data": {
            "image/png": "[encoded data removed]",
            "text/plain": [
              "<Figure size 720x288 with 1 Axes>"
            ]
          },
          "metadata": {
            "tags": [],
            "needs_background": "light"
          }
        }
      ]
    },
    {
      "cell_type": "code",
      "metadata": {
        "colab": {
          "base_uri": "https://localhost:8080/",
          "height": 297
        },
        "id": "3HWSlF8IKIdi",
        "outputId": "4e523a2c-671f-4745-a277-3f0078314d7a"
      },
      "source": [
        "train_df.describe()"
      ],
      "execution_count": null,
      "outputs": [
        {
          "output_type": "execute_result",
          "data": {
            "text/html": [
              "<div>\n",
              "<style scoped>\n",
              "    .dataframe tbody tr th:only-of-type {\n",
              "        vertical-align: middle;\n",
              "    }\n",
              "\n",
              "    .dataframe tbody tr th {\n",
              "        vertical-align: top;\n",
              "    }\n",
              "\n",
              "    .dataframe thead th {\n",
              "        text-align: right;\n",
              "    }\n",
              "</style>\n",
              "<table border=\"1\" class=\"dataframe\">\n",
              "  <thead>\n",
              "    <tr style=\"text-align: right;\">\n",
              "      <th></th>\n",
              "      <th>token_len</th>\n",
              "    </tr>\n",
              "  </thead>\n",
              "  <tbody>\n",
              "    <tr>\n",
              "      <th>count</th>\n",
              "      <td>71205.000000</td>\n",
              "    </tr>\n",
              "    <tr>\n",
              "      <th>mean</th>\n",
              "      <td>18.017457</td>\n",
              "    </tr>\n",
              "    <tr>\n",
              "      <th>std</th>\n",
              "      <td>2.470469</td>\n",
              "    </tr>\n",
              "    <tr>\n",
              "      <th>min</th>\n",
              "      <td>10.000000</td>\n",
              "    </tr>\n",
              "    <tr>\n",
              "      <th>25%</th>\n",
              "      <td>16.000000</td>\n",
              "    </tr>\n",
              "    <tr>\n",
              "      <th>50%</th>\n",
              "      <td>18.000000</td>\n",
              "    </tr>\n",
              "    <tr>\n",
              "      <th>75%</th>\n",
              "      <td>20.000000</td>\n",
              "    </tr>\n",
              "    <tr>\n",
              "      <th>max</th>\n",
              "      <td>29.000000</td>\n",
              "    </tr>\n",
              "  </tbody>\n",
              "</table>\n",
              "</div>"
            ],
            "text/plain": [
              "          token_len\n",
              "count  71205.000000\n",
              "mean      18.017457\n",
              "std        2.470469\n",
              "min       10.000000\n",
              "25%       16.000000\n",
              "50%       18.000000\n",
              "75%       20.000000\n",
              "max       29.000000"
            ]
          },
          "metadata": {
            "tags": []
          },
          "execution_count": 43
        }
      ]
    },
    {
      "cell_type": "markdown",
      "metadata": {
        "id": "ZXAiNbuTfhlz"
      },
      "source": [
        "## Data split"
      ]
    },
    {
      "cell_type": "code",
      "metadata": {
        "id": "ClCqbjQdGd0J"
      },
      "source": [
        "filtering_train_df = train_df.copy()"
      ],
      "execution_count": null,
      "outputs": []
    },
    {
      "cell_type": "code",
      "metadata": {
        "id": "jfhU7g2IDC3J"
      },
      "source": [
        "cut = round(len(filtering_train_df) * 0.8)\n",
        "filtering_train_df, filtering_test_df = filtering_train_df[:cut], filtering_train_df[cut:]"
      ],
      "execution_count": null,
      "outputs": []
    },
    {
      "cell_type": "code",
      "metadata": {
        "id": "kWjyzSEXMqXV"
      },
      "source": [
        "filtering_test_df = filtering_test_df.reset_index(drop=True)"
      ],
      "execution_count": null,
      "outputs": []
    },
    {
      "cell_type": "code",
      "metadata": {
        "colab": {
          "base_uri": "https://localhost:8080/"
        },
        "id": "YUsG2iJd8nKn",
        "outputId": "f4cf1a09-a578-46a5-f8e1-d8a16fb02755"
      },
      "source": [
        "print(len(filtering_train_df))\n",
        "len(filtering_test_df)"
      ],
      "execution_count": null,
      "outputs": [
        {
          "output_type": "stream",
          "text": [
            "56964\n"
          ],
          "name": "stdout"
        },
        {
          "output_type": "execute_result",
          "data": {
            "text/plain": [
              "14241"
            ]
          },
          "metadata": {
            "tags": []
          },
          "execution_count": 48
        }
      ]
    },
    {
      "cell_type": "markdown",
      "metadata": {
        "id": "fTDYnAiwlCg6"
      },
      "source": [
        "## 학습을 위해 토큰으로 자르기"
      ]
    },
    {
      "cell_type": "code",
      "metadata": {
        "id": "TIAMM6IYekZ2"
      },
      "source": [
        "filtering_train_df['split_train_token'] = ['<esp> ' + i.strip().replace('&&', ' <esp> ') + ' <esp>' for i in filtering_train_df['train']]\n",
        "filtering_train_df['split_label_token'] = ['<esp> ' + i.strip() + ' <esp>' for i in filtering_train_df['label']]"
      ],
      "execution_count": null,
      "outputs": []
    },
    {
      "cell_type": "code",
      "metadata": {
        "colab": {
          "base_uri": "https://localhost:8080/",
          "height": 289
        },
        "id": "grUN5n41gX2W",
        "outputId": "53dc1cf0-2209-4ba3-892c-a20cc92777e0"
      },
      "source": [
        "filtering_train_df.head()"
      ],
      "execution_count": null,
      "outputs": [
        {
          "output_type": "execute_result",
          "data": {
            "text/html": [
              "<div>\n",
              "<style scoped>\n",
              "    .dataframe tbody tr th:only-of-type {\n",
              "        vertical-align: middle;\n",
              "    }\n",
              "\n",
              "    .dataframe tbody tr th {\n",
              "        vertical-align: top;\n",
              "    }\n",
              "\n",
              "    .dataframe thead th {\n",
              "        text-align: right;\n",
              "    }\n",
              "</style>\n",
              "<table border=\"1\" class=\"dataframe\">\n",
              "  <thead>\n",
              "    <tr style=\"text-align: right;\">\n",
              "      <th></th>\n",
              "      <th>train</th>\n",
              "      <th>label</th>\n",
              "      <th>token_len</th>\n",
              "      <th>token_len_cate</th>\n",
              "      <th>split_train_token</th>\n",
              "      <th>split_label_token</th>\n",
              "    </tr>\n",
              "  </thead>\n",
              "  <tbody>\n",
              "    <tr>\n",
              "      <th>0</th>\n",
              "      <td>JUMBO BAG RED WHITE SPOTTY&amp;&amp;JUMBO BAG PINK WIT...</td>\n",
              "      <td>LUNCH BAG PINK RETROSPOT</td>\n",
              "      <td>20</td>\n",
              "      <td>0:100</td>\n",
              "      <td>&lt;esp&gt; JUMBO BAG RED WHITE SPOTTY &lt;esp&gt; JUMBO B...</td>\n",
              "      <td>&lt;esp&gt; LUNCH BAG PINK RETROSPOT &lt;esp&gt;</td>\n",
              "    </tr>\n",
              "    <tr>\n",
              "      <th>1</th>\n",
              "      <td>PLEASE ONE PERSON METAL SIGN&amp;&amp;NATURAL SLATE HE...</td>\n",
              "      <td>NATURAL SLATE CHALKBOARD LARGE</td>\n",
              "      <td>19</td>\n",
              "      <td>0:100</td>\n",
              "      <td>&lt;esp&gt; PLEASE ONE PERSON METAL SIGN &lt;esp&gt; NATUR...</td>\n",
              "      <td>&lt;esp&gt; NATURAL SLATE CHALKBOARD LARGE &lt;esp&gt;</td>\n",
              "    </tr>\n",
              "    <tr>\n",
              "      <th>2</th>\n",
              "      <td>JUMBO BAG WOODLAND ANIMALS&amp;&amp;STRAWBERRY CANDY B...</td>\n",
              "      <td>WOODLAND CHARLOTTE BAG</td>\n",
              "      <td>13</td>\n",
              "      <td>0:100</td>\n",
              "      <td>&lt;esp&gt; JUMBO BAG WOODLAND ANIMALS &lt;esp&gt; STRAWBE...</td>\n",
              "      <td>&lt;esp&gt; WOODLAND CHARLOTTE BAG &lt;esp&gt;</td>\n",
              "    </tr>\n",
              "    <tr>\n",
              "      <th>3</th>\n",
              "      <td>PINK DOUGHNUT TRINKET POT&amp;&amp;VINTAGE HEADS AND T...</td>\n",
              "      <td>COFFEE MUG BLUE PAISLEY DESIGN</td>\n",
              "      <td>20</td>\n",
              "      <td>0:100</td>\n",
              "      <td>&lt;esp&gt; PINK DOUGHNUT TRINKET POT &lt;esp&gt; VINTAGE ...</td>\n",
              "      <td>&lt;esp&gt; COFFEE MUG BLUE PAISLEY DESIGN &lt;esp&gt;</td>\n",
              "    </tr>\n",
              "    <tr>\n",
              "      <th>4</th>\n",
              "      <td>3D HEARTS  HONEYCOMB PAPER GARLAND&amp;&amp;SPOTTY  HO...</td>\n",
              "      <td>ORIENTAL BLUE C/COVER</td>\n",
              "      <td>23</td>\n",
              "      <td>0:100</td>\n",
              "      <td>&lt;esp&gt; 3D HEARTS  HONEYCOMB PAPER GARLAND &lt;esp&gt;...</td>\n",
              "      <td>&lt;esp&gt; ORIENTAL BLUE C/COVER &lt;esp&gt;</td>\n",
              "    </tr>\n",
              "  </tbody>\n",
              "</table>\n",
              "</div>"
            ],
            "text/plain": [
              "                                               train  ...                           split_label_token\n",
              "0  JUMBO BAG RED WHITE SPOTTY&&JUMBO BAG PINK WIT...  ...        <esp> LUNCH BAG PINK RETROSPOT <esp>\n",
              "1  PLEASE ONE PERSON METAL SIGN&&NATURAL SLATE HE...  ...  <esp> NATURAL SLATE CHALKBOARD LARGE <esp>\n",
              "2  JUMBO BAG WOODLAND ANIMALS&&STRAWBERRY CANDY B...  ...          <esp> WOODLAND CHARLOTTE BAG <esp>\n",
              "3  PINK DOUGHNUT TRINKET POT&&VINTAGE HEADS AND T...  ...  <esp> COFFEE MUG BLUE PAISLEY DESIGN <esp>\n",
              "4  3D HEARTS  HONEYCOMB PAPER GARLAND&&SPOTTY  HO...  ...           <esp> ORIENTAL BLUE C/COVER <esp>\n",
              "\n",
              "[5 rows x 6 columns]"
            ]
          },
          "metadata": {
            "tags": []
          },
          "execution_count": 50
        }
      ]
    },
    {
      "cell_type": "code",
      "metadata": {
        "id": "7y5o1x06Y3Qh"
      },
      "source": [
        "MAX_LENGTH = 128"
      ],
      "execution_count": null,
      "outputs": []
    },
    {
      "cell_type": "code",
      "metadata": {
        "id": "9HrRaQMinZ0H"
      },
      "source": [
        "tokenizer = tfds.deprecated.text.SubwordTextEncoder.build_from_corpus(filtering_train_df['split_train_token'] + filtering_train_df['split_label_token'], target_vocab_size=2**13)"
      ],
      "execution_count": null,
      "outputs": []
    },
    {
      "cell_type": "code",
      "metadata": {
        "id": "yNc2-ElvnZ7l"
      },
      "source": [
        "START_TOKEN, END_TOKEN = [tokenizer.vocab_size], [tokenizer.vocab_size + 1]\n",
        "VOCAB_SIZE = tokenizer.vocab_size + 2"
      ],
      "execution_count": null,
      "outputs": []
    },
    {
      "cell_type": "code",
      "metadata": {
        "colab": {
          "base_uri": "https://localhost:8080/"
        },
        "id": "4XNjMLlYnZ9h",
        "outputId": "ea084b15-dccc-403a-c27b-28ee695a192e"
      },
      "source": [
        "print('시작 토큰 번호 :',START_TOKEN)\n",
        "print('종료 토큰 번호 :',END_TOKEN)\n",
        "print('단어 집합의 크기 :',VOCAB_SIZE)"
      ],
      "execution_count": null,
      "outputs": [
        {
          "output_type": "stream",
          "text": [
            "시작 토큰 번호 : [2717]\n",
            "종료 토큰 번호 : [2718]\n",
            "단어 집합의 크기 : 2719\n"
          ],
          "name": "stdout"
        }
      ]
    },
    {
      "cell_type": "code",
      "metadata": {
        "id": "FyU2LyVcnZ_u"
      },
      "source": [
        "def tokenize_and_filter(inputs, outputs):\n",
        "  tokenized_inputs, tokenized_outputs = [], []\n",
        "\n",
        "  for (sentence1, sentence2) in zip(inputs, outputs):\n",
        "    sentence1 = START_TOKEN + tokenizer.encode(sentence1) + END_TOKEN\n",
        "    sentence2 = START_TOKEN + tokenizer.encode(sentence2) + END_TOKEN\n",
        "\n",
        "    tokenized_inputs.append(sentence1)\n",
        "    tokenized_outputs.append(sentence2)\n",
        "\n",
        "  tokenized_inputs = tf.keras.preprocessing.sequence.pad_sequences(\n",
        "      tokenized_inputs, maxlen=MAX_LENGTH, padding='post')\n",
        "  tokenized_outputs = tf.keras.preprocessing.sequence.pad_sequences(\n",
        "      tokenized_outputs, maxlen=MAX_LENGTH, padding='post')\n",
        "\n",
        "  return tokenized_inputs, tokenized_outputs"
      ],
      "execution_count": null,
      "outputs": []
    },
    {
      "cell_type": "code",
      "metadata": {
        "id": "vGD78-kOL_wk"
      },
      "source": [
        "train_token, label_token = tokenize_and_filter(filtering_train_df['split_train_token'], filtering_train_df['split_label_token'])"
      ],
      "execution_count": null,
      "outputs": []
    },
    {
      "cell_type": "code",
      "metadata": {
        "colab": {
          "base_uri": "https://localhost:8080/"
        },
        "id": "MNW0IgXRMYfD",
        "outputId": "3e2054b0-a153-41bc-858e-467e1909836b"
      },
      "source": [
        "print('질문 데이터의 크기(shape) :', train_token.shape)\n",
        "print('답변 데이터의 크기(shape) :', label_token.shape)"
      ],
      "execution_count": null,
      "outputs": [
        {
          "output_type": "stream",
          "text": [
            "질문 데이터의 크기(shape) : (56964, 128)\n",
            "답변 데이터의 크기(shape) : (56964, 128)\n"
          ],
          "name": "stdout"
        }
      ]
    },
    {
      "cell_type": "markdown",
      "metadata": {
        "id": "PHi5hUkwF6NG"
      },
      "source": [
        "## GPU 작동 확인"
      ]
    },
    {
      "cell_type": "code",
      "metadata": {
        "colab": {
          "base_uri": "https://localhost:8080/"
        },
        "id": "bMTEg_x0F5wr",
        "outputId": "13db5311-c157-4bb4-c320-11aacb247c8b"
      },
      "source": [
        "tf.test.is_gpu_available()"
      ],
      "execution_count": null,
      "outputs": [
        {
          "output_type": "stream",
          "text": [
            "WARNING:tensorflow:From <ipython-input-58-17bb7203622b>:1: is_gpu_available (from tensorflow.python.framework.test_util) is deprecated and will be removed in a future version.\n",
            "Instructions for updating:\n",
            "Use `tf.config.list_physical_devices('GPU')` instead.\n"
          ],
          "name": "stdout"
        },
        {
          "output_type": "stream",
          "text": [
            "WARNING:tensorflow:From <ipython-input-58-17bb7203622b>:1: is_gpu_available (from tensorflow.python.framework.test_util) is deprecated and will be removed in a future version.\n",
            "Instructions for updating:\n",
            "Use `tf.config.list_physical_devices('GPU')` instead.\n"
          ],
          "name": "stderr"
        },
        {
          "output_type": "execute_result",
          "data": {
            "text/plain": [
              "True"
            ]
          },
          "metadata": {
            "tags": []
          },
          "execution_count": 58
        }
      ]
    },
    {
      "cell_type": "code",
      "metadata": {
        "colab": {
          "base_uri": "https://localhost:8080/",
          "height": 35
        },
        "id": "4T3tWOLGGDgI",
        "outputId": "9517d3c0-9b6e-48c9-cfb3-bc8010cb78fc"
      },
      "source": [
        "tf.test.gpu_device_name()"
      ],
      "execution_count": null,
      "outputs": [
        {
          "output_type": "execute_result",
          "data": {
            "application/vnd.google.colaboratory.intrinsic+json": {
              "type": "string"
            },
            "text/plain": [
              "'/device:GPU:0'"
            ]
          },
          "metadata": {
            "tags": []
          },
          "execution_count": 59
        }
      ]
    },
    {
      "cell_type": "code",
      "metadata": {
        "colab": {
          "base_uri": "https://localhost:8080/"
        },
        "id": "cb_xqSUBw5TI",
        "outputId": "25117c00-142d-4b1a-a551-123c2afcb862"
      },
      "source": [
        "!nvidia-smi"
      ],
      "execution_count": null,
      "outputs": [
        {
          "output_type": "stream",
          "text": [
            "Fri May  7 09:44:34 2021       \n",
            "+-----------------------------------------------------------------------------+\n",
            "| NVIDIA-SMI 465.19.01    Driver Version: 460.32.03    CUDA Version: 11.2     |\n",
            "|-------------------------------+----------------------+----------------------+\n",
            "| GPU  Name        Persistence-M| Bus-Id        Disp.A | Volatile Uncorr. ECC |\n",
            "| Fan  Temp  Perf  Pwr:Usage/Cap|         Memory-Usage | GPU-Util  Compute M. |\n",
            "|                               |                      |               MIG M. |\n",
            "|===============================+======================+======================|\n",
            "|   0  Tesla T4            Off  | 00000000:00:04.0 Off |                    0 |\n",
            "| N/A   42C    P0    26W /  70W |    222MiB / 15109MiB |      0%      Default |\n",
            "|                               |                      |                  N/A |\n",
            "+-------------------------------+----------------------+----------------------+\n",
            "                                                                               \n",
            "+-----------------------------------------------------------------------------+\n",
            "| Processes:                                                                  |\n",
            "|  GPU   GI   CI        PID   Type   Process name                  GPU Memory |\n",
            "|        ID   ID                                                   Usage      |\n",
            "|=============================================================================|\n",
            "+-----------------------------------------------------------------------------+\n"
          ],
          "name": "stdout"
        }
      ]
    },
    {
      "cell_type": "markdown",
      "metadata": {
        "id": "Wo4OnGGzGAGz"
      },
      "source": [
        "## 학습"
      ]
    },
    {
      "cell_type": "code",
      "metadata": {
        "id": "NmbnOw_YTj04"
      },
      "source": [
        "# 텐서플로우 dataset을 이용하여 셔플(shuffle)을 수행하되, 배치 크기로 데이터를 묶는다.\n",
        "# 또한 이 과정에서 교사 강요(teacher forcing)을 사용하기 위해서 디코더의 입력과 실제값 시퀀스를 구성한다.\n",
        "BATCH_SIZE = 256\n",
        "BUFFER_SIZE = 20000\n",
        "\n",
        "# 디코더의 실제값 시퀀스에서는 시작 토큰을 제거해야 한다.\n",
        "dataset = tf.data.Dataset.from_tensor_slices((\n",
        "    {\n",
        "        'inputs': train_token,\n",
        "        'dec_inputs': label_token[:, :-1] # 디코더의 입력. 마지막 패딩 토큰이 제거된다.\n",
        "    },\n",
        "    {\n",
        "        'outputs': label_token[:, 1:]  # 맨 처음 토큰이 제거된다. 다시 말해 시작 토큰이 제거된다.\n",
        "    },\n",
        "))\n",
        "\n",
        "dataset = dataset.cache()\n",
        "dataset = dataset.shuffle(BUFFER_SIZE)\n",
        "dataset = dataset.batch(BATCH_SIZE)\n",
        "dataset = dataset.prefetch(tf.data.experimental.AUTOTUNE)"
      ],
      "execution_count": null,
      "outputs": []
    },
    {
      "cell_type": "code",
      "metadata": {
        "id": "U2MT1lyXKzzg"
      },
      "source": [
        "def scaled_dot_product_attention(query, key, value, mask):\n",
        "  \"\"\"Calculate the attention weights. \"\"\"\n",
        "  matmul_qk = tf.matmul(query, key, transpose_b=True)\n",
        "\n",
        "  # scale matmul_qk\n",
        "  depth = tf.cast(tf.shape(key)[-1], tf.float32)\n",
        "  logits = matmul_qk / tf.math.sqrt(depth)\n",
        "\n",
        "  # add the mask to zero out padding tokens\n",
        "  if mask is not None:\n",
        "    logits += (mask * -1e9)\n",
        "\n",
        "  # softmax is normalized on the last axis (seq_len_k)\n",
        "  attention_weights = tf.nn.softmax(logits, axis=-1)\n",
        "\n",
        "  output = tf.matmul(attention_weights, value)\n",
        "\n",
        "  return output\n",
        "\n",
        "class MultiHeadAttention(tf.keras.layers.Layer):\n",
        "\n",
        "  def __init__(self, d_model, num_heads, name=\"multi_head_attention\"):\n",
        "    super(MultiHeadAttention, self).__init__(name=name)\n",
        "    self.num_heads = num_heads\n",
        "    self.d_model = d_model\n",
        "\n",
        "    assert d_model % self.num_heads == 0\n",
        "\n",
        "    self.depth = d_model // self.num_heads\n",
        "\n",
        "    self.query_dense = tf.keras.layers.Dense(units=d_model)\n",
        "    self.key_dense = tf.keras.layers.Dense(units=d_model)\n",
        "    self.value_dense = tf.keras.layers.Dense(units=d_model)\n",
        "\n",
        "    self.dense = tf.keras.layers.Dense(units=d_model)\n",
        "\n",
        "  def split_heads(self, inputs, batch_size):\n",
        "    inputs = tf.reshape(\n",
        "        inputs, shape=(batch_size, -1, self.num_heads, self.depth))\n",
        "    return tf.transpose(inputs, perm=[0, 2, 1, 3])\n",
        "\n",
        "  def call(self, inputs):\n",
        "    query, key, value, mask = inputs['query'], inputs['key'], inputs[\n",
        "        'value'], inputs['mask']\n",
        "    batch_size = tf.shape(query)[0]\n",
        "\n",
        "    # linear layers\n",
        "    query = self.query_dense(query)\n",
        "    key = self.key_dense(key)\n",
        "    value = self.value_dense(value)\n",
        "\n",
        "    # split heads\n",
        "    query = self.split_heads(query, batch_size)\n",
        "    key = self.split_heads(key, batch_size)\n",
        "    value = self.split_heads(value, batch_size)\n",
        "\n",
        "    # scaled dot-product attention\n",
        "    scaled_attention = scaled_dot_product_attention(query, key, value, mask)\n",
        "\n",
        "    scaled_attention = tf.transpose(scaled_attention, perm=[0, 2, 1, 3])\n",
        "\n",
        "    # concatenation of heads\n",
        "    concat_attention = tf.reshape(scaled_attention,\n",
        "                                  (batch_size, -1, self.d_model))\n",
        "\n",
        "    # final linear layer\n",
        "    outputs = self.dense(concat_attention)\n",
        "\n",
        "    return outputs\n",
        "\n",
        "def create_padding_mask(x):\n",
        "  mask = tf.cast(tf.math.equal(x, 0), tf.float32)\n",
        "  # (batch_size, 1, 1, sequence length)\n",
        "  return mask[:, tf.newaxis, tf.newaxis, :]\n",
        "\n",
        "def create_look_ahead_mask(x):\n",
        "  seq_len = tf.shape(x)[1]\n",
        "  look_ahead_mask = 1 - tf.linalg.band_part(tf.ones((seq_len, seq_len)), -1, 0)\n",
        "  padding_mask = create_padding_mask(x)\n",
        "  return tf.maximum(look_ahead_mask, padding_mask)\n",
        "\n",
        "class PositionalEncoding(tf.keras.layers.Layer):\n",
        "\n",
        "  def __init__(self, position, d_model):\n",
        "    super(PositionalEncoding, self).__init__()\n",
        "    self.pos_encoding = self.positional_encoding(position, d_model)\n",
        "\n",
        "  def get_angles(self, position, i, d_model):\n",
        "    angles = 1 / tf.pow(10000, (2 * (i // 2)) / tf.cast(d_model, tf.float32))\n",
        "    return position * angles\n",
        "\n",
        "  def positional_encoding(self, position, d_model):\n",
        "    angle_rads = self.get_angles(\n",
        "        position=tf.range(position, dtype=tf.float32)[:, tf.newaxis],\n",
        "        i=tf.range(d_model, dtype=tf.float32)[tf.newaxis, :],\n",
        "        d_model=d_model)\n",
        "    # apply sin to even index in the array\n",
        "    sines = tf.math.sin(angle_rads[:, 0::2])\n",
        "    # apply cos to odd index in the array\n",
        "    cosines = tf.math.cos(angle_rads[:, 1::2])\n",
        "\n",
        "    pos_encoding = tf.concat([sines, cosines], axis=-1)\n",
        "    pos_encoding = pos_encoding[tf.newaxis, ...]\n",
        "    return tf.cast(pos_encoding, tf.float32)\n",
        "\n",
        "  def call(self, inputs):\n",
        "    return inputs + self.pos_encoding[:, :tf.shape(inputs)[1], :]\n",
        "\n",
        "def encoder_layer(units, d_model, num_heads, dropout, name=\"encoder_layer\"):\n",
        "  inputs = tf.keras.Input(shape=(None, d_model), name=\"inputs\")\n",
        "  padding_mask = tf.keras.Input(shape=(1, 1, None), name=\"padding_mask\")\n",
        "\n",
        "  attention = MultiHeadAttention(\n",
        "      d_model, num_heads, name=\"attention\")({\n",
        "          'query': inputs,\n",
        "          'key': inputs,\n",
        "          'value': inputs,\n",
        "          'mask': padding_mask\n",
        "      })\n",
        "  attention = tf.keras.layers.Dropout(rate=dropout)(attention)\n",
        "  attention = tf.keras.layers.LayerNormalization(\n",
        "      epsilon=1e-6)(inputs + attention)\n",
        "\n",
        "  outputs = tf.keras.layers.Dense(units=units, activation='relu')(attention)\n",
        "  outputs = tf.keras.layers.Dense(units=d_model)(outputs)\n",
        "  outputs = tf.keras.layers.Dropout(rate=dropout)(outputs)\n",
        "  outputs = tf.keras.layers.LayerNormalization(\n",
        "      epsilon=1e-6)(attention + outputs)\n",
        "\n",
        "  return tf.keras.Model(\n",
        "      inputs=[inputs, padding_mask], outputs=outputs, name=name)\n",
        "  \n",
        "def encoder(vocab_size,\n",
        "            num_layers,\n",
        "            units,\n",
        "            d_model,\n",
        "            num_heads,\n",
        "            dropout,\n",
        "            name=\"encoder\"):\n",
        "  inputs = tf.keras.Input(shape=(None,), name=\"inputs\")\n",
        "  padding_mask = tf.keras.Input(shape=(1, 1, None), name=\"padding_mask\")\n",
        "\n",
        "  embeddings = tf.keras.layers.Embedding(vocab_size, d_model)(inputs)\n",
        "  embeddings *= tf.math.sqrt(tf.cast(d_model, tf.float32))\n",
        "  embeddings = PositionalEncoding(vocab_size, d_model)(embeddings)\n",
        "\n",
        "  outputs = tf.keras.layers.Dropout(rate=dropout)(embeddings)\n",
        "\n",
        "  for i in range(num_layers):\n",
        "    outputs = encoder_layer(\n",
        "        units=units,\n",
        "        d_model=d_model,\n",
        "        num_heads=num_heads,\n",
        "        dropout=dropout,\n",
        "        name=\"encoder_layer_{}\".format(i),\n",
        "    )([outputs, padding_mask])\n",
        "\n",
        "  return tf.keras.Model(\n",
        "      inputs=[inputs, padding_mask], outputs=outputs, name=name)\n",
        "  \n",
        "def decoder_layer(units, d_model, num_heads, dropout, name=\"decoder_layer\"):\n",
        "  inputs = tf.keras.Input(shape=(None, d_model), name=\"inputs\")\n",
        "  enc_outputs = tf.keras.Input(shape=(None, d_model), name=\"encoder_outputs\")\n",
        "  look_ahead_mask = tf.keras.Input(\n",
        "      shape=(1, None, None), name=\"look_ahead_mask\")\n",
        "  padding_mask = tf.keras.Input(shape=(1, 1, None), name='padding_mask')\n",
        "\n",
        "  attention1 = MultiHeadAttention(\n",
        "      d_model, num_heads, name=\"attention_1\")(inputs={\n",
        "          'query': inputs,\n",
        "          'key': inputs,\n",
        "          'value': inputs,\n",
        "          'mask': look_ahead_mask\n",
        "      })\n",
        "  attention1 = tf.keras.layers.LayerNormalization(\n",
        "      epsilon=1e-6)(attention1 + inputs)\n",
        "\n",
        "  attention2 = MultiHeadAttention(\n",
        "      d_model, num_heads, name=\"attention_2\")(inputs={\n",
        "          'query': attention1,\n",
        "          'key': enc_outputs,\n",
        "          'value': enc_outputs,\n",
        "          'mask': padding_mask\n",
        "      })\n",
        "  attention2 = tf.keras.layers.Dropout(rate=dropout)(attention2)\n",
        "  attention2 = tf.keras.layers.LayerNormalization(\n",
        "      epsilon=1e-6)(attention2 + attention1)\n",
        "\n",
        "  outputs = tf.keras.layers.Dense(units=units, activation='relu')(attention2)\n",
        "  outputs = tf.keras.layers.Dense(units=d_model)(outputs)\n",
        "  outputs = tf.keras.layers.Dropout(rate=dropout)(outputs)\n",
        "  outputs = tf.keras.layers.LayerNormalization(\n",
        "      epsilon=1e-6)(outputs + attention2)\n",
        "\n",
        "  return tf.keras.Model(\n",
        "      inputs=[inputs, enc_outputs, look_ahead_mask, padding_mask],\n",
        "      outputs=outputs,\n",
        "      name=name)\n",
        "  \n",
        "def decoder(vocab_size,\n",
        "            num_layers,\n",
        "            units,\n",
        "            d_model,\n",
        "            num_heads,\n",
        "            dropout,\n",
        "            name='decoder'):\n",
        "  inputs = tf.keras.Input(shape=(None,), name='inputs')\n",
        "  enc_outputs = tf.keras.Input(shape=(None, d_model), name='encoder_outputs')\n",
        "  look_ahead_mask = tf.keras.Input(\n",
        "      shape=(1, None, None), name='look_ahead_mask')\n",
        "  padding_mask = tf.keras.Input(shape=(1, 1, None), name='padding_mask')\n",
        "  \n",
        "  embeddings = tf.keras.layers.Embedding(vocab_size, d_model)(inputs)\n",
        "  embeddings *= tf.math.sqrt(tf.cast(d_model, tf.float32))\n",
        "  embeddings = PositionalEncoding(vocab_size, d_model)(embeddings)\n",
        "\n",
        "  outputs = tf.keras.layers.Dropout(rate=dropout)(embeddings)\n",
        "\n",
        "  for i in range(num_layers):\n",
        "    outputs = decoder_layer(\n",
        "        units=units,\n",
        "        d_model=d_model,\n",
        "        num_heads=num_heads,\n",
        "        dropout=dropout,\n",
        "        name='decoder_layer_{}'.format(i),\n",
        "    )(inputs=[outputs, enc_outputs, look_ahead_mask, padding_mask])\n",
        "\n",
        "  return tf.keras.Model(\n",
        "      inputs=[inputs, enc_outputs, look_ahead_mask, padding_mask],\n",
        "      outputs=outputs,\n",
        "      name=name)\n",
        "  \n",
        "def transformer(vocab_size,\n",
        "                num_layers,\n",
        "                units,\n",
        "                d_model,\n",
        "                num_heads,\n",
        "                dropout,\n",
        "                name=\"transformer\"):\n",
        "  inputs = tf.keras.Input(shape=(None,), name=\"inputs\")\n",
        "  dec_inputs = tf.keras.Input(shape=(None,), name=\"dec_inputs\")\n",
        "\n",
        "  enc_padding_mask = tf.keras.layers.Lambda(\n",
        "      create_padding_mask, output_shape=(1, 1, None),\n",
        "      name='enc_padding_mask')(inputs)\n",
        "  # mask the future tokens for decoder inputs at the 1st attention block\n",
        "  look_ahead_mask = tf.keras.layers.Lambda(\n",
        "      create_look_ahead_mask,\n",
        "      output_shape=(1, None, None),\n",
        "      name='look_ahead_mask')(dec_inputs)\n",
        "  # mask the encoder outputs for the 2nd attention block\n",
        "  dec_padding_mask = tf.keras.layers.Lambda(\n",
        "      create_padding_mask, output_shape=(1, 1, None),\n",
        "      name='dec_padding_mask')(inputs)\n",
        "\n",
        "  enc_outputs = encoder(\n",
        "      vocab_size=vocab_size,\n",
        "      num_layers=num_layers,\n",
        "      units=units,\n",
        "      d_model=d_model,\n",
        "      num_heads=num_heads,\n",
        "      dropout=dropout,\n",
        "  )(inputs=[inputs, enc_padding_mask])\n",
        "\n",
        "  dec_outputs = decoder(\n",
        "      vocab_size=vocab_size,\n",
        "      num_layers=num_layers,\n",
        "      units=units,\n",
        "      d_model=d_model,\n",
        "      num_heads=num_heads,\n",
        "      dropout=dropout,\n",
        "  )(inputs=[dec_inputs, enc_outputs, look_ahead_mask, dec_padding_mask])\n",
        "\n",
        "  outputs = tf.keras.layers.Dense(units=vocab_size, name=\"outputs\")(dec_outputs)\n",
        "\n",
        "  return tf.keras.Model(inputs=[inputs, dec_inputs], outputs=outputs, name=name)"
      ],
      "execution_count": null,
      "outputs": []
    },
    {
      "cell_type": "code",
      "metadata": {
        "id": "d4kPBiQkLF8B"
      },
      "source": [
        "tf.keras.backend.clear_session()\n",
        "\n",
        "# NUM_LAYERS = 2\n",
        "NUM_LAYERS = 1\n",
        "D_MODEL = 128\n",
        "NUM_HEADS = 4\n",
        "UNITS = 256\n",
        "DROPOUT = 0.2\n",
        "\n",
        "\n",
        "model = transformer(\n",
        "    vocab_size=VOCAB_SIZE,\n",
        "    num_layers=NUM_LAYERS,\n",
        "    units=UNITS,\n",
        "    d_model=D_MODEL,\n",
        "    num_heads=NUM_HEADS,\n",
        "    dropout=DROPOUT)"
      ],
      "execution_count": null,
      "outputs": []
    },
    {
      "cell_type": "code",
      "metadata": {
        "id": "WaxW16nJLK9E"
      },
      "source": [
        "def loss_function(y_true, y_pred):\n",
        "  y_true = tf.reshape(y_true, shape=(-1, MAX_LENGTH - 1))\n",
        "  \n",
        "  loss = tf.keras.losses.SparseCategoricalCrossentropy(\n",
        "      from_logits=True, reduction='none')(y_true, y_pred)\n",
        "\n",
        "  mask = tf.cast(tf.not_equal(y_true, 0), tf.float32)\n",
        "  loss = tf.multiply(loss, mask)\n",
        "\n",
        "  return tf.reduce_mean(loss)"
      ],
      "execution_count": null,
      "outputs": []
    },
    {
      "cell_type": "code",
      "metadata": {
        "id": "5rMmAF6jLONf"
      },
      "source": [
        "class CustomSchedule(tf.keras.optimizers.schedules.LearningRateSchedule):\n",
        "\n",
        "  def __init__(self, d_model, warmup_steps=4000):\n",
        "    super(CustomSchedule, self).__init__()\n",
        "\n",
        "    self.d_model = d_model\n",
        "    self.d_model = tf.cast(self.d_model, tf.float32)\n",
        "\n",
        "    self.warmup_steps = warmup_steps\n",
        "\n",
        "  def __call__(self, step):\n",
        "    arg1 = tf.math.rsqrt(step)\n",
        "    arg2 = step * (self.warmup_steps**-1.5)\n",
        "\n",
        "    return tf.math.rsqrt(self.d_model) * tf.math.minimum(arg1, arg2)"
      ],
      "execution_count": null,
      "outputs": []
    },
    {
      "cell_type": "code",
      "metadata": {
        "id": "9XDXvuc8Tj6J"
      },
      "source": [
        "learning_rate = CustomSchedule(D_MODEL)\n",
        "\n",
        "optimizer = tf.keras.optimizers.Adam(\n",
        "    learning_rate, beta_1=0.9, beta_2=0.98, epsilon=1e-9)\n",
        "\n",
        "def accuracy(y_true, y_pred):\n",
        "  # ensure labels have shape (batch_size, MAX_LENGTH - 1)\n",
        "  y_true = tf.reshape(y_true, shape=(-1, MAX_LENGTH - 1))\n",
        "  return tf.keras.metrics.sparse_categorical_accuracy(y_true, y_pred)\n",
        "\n",
        "model.compile(optimizer=optimizer, loss=loss_function, metrics=[accuracy])"
      ],
      "execution_count": null,
      "outputs": []
    },
    {
      "cell_type": "code",
      "metadata": {
        "id": "Udey1pWqABXR"
      },
      "source": [
        "EPOCHS = 10"
      ],
      "execution_count": null,
      "outputs": []
    },
    {
      "cell_type": "code",
      "metadata": {
        "colab": {
          "base_uri": "https://localhost:8080/"
        },
        "id": "tvncnb-9QG7O",
        "outputId": "068fd39b-7258-4365-8e4b-820cbf78e4db"
      },
      "source": [
        "model.summary()"
      ],
      "execution_count": null,
      "outputs": [
        {
          "output_type": "stream",
          "text": [
            "Model: \"transformer\"\n",
            "__________________________________________________________________________________________________\n",
            "Layer (type)                    Output Shape         Param #     Connected to                     \n",
            "==================================================================================================\n",
            "inputs (InputLayer)             [(None, None)]       0                                            \n",
            "__________________________________________________________________________________________________\n",
            "dec_inputs (InputLayer)         [(None, None)]       0                                            \n",
            "__________________________________________________________________________________________________\n",
            "enc_padding_mask (Lambda)       (None, 1, 1, None)   0           inputs[0][0]                     \n",
            "__________________________________________________________________________________________________\n",
            "encoder (Functional)            (None, None, 128)    480512      inputs[0][0]                     \n",
            "                                                                 enc_padding_mask[0][0]           \n",
            "__________________________________________________________________________________________________\n",
            "look_ahead_mask (Lambda)        (None, 1, None, None 0           dec_inputs[0][0]                 \n",
            "__________________________________________________________________________________________________\n",
            "dec_padding_mask (Lambda)       (None, 1, 1, None)   0           inputs[0][0]                     \n",
            "__________________________________________________________________________________________________\n",
            "decoder (Functional)            (None, None, 128)    546816      dec_inputs[0][0]                 \n",
            "                                                                 encoder[0][0]                    \n",
            "                                                                 look_ahead_mask[0][0]            \n",
            "                                                                 dec_padding_mask[0][0]           \n",
            "__________________________________________________________________________________________________\n",
            "outputs (Dense)                 (None, None, 2719)   350751      decoder[0][0]                    \n",
            "==================================================================================================\n",
            "Total params: 1,378,079\n",
            "Trainable params: 1,378,079\n",
            "Non-trainable params: 0\n",
            "__________________________________________________________________________________________________\n"
          ],
          "name": "stdout"
        }
      ]
    },
    {
      "cell_type": "code",
      "metadata": {
        "colab": {
          "base_uri": "https://localhost:8080/"
        },
        "id": "AVHbISTxTj8d",
        "outputId": "652ed27e-514e-4e52-913b-faad648853e1"
      },
      "source": [
        "model.fit(dataset, epochs=EPOCHS)"
      ],
      "execution_count": null,
      "outputs": [
        {
          "output_type": "stream",
          "text": [
            "Epoch 1/10\n",
            "223/223 [==============================] - 38s 144ms/step - loss: 0.6928 - accuracy: 0.0059\n",
            "Epoch 2/10\n",
            "223/223 [==============================] - 32s 145ms/step - loss: 0.4436 - accuracy: 0.0449\n",
            "Epoch 3/10\n",
            "223/223 [==============================] - 33s 147ms/step - loss: 0.2375 - accuracy: 0.0575\n",
            "Epoch 4/10\n",
            "223/223 [==============================] - 33s 149ms/step - loss: 0.1634 - accuracy: 0.0661\n",
            "Epoch 5/10\n",
            "223/223 [==============================] - 33s 148ms/step - loss: 0.1205 - accuracy: 0.0706\n",
            "Epoch 6/10\n",
            "223/223 [==============================] - 33s 148ms/step - loss: 0.0940 - accuracy: 0.0743\n",
            "Epoch 7/10\n",
            "223/223 [==============================] - 33s 149ms/step - loss: 0.0781 - accuracy: 0.0765\n",
            "Epoch 8/10\n",
            "223/223 [==============================] - 33s 148ms/step - loss: 0.0689 - accuracy: 0.0777\n",
            "Epoch 9/10\n",
            "223/223 [==============================] - 33s 148ms/step - loss: 0.0636 - accuracy: 0.0783\n",
            "Epoch 10/10\n",
            "223/223 [==============================] - 33s 148ms/step - loss: 0.0606 - accuracy: 0.0787\n"
          ],
          "name": "stdout"
        },
        {
          "output_type": "execute_result",
          "data": {
            "text/plain": [
              "<tensorflow.python.keras.callbacks.History at 0x7f5d705f2a50>"
            ]
          },
          "metadata": {
            "tags": []
          },
          "execution_count": 69
        }
      ]
    },
    {
      "cell_type": "code",
      "metadata": {
        "id": "ctgBKzffNI58"
      },
      "source": [
        "# model.save_weights(path+f'Instacart_Transformer_{EPOCHS}_weights_layers_{NUM_LAYERS}')"
      ],
      "execution_count": null,
      "outputs": []
    },
    {
      "cell_type": "code",
      "metadata": {
        "id": "vR-vDKccX0Xa"
      },
      "source": [
        "# model.load_weights(path+f'Instacart_Transformer_{EPOCHS}_weights_layers_{NUM_LAYERS}')"
      ],
      "execution_count": null,
      "outputs": []
    },
    {
      "cell_type": "markdown",
      "metadata": {
        "id": "hjnLet7vNt62"
      },
      "source": [
        "## 검증"
      ]
    },
    {
      "cell_type": "code",
      "metadata": {
        "id": "Qvgs4Pf4TkEC"
      },
      "source": [
        "def evaluate(sentence):\n",
        "  sentence = preprocess_sentence(sentence)\n",
        "\n",
        "  sentence = tf.expand_dims(\n",
        "      START_TOKEN + tokenizer.encode(sentence) + END_TOKEN, axis=0)\n",
        "\n",
        "  output = tf.expand_dims(START_TOKEN, 0)\n",
        "\n",
        "  # 디코더의 예측 시작\n",
        "  for i in range(MAX_LENGTH):\n",
        "    predictions = model(inputs=[sentence, output], training=False)\n",
        "\n",
        "    # 현재(마지막) 시점의 예측 단어를 받아온다.\n",
        "    predictions = predictions[:, -1:, :]\n",
        "    predicted_id = tf.cast(tf.argmax(predictions, axis=-1), tf.int32)\n",
        "\n",
        "    # 만약 마지막 시점의 예측 단어가 종료 토큰이라면 예측을 중단\n",
        "    if tf.equal(predicted_id, END_TOKEN[0]):\n",
        "      break\n",
        "\n",
        "    # 마지막 시점의 예측 단어를 출력에 연결한다.\n",
        "    # 이는 for문을 통해서 디코더의 입력으로 사용될 예정이다.\n",
        "    output = tf.concat([output, predicted_id], axis=-1)\n",
        "\n",
        "  return tf.squeeze(output, axis=0)\n",
        "\n",
        "\n",
        "def predict(sentence):\n",
        "  prediction = evaluate(sentence)\n",
        "\n",
        "  predicted_sentence = tokenizer.decode(\n",
        "      [i for i in prediction if i < tokenizer.vocab_size])\n",
        "\n",
        "#   print('Input: {}'.format(sentence))\n",
        "#   print('Output: {}'.format(predicted_sentence))\n",
        "\n",
        "  return predicted_sentence\n",
        "\n",
        "\n",
        "def preprocess_sentence(sentence):\n",
        "  sentence = re.sub(r\"([?.!,])\", r\" \\1 \", sentence)\n",
        "  sentence = sentence.strip()\n",
        "  return sentence"
      ],
      "execution_count": null,
      "outputs": []
    },
    {
      "cell_type": "code",
      "metadata": {
        "id": "k592OU1EY7xc",
        "colab": {
          "base_uri": "https://localhost:8080/",
          "height": 35
        },
        "outputId": "0bddb6c0-4ac0-4648-d5ca-5e0e9857f7a0"
      },
      "source": [
        "predict(filtering_train_df['split_label_token'][2])"
      ],
      "execution_count": null,
      "outputs": [
        {
          "output_type": "execute_result",
          "data": {
            "application/vnd.google.colaboratory.intrinsic+json": {
              "type": "string"
            },
            "text/plain": [
              "'<esp> RED SPOTTY CHARLOTTE BAG <esp>'"
            ]
          },
          "metadata": {
            "tags": []
          },
          "execution_count": 73
        }
      ]
    },
    {
      "cell_type": "code",
      "metadata": {
        "id": "Ammn_7esech4"
      },
      "source": [
        "filtering_test_df['split_train_token'] = ['<esp> ' + i.strip().replace('&&', ' <esp> ') + ' <esp>' for i in filtering_test_df['train']]\n",
        "filtering_test_df['split_label_token'] = ['<esp> ' + i.strip() + ' <esp>' for i in filtering_test_df['label']]"
      ],
      "execution_count": null,
      "outputs": []
    },
    {
      "cell_type": "code",
      "metadata": {
        "id": "3wGK8SfJfCLv",
        "colab": {
          "base_uri": "https://localhost:8080/",
          "height": 204
        },
        "outputId": "3f66dd47-4e2c-4ac7-8dee-3962e1dcea3f"
      },
      "source": [
        "filtering_test_df.pop('token_len')\n",
        "filtering_test_df.pop('token_len_cate')\n",
        "filtering_test_df.head()"
      ],
      "execution_count": null,
      "outputs": [
        {
          "output_type": "execute_result",
          "data": {
            "text/html": [
              "<div>\n",
              "<style scoped>\n",
              "    .dataframe tbody tr th:only-of-type {\n",
              "        vertical-align: middle;\n",
              "    }\n",
              "\n",
              "    .dataframe tbody tr th {\n",
              "        vertical-align: top;\n",
              "    }\n",
              "\n",
              "    .dataframe thead th {\n",
              "        text-align: right;\n",
              "    }\n",
              "</style>\n",
              "<table border=\"1\" class=\"dataframe\">\n",
              "  <thead>\n",
              "    <tr style=\"text-align: right;\">\n",
              "      <th></th>\n",
              "      <th>train</th>\n",
              "      <th>label</th>\n",
              "      <th>split_train_token</th>\n",
              "      <th>split_label_token</th>\n",
              "    </tr>\n",
              "  </thead>\n",
              "  <tbody>\n",
              "    <tr>\n",
              "      <th>0</th>\n",
              "      <td>DANISH ROSE PHOTO FRAME&amp;&amp;RETRO BLUE SPOTTY WAS...</td>\n",
              "      <td>WOODEN UNION JACK BUNTING</td>\n",
              "      <td>&lt;esp&gt; DANISH ROSE PHOTO FRAME &lt;esp&gt; RETRO BLUE...</td>\n",
              "      <td>&lt;esp&gt; WOODEN UNION JACK BUNTING &lt;esp&gt;</td>\n",
              "    </tr>\n",
              "    <tr>\n",
              "      <th>1</th>\n",
              "      <td>SET OF 2 ROUND TINS DUTCH CHEESE&amp;&amp;LARGE MEDINA...</td>\n",
              "      <td>LOVE BUILDING BLOCK WORD</td>\n",
              "      <td>&lt;esp&gt; SET OF 2 ROUND TINS DUTCH CHEESE &lt;esp&gt; L...</td>\n",
              "      <td>&lt;esp&gt; LOVE BUILDING BLOCK WORD &lt;esp&gt;</td>\n",
              "    </tr>\n",
              "    <tr>\n",
              "      <th>2</th>\n",
              "      <td>PINK 3 PIECE MINI DOTS CUTLERY SET&amp;&amp;CHILDS APR...</td>\n",
              "      <td>MINI JIGSAW SPACEBOY</td>\n",
              "      <td>&lt;esp&gt; PINK 3 PIECE MINI DOTS CUTLERY SET &lt;esp&gt;...</td>\n",
              "      <td>&lt;esp&gt; MINI JIGSAW SPACEBOY &lt;esp&gt;</td>\n",
              "    </tr>\n",
              "    <tr>\n",
              "      <th>3</th>\n",
              "      <td>WOODEN BOX OF DOMINOES&amp;&amp;TEA TIME DES TEA COSY&amp;...</td>\n",
              "      <td>GREEN GINGHAM FLOWER JEWELLERY BOX</td>\n",
              "      <td>&lt;esp&gt; WOODEN BOX OF DOMINOES &lt;esp&gt; TEA TIME DE...</td>\n",
              "      <td>&lt;esp&gt; GREEN GINGHAM FLOWER JEWELLERY BOX &lt;esp&gt;</td>\n",
              "    </tr>\n",
              "    <tr>\n",
              "      <th>4</th>\n",
              "      <td>ASSORTED COLOURS SILK FAN&amp;&amp;PACK OF 72 SKULL CA...</td>\n",
              "      <td>WORLD WAR 2 GLIDERS ASSTD DESIGNS</td>\n",
              "      <td>&lt;esp&gt; ASSORTED COLOURS SILK FAN &lt;esp&gt; PACK OF ...</td>\n",
              "      <td>&lt;esp&gt; WORLD WAR 2 GLIDERS ASSTD DESIGNS &lt;esp&gt;</td>\n",
              "    </tr>\n",
              "  </tbody>\n",
              "</table>\n",
              "</div>"
            ],
            "text/plain": [
              "                                               train  ...                               split_label_token\n",
              "0  DANISH ROSE PHOTO FRAME&&RETRO BLUE SPOTTY WAS...  ...           <esp> WOODEN UNION JACK BUNTING <esp>\n",
              "1  SET OF 2 ROUND TINS DUTCH CHEESE&&LARGE MEDINA...  ...            <esp> LOVE BUILDING BLOCK WORD <esp>\n",
              "2  PINK 3 PIECE MINI DOTS CUTLERY SET&&CHILDS APR...  ...                <esp> MINI JIGSAW SPACEBOY <esp>\n",
              "3  WOODEN BOX OF DOMINOES&&TEA TIME DES TEA COSY&...  ...  <esp> GREEN GINGHAM FLOWER JEWELLERY BOX <esp>\n",
              "4  ASSORTED COLOURS SILK FAN&&PACK OF 72 SKULL CA...  ...   <esp> WORLD WAR 2 GLIDERS ASSTD DESIGNS <esp>\n",
              "\n",
              "[5 rows x 4 columns]"
            ]
          },
          "metadata": {
            "tags": []
          },
          "execution_count": 75
        }
      ]
    },
    {
      "cell_type": "code",
      "metadata": {
        "id": "3kA-UfGzeHIY",
        "colab": {
          "base_uri": "https://localhost:8080/"
        },
        "outputId": "dcdfede9-884b-4cc5-fb63-0754bb12367c"
      },
      "source": [
        "tqdm.tqdm.pandas()\n",
        "predict_item_test = filtering_test_df['split_train_token'].progress_apply(predict)"
      ],
      "execution_count": null,
      "outputs": [
        {
          "output_type": "stream",
          "text": [
            "100%|██████████| 14241/14241 [1:24:46<00:00,  2.80it/s]\n"
          ],
          "name": "stderr"
        }
      ]
    },
    {
      "cell_type": "code",
      "metadata": {
        "id": "R1bg7taWe3Vl",
        "colab": {
          "base_uri": "https://localhost:8080/"
        },
        "outputId": "419af9b8-abf1-46f4-bb0b-308c361ba020"
      },
      "source": [
        "filtering_test_df['predict_item'] = predict_item_test\n",
        "pd.Series([i in list(filtering_test_df['split_label_token']) for i in filtering_test_df['predict_item']]).value_counts()"
      ],
      "execution_count": null,
      "outputs": [
        {
          "output_type": "execute_result",
          "data": {
            "text/plain": [
              "True     14202\n",
              "False       39\n",
              "dtype: int64"
            ]
          },
          "metadata": {
            "tags": []
          },
          "execution_count": 77
        }
      ]
    },
    {
      "cell_type": "code",
      "metadata": {
        "id": "sRmBz3pWM_DP",
        "colab": {
          "base_uri": "https://localhost:8080/",
          "height": 589
        },
        "outputId": "461d1f1f-6b10-4238-a855-99bd18000479"
      },
      "source": [
        "filtering_test_df"
      ],
      "execution_count": null,
      "outputs": [
        {
          "output_type": "execute_result",
          "data": {
            "text/html": [
              "<div>\n",
              "<style scoped>\n",
              "    .dataframe tbody tr th:only-of-type {\n",
              "        vertical-align: middle;\n",
              "    }\n",
              "\n",
              "    .dataframe tbody tr th {\n",
              "        vertical-align: top;\n",
              "    }\n",
              "\n",
              "    .dataframe thead th {\n",
              "        text-align: right;\n",
              "    }\n",
              "</style>\n",
              "<table border=\"1\" class=\"dataframe\">\n",
              "  <thead>\n",
              "    <tr style=\"text-align: right;\">\n",
              "      <th></th>\n",
              "      <th>train</th>\n",
              "      <th>label</th>\n",
              "      <th>split_train_token</th>\n",
              "      <th>split_label_token</th>\n",
              "      <th>predict_item</th>\n",
              "    </tr>\n",
              "  </thead>\n",
              "  <tbody>\n",
              "    <tr>\n",
              "      <th>0</th>\n",
              "      <td>DANISH ROSE PHOTO FRAME&amp;&amp;RETRO BLUE SPOTTY WAS...</td>\n",
              "      <td>WOODEN UNION JACK BUNTING</td>\n",
              "      <td>&lt;esp&gt; DANISH ROSE PHOTO FRAME &lt;esp&gt; RETRO BLUE...</td>\n",
              "      <td>&lt;esp&gt; WOODEN UNION JACK BUNTING &lt;esp&gt;</td>\n",
              "      <td>&lt;esp&gt; HOT BATHS METAL SIGN &lt;esp&gt;</td>\n",
              "    </tr>\n",
              "    <tr>\n",
              "      <th>1</th>\n",
              "      <td>SET OF 2 ROUND TINS DUTCH CHEESE&amp;&amp;LARGE MEDINA...</td>\n",
              "      <td>LOVE BUILDING BLOCK WORD</td>\n",
              "      <td>&lt;esp&gt; SET OF 2 ROUND TINS DUTCH CHEESE &lt;esp&gt; L...</td>\n",
              "      <td>&lt;esp&gt; LOVE BUILDING BLOCK WORD &lt;esp&gt;</td>\n",
              "      <td>&lt;esp&gt; RED SPOTTY APRON &lt;esp&gt;</td>\n",
              "    </tr>\n",
              "    <tr>\n",
              "      <th>2</th>\n",
              "      <td>PINK 3 PIECE MINI DOTS CUTLERY SET&amp;&amp;CHILDS APR...</td>\n",
              "      <td>MINI JIGSAW SPACEBOY</td>\n",
              "      <td>&lt;esp&gt; PINK 3 PIECE MINI DOTS CUTLERY SET &lt;esp&gt;...</td>\n",
              "      <td>&lt;esp&gt; MINI JIGSAW SPACEBOY &lt;esp&gt;</td>\n",
              "      <td>&lt;esp&gt; RED 3 PIECE MINI DOTS CUTLERY SET &lt;esp&gt;</td>\n",
              "    </tr>\n",
              "    <tr>\n",
              "      <th>3</th>\n",
              "      <td>WOODEN BOX OF DOMINOES&amp;&amp;TEA TIME DES TEA COSY&amp;...</td>\n",
              "      <td>GREEN GINGHAM FLOWER JEWELLERY BOX</td>\n",
              "      <td>&lt;esp&gt; WOODEN BOX OF DOMINOES &lt;esp&gt; TEA TIME DE...</td>\n",
              "      <td>&lt;esp&gt; GREEN GINGHAM FLOWER JEWELLERY BOX &lt;esp&gt;</td>\n",
              "      <td>&lt;esp&gt; RED SPOTTY BISCUIT TIN &lt;esp&gt;</td>\n",
              "    </tr>\n",
              "    <tr>\n",
              "      <th>4</th>\n",
              "      <td>ASSORTED COLOURS SILK FAN&amp;&amp;PACK OF 72 SKULL CA...</td>\n",
              "      <td>WORLD WAR 2 GLIDERS ASSTD DESIGNS</td>\n",
              "      <td>&lt;esp&gt; ASSORTED COLOURS SILK FAN &lt;esp&gt; PACK OF ...</td>\n",
              "      <td>&lt;esp&gt; WORLD WAR 2 GLIDERS ASSTD DESIGNS &lt;esp&gt;</td>\n",
              "      <td>&lt;esp&gt; SET OF 72 RETRO SPOT PAPER  DOILIES &lt;esp&gt;</td>\n",
              "    </tr>\n",
              "    <tr>\n",
              "      <th>...</th>\n",
              "      <td>...</td>\n",
              "      <td>...</td>\n",
              "      <td>...</td>\n",
              "      <td>...</td>\n",
              "      <td>...</td>\n",
              "    </tr>\n",
              "    <tr>\n",
              "      <th>14236</th>\n",
              "      <td>ASSORTED COLOUR BIRD ORNAMENT&amp;&amp;FILIGRIS HEART ...</td>\n",
              "      <td>HANGING WOOD AND FELT HEART</td>\n",
              "      <td>&lt;esp&gt; ASSORTED COLOUR BIRD ORNAMENT &lt;esp&gt; FILI...</td>\n",
              "      <td>&lt;esp&gt; HANGING WOOD AND FELT HEART &lt;esp&gt;</td>\n",
              "      <td>&lt;esp&gt; HANGING HEART ZINC T-LIGHT HOLDER &lt;esp&gt;</td>\n",
              "    </tr>\n",
              "    <tr>\n",
              "      <th>14237</th>\n",
              "      <td>LADLE LOVE HEART RED&amp;&amp;FAWN AND MUSHROOM GREETI...</td>\n",
              "      <td>SET/6 RED SPOTTY PAPER PLATES</td>\n",
              "      <td>&lt;esp&gt; LADLE LOVE HEART RED &lt;esp&gt; FAWN AND MUSH...</td>\n",
              "      <td>&lt;esp&gt; SET/6 RED SPOTTY PAPER PLATES &lt;esp&gt;</td>\n",
              "      <td>&lt;esp&gt; PACK OF 72 RETRO SPOT CAKE CASES &lt;esp&gt;</td>\n",
              "    </tr>\n",
              "    <tr>\n",
              "      <th>14238</th>\n",
              "      <td>GOLD  CHERRY LIGHTS&amp;&amp;URBAN CHIC CHOPSTICKS SET...</td>\n",
              "      <td>WOBBLING METAL CHICKEN EASTER</td>\n",
              "      <td>&lt;esp&gt; GOLD  CHERRY LIGHTS &lt;esp&gt; URBAN CHIC CHO...</td>\n",
              "      <td>&lt;esp&gt; WOBBLING METAL CHICKEN EASTER &lt;esp&gt;</td>\n",
              "      <td>&lt;esp&gt; PINK FAIRY CAKE CHILD'S APRON &lt;esp&gt;</td>\n",
              "    </tr>\n",
              "    <tr>\n",
              "      <th>14239</th>\n",
              "      <td>SET/2 RED SPOTTY TEA TOWELS&amp;&amp;ABSTRACT CIRCLES ...</td>\n",
              "      <td>HOME SWEET HOME  BLACKBOARD</td>\n",
              "      <td>&lt;esp&gt; SET/2 RED SPOTTY TEA TOWELS &lt;esp&gt; ABSTRA...</td>\n",
              "      <td>&lt;esp&gt; HOME SWEET HOME  BLACKBOARD &lt;esp&gt;</td>\n",
              "      <td>&lt;esp&gt; DOOR MAT UNION FLAG &lt;esp&gt;</td>\n",
              "    </tr>\n",
              "    <tr>\n",
              "      <th>14240</th>\n",
              "      <td>ASSORTED COLOUR SILK COIN PURSE&amp;&amp;BEACH HUT MIR...</td>\n",
              "      <td>DOORMAT UNION JACK GUNS AND ROSES</td>\n",
              "      <td>&lt;esp&gt; ASSORTED COLOUR SILK COIN PURSE &lt;esp&gt; BE...</td>\n",
              "      <td>&lt;esp&gt; DOORMAT UNION JACK GUNS AND ROSES &lt;esp&gt;</td>\n",
              "      <td>&lt;esp&gt; RED SPOTTY BISCUIT TIN &lt;esp&gt;</td>\n",
              "    </tr>\n",
              "  </tbody>\n",
              "</table>\n",
              "<p>14241 rows × 5 columns</p>\n",
              "</div>"
            ],
            "text/plain": [
              "                                                   train  ...                                     predict_item\n",
              "0      DANISH ROSE PHOTO FRAME&&RETRO BLUE SPOTTY WAS...  ...                 <esp> HOT BATHS METAL SIGN <esp>\n",
              "1      SET OF 2 ROUND TINS DUTCH CHEESE&&LARGE MEDINA...  ...                     <esp> RED SPOTTY APRON <esp>\n",
              "2      PINK 3 PIECE MINI DOTS CUTLERY SET&&CHILDS APR...  ...    <esp> RED 3 PIECE MINI DOTS CUTLERY SET <esp>\n",
              "3      WOODEN BOX OF DOMINOES&&TEA TIME DES TEA COSY&...  ...               <esp> RED SPOTTY BISCUIT TIN <esp>\n",
              "4      ASSORTED COLOURS SILK FAN&&PACK OF 72 SKULL CA...  ...  <esp> SET OF 72 RETRO SPOT PAPER  DOILIES <esp>\n",
              "...                                                  ...  ...                                              ...\n",
              "14236  ASSORTED COLOUR BIRD ORNAMENT&&FILIGRIS HEART ...  ...    <esp> HANGING HEART ZINC T-LIGHT HOLDER <esp>\n",
              "14237  LADLE LOVE HEART RED&&FAWN AND MUSHROOM GREETI...  ...     <esp> PACK OF 72 RETRO SPOT CAKE CASES <esp>\n",
              "14238  GOLD  CHERRY LIGHTS&&URBAN CHIC CHOPSTICKS SET...  ...        <esp> PINK FAIRY CAKE CHILD'S APRON <esp>\n",
              "14239  SET/2 RED SPOTTY TEA TOWELS&&ABSTRACT CIRCLES ...  ...                  <esp> DOOR MAT UNION FLAG <esp>\n",
              "14240  ASSORTED COLOUR SILK COIN PURSE&&BEACH HUT MIR...  ...               <esp> RED SPOTTY BISCUIT TIN <esp>\n",
              "\n",
              "[14241 rows x 5 columns]"
            ]
          },
          "metadata": {
            "tags": []
          },
          "execution_count": 78
        }
      ]
    },
    {
      "cell_type": "markdown",
      "metadata": {
        "id": "Qe4JPXDuMhzv"
      },
      "source": [
        "# Product2Vec"
      ]
    },
    {
      "cell_type": "code",
      "metadata": {
        "id": "nwMSPAmDLizi"
      },
      "source": [
        "TFoutputs = filtering_test_df"
      ],
      "execution_count": null,
      "outputs": []
    },
    {
      "cell_type": "code",
      "metadata": {
        "id": "Xhf_KP7ANU4c",
        "colab": {
          "base_uri": "https://localhost:8080/"
        },
        "outputId": "a0d429fd-694f-4bf7-94c4-00a3e9590354"
      },
      "source": [
        "checker = pd.Series([i in list(TFoutputs['split_label_token']) for i in TFoutputs['predict_item']])\n",
        "print(checker.value_counts())\n",
        "filter = checker[checker == False].index\n",
        "len(filter)"
      ],
      "execution_count": null,
      "outputs": [
        {
          "output_type": "stream",
          "text": [
            "True     14202\n",
            "False       39\n",
            "dtype: int64\n"
          ],
          "name": "stdout"
        },
        {
          "output_type": "execute_result",
          "data": {
            "text/plain": [
              "39"
            ]
          },
          "metadata": {
            "tags": []
          },
          "execution_count": 80
        }
      ]
    },
    {
      "cell_type": "code",
      "metadata": {
        "id": "Uh-NlYnHNf5n",
        "colab": {
          "base_uri": "https://localhost:8080/",
          "height": 589
        },
        "outputId": "d72f5001-d905-449c-f674-7d38bb3347ef"
      },
      "source": [
        "TFoutputs['filter'] = checker\n",
        "TFoutputs"
      ],
      "execution_count": null,
      "outputs": [
        {
          "output_type": "execute_result",
          "data": {
            "text/html": [
              "<div>\n",
              "<style scoped>\n",
              "    .dataframe tbody tr th:only-of-type {\n",
              "        vertical-align: middle;\n",
              "    }\n",
              "\n",
              "    .dataframe tbody tr th {\n",
              "        vertical-align: top;\n",
              "    }\n",
              "\n",
              "    .dataframe thead th {\n",
              "        text-align: right;\n",
              "    }\n",
              "</style>\n",
              "<table border=\"1\" class=\"dataframe\">\n",
              "  <thead>\n",
              "    <tr style=\"text-align: right;\">\n",
              "      <th></th>\n",
              "      <th>train</th>\n",
              "      <th>label</th>\n",
              "      <th>split_train_token</th>\n",
              "      <th>split_label_token</th>\n",
              "      <th>predict_item</th>\n",
              "      <th>filter</th>\n",
              "    </tr>\n",
              "  </thead>\n",
              "  <tbody>\n",
              "    <tr>\n",
              "      <th>0</th>\n",
              "      <td>DANISH ROSE PHOTO FRAME&amp;&amp;RETRO BLUE SPOTTY WAS...</td>\n",
              "      <td>WOODEN UNION JACK BUNTING</td>\n",
              "      <td>&lt;esp&gt; DANISH ROSE PHOTO FRAME &lt;esp&gt; RETRO BLUE...</td>\n",
              "      <td>&lt;esp&gt; WOODEN UNION JACK BUNTING &lt;esp&gt;</td>\n",
              "      <td>&lt;esp&gt; HOT BATHS METAL SIGN &lt;esp&gt;</td>\n",
              "      <td>True</td>\n",
              "    </tr>\n",
              "    <tr>\n",
              "      <th>1</th>\n",
              "      <td>SET OF 2 ROUND TINS DUTCH CHEESE&amp;&amp;LARGE MEDINA...</td>\n",
              "      <td>LOVE BUILDING BLOCK WORD</td>\n",
              "      <td>&lt;esp&gt; SET OF 2 ROUND TINS DUTCH CHEESE &lt;esp&gt; L...</td>\n",
              "      <td>&lt;esp&gt; LOVE BUILDING BLOCK WORD &lt;esp&gt;</td>\n",
              "      <td>&lt;esp&gt; RED SPOTTY APRON &lt;esp&gt;</td>\n",
              "      <td>True</td>\n",
              "    </tr>\n",
              "    <tr>\n",
              "      <th>2</th>\n",
              "      <td>PINK 3 PIECE MINI DOTS CUTLERY SET&amp;&amp;CHILDS APR...</td>\n",
              "      <td>MINI JIGSAW SPACEBOY</td>\n",
              "      <td>&lt;esp&gt; PINK 3 PIECE MINI DOTS CUTLERY SET &lt;esp&gt;...</td>\n",
              "      <td>&lt;esp&gt; MINI JIGSAW SPACEBOY &lt;esp&gt;</td>\n",
              "      <td>&lt;esp&gt; RED 3 PIECE MINI DOTS CUTLERY SET &lt;esp&gt;</td>\n",
              "      <td>True</td>\n",
              "    </tr>\n",
              "    <tr>\n",
              "      <th>3</th>\n",
              "      <td>WOODEN BOX OF DOMINOES&amp;&amp;TEA TIME DES TEA COSY&amp;...</td>\n",
              "      <td>GREEN GINGHAM FLOWER JEWELLERY BOX</td>\n",
              "      <td>&lt;esp&gt; WOODEN BOX OF DOMINOES &lt;esp&gt; TEA TIME DE...</td>\n",
              "      <td>&lt;esp&gt; GREEN GINGHAM FLOWER JEWELLERY BOX &lt;esp&gt;</td>\n",
              "      <td>&lt;esp&gt; RED SPOTTY BISCUIT TIN &lt;esp&gt;</td>\n",
              "      <td>True</td>\n",
              "    </tr>\n",
              "    <tr>\n",
              "      <th>4</th>\n",
              "      <td>ASSORTED COLOURS SILK FAN&amp;&amp;PACK OF 72 SKULL CA...</td>\n",
              "      <td>WORLD WAR 2 GLIDERS ASSTD DESIGNS</td>\n",
              "      <td>&lt;esp&gt; ASSORTED COLOURS SILK FAN &lt;esp&gt; PACK OF ...</td>\n",
              "      <td>&lt;esp&gt; WORLD WAR 2 GLIDERS ASSTD DESIGNS &lt;esp&gt;</td>\n",
              "      <td>&lt;esp&gt; SET OF 72 RETRO SPOT PAPER  DOILIES &lt;esp&gt;</td>\n",
              "      <td>True</td>\n",
              "    </tr>\n",
              "    <tr>\n",
              "      <th>...</th>\n",
              "      <td>...</td>\n",
              "      <td>...</td>\n",
              "      <td>...</td>\n",
              "      <td>...</td>\n",
              "      <td>...</td>\n",
              "      <td>...</td>\n",
              "    </tr>\n",
              "    <tr>\n",
              "      <th>14236</th>\n",
              "      <td>ASSORTED COLOUR BIRD ORNAMENT&amp;&amp;FILIGRIS HEART ...</td>\n",
              "      <td>HANGING WOOD AND FELT HEART</td>\n",
              "      <td>&lt;esp&gt; ASSORTED COLOUR BIRD ORNAMENT &lt;esp&gt; FILI...</td>\n",
              "      <td>&lt;esp&gt; HANGING WOOD AND FELT HEART &lt;esp&gt;</td>\n",
              "      <td>&lt;esp&gt; HANGING HEART ZINC T-LIGHT HOLDER &lt;esp&gt;</td>\n",
              "      <td>True</td>\n",
              "    </tr>\n",
              "    <tr>\n",
              "      <th>14237</th>\n",
              "      <td>LADLE LOVE HEART RED&amp;&amp;FAWN AND MUSHROOM GREETI...</td>\n",
              "      <td>SET/6 RED SPOTTY PAPER PLATES</td>\n",
              "      <td>&lt;esp&gt; LADLE LOVE HEART RED &lt;esp&gt; FAWN AND MUSH...</td>\n",
              "      <td>&lt;esp&gt; SET/6 RED SPOTTY PAPER PLATES &lt;esp&gt;</td>\n",
              "      <td>&lt;esp&gt; PACK OF 72 RETRO SPOT CAKE CASES &lt;esp&gt;</td>\n",
              "      <td>True</td>\n",
              "    </tr>\n",
              "    <tr>\n",
              "      <th>14238</th>\n",
              "      <td>GOLD  CHERRY LIGHTS&amp;&amp;URBAN CHIC CHOPSTICKS SET...</td>\n",
              "      <td>WOBBLING METAL CHICKEN EASTER</td>\n",
              "      <td>&lt;esp&gt; GOLD  CHERRY LIGHTS &lt;esp&gt; URBAN CHIC CHO...</td>\n",
              "      <td>&lt;esp&gt; WOBBLING METAL CHICKEN EASTER &lt;esp&gt;</td>\n",
              "      <td>&lt;esp&gt; PINK FAIRY CAKE CHILD'S APRON &lt;esp&gt;</td>\n",
              "      <td>True</td>\n",
              "    </tr>\n",
              "    <tr>\n",
              "      <th>14239</th>\n",
              "      <td>SET/2 RED SPOTTY TEA TOWELS&amp;&amp;ABSTRACT CIRCLES ...</td>\n",
              "      <td>HOME SWEET HOME  BLACKBOARD</td>\n",
              "      <td>&lt;esp&gt; SET/2 RED SPOTTY TEA TOWELS &lt;esp&gt; ABSTRA...</td>\n",
              "      <td>&lt;esp&gt; HOME SWEET HOME  BLACKBOARD &lt;esp&gt;</td>\n",
              "      <td>&lt;esp&gt; DOOR MAT UNION FLAG &lt;esp&gt;</td>\n",
              "      <td>True</td>\n",
              "    </tr>\n",
              "    <tr>\n",
              "      <th>14240</th>\n",
              "      <td>ASSORTED COLOUR SILK COIN PURSE&amp;&amp;BEACH HUT MIR...</td>\n",
              "      <td>DOORMAT UNION JACK GUNS AND ROSES</td>\n",
              "      <td>&lt;esp&gt; ASSORTED COLOUR SILK COIN PURSE &lt;esp&gt; BE...</td>\n",
              "      <td>&lt;esp&gt; DOORMAT UNION JACK GUNS AND ROSES &lt;esp&gt;</td>\n",
              "      <td>&lt;esp&gt; RED SPOTTY BISCUIT TIN &lt;esp&gt;</td>\n",
              "      <td>True</td>\n",
              "    </tr>\n",
              "  </tbody>\n",
              "</table>\n",
              "<p>14241 rows × 6 columns</p>\n",
              "</div>"
            ],
            "text/plain": [
              "                                                   train  ... filter\n",
              "0      DANISH ROSE PHOTO FRAME&&RETRO BLUE SPOTTY WAS...  ...   True\n",
              "1      SET OF 2 ROUND TINS DUTCH CHEESE&&LARGE MEDINA...  ...   True\n",
              "2      PINK 3 PIECE MINI DOTS CUTLERY SET&&CHILDS APR...  ...   True\n",
              "3      WOODEN BOX OF DOMINOES&&TEA TIME DES TEA COSY&...  ...   True\n",
              "4      ASSORTED COLOURS SILK FAN&&PACK OF 72 SKULL CA...  ...   True\n",
              "...                                                  ...  ...    ...\n",
              "14236  ASSORTED COLOUR BIRD ORNAMENT&&FILIGRIS HEART ...  ...   True\n",
              "14237  LADLE LOVE HEART RED&&FAWN AND MUSHROOM GREETI...  ...   True\n",
              "14238  GOLD  CHERRY LIGHTS&&URBAN CHIC CHOPSTICKS SET...  ...   True\n",
              "14239  SET/2 RED SPOTTY TEA TOWELS&&ABSTRACT CIRCLES ...  ...   True\n",
              "14240  ASSORTED COLOUR SILK COIN PURSE&&BEACH HUT MIR...  ...   True\n",
              "\n",
              "[14241 rows x 6 columns]"
            ]
          },
          "metadata": {
            "tags": []
          },
          "execution_count": 81
        }
      ]
    },
    {
      "cell_type": "code",
      "metadata": {
        "id": "8NNnTiziKXBu",
        "colab": {
          "base_uri": "https://localhost:8080/"
        },
        "outputId": "745ebec2-c01b-4406-f40e-6d4078468de5"
      },
      "source": [
        "pred = TFoutputs['predict_item']\n",
        "pred = pred.str.replace('<esp>', '')\n",
        "pred = pred.str.strip()\n",
        "pred.head()"
      ],
      "execution_count": null,
      "outputs": [
        {
          "output_type": "execute_result",
          "data": {
            "text/plain": [
              "0                   HOT BATHS METAL SIGN\n",
              "1                       RED SPOTTY APRON\n",
              "2      RED 3 PIECE MINI DOTS CUTLERY SET\n",
              "3                 RED SPOTTY BISCUIT TIN\n",
              "4    SET OF 72 RETRO SPOT PAPER  DOILIES\n",
              "Name: predict_item, dtype: object"
            ]
          },
          "metadata": {
            "tags": []
          },
          "execution_count": 82
        }
      ]
    },
    {
      "cell_type": "code",
      "metadata": {
        "id": "99bDozohPb0F",
        "colab": {
          "base_uri": "https://localhost:8080/"
        },
        "outputId": "8d733868-e8bf-4c72-d1be-c60cc22622cb"
      },
      "source": [
        "falses = pd.Series([TFoutputs['predict_item'][i] for i in filter])\n",
        "falses = falses.str.replace('<esp>', '')\n",
        "falses = falses.str.strip()\n",
        "print(len(falses))\n",
        "falses.head()"
      ],
      "execution_count": null,
      "outputs": [
        {
          "output_type": "stream",
          "text": [
            "39\n"
          ],
          "name": "stdout"
        },
        {
          "output_type": "execute_result",
          "data": {
            "text/plain": [
              "0    BOTANICAL LAVENDER GIFT WRAP\n",
              "1    BOTANICAL LAVENDER GIFT WRAP\n",
              "2     PINK PATCH PURSE PINK HEART\n",
              "3    BOTANICAL LAVENDER GIFT WRAP\n",
              "4    BOTANICAL LAVENDER GIFT WRAP\n",
              "dtype: object"
            ]
          },
          "metadata": {
            "tags": []
          },
          "execution_count": 83
        }
      ]
    },
    {
      "cell_type": "code",
      "metadata": {
        "id": "8u5Kpf0fyHmd",
        "colab": {
          "base_uri": "https://localhost:8080/"
        },
        "outputId": "ba4650d5-0ac6-4af5-f28a-250cd8f29381"
      },
      "source": [
        "filter[:5]"
      ],
      "execution_count": null,
      "outputs": [
        {
          "output_type": "execute_result",
          "data": {
            "text/plain": [
              "Int64Index([972, 1016, 1112, 1222, 1675], dtype='int64')"
            ]
          },
          "metadata": {
            "tags": []
          },
          "execution_count": 84
        }
      ]
    },
    {
      "cell_type": "code",
      "metadata": {
        "id": "IgcTovcIZrBO",
        "colab": {
          "base_uri": "https://localhost:8080/",
          "height": 419
        },
        "outputId": "e61a7345-0930-47f7-dadd-c4d02491c2fc"
      },
      "source": [
        "df = ds_customer\n",
        "df"
      ],
      "execution_count": null,
      "outputs": [
        {
          "output_type": "execute_result",
          "data": {
            "text/html": [
              "<div>\n",
              "<style scoped>\n",
              "    .dataframe tbody tr th:only-of-type {\n",
              "        vertical-align: middle;\n",
              "    }\n",
              "\n",
              "    .dataframe tbody tr th {\n",
              "        vertical-align: top;\n",
              "    }\n",
              "\n",
              "    .dataframe thead th {\n",
              "        text-align: right;\n",
              "    }\n",
              "</style>\n",
              "<table border=\"1\" class=\"dataframe\">\n",
              "  <thead>\n",
              "    <tr style=\"text-align: right;\">\n",
              "      <th></th>\n",
              "      <th>Customer</th>\n",
              "      <th>Detail</th>\n",
              "      <th>label</th>\n",
              "    </tr>\n",
              "  </thead>\n",
              "  <tbody>\n",
              "    <tr>\n",
              "      <th>0</th>\n",
              "      <td>32346.0</td>\n",
              "      <td>DOORMAT HOME SWEET HOME BLUE&amp;&amp;DOORMAT SPOTTY H...</td>\n",
              "      <td>RED SPOTTY CHILDS UMBRELLA</td>\n",
              "    </tr>\n",
              "    <tr>\n",
              "      <th>1</th>\n",
              "      <td>32349.0</td>\n",
              "      <td>RETRO SPOT LARGE MILK JUG&amp;&amp;POLKADOT CUTLERY 24...</td>\n",
              "      <td>SET/6 RED SPOTTY PAPER CUPS</td>\n",
              "    </tr>\n",
              "    <tr>\n",
              "      <th>2</th>\n",
              "      <td>32355.0</td>\n",
              "      <td>GOLD TEDDY BEAR&amp;&amp;OPULENT VELVET SET/3 CANDLES&amp;...</td>\n",
              "      <td>KIDS RAIN MAC BLUE</td>\n",
              "    </tr>\n",
              "    <tr>\n",
              "      <th>3</th>\n",
              "      <td>32358.0</td>\n",
              "      <td>JUMBO SHOPPER VINTAGE RED PAISLEY&amp;&amp;GARDEN PATH...</td>\n",
              "      <td>ASSORTED CHEESE FRIDGE MAGNETS</td>\n",
              "    </tr>\n",
              "    <tr>\n",
              "      <th>4</th>\n",
              "      <td>32359.0</td>\n",
              "      <td>SET OF 2 WOODEN MARKET CRATES&amp;&amp;OLD DOC RUSSEL ...</td>\n",
              "      <td>LAUNDRY 15C METAL SIGN</td>\n",
              "    </tr>\n",
              "    <tr>\n",
              "      <th>...</th>\n",
              "      <td>...</td>\n",
              "      <td>...</td>\n",
              "      <td>...</td>\n",
              "    </tr>\n",
              "    <tr>\n",
              "      <th>2727</th>\n",
              "      <td>38276.0</td>\n",
              "      <td>LUNCH BAG SPACEBOY DESIGN&amp;&amp;SET OF 72 SKULL PAP...</td>\n",
              "      <td>LUNCH BAG  BLACK SKULL.</td>\n",
              "    </tr>\n",
              "    <tr>\n",
              "      <th>2728</th>\n",
              "      <td>38281.0</td>\n",
              "      <td>TEA PARTY BIRTHDAY CARD&amp;&amp;LUNCH BAG PINK RETROS...</td>\n",
              "      <td>SPACEBOY BIRTHDAY CARD</td>\n",
              "    </tr>\n",
              "    <tr>\n",
              "      <th>2729</th>\n",
              "      <td>38283.0</td>\n",
              "      <td>SMALL POPCORN HOLDER&amp;&amp;ASSORTED ICE CREAM FRIDG...</td>\n",
              "      <td>RED SPOTTY CHILDS APRON</td>\n",
              "    </tr>\n",
              "    <tr>\n",
              "      <th>2730</th>\n",
              "      <td>38285.0</td>\n",
              "      <td>GLASS HEART T-LIGHT HOLDER&amp;&amp;SMALL GLASS SUNDAE...</td>\n",
              "      <td>CAKE STAND VICTORIAN FILIGREE SMALL</td>\n",
              "    </tr>\n",
              "    <tr>\n",
              "      <th>2731</th>\n",
              "      <td>38287.0</td>\n",
              "      <td>S/4 PINK FLOWER CANDLES IN BOWL&amp;&amp;GARLAND, MAGI...</td>\n",
              "      <td>BASKET OF TOADSTOOLS</td>\n",
              "    </tr>\n",
              "  </tbody>\n",
              "</table>\n",
              "<p>2677 rows × 3 columns</p>\n",
              "</div>"
            ],
            "text/plain": [
              "      Customer  ...                                label\n",
              "0      32346.0  ...           RED SPOTTY CHILDS UMBRELLA\n",
              "1      32349.0  ...          SET/6 RED SPOTTY PAPER CUPS\n",
              "2      32355.0  ...                   KIDS RAIN MAC BLUE\n",
              "3      32358.0  ...       ASSORTED CHEESE FRIDGE MAGNETS\n",
              "4      32359.0  ...               LAUNDRY 15C METAL SIGN\n",
              "...        ...  ...                                  ...\n",
              "2727   38276.0  ...              LUNCH BAG  BLACK SKULL.\n",
              "2728   38281.0  ...               SPACEBOY BIRTHDAY CARD\n",
              "2729   38283.0  ...              RED SPOTTY CHILDS APRON\n",
              "2730   38285.0  ...  CAKE STAND VICTORIAN FILIGREE SMALL\n",
              "2731   38287.0  ...                 BASKET OF TOADSTOOLS\n",
              "\n",
              "[2677 rows x 3 columns]"
            ]
          },
          "metadata": {
            "tags": []
          },
          "execution_count": 85
        }
      ]
    },
    {
      "cell_type": "code",
      "metadata": {
        "id": "nYFapQ7HAxsZ"
      },
      "source": [
        "user2item = df.copy()"
      ],
      "execution_count": null,
      "outputs": []
    },
    {
      "cell_type": "code",
      "metadata": {
        "id": "6WW2TMwaE6Hn",
        "colab": {
          "base_uri": "https://localhost:8080/",
          "height": 419
        },
        "outputId": "753ad50e-ebde-4ea4-b131-8550dcc2d354"
      },
      "source": [
        "user2item.columns = ['유저 식별키', '유저 구매 상품 식별키 묶음', '라벨']\n",
        "user2item"
      ],
      "execution_count": null,
      "outputs": [
        {
          "output_type": "execute_result",
          "data": {
            "text/html": [
              "<div>\n",
              "<style scoped>\n",
              "    .dataframe tbody tr th:only-of-type {\n",
              "        vertical-align: middle;\n",
              "    }\n",
              "\n",
              "    .dataframe tbody tr th {\n",
              "        vertical-align: top;\n",
              "    }\n",
              "\n",
              "    .dataframe thead th {\n",
              "        text-align: right;\n",
              "    }\n",
              "</style>\n",
              "<table border=\"1\" class=\"dataframe\">\n",
              "  <thead>\n",
              "    <tr style=\"text-align: right;\">\n",
              "      <th></th>\n",
              "      <th>유저 식별키</th>\n",
              "      <th>유저 구매 상품 식별키 묶음</th>\n",
              "      <th>라벨</th>\n",
              "    </tr>\n",
              "  </thead>\n",
              "  <tbody>\n",
              "    <tr>\n",
              "      <th>0</th>\n",
              "      <td>32346.0</td>\n",
              "      <td>DOORMAT HOME SWEET HOME BLUE&amp;&amp;DOORMAT SPOTTY H...</td>\n",
              "      <td>RED SPOTTY CHILDS UMBRELLA</td>\n",
              "    </tr>\n",
              "    <tr>\n",
              "      <th>1</th>\n",
              "      <td>32349.0</td>\n",
              "      <td>RETRO SPOT LARGE MILK JUG&amp;&amp;POLKADOT CUTLERY 24...</td>\n",
              "      <td>SET/6 RED SPOTTY PAPER CUPS</td>\n",
              "    </tr>\n",
              "    <tr>\n",
              "      <th>2</th>\n",
              "      <td>32355.0</td>\n",
              "      <td>GOLD TEDDY BEAR&amp;&amp;OPULENT VELVET SET/3 CANDLES&amp;...</td>\n",
              "      <td>KIDS RAIN MAC BLUE</td>\n",
              "    </tr>\n",
              "    <tr>\n",
              "      <th>3</th>\n",
              "      <td>32358.0</td>\n",
              "      <td>JUMBO SHOPPER VINTAGE RED PAISLEY&amp;&amp;GARDEN PATH...</td>\n",
              "      <td>ASSORTED CHEESE FRIDGE MAGNETS</td>\n",
              "    </tr>\n",
              "    <tr>\n",
              "      <th>4</th>\n",
              "      <td>32359.0</td>\n",
              "      <td>SET OF 2 WOODEN MARKET CRATES&amp;&amp;OLD DOC RUSSEL ...</td>\n",
              "      <td>LAUNDRY 15C METAL SIGN</td>\n",
              "    </tr>\n",
              "    <tr>\n",
              "      <th>...</th>\n",
              "      <td>...</td>\n",
              "      <td>...</td>\n",
              "      <td>...</td>\n",
              "    </tr>\n",
              "    <tr>\n",
              "      <th>2727</th>\n",
              "      <td>38276.0</td>\n",
              "      <td>LUNCH BAG SPACEBOY DESIGN&amp;&amp;SET OF 72 SKULL PAP...</td>\n",
              "      <td>LUNCH BAG  BLACK SKULL.</td>\n",
              "    </tr>\n",
              "    <tr>\n",
              "      <th>2728</th>\n",
              "      <td>38281.0</td>\n",
              "      <td>TEA PARTY BIRTHDAY CARD&amp;&amp;LUNCH BAG PINK RETROS...</td>\n",
              "      <td>SPACEBOY BIRTHDAY CARD</td>\n",
              "    </tr>\n",
              "    <tr>\n",
              "      <th>2729</th>\n",
              "      <td>38283.0</td>\n",
              "      <td>SMALL POPCORN HOLDER&amp;&amp;ASSORTED ICE CREAM FRIDG...</td>\n",
              "      <td>RED SPOTTY CHILDS APRON</td>\n",
              "    </tr>\n",
              "    <tr>\n",
              "      <th>2730</th>\n",
              "      <td>38285.0</td>\n",
              "      <td>GLASS HEART T-LIGHT HOLDER&amp;&amp;SMALL GLASS SUNDAE...</td>\n",
              "      <td>CAKE STAND VICTORIAN FILIGREE SMALL</td>\n",
              "    </tr>\n",
              "    <tr>\n",
              "      <th>2731</th>\n",
              "      <td>38287.0</td>\n",
              "      <td>S/4 PINK FLOWER CANDLES IN BOWL&amp;&amp;GARLAND, MAGI...</td>\n",
              "      <td>BASKET OF TOADSTOOLS</td>\n",
              "    </tr>\n",
              "  </tbody>\n",
              "</table>\n",
              "<p>2677 rows × 3 columns</p>\n",
              "</div>"
            ],
            "text/plain": [
              "       유저 식별키  ...                                   라벨\n",
              "0     32346.0  ...           RED SPOTTY CHILDS UMBRELLA\n",
              "1     32349.0  ...          SET/6 RED SPOTTY PAPER CUPS\n",
              "2     32355.0  ...                   KIDS RAIN MAC BLUE\n",
              "3     32358.0  ...       ASSORTED CHEESE FRIDGE MAGNETS\n",
              "4     32359.0  ...               LAUNDRY 15C METAL SIGN\n",
              "...       ...  ...                                  ...\n",
              "2727  38276.0  ...              LUNCH BAG  BLACK SKULL.\n",
              "2728  38281.0  ...               SPACEBOY BIRTHDAY CARD\n",
              "2729  38283.0  ...              RED SPOTTY CHILDS APRON\n",
              "2730  38285.0  ...  CAKE STAND VICTORIAN FILIGREE SMALL\n",
              "2731  38287.0  ...                 BASKET OF TOADSTOOLS\n",
              "\n",
              "[2677 rows x 3 columns]"
            ]
          },
          "metadata": {
            "tags": []
          },
          "execution_count": 87
        }
      ]
    },
    {
      "cell_type": "markdown",
      "metadata": {
        "id": "ONTa8KzF7Tpd"
      },
      "source": [
        "# Product2Vector 생성"
      ]
    },
    {
      "cell_type": "markdown",
      "metadata": {
        "id": "tQ3s7oD7roAu"
      },
      "source": [
        "### Jaccard 유사도"
      ]
    },
    {
      "cell_type": "code",
      "metadata": {
        "id": "tnGznGc7tyiq",
        "colab": {
          "base_uri": "https://localhost:8080/"
        },
        "outputId": "a342948d-ef30-46bf-9f77-ed6a1303ec7e"
      },
      "source": [
        "detail = detail.tolist()\n",
        "len(detail)"
      ],
      "execution_count": null,
      "outputs": [
        {
          "output_type": "execute_result",
          "data": {
            "text/plain": [
              "3485"
            ]
          },
          "metadata": {
            "tags": []
          },
          "execution_count": 88
        }
      ]
    },
    {
      "cell_type": "code",
      "metadata": {
        "id": "-6NCE8Xsn_gE"
      },
      "source": [
        "def JaccardSimilarity(inp1, inp2):\n",
        "    list_inp1 = inp1.split()\n",
        "    list_inp2 = inp2.split()\n",
        "    mom = set(list_inp1).union(set(list_inp2))\n",
        "    son = set(list_inp1).intersection(set(list_inp2))\n",
        "    # print(mom)\n",
        "    # print(son)\n",
        "    return len(son)/len(mom)"
      ],
      "execution_count": null,
      "outputs": []
    },
    {
      "cell_type": "code",
      "metadata": {
        "id": "UN3GqMyz6iBW",
        "colab": {
          "base_uri": "https://localhost:8080/"
        },
        "outputId": "f578355b-8f15-43df-8e5b-3c52c54fd073"
      },
      "source": [
        "pd.Series([i in detail for i in pred]).value_counts()"
      ],
      "execution_count": null,
      "outputs": [
        {
          "output_type": "execute_result",
          "data": {
            "text/plain": [
              "True     14223\n",
              "False       18\n",
              "dtype: int64"
            ]
          },
          "metadata": {
            "tags": []
          },
          "execution_count": 90
        }
      ]
    },
    {
      "cell_type": "code",
      "metadata": {
        "id": "WEsJSuI5ruEV",
        "colab": {
          "base_uri": "https://localhost:8080/"
        },
        "outputId": "64a9ae04-4bd2-49c1-b147-dbf72cc93e9e"
      },
      "source": [
        "asdf = []\n",
        "\n",
        "for v in falses:\n",
        "    m = 0\n",
        "    for d in detail:\n",
        "        score = JaccardSimilarity(v, d)\n",
        "        if m < score:\n",
        "            m = score\n",
        "            temp = d\n",
        "    if m == 0: asdf.append(v)\n",
        "    id = pred[pred == v].index\n",
        "    for i in id:\n",
        "        pred[i] = temp\n",
        "\n",
        "len(asdf)"
      ],
      "execution_count": null,
      "outputs": [
        {
          "output_type": "execute_result",
          "data": {
            "text/plain": [
              "0"
            ]
          },
          "metadata": {
            "tags": []
          },
          "execution_count": 91
        }
      ]
    },
    {
      "cell_type": "code",
      "metadata": {
        "id": "tDALBoafz4DZ",
        "colab": {
          "base_uri": "https://localhost:8080/"
        },
        "outputId": "21550f4c-f604-4a1d-8dc6-087c94b9598b"
      },
      "source": [
        "pd.Series([i in detail for i in pred]).value_counts()"
      ],
      "execution_count": null,
      "outputs": [
        {
          "output_type": "execute_result",
          "data": {
            "text/plain": [
              "True    14241\n",
              "dtype: int64"
            ]
          },
          "metadata": {
            "tags": []
          },
          "execution_count": 92
        }
      ]
    },
    {
      "cell_type": "code",
      "metadata": {
        "id": "91kYkoci3HNN",
        "colab": {
          "base_uri": "https://localhost:8080/",
          "height": 1000
        },
        "outputId": "78c79bb3-92d5-4206-f80a-208208582485"
      },
      "source": [
        "changes = pd.DataFrame(columns=['Original', 'Changed'])\n",
        "changes['Original'] = falses\n",
        "changes['Changed'] = pred[filter].to_list()\n",
        "changes"
      ],
      "execution_count": null,
      "outputs": [
        {
          "output_type": "execute_result",
          "data": {
            "text/html": [
              "<div>\n",
              "<style scoped>\n",
              "    .dataframe tbody tr th:only-of-type {\n",
              "        vertical-align: middle;\n",
              "    }\n",
              "\n",
              "    .dataframe tbody tr th {\n",
              "        vertical-align: top;\n",
              "    }\n",
              "\n",
              "    .dataframe thead th {\n",
              "        text-align: right;\n",
              "    }\n",
              "</style>\n",
              "<table border=\"1\" class=\"dataframe\">\n",
              "  <thead>\n",
              "    <tr style=\"text-align: right;\">\n",
              "      <th></th>\n",
              "      <th>Original</th>\n",
              "      <th>Changed</th>\n",
              "    </tr>\n",
              "  </thead>\n",
              "  <tbody>\n",
              "    <tr>\n",
              "      <th>0</th>\n",
              "      <td>BOTANICAL LAVENDER GIFT WRAP</td>\n",
              "      <td>BOTANICAL LAVENDER GIFT WRAP</td>\n",
              "    </tr>\n",
              "    <tr>\n",
              "      <th>1</th>\n",
              "      <td>BOTANICAL LAVENDER GIFT WRAP</td>\n",
              "      <td>BOTANICAL LAVENDER GIFT WRAP</td>\n",
              "    </tr>\n",
              "    <tr>\n",
              "      <th>2</th>\n",
              "      <td>PINK PATCH PURSE PINK HEART</td>\n",
              "      <td>BLUE PATCH PURSE PINK HEART</td>\n",
              "    </tr>\n",
              "    <tr>\n",
              "      <th>3</th>\n",
              "      <td>BOTANICAL LAVENDER GIFT WRAP</td>\n",
              "      <td>BOTANICAL LAVENDER GIFT WRAP</td>\n",
              "    </tr>\n",
              "    <tr>\n",
              "      <th>4</th>\n",
              "      <td>BOTANICAL LAVENDER GIFT WRAP</td>\n",
              "      <td>BOTANICAL LAVENDER GIFT WRAP</td>\n",
              "    </tr>\n",
              "    <tr>\n",
              "      <th>5</th>\n",
              "      <td>PINK PATCH PURSE PINK HEART</td>\n",
              "      <td>BLUE PATCH PURSE PINK HEART</td>\n",
              "    </tr>\n",
              "    <tr>\n",
              "      <th>6</th>\n",
              "      <td>BOTANICAL LAVENDER GIFT WRAP</td>\n",
              "      <td>BOTANICAL LAVENDER GIFT WRAP</td>\n",
              "    </tr>\n",
              "    <tr>\n",
              "      <th>7</th>\n",
              "      <td>PINK PATCH PURSE PINK HEART</td>\n",
              "      <td>BLUE PATCH PURSE PINK HEART</td>\n",
              "    </tr>\n",
              "    <tr>\n",
              "      <th>8</th>\n",
              "      <td>PINK PATCH PURSE PINK HEART</td>\n",
              "      <td>BLUE PATCH PURSE PINK HEART</td>\n",
              "    </tr>\n",
              "    <tr>\n",
              "      <th>9</th>\n",
              "      <td>ANT COPPER PINK BOUDICCA BRACELET</td>\n",
              "      <td>ANT COPPER PINK BOUDICCA BRACELET</td>\n",
              "    </tr>\n",
              "    <tr>\n",
              "      <th>10</th>\n",
              "      <td>BOTANICAL LAVENDER GIFT WRAP</td>\n",
              "      <td>BOTANICAL LAVENDER GIFT WRAP</td>\n",
              "    </tr>\n",
              "    <tr>\n",
              "      <th>11</th>\n",
              "      <td>BOTANICAL LAVENDER GIFT WRAP</td>\n",
              "      <td>BOTANICAL LAVENDER GIFT WRAP</td>\n",
              "    </tr>\n",
              "    <tr>\n",
              "      <th>12</th>\n",
              "      <td>ANT COPPER PINK BOUDICCA BRACELET</td>\n",
              "      <td>ANT COPPER PINK BOUDICCA BRACELET</td>\n",
              "    </tr>\n",
              "    <tr>\n",
              "      <th>13</th>\n",
              "      <td>BOTANICAL LAVENDER GIFT WRAP</td>\n",
              "      <td>BOTANICAL LAVENDER GIFT WRAP</td>\n",
              "    </tr>\n",
              "    <tr>\n",
              "      <th>14</th>\n",
              "      <td>PURPLE CRYSTAL+GLASS BRACELET</td>\n",
              "      <td>TURQUOISE CRYSTAL+GLASS BRACELET</td>\n",
              "    </tr>\n",
              "    <tr>\n",
              "      <th>15</th>\n",
              "      <td>BOTANICAL LAVENDER GIFT WRAP</td>\n",
              "      <td>BOTANICAL LAVENDER GIFT WRAP</td>\n",
              "    </tr>\n",
              "    <tr>\n",
              "      <th>16</th>\n",
              "      <td>BOTANICAL LAVENDER GIFT WRAP</td>\n",
              "      <td>BOTANICAL LAVENDER GIFT WRAP</td>\n",
              "    </tr>\n",
              "    <tr>\n",
              "      <th>17</th>\n",
              "      <td>PINK PATCH PURSE PINK HEART</td>\n",
              "      <td>BLUE PATCH PURSE PINK HEART</td>\n",
              "    </tr>\n",
              "    <tr>\n",
              "      <th>18</th>\n",
              "      <td>PINK PATCH PURSE PINK HEART</td>\n",
              "      <td>BLUE PATCH PURSE PINK HEART</td>\n",
              "    </tr>\n",
              "    <tr>\n",
              "      <th>19</th>\n",
              "      <td>PINK PATCH PURSE PINK HEART</td>\n",
              "      <td>BLUE PATCH PURSE PINK HEART</td>\n",
              "    </tr>\n",
              "    <tr>\n",
              "      <th>20</th>\n",
              "      <td>PINK PATCH PURSE PINK HEART</td>\n",
              "      <td>BLUE PATCH PURSE PINK HEART</td>\n",
              "    </tr>\n",
              "    <tr>\n",
              "      <th>21</th>\n",
              "      <td>BLACK CHUNKY CHARM BRACELET</td>\n",
              "      <td>BLUE GLASS CHUNKY CHARM BRACELET</td>\n",
              "    </tr>\n",
              "    <tr>\n",
              "      <th>22</th>\n",
              "      <td>BOTANICAL LAVENDER GIFT WRAP</td>\n",
              "      <td>BOTANICAL LAVENDER GIFT WRAP</td>\n",
              "    </tr>\n",
              "    <tr>\n",
              "      <th>23</th>\n",
              "      <td>PINK PATCH PURSE PINK HEART</td>\n",
              "      <td>BLUE PATCH PURSE PINK HEART</td>\n",
              "    </tr>\n",
              "    <tr>\n",
              "      <th>24</th>\n",
              "      <td>BOTANICAL LAVENDER GIFT WRAP</td>\n",
              "      <td>BOTANICAL LAVENDER GIFT WRAP</td>\n",
              "    </tr>\n",
              "    <tr>\n",
              "      <th>25</th>\n",
              "      <td>PINK PATCH PURSE PINK HEART</td>\n",
              "      <td>BLUE PATCH PURSE PINK HEART</td>\n",
              "    </tr>\n",
              "    <tr>\n",
              "      <th>26</th>\n",
              "      <td>PINK PATCH PURSE PINK HEART</td>\n",
              "      <td>BLUE PATCH PURSE PINK HEART</td>\n",
              "    </tr>\n",
              "    <tr>\n",
              "      <th>27</th>\n",
              "      <td>PINK PATCH PURSE PINK HEART</td>\n",
              "      <td>BLUE PATCH PURSE PINK HEART</td>\n",
              "    </tr>\n",
              "    <tr>\n",
              "      <th>28</th>\n",
              "      <td>BOTANICAL LAVENDER GIFT WRAP</td>\n",
              "      <td>BOTANICAL LAVENDER GIFT WRAP</td>\n",
              "    </tr>\n",
              "    <tr>\n",
              "      <th>29</th>\n",
              "      <td>BOTANICAL LAVENDER GIFT WRAP</td>\n",
              "      <td>BOTANICAL LAVENDER GIFT WRAP</td>\n",
              "    </tr>\n",
              "    <tr>\n",
              "      <th>30</th>\n",
              "      <td>PINK PATCH PURSE PINK HEART</td>\n",
              "      <td>BLUE PATCH PURSE PINK HEART</td>\n",
              "    </tr>\n",
              "    <tr>\n",
              "      <th>31</th>\n",
              "      <td>BOTANICAL LAVENDER GIFT WRAP</td>\n",
              "      <td>BOTANICAL LAVENDER GIFT WRAP</td>\n",
              "    </tr>\n",
              "    <tr>\n",
              "      <th>32</th>\n",
              "      <td>PINK PATCH PURSE PINK HEART</td>\n",
              "      <td>BLUE PATCH PURSE PINK HEART</td>\n",
              "    </tr>\n",
              "    <tr>\n",
              "      <th>33</th>\n",
              "      <td>PINK MURANO TWIST BRACELET</td>\n",
              "      <td>PINK MURANO TWIST BRACELET</td>\n",
              "    </tr>\n",
              "    <tr>\n",
              "      <th>34</th>\n",
              "      <td>BOTANICAL LAVENDER GIFT WRAP</td>\n",
              "      <td>BOTANICAL LAVENDER GIFT WRAP</td>\n",
              "    </tr>\n",
              "    <tr>\n",
              "      <th>35</th>\n",
              "      <td>ANT COPPER BOUDICCA BRACELET</td>\n",
              "      <td>ANT COPPER TURQ BOUDICCA BRACELET</td>\n",
              "    </tr>\n",
              "    <tr>\n",
              "      <th>36</th>\n",
              "      <td>BEADED CRYSTAL HEART PINK LARGE</td>\n",
              "      <td>BEADED CRYSTAL HEART PINK LARGE</td>\n",
              "    </tr>\n",
              "    <tr>\n",
              "      <th>37</th>\n",
              "      <td>PINK PATCH PURSE PINK HEART</td>\n",
              "      <td>BLUE PATCH PURSE PINK HEART</td>\n",
              "    </tr>\n",
              "    <tr>\n",
              "      <th>38</th>\n",
              "      <td>ANT COPPER PINK BOUDICCA BRACELET</td>\n",
              "      <td>ANT COPPER PINK BOUDICCA BRACELET</td>\n",
              "    </tr>\n",
              "  </tbody>\n",
              "</table>\n",
              "</div>"
            ],
            "text/plain": [
              "                             Original                            Changed\n",
              "0        BOTANICAL LAVENDER GIFT WRAP       BOTANICAL LAVENDER GIFT WRAP\n",
              "1        BOTANICAL LAVENDER GIFT WRAP       BOTANICAL LAVENDER GIFT WRAP\n",
              "2         PINK PATCH PURSE PINK HEART        BLUE PATCH PURSE PINK HEART\n",
              "3        BOTANICAL LAVENDER GIFT WRAP       BOTANICAL LAVENDER GIFT WRAP\n",
              "4        BOTANICAL LAVENDER GIFT WRAP       BOTANICAL LAVENDER GIFT WRAP\n",
              "5         PINK PATCH PURSE PINK HEART        BLUE PATCH PURSE PINK HEART\n",
              "6        BOTANICAL LAVENDER GIFT WRAP       BOTANICAL LAVENDER GIFT WRAP\n",
              "7         PINK PATCH PURSE PINK HEART        BLUE PATCH PURSE PINK HEART\n",
              "8         PINK PATCH PURSE PINK HEART        BLUE PATCH PURSE PINK HEART\n",
              "9   ANT COPPER PINK BOUDICCA BRACELET  ANT COPPER PINK BOUDICCA BRACELET\n",
              "10       BOTANICAL LAVENDER GIFT WRAP       BOTANICAL LAVENDER GIFT WRAP\n",
              "11       BOTANICAL LAVENDER GIFT WRAP       BOTANICAL LAVENDER GIFT WRAP\n",
              "12  ANT COPPER PINK BOUDICCA BRACELET  ANT COPPER PINK BOUDICCA BRACELET\n",
              "13       BOTANICAL LAVENDER GIFT WRAP       BOTANICAL LAVENDER GIFT WRAP\n",
              "14      PURPLE CRYSTAL+GLASS BRACELET   TURQUOISE CRYSTAL+GLASS BRACELET\n",
              "15       BOTANICAL LAVENDER GIFT WRAP       BOTANICAL LAVENDER GIFT WRAP\n",
              "16       BOTANICAL LAVENDER GIFT WRAP       BOTANICAL LAVENDER GIFT WRAP\n",
              "17        PINK PATCH PURSE PINK HEART        BLUE PATCH PURSE PINK HEART\n",
              "18        PINK PATCH PURSE PINK HEART        BLUE PATCH PURSE PINK HEART\n",
              "19        PINK PATCH PURSE PINK HEART        BLUE PATCH PURSE PINK HEART\n",
              "20        PINK PATCH PURSE PINK HEART        BLUE PATCH PURSE PINK HEART\n",
              "21        BLACK CHUNKY CHARM BRACELET   BLUE GLASS CHUNKY CHARM BRACELET\n",
              "22       BOTANICAL LAVENDER GIFT WRAP       BOTANICAL LAVENDER GIFT WRAP\n",
              "23        PINK PATCH PURSE PINK HEART        BLUE PATCH PURSE PINK HEART\n",
              "24       BOTANICAL LAVENDER GIFT WRAP       BOTANICAL LAVENDER GIFT WRAP\n",
              "25        PINK PATCH PURSE PINK HEART        BLUE PATCH PURSE PINK HEART\n",
              "26        PINK PATCH PURSE PINK HEART        BLUE PATCH PURSE PINK HEART\n",
              "27        PINK PATCH PURSE PINK HEART        BLUE PATCH PURSE PINK HEART\n",
              "28       BOTANICAL LAVENDER GIFT WRAP       BOTANICAL LAVENDER GIFT WRAP\n",
              "29       BOTANICAL LAVENDER GIFT WRAP       BOTANICAL LAVENDER GIFT WRAP\n",
              "30        PINK PATCH PURSE PINK HEART        BLUE PATCH PURSE PINK HEART\n",
              "31       BOTANICAL LAVENDER GIFT WRAP       BOTANICAL LAVENDER GIFT WRAP\n",
              "32        PINK PATCH PURSE PINK HEART        BLUE PATCH PURSE PINK HEART\n",
              "33         PINK MURANO TWIST BRACELET         PINK MURANO TWIST BRACELET\n",
              "34       BOTANICAL LAVENDER GIFT WRAP       BOTANICAL LAVENDER GIFT WRAP\n",
              "35       ANT COPPER BOUDICCA BRACELET  ANT COPPER TURQ BOUDICCA BRACELET\n",
              "36    BEADED CRYSTAL HEART PINK LARGE    BEADED CRYSTAL HEART PINK LARGE\n",
              "37        PINK PATCH PURSE PINK HEART        BLUE PATCH PURSE PINK HEART\n",
              "38  ANT COPPER PINK BOUDICCA BRACELET  ANT COPPER PINK BOUDICCA BRACELET"
            ]
          },
          "metadata": {
            "tags": []
          },
          "execution_count": 93
        }
      ]
    },
    {
      "cell_type": "markdown",
      "metadata": {
        "id": "7ijtnPz57Tpd"
      },
      "source": [
        "### Word2vec Model 학습"
      ]
    },
    {
      "cell_type": "code",
      "metadata": {
        "id": "xV3a9xIwcCSi"
      },
      "source": [
        "model = Word2Vec([item_list.split('&&') for item_list in user2item['유저 구매 상품 식별키 묶음']], size=100, window=5, min_count=1, negative=15, iter=20, sample=0.00001, sg=1)"
      ],
      "execution_count": null,
      "outputs": []
    },
    {
      "cell_type": "code",
      "metadata": {
        "id": "L_HZvoHXcFYi",
        "scrolled": true,
        "colab": {
          "base_uri": "https://localhost:8080/",
          "height": 66,
          "referenced_widgets": [
            "fec02ec3620d4397bb29d6dbc5a0c6f7",
            "3837ddfc511341d5bee6993893990520",
            "e8226922d5af43f196774d4ff9e3cbc5",
            "fa211916be114efe9905dc8b7f569a5f",
            "cdc1b540f070466f91260b8aca0ee984",
            "4295ca2d04e34b16b8faed77b596b384",
            "967e55d1c6a346519826cc704e4cb13f",
            "30d66953c9804dadb574f5c3b956bd80"
          ]
        },
        "outputId": "df2c9807-1654-49b6-9706-bb7a35578ef2"
      },
      "source": [
        "# 유저 성향 벡터 구하기 \n",
        "user_propensity_vector = []\n",
        "for item_list in tqdm_notebook(user2item['유저 구매 상품 식별키 묶음']):\n",
        "    item_list = item_list.split('&&')\n",
        "    bbb = np.array(np.ones(100))\n",
        "    for aaa in item_list:\n",
        "        bbb *= model[aaa]\n",
        "        bbb = bbb/norm(bbb)\n",
        "    user_propensity_vector.append(bbb)"
      ],
      "execution_count": null,
      "outputs": [
        {
          "output_type": "display_data",
          "data": {
            "application/vnd.jupyter.widget-view+json": {
              "model_id": "fec02ec3620d4397bb29d6dbc5a0c6f7",
              "version_minor": 0,
              "version_major": 2
            },
            "text/plain": [
              "HBox(children=(FloatProgress(value=0.0, max=2677.0), HTML(value='')))"
            ]
          },
          "metadata": {
            "tags": []
          }
        },
        {
          "output_type": "stream",
          "text": [
            "\n"
          ],
          "name": "stdout"
        }
      ]
    },
    {
      "cell_type": "code",
      "metadata": {
        "id": "2vmgzv19cJIS"
      },
      "source": [
        "def find_item(item, n=10):\n",
        "    return list(dict(model.wv.most_similar(item, topn=n)))"
      ],
      "execution_count": null,
      "outputs": []
    },
    {
      "cell_type": "code",
      "metadata": {
        "id": "hicq1rkn7Tpe",
        "colab": {
          "base_uri": "https://localhost:8080/"
        },
        "outputId": "5b4eed75-3710-4d66-97a6-3dea25057338"
      },
      "source": [
        "find_item(pred[0])"
      ],
      "execution_count": null,
      "outputs": [
        {
          "output_type": "execute_result",
          "data": {
            "text/plain": [
              "['NO SINGING METAL SIGN',\n",
              " 'AREA PATROLLED METAL SIGN',\n",
              " 'HEART OF WICKER LARGE',\n",
              " 'BOMBS AWAY METAL SIGN',\n",
              " 'WASHROOM METAL SIGN',\n",
              " 'BATHROOM METAL SIGN',\n",
              " 'LADIES & GENTLEMEN METAL SIGN',\n",
              " \"YOU'RE CONFUSING ME METAL SIGN\",\n",
              " 'METAL SIGN EMPIRE TEA',\n",
              " 'PLEASE ONE PERSON  METAL SIGN']"
            ]
          },
          "metadata": {
            "tags": []
          },
          "execution_count": 97
        }
      ]
    },
    {
      "cell_type": "markdown",
      "metadata": {
        "id": "yhEuNMnT7Tpf"
      },
      "source": [
        "## 구매전 : Top-10 시나리오"
      ]
    },
    {
      "cell_type": "code",
      "metadata": {
        "id": "qnTLapiUS5Wq"
      },
      "source": [
        "def recommend(n=10, acc=False, pred=pred, TFoutputs=TFoutputs):\n",
        "    item_list = []\n",
        "    for v in tqdm_notebook(pred.to_list()):\n",
        "        if n > 1:\n",
        "            pp = find_item(v, n-1)\n",
        "            pp.insert(0, v)\n",
        "            item_list.append(pp)\n",
        "        else: item_list.append(v)\n",
        "    TFoutputs['추천 list'] = item_list\n",
        "    TFoutputs['정답 유무'] = [True if label in item else False for label, item in tqdm_notebook(zip(TFoutputs['label'], TFoutputs['추천 list']), total=(len(TFoutputs)))]\n",
        "    # 추천 알고리듬 구매전 Top-10 성능평가\n",
        "    \n",
        "    if acc:\n",
        "        return TFoutputs[TFoutputs['정답 유무']==True].shape[0]/(TFoutputs.shape[0])\n",
        "\n",
        "    return TFoutputs"
      ],
      "execution_count": null,
      "outputs": []
    },
    {
      "cell_type": "code",
      "metadata": {
        "id": "jyZiDRH6TvFu",
        "colab": {
          "base_uri": "https://localhost:8080/",
          "height": 132,
          "referenced_widgets": [
            "6060074d4b3c4765a7665530087f41e9",
            "04d52fdccc6e44ae94a1c61a37c47142",
            "6c5056de7c044545937edcafaf227c6f",
            "5c57faec71cc451d8cc08d3dc5036b18",
            "f38a9c6ed77242ab92e1cd5b425ad373",
            "da033dec03d04d9abab60e252f011591",
            "b4996cb092db498c9390370e9383c0bc",
            "4d30034efdea4feabf069ed606e01b22",
            "5885d7d9c0534ea8a69ab6ffb6e8e4ca",
            "cff0c8b7ac4f46de97b2d0df06954e4f",
            "aa8f6ac0bf114cf798551a87eb6536d8",
            "fb860905d173410cbfb8cf90a4c4a3e9",
            "f19dc348ac1546e48be76c894e984767",
            "3e44911f8e4440c78f607e98983163fb",
            "b70b461382584acaaafe30d1b57b00ba",
            "18f3d8680a8c4b40a06602ba08dfb7bf"
          ]
        },
        "outputId": "148bef6a-8233-4058-8d85-621d3cfb84bf"
      },
      "source": [
        "recommend(n=5, acc=True)"
      ],
      "execution_count": null,
      "outputs": [
        {
          "output_type": "display_data",
          "data": {
            "application/vnd.jupyter.widget-view+json": {
              "model_id": "6060074d4b3c4765a7665530087f41e9",
              "version_minor": 0,
              "version_major": 2
            },
            "text/plain": [
              "HBox(children=(FloatProgress(value=0.0, max=14241.0), HTML(value='')))"
            ]
          },
          "metadata": {
            "tags": []
          }
        },
        {
          "output_type": "stream",
          "text": [
            "\n"
          ],
          "name": "stdout"
        },
        {
          "output_type": "display_data",
          "data": {
            "application/vnd.jupyter.widget-view+json": {
              "model_id": "5885d7d9c0534ea8a69ab6ffb6e8e4ca",
              "version_minor": 0,
              "version_major": 2
            },
            "text/plain": [
              "HBox(children=(FloatProgress(value=0.0, max=14241.0), HTML(value='')))"
            ]
          },
          "metadata": {
            "tags": []
          }
        },
        {
          "output_type": "stream",
          "text": [
            "\n"
          ],
          "name": "stdout"
        },
        {
          "output_type": "execute_result",
          "data": {
            "text/plain": [
              "0.05013692858647567"
            ]
          },
          "metadata": {
            "tags": []
          },
          "execution_count": 99
        }
      ]
    },
    {
      "cell_type": "code",
      "metadata": {
        "id": "8w2fjzSUp5nH",
        "colab": {
          "base_uri": "https://localhost:8080/",
          "height": 132,
          "referenced_widgets": [
            "a4d35d69e4654624affc004af345a9f8",
            "9530dee61917437dae87ea9aa89b3be0",
            "885f0b3713e7477b950f4cf967b55eeb",
            "21f71781c9184e6c9eb3ae11f50831d7",
            "d85287ffbf1d401ea01734b54a03ad0e",
            "ff7df8559bb344cebabd572a23086efc",
            "b5bd74f38b86494eb84ecdf8a2680cf8",
            "c2bc3f2e8ab64615bbeb1815a2e923eb",
            "dd2e0b855273485783b4be46ada2751d",
            "c8d58f7b712f42f49e663834540cc49a",
            "abc0b9b0c4f940fcbced26911a79c03c",
            "9341c787d12d430da14b87b3313818b1",
            "b6f14c52636b455886b8cf4e75d3efd3",
            "5cf198449d0b45669ff7522080690848",
            "b3fe96fb7bdb4c6d9862f42308fb42fa",
            "14feadd94cf6449483a22c7073722aa4"
          ]
        },
        "outputId": "d305af20-3049-440b-eb7a-40fa6fecb0de"
      },
      "source": [
        "recommend(n=10, acc=True)"
      ],
      "execution_count": null,
      "outputs": [
        {
          "output_type": "display_data",
          "data": {
            "application/vnd.jupyter.widget-view+json": {
              "model_id": "a4d35d69e4654624affc004af345a9f8",
              "version_minor": 0,
              "version_major": 2
            },
            "text/plain": [
              "HBox(children=(FloatProgress(value=0.0, max=14241.0), HTML(value='')))"
            ]
          },
          "metadata": {
            "tags": []
          }
        },
        {
          "output_type": "stream",
          "text": [
            "\n"
          ],
          "name": "stdout"
        },
        {
          "output_type": "display_data",
          "data": {
            "application/vnd.jupyter.widget-view+json": {
              "model_id": "dd2e0b855273485783b4be46ada2751d",
              "version_minor": 0,
              "version_major": 2
            },
            "text/plain": [
              "HBox(children=(FloatProgress(value=0.0, max=14241.0), HTML(value='')))"
            ]
          },
          "metadata": {
            "tags": []
          }
        },
        {
          "output_type": "stream",
          "text": [
            "\n"
          ],
          "name": "stdout"
        },
        {
          "output_type": "execute_result",
          "data": {
            "text/plain": [
              "0.07401165648479742"
            ]
          },
          "metadata": {
            "tags": []
          },
          "execution_count": 100
        }
      ]
    },
    {
      "cell_type": "code",
      "metadata": {
        "id": "e-iKPO41T57o",
        "colab": {
          "base_uri": "https://localhost:8080/",
          "height": 132,
          "referenced_widgets": [
            "44918d9c4a814e67abf8c68cb0e378ff",
            "9c423f8ff81146b2bc093213e0c3187d",
            "37c5061c524f42e59291b68f97f30a5b",
            "abda2b3f10454e0d84683b249ef9afcb",
            "14856d524985471e815e77d06313e13e",
            "d5a31d8699174059a5c5b31e55f74c90",
            "76cd6400b13a42a0a9f5a3ced3febd76",
            "75143e2503ba4473a22263658331b582",
            "6474f5e7c5a4423e80dcad42384e833e",
            "f4092596fa494ee38403d40647734c94",
            "9b8071cc23a841038091b8894906be4a",
            "58c02b27f6d94512997956c81b709b1b",
            "f686c79efeba4f7892b3a03025d24d7c",
            "a373f740f4604ade9f4e026fe8aecb94",
            "d920d7f65d5a48218aa9b2b2bce8bef1",
            "e66e0e7a9ae34699a953b44fe5281155"
          ]
        },
        "outputId": "64f25ea0-93b8-4d36-9d2d-d3f111bcb614"
      },
      "source": [
        "recommend(n=20, acc=True)"
      ],
      "execution_count": null,
      "outputs": [
        {
          "output_type": "display_data",
          "data": {
            "application/vnd.jupyter.widget-view+json": {
              "model_id": "44918d9c4a814e67abf8c68cb0e378ff",
              "version_minor": 0,
              "version_major": 2
            },
            "text/plain": [
              "HBox(children=(FloatProgress(value=0.0, max=14241.0), HTML(value='')))"
            ]
          },
          "metadata": {
            "tags": []
          }
        },
        {
          "output_type": "stream",
          "text": [
            "\n"
          ],
          "name": "stdout"
        },
        {
          "output_type": "display_data",
          "data": {
            "application/vnd.jupyter.widget-view+json": {
              "model_id": "6474f5e7c5a4423e80dcad42384e833e",
              "version_minor": 0,
              "version_major": 2
            },
            "text/plain": [
              "HBox(children=(FloatProgress(value=0.0, max=14241.0), HTML(value='')))"
            ]
          },
          "metadata": {
            "tags": []
          }
        },
        {
          "output_type": "stream",
          "text": [
            "\n"
          ],
          "name": "stdout"
        },
        {
          "output_type": "execute_result",
          "data": {
            "text/plain": [
              "0.1042061652973808"
            ]
          },
          "metadata": {
            "tags": []
          },
          "execution_count": 101
        }
      ]
    },
    {
      "cell_type": "code",
      "metadata": {
        "id": "MoKad0ot4BfT",
        "colab": {
          "base_uri": "https://localhost:8080/",
          "height": 704,
          "referenced_widgets": [
            "b9421611bf1f49528d9b821d0632a62e",
            "b17210ed18cd4d06ad861486ca526a6a",
            "2ccefd2ba34848b8abee84ff80bc29f1",
            "afcc745249ff416fbc979f4ce7868d9e",
            "142db8b8afec46bf8b3c6c2469c61215",
            "dfdbdada5491433fbda8363617826c42",
            "827a13739bb64408a62a289eac724f3e",
            "aa951188f6d4442e8e0705d64084603a",
            "72396caa1c56454d9216e42d5b37be6b",
            "2a05033c26834507b037232f505f5bdf",
            "e72f61a260ea4d12956fc090e29150a0",
            "144e182284f2468496b7d97369fea1d7",
            "745f17403d0545259a6d19c20c4e00d3",
            "d42f618f02ab4bf8bbbfb4ad607234ee",
            "459701be634b4522a50be3504d0e06d9",
            "eb8ea2f163cb4023b9eeaeffdacfb1ba"
          ]
        },
        "outputId": "899f8edf-e92f-4d74-d6dc-74b02b30c07d"
      },
      "source": [
        "recommend()"
      ],
      "execution_count": null,
      "outputs": [
        {
          "output_type": "display_data",
          "data": {
            "application/vnd.jupyter.widget-view+json": {
              "model_id": "b9421611bf1f49528d9b821d0632a62e",
              "version_minor": 0,
              "version_major": 2
            },
            "text/plain": [
              "HBox(children=(FloatProgress(value=0.0, max=14241.0), HTML(value='')))"
            ]
          },
          "metadata": {
            "tags": []
          }
        },
        {
          "output_type": "stream",
          "text": [
            "\n"
          ],
          "name": "stdout"
        },
        {
          "output_type": "display_data",
          "data": {
            "application/vnd.jupyter.widget-view+json": {
              "model_id": "72396caa1c56454d9216e42d5b37be6b",
              "version_minor": 0,
              "version_major": 2
            },
            "text/plain": [
              "HBox(children=(FloatProgress(value=0.0, max=14241.0), HTML(value='')))"
            ]
          },
          "metadata": {
            "tags": []
          }
        },
        {
          "output_type": "stream",
          "text": [
            "\n"
          ],
          "name": "stdout"
        },
        {
          "output_type": "execute_result",
          "data": {
            "text/html": [
              "<div>\n",
              "<style scoped>\n",
              "    .dataframe tbody tr th:only-of-type {\n",
              "        vertical-align: middle;\n",
              "    }\n",
              "\n",
              "    .dataframe tbody tr th {\n",
              "        vertical-align: top;\n",
              "    }\n",
              "\n",
              "    .dataframe thead th {\n",
              "        text-align: right;\n",
              "    }\n",
              "</style>\n",
              "<table border=\"1\" class=\"dataframe\">\n",
              "  <thead>\n",
              "    <tr style=\"text-align: right;\">\n",
              "      <th></th>\n",
              "      <th>train</th>\n",
              "      <th>label</th>\n",
              "      <th>split_train_token</th>\n",
              "      <th>split_label_token</th>\n",
              "      <th>predict_item</th>\n",
              "      <th>filter</th>\n",
              "      <th>추천 list</th>\n",
              "      <th>정답 유무</th>\n",
              "    </tr>\n",
              "  </thead>\n",
              "  <tbody>\n",
              "    <tr>\n",
              "      <th>0</th>\n",
              "      <td>DANISH ROSE PHOTO FRAME&amp;&amp;RETRO BLUE SPOTTY WAS...</td>\n",
              "      <td>WOODEN UNION JACK BUNTING</td>\n",
              "      <td>&lt;esp&gt; DANISH ROSE PHOTO FRAME &lt;esp&gt; RETRO BLUE...</td>\n",
              "      <td>&lt;esp&gt; WOODEN UNION JACK BUNTING &lt;esp&gt;</td>\n",
              "      <td>&lt;esp&gt; HOT BATHS METAL SIGN &lt;esp&gt;</td>\n",
              "      <td>True</td>\n",
              "      <td>[HOT BATHS METAL SIGN, NO SINGING METAL SIGN, ...</td>\n",
              "      <td>False</td>\n",
              "    </tr>\n",
              "    <tr>\n",
              "      <th>1</th>\n",
              "      <td>SET OF 2 ROUND TINS DUTCH CHEESE&amp;&amp;LARGE MEDINA...</td>\n",
              "      <td>LOVE BUILDING BLOCK WORD</td>\n",
              "      <td>&lt;esp&gt; SET OF 2 ROUND TINS DUTCH CHEESE &lt;esp&gt; L...</td>\n",
              "      <td>&lt;esp&gt; LOVE BUILDING BLOCK WORD &lt;esp&gt;</td>\n",
              "      <td>&lt;esp&gt; RED SPOTTY APRON &lt;esp&gt;</td>\n",
              "      <td>True</td>\n",
              "      <td>[RED SPOTTY APRON, RETRO SPOT MUG, RETRO SPOT ...</td>\n",
              "      <td>False</td>\n",
              "    </tr>\n",
              "    <tr>\n",
              "      <th>2</th>\n",
              "      <td>PINK 3 PIECE MINI DOTS CUTLERY SET&amp;&amp;CHILDS APR...</td>\n",
              "      <td>MINI JIGSAW SPACEBOY</td>\n",
              "      <td>&lt;esp&gt; PINK 3 PIECE MINI DOTS CUTLERY SET &lt;esp&gt;...</td>\n",
              "      <td>&lt;esp&gt; MINI JIGSAW SPACEBOY &lt;esp&gt;</td>\n",
              "      <td>&lt;esp&gt; RED 3 PIECE MINI DOTS CUTLERY SET &lt;esp&gt;</td>\n",
              "      <td>True</td>\n",
              "      <td>[RED 3 PIECE MINI DOTS CUTLERY SET, PINK 3 PIE...</td>\n",
              "      <td>False</td>\n",
              "    </tr>\n",
              "    <tr>\n",
              "      <th>3</th>\n",
              "      <td>WOODEN BOX OF DOMINOES&amp;&amp;TEA TIME DES TEA COSY&amp;...</td>\n",
              "      <td>GREEN GINGHAM FLOWER JEWELLERY BOX</td>\n",
              "      <td>&lt;esp&gt; WOODEN BOX OF DOMINOES &lt;esp&gt; TEA TIME DE...</td>\n",
              "      <td>&lt;esp&gt; GREEN GINGHAM FLOWER JEWELLERY BOX &lt;esp&gt;</td>\n",
              "      <td>&lt;esp&gt; RED SPOTTY BISCUIT TIN &lt;esp&gt;</td>\n",
              "      <td>True</td>\n",
              "      <td>[RED SPOTTY BISCUIT TIN, RED SPOTTY OVEN GLOVE...</td>\n",
              "      <td>False</td>\n",
              "    </tr>\n",
              "    <tr>\n",
              "      <th>4</th>\n",
              "      <td>ASSORTED COLOURS SILK FAN&amp;&amp;PACK OF 72 SKULL CA...</td>\n",
              "      <td>WORLD WAR 2 GLIDERS ASSTD DESIGNS</td>\n",
              "      <td>&lt;esp&gt; ASSORTED COLOURS SILK FAN &lt;esp&gt; PACK OF ...</td>\n",
              "      <td>&lt;esp&gt; WORLD WAR 2 GLIDERS ASSTD DESIGNS &lt;esp&gt;</td>\n",
              "      <td>&lt;esp&gt; SET OF 72 RETRO SPOT PAPER  DOILIES &lt;esp&gt;</td>\n",
              "      <td>True</td>\n",
              "      <td>[SET OF 72 RETRO SPOT PAPER  DOILIES, SET/20 R...</td>\n",
              "      <td>False</td>\n",
              "    </tr>\n",
              "    <tr>\n",
              "      <th>...</th>\n",
              "      <td>...</td>\n",
              "      <td>...</td>\n",
              "      <td>...</td>\n",
              "      <td>...</td>\n",
              "      <td>...</td>\n",
              "      <td>...</td>\n",
              "      <td>...</td>\n",
              "      <td>...</td>\n",
              "    </tr>\n",
              "    <tr>\n",
              "      <th>14236</th>\n",
              "      <td>ASSORTED COLOUR BIRD ORNAMENT&amp;&amp;FILIGRIS HEART ...</td>\n",
              "      <td>HANGING WOOD AND FELT HEART</td>\n",
              "      <td>&lt;esp&gt; ASSORTED COLOUR BIRD ORNAMENT &lt;esp&gt; FILI...</td>\n",
              "      <td>&lt;esp&gt; HANGING WOOD AND FELT HEART &lt;esp&gt;</td>\n",
              "      <td>&lt;esp&gt; HANGING HEART ZINC T-LIGHT HOLDER &lt;esp&gt;</td>\n",
              "      <td>True</td>\n",
              "      <td>[HANGING HEART ZINC T-LIGHT HOLDER, SINGLE HEA...</td>\n",
              "      <td>False</td>\n",
              "    </tr>\n",
              "    <tr>\n",
              "      <th>14237</th>\n",
              "      <td>LADLE LOVE HEART RED&amp;&amp;FAWN AND MUSHROOM GREETI...</td>\n",
              "      <td>SET/6 RED SPOTTY PAPER PLATES</td>\n",
              "      <td>&lt;esp&gt; LADLE LOVE HEART RED &lt;esp&gt; FAWN AND MUSH...</td>\n",
              "      <td>&lt;esp&gt; SET/6 RED SPOTTY PAPER PLATES &lt;esp&gt;</td>\n",
              "      <td>&lt;esp&gt; PACK OF 72 RETRO SPOT CAKE CASES &lt;esp&gt;</td>\n",
              "      <td>True</td>\n",
              "      <td>[PACK OF 72 RETRO SPOT CAKE CASES, SET/20 RED ...</td>\n",
              "      <td>False</td>\n",
              "    </tr>\n",
              "    <tr>\n",
              "      <th>14238</th>\n",
              "      <td>GOLD  CHERRY LIGHTS&amp;&amp;URBAN CHIC CHOPSTICKS SET...</td>\n",
              "      <td>WOBBLING METAL CHICKEN EASTER</td>\n",
              "      <td>&lt;esp&gt; GOLD  CHERRY LIGHTS &lt;esp&gt; URBAN CHIC CHO...</td>\n",
              "      <td>&lt;esp&gt; WOBBLING METAL CHICKEN EASTER &lt;esp&gt;</td>\n",
              "      <td>&lt;esp&gt; PINK FAIRY CAKE CHILD'S APRON &lt;esp&gt;</td>\n",
              "      <td>True</td>\n",
              "      <td>[PINK FAIRY CAKE CHILD'S APRON, CHILDS APRON S...</td>\n",
              "      <td>False</td>\n",
              "    </tr>\n",
              "    <tr>\n",
              "      <th>14239</th>\n",
              "      <td>SET/2 RED SPOTTY TEA TOWELS&amp;&amp;ABSTRACT CIRCLES ...</td>\n",
              "      <td>HOME SWEET HOME  BLACKBOARD</td>\n",
              "      <td>&lt;esp&gt; SET/2 RED SPOTTY TEA TOWELS &lt;esp&gt; ABSTRA...</td>\n",
              "      <td>&lt;esp&gt; HOME SWEET HOME  BLACKBOARD &lt;esp&gt;</td>\n",
              "      <td>&lt;esp&gt; DOOR MAT UNION FLAG &lt;esp&gt;</td>\n",
              "      <td>True</td>\n",
              "      <td>[DOOR MAT UNION FLAG, DOOR MAT FAIRY CAKE, DOO...</td>\n",
              "      <td>False</td>\n",
              "    </tr>\n",
              "    <tr>\n",
              "      <th>14240</th>\n",
              "      <td>ASSORTED COLOUR SILK COIN PURSE&amp;&amp;BEACH HUT MIR...</td>\n",
              "      <td>DOORMAT UNION JACK GUNS AND ROSES</td>\n",
              "      <td>&lt;esp&gt; ASSORTED COLOUR SILK COIN PURSE &lt;esp&gt; BE...</td>\n",
              "      <td>&lt;esp&gt; DOORMAT UNION JACK GUNS AND ROSES &lt;esp&gt;</td>\n",
              "      <td>&lt;esp&gt; RED SPOTTY BISCUIT TIN &lt;esp&gt;</td>\n",
              "      <td>True</td>\n",
              "      <td>[RED SPOTTY BISCUIT TIN, RED SPOTTY OVEN GLOVE...</td>\n",
              "      <td>False</td>\n",
              "    </tr>\n",
              "  </tbody>\n",
              "</table>\n",
              "<p>14241 rows × 8 columns</p>\n",
              "</div>"
            ],
            "text/plain": [
              "                                                   train  ...  정답 유무\n",
              "0      DANISH ROSE PHOTO FRAME&&RETRO BLUE SPOTTY WAS...  ...  False\n",
              "1      SET OF 2 ROUND TINS DUTCH CHEESE&&LARGE MEDINA...  ...  False\n",
              "2      PINK 3 PIECE MINI DOTS CUTLERY SET&&CHILDS APR...  ...  False\n",
              "3      WOODEN BOX OF DOMINOES&&TEA TIME DES TEA COSY&...  ...  False\n",
              "4      ASSORTED COLOURS SILK FAN&&PACK OF 72 SKULL CA...  ...  False\n",
              "...                                                  ...  ...    ...\n",
              "14236  ASSORTED COLOUR BIRD ORNAMENT&&FILIGRIS HEART ...  ...  False\n",
              "14237  LADLE LOVE HEART RED&&FAWN AND MUSHROOM GREETI...  ...  False\n",
              "14238  GOLD  CHERRY LIGHTS&&URBAN CHIC CHOPSTICKS SET...  ...  False\n",
              "14239  SET/2 RED SPOTTY TEA TOWELS&&ABSTRACT CIRCLES ...  ...  False\n",
              "14240  ASSORTED COLOUR SILK COIN PURSE&&BEACH HUT MIR...  ...  False\n",
              "\n",
              "[14241 rows x 8 columns]"
            ]
          },
          "metadata": {
            "tags": []
          },
          "execution_count": 102
        }
      ]
    }
  ]
}