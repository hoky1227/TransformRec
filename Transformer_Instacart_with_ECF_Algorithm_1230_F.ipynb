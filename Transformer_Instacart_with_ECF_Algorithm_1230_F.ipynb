{
  "nbformat": 4,
  "nbformat_minor": 0,
  "metadata": {
    "colab": {
      "name": "Transformer Instacart with ECF Algorithm_1230_F.ipynb",
      "provenance": [],
      "collapsed_sections": [],
      "include_colab_link": true
    },
    "kernelspec": {
      "display_name": "Python 3",
      "language": "python",
      "name": "python3"
    },
    "language_info": {
      "codemirror_mode": {
        "name": "ipython",
        "version": 3
      },
      "file_extension": ".py",
      "mimetype": "text/x-python",
      "name": "python",
      "nbconvert_exporter": "python",
      "pygments_lexer": "ipython3",
      "version": "3.8.5"
    },
    "widgets": {
      "application/vnd.jupyter.widget-state+json": {
        "29a1852dfefe43eea307bd00aab4c78c": {
          "model_module": "@jupyter-widgets/controls",
          "model_name": "HBoxModel",
          "state": {
            "_view_name": "HBoxView",
            "_dom_classes": [],
            "_model_name": "HBoxModel",
            "_view_module": "@jupyter-widgets/controls",
            "_model_module_version": "1.5.0",
            "_view_count": null,
            "_view_module_version": "1.5.0",
            "box_style": "",
            "layout": "IPY_MODEL_c07ea895874d457c870def755b69b996",
            "_model_module": "@jupyter-widgets/controls",
            "children": [
              "IPY_MODEL_4ea0924a7e0144c0b2ce0d3bb62c5510",
              "IPY_MODEL_e6bef11db99d45f7b0a73399d6d0d103"
            ]
          }
        },
        "c07ea895874d457c870def755b69b996": {
          "model_module": "@jupyter-widgets/base",
          "model_name": "LayoutModel",
          "state": {
            "_view_name": "LayoutView",
            "grid_template_rows": null,
            "right": null,
            "justify_content": null,
            "_view_module": "@jupyter-widgets/base",
            "overflow": null,
            "_model_module_version": "1.2.0",
            "_view_count": null,
            "flex_flow": null,
            "width": null,
            "min_width": null,
            "border": null,
            "align_items": null,
            "bottom": null,
            "_model_module": "@jupyter-widgets/base",
            "top": null,
            "grid_column": null,
            "overflow_y": null,
            "overflow_x": null,
            "grid_auto_flow": null,
            "grid_area": null,
            "grid_template_columns": null,
            "flex": null,
            "_model_name": "LayoutModel",
            "justify_items": null,
            "grid_row": null,
            "max_height": null,
            "align_content": null,
            "visibility": null,
            "align_self": null,
            "height": null,
            "min_height": null,
            "padding": null,
            "grid_auto_rows": null,
            "grid_gap": null,
            "max_width": null,
            "order": null,
            "_view_module_version": "1.2.0",
            "grid_template_areas": null,
            "object_position": null,
            "object_fit": null,
            "grid_auto_columns": null,
            "margin": null,
            "display": null,
            "left": null
          }
        },
        "4ea0924a7e0144c0b2ce0d3bb62c5510": {
          "model_module": "@jupyter-widgets/controls",
          "model_name": "FloatProgressModel",
          "state": {
            "_view_name": "ProgressView",
            "style": "IPY_MODEL_61f2d34901ac4c188592476d9affb38c",
            "_dom_classes": [],
            "description": "100%",
            "_model_name": "FloatProgressModel",
            "bar_style": "success",
            "max": 27435,
            "_view_module": "@jupyter-widgets/controls",
            "_model_module_version": "1.5.0",
            "value": 27435,
            "_view_count": null,
            "_view_module_version": "1.5.0",
            "orientation": "horizontal",
            "min": 0,
            "description_tooltip": null,
            "_model_module": "@jupyter-widgets/controls",
            "layout": "IPY_MODEL_5b97b5ebf6944e42ac5caead4d3b0b5f"
          }
        },
        "e6bef11db99d45f7b0a73399d6d0d103": {
          "model_module": "@jupyter-widgets/controls",
          "model_name": "HTMLModel",
          "state": {
            "_view_name": "HTMLView",
            "style": "IPY_MODEL_ea1b4927b0064944b6c1353edbcbb75e",
            "_dom_classes": [],
            "description": "",
            "_model_name": "HTMLModel",
            "placeholder": "​",
            "_view_module": "@jupyter-widgets/controls",
            "_model_module_version": "1.5.0",
            "value": " 27435/27435 [00:00&lt;00:00, 44089.87it/s]",
            "_view_count": null,
            "_view_module_version": "1.5.0",
            "description_tooltip": null,
            "_model_module": "@jupyter-widgets/controls",
            "layout": "IPY_MODEL_2fc793c0392f4aa59c03265387359c79"
          }
        },
        "61f2d34901ac4c188592476d9affb38c": {
          "model_module": "@jupyter-widgets/controls",
          "model_name": "ProgressStyleModel",
          "state": {
            "_view_name": "StyleView",
            "_model_name": "ProgressStyleModel",
            "description_width": "initial",
            "_view_module": "@jupyter-widgets/base",
            "_model_module_version": "1.5.0",
            "_view_count": null,
            "_view_module_version": "1.2.0",
            "bar_color": null,
            "_model_module": "@jupyter-widgets/controls"
          }
        },
        "5b97b5ebf6944e42ac5caead4d3b0b5f": {
          "model_module": "@jupyter-widgets/base",
          "model_name": "LayoutModel",
          "state": {
            "_view_name": "LayoutView",
            "grid_template_rows": null,
            "right": null,
            "justify_content": null,
            "_view_module": "@jupyter-widgets/base",
            "overflow": null,
            "_model_module_version": "1.2.0",
            "_view_count": null,
            "flex_flow": null,
            "width": null,
            "min_width": null,
            "border": null,
            "align_items": null,
            "bottom": null,
            "_model_module": "@jupyter-widgets/base",
            "top": null,
            "grid_column": null,
            "overflow_y": null,
            "overflow_x": null,
            "grid_auto_flow": null,
            "grid_area": null,
            "grid_template_columns": null,
            "flex": null,
            "_model_name": "LayoutModel",
            "justify_items": null,
            "grid_row": null,
            "max_height": null,
            "align_content": null,
            "visibility": null,
            "align_self": null,
            "height": null,
            "min_height": null,
            "padding": null,
            "grid_auto_rows": null,
            "grid_gap": null,
            "max_width": null,
            "order": null,
            "_view_module_version": "1.2.0",
            "grid_template_areas": null,
            "object_position": null,
            "object_fit": null,
            "grid_auto_columns": null,
            "margin": null,
            "display": null,
            "left": null
          }
        },
        "ea1b4927b0064944b6c1353edbcbb75e": {
          "model_module": "@jupyter-widgets/controls",
          "model_name": "DescriptionStyleModel",
          "state": {
            "_view_name": "StyleView",
            "_model_name": "DescriptionStyleModel",
            "description_width": "",
            "_view_module": "@jupyter-widgets/base",
            "_model_module_version": "1.5.0",
            "_view_count": null,
            "_view_module_version": "1.2.0",
            "_model_module": "@jupyter-widgets/controls"
          }
        },
        "2fc793c0392f4aa59c03265387359c79": {
          "model_module": "@jupyter-widgets/base",
          "model_name": "LayoutModel",
          "state": {
            "_view_name": "LayoutView",
            "grid_template_rows": null,
            "right": null,
            "justify_content": null,
            "_view_module": "@jupyter-widgets/base",
            "overflow": null,
            "_model_module_version": "1.2.0",
            "_view_count": null,
            "flex_flow": null,
            "width": null,
            "min_width": null,
            "border": null,
            "align_items": null,
            "bottom": null,
            "_model_module": "@jupyter-widgets/base",
            "top": null,
            "grid_column": null,
            "overflow_y": null,
            "overflow_x": null,
            "grid_auto_flow": null,
            "grid_area": null,
            "grid_template_columns": null,
            "flex": null,
            "_model_name": "LayoutModel",
            "justify_items": null,
            "grid_row": null,
            "max_height": null,
            "align_content": null,
            "visibility": null,
            "align_self": null,
            "height": null,
            "min_height": null,
            "padding": null,
            "grid_auto_rows": null,
            "grid_gap": null,
            "max_width": null,
            "order": null,
            "_view_module_version": "1.2.0",
            "grid_template_areas": null,
            "object_position": null,
            "object_fit": null,
            "grid_auto_columns": null,
            "margin": null,
            "display": null,
            "left": null
          }
        },
        "fd5ed6879fdc43198f11e24b5a91d815": {
          "model_module": "@jupyter-widgets/controls",
          "model_name": "HBoxModel",
          "state": {
            "_view_name": "HBoxView",
            "_dom_classes": [],
            "_model_name": "HBoxModel",
            "_view_module": "@jupyter-widgets/controls",
            "_model_module_version": "1.5.0",
            "_view_count": null,
            "_view_module_version": "1.5.0",
            "box_style": "",
            "layout": "IPY_MODEL_dff0c0e39d394b5e90eb31975136cd92",
            "_model_module": "@jupyter-widgets/controls",
            "children": [
              "IPY_MODEL_7c44e9fe6eee497888c0c433df120b07",
              "IPY_MODEL_57be0bb1115a4b378cd57820c80529fa"
            ]
          }
        },
        "dff0c0e39d394b5e90eb31975136cd92": {
          "model_module": "@jupyter-widgets/base",
          "model_name": "LayoutModel",
          "state": {
            "_view_name": "LayoutView",
            "grid_template_rows": null,
            "right": null,
            "justify_content": null,
            "_view_module": "@jupyter-widgets/base",
            "overflow": null,
            "_model_module_version": "1.2.0",
            "_view_count": null,
            "flex_flow": null,
            "width": null,
            "min_width": null,
            "border": null,
            "align_items": null,
            "bottom": null,
            "_model_module": "@jupyter-widgets/base",
            "top": null,
            "grid_column": null,
            "overflow_y": null,
            "overflow_x": null,
            "grid_auto_flow": null,
            "grid_area": null,
            "grid_template_columns": null,
            "flex": null,
            "_model_name": "LayoutModel",
            "justify_items": null,
            "grid_row": null,
            "max_height": null,
            "align_content": null,
            "visibility": null,
            "align_self": null,
            "height": null,
            "min_height": null,
            "padding": null,
            "grid_auto_rows": null,
            "grid_gap": null,
            "max_width": null,
            "order": null,
            "_view_module_version": "1.2.0",
            "grid_template_areas": null,
            "object_position": null,
            "object_fit": null,
            "grid_auto_columns": null,
            "margin": null,
            "display": null,
            "left": null
          }
        },
        "7c44e9fe6eee497888c0c433df120b07": {
          "model_module": "@jupyter-widgets/controls",
          "model_name": "FloatProgressModel",
          "state": {
            "_view_name": "ProgressView",
            "style": "IPY_MODEL_701a9423680f431b98725bb5f1e77b40",
            "_dom_classes": [],
            "description": "100%",
            "_model_name": "FloatProgressModel",
            "bar_style": "success",
            "max": 27435,
            "_view_module": "@jupyter-widgets/controls",
            "_model_module_version": "1.5.0",
            "value": 27435,
            "_view_count": null,
            "_view_module_version": "1.5.0",
            "orientation": "horizontal",
            "min": 0,
            "description_tooltip": null,
            "_model_module": "@jupyter-widgets/controls",
            "layout": "IPY_MODEL_e16e53a3736c4b8f982904e3b9f3a014"
          }
        },
        "57be0bb1115a4b378cd57820c80529fa": {
          "model_module": "@jupyter-widgets/controls",
          "model_name": "HTMLModel",
          "state": {
            "_view_name": "HTMLView",
            "style": "IPY_MODEL_85c3fadb40824e51b4a310381f9ae6a2",
            "_dom_classes": [],
            "description": "",
            "_model_name": "HTMLModel",
            "placeholder": "​",
            "_view_module": "@jupyter-widgets/controls",
            "_model_module_version": "1.5.0",
            "value": " 27435/27435 [00:00&lt;00:00, 28898.02it/s]",
            "_view_count": null,
            "_view_module_version": "1.5.0",
            "description_tooltip": null,
            "_model_module": "@jupyter-widgets/controls",
            "layout": "IPY_MODEL_138e385f60954c989e18383f9c3cc8c5"
          }
        },
        "701a9423680f431b98725bb5f1e77b40": {
          "model_module": "@jupyter-widgets/controls",
          "model_name": "ProgressStyleModel",
          "state": {
            "_view_name": "StyleView",
            "_model_name": "ProgressStyleModel",
            "description_width": "initial",
            "_view_module": "@jupyter-widgets/base",
            "_model_module_version": "1.5.0",
            "_view_count": null,
            "_view_module_version": "1.2.0",
            "bar_color": null,
            "_model_module": "@jupyter-widgets/controls"
          }
        },
        "e16e53a3736c4b8f982904e3b9f3a014": {
          "model_module": "@jupyter-widgets/base",
          "model_name": "LayoutModel",
          "state": {
            "_view_name": "LayoutView",
            "grid_template_rows": null,
            "right": null,
            "justify_content": null,
            "_view_module": "@jupyter-widgets/base",
            "overflow": null,
            "_model_module_version": "1.2.0",
            "_view_count": null,
            "flex_flow": null,
            "width": null,
            "min_width": null,
            "border": null,
            "align_items": null,
            "bottom": null,
            "_model_module": "@jupyter-widgets/base",
            "top": null,
            "grid_column": null,
            "overflow_y": null,
            "overflow_x": null,
            "grid_auto_flow": null,
            "grid_area": null,
            "grid_template_columns": null,
            "flex": null,
            "_model_name": "LayoutModel",
            "justify_items": null,
            "grid_row": null,
            "max_height": null,
            "align_content": null,
            "visibility": null,
            "align_self": null,
            "height": null,
            "min_height": null,
            "padding": null,
            "grid_auto_rows": null,
            "grid_gap": null,
            "max_width": null,
            "order": null,
            "_view_module_version": "1.2.0",
            "grid_template_areas": null,
            "object_position": null,
            "object_fit": null,
            "grid_auto_columns": null,
            "margin": null,
            "display": null,
            "left": null
          }
        },
        "85c3fadb40824e51b4a310381f9ae6a2": {
          "model_module": "@jupyter-widgets/controls",
          "model_name": "DescriptionStyleModel",
          "state": {
            "_view_name": "StyleView",
            "_model_name": "DescriptionStyleModel",
            "description_width": "",
            "_view_module": "@jupyter-widgets/base",
            "_model_module_version": "1.5.0",
            "_view_count": null,
            "_view_module_version": "1.2.0",
            "_model_module": "@jupyter-widgets/controls"
          }
        },
        "138e385f60954c989e18383f9c3cc8c5": {
          "model_module": "@jupyter-widgets/base",
          "model_name": "LayoutModel",
          "state": {
            "_view_name": "LayoutView",
            "grid_template_rows": null,
            "right": null,
            "justify_content": null,
            "_view_module": "@jupyter-widgets/base",
            "overflow": null,
            "_model_module_version": "1.2.0",
            "_view_count": null,
            "flex_flow": null,
            "width": null,
            "min_width": null,
            "border": null,
            "align_items": null,
            "bottom": null,
            "_model_module": "@jupyter-widgets/base",
            "top": null,
            "grid_column": null,
            "overflow_y": null,
            "overflow_x": null,
            "grid_auto_flow": null,
            "grid_area": null,
            "grid_template_columns": null,
            "flex": null,
            "_model_name": "LayoutModel",
            "justify_items": null,
            "grid_row": null,
            "max_height": null,
            "align_content": null,
            "visibility": null,
            "align_self": null,
            "height": null,
            "min_height": null,
            "padding": null,
            "grid_auto_rows": null,
            "grid_gap": null,
            "max_width": null,
            "order": null,
            "_view_module_version": "1.2.0",
            "grid_template_areas": null,
            "object_position": null,
            "object_fit": null,
            "grid_auto_columns": null,
            "margin": null,
            "display": null,
            "left": null
          }
        },
        "214a5b49a95444168ec5a8f142295dbe": {
          "model_module": "@jupyter-widgets/controls",
          "model_name": "HBoxModel",
          "state": {
            "_view_name": "HBoxView",
            "_dom_classes": [],
            "_model_name": "HBoxModel",
            "_view_module": "@jupyter-widgets/controls",
            "_model_module_version": "1.5.0",
            "_view_count": null,
            "_view_module_version": "1.5.0",
            "box_style": "",
            "layout": "IPY_MODEL_e95467f399cf4c749dc65710ca5807f7",
            "_model_module": "@jupyter-widgets/controls",
            "children": [
              "IPY_MODEL_6aea507eb9c14502922a0c661ca3e8ca",
              "IPY_MODEL_c438bc98294541269c0cfd0fba543667"
            ]
          }
        },
        "e95467f399cf4c749dc65710ca5807f7": {
          "model_module": "@jupyter-widgets/base",
          "model_name": "LayoutModel",
          "state": {
            "_view_name": "LayoutView",
            "grid_template_rows": null,
            "right": null,
            "justify_content": null,
            "_view_module": "@jupyter-widgets/base",
            "overflow": null,
            "_model_module_version": "1.2.0",
            "_view_count": null,
            "flex_flow": null,
            "width": null,
            "min_width": null,
            "border": null,
            "align_items": null,
            "bottom": null,
            "_model_module": "@jupyter-widgets/base",
            "top": null,
            "grid_column": null,
            "overflow_y": null,
            "overflow_x": null,
            "grid_auto_flow": null,
            "grid_area": null,
            "grid_template_columns": null,
            "flex": null,
            "_model_name": "LayoutModel",
            "justify_items": null,
            "grid_row": null,
            "max_height": null,
            "align_content": null,
            "visibility": null,
            "align_self": null,
            "height": null,
            "min_height": null,
            "padding": null,
            "grid_auto_rows": null,
            "grid_gap": null,
            "max_width": null,
            "order": null,
            "_view_module_version": "1.2.0",
            "grid_template_areas": null,
            "object_position": null,
            "object_fit": null,
            "grid_auto_columns": null,
            "margin": null,
            "display": null,
            "left": null
          }
        },
        "6aea507eb9c14502922a0c661ca3e8ca": {
          "model_module": "@jupyter-widgets/controls",
          "model_name": "FloatProgressModel",
          "state": {
            "_view_name": "ProgressView",
            "style": "IPY_MODEL_ec2c1e7c937847ffb76c5bb06b4a03a1",
            "_dom_classes": [],
            "description": "100%",
            "_model_name": "FloatProgressModel",
            "bar_style": "success",
            "max": 27435,
            "_view_module": "@jupyter-widgets/controls",
            "_model_module_version": "1.5.0",
            "value": 27435,
            "_view_count": null,
            "_view_module_version": "1.5.0",
            "orientation": "horizontal",
            "min": 0,
            "description_tooltip": null,
            "_model_module": "@jupyter-widgets/controls",
            "layout": "IPY_MODEL_7bb9a1adc35f4044a23802dab4b1a0cb"
          }
        },
        "c438bc98294541269c0cfd0fba543667": {
          "model_module": "@jupyter-widgets/controls",
          "model_name": "HTMLModel",
          "state": {
            "_view_name": "HTMLView",
            "style": "IPY_MODEL_dd73f8d4c10649b0a1cd2a4305b82705",
            "_dom_classes": [],
            "description": "",
            "_model_name": "HTMLModel",
            "placeholder": "​",
            "_view_module": "@jupyter-widgets/controls",
            "_model_module_version": "1.5.0",
            "value": " 27435/27435 [04:06&lt;00:00, 111.46it/s]",
            "_view_count": null,
            "_view_module_version": "1.5.0",
            "description_tooltip": null,
            "_model_module": "@jupyter-widgets/controls",
            "layout": "IPY_MODEL_c3311756283d4b21bd6217bd2f50a558"
          }
        },
        "ec2c1e7c937847ffb76c5bb06b4a03a1": {
          "model_module": "@jupyter-widgets/controls",
          "model_name": "ProgressStyleModel",
          "state": {
            "_view_name": "StyleView",
            "_model_name": "ProgressStyleModel",
            "description_width": "initial",
            "_view_module": "@jupyter-widgets/base",
            "_model_module_version": "1.5.0",
            "_view_count": null,
            "_view_module_version": "1.2.0",
            "bar_color": null,
            "_model_module": "@jupyter-widgets/controls"
          }
        },
        "7bb9a1adc35f4044a23802dab4b1a0cb": {
          "model_module": "@jupyter-widgets/base",
          "model_name": "LayoutModel",
          "state": {
            "_view_name": "LayoutView",
            "grid_template_rows": null,
            "right": null,
            "justify_content": null,
            "_view_module": "@jupyter-widgets/base",
            "overflow": null,
            "_model_module_version": "1.2.0",
            "_view_count": null,
            "flex_flow": null,
            "width": null,
            "min_width": null,
            "border": null,
            "align_items": null,
            "bottom": null,
            "_model_module": "@jupyter-widgets/base",
            "top": null,
            "grid_column": null,
            "overflow_y": null,
            "overflow_x": null,
            "grid_auto_flow": null,
            "grid_area": null,
            "grid_template_columns": null,
            "flex": null,
            "_model_name": "LayoutModel",
            "justify_items": null,
            "grid_row": null,
            "max_height": null,
            "align_content": null,
            "visibility": null,
            "align_self": null,
            "height": null,
            "min_height": null,
            "padding": null,
            "grid_auto_rows": null,
            "grid_gap": null,
            "max_width": null,
            "order": null,
            "_view_module_version": "1.2.0",
            "grid_template_areas": null,
            "object_position": null,
            "object_fit": null,
            "grid_auto_columns": null,
            "margin": null,
            "display": null,
            "left": null
          }
        },
        "dd73f8d4c10649b0a1cd2a4305b82705": {
          "model_module": "@jupyter-widgets/controls",
          "model_name": "DescriptionStyleModel",
          "state": {
            "_view_name": "StyleView",
            "_model_name": "DescriptionStyleModel",
            "description_width": "",
            "_view_module": "@jupyter-widgets/base",
            "_model_module_version": "1.5.0",
            "_view_count": null,
            "_view_module_version": "1.2.0",
            "_model_module": "@jupyter-widgets/controls"
          }
        },
        "c3311756283d4b21bd6217bd2f50a558": {
          "model_module": "@jupyter-widgets/base",
          "model_name": "LayoutModel",
          "state": {
            "_view_name": "LayoutView",
            "grid_template_rows": null,
            "right": null,
            "justify_content": null,
            "_view_module": "@jupyter-widgets/base",
            "overflow": null,
            "_model_module_version": "1.2.0",
            "_view_count": null,
            "flex_flow": null,
            "width": null,
            "min_width": null,
            "border": null,
            "align_items": null,
            "bottom": null,
            "_model_module": "@jupyter-widgets/base",
            "top": null,
            "grid_column": null,
            "overflow_y": null,
            "overflow_x": null,
            "grid_auto_flow": null,
            "grid_area": null,
            "grid_template_columns": null,
            "flex": null,
            "_model_name": "LayoutModel",
            "justify_items": null,
            "grid_row": null,
            "max_height": null,
            "align_content": null,
            "visibility": null,
            "align_self": null,
            "height": null,
            "min_height": null,
            "padding": null,
            "grid_auto_rows": null,
            "grid_gap": null,
            "max_width": null,
            "order": null,
            "_view_module_version": "1.2.0",
            "grid_template_areas": null,
            "object_position": null,
            "object_fit": null,
            "grid_auto_columns": null,
            "margin": null,
            "display": null,
            "left": null
          }
        },
        "270a6dfe2b814c9ba5a43a16baea2993": {
          "model_module": "@jupyter-widgets/controls",
          "model_name": "HBoxModel",
          "state": {
            "_view_name": "HBoxView",
            "_dom_classes": [],
            "_model_name": "HBoxModel",
            "_view_module": "@jupyter-widgets/controls",
            "_model_module_version": "1.5.0",
            "_view_count": null,
            "_view_module_version": "1.5.0",
            "box_style": "",
            "layout": "IPY_MODEL_18ecc4a5a95f472d95b0fd6668a3a178",
            "_model_module": "@jupyter-widgets/controls",
            "children": [
              "IPY_MODEL_ef1464ba6a8346c1b15b54d115b5beec",
              "IPY_MODEL_03e6464b5baf4e019a5dc0fedbf12976"
            ]
          }
        },
        "18ecc4a5a95f472d95b0fd6668a3a178": {
          "model_module": "@jupyter-widgets/base",
          "model_name": "LayoutModel",
          "state": {
            "_view_name": "LayoutView",
            "grid_template_rows": null,
            "right": null,
            "justify_content": null,
            "_view_module": "@jupyter-widgets/base",
            "overflow": null,
            "_model_module_version": "1.2.0",
            "_view_count": null,
            "flex_flow": null,
            "width": null,
            "min_width": null,
            "border": null,
            "align_items": null,
            "bottom": null,
            "_model_module": "@jupyter-widgets/base",
            "top": null,
            "grid_column": null,
            "overflow_y": null,
            "overflow_x": null,
            "grid_auto_flow": null,
            "grid_area": null,
            "grid_template_columns": null,
            "flex": null,
            "_model_name": "LayoutModel",
            "justify_items": null,
            "grid_row": null,
            "max_height": null,
            "align_content": null,
            "visibility": null,
            "align_self": null,
            "height": null,
            "min_height": null,
            "padding": null,
            "grid_auto_rows": null,
            "grid_gap": null,
            "max_width": null,
            "order": null,
            "_view_module_version": "1.2.0",
            "grid_template_areas": null,
            "object_position": null,
            "object_fit": null,
            "grid_auto_columns": null,
            "margin": null,
            "display": null,
            "left": null
          }
        },
        "ef1464ba6a8346c1b15b54d115b5beec": {
          "model_module": "@jupyter-widgets/controls",
          "model_name": "FloatProgressModel",
          "state": {
            "_view_name": "ProgressView",
            "style": "IPY_MODEL_afa9d39d09da4caab791fb51eec51e67",
            "_dom_classes": [],
            "description": "100%",
            "_model_name": "FloatProgressModel",
            "bar_style": "success",
            "max": 27435,
            "_view_module": "@jupyter-widgets/controls",
            "_model_module_version": "1.5.0",
            "value": 27435,
            "_view_count": null,
            "_view_module_version": "1.5.0",
            "orientation": "horizontal",
            "min": 0,
            "description_tooltip": null,
            "_model_module": "@jupyter-widgets/controls",
            "layout": "IPY_MODEL_44f859dbb24641768456b088b43d548a"
          }
        },
        "03e6464b5baf4e019a5dc0fedbf12976": {
          "model_module": "@jupyter-widgets/controls",
          "model_name": "HTMLModel",
          "state": {
            "_view_name": "HTMLView",
            "style": "IPY_MODEL_ac152c87162946dabcc3e9c1fcc9a5bb",
            "_dom_classes": [],
            "description": "",
            "_model_name": "HTMLModel",
            "placeholder": "​",
            "_view_module": "@jupyter-widgets/controls",
            "_model_module_version": "1.5.0",
            "value": " 27435/27435 [00:00&lt;00:00, 35277.87it/s]",
            "_view_count": null,
            "_view_module_version": "1.5.0",
            "description_tooltip": null,
            "_model_module": "@jupyter-widgets/controls",
            "layout": "IPY_MODEL_34b3a444e46f4e2aa256bdb550810af8"
          }
        },
        "afa9d39d09da4caab791fb51eec51e67": {
          "model_module": "@jupyter-widgets/controls",
          "model_name": "ProgressStyleModel",
          "state": {
            "_view_name": "StyleView",
            "_model_name": "ProgressStyleModel",
            "description_width": "initial",
            "_view_module": "@jupyter-widgets/base",
            "_model_module_version": "1.5.0",
            "_view_count": null,
            "_view_module_version": "1.2.0",
            "bar_color": null,
            "_model_module": "@jupyter-widgets/controls"
          }
        },
        "44f859dbb24641768456b088b43d548a": {
          "model_module": "@jupyter-widgets/base",
          "model_name": "LayoutModel",
          "state": {
            "_view_name": "LayoutView",
            "grid_template_rows": null,
            "right": null,
            "justify_content": null,
            "_view_module": "@jupyter-widgets/base",
            "overflow": null,
            "_model_module_version": "1.2.0",
            "_view_count": null,
            "flex_flow": null,
            "width": null,
            "min_width": null,
            "border": null,
            "align_items": null,
            "bottom": null,
            "_model_module": "@jupyter-widgets/base",
            "top": null,
            "grid_column": null,
            "overflow_y": null,
            "overflow_x": null,
            "grid_auto_flow": null,
            "grid_area": null,
            "grid_template_columns": null,
            "flex": null,
            "_model_name": "LayoutModel",
            "justify_items": null,
            "grid_row": null,
            "max_height": null,
            "align_content": null,
            "visibility": null,
            "align_self": null,
            "height": null,
            "min_height": null,
            "padding": null,
            "grid_auto_rows": null,
            "grid_gap": null,
            "max_width": null,
            "order": null,
            "_view_module_version": "1.2.0",
            "grid_template_areas": null,
            "object_position": null,
            "object_fit": null,
            "grid_auto_columns": null,
            "margin": null,
            "display": null,
            "left": null
          }
        },
        "ac152c87162946dabcc3e9c1fcc9a5bb": {
          "model_module": "@jupyter-widgets/controls",
          "model_name": "DescriptionStyleModel",
          "state": {
            "_view_name": "StyleView",
            "_model_name": "DescriptionStyleModel",
            "description_width": "",
            "_view_module": "@jupyter-widgets/base",
            "_model_module_version": "1.5.0",
            "_view_count": null,
            "_view_module_version": "1.2.0",
            "_model_module": "@jupyter-widgets/controls"
          }
        },
        "34b3a444e46f4e2aa256bdb550810af8": {
          "model_module": "@jupyter-widgets/base",
          "model_name": "LayoutModel",
          "state": {
            "_view_name": "LayoutView",
            "grid_template_rows": null,
            "right": null,
            "justify_content": null,
            "_view_module": "@jupyter-widgets/base",
            "overflow": null,
            "_model_module_version": "1.2.0",
            "_view_count": null,
            "flex_flow": null,
            "width": null,
            "min_width": null,
            "border": null,
            "align_items": null,
            "bottom": null,
            "_model_module": "@jupyter-widgets/base",
            "top": null,
            "grid_column": null,
            "overflow_y": null,
            "overflow_x": null,
            "grid_auto_flow": null,
            "grid_area": null,
            "grid_template_columns": null,
            "flex": null,
            "_model_name": "LayoutModel",
            "justify_items": null,
            "grid_row": null,
            "max_height": null,
            "align_content": null,
            "visibility": null,
            "align_self": null,
            "height": null,
            "min_height": null,
            "padding": null,
            "grid_auto_rows": null,
            "grid_gap": null,
            "max_width": null,
            "order": null,
            "_view_module_version": "1.2.0",
            "grid_template_areas": null,
            "object_position": null,
            "object_fit": null,
            "grid_auto_columns": null,
            "margin": null,
            "display": null,
            "left": null
          }
        },
        "b066148aadc74b9fb60a3bc5af91b41a": {
          "model_module": "@jupyter-widgets/controls",
          "model_name": "HBoxModel",
          "state": {
            "_view_name": "HBoxView",
            "_dom_classes": [],
            "_model_name": "HBoxModel",
            "_view_module": "@jupyter-widgets/controls",
            "_model_module_version": "1.5.0",
            "_view_count": null,
            "_view_module_version": "1.5.0",
            "box_style": "",
            "layout": "IPY_MODEL_4dc85e09bb15457fa3c963a6da45e404",
            "_model_module": "@jupyter-widgets/controls",
            "children": [
              "IPY_MODEL_800f0ff0e3a64320aaeafad6c3075494",
              "IPY_MODEL_59f89449d2504e0da0c1f6d43bd5bd61"
            ]
          }
        },
        "4dc85e09bb15457fa3c963a6da45e404": {
          "model_module": "@jupyter-widgets/base",
          "model_name": "LayoutModel",
          "state": {
            "_view_name": "LayoutView",
            "grid_template_rows": null,
            "right": null,
            "justify_content": null,
            "_view_module": "@jupyter-widgets/base",
            "overflow": null,
            "_model_module_version": "1.2.0",
            "_view_count": null,
            "flex_flow": null,
            "width": null,
            "min_width": null,
            "border": null,
            "align_items": null,
            "bottom": null,
            "_model_module": "@jupyter-widgets/base",
            "top": null,
            "grid_column": null,
            "overflow_y": null,
            "overflow_x": null,
            "grid_auto_flow": null,
            "grid_area": null,
            "grid_template_columns": null,
            "flex": null,
            "_model_name": "LayoutModel",
            "justify_items": null,
            "grid_row": null,
            "max_height": null,
            "align_content": null,
            "visibility": null,
            "align_self": null,
            "height": null,
            "min_height": null,
            "padding": null,
            "grid_auto_rows": null,
            "grid_gap": null,
            "max_width": null,
            "order": null,
            "_view_module_version": "1.2.0",
            "grid_template_areas": null,
            "object_position": null,
            "object_fit": null,
            "grid_auto_columns": null,
            "margin": null,
            "display": null,
            "left": null
          }
        },
        "800f0ff0e3a64320aaeafad6c3075494": {
          "model_module": "@jupyter-widgets/controls",
          "model_name": "FloatProgressModel",
          "state": {
            "_view_name": "ProgressView",
            "style": "IPY_MODEL_2f169570d4af4c2583bd31a053964f10",
            "_dom_classes": [],
            "description": "100%",
            "_model_name": "FloatProgressModel",
            "bar_style": "success",
            "max": 27435,
            "_view_module": "@jupyter-widgets/controls",
            "_model_module_version": "1.5.0",
            "value": 27435,
            "_view_count": null,
            "_view_module_version": "1.5.0",
            "orientation": "horizontal",
            "min": 0,
            "description_tooltip": null,
            "_model_module": "@jupyter-widgets/controls",
            "layout": "IPY_MODEL_6fac1d978a3848b88d42b66a8947e646"
          }
        },
        "59f89449d2504e0da0c1f6d43bd5bd61": {
          "model_module": "@jupyter-widgets/controls",
          "model_name": "HTMLModel",
          "state": {
            "_view_name": "HTMLView",
            "style": "IPY_MODEL_d3019789ffd3484a849f4f3af0f4ff1e",
            "_dom_classes": [],
            "description": "",
            "_model_name": "HTMLModel",
            "placeholder": "​",
            "_view_module": "@jupyter-widgets/controls",
            "_model_module_version": "1.5.0",
            "value": " 27435/27435 [03:05&lt;00:00, 148.02it/s]",
            "_view_count": null,
            "_view_module_version": "1.5.0",
            "description_tooltip": null,
            "_model_module": "@jupyter-widgets/controls",
            "layout": "IPY_MODEL_7d107be48ce943fab40ea110b702ca39"
          }
        },
        "2f169570d4af4c2583bd31a053964f10": {
          "model_module": "@jupyter-widgets/controls",
          "model_name": "ProgressStyleModel",
          "state": {
            "_view_name": "StyleView",
            "_model_name": "ProgressStyleModel",
            "description_width": "initial",
            "_view_module": "@jupyter-widgets/base",
            "_model_module_version": "1.5.0",
            "_view_count": null,
            "_view_module_version": "1.2.0",
            "bar_color": null,
            "_model_module": "@jupyter-widgets/controls"
          }
        },
        "6fac1d978a3848b88d42b66a8947e646": {
          "model_module": "@jupyter-widgets/base",
          "model_name": "LayoutModel",
          "state": {
            "_view_name": "LayoutView",
            "grid_template_rows": null,
            "right": null,
            "justify_content": null,
            "_view_module": "@jupyter-widgets/base",
            "overflow": null,
            "_model_module_version": "1.2.0",
            "_view_count": null,
            "flex_flow": null,
            "width": null,
            "min_width": null,
            "border": null,
            "align_items": null,
            "bottom": null,
            "_model_module": "@jupyter-widgets/base",
            "top": null,
            "grid_column": null,
            "overflow_y": null,
            "overflow_x": null,
            "grid_auto_flow": null,
            "grid_area": null,
            "grid_template_columns": null,
            "flex": null,
            "_model_name": "LayoutModel",
            "justify_items": null,
            "grid_row": null,
            "max_height": null,
            "align_content": null,
            "visibility": null,
            "align_self": null,
            "height": null,
            "min_height": null,
            "padding": null,
            "grid_auto_rows": null,
            "grid_gap": null,
            "max_width": null,
            "order": null,
            "_view_module_version": "1.2.0",
            "grid_template_areas": null,
            "object_position": null,
            "object_fit": null,
            "grid_auto_columns": null,
            "margin": null,
            "display": null,
            "left": null
          }
        },
        "d3019789ffd3484a849f4f3af0f4ff1e": {
          "model_module": "@jupyter-widgets/controls",
          "model_name": "DescriptionStyleModel",
          "state": {
            "_view_name": "StyleView",
            "_model_name": "DescriptionStyleModel",
            "description_width": "",
            "_view_module": "@jupyter-widgets/base",
            "_model_module_version": "1.5.0",
            "_view_count": null,
            "_view_module_version": "1.2.0",
            "_model_module": "@jupyter-widgets/controls"
          }
        },
        "7d107be48ce943fab40ea110b702ca39": {
          "model_module": "@jupyter-widgets/base",
          "model_name": "LayoutModel",
          "state": {
            "_view_name": "LayoutView",
            "grid_template_rows": null,
            "right": null,
            "justify_content": null,
            "_view_module": "@jupyter-widgets/base",
            "overflow": null,
            "_model_module_version": "1.2.0",
            "_view_count": null,
            "flex_flow": null,
            "width": null,
            "min_width": null,
            "border": null,
            "align_items": null,
            "bottom": null,
            "_model_module": "@jupyter-widgets/base",
            "top": null,
            "grid_column": null,
            "overflow_y": null,
            "overflow_x": null,
            "grid_auto_flow": null,
            "grid_area": null,
            "grid_template_columns": null,
            "flex": null,
            "_model_name": "LayoutModel",
            "justify_items": null,
            "grid_row": null,
            "max_height": null,
            "align_content": null,
            "visibility": null,
            "align_self": null,
            "height": null,
            "min_height": null,
            "padding": null,
            "grid_auto_rows": null,
            "grid_gap": null,
            "max_width": null,
            "order": null,
            "_view_module_version": "1.2.0",
            "grid_template_areas": null,
            "object_position": null,
            "object_fit": null,
            "grid_auto_columns": null,
            "margin": null,
            "display": null,
            "left": null
          }
        },
        "2bdfac70db9643058bf20bffb55a1803": {
          "model_module": "@jupyter-widgets/controls",
          "model_name": "HBoxModel",
          "state": {
            "_view_name": "HBoxView",
            "_dom_classes": [],
            "_model_name": "HBoxModel",
            "_view_module": "@jupyter-widgets/controls",
            "_model_module_version": "1.5.0",
            "_view_count": null,
            "_view_module_version": "1.5.0",
            "box_style": "",
            "layout": "IPY_MODEL_276456d09353488cb37ec684df74b23c",
            "_model_module": "@jupyter-widgets/controls",
            "children": [
              "IPY_MODEL_31d6502fd8bb45a7a42d56ff6f1ca651",
              "IPY_MODEL_e876dc5e9a054d80b4982103fd1ec188"
            ]
          }
        },
        "276456d09353488cb37ec684df74b23c": {
          "model_module": "@jupyter-widgets/base",
          "model_name": "LayoutModel",
          "state": {
            "_view_name": "LayoutView",
            "grid_template_rows": null,
            "right": null,
            "justify_content": null,
            "_view_module": "@jupyter-widgets/base",
            "overflow": null,
            "_model_module_version": "1.2.0",
            "_view_count": null,
            "flex_flow": null,
            "width": null,
            "min_width": null,
            "border": null,
            "align_items": null,
            "bottom": null,
            "_model_module": "@jupyter-widgets/base",
            "top": null,
            "grid_column": null,
            "overflow_y": null,
            "overflow_x": null,
            "grid_auto_flow": null,
            "grid_area": null,
            "grid_template_columns": null,
            "flex": null,
            "_model_name": "LayoutModel",
            "justify_items": null,
            "grid_row": null,
            "max_height": null,
            "align_content": null,
            "visibility": null,
            "align_self": null,
            "height": null,
            "min_height": null,
            "padding": null,
            "grid_auto_rows": null,
            "grid_gap": null,
            "max_width": null,
            "order": null,
            "_view_module_version": "1.2.0",
            "grid_template_areas": null,
            "object_position": null,
            "object_fit": null,
            "grid_auto_columns": null,
            "margin": null,
            "display": null,
            "left": null
          }
        },
        "31d6502fd8bb45a7a42d56ff6f1ca651": {
          "model_module": "@jupyter-widgets/controls",
          "model_name": "FloatProgressModel",
          "state": {
            "_view_name": "ProgressView",
            "style": "IPY_MODEL_eaf2fcedbc144163998d31aa1060fd57",
            "_dom_classes": [],
            "description": "100%",
            "_model_name": "FloatProgressModel",
            "bar_style": "success",
            "max": 27435,
            "_view_module": "@jupyter-widgets/controls",
            "_model_module_version": "1.5.0",
            "value": 27435,
            "_view_count": null,
            "_view_module_version": "1.5.0",
            "orientation": "horizontal",
            "min": 0,
            "description_tooltip": null,
            "_model_module": "@jupyter-widgets/controls",
            "layout": "IPY_MODEL_cd6b02c50f784f6d8974cd00b1e29b47"
          }
        },
        "e876dc5e9a054d80b4982103fd1ec188": {
          "model_module": "@jupyter-widgets/controls",
          "model_name": "HTMLModel",
          "state": {
            "_view_name": "HTMLView",
            "style": "IPY_MODEL_278ea4ee5c1e40b79346db1b7e0caa75",
            "_dom_classes": [],
            "description": "",
            "_model_name": "HTMLModel",
            "placeholder": "​",
            "_view_module": "@jupyter-widgets/controls",
            "_model_module_version": "1.5.0",
            "value": " 27435/27435 [01:27&lt;00:00, 313.28it/s]",
            "_view_count": null,
            "_view_module_version": "1.5.0",
            "description_tooltip": null,
            "_model_module": "@jupyter-widgets/controls",
            "layout": "IPY_MODEL_74ed234627104a6f812b6b235fa59aad"
          }
        },
        "eaf2fcedbc144163998d31aa1060fd57": {
          "model_module": "@jupyter-widgets/controls",
          "model_name": "ProgressStyleModel",
          "state": {
            "_view_name": "StyleView",
            "_model_name": "ProgressStyleModel",
            "description_width": "initial",
            "_view_module": "@jupyter-widgets/base",
            "_model_module_version": "1.5.0",
            "_view_count": null,
            "_view_module_version": "1.2.0",
            "bar_color": null,
            "_model_module": "@jupyter-widgets/controls"
          }
        },
        "cd6b02c50f784f6d8974cd00b1e29b47": {
          "model_module": "@jupyter-widgets/base",
          "model_name": "LayoutModel",
          "state": {
            "_view_name": "LayoutView",
            "grid_template_rows": null,
            "right": null,
            "justify_content": null,
            "_view_module": "@jupyter-widgets/base",
            "overflow": null,
            "_model_module_version": "1.2.0",
            "_view_count": null,
            "flex_flow": null,
            "width": null,
            "min_width": null,
            "border": null,
            "align_items": null,
            "bottom": null,
            "_model_module": "@jupyter-widgets/base",
            "top": null,
            "grid_column": null,
            "overflow_y": null,
            "overflow_x": null,
            "grid_auto_flow": null,
            "grid_area": null,
            "grid_template_columns": null,
            "flex": null,
            "_model_name": "LayoutModel",
            "justify_items": null,
            "grid_row": null,
            "max_height": null,
            "align_content": null,
            "visibility": null,
            "align_self": null,
            "height": null,
            "min_height": null,
            "padding": null,
            "grid_auto_rows": null,
            "grid_gap": null,
            "max_width": null,
            "order": null,
            "_view_module_version": "1.2.0",
            "grid_template_areas": null,
            "object_position": null,
            "object_fit": null,
            "grid_auto_columns": null,
            "margin": null,
            "display": null,
            "left": null
          }
        },
        "278ea4ee5c1e40b79346db1b7e0caa75": {
          "model_module": "@jupyter-widgets/controls",
          "model_name": "DescriptionStyleModel",
          "state": {
            "_view_name": "StyleView",
            "_model_name": "DescriptionStyleModel",
            "description_width": "",
            "_view_module": "@jupyter-widgets/base",
            "_model_module_version": "1.5.0",
            "_view_count": null,
            "_view_module_version": "1.2.0",
            "_model_module": "@jupyter-widgets/controls"
          }
        },
        "74ed234627104a6f812b6b235fa59aad": {
          "model_module": "@jupyter-widgets/base",
          "model_name": "LayoutModel",
          "state": {
            "_view_name": "LayoutView",
            "grid_template_rows": null,
            "right": null,
            "justify_content": null,
            "_view_module": "@jupyter-widgets/base",
            "overflow": null,
            "_model_module_version": "1.2.0",
            "_view_count": null,
            "flex_flow": null,
            "width": null,
            "min_width": null,
            "border": null,
            "align_items": null,
            "bottom": null,
            "_model_module": "@jupyter-widgets/base",
            "top": null,
            "grid_column": null,
            "overflow_y": null,
            "overflow_x": null,
            "grid_auto_flow": null,
            "grid_area": null,
            "grid_template_columns": null,
            "flex": null,
            "_model_name": "LayoutModel",
            "justify_items": null,
            "grid_row": null,
            "max_height": null,
            "align_content": null,
            "visibility": null,
            "align_self": null,
            "height": null,
            "min_height": null,
            "padding": null,
            "grid_auto_rows": null,
            "grid_gap": null,
            "max_width": null,
            "order": null,
            "_view_module_version": "1.2.0",
            "grid_template_areas": null,
            "object_position": null,
            "object_fit": null,
            "grid_auto_columns": null,
            "margin": null,
            "display": null,
            "left": null
          }
        },
        "623d359fab894b55980b8348e022b527": {
          "model_module": "@jupyter-widgets/controls",
          "model_name": "HBoxModel",
          "state": {
            "_view_name": "HBoxView",
            "_dom_classes": [],
            "_model_name": "HBoxModel",
            "_view_module": "@jupyter-widgets/controls",
            "_model_module_version": "1.5.0",
            "_view_count": null,
            "_view_module_version": "1.5.0",
            "box_style": "",
            "layout": "IPY_MODEL_a1c36f231b5f4a78bfc87a074b7470ac",
            "_model_module": "@jupyter-widgets/controls",
            "children": [
              "IPY_MODEL_62d7a9e7fbef4750b1b525ef393250f8",
              "IPY_MODEL_3c7f463014de42c59a7dfd6f3502e631"
            ]
          }
        },
        "a1c36f231b5f4a78bfc87a074b7470ac": {
          "model_module": "@jupyter-widgets/base",
          "model_name": "LayoutModel",
          "state": {
            "_view_name": "LayoutView",
            "grid_template_rows": null,
            "right": null,
            "justify_content": null,
            "_view_module": "@jupyter-widgets/base",
            "overflow": null,
            "_model_module_version": "1.2.0",
            "_view_count": null,
            "flex_flow": null,
            "width": null,
            "min_width": null,
            "border": null,
            "align_items": null,
            "bottom": null,
            "_model_module": "@jupyter-widgets/base",
            "top": null,
            "grid_column": null,
            "overflow_y": null,
            "overflow_x": null,
            "grid_auto_flow": null,
            "grid_area": null,
            "grid_template_columns": null,
            "flex": null,
            "_model_name": "LayoutModel",
            "justify_items": null,
            "grid_row": null,
            "max_height": null,
            "align_content": null,
            "visibility": null,
            "align_self": null,
            "height": null,
            "min_height": null,
            "padding": null,
            "grid_auto_rows": null,
            "grid_gap": null,
            "max_width": null,
            "order": null,
            "_view_module_version": "1.2.0",
            "grid_template_areas": null,
            "object_position": null,
            "object_fit": null,
            "grid_auto_columns": null,
            "margin": null,
            "display": null,
            "left": null
          }
        },
        "62d7a9e7fbef4750b1b525ef393250f8": {
          "model_module": "@jupyter-widgets/controls",
          "model_name": "FloatProgressModel",
          "state": {
            "_view_name": "ProgressView",
            "style": "IPY_MODEL_4dab5598ce1a49bd99672815b8a7272c",
            "_dom_classes": [],
            "description": "100%",
            "_model_name": "FloatProgressModel",
            "bar_style": "success",
            "max": 27435,
            "_view_module": "@jupyter-widgets/controls",
            "_model_module_version": "1.5.0",
            "value": 27435,
            "_view_count": null,
            "_view_module_version": "1.5.0",
            "orientation": "horizontal",
            "min": 0,
            "description_tooltip": null,
            "_model_module": "@jupyter-widgets/controls",
            "layout": "IPY_MODEL_7f31eddd5c2544ad810ed202001f2e8f"
          }
        },
        "3c7f463014de42c59a7dfd6f3502e631": {
          "model_module": "@jupyter-widgets/controls",
          "model_name": "HTMLModel",
          "state": {
            "_view_name": "HTMLView",
            "style": "IPY_MODEL_3eacec964beb46e3b4257c8a8acd4e5e",
            "_dom_classes": [],
            "description": "",
            "_model_name": "HTMLModel",
            "placeholder": "​",
            "_view_module": "@jupyter-widgets/controls",
            "_model_module_version": "1.5.0",
            "value": " 27435/27435 [00:59&lt;00:00, 457.34it/s]",
            "_view_count": null,
            "_view_module_version": "1.5.0",
            "description_tooltip": null,
            "_model_module": "@jupyter-widgets/controls",
            "layout": "IPY_MODEL_a6eb5dfb85e9453ba05801e158dfdbc7"
          }
        },
        "4dab5598ce1a49bd99672815b8a7272c": {
          "model_module": "@jupyter-widgets/controls",
          "model_name": "ProgressStyleModel",
          "state": {
            "_view_name": "StyleView",
            "_model_name": "ProgressStyleModel",
            "description_width": "initial",
            "_view_module": "@jupyter-widgets/base",
            "_model_module_version": "1.5.0",
            "_view_count": null,
            "_view_module_version": "1.2.0",
            "bar_color": null,
            "_model_module": "@jupyter-widgets/controls"
          }
        },
        "7f31eddd5c2544ad810ed202001f2e8f": {
          "model_module": "@jupyter-widgets/base",
          "model_name": "LayoutModel",
          "state": {
            "_view_name": "LayoutView",
            "grid_template_rows": null,
            "right": null,
            "justify_content": null,
            "_view_module": "@jupyter-widgets/base",
            "overflow": null,
            "_model_module_version": "1.2.0",
            "_view_count": null,
            "flex_flow": null,
            "width": null,
            "min_width": null,
            "border": null,
            "align_items": null,
            "bottom": null,
            "_model_module": "@jupyter-widgets/base",
            "top": null,
            "grid_column": null,
            "overflow_y": null,
            "overflow_x": null,
            "grid_auto_flow": null,
            "grid_area": null,
            "grid_template_columns": null,
            "flex": null,
            "_model_name": "LayoutModel",
            "justify_items": null,
            "grid_row": null,
            "max_height": null,
            "align_content": null,
            "visibility": null,
            "align_self": null,
            "height": null,
            "min_height": null,
            "padding": null,
            "grid_auto_rows": null,
            "grid_gap": null,
            "max_width": null,
            "order": null,
            "_view_module_version": "1.2.0",
            "grid_template_areas": null,
            "object_position": null,
            "object_fit": null,
            "grid_auto_columns": null,
            "margin": null,
            "display": null,
            "left": null
          }
        },
        "3eacec964beb46e3b4257c8a8acd4e5e": {
          "model_module": "@jupyter-widgets/controls",
          "model_name": "DescriptionStyleModel",
          "state": {
            "_view_name": "StyleView",
            "_model_name": "DescriptionStyleModel",
            "description_width": "",
            "_view_module": "@jupyter-widgets/base",
            "_model_module_version": "1.5.0",
            "_view_count": null,
            "_view_module_version": "1.2.0",
            "_model_module": "@jupyter-widgets/controls"
          }
        },
        "a6eb5dfb85e9453ba05801e158dfdbc7": {
          "model_module": "@jupyter-widgets/base",
          "model_name": "LayoutModel",
          "state": {
            "_view_name": "LayoutView",
            "grid_template_rows": null,
            "right": null,
            "justify_content": null,
            "_view_module": "@jupyter-widgets/base",
            "overflow": null,
            "_model_module_version": "1.2.0",
            "_view_count": null,
            "flex_flow": null,
            "width": null,
            "min_width": null,
            "border": null,
            "align_items": null,
            "bottom": null,
            "_model_module": "@jupyter-widgets/base",
            "top": null,
            "grid_column": null,
            "overflow_y": null,
            "overflow_x": null,
            "grid_auto_flow": null,
            "grid_area": null,
            "grid_template_columns": null,
            "flex": null,
            "_model_name": "LayoutModel",
            "justify_items": null,
            "grid_row": null,
            "max_height": null,
            "align_content": null,
            "visibility": null,
            "align_self": null,
            "height": null,
            "min_height": null,
            "padding": null,
            "grid_auto_rows": null,
            "grid_gap": null,
            "max_width": null,
            "order": null,
            "_view_module_version": "1.2.0",
            "grid_template_areas": null,
            "object_position": null,
            "object_fit": null,
            "grid_auto_columns": null,
            "margin": null,
            "display": null,
            "left": null
          }
        },
        "2c78884a14d64a13a83a81fb000c34db": {
          "model_module": "@jupyter-widgets/controls",
          "model_name": "HBoxModel",
          "state": {
            "_view_name": "HBoxView",
            "_dom_classes": [],
            "_model_name": "HBoxModel",
            "_view_module": "@jupyter-widgets/controls",
            "_model_module_version": "1.5.0",
            "_view_count": null,
            "_view_module_version": "1.5.0",
            "box_style": "",
            "layout": "IPY_MODEL_e016fb3d58c94426873b600e8da170e1",
            "_model_module": "@jupyter-widgets/controls",
            "children": [
              "IPY_MODEL_4e8c9cdc342742998cc6f75e7d1707c9",
              "IPY_MODEL_1cf268cb83074360bfeb4dc1996797b0"
            ]
          }
        },
        "e016fb3d58c94426873b600e8da170e1": {
          "model_module": "@jupyter-widgets/base",
          "model_name": "LayoutModel",
          "state": {
            "_view_name": "LayoutView",
            "grid_template_rows": null,
            "right": null,
            "justify_content": null,
            "_view_module": "@jupyter-widgets/base",
            "overflow": null,
            "_model_module_version": "1.2.0",
            "_view_count": null,
            "flex_flow": null,
            "width": null,
            "min_width": null,
            "border": null,
            "align_items": null,
            "bottom": null,
            "_model_module": "@jupyter-widgets/base",
            "top": null,
            "grid_column": null,
            "overflow_y": null,
            "overflow_x": null,
            "grid_auto_flow": null,
            "grid_area": null,
            "grid_template_columns": null,
            "flex": null,
            "_model_name": "LayoutModel",
            "justify_items": null,
            "grid_row": null,
            "max_height": null,
            "align_content": null,
            "visibility": null,
            "align_self": null,
            "height": null,
            "min_height": null,
            "padding": null,
            "grid_auto_rows": null,
            "grid_gap": null,
            "max_width": null,
            "order": null,
            "_view_module_version": "1.2.0",
            "grid_template_areas": null,
            "object_position": null,
            "object_fit": null,
            "grid_auto_columns": null,
            "margin": null,
            "display": null,
            "left": null
          }
        },
        "4e8c9cdc342742998cc6f75e7d1707c9": {
          "model_module": "@jupyter-widgets/controls",
          "model_name": "FloatProgressModel",
          "state": {
            "_view_name": "ProgressView",
            "style": "IPY_MODEL_982f6a996e4849349ff220631e0670ea",
            "_dom_classes": [],
            "description": "100%",
            "_model_name": "FloatProgressModel",
            "bar_style": "success",
            "max": 27435,
            "_view_module": "@jupyter-widgets/controls",
            "_model_module_version": "1.5.0",
            "value": 27435,
            "_view_count": null,
            "_view_module_version": "1.5.0",
            "orientation": "horizontal",
            "min": 0,
            "description_tooltip": null,
            "_model_module": "@jupyter-widgets/controls",
            "layout": "IPY_MODEL_85b861b8594f41ef8f2a9dd831569ac0"
          }
        },
        "1cf268cb83074360bfeb4dc1996797b0": {
          "model_module": "@jupyter-widgets/controls",
          "model_name": "HTMLModel",
          "state": {
            "_view_name": "HTMLView",
            "style": "IPY_MODEL_d3d346f4c9f94c9d8a3d82aaea225abd",
            "_dom_classes": [],
            "description": "",
            "_model_name": "HTMLModel",
            "placeholder": "​",
            "_view_module": "@jupyter-widgets/controls",
            "_model_module_version": "1.5.0",
            "value": " 27435/27435 [00:00&lt;00:00, 270184.41it/s]",
            "_view_count": null,
            "_view_module_version": "1.5.0",
            "description_tooltip": null,
            "_model_module": "@jupyter-widgets/controls",
            "layout": "IPY_MODEL_d0516dedf51d45158b3050bf848bf041"
          }
        },
        "982f6a996e4849349ff220631e0670ea": {
          "model_module": "@jupyter-widgets/controls",
          "model_name": "ProgressStyleModel",
          "state": {
            "_view_name": "StyleView",
            "_model_name": "ProgressStyleModel",
            "description_width": "initial",
            "_view_module": "@jupyter-widgets/base",
            "_model_module_version": "1.5.0",
            "_view_count": null,
            "_view_module_version": "1.2.0",
            "bar_color": null,
            "_model_module": "@jupyter-widgets/controls"
          }
        },
        "85b861b8594f41ef8f2a9dd831569ac0": {
          "model_module": "@jupyter-widgets/base",
          "model_name": "LayoutModel",
          "state": {
            "_view_name": "LayoutView",
            "grid_template_rows": null,
            "right": null,
            "justify_content": null,
            "_view_module": "@jupyter-widgets/base",
            "overflow": null,
            "_model_module_version": "1.2.0",
            "_view_count": null,
            "flex_flow": null,
            "width": null,
            "min_width": null,
            "border": null,
            "align_items": null,
            "bottom": null,
            "_model_module": "@jupyter-widgets/base",
            "top": null,
            "grid_column": null,
            "overflow_y": null,
            "overflow_x": null,
            "grid_auto_flow": null,
            "grid_area": null,
            "grid_template_columns": null,
            "flex": null,
            "_model_name": "LayoutModel",
            "justify_items": null,
            "grid_row": null,
            "max_height": null,
            "align_content": null,
            "visibility": null,
            "align_self": null,
            "height": null,
            "min_height": null,
            "padding": null,
            "grid_auto_rows": null,
            "grid_gap": null,
            "max_width": null,
            "order": null,
            "_view_module_version": "1.2.0",
            "grid_template_areas": null,
            "object_position": null,
            "object_fit": null,
            "grid_auto_columns": null,
            "margin": null,
            "display": null,
            "left": null
          }
        },
        "d3d346f4c9f94c9d8a3d82aaea225abd": {
          "model_module": "@jupyter-widgets/controls",
          "model_name": "DescriptionStyleModel",
          "state": {
            "_view_name": "StyleView",
            "_model_name": "DescriptionStyleModel",
            "description_width": "",
            "_view_module": "@jupyter-widgets/base",
            "_model_module_version": "1.5.0",
            "_view_count": null,
            "_view_module_version": "1.2.0",
            "_model_module": "@jupyter-widgets/controls"
          }
        },
        "d0516dedf51d45158b3050bf848bf041": {
          "model_module": "@jupyter-widgets/base",
          "model_name": "LayoutModel",
          "state": {
            "_view_name": "LayoutView",
            "grid_template_rows": null,
            "right": null,
            "justify_content": null,
            "_view_module": "@jupyter-widgets/base",
            "overflow": null,
            "_model_module_version": "1.2.0",
            "_view_count": null,
            "flex_flow": null,
            "width": null,
            "min_width": null,
            "border": null,
            "align_items": null,
            "bottom": null,
            "_model_module": "@jupyter-widgets/base",
            "top": null,
            "grid_column": null,
            "overflow_y": null,
            "overflow_x": null,
            "grid_auto_flow": null,
            "grid_area": null,
            "grid_template_columns": null,
            "flex": null,
            "_model_name": "LayoutModel",
            "justify_items": null,
            "grid_row": null,
            "max_height": null,
            "align_content": null,
            "visibility": null,
            "align_self": null,
            "height": null,
            "min_height": null,
            "padding": null,
            "grid_auto_rows": null,
            "grid_gap": null,
            "max_width": null,
            "order": null,
            "_view_module_version": "1.2.0",
            "grid_template_areas": null,
            "object_position": null,
            "object_fit": null,
            "grid_auto_columns": null,
            "margin": null,
            "display": null,
            "left": null
          }
        }
      }
    }
  },
  "cells": [
    {
      "cell_type": "markdown",
      "metadata": {
        "id": "view-in-github",
        "colab_type": "text"
      },
      "source": [
        "<a href=\"https://colab.research.google.com/github/hoky1227/Transformer_based-recommendation/blob/main/Transformer_Instacart_with_ECF_Algorithm_1230_F.ipynb\" target=\"_parent\"><img src=\"https://colab.research.google.com/assets/colab-badge.svg\" alt=\"Open In Colab\"/></a>"
      ]
    },
    {
      "cell_type": "code",
      "metadata": {
        "id": "NZkzctqF7wdX",
        "colab": {
          "base_uri": "https://localhost:8080/"
        },
        "outputId": "db18f92f-b2c7-4ef5-9bfe-ea9f60bb294a"
      },
      "source": [
        "from google.colab import drive\n",
        "drive.mount('/content/drive')\n",
        "\n",
        "path = '/content/drive/MyDrive/Instacart/'"
      ],
      "execution_count": 1,
      "outputs": [
        {
          "output_type": "stream",
          "text": [
            "Drive already mounted at /content/drive; to attempt to forcibly remount, call drive.mount(\"/content/drive\", force_remount=True).\n"
          ],
          "name": "stdout"
        }
      ]
    },
    {
      "cell_type": "markdown",
      "metadata": {
        "id": "gq7X0GG97To_"
      },
      "source": [
        "### Module 가져오기"
      ]
    },
    {
      "cell_type": "code",
      "metadata": {
        "id": "XLxp7sxmZk43"
      },
      "source": [
        "import numpy as np\n",
        "import pandas as pd\n",
        "from gensim.models import Word2Vec\n",
        "import matplotlib.pyplot as plt\n",
        "from tqdm import tqdm_notebook\n",
        "from tqdm import tqdm\n",
        "import math\n",
        "from numpy.linalg import norm\n",
        "from sklearn.metrics.pairwise import cosine_similarity\n",
        "from scipy.spatial.distance import euclidean\n",
        "\n",
        "import warnings \n",
        "\n",
        "warnings.filterwarnings('ignore')"
      ],
      "execution_count": 2,
      "outputs": []
    },
    {
      "cell_type": "markdown",
      "metadata": {
        "id": "lTZJXfbD7TpY"
      },
      "source": [
        "### Data Road"
      ]
    },
    {
      "cell_type": "code",
      "metadata": {
        "id": "A6d7H7aAJ-v1",
        "colab": {
          "base_uri": "https://localhost:8080/",
          "height": 588
        },
        "outputId": "7341928c-b087-4759-a147-7dc7a0fc9130"
      },
      "source": [
        "TFoutputs = pd.read_csv(path + \"Instacart_Transformer_test_outputs_20.csv\")\n",
        "# TFoutputs.rename(columns={'acc':'predict_item'}, inplace=True)\n",
        "TFoutputs.pop('Unnamed: 0')\n",
        "TFoutputs"
      ],
      "execution_count": 3,
      "outputs": [
        {
          "output_type": "execute_result",
          "data": {
            "text/html": [
              "<div>\n",
              "<style scoped>\n",
              "    .dataframe tbody tr th:only-of-type {\n",
              "        vertical-align: middle;\n",
              "    }\n",
              "\n",
              "    .dataframe tbody tr th {\n",
              "        vertical-align: top;\n",
              "    }\n",
              "\n",
              "    .dataframe thead th {\n",
              "        text-align: right;\n",
              "    }\n",
              "</style>\n",
              "<table border=\"1\" class=\"dataframe\">\n",
              "  <thead>\n",
              "    <tr style=\"text-align: right;\">\n",
              "      <th></th>\n",
              "      <th>train</th>\n",
              "      <th>label</th>\n",
              "      <th>split_train_token</th>\n",
              "      <th>split_label_token</th>\n",
              "      <th>predict_item</th>\n",
              "    </tr>\n",
              "  </thead>\n",
              "  <tbody>\n",
              "    <tr>\n",
              "      <th>0</th>\n",
              "      <td>Health Super Lysine+ Immune System Liquid Extr...</td>\n",
              "      <td>Wellness Formula</td>\n",
              "      <td>&lt;esp&gt; Health Super Lysine+ Immune System Liqui...</td>\n",
              "      <td>&lt;esp&gt; Wellness Formula &lt;esp&gt;</td>\n",
              "      <td>&lt;esp&gt; Trilogy Kombucha Drink &lt;esp&gt;</td>\n",
              "    </tr>\n",
              "    <tr>\n",
              "      <th>1</th>\n",
              "      <td>Tiny Fruits Blueberry Apple&amp;&amp;Organic Freeze Dr...</td>\n",
              "      <td>Naturals Chicken Nuggets</td>\n",
              "      <td>&lt;esp&gt; Tiny Fruits Blueberry Apple &lt;esp&gt; Organi...</td>\n",
              "      <td>&lt;esp&gt; Naturals Chicken Nuggets &lt;esp&gt;</td>\n",
              "      <td>&lt;esp&gt; Organic Granny Smith Apple &lt;esp&gt;</td>\n",
              "    </tr>\n",
              "    <tr>\n",
              "      <th>2</th>\n",
              "      <td>Organic Pure Lime Juice&amp;&amp;Pure Lemon Juice&amp;&amp;Uns...</td>\n",
              "      <td>Cashew Milk Salted Caramel Cluster Non-Dairy F...</td>\n",
              "      <td>&lt;esp&gt; Organic Pure Lime Juice &lt;esp&gt; Pure Lemon...</td>\n",
              "      <td>&lt;esp&gt; Cashew Milk Salted Caramel Cluster Non-D...</td>\n",
              "      <td>&lt;esp&gt; Organic Baby Spinach &lt;esp&gt;</td>\n",
              "    </tr>\n",
              "    <tr>\n",
              "      <th>3</th>\n",
              "      <td>Organic Lemon&amp;&amp;Bean &amp; Rice Chips Nacho&amp;&amp;Gluten...</td>\n",
              "      <td>Compostable Basket Coffee Filters</td>\n",
              "      <td>&lt;esp&gt; Organic Lemon &lt;esp&gt; Bean &amp; Rice Chips Na...</td>\n",
              "      <td>&lt;esp&gt; Compostable Basket Coffee Filters &lt;esp&gt;</td>\n",
              "      <td>&lt;esp&gt; Crackers Cheddar Bunnies Snack Packs &lt;esp&gt;</td>\n",
              "    </tr>\n",
              "    <tr>\n",
              "      <th>4</th>\n",
              "      <td>Roasted Turkey&amp;&amp;Natural Free &amp; Clear Dishwashe...</td>\n",
              "      <td>Banana</td>\n",
              "      <td>&lt;esp&gt; Roasted Turkey &lt;esp&gt; Natural Free &amp; Clea...</td>\n",
              "      <td>&lt;esp&gt; Banana &lt;esp&gt;</td>\n",
              "      <td>&lt;esp&gt; Organic Whole Wheat Fusilli &lt;esp&gt;</td>\n",
              "    </tr>\n",
              "    <tr>\n",
              "      <th>...</th>\n",
              "      <td>...</td>\n",
              "      <td>...</td>\n",
              "      <td>...</td>\n",
              "      <td>...</td>\n",
              "      <td>...</td>\n",
              "    </tr>\n",
              "    <tr>\n",
              "      <th>27430</th>\n",
              "      <td>Cheddar Snack Crackers Cheddar Bunnies&amp;&amp;Olive ...</td>\n",
              "      <td>Banana</td>\n",
              "      <td>&lt;esp&gt; Cheddar Snack Crackers Cheddar Bunnies &lt;...</td>\n",
              "      <td>&lt;esp&gt; Banana &lt;esp&gt;</td>\n",
              "      <td>&lt;esp&gt; Organic Whole Milk &lt;esp&gt;</td>\n",
              "    </tr>\n",
              "    <tr>\n",
              "      <th>27431</th>\n",
              "      <td>Frozen Organic Wild Blueberries&amp;&amp;Organic Whole...</td>\n",
              "      <td>Organic Whole Milk</td>\n",
              "      <td>&lt;esp&gt; Frozen Organic Wild Blueberries &lt;esp&gt; Or...</td>\n",
              "      <td>&lt;esp&gt; Organic Whole Milk &lt;esp&gt;</td>\n",
              "      <td>&lt;esp&gt; Organic Baby Spinach &lt;esp&gt;</td>\n",
              "    </tr>\n",
              "    <tr>\n",
              "      <th>27432</th>\n",
              "      <td>Organic Raspberries&amp;&amp;Frozen Organic Wild Blueb...</td>\n",
              "      <td>Organic Whole Strawberries</td>\n",
              "      <td>&lt;esp&gt; Organic Raspberries &lt;esp&gt; Frozen Organic...</td>\n",
              "      <td>&lt;esp&gt; Organic Whole Strawberries &lt;esp&gt;</td>\n",
              "      <td>&lt;esp&gt; Organic Baby Spinach &lt;esp&gt;</td>\n",
              "    </tr>\n",
              "    <tr>\n",
              "      <th>27433</th>\n",
              "      <td>Turkey Bacon&amp;&amp;Egg, Basil Pesto, &amp; Cheese Scram...</td>\n",
              "      <td>Deli Fresh Slow Roasted Cured Roast Beef</td>\n",
              "      <td>&lt;esp&gt; Turkey Bacon &lt;esp&gt; Egg, Basil Pesto, &amp; C...</td>\n",
              "      <td>&lt;esp&gt; Deli Fresh Slow Roasted Cured Roast Beef...</td>\n",
              "      <td>&lt;esp&gt; Pesto Tortellini  Bowls &lt;esp&gt;</td>\n",
              "    </tr>\n",
              "    <tr>\n",
              "      <th>27434</th>\n",
              "      <td>Organic Strawberries&amp;&amp;Petit Suisse Fruit&amp;&amp;Orga...</td>\n",
              "      <td>Organic Fresh Squeezed Orange Juice</td>\n",
              "      <td>&lt;esp&gt; Organic Strawberries &lt;esp&gt; Petit Suisse ...</td>\n",
              "      <td>&lt;esp&gt; Organic Fresh Squeezed Orange Juice &lt;esp&gt;</td>\n",
              "      <td>&lt;esp&gt; Organic Vanilla Almond Milk &lt;esp&gt;</td>\n",
              "    </tr>\n",
              "  </tbody>\n",
              "</table>\n",
              "<p>27435 rows × 5 columns</p>\n",
              "</div>"
            ],
            "text/plain": [
              "                                                   train  ...                                      predict_item\n",
              "0      Health Super Lysine+ Immune System Liquid Extr...  ...                <esp> Trilogy Kombucha Drink <esp>\n",
              "1      Tiny Fruits Blueberry Apple&&Organic Freeze Dr...  ...            <esp> Organic Granny Smith Apple <esp>\n",
              "2      Organic Pure Lime Juice&&Pure Lemon Juice&&Uns...  ...                  <esp> Organic Baby Spinach <esp>\n",
              "3      Organic Lemon&&Bean & Rice Chips Nacho&&Gluten...  ...  <esp> Crackers Cheddar Bunnies Snack Packs <esp>\n",
              "4      Roasted Turkey&&Natural Free & Clear Dishwashe...  ...           <esp> Organic Whole Wheat Fusilli <esp>\n",
              "...                                                  ...  ...                                               ...\n",
              "27430  Cheddar Snack Crackers Cheddar Bunnies&&Olive ...  ...                    <esp> Organic Whole Milk <esp>\n",
              "27431  Frozen Organic Wild Blueberries&&Organic Whole...  ...                  <esp> Organic Baby Spinach <esp>\n",
              "27432  Organic Raspberries&&Frozen Organic Wild Blueb...  ...                  <esp> Organic Baby Spinach <esp>\n",
              "27433  Turkey Bacon&&Egg, Basil Pesto, & Cheese Scram...  ...               <esp> Pesto Tortellini  Bowls <esp>\n",
              "27434  Organic Strawberries&&Petit Suisse Fruit&&Orga...  ...           <esp> Organic Vanilla Almond Milk <esp>\n",
              "\n",
              "[27435 rows x 5 columns]"
            ]
          },
          "metadata": {
            "tags": []
          },
          "execution_count": 3
        }
      ]
    },
    {
      "cell_type": "code",
      "metadata": {
        "id": "tnGznGc7tyiq",
        "colab": {
          "base_uri": "https://localhost:8080/"
        },
        "outputId": "fd898e2e-43a2-4bb5-a782-0bbf1bef489d"
      },
      "source": [
        "Detail = pd.read_csv(path + \"InstacartDetail.csv\")\n",
        "Detail.pop('Unnamed: 0')\n",
        "# print(len(detail))\n",
        "# detail = detail['0'].to_list()\n",
        "detail = Detail['product_name'].str.strip().to_list()\n",
        "len(detail)"
      ],
      "execution_count": 4,
      "outputs": [
        {
          "output_type": "execute_result",
          "data": {
            "text/plain": [
              "49688"
            ]
          },
          "metadata": {
            "tags": []
          },
          "execution_count": 4
        }
      ]
    },
    {
      "cell_type": "code",
      "metadata": {
        "id": "8NNnTiziKXBu",
        "colab": {
          "base_uri": "https://localhost:8080/"
        },
        "outputId": "08d3e2ca-eb05-49d9-f651-e0b3296f6c94"
      },
      "source": [
        "pred = TFoutputs['predict_item']\n",
        "pred = pred.str.replace('<esp>', '')\n",
        "pred = pred.str.strip()\n",
        "pred.head()"
      ],
      "execution_count": 5,
      "outputs": [
        {
          "output_type": "execute_result",
          "data": {
            "text/plain": [
              "0                  Trilogy Kombucha Drink\n",
              "1              Organic Granny Smith Apple\n",
              "2                    Organic Baby Spinach\n",
              "3    Crackers Cheddar Bunnies Snack Packs\n",
              "4             Organic Whole Wheat Fusilli\n",
              "Name: predict_item, dtype: object"
            ]
          },
          "metadata": {
            "tags": []
          },
          "execution_count": 5
        }
      ]
    },
    {
      "cell_type": "code",
      "metadata": {
        "id": "Xhf_KP7ANU4c",
        "colab": {
          "base_uri": "https://localhost:8080/"
        },
        "outputId": "6df86b1a-18aa-4bbd-a60b-7bfb4b154d43"
      },
      "source": [
        "# checker = pd.Series([i in list(TFoutputs['split_label_token']) for i in TFoutputs['predict_item']])\n",
        "checker = pd.Series([i in detail for i in pred])\n",
        "# filter = checker.replace(False, np.NaN)\n",
        "print(checker.value_counts())\n",
        "filter = checker[checker == False].index\n",
        "len(filter)"
      ],
      "execution_count": 6,
      "outputs": [
        {
          "output_type": "stream",
          "text": [
            "True     27117\n",
            "False      318\n",
            "dtype: int64\n"
          ],
          "name": "stdout"
        },
        {
          "output_type": "execute_result",
          "data": {
            "text/plain": [
              "318"
            ]
          },
          "metadata": {
            "tags": []
          },
          "execution_count": 6
        }
      ]
    },
    {
      "cell_type": "code",
      "metadata": {
        "id": "Uh-NlYnHNf5n"
      },
      "source": [
        "TFoutputs['filter'] = checker\n",
        "# falses = TFoutputs.isna().sum()\n",
        "# TFoutputs.dropna(inplace=True)\n",
        "# TFoutputs.reset_index(drop=True, inplace=True)\n",
        "# TFoutputs"
      ],
      "execution_count": 7,
      "outputs": []
    },
    {
      "cell_type": "code",
      "metadata": {
        "id": "XR7Iz3dQqUKa",
        "colab": {
          "base_uri": "https://localhost:8080/",
          "height": 588
        },
        "outputId": "dd516bd8-f9ab-41c6-b5de-9ce925d82ee8"
      },
      "source": [
        "TFoutputs"
      ],
      "execution_count": 8,
      "outputs": [
        {
          "output_type": "execute_result",
          "data": {
            "text/html": [
              "<div>\n",
              "<style scoped>\n",
              "    .dataframe tbody tr th:only-of-type {\n",
              "        vertical-align: middle;\n",
              "    }\n",
              "\n",
              "    .dataframe tbody tr th {\n",
              "        vertical-align: top;\n",
              "    }\n",
              "\n",
              "    .dataframe thead th {\n",
              "        text-align: right;\n",
              "    }\n",
              "</style>\n",
              "<table border=\"1\" class=\"dataframe\">\n",
              "  <thead>\n",
              "    <tr style=\"text-align: right;\">\n",
              "      <th></th>\n",
              "      <th>train</th>\n",
              "      <th>label</th>\n",
              "      <th>split_train_token</th>\n",
              "      <th>split_label_token</th>\n",
              "      <th>predict_item</th>\n",
              "      <th>filter</th>\n",
              "    </tr>\n",
              "  </thead>\n",
              "  <tbody>\n",
              "    <tr>\n",
              "      <th>0</th>\n",
              "      <td>Health Super Lysine+ Immune System Liquid Extr...</td>\n",
              "      <td>Wellness Formula</td>\n",
              "      <td>&lt;esp&gt; Health Super Lysine+ Immune System Liqui...</td>\n",
              "      <td>&lt;esp&gt; Wellness Formula &lt;esp&gt;</td>\n",
              "      <td>&lt;esp&gt; Trilogy Kombucha Drink &lt;esp&gt;</td>\n",
              "      <td>True</td>\n",
              "    </tr>\n",
              "    <tr>\n",
              "      <th>1</th>\n",
              "      <td>Tiny Fruits Blueberry Apple&amp;&amp;Organic Freeze Dr...</td>\n",
              "      <td>Naturals Chicken Nuggets</td>\n",
              "      <td>&lt;esp&gt; Tiny Fruits Blueberry Apple &lt;esp&gt; Organi...</td>\n",
              "      <td>&lt;esp&gt; Naturals Chicken Nuggets &lt;esp&gt;</td>\n",
              "      <td>&lt;esp&gt; Organic Granny Smith Apple &lt;esp&gt;</td>\n",
              "      <td>True</td>\n",
              "    </tr>\n",
              "    <tr>\n",
              "      <th>2</th>\n",
              "      <td>Organic Pure Lime Juice&amp;&amp;Pure Lemon Juice&amp;&amp;Uns...</td>\n",
              "      <td>Cashew Milk Salted Caramel Cluster Non-Dairy F...</td>\n",
              "      <td>&lt;esp&gt; Organic Pure Lime Juice &lt;esp&gt; Pure Lemon...</td>\n",
              "      <td>&lt;esp&gt; Cashew Milk Salted Caramel Cluster Non-D...</td>\n",
              "      <td>&lt;esp&gt; Organic Baby Spinach &lt;esp&gt;</td>\n",
              "      <td>True</td>\n",
              "    </tr>\n",
              "    <tr>\n",
              "      <th>3</th>\n",
              "      <td>Organic Lemon&amp;&amp;Bean &amp; Rice Chips Nacho&amp;&amp;Gluten...</td>\n",
              "      <td>Compostable Basket Coffee Filters</td>\n",
              "      <td>&lt;esp&gt; Organic Lemon &lt;esp&gt; Bean &amp; Rice Chips Na...</td>\n",
              "      <td>&lt;esp&gt; Compostable Basket Coffee Filters &lt;esp&gt;</td>\n",
              "      <td>&lt;esp&gt; Crackers Cheddar Bunnies Snack Packs &lt;esp&gt;</td>\n",
              "      <td>True</td>\n",
              "    </tr>\n",
              "    <tr>\n",
              "      <th>4</th>\n",
              "      <td>Roasted Turkey&amp;&amp;Natural Free &amp; Clear Dishwashe...</td>\n",
              "      <td>Banana</td>\n",
              "      <td>&lt;esp&gt; Roasted Turkey &lt;esp&gt; Natural Free &amp; Clea...</td>\n",
              "      <td>&lt;esp&gt; Banana &lt;esp&gt;</td>\n",
              "      <td>&lt;esp&gt; Organic Whole Wheat Fusilli &lt;esp&gt;</td>\n",
              "      <td>True</td>\n",
              "    </tr>\n",
              "    <tr>\n",
              "      <th>...</th>\n",
              "      <td>...</td>\n",
              "      <td>...</td>\n",
              "      <td>...</td>\n",
              "      <td>...</td>\n",
              "      <td>...</td>\n",
              "      <td>...</td>\n",
              "    </tr>\n",
              "    <tr>\n",
              "      <th>27430</th>\n",
              "      <td>Cheddar Snack Crackers Cheddar Bunnies&amp;&amp;Olive ...</td>\n",
              "      <td>Banana</td>\n",
              "      <td>&lt;esp&gt; Cheddar Snack Crackers Cheddar Bunnies &lt;...</td>\n",
              "      <td>&lt;esp&gt; Banana &lt;esp&gt;</td>\n",
              "      <td>&lt;esp&gt; Organic Whole Milk &lt;esp&gt;</td>\n",
              "      <td>True</td>\n",
              "    </tr>\n",
              "    <tr>\n",
              "      <th>27431</th>\n",
              "      <td>Frozen Organic Wild Blueberries&amp;&amp;Organic Whole...</td>\n",
              "      <td>Organic Whole Milk</td>\n",
              "      <td>&lt;esp&gt; Frozen Organic Wild Blueberries &lt;esp&gt; Or...</td>\n",
              "      <td>&lt;esp&gt; Organic Whole Milk &lt;esp&gt;</td>\n",
              "      <td>&lt;esp&gt; Organic Baby Spinach &lt;esp&gt;</td>\n",
              "      <td>True</td>\n",
              "    </tr>\n",
              "    <tr>\n",
              "      <th>27432</th>\n",
              "      <td>Organic Raspberries&amp;&amp;Frozen Organic Wild Blueb...</td>\n",
              "      <td>Organic Whole Strawberries</td>\n",
              "      <td>&lt;esp&gt; Organic Raspberries &lt;esp&gt; Frozen Organic...</td>\n",
              "      <td>&lt;esp&gt; Organic Whole Strawberries &lt;esp&gt;</td>\n",
              "      <td>&lt;esp&gt; Organic Baby Spinach &lt;esp&gt;</td>\n",
              "      <td>True</td>\n",
              "    </tr>\n",
              "    <tr>\n",
              "      <th>27433</th>\n",
              "      <td>Turkey Bacon&amp;&amp;Egg, Basil Pesto, &amp; Cheese Scram...</td>\n",
              "      <td>Deli Fresh Slow Roasted Cured Roast Beef</td>\n",
              "      <td>&lt;esp&gt; Turkey Bacon &lt;esp&gt; Egg, Basil Pesto, &amp; C...</td>\n",
              "      <td>&lt;esp&gt; Deli Fresh Slow Roasted Cured Roast Beef...</td>\n",
              "      <td>&lt;esp&gt; Pesto Tortellini  Bowls &lt;esp&gt;</td>\n",
              "      <td>True</td>\n",
              "    </tr>\n",
              "    <tr>\n",
              "      <th>27434</th>\n",
              "      <td>Organic Strawberries&amp;&amp;Petit Suisse Fruit&amp;&amp;Orga...</td>\n",
              "      <td>Organic Fresh Squeezed Orange Juice</td>\n",
              "      <td>&lt;esp&gt; Organic Strawberries &lt;esp&gt; Petit Suisse ...</td>\n",
              "      <td>&lt;esp&gt; Organic Fresh Squeezed Orange Juice &lt;esp&gt;</td>\n",
              "      <td>&lt;esp&gt; Organic Vanilla Almond Milk &lt;esp&gt;</td>\n",
              "      <td>True</td>\n",
              "    </tr>\n",
              "  </tbody>\n",
              "</table>\n",
              "<p>27435 rows × 6 columns</p>\n",
              "</div>"
            ],
            "text/plain": [
              "                                                   train  ... filter\n",
              "0      Health Super Lysine+ Immune System Liquid Extr...  ...   True\n",
              "1      Tiny Fruits Blueberry Apple&&Organic Freeze Dr...  ...   True\n",
              "2      Organic Pure Lime Juice&&Pure Lemon Juice&&Uns...  ...   True\n",
              "3      Organic Lemon&&Bean & Rice Chips Nacho&&Gluten...  ...   True\n",
              "4      Roasted Turkey&&Natural Free & Clear Dishwashe...  ...   True\n",
              "...                                                  ...  ...    ...\n",
              "27430  Cheddar Snack Crackers Cheddar Bunnies&&Olive ...  ...   True\n",
              "27431  Frozen Organic Wild Blueberries&&Organic Whole...  ...   True\n",
              "27432  Organic Raspberries&&Frozen Organic Wild Blueb...  ...   True\n",
              "27433  Turkey Bacon&&Egg, Basil Pesto, & Cheese Scram...  ...   True\n",
              "27434  Organic Strawberries&&Petit Suisse Fruit&&Orga...  ...   True\n",
              "\n",
              "[27435 rows x 6 columns]"
            ]
          },
          "metadata": {
            "tags": []
          },
          "execution_count": 8
        }
      ]
    },
    {
      "cell_type": "code",
      "metadata": {
        "id": "99bDozohPb0F",
        "colab": {
          "base_uri": "https://localhost:8080/"
        },
        "outputId": "c3c1b0b8-6e8e-432d-fb90-34195d3f810c"
      },
      "source": [
        "# falses = falses['filter']\n",
        "# falses\n",
        "\n",
        "falses = pd.Series([TFoutputs['predict_item'][i] for i in filter])\n",
        "falses = falses.str.replace('<esp>', '')\n",
        "falses = falses.str.strip()\n",
        "print(len(falses))\n",
        "falses.head()"
      ],
      "execution_count": 9,
      "outputs": [
        {
          "output_type": "stream",
          "text": [
            "318\n"
          ],
          "name": "stdout"
        },
        {
          "output_type": "execute_result",
          "data": {
            "text/plain": [
              "0                Original Strawberry Banana Juice\n",
              "1       Finely Shredded Mexican Four Cheese Blend\n",
              "2                           Organic Turmeric Root\n",
              "3                Natural Peanut Butter Flavor Bar\n",
              "4    Butcher Thick Cut Shredded Mozzarella Cheese\n",
              "dtype: object"
            ]
          },
          "metadata": {
            "tags": []
          },
          "execution_count": 9
        }
      ]
    },
    {
      "cell_type": "code",
      "metadata": {
        "id": "8u5Kpf0fyHmd",
        "colab": {
          "base_uri": "https://localhost:8080/"
        },
        "outputId": "b621648c-dc33-49e6-ce0b-32b92e2b029a"
      },
      "source": [
        "filter[:5]"
      ],
      "execution_count": 10,
      "outputs": [
        {
          "output_type": "execute_result",
          "data": {
            "text/plain": [
              "Int64Index([42, 100, 269, 274, 281], dtype='int64')"
            ]
          },
          "metadata": {
            "tags": []
          },
          "execution_count": 10
        }
      ]
    },
    {
      "cell_type": "code",
      "metadata": {
        "id": "IgcTovcIZrBO",
        "colab": {
          "base_uri": "https://localhost:8080/",
          "height": 416
        },
        "outputId": "8c8ec994-0702-4839-ebbc-34b3fe4b8176"
      },
      "source": [
        "df = pd.read_pickle(path + \"InstacartCustomers.pkl\")\n",
        "# df.pop('Unnamed: 0')\n",
        "df"
      ],
      "execution_count": 11,
      "outputs": [
        {
          "output_type": "execute_result",
          "data": {
            "text/html": [
              "<div>\n",
              "<style scoped>\n",
              "    .dataframe tbody tr th:only-of-type {\n",
              "        vertical-align: middle;\n",
              "    }\n",
              "\n",
              "    .dataframe tbody tr th {\n",
              "        vertical-align: top;\n",
              "    }\n",
              "\n",
              "    .dataframe thead th {\n",
              "        text-align: right;\n",
              "    }\n",
              "</style>\n",
              "<table border=\"1\" class=\"dataframe\">\n",
              "  <thead>\n",
              "    <tr style=\"text-align: right;\">\n",
              "      <th></th>\n",
              "      <th>user</th>\n",
              "      <th>products</th>\n",
              "    </tr>\n",
              "  </thead>\n",
              "  <tbody>\n",
              "    <tr>\n",
              "      <th>0</th>\n",
              "      <td>1</td>\n",
              "      <td>Organic Fuji Apples&amp;&amp;Bag of Organic Bananas&amp;&amp;H...</td>\n",
              "    </tr>\n",
              "    <tr>\n",
              "      <th>1</th>\n",
              "      <td>2</td>\n",
              "      <td>Organic Roasted Sliced Chicken Breast&amp;&amp;Articho...</td>\n",
              "    </tr>\n",
              "    <tr>\n",
              "      <th>2</th>\n",
              "      <td>3</td>\n",
              "      <td>Crackers, Crispy, Cheddar&amp;&amp;Organic Baby Spinac...</td>\n",
              "    </tr>\n",
              "    <tr>\n",
              "      <th>3</th>\n",
              "      <td>4</td>\n",
              "      <td>Original Orange Juice&amp;&amp;Extra-Dry Cava&amp;&amp;Organic...</td>\n",
              "    </tr>\n",
              "    <tr>\n",
              "      <th>4</th>\n",
              "      <td>5</td>\n",
              "      <td>Semi-Soft Cheese, Ripened&amp;&amp;Red Raspberries&amp;&amp;Or...</td>\n",
              "    </tr>\n",
              "    <tr>\n",
              "      <th>...</th>\n",
              "      <td>...</td>\n",
              "      <td>...</td>\n",
              "    </tr>\n",
              "    <tr>\n",
              "      <th>206204</th>\n",
              "      <td>206205</td>\n",
              "      <td>Hass Avocado&amp;&amp;Organic Whole String Cheese&amp;&amp;Ora...</td>\n",
              "    </tr>\n",
              "    <tr>\n",
              "      <th>206205</th>\n",
              "      <td>206206</td>\n",
              "      <td>Large Alfresco Eggs&amp;&amp;Gluten Free Apple Cinnamo...</td>\n",
              "    </tr>\n",
              "    <tr>\n",
              "      <th>206206</th>\n",
              "      <td>206207</td>\n",
              "      <td>Sparkling Water Grapefruit&amp;&amp;Organic Raspberrie...</td>\n",
              "    </tr>\n",
              "    <tr>\n",
              "      <th>206207</th>\n",
              "      <td>206208</td>\n",
              "      <td>Organic Whipping Cream&amp;&amp;Organic Lemon&amp;&amp;Peanut ...</td>\n",
              "    </tr>\n",
              "    <tr>\n",
              "      <th>206208</th>\n",
              "      <td>206209</td>\n",
              "      <td>Fabric Softener Sheets&amp;&amp;Banana&amp;&amp;Calcium Enrich...</td>\n",
              "    </tr>\n",
              "  </tbody>\n",
              "</table>\n",
              "<p>206209 rows × 2 columns</p>\n",
              "</div>"
            ],
            "text/plain": [
              "          user                                           products\n",
              "0            1  Organic Fuji Apples&&Bag of Organic Bananas&&H...\n",
              "1            2  Organic Roasted Sliced Chicken Breast&&Articho...\n",
              "2            3  Crackers, Crispy, Cheddar&&Organic Baby Spinac...\n",
              "3            4  Original Orange Juice&&Extra-Dry Cava&&Organic...\n",
              "4            5  Semi-Soft Cheese, Ripened&&Red Raspberries&&Or...\n",
              "...        ...                                                ...\n",
              "206204  206205  Hass Avocado&&Organic Whole String Cheese&&Ora...\n",
              "206205  206206  Large Alfresco Eggs&&Gluten Free Apple Cinnamo...\n",
              "206206  206207  Sparkling Water Grapefruit&&Organic Raspberrie...\n",
              "206207  206208  Organic Whipping Cream&&Organic Lemon&&Peanut ...\n",
              "206208  206209  Fabric Softener Sheets&&Banana&&Calcium Enrich...\n",
              "\n",
              "[206209 rows x 2 columns]"
            ]
          },
          "metadata": {
            "tags": []
          },
          "execution_count": 11
        }
      ]
    },
    {
      "cell_type": "code",
      "metadata": {
        "id": "nYFapQ7HAxsZ"
      },
      "source": [
        "user2item = df.copy()"
      ],
      "execution_count": 12,
      "outputs": []
    },
    {
      "cell_type": "code",
      "metadata": {
        "id": "6WW2TMwaE6Hn",
        "colab": {
          "base_uri": "https://localhost:8080/",
          "height": 416
        },
        "outputId": "4e163f1e-39eb-41a1-c94c-c36ddcc24875"
      },
      "source": [
        "# user2item.columns = ['유저 식별키', '유저 구매 상품 식별키 묶음', '라벨']\n",
        "user2item.columns = ['유저 식별키', '유저 구매 상품 식별키 묶음']\n",
        "user2item"
      ],
      "execution_count": 13,
      "outputs": [
        {
          "output_type": "execute_result",
          "data": {
            "text/html": [
              "<div>\n",
              "<style scoped>\n",
              "    .dataframe tbody tr th:only-of-type {\n",
              "        vertical-align: middle;\n",
              "    }\n",
              "\n",
              "    .dataframe tbody tr th {\n",
              "        vertical-align: top;\n",
              "    }\n",
              "\n",
              "    .dataframe thead th {\n",
              "        text-align: right;\n",
              "    }\n",
              "</style>\n",
              "<table border=\"1\" class=\"dataframe\">\n",
              "  <thead>\n",
              "    <tr style=\"text-align: right;\">\n",
              "      <th></th>\n",
              "      <th>유저 식별키</th>\n",
              "      <th>유저 구매 상품 식별키 묶음</th>\n",
              "    </tr>\n",
              "  </thead>\n",
              "  <tbody>\n",
              "    <tr>\n",
              "      <th>0</th>\n",
              "      <td>1</td>\n",
              "      <td>Organic Fuji Apples&amp;&amp;Bag of Organic Bananas&amp;&amp;H...</td>\n",
              "    </tr>\n",
              "    <tr>\n",
              "      <th>1</th>\n",
              "      <td>2</td>\n",
              "      <td>Organic Roasted Sliced Chicken Breast&amp;&amp;Articho...</td>\n",
              "    </tr>\n",
              "    <tr>\n",
              "      <th>2</th>\n",
              "      <td>3</td>\n",
              "      <td>Crackers, Crispy, Cheddar&amp;&amp;Organic Baby Spinac...</td>\n",
              "    </tr>\n",
              "    <tr>\n",
              "      <th>3</th>\n",
              "      <td>4</td>\n",
              "      <td>Original Orange Juice&amp;&amp;Extra-Dry Cava&amp;&amp;Organic...</td>\n",
              "    </tr>\n",
              "    <tr>\n",
              "      <th>4</th>\n",
              "      <td>5</td>\n",
              "      <td>Semi-Soft Cheese, Ripened&amp;&amp;Red Raspberries&amp;&amp;Or...</td>\n",
              "    </tr>\n",
              "    <tr>\n",
              "      <th>...</th>\n",
              "      <td>...</td>\n",
              "      <td>...</td>\n",
              "    </tr>\n",
              "    <tr>\n",
              "      <th>206204</th>\n",
              "      <td>206205</td>\n",
              "      <td>Hass Avocado&amp;&amp;Organic Whole String Cheese&amp;&amp;Ora...</td>\n",
              "    </tr>\n",
              "    <tr>\n",
              "      <th>206205</th>\n",
              "      <td>206206</td>\n",
              "      <td>Large Alfresco Eggs&amp;&amp;Gluten Free Apple Cinnamo...</td>\n",
              "    </tr>\n",
              "    <tr>\n",
              "      <th>206206</th>\n",
              "      <td>206207</td>\n",
              "      <td>Sparkling Water Grapefruit&amp;&amp;Organic Raspberrie...</td>\n",
              "    </tr>\n",
              "    <tr>\n",
              "      <th>206207</th>\n",
              "      <td>206208</td>\n",
              "      <td>Organic Whipping Cream&amp;&amp;Organic Lemon&amp;&amp;Peanut ...</td>\n",
              "    </tr>\n",
              "    <tr>\n",
              "      <th>206208</th>\n",
              "      <td>206209</td>\n",
              "      <td>Fabric Softener Sheets&amp;&amp;Banana&amp;&amp;Calcium Enrich...</td>\n",
              "    </tr>\n",
              "  </tbody>\n",
              "</table>\n",
              "<p>206209 rows × 2 columns</p>\n",
              "</div>"
            ],
            "text/plain": [
              "        유저 식별키                                    유저 구매 상품 식별키 묶음\n",
              "0            1  Organic Fuji Apples&&Bag of Organic Bananas&&H...\n",
              "1            2  Organic Roasted Sliced Chicken Breast&&Articho...\n",
              "2            3  Crackers, Crispy, Cheddar&&Organic Baby Spinac...\n",
              "3            4  Original Orange Juice&&Extra-Dry Cava&&Organic...\n",
              "4            5  Semi-Soft Cheese, Ripened&&Red Raspberries&&Or...\n",
              "...        ...                                                ...\n",
              "206204  206205  Hass Avocado&&Organic Whole String Cheese&&Ora...\n",
              "206205  206206  Large Alfresco Eggs&&Gluten Free Apple Cinnamo...\n",
              "206206  206207  Sparkling Water Grapefruit&&Organic Raspberrie...\n",
              "206207  206208  Organic Whipping Cream&&Organic Lemon&&Peanut ...\n",
              "206208  206209  Fabric Softener Sheets&&Banana&&Calcium Enrich...\n",
              "\n",
              "[206209 rows x 2 columns]"
            ]
          },
          "metadata": {
            "tags": []
          },
          "execution_count": 13
        }
      ]
    },
    {
      "cell_type": "markdown",
      "metadata": {
        "id": "ONTa8KzF7Tpd"
      },
      "source": [
        "# Product2Vector 생성"
      ]
    },
    {
      "cell_type": "markdown",
      "metadata": {
        "id": "tQ3s7oD7roAu"
      },
      "source": [
        "### Jaccard 유사도"
      ]
    },
    {
      "cell_type": "code",
      "metadata": {
        "id": "WOtZGHYeyqf3"
      },
      "source": [
        "# pd.Series([i in detail for i in falses]).value_counts()"
      ],
      "execution_count": 14,
      "outputs": []
    },
    {
      "cell_type": "code",
      "metadata": {
        "id": "-6NCE8Xsn_gE"
      },
      "source": [
        "def JaccardSimilarity(inp1, inp2):\n",
        "    list_inp1 = inp1.split()\n",
        "    list_inp2 = inp2.split()\n",
        "    mom = set(list_inp1).union(set(list_inp2))\n",
        "    son = set(list_inp1).intersection(set(list_inp2))\n",
        "    # print(mom)\n",
        "    # print(son)\n",
        "    return len(son)/len(mom)"
      ],
      "execution_count": 15,
      "outputs": []
    },
    {
      "cell_type": "code",
      "metadata": {
        "id": "q_diL3hJzkIo"
      },
      "source": [
        "# detail = TFoutputs['label'].unique().tolist()\n",
        "# print(detail[-1])\n",
        "# len(detail)"
      ],
      "execution_count": 16,
      "outputs": []
    },
    {
      "cell_type": "code",
      "metadata": {
        "id": "48v_MQRw1YVv",
        "colab": {
          "base_uri": "https://localhost:8080/",
          "height": 35
        },
        "outputId": "f21d5429-3abb-4c10-8fa2-f61d6ceaeb40"
      },
      "source": [
        "pred[filter[0]]"
      ],
      "execution_count": 17,
      "outputs": [
        {
          "output_type": "execute_result",
          "data": {
            "application/vnd.google.colaboratory.intrinsic+json": {
              "type": "string"
            },
            "text/plain": [
              "'Original Strawberry Banana Juice'"
            ]
          },
          "metadata": {
            "tags": []
          },
          "execution_count": 17
        }
      ]
    },
    {
      "cell_type": "code",
      "metadata": {
        "id": "WEsJSuI5ruEV",
        "colab": {
          "base_uri": "https://localhost:8080/"
        },
        "outputId": "36e4dcaf-f1bf-4ea4-b7ff-75a449f94e06"
      },
      "source": [
        "asdf = []\n",
        "\n",
        "for v in tqdm(falses):\n",
        "    max = 0\n",
        "    for d in detail:\n",
        "        score = JaccardSimilarity(v, d)\n",
        "        if max < score:\n",
        "            max = score\n",
        "            temp = d\n",
        "    if max == 0: asdf.append(v)\n",
        "    id = pred[pred == v].index\n",
        "    for i in id:\n",
        "        pred[i] = temp"
      ],
      "execution_count": 18,
      "outputs": [
        {
          "output_type": "stream",
          "text": [
            "100%|██████████| 318/318 [01:02<00:00,  5.06it/s]\n"
          ],
          "name": "stderr"
        }
      ]
    },
    {
      "cell_type": "code",
      "metadata": {
        "id": "fiv9jONu11sB",
        "colab": {
          "base_uri": "https://localhost:8080/"
        },
        "outputId": "bf5ab1b5-4bc2-4cec-efc1-3560e3a616d5"
      },
      "source": [
        "len(asdf)"
      ],
      "execution_count": 19,
      "outputs": [
        {
          "output_type": "execute_result",
          "data": {
            "text/plain": [
              "0"
            ]
          },
          "metadata": {
            "tags": []
          },
          "execution_count": 19
        }
      ]
    },
    {
      "cell_type": "code",
      "metadata": {
        "id": "eib8VT_h0IQs",
        "colab": {
          "base_uri": "https://localhost:8080/",
          "height": 35
        },
        "outputId": "c4c6e759-23e7-4492-e845-b900860fdf89"
      },
      "source": [
        "falses[0]"
      ],
      "execution_count": 20,
      "outputs": [
        {
          "output_type": "execute_result",
          "data": {
            "application/vnd.google.colaboratory.intrinsic+json": {
              "type": "string"
            },
            "text/plain": [
              "'Original Strawberry Banana Juice'"
            ]
          },
          "metadata": {
            "tags": []
          },
          "execution_count": 20
        }
      ]
    },
    {
      "cell_type": "code",
      "metadata": {
        "id": "yjgBebQk0xdz",
        "colab": {
          "base_uri": "https://localhost:8080/",
          "height": 35
        },
        "outputId": "c4cd086b-f1d7-48dc-86e9-b6e5353f6549"
      },
      "source": [
        "pred[filter[0]]"
      ],
      "execution_count": 21,
      "outputs": [
        {
          "output_type": "execute_result",
          "data": {
            "application/vnd.google.colaboratory.intrinsic+json": {
              "type": "string"
            },
            "text/plain": [
              "'Strawberry Banana Juice'"
            ]
          },
          "metadata": {
            "tags": []
          },
          "execution_count": 21
        }
      ]
    },
    {
      "cell_type": "code",
      "metadata": {
        "id": "tDALBoafz4DZ",
        "colab": {
          "base_uri": "https://localhost:8080/"
        },
        "outputId": "1200ceb4-02af-4a0b-ec3c-63e9ffb14506"
      },
      "source": [
        "pd.Series([i in detail for i in pred]).value_counts()"
      ],
      "execution_count": 22,
      "outputs": [
        {
          "output_type": "execute_result",
          "data": {
            "text/plain": [
              "True    27435\n",
              "dtype: int64"
            ]
          },
          "metadata": {
            "tags": []
          },
          "execution_count": 22
        }
      ]
    },
    {
      "cell_type": "code",
      "metadata": {
        "id": "91kYkoci3HNN",
        "colab": {
          "base_uri": "https://localhost:8080/",
          "height": 416
        },
        "outputId": "1253346c-1682-4e03-98e6-a3ccaf889f6f"
      },
      "source": [
        "changes = pd.DataFrame(columns=['Original', 'Changed'])\n",
        "changes['Original'] = falses\n",
        "changes['Changed'] = pred[filter].to_list()\n",
        "changes"
      ],
      "execution_count": 23,
      "outputs": [
        {
          "output_type": "execute_result",
          "data": {
            "text/html": [
              "<div>\n",
              "<style scoped>\n",
              "    .dataframe tbody tr th:only-of-type {\n",
              "        vertical-align: middle;\n",
              "    }\n",
              "\n",
              "    .dataframe tbody tr th {\n",
              "        vertical-align: top;\n",
              "    }\n",
              "\n",
              "    .dataframe thead th {\n",
              "        text-align: right;\n",
              "    }\n",
              "</style>\n",
              "<table border=\"1\" class=\"dataframe\">\n",
              "  <thead>\n",
              "    <tr style=\"text-align: right;\">\n",
              "      <th></th>\n",
              "      <th>Original</th>\n",
              "      <th>Changed</th>\n",
              "    </tr>\n",
              "  </thead>\n",
              "  <tbody>\n",
              "    <tr>\n",
              "      <th>0</th>\n",
              "      <td>Original Strawberry Banana Juice</td>\n",
              "      <td>Strawberry Banana Juice</td>\n",
              "    </tr>\n",
              "    <tr>\n",
              "      <th>1</th>\n",
              "      <td>Finely Shredded Mexican Four Cheese Blend</td>\n",
              "      <td>Cheese Finely Shredded Mexican Four Cheese Blend</td>\n",
              "    </tr>\n",
              "    <tr>\n",
              "      <th>2</th>\n",
              "      <td>Organic Turmeric Root</td>\n",
              "      <td>Organic Ground Turmeric Root</td>\n",
              "    </tr>\n",
              "    <tr>\n",
              "      <th>3</th>\n",
              "      <td>Natural Peanut Butter Flavor Bar</td>\n",
              "      <td>Peanut Butter Natural Protein Bar</td>\n",
              "    </tr>\n",
              "    <tr>\n",
              "      <th>4</th>\n",
              "      <td>Butcher Thick Cut Shredded Mozzarella Cheese</td>\n",
              "      <td>Mozzarella Fine Cut Shredded Cheese</td>\n",
              "    </tr>\n",
              "    <tr>\n",
              "      <th>...</th>\n",
              "      <td>...</td>\n",
              "      <td>...</td>\n",
              "    </tr>\n",
              "    <tr>\n",
              "      <th>313</th>\n",
              "      <td>White 2% Reduced Fat Milk</td>\n",
              "      <td>2% Reduced Fat Milk</td>\n",
              "    </tr>\n",
              "    <tr>\n",
              "      <th>314</th>\n",
              "      <td>Organic Coconut Bliss Salted Caramel Granola Bars</td>\n",
              "      <td>Organic Coconut Bliss Salted Caramel in Chocolate</td>\n",
              "    </tr>\n",
              "    <tr>\n",
              "      <th>315</th>\n",
              "      <td>Original Thin Crust Pizza</td>\n",
              "      <td>Original Thin Crust Pepperoni Pizza</td>\n",
              "    </tr>\n",
              "    <tr>\n",
              "      <th>316</th>\n",
              "      <td>Graduates Lil' Entrees with Carrots Mashed Pot...</td>\n",
              "      <td>Graduates Lil' Entrees with Carrots Mashed Pot...</td>\n",
              "    </tr>\n",
              "    <tr>\n",
              "      <th>317</th>\n",
              "      <td>Potato Chips, Chocolate Bar</td>\n",
              "      <td>Chocolate Bar</td>\n",
              "    </tr>\n",
              "  </tbody>\n",
              "</table>\n",
              "<p>318 rows × 2 columns</p>\n",
              "</div>"
            ],
            "text/plain": [
              "                                              Original                                            Changed\n",
              "0                     Original Strawberry Banana Juice                            Strawberry Banana Juice\n",
              "1            Finely Shredded Mexican Four Cheese Blend   Cheese Finely Shredded Mexican Four Cheese Blend\n",
              "2                                Organic Turmeric Root                       Organic Ground Turmeric Root\n",
              "3                     Natural Peanut Butter Flavor Bar                  Peanut Butter Natural Protein Bar\n",
              "4         Butcher Thick Cut Shredded Mozzarella Cheese                Mozzarella Fine Cut Shredded Cheese\n",
              "..                                                 ...                                                ...\n",
              "313                          White 2% Reduced Fat Milk                                2% Reduced Fat Milk\n",
              "314  Organic Coconut Bliss Salted Caramel Granola Bars  Organic Coconut Bliss Salted Caramel in Chocolate\n",
              "315                          Original Thin Crust Pizza                Original Thin Crust Pepperoni Pizza\n",
              "316  Graduates Lil' Entrees with Carrots Mashed Pot...  Graduates Lil' Entrees with Carrots Mashed Pot...\n",
              "317                        Potato Chips, Chocolate Bar                                      Chocolate Bar\n",
              "\n",
              "[318 rows x 2 columns]"
            ]
          },
          "metadata": {
            "tags": []
          },
          "execution_count": 23
        }
      ]
    },
    {
      "cell_type": "code",
      "metadata": {
        "id": "hEds17zQ3r-B"
      },
      "source": [
        "changes.to_csv(path + 'Instacart_changed_products_1.csv', mode='w', encoding='UTF-8')"
      ],
      "execution_count": 24,
      "outputs": []
    },
    {
      "cell_type": "markdown",
      "metadata": {
        "id": "7ijtnPz57Tpd"
      },
      "source": [
        "### Word2vec Model 학습"
      ]
    },
    {
      "cell_type": "code",
      "metadata": {
        "id": "xV3a9xIwcCSi"
      },
      "source": [
        "model = Word2Vec([item_list.split('&&') for item_list in user2item['유저 구매 상품 식별키 묶음']], size=100, window=5, min_count=1, negative=15, iter=10, sample=0.00001, sg=1)"
      ],
      "execution_count": 26,
      "outputs": []
    },
    {
      "cell_type": "code",
      "metadata": {
        "id": "t4tT-aO0QuDx"
      },
      "source": [
        "model.save(path + 'Instacart_word2vec.model')"
      ],
      "execution_count": 28,
      "outputs": []
    },
    {
      "cell_type": "code",
      "metadata": {
        "id": "L_HZvoHXcFYi",
        "scrolled": true
      },
      "source": [
        "# # 유저 성향 벡터 구하기 \n",
        "# user_propensity_vector = []\n",
        "# for item_list in tqdm_notebook(user2item['유저 구매 상품 식별키 묶음']):\n",
        "#     item_list = item_list.split('&&')\n",
        "#     bbb = np.array(np.ones(100))\n",
        "#     for aaa in item_list:\n",
        "#         bbb *= model[aaa]\n",
        "#         bbb = bbb/norm(bbb)\n",
        "#     user_propensity_vector.append(bbb)"
      ],
      "execution_count": null,
      "outputs": []
    },
    {
      "cell_type": "code",
      "metadata": {
        "id": "2vmgzv19cJIS"
      },
      "source": [
        "# 유사 product 찾기\n",
        "# def find_item(user, n=10):\n",
        "#     item_code = user2item[user2item['유저 식별키']==user]['유저 구매 상품 식별키 묶음'].values[0].split('&&')[-1]\n",
        "#     return list(dict(model.wv.most_similar(item_code, topn=n)))\n",
        "\n",
        "def find_item(item, n=10):\n",
        "    return list(dict(model.wv.most_similar(item, topn=n)))\n",
        "\n",
        "# 유저 유사도 계산 및 유사 유저 찾기\n",
        "def user_sim(A, B): \n",
        "    A_vec = user_propensity_vector[user2item[user2item['유저 식별키']==A].index[0]]\n",
        "    B_vec = user_propensity_vector[user2item[user2item['유저 식별키']==B].index[0]]\n",
        "    return euclidean(A_vec.reshape(-1, 1), B_vec.reshape(-1, 1))\n",
        "\n",
        "def find_user(user):\n",
        "    user_index = user2item[user2item['유저 식별키']==user].index[0]\n",
        "    min_user_similar = min(user_matrix_f[user_index].drop(user_index))\n",
        "    return user2item.iloc[{j:i for i, j in enumerate(user_matrix_f[user_index])}[min_user_similar]]['유저 식별키']"
      ],
      "execution_count": 30,
      "outputs": []
    },
    {
      "cell_type": "code",
      "metadata": {
        "id": "wJUCFhY6cNaA",
        "scrolled": true
      },
      "source": [
        "# # 유저 유사도 매트릭스\n",
        "# user_matrix_f = pd.DataFrame()\n",
        "# for i in tqdm_notebook(range(len(user_propensity_vector))):\n",
        "#     tmp = []\n",
        "#     for j in range(len(user_propensity_vector)):\n",
        "#         tmp.append(euclidean(user_propensity_vector[i], user_propensity_vector[j]))\n",
        "#     user_matrix_f = pd.concat([user_matrix_f, pd.DataFrame(tmp)], axis = 1)\n",
        "# user_matrix_f.columns = user_matrix_f.index\n",
        "# user_matrix_f"
      ],
      "execution_count": 31,
      "outputs": []
    },
    {
      "cell_type": "code",
      "metadata": {
        "id": "hicq1rkn7Tpe",
        "colab": {
          "base_uri": "https://localhost:8080/"
        },
        "outputId": "274b5093-e785-4861-c1df-3cc7ea65d20e"
      },
      "source": [
        "find_item(pred[0])"
      ],
      "execution_count": 32,
      "outputs": [
        {
          "output_type": "execute_result",
          "data": {
            "text/plain": [
              "['Synergy Organic Kombucha Gingerberry',\n",
              " 'Organic Raw Kombucha Gingerade',\n",
              " 'Organic Raw Multigreen Kobmbucha',\n",
              " 'Kombucha, Organic Raw, Citrus',\n",
              " 'Organic & Raw Strawberry Serenity Kombucha',\n",
              " 'Synergy Organic & Raw Cosmic Cranberry',\n",
              " 'Passionberry Bliss Kombucha Drink',\n",
              " 'Enlightened Organic Raw Kombucha',\n",
              " 'Guava Goddess Organic Kambucha',\n",
              " 'Hibiscus Organic Raw Kombucha']"
            ]
          },
          "metadata": {
            "tags": []
          },
          "execution_count": 32
        }
      ]
    },
    {
      "cell_type": "markdown",
      "metadata": {
        "id": "yhEuNMnT7Tpf"
      },
      "source": [
        "## 구매전 : Top-10 시나리오"
      ]
    },
    {
      "cell_type": "code",
      "metadata": {
        "id": "QhmociPrRSu-"
      },
      "source": [
        "def recommend(n=10, acc=False, pred=pred, TFoutputs=TFoutputs):\n",
        "    item_list = []\n",
        "    for v in tqdm_notebook(pred.to_list()):\n",
        "        if n > 1:\n",
        "            pp = find_item(v, n-1)\n",
        "            pp.append(v)\n",
        "            item_list.append(pp)\n",
        "        else: item_list.append(v)\n",
        "    TFoutputs['추천 list'] = item_list\n",
        "    # user2item['정답 유무'] = [True if label in recommendation(user) else False for user, label in tqdm_notebook(zip(user2item['유저 식별키'], user2item['라벨']), total=len(user2item['유저 식별키']))]\n",
        "    TFoutputs['정답 유무'] = [True if label in item else False for label, item in tqdm_notebook(zip(TFoutputs['label'], TFoutputs['추천 list']), total=(len(TFoutputs)))]\n",
        "    # 추천 알고리듬 구매전 Top-10 성능평가\n",
        "    \n",
        "    if acc:\n",
        "        return TFoutputs[TFoutputs['정답 유무']==True].shape[0]/(TFoutputs.shape[0])\n",
        "\n",
        "    return TFoutputs"
      ],
      "execution_count": 39,
      "outputs": []
    },
    {
      "cell_type": "code",
      "metadata": {
        "colab": {
          "base_uri": "https://localhost:8080/",
          "height": 84,
          "referenced_widgets": [
            "29a1852dfefe43eea307bd00aab4c78c",
            "c07ea895874d457c870def755b69b996",
            "4ea0924a7e0144c0b2ce0d3bb62c5510",
            "e6bef11db99d45f7b0a73399d6d0d103",
            "61f2d34901ac4c188592476d9affb38c",
            "5b97b5ebf6944e42ac5caead4d3b0b5f",
            "ea1b4927b0064944b6c1353edbcbb75e",
            "2fc793c0392f4aa59c03265387359c79"
          ]
        },
        "id": "szxf1U_nQ78S",
        "outputId": "259b1ce9-79fb-4398-ba3e-a0ed75f05757"
      },
      "source": [
        "recommend(n=3, acc=True)"
      ],
      "execution_count": 36,
      "outputs": [
        {
          "output_type": "display_data",
          "data": {
            "application/vnd.jupyter.widget-view+json": {
              "model_id": "29a1852dfefe43eea307bd00aab4c78c",
              "version_minor": 0,
              "version_major": 2
            },
            "text/plain": [
              "HBox(children=(FloatProgress(value=0.0, max=27435.0), HTML(value='')))"
            ]
          },
          "metadata": {
            "tags": []
          }
        },
        {
          "output_type": "stream",
          "text": [
            "\n"
          ],
          "name": "stdout"
        },
        {
          "output_type": "execute_result",
          "data": {
            "text/plain": [
              "0.02711864406779661"
            ]
          },
          "metadata": {
            "tags": []
          },
          "execution_count": 36
        }
      ]
    },
    {
      "cell_type": "code",
      "metadata": {
        "id": "jyZiDRH6TvFu",
        "colab": {
          "base_uri": "https://localhost:8080/",
          "height": 84,
          "referenced_widgets": [
            "fd5ed6879fdc43198f11e24b5a91d815",
            "dff0c0e39d394b5e90eb31975136cd92",
            "7c44e9fe6eee497888c0c433df120b07",
            "57be0bb1115a4b378cd57820c80529fa",
            "701a9423680f431b98725bb5f1e77b40",
            "e16e53a3736c4b8f982904e3b9f3a014",
            "85c3fadb40824e51b4a310381f9ae6a2",
            "138e385f60954c989e18383f9c3cc8c5"
          ]
        },
        "outputId": "eb50f1f2-e929-4630-84fb-d74a77be1e09"
      },
      "source": [
        "recommend(n=5, acc=True)"
      ],
      "execution_count": 37,
      "outputs": [
        {
          "output_type": "display_data",
          "data": {
            "application/vnd.jupyter.widget-view+json": {
              "model_id": "fd5ed6879fdc43198f11e24b5a91d815",
              "version_minor": 0,
              "version_major": 2
            },
            "text/plain": [
              "HBox(children=(FloatProgress(value=0.0, max=27435.0), HTML(value='')))"
            ]
          },
          "metadata": {
            "tags": []
          }
        },
        {
          "output_type": "stream",
          "text": [
            "\n"
          ],
          "name": "stdout"
        },
        {
          "output_type": "execute_result",
          "data": {
            "text/plain": [
              "0.031346819755786404"
            ]
          },
          "metadata": {
            "tags": []
          },
          "execution_count": 37
        }
      ]
    },
    {
      "cell_type": "code",
      "metadata": {
        "id": "8w2fjzSUp5nH",
        "colab": {
          "base_uri": "https://localhost:8080/",
          "height": 133,
          "referenced_widgets": [
            "214a5b49a95444168ec5a8f142295dbe",
            "e95467f399cf4c749dc65710ca5807f7",
            "6aea507eb9c14502922a0c661ca3e8ca",
            "c438bc98294541269c0cfd0fba543667",
            "ec2c1e7c937847ffb76c5bb06b4a03a1",
            "7bb9a1adc35f4044a23802dab4b1a0cb",
            "dd73f8d4c10649b0a1cd2a4305b82705",
            "c3311756283d4b21bd6217bd2f50a558",
            "270a6dfe2b814c9ba5a43a16baea2993",
            "18ecc4a5a95f472d95b0fd6668a3a178",
            "ef1464ba6a8346c1b15b54d115b5beec",
            "03e6464b5baf4e019a5dc0fedbf12976",
            "afa9d39d09da4caab791fb51eec51e67",
            "44f859dbb24641768456b088b43d548a",
            "ac152c87162946dabcc3e9c1fcc9a5bb",
            "34b3a444e46f4e2aa256bdb550810af8"
          ]
        },
        "outputId": "76a42e30-434f-4057-92f2-09d1b69f587e"
      },
      "source": [
        "recommend(n=10, acc=True)"
      ],
      "execution_count": 40,
      "outputs": [
        {
          "output_type": "display_data",
          "data": {
            "application/vnd.jupyter.widget-view+json": {
              "model_id": "214a5b49a95444168ec5a8f142295dbe",
              "version_minor": 0,
              "version_major": 2
            },
            "text/plain": [
              "HBox(children=(FloatProgress(value=0.0, max=27435.0), HTML(value='')))"
            ]
          },
          "metadata": {
            "tags": []
          }
        },
        {
          "output_type": "stream",
          "text": [
            "\n"
          ],
          "name": "stdout"
        },
        {
          "output_type": "display_data",
          "data": {
            "application/vnd.jupyter.widget-view+json": {
              "model_id": "270a6dfe2b814c9ba5a43a16baea2993",
              "version_minor": 0,
              "version_major": 2
            },
            "text/plain": [
              "HBox(children=(FloatProgress(value=0.0, max=27435.0), HTML(value='')))"
            ]
          },
          "metadata": {
            "tags": []
          }
        },
        {
          "output_type": "stream",
          "text": [
            "\n"
          ],
          "name": "stdout"
        },
        {
          "output_type": "execute_result",
          "data": {
            "text/plain": [
              "0.04239110625113906"
            ]
          },
          "metadata": {
            "tags": []
          },
          "execution_count": 40
        }
      ]
    },
    {
      "cell_type": "code",
      "metadata": {
        "id": "e-iKPO41T57o",
        "colab": {
          "base_uri": "https://localhost:8080/",
          "height": 133,
          "referenced_widgets": [
            "b066148aadc74b9fb60a3bc5af91b41a",
            "4dc85e09bb15457fa3c963a6da45e404",
            "800f0ff0e3a64320aaeafad6c3075494",
            "59f89449d2504e0da0c1f6d43bd5bd61",
            "2f169570d4af4c2583bd31a053964f10",
            "6fac1d978a3848b88d42b66a8947e646",
            "d3019789ffd3484a849f4f3af0f4ff1e",
            "7d107be48ce943fab40ea110b702ca39",
            "2bdfac70db9643058bf20bffb55a1803",
            "276456d09353488cb37ec684df74b23c",
            "31d6502fd8bb45a7a42d56ff6f1ca651",
            "e876dc5e9a054d80b4982103fd1ec188",
            "eaf2fcedbc144163998d31aa1060fd57",
            "cd6b02c50f784f6d8974cd00b1e29b47",
            "278ea4ee5c1e40b79346db1b7e0caa75",
            "74ed234627104a6f812b6b235fa59aad"
          ]
        },
        "outputId": "b1d70ed3-9128-46e2-beaf-adb1bcdf2218"
      },
      "source": [
        "recommend(n=20, acc=True)"
      ],
      "execution_count": 41,
      "outputs": [
        {
          "output_type": "display_data",
          "data": {
            "application/vnd.jupyter.widget-view+json": {
              "model_id": "b066148aadc74b9fb60a3bc5af91b41a",
              "version_minor": 0,
              "version_major": 2
            },
            "text/plain": [
              "HBox(children=(FloatProgress(value=0.0, max=27435.0), HTML(value='')))"
            ]
          },
          "metadata": {
            "tags": []
          }
        },
        {
          "output_type": "stream",
          "text": [
            "\n"
          ],
          "name": "stdout"
        },
        {
          "output_type": "display_data",
          "data": {
            "application/vnd.jupyter.widget-view+json": {
              "model_id": "2bdfac70db9643058bf20bffb55a1803",
              "version_minor": 0,
              "version_major": 2
            },
            "text/plain": [
              "HBox(children=(FloatProgress(value=0.0, max=27435.0), HTML(value='')))"
            ]
          },
          "metadata": {
            "tags": []
          }
        },
        {
          "output_type": "stream",
          "text": [
            "\n"
          ],
          "name": "stdout"
        },
        {
          "output_type": "execute_result",
          "data": {
            "text/plain": [
              "0.052925095680699835"
            ]
          },
          "metadata": {
            "tags": []
          },
          "execution_count": 41
        }
      ]
    },
    {
      "cell_type": "code",
      "metadata": {
        "id": "MoKad0ot4BfT",
        "colab": {
          "base_uri": "https://localhost:8080/",
          "height": 704,
          "referenced_widgets": [
            "623d359fab894b55980b8348e022b527",
            "a1c36f231b5f4a78bfc87a074b7470ac",
            "62d7a9e7fbef4750b1b525ef393250f8",
            "3c7f463014de42c59a7dfd6f3502e631",
            "4dab5598ce1a49bd99672815b8a7272c",
            "7f31eddd5c2544ad810ed202001f2e8f",
            "3eacec964beb46e3b4257c8a8acd4e5e",
            "a6eb5dfb85e9453ba05801e158dfdbc7",
            "2c78884a14d64a13a83a81fb000c34db",
            "e016fb3d58c94426873b600e8da170e1",
            "4e8c9cdc342742998cc6f75e7d1707c9",
            "1cf268cb83074360bfeb4dc1996797b0",
            "982f6a996e4849349ff220631e0670ea",
            "85b861b8594f41ef8f2a9dd831569ac0",
            "d3d346f4c9f94c9d8a3d82aaea225abd",
            "d0516dedf51d45158b3050bf848bf041"
          ]
        },
        "outputId": "011ab159-2df9-4f33-95bc-45b624e9833b"
      },
      "source": [
        "recommend()"
      ],
      "execution_count": 42,
      "outputs": [
        {
          "output_type": "display_data",
          "data": {
            "application/vnd.jupyter.widget-view+json": {
              "model_id": "623d359fab894b55980b8348e022b527",
              "version_minor": 0,
              "version_major": 2
            },
            "text/plain": [
              "HBox(children=(FloatProgress(value=0.0, max=27435.0), HTML(value='')))"
            ]
          },
          "metadata": {
            "tags": []
          }
        },
        {
          "output_type": "stream",
          "text": [
            "\n"
          ],
          "name": "stdout"
        },
        {
          "output_type": "display_data",
          "data": {
            "application/vnd.jupyter.widget-view+json": {
              "model_id": "2c78884a14d64a13a83a81fb000c34db",
              "version_minor": 0,
              "version_major": 2
            },
            "text/plain": [
              "HBox(children=(FloatProgress(value=0.0, max=27435.0), HTML(value='')))"
            ]
          },
          "metadata": {
            "tags": []
          }
        },
        {
          "output_type": "stream",
          "text": [
            "\n"
          ],
          "name": "stdout"
        },
        {
          "output_type": "execute_result",
          "data": {
            "text/html": [
              "<div>\n",
              "<style scoped>\n",
              "    .dataframe tbody tr th:only-of-type {\n",
              "        vertical-align: middle;\n",
              "    }\n",
              "\n",
              "    .dataframe tbody tr th {\n",
              "        vertical-align: top;\n",
              "    }\n",
              "\n",
              "    .dataframe thead th {\n",
              "        text-align: right;\n",
              "    }\n",
              "</style>\n",
              "<table border=\"1\" class=\"dataframe\">\n",
              "  <thead>\n",
              "    <tr style=\"text-align: right;\">\n",
              "      <th></th>\n",
              "      <th>train</th>\n",
              "      <th>label</th>\n",
              "      <th>split_train_token</th>\n",
              "      <th>split_label_token</th>\n",
              "      <th>predict_item</th>\n",
              "      <th>filter</th>\n",
              "      <th>추천 list</th>\n",
              "      <th>정답 유무</th>\n",
              "    </tr>\n",
              "  </thead>\n",
              "  <tbody>\n",
              "    <tr>\n",
              "      <th>0</th>\n",
              "      <td>Health Super Lysine+ Immune System Liquid Extr...</td>\n",
              "      <td>Wellness Formula</td>\n",
              "      <td>&lt;esp&gt; Health Super Lysine+ Immune System Liqui...</td>\n",
              "      <td>&lt;esp&gt; Wellness Formula &lt;esp&gt;</td>\n",
              "      <td>&lt;esp&gt; Trilogy Kombucha Drink &lt;esp&gt;</td>\n",
              "      <td>True</td>\n",
              "      <td>[Synergy Organic Kombucha Gingerberry, Organic...</td>\n",
              "      <td>False</td>\n",
              "    </tr>\n",
              "    <tr>\n",
              "      <th>1</th>\n",
              "      <td>Tiny Fruits Blueberry Apple&amp;&amp;Organic Freeze Dr...</td>\n",
              "      <td>Naturals Chicken Nuggets</td>\n",
              "      <td>&lt;esp&gt; Tiny Fruits Blueberry Apple &lt;esp&gt; Organi...</td>\n",
              "      <td>&lt;esp&gt; Naturals Chicken Nuggets &lt;esp&gt;</td>\n",
              "      <td>&lt;esp&gt; Organic Granny Smith Apple &lt;esp&gt;</td>\n",
              "      <td>True</td>\n",
              "      <td>[Organic Navel Orange, Organic D'Anjou Pears, ...</td>\n",
              "      <td>False</td>\n",
              "    </tr>\n",
              "    <tr>\n",
              "      <th>2</th>\n",
              "      <td>Organic Pure Lime Juice&amp;&amp;Pure Lemon Juice&amp;&amp;Uns...</td>\n",
              "      <td>Cashew Milk Salted Caramel Cluster Non-Dairy F...</td>\n",
              "      <td>&lt;esp&gt; Organic Pure Lime Juice &lt;esp&gt; Pure Lemon...</td>\n",
              "      <td>&lt;esp&gt; Cashew Milk Salted Caramel Cluster Non-D...</td>\n",
              "      <td>&lt;esp&gt; Organic Baby Spinach &lt;esp&gt;</td>\n",
              "      <td>True</td>\n",
              "      <td>[Organic Unsweetened Almond Milk, Organic Froz...</td>\n",
              "      <td>False</td>\n",
              "    </tr>\n",
              "    <tr>\n",
              "      <th>3</th>\n",
              "      <td>Organic Lemon&amp;&amp;Bean &amp; Rice Chips Nacho&amp;&amp;Gluten...</td>\n",
              "      <td>Compostable Basket Coffee Filters</td>\n",
              "      <td>&lt;esp&gt; Organic Lemon &lt;esp&gt; Bean &amp; Rice Chips Na...</td>\n",
              "      <td>&lt;esp&gt; Compostable Basket Coffee Filters &lt;esp&gt;</td>\n",
              "      <td>&lt;esp&gt; Crackers Cheddar Bunnies Snack Packs &lt;esp&gt;</td>\n",
              "      <td>True</td>\n",
              "      <td>[Organic AppleApple, Apple Cinnamon GoGo Squee...</td>\n",
              "      <td>False</td>\n",
              "    </tr>\n",
              "    <tr>\n",
              "      <th>4</th>\n",
              "      <td>Roasted Turkey&amp;&amp;Natural Free &amp; Clear Dishwashe...</td>\n",
              "      <td>Banana</td>\n",
              "      <td>&lt;esp&gt; Roasted Turkey &lt;esp&gt; Natural Free &amp; Clea...</td>\n",
              "      <td>&lt;esp&gt; Banana &lt;esp&gt;</td>\n",
              "      <td>&lt;esp&gt; Organic Whole Wheat Fusilli &lt;esp&gt;</td>\n",
              "      <td>True</td>\n",
              "      <td>[Organic Whole Wheat Penne Rigate, Organic Who...</td>\n",
              "      <td>False</td>\n",
              "    </tr>\n",
              "    <tr>\n",
              "      <th>...</th>\n",
              "      <td>...</td>\n",
              "      <td>...</td>\n",
              "      <td>...</td>\n",
              "      <td>...</td>\n",
              "      <td>...</td>\n",
              "      <td>...</td>\n",
              "      <td>...</td>\n",
              "      <td>...</td>\n",
              "    </tr>\n",
              "    <tr>\n",
              "      <th>27430</th>\n",
              "      <td>Cheddar Snack Crackers Cheddar Bunnies&amp;&amp;Olive ...</td>\n",
              "      <td>Banana</td>\n",
              "      <td>&lt;esp&gt; Cheddar Snack Crackers Cheddar Bunnies &lt;...</td>\n",
              "      <td>&lt;esp&gt; Banana &lt;esp&gt;</td>\n",
              "      <td>&lt;esp&gt; Organic Whole Milk &lt;esp&gt;</td>\n",
              "      <td>True</td>\n",
              "      <td>[Organic Frozen Peas, Organic Strawberries, Or...</td>\n",
              "      <td>False</td>\n",
              "    </tr>\n",
              "    <tr>\n",
              "      <th>27431</th>\n",
              "      <td>Frozen Organic Wild Blueberries&amp;&amp;Organic Whole...</td>\n",
              "      <td>Organic Whole Milk</td>\n",
              "      <td>&lt;esp&gt; Frozen Organic Wild Blueberries &lt;esp&gt; Or...</td>\n",
              "      <td>&lt;esp&gt; Organic Whole Milk &lt;esp&gt;</td>\n",
              "      <td>&lt;esp&gt; Organic Baby Spinach &lt;esp&gt;</td>\n",
              "      <td>True</td>\n",
              "      <td>[Organic Unsweetened Almond Milk, Organic Froz...</td>\n",
              "      <td>False</td>\n",
              "    </tr>\n",
              "    <tr>\n",
              "      <th>27432</th>\n",
              "      <td>Organic Raspberries&amp;&amp;Frozen Organic Wild Blueb...</td>\n",
              "      <td>Organic Whole Strawberries</td>\n",
              "      <td>&lt;esp&gt; Organic Raspberries &lt;esp&gt; Frozen Organic...</td>\n",
              "      <td>&lt;esp&gt; Organic Whole Strawberries &lt;esp&gt;</td>\n",
              "      <td>&lt;esp&gt; Organic Baby Spinach &lt;esp&gt;</td>\n",
              "      <td>True</td>\n",
              "      <td>[Organic Unsweetened Almond Milk, Organic Froz...</td>\n",
              "      <td>False</td>\n",
              "    </tr>\n",
              "    <tr>\n",
              "      <th>27433</th>\n",
              "      <td>Turkey Bacon&amp;&amp;Egg, Basil Pesto, &amp; Cheese Scram...</td>\n",
              "      <td>Deli Fresh Slow Roasted Cured Roast Beef</td>\n",
              "      <td>&lt;esp&gt; Turkey Bacon &lt;esp&gt; Egg, Basil Pesto, &amp; C...</td>\n",
              "      <td>&lt;esp&gt; Deli Fresh Slow Roasted Cured Roast Beef...</td>\n",
              "      <td>&lt;esp&gt; Pesto Tortellini  Bowls &lt;esp&gt;</td>\n",
              "      <td>True</td>\n",
              "      <td>[Broccoli &amp; Cheddar Bake Meal Bowl, Cheese Rav...</td>\n",
              "      <td>False</td>\n",
              "    </tr>\n",
              "    <tr>\n",
              "      <th>27434</th>\n",
              "      <td>Organic Strawberries&amp;&amp;Petit Suisse Fruit&amp;&amp;Orga...</td>\n",
              "      <td>Organic Fresh Squeezed Orange Juice</td>\n",
              "      <td>&lt;esp&gt; Organic Strawberries &lt;esp&gt; Petit Suisse ...</td>\n",
              "      <td>&lt;esp&gt; Organic Fresh Squeezed Orange Juice &lt;esp&gt;</td>\n",
              "      <td>&lt;esp&gt; Organic Vanilla Almond Milk &lt;esp&gt;</td>\n",
              "      <td>True</td>\n",
              "      <td>[Organic Original Almond Milk, Organic Creamy ...</td>\n",
              "      <td>False</td>\n",
              "    </tr>\n",
              "  </tbody>\n",
              "</table>\n",
              "<p>27435 rows × 8 columns</p>\n",
              "</div>"
            ],
            "text/plain": [
              "                                                   train  ...  정답 유무\n",
              "0      Health Super Lysine+ Immune System Liquid Extr...  ...  False\n",
              "1      Tiny Fruits Blueberry Apple&&Organic Freeze Dr...  ...  False\n",
              "2      Organic Pure Lime Juice&&Pure Lemon Juice&&Uns...  ...  False\n",
              "3      Organic Lemon&&Bean & Rice Chips Nacho&&Gluten...  ...  False\n",
              "4      Roasted Turkey&&Natural Free & Clear Dishwashe...  ...  False\n",
              "...                                                  ...  ...    ...\n",
              "27430  Cheddar Snack Crackers Cheddar Bunnies&&Olive ...  ...  False\n",
              "27431  Frozen Organic Wild Blueberries&&Organic Whole...  ...  False\n",
              "27432  Organic Raspberries&&Frozen Organic Wild Blueb...  ...  False\n",
              "27433  Turkey Bacon&&Egg, Basil Pesto, & Cheese Scram...  ...  False\n",
              "27434  Organic Strawberries&&Petit Suisse Fruit&&Orga...  ...  False\n",
              "\n",
              "[27435 rows x 8 columns]"
            ]
          },
          "metadata": {
            "tags": []
          },
          "execution_count": 42
        }
      ]
    },
    {
      "cell_type": "code",
      "metadata": {
        "id": "813haTsJLLaH"
      },
      "source": [
        "# item_list = []\n",
        "# for v in pred.to_list():\n",
        "#     pp = find_item(v)\n",
        "#     item_list.append(pp)\n",
        "\n",
        "# item_list[:2]"
      ],
      "execution_count": null,
      "outputs": []
    },
    {
      "cell_type": "code",
      "metadata": {
        "id": "06Sa3TjS7Tpf"
      },
      "source": [
        "# def recommendation(user):\n",
        "#     n = 10\n",
        "#     while True:\n",
        "#         recom_item = set(user2item[user2item['유저 식별키']==find_user(user)]['유저 구매 상품 식별키 묶음'].values[0].split('&&')) - set(user2item[user2item['유저 식별키']==user]['유저 구매 상품 식별키 묶음'].values[0].split('&&'))\n",
        "#         n += 10\n",
        "#         if len(recom_item) >= 10:\n",
        "#             return list(recom_item)[:10]           #Top10\n",
        "#         if n >= 1000:\n",
        "#             return list(recom_item)"
      ],
      "execution_count": null,
      "outputs": []
    },
    {
      "cell_type": "code",
      "metadata": {
        "id": "TvG6Py2-7Tpf"
      },
      "source": [
        "# # 추천 List 생성\n",
        "\n",
        "# rec_list = []\n",
        "# for i in tqdm_notebook(user2item['유저 식별키'].unique()):\n",
        "#     r_list = list(recommendation(i))\n",
        "#     rec_list.append(r_list)\n",
        "# rec_list\n",
        "\n",
        "# user2rec = pd.DataFrame({'유저 식별키':user2item['유저 식별키'].unique(),\n",
        "#                          '추천 list':[str(i).replace('[','').replace(']','').replace(\"'\",'').replace(',','&&') \n",
        "#                                    for i in rec_list]})\n",
        "# user2rec"
      ],
      "execution_count": null,
      "outputs": []
    },
    {
      "cell_type": "code",
      "metadata": {
        "id": "dWT111O0Q_Zk"
      },
      "source": [
        "# TFoutputs['추천 list'] = item_list"
      ],
      "execution_count": null,
      "outputs": []
    },
    {
      "cell_type": "code",
      "metadata": {
        "id": "pR9AIf9OcPFW",
        "scrolled": true
      },
      "source": [
        "# # user2item['정답 유무'] = [True if label in recommendation(user) else False for user, label in tqdm_notebook(zip(user2item['유저 식별키'], user2item['라벨']), total=len(user2item['유저 식별키']))]\n",
        "# TFoutputs['정답 유무'] = [True if label in item else False for label, item in tqdm_notebook(zip(TFoutputs['label'], TFoutputs['추천 list']), total=(len(TFoutputs)))]"
      ],
      "execution_count": null,
      "outputs": []
    },
    {
      "cell_type": "code",
      "metadata": {
        "id": "Q5isQ6BFSAsC"
      },
      "source": [
        "# TFoutputs"
      ],
      "execution_count": null,
      "outputs": []
    },
    {
      "cell_type": "code",
      "metadata": {
        "id": "7ho1Gknv7Tpg"
      },
      "source": [
        "# # 추천 알고리듬 구매전 Top-10 성능평가\n",
        "\n",
        "# TFoutputs[TFoutputs['정답 유무']==True].shape[0]/(TFoutputs.shape[0] + falses)"
      ],
      "execution_count": null,
      "outputs": []
    },
    {
      "cell_type": "code",
      "metadata": {
        "id": "z9PtAzr57Tpg"
      },
      "source": [
        ""
      ],
      "execution_count": null,
      "outputs": []
    },
    {
      "cell_type": "markdown",
      "metadata": {
        "id": "1393Vl2t7Tpg"
      },
      "source": [
        "# 구매후(교-차)  : Top-10 시나리오"
      ]
    },
    {
      "cell_type": "code",
      "metadata": {
        "id": "a58XEWav7Tpg"
      },
      "source": [
        "# def recommendation(user):\n",
        "#     n = 10\n",
        "#     while True:\n",
        "#         recom_item = set(set(user2item[user2item['유저 식별키']==find_user(user)]['유저 구매 상품 식별키 묶음'].values[0].split('@')) & set(find_item(user, n))) - set(user2item[user2item['유저 식별키']==user]['유저 구매 상품 식별키 묶음'].values[0].split('@'))\n",
        "#         n += 10   \n",
        "#         if len(recom_item) >= 10:\n",
        "#             return list(recom_item)[:10]            #Top10\n",
        "#         if n >= 1000:\n",
        "#             return list(recom_item)"
      ],
      "execution_count": null,
      "outputs": []
    },
    {
      "cell_type": "code",
      "metadata": {
        "id": "3FXqdTTJ7Tpg"
      },
      "source": [
        "# # 추천 List 생성\n",
        "\n",
        "# rec_list = []\n",
        "# for i in tqdm_notebook(df_f2['고객번호'].unique()):\n",
        "#     r_list = list(recommendation(i))\n",
        "#     rec_list.append(r_list)\n",
        "# rec_list\n",
        "\n",
        "# user2rec = pd.DataFrame({'유저 식별키':df_f2['고객번호'].unique(),\n",
        "#                          '추천 list':[str(i).replace('[','').replace(']','').replace(\"'\",'').replace(',','@') \n",
        "#                                     for i in rec_list]})\n",
        "# user2rec"
      ],
      "execution_count": null,
      "outputs": []
    },
    {
      "cell_type": "code",
      "metadata": {
        "id": "xrDsheOC7Tph"
      },
      "source": [
        "# user2item['정답 유무'] = [True if label in recommendation(user) else False for user, label in tqdm_notebook(zip(user2item['유저 식별키'], user2item['라벨']), total=len(user2item['유저 식별키']))]"
      ],
      "execution_count": null,
      "outputs": []
    },
    {
      "cell_type": "code",
      "metadata": {
        "id": "1FD-5uwY7Tph"
      },
      "source": [
        "# # 추천 알고리듬 구매후(교-차) Top-10 성능평가\n",
        "\n",
        "\n",
        "# user2item[user2item['정답 유무']==True].shape[0]/user2item.shape[0]*100 #Top10"
      ],
      "execution_count": null,
      "outputs": []
    },
    {
      "cell_type": "code",
      "metadata": {
        "id": "zRRJ0EK-7Tph"
      },
      "source": [
        ""
      ],
      "execution_count": null,
      "outputs": []
    },
    {
      "cell_type": "markdown",
      "metadata": {
        "id": "Ktg3T6o67Tph"
      },
      "source": [
        "# 구매후(합-차) : Top-10 시나리오"
      ]
    },
    {
      "cell_type": "code",
      "metadata": {
        "id": "ygiJnj537Tph"
      },
      "source": [
        "# def recommendation(user):\n",
        "#     n = 20\n",
        "#     while True:\n",
        "#         recom_item = set(set(user2item[user2item['유저 식별키']==find_user(user)]['유저 구매 상품 식별키 묶음'].values[0].split('@')) | set(find_item(user, n))) - set(user2item[user2item['유저 식별키']==user]['유저 구매 상품 식별키 묶음'].values[0].split('@'))\n",
        "#         n += 10   \n",
        "#         if len(recom_item) >= 10:\n",
        "#             return list(recom_item)[:10]              #Top10\n",
        "#         if n >= 1000:\n",
        "#             return list(recom_item)"
      ],
      "execution_count": null,
      "outputs": []
    },
    {
      "cell_type": "code",
      "metadata": {
        "id": "DzdCjp9Z7Tph"
      },
      "source": [
        "# # 추천 List 생성\n",
        "\n",
        "# rec_list = []\n",
        "# for i in tqdm_notebook(df_f2['고객번호'].unique()):\n",
        "#     r_list = list(recommendation(i))\n",
        "#     rec_list.append(r_list)\n",
        "# rec_list\n",
        "\n",
        "# user2rec = pd.DataFrame({'유저 식별키':df_f2['고객번호'].unique(),\n",
        "#                          '추천 list':[str(i).replace('[','').replace(']','').replace(\"'\",'').replace(',','@') \n",
        "#                                     for i in rec_list]})\n",
        "# user2rec"
      ],
      "execution_count": null,
      "outputs": []
    },
    {
      "cell_type": "code",
      "metadata": {
        "id": "dzB0cpYF7Tpi"
      },
      "source": [
        "# user2item['정답 유무'] = [True if label in recommendation(user) else False for user, label in tqdm_notebook(zip(user2item['유저 식별키'], user2item['라벨']), total=len(user2item['유저 식별키']))]"
      ],
      "execution_count": null,
      "outputs": []
    },
    {
      "cell_type": "code",
      "metadata": {
        "scrolled": true,
        "id": "Ks6P431a7Tpi"
      },
      "source": [
        "# # 추천 알고리듬 구매후(합-차) Top-10 성능평가\n",
        "\n",
        "# user2item[user2item['정답 유무']==True].shape[0]/user2item.shape[0]*100 #Top10"
      ],
      "execution_count": null,
      "outputs": []
    },
    {
      "cell_type": "code",
      "metadata": {
        "id": "JKy8ekdD7Tpj"
      },
      "source": [
        ""
      ],
      "execution_count": null,
      "outputs": []
    },
    {
      "cell_type": "code",
      "metadata": {
        "id": "DbWDf2UT7Tpj"
      },
      "source": [
        ""
      ],
      "execution_count": null,
      "outputs": []
    },
    {
      "cell_type": "code",
      "metadata": {
        "id": "GQO_uf8S7Tpj"
      },
      "source": [
        ""
      ],
      "execution_count": null,
      "outputs": []
    }
  ]
}