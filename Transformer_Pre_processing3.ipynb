{
  "nbformat": 4,
  "nbformat_minor": 0,
  "metadata": {
    "colab": {
      "name": "Transformer_Pre-processing3.ipynb",
      "provenance": [],
      "collapsed_sections": [],
      "mount_file_id": "1uO5-Bjc3xI3V3-9aLgaN5e88ufG-ZSdE",
      "authorship_tag": "ABX9TyOAFiSLGIOxhjBEDbFlMWMQ",
      "include_colab_link": true
    },
    "kernelspec": {
      "name": "python3",
      "display_name": "Python 3"
    }
  },
  "cells": [
    {
      "cell_type": "markdown",
      "metadata": {
        "id": "view-in-github",
        "colab_type": "text"
      },
      "source": [
        "<a href=\"https://colab.research.google.com/github/hoky1227/bert_based-recommendation/blob/main/Transformer_Pre_processing3.ipynb\" target=\"_parent\"><img src=\"https://colab.research.google.com/assets/colab-badge.svg\" alt=\"Open In Colab\"/></a>"
      ]
    },
    {
      "cell_type": "code",
      "metadata": {
        "id": "6dq-T8350NqV",
        "colab": {
          "base_uri": "https://localhost:8080/"
        },
        "outputId": "57b8530a-e606-4c78-9b69-761c0deb8d41"
      },
      "source": [
        "from google.colab import drive\n",
        "\n",
        "drive.mount('/content/drive')"
      ],
      "execution_count": 1,
      "outputs": [
        {
          "output_type": "stream",
          "text": [
            "Drive already mounted at /content/drive; to attempt to forcibly remount, call drive.mount(\"/content/drive\", force_remount=True).\n"
          ],
          "name": "stdout"
        }
      ]
    },
    {
      "cell_type": "code",
      "metadata": {
        "id": "QCUDdGEo8vRr",
        "colab": {
          "base_uri": "https://localhost:8080/"
        },
        "outputId": "e669ca4e-f23f-4690-8e3a-a2ed1988257e"
      },
      "source": [
        "!pip install transformers\n",
        "# !pip install pytorch-transformers"
      ],
      "execution_count": 2,
      "outputs": [
        {
          "output_type": "stream",
          "text": [
            "Requirement already satisfied: transformers in /usr/local/lib/python3.7/dist-packages (4.4.2)\n",
            "Requirement already satisfied: packaging in /usr/local/lib/python3.7/dist-packages (from transformers) (20.9)\n",
            "Requirement already satisfied: requests in /usr/local/lib/python3.7/dist-packages (from transformers) (2.23.0)\n",
            "Requirement already satisfied: regex!=2019.12.17 in /usr/local/lib/python3.7/dist-packages (from transformers) (2019.12.20)\n",
            "Requirement already satisfied: importlib-metadata; python_version < \"3.8\" in /usr/local/lib/python3.7/dist-packages (from transformers) (3.8.1)\n",
            "Requirement already satisfied: tqdm>=4.27 in /usr/local/lib/python3.7/dist-packages (from transformers) (4.41.1)\n",
            "Requirement already satisfied: filelock in /usr/local/lib/python3.7/dist-packages (from transformers) (3.0.12)\n",
            "Requirement already satisfied: numpy>=1.17 in /usr/local/lib/python3.7/dist-packages (from transformers) (1.19.5)\n",
            "Requirement already satisfied: sacremoses in /usr/local/lib/python3.7/dist-packages (from transformers) (0.0.43)\n",
            "Requirement already satisfied: tokenizers<0.11,>=0.10.1 in /usr/local/lib/python3.7/dist-packages (from transformers) (0.10.1)\n",
            "Requirement already satisfied: pyparsing>=2.0.2 in /usr/local/lib/python3.7/dist-packages (from packaging->transformers) (2.4.7)\n",
            "Requirement already satisfied: idna<3,>=2.5 in /usr/local/lib/python3.7/dist-packages (from requests->transformers) (2.10)\n",
            "Requirement already satisfied: chardet<4,>=3.0.2 in /usr/local/lib/python3.7/dist-packages (from requests->transformers) (3.0.4)\n",
            "Requirement already satisfied: urllib3!=1.25.0,!=1.25.1,<1.26,>=1.21.1 in /usr/local/lib/python3.7/dist-packages (from requests->transformers) (1.24.3)\n",
            "Requirement already satisfied: certifi>=2017.4.17 in /usr/local/lib/python3.7/dist-packages (from requests->transformers) (2020.12.5)\n",
            "Requirement already satisfied: typing-extensions>=3.6.4; python_version < \"3.8\" in /usr/local/lib/python3.7/dist-packages (from importlib-metadata; python_version < \"3.8\"->transformers) (3.7.4.3)\n",
            "Requirement already satisfied: zipp>=0.5 in /usr/local/lib/python3.7/dist-packages (from importlib-metadata; python_version < \"3.8\"->transformers) (3.4.1)\n",
            "Requirement already satisfied: joblib in /usr/local/lib/python3.7/dist-packages (from sacremoses->transformers) (1.0.1)\n",
            "Requirement already satisfied: click in /usr/local/lib/python3.7/dist-packages (from sacremoses->transformers) (7.1.2)\n",
            "Requirement already satisfied: six in /usr/local/lib/python3.7/dist-packages (from sacremoses->transformers) (1.15.0)\n"
          ],
          "name": "stdout"
        }
      ]
    },
    {
      "cell_type": "code",
      "metadata": {
        "id": "2fSYBsOa80TU"
      },
      "source": [
        "import tensorflow as tf\n",
        "import torch\n",
        "# import tensorflow_datasets as tfds\n",
        "\n",
        "from transformers import BertTokenizer\n",
        "from transformers import BertForSequenceClassification, AdamW, BertConfig\n",
        "from transformers import get_linear_schedule_with_warmup\n",
        "from torch.utils.data import TensorDataset, DataLoader, RandomSampler, SequentialSampler\n",
        "from keras.preprocessing.sequence import pad_sequences\n",
        "from sklearn.model_selection import train_test_split\n",
        "# import numpy as np\n",
        "# import pandas as pd\n",
        "# import torch\n",
        "from torch.utils.data import Dataset\n",
        "# from pytorch_transformers import BertTokenizer, BertForSequenceClassification, BertConfig\n",
        "from torch.optim import Adam\n",
        "import torch.nn.functional as F\n",
        "\n",
        "import pandas as pd\n",
        "import numpy as np\n",
        "import random\n",
        "import time\n",
        "import datetime\n",
        "import csv\n",
        "import os\n",
        "import matplotlib.pyplot as plt"
      ],
      "execution_count": 3,
      "outputs": []
    },
    {
      "cell_type": "code",
      "metadata": {
        "id": "Cv6iX6_g00Yq",
        "colab": {
          "base_uri": "https://localhost:8080/",
          "height": 257
        },
        "outputId": "e23882b4-891f-4432-9f70-90b56c61ad7f"
      },
      "source": [
        "df = pd.read_csv(\"/content/drive/MyDrive/2017online retail.csv\")\n",
        "df.head()\n",
        "# df.describe()"
      ],
      "execution_count": 4,
      "outputs": [
        {
          "output_type": "stream",
          "text": [
            "/usr/local/lib/python3.7/dist-packages/IPython/core/interactiveshell.py:2718: DtypeWarning: Columns (2) have mixed types.Specify dtype option on import or set low_memory=False.\n",
            "  interactivity=interactivity, compiler=compiler, result=result)\n"
          ],
          "name": "stderr"
        },
        {
          "output_type": "execute_result",
          "data": {
            "text/html": [
              "<div>\n",
              "<style scoped>\n",
              "    .dataframe tbody tr th:only-of-type {\n",
              "        vertical-align: middle;\n",
              "    }\n",
              "\n",
              "    .dataframe tbody tr th {\n",
              "        vertical-align: top;\n",
              "    }\n",
              "\n",
              "    .dataframe thead th {\n",
              "        text-align: right;\n",
              "    }\n",
              "</style>\n",
              "<table border=\"1\" class=\"dataframe\">\n",
              "  <thead>\n",
              "    <tr style=\"text-align: right;\">\n",
              "      <th></th>\n",
              "      <th>Customer</th>\n",
              "      <th>Payment Way</th>\n",
              "      <th>Invoice</th>\n",
              "      <th>ItemCode</th>\n",
              "      <th>Detail</th>\n",
              "      <th>Date</th>\n",
              "      <th>Amount</th>\n",
              "      <th>Price</th>\n",
              "    </tr>\n",
              "  </thead>\n",
              "  <tbody>\n",
              "    <tr>\n",
              "      <th>0</th>\n",
              "      <td>37593.0</td>\n",
              "      <td>Skrill</td>\n",
              "      <td>C514216</td>\n",
              "      <td>22406</td>\n",
              "      <td>MONEY BOX KINGS CHOICE DESIGN</td>\n",
              "      <td>2017/6/30 17:38</td>\n",
              "      <td>-1</td>\n",
              "      <td>1.25</td>\n",
              "    </tr>\n",
              "    <tr>\n",
              "      <th>1</th>\n",
              "      <td>37593.0</td>\n",
              "      <td>Skrill</td>\n",
              "      <td>C514216</td>\n",
              "      <td>22056</td>\n",
              "      <td>CERAMIC PLATE LOVE HEART DESIGN</td>\n",
              "      <td>2017/6/30 17:38</td>\n",
              "      <td>-1</td>\n",
              "      <td>1.49</td>\n",
              "    </tr>\n",
              "    <tr>\n",
              "      <th>2</th>\n",
              "      <td>37593.0</td>\n",
              "      <td>Skrill</td>\n",
              "      <td>C514216</td>\n",
              "      <td>21844</td>\n",
              "      <td>RED RETROSPOT MUG</td>\n",
              "      <td>2017/6/30 17:38</td>\n",
              "      <td>-1</td>\n",
              "      <td>2.95</td>\n",
              "    </tr>\n",
              "    <tr>\n",
              "      <th>3</th>\n",
              "      <td>37593.0</td>\n",
              "      <td>Skrill</td>\n",
              "      <td>C514216</td>\n",
              "      <td>22073</td>\n",
              "      <td>RED RETROSPOT STORAGE JAR</td>\n",
              "      <td>2017/6/30 17:38</td>\n",
              "      <td>-1</td>\n",
              "      <td>3.75</td>\n",
              "    </tr>\n",
              "    <tr>\n",
              "      <th>4</th>\n",
              "      <td>37593.0</td>\n",
              "      <td>Credit</td>\n",
              "      <td>C514216</td>\n",
              "      <td>22059</td>\n",
              "      <td>CERAMIC STRWBERRY DESIGN MUG</td>\n",
              "      <td>2017/6/30 17:38</td>\n",
              "      <td>-2</td>\n",
              "      <td>1.49</td>\n",
              "    </tr>\n",
              "  </tbody>\n",
              "</table>\n",
              "</div>"
            ],
            "text/plain": [
              "   Customer Payment Way  Invoice  ...             Date Amount Price\n",
              "0   37593.0      Skrill  C514216  ...  2017/6/30 17:38     -1  1.25\n",
              "1   37593.0      Skrill  C514216  ...  2017/6/30 17:38     -1  1.49\n",
              "2   37593.0      Skrill  C514216  ...  2017/6/30 17:38     -1  2.95\n",
              "3   37593.0      Skrill  C514216  ...  2017/6/30 17:38     -1  3.75\n",
              "4   37593.0      Credit  C514216  ...  2017/6/30 17:38     -2  1.49\n",
              "\n",
              "[5 rows x 8 columns]"
            ]
          },
          "metadata": {
            "tags": []
          },
          "execution_count": 4
        }
      ]
    },
    {
      "cell_type": "code",
      "metadata": {
        "id": "70y4KRPr9P04"
      },
      "source": [
        "# Detail = pd.read_csv('/content/drive/MyDrive/Detail.csv')\n",
        "# Detail.pop('Unnamed: 0')\n",
        "# Detail.head()"
      ],
      "execution_count": 5,
      "outputs": []
    },
    {
      "cell_type": "code",
      "metadata": {
        "id": "_jrcLbXI9hVx"
      },
      "source": [
        "# detail = Detail['0'].unique()\n",
        "# detail = detail.tolist()\n",
        "# len(detail)"
      ],
      "execution_count": 6,
      "outputs": []
    },
    {
      "cell_type": "code",
      "metadata": {
        "id": "iPE2iTqp9k4E"
      },
      "source": [
        "# dic = {string : i for i,string in enumerate(detail)}\n",
        "# print(dic)\n",
        "# len(dic)"
      ],
      "execution_count": 7,
      "outputs": []
    },
    {
      "cell_type": "code",
      "metadata": {
        "id": "Kn-FJAjW03eu",
        "colab": {
          "base_uri": "https://localhost:8080/"
        },
        "outputId": "85d52590-ffe3-49c7-e6ec-f010441fff9a"
      },
      "source": [
        "print(df.isnull().sum())\n",
        "df.dropna(inplace=True)\n",
        "df.isnull().sum()"
      ],
      "execution_count": 8,
      "outputs": [
        {
          "output_type": "stream",
          "text": [
            "Customer       42970\n",
            "Payment Way        0\n",
            "Invoice            0\n",
            "ItemCode           0\n",
            "Detail          1745\n",
            "Date               0\n",
            "Amount             0\n",
            "Price              0\n",
            "dtype: int64\n"
          ],
          "name": "stdout"
        },
        {
          "output_type": "execute_result",
          "data": {
            "text/plain": [
              "Customer       0\n",
              "Payment Way    0\n",
              "Invoice        0\n",
              "ItemCode       0\n",
              "Detail         0\n",
              "Date           0\n",
              "Amount         0\n",
              "Price          0\n",
              "dtype: int64"
            ]
          },
          "metadata": {
            "tags": []
          },
          "execution_count": 8
        }
      ]
    },
    {
      "cell_type": "code",
      "metadata": {
        "colab": {
          "base_uri": "https://localhost:8080/",
          "height": 416
        },
        "id": "XgU0aOTUjvkm",
        "outputId": "eb047748-d3bb-4b59-97af-5703fe3aca89"
      },
      "source": [
        "df"
      ],
      "execution_count": 9,
      "outputs": [
        {
          "output_type": "execute_result",
          "data": {
            "text/html": [
              "<div>\n",
              "<style scoped>\n",
              "    .dataframe tbody tr th:only-of-type {\n",
              "        vertical-align: middle;\n",
              "    }\n",
              "\n",
              "    .dataframe tbody tr th {\n",
              "        vertical-align: top;\n",
              "    }\n",
              "\n",
              "    .dataframe thead th {\n",
              "        text-align: right;\n",
              "    }\n",
              "</style>\n",
              "<table border=\"1\" class=\"dataframe\">\n",
              "  <thead>\n",
              "    <tr style=\"text-align: right;\">\n",
              "      <th></th>\n",
              "      <th>Customer</th>\n",
              "      <th>Payment Way</th>\n",
              "      <th>Invoice</th>\n",
              "      <th>ItemCode</th>\n",
              "      <th>Detail</th>\n",
              "      <th>Date</th>\n",
              "      <th>Amount</th>\n",
              "      <th>Price</th>\n",
              "    </tr>\n",
              "  </thead>\n",
              "  <tbody>\n",
              "    <tr>\n",
              "      <th>0</th>\n",
              "      <td>37593.0</td>\n",
              "      <td>Skrill</td>\n",
              "      <td>C514216</td>\n",
              "      <td>22406</td>\n",
              "      <td>MONEY BOX KINGS CHOICE DESIGN</td>\n",
              "      <td>2017/6/30 17:38</td>\n",
              "      <td>-1</td>\n",
              "      <td>1.25</td>\n",
              "    </tr>\n",
              "    <tr>\n",
              "      <th>1</th>\n",
              "      <td>37593.0</td>\n",
              "      <td>Skrill</td>\n",
              "      <td>C514216</td>\n",
              "      <td>22056</td>\n",
              "      <td>CERAMIC PLATE LOVE HEART DESIGN</td>\n",
              "      <td>2017/6/30 17:38</td>\n",
              "      <td>-1</td>\n",
              "      <td>1.49</td>\n",
              "    </tr>\n",
              "    <tr>\n",
              "      <th>2</th>\n",
              "      <td>37593.0</td>\n",
              "      <td>Skrill</td>\n",
              "      <td>C514216</td>\n",
              "      <td>21844</td>\n",
              "      <td>RED RETROSPOT MUG</td>\n",
              "      <td>2017/6/30 17:38</td>\n",
              "      <td>-1</td>\n",
              "      <td>2.95</td>\n",
              "    </tr>\n",
              "    <tr>\n",
              "      <th>3</th>\n",
              "      <td>37593.0</td>\n",
              "      <td>Skrill</td>\n",
              "      <td>C514216</td>\n",
              "      <td>22073</td>\n",
              "      <td>RED RETROSPOT STORAGE JAR</td>\n",
              "      <td>2017/6/30 17:38</td>\n",
              "      <td>-1</td>\n",
              "      <td>3.75</td>\n",
              "    </tr>\n",
              "    <tr>\n",
              "      <th>4</th>\n",
              "      <td>37593.0</td>\n",
              "      <td>Credit</td>\n",
              "      <td>C514216</td>\n",
              "      <td>22059</td>\n",
              "      <td>CERAMIC STRWBERRY DESIGN MUG</td>\n",
              "      <td>2017/6/30 17:38</td>\n",
              "      <td>-2</td>\n",
              "      <td>1.49</td>\n",
              "    </tr>\n",
              "    <tr>\n",
              "      <th>...</th>\n",
              "      <td>...</td>\n",
              "      <td>...</td>\n",
              "      <td>...</td>\n",
              "      <td>...</td>\n",
              "      <td>...</td>\n",
              "      <td>...</td>\n",
              "      <td>...</td>\n",
              "      <td>...</td>\n",
              "    </tr>\n",
              "    <tr>\n",
              "      <th>210359</th>\n",
              "      <td>34590.0</td>\n",
              "      <td>Credit</td>\n",
              "      <td>243414</td>\n",
              "      <td>21527</td>\n",
              "      <td>RETRO SPOT TRADITIONAL TEAPOT</td>\n",
              "      <td>2017/1/4 10:28</td>\n",
              "      <td>12</td>\n",
              "      <td>6.95</td>\n",
              "    </tr>\n",
              "    <tr>\n",
              "      <th>210360</th>\n",
              "      <td>34590.0</td>\n",
              "      <td>Skrill</td>\n",
              "      <td>243414</td>\n",
              "      <td>37508</td>\n",
              "      <td>NEW ENGLAND CERAMIC CAKE SERVER</td>\n",
              "      <td>2017/1/4 10:28</td>\n",
              "      <td>2</td>\n",
              "      <td>2.55</td>\n",
              "    </tr>\n",
              "    <tr>\n",
              "      <th>210361</th>\n",
              "      <td>34590.0</td>\n",
              "      <td>Credit</td>\n",
              "      <td>243414</td>\n",
              "      <td>35001G</td>\n",
              "      <td>HAND OPEN SHAPE GOLD</td>\n",
              "      <td>2017/1/4 10:28</td>\n",
              "      <td>2</td>\n",
              "      <td>4.25</td>\n",
              "    </tr>\n",
              "    <tr>\n",
              "      <th>210365</th>\n",
              "      <td>32346.0</td>\n",
              "      <td>Credit</td>\n",
              "      <td>243412</td>\n",
              "      <td>TEST001</td>\n",
              "      <td>This is a test product.</td>\n",
              "      <td>2017/1/4 9:53</td>\n",
              "      <td>5</td>\n",
              "      <td>4.50</td>\n",
              "    </tr>\n",
              "    <tr>\n",
              "      <th>210366</th>\n",
              "      <td>32346.0</td>\n",
              "      <td>Skrill</td>\n",
              "      <td>243410</td>\n",
              "      <td>TEST001</td>\n",
              "      <td>This is a test product.</td>\n",
              "      <td>2017/1/4 9:24</td>\n",
              "      <td>5</td>\n",
              "      <td>4.50</td>\n",
              "    </tr>\n",
              "  </tbody>\n",
              "</table>\n",
              "<p>167397 rows × 8 columns</p>\n",
              "</div>"
            ],
            "text/plain": [
              "        Customer Payment Way  Invoice  ...             Date Amount Price\n",
              "0        37593.0      Skrill  C514216  ...  2017/6/30 17:38     -1  1.25\n",
              "1        37593.0      Skrill  C514216  ...  2017/6/30 17:38     -1  1.49\n",
              "2        37593.0      Skrill  C514216  ...  2017/6/30 17:38     -1  2.95\n",
              "3        37593.0      Skrill  C514216  ...  2017/6/30 17:38     -1  3.75\n",
              "4        37593.0      Credit  C514216  ...  2017/6/30 17:38     -2  1.49\n",
              "...          ...         ...      ...  ...              ...    ...   ...\n",
              "210359   34590.0      Credit   243414  ...   2017/1/4 10:28     12  6.95\n",
              "210360   34590.0      Skrill   243414  ...   2017/1/4 10:28      2  2.55\n",
              "210361   34590.0      Credit   243414  ...   2017/1/4 10:28      2  4.25\n",
              "210365   32346.0      Credit   243412  ...    2017/1/4 9:53      5  4.50\n",
              "210366   32346.0      Skrill   243410  ...    2017/1/4 9:24      5  4.50\n",
              "\n",
              "[167397 rows x 8 columns]"
            ]
          },
          "metadata": {
            "tags": []
          },
          "execution_count": 9
        }
      ]
    },
    {
      "cell_type": "code",
      "metadata": {
        "id": "uZhskEHE1H8j",
        "colab": {
          "base_uri": "https://localhost:8080/",
          "height": 220
        },
        "outputId": "9c53c724-1ae9-4766-b273-e4daf9f9d83f"
      },
      "source": [
        "print(df.duplicated().sum())\n",
        "df.drop_duplicates(inplace=True)\n",
        "df.head()"
      ],
      "execution_count": 10,
      "outputs": [
        {
          "output_type": "stream",
          "text": [
            "1458\n"
          ],
          "name": "stdout"
        },
        {
          "output_type": "execute_result",
          "data": {
            "text/html": [
              "<div>\n",
              "<style scoped>\n",
              "    .dataframe tbody tr th:only-of-type {\n",
              "        vertical-align: middle;\n",
              "    }\n",
              "\n",
              "    .dataframe tbody tr th {\n",
              "        vertical-align: top;\n",
              "    }\n",
              "\n",
              "    .dataframe thead th {\n",
              "        text-align: right;\n",
              "    }\n",
              "</style>\n",
              "<table border=\"1\" class=\"dataframe\">\n",
              "  <thead>\n",
              "    <tr style=\"text-align: right;\">\n",
              "      <th></th>\n",
              "      <th>Customer</th>\n",
              "      <th>Payment Way</th>\n",
              "      <th>Invoice</th>\n",
              "      <th>ItemCode</th>\n",
              "      <th>Detail</th>\n",
              "      <th>Date</th>\n",
              "      <th>Amount</th>\n",
              "      <th>Price</th>\n",
              "    </tr>\n",
              "  </thead>\n",
              "  <tbody>\n",
              "    <tr>\n",
              "      <th>0</th>\n",
              "      <td>37593.0</td>\n",
              "      <td>Skrill</td>\n",
              "      <td>C514216</td>\n",
              "      <td>22406</td>\n",
              "      <td>MONEY BOX KINGS CHOICE DESIGN</td>\n",
              "      <td>2017/6/30 17:38</td>\n",
              "      <td>-1</td>\n",
              "      <td>1.25</td>\n",
              "    </tr>\n",
              "    <tr>\n",
              "      <th>1</th>\n",
              "      <td>37593.0</td>\n",
              "      <td>Skrill</td>\n",
              "      <td>C514216</td>\n",
              "      <td>22056</td>\n",
              "      <td>CERAMIC PLATE LOVE HEART DESIGN</td>\n",
              "      <td>2017/6/30 17:38</td>\n",
              "      <td>-1</td>\n",
              "      <td>1.49</td>\n",
              "    </tr>\n",
              "    <tr>\n",
              "      <th>2</th>\n",
              "      <td>37593.0</td>\n",
              "      <td>Skrill</td>\n",
              "      <td>C514216</td>\n",
              "      <td>21844</td>\n",
              "      <td>RED RETROSPOT MUG</td>\n",
              "      <td>2017/6/30 17:38</td>\n",
              "      <td>-1</td>\n",
              "      <td>2.95</td>\n",
              "    </tr>\n",
              "    <tr>\n",
              "      <th>3</th>\n",
              "      <td>37593.0</td>\n",
              "      <td>Skrill</td>\n",
              "      <td>C514216</td>\n",
              "      <td>22073</td>\n",
              "      <td>RED RETROSPOT STORAGE JAR</td>\n",
              "      <td>2017/6/30 17:38</td>\n",
              "      <td>-1</td>\n",
              "      <td>3.75</td>\n",
              "    </tr>\n",
              "    <tr>\n",
              "      <th>4</th>\n",
              "      <td>37593.0</td>\n",
              "      <td>Credit</td>\n",
              "      <td>C514216</td>\n",
              "      <td>22059</td>\n",
              "      <td>CERAMIC STRWBERRY DESIGN MUG</td>\n",
              "      <td>2017/6/30 17:38</td>\n",
              "      <td>-2</td>\n",
              "      <td>1.49</td>\n",
              "    </tr>\n",
              "  </tbody>\n",
              "</table>\n",
              "</div>"
            ],
            "text/plain": [
              "   Customer Payment Way  Invoice  ...             Date Amount Price\n",
              "0   37593.0      Skrill  C514216  ...  2017/6/30 17:38     -1  1.25\n",
              "1   37593.0      Skrill  C514216  ...  2017/6/30 17:38     -1  1.49\n",
              "2   37593.0      Skrill  C514216  ...  2017/6/30 17:38     -1  2.95\n",
              "3   37593.0      Skrill  C514216  ...  2017/6/30 17:38     -1  3.75\n",
              "4   37593.0      Credit  C514216  ...  2017/6/30 17:38     -2  1.49\n",
              "\n",
              "[5 rows x 8 columns]"
            ]
          },
          "metadata": {
            "tags": []
          },
          "execution_count": 10
        }
      ]
    },
    {
      "cell_type": "code",
      "metadata": {
        "id": "97267Uc01JTv",
        "colab": {
          "base_uri": "https://localhost:8080/",
          "height": 202
        },
        "outputId": "cff41215-106f-427f-84e8-f2b94f84ea07"
      },
      "source": [
        "df.drop(['Payment Way'],axis=1, inplace=True)\n",
        "df.head()"
      ],
      "execution_count": 11,
      "outputs": [
        {
          "output_type": "execute_result",
          "data": {
            "text/html": [
              "<div>\n",
              "<style scoped>\n",
              "    .dataframe tbody tr th:only-of-type {\n",
              "        vertical-align: middle;\n",
              "    }\n",
              "\n",
              "    .dataframe tbody tr th {\n",
              "        vertical-align: top;\n",
              "    }\n",
              "\n",
              "    .dataframe thead th {\n",
              "        text-align: right;\n",
              "    }\n",
              "</style>\n",
              "<table border=\"1\" class=\"dataframe\">\n",
              "  <thead>\n",
              "    <tr style=\"text-align: right;\">\n",
              "      <th></th>\n",
              "      <th>Customer</th>\n",
              "      <th>Invoice</th>\n",
              "      <th>ItemCode</th>\n",
              "      <th>Detail</th>\n",
              "      <th>Date</th>\n",
              "      <th>Amount</th>\n",
              "      <th>Price</th>\n",
              "    </tr>\n",
              "  </thead>\n",
              "  <tbody>\n",
              "    <tr>\n",
              "      <th>0</th>\n",
              "      <td>37593.0</td>\n",
              "      <td>C514216</td>\n",
              "      <td>22406</td>\n",
              "      <td>MONEY BOX KINGS CHOICE DESIGN</td>\n",
              "      <td>2017/6/30 17:38</td>\n",
              "      <td>-1</td>\n",
              "      <td>1.25</td>\n",
              "    </tr>\n",
              "    <tr>\n",
              "      <th>1</th>\n",
              "      <td>37593.0</td>\n",
              "      <td>C514216</td>\n",
              "      <td>22056</td>\n",
              "      <td>CERAMIC PLATE LOVE HEART DESIGN</td>\n",
              "      <td>2017/6/30 17:38</td>\n",
              "      <td>-1</td>\n",
              "      <td>1.49</td>\n",
              "    </tr>\n",
              "    <tr>\n",
              "      <th>2</th>\n",
              "      <td>37593.0</td>\n",
              "      <td>C514216</td>\n",
              "      <td>21844</td>\n",
              "      <td>RED RETROSPOT MUG</td>\n",
              "      <td>2017/6/30 17:38</td>\n",
              "      <td>-1</td>\n",
              "      <td>2.95</td>\n",
              "    </tr>\n",
              "    <tr>\n",
              "      <th>3</th>\n",
              "      <td>37593.0</td>\n",
              "      <td>C514216</td>\n",
              "      <td>22073</td>\n",
              "      <td>RED RETROSPOT STORAGE JAR</td>\n",
              "      <td>2017/6/30 17:38</td>\n",
              "      <td>-1</td>\n",
              "      <td>3.75</td>\n",
              "    </tr>\n",
              "    <tr>\n",
              "      <th>4</th>\n",
              "      <td>37593.0</td>\n",
              "      <td>C514216</td>\n",
              "      <td>22059</td>\n",
              "      <td>CERAMIC STRWBERRY DESIGN MUG</td>\n",
              "      <td>2017/6/30 17:38</td>\n",
              "      <td>-2</td>\n",
              "      <td>1.49</td>\n",
              "    </tr>\n",
              "  </tbody>\n",
              "</table>\n",
              "</div>"
            ],
            "text/plain": [
              "   Customer  Invoice ItemCode  ...             Date Amount  Price\n",
              "0   37593.0  C514216    22406  ...  2017/6/30 17:38     -1   1.25\n",
              "1   37593.0  C514216    22056  ...  2017/6/30 17:38     -1   1.49\n",
              "2   37593.0  C514216    21844  ...  2017/6/30 17:38     -1   2.95\n",
              "3   37593.0  C514216    22073  ...  2017/6/30 17:38     -1   3.75\n",
              "4   37593.0  C514216    22059  ...  2017/6/30 17:38     -2   1.49\n",
              "\n",
              "[5 rows x 7 columns]"
            ]
          },
          "metadata": {
            "tags": []
          },
          "execution_count": 11
        }
      ]
    },
    {
      "cell_type": "code",
      "metadata": {
        "id": "9y6du3x01Fdd",
        "colab": {
          "base_uri": "https://localhost:8080/"
        },
        "outputId": "71d8cf41-ae7b-4337-b3b0-98a0dc375da7"
      },
      "source": [
        "df['Detail'] = df['Detail'].str.strip()\n",
        "Detail = df['Detail'].unique()\n",
        "for i in Detail:\n",
        "    if i.isupper() == False:\n",
        "        print(i)"
      ],
      "execution_count": 12,
      "outputs": [
        {
          "output_type": "stream",
          "text": [
            "Manual\n",
            "BAG 250g SWIRLY MARBLES\n",
            "Discount\n",
            "Adjustment by Peter on 24/05/2010 1\n",
            "BAG 125g SWIRLY MARBLES\n",
            "POLYESTER FILLER PAD 65CMx65CM\n",
            "Bank Charges\n",
            "POLYESTER FILLER PAD 40x40cm\n",
            "Adjustment by john on 26/01/2010 17\n",
            "Adjustment by john on 26/01/2010 16\n",
            "Adjust bad debt\n",
            "FOLK ART GREETING CARD,pack/12\n",
            "POLYESTER FILLER PAD 45x45cm\n",
            "Adjustment by Peter on Jun 25 2010\n",
            "ESSENTIAL BALM 3.5g TIN IN ENVELOPE\n",
            "SET Of 6 SOLDIER SKITTLES\n",
            "POLYESTER FILLER PAD 30CMx30CM\n",
            "THE KING GIFT BAG 25x24x12cm\n",
            "POLYESTER FILLER PAD 45x30cm\n",
            "This is a test product.\n",
            "POLYESTER FILLER PAD 60x40cm\n"
          ],
          "name": "stdout"
        }
      ]
    },
    {
      "cell_type": "code",
      "metadata": {
        "id": "ZgfLYByY1QxI",
        "colab": {
          "base_uri": "https://localhost:8080/",
          "height": 432
        },
        "outputId": "a74197f6-df90-4771-b7eb-f4f1749e182d"
      },
      "source": [
        "idx = df[df['Amount'] <= 0.].index\n",
        "df.drop(idx, inplace=True)\n",
        "l = ['Manual', 'This is a test product.', 'Discount', 'Adjustment by Peter on 24/05/2010 1',\\\n",
        "     'Bank Charges', 'Adjustment by john on 26/01/2010 17',  'Adjustment by john on 26/01/2010 16', 'Adjust bad debt', 'Adjustment by Peter on Jun 25 2010', 'POSTAGE', 'CARRIAGE']\n",
        "for v in l:\n",
        "    idx2 = df[df['Detail'] == v].index\n",
        "    df.drop(idx2, inplace=True)\n",
        "idx3 = df[df['Price'] <= 0.].index\n",
        "df.drop(idx3, inplace=True)\n",
        "print(df.head())\n",
        "df.describe()"
      ],
      "execution_count": 13,
      "outputs": [
        {
          "output_type": "stream",
          "text": [
            "      Customer Invoice ItemCode  ...             Date Amount  Price\n",
            "4492   34882.0  264212    84755  ...  2017/6/30 17:04     16   0.65\n",
            "4493   34882.0  264212    20957  ...  2017/6/30 17:04     16   1.45\n",
            "4494   34882.0  264212    22457  ...  2017/6/30 17:04     12   2.95\n",
            "4496   34882.0  264212    20958  ...  2017/6/30 17:04      8   1.95\n",
            "4497   34882.0  264212    22430  ...  2017/6/30 17:04      3   4.95\n",
            "\n",
            "[5 rows x 7 columns]\n"
          ],
          "name": "stdout"
        },
        {
          "output_type": "execute_result",
          "data": {
            "text/html": [
              "<div>\n",
              "<style scoped>\n",
              "    .dataframe tbody tr th:only-of-type {\n",
              "        vertical-align: middle;\n",
              "    }\n",
              "\n",
              "    .dataframe tbody tr th {\n",
              "        vertical-align: top;\n",
              "    }\n",
              "\n",
              "    .dataframe thead th {\n",
              "        text-align: right;\n",
              "    }\n",
              "</style>\n",
              "<table border=\"1\" class=\"dataframe\">\n",
              "  <thead>\n",
              "    <tr style=\"text-align: right;\">\n",
              "      <th></th>\n",
              "      <th>Customer</th>\n",
              "      <th>Amount</th>\n",
              "      <th>Price</th>\n",
              "    </tr>\n",
              "  </thead>\n",
              "  <tbody>\n",
              "    <tr>\n",
              "      <th>count</th>\n",
              "      <td>161040.000000</td>\n",
              "      <td>161040.000000</td>\n",
              "      <td>161040.000000</td>\n",
              "    </tr>\n",
              "    <tr>\n",
              "      <th>mean</th>\n",
              "      <td>35334.207570</td>\n",
              "      <td>14.045293</td>\n",
              "      <td>3.051039</td>\n",
              "    </tr>\n",
              "    <tr>\n",
              "      <th>std</th>\n",
              "      <td>1673.922109</td>\n",
              "      <td>123.241911</td>\n",
              "      <td>3.435328</td>\n",
              "    </tr>\n",
              "    <tr>\n",
              "      <th>min</th>\n",
              "      <td>32346.000000</td>\n",
              "      <td>1.000000</td>\n",
              "      <td>0.001000</td>\n",
              "    </tr>\n",
              "    <tr>\n",
              "      <th>25%</th>\n",
              "      <td>33976.000000</td>\n",
              "      <td>2.000000</td>\n",
              "      <td>1.250000</td>\n",
              "    </tr>\n",
              "    <tr>\n",
              "      <th>50%</th>\n",
              "      <td>35248.000000</td>\n",
              "      <td>5.000000</td>\n",
              "      <td>1.950000</td>\n",
              "    </tr>\n",
              "    <tr>\n",
              "      <th>75%</th>\n",
              "      <td>36805.000000</td>\n",
              "      <td>12.000000</td>\n",
              "      <td>3.750000</td>\n",
              "    </tr>\n",
              "    <tr>\n",
              "      <th>max</th>\n",
              "      <td>38287.000000</td>\n",
              "      <td>19152.000000</td>\n",
              "      <td>125.000000</td>\n",
              "    </tr>\n",
              "  </tbody>\n",
              "</table>\n",
              "</div>"
            ],
            "text/plain": [
              "            Customer         Amount          Price\n",
              "count  161040.000000  161040.000000  161040.000000\n",
              "mean    35334.207570      14.045293       3.051039\n",
              "std      1673.922109     123.241911       3.435328\n",
              "min     32346.000000       1.000000       0.001000\n",
              "25%     33976.000000       2.000000       1.250000\n",
              "50%     35248.000000       5.000000       1.950000\n",
              "75%     36805.000000      12.000000       3.750000\n",
              "max     38287.000000   19152.000000     125.000000"
            ]
          },
          "metadata": {
            "tags": []
          },
          "execution_count": 13
        }
      ]
    },
    {
      "cell_type": "code",
      "metadata": {
        "colab": {
          "base_uri": "https://localhost:8080/"
        },
        "id": "CC_iVkltN8n1",
        "outputId": "740786f9-7043-499d-c4fd-cd250face14a"
      },
      "source": [
        "df['Detail'] = df['Detail'].str.strip()\n",
        "Detail = df['Detail'].unique()\n",
        "for i in Detail:\n",
        "    if i.isupper() == False:\n",
        "        print(i)"
      ],
      "execution_count": 14,
      "outputs": [
        {
          "output_type": "stream",
          "text": [
            "BAG 250g SWIRLY MARBLES\n",
            "FOLK ART GREETING CARD,pack/12\n",
            "POLYESTER FILLER PAD 45x45cm\n",
            "POLYESTER FILLER PAD 40x40cm\n",
            "BAG 125g SWIRLY MARBLES\n",
            "POLYESTER FILLER PAD 65CMx65CM\n",
            "ESSENTIAL BALM 3.5g TIN IN ENVELOPE\n",
            "SET Of 6 SOLDIER SKITTLES\n",
            "POLYESTER FILLER PAD 30CMx30CM\n",
            "THE KING GIFT BAG 25x24x12cm\n",
            "POLYESTER FILLER PAD 45x30cm\n",
            "POLYESTER FILLER PAD 60x40cm\n"
          ],
          "name": "stdout"
        }
      ]
    },
    {
      "cell_type": "code",
      "metadata": {
        "colab": {
          "base_uri": "https://localhost:8080/"
        },
        "id": "12e87OwSN9uI",
        "outputId": "18201220-48f9-4927-c330-d99c8f524bb4"
      },
      "source": [
        "for i in Detail:\n",
        "    if len(i) <= 10:\n",
        "        print(i)"
      ],
      "execution_count": 15,
      "outputs": [
        {
          "output_type": "stream",
          "text": [
            "PHOTO CUBE\n",
            "SOMBRERO\n",
            "BINGO SET\n",
            "SPACE OWL\n",
            "CAT BOWL\n",
            "SPOTS MUG\n",
            "SPACE FROG\n",
            "DAISY RING\n"
          ],
          "name": "stdout"
        }
      ]
    },
    {
      "cell_type": "code",
      "metadata": {
        "id": "GKQK6q791T7h",
        "colab": {
          "base_uri": "https://localhost:8080/",
          "height": 202
        },
        "outputId": "38d411bd-8b05-4270-c019-2c62c8a74e3d"
      },
      "source": [
        "df.drop(['Amount', 'Price', 'ItemCode'],axis=1, inplace=True)\n",
        "df.head()"
      ],
      "execution_count": 16,
      "outputs": [
        {
          "output_type": "execute_result",
          "data": {
            "text/html": [
              "<div>\n",
              "<style scoped>\n",
              "    .dataframe tbody tr th:only-of-type {\n",
              "        vertical-align: middle;\n",
              "    }\n",
              "\n",
              "    .dataframe tbody tr th {\n",
              "        vertical-align: top;\n",
              "    }\n",
              "\n",
              "    .dataframe thead th {\n",
              "        text-align: right;\n",
              "    }\n",
              "</style>\n",
              "<table border=\"1\" class=\"dataframe\">\n",
              "  <thead>\n",
              "    <tr style=\"text-align: right;\">\n",
              "      <th></th>\n",
              "      <th>Customer</th>\n",
              "      <th>Invoice</th>\n",
              "      <th>Detail</th>\n",
              "      <th>Date</th>\n",
              "    </tr>\n",
              "  </thead>\n",
              "  <tbody>\n",
              "    <tr>\n",
              "      <th>4492</th>\n",
              "      <td>34882.0</td>\n",
              "      <td>264212</td>\n",
              "      <td>COLOUR GLASS T-LIGHT HOLDER HANGING</td>\n",
              "      <td>2017/6/30 17:04</td>\n",
              "    </tr>\n",
              "    <tr>\n",
              "      <th>4493</th>\n",
              "      <td>34882.0</td>\n",
              "      <td>264212</td>\n",
              "      <td>PORCELAIN HANGING BELL SMALL</td>\n",
              "      <td>2017/6/30 17:04</td>\n",
              "    </tr>\n",
              "    <tr>\n",
              "      <th>4494</th>\n",
              "      <td>34882.0</td>\n",
              "      <td>264212</td>\n",
              "      <td>NATURAL SLATE HEART CHALKBOARD</td>\n",
              "      <td>2017/6/30 17:04</td>\n",
              "    </tr>\n",
              "    <tr>\n",
              "      <th>4496</th>\n",
              "      <td>34882.0</td>\n",
              "      <td>264212</td>\n",
              "      <td>PORCELAIN HANGING BELL LARGE</td>\n",
              "      <td>2017/6/30 17:04</td>\n",
              "    </tr>\n",
              "    <tr>\n",
              "      <th>4497</th>\n",
              "      <td>34882.0</td>\n",
              "      <td>264212</td>\n",
              "      <td>ENAMEL WATERING CAN CREAM</td>\n",
              "      <td>2017/6/30 17:04</td>\n",
              "    </tr>\n",
              "  </tbody>\n",
              "</table>\n",
              "</div>"
            ],
            "text/plain": [
              "      Customer Invoice                               Detail             Date\n",
              "4492   34882.0  264212  COLOUR GLASS T-LIGHT HOLDER HANGING  2017/6/30 17:04\n",
              "4493   34882.0  264212         PORCELAIN HANGING BELL SMALL  2017/6/30 17:04\n",
              "4494   34882.0  264212       NATURAL SLATE HEART CHALKBOARD  2017/6/30 17:04\n",
              "4496   34882.0  264212         PORCELAIN HANGING BELL LARGE  2017/6/30 17:04\n",
              "4497   34882.0  264212            ENAMEL WATERING CAN CREAM  2017/6/30 17:04"
            ]
          },
          "metadata": {
            "tags": []
          },
          "execution_count": 16
        }
      ]
    },
    {
      "cell_type": "code",
      "metadata": {
        "id": "ig21r9epr6Fe"
      },
      "source": [
        "df['Invoice'] = df['Invoice'].apply(lambda x: str(x))"
      ],
      "execution_count": 17,
      "outputs": []
    },
    {
      "cell_type": "code",
      "metadata": {
        "id": "2z68B2Z1bzDt"
      },
      "source": [
        "def sortdf(data, column):\n",
        "    data.sort_values(column, inplace=True)\n",
        "    data.reset_index(inplace=True)\n",
        "    data.pop('index')\n",
        "    return data"
      ],
      "execution_count": 18,
      "outputs": []
    },
    {
      "cell_type": "code",
      "metadata": {
        "id": "QV7T67jt1VQ0",
        "colab": {
          "base_uri": "https://localhost:8080/",
          "height": 202
        },
        "outputId": "027def46-ed85-41d4-c4e4-9aa35f614914"
      },
      "source": [
        "df = sortdf(df, ['Invoice'])\n",
        "df.head()"
      ],
      "execution_count": 19,
      "outputs": [
        {
          "output_type": "execute_result",
          "data": {
            "text/html": [
              "<div>\n",
              "<style scoped>\n",
              "    .dataframe tbody tr th:only-of-type {\n",
              "        vertical-align: middle;\n",
              "    }\n",
              "\n",
              "    .dataframe tbody tr th {\n",
              "        vertical-align: top;\n",
              "    }\n",
              "\n",
              "    .dataframe thead th {\n",
              "        text-align: right;\n",
              "    }\n",
              "</style>\n",
              "<table border=\"1\" class=\"dataframe\">\n",
              "  <thead>\n",
              "    <tr style=\"text-align: right;\">\n",
              "      <th></th>\n",
              "      <th>Customer</th>\n",
              "      <th>Invoice</th>\n",
              "      <th>Detail</th>\n",
              "      <th>Date</th>\n",
              "    </tr>\n",
              "  </thead>\n",
              "  <tbody>\n",
              "    <tr>\n",
              "      <th>0</th>\n",
              "      <td>34590.0</td>\n",
              "      <td>243414</td>\n",
              "      <td>HAND OPEN SHAPE GOLD</td>\n",
              "      <td>2017/1/4 10:28</td>\n",
              "    </tr>\n",
              "    <tr>\n",
              "      <th>1</th>\n",
              "      <td>34590.0</td>\n",
              "      <td>243414</td>\n",
              "      <td>RETRO SPOT MUG</td>\n",
              "      <td>2017/1/4 10:28</td>\n",
              "    </tr>\n",
              "    <tr>\n",
              "      <th>2</th>\n",
              "      <td>34590.0</td>\n",
              "      <td>243414</td>\n",
              "      <td>RETRO SPOT SUGAR JAM BOWL</td>\n",
              "      <td>2017/1/4 10:28</td>\n",
              "    </tr>\n",
              "    <tr>\n",
              "      <th>3</th>\n",
              "      <td>34590.0</td>\n",
              "      <td>243414</td>\n",
              "      <td>NEW ENGLAND CERAMIC CAKE SERVER</td>\n",
              "      <td>2017/1/4 10:28</td>\n",
              "    </tr>\n",
              "    <tr>\n",
              "      <th>4</th>\n",
              "      <td>34590.0</td>\n",
              "      <td>243414</td>\n",
              "      <td>RETRO SPOT TRADITIONAL TEAPOT</td>\n",
              "      <td>2017/1/4 10:28</td>\n",
              "    </tr>\n",
              "  </tbody>\n",
              "</table>\n",
              "</div>"
            ],
            "text/plain": [
              "   Customer Invoice                           Detail            Date\n",
              "0   34590.0  243414             HAND OPEN SHAPE GOLD  2017/1/4 10:28\n",
              "1   34590.0  243414                   RETRO SPOT MUG  2017/1/4 10:28\n",
              "2   34590.0  243414        RETRO SPOT SUGAR JAM BOWL  2017/1/4 10:28\n",
              "3   34590.0  243414  NEW ENGLAND CERAMIC CAKE SERVER  2017/1/4 10:28\n",
              "4   34590.0  243414    RETRO SPOT TRADITIONAL TEAPOT  2017/1/4 10:28"
            ]
          },
          "metadata": {
            "tags": []
          },
          "execution_count": 19
        }
      ]
    },
    {
      "cell_type": "code",
      "metadata": {
        "colab": {
          "base_uri": "https://localhost:8080/"
        },
        "id": "sTJNjye-mhyT",
        "outputId": "fdbd548e-84e1-4a1c-fb03-551a279f3f09"
      },
      "source": [
        "Date = df['Date'].unique()\n",
        "Date = sorted(Date)\n",
        "print(len(Date))\n",
        "\n",
        "Invoice = df['Invoice'].unique()\n",
        "Invoice = sorted(Invoice)\n",
        "len(Invoice)"
      ],
      "execution_count": 20,
      "outputs": [
        {
          "output_type": "stream",
          "text": [
            "7178\n"
          ],
          "name": "stdout"
        },
        {
          "output_type": "execute_result",
          "data": {
            "text/plain": [
              "7557"
            ]
          },
          "metadata": {
            "tags": []
          },
          "execution_count": 20
        }
      ]
    },
    {
      "cell_type": "code",
      "metadata": {
        "colab": {
          "base_uri": "https://localhost:8080/",
          "height": 202
        },
        "id": "SQT_NDWmomdq",
        "outputId": "768c8b6a-37be-4207-fe85-9546f6ab3496"
      },
      "source": [
        "df.pop('Date')\n",
        "df.head()"
      ],
      "execution_count": 21,
      "outputs": [
        {
          "output_type": "execute_result",
          "data": {
            "text/html": [
              "<div>\n",
              "<style scoped>\n",
              "    .dataframe tbody tr th:only-of-type {\n",
              "        vertical-align: middle;\n",
              "    }\n",
              "\n",
              "    .dataframe tbody tr th {\n",
              "        vertical-align: top;\n",
              "    }\n",
              "\n",
              "    .dataframe thead th {\n",
              "        text-align: right;\n",
              "    }\n",
              "</style>\n",
              "<table border=\"1\" class=\"dataframe\">\n",
              "  <thead>\n",
              "    <tr style=\"text-align: right;\">\n",
              "      <th></th>\n",
              "      <th>Customer</th>\n",
              "      <th>Invoice</th>\n",
              "      <th>Detail</th>\n",
              "    </tr>\n",
              "  </thead>\n",
              "  <tbody>\n",
              "    <tr>\n",
              "      <th>0</th>\n",
              "      <td>34590.0</td>\n",
              "      <td>243414</td>\n",
              "      <td>HAND OPEN SHAPE GOLD</td>\n",
              "    </tr>\n",
              "    <tr>\n",
              "      <th>1</th>\n",
              "      <td>34590.0</td>\n",
              "      <td>243414</td>\n",
              "      <td>RETRO SPOT MUG</td>\n",
              "    </tr>\n",
              "    <tr>\n",
              "      <th>2</th>\n",
              "      <td>34590.0</td>\n",
              "      <td>243414</td>\n",
              "      <td>RETRO SPOT SUGAR JAM BOWL</td>\n",
              "    </tr>\n",
              "    <tr>\n",
              "      <th>3</th>\n",
              "      <td>34590.0</td>\n",
              "      <td>243414</td>\n",
              "      <td>NEW ENGLAND CERAMIC CAKE SERVER</td>\n",
              "    </tr>\n",
              "    <tr>\n",
              "      <th>4</th>\n",
              "      <td>34590.0</td>\n",
              "      <td>243414</td>\n",
              "      <td>RETRO SPOT TRADITIONAL TEAPOT</td>\n",
              "    </tr>\n",
              "  </tbody>\n",
              "</table>\n",
              "</div>"
            ],
            "text/plain": [
              "   Customer Invoice                           Detail\n",
              "0   34590.0  243414             HAND OPEN SHAPE GOLD\n",
              "1   34590.0  243414                   RETRO SPOT MUG\n",
              "2   34590.0  243414        RETRO SPOT SUGAR JAM BOWL\n",
              "3   34590.0  243414  NEW ENGLAND CERAMIC CAKE SERVER\n",
              "4   34590.0  243414    RETRO SPOT TRADITIONAL TEAPOT"
            ]
          },
          "metadata": {
            "tags": []
          },
          "execution_count": 21
        }
      ]
    },
    {
      "cell_type": "code",
      "metadata": {
        "colab": {
          "base_uri": "https://localhost:8080/",
          "height": 416
        },
        "id": "NWE22qSXid9g",
        "outputId": "74621aaf-43d8-4317-c796-79d765f89adc"
      },
      "source": [
        "df.pop('Customer')\n",
        "df"
      ],
      "execution_count": 22,
      "outputs": [
        {
          "output_type": "execute_result",
          "data": {
            "text/html": [
              "<div>\n",
              "<style scoped>\n",
              "    .dataframe tbody tr th:only-of-type {\n",
              "        vertical-align: middle;\n",
              "    }\n",
              "\n",
              "    .dataframe tbody tr th {\n",
              "        vertical-align: top;\n",
              "    }\n",
              "\n",
              "    .dataframe thead th {\n",
              "        text-align: right;\n",
              "    }\n",
              "</style>\n",
              "<table border=\"1\" class=\"dataframe\">\n",
              "  <thead>\n",
              "    <tr style=\"text-align: right;\">\n",
              "      <th></th>\n",
              "      <th>Invoice</th>\n",
              "      <th>Detail</th>\n",
              "    </tr>\n",
              "  </thead>\n",
              "  <tbody>\n",
              "    <tr>\n",
              "      <th>0</th>\n",
              "      <td>243414</td>\n",
              "      <td>HAND OPEN SHAPE GOLD</td>\n",
              "    </tr>\n",
              "    <tr>\n",
              "      <th>1</th>\n",
              "      <td>243414</td>\n",
              "      <td>RETRO SPOT MUG</td>\n",
              "    </tr>\n",
              "    <tr>\n",
              "      <th>2</th>\n",
              "      <td>243414</td>\n",
              "      <td>RETRO SPOT SUGAR JAM BOWL</td>\n",
              "    </tr>\n",
              "    <tr>\n",
              "      <th>3</th>\n",
              "      <td>243414</td>\n",
              "      <td>NEW ENGLAND CERAMIC CAKE SERVER</td>\n",
              "    </tr>\n",
              "    <tr>\n",
              "      <th>4</th>\n",
              "      <td>243414</td>\n",
              "      <td>RETRO SPOT TRADITIONAL TEAPOT</td>\n",
              "    </tr>\n",
              "    <tr>\n",
              "      <th>...</th>\n",
              "      <td>...</td>\n",
              "      <td>...</td>\n",
              "    </tr>\n",
              "    <tr>\n",
              "      <th>161035</th>\n",
              "      <td>264212</td>\n",
              "      <td>ENAMEL WATERING CAN CREAM</td>\n",
              "    </tr>\n",
              "    <tr>\n",
              "      <th>161036</th>\n",
              "      <td>264212</td>\n",
              "      <td>PORCELAIN HANGING BELL LARGE</td>\n",
              "    </tr>\n",
              "    <tr>\n",
              "      <th>161037</th>\n",
              "      <td>264212</td>\n",
              "      <td>NATURAL SLATE HEART CHALKBOARD</td>\n",
              "    </tr>\n",
              "    <tr>\n",
              "      <th>161038</th>\n",
              "      <td>264212</td>\n",
              "      <td>PORCELAIN HANGING BELL SMALL</td>\n",
              "    </tr>\n",
              "    <tr>\n",
              "      <th>161039</th>\n",
              "      <td>264212</td>\n",
              "      <td>COLOUR GLASS T-LIGHT HOLDER HANGING</td>\n",
              "    </tr>\n",
              "  </tbody>\n",
              "</table>\n",
              "<p>161040 rows × 2 columns</p>\n",
              "</div>"
            ],
            "text/plain": [
              "       Invoice                               Detail\n",
              "0       243414                 HAND OPEN SHAPE GOLD\n",
              "1       243414                       RETRO SPOT MUG\n",
              "2       243414            RETRO SPOT SUGAR JAM BOWL\n",
              "3       243414      NEW ENGLAND CERAMIC CAKE SERVER\n",
              "4       243414        RETRO SPOT TRADITIONAL TEAPOT\n",
              "...        ...                                  ...\n",
              "161035  264212            ENAMEL WATERING CAN CREAM\n",
              "161036  264212         PORCELAIN HANGING BELL LARGE\n",
              "161037  264212       NATURAL SLATE HEART CHALKBOARD\n",
              "161038  264212         PORCELAIN HANGING BELL SMALL\n",
              "161039  264212  COLOUR GLASS T-LIGHT HOLDER HANGING\n",
              "\n",
              "[161040 rows x 2 columns]"
            ]
          },
          "metadata": {
            "tags": []
          },
          "execution_count": 22
        }
      ]
    },
    {
      "cell_type": "code",
      "metadata": {
        "colab": {
          "base_uri": "https://localhost:8080/",
          "height": 416
        },
        "id": "6A0AR9sZpnss",
        "outputId": "613d586c-afff-44c5-862e-c72b5313524c"
      },
      "source": [
        "for v in Invoice:\n",
        "    a = df[df['Invoice'] == v]\n",
        "    if len(a) < 5:\n",
        "        idx = a.index\n",
        "        df.drop(idx, inplace=True)\n",
        "df"
      ],
      "execution_count": 23,
      "outputs": [
        {
          "output_type": "execute_result",
          "data": {
            "text/html": [
              "<div>\n",
              "<style scoped>\n",
              "    .dataframe tbody tr th:only-of-type {\n",
              "        vertical-align: middle;\n",
              "    }\n",
              "\n",
              "    .dataframe tbody tr th {\n",
              "        vertical-align: top;\n",
              "    }\n",
              "\n",
              "    .dataframe thead th {\n",
              "        text-align: right;\n",
              "    }\n",
              "</style>\n",
              "<table border=\"1\" class=\"dataframe\">\n",
              "  <thead>\n",
              "    <tr style=\"text-align: right;\">\n",
              "      <th></th>\n",
              "      <th>Invoice</th>\n",
              "      <th>Detail</th>\n",
              "    </tr>\n",
              "  </thead>\n",
              "  <tbody>\n",
              "    <tr>\n",
              "      <th>0</th>\n",
              "      <td>243414</td>\n",
              "      <td>HAND OPEN SHAPE GOLD</td>\n",
              "    </tr>\n",
              "    <tr>\n",
              "      <th>1</th>\n",
              "      <td>243414</td>\n",
              "      <td>RETRO SPOT MUG</td>\n",
              "    </tr>\n",
              "    <tr>\n",
              "      <th>2</th>\n",
              "      <td>243414</td>\n",
              "      <td>RETRO SPOT SUGAR JAM BOWL</td>\n",
              "    </tr>\n",
              "    <tr>\n",
              "      <th>3</th>\n",
              "      <td>243414</td>\n",
              "      <td>NEW ENGLAND CERAMIC CAKE SERVER</td>\n",
              "    </tr>\n",
              "    <tr>\n",
              "      <th>4</th>\n",
              "      <td>243414</td>\n",
              "      <td>RETRO SPOT TRADITIONAL TEAPOT</td>\n",
              "    </tr>\n",
              "    <tr>\n",
              "      <th>...</th>\n",
              "      <td>...</td>\n",
              "      <td>...</td>\n",
              "    </tr>\n",
              "    <tr>\n",
              "      <th>161035</th>\n",
              "      <td>264212</td>\n",
              "      <td>ENAMEL WATERING CAN CREAM</td>\n",
              "    </tr>\n",
              "    <tr>\n",
              "      <th>161036</th>\n",
              "      <td>264212</td>\n",
              "      <td>PORCELAIN HANGING BELL LARGE</td>\n",
              "    </tr>\n",
              "    <tr>\n",
              "      <th>161037</th>\n",
              "      <td>264212</td>\n",
              "      <td>NATURAL SLATE HEART CHALKBOARD</td>\n",
              "    </tr>\n",
              "    <tr>\n",
              "      <th>161038</th>\n",
              "      <td>264212</td>\n",
              "      <td>PORCELAIN HANGING BELL SMALL</td>\n",
              "    </tr>\n",
              "    <tr>\n",
              "      <th>161039</th>\n",
              "      <td>264212</td>\n",
              "      <td>COLOUR GLASS T-LIGHT HOLDER HANGING</td>\n",
              "    </tr>\n",
              "  </tbody>\n",
              "</table>\n",
              "<p>158322 rows × 2 columns</p>\n",
              "</div>"
            ],
            "text/plain": [
              "       Invoice                               Detail\n",
              "0       243414                 HAND OPEN SHAPE GOLD\n",
              "1       243414                       RETRO SPOT MUG\n",
              "2       243414            RETRO SPOT SUGAR JAM BOWL\n",
              "3       243414      NEW ENGLAND CERAMIC CAKE SERVER\n",
              "4       243414        RETRO SPOT TRADITIONAL TEAPOT\n",
              "...        ...                                  ...\n",
              "161035  264212            ENAMEL WATERING CAN CREAM\n",
              "161036  264212         PORCELAIN HANGING BELL LARGE\n",
              "161037  264212       NATURAL SLATE HEART CHALKBOARD\n",
              "161038  264212         PORCELAIN HANGING BELL SMALL\n",
              "161039  264212  COLOUR GLASS T-LIGHT HOLDER HANGING\n",
              "\n",
              "[158322 rows x 2 columns]"
            ]
          },
          "metadata": {
            "tags": []
          },
          "execution_count": 23
        }
      ]
    },
    {
      "cell_type": "code",
      "metadata": {
        "id": "D-jtxz5yid2z",
        "colab": {
          "base_uri": "https://localhost:8080/",
          "height": 416
        },
        "outputId": "68880177-8d52-49c8-d18a-b782f180b5f1"
      },
      "source": [
        "df2 = pd.DataFrame(columns=df.columns)\n",
        "values = df['Invoice'].value_counts().index.sort_values()\n",
        "\n",
        "for i, v in enumerate(values):\n",
        "    df2.loc[i] = (v, '&&'.join(df[df['Invoice'] == v]['Detail']))\n",
        "df2"
      ],
      "execution_count": 24,
      "outputs": [
        {
          "output_type": "execute_result",
          "data": {
            "text/html": [
              "<div>\n",
              "<style scoped>\n",
              "    .dataframe tbody tr th:only-of-type {\n",
              "        vertical-align: middle;\n",
              "    }\n",
              "\n",
              "    .dataframe tbody tr th {\n",
              "        vertical-align: top;\n",
              "    }\n",
              "\n",
              "    .dataframe thead th {\n",
              "        text-align: right;\n",
              "    }\n",
              "</style>\n",
              "<table border=\"1\" class=\"dataframe\">\n",
              "  <thead>\n",
              "    <tr style=\"text-align: right;\">\n",
              "      <th></th>\n",
              "      <th>Invoice</th>\n",
              "      <th>Detail</th>\n",
              "    </tr>\n",
              "  </thead>\n",
              "  <tbody>\n",
              "    <tr>\n",
              "      <th>0</th>\n",
              "      <td>243414</td>\n",
              "      <td>HAND OPEN SHAPE GOLD&amp;&amp;RETRO SPOT MUG&amp;&amp;RETRO SP...</td>\n",
              "    </tr>\n",
              "    <tr>\n",
              "      <th>1</th>\n",
              "      <td>243427</td>\n",
              "      <td>MOROCCAN TEA GLASS&amp;&amp;BLACK FLOWER CANDLE PLATE&amp;...</td>\n",
              "    </tr>\n",
              "    <tr>\n",
              "      <th>2</th>\n",
              "      <td>243428</td>\n",
              "      <td>LUNCHBOX WITH CUTLERY FAIRY CAKES&amp;&amp;STRAWBERRY ...</td>\n",
              "    </tr>\n",
              "    <tr>\n",
              "      <th>3</th>\n",
              "      <td>243432</td>\n",
              "      <td>RED WOOLLY HOTTIE WHITE HEART.&amp;&amp;CERAMIC CAKE D...</td>\n",
              "    </tr>\n",
              "    <tr>\n",
              "      <th>4</th>\n",
              "      <td>243433</td>\n",
              "      <td>STRAWBERRY CERAMIC TRINKET BOX&amp;&amp;JUMBO  BAG BAR...</td>\n",
              "    </tr>\n",
              "    <tr>\n",
              "      <th>...</th>\n",
              "      <td>...</td>\n",
              "      <td>...</td>\n",
              "    </tr>\n",
              "    <tr>\n",
              "      <th>6281</th>\n",
              "      <td>264208</td>\n",
              "      <td>ASSORTED COLOUR BIRD ORNAMENT&amp;&amp;VICTORIAN GLASS...</td>\n",
              "    </tr>\n",
              "    <tr>\n",
              "      <th>6282</th>\n",
              "      <td>264209</td>\n",
              "      <td>PACK OF 60 PINK PAISLEY CAKE CASES&amp;&amp;WASHROOM M...</td>\n",
              "    </tr>\n",
              "    <tr>\n",
              "      <th>6283</th>\n",
              "      <td>264210</td>\n",
              "      <td>GLASS JAR DIGESTIVE BISCUITS&amp;&amp;BLUE STRIPE CERA...</td>\n",
              "    </tr>\n",
              "    <tr>\n",
              "      <th>6284</th>\n",
              "      <td>264211</td>\n",
              "      <td>PICNIC BASKET WICKER SMALL&amp;&amp;NATURAL SLATE HEAR...</td>\n",
              "    </tr>\n",
              "    <tr>\n",
              "      <th>6285</th>\n",
              "      <td>264212</td>\n",
              "      <td>UNION STRIPE WITH FRINGE  HAMMOCK&amp;&amp;RED/CREAM S...</td>\n",
              "    </tr>\n",
              "  </tbody>\n",
              "</table>\n",
              "<p>6286 rows × 2 columns</p>\n",
              "</div>"
            ],
            "text/plain": [
              "     Invoice                                             Detail\n",
              "0     243414  HAND OPEN SHAPE GOLD&&RETRO SPOT MUG&&RETRO SP...\n",
              "1     243427  MOROCCAN TEA GLASS&&BLACK FLOWER CANDLE PLATE&...\n",
              "2     243428  LUNCHBOX WITH CUTLERY FAIRY CAKES&&STRAWBERRY ...\n",
              "3     243432  RED WOOLLY HOTTIE WHITE HEART.&&CERAMIC CAKE D...\n",
              "4     243433  STRAWBERRY CERAMIC TRINKET BOX&&JUMBO  BAG BAR...\n",
              "...      ...                                                ...\n",
              "6281  264208  ASSORTED COLOUR BIRD ORNAMENT&&VICTORIAN GLASS...\n",
              "6282  264209  PACK OF 60 PINK PAISLEY CAKE CASES&&WASHROOM M...\n",
              "6283  264210  GLASS JAR DIGESTIVE BISCUITS&&BLUE STRIPE CERA...\n",
              "6284  264211  PICNIC BASKET WICKER SMALL&&NATURAL SLATE HEAR...\n",
              "6285  264212  UNION STRIPE WITH FRINGE  HAMMOCK&&RED/CREAM S...\n",
              "\n",
              "[6286 rows x 2 columns]"
            ]
          },
          "metadata": {
            "tags": []
          },
          "execution_count": 24
        }
      ]
    },
    {
      "cell_type": "code",
      "metadata": {
        "colab": {
          "base_uri": "https://localhost:8080/",
          "height": 416
        },
        "id": "_6TRdh4Ou0HO",
        "outputId": "014f2cf8-efe8-4b87-afad-550c1d194eeb"
      },
      "source": [
        "df2.pop('Invoice')\n",
        "df2"
      ],
      "execution_count": 25,
      "outputs": [
        {
          "output_type": "execute_result",
          "data": {
            "text/html": [
              "<div>\n",
              "<style scoped>\n",
              "    .dataframe tbody tr th:only-of-type {\n",
              "        vertical-align: middle;\n",
              "    }\n",
              "\n",
              "    .dataframe tbody tr th {\n",
              "        vertical-align: top;\n",
              "    }\n",
              "\n",
              "    .dataframe thead th {\n",
              "        text-align: right;\n",
              "    }\n",
              "</style>\n",
              "<table border=\"1\" class=\"dataframe\">\n",
              "  <thead>\n",
              "    <tr style=\"text-align: right;\">\n",
              "      <th></th>\n",
              "      <th>Detail</th>\n",
              "    </tr>\n",
              "  </thead>\n",
              "  <tbody>\n",
              "    <tr>\n",
              "      <th>0</th>\n",
              "      <td>HAND OPEN SHAPE GOLD&amp;&amp;RETRO SPOT MUG&amp;&amp;RETRO SP...</td>\n",
              "    </tr>\n",
              "    <tr>\n",
              "      <th>1</th>\n",
              "      <td>MOROCCAN TEA GLASS&amp;&amp;BLACK FLOWER CANDLE PLATE&amp;...</td>\n",
              "    </tr>\n",
              "    <tr>\n",
              "      <th>2</th>\n",
              "      <td>LUNCHBOX WITH CUTLERY FAIRY CAKES&amp;&amp;STRAWBERRY ...</td>\n",
              "    </tr>\n",
              "    <tr>\n",
              "      <th>3</th>\n",
              "      <td>RED WOOLLY HOTTIE WHITE HEART.&amp;&amp;CERAMIC CAKE D...</td>\n",
              "    </tr>\n",
              "    <tr>\n",
              "      <th>4</th>\n",
              "      <td>STRAWBERRY CERAMIC TRINKET BOX&amp;&amp;JUMBO  BAG BAR...</td>\n",
              "    </tr>\n",
              "    <tr>\n",
              "      <th>...</th>\n",
              "      <td>...</td>\n",
              "    </tr>\n",
              "    <tr>\n",
              "      <th>6281</th>\n",
              "      <td>ASSORTED COLOUR BIRD ORNAMENT&amp;&amp;VICTORIAN GLASS...</td>\n",
              "    </tr>\n",
              "    <tr>\n",
              "      <th>6282</th>\n",
              "      <td>PACK OF 60 PINK PAISLEY CAKE CASES&amp;&amp;WASHROOM M...</td>\n",
              "    </tr>\n",
              "    <tr>\n",
              "      <th>6283</th>\n",
              "      <td>GLASS JAR DIGESTIVE BISCUITS&amp;&amp;BLUE STRIPE CERA...</td>\n",
              "    </tr>\n",
              "    <tr>\n",
              "      <th>6284</th>\n",
              "      <td>PICNIC BASKET WICKER SMALL&amp;&amp;NATURAL SLATE HEAR...</td>\n",
              "    </tr>\n",
              "    <tr>\n",
              "      <th>6285</th>\n",
              "      <td>UNION STRIPE WITH FRINGE  HAMMOCK&amp;&amp;RED/CREAM S...</td>\n",
              "    </tr>\n",
              "  </tbody>\n",
              "</table>\n",
              "<p>6286 rows × 1 columns</p>\n",
              "</div>"
            ],
            "text/plain": [
              "                                                 Detail\n",
              "0     HAND OPEN SHAPE GOLD&&RETRO SPOT MUG&&RETRO SP...\n",
              "1     MOROCCAN TEA GLASS&&BLACK FLOWER CANDLE PLATE&...\n",
              "2     LUNCHBOX WITH CUTLERY FAIRY CAKES&&STRAWBERRY ...\n",
              "3     RED WOOLLY HOTTIE WHITE HEART.&&CERAMIC CAKE D...\n",
              "4     STRAWBERRY CERAMIC TRINKET BOX&&JUMBO  BAG BAR...\n",
              "...                                                 ...\n",
              "6281  ASSORTED COLOUR BIRD ORNAMENT&&VICTORIAN GLASS...\n",
              "6282  PACK OF 60 PINK PAISLEY CAKE CASES&&WASHROOM M...\n",
              "6283  GLASS JAR DIGESTIVE BISCUITS&&BLUE STRIPE CERA...\n",
              "6284  PICNIC BASKET WICKER SMALL&&NATURAL SLATE HEAR...\n",
              "6285  UNION STRIPE WITH FRINGE  HAMMOCK&&RED/CREAM S...\n",
              "\n",
              "[6286 rows x 1 columns]"
            ]
          },
          "metadata": {
            "tags": []
          },
          "execution_count": 25
        }
      ]
    },
    {
      "cell_type": "code",
      "metadata": {
        "id": "l-1jzVzBs4B7",
        "colab": {
          "base_uri": "https://localhost:8080/"
        },
        "outputId": "c5d75a5d-6661-4b70-d12c-3a3b04803466"
      },
      "source": [
        "df_series = df2['Detail'].str.split('&&')\n",
        "df_series[0]"
      ],
      "execution_count": 26,
      "outputs": [
        {
          "output_type": "execute_result",
          "data": {
            "text/plain": [
              "['HAND OPEN SHAPE GOLD',\n",
              " 'RETRO SPOT MUG',\n",
              " 'RETRO SPOT SUGAR JAM BOWL',\n",
              " 'NEW ENGLAND CERAMIC CAKE SERVER',\n",
              " 'RETRO SPOT TRADITIONAL TEAPOT',\n",
              " 'RETRO SPOT LARGE MILK JUG']"
            ]
          },
          "metadata": {
            "tags": []
          },
          "execution_count": 26
        }
      ]
    },
    {
      "cell_type": "code",
      "metadata": {
        "id": "UPMVQk8Sid5w"
      },
      "source": [
        "sequence_length = 5\n",
        "step_size = 2\n",
        "\n",
        "# [4, 4, 5, 5, 6, 6]이라면, 아래 함수를 통해\n",
        "# [[4, 4, 5, 5], [5, 5, 6, 6]]으로 다시 만들어집니다.\n",
        "def create_sequences(values, window_size, step_size):\n",
        "    sequences = []\n",
        "    start_index = 0\n",
        "    while True:\n",
        "        end_index = start_index + window_size\n",
        "        seq = values[start_index:end_index]\n",
        "        # 뒤에 남은 데이터가 window_size보다 작으면 중지합니다.\n",
        "        if len(seq) < window_size:\n",
        "            seq = values[-window_size:]\n",
        "            # window_size와 같으면 list에 붙여줍니다.\n",
        "            if len(seq) == window_size:\n",
        "                sequences.append(seq)\n",
        "            break\n",
        "        sequences.append(seq)\n",
        "        start_index += step_size\n",
        "    return sequences\n",
        "\n",
        "\n",
        "# ratings_data.movie_ids = ratings_data.movie_ids.apply(\n",
        "#     lambda ids: create_sequences(ids, sequence_length, step_size)\n",
        "# )\n",
        "\n",
        "# ratings_data.ratings = ratings_data.ratings.apply(\n",
        "#     lambda ids: create_sequences(ids, sequence_length, step_size)\n",
        "# )\n",
        "\n",
        "# del ratings_data[\"timestamps\"]"
      ],
      "execution_count": 27,
      "outputs": []
    },
    {
      "cell_type": "code",
      "metadata": {
        "id": "fLsKL0oOidxk",
        "colab": {
          "base_uri": "https://localhost:8080/"
        },
        "outputId": "e737c41c-576a-4399-d1b0-3cf843046f92"
      },
      "source": [
        "for i, v in enumerate(df_series):\n",
        "    df_series[i] = create_sequences(v, sequence_length, step_size)\n",
        "df_series[0]"
      ],
      "execution_count": 28,
      "outputs": [
        {
          "output_type": "execute_result",
          "data": {
            "text/plain": [
              "[['HAND OPEN SHAPE GOLD',\n",
              "  'RETRO SPOT MUG',\n",
              "  'RETRO SPOT SUGAR JAM BOWL',\n",
              "  'NEW ENGLAND CERAMIC CAKE SERVER',\n",
              "  'RETRO SPOT TRADITIONAL TEAPOT'],\n",
              " ['RETRO SPOT MUG',\n",
              "  'RETRO SPOT SUGAR JAM BOWL',\n",
              "  'NEW ENGLAND CERAMIC CAKE SERVER',\n",
              "  'RETRO SPOT TRADITIONAL TEAPOT',\n",
              "  'RETRO SPOT LARGE MILK JUG']]"
            ]
          },
          "metadata": {
            "tags": []
          },
          "execution_count": 28
        }
      ]
    },
    {
      "cell_type": "code",
      "metadata": {
        "colab": {
          "base_uri": "https://localhost:8080/"
        },
        "id": "C6xzMc6x0cjI",
        "outputId": "c398d7d0-f6a7-455d-9883-1d1e50216edc"
      },
      "source": [
        "df_list = []\n",
        "for v in df_series:\n",
        "    for value in v:\n",
        "        df_list.append(value)\n",
        "df_list[:2]"
      ],
      "execution_count": 29,
      "outputs": [
        {
          "output_type": "execute_result",
          "data": {
            "text/plain": [
              "[['HAND OPEN SHAPE GOLD',\n",
              "  'RETRO SPOT MUG',\n",
              "  'RETRO SPOT SUGAR JAM BOWL',\n",
              "  'NEW ENGLAND CERAMIC CAKE SERVER',\n",
              "  'RETRO SPOT TRADITIONAL TEAPOT'],\n",
              " ['RETRO SPOT MUG',\n",
              "  'RETRO SPOT SUGAR JAM BOWL',\n",
              "  'NEW ENGLAND CERAMIC CAKE SERVER',\n",
              "  'RETRO SPOT TRADITIONAL TEAPOT',\n",
              "  'RETRO SPOT LARGE MILK JUG']]"
            ]
          },
          "metadata": {
            "tags": []
          },
          "execution_count": 29
        }
      ]
    },
    {
      "cell_type": "code",
      "metadata": {
        "id": "GNoqx3HvyLAK"
      },
      "source": [
        "label_list = []\n",
        "\n",
        "for i in range(len(df_list)):\n",
        "    l = df_list[i][-1]\n",
        "    df_list[i].pop()\n",
        "    label_list.append(l)"
      ],
      "execution_count": 30,
      "outputs": []
    },
    {
      "cell_type": "code",
      "metadata": {
        "colab": {
          "base_uri": "https://localhost:8080/"
        },
        "id": "iU9kuMcL3iJ0",
        "outputId": "a99ef10a-4da0-4dc5-e80d-71f9edb00e13"
      },
      "source": [
        "df_list[:2]"
      ],
      "execution_count": 31,
      "outputs": [
        {
          "output_type": "execute_result",
          "data": {
            "text/plain": [
              "[['HAND OPEN SHAPE GOLD',\n",
              "  'RETRO SPOT MUG',\n",
              "  'RETRO SPOT SUGAR JAM BOWL',\n",
              "  'NEW ENGLAND CERAMIC CAKE SERVER'],\n",
              " ['RETRO SPOT MUG',\n",
              "  'RETRO SPOT SUGAR JAM BOWL',\n",
              "  'NEW ENGLAND CERAMIC CAKE SERVER',\n",
              "  'RETRO SPOT TRADITIONAL TEAPOT']]"
            ]
          },
          "metadata": {
            "tags": []
          },
          "execution_count": 31
        }
      ]
    },
    {
      "cell_type": "code",
      "metadata": {
        "colab": {
          "base_uri": "https://localhost:8080/"
        },
        "id": "KOmcenzx3h5i",
        "outputId": "d06d9367-eaa0-4ecc-8974-26e0a4d384f2"
      },
      "source": [
        "label_list[:2]"
      ],
      "execution_count": 32,
      "outputs": [
        {
          "output_type": "execute_result",
          "data": {
            "text/plain": [
              "['RETRO SPOT TRADITIONAL TEAPOT', 'RETRO SPOT LARGE MILK JUG']"
            ]
          },
          "metadata": {
            "tags": []
          },
          "execution_count": 32
        }
      ]
    },
    {
      "cell_type": "code",
      "metadata": {
        "colab": {
          "base_uri": "https://localhost:8080/",
          "height": 416
        },
        "id": "l556IhlQyLQV",
        "outputId": "3be6e5b4-ea46-4c77-949f-d414e9d9d7a6"
      },
      "source": [
        "df_new = pd.DataFrame(columns=['Detail', 'label'])\n",
        "df_new['Detail'] = df_list\n",
        "df_new['label'] = label_list\n",
        "df_new"
      ],
      "execution_count": 33,
      "outputs": [
        {
          "output_type": "execute_result",
          "data": {
            "text/html": [
              "<div>\n",
              "<style scoped>\n",
              "    .dataframe tbody tr th:only-of-type {\n",
              "        vertical-align: middle;\n",
              "    }\n",
              "\n",
              "    .dataframe tbody tr th {\n",
              "        vertical-align: top;\n",
              "    }\n",
              "\n",
              "    .dataframe thead th {\n",
              "        text-align: right;\n",
              "    }\n",
              "</style>\n",
              "<table border=\"1\" class=\"dataframe\">\n",
              "  <thead>\n",
              "    <tr style=\"text-align: right;\">\n",
              "      <th></th>\n",
              "      <th>Detail</th>\n",
              "      <th>label</th>\n",
              "    </tr>\n",
              "  </thead>\n",
              "  <tbody>\n",
              "    <tr>\n",
              "      <th>0</th>\n",
              "      <td>[HAND OPEN SHAPE GOLD, RETRO SPOT MUG, RETRO S...</td>\n",
              "      <td>RETRO SPOT TRADITIONAL TEAPOT</td>\n",
              "    </tr>\n",
              "    <tr>\n",
              "      <th>1</th>\n",
              "      <td>[RETRO SPOT MUG, RETRO SPOT SUGAR JAM BOWL, NE...</td>\n",
              "      <td>RETRO SPOT LARGE MILK JUG</td>\n",
              "    </tr>\n",
              "    <tr>\n",
              "      <th>2</th>\n",
              "      <td>[MOROCCAN TEA GLASS, BLACK FLOWER CANDLE PLATE...</td>\n",
              "      <td>CERAMIC CAKE DESIGN SPOTTED PLATE</td>\n",
              "    </tr>\n",
              "    <tr>\n",
              "      <th>3</th>\n",
              "      <td>[BLACK SILOUETTE CANDLE PLATE, VICTORIAN GLASS...</td>\n",
              "      <td>SAVE THE PLANET COTTON TOTE BAG</td>\n",
              "    </tr>\n",
              "    <tr>\n",
              "      <th>4</th>\n",
              "      <td>[CERAMIC CAKE DESIGN SPOTTED PLATE, PINK CLEAR...</td>\n",
              "      <td>STRAWBERRY CERAMIC TRINKET BOX</td>\n",
              "    </tr>\n",
              "    <tr>\n",
              "      <th>...</th>\n",
              "      <td>...</td>\n",
              "      <td>...</td>\n",
              "    </tr>\n",
              "    <tr>\n",
              "      <th>74502</th>\n",
              "      <td>[UNION STRIPE WITH FRINGE  HAMMOCK, RED/CREAM ...</td>\n",
              "      <td>WHITE HANGING HEART T-LIGHT HOLDER</td>\n",
              "    </tr>\n",
              "    <tr>\n",
              "      <th>74503</th>\n",
              "      <td>[OCEAN STRIPE HAMMOCK, BLUE/CREAM STRIPE FRING...</td>\n",
              "      <td>ENAMEL WATERING CAN CREAM</td>\n",
              "    </tr>\n",
              "    <tr>\n",
              "      <th>74504</th>\n",
              "      <td>[WHITE HANGING HEART T-LIGHT HOLDER, BAG 250g ...</td>\n",
              "      <td>NATURAL SLATE HEART CHALKBOARD</td>\n",
              "    </tr>\n",
              "    <tr>\n",
              "      <th>74505</th>\n",
              "      <td>[ENAMEL WATERING CAN CREAM, PORCELAIN HANGING ...</td>\n",
              "      <td>COLOUR GLASS T-LIGHT HOLDER HANGING</td>\n",
              "    </tr>\n",
              "    <tr>\n",
              "      <th>74506</th>\n",
              "      <td>[ENAMEL WATERING CAN CREAM, PORCELAIN HANGING ...</td>\n",
              "      <td>COLOUR GLASS T-LIGHT HOLDER HANGING</td>\n",
              "    </tr>\n",
              "  </tbody>\n",
              "</table>\n",
              "<p>74507 rows × 2 columns</p>\n",
              "</div>"
            ],
            "text/plain": [
              "                                                  Detail                                label\n",
              "0      [HAND OPEN SHAPE GOLD, RETRO SPOT MUG, RETRO S...        RETRO SPOT TRADITIONAL TEAPOT\n",
              "1      [RETRO SPOT MUG, RETRO SPOT SUGAR JAM BOWL, NE...            RETRO SPOT LARGE MILK JUG\n",
              "2      [MOROCCAN TEA GLASS, BLACK FLOWER CANDLE PLATE...    CERAMIC CAKE DESIGN SPOTTED PLATE\n",
              "3      [BLACK SILOUETTE CANDLE PLATE, VICTORIAN GLASS...      SAVE THE PLANET COTTON TOTE BAG\n",
              "4      [CERAMIC CAKE DESIGN SPOTTED PLATE, PINK CLEAR...       STRAWBERRY CERAMIC TRINKET BOX\n",
              "...                                                  ...                                  ...\n",
              "74502  [UNION STRIPE WITH FRINGE  HAMMOCK, RED/CREAM ...   WHITE HANGING HEART T-LIGHT HOLDER\n",
              "74503  [OCEAN STRIPE HAMMOCK, BLUE/CREAM STRIPE FRING...            ENAMEL WATERING CAN CREAM\n",
              "74504  [WHITE HANGING HEART T-LIGHT HOLDER, BAG 250g ...       NATURAL SLATE HEART CHALKBOARD\n",
              "74505  [ENAMEL WATERING CAN CREAM, PORCELAIN HANGING ...  COLOUR GLASS T-LIGHT HOLDER HANGING\n",
              "74506  [ENAMEL WATERING CAN CREAM, PORCELAIN HANGING ...  COLOUR GLASS T-LIGHT HOLDER HANGING\n",
              "\n",
              "[74507 rows x 2 columns]"
            ]
          },
          "metadata": {
            "tags": []
          },
          "execution_count": 33
        }
      ]
    },
    {
      "cell_type": "code",
      "metadata": {
        "colab": {
          "base_uri": "https://localhost:8080/",
          "height": 416
        },
        "id": "DfBLstEZyLM9",
        "outputId": "2f6154cc-71be-409e-d9fc-213942e6e982"
      },
      "source": [
        "df_new['Detail'] = df_new['Detail'].apply(lambda x: '&&'.join(map(str, x)))\n",
        "df_new"
      ],
      "execution_count": 34,
      "outputs": [
        {
          "output_type": "execute_result",
          "data": {
            "text/html": [
              "<div>\n",
              "<style scoped>\n",
              "    .dataframe tbody tr th:only-of-type {\n",
              "        vertical-align: middle;\n",
              "    }\n",
              "\n",
              "    .dataframe tbody tr th {\n",
              "        vertical-align: top;\n",
              "    }\n",
              "\n",
              "    .dataframe thead th {\n",
              "        text-align: right;\n",
              "    }\n",
              "</style>\n",
              "<table border=\"1\" class=\"dataframe\">\n",
              "  <thead>\n",
              "    <tr style=\"text-align: right;\">\n",
              "      <th></th>\n",
              "      <th>Detail</th>\n",
              "      <th>label</th>\n",
              "    </tr>\n",
              "  </thead>\n",
              "  <tbody>\n",
              "    <tr>\n",
              "      <th>0</th>\n",
              "      <td>HAND OPEN SHAPE GOLD&amp;&amp;RETRO SPOT MUG&amp;&amp;RETRO SP...</td>\n",
              "      <td>RETRO SPOT TRADITIONAL TEAPOT</td>\n",
              "    </tr>\n",
              "    <tr>\n",
              "      <th>1</th>\n",
              "      <td>RETRO SPOT MUG&amp;&amp;RETRO SPOT SUGAR JAM BOWL&amp;&amp;NEW...</td>\n",
              "      <td>RETRO SPOT LARGE MILK JUG</td>\n",
              "    </tr>\n",
              "    <tr>\n",
              "      <th>2</th>\n",
              "      <td>MOROCCAN TEA GLASS&amp;&amp;BLACK FLOWER CANDLE PLATE&amp;...</td>\n",
              "      <td>CERAMIC CAKE DESIGN SPOTTED PLATE</td>\n",
              "    </tr>\n",
              "    <tr>\n",
              "      <th>3</th>\n",
              "      <td>BLACK SILOUETTE CANDLE PLATE&amp;&amp;VICTORIAN GLASS ...</td>\n",
              "      <td>SAVE THE PLANET COTTON TOTE BAG</td>\n",
              "    </tr>\n",
              "    <tr>\n",
              "      <th>4</th>\n",
              "      <td>CERAMIC CAKE DESIGN SPOTTED PLATE&amp;&amp;PINK CLEAR ...</td>\n",
              "      <td>STRAWBERRY CERAMIC TRINKET BOX</td>\n",
              "    </tr>\n",
              "    <tr>\n",
              "      <th>...</th>\n",
              "      <td>...</td>\n",
              "      <td>...</td>\n",
              "    </tr>\n",
              "    <tr>\n",
              "      <th>74502</th>\n",
              "      <td>UNION STRIPE WITH FRINGE  HAMMOCK&amp;&amp;RED/CREAM S...</td>\n",
              "      <td>WHITE HANGING HEART T-LIGHT HOLDER</td>\n",
              "    </tr>\n",
              "    <tr>\n",
              "      <th>74503</th>\n",
              "      <td>OCEAN STRIPE HAMMOCK&amp;&amp;BLUE/CREAM STRIPE FRINGE...</td>\n",
              "      <td>ENAMEL WATERING CAN CREAM</td>\n",
              "    </tr>\n",
              "    <tr>\n",
              "      <th>74504</th>\n",
              "      <td>WHITE HANGING HEART T-LIGHT HOLDER&amp;&amp;BAG 250g S...</td>\n",
              "      <td>NATURAL SLATE HEART CHALKBOARD</td>\n",
              "    </tr>\n",
              "    <tr>\n",
              "      <th>74505</th>\n",
              "      <td>ENAMEL WATERING CAN CREAM&amp;&amp;PORCELAIN HANGING B...</td>\n",
              "      <td>COLOUR GLASS T-LIGHT HOLDER HANGING</td>\n",
              "    </tr>\n",
              "    <tr>\n",
              "      <th>74506</th>\n",
              "      <td>ENAMEL WATERING CAN CREAM&amp;&amp;PORCELAIN HANGING B...</td>\n",
              "      <td>COLOUR GLASS T-LIGHT HOLDER HANGING</td>\n",
              "    </tr>\n",
              "  </tbody>\n",
              "</table>\n",
              "<p>74507 rows × 2 columns</p>\n",
              "</div>"
            ],
            "text/plain": [
              "                                                  Detail                                label\n",
              "0      HAND OPEN SHAPE GOLD&&RETRO SPOT MUG&&RETRO SP...        RETRO SPOT TRADITIONAL TEAPOT\n",
              "1      RETRO SPOT MUG&&RETRO SPOT SUGAR JAM BOWL&&NEW...            RETRO SPOT LARGE MILK JUG\n",
              "2      MOROCCAN TEA GLASS&&BLACK FLOWER CANDLE PLATE&...    CERAMIC CAKE DESIGN SPOTTED PLATE\n",
              "3      BLACK SILOUETTE CANDLE PLATE&&VICTORIAN GLASS ...      SAVE THE PLANET COTTON TOTE BAG\n",
              "4      CERAMIC CAKE DESIGN SPOTTED PLATE&&PINK CLEAR ...       STRAWBERRY CERAMIC TRINKET BOX\n",
              "...                                                  ...                                  ...\n",
              "74502  UNION STRIPE WITH FRINGE  HAMMOCK&&RED/CREAM S...   WHITE HANGING HEART T-LIGHT HOLDER\n",
              "74503  OCEAN STRIPE HAMMOCK&&BLUE/CREAM STRIPE FRINGE...            ENAMEL WATERING CAN CREAM\n",
              "74504  WHITE HANGING HEART T-LIGHT HOLDER&&BAG 250g S...       NATURAL SLATE HEART CHALKBOARD\n",
              "74505  ENAMEL WATERING CAN CREAM&&PORCELAIN HANGING B...  COLOUR GLASS T-LIGHT HOLDER HANGING\n",
              "74506  ENAMEL WATERING CAN CREAM&&PORCELAIN HANGING B...  COLOUR GLASS T-LIGHT HOLDER HANGING\n",
              "\n",
              "[74507 rows x 2 columns]"
            ]
          },
          "metadata": {
            "tags": []
          },
          "execution_count": 34
        }
      ]
    },
    {
      "cell_type": "code",
      "metadata": {
        "id": "_di2RVSOidlS",
        "colab": {
          "base_uri": "https://localhost:8080/"
        },
        "outputId": "26703a6c-2c3b-4643-8ba1-67c20e59bd38"
      },
      "source": [
        "print(df_new.isnull().sum())\n",
        "df_new.dropna(inplace=True)\n",
        "df_new.isnull().sum()"
      ],
      "execution_count": 95,
      "outputs": [
        {
          "output_type": "stream",
          "text": [
            "Detail    0\n",
            "label     0\n",
            "dtype: int64\n"
          ],
          "name": "stdout"
        },
        {
          "output_type": "execute_result",
          "data": {
            "text/plain": [
              "Detail    0\n",
              "label     0\n",
              "dtype: int64"
            ]
          },
          "metadata": {
            "tags": []
          },
          "execution_count": 95
        }
      ]
    },
    {
      "cell_type": "code",
      "metadata": {
        "colab": {
          "base_uri": "https://localhost:8080/",
          "height": 433
        },
        "id": "h67mUuV-yLD0",
        "outputId": "e84c5d0f-52d7-4cb5-cb13-cdbff2519ba5"
      },
      "source": [
        "print(df_new.duplicated().sum())\n",
        "df_new.drop_duplicates(inplace=True)\n",
        "df_new.reset_index(inplace=True)\n",
        "df_new.pop('index')\n",
        "df_new"
      ],
      "execution_count": 96,
      "outputs": [
        {
          "output_type": "stream",
          "text": [
            "0\n"
          ],
          "name": "stdout"
        },
        {
          "output_type": "execute_result",
          "data": {
            "text/html": [
              "<div>\n",
              "<style scoped>\n",
              "    .dataframe tbody tr th:only-of-type {\n",
              "        vertical-align: middle;\n",
              "    }\n",
              "\n",
              "    .dataframe tbody tr th {\n",
              "        vertical-align: top;\n",
              "    }\n",
              "\n",
              "    .dataframe thead th {\n",
              "        text-align: right;\n",
              "    }\n",
              "</style>\n",
              "<table border=\"1\" class=\"dataframe\">\n",
              "  <thead>\n",
              "    <tr style=\"text-align: right;\">\n",
              "      <th></th>\n",
              "      <th>Detail</th>\n",
              "      <th>label</th>\n",
              "    </tr>\n",
              "  </thead>\n",
              "  <tbody>\n",
              "    <tr>\n",
              "      <th>0</th>\n",
              "      <td>HAND OPEN SHAPE GOLD&amp;&amp;RETRO SPOT MUG&amp;&amp;RETRO SP...</td>\n",
              "      <td>RETRO SPOT TRADITIONAL TEAPOT</td>\n",
              "    </tr>\n",
              "    <tr>\n",
              "      <th>1</th>\n",
              "      <td>RETRO SPOT MUG&amp;&amp;RETRO SPOT SUGAR JAM BOWL&amp;&amp;NEW...</td>\n",
              "      <td>RETRO SPOT LARGE MILK JUG</td>\n",
              "    </tr>\n",
              "    <tr>\n",
              "      <th>2</th>\n",
              "      <td>MOROCCAN TEA GLASS&amp;&amp;BLACK FLOWER CANDLE PLATE&amp;...</td>\n",
              "      <td>CERAMIC CAKE DESIGN SPOTTED PLATE</td>\n",
              "    </tr>\n",
              "    <tr>\n",
              "      <th>3</th>\n",
              "      <td>BLACK SILOUETTE CANDLE PLATE&amp;&amp;VICTORIAN GLASS ...</td>\n",
              "      <td>SAVE THE PLANET COTTON TOTE BAG</td>\n",
              "    </tr>\n",
              "    <tr>\n",
              "      <th>4</th>\n",
              "      <td>CERAMIC CAKE DESIGN SPOTTED PLATE&amp;&amp;PINK CLEAR ...</td>\n",
              "      <td>STRAWBERRY CERAMIC TRINKET BOX</td>\n",
              "    </tr>\n",
              "    <tr>\n",
              "      <th>...</th>\n",
              "      <td>...</td>\n",
              "      <td>...</td>\n",
              "    </tr>\n",
              "    <tr>\n",
              "      <th>71200</th>\n",
              "      <td>WOODEN SKITTLES GARDEN SET&amp;&amp;DOORMAT UNION FLAG...</td>\n",
              "      <td>WOODEN CROQUET GARDEN SET</td>\n",
              "    </tr>\n",
              "    <tr>\n",
              "      <th>71201</th>\n",
              "      <td>UNION STRIPE WITH FRINGE  HAMMOCK&amp;&amp;RED/CREAM S...</td>\n",
              "      <td>WHITE HANGING HEART T-LIGHT HOLDER</td>\n",
              "    </tr>\n",
              "    <tr>\n",
              "      <th>71202</th>\n",
              "      <td>OCEAN STRIPE HAMMOCK&amp;&amp;BLUE/CREAM STRIPE FRINGE...</td>\n",
              "      <td>ENAMEL WATERING CAN CREAM</td>\n",
              "    </tr>\n",
              "    <tr>\n",
              "      <th>71203</th>\n",
              "      <td>WHITE HANGING HEART T-LIGHT HOLDER&amp;&amp;BAG 250g S...</td>\n",
              "      <td>NATURAL SLATE HEART CHALKBOARD</td>\n",
              "    </tr>\n",
              "    <tr>\n",
              "      <th>71204</th>\n",
              "      <td>ENAMEL WATERING CAN CREAM&amp;&amp;PORCELAIN HANGING B...</td>\n",
              "      <td>COLOUR GLASS T-LIGHT HOLDER HANGING</td>\n",
              "    </tr>\n",
              "  </tbody>\n",
              "</table>\n",
              "<p>71205 rows × 2 columns</p>\n",
              "</div>"
            ],
            "text/plain": [
              "                                                  Detail                                label\n",
              "0      HAND OPEN SHAPE GOLD&&RETRO SPOT MUG&&RETRO SP...        RETRO SPOT TRADITIONAL TEAPOT\n",
              "1      RETRO SPOT MUG&&RETRO SPOT SUGAR JAM BOWL&&NEW...            RETRO SPOT LARGE MILK JUG\n",
              "2      MOROCCAN TEA GLASS&&BLACK FLOWER CANDLE PLATE&...    CERAMIC CAKE DESIGN SPOTTED PLATE\n",
              "3      BLACK SILOUETTE CANDLE PLATE&&VICTORIAN GLASS ...      SAVE THE PLANET COTTON TOTE BAG\n",
              "4      CERAMIC CAKE DESIGN SPOTTED PLATE&&PINK CLEAR ...       STRAWBERRY CERAMIC TRINKET BOX\n",
              "...                                                  ...                                  ...\n",
              "71200  WOODEN SKITTLES GARDEN SET&&DOORMAT UNION FLAG...            WOODEN CROQUET GARDEN SET\n",
              "71201  UNION STRIPE WITH FRINGE  HAMMOCK&&RED/CREAM S...   WHITE HANGING HEART T-LIGHT HOLDER\n",
              "71202  OCEAN STRIPE HAMMOCK&&BLUE/CREAM STRIPE FRINGE...            ENAMEL WATERING CAN CREAM\n",
              "71203  WHITE HANGING HEART T-LIGHT HOLDER&&BAG 250g S...       NATURAL SLATE HEART CHALKBOARD\n",
              "71204  ENAMEL WATERING CAN CREAM&&PORCELAIN HANGING B...  COLOUR GLASS T-LIGHT HOLDER HANGING\n",
              "\n",
              "[71205 rows x 2 columns]"
            ]
          },
          "metadata": {
            "tags": []
          },
          "execution_count": 96
        }
      ]
    },
    {
      "cell_type": "code",
      "metadata": {
        "id": "HHOhWtomiddN"
      },
      "source": [
        ""
      ],
      "execution_count": 35,
      "outputs": []
    },
    {
      "cell_type": "code",
      "metadata": {
        "id": "j9F4oyLRcxpY"
      },
      "source": [
        "# df1 = df.copy()\n",
        "# df1.pop('Detail')\n",
        "# df1.drop_duplicates(inplace=True)\n",
        "# df1.reset_index(inplace=True)\n",
        "# df1.drop('index', axis=1, inplace=True)\n",
        "# df1.drop_duplicates(inplace=True)\n",
        "# df1.reset_index(inplace=True)\n",
        "# df1.pop('index')\n",
        "# display(df1.head())\n",
        "# len(df1)"
      ],
      "execution_count": 36,
      "outputs": []
    },
    {
      "cell_type": "code",
      "metadata": {
        "id": "qeJ-lIcKZZdh"
      },
      "source": [
        "# df2 = pd.DataFrame(columns=['Invoice', 'Detail'])\n",
        "# values = df['Invoice'].value_counts().index.sort_values()\n",
        "\n",
        "# for i, v in enumerate(values):\n",
        "#     df2.loc[i] = (v, '&&'.join(df[df['Invoice'] == v]['Detail']))\n",
        "# df2"
      ],
      "execution_count": 37,
      "outputs": []
    },
    {
      "cell_type": "code",
      "metadata": {
        "id": "51w0wxII4F0S"
      },
      "source": [
        "# df1_ = df1.drop(['Invoice'], axis=1)\n",
        "# df1_"
      ],
      "execution_count": 38,
      "outputs": []
    },
    {
      "cell_type": "code",
      "metadata": {
        "id": "4RZH-g0-dwtT"
      },
      "source": [
        "# df3 = pd.concat([df1_, df2], axis=1)\n",
        "# df3"
      ],
      "execution_count": 39,
      "outputs": []
    },
    {
      "cell_type": "code",
      "metadata": {
        "id": "nycHNxBG8hZk"
      },
      "source": [
        "# token_df = df3.copy()\n",
        "# token_df['Detail'] = token_df['Detail'].str.replace('&&', ' [SEP] ')\n",
        "# sentences = token_df['Detail']\n",
        "# sentences = [\"[CLS] \" + str(sentence).lower() + \" [SEP]\" for sentence in sentences]\n",
        "# sentences = [sentence.replace('[sep]', '[SEP]') for sentence in sentences]\n",
        "# sentences[0]"
      ],
      "execution_count": 40,
      "outputs": []
    },
    {
      "cell_type": "code",
      "metadata": {
        "id": "Nduvvg8CBqLE"
      },
      "source": [
        "# token_df.head()"
      ],
      "execution_count": 41,
      "outputs": []
    },
    {
      "cell_type": "code",
      "metadata": {
        "id": "qwKkFr2chr3a"
      },
      "source": [
        "# sent = '[CLS] (2마리) 코다리매콤명태찜 [SEP] (小) 로스팅훈제족발+쟁반국수 [SEP] (2인분) 쫄볶이(치즈 오뎅 떡 계란2개 쫄면사리) [SEP] 세트 트러블슈프림양념치킨+후라이드치킨 메뉴 [SEP] B치즈닭발2인세트 +주먹밥+계란찜+샐러드+쿨피스'\n",
        "# tokenizer = BertTokenizer.from_pretrained('bert-base-multilingual-cased')\n",
        "# tokenized_texts = [tokenizer.tokenize(sent)]\n",
        "# tokenized_texts"
      ],
      "execution_count": 42,
      "outputs": []
    },
    {
      "cell_type": "code",
      "metadata": {
        "id": "-xFHMZfEZ-h3"
      },
      "source": [
        "# def BERTtokenizer(sentences):\n",
        "#     # BERT의 토크나이저로 문장을 토큰으로 분리\n",
        "#     tokenizer = BertTokenizer.from_pretrained('bert-base-uncased', do_lower_case=True)\n",
        "#     # tokenized_texts = [tokenizer.tokenize(sent) for sent in sentences]\n",
        "#     tokenized_texts = [tokenizer.tokenize(sent) for sent in sentences]\n",
        "#     return tokenized_texts"
      ],
      "execution_count": 43,
      "outputs": []
    },
    {
      "cell_type": "code",
      "metadata": {
        "id": "BfCWW0muARUL"
      },
      "source": [
        "# tokenized_texts = BERTtokenizer(sentences)\n",
        "\n",
        "# print (sentences[0])\n",
        "# print (tokenized_texts[0])\n",
        "# len(tokenized_texts)"
      ],
      "execution_count": 44,
      "outputs": []
    },
    {
      "cell_type": "code",
      "metadata": {
        "id": "H6RZ--3daYNE"
      },
      "source": [
        "# def SPACEtokenizer(sentences):\n",
        "#     tokenized_texts2 = [sent.split(' ') for sent in sentences]\n",
        "#     return tokenized_texts2"
      ],
      "execution_count": 45,
      "outputs": []
    },
    {
      "cell_type": "code",
      "metadata": {
        "id": "fd_r3If3B8j6"
      },
      "source": [
        "# tokenized_texts2 = SPACEtokenizer(sentences)\n",
        "# print(tokenized_texts2[0])\n",
        "# len(tokenized_texts2)"
      ],
      "execution_count": 46,
      "outputs": []
    },
    {
      "cell_type": "code",
      "metadata": {
        "id": "RfkcLTbAPC8C"
      },
      "source": [
        "# tokenized_df = token_df.copy()\n",
        "# tokenized_df['Detail'] = tokenized_texts\n",
        "# # print(len(tokenized_df))\n",
        "# tokenized_df"
      ],
      "execution_count": 47,
      "outputs": []
    },
    {
      "cell_type": "code",
      "metadata": {
        "id": "Wz-AzBl1PYOf"
      },
      "source": [
        "# num = 0\n",
        "# for i in range(len(tokenized_df['Detail'])):\n",
        "#     num += len(tokenized_df['Detail'][i])\n",
        "# print(num / len(tokenized_df))\n",
        "\n",
        "# a, b = 0, 0\n",
        "# for i in range(len(tokenized_df['Detail'])):\n",
        "#     a = len(tokenized_df['Detail'][i])\n",
        "#     if a > b:\n",
        "#         b = a\n",
        "# print(b)"
      ],
      "execution_count": 48,
      "outputs": []
    },
    {
      "cell_type": "code",
      "metadata": {
        "id": "kxJPZvu3Is1C"
      },
      "source": [
        "# tokenized_df['Detail'] = tokenized_df['Detail'].apply(lambda x: ','.join(map(str, x)))\n",
        "# tokenized_df.head()"
      ],
      "execution_count": 49,
      "outputs": []
    },
    {
      "cell_type": "code",
      "metadata": {
        "id": "0r7c7et167PC"
      },
      "source": [
        "# tokenized_df2 = token_df.copy()\n",
        "# tokenized_df2['Detail'] = tokenized_texts2\n",
        "# # print(len(tokenized_df2))\n",
        "# tokenized_df2"
      ],
      "execution_count": 50,
      "outputs": []
    },
    {
      "cell_type": "code",
      "metadata": {
        "id": "gEnKwnUwK8aJ"
      },
      "source": [
        "# tokenized_df2['Detail'] = tokenized_df2['Detail'].apply(lambda x: ','.join(map(str, x)))\n",
        "# tokenized_df2.head()"
      ],
      "execution_count": 51,
      "outputs": []
    },
    {
      "cell_type": "code",
      "metadata": {
        "id": "vL63phs6DhVY"
      },
      "source": [
        "# Customer = df3['Customer'].unique()\n",
        "# len(Customer)"
      ],
      "execution_count": 52,
      "outputs": []
    },
    {
      "cell_type": "code",
      "metadata": {
        "id": "Vz9JTZAiC7NW"
      },
      "source": [
        "# MAX_LEN = 512"
      ],
      "execution_count": 53,
      "outputs": []
    },
    {
      "cell_type": "code",
      "metadata": {
        "id": "2uBNxmSfDDaU"
      },
      "source": [
        "# overlen = []\n",
        "# tokenized_texts_copy = tokenized_texts.copy()\n",
        "# for i in range(len(tokenized_texts_copy)):\n",
        "#     if len(tokenized_texts_copy[i]) > MAX_LEN:\n",
        "#         overlen.append(tokenized_texts_copy[i])\n",
        "#         while 1:\n",
        "#             id = tokenized_texts_copy[i].index('[SEP]')\n",
        "#             tokenized_texts_copy[i] = tokenized_texts_copy[i][id:]\n",
        "#             tokenized_texts_copy[i][0] = '[CLS]'\n",
        "#             if len(tokenized_texts_copy[i]) <= MAX_LEN:\n",
        "#                 break\n",
        "# tok = []\n",
        "# for i in range(len(tokenized_texts_copy)):\n",
        "#     if len(tokenized_texts_copy[i]) > MAX_LEN:\n",
        "#         tok.append(len(tokenized_texts_copy[i]))\n",
        "# # print(max(tok))\n",
        "# print(len(tok))\n",
        "# print(len(tokenized_texts_copy))\n",
        "# print(len(overlen[0]))\n",
        "# print(len(overlen))\n",
        "# print(overlen[0])"
      ],
      "execution_count": 54,
      "outputs": []
    },
    {
      "cell_type": "code",
      "metadata": {
        "id": "xERAXvU-Eqxi"
      },
      "source": [
        "# overlen2 = []\n",
        "# tokenized_texts_copy2 = tokenized_texts2.copy()\n",
        "# for i in range(len(tokenized_texts_copy2)):\n",
        "#     if len(tokenized_texts_copy2[i]) > MAX_LEN:\n",
        "#         overlen2.append(tokenized_texts_copy2[i])\n",
        "#         while 1:\n",
        "#             id = tokenized_texts_copy2[i].index('[SEP]')\n",
        "#             tokenized_texts_copy2[i] = tokenized_texts_copy2[i][id:]\n",
        "#             tokenized_texts_copy2[i][0] = '[CLS]'\n",
        "#             if len(tokenized_texts_copy2[i]) <= MAX_LEN:\n",
        "#                 break\n",
        "# tok = []\n",
        "# for i in range(len(tokenized_texts_copy2)):\n",
        "#     if len(tokenized_texts_copy2[i]) > MAX_LEN:\n",
        "#         tok.append(len(tokenized_texts_copy2[i]))\n",
        "# # print(max(tok))\n",
        "# print(len(tok))\n",
        "# print(len(tokenized_texts_copy2))\n",
        "# print(len(overlen2[0]))\n",
        "# print(len(overlen2))\n",
        "# print(overlen2[0])"
      ],
      "execution_count": 55,
      "outputs": []
    },
    {
      "cell_type": "code",
      "metadata": {
        "id": "iYr7bUJiRmiX"
      },
      "source": [
        "# idx = []\n",
        "# for i in range(len(overlen)):\n",
        "#     idx.append(tokenized_df.index[tokenized_df['Detail'] == ','.join(v for v in overlen[i])].tolist())\n",
        "# print(len(idx))\n",
        "# print(idx)"
      ],
      "execution_count": 56,
      "outputs": []
    },
    {
      "cell_type": "code",
      "metadata": {
        "id": "Eux5O16TH0IT"
      },
      "source": [
        "# idx2 = []\n",
        "# for i in range(len(overlen2)):\n",
        "#     idx2.append(tokenized_df2.index[tokenized_df2['Detail'] == ','.join(v for v in overlen2[i])].tolist())\n",
        "# print(len(idx2))\n",
        "# print(idx2)"
      ],
      "execution_count": 57,
      "outputs": []
    },
    {
      "cell_type": "code",
      "metadata": {
        "id": "b7rSCYvRICJ7"
      },
      "source": [
        "# overlen_df = pd.DataFrame(columns=df3.columns)\n",
        "# df_reduced = df3.copy()\n",
        "# for i, v in enumerate(idx):\n",
        "#     overlen_df.loc[i] = tokenized_df.loc[v[0]]\n",
        "#     df_reduced.drop(v[0], inplace=True)\n",
        "# overlen_df"
      ],
      "execution_count": 58,
      "outputs": []
    },
    {
      "cell_type": "code",
      "metadata": {
        "id": "7Y_1tXmqRchm"
      },
      "source": [
        "# overlen_df2 = pd.DataFrame(columns=df3.columns)\n",
        "# df_reduced2 = df3.copy()\n",
        "# for i, v in enumerate(idx2):\n",
        "#     overlen_df2.loc[i] = tokenized_df2.loc[v[0]]\n",
        "#     df_reduced2.drop(v[0], inplace=True)\n",
        "# overlen_df2"
      ],
      "execution_count": 59,
      "outputs": []
    },
    {
      "cell_type": "code",
      "metadata": {
        "id": "P-cSZEGqSSgm"
      },
      "source": [
        "# df_reduced"
      ],
      "execution_count": 60,
      "outputs": []
    },
    {
      "cell_type": "code",
      "metadata": {
        "id": "ehgRFNw2ZCnJ"
      },
      "source": [
        "# df_reduced2"
      ],
      "execution_count": 61,
      "outputs": []
    },
    {
      "cell_type": "code",
      "metadata": {
        "id": "uG8_QScPZHv2"
      },
      "source": [
        "# df_reduced = sortdf(df_reduced, ['Customer', 'Invoice'])\n",
        "# df_reduced"
      ],
      "execution_count": 62,
      "outputs": []
    },
    {
      "cell_type": "code",
      "metadata": {
        "id": "1sqmvt7QZjKR"
      },
      "source": [
        "# df_reduced2 = sortdf(df_reduced2, ['Customer', 'Invoice'])\n",
        "# df_reduced2"
      ],
      "execution_count": 63,
      "outputs": []
    },
    {
      "cell_type": "code",
      "metadata": {
        "id": "0-QD8qIXZtdP"
      },
      "source": [
        "# df_add = pd.DataFrame(columns=['Customer', 'Detail'])\n",
        "\n",
        "# for i in range(len(df_reduced) - 1):\n",
        "#     if df_reduced.loc[i, 'Customer'] != df_reduced.loc[i+1, 'Customer']:\n",
        "#         continue\n",
        "#     df_add.loc[i] = (df_reduced.loc[i, 'Customer'], df_reduced.loc[i, 'Detail'] + df_reduced.loc[i+1, 'Detail'])\n",
        "# df_add"
      ],
      "execution_count": 64,
      "outputs": []
    },
    {
      "cell_type": "code",
      "metadata": {
        "id": "S0scm0Lwga9t"
      },
      "source": [
        "# df_add2 = pd.DataFrame(columns=['Customer', 'Detail'])\n",
        "\n",
        "# for i in range(len(df_reduced2) - 1):\n",
        "#     if df_reduced2.loc[i, 'Customer'] != df_reduced2.loc[i+1, 'Customer']:\n",
        "#         continue\n",
        "#     df_add2.loc[i] = (df_reduced2.loc[i, 'Customer'], df_reduced2.loc[i, 'Detail'] + df_reduced2.loc[i+1, 'Detail'])\n",
        "# df_add2"
      ],
      "execution_count": 65,
      "outputs": []
    },
    {
      "cell_type": "code",
      "metadata": {
        "id": "ubJS77LVum9d"
      },
      "source": [
        "# data_bert = pd.concat([df3.drop('Invoice', axis=1), df_add])\n",
        "# data_bert.reset_index(inplace=True)\n",
        "# data_bert.pop('index')\n",
        "# data_bert"
      ],
      "execution_count": 66,
      "outputs": []
    },
    {
      "cell_type": "code",
      "metadata": {
        "id": "GLfj85YXzFQW"
      },
      "source": [
        "# data_space = pd.concat([df3.drop('Invoice', axis=1), df_add2])\n",
        "# data_space.reset_index(inplace=True)\n",
        "# data_space.pop('index')\n",
        "# data_space"
      ],
      "execution_count": 67,
      "outputs": []
    },
    {
      "cell_type": "code",
      "metadata": {
        "id": "xFOJ0x1K0-cA"
      },
      "source": [
        "# # temp_bert = data_bert['Detail'].str.replace(' [SEP] ', '*')\n",
        "# # type(temp_bert)\n",
        "# series_bert = data_bert['Detail'].str.split('&&')\n",
        "# print(type(series_bert))\n",
        "# display(series_bert)\n",
        "# print(series_bert[0][-1])\n",
        "# len(series_bert[0])"
      ],
      "execution_count": 68,
      "outputs": []
    },
    {
      "cell_type": "code",
      "metadata": {
        "id": "uPsGHygf1_F0"
      },
      "source": [
        "# series_space = data_space['Detail'].str.split('&&')\n",
        "# print(type(series_space))\n",
        "# print(len(series_space))\n",
        "# print(series_space[0][-1])\n",
        "# len(series_space[0])"
      ],
      "execution_count": 69,
      "outputs": []
    },
    {
      "cell_type": "code",
      "metadata": {
        "id": "bg7V6-D54oT4"
      },
      "source": [
        "# label_bert = []\n",
        "\n",
        "# for i in range(len(series_bert)):\n",
        "#     l = series_bert[i][-1]\n",
        "#     series_bert[i].pop()\n",
        "#     label_bert.append(l)\n",
        "\n",
        "# print(label_bert[:5])\n",
        "# # series_bert[0][-1]\n",
        "# len(label_bert)"
      ],
      "execution_count": 70,
      "outputs": []
    },
    {
      "cell_type": "code",
      "metadata": {
        "id": "sJfjgqMafWSS"
      },
      "source": [
        "# label_space = []\n",
        "\n",
        "# for i in range(len(series_space)):\n",
        "#     l = series_space[i][-1]\n",
        "#     series_space[i].pop()\n",
        "#     label_space.append(l)\n",
        "\n",
        "# print(label_space[:5])\n",
        "# len(label_space)"
      ],
      "execution_count": 71,
      "outputs": []
    },
    {
      "cell_type": "code",
      "metadata": {
        "id": "7_ZBTMW8h2VK"
      },
      "source": [
        "# data_bert['Detail'] = series_bert.apply(lambda x: '&&'.join(map(str, x)))\n",
        "# data_bert.head()"
      ],
      "execution_count": 72,
      "outputs": []
    },
    {
      "cell_type": "code",
      "metadata": {
        "id": "gNN6DQWgh2Dr"
      },
      "source": [
        "# data_space['Detail'] = series_space.apply(lambda x: '&&'.join(map(str, x)))\n",
        "# data_space.head()"
      ],
      "execution_count": 73,
      "outputs": []
    },
    {
      "cell_type": "code",
      "metadata": {
        "id": "D0sL5t14nLbQ"
      },
      "source": [
        "# data_bert['label'] = label_bert\n",
        "# data_space['label'] = label_space\n",
        "# data_bert.dropna()\n",
        "# data_space.dropna()"
      ],
      "execution_count": 74,
      "outputs": []
    },
    {
      "cell_type": "code",
      "metadata": {
        "id": "-SW6lLoY36_f"
      },
      "source": [
        "# print(sorted(data_bert['Detail'].unique())[0])\n",
        "# sorted(data_space['Detail'].unique())[0]"
      ],
      "execution_count": 75,
      "outputs": []
    },
    {
      "cell_type": "code",
      "metadata": {
        "id": "NQqOkfvk4BpT"
      },
      "source": [
        "# idx = data_bert[data_bert['Detail'] == ''].index\n",
        "# data_bert.drop(idx, inplace=True)\n",
        "# idx = data_space[data_space['Detail'] == ''].index\n",
        "# data_space.drop(idx, inplace=True)"
      ],
      "execution_count": 76,
      "outputs": []
    },
    {
      "cell_type": "code",
      "metadata": {
        "id": "At4XHA0X4GVy"
      },
      "source": [
        "# data_bert.reset_index(inplace=True)\n",
        "# data_bert.pop('index')\n",
        "# data_space.reset_index(inplace=True)\n",
        "# data_space.pop('index')"
      ],
      "execution_count": 77,
      "outputs": []
    },
    {
      "cell_type": "code",
      "metadata": {
        "id": "W1S7PJddmSbD"
      },
      "source": [
        "# token_data_bert = data_bert.copy()\n",
        "# token_data_bert['Detail'] = token_data_bert['Detail'].str.replace('&&', ' [SEP] ')\n",
        "# sentences_bert = token_data_bert['Detail']\n",
        "# sentences_bert = [\"[CLS] \" + str(sentence).lower() + \" [SEP]\" for sentence in sentences_bert]\n",
        "# sentences_bert = [sentence.replace('[sep]', '[SEP]') for sentence in sentences_bert]\n",
        "# sentences_bert[0]"
      ],
      "execution_count": 78,
      "outputs": []
    },
    {
      "cell_type": "code",
      "metadata": {
        "id": "07bNH5qkmSOj"
      },
      "source": [
        "# token_data_space = data_space.copy()\n",
        "# token_data_space['Detail'] = token_data_space['Detail'].str.replace('&&', ' [SEP] ')\n",
        "# sentences_space = token_data_space['Detail']\n",
        "# sentences_space = [\"[CLS] \" + str(sentence).lower() + \" [SEP]\" for sentence in sentences_space]\n",
        "# sentences_space = [sentence.replace('[sep]', '[SEP]') for sentence in sentences_space]\n",
        "# sentences_space[0]"
      ],
      "execution_count": 79,
      "outputs": []
    },
    {
      "cell_type": "code",
      "metadata": {
        "id": "V0TdbHoBnGkm"
      },
      "source": [
        "# tokenized_texts_bert = BERTtokenizer(sentences_bert)\n",
        "\n",
        "# print (sentences_bert[0])\n",
        "# print (tokenized_texts_bert[0])\n",
        "# len(tokenized_texts_bert)"
      ],
      "execution_count": 80,
      "outputs": []
    },
    {
      "cell_type": "code",
      "metadata": {
        "id": "FswDlZVknGcG"
      },
      "source": [
        "# tokenized_texts_space = SPACEtokenizer(sentences_space)\n",
        "# print(tokenized_texts_space[0])\n",
        "# len(tokenized_texts_space)"
      ],
      "execution_count": 81,
      "outputs": []
    },
    {
      "cell_type": "code",
      "metadata": {
        "id": "sKiSMERgAwZ_"
      },
      "source": [
        "# token_data_bert['Detail'] = tokenized_texts_bert\n",
        "# token_data_space['Detail'] = tokenized_texts_space"
      ],
      "execution_count": 82,
      "outputs": []
    },
    {
      "cell_type": "code",
      "metadata": {
        "id": "UaOsEFBBAsbr"
      },
      "source": [
        "# # df_add.reset_index(inplace=True)\n",
        "# # df_add.pop('index')\n",
        "\n",
        "# num = 0\n",
        "# for i in range(7372, len(token_data_bert['Detail'])):\n",
        "#     num += len(token_data_bert['Detail'][i])\n",
        "# print(num / (len(token_data_bert) - 7372))\n",
        "\n",
        "# a, b = 0, 0\n",
        "# for i in range(len(token_data_bert['Detail'])):\n",
        "#     a = len(token_data_bert['Detail'][i])\n",
        "#     if a > b:\n",
        "#         b = a\n",
        "# print(b)"
      ],
      "execution_count": 83,
      "outputs": []
    },
    {
      "cell_type": "markdown",
      "metadata": {
        "id": "EmqaTsUknOq5"
      },
      "source": [
        "자르기"
      ]
    },
    {
      "cell_type": "code",
      "metadata": {
        "id": "OqxC_Jy7giHU"
      },
      "source": [
        "# # overlen = []\n",
        "# tokenized_texts_bert_copy = tokenized_texts_bert.copy()\n",
        "# for i in range(len(tokenized_texts_bert_copy)):\n",
        "#     if len(tokenized_texts_bert_copy[i]) > MAX_LEN:\n",
        "#         # overlen.append(tokenized_texts_bert_copy[i])\n",
        "#         while 1:\n",
        "#             id = tokenized_texts_bert_copy[i].index('[SEP]')\n",
        "#             tokenized_texts_bert_copy[i] = tokenized_texts_bert_copy[i][id:]\n",
        "#             tokenized_texts_bert_copy[i][0] = '[CLS]'\n",
        "#             if len(tokenized_texts_bert_copy[i]) <= MAX_LEN:\n",
        "#                 break\n",
        "# tok = []\n",
        "# for i in range(len(tokenized_texts_bert_copy)):\n",
        "#     if len(tokenized_texts_bert_copy[i]) > MAX_LEN:\n",
        "#         tok.append(len(tokenized_texts_bert_copy[i]))\n",
        "# # print(max(tok))\n",
        "# print(len(tok))\n",
        "# print(len(tokenized_texts_bert_copy))\n",
        "# # print(len(overlen[0]))\n",
        "# # print(len(overlen))\n",
        "# # print(overlen[0])"
      ],
      "execution_count": 84,
      "outputs": []
    },
    {
      "cell_type": "code",
      "metadata": {
        "id": "KsYndgapn8z8"
      },
      "source": [
        "# # overlen = []\n",
        "# tokenized_texts_space_copy = tokenized_texts_space.copy()\n",
        "# for i in range(len(tokenized_texts_space_copy)):\n",
        "#     if len(tokenized_texts_space_copy[i]) > MAX_LEN:\n",
        "#         # overlen.append(tokenized_texts_space_copy[i])\n",
        "#         while 1:\n",
        "#             id = tokenized_texts_space_copy[i].index('[SEP]')\n",
        "#             tokenized_texts_space_copy[i] = tokenized_texts_space_copy[i][id:]\n",
        "#             tokenized_texts_space_copy[i][0] = '[CLS]'\n",
        "#             if len(tokenized_texts_space_copy[i]) <= MAX_LEN:\n",
        "#                 break\n",
        "# tok = []\n",
        "# for i in range(len(tokenized_texts_space_copy)):\n",
        "#     if len(tokenized_texts_space_copy[i]) > MAX_LEN:\n",
        "#         tok.append(len(tokenized_texts_space_copy[i]))\n",
        "# # print(max(tok))\n",
        "# print(len(tok))\n",
        "# print(len(tokenized_texts_space_copy))\n",
        "# # print(len(overlen[0]))\n",
        "# # print(len(overlen))\n",
        "# # print(overlen[0])"
      ],
      "execution_count": 85,
      "outputs": []
    },
    {
      "cell_type": "code",
      "metadata": {
        "id": "Dcbw8ZWeok0v"
      },
      "source": [
        "# token_data_bert['Detail'] = tokenized_texts_bert_copy\n",
        "# token_data_space['Detail'] = tokenized_texts_space_copy"
      ],
      "execution_count": 86,
      "outputs": []
    },
    {
      "cell_type": "code",
      "metadata": {
        "id": "n_3OI-Fb__YX"
      },
      "source": [
        "# # df_add.reset_index(inplace=True)\n",
        "# # df_add.pop('index')\n",
        "\n",
        "# num = 0\n",
        "# for i in range(len(token_data_bert['Detail'])):\n",
        "#     num += len(token_data_bert['Detail'][i])\n",
        "# print(num / (len(token_data_bert)))\n",
        "\n",
        "# a, b = 0, 0\n",
        "# for i in range(len(token_data_bert['Detail'])):\n",
        "#     a = len(token_data_bert['Detail'][i])\n",
        "#     if a > b:\n",
        "#         b = a\n",
        "# print(b)"
      ],
      "execution_count": 87,
      "outputs": []
    },
    {
      "cell_type": "code",
      "metadata": {
        "id": "dhf8E0l0okxz"
      },
      "source": [
        "# 1token_data_bert['Detail'] = token_data_bert['Detail'].apply(lambda x: ','.join(map(str, x)))\n",
        "# token_data_space['Detail'] = token_data_space['Detail'].apply(lambda x: ','.join(map(str, x)))"
      ],
      "execution_count": 88,
      "outputs": []
    },
    {
      "cell_type": "code",
      "metadata": {
        "id": "GIHQbmKttSRE"
      },
      "source": [
        "# idx = token_data_bert[token_data_bert['Detail'] == '[CLS],[SEP]'].index\n",
        "# token_data_bert.drop(idx, inplace=True)\n",
        "# idx = token_data_space[token_data_space['Detail'] == '[CLS],,[SEP]'].index\n",
        "# token_data_space.drop(idx, inplace=True)"
      ],
      "execution_count": 89,
      "outputs": []
    },
    {
      "cell_type": "code",
      "metadata": {
        "id": "66JoW1RZwiNb"
      },
      "source": [
        "# token_data_bert.reset_index(inplace=True)\n",
        "# token_data_bert.pop('index')\n",
        "# token_data_space.reset_index(inplace=True)\n",
        "# token_data_space.pop('index')"
      ],
      "execution_count": 90,
      "outputs": []
    },
    {
      "cell_type": "code",
      "metadata": {
        "id": "vgreno7LpDR_"
      },
      "source": [
        "# token_data_bert"
      ],
      "execution_count": 91,
      "outputs": []
    },
    {
      "cell_type": "code",
      "metadata": {
        "id": "g3AuMV0O-2Sv"
      },
      "source": [
        "# len(token_data_bert['Detail'][11573])"
      ],
      "execution_count": 92,
      "outputs": []
    },
    {
      "cell_type": "code",
      "metadata": {
        "id": "hv_1Bl-zpDJ0"
      },
      "source": [
        "# token_data_space"
      ],
      "execution_count": 93,
      "outputs": []
    },
    {
      "cell_type": "markdown",
      "metadata": {
        "id": "QYFMx4gzpKHK"
      },
      "source": [
        "저장"
      ]
    },
    {
      "cell_type": "code",
      "metadata": {
        "id": "nGIsOYUXpK7d"
      },
      "source": [
        "# data_bert.to_csv(\"/content/drive/MyDrive/train_bert.csv\", mode='w')\n",
        "# data_space.to_csv(\"/content/drive/MyDrive/train_space.csv\", mode='w')"
      ],
      "execution_count": 94,
      "outputs": []
    },
    {
      "cell_type": "code",
      "metadata": {
        "id": "xHwn3DITwzbd"
      },
      "source": [
        ""
      ],
      "execution_count": 94,
      "outputs": []
    }
  ]
}